{
 "cells": [
  {
   "cell_type": "code",
   "execution_count": 318,
   "metadata": {},
   "outputs": [
    {
     "data": {
      "text/plain": [
       "sys.version_info(major=2, minor=7, micro=17, releaselevel='final', serial=0)"
      ]
     },
     "execution_count": 318,
     "metadata": {},
     "output_type": "execute_result"
    }
   ],
   "source": [
    "import sys; sys.version_info"
   ]
  },
  {
   "cell_type": "code",
   "execution_count": 40,
   "metadata": {},
   "outputs": [],
   "source": [
    "import pandas as pd\n",
    "import os\n",
    "from collections import Counter"
   ]
  },
  {
   "cell_type": "code",
   "execution_count": 38,
   "metadata": {},
   "outputs": [],
   "source": [
    "DATASET_DIR = os.environ.get('DATASET_DIR_COVID_UC')"
   ]
  },
  {
   "cell_type": "markdown",
   "metadata": {
    "heading_collapsed": true
   },
   "source": [
    "### Load given dataframe"
   ]
  },
  {
   "cell_type": "code",
   "execution_count": 540,
   "metadata": {
    "hidden": true
   },
   "outputs": [],
   "source": [
    "LABEL_COL = 'Resultado consenso BSTI'"
   ]
  },
  {
   "cell_type": "code",
   "execution_count": 172,
   "metadata": {
    "hidden": true
   },
   "outputs": [
    {
     "data": {
      "text/html": [
       "<div>\n",
       "<style scoped>\n",
       "    .dataframe tbody tr th:only-of-type {\n",
       "        vertical-align: middle;\n",
       "    }\n",
       "\n",
       "    .dataframe tbody tr th {\n",
       "        vertical-align: top;\n",
       "    }\n",
       "\n",
       "    .dataframe thead th {\n",
       "        text-align: right;\n",
       "    }\n",
       "</style>\n",
       "<table border=\"1\" class=\"dataframe\">\n",
       "  <thead>\n",
       "    <tr style=\"text-align: right;\">\n",
       "      <th></th>\n",
       "      <th>ID</th>\n",
       "      <th>Fecha consulta SU</th>\n",
       "      <th>SU</th>\n",
       "      <th>Edad</th>\n",
       "      <th>Sexo</th>\n",
       "      <th>Comuna</th>\n",
       "      <th>MC</th>\n",
       "      <th>Nº Antecedentes Morbidos</th>\n",
       "      <th>DM II</th>\n",
       "      <th>HTA</th>\n",
       "      <th>...</th>\n",
       "      <th>Unnamed: 59</th>\n",
       "      <th>Hb</th>\n",
       "      <th>Hcrto</th>\n",
       "      <th>Leucocitos</th>\n",
       "      <th>Plaquetas</th>\n",
       "      <th>Creatinina</th>\n",
       "      <th>PCR</th>\n",
       "      <th>Dimero D</th>\n",
       "      <th>LDH</th>\n",
       "      <th>Tiempo protrombina (INR)</th>\n",
       "    </tr>\n",
       "  </thead>\n",
       "  <tbody>\n",
       "    <tr>\n",
       "      <th>0</th>\n",
       "      <td>1</td>\n",
       "      <td>2020-03-04</td>\n",
       "      <td>Marcoleta</td>\n",
       "      <td>71</td>\n",
       "      <td>1</td>\n",
       "      <td>1</td>\n",
       "      <td>Sintomas respiratorios altos</td>\n",
       "      <td>2.0</td>\n",
       "      <td>0.0</td>\n",
       "      <td>0.0</td>\n",
       "      <td>...</td>\n",
       "      <td>NaN</td>\n",
       "      <td>NaN</td>\n",
       "      <td>NaN</td>\n",
       "      <td>NaN</td>\n",
       "      <td>NaN</td>\n",
       "      <td>NaN</td>\n",
       "      <td>NaN</td>\n",
       "      <td>NaN</td>\n",
       "      <td>NaN</td>\n",
       "      <td>NaN</td>\n",
       "    </tr>\n",
       "    <tr>\n",
       "      <th>1</th>\n",
       "      <td>2</td>\n",
       "      <td>2020-04-03</td>\n",
       "      <td>Marcoleta</td>\n",
       "      <td>35</td>\n",
       "      <td>0</td>\n",
       "      <td>1</td>\n",
       "      <td>Fiebre</td>\n",
       "      <td>0.0</td>\n",
       "      <td>0.0</td>\n",
       "      <td>0.0</td>\n",
       "      <td>...</td>\n",
       "      <td>NaN</td>\n",
       "      <td>15,8</td>\n",
       "      <td>45,8</td>\n",
       "      <td>6,8</td>\n",
       "      <td>199</td>\n",
       "      <td>0,85</td>\n",
       "      <td>0,56</td>\n",
       "      <td>328</td>\n",
       "      <td>206</td>\n",
       "      <td>NaN</td>\n",
       "    </tr>\n",
       "    <tr>\n",
       "      <th>2</th>\n",
       "      <td>3</td>\n",
       "      <td>2020-04-13</td>\n",
       "      <td>Marcoleta</td>\n",
       "      <td>74</td>\n",
       "      <td>0</td>\n",
       "      <td>1</td>\n",
       "      <td>Disnea</td>\n",
       "      <td>6.0</td>\n",
       "      <td>0.0</td>\n",
       "      <td>1.0</td>\n",
       "      <td>...</td>\n",
       "      <td>NaN</td>\n",
       "      <td>13,3</td>\n",
       "      <td>41,2</td>\n",
       "      <td>17</td>\n",
       "      <td>301</td>\n",
       "      <td>0,79</td>\n",
       "      <td>14,01</td>\n",
       "      <td>1655</td>\n",
       "      <td>667</td>\n",
       "      <td>NaN</td>\n",
       "    </tr>\n",
       "    <tr>\n",
       "      <th>3</th>\n",
       "      <td>4</td>\n",
       "      <td>2020-04-16</td>\n",
       "      <td>Marcoleta</td>\n",
       "      <td>49</td>\n",
       "      <td>1</td>\n",
       "      <td>1</td>\n",
       "      <td>COVID (+) exacerbacion</td>\n",
       "      <td>0.0</td>\n",
       "      <td>0.0</td>\n",
       "      <td>0.0</td>\n",
       "      <td>...</td>\n",
       "      <td>NaN</td>\n",
       "      <td>12,7</td>\n",
       "      <td>37,5</td>\n",
       "      <td>5,6</td>\n",
       "      <td>385</td>\n",
       "      <td>0,47</td>\n",
       "      <td>18,73</td>\n",
       "      <td>1285,2</td>\n",
       "      <td>436</td>\n",
       "      <td>1,2</td>\n",
       "    </tr>\n",
       "    <tr>\n",
       "      <th>4</th>\n",
       "      <td>5</td>\n",
       "      <td>2020-03-26</td>\n",
       "      <td>San Carlos</td>\n",
       "      <td>79</td>\n",
       "      <td>1</td>\n",
       "      <td>1</td>\n",
       "      <td>Disnea</td>\n",
       "      <td>3.0</td>\n",
       "      <td>0.0</td>\n",
       "      <td>1.0</td>\n",
       "      <td>...</td>\n",
       "      <td>NaN</td>\n",
       "      <td>12,4</td>\n",
       "      <td>38</td>\n",
       "      <td>8,6</td>\n",
       "      <td>305</td>\n",
       "      <td>0,89</td>\n",
       "      <td>17,93</td>\n",
       "      <td>NaN</td>\n",
       "      <td>320</td>\n",
       "      <td>NaN</td>\n",
       "    </tr>\n",
       "  </tbody>\n",
       "</table>\n",
       "<p>5 rows × 69 columns</p>\n",
       "</div>"
      ],
      "text/plain": [
       "  ID Fecha consulta SU          SU Edad Sexo  Comuna  \\\n",
       "0  1        2020-03-04   Marcoleta   71    1       1   \n",
       "1  2        2020-04-03   Marcoleta   35    0       1   \n",
       "2  3        2020-04-13   Marcoleta   74    0       1   \n",
       "3  4        2020-04-16   Marcoleta   49    1       1   \n",
       "4  5        2020-03-26  San Carlos   79    1       1   \n",
       "\n",
       "                             MC  Nº Antecedentes Morbidos  DM II  HTA  ...  \\\n",
       "0  Sintomas respiratorios altos                       2.0    0.0  0.0  ...   \n",
       "1                        Fiebre                       0.0    0.0  0.0  ...   \n",
       "2                        Disnea                       6.0    0.0  1.0  ...   \n",
       "3       COVID (+) exacerbacion                        0.0    0.0  0.0  ...   \n",
       "4                        Disnea                       3.0    0.0  1.0  ...   \n",
       "\n",
       "   Unnamed: 59    Hb  Hcrto  Leucocitos  Plaquetas  Creatinina    PCR  \\\n",
       "0          NaN   NaN    NaN         NaN        NaN         NaN    NaN   \n",
       "1          NaN  15,8   45,8         6,8        199        0,85   0,56   \n",
       "2          NaN  13,3   41,2          17        301        0,79  14,01   \n",
       "3          NaN  12,7   37,5         5,6        385        0,47  18,73   \n",
       "4          NaN  12,4     38         8,6        305        0,89  17,93   \n",
       "\n",
       "  Dimero D  LDH  Tiempo protrombina (INR)  \n",
       "0      NaN  NaN                       NaN  \n",
       "1      328  206                       NaN  \n",
       "2     1655  667                       NaN  \n",
       "3   1285,2  436                       1,2  \n",
       "4      NaN  320                       NaN  \n",
       "\n",
       "[5 rows x 69 columns]"
      ]
     },
     "execution_count": 172,
     "metadata": {},
     "output_type": "execute_result"
    }
   ],
   "source": [
    "fpath = os.path.join(DATASET_DIR, 'anonymus_match.xlsx')\n",
    "main_df = pd.read_excel(fpath)\n",
    "main_df.head()"
   ]
  },
  {
   "cell_type": "code",
   "execution_count": 173,
   "metadata": {
    "hidden": true
   },
   "outputs": [],
   "source": [
    "main_df.dropna(how='all', axis=1, inplace=True)"
   ]
  },
  {
   "cell_type": "code",
   "execution_count": 12,
   "metadata": {
    "hidden": true
   },
   "outputs": [
    {
     "data": {
      "text/plain": [
       "['Unnamed: 51']"
      ]
     },
     "execution_count": 12,
     "metadata": {},
     "output_type": "execute_result"
    }
   ],
   "source": [
    "unnamed_cols = [c for c in main_df.columns if 'unnamed' in c.lower()]\n",
    "unnamed_cols"
   ]
  },
  {
   "cell_type": "code",
   "execution_count": 23,
   "metadata": {
    "hidden": true
   },
   "outputs": [
    {
     "data": {
      "text/plain": [
       "Counter({'Non-COVID': 10,\n",
       "         'Indeterminado': 15,\n",
       "         'Non COVID': 62,\n",
       "         'indeterminado': 2,\n",
       "         'Sugerente COVID': 26,\n",
       "         'Indetrminado': 1,\n",
       "         'normal': 144,\n",
       "         'NON COVID': 1,\n",
       "         'Normal': 378,\n",
       "         'Probable COVID': 1})"
      ]
     },
     "execution_count": 23,
     "metadata": {},
     "output_type": "execute_result"
    }
   ],
   "source": [
    "Counter(main_df['Clasificación BSTI'])"
   ]
  },
  {
   "cell_type": "code",
   "execution_count": 24,
   "metadata": {
    "hidden": true
   },
   "outputs": [
    {
     "data": {
      "text/plain": [
       "Counter({'Indeterminado': 14,\n",
       "         'Non-COVID': 75,\n",
       "         'Normal': 525,\n",
       "         'Sugerente COVID': 26})"
      ]
     },
     "execution_count": 24,
     "metadata": {},
     "output_type": "execute_result"
    }
   ],
   "source": [
    "Counter(main_df['Resultado consenso BSTI'])"
   ]
  },
  {
   "cell_type": "code",
   "execution_count": 42,
   "metadata": {
    "collapsed": true,
    "hidden": true
   },
   "outputs": [
    {
     "data": {
      "text/plain": [
       "0        NaN\n",
       "1       0,56\n",
       "2      14,01\n",
       "3      18,73\n",
       "4      17,93\n",
       "5      36,53\n",
       "6       17,5\n",
       "7       0,91\n",
       "8       3,71\n",
       "9       8,48\n",
       "10     22,04\n",
       "11      3,86\n",
       "12       NaN\n",
       "13     22,08\n",
       "14     12,51\n",
       "15       1,6\n",
       "16      2,81\n",
       "17      2,02\n",
       "18      8,13\n",
       "19     21,26\n",
       "20      2,82\n",
       "21     28,28\n",
       "22      6,44\n",
       "23       NaN\n",
       "24      9,28\n",
       "25       NaN\n",
       "26      0,61\n",
       "27     26,02\n",
       "28       NaN\n",
       "29      0,97\n",
       "       ...  \n",
       "610      NaN\n",
       "611      NaN\n",
       "612      NaN\n",
       "613      NaN\n",
       "614      NaN\n",
       "615      NaN\n",
       "616      NaN\n",
       "617      NaN\n",
       "618      NaN\n",
       "619      NaN\n",
       "620      NaN\n",
       "621      NaN\n",
       "622      NaN\n",
       "623      NaN\n",
       "624      NaN\n",
       "625      NaN\n",
       "626      NaN\n",
       "627      NaN\n",
       "628      NaN\n",
       "629      NaN\n",
       "630      NaN\n",
       "631      NaN\n",
       "632      NaN\n",
       "633      NaN\n",
       "634      NaN\n",
       "635      NaN\n",
       "636      NaN\n",
       "637      NaN\n",
       "638      NaN\n",
       "639      NaN\n",
       "Name: PCR, Length: 640, dtype: object"
      ]
     },
     "execution_count": 42,
     "metadata": {},
     "output_type": "execute_result"
    }
   ],
   "source": [
    "main_df['PCR']"
   ]
  },
  {
   "cell_type": "code",
   "execution_count": null,
   "metadata": {
    "hidden": true
   },
   "outputs": [],
   "source": []
  },
  {
   "cell_type": "markdown",
   "metadata": {
    "heading_collapsed": true,
    "hidden": true
   },
   "source": [
    "#### Check patients with _"
   ]
  },
  {
   "cell_type": "code",
   "execution_count": 208,
   "metadata": {
    "collapsed": true,
    "hidden": true
   },
   "outputs": [
    {
     "data": {
      "text/plain": [
       "[u'24',\n",
       " u'214',\n",
       " u'505',\n",
       " u'141',\n",
       " u'185',\n",
       " u'37',\n",
       " u'449',\n",
       " u'133',\n",
       " u'246',\n",
       " u'498',\n",
       " u'135',\n",
       " u'178',\n",
       " u'90',\n",
       " u'294',\n",
       " u'365']"
      ]
     },
     "execution_count": 208,
     "metadata": {},
     "output_type": "execute_result"
    }
   ],
   "source": [
    "patients_double = [v for v in main_df['ID'] if '_' in str(v)]\n",
    "patients_double = list(set(v.split('_')[0] for v in patients_double))\n",
    "patients_double"
   ]
  },
  {
   "cell_type": "code",
   "execution_count": 216,
   "metadata": {
    "hidden": true
   },
   "outputs": [
    {
     "name": "stdout",
     "output_type": "stream",
     "text": [
      "(u'185', 'Sexo', set([0, u'M']), [u'185', u'185_2'])\n",
      "(u'37', 'Sexo', set([0, u'M']), [u'37_2', 37])\n"
     ]
    }
   ],
   "source": [
    "target_cols = ['Edad', 'Sexo']\n",
    "\n",
    "for patient_id in patients_double:\n",
    "    patients = [v for v in main_df['ID'] if str(v).split('_')[0] == str(patient_id)]\n",
    "    sub_df = labels_df.loc[main_df['ID'].isin(patients)]\n",
    "    \n",
    "    for col in target_cols:\n",
    "        values = set(sub_df[col])\n",
    "        if len(values) != 1:\n",
    "            print(patient_id, col, values, patients)"
   ]
  },
  {
   "cell_type": "code",
   "execution_count": 218,
   "metadata": {
    "hidden": true,
    "scrolled": true
   },
   "outputs": [
    {
     "data": {
      "text/html": [
       "<div>\n",
       "<style scoped>\n",
       "    .dataframe tbody tr th:only-of-type {\n",
       "        vertical-align: middle;\n",
       "    }\n",
       "\n",
       "    .dataframe tbody tr th {\n",
       "        vertical-align: top;\n",
       "    }\n",
       "\n",
       "    .dataframe thead th {\n",
       "        text-align: right;\n",
       "    }\n",
       "</style>\n",
       "<table border=\"1\" class=\"dataframe\">\n",
       "  <thead>\n",
       "    <tr style=\"text-align: right;\">\n",
       "      <th></th>\n",
       "      <th>ID</th>\n",
       "      <th>Fecha consulta SU</th>\n",
       "      <th>SU</th>\n",
       "      <th>Edad</th>\n",
       "      <th>Sexo</th>\n",
       "      <th>Comuna</th>\n",
       "      <th>MC</th>\n",
       "      <th>Nº Antecedentes Morbidos</th>\n",
       "      <th>DM II</th>\n",
       "      <th>HTA</th>\n",
       "      <th>...</th>\n",
       "      <th>Tiempo examen (h)</th>\n",
       "      <th>Hb</th>\n",
       "      <th>Hcrto</th>\n",
       "      <th>Leucocitos</th>\n",
       "      <th>Plaquetas</th>\n",
       "      <th>Creatinina</th>\n",
       "      <th>PCR</th>\n",
       "      <th>Dimero D</th>\n",
       "      <th>LDH</th>\n",
       "      <th>Tiempo protrombina (INR)</th>\n",
       "    </tr>\n",
       "  </thead>\n",
       "  <tbody>\n",
       "    <tr>\n",
       "      <th>184</th>\n",
       "      <td>185</td>\n",
       "      <td>2020-03-26</td>\n",
       "      <td>Marcoleta</td>\n",
       "      <td>74</td>\n",
       "      <td>0</td>\n",
       "      <td>1</td>\n",
       "      <td>Sintomas respiratorios altos</td>\n",
       "      <td>1.0</td>\n",
       "      <td>0.0</td>\n",
       "      <td>0.0</td>\n",
       "      <td>...</td>\n",
       "      <td>0</td>\n",
       "      <td>13,7</td>\n",
       "      <td>40,7</td>\n",
       "      <td>7,7</td>\n",
       "      <td>200</td>\n",
       "      <td>1,22</td>\n",
       "      <td>22,13</td>\n",
       "      <td>NaN</td>\n",
       "      <td>NaN</td>\n",
       "      <td>NaN</td>\n",
       "    </tr>\n",
       "    <tr>\n",
       "      <th>524</th>\n",
       "      <td>185_2</td>\n",
       "      <td>2020-03-11</td>\n",
       "      <td>Marcoleta</td>\n",
       "      <td>74</td>\n",
       "      <td>M</td>\n",
       "      <td>0</td>\n",
       "      <td>Hospitalizado por hemorragia cerebral</td>\n",
       "      <td>NaN</td>\n",
       "      <td>NaN</td>\n",
       "      <td>NaN</td>\n",
       "      <td>...</td>\n",
       "      <td>NaN</td>\n",
       "      <td>NaN</td>\n",
       "      <td>NaN</td>\n",
       "      <td>NaN</td>\n",
       "      <td>NaN</td>\n",
       "      <td>NaN</td>\n",
       "      <td>NaN</td>\n",
       "      <td>NaN</td>\n",
       "      <td>NaN</td>\n",
       "      <td>NaN</td>\n",
       "    </tr>\n",
       "  </tbody>\n",
       "</table>\n",
       "<p>2 rows × 67 columns</p>\n",
       "</div>"
      ],
      "text/plain": [
       "        ID Fecha consulta SU         SU Edad Sexo  Comuna  \\\n",
       "184    185        2020-03-26  Marcoleta   74    0       1   \n",
       "524  185_2        2020-03-11  Marcoleta   74    M       0   \n",
       "\n",
       "                                        MC  Nº Antecedentes Morbidos  DM II  \\\n",
       "184           Sintomas respiratorios altos                       1.0    0.0   \n",
       "524  Hospitalizado por hemorragia cerebral                       NaN    NaN   \n",
       "\n",
       "     HTA  ...  Tiempo examen (h)    Hb  Hcrto  Leucocitos  Plaquetas  \\\n",
       "184  0.0  ...                  0  13,7   40,7         7,7        200   \n",
       "524  NaN  ...                NaN   NaN    NaN         NaN        NaN   \n",
       "\n",
       "     Creatinina    PCR Dimero D  LDH  Tiempo protrombina (INR)  \n",
       "184        1,22  22,13      NaN  NaN                       NaN  \n",
       "524         NaN    NaN      NaN  NaN                       NaN  \n",
       "\n",
       "[2 rows x 67 columns]"
      ]
     },
     "execution_count": 218,
     "metadata": {},
     "output_type": "execute_result"
    }
   ],
   "source": [
    "main_df.loc[main_df['ID'].isin(['185', '185_2', '185_3'])]"
   ]
  },
  {
   "cell_type": "code",
   "execution_count": null,
   "metadata": {
    "hidden": true
   },
   "outputs": [],
   "source": []
  },
  {
   "cell_type": "markdown",
   "metadata": {
    "heading_collapsed": true,
    "hidden": true
   },
   "source": [
    "#### Check indeterminados"
   ]
  },
  {
   "cell_type": "code",
   "execution_count": 34,
   "metadata": {
    "hidden": true
   },
   "outputs": [
    {
     "data": {
      "text/html": [
       "<div>\n",
       "<style scoped>\n",
       "    .dataframe tbody tr th:only-of-type {\n",
       "        vertical-align: middle;\n",
       "    }\n",
       "\n",
       "    .dataframe tbody tr th {\n",
       "        vertical-align: top;\n",
       "    }\n",
       "\n",
       "    .dataframe thead th {\n",
       "        text-align: right;\n",
       "    }\n",
       "</style>\n",
       "<table border=\"1\" class=\"dataframe\">\n",
       "  <thead>\n",
       "    <tr style=\"text-align: right;\">\n",
       "      <th></th>\n",
       "      <th>Clasificación BSTI</th>\n",
       "      <th>Clasificación BSTI.1</th>\n",
       "    </tr>\n",
       "  </thead>\n",
       "  <tbody>\n",
       "    <tr>\n",
       "      <th>0</th>\n",
       "      <td>Non-COVID</td>\n",
       "      <td>Indeterminado</td>\n",
       "    </tr>\n",
       "    <tr>\n",
       "      <th>1</th>\n",
       "      <td>Indeterminado</td>\n",
       "      <td>non-COVID</td>\n",
       "    </tr>\n",
       "    <tr>\n",
       "      <th>2</th>\n",
       "      <td>Indeterminado</td>\n",
       "      <td>Indeterminado</td>\n",
       "    </tr>\n",
       "    <tr>\n",
       "      <th>3</th>\n",
       "      <td>Indeterminado</td>\n",
       "      <td>Indeterminado</td>\n",
       "    </tr>\n",
       "    <tr>\n",
       "      <th>4</th>\n",
       "      <td>Indeterminado</td>\n",
       "      <td>indeterminado</td>\n",
       "    </tr>\n",
       "    <tr>\n",
       "      <th>5</th>\n",
       "      <td>Non COVID</td>\n",
       "      <td>indeterminado</td>\n",
       "    </tr>\n",
       "    <tr>\n",
       "      <th>6</th>\n",
       "      <td>Indeterminado</td>\n",
       "      <td>normal</td>\n",
       "    </tr>\n",
       "    <tr>\n",
       "      <th>7</th>\n",
       "      <td>Indeterminado</td>\n",
       "      <td>non-COVID</td>\n",
       "    </tr>\n",
       "    <tr>\n",
       "      <th>8</th>\n",
       "      <td>Indeterminado</td>\n",
       "      <td>non-COVID</td>\n",
       "    </tr>\n",
       "    <tr>\n",
       "      <th>9</th>\n",
       "      <td>Indeterminado</td>\n",
       "      <td>non-COVID</td>\n",
       "    </tr>\n",
       "    <tr>\n",
       "      <th>10</th>\n",
       "      <td>indeterminado</td>\n",
       "      <td>Probable</td>\n",
       "    </tr>\n",
       "    <tr>\n",
       "      <th>11</th>\n",
       "      <td>indeterminado</td>\n",
       "      <td>Normal</td>\n",
       "    </tr>\n",
       "    <tr>\n",
       "      <th>12</th>\n",
       "      <td>Sugerente COVID</td>\n",
       "      <td>Non-covid versus normal</td>\n",
       "    </tr>\n",
       "    <tr>\n",
       "      <th>13</th>\n",
       "      <td>Indetrminado</td>\n",
       "      <td>Normal</td>\n",
       "    </tr>\n",
       "  </tbody>\n",
       "</table>\n",
       "</div>"
      ],
      "text/plain": [
       "   Clasificación BSTI     Clasificación BSTI.1\n",
       "0           Non-COVID            Indeterminado\n",
       "1       Indeterminado                non-COVID\n",
       "2       Indeterminado            Indeterminado\n",
       "3       Indeterminado            Indeterminado\n",
       "4       Indeterminado            indeterminado\n",
       "5           Non COVID            indeterminado\n",
       "6       Indeterminado                   normal\n",
       "7       Indeterminado                non-COVID\n",
       "8       Indeterminado                non-COVID\n",
       "9       Indeterminado                non-COVID\n",
       "10      indeterminado                 Probable\n",
       "11      indeterminado                   Normal\n",
       "12    Sugerente COVID  Non-covid versus normal\n",
       "13       Indetrminado                   Normal"
      ]
     },
     "execution_count": 34,
     "metadata": {},
     "output_type": "execute_result"
    }
   ],
   "source": [
    "cols = ['Clasificación BSTI', 'Clasificación BSTI.1']\n",
    "main_df.loc[main_df['Resultado consenso BSTI'] == 'Indeterminado'][cols]"
   ]
  },
  {
   "cell_type": "code",
   "execution_count": null,
   "metadata": {
    "hidden": true
   },
   "outputs": [],
   "source": []
  },
  {
   "cell_type": "markdown",
   "metadata": {},
   "source": [
    "### Read images"
   ]
  },
  {
   "cell_type": "code",
   "execution_count": 54,
   "metadata": {},
   "outputs": [],
   "source": [
    "from collections import defaultdict"
   ]
  },
  {
   "cell_type": "code",
   "execution_count": 116,
   "metadata": {},
   "outputs": [],
   "source": [
    "import pydicom\n",
    "import matplotlib.pyplot as plt\n",
    "from PIL import Image\n",
    "import numpy as np"
   ]
  },
  {
   "cell_type": "code",
   "execution_count": null,
   "metadata": {},
   "outputs": [],
   "source": [
    "%run ../../utils/common.py"
   ]
  },
  {
   "cell_type": "code",
   "execution_count": null,
   "metadata": {},
   "outputs": [],
   "source": [
    "DATA_DIR = os.environ.get('DATASET_DIR_COVID_UC_RAW_DATA')\n",
    "DATA_DIR_ANON_3 = os.path.join(DATA_DIR, 'anon_3')\n",
    "DATA_DIR_TEST_ANON = os.path.join(DATA_DIR, 'test_anon')"
   ]
  },
  {
   "cell_type": "markdown",
   "metadata": {
    "heading_collapsed": true
   },
   "source": [
    "#### Inspect one sample"
   ]
  },
  {
   "cell_type": "code",
   "execution_count": 436,
   "metadata": {
    "hidden": true
   },
   "outputs": [],
   "source": [
    "# fpath = os.path.join(DATA_DIR, '95', 'Torax Pa-L', 'Tórax - 1', 'IM-0001-0002-0001.dcm')\n",
    "# fpath = DATA_DIR_ANON_3 + '/376/Rx Torax Ap-L/unnamed - 100/IM-0001-0001-0001.dcm'\n",
    "# fpath = DATA_DIR_TEST_ANON + '/10/Rx Torax Ap Portatil/AP horizontal - 1/IM-0001-0001-0001.dcm'\n",
    "# fpath = DATA_DIR_TEST_ANON + '/3/Examen Previo No Uc/MIP Axial Pulmon - 1004/IM-0001-0045-0001.dcm'\n",
    "fpath = DATA_DIR_TEST_ANON + '/395/Rx Torax Ap-L/unnamed - 100/IM-0001-0001-0001.dcm'\n",
    "ds = pydicom.dcmread(fpath)"
   ]
  },
  {
   "cell_type": "code",
   "execution_count": 433,
   "metadata": {
    "hidden": true
   },
   "outputs": [
    {
     "data": {
      "text/plain": [
       "u'RX Torax AP-L'"
      ]
     },
     "execution_count": 433,
     "metadata": {},
     "output_type": "execute_result"
    }
   ],
   "source": [
    "ds.StudyDescription"
   ]
  },
  {
   "cell_type": "code",
   "execution_count": 437,
   "metadata": {
    "hidden": true
   },
   "outputs": [
    {
     "name": "stdout",
     "output_type": "stream",
     "text": [
      "(0008, 0016) SOP Class UID                       UI: Key Object Selection Document Storage\n",
      "(0008, 0018) SOP Instance UID                    UI: 1.3.6.1.4.1.19291.2.1.3.103702394561293120656142575\n",
      "(0008, 0020) Study Date                          DA: '20200330'\n",
      "(0008, 0021) Series Date                         DA: '20200506'\n",
      "(0008, 0023) Content Date                        DA: '20200506'\n",
      "(0008, 0030) Study Time                          TM: '233712.210000'\n",
      "(0008, 0031) Series Time                         TM: '150212'\n",
      "(0008, 0033) Content Time                        TM: '150212'\n",
      "(0008, 0050) Accession Number                    SH: u'05671460'\n",
      "(0008, 0060) Modality                            CS: 'KO'\n",
      "(0008, 0080) Institution Name                    LO: u'Clinica San Carlos de Apoquindo'\n",
      "(0008, 0090) Referring Physician's Name          PN: ''\n",
      "(0008, 1010) Station Name                        SH: u'DiDiDR01'\n",
      "(0008, 1030) Study Description                   LO: u'RX Torax AP-L'\n",
      "(0008, 1040) Institutional Department Name       LO: u'Imagenologia'\n",
      "(0008, 1050) Performing Physician's Name         PN: u'SAN MARTIN CORREA^GONZALO'\n",
      "(0008, 1070) Operators' Name                     PN: u'USER'\n",
      "(0008, 1110)  Referenced Study Sequence   1 item(s) ---- \n",
      "   (0008, 1150) Referenced SOP Class UID            UI: Detached Study Management SOP Class\n",
      "   (0008, 1155) Referenced SOP Instance UID         UI: 1.3.51.0.1.1.146.155.249.152.5671451.5671442\n",
      "   ---------\n",
      "(0008, 1111)  Referenced Performed Procedure Step Sequence   0 item(s) ---- \n",
      "(0008, 1120)  Referenced Patient Sequence   1 item(s) ---- \n",
      "   (0008, 1150) Referenced SOP Class UID            UI: Detached Patient Management SOP Class\n",
      "   (0008, 1155) Referenced SOP Instance UID         UI: 1.2.124.113532.80.22207.36971.20200330.231732.441992108\n",
      "   ---------\n",
      "(0010, 0030) Patient's Birth Date                DA: '19880229'\n",
      "(0010, 0040) Patient's Sex                       CS: 'M'\n",
      "(0010, 1010) Patient's Age                       AS: '032Y'\n",
      "(0010, 1081) Branch of Service                   LO: u'AURG SCA'\n",
      "(0020, 000d) Study Instance UID                  UI: 1.3.6.1.4.1.19291.2.1.1.103702394561293120572142570\n",
      "(0020, 000e) Series Instance UID                 UI: 1.3.6.1.4.1.19291.2.1.2.103702394561293120656142574\n",
      "(0020, 0010) Study ID                            SH: u'05671460'\n",
      "(0020, 0011) Series Number                       IS: \"100\"\n",
      "(0020, 0013) Instance Number                     IS: \"1\"\n",
      "(0032, 000a) Study Status ID                     CS: 'READ'\n",
      "(0032, 000c) Study Priority ID                   CS: 'HIGH'\n",
      "(0032, 1032) Requesting Physician                PN: u'VARGAS URZUA^FERNANDO^^'\n",
      "(0032, 1033) Requesting Service                  LO: u'UNKNOWN'\n",
      "(0032, 4000) Study Comments                      LT: u'Rx t??rax PA / L : NEUMON??A, NO ESPECIFICADA//'\n",
      "(0038, 0300) Current Patient Location            LO: u'SCA-Urgencia'\n",
      "(0040, 1001) Requested Procedure ID              SH: u'05671460'\n",
      "(0040, a032) Observation DateTime                DT: '20200506150212'\n",
      "(0040, a040) Value Type                          CS: 'CONTAINER'\n",
      "(0040, a043)  Concept Name Code Sequence   1 item(s) ---- \n",
      "   (0008, 0100) Code Value                          SH: u'113001'\n",
      "   (0008, 0102) Coding Scheme Designator            SH: u'DCM'\n",
      "   (0008, 0104) Code Meaning                        LO: u'Rejected For Quality Reasons'\n",
      "   ---------\n",
      "(0040, a050) Continuity Of Content               CS: 'SEPARATE'\n",
      "(0040, a370)  Referenced Request Sequence   1 item(s) ---- \n",
      "   (0008, 0050) Accession Number                    SH: u'05671460'\n",
      "   (0008, 1110)  Referenced Study Sequence   1 item(s) ---- \n",
      "      (0008, 0016) SOP Class UID                       UI: Detached Study Management SOP Class\n",
      "      (0008, 0018) SOP Instance UID                    UI: 1.3.51.0.1.1.146.155.249.152.5671451.5671442\n",
      "      ---------\n",
      "   (0020, 000d) Study Instance UID                  UI: 1.3.51.0.1.1.146.155.249.152.5671451.5671442\n",
      "   (0032, 1060) Requested Procedure Description     LO: u'RX Torax AP-L'\n",
      "   (0032, 1064)  Requested Procedure Code Sequence   1 item(s) ---- \n",
      "      (0008, 0100) Code Value                          SH: u'RXTXAD02'\n",
      "      (0008, 0102) Coding Scheme Designator            SH: u'QDOC'\n",
      "      (0008, 0104) Code Meaning                        LO: u'RX Torax AP-L'\n",
      "      ---------\n",
      "   (0040, 1001) Requested Procedure ID              SH: u'05671460'\n",
      "   (0040, 2016) Placer Order Number / Imaging Servi SH: u'05671460'\n",
      "   (0040, 2017) Filler Order Number / Imaging Servi SH: u'2003300335'\n",
      "   ---------\n",
      "(0040, a375)  Current Requested Procedure Evidence Sequence   1 item(s) ---- \n",
      "   (0008, 1115)  Referenced Series Sequence   1 item(s) ---- \n",
      "      (0008, 1199)  Referenced SOP Sequence   1 item(s) ---- \n",
      "         (0008, 1150) Referenced SOP Class UID            UI: Digital X-Ray Image Storage - For Presentation\n",
      "         (0008, 1155) Referenced SOP Instance UID         UI: 1.3.46.670589.30.39.0.1.966169727129.1585626177022.2\n",
      "         ---------\n",
      "      (0020, 000e) Series Instance UID                 UI: 1.3.46.670589.30.39.0.1.966169727129.1585626177021.1\n",
      "      ---------\n",
      "   (0020, 000d) Study Instance UID                  UI: 1.3.51.0.1.1.146.155.249.152.5671451.5671442\n",
      "   ---------\n",
      "(0040, a504)  Content Template Sequence   1 item(s) ---- \n",
      "   (0008, 0105) Mapping Resource                    CS: 'DCMR'\n",
      "   (0040, db00) Template Identifier                 CS: '2010'\n",
      "   ---------\n",
      "(0040, a730)  Content Sequence   2 item(s) ---- \n",
      "   (0040, a010) Relationship Type                   CS: 'HAS CONCEPT MOD'\n",
      "   (0040, a040) Value Type                          CS: 'CODE'\n",
      "   (0040, a043)  Concept Name Code Sequence   1 item(s) ---- \n",
      "      (0008, 0100) Code Value                          SH: u'121049'\n",
      "      (0008, 0102) Coding Scheme Designator            SH: u'DCM'\n",
      "      (0008, 0104) Code Meaning                        LO: u'Language of Content Item and Descendents'\n",
      "      ---------\n",
      "   (0040, a168)  Concept Code Sequence   1 item(s) ---- \n",
      "      (0008, 0100) Code Value                          SH: u'en-GB'\n",
      "      (0008, 0102) Coding Scheme Designator            SH: u'RFC3066'\n",
      "      (0008, 0104) Code Meaning                        LO: u'English (United Kingdom)'\n",
      "      ---------\n",
      "   ---------\n",
      "   (0008, 1199)  Referenced SOP Sequence   1 item(s) ---- \n",
      "      (0008, 1150) Referenced SOP Class UID            UI: Digital X-Ray Image Storage - For Presentation\n",
      "      (0008, 1155) Referenced SOP Instance UID         UI: 1.3.46.670589.30.39.0.1.966169727129.1585626177022.2\n",
      "      ---------\n",
      "   (0040, a010) Relationship Type                   CS: 'CONTAINS'\n",
      "   (0040, a040) Value Type                          CS: 'IMAGE'\n",
      "   ---------\n"
     ]
    }
   ],
   "source": [
    "print(ds)"
   ]
  },
  {
   "cell_type": "code",
   "execution_count": 156,
   "metadata": {
    "collapsed": true,
    "hidden": true
   },
   "outputs": [
    {
     "ename": "AttributeError",
     "evalue": "Unable to convert the pixel data: one of Pixel Data, Float Pixel Data or Double Float Pixel Data must be present in the dataset",
     "output_type": "error",
     "traceback": [
      "\u001b[0;31m---------------------------------------------------------------------------\u001b[0m",
      "\u001b[0;31mAttributeError\u001b[0m                            Traceback (most recent call last)",
      "\u001b[0;32m<ipython-input-156-967c46e3e5fc>\u001b[0m in \u001b[0;36m<module>\u001b[0;34m()\u001b[0m\n\u001b[0;32m----> 1\u001b[0;31m \u001b[0mds\u001b[0m\u001b[0;34m.\u001b[0m\u001b[0mpixel_array\u001b[0m\u001b[0;34m\u001b[0m\u001b[0m\n\u001b[0m",
      "\u001b[0;32m/home/pdpino/medical-report-generation/pyenv2.7/local/lib/python2.7/site-packages/pydicom/dataset.pyc\u001b[0m in \u001b[0;36m__getattr__\u001b[0;34m(self, name)\u001b[0m\n\u001b[1;32m    781\u001b[0m             \u001b[0;32mreturn\u001b[0m \u001b[0;34m{\u001b[0m\u001b[0;34m}\u001b[0m\u001b[0;34m\u001b[0m\u001b[0m\n\u001b[1;32m    782\u001b[0m         \u001b[0;31m# Try the base class attribute getter (fix for issue 332)\u001b[0m\u001b[0;34m\u001b[0m\u001b[0;34m\u001b[0m\u001b[0m\n\u001b[0;32m--> 783\u001b[0;31m         \u001b[0;32mreturn\u001b[0m \u001b[0mobject\u001b[0m\u001b[0;34m.\u001b[0m\u001b[0m__getattribute__\u001b[0m\u001b[0;34m(\u001b[0m\u001b[0mself\u001b[0m\u001b[0;34m,\u001b[0m \u001b[0mname\u001b[0m\u001b[0;34m)\u001b[0m\u001b[0;34m\u001b[0m\u001b[0m\n\u001b[0m\u001b[1;32m    784\u001b[0m \u001b[0;34m\u001b[0m\u001b[0m\n\u001b[1;32m    785\u001b[0m     \u001b[0;34m@\u001b[0m\u001b[0mproperty\u001b[0m\u001b[0;34m\u001b[0m\u001b[0m\n",
      "\u001b[0;32m/home/pdpino/medical-report-generation/pyenv2.7/local/lib/python2.7/site-packages/pydicom/dataset.pyc\u001b[0m in \u001b[0;36mpixel_array\u001b[0;34m(self)\u001b[0m\n\u001b[1;32m   1621\u001b[0m             \u001b[0;34m:\u001b[0m\u001b[0;32mclass\u001b[0m\u001b[0;34m:\u001b[0m\u001b[0;34m`\u001b[0m\u001b[0mnumpy\u001b[0m\u001b[0;34m.\u001b[0m\u001b[0mndarray\u001b[0m\u001b[0;34m`\u001b[0m\u001b[0;34m.\u001b[0m\u001b[0;34m\u001b[0m\u001b[0m\n\u001b[1;32m   1622\u001b[0m         \"\"\"\n\u001b[0;32m-> 1623\u001b[0;31m         \u001b[0mself\u001b[0m\u001b[0;34m.\u001b[0m\u001b[0mconvert_pixel_data\u001b[0m\u001b[0;34m(\u001b[0m\u001b[0;34m)\u001b[0m\u001b[0;34m\u001b[0m\u001b[0m\n\u001b[0m\u001b[1;32m   1624\u001b[0m         \u001b[0;32mreturn\u001b[0m \u001b[0mself\u001b[0m\u001b[0;34m.\u001b[0m\u001b[0m_pixel_array\u001b[0m\u001b[0;34m\u001b[0m\u001b[0m\n\u001b[1;32m   1625\u001b[0m \u001b[0;34m\u001b[0m\u001b[0m\n",
      "\u001b[0;32m/home/pdpino/medical-report-generation/pyenv2.7/local/lib/python2.7/site-packages/pydicom/dataset.pyc\u001b[0m in \u001b[0;36mconvert_pixel_data\u001b[0;34m(self, handler_name)\u001b[0m\n\u001b[1;32m   1330\u001b[0m             \u001b[0mself\u001b[0m\u001b[0;34m.\u001b[0m\u001b[0m_convert_pixel_data_using_handler\u001b[0m\u001b[0;34m(\u001b[0m\u001b[0mhandler_name\u001b[0m\u001b[0;34m)\u001b[0m\u001b[0;34m\u001b[0m\u001b[0m\n\u001b[1;32m   1331\u001b[0m         \u001b[0;32melse\u001b[0m\u001b[0;34m:\u001b[0m\u001b[0;34m\u001b[0m\u001b[0m\n\u001b[0;32m-> 1332\u001b[0;31m             \u001b[0mself\u001b[0m\u001b[0;34m.\u001b[0m\u001b[0m_convert_pixel_data_without_handler\u001b[0m\u001b[0;34m(\u001b[0m\u001b[0;34m)\u001b[0m\u001b[0;34m\u001b[0m\u001b[0m\n\u001b[0m\u001b[1;32m   1333\u001b[0m \u001b[0;34m\u001b[0m\u001b[0m\n\u001b[1;32m   1334\u001b[0m     \u001b[0;32mdef\u001b[0m \u001b[0m_convert_pixel_data_using_handler\u001b[0m\u001b[0;34m(\u001b[0m\u001b[0mself\u001b[0m\u001b[0;34m,\u001b[0m \u001b[0mname\u001b[0m\u001b[0;34m)\u001b[0m\u001b[0;34m:\u001b[0m\u001b[0;34m\u001b[0m\u001b[0m\n",
      "\u001b[0;32m/home/pdpino/medical-report-generation/pyenv2.7/local/lib/python2.7/site-packages/pydicom/dataset.pyc\u001b[0m in \u001b[0;36m_convert_pixel_data_without_handler\u001b[0;34m(self)\u001b[0m\n\u001b[1;32m   1440\u001b[0m             \u001b[0;34m.\u001b[0m\u001b[0mformat\u001b[0m\u001b[0;34m(\u001b[0m\u001b[0;34m\", \"\u001b[0m\u001b[0;34m.\u001b[0m\u001b[0mjoin\u001b[0m\u001b[0;34m(\u001b[0m\u001b[0;34m[\u001b[0m\u001b[0mstr\u001b[0m\u001b[0;34m(\u001b[0m\u001b[0mhh\u001b[0m\u001b[0;34m)\u001b[0m \u001b[0;32mfor\u001b[0m \u001b[0mhh\u001b[0m \u001b[0;32min\u001b[0m \u001b[0mavailable_handlers\u001b[0m\u001b[0;34m]\u001b[0m\u001b[0;34m)\u001b[0m\u001b[0;34m)\u001b[0m\u001b[0;34m\u001b[0m\u001b[0m\n\u001b[1;32m   1441\u001b[0m         )\n\u001b[0;32m-> 1442\u001b[0;31m         \u001b[0;32mraise\u001b[0m \u001b[0mlast_exception\u001b[0m\u001b[0;34m\u001b[0m\u001b[0m\n\u001b[0m\u001b[1;32m   1443\u001b[0m \u001b[0;34m\u001b[0m\u001b[0m\n\u001b[1;32m   1444\u001b[0m     \u001b[0;32mdef\u001b[0m \u001b[0m_do_pixel_data_conversion\u001b[0m\u001b[0;34m(\u001b[0m\u001b[0mself\u001b[0m\u001b[0;34m,\u001b[0m \u001b[0mhandler\u001b[0m\u001b[0;34m)\u001b[0m\u001b[0;34m:\u001b[0m\u001b[0;34m\u001b[0m\u001b[0m\n",
      "\u001b[0;31mAttributeError\u001b[0m: Unable to convert the pixel data: one of Pixel Data, Float Pixel Data or Double Float Pixel Data must be present in the dataset"
     ]
    }
   ],
   "source": [
    "ds.pixel_array"
   ]
  },
  {
   "cell_type": "code",
   "execution_count": 195,
   "metadata": {
    "hidden": true
   },
   "outputs": [
    {
     "data": {
      "text/plain": [
       "'20200305'"
      ]
     },
     "execution_count": 195,
     "metadata": {},
     "output_type": "execute_result"
    }
   ],
   "source": [
    "ds.StudyDate"
   ]
  },
  {
   "cell_type": "code",
   "execution_count": null,
   "metadata": {
    "hidden": true
   },
   "outputs": [],
   "source": [
    "image = ds.pixel_array"
   ]
  },
  {
   "cell_type": "code",
   "execution_count": 144,
   "metadata": {
    "hidden": true
   },
   "outputs": [
    {
     "name": "stdout",
     "output_type": "stream",
     "text": [
      "(2592, 2041)\n"
     ]
    },
    {
     "data": {
      "text/plain": [
       "<matplotlib.image.AxesImage at 0x7fc27cc5e350>"
      ]
     },
     "execution_count": 144,
     "metadata": {},
     "output_type": "execute_result"
    },
    {
     "data": {
      "image/png": "[encoded data removed]",
      "text/plain": [
       "<Figure size 432x288 with 1 Axes>"
      ]
     },
     "metadata": {
      "needs_background": "light"
     },
     "output_type": "display_data"
    }
   ],
   "source": [
    "print(image.shape)\n",
    "\n",
    "plt.imshow(arr_to_range(image, 0, 255), cmap='gray')"
   ]
  },
  {
   "cell_type": "code",
   "execution_count": 101,
   "metadata": {
    "hidden": true
   },
   "outputs": [
    {
     "data": {
      "text/plain": [
       "(0, 8191)"
      ]
     },
     "execution_count": 101,
     "metadata": {},
     "output_type": "execute_result"
    }
   ],
   "source": [
    "image.min(), image.max()"
   ]
  },
  {
   "cell_type": "code",
   "execution_count": 148,
   "metadata": {
    "hidden": true
   },
   "outputs": [
    {
     "data": {
      "text/plain": [
       "(0.0, 255.0)"
      ]
     },
     "execution_count": 148,
     "metadata": {},
     "output_type": "execute_result"
    }
   ],
   "source": [
    "scaled_image = arr_to_range(image, 0, 255)\n",
    "scaled_image.min(), scaled_image.max()"
   ]
  },
  {
   "cell_type": "code",
   "execution_count": 146,
   "metadata": {
    "hidden": true
   },
   "outputs": [],
   "source": [
    "fname = 'sample_file.png'\n",
    "\n",
    "arr_to_range(image, 0, 255)\n",
    "pil_image = Image.fromarray(scaled_image).convert('L')\n",
    "pil_image.save(fname)"
   ]
  },
  {
   "cell_type": "code",
   "execution_count": 165,
   "metadata": {
    "hidden": true
   },
   "outputs": [
    {
     "data": {
      "text/plain": [
       "(2041, 2592)"
      ]
     },
     "execution_count": 165,
     "metadata": {},
     "output_type": "execute_result"
    }
   ],
   "source": [
    "loaded_image = Image.open(fname)\n",
    "loaded_image.size"
   ]
  },
  {
   "cell_type": "code",
   "execution_count": 168,
   "metadata": {
    "hidden": true
   },
   "outputs": [
    {
     "data": {
      "text/plain": [
       "<matplotlib.image.AxesImage at 0x7fc27ccd0710>"
      ]
     },
     "execution_count": 168,
     "metadata": {},
     "output_type": "execute_result"
    },
    {
     "data": {
      "image/png": "[encoded data removed]",
      "text/plain": [
       "<Figure size 432x288 with 1 Axes>"
      ]
     },
     "metadata": {
      "needs_background": "light"
     },
     "output_type": "display_data"
    }
   ],
   "source": [
    "plt.imshow(loaded_image, cmap='gray')"
   ]
  },
  {
   "cell_type": "code",
   "execution_count": 117,
   "metadata": {
    "hidden": true
   },
   "outputs": [
    {
     "data": {
      "text/plain": [
       "(0, 8191)"
      ]
     },
     "execution_count": 117,
     "metadata": {},
     "output_type": "execute_result"
    }
   ],
   "source": [
    "np.min(loaded_image), np.max(loaded_image)"
   ]
  },
  {
   "cell_type": "code",
   "execution_count": null,
   "metadata": {
    "hidden": true
   },
   "outputs": [],
   "source": []
  },
  {
   "cell_type": "code",
   "execution_count": null,
   "metadata": {
    "hidden": true
   },
   "outputs": [],
   "source": []
  },
  {
   "cell_type": "markdown",
   "metadata": {},
   "source": [
    "#### Dicom to images"
   ]
  },
  {
   "cell_type": "code",
   "execution_count": 411,
   "metadata": {},
   "outputs": [],
   "source": [
    "%run ../../utils/common.py"
   ]
  },
  {
   "cell_type": "code",
   "execution_count": 69,
   "metadata": {},
   "outputs": [],
   "source": [
    "from tqdm import tqdm # tqdm_notebook as tqdm"
   ]
  },
  {
   "cell_type": "code",
   "execution_count": 296,
   "metadata": {},
   "outputs": [],
   "source": [
    "IMAGES_DIR = os.path.join(DATASET_DIR, 'images')"
   ]
  },
  {
   "cell_type": "code",
   "execution_count": 474,
   "metadata": {},
   "outputs": [],
   "source": [
    "def split_date(date_str):\n",
    "    year = date_str[:4]\n",
    "    month = date_str[4:6]\n",
    "    day = date_str[6:]\n",
    "    return '-'.join(v for v in [year, month, day])\n",
    "split_date('20200308')"
   ]
  },
  {
   "cell_type": "code",
   "execution_count": 541,
   "metadata": {},
   "outputs": [],
   "source": [
    "def iter_dicom_images(data_dir, save_png=False, max_samples=None,\n",
    "                      prev_images={},\n",
    "                     ):\n",
    "    errors = defaultdict(lambda: list())\n",
    "    images_by_patient = defaultdict(lambda: list())\n",
    "    result = []\n",
    "\n",
    "    patients = sorted(os.listdir(data_dir))\n",
    "\n",
    "    if max_samples:\n",
    "        patients = patients[:max_samples]\n",
    "    # patients = ['312', '315', '344', '351']\n",
    "    # patients = ['185_2', '414', '582', '616']\n",
    "\n",
    "    for patient_id in tqdm(patients):\n",
    "        patient_id = str(patient_id)\n",
    "        patient_folder = os.path.join(data_dir, patient_id)\n",
    "        \n",
    "        if patient_id in prev_images:\n",
    "            # There are images present already!!\n",
    "            image_counter = len(prev_images[patient_id])\n",
    "        else:\n",
    "            image_counter = 0\n",
    "\n",
    "        for basepath, _, filenames in os.walk(patient_folder):\n",
    "            for filename in sorted(filenames):\n",
    "                filepath = os.path.join(basepath, filename)\n",
    "\n",
    "                # Filter only RX\n",
    "                filepath_clean = filepath.replace(data_dir, '').replace(patient_id, '')\n",
    "                filepath_lower = filepath_clean.lower()\n",
    "                is_other_scan = False\n",
    "                for scan_type in ('scanner', 'tac', 'ecograf', 'prev'):\n",
    "                    if scan_type in filepath_lower:\n",
    "                        errors[scan_type].append(filepath_clean)\n",
    "                        is_other_scan = True\n",
    "                if is_other_scan:\n",
    "                    continue\n",
    "                \n",
    "                if not filename.endswith('.dcm'):\n",
    "                    errors['non-dcm'].append(filepath)\n",
    "                    continue\n",
    "                images_by_patient[patient_id].append(filename)\n",
    "\n",
    "                # Read DICOM\n",
    "                ds = pydicom.dcmread(filepath)\n",
    "\n",
    "                try:\n",
    "                    image = ds.pixel_array\n",
    "                except AttributeError as e:\n",
    "                    errors['broken'].append(filepath)\n",
    "                    continue\n",
    "\n",
    "                # Set image name and path\n",
    "                image_name = '-'.join(str(s) for s in [patient_id, image_counter, filename[:-4]])\n",
    "                image_name += '.png'\n",
    "\n",
    "                # Read DICOM useful information\n",
    "                try:\n",
    "                    view_position = ds.ViewPosition\n",
    "                except AttributeError as e:\n",
    "                    view_position = ''\n",
    "                    print('NO VIEW POSITION: ', filepath, image_name)\n",
    "                date = split_date(ds.StudyDate)\n",
    "                # transfer_syntax = ds.file_meta.TransferSyntaxUID.name\n",
    "\n",
    "                # HACK: fill empty view positions\n",
    "                if not view_position:\n",
    "                    # Only valid for anon_3\n",
    "                    if data_dir.endswith('anon_3'):\n",
    "                        if image_name.startswith('312-0'):\n",
    "                            view_position = 'AP'\n",
    "                        else:\n",
    "                            view_position = 'LL'\n",
    "                    errors['missing-view'].append((filepath, image_name, view_position))\n",
    "\n",
    "                # Save image to png\n",
    "                if save_png:\n",
    "                    image_filepath = os.path.join(IMAGES_DIR, image_name)\n",
    "                    if os.path.isfile(image_filepath):\n",
    "                        errors['overriden-image'].append((filepath, image_name))\n",
    "                    scaled_image = arr_to_range(image, 0, 255)\n",
    "                    pil_image = Image.fromarray(scaled_image).convert('L')\n",
    "                    pil_image.save(image_filepath)\n",
    "\n",
    "                # Save into main list\n",
    "                result.append((patient_id, image_name, view_position, date))\n",
    "\n",
    "                image_counter += 1\n",
    "\n",
    "    return result, images_by_patient, errors"
   ]
  },
  {
   "cell_type": "code",
   "execution_count": 483,
   "metadata": {},
   "outputs": [
    {
     "name": "stderr",
     "output_type": "stream",
     "text": [
      "100%|██████████| 403/403 [01:19<00:00,  5.10it/s]\n"
     ]
    }
   ],
   "source": [
    "results_anon_3, i_by_p_anon_3, errors1 = iter_dicom_images(DATA_DIR_ANON_3,\n",
    "                                                           save_png=False)"
   ]
  },
  {
   "cell_type": "code",
   "execution_count": 542,
   "metadata": {},
   "outputs": [
    {
     "name": "stderr",
     "output_type": "stream",
     "text": [
      "100%|██████████| 200/200 [11:55<00:00,  3.58s/it]\n"
     ]
    }
   ],
   "source": [
    "results_test_anon, i_by_p_test_anon, errors2 = iter_dicom_images(DATA_DIR_TEST_ANON,\n",
    "                                                                 save_png=True,\n",
    "                                                                 prev_images=i_by_p_anon_3,\n",
    "                                                                )"
   ]
  },
  {
   "cell_type": "code",
   "execution_count": null,
   "metadata": {},
   "outputs": [],
   "source": []
  },
  {
   "cell_type": "markdown",
   "metadata": {
    "heading_collapsed": true
   },
   "source": [
    "##### Check errors"
   ]
  },
  {
   "cell_type": "code",
   "execution_count": 434,
   "metadata": {
    "hidden": true
   },
   "outputs": [
    {
     "data": {
      "text/plain": [
       "['ecograf', 'scanner', 'broken', 'non-dcm', 'tac', 'prev']"
      ]
     },
     "execution_count": 434,
     "metadata": {},
     "output_type": "execute_result"
    }
   ],
   "source": [
    "errors.keys()"
   ]
  },
  {
   "cell_type": "code",
   "execution_count": 450,
   "metadata": {
    "hidden": true
   },
   "outputs": [],
   "source": [
    "def different_values(strings):\n",
    "    values = set()\n",
    "    for s in strings:\n",
    "        for w in s.split('/'):\n",
    "            if not w:\n",
    "                continue\n",
    "            values.add(w)\n",
    "            break\n",
    "    return values"
   ]
  },
  {
   "cell_type": "code",
   "execution_count": 455,
   "metadata": {
    "hidden": true
   },
   "outputs": [
    {
     "data": {
      "text/plain": [
       "{'Ecografia Abdominal'}"
      ]
     },
     "execution_count": 455,
     "metadata": {},
     "output_type": "execute_result"
    }
   ],
   "source": [
    "different_values(errors['ecograf'])"
   ]
  },
  {
   "cell_type": "code",
   "execution_count": 454,
   "metadata": {
    "hidden": true
   },
   "outputs": [
    {
     "data": {
      "text/plain": [
       "{'Examen Previo No Uc'}"
      ]
     },
     "execution_count": 454,
     "metadata": {},
     "output_type": "execute_result"
    }
   ],
   "source": [
    "different_values(errors['prev'])"
   ]
  },
  {
   "cell_type": "code",
   "execution_count": 453,
   "metadata": {
    "hidden": true
   },
   "outputs": [
    {
     "data": {
      "text/plain": [
       "{'Scanner Cavidades Perinasales', 'Scanner De Torax', 'Scanner Tx-Abd-Pel'}"
      ]
     },
     "execution_count": 453,
     "metadata": {},
     "output_type": "execute_result"
    }
   ],
   "source": [
    "different_values(errors['scanner'])"
   ]
  },
  {
   "cell_type": "code",
   "execution_count": 452,
   "metadata": {
    "hidden": true
   },
   "outputs": [
    {
     "data": {
      "text/plain": [
       "{'Angio Tac Por Tep(Tromboembolismo Pulmonar)',\n",
       " 'Angio Tac Torax',\n",
       " 'Angio Tac Torax Tep(Tromboembolismo Pulmonar)',\n",
       " 'Tac Torax',\n",
       " 'Tac Torax Alta Resolucion',\n",
       " 'Tac Torax-Abdomen-Pelvis'}"
      ]
     },
     "execution_count": 452,
     "metadata": {},
     "output_type": "execute_result"
    }
   ],
   "source": [
    "different_values(errors['tac'])"
   ]
  },
  {
   "cell_type": "code",
   "execution_count": 456,
   "metadata": {
    "hidden": true
   },
   "outputs": [
    {
     "data": {
      "text/plain": [
       "[('10', '10-0-IM-0001-0001-0001.png', 'AP', '20200413'),\n",
       " ('10', '10-1-IM-0001-0001-0001.png', 'AP', '20200502'),\n",
       " ('10', '10-2-IM-0001-0001-0002.png', 'AP', '20200406'),\n",
       " ('10', '10-3-IM-0001-0001-0003.png', 'AP', '20200418'),\n",
       " ('10', '10-4-IM-0001-0001-0004.png', 'AP', '20200423'),\n",
       " ('10', '10-5-IM-0001-0001-0005.png', 'AP', '20200415'),\n",
       " ('10', '10-6-IM-0001-0001-0006.png', 'AP', '20200413'),\n",
       " ('10', '10-7-IM-0001-0001-0007.png', 'AP', '20200327'),\n",
       " ('10', '10-8-IM-0001-0001-0001.png', 'AP', '20200413'),\n",
       " ('10', '10-9-IM-0001-0001-0001.png', 'PA', '20180202'),\n",
       " ('10', '10-10-IM-0001-0001-0001.png', 'PA', '20180202'),\n",
       " ('104', '104-0-IM-0001-0001-0001.png', 'PA', '20200310'),\n",
       " ('104', '104-1-IM-0001-0001-0001.png', 'PA', '20200310'),\n",
       " ('106', '106-0-IM-0001-0001-0001.png', 'PA', '20200311'),\n",
       " ('106', '106-1-IM-0001-0001-0001.png', 'PA', '20200311'),\n",
       " ('11', '11-0-IM-0001-0001-0001.png', 'PA', '20200429'),\n",
       " ('11', '11-1-IM-0001-0002-0001.png', 'LL', '20200429'),\n",
       " ('113', '113-0-IM-0001-0001-0001.png', 'PA', '20180114'),\n",
       " ('113', '113-1-IM-0001-0001-0001.png', 'PA', '20180114'),\n",
       " ('113', '113-2-IM-0001-0001-0001.png', 'AP', '20200313'),\n",
       " ('116', '116-0-IM-0001-0001-0001.png', 'PA', '20161004'),\n",
       " ('116', '116-1-IM-0001-0001-0001.png', 'LL', '20161004'),\n",
       " ('116', '116-2-IM-0001-0001-0001.png', 'AP', '20200315'),\n",
       " ('118', '118-0-IM-0001-0001-0001.png', 'AP', '20200315'),\n",
       " ('119', '119-0-IM-0001-0001-0001.png', 'AP', '20200315'),\n",
       " ('122', '122-0-IM-0001-0001-0001.png', 'PA', '20200316'),\n",
       " ('122', '122-1-IM-0001-0002-0001.png', 'LL', '20200316'),\n",
       " ('124', '124-0-IM-0001-0001-0001.png', 'PA', '20200316'),\n",
       " ('124', '124-1-IM-0001-0002-0001.png', 'LL', '20200316'),\n",
       " ('125', '125-0-IM-0001-0001-0001.png', 'PA', '20200316'),\n",
       " ('125', '125-1-IM-0001-0002-0001.png', 'LL', '20200316'),\n",
       " ('126', '126-0-IM-0001-0001-0001.png', 'PA', '20180728'),\n",
       " ('126', '126-1-IM-0001-0002-0001.png', 'LL', '20180728'),\n",
       " ('126', '126-2-IM-0001-0001-0001.png', 'AP', '20200316'),\n",
       " ('127', '127-0-IM-0001-0001-0001.png', 'PA', '20200316'),\n",
       " ('127', '127-1-IM-0001-0001-0002.png', 'PA', '20170606'),\n",
       " ('127', '127-2-IM-0001-0002-0001.png', 'LL', '20200316'),\n",
       " ('127', '127-3-IM-0001-0002-0002.png', 'LL', '20170606'),\n",
       " ('13', '13-0-IM-0001-0001-0001.png', 'AP', '20200413'),\n",
       " ('13', '13-1-IM-0001-0001-0001.png', 'AP', '20200413'),\n",
       " ('133', '133-0-IM-0001-0001-0001.png', 'PA', '20161020'),\n",
       " ('133', '133-1-IM-0001-0001-0002.png', 'PA', '20170417'),\n",
       " ('133', '133-2-IM-0001-0001-0003.png', 'PA', '20200317'),\n",
       " ('133', '133-3-IM-0001-0002-0001.png', 'LL', '20161020'),\n",
       " ('133', '133-4-IM-0001-0002-0002.png', 'LL', '20170417'),\n",
       " ('133', '133-5-IM-0001-0002-0003.png', 'LL', '20200317'),\n",
       " ('133', '133-6-IM-0001-0001-0001.png', 'AP', '20200326'),\n",
       " ('134', '134-0-IM-0001-0001-0001.png', 'AP', '20190701'),\n",
       " ('134', '134-1-IM-0001-0001-0002.png', 'AP', '20200317'),\n",
       " ('135', '135-0-IM-0001-0001-0001.png', 'PA', '20200317'),\n",
       " ('135', '135-1-IM-0001-0001-0001.png', 'PA', '20170710'),\n",
       " ('135', '135-2-IM-0001-0002-0001.png', 'LL', '20170710'),\n",
       " ('135', '135-3-IM-0001-0001-0001.png', 'PA', '20200317'),\n",
       " ('135', '135-4-IM-0001-0001-0001.png', 'AP', '20200330'),\n",
       " ('136', '136-0-IM-0001-0001-0001.png', 'AP', '20200317'),\n",
       " ('137', '137-0-IM-0001-0001-0001.png', 'PA', '20190211'),\n",
       " ('137', '137-1-IM-0001-0001-0001.png', 'LL', '20190211'),\n",
       " ('137', '137-2-IM-0001-0001-0001.png', 'AP', '20200317'),\n",
       " ('138', '138-0-IM-0001-0001-0001.png', 'PA', '20120821'),\n",
       " ('138', '138-1-IM-0001-0002-0001.png', 'PA', '20120821'),\n",
       " ('138', '138-2-IM-0001-0001-0001.png', 'AP', '20200317'),\n",
       " ('14', '14-0-IM-0001-0001-0001.png', 'PA', '20180913'),\n",
       " ('14', '14-1-IM-0001-0001-0001.png', 'LL', '20180913'),\n",
       " ('14', '14-2-IM-0001-0001-0001.png', 'AP', '20200410'),\n",
       " ('14', '14-3-IM-0001-0001-0002.png', 'AP', '20200420'),\n",
       " ('14', '14-4-IM-0001-0001-0003.png', 'AP', '20200416'),\n",
       " ('14', '14-5-IM-0001-0001-0004.png', 'AP', '20200423'),\n",
       " ('14', '14-6-IM-0001-0001-0005.png', 'AP', '20190805'),\n",
       " ('140', '140-0-IM-0001-0001-0001.png', 'PA', '20140417'),\n",
       " ('140', '140-1-IM-0001-0001-0001.png', 'LL', '20140417'),\n",
       " ('140', '140-2-IM-0001-0001-0001.png', 'AP', '20200318'),\n",
       " ('142', '142-0-IM-0001-0001-0001.png', 'PA', '20131207'),\n",
       " ('142', '142-1-IM-0001-0001-0001.png', 'PA', '20131207'),\n",
       " ('142', '142-2-IM-0001-0001-0001.png', 'AP', '20200318'),\n",
       " ('144', '144-0-IM-0001-0001-0001.png', 'AP', '20200319'),\n",
       " ('145', '145-0-IM-0001-0001-0001.png', 'PA', '20181009'),\n",
       " ('145', '145-1-IM-0001-0002-0001.png', 'LL', '20181009'),\n",
       " ('145', '145-2-IM-0001-0001-0001.png', 'AP', '20200319'),\n",
       " ('146', '146-0-IM-0001-0001-0001.png', 'AP', '20200319'),\n",
       " ('148', '148-0-IM-0001-0001-0001.png', 'AP', '20200320'),\n",
       " ('149', '149-0-IM-0001-0001-0001.png', 'PA', '20160818'),\n",
       " ('149', '149-1-IM-0001-0001-0001.png', 'LL', '20160818'),\n",
       " ('149', '149-2-IM-0001-0001-0001.png', 'AP', '20120507'),\n",
       " ('149', '149-3-IM-0001-0001-0001.png', 'AP', '20200320'),\n",
       " ('149', '149-4-IM-0001-0001-0001.png', 'AP', '20170415'),\n",
       " ('149', '149-5-IM-0001-0001-0002.png', 'AP', '20141005'),\n",
       " ('149', '149-6-IM-0001-0001-0001.png', 'AP', '20120402'),\n",
       " ('149', '149-7-IM-0001-0001-0002.png', 'AP', '20120210'),\n",
       " ('150', '150-0-IM-0001-0001-0001.png', 'AP', '20200320'),\n",
       " ('152', '152-0-IM-0001-0001-0001.png', 'AP', '20200320'),\n",
       " ('154', '154-0-IM-0001-0001-0001.png', 'AP', '20200320'),\n",
       " ('155', '155-0-IM-0001-0001-0001.png', 'AP', '20200321'),\n",
       " ('156', '156-0-IM-0001-0001-0001.png', 'PA', '20150121'),\n",
       " ('156', '156-1-IM-0001-0002-0001.png', 'LL', '20150121'),\n",
       " ('156', '156-2-IM-0001-0001-0001.png', 'AP', '20200321'),\n",
       " ('157', '157-0-IM-0001-0001-0001.png', 'PA', '20180218'),\n",
       " ('157', '157-1-IM-0001-0002-0001.png', 'LL', '20180218'),\n",
       " ('157', '157-2-IM-0001-0001-0001.png', 'AP', '20200321'),\n",
       " ('159', '159-0-IM-0001-0001-0001.png', 'AP', '20200322'),\n",
       " ('16', '16-0-IM-0001-0001-0001.png', 'PA', '20200309'),\n",
       " ('16', '16-1-IM-0001-0002-0001.png', 'LL', '20200309'),\n",
       " ('160', '160-0-IM-0001-0001-0001.png', 'AP', '20200322'),\n",
       " ('161', '161-0-IM-0001-0001-0001.png', 'AP', '20200322'),\n",
       " ('162', '162-0-IM-0001-0001-0001.png', 'PA', '20200322'),\n",
       " ('162', '162-1-IM-0001-0002-0001.png', 'LL', '20200322'),\n",
       " ('163', '163-0-IM-0001-0001-0001.png', 'PA', '20170319'),\n",
       " ('163', '163-1-IM-0001-0002-0001.png', 'LL', '20170319'),\n",
       " ('163', '163-2-IM-0001-0001-0001.png', 'AP', '20200323'),\n",
       " ('163', '163-3-IM-0001-0001-0001.png', 'AP', '20170113'),\n",
       " ('165', '165-0-IM-0001-0001-0001.png', 'AP', '20200323'),\n",
       " ('166', '166-0-IM-0001-0001-0001.png', 'AP', '20200323'),\n",
       " ('167', '167-0-IM-0001-0001-0001.png', 'AP', '20150112'),\n",
       " ('167', '167-1-IM-0001-0001-0001.png', 'PA', '20150105'),\n",
       " ('167', '167-2-IM-0001-0002-0001.png', 'LL', '20150105'),\n",
       " ('167', '167-3-IM-0001-0001-0001.png', 'PA', '20150112'),\n",
       " ('167', '167-4-IM-0001-0001-0001.png', 'AP', '20200323'),\n",
       " ('167', '167-5-IM-0001-0001-0001.png', 'AP', '20150109'),\n",
       " ('168', '168-0-IM-0001-0001-0001.png', 'PA', '20191114'),\n",
       " ('168', '168-1-IM-0001-0002-0001.png', 'LL', '20191114'),\n",
       " ('168', '168-2-IM-0001-0001-0001.png', 'AP', '20200324'),\n",
       " ('169', '169-0-IM-0001-0001-0001.png', 'PA', '20190705'),\n",
       " ('169', '169-1-IM-0001-0001-0002.png', 'PA', '20180704'),\n",
       " ('169', '169-2-IM-0001-0001-0001.png', 'LL', '20180704'),\n",
       " ('169', '169-3-IM-0001-0001-0001.png', 'LL', '20190705'),\n",
       " ('169', '169-4-IM-0001-0001-0001.png', 'PA', '20180704'),\n",
       " ('169', '169-5-IM-0001-0001-0001.png', 'PA', '20171005'),\n",
       " ('169', '169-6-IM-0001-0002-0001.png', 'LL', '20171005'),\n",
       " ('169', '169-7-IM-0001-0001-0001.png', 'AP', '20200324'),\n",
       " ('172', '172-0-IM-0001-0001-0001.png', 'AP', '20200324'),\n",
       " ('173', '173-0-IM-0001-0001-0001.png', 'AP', '20200324'),\n",
       " ('174', '174-0-IM-0001-0001-0001.png', 'PA', '20181211'),\n",
       " ('174', '174-1-IM-0001-0002-0001.png', 'LL', '20181211'),\n",
       " ('174', '174-2-IM-0001-0001-0001.png', 'AP', '20200324'),\n",
       " ('174', '174-3-IM-0001-0001-0001.png', 'AP', '20200324'),\n",
       " ('174', '174-4-IM-0001-0001-0001.png', 'AP', '20200324'),\n",
       " ('176', '176-0-IM-0001-0001-0001.png', 'AP', '20200325'),\n",
       " ('178', '178-0-IM-0001-0001-0001.png', 'PA', '20091210'),\n",
       " ('178', '178-1-IM-0001-0001-0001.png', 'PA', '20091210'),\n",
       " ('178', '178-2-IM-0001-0001-0001.png', 'AP', '20200403'),\n",
       " ('178', '178-3-IM-0001-0001-0002.png', 'AP', '20200326'),\n",
       " ('178', '178-4-IM-0001-0001-0003.png', 'AP', '20200406'),\n",
       " ('179', '179-0-IM-0001-0001-0001.png', 'PA', '20120315'),\n",
       " ('179', '179-1-IM-0001-0001-0002.png', 'PA', '20120906'),\n",
       " ('179', '179-2-IM-0001-0001-0001.png', 'PA', '20120315'),\n",
       " ('179', '179-3-IM-0001-0001-0002.png', 'PA', '20120906'),\n",
       " ('179', '179-4-IM-0001-0001-0001.png', 'AP', '20200326'),\n",
       " ('179', '179-5-IM-0001-0001-0001.png', 'PA', '20090914'),\n",
       " ('179', '179-6-IM-0001-0001-0001.png', 'PA', '20090914'),\n",
       " ('180', '180-0-IM-0001-0001-0001.png', 'PA', '20171016'),\n",
       " ('180', '180-1-IM-0001-0002-0001.png', 'LL', '20171016'),\n",
       " ('180', '180-2-IM-0001-0001-0001.png', 'AP', '20200326'),\n",
       " ('182', '182-0-IM-0001-0001-0001.png', 'AP', '20200326'),\n",
       " ('184', '184-0-IM-0001-0001-0001.png', 'AP', '20200326'),\n",
       " ('186', '186-0-IM-0001-0001-0001.png', 'AP', '20200327'),\n",
       " ('186', '186-1-IM-0001-0001-0001.png', 'AP', '20200327'),\n",
       " ('187', '187-0-IM-0001-0001-0001.png', 'PA', '20190511'),\n",
       " ('187', '187-1-IM-0001-0001-0001.png', 'PA', '20190327'),\n",
       " ('187', '187-2-IM-0001-0002-0001.png', 'LL', '20190327'),\n",
       " ('187', '187-3-IM-0001-0001-0001.png', 'PA', '20190511'),\n",
       " ('187', '187-4-IM-0001-0001-0001.png', 'AP', '20190812'),\n",
       " ('187', '187-5-IM-0001-0001-0001.png', 'AP', '20200327'),\n",
       " ('187', '187-6-IM-0001-0001-0002.png', 'AP', '20200514'),\n",
       " ('187', '187-7-IM-0001-0001-0003.png', 'AP', '20200510'),\n",
       " ('187', '187-8-IM-0001-0001-0001.png', 'AP', '20190405'),\n",
       " ('189', '189-0-IM-0001-0001-0001.png', 'PA', '20070609'),\n",
       " ('189', '189-1-IM-0001-0001-0001.png', 'PA', '20070609'),\n",
       " ('189', '189-2-IM-0001-0001-0001.png', 'AP', '20200327'),\n",
       " ('190', '190-0-IM-0001-0001-0001.png', 'AP', '20200327'),\n",
       " ('191', '191-0-IM-0001-0001-0001.png', 'PA', '20100826'),\n",
       " ('191', '191-1-IM-0001-0001-0001.png', 'PA', '20100826'),\n",
       " ('191', '191-2-IM-0001-0001-0001.png', 'AP', '20200327'),\n",
       " ('192', '192-0-IM-0001-0001-0001.png', 'AP', '20200327'),\n",
       " ('193', '193-0-IM-0001-0001-0001.png', 'AP', '20200327'),\n",
       " ('194', '194-0-IM-0001-0001-0001.png', 'PA', '20150123'),\n",
       " ('194', '194-1-IM-0001-0001-0001.png', 'LL', '20150123'),\n",
       " ('194', '194-2-IM-0001-0001-0001.png', 'AP', '20200327'),\n",
       " ('195', '195-0-IM-0001-0001-0001.png', 'AP', '20200327'),\n",
       " ('196', '196-0-IM-0001-0001-0001.png', 'AP', '20200327'),\n",
       " ('197', '197-0-IM-0001-0001-0001.png', 'AP', '20200328'),\n",
       " ('198', '198-0-IM-0001-0001-0001.png', 'AP', '20200328'),\n",
       " ('199', '199-0-IM-0001-0001-0001.png', 'PA', '20200328'),\n",
       " ('199', '199-1-IM-0001-0002-0001.png', 'LL', '20200328'),\n",
       " ('199', '199-2-IM-0001-0001-0001.png', 'AP', '20190927'),\n",
       " ('2', '2-0-IM-0001-0001-0001.png', 'AP', '20200403'),\n",
       " ('200', '200-0-IM-0001-0001-0001.png', 'PA', '20150413'),\n",
       " ('200', '200-1-IM-0001-0002-0001.png', 'LL', '20150413'),\n",
       " ('200', '200-2-IM-0001-0001-0001.png', 'AP', '20200328'),\n",
       " ('201', '201-0-IM-0001-0001-0001.png', 'AP', '20200328'),\n",
       " ('202', '202-0-IM-0001-0001-0001.png', 'PA', '20171228'),\n",
       " ('202', '202-1-IM-0001-0001-0001.png', 'PA', '20171228'),\n",
       " ('202', '202-2-IM-0001-0001-0001.png', 'AP', '20200328'),\n",
       " ('204', '204-0-IM-0001-0001-0001.png', 'AP', '20200328'),\n",
       " ('205', '205-0-IM-0001-0001-0001.png', 'AP', '20200329'),\n",
       " ('206', '206-0-IM-0001-0001-0001.png', 'AP', '20200329'),\n",
       " ('207', '207-0-IM-0001-0001-0001.png', 'AP', '20200329'),\n",
       " ('208', '208-0-IM-0001-0001-0001.png', 'PA', '20170822'),\n",
       " ('208', '208-1-IM-0001-0001-0001.png', 'PA', '20170822'),\n",
       " ('208', '208-2-IM-0001-0001-0001.png', 'PA', '20170822'),\n",
       " ('208', '208-3-IM-0001-0001-0001.png', 'AP', '20200329'),\n",
       " ('208', '208-4-IM-0001-0001-0001.png', 'AP', '20170820'),\n",
       " ('209', '209-0-IM-0001-0001-0001.png', 'AP', '20200329'),\n",
       " ('210', '210-0-IM-0001-0001-0001.png', 'PA', '20191011'),\n",
       " ('210', '210-1-IM-0001-0002-0001.png', 'LL', '20191011'),\n",
       " ('210', '210-2-IM-0001-0001-0001.png', 'AP', '20200329'),\n",
       " ('210', '210-3-IM-0001-0001-0002.png', 'AP', '20200416'),\n",
       " ('212', '212-0-IM-0001-0001-0001.png', 'AP', '20200330'),\n",
       " ('213', '213-0-IM-0001-0001-0001.png', 'AP', '20200330'),\n",
       " ('214', '214-0-IM-0001-0001-0001.png', 'PA', '20190508'),\n",
       " ('214', '214-1-IM-0001-0001-0002.png', 'PA', '20200110'),\n",
       " ('214', '214-2-IM-0001-0002-0001.png', 'LL', '20190508'),\n",
       " ('214', '214-3-IM-0001-0002-0002.png', 'LL', '20200110'),\n",
       " ('214', '214-4-IM-0001-0001-0001.png', 'AP', '20200330'),\n",
       " ('214', '214-5-IM-0001-0001-0002.png', 'AP', '20200407'),\n",
       " ('215', '215-0-IM-0001-0001-0001.png', 'PA', '20190531'),\n",
       " ('215', '215-1-IM-0001-0002-0001.png', 'LL', '20190531'),\n",
       " ('215', '215-2-IM-0001-0001-0001.png', 'AP', '20200330'),\n",
       " ('216', '216-0-IM-0001-0001-0001.png', 'AP', '20200330'),\n",
       " ('218', '218-0-IM-0001-0001-0001.png', 'PA', '20160818'),\n",
       " ('218', '218-1-IM-0001-0001-0002.png', 'PA', '20190913'),\n",
       " ('218', '218-2-IM-0001-0002-0001.png', 'LL', '20160818'),\n",
       " ('218', '218-3-IM-0001-0002-0002.png', 'LL', '20190913'),\n",
       " ('218', '218-4-IM-0001-0001-0001.png', 'AP', '20200330'),\n",
       " ('219', '219-0-IM-0001-0001-0001.png', 'PA', '20160912'),\n",
       " ('219', '219-1-IM-0001-0002-0001.png', 'LL', '20160912'),\n",
       " ('219', '219-2-IM-0001-0001-0001.png', 'AP', '20200331'),\n",
       " ('220', '220-0-IM-0001-0001-0001.png', 'AP', '20200331'),\n",
       " ('221', '221-0-IM-0001-0001-0001.png', 'PA', '20170621'),\n",
       " ('221', '221-1-IM-0001-0002-0001.png', 'LL', '20170621'),\n",
       " ('221', '221-2-IM-0001-0001-0001.png', 'AP', '20200331'),\n",
       " ('222', '222-0-IM-0001-0001-0001.png', 'AP', '20200331'),\n",
       " ('223', '223-0-IM-0001-0001-0001.png', 'AP', '20200331'),\n",
       " ('224', '224-0-IM-0001-0001-0001.png', 'PA', '20130828'),\n",
       " ('224', '224-1-IM-0001-0001-0001.png', 'PA', '20130828'),\n",
       " ('224', '224-2-IM-0001-0001-0001.png', 'AP', '20200331'),\n",
       " ('225', '225-0-IM-0001-0001-0001.png', 'AP', '20200331'),\n",
       " ('226', '226-0-IM-0001-0001-0001.png', 'AP', '20200401'),\n",
       " ('227', '227-0-IM-0001-0001-0001.png', 'AP', '20200401'),\n",
       " ('228', '228-0-IM-0001-0001-0001.png', 'AP', '20200401'),\n",
       " ('229', '229-0-IM-0001-0001-0001.png', 'AP', '20200401'),\n",
       " ('230', '230-0-IM-0001-0001-0001.png', 'AP', '20200401'),\n",
       " ('231', '231-0-IM-0001-0001-0001.png', 'AP', '20200401'),\n",
       " ('232', '232-0-IM-0001-0002-0001.png', 'PA', '20120524'),\n",
       " ('232', '232-1-IM-0001-0004-0001.png', 'PA', '20120524'),\n",
       " ('232', '232-2-IM-0001-0001-0001.png', 'AP', '20200401'),\n",
       " ('233', '233-0-IM-0001-0001-0001.png', 'AP', '20200401'),\n",
       " ('234', '234-0-IM-0001-0001-0001.png', 'AP', '20200402'),\n",
       " ('235', '235-0-IM-0001-0001-0001.png', 'AP', '20200402'),\n",
       " ('236', '236-0-IM-0001-0001-0001.png', 'AP', '20200402'),\n",
       " ('238', '238-0-IM-0001-0001-0001.png', 'AP', '20200402'),\n",
       " ('240', '240-0-IM-0001-0001-0001.png', 'AP', '20200402'),\n",
       " ('241', '241-0-IM-0001-0001-0001.png', 'AP', '20200403'),\n",
       " ('242', '242-0-IM-0001-0001-0001.png', 'AP', '20200403'),\n",
       " ('243', '243-0-IM-0001-0001-0001.png', 'AP', '20200403'),\n",
       " ('244', '244-0-IM-0001-0001-0001.png', 'AP', '20200403'),\n",
       " ('245', '245-0-IM-0001-0001-0001.png', 'AP', '20200515'),\n",
       " ('245', '245-1-IM-0001-0002-0001.png', 'RLO', '20200515'),\n",
       " ('245', '245-2-IM-0001-0003-0001.png', 'RL', '20200515'),\n",
       " ('245', '245-3-IM-0001-0001-0001.png', 'PA', '20190309'),\n",
       " ('245', '245-4-IM-0001-0002-0001.png', 'LL', '20190309'),\n",
       " ('245', '245-5-IM-0001-0001-0001.png', 'AP', '20200403'),\n",
       " ('246', '246-0-IM-0001-0001-0001.png', 'AP', '20200408'),\n",
       " ('246', '246-1-IM-0001-0001-0002.png', 'AP', '20200403'),\n",
       " ('247', '247-0-IM-0001-0001-0001.png', 'AP', '20200404'),\n",
       " ('248', '248-0-IM-0001-0001-0001.png', 'AP', '20200404'),\n",
       " ('248', '248-1-IM-0001-0001-0001.png', 'AP', '20200404'),\n",
       " ('249', '249-0-IM-0001-0001-0001.png', 'AP', '20200404'),\n",
       " ('250', '250-0-IM-0001-0001-0001.png', 'AP', '20200409'),\n",
       " ('250', '250-1-IM-0001-0001-0002.png', 'AP', '20200404'),\n",
       " ('251', '251-0-IM-0001-0001-0001.png', 'AP', '20200404'),\n",
       " ('252', '252-0-IM-0001-0001-0001.png', 'AP', '20200405'),\n",
       " ('261', '261-0-IM-0001-0001-0001.png', 'PA', '20200422'),\n",
       " ('261', '261-1-IM-0001-0001-0001.png', 'LL', '20200422'),\n",
       " ('261', '261-2-IM-0001-0001-0001.png', 'PA', '20190513'),\n",
       " ('261', '261-3-IM-0001-0002-0001.png', 'LL', '20190513'),\n",
       " ('261', '261-4-IM-0001-0001-0001.png', 'AP', '20200406'),\n",
       " ('269', '269-0-IM-0001-0001-0001.png', 'AP', '20200506'),\n",
       " ('269', '269-1-IM-0001-0001-0002.png', 'AP', '20200407'),\n",
       " ('296', '296-0-IM-0001-0001-0001.png', 'AP', '20200413'),\n",
       " ('3', '3-0-IM-0001-0001-0001.png', 'PA', '20180615'),\n",
       " ('3', '3-1-IM-0001-0002-0001.png', 'LL', '20180615'),\n",
       " ('3', '3-2-IM-0001-0001-0001.png', 'AP', '20200413'),\n",
       " ('33', '33-0-IM-0001-0001-0001.png', 'LL', '20200315'),\n",
       " ('33', '33-1-IM-0001-0002-0001.png', 'PA', '20200315'),\n",
       " ('348', '348-0-IM-0001-0001-0001.png', 'AP', '20200318'),\n",
       " ('349', '349-0-IM-0001-0001-0001.png', 'AP', '20200318'),\n",
       " ('35', '35-0-IM-0001-0001-0001.png', 'AP', '20200319'),\n",
       " ('35', '35-1-IM-0001-0001-0001.png', 'AP', '20200322'),\n",
       " ('36', '36-0-IM-0001-0001-0001.png', 'PA', '20170718'),\n",
       " ('36', '36-1-IM-0001-0001-0002.png', 'PA', '20200326'),\n",
       " ('36', '36-2-IM-0001-0002-0001.png', 'LL', '20170718'),\n",
       " ('36', '36-3-IM-0001-0002-0002.png', 'LL', '20200326'),\n",
       " ('36', '36-4-IM-0001-0001-0001.png', 'AP', '20200319'),\n",
       " ('36', '36-5-IM-0001-0001-0002.png', 'AP', '20200324'),\n",
       " ('36', '36-6-IM-0001-0001-0003.png', 'AP', '20200321'),\n",
       " ('36', '36-7-IM-0001-0001-0004.png', 'AP', '20200320'),\n",
       " ('363', '363-0-IM-0001-0001-0001.png', 'PA', '20200322'),\n",
       " ('363', '363-1-IM-0001-0002-0001.png', 'LL', '20200322'),\n",
       " ('365', '365-0-IM-0001-0001-0001.png', 'AP', '20200322'),\n",
       " ('37', '37-0-IM-0001-0001-0001.png', 'PA', '20190619'),\n",
       " ('37', '37-1-IM-0001-0001-0001.png', 'PA', '20190619'),\n",
       " ('37', '37-2-IM-0001-0001-0001.png', 'AP', '20190617'),\n",
       " ('37', '37-3-IM-0001-0001-0002.png', 'AP', '20190626'),\n",
       " ('37', '37-4-IM-0001-0001-0003.png', 'AP', '20200310'),\n",
       " ('37', '37-5-IM-0001-0001-0004.png', 'AP', '20200321'),\n",
       " ('38', '38-0-IM-0001-0001-0001.png', 'PA', '20191205'),\n",
       " ('38', '38-1-IM-0001-0001-0001.png', 'PA', '20190730'),\n",
       " ('38', '38-2-IM-0001-0001-0002.png', 'PA', '20181208'),\n",
       " ('38', '38-3-IM-0001-0001-0003.png', 'PA', '20190604'),\n",
       " ('38', '38-4-IM-0001-0002-0001.png', 'LL', '20190730'),\n",
       " ('38', '38-5-IM-0001-0002-0002.png', 'LL', '20181208'),\n",
       " ('38', '38-6-IM-0001-0002-0003.png', 'LL', '20190604'),\n",
       " ('38', '38-7-IM-0001-0001-0001.png', 'PA', '20191205'),\n",
       " ('38', '38-8-IM-0001-0001-0001.png', 'AP', '20200322'),\n",
       " ('38', '38-9-IM-0001-0001-0002.png', 'AP', '20200207'),\n",
       " ('38', '38-10-IM-0001-0001-0003.png', 'AP', '20200324'),\n",
       " ('38', '38-11-IM-0001-0001-0004.png', 'AP', '20191024'),\n",
       " ('38', '38-12-IM-0001-0001-0001.png', 'AP', '20191130'),\n",
       " ('39', '39-0-IM-0001-0001-0001.png', 'AP', '20200323'),\n",
       " ('395', '395-0-IM-0001-0001-0001.png', 'PA', '20200330'),\n",
       " ('395', '395-1-IM-0001-0002-0001.png', 'LL', '20200330'),\n",
       " ('4', '4-0-IM-0001-0001-0001.png', 'AP', '20200416'),\n",
       " ('4', '4-1-IM-0001-0001-0002.png', 'AP', '20200421'),\n",
       " ('40', '40-0-IM-0001-0001-0001.png', 'AP', '20190924'),\n",
       " ('40', '40-1-IM-0001-0001-0001.png', 'PA', '20190812'),\n",
       " ('40', '40-2-IM-0001-0001-0001.png', 'PA', '20190812'),\n",
       " ('40', '40-3-IM-0001-0001-0001.png', 'LL', '20200324'),\n",
       " ('40', '40-4-IM-0001-0001-0002.png', 'PA', '20191005'),\n",
       " ('40', '40-5-IM-0001-0001-0003.png', 'PA', '20190925'),\n",
       " ('40', '40-6-IM-0001-0002-0001.png', 'PA', '20200324'),\n",
       " ('40', '40-7-IM-0001-0002-0002.png', 'LL', '20191005'),\n",
       " ('40', '40-8-IM-0001-0002-0003.png', 'LL', '20190925'),\n",
       " ('42', '42-0-IM-0001-0001-0001.png', 'AP', '20200329'),\n",
       " ('42', '42-1-IM-0001-0001-0001.png', 'PA', '20180611'),\n",
       " ('42', '42-2-IM-0001-0001-0001.png', 'LL', '20180611'),\n",
       " ('425', '425-0-IM-0001-0001-0001.png', 'LL', '20200409'),\n",
       " ('425', '425-1-IM-0001-0001-0002.png', 'PA', '20200501'),\n",
       " ('425', '425-2-IM-0001-0002-0001.png', 'PA', '20200409'),\n",
       " ('425', '425-3-IM-0001-0002-0002.png', 'AP', '20200501'),\n",
       " ('43', '43-0-IM-0001-0001-0001.png', 'PA', '20200319'),\n",
       " ('43', '43-1-IM-0001-0002-0001.png', 'LL', '20200319'),\n",
       " ('43', '43-2-IM-0001-0001-0001.png', 'AP', '20200226'),\n",
       " ('43', '43-3-IM-0001-0001-0001.png', 'AP', '20200327'),\n",
       " ('43', '43-4-IM-0001-0001-0001.png', 'LL', '20200325'),\n",
       " ('43', '43-5-IM-0001-0002-0001.png', 'PA', '20200325'),\n",
       " ('44', '44-0-IM-0001-0001-0001.png', 'LL', '20200325'),\n",
       " ('44', '44-1-IM-0001-0002-0001.png', 'PA', '20200325'),\n",
       " ('455', '455-0-IM-0001-0001-0001.png', 'LL', '20181128'),\n",
       " ('455', '455-1-IM-0001-0002-0001.png', 'AP', '20181128'),\n",
       " ('455', '455-2-IM-0001-0001-0001.png', 'AP', '20200328'),\n",
       " ('455', '455-3-IM-0001-0001-0002.png', 'AP', '20200329'),\n",
       " ('455', '455-4-IM-0001-0001-0003.png', 'AP', '20200411'),\n",
       " ('455', '455-5-IM-0001-0001-0004.png', 'AP', '20200421'),\n",
       " ('46', '46-0-IM-0001-0001-0001.png', 'PA', '20200118'),\n",
       " ('46', '46-1-IM-0001-0002-0001.png', 'LL', '20200118'),\n",
       " ('46', '46-2-IM-0001-0001-0001.png', 'AP', '20200508'),\n",
       " ('46', '46-3-IM-0001-0001-0002.png', 'AP', '20200326'),\n",
       " ('47', '47-0-IM-0001-0001-0001.png', 'PA', '20200327'),\n",
       " ('47', '47-1-IM-0001-0002-0001.png', 'LL', '20200327'),\n",
       " ('472', '472-0-IM-0001-0001-0001.png', 'AP', '20200328'),\n",
       " ('472', '472-1-IM-0001-0001-0002.png', 'AP', '20200324'),\n",
       " ('472', '472-2-IM-0001-0001-0003.png', 'AP', '20200314'),\n",
       " ('472', '472-3-IM-0001-0001-0004.png', 'AP', '20200329'),\n",
       " ('472', '472-4-IM-0001-0001-0005.png', 'AP', '20200401'),\n",
       " ('472', '472-5-IM-0001-0001-0001.png', 'PA', '20200516'),\n",
       " ('472', '472-6-IM-0001-0001-0002.png', 'PA', '20200423'),\n",
       " ('472', '472-7-IM-0001-0002-0001.png', 'LL', '20200516'),\n",
       " ('472', '472-8-IM-0001-0002-0002.png', 'LL', '20200423'),\n",
       " ('473', '473-0-IM-0001-0001-0001.png', 'PA', '20171129'),\n",
       " ('473', '473-1-IM-0001-0001-0001.png', 'PA', '20161209'),\n",
       " ('473', '473-2-IM-0001-0002-0001.png', 'LL', '20161209'),\n",
       " ('473', '473-3-IM-0001-0001-0001.png', 'PA', '20171129'),\n",
       " ('473', '473-4-IM-0001-0001-0001.png', 'AP', '20171129'),\n",
       " ('473', '473-5-IM-0001-0001-0001.png', 'AP', '20171129'),\n",
       " ('473', '473-6-IM-0001-0001-0001.png', 'AP', '20171129'),\n",
       " ('473', '473-7-IM-0001-0001-0001.png', 'AP', '20200321'),\n",
       " ('474', '474-0-IM-0001-0001-0001.png', 'AP', '20200328'),\n",
       " ('474', '474-1-IM-0001-0001-0001.png', 'PA', '20200323'),\n",
       " ('474', '474-2-IM-0001-0002-0001.png', 'LL', '20200323'),\n",
       " ('476', '476-0-IM-0001-0001-0001.png', 'AP', '20200329'),\n",
       " ('476', '476-1-IM-0001-0001-0002.png', 'AP', '20200326'),\n",
       " ('477', '477-0-IM-0001-0001-0001.png', 'AP', '20200328'),\n",
       " ('477', '477-1-IM-0001-0001-0001.png', 'PA', '20200505'),\n",
       " ('477', '477-2-IM-0001-0001-0001.png', 'PA', '20200505'),\n",
       " ('478', '478-0-IM-0001-0001-0001.png', 'AP', '20200404'),\n",
       " ('478', '478-1-IM-0001-0001-0002.png', 'AP', '20200415'),\n",
       " ('478', '478-2-IM-0001-0001-0003.png', 'AP', '20200330'),\n",
       " ('478', '478-3-IM-0001-0001-0004.png', 'AP', '20200330'),\n",
       " ('478', '478-4-IM-0001-0001-0005.png', 'AP', '20200329'),\n",
       " ('479', '479-0-IM-0001-0001-0001.png', 'AP', '20200329'),\n",
       " ('479', '479-1-IM-0001-0001-0002.png', 'AP', '20200330'),\n",
       " ('479', '479-2-IM-0001-0001-0003.png', 'AP', '20200413'),\n",
       " ('48', '48-0-IM-0001-0001-0001.png', 'AP', '20200327'),\n",
       " ('480', '480-0-IM-0001-0001-0001.png', 'PA', '20170913'),\n",
       " ('480', '480-1-IM-0001-0001-0002.png', 'PA', '20181217'),\n",
       " ('480', '480-2-IM-0001-0002-0001.png', 'LL', '20170913'),\n",
       " ('480', '480-3-IM-0001-0002-0002.png', 'LL', '20181217'),\n",
       " ('480', '480-4-IM-0001-0001-0001.png', 'AP', '20200330'),\n",
       " ('481', '481-0-IM-0001-0001-0001.png', 'AP', '20200413'),\n",
       " ('481', '481-1-IM-0001-0001-0001.png', 'PA', '20200330'),\n",
       " ('481', '481-2-IM-0001-0001-0002.png', 'PA', '20200422'),\n",
       " ('481', '481-3-IM-0001-0002-0001.png', 'LL', '20200330'),\n",
       " ('481', '481-4-IM-0001-0002-0002.png', 'LL', '20200422'),\n",
       " ('482', '482-0-IM-0001-0003-0001.png', 'PA', '20110501'),\n",
       " ('482', '482-1-IM-0001-0001-0001.png', 'PA', '20110501'),\n",
       " ('482', '482-2-IM-0001-0002-0001.png', 'PA', '20110819'),\n",
       " ('482', '482-3-IM-0001-0003-0001.png', 'PA', '20110819'),\n",
       " ('482', '482-4-IM-0001-0001-0001.png', 'AP', '20200331'),\n",
       " ('483', '483-0-IM-0001-0001-0001.png', 'AP', '20200406'),\n",
       " ('483', '483-1-IM-0001-0001-0002.png', 'AP', '20200331'),\n",
       " ('484', '484-0-IM-0001-0001-0001.png', 'PA', '20170228'),\n",
       " ('484', '484-1-IM-0001-0002-0001.png', 'LL', '20170228'),\n",
       " ('484', '484-2-IM-0001-0001-0001.png', 'AP', '20200406'),\n",
       " ('484', '484-3-IM-0001-0001-0002.png', 'AP', '20200401'),\n",
       " ('485', '485-0-IM-0001-0001-0001.png', 'AP', '20200403'),\n",
       " ('485', '485-1-IM-0001-0001-0002.png', 'AP', '20200401'),\n",
       " ('486', '486-0-IM-0001-0001-0001.png', 'AP', '20200410'),\n",
       " ('486', '486-1-IM-0001-0001-0001.png', 'AP', '20200413'),\n",
       " ('486', '486-2-IM-0001-0001-0002.png', 'AP', '20200406'),\n",
       " ('486', '486-3-IM-0001-0001-0003.png', 'AP', '20200404'),\n",
       " ('486', '486-4-IM-0001-0001-0004.png', 'AP', '20200402'),\n",
       " ('486', '486-5-IM-0001-0001-0005.png', 'AP', '20200417'),\n",
       " ('489', '489-0-IM-0001-0001-0001.png', 'AP', '20200404'),\n",
       " ('49', '49-0-IM-0001-0001-0001.png', 'AP', '20200401'),\n",
       " ('49', '49-1-IM-0001-0001-0002.png', 'AP', '20200327'),\n",
       " ('490', '490-0-IM-0001-0001-0001.png', 'AP', '20200405'),\n",
       " ('491', '491-0-IM-0001-0001-0001.png', 'AP', '20200413'),\n",
       " ('491', '491-1-IM-0001-0001-0001.png', 'AP', '20200406'),\n",
       " ('491', '491-2-IM-0001-0001-0002.png', 'AP', '20200409'),\n",
       " ('492', '492-0-IM-0001-0001-0001.png', 'PA', '20131112'),\n",
       " ('492', '492-1-IM-0001-0001-0001.png', 'LL', '20131112'),\n",
       " ('492', '492-2-IM-0001-0001-0001.png', 'AP', '20200419'),\n",
       " ('492', '492-3-IM-0001-0001-0002.png', 'AP', '20200409'),\n",
       " ('492', '492-4-IM-0001-0001-0003.png', 'AP', '20200414'),\n",
       " ('493', '493-0-IM-0001-0001-0001.png', 'AP', '20200414'),\n",
       " ('494', '494-0-IM-0001-0001-0001.png', 'AP', '20200414'),\n",
       " ('494', '494-1-IM-0001-0001-0001.png', 'PA', '20200410'),\n",
       " ('494', '494-2-IM-0001-0002-0001.png', 'LL', '20200410'),\n",
       " ('495', '495-0-IM-0001-0001-0001.png', 'AP', '20200417'),\n",
       " ('495', '495-1-IM-0001-0001-0002.png', 'AP', '20200420'),\n",
       " ('495', '495-2-IM-0001-0001-0003.png', 'AP', '20200412'),\n",
       " ('496', '496-0-IM-0001-0001-0001.png', 'PA', '20170630'),\n",
       " ('496', '496-1-IM-0001-0001-0002.png', 'PA', '20170704'),\n",
       " ('496', '496-2-IM-0001-0002-0001.png', 'LL', '20170630'),\n",
       " ('496', '496-3-IM-0001-0002-0002.png', 'LL', '20170704'),\n",
       " ('496', '496-4-IM-0001-0001-0001.png', 'AP', '20200420'),\n",
       " ('496', '496-5-IM-0001-0001-0002.png', 'AP', '20200414'),\n",
       " ('50', '50-0-IM-0001-0001-0001.png', 'PA', '20200121'),\n",
       " ('50', '50-1-IM-0001-0001-0001.png', 'PA', '20200121'),\n",
       " ('50', '50-2-IM-0001-0001-0001.png', 'PA', '20191206'),\n",
       " ('50', '50-3-IM-0001-0001-0002.png', 'PA', '20191203'),\n",
       " ('50', '50-4-IM-0001-0001-0001.png', 'PA', '20200328'),\n",
       " ('50', '50-5-IM-0001-0002-0001.png', 'LL', '20200328'),\n",
       " ('50', '50-6-IM-0001-0001-0001.png', 'PA', '20191206'),\n",
       " ('50', '50-7-IM-0001-0001-0002.png', 'PA', '20191203'),\n",
       " ('51', '51-0-IM-0001-0001-0001.png', 'AP', '20200328'),\n",
       " ('51', '51-1-IM-0001-0001-0001.png', 'PA', '20140811'),\n",
       " ('51', '51-2-IM-0001-0001-0001.png', 'PA', '20140811'),\n",
       " ('51', '51-3-IM-0001-0001-0001.png', 'PA', '20200408'),\n",
       " ('51', '51-4-IM-0001-0002-0001.png', 'LL', '20200408'),\n",
       " ('52', '52-0-IM-0001-0001-0001.png', 'AP', '20180917'),\n",
       " ('52', '52-1-IM-0001-0001-0001.png', 'PA', '20181017'),\n",
       " ('52', '52-2-IM-0001-0001-0001.png', 'PA', '20181014'),\n",
       " ('52', '52-3-IM-0001-0001-0002.png', 'PA', '20150622'),\n",
       " ('52', '52-4-IM-0001-0002-0001.png', 'LL', '20181014'),\n",
       " ('52', '52-5-IM-0001-0002-0002.png', 'LL', '20150622'),\n",
       " ('52', '52-6-IM-0001-0001-0001.png', 'PA', '20181017'),\n",
       " ('52', '52-7-IM-0001-0001-0001.png', 'AP', '20200329'),\n",
       " ('53', '53-0-IM-0001-0001-0001.png', 'AP', '20200329'),\n",
       " ('54', '54-0-IM-0001-0001-0001.png', 'LL', '20170613'),\n",
       " ('54', '54-1-IM-0001-0002-0001.png', 'AP', '20170613'),\n",
       " ('54', '54-2-IM-0001-0001-0001.png', 'AP', '20200329'),\n",
       " ('54', '54-3-IM-0001-0001-0002.png', 'AP', '20200402'),\n",
       " ('55', '55-0-IM-0001-0001-0001.png', 'AP', '20200330'),\n",
       " ('56', '56-0-IM-0001-0001-0001.png', 'PA', '20200423'),\n",
       " ('56', '56-1-IM-0001-0002-0001.png', 'LL', '20200423'),\n",
       " ('56', '56-2-IM-0001-0001-0001.png', 'AP', '20200401'),\n",
       " ('56', '56-3-IM-0001-0001-0002.png', 'AP', '20200419'),\n",
       " ('56', '56-4-IM-0001-0001-0003.png', 'AP', '20200330'),\n",
       " ('57', '57-0-IM-0001-0001-0001.png', 'PA', '20191102'),\n",
       " ('57', '57-1-IM-0001-0001-0002.png', 'PA', '20191109'),\n",
       " ('57', '57-2-IM-0001-0002-0001.png', 'LL', '20191102'),\n",
       " ('57', '57-3-IM-0001-0002-0002.png', 'LL', '20191109'),\n",
       " ('57', '57-4-IM-0001-0001-0001.png', 'AP', '20191104'),\n",
       " ('57', '57-5-IM-0001-0001-0001.png', 'AP', '20200330'),\n",
       " ('57', '57-6-IM-0001-0001-0001.png', 'AP', '20191104'),\n",
       " ('57', '57-7-IM-0001-0001-0002.png', 'AP', '20200420'),\n",
       " ('58', '58-0-IM-0001-0001-0001.png', 'AP', '20200402'),\n",
       " ('58', '58-1-IM-0001-0001-0002.png', 'AP', '20200330'),\n",
       " ('59', '59-0-IM-0001-0001-0001.png', 'AP', '20200329'),\n",
       " ('60', '60-0-IM-0001-0001-0001.png', 'PA', '20200331'),\n",
       " ('60', '60-1-IM-0001-0002-0001.png', 'LL', '20200331'),\n",
       " ('61', '61-0-IM-0001-0001-0001.png', 'PA', '20200508'),\n",
       " ('61', '61-1-IM-0001-0002-0001.png', 'LL', '20200508'),\n",
       " ('61', '61-2-IM-0001-0001-0001.png', 'AP', '20200401'),\n",
       " ('62', '62-0-IM-0001-0001-0001.png', 'PA', '20180814'),\n",
       " ('62', '62-1-IM-0001-0001-0001.png', 'PA', '20181226'),\n",
       " ('62', '62-2-IM-0001-0001-0002.png', 'PA', '20160504'),\n",
       " ('62', '62-3-IM-0001-0001-0001.png', 'PA', '20181226'),\n",
       " ('62', '62-4-IM-0001-0001-0002.png', 'PA', '20180814'),\n",
       " ('62', '62-5-IM-0001-0001-0003.png', 'PA', '20160504'),\n",
       " ('62', '62-6-IM-0001-0001-0001.png', 'AP', '20200429'),\n",
       " ('62', '62-7-IM-0001-0001-0001.png', 'AP', '20200412'),\n",
       " ('62', '62-8-IM-0001-0001-0002.png', 'AP', '20200413'),\n",
       " ('62', '62-9-IM-0001-0001-0003.png', 'AP', '20200412'),\n",
       " ('62', '62-10-IM-0001-0001-0004.png', 'AP', '20200410'),\n",
       " ('62', '62-11-IM-0001-0001-0005.png', 'AP', '20200403'),\n",
       " ('62', '62-12-IM-0001-0001-0006.png', 'AP', '20200407'),\n",
       " ('63', '63-0-IM-0001-0001-0001.png', 'AP', '20200403'),\n",
       " ('64', '64-0-IM-0001-0001-0001.png', 'PA', '20200408'),\n",
       " ('64', '64-1-IM-0001-0002-0001.png', 'LL', '20200408'),\n",
       " ('65', '65-0-IM-0001-0001-0001.png', 'PA', '20131112'),\n",
       " ('65', '65-1-IM-0001-0001-0001.png', 'LL', '20131112'),\n",
       " ('65', '65-2-IM-0001-0001-0001.png', 'AP', '20200405'),\n",
       " ('66', '66-0-IM-0001-0001-0001.png', 'AP', '20191010'),\n",
       " ('66', '66-1-IM-0001-0002-0001.png', 'RLO', '20191010'),\n",
       " ('66', '66-2-IM-0001-0003-0001.png', 'AP', '20191010'),\n",
       " ('66', '66-3-IM-0001-0004-0001.png', 'RLO', '20191010'),\n",
       " ('66', '66-4-IM-0001-0001-0001.png', 'AP', '20191011'),\n",
       " ('66', '66-5-IM-0001-0001-0001.png', 'AP', '20200407'),\n",
       " ('66', '66-6-IM-0001-0001-0001.png', 'LL', '20191010'),\n",
       " ('66', '66-7-IM-0001-0002-0001.png', 'AP', '20191010'),\n",
       " ('67', '67-0-IM-0001-0001-0001.png', 'PA', '20200410'),\n",
       " ('67', '67-1-IM-0001-0001-0002.png', 'PA', '20200415'),\n",
       " ('67', '67-2-IM-0001-0002-0001.png', 'LL', '20200410'),\n",
       " ('67', '67-3-IM-0001-0002-0002.png', 'LL', '20200415'),\n",
       " ('67', '67-4-IM-0001-0001-0001.png', 'AP', '20200407'),\n",
       " ('68', '68-0-IM-0001-0001-0001.png', 'AP', '20200407'),\n",
       " ('69', '69-0-IM-0001-0001-0001.png', 'AP', '20200409'),\n",
       " ('69', '69-1-IM-0001-0001-0002.png', 'AP', '20191210'),\n",
       " ('69', '69-2-IM-0001-0001-0001.png', 'PA', '20191218'),\n",
       " ('69', '69-3-IM-0001-0001-0002.png', 'LL', '20191212'),\n",
       " ('69', '69-4-IM-0001-0002-0001.png', 'LL', '20191218'),\n",
       " ('69', '69-5-IM-0001-0002-0002.png', 'AP', '20191212'),\n",
       " ('7', '7-0-IM-0001-0001-0001.png', 'AP', '20190829'),\n",
       " ('7', '7-1-IM-0001-0001-0002.png', 'AP', '20200324'),\n",
       " ('7', '7-2-IM-0001-0001-0003.png', 'AP', '20200326'),\n",
       " ('7', '7-3-IM-0001-0001-0001.png', 'AP', '20171030'),\n",
       " ('70', '70-0-IM-0001-0001-0001.png', 'LL', '20170924'),\n",
       " ('70', '70-1-IM-0001-0001-0002.png', 'PA', '20160503'),\n",
       " ('70', '70-2-IM-0001-0002-0001.png', 'AP', '20170924'),\n",
       " ('70', '70-3-IM-0001-0002-0002.png', 'LL', '20160503'),\n",
       " ('70', '70-4-IM-0001-0001-0001.png', 'AP', '20200410'),\n",
       " ('70', '70-5-IM-0001-0001-0002.png', 'AP', '20200410'),\n",
       " ('70', '70-6-IM-0001-0001-0003.png', 'AP', '20200411'),\n",
       " ('70', '70-7-IM-0001-0001-0004.png', 'AP', '20200412'),\n",
       " ('70', '70-8-IM-0001-0001-0001.png', 'AP', '20170825'),\n",
       " ('71', '71-0-IM-0001-0001-0001.png', 'PA', '20180604'),\n",
       " ('71', '71-1-IM-0001-0001-0001.png', 'LL', '20180604'),\n",
       " ('71', '71-2-IM-0001-0001-0001.png', 'PA', '20190919'),\n",
       " ('71', '71-3-IM-0001-0001-0002.png', 'PA', '20171230'),\n",
       " ('71', '71-4-IM-0001-0001-0003.png', 'PA', '20180710'),\n",
       " ('71', '71-5-IM-0001-0002-0001.png', 'LL', '20190919'),\n",
       " ('71', '71-6-IM-0001-0002-0002.png', 'LL', '20171230'),\n",
       " ('71', '71-7-IM-0001-0002-0003.png', 'LL', '20180710'),\n",
       " ('71', '71-8-IM-0001-0001-0001.png', 'AP', '20200411'),\n",
       " ('72', '72-0-IM-0001-0001-0001.png', 'PA', '20200421'),\n",
       " ('72', '72-1-IM-0001-0001-0002.png', 'PA', '20200416'),\n",
       " ('72', '72-2-IM-0001-0002-0001.png', 'LL', '20200421'),\n",
       " ('72', '72-3-IM-0001-0002-0002.png', 'LL', '20200416'),\n",
       " ('72', '72-4-IM-0001-0001-0001.png', 'AP', '20200411'),\n",
       " ('72', '72-5-IM-0001-0001-0002.png', 'AP', '20200412'),\n",
       " ('73', '73-0-IM-0001-0001-0001.png', 'AP', '20200325'),\n",
       " ('73', '73-1-IM-0001-0001-0002.png', 'AP', '20200505'),\n",
       " ('73', '73-2-IM-0001-0001-0003.png', 'AP', '20200412'),\n",
       " ('73', '73-3-IM-0001-0001-0004.png', 'AP', '20200514'),\n",
       " ('73', '73-4-IM-0001-0001-0005.png', 'AP', '20200416'),\n",
       " ('73', '73-5-IM-0001-0001-0006.png', 'AP', '20200430'),\n",
       " ('73', '73-6-IM-0001-0001-0007.png', 'AP', '20200418'),\n",
       " ('73', '73-7-IM-0001-0001-0008.png', 'AP', '20200508'),\n",
       " ('73', '73-8-IM-0001-0001-0009.png', 'AP', '20200424'),\n",
       " ('73', '73-9-IM-0001-0001-0010.png', 'AP', '20200429'),\n",
       " ('73', '73-10-IM-0001-0001-0011.png', 'AP', '20200415'),\n",
       " ('74', '74-0-IM-0001-0001-0001.png', 'PA', '20190416'),\n",
       " ('74', '74-1-IM-0001-0001-0002.png', 'PA', '20190418'),\n",
       " ('74', '74-2-IM-0001-0001-0003.png', 'LL', '20161107'),\n",
       " ('74', '74-3-IM-0001-0002-0001.png', 'LL', '20190416'),\n",
       " ('74', '74-4-IM-0001-0002-0002.png', 'LL', '20190418'),\n",
       " ('74', '74-5-IM-0001-0002-0003.png', 'AP', '20161107'),\n",
       " ('74', '74-6-IM-0001-0001-0001.png', 'AP', '20200419'),\n",
       " ('74', '74-7-IM-0001-0001-0002.png', 'AP', '20190728'),\n",
       " ('74', '74-8-IM-0001-0001-0003.png', 'AP', '20200502'),\n",
       " ('74', '74-9-IM-0001-0001-0004.png', 'AP', '20200424'),\n",
       " ('74', '74-10-IM-0001-0001-0005.png', 'AP', '20200412'),\n",
       " ('74', '74-11-IM-0001-0001-0006.png', 'AP', '20200420'),\n",
       " ('74', '74-12-IM-0001-0001-0001.png', 'AP', '20190417'),\n",
       " ('74', '74-13-IM-0001-0001-0002.png', 'AP', '20190328'),\n",
       " ('75', '75-0-IM-0001-0001-0001.png', 'AP', '20200413'),\n",
       " ('76', '76-0-IM-0001-0001-0001.png', 'AP', '20200110'),\n",
       " ('76', '76-1-IM-0001-0001-0002.png', 'AP', '20200414'),\n",
       " ('76', '76-2-IM-0001-0001-0003.png', 'AP', '20200419'),\n",
       " ('77', '77-0-IM-0001-0001-0001.png', 'AP', '20200421'),\n",
       " ('77', '77-1-IM-0001-0001-0002.png', 'AP', '20200414'),\n",
       " ('77', '77-2-IM-0001-0001-0003.png', 'AP', '20200424'),\n",
       " ('77', '77-3-IM-0001-0001-0004.png', 'AP', '20200430'),\n",
       " ('77', '77-4-IM-0001-0001-0005.png', 'AP', '20200422'),\n",
       " ('77', '77-5-IM-0001-0001-0006.png', 'AP', '20200503'),\n",
       " ('77', '77-6-IM-0001-0001-0007.png', 'AP', '20200419'),\n",
       " ('77', '77-7-IM-0001-0001-0008.png', 'AP', '20200428'),\n",
       " ('77', '77-8-IM-0001-0001-0009.png', 'AP', '20200421'),\n",
       " ('77', '77-9-IM-0001-0001-0010.png', 'AP', '20200502'),\n",
       " ('77', '77-10-IM-0001-0001-0011.png', 'AP', '20200414'),\n",
       " ('78', '78-0-IM-0001-0001-0001.png', 'AP', '20200415'),\n",
       " ('78', '78-1-IM-0001-0001-0001.png', 'AP', '20200415'),\n",
       " ('78', '78-2-IM-0001-0001-0002.png', 'AP', '20200420'),\n",
       " ('78', '78-3-IM-0001-0001-0003.png', 'AP', '20200428'),\n",
       " ('78', '78-4-IM-0001-0001-0004.png', 'AP', '20200427'),\n",
       " ('79', '79-0-IM-0001-0001-0001.png', 'AP', '20200418'),\n",
       " ('79', '79-1-IM-0001-0001-0002.png', 'AP', '20200415'),\n",
       " ('8', '8-0-IM-0001-0001-0001.png', 'AP', '20200403'),\n",
       " ('8', '8-1-IM-0001-0001-0002.png', 'AP', '20200331'),\n",
       " ('8', '8-2-IM-0001-0001-0003.png', 'AP', '20200515'),\n",
       " ('9', '9-0-IM-0001-0001-0001.png', 'AP', '20200320'),\n",
       " ('9', '9-1-IM-0001-0001-0001.png', 'AP', '20200325'),\n",
       " ('9', '9-2-IM-0001-0001-0001.png', 'AP', '20200329'),\n",
       " ('9', '9-3-IM-0001-0001-0001.png', 'LL', '20200315'),\n",
       " ('9', '9-4-IM-0001-0002-0001.png', 'PA', '20200315'),\n",
       " ('96', '96-0-IM-0001-0001-0001.png', 'PA', '20200307'),\n",
       " ('96', '96-1-IM-0001-0002-0001.png', 'LL', '20200307')]"
      ]
     },
     "execution_count": 456,
     "metadata": {},
     "output_type": "execute_result"
    }
   ],
   "source": [
    "results_2"
   ]
  },
  {
   "cell_type": "code",
   "execution_count": null,
   "metadata": {
    "hidden": true
   },
   "outputs": [],
   "source": []
  },
  {
   "cell_type": "markdown",
   "metadata": {},
   "source": [
    "#### DF with image information"
   ]
  },
  {
   "cell_type": "code",
   "execution_count": 491,
   "metadata": {},
   "outputs": [
    {
     "data": {
      "text/html": [
       "<div>\n",
       "<style scoped>\n",
       "    .dataframe tbody tr th:only-of-type {\n",
       "        vertical-align: middle;\n",
       "    }\n",
       "\n",
       "    .dataframe tbody tr th {\n",
       "        vertical-align: top;\n",
       "    }\n",
       "\n",
       "    .dataframe thead th {\n",
       "        text-align: right;\n",
       "    }\n",
       "</style>\n",
       "<table border=\"1\" class=\"dataframe\">\n",
       "  <thead>\n",
       "    <tr style=\"text-align: right;\">\n",
       "      <th></th>\n",
       "      <th>ID</th>\n",
       "      <th>image_name</th>\n",
       "      <th>view</th>\n",
       "      <th>date</th>\n",
       "    </tr>\n",
       "  </thead>\n",
       "  <tbody>\n",
       "    <tr>\n",
       "      <th>0</th>\n",
       "      <td>1</td>\n",
       "      <td>1-0-IM-0001-0001-0001.png</td>\n",
       "      <td>PA</td>\n",
       "      <td>2020-03-04</td>\n",
       "    </tr>\n",
       "    <tr>\n",
       "      <th>1</th>\n",
       "      <td>1</td>\n",
       "      <td>1-1-IM-0001-0002-0001.png</td>\n",
       "      <td>LL</td>\n",
       "      <td>2020-03-04</td>\n",
       "    </tr>\n",
       "    <tr>\n",
       "      <th>2</th>\n",
       "      <td>100</td>\n",
       "      <td>100-0-IM-0001-0001-0001.png</td>\n",
       "      <td>PA</td>\n",
       "      <td>2020-03-08</td>\n",
       "    </tr>\n",
       "    <tr>\n",
       "      <th>3</th>\n",
       "      <td>100</td>\n",
       "      <td>100-1-IM-0001-0002-0001.png</td>\n",
       "      <td>LL</td>\n",
       "      <td>2020-03-08</td>\n",
       "    </tr>\n",
       "    <tr>\n",
       "      <th>4</th>\n",
       "      <td>101</td>\n",
       "      <td>101-0-IM-0001-0001-0001.png</td>\n",
       "      <td>AP</td>\n",
       "      <td>2020-03-08</td>\n",
       "    </tr>\n",
       "  </tbody>\n",
       "</table>\n",
       "</div>"
      ],
      "text/plain": [
       "    ID                   image_name view        date\n",
       "0    1    1-0-IM-0001-0001-0001.png   PA  2020-03-04\n",
       "1    1    1-1-IM-0001-0002-0001.png   LL  2020-03-04\n",
       "2  100  100-0-IM-0001-0001-0001.png   PA  2020-03-08\n",
       "3  100  100-1-IM-0001-0002-0001.png   LL  2020-03-08\n",
       "4  101  101-0-IM-0001-0001-0001.png   AP  2020-03-08"
      ]
     },
     "execution_count": 491,
     "metadata": {},
     "output_type": "execute_result"
    }
   ],
   "source": [
    "columns = ['ID', 'image_name', 'view', 'date']\n",
    "\n",
    "image_df_anon_3 = pd.DataFrame(results_anon_3, columns=columns)\n",
    "image_df_anon_3.head()"
   ]
  },
  {
   "cell_type": "code",
   "execution_count": 492,
   "metadata": {},
   "outputs": [
    {
     "data": {
      "text/html": [
       "<div>\n",
       "<style scoped>\n",
       "    .dataframe tbody tr th:only-of-type {\n",
       "        vertical-align: middle;\n",
       "    }\n",
       "\n",
       "    .dataframe tbody tr th {\n",
       "        vertical-align: top;\n",
       "    }\n",
       "\n",
       "    .dataframe thead th {\n",
       "        text-align: right;\n",
       "    }\n",
       "</style>\n",
       "<table border=\"1\" class=\"dataframe\">\n",
       "  <thead>\n",
       "    <tr style=\"text-align: right;\">\n",
       "      <th></th>\n",
       "      <th>ID</th>\n",
       "      <th>image_name</th>\n",
       "      <th>view</th>\n",
       "      <th>date</th>\n",
       "    </tr>\n",
       "  </thead>\n",
       "  <tbody>\n",
       "    <tr>\n",
       "      <th>0</th>\n",
       "      <td>10</td>\n",
       "      <td>10-0-IM-0001-0001-0001.png</td>\n",
       "      <td>AP</td>\n",
       "      <td>2020-04-13</td>\n",
       "    </tr>\n",
       "    <tr>\n",
       "      <th>1</th>\n",
       "      <td>10</td>\n",
       "      <td>10-1-IM-0001-0001-0001.png</td>\n",
       "      <td>AP</td>\n",
       "      <td>2020-05-02</td>\n",
       "    </tr>\n",
       "    <tr>\n",
       "      <th>2</th>\n",
       "      <td>10</td>\n",
       "      <td>10-2-IM-0001-0001-0002.png</td>\n",
       "      <td>AP</td>\n",
       "      <td>2020-04-06</td>\n",
       "    </tr>\n",
       "    <tr>\n",
       "      <th>3</th>\n",
       "      <td>10</td>\n",
       "      <td>10-3-IM-0001-0001-0003.png</td>\n",
       "      <td>AP</td>\n",
       "      <td>2020-04-18</td>\n",
       "    </tr>\n",
       "    <tr>\n",
       "      <th>4</th>\n",
       "      <td>10</td>\n",
       "      <td>10-4-IM-0001-0001-0004.png</td>\n",
       "      <td>AP</td>\n",
       "      <td>2020-04-23</td>\n",
       "    </tr>\n",
       "  </tbody>\n",
       "</table>\n",
       "</div>"
      ],
      "text/plain": [
       "   ID                  image_name view        date\n",
       "0  10  10-0-IM-0001-0001-0001.png   AP  2020-04-13\n",
       "1  10  10-1-IM-0001-0001-0001.png   AP  2020-05-02\n",
       "2  10  10-2-IM-0001-0001-0002.png   AP  2020-04-06\n",
       "3  10  10-3-IM-0001-0001-0003.png   AP  2020-04-18\n",
       "4  10  10-4-IM-0001-0001-0004.png   AP  2020-04-23"
      ]
     },
     "execution_count": 492,
     "metadata": {},
     "output_type": "execute_result"
    }
   ],
   "source": [
    "image_df_test_anon = pd.DataFrame(results_test_anon, columns=columns)\n",
    "image_df_test_anon.head()"
   ]
  },
  {
   "cell_type": "code",
   "execution_count": 502,
   "metadata": {},
   "outputs": [
    {
     "data": {
      "text/plain": [
       "set()"
      ]
     },
     "execution_count": 502,
     "metadata": {},
     "output_type": "execute_result"
    }
   ],
   "source": [
    "set(image_df_test_anon['image_name']).intersection(image_df_anon_3['image_name'])"
   ]
  },
  {
   "cell_type": "code",
   "execution_count": 499,
   "metadata": {},
   "outputs": [
    {
     "data": {
      "text/plain": [
       "(679, 618)"
      ]
     },
     "execution_count": 499,
     "metadata": {},
     "output_type": "execute_result"
    }
   ],
   "source": [
    "len(image_df_anon_3), len(image_df_test_anon)"
   ]
  },
  {
   "cell_type": "code",
   "execution_count": 501,
   "metadata": {},
   "outputs": [
    {
     "name": "stdout",
     "output_type": "stream",
     "text": [
      "1297\n"
     ]
    },
    {
     "data": {
      "text/html": [
       "<div>\n",
       "<style scoped>\n",
       "    .dataframe tbody tr th:only-of-type {\n",
       "        vertical-align: middle;\n",
       "    }\n",
       "\n",
       "    .dataframe tbody tr th {\n",
       "        vertical-align: top;\n",
       "    }\n",
       "\n",
       "    .dataframe thead th {\n",
       "        text-align: right;\n",
       "    }\n",
       "</style>\n",
       "<table border=\"1\" class=\"dataframe\">\n",
       "  <thead>\n",
       "    <tr style=\"text-align: right;\">\n",
       "      <th></th>\n",
       "      <th>ID</th>\n",
       "      <th>image_name</th>\n",
       "      <th>view</th>\n",
       "      <th>date</th>\n",
       "    </tr>\n",
       "  </thead>\n",
       "  <tbody>\n",
       "    <tr>\n",
       "      <th>0</th>\n",
       "      <td>1</td>\n",
       "      <td>1-0-IM-0001-0001-0001.png</td>\n",
       "      <td>PA</td>\n",
       "      <td>2020-03-04</td>\n",
       "    </tr>\n",
       "    <tr>\n",
       "      <th>1</th>\n",
       "      <td>1</td>\n",
       "      <td>1-1-IM-0001-0002-0001.png</td>\n",
       "      <td>LL</td>\n",
       "      <td>2020-03-04</td>\n",
       "    </tr>\n",
       "    <tr>\n",
       "      <th>2</th>\n",
       "      <td>100</td>\n",
       "      <td>100-0-IM-0001-0001-0001.png</td>\n",
       "      <td>PA</td>\n",
       "      <td>2020-03-08</td>\n",
       "    </tr>\n",
       "    <tr>\n",
       "      <th>3</th>\n",
       "      <td>100</td>\n",
       "      <td>100-1-IM-0001-0002-0001.png</td>\n",
       "      <td>LL</td>\n",
       "      <td>2020-03-08</td>\n",
       "    </tr>\n",
       "    <tr>\n",
       "      <th>4</th>\n",
       "      <td>101</td>\n",
       "      <td>101-0-IM-0001-0001-0001.png</td>\n",
       "      <td>AP</td>\n",
       "      <td>2020-03-08</td>\n",
       "    </tr>\n",
       "  </tbody>\n",
       "</table>\n",
       "</div>"
      ],
      "text/plain": [
       "    ID                   image_name view        date\n",
       "0    1    1-0-IM-0001-0001-0001.png   PA  2020-03-04\n",
       "1    1    1-1-IM-0001-0002-0001.png   LL  2020-03-04\n",
       "2  100  100-0-IM-0001-0001-0001.png   PA  2020-03-08\n",
       "3  100  100-1-IM-0001-0002-0001.png   LL  2020-03-08\n",
       "4  101  101-0-IM-0001-0001-0001.png   AP  2020-03-08"
      ]
     },
     "execution_count": 501,
     "metadata": {},
     "output_type": "execute_result"
    }
   ],
   "source": [
    "image_df = image_df_anon_3.append(image_df_test_anon)\n",
    "print(len(image_df))\n",
    "image_df.head()"
   ]
  },
  {
   "cell_type": "code",
   "execution_count": null,
   "metadata": {},
   "outputs": [],
   "source": []
  },
  {
   "cell_type": "markdown",
   "metadata": {
    "heading_collapsed": true
   },
   "source": [
    "##### Solve empty views"
   ]
  },
  {
   "cell_type": "code",
   "execution_count": 507,
   "metadata": {
    "hidden": true
   },
   "outputs": [
    {
     "name": "stdout",
     "output_type": "stream",
     "text": [
      "\n"
     ]
    },
    {
     "data": {
      "text/html": [
       "<div>\n",
       "<style scoped>\n",
       "    .dataframe tbody tr th:only-of-type {\n",
       "        vertical-align: middle;\n",
       "    }\n",
       "\n",
       "    .dataframe tbody tr th {\n",
       "        vertical-align: top;\n",
       "    }\n",
       "\n",
       "    .dataframe thead th {\n",
       "        text-align: right;\n",
       "    }\n",
       "</style>\n",
       "<table border=\"1\" class=\"dataframe\">\n",
       "  <thead>\n",
       "    <tr style=\"text-align: right;\">\n",
       "      <th></th>\n",
       "      <th>ID</th>\n",
       "      <th>image_name</th>\n",
       "      <th>view</th>\n",
       "      <th>date</th>\n",
       "    </tr>\n",
       "  </thead>\n",
       "  <tbody>\n",
       "  </tbody>\n",
       "</table>\n",
       "</div>"
      ],
      "text/plain": [
       "Empty DataFrame\n",
       "Columns: [ID, image_name, view, date]\n",
       "Index: []"
      ]
     },
     "execution_count": 507,
     "metadata": {},
     "output_type": "execute_result"
    }
   ],
   "source": [
    "empty_view = image_df.loc[image_df['view'] == '']\n",
    "print(' '.join(s for s in empty_view['image_name']))\n",
    "empty_view"
   ]
  },
  {
   "cell_type": "code",
   "execution_count": 508,
   "metadata": {
    "hidden": true
   },
   "outputs": [
    {
     "name": "stdout",
     "output_type": "stream",
     "text": [
      "185_2-1-IM-0001-0002-0001.png 414-1-IM-0001-0002-0001.png 582-1-IM-0001-0002-0001.png 616-1-IM-0001-0002-0001.png 245-2-IM-0001-0003-0001.png\n"
     ]
    },
    {
     "data": {
      "text/html": [
       "<div>\n",
       "<style scoped>\n",
       "    .dataframe tbody tr th:only-of-type {\n",
       "        vertical-align: middle;\n",
       "    }\n",
       "\n",
       "    .dataframe tbody tr th {\n",
       "        vertical-align: top;\n",
       "    }\n",
       "\n",
       "    .dataframe thead th {\n",
       "        text-align: right;\n",
       "    }\n",
       "</style>\n",
       "<table border=\"1\" class=\"dataframe\">\n",
       "  <thead>\n",
       "    <tr style=\"text-align: right;\">\n",
       "      <th></th>\n",
       "      <th>ID</th>\n",
       "      <th>image_name</th>\n",
       "      <th>view</th>\n",
       "      <th>date</th>\n",
       "    </tr>\n",
       "  </thead>\n",
       "  <tbody>\n",
       "    <tr>\n",
       "      <th>80</th>\n",
       "      <td>185_2</td>\n",
       "      <td>185_2-1-IM-0001-0002-0001.png</td>\n",
       "      <td>RL</td>\n",
       "      <td>2020-03-26</td>\n",
       "    </tr>\n",
       "    <tr>\n",
       "      <th>311</th>\n",
       "      <td>414</td>\n",
       "      <td>414-1-IM-0001-0002-0001.png</td>\n",
       "      <td>RL</td>\n",
       "      <td>2020-04-05</td>\n",
       "    </tr>\n",
       "    <tr>\n",
       "      <th>539</th>\n",
       "      <td>582</td>\n",
       "      <td>582-1-IM-0001-0002-0001.png</td>\n",
       "      <td>RL</td>\n",
       "      <td>2020-04-14</td>\n",
       "    </tr>\n",
       "    <tr>\n",
       "      <th>604</th>\n",
       "      <td>616</td>\n",
       "      <td>616-1-IM-0001-0002-0001.png</td>\n",
       "      <td>RL</td>\n",
       "      <td>2020-03-09</td>\n",
       "    </tr>\n",
       "    <tr>\n",
       "      <th>256</th>\n",
       "      <td>245</td>\n",
       "      <td>245-2-IM-0001-0003-0001.png</td>\n",
       "      <td>RL</td>\n",
       "      <td>2020-05-15</td>\n",
       "    </tr>\n",
       "  </tbody>\n",
       "</table>\n",
       "</div>"
      ],
      "text/plain": [
       "        ID                     image_name view        date\n",
       "80   185_2  185_2-1-IM-0001-0002-0001.png   RL  2020-03-26\n",
       "311    414    414-1-IM-0001-0002-0001.png   RL  2020-04-05\n",
       "539    582    582-1-IM-0001-0002-0001.png   RL  2020-04-14\n",
       "604    616    616-1-IM-0001-0002-0001.png   RL  2020-03-09\n",
       "256    245    245-2-IM-0001-0003-0001.png   RL  2020-05-15"
      ]
     },
     "execution_count": 508,
     "metadata": {},
     "output_type": "execute_result"
    }
   ],
   "source": [
    "rl_view = image_df.loc[image_df['view'] == 'RL']\n",
    "print(' '.join(s for s in rl_view['image_name']))\n",
    "rl_view"
   ]
  },
  {
   "cell_type": "code",
   "execution_count": 261,
   "metadata": {
    "hidden": true
   },
   "outputs": [
    {
     "data": {
      "text/plain": [
       "Counter({'': 5, 'AP': 155, 'LL': 239, 'PA': 276, 'RL': 4})"
      ]
     },
     "execution_count": 261,
     "metadata": {},
     "output_type": "execute_result"
    }
   ],
   "source": [
    "Counter(image_df['view'])"
   ]
  },
  {
   "cell_type": "code",
   "execution_count": null,
   "metadata": {
    "hidden": true
   },
   "outputs": [],
   "source": []
  },
  {
   "cell_type": "markdown",
   "metadata": {
    "heading_collapsed": true
   },
   "source": [
    "##### Solve repeated images"
   ]
  },
  {
   "cell_type": "code",
   "execution_count": 509,
   "metadata": {
    "hidden": true
   },
   "outputs": [
    {
     "data": {
      "text/plain": [
       "[]"
      ]
     },
     "execution_count": 509,
     "metadata": {},
     "output_type": "execute_result"
    }
   ],
   "source": [
    "[(k, v) for (k, v) in Counter(image_df['image_name']).items() if v > 1]"
   ]
  },
  {
   "cell_type": "markdown",
   "metadata": {
    "heading_collapsed": true
   },
   "source": [
    "##### Check same patients"
   ]
  },
  {
   "cell_type": "code",
   "execution_count": 510,
   "metadata": {
    "hidden": true
   },
   "outputs": [
    {
     "data": {
      "text/html": [
       "<div>\n",
       "<style scoped>\n",
       "    .dataframe tbody tr th:only-of-type {\n",
       "        vertical-align: middle;\n",
       "    }\n",
       "\n",
       "    .dataframe tbody tr th {\n",
       "        vertical-align: top;\n",
       "    }\n",
       "\n",
       "    .dataframe thead th {\n",
       "        text-align: right;\n",
       "    }\n",
       "</style>\n",
       "<table border=\"1\" class=\"dataframe\">\n",
       "  <thead>\n",
       "    <tr style=\"text-align: right;\">\n",
       "      <th></th>\n",
       "      <th>ID</th>\n",
       "      <th>image_name</th>\n",
       "      <th>view</th>\n",
       "      <th>date</th>\n",
       "    </tr>\n",
       "  </thead>\n",
       "  <tbody>\n",
       "    <tr>\n",
       "      <th>259</th>\n",
       "      <td>37</td>\n",
       "      <td>37-0-IM-0001-0001-0001.png</td>\n",
       "      <td>AP</td>\n",
       "      <td>2020-03-10</td>\n",
       "    </tr>\n",
       "    <tr>\n",
       "      <th>260</th>\n",
       "      <td>371</td>\n",
       "      <td>371-0-IM-0001-0001-0001.png</td>\n",
       "      <td>PA</td>\n",
       "      <td>2020-03-24</td>\n",
       "    </tr>\n",
       "    <tr>\n",
       "      <th>261</th>\n",
       "      <td>371</td>\n",
       "      <td>371-1-IM-0001-0002-0001.png</td>\n",
       "      <td>LL</td>\n",
       "      <td>2020-03-24</td>\n",
       "    </tr>\n",
       "    <tr>\n",
       "      <th>262</th>\n",
       "      <td>375</td>\n",
       "      <td>375-0-IM-0001-0001-0001.png</td>\n",
       "      <td>PA</td>\n",
       "      <td>2020-03-25</td>\n",
       "    </tr>\n",
       "    <tr>\n",
       "      <th>263</th>\n",
       "      <td>375</td>\n",
       "      <td>375-1-IM-0001-0002-0001.png</td>\n",
       "      <td>LL</td>\n",
       "      <td>2020-03-25</td>\n",
       "    </tr>\n",
       "    <tr>\n",
       "      <th>264</th>\n",
       "      <td>376</td>\n",
       "      <td>376-0-IM-0001-0001-0001.png</td>\n",
       "      <td>LL</td>\n",
       "      <td>2020-03-25</td>\n",
       "    </tr>\n",
       "    <tr>\n",
       "      <th>265</th>\n",
       "      <td>376</td>\n",
       "      <td>376-1-IM-0001-0002-0001.png</td>\n",
       "      <td>PA</td>\n",
       "      <td>2020-03-25</td>\n",
       "    </tr>\n",
       "    <tr>\n",
       "      <th>266</th>\n",
       "      <td>37_2</td>\n",
       "      <td>37_2-0-IM-0001-0001-0001.png</td>\n",
       "      <td>AP</td>\n",
       "      <td>2020-03-21</td>\n",
       "    </tr>\n",
       "    <tr>\n",
       "      <th>298</th>\n",
       "      <td>37</td>\n",
       "      <td>37-1-IM-0001-0001-0001.png</td>\n",
       "      <td>PA</td>\n",
       "      <td>2019-06-19</td>\n",
       "    </tr>\n",
       "    <tr>\n",
       "      <th>299</th>\n",
       "      <td>37</td>\n",
       "      <td>37-2-IM-0001-0001-0001.png</td>\n",
       "      <td>PA</td>\n",
       "      <td>2019-06-19</td>\n",
       "    </tr>\n",
       "    <tr>\n",
       "      <th>300</th>\n",
       "      <td>37</td>\n",
       "      <td>37-3-IM-0001-0001-0001.png</td>\n",
       "      <td>AP</td>\n",
       "      <td>2019-06-17</td>\n",
       "    </tr>\n",
       "    <tr>\n",
       "      <th>301</th>\n",
       "      <td>37</td>\n",
       "      <td>37-4-IM-0001-0001-0002.png</td>\n",
       "      <td>AP</td>\n",
       "      <td>2019-06-26</td>\n",
       "    </tr>\n",
       "    <tr>\n",
       "      <th>302</th>\n",
       "      <td>37</td>\n",
       "      <td>37-5-IM-0001-0001-0003.png</td>\n",
       "      <td>AP</td>\n",
       "      <td>2020-03-10</td>\n",
       "    </tr>\n",
       "    <tr>\n",
       "      <th>303</th>\n",
       "      <td>37</td>\n",
       "      <td>37-6-IM-0001-0001-0004.png</td>\n",
       "      <td>AP</td>\n",
       "      <td>2020-03-21</td>\n",
       "    </tr>\n",
       "  </tbody>\n",
       "</table>\n",
       "</div>"
      ],
      "text/plain": [
       "       ID                    image_name view        date\n",
       "259    37    37-0-IM-0001-0001-0001.png   AP  2020-03-10\n",
       "260   371   371-0-IM-0001-0001-0001.png   PA  2020-03-24\n",
       "261   371   371-1-IM-0001-0002-0001.png   LL  2020-03-24\n",
       "262   375   375-0-IM-0001-0001-0001.png   PA  2020-03-25\n",
       "263   375   375-1-IM-0001-0002-0001.png   LL  2020-03-25\n",
       "264   376   376-0-IM-0001-0001-0001.png   LL  2020-03-25\n",
       "265   376   376-1-IM-0001-0002-0001.png   PA  2020-03-25\n",
       "266  37_2  37_2-0-IM-0001-0001-0001.png   AP  2020-03-21\n",
       "298    37    37-1-IM-0001-0001-0001.png   PA  2019-06-19\n",
       "299    37    37-2-IM-0001-0001-0001.png   PA  2019-06-19\n",
       "300    37    37-3-IM-0001-0001-0001.png   AP  2019-06-17\n",
       "301    37    37-4-IM-0001-0001-0002.png   AP  2019-06-26\n",
       "302    37    37-5-IM-0001-0001-0003.png   AP  2020-03-10\n",
       "303    37    37-6-IM-0001-0001-0004.png   AP  2020-03-21"
      ]
     },
     "execution_count": 510,
     "metadata": {},
     "output_type": "execute_result"
    }
   ],
   "source": [
    "image_df.loc[image_df['ID'].str.startswith('37')]"
   ]
  },
  {
   "cell_type": "code",
   "execution_count": 473,
   "metadata": {
    "collapsed": true,
    "hidden": true
   },
   "outputs": [
    {
     "data": {
      "text/plain": [
       "Counter({'10': 11,\n",
       "         '104': 2,\n",
       "         '106': 2,\n",
       "         '11': 2,\n",
       "         '113': 3,\n",
       "         '116': 3,\n",
       "         '118': 1,\n",
       "         '119': 1,\n",
       "         '122': 2,\n",
       "         '124': 2,\n",
       "         '125': 2,\n",
       "         '126': 3,\n",
       "         '127': 4,\n",
       "         '13': 2,\n",
       "         '133': 7,\n",
       "         '134': 2,\n",
       "         '135': 5,\n",
       "         '136': 1,\n",
       "         '137': 3,\n",
       "         '138': 3,\n",
       "         '14': 7,\n",
       "         '140': 3,\n",
       "         '142': 3,\n",
       "         '144': 1,\n",
       "         '145': 3,\n",
       "         '146': 1,\n",
       "         '148': 1,\n",
       "         '149': 8,\n",
       "         '150': 1,\n",
       "         '152': 1,\n",
       "         '154': 1,\n",
       "         '155': 1,\n",
       "         '156': 3,\n",
       "         '157': 3,\n",
       "         '159': 1,\n",
       "         '16': 2,\n",
       "         '160': 1,\n",
       "         '161': 1,\n",
       "         '162': 2,\n",
       "         '163': 4,\n",
       "         '165': 1,\n",
       "         '166': 1,\n",
       "         '167': 6,\n",
       "         '168': 3,\n",
       "         '169': 8,\n",
       "         '172': 1,\n",
       "         '173': 1,\n",
       "         '174': 5,\n",
       "         '176': 1,\n",
       "         '178': 5,\n",
       "         '179': 7,\n",
       "         '180': 3,\n",
       "         '182': 1,\n",
       "         '184': 1,\n",
       "         '186': 2,\n",
       "         '187': 9,\n",
       "         '189': 3,\n",
       "         '190': 1,\n",
       "         '191': 3,\n",
       "         '192': 1,\n",
       "         '193': 1,\n",
       "         '194': 3,\n",
       "         '195': 1,\n",
       "         '196': 1,\n",
       "         '197': 1,\n",
       "         '198': 1,\n",
       "         '199': 3,\n",
       "         '2': 1,\n",
       "         '200': 3,\n",
       "         '201': 1,\n",
       "         '202': 3,\n",
       "         '204': 1,\n",
       "         '205': 1,\n",
       "         '206': 1,\n",
       "         '207': 1,\n",
       "         '208': 5,\n",
       "         '209': 1,\n",
       "         '210': 4,\n",
       "         '212': 1,\n",
       "         '213': 1,\n",
       "         '214': 6,\n",
       "         '215': 3,\n",
       "         '216': 1,\n",
       "         '218': 5,\n",
       "         '219': 3,\n",
       "         '220': 1,\n",
       "         '221': 3,\n",
       "         '222': 1,\n",
       "         '223': 1,\n",
       "         '224': 3,\n",
       "         '225': 1,\n",
       "         '226': 1,\n",
       "         '227': 1,\n",
       "         '228': 1,\n",
       "         '229': 1,\n",
       "         '230': 1,\n",
       "         '231': 1,\n",
       "         '232': 3,\n",
       "         '233': 1,\n",
       "         '234': 1,\n",
       "         '235': 1,\n",
       "         '236': 1,\n",
       "         '238': 1,\n",
       "         '240': 1,\n",
       "         '241': 1,\n",
       "         '242': 1,\n",
       "         '243': 1,\n",
       "         '244': 1,\n",
       "         '245': 6,\n",
       "         '246': 2,\n",
       "         '247': 1,\n",
       "         '248': 2,\n",
       "         '249': 1,\n",
       "         '250': 2,\n",
       "         '251': 1,\n",
       "         '252': 1,\n",
       "         '261': 5,\n",
       "         '269': 2,\n",
       "         '296': 1,\n",
       "         '3': 3,\n",
       "         '33': 2,\n",
       "         '348': 1,\n",
       "         '349': 1,\n",
       "         '35': 2,\n",
       "         '36': 8,\n",
       "         '363': 2,\n",
       "         '365': 1,\n",
       "         '37': 6,\n",
       "         '38': 13,\n",
       "         '39': 1,\n",
       "         '395': 2,\n",
       "         '4': 2,\n",
       "         '40': 9,\n",
       "         '42': 3,\n",
       "         '425': 4,\n",
       "         '43': 6,\n",
       "         '44': 2,\n",
       "         '455': 6,\n",
       "         '46': 4,\n",
       "         '47': 2,\n",
       "         '472': 9,\n",
       "         '473': 8,\n",
       "         '474': 3,\n",
       "         '476': 2,\n",
       "         '477': 3,\n",
       "         '478': 5,\n",
       "         '479': 3,\n",
       "         '48': 1,\n",
       "         '480': 5,\n",
       "         '481': 5,\n",
       "         '482': 5,\n",
       "         '483': 2,\n",
       "         '484': 4,\n",
       "         '485': 2,\n",
       "         '486': 6,\n",
       "         '489': 1,\n",
       "         '49': 2,\n",
       "         '490': 1,\n",
       "         '491': 3,\n",
       "         '492': 5,\n",
       "         '493': 1,\n",
       "         '494': 3,\n",
       "         '495': 3,\n",
       "         '496': 6,\n",
       "         '50': 8,\n",
       "         '51': 5,\n",
       "         '52': 8,\n",
       "         '53': 1,\n",
       "         '54': 4,\n",
       "         '55': 1,\n",
       "         '56': 5,\n",
       "         '57': 8,\n",
       "         '58': 2,\n",
       "         '59': 1,\n",
       "         '60': 2,\n",
       "         '61': 3,\n",
       "         '62': 13,\n",
       "         '63': 1,\n",
       "         '64': 2,\n",
       "         '65': 3,\n",
       "         '66': 8,\n",
       "         '67': 5,\n",
       "         '68': 1,\n",
       "         '69': 6,\n",
       "         '7': 4,\n",
       "         '70': 9,\n",
       "         '71': 9,\n",
       "         '72': 6,\n",
       "         '73': 11,\n",
       "         '74': 14,\n",
       "         '75': 1,\n",
       "         '76': 3,\n",
       "         '77': 11,\n",
       "         '78': 5,\n",
       "         '79': 2,\n",
       "         '8': 3,\n",
       "         '9': 5,\n",
       "         '96': 2})"
      ]
     },
     "execution_count": 473,
     "metadata": {},
     "output_type": "execute_result"
    }
   ],
   "source": [
    "Counter(image_df['ID'])"
   ]
  },
  {
   "cell_type": "code",
   "execution_count": null,
   "metadata": {
    "hidden": true
   },
   "outputs": [],
   "source": []
  },
  {
   "cell_type": "markdown",
   "metadata": {},
   "source": [
    "#### Merge with labels"
   ]
  },
  {
   "cell_type": "code",
   "execution_count": 511,
   "metadata": {},
   "outputs": [
    {
     "data": {
      "text/html": [
       "<div>\n",
       "<style scoped>\n",
       "    .dataframe tbody tr th:only-of-type {\n",
       "        vertical-align: middle;\n",
       "    }\n",
       "\n",
       "    .dataframe tbody tr th {\n",
       "        vertical-align: top;\n",
       "    }\n",
       "\n",
       "    .dataframe thead th {\n",
       "        text-align: right;\n",
       "    }\n",
       "</style>\n",
       "<table border=\"1\" class=\"dataframe\">\n",
       "  <thead>\n",
       "    <tr style=\"text-align: right;\">\n",
       "      <th></th>\n",
       "      <th>ID</th>\n",
       "      <th>Fecha consulta SU</th>\n",
       "      <th>Resultado consenso BSTI</th>\n",
       "    </tr>\n",
       "  </thead>\n",
       "  <tbody>\n",
       "    <tr>\n",
       "      <th>0</th>\n",
       "      <td>1</td>\n",
       "      <td>2020-03-04</td>\n",
       "      <td>Indeterminado</td>\n",
       "    </tr>\n",
       "    <tr>\n",
       "      <th>1</th>\n",
       "      <td>2</td>\n",
       "      <td>2020-04-03</td>\n",
       "      <td>Indeterminado</td>\n",
       "    </tr>\n",
       "    <tr>\n",
       "      <th>2</th>\n",
       "      <td>3</td>\n",
       "      <td>2020-04-13</td>\n",
       "      <td>Indeterminado</td>\n",
       "    </tr>\n",
       "    <tr>\n",
       "      <th>3</th>\n",
       "      <td>4</td>\n",
       "      <td>2020-04-16</td>\n",
       "      <td>Indeterminado</td>\n",
       "    </tr>\n",
       "    <tr>\n",
       "      <th>4</th>\n",
       "      <td>5</td>\n",
       "      <td>2020-03-26</td>\n",
       "      <td>Indeterminado</td>\n",
       "    </tr>\n",
       "  </tbody>\n",
       "</table>\n",
       "</div>"
      ],
      "text/plain": [
       "  ID Fecha consulta SU Resultado consenso BSTI\n",
       "0  1        2020-03-04           Indeterminado\n",
       "1  2        2020-04-03           Indeterminado\n",
       "2  3        2020-04-13           Indeterminado\n",
       "3  4        2020-04-16           Indeterminado\n",
       "4  5        2020-03-26           Indeterminado"
      ]
     },
     "execution_count": 511,
     "metadata": {},
     "output_type": "execute_result"
    }
   ],
   "source": [
    "cols = ['ID', 'Fecha consulta SU', 'Resultado consenso BSTI']\n",
    "labels_df = main_df[cols]\n",
    "labels_df.head()"
   ]
  },
  {
   "cell_type": "markdown",
   "metadata": {},
   "source": [
    "##### Fix: use str types for ease of merge"
   ]
  },
  {
   "cell_type": "code",
   "execution_count": 512,
   "metadata": {
    "collapsed": true
   },
   "outputs": [
    {
     "name": "stderr",
     "output_type": "stream",
     "text": [
      "/home/pdpino/medical-report-generation/pyenv2.7/lib/python2.7/site-packages/ipykernel_launcher.py:1: SettingWithCopyWarning: \n",
      "A value is trying to be set on a copy of a slice from a DataFrame.\n",
      "Try using .loc[row_indexer,col_indexer] = value instead\n",
      "\n",
      "See the caveats in the documentation: http://pandas.pydata.org/pandas-docs/stable/indexing.html#indexing-view-versus-copy\n",
      "  \"\"\"Entry point for launching an IPython kernel.\n",
      "/home/pdpino/medical-report-generation/pyenv2.7/lib/python2.7/site-packages/ipykernel_launcher.py:2: SettingWithCopyWarning: \n",
      "A value is trying to be set on a copy of a slice from a DataFrame.\n",
      "Try using .loc[row_indexer,col_indexer] = value instead\n",
      "\n",
      "See the caveats in the documentation: http://pandas.pydata.org/pandas-docs/stable/indexing.html#indexing-view-versus-copy\n",
      "  \n"
     ]
    },
    {
     "data": {
      "text/plain": [
       "dtype('O')"
      ]
     },
     "execution_count": 512,
     "metadata": {},
     "output_type": "execute_result"
    }
   ],
   "source": [
    "labels_df['date'] = labels_df['Fecha consulta SU'].astype(str)\n",
    "labels_df['ID'] = labels_df['ID'].astype(str)\n",
    "\n",
    "labels_df['date'].dtypes"
   ]
  },
  {
   "cell_type": "code",
   "execution_count": 513,
   "metadata": {
    "collapsed": true
   },
   "outputs": [
    {
     "data": {
      "text/html": [
       "<div>\n",
       "<style scoped>\n",
       "    .dataframe tbody tr th:only-of-type {\n",
       "        vertical-align: middle;\n",
       "    }\n",
       "\n",
       "    .dataframe tbody tr th {\n",
       "        vertical-align: top;\n",
       "    }\n",
       "\n",
       "    .dataframe thead th {\n",
       "        text-align: right;\n",
       "    }\n",
       "</style>\n",
       "<table border=\"1\" class=\"dataframe\">\n",
       "  <thead>\n",
       "    <tr style=\"text-align: right;\">\n",
       "      <th></th>\n",
       "      <th>ID</th>\n",
       "      <th>Fecha consulta SU</th>\n",
       "      <th>Resultado consenso BSTI</th>\n",
       "      <th>date</th>\n",
       "    </tr>\n",
       "  </thead>\n",
       "  <tbody>\n",
       "    <tr>\n",
       "      <th>517</th>\n",
       "      <td>37</td>\n",
       "      <td>2020-03-10</td>\n",
       "      <td>Normal</td>\n",
       "      <td>2020-03-10</td>\n",
       "    </tr>\n",
       "  </tbody>\n",
       "</table>\n",
       "</div>"
      ],
      "text/plain": [
       "     ID Fecha consulta SU Resultado consenso BSTI        date\n",
       "517  37        2020-03-10                  Normal  2020-03-10"
      ]
     },
     "execution_count": 513,
     "metadata": {},
     "output_type": "execute_result"
    }
   ],
   "source": [
    "labels_df.loc[labels_df['ID'] == '37']"
   ]
  },
  {
   "cell_type": "markdown",
   "metadata": {
    "heading_collapsed": true
   },
   "source": [
    "##### Patient 185 vs 185_2\n",
    "\n",
    "is reversed in labels_df"
   ]
  },
  {
   "cell_type": "code",
   "execution_count": 515,
   "metadata": {
    "hidden": true
   },
   "outputs": [
    {
     "data": {
      "text/html": [
       "<div>\n",
       "<style scoped>\n",
       "    .dataframe tbody tr th:only-of-type {\n",
       "        vertical-align: middle;\n",
       "    }\n",
       "\n",
       "    .dataframe tbody tr th {\n",
       "        vertical-align: top;\n",
       "    }\n",
       "\n",
       "    .dataframe thead th {\n",
       "        text-align: right;\n",
       "    }\n",
       "</style>\n",
       "<table border=\"1\" class=\"dataframe\">\n",
       "  <thead>\n",
       "    <tr style=\"text-align: right;\">\n",
       "      <th></th>\n",
       "      <th>ID</th>\n",
       "      <th>image_name</th>\n",
       "      <th>view</th>\n",
       "      <th>date</th>\n",
       "    </tr>\n",
       "  </thead>\n",
       "  <tbody>\n",
       "    <tr>\n",
       "      <th>78</th>\n",
       "      <td>185</td>\n",
       "      <td>185-0-IM-0001-0001-0001.png</td>\n",
       "      <td>AP</td>\n",
       "      <td>2020-03-11</td>\n",
       "    </tr>\n",
       "    <tr>\n",
       "      <th>79</th>\n",
       "      <td>185_2</td>\n",
       "      <td>185_2-0-IM-0001-0001-0001.png</td>\n",
       "      <td>AP</td>\n",
       "      <td>2020-03-26</td>\n",
       "    </tr>\n",
       "    <tr>\n",
       "      <th>80</th>\n",
       "      <td>185_2</td>\n",
       "      <td>185_2-1-IM-0001-0002-0001.png</td>\n",
       "      <td>RL</td>\n",
       "      <td>2020-03-26</td>\n",
       "    </tr>\n",
       "  </tbody>\n",
       "</table>\n",
       "</div>"
      ],
      "text/plain": [
       "       ID                     image_name view        date\n",
       "78    185    185-0-IM-0001-0001-0001.png   AP  2020-03-11\n",
       "79  185_2  185_2-0-IM-0001-0001-0001.png   AP  2020-03-26\n",
       "80  185_2  185_2-1-IM-0001-0002-0001.png   RL  2020-03-26"
      ]
     },
     "execution_count": 515,
     "metadata": {},
     "output_type": "execute_result"
    }
   ],
   "source": [
    "image_df.loc[image_df['ID'].str.startswith('185')]"
   ]
  },
  {
   "cell_type": "code",
   "execution_count": 514,
   "metadata": {
    "hidden": true
   },
   "outputs": [
    {
     "data": {
      "text/html": [
       "<div>\n",
       "<style scoped>\n",
       "    .dataframe tbody tr th:only-of-type {\n",
       "        vertical-align: middle;\n",
       "    }\n",
       "\n",
       "    .dataframe tbody tr th {\n",
       "        vertical-align: top;\n",
       "    }\n",
       "\n",
       "    .dataframe thead th {\n",
       "        text-align: right;\n",
       "    }\n",
       "</style>\n",
       "<table border=\"1\" class=\"dataframe\">\n",
       "  <thead>\n",
       "    <tr style=\"text-align: right;\">\n",
       "      <th></th>\n",
       "      <th>ID</th>\n",
       "      <th>Fecha consulta SU</th>\n",
       "      <th>Resultado consenso BSTI</th>\n",
       "      <th>date</th>\n",
       "    </tr>\n",
       "  </thead>\n",
       "  <tbody>\n",
       "    <tr>\n",
       "      <th>184</th>\n",
       "      <td>185</td>\n",
       "      <td>2020-03-26</td>\n",
       "      <td>Normal</td>\n",
       "      <td>2020-03-26</td>\n",
       "    </tr>\n",
       "    <tr>\n",
       "      <th>524</th>\n",
       "      <td>185_2</td>\n",
       "      <td>2020-03-11</td>\n",
       "      <td>Normal</td>\n",
       "      <td>2020-03-11</td>\n",
       "    </tr>\n",
       "  </tbody>\n",
       "</table>\n",
       "</div>"
      ],
      "text/plain": [
       "        ID Fecha consulta SU Resultado consenso BSTI        date\n",
       "184    185        2020-03-26                  Normal  2020-03-26\n",
       "524  185_2        2020-03-11                  Normal  2020-03-11"
      ]
     },
     "execution_count": 514,
     "metadata": {},
     "output_type": "execute_result"
    }
   ],
   "source": [
    "labels_df.loc[labels_df['ID'].str.startswith('185')]"
   ]
  },
  {
   "cell_type": "code",
   "execution_count": 516,
   "metadata": {
    "hidden": true
   },
   "outputs": [],
   "source": [
    "labels_df.loc[184, 'ID'] = '185_2'\n",
    "labels_df.loc[524, 'ID'] = '185'"
   ]
  },
  {
   "cell_type": "code",
   "execution_count": 517,
   "metadata": {
    "hidden": true
   },
   "outputs": [
    {
     "data": {
      "text/html": [
       "<div>\n",
       "<style scoped>\n",
       "    .dataframe tbody tr th:only-of-type {\n",
       "        vertical-align: middle;\n",
       "    }\n",
       "\n",
       "    .dataframe tbody tr th {\n",
       "        vertical-align: top;\n",
       "    }\n",
       "\n",
       "    .dataframe thead th {\n",
       "        text-align: right;\n",
       "    }\n",
       "</style>\n",
       "<table border=\"1\" class=\"dataframe\">\n",
       "  <thead>\n",
       "    <tr style=\"text-align: right;\">\n",
       "      <th></th>\n",
       "      <th>ID</th>\n",
       "      <th>Fecha consulta SU</th>\n",
       "      <th>Resultado consenso BSTI</th>\n",
       "      <th>date</th>\n",
       "    </tr>\n",
       "  </thead>\n",
       "  <tbody>\n",
       "    <tr>\n",
       "      <th>184</th>\n",
       "      <td>185_2</td>\n",
       "      <td>2020-03-26</td>\n",
       "      <td>Normal</td>\n",
       "      <td>2020-03-26</td>\n",
       "    </tr>\n",
       "    <tr>\n",
       "      <th>524</th>\n",
       "      <td>185</td>\n",
       "      <td>2020-03-11</td>\n",
       "      <td>Normal</td>\n",
       "      <td>2020-03-11</td>\n",
       "    </tr>\n",
       "  </tbody>\n",
       "</table>\n",
       "</div>"
      ],
      "text/plain": [
       "        ID Fecha consulta SU Resultado consenso BSTI        date\n",
       "184  185_2        2020-03-26                  Normal  2020-03-26\n",
       "524    185        2020-03-11                  Normal  2020-03-11"
      ]
     },
     "execution_count": 517,
     "metadata": {},
     "output_type": "execute_result"
    }
   ],
   "source": [
    "labels_df.loc[labels_df['ID'].str.startswith('185')]"
   ]
  },
  {
   "cell_type": "code",
   "execution_count": null,
   "metadata": {
    "hidden": true
   },
   "outputs": [],
   "source": []
  },
  {
   "cell_type": "markdown",
   "metadata": {},
   "source": [
    "##### Merge!"
   ]
  },
  {
   "cell_type": "code",
   "execution_count": 518,
   "metadata": {},
   "outputs": [
    {
     "data": {
      "text/html": [
       "<div>\n",
       "<style scoped>\n",
       "    .dataframe tbody tr th:only-of-type {\n",
       "        vertical-align: middle;\n",
       "    }\n",
       "\n",
       "    .dataframe tbody tr th {\n",
       "        vertical-align: top;\n",
       "    }\n",
       "\n",
       "    .dataframe thead th {\n",
       "        text-align: right;\n",
       "    }\n",
       "</style>\n",
       "<table border=\"1\" class=\"dataframe\">\n",
       "  <thead>\n",
       "    <tr style=\"text-align: right;\">\n",
       "      <th></th>\n",
       "      <th>ID</th>\n",
       "      <th>Fecha consulta SU</th>\n",
       "      <th>Resultado consenso BSTI</th>\n",
       "      <th>date</th>\n",
       "      <th>image_name</th>\n",
       "      <th>view</th>\n",
       "    </tr>\n",
       "  </thead>\n",
       "  <tbody>\n",
       "    <tr>\n",
       "      <th>0</th>\n",
       "      <td>1</td>\n",
       "      <td>2020-03-04</td>\n",
       "      <td>Indeterminado</td>\n",
       "      <td>2020-03-04</td>\n",
       "      <td>1-0-IM-0001-0001-0001.png</td>\n",
       "      <td>PA</td>\n",
       "    </tr>\n",
       "    <tr>\n",
       "      <th>1</th>\n",
       "      <td>1</td>\n",
       "      <td>2020-03-04</td>\n",
       "      <td>Indeterminado</td>\n",
       "      <td>2020-03-04</td>\n",
       "      <td>1-1-IM-0001-0002-0001.png</td>\n",
       "      <td>LL</td>\n",
       "    </tr>\n",
       "    <tr>\n",
       "      <th>2</th>\n",
       "      <td>2</td>\n",
       "      <td>2020-04-03</td>\n",
       "      <td>Indeterminado</td>\n",
       "      <td>2020-04-03</td>\n",
       "      <td>2-0-IM-0001-0001-0001.png</td>\n",
       "      <td>AP</td>\n",
       "    </tr>\n",
       "    <tr>\n",
       "      <th>3</th>\n",
       "      <td>3</td>\n",
       "      <td>2020-04-13</td>\n",
       "      <td>Indeterminado</td>\n",
       "      <td>2020-04-13</td>\n",
       "      <td>3-2-IM-0001-0001-0001.png</td>\n",
       "      <td>AP</td>\n",
       "    </tr>\n",
       "    <tr>\n",
       "      <th>4</th>\n",
       "      <td>4</td>\n",
       "      <td>2020-04-16</td>\n",
       "      <td>Indeterminado</td>\n",
       "      <td>2020-04-16</td>\n",
       "      <td>4-0-IM-0001-0001-0001.png</td>\n",
       "      <td>AP</td>\n",
       "    </tr>\n",
       "  </tbody>\n",
       "</table>\n",
       "</div>"
      ],
      "text/plain": [
       "  ID Fecha consulta SU Resultado consenso BSTI        date  \\\n",
       "0  1        2020-03-04           Indeterminado  2020-03-04   \n",
       "1  1        2020-03-04           Indeterminado  2020-03-04   \n",
       "2  2        2020-04-03           Indeterminado  2020-04-03   \n",
       "3  3        2020-04-13           Indeterminado  2020-04-13   \n",
       "4  4        2020-04-16           Indeterminado  2020-04-16   \n",
       "\n",
       "                  image_name view  \n",
       "0  1-0-IM-0001-0001-0001.png   PA  \n",
       "1  1-1-IM-0001-0002-0001.png   LL  \n",
       "2  2-0-IM-0001-0001-0001.png   AP  \n",
       "3  3-2-IM-0001-0001-0001.png   AP  \n",
       "4  4-0-IM-0001-0001-0001.png   AP  "
      ]
     },
     "execution_count": 518,
     "metadata": {},
     "output_type": "execute_result"
    }
   ],
   "source": [
    "merged = labels_df.merge(image_df, how='right',\n",
    "                         left_on=['ID', 'date'], # Fecha consulta SU\n",
    "                         right_on=['ID', 'date']\n",
    "                        )\n",
    "merged.head()"
   ]
  },
  {
   "cell_type": "code",
   "execution_count": 535,
   "metadata": {},
   "outputs": [
    {
     "data": {
      "text/plain": [
       "Counter({nan: 398,\n",
       "         u'Indeterminado': 16,\n",
       "         u'Non-COVID': 98,\n",
       "         u'Normal': 757,\n",
       "         u'Sugerente COVID': 28})"
      ]
     },
     "execution_count": 535,
     "metadata": {},
     "output_type": "execute_result"
    }
   ],
   "source": [
    "Counter(merged[LABEL_COL])"
   ]
  },
  {
   "cell_type": "code",
   "execution_count": 519,
   "metadata": {},
   "outputs": [
    {
     "data": {
      "text/plain": [
       "1297"
      ]
     },
     "execution_count": 519,
     "metadata": {},
     "output_type": "execute_result"
    }
   ],
   "source": [
    "len(merged)"
   ]
  },
  {
   "cell_type": "code",
   "execution_count": 520,
   "metadata": {},
   "outputs": [
    {
     "data": {
      "text/html": [
       "<div>\n",
       "<style scoped>\n",
       "    .dataframe tbody tr th:only-of-type {\n",
       "        vertical-align: middle;\n",
       "    }\n",
       "\n",
       "    .dataframe tbody tr th {\n",
       "        vertical-align: top;\n",
       "    }\n",
       "\n",
       "    .dataframe thead th {\n",
       "        text-align: right;\n",
       "    }\n",
       "</style>\n",
       "<table border=\"1\" class=\"dataframe\">\n",
       "  <thead>\n",
       "    <tr style=\"text-align: right;\">\n",
       "      <th></th>\n",
       "      <th>ID</th>\n",
       "      <th>Fecha consulta SU</th>\n",
       "      <th>Resultado consenso BSTI</th>\n",
       "      <th>date</th>\n",
       "      <th>image_name</th>\n",
       "      <th>view</th>\n",
       "    </tr>\n",
       "  </thead>\n",
       "  <tbody>\n",
       "    <tr>\n",
       "      <th>1292</th>\n",
       "      <td>9</td>\n",
       "      <td>NaT</td>\n",
       "      <td>NaN</td>\n",
       "      <td>2020-03-20</td>\n",
       "      <td>9-0-IM-0001-0001-0001.png</td>\n",
       "      <td>AP</td>\n",
       "    </tr>\n",
       "    <tr>\n",
       "      <th>1293</th>\n",
       "      <td>9</td>\n",
       "      <td>NaT</td>\n",
       "      <td>NaN</td>\n",
       "      <td>2020-03-25</td>\n",
       "      <td>9-1-IM-0001-0001-0001.png</td>\n",
       "      <td>AP</td>\n",
       "    </tr>\n",
       "    <tr>\n",
       "      <th>1294</th>\n",
       "      <td>9</td>\n",
       "      <td>NaT</td>\n",
       "      <td>NaN</td>\n",
       "      <td>2020-03-29</td>\n",
       "      <td>9-2-IM-0001-0001-0001.png</td>\n",
       "      <td>AP</td>\n",
       "    </tr>\n",
       "    <tr>\n",
       "      <th>1295</th>\n",
       "      <td>96</td>\n",
       "      <td>NaT</td>\n",
       "      <td>NaN</td>\n",
       "      <td>2020-03-07</td>\n",
       "      <td>96-0-IM-0001-0001-0001.png</td>\n",
       "      <td>PA</td>\n",
       "    </tr>\n",
       "    <tr>\n",
       "      <th>1296</th>\n",
       "      <td>96</td>\n",
       "      <td>NaT</td>\n",
       "      <td>NaN</td>\n",
       "      <td>2020-03-07</td>\n",
       "      <td>96-1-IM-0001-0002-0001.png</td>\n",
       "      <td>LL</td>\n",
       "    </tr>\n",
       "  </tbody>\n",
       "</table>\n",
       "</div>"
      ],
      "text/plain": [
       "      ID Fecha consulta SU Resultado consenso BSTI        date  \\\n",
       "1292   9               NaT                     NaN  2020-03-20   \n",
       "1293   9               NaT                     NaN  2020-03-25   \n",
       "1294   9               NaT                     NaN  2020-03-29   \n",
       "1295  96               NaT                     NaN  2020-03-07   \n",
       "1296  96               NaT                     NaN  2020-03-07   \n",
       "\n",
       "                      image_name view  \n",
       "1292   9-0-IM-0001-0001-0001.png   AP  \n",
       "1293   9-1-IM-0001-0001-0001.png   AP  \n",
       "1294   9-2-IM-0001-0001-0001.png   AP  \n",
       "1295  96-0-IM-0001-0001-0001.png   PA  \n",
       "1296  96-1-IM-0001-0002-0001.png   LL  "
      ]
     },
     "execution_count": 520,
     "metadata": {},
     "output_type": "execute_result"
    }
   ],
   "source": [
    "clean_df = merged[merged[LABEL_COL] != 'Indeterminado']\n",
    "\n",
    "# clean_df.replace('Non-COVID', 'pneumonia', inplace=True)\n",
    "clean_df.replace('Normal', 'normal', inplace=True)\n",
    "clean_df.replace('Sugerente COVID', 'covid', inplace=True)\n",
    "clean_df.tail()"
   ]
  },
  {
   "cell_type": "code",
   "execution_count": 521,
   "metadata": {},
   "outputs": [
    {
     "data": {
      "text/plain": [
       "1281"
      ]
     },
     "execution_count": 521,
     "metadata": {},
     "output_type": "execute_result"
    }
   ],
   "source": [
    "len(clean_df)"
   ]
  },
  {
   "cell_type": "code",
   "execution_count": 533,
   "metadata": {},
   "outputs": [
    {
     "data": {
      "text/html": [
       "<div>\n",
       "<style scoped>\n",
       "    .dataframe tbody tr th:only-of-type {\n",
       "        vertical-align: middle;\n",
       "    }\n",
       "\n",
       "    .dataframe tbody tr th {\n",
       "        vertical-align: top;\n",
       "    }\n",
       "\n",
       "    .dataframe thead th {\n",
       "        text-align: right;\n",
       "    }\n",
       "</style>\n",
       "<table border=\"1\" class=\"dataframe\">\n",
       "  <thead>\n",
       "    <tr style=\"text-align: right;\">\n",
       "      <th></th>\n",
       "      <th>ID</th>\n",
       "      <th>Fecha consulta SU</th>\n",
       "      <th>Resultado consenso BSTI</th>\n",
       "      <th>date</th>\n",
       "      <th>image_name</th>\n",
       "      <th>view</th>\n",
       "    </tr>\n",
       "  </thead>\n",
       "  <tbody>\n",
       "    <tr>\n",
       "      <th>16</th>\n",
       "      <td>15</td>\n",
       "      <td>2020-03-01</td>\n",
       "      <td>Non-COVID</td>\n",
       "      <td>2020-03-01</td>\n",
       "      <td>15-0-IM-0001-0001-0001.png</td>\n",
       "      <td>AP</td>\n",
       "    </tr>\n",
       "    <tr>\n",
       "      <th>17</th>\n",
       "      <td>17</td>\n",
       "      <td>2020-03-02</td>\n",
       "      <td>Non-COVID</td>\n",
       "      <td>2020-03-02</td>\n",
       "      <td>17-0-IM-0001-0001-0001.png</td>\n",
       "      <td>PA</td>\n",
       "    </tr>\n",
       "    <tr>\n",
       "      <th>18</th>\n",
       "      <td>17</td>\n",
       "      <td>2020-03-02</td>\n",
       "      <td>Non-COVID</td>\n",
       "      <td>2020-03-02</td>\n",
       "      <td>17-1-IM-0001-0001-0001.png</td>\n",
       "      <td>PA</td>\n",
       "    </tr>\n",
       "    <tr>\n",
       "      <th>19</th>\n",
       "      <td>18</td>\n",
       "      <td>2020-03-02</td>\n",
       "      <td>Non-COVID</td>\n",
       "      <td>2020-03-02</td>\n",
       "      <td>18-0-IM-0001-0001-0001.png</td>\n",
       "      <td>AP</td>\n",
       "    </tr>\n",
       "    <tr>\n",
       "      <th>20</th>\n",
       "      <td>19</td>\n",
       "      <td>2020-03-03</td>\n",
       "      <td>Non-COVID</td>\n",
       "      <td>2020-03-03</td>\n",
       "      <td>19-0-IM-0001-0001-0001.png</td>\n",
       "      <td>PA</td>\n",
       "    </tr>\n",
       "  </tbody>\n",
       "</table>\n",
       "</div>"
      ],
      "text/plain": [
       "    ID Fecha consulta SU Resultado consenso BSTI        date  \\\n",
       "16  15        2020-03-01               Non-COVID  2020-03-01   \n",
       "17  17        2020-03-02               Non-COVID  2020-03-02   \n",
       "18  17        2020-03-02               Non-COVID  2020-03-02   \n",
       "19  18        2020-03-02               Non-COVID  2020-03-02   \n",
       "20  19        2020-03-03               Non-COVID  2020-03-03   \n",
       "\n",
       "                    image_name view  \n",
       "16  15-0-IM-0001-0001-0001.png   AP  \n",
       "17  17-0-IM-0001-0001-0001.png   PA  \n",
       "18  17-1-IM-0001-0001-0001.png   PA  \n",
       "19  18-0-IM-0001-0001-0001.png   AP  \n",
       "20  19-0-IM-0001-0001-0001.png   PA  "
      ]
     },
     "execution_count": 533,
     "metadata": {},
     "output_type": "execute_result"
    }
   ],
   "source": [
    "clean_df.head()"
   ]
  },
  {
   "cell_type": "markdown",
   "metadata": {},
   "source": [
    "##### Revisar NaN"
   ]
  },
  {
   "cell_type": "code",
   "execution_count": 526,
   "metadata": {
    "collapsed": true
   },
   "outputs": [
    {
     "data": {
      "text/html": [
       "<div>\n",
       "<style scoped>\n",
       "    .dataframe tbody tr th:only-of-type {\n",
       "        vertical-align: middle;\n",
       "    }\n",
       "\n",
       "    .dataframe tbody tr th {\n",
       "        vertical-align: top;\n",
       "    }\n",
       "\n",
       "    .dataframe thead th {\n",
       "        text-align: right;\n",
       "    }\n",
       "</style>\n",
       "<table border=\"1\" class=\"dataframe\">\n",
       "  <thead>\n",
       "    <tr style=\"text-align: right;\">\n",
       "      <th></th>\n",
       "      <th>ID</th>\n",
       "      <th>Fecha consulta SU</th>\n",
       "      <th>Resultado consenso BSTI</th>\n",
       "      <th>date</th>\n",
       "      <th>image_name</th>\n",
       "      <th>view</th>\n",
       "    </tr>\n",
       "  </thead>\n",
       "  <tbody>\n",
       "    <tr>\n",
       "      <th>899</th>\n",
       "      <td>10</td>\n",
       "      <td>NaT</td>\n",
       "      <td>NaN</td>\n",
       "      <td>2020-04-13</td>\n",
       "      <td>10-0-IM-0001-0001-0001.png</td>\n",
       "      <td>AP</td>\n",
       "    </tr>\n",
       "    <tr>\n",
       "      <th>900</th>\n",
       "      <td>10</td>\n",
       "      <td>NaT</td>\n",
       "      <td>NaN</td>\n",
       "      <td>2020-04-13</td>\n",
       "      <td>10-6-IM-0001-0001-0006.png</td>\n",
       "      <td>AP</td>\n",
       "    </tr>\n",
       "    <tr>\n",
       "      <th>901</th>\n",
       "      <td>10</td>\n",
       "      <td>NaT</td>\n",
       "      <td>NaN</td>\n",
       "      <td>2020-04-13</td>\n",
       "      <td>10-8-IM-0001-0001-0001.png</td>\n",
       "      <td>AP</td>\n",
       "    </tr>\n",
       "    <tr>\n",
       "      <th>902</th>\n",
       "      <td>10</td>\n",
       "      <td>NaT</td>\n",
       "      <td>NaN</td>\n",
       "      <td>2020-05-02</td>\n",
       "      <td>10-1-IM-0001-0001-0001.png</td>\n",
       "      <td>AP</td>\n",
       "    </tr>\n",
       "    <tr>\n",
       "      <th>903</th>\n",
       "      <td>10</td>\n",
       "      <td>NaT</td>\n",
       "      <td>NaN</td>\n",
       "      <td>2020-04-06</td>\n",
       "      <td>10-2-IM-0001-0001-0002.png</td>\n",
       "      <td>AP</td>\n",
       "    </tr>\n",
       "    <tr>\n",
       "      <th>904</th>\n",
       "      <td>10</td>\n",
       "      <td>NaT</td>\n",
       "      <td>NaN</td>\n",
       "      <td>2020-04-18</td>\n",
       "      <td>10-3-IM-0001-0001-0003.png</td>\n",
       "      <td>AP</td>\n",
       "    </tr>\n",
       "    <tr>\n",
       "      <th>905</th>\n",
       "      <td>10</td>\n",
       "      <td>NaT</td>\n",
       "      <td>NaN</td>\n",
       "      <td>2020-04-23</td>\n",
       "      <td>10-4-IM-0001-0001-0004.png</td>\n",
       "      <td>AP</td>\n",
       "    </tr>\n",
       "    <tr>\n",
       "      <th>906</th>\n",
       "      <td>10</td>\n",
       "      <td>NaT</td>\n",
       "      <td>NaN</td>\n",
       "      <td>2020-04-15</td>\n",
       "      <td>10-5-IM-0001-0001-0005.png</td>\n",
       "      <td>AP</td>\n",
       "    </tr>\n",
       "    <tr>\n",
       "      <th>907</th>\n",
       "      <td>10</td>\n",
       "      <td>NaT</td>\n",
       "      <td>NaN</td>\n",
       "      <td>2020-03-27</td>\n",
       "      <td>10-7-IM-0001-0001-0007.png</td>\n",
       "      <td>AP</td>\n",
       "    </tr>\n",
       "    <tr>\n",
       "      <th>908</th>\n",
       "      <td>10</td>\n",
       "      <td>NaT</td>\n",
       "      <td>NaN</td>\n",
       "      <td>2018-02-02</td>\n",
       "      <td>10-9-IM-0001-0001-0001.png</td>\n",
       "      <td>PA</td>\n",
       "    </tr>\n",
       "    <tr>\n",
       "      <th>909</th>\n",
       "      <td>10</td>\n",
       "      <td>NaT</td>\n",
       "      <td>NaN</td>\n",
       "      <td>2018-02-02</td>\n",
       "      <td>10-10-IM-0001-0001-0001.png</td>\n",
       "      <td>PA</td>\n",
       "    </tr>\n",
       "    <tr>\n",
       "      <th>910</th>\n",
       "      <td>11</td>\n",
       "      <td>NaT</td>\n",
       "      <td>NaN</td>\n",
       "      <td>2020-04-29</td>\n",
       "      <td>11-0-IM-0001-0001-0001.png</td>\n",
       "      <td>PA</td>\n",
       "    </tr>\n",
       "    <tr>\n",
       "      <th>911</th>\n",
       "      <td>11</td>\n",
       "      <td>NaT</td>\n",
       "      <td>NaN</td>\n",
       "      <td>2020-04-29</td>\n",
       "      <td>11-1-IM-0001-0002-0001.png</td>\n",
       "      <td>LL</td>\n",
       "    </tr>\n",
       "    <tr>\n",
       "      <th>912</th>\n",
       "      <td>113</td>\n",
       "      <td>NaT</td>\n",
       "      <td>NaN</td>\n",
       "      <td>2018-01-14</td>\n",
       "      <td>113-0-IM-0001-0001-0001.png</td>\n",
       "      <td>PA</td>\n",
       "    </tr>\n",
       "    <tr>\n",
       "      <th>913</th>\n",
       "      <td>113</td>\n",
       "      <td>NaT</td>\n",
       "      <td>NaN</td>\n",
       "      <td>2018-01-14</td>\n",
       "      <td>113-1-IM-0001-0001-0001.png</td>\n",
       "      <td>PA</td>\n",
       "    </tr>\n",
       "    <tr>\n",
       "      <th>914</th>\n",
       "      <td>116</td>\n",
       "      <td>NaT</td>\n",
       "      <td>NaN</td>\n",
       "      <td>2016-10-04</td>\n",
       "      <td>116-0-IM-0001-0001-0001.png</td>\n",
       "      <td>PA</td>\n",
       "    </tr>\n",
       "    <tr>\n",
       "      <th>915</th>\n",
       "      <td>116</td>\n",
       "      <td>NaT</td>\n",
       "      <td>NaN</td>\n",
       "      <td>2016-10-04</td>\n",
       "      <td>116-1-IM-0001-0001-0001.png</td>\n",
       "      <td>LL</td>\n",
       "    </tr>\n",
       "    <tr>\n",
       "      <th>916</th>\n",
       "      <td>126</td>\n",
       "      <td>NaT</td>\n",
       "      <td>NaN</td>\n",
       "      <td>2018-07-28</td>\n",
       "      <td>126-0-IM-0001-0001-0001.png</td>\n",
       "      <td>PA</td>\n",
       "    </tr>\n",
       "    <tr>\n",
       "      <th>917</th>\n",
       "      <td>126</td>\n",
       "      <td>NaT</td>\n",
       "      <td>NaN</td>\n",
       "      <td>2018-07-28</td>\n",
       "      <td>126-1-IM-0001-0002-0001.png</td>\n",
       "      <td>LL</td>\n",
       "    </tr>\n",
       "    <tr>\n",
       "      <th>918</th>\n",
       "      <td>127</td>\n",
       "      <td>NaT</td>\n",
       "      <td>NaN</td>\n",
       "      <td>2017-06-06</td>\n",
       "      <td>127-1-IM-0001-0001-0002.png</td>\n",
       "      <td>PA</td>\n",
       "    </tr>\n",
       "    <tr>\n",
       "      <th>919</th>\n",
       "      <td>127</td>\n",
       "      <td>NaT</td>\n",
       "      <td>NaN</td>\n",
       "      <td>2017-06-06</td>\n",
       "      <td>127-3-IM-0001-0002-0002.png</td>\n",
       "      <td>LL</td>\n",
       "    </tr>\n",
       "    <tr>\n",
       "      <th>920</th>\n",
       "      <td>133</td>\n",
       "      <td>NaT</td>\n",
       "      <td>NaN</td>\n",
       "      <td>2016-10-20</td>\n",
       "      <td>133-2-IM-0001-0001-0001.png</td>\n",
       "      <td>PA</td>\n",
       "    </tr>\n",
       "    <tr>\n",
       "      <th>921</th>\n",
       "      <td>133</td>\n",
       "      <td>NaT</td>\n",
       "      <td>NaN</td>\n",
       "      <td>2016-10-20</td>\n",
       "      <td>133-5-IM-0001-0002-0001.png</td>\n",
       "      <td>LL</td>\n",
       "    </tr>\n",
       "    <tr>\n",
       "      <th>922</th>\n",
       "      <td>133</td>\n",
       "      <td>NaT</td>\n",
       "      <td>NaN</td>\n",
       "      <td>2017-04-17</td>\n",
       "      <td>133-3-IM-0001-0001-0002.png</td>\n",
       "      <td>PA</td>\n",
       "    </tr>\n",
       "    <tr>\n",
       "      <th>923</th>\n",
       "      <td>133</td>\n",
       "      <td>NaT</td>\n",
       "      <td>NaN</td>\n",
       "      <td>2017-04-17</td>\n",
       "      <td>133-6-IM-0001-0002-0002.png</td>\n",
       "      <td>LL</td>\n",
       "    </tr>\n",
       "    <tr>\n",
       "      <th>924</th>\n",
       "      <td>133</td>\n",
       "      <td>NaT</td>\n",
       "      <td>NaN</td>\n",
       "      <td>2020-03-26</td>\n",
       "      <td>133-8-IM-0001-0001-0001.png</td>\n",
       "      <td>AP</td>\n",
       "    </tr>\n",
       "    <tr>\n",
       "      <th>925</th>\n",
       "      <td>134</td>\n",
       "      <td>NaT</td>\n",
       "      <td>NaN</td>\n",
       "      <td>2019-07-01</td>\n",
       "      <td>134-0-IM-0001-0001-0001.png</td>\n",
       "      <td>AP</td>\n",
       "    </tr>\n",
       "    <tr>\n",
       "      <th>926</th>\n",
       "      <td>135</td>\n",
       "      <td>NaT</td>\n",
       "      <td>NaN</td>\n",
       "      <td>2017-07-10</td>\n",
       "      <td>135-3-IM-0001-0001-0001.png</td>\n",
       "      <td>PA</td>\n",
       "    </tr>\n",
       "    <tr>\n",
       "      <th>927</th>\n",
       "      <td>135</td>\n",
       "      <td>NaT</td>\n",
       "      <td>NaN</td>\n",
       "      <td>2017-07-10</td>\n",
       "      <td>135-4-IM-0001-0002-0001.png</td>\n",
       "      <td>LL</td>\n",
       "    </tr>\n",
       "    <tr>\n",
       "      <th>928</th>\n",
       "      <td>135</td>\n",
       "      <td>NaT</td>\n",
       "      <td>NaN</td>\n",
       "      <td>2020-03-30</td>\n",
       "      <td>135-6-IM-0001-0001-0001.png</td>\n",
       "      <td>AP</td>\n",
       "    </tr>\n",
       "    <tr>\n",
       "      <th>...</th>\n",
       "      <td>...</td>\n",
       "      <td>...</td>\n",
       "      <td>...</td>\n",
       "      <td>...</td>\n",
       "      <td>...</td>\n",
       "      <td>...</td>\n",
       "    </tr>\n",
       "    <tr>\n",
       "      <th>1267</th>\n",
       "      <td>74</td>\n",
       "      <td>NaT</td>\n",
       "      <td>NaN</td>\n",
       "      <td>2016-11-07</td>\n",
       "      <td>74-5-IM-0001-0002-0003.png</td>\n",
       "      <td>AP</td>\n",
       "    </tr>\n",
       "    <tr>\n",
       "      <th>1268</th>\n",
       "      <td>74</td>\n",
       "      <td>NaT</td>\n",
       "      <td>NaN</td>\n",
       "      <td>2020-04-19</td>\n",
       "      <td>74-6-IM-0001-0001-0001.png</td>\n",
       "      <td>AP</td>\n",
       "    </tr>\n",
       "    <tr>\n",
       "      <th>1269</th>\n",
       "      <td>74</td>\n",
       "      <td>NaT</td>\n",
       "      <td>NaN</td>\n",
       "      <td>2019-07-28</td>\n",
       "      <td>74-7-IM-0001-0001-0002.png</td>\n",
       "      <td>AP</td>\n",
       "    </tr>\n",
       "    <tr>\n",
       "      <th>1270</th>\n",
       "      <td>74</td>\n",
       "      <td>NaT</td>\n",
       "      <td>NaN</td>\n",
       "      <td>2020-05-02</td>\n",
       "      <td>74-8-IM-0001-0001-0003.png</td>\n",
       "      <td>AP</td>\n",
       "    </tr>\n",
       "    <tr>\n",
       "      <th>1271</th>\n",
       "      <td>74</td>\n",
       "      <td>NaT</td>\n",
       "      <td>NaN</td>\n",
       "      <td>2020-04-24</td>\n",
       "      <td>74-9-IM-0001-0001-0004.png</td>\n",
       "      <td>AP</td>\n",
       "    </tr>\n",
       "    <tr>\n",
       "      <th>1272</th>\n",
       "      <td>74</td>\n",
       "      <td>NaT</td>\n",
       "      <td>NaN</td>\n",
       "      <td>2020-04-20</td>\n",
       "      <td>74-11-IM-0001-0001-0006.png</td>\n",
       "      <td>AP</td>\n",
       "    </tr>\n",
       "    <tr>\n",
       "      <th>1273</th>\n",
       "      <td>74</td>\n",
       "      <td>NaT</td>\n",
       "      <td>NaN</td>\n",
       "      <td>2019-04-17</td>\n",
       "      <td>74-12-IM-0001-0001-0001.png</td>\n",
       "      <td>AP</td>\n",
       "    </tr>\n",
       "    <tr>\n",
       "      <th>1274</th>\n",
       "      <td>74</td>\n",
       "      <td>NaT</td>\n",
       "      <td>NaN</td>\n",
       "      <td>2019-03-28</td>\n",
       "      <td>74-13-IM-0001-0001-0002.png</td>\n",
       "      <td>AP</td>\n",
       "    </tr>\n",
       "    <tr>\n",
       "      <th>1275</th>\n",
       "      <td>76</td>\n",
       "      <td>NaT</td>\n",
       "      <td>NaN</td>\n",
       "      <td>2020-01-10</td>\n",
       "      <td>76-0-IM-0001-0001-0001.png</td>\n",
       "      <td>AP</td>\n",
       "    </tr>\n",
       "    <tr>\n",
       "      <th>1276</th>\n",
       "      <td>76</td>\n",
       "      <td>NaT</td>\n",
       "      <td>NaN</td>\n",
       "      <td>2020-04-19</td>\n",
       "      <td>76-2-IM-0001-0001-0003.png</td>\n",
       "      <td>AP</td>\n",
       "    </tr>\n",
       "    <tr>\n",
       "      <th>1277</th>\n",
       "      <td>77</td>\n",
       "      <td>NaT</td>\n",
       "      <td>NaN</td>\n",
       "      <td>2020-04-21</td>\n",
       "      <td>77-0-IM-0001-0001-0001.png</td>\n",
       "      <td>AP</td>\n",
       "    </tr>\n",
       "    <tr>\n",
       "      <th>1278</th>\n",
       "      <td>77</td>\n",
       "      <td>NaT</td>\n",
       "      <td>NaN</td>\n",
       "      <td>2020-04-21</td>\n",
       "      <td>77-8-IM-0001-0001-0009.png</td>\n",
       "      <td>AP</td>\n",
       "    </tr>\n",
       "    <tr>\n",
       "      <th>1279</th>\n",
       "      <td>77</td>\n",
       "      <td>NaT</td>\n",
       "      <td>NaN</td>\n",
       "      <td>2020-04-24</td>\n",
       "      <td>77-2-IM-0001-0001-0003.png</td>\n",
       "      <td>AP</td>\n",
       "    </tr>\n",
       "    <tr>\n",
       "      <th>1280</th>\n",
       "      <td>77</td>\n",
       "      <td>NaT</td>\n",
       "      <td>NaN</td>\n",
       "      <td>2020-04-30</td>\n",
       "      <td>77-3-IM-0001-0001-0004.png</td>\n",
       "      <td>AP</td>\n",
       "    </tr>\n",
       "    <tr>\n",
       "      <th>1281</th>\n",
       "      <td>77</td>\n",
       "      <td>NaT</td>\n",
       "      <td>NaN</td>\n",
       "      <td>2020-04-22</td>\n",
       "      <td>77-4-IM-0001-0001-0005.png</td>\n",
       "      <td>AP</td>\n",
       "    </tr>\n",
       "    <tr>\n",
       "      <th>1282</th>\n",
       "      <td>77</td>\n",
       "      <td>NaT</td>\n",
       "      <td>NaN</td>\n",
       "      <td>2020-05-03</td>\n",
       "      <td>77-5-IM-0001-0001-0006.png</td>\n",
       "      <td>AP</td>\n",
       "    </tr>\n",
       "    <tr>\n",
       "      <th>1283</th>\n",
       "      <td>77</td>\n",
       "      <td>NaT</td>\n",
       "      <td>NaN</td>\n",
       "      <td>2020-04-19</td>\n",
       "      <td>77-6-IM-0001-0001-0007.png</td>\n",
       "      <td>AP</td>\n",
       "    </tr>\n",
       "    <tr>\n",
       "      <th>1284</th>\n",
       "      <td>77</td>\n",
       "      <td>NaT</td>\n",
       "      <td>NaN</td>\n",
       "      <td>2020-04-28</td>\n",
       "      <td>77-7-IM-0001-0001-0008.png</td>\n",
       "      <td>AP</td>\n",
       "    </tr>\n",
       "    <tr>\n",
       "      <th>1285</th>\n",
       "      <td>77</td>\n",
       "      <td>NaT</td>\n",
       "      <td>NaN</td>\n",
       "      <td>2020-05-02</td>\n",
       "      <td>77-9-IM-0001-0001-0010.png</td>\n",
       "      <td>AP</td>\n",
       "    </tr>\n",
       "    <tr>\n",
       "      <th>1286</th>\n",
       "      <td>78</td>\n",
       "      <td>NaT</td>\n",
       "      <td>NaN</td>\n",
       "      <td>2020-04-20</td>\n",
       "      <td>78-2-IM-0001-0001-0002.png</td>\n",
       "      <td>AP</td>\n",
       "    </tr>\n",
       "    <tr>\n",
       "      <th>1287</th>\n",
       "      <td>78</td>\n",
       "      <td>NaT</td>\n",
       "      <td>NaN</td>\n",
       "      <td>2020-04-28</td>\n",
       "      <td>78-3-IM-0001-0001-0003.png</td>\n",
       "      <td>AP</td>\n",
       "    </tr>\n",
       "    <tr>\n",
       "      <th>1288</th>\n",
       "      <td>78</td>\n",
       "      <td>NaT</td>\n",
       "      <td>NaN</td>\n",
       "      <td>2020-04-27</td>\n",
       "      <td>78-4-IM-0001-0001-0004.png</td>\n",
       "      <td>AP</td>\n",
       "    </tr>\n",
       "    <tr>\n",
       "      <th>1289</th>\n",
       "      <td>79</td>\n",
       "      <td>NaT</td>\n",
       "      <td>NaN</td>\n",
       "      <td>2020-04-18</td>\n",
       "      <td>79-0-IM-0001-0001-0001.png</td>\n",
       "      <td>AP</td>\n",
       "    </tr>\n",
       "    <tr>\n",
       "      <th>1290</th>\n",
       "      <td>8</td>\n",
       "      <td>NaT</td>\n",
       "      <td>NaN</td>\n",
       "      <td>2020-04-03</td>\n",
       "      <td>8-0-IM-0001-0001-0001.png</td>\n",
       "      <td>AP</td>\n",
       "    </tr>\n",
       "    <tr>\n",
       "      <th>1291</th>\n",
       "      <td>8</td>\n",
       "      <td>NaT</td>\n",
       "      <td>NaN</td>\n",
       "      <td>2020-05-15</td>\n",
       "      <td>8-2-IM-0001-0001-0003.png</td>\n",
       "      <td>AP</td>\n",
       "    </tr>\n",
       "    <tr>\n",
       "      <th>1292</th>\n",
       "      <td>9</td>\n",
       "      <td>NaT</td>\n",
       "      <td>NaN</td>\n",
       "      <td>2020-03-20</td>\n",
       "      <td>9-0-IM-0001-0001-0001.png</td>\n",
       "      <td>AP</td>\n",
       "    </tr>\n",
       "    <tr>\n",
       "      <th>1293</th>\n",
       "      <td>9</td>\n",
       "      <td>NaT</td>\n",
       "      <td>NaN</td>\n",
       "      <td>2020-03-25</td>\n",
       "      <td>9-1-IM-0001-0001-0001.png</td>\n",
       "      <td>AP</td>\n",
       "    </tr>\n",
       "    <tr>\n",
       "      <th>1294</th>\n",
       "      <td>9</td>\n",
       "      <td>NaT</td>\n",
       "      <td>NaN</td>\n",
       "      <td>2020-03-29</td>\n",
       "      <td>9-2-IM-0001-0001-0001.png</td>\n",
       "      <td>AP</td>\n",
       "    </tr>\n",
       "    <tr>\n",
       "      <th>1295</th>\n",
       "      <td>96</td>\n",
       "      <td>NaT</td>\n",
       "      <td>NaN</td>\n",
       "      <td>2020-03-07</td>\n",
       "      <td>96-0-IM-0001-0001-0001.png</td>\n",
       "      <td>PA</td>\n",
       "    </tr>\n",
       "    <tr>\n",
       "      <th>1296</th>\n",
       "      <td>96</td>\n",
       "      <td>NaT</td>\n",
       "      <td>NaN</td>\n",
       "      <td>2020-03-07</td>\n",
       "      <td>96-1-IM-0001-0002-0001.png</td>\n",
       "      <td>LL</td>\n",
       "    </tr>\n",
       "  </tbody>\n",
       "</table>\n",
       "<p>398 rows × 6 columns</p>\n",
       "</div>"
      ],
      "text/plain": [
       "       ID Fecha consulta SU Resultado consenso BSTI        date  \\\n",
       "899    10               NaT                     NaN  2020-04-13   \n",
       "900    10               NaT                     NaN  2020-04-13   \n",
       "901    10               NaT                     NaN  2020-04-13   \n",
       "902    10               NaT                     NaN  2020-05-02   \n",
       "903    10               NaT                     NaN  2020-04-06   \n",
       "904    10               NaT                     NaN  2020-04-18   \n",
       "905    10               NaT                     NaN  2020-04-23   \n",
       "906    10               NaT                     NaN  2020-04-15   \n",
       "907    10               NaT                     NaN  2020-03-27   \n",
       "908    10               NaT                     NaN  2018-02-02   \n",
       "909    10               NaT                     NaN  2018-02-02   \n",
       "910    11               NaT                     NaN  2020-04-29   \n",
       "911    11               NaT                     NaN  2020-04-29   \n",
       "912   113               NaT                     NaN  2018-01-14   \n",
       "913   113               NaT                     NaN  2018-01-14   \n",
       "914   116               NaT                     NaN  2016-10-04   \n",
       "915   116               NaT                     NaN  2016-10-04   \n",
       "916   126               NaT                     NaN  2018-07-28   \n",
       "917   126               NaT                     NaN  2018-07-28   \n",
       "918   127               NaT                     NaN  2017-06-06   \n",
       "919   127               NaT                     NaN  2017-06-06   \n",
       "920   133               NaT                     NaN  2016-10-20   \n",
       "921   133               NaT                     NaN  2016-10-20   \n",
       "922   133               NaT                     NaN  2017-04-17   \n",
       "923   133               NaT                     NaN  2017-04-17   \n",
       "924   133               NaT                     NaN  2020-03-26   \n",
       "925   134               NaT                     NaN  2019-07-01   \n",
       "926   135               NaT                     NaN  2017-07-10   \n",
       "927   135               NaT                     NaN  2017-07-10   \n",
       "928   135               NaT                     NaN  2020-03-30   \n",
       "...   ...               ...                     ...         ...   \n",
       "1267   74               NaT                     NaN  2016-11-07   \n",
       "1268   74               NaT                     NaN  2020-04-19   \n",
       "1269   74               NaT                     NaN  2019-07-28   \n",
       "1270   74               NaT                     NaN  2020-05-02   \n",
       "1271   74               NaT                     NaN  2020-04-24   \n",
       "1272   74               NaT                     NaN  2020-04-20   \n",
       "1273   74               NaT                     NaN  2019-04-17   \n",
       "1274   74               NaT                     NaN  2019-03-28   \n",
       "1275   76               NaT                     NaN  2020-01-10   \n",
       "1276   76               NaT                     NaN  2020-04-19   \n",
       "1277   77               NaT                     NaN  2020-04-21   \n",
       "1278   77               NaT                     NaN  2020-04-21   \n",
       "1279   77               NaT                     NaN  2020-04-24   \n",
       "1280   77               NaT                     NaN  2020-04-30   \n",
       "1281   77               NaT                     NaN  2020-04-22   \n",
       "1282   77               NaT                     NaN  2020-05-03   \n",
       "1283   77               NaT                     NaN  2020-04-19   \n",
       "1284   77               NaT                     NaN  2020-04-28   \n",
       "1285   77               NaT                     NaN  2020-05-02   \n",
       "1286   78               NaT                     NaN  2020-04-20   \n",
       "1287   78               NaT                     NaN  2020-04-28   \n",
       "1288   78               NaT                     NaN  2020-04-27   \n",
       "1289   79               NaT                     NaN  2020-04-18   \n",
       "1290    8               NaT                     NaN  2020-04-03   \n",
       "1291    8               NaT                     NaN  2020-05-15   \n",
       "1292    9               NaT                     NaN  2020-03-20   \n",
       "1293    9               NaT                     NaN  2020-03-25   \n",
       "1294    9               NaT                     NaN  2020-03-29   \n",
       "1295   96               NaT                     NaN  2020-03-07   \n",
       "1296   96               NaT                     NaN  2020-03-07   \n",
       "\n",
       "                       image_name view  \n",
       "899    10-0-IM-0001-0001-0001.png   AP  \n",
       "900    10-6-IM-0001-0001-0006.png   AP  \n",
       "901    10-8-IM-0001-0001-0001.png   AP  \n",
       "902    10-1-IM-0001-0001-0001.png   AP  \n",
       "903    10-2-IM-0001-0001-0002.png   AP  \n",
       "904    10-3-IM-0001-0001-0003.png   AP  \n",
       "905    10-4-IM-0001-0001-0004.png   AP  \n",
       "906    10-5-IM-0001-0001-0005.png   AP  \n",
       "907    10-7-IM-0001-0001-0007.png   AP  \n",
       "908    10-9-IM-0001-0001-0001.png   PA  \n",
       "909   10-10-IM-0001-0001-0001.png   PA  \n",
       "910    11-0-IM-0001-0001-0001.png   PA  \n",
       "911    11-1-IM-0001-0002-0001.png   LL  \n",
       "912   113-0-IM-0001-0001-0001.png   PA  \n",
       "913   113-1-IM-0001-0001-0001.png   PA  \n",
       "914   116-0-IM-0001-0001-0001.png   PA  \n",
       "915   116-1-IM-0001-0001-0001.png   LL  \n",
       "916   126-0-IM-0001-0001-0001.png   PA  \n",
       "917   126-1-IM-0001-0002-0001.png   LL  \n",
       "918   127-1-IM-0001-0001-0002.png   PA  \n",
       "919   127-3-IM-0001-0002-0002.png   LL  \n",
       "920   133-2-IM-0001-0001-0001.png   PA  \n",
       "921   133-5-IM-0001-0002-0001.png   LL  \n",
       "922   133-3-IM-0001-0001-0002.png   PA  \n",
       "923   133-6-IM-0001-0002-0002.png   LL  \n",
       "924   133-8-IM-0001-0001-0001.png   AP  \n",
       "925   134-0-IM-0001-0001-0001.png   AP  \n",
       "926   135-3-IM-0001-0001-0001.png   PA  \n",
       "927   135-4-IM-0001-0002-0001.png   LL  \n",
       "928   135-6-IM-0001-0001-0001.png   AP  \n",
       "...                           ...  ...  \n",
       "1267   74-5-IM-0001-0002-0003.png   AP  \n",
       "1268   74-6-IM-0001-0001-0001.png   AP  \n",
       "1269   74-7-IM-0001-0001-0002.png   AP  \n",
       "1270   74-8-IM-0001-0001-0003.png   AP  \n",
       "1271   74-9-IM-0001-0001-0004.png   AP  \n",
       "1272  74-11-IM-0001-0001-0006.png   AP  \n",
       "1273  74-12-IM-0001-0001-0001.png   AP  \n",
       "1274  74-13-IM-0001-0001-0002.png   AP  \n",
       "1275   76-0-IM-0001-0001-0001.png   AP  \n",
       "1276   76-2-IM-0001-0001-0003.png   AP  \n",
       "1277   77-0-IM-0001-0001-0001.png   AP  \n",
       "1278   77-8-IM-0001-0001-0009.png   AP  \n",
       "1279   77-2-IM-0001-0001-0003.png   AP  \n",
       "1280   77-3-IM-0001-0001-0004.png   AP  \n",
       "1281   77-4-IM-0001-0001-0005.png   AP  \n",
       "1282   77-5-IM-0001-0001-0006.png   AP  \n",
       "1283   77-6-IM-0001-0001-0007.png   AP  \n",
       "1284   77-7-IM-0001-0001-0008.png   AP  \n",
       "1285   77-9-IM-0001-0001-0010.png   AP  \n",
       "1286   78-2-IM-0001-0001-0002.png   AP  \n",
       "1287   78-3-IM-0001-0001-0003.png   AP  \n",
       "1288   78-4-IM-0001-0001-0004.png   AP  \n",
       "1289   79-0-IM-0001-0001-0001.png   AP  \n",
       "1290    8-0-IM-0001-0001-0001.png   AP  \n",
       "1291    8-2-IM-0001-0001-0003.png   AP  \n",
       "1292    9-0-IM-0001-0001-0001.png   AP  \n",
       "1293    9-1-IM-0001-0001-0001.png   AP  \n",
       "1294    9-2-IM-0001-0001-0001.png   AP  \n",
       "1295   96-0-IM-0001-0001-0001.png   PA  \n",
       "1296   96-1-IM-0001-0002-0001.png   LL  \n",
       "\n",
       "[398 rows x 6 columns]"
      ]
     },
     "execution_count": 526,
     "metadata": {},
     "output_type": "execute_result"
    }
   ],
   "source": [
    "clean_df.loc[clean_df[LABEL_COL] != clean_df[LABEL_COL]]"
   ]
  },
  {
   "cell_type": "code",
   "execution_count": 527,
   "metadata": {},
   "outputs": [
    {
     "name": "stderr",
     "output_type": "stream",
     "text": [
      "/home/pdpino/medical-report-generation/pyenv2.7/lib/python2.7/site-packages/ipykernel_launcher.py:1: SettingWithCopyWarning: \n",
      "A value is trying to be set on a copy of a slice from a DataFrame\n",
      "\n",
      "See the caveats in the documentation: http://pandas.pydata.org/pandas-docs/stable/indexing.html#indexing-view-versus-copy\n",
      "  \"\"\"Entry point for launching an IPython kernel.\n"
     ]
    }
   ],
   "source": [
    "clean_df.dropna(axis=0, how='any', inplace=True)"
   ]
  },
  {
   "cell_type": "code",
   "execution_count": 528,
   "metadata": {},
   "outputs": [
    {
     "data": {
      "text/html": [
       "<div>\n",
       "<style scoped>\n",
       "    .dataframe tbody tr th:only-of-type {\n",
       "        vertical-align: middle;\n",
       "    }\n",
       "\n",
       "    .dataframe tbody tr th {\n",
       "        vertical-align: top;\n",
       "    }\n",
       "\n",
       "    .dataframe thead th {\n",
       "        text-align: right;\n",
       "    }\n",
       "</style>\n",
       "<table border=\"1\" class=\"dataframe\">\n",
       "  <thead>\n",
       "    <tr style=\"text-align: right;\">\n",
       "      <th></th>\n",
       "      <th>ID</th>\n",
       "      <th>Fecha consulta SU</th>\n",
       "      <th>Resultado consenso BSTI</th>\n",
       "      <th>date</th>\n",
       "      <th>image_name</th>\n",
       "      <th>view</th>\n",
       "    </tr>\n",
       "  </thead>\n",
       "  <tbody>\n",
       "    <tr>\n",
       "      <th>16</th>\n",
       "      <td>15</td>\n",
       "      <td>2020-03-01</td>\n",
       "      <td>Non-COVID</td>\n",
       "      <td>2020-03-01</td>\n",
       "      <td>15-0-IM-0001-0001-0001.png</td>\n",
       "      <td>AP</td>\n",
       "    </tr>\n",
       "    <tr>\n",
       "      <th>17</th>\n",
       "      <td>17</td>\n",
       "      <td>2020-03-02</td>\n",
       "      <td>Non-COVID</td>\n",
       "      <td>2020-03-02</td>\n",
       "      <td>17-0-IM-0001-0001-0001.png</td>\n",
       "      <td>PA</td>\n",
       "    </tr>\n",
       "    <tr>\n",
       "      <th>18</th>\n",
       "      <td>17</td>\n",
       "      <td>2020-03-02</td>\n",
       "      <td>Non-COVID</td>\n",
       "      <td>2020-03-02</td>\n",
       "      <td>17-1-IM-0001-0001-0001.png</td>\n",
       "      <td>PA</td>\n",
       "    </tr>\n",
       "    <tr>\n",
       "      <th>19</th>\n",
       "      <td>18</td>\n",
       "      <td>2020-03-02</td>\n",
       "      <td>Non-COVID</td>\n",
       "      <td>2020-03-02</td>\n",
       "      <td>18-0-IM-0001-0001-0001.png</td>\n",
       "      <td>AP</td>\n",
       "    </tr>\n",
       "    <tr>\n",
       "      <th>20</th>\n",
       "      <td>19</td>\n",
       "      <td>2020-03-03</td>\n",
       "      <td>Non-COVID</td>\n",
       "      <td>2020-03-03</td>\n",
       "      <td>19-0-IM-0001-0001-0001.png</td>\n",
       "      <td>PA</td>\n",
       "    </tr>\n",
       "  </tbody>\n",
       "</table>\n",
       "</div>"
      ],
      "text/plain": [
       "    ID Fecha consulta SU Resultado consenso BSTI        date  \\\n",
       "16  15        2020-03-01               Non-COVID  2020-03-01   \n",
       "17  17        2020-03-02               Non-COVID  2020-03-02   \n",
       "18  17        2020-03-02               Non-COVID  2020-03-02   \n",
       "19  18        2020-03-02               Non-COVID  2020-03-02   \n",
       "20  19        2020-03-03               Non-COVID  2020-03-03   \n",
       "\n",
       "                    image_name view  \n",
       "16  15-0-IM-0001-0001-0001.png   AP  \n",
       "17  17-0-IM-0001-0001-0001.png   PA  \n",
       "18  17-1-IM-0001-0001-0001.png   PA  \n",
       "19  18-0-IM-0001-0001-0001.png   AP  \n",
       "20  19-0-IM-0001-0001-0001.png   PA  "
      ]
     },
     "execution_count": 528,
     "metadata": {},
     "output_type": "execute_result"
    }
   ],
   "source": [
    "clean_df.head()"
   ]
  },
  {
   "cell_type": "markdown",
   "metadata": {},
   "source": [
    "##### Revisar cantidades"
   ]
  },
  {
   "cell_type": "code",
   "execution_count": 530,
   "metadata": {},
   "outputs": [
    {
     "data": {
      "text/plain": [
       "Counter({u'Non-COVID': 74, 'covid': 24, 'normal': 517})"
      ]
     },
     "execution_count": 530,
     "metadata": {},
     "output_type": "execute_result"
    }
   ],
   "source": [
    "Counter(clean_df.loc[clean_df['view'].str.contains('P')][LABEL_COL])"
   ]
  },
  {
   "cell_type": "code",
   "execution_count": 532,
   "metadata": {},
   "outputs": [
    {
     "data": {
      "text/plain": [
       "Counter({u'Non-COVID': 98, 'covid': 28, 'normal': 757})"
      ]
     },
     "execution_count": 532,
     "metadata": {},
     "output_type": "execute_result"
    }
   ],
   "source": [
    "Counter(clean_df[LABEL_COL])"
   ]
  },
  {
   "cell_type": "code",
   "execution_count": 531,
   "metadata": {},
   "outputs": [
    {
     "data": {
      "text/plain": [
       "Counter({u'Indeterminado': 14,\n",
       "         u'Non-COVID': 75,\n",
       "         u'Normal': 525,\n",
       "         u'Sugerente COVID': 26})"
      ]
     },
     "execution_count": 531,
     "metadata": {},
     "output_type": "execute_result"
    }
   ],
   "source": [
    "Counter(labels_df[LABEL_COL])"
   ]
  },
  {
   "cell_type": "code",
   "execution_count": null,
   "metadata": {},
   "outputs": [],
   "source": []
  },
  {
   "cell_type": "markdown",
   "metadata": {},
   "source": [
    "#### Save"
   ]
  },
  {
   "cell_type": "code",
   "execution_count": 534,
   "metadata": {},
   "outputs": [],
   "source": [
    "metadata_path = os.path.join(DATASET_DIR, 'metadata.csv')\n",
    "clean_df.to_csv(metadata_path)"
   ]
  },
  {
   "cell_type": "code",
   "execution_count": null,
   "metadata": {},
   "outputs": [],
   "source": []
  },
  {
   "cell_type": "markdown",
   "metadata": {},
   "source": [
    "### Read metadatas"
   ]
  },
  {
   "cell_type": "code",
   "execution_count": 538,
   "metadata": {},
   "outputs": [
    {
     "data": {
      "text/html": [
       "<div>\n",
       "<style scoped>\n",
       "    .dataframe tbody tr th:only-of-type {\n",
       "        vertical-align: middle;\n",
       "    }\n",
       "\n",
       "    .dataframe tbody tr th {\n",
       "        vertical-align: top;\n",
       "    }\n",
       "\n",
       "    .dataframe thead th {\n",
       "        text-align: right;\n",
       "    }\n",
       "</style>\n",
       "<table border=\"1\" class=\"dataframe\">\n",
       "  <thead>\n",
       "    <tr style=\"text-align: right;\">\n",
       "      <th></th>\n",
       "      <th>ID</th>\n",
       "      <th>Fecha consulta SU</th>\n",
       "      <th>Resultado consenso BSTI</th>\n",
       "      <th>date</th>\n",
       "      <th>image_name</th>\n",
       "      <th>view</th>\n",
       "    </tr>\n",
       "  </thead>\n",
       "  <tbody>\n",
       "    <tr>\n",
       "      <th>6</th>\n",
       "      <td>15</td>\n",
       "      <td>2020-03-01</td>\n",
       "      <td>Non-COVID</td>\n",
       "      <td>2020-03-01</td>\n",
       "      <td>15-0-IM-0001-0001-0001.png</td>\n",
       "      <td>AP</td>\n",
       "    </tr>\n",
       "    <tr>\n",
       "      <th>7</th>\n",
       "      <td>17</td>\n",
       "      <td>2020-03-02</td>\n",
       "      <td>Non-COVID</td>\n",
       "      <td>2020-03-02</td>\n",
       "      <td>17-0-IM-0001-0001-0001.png</td>\n",
       "      <td>PA</td>\n",
       "    </tr>\n",
       "    <tr>\n",
       "      <th>8</th>\n",
       "      <td>17</td>\n",
       "      <td>2020-03-02</td>\n",
       "      <td>Non-COVID</td>\n",
       "      <td>2020-03-02</td>\n",
       "      <td>17-1-IM-0001-0001-0001.png</td>\n",
       "      <td>PA</td>\n",
       "    </tr>\n",
       "    <tr>\n",
       "      <th>9</th>\n",
       "      <td>18</td>\n",
       "      <td>2020-03-02</td>\n",
       "      <td>Non-COVID</td>\n",
       "      <td>2020-03-02</td>\n",
       "      <td>18-0-IM-0001-0001-0001.png</td>\n",
       "      <td>AP</td>\n",
       "    </tr>\n",
       "    <tr>\n",
       "      <th>10</th>\n",
       "      <td>19</td>\n",
       "      <td>2020-03-03</td>\n",
       "      <td>Non-COVID</td>\n",
       "      <td>2020-03-03</td>\n",
       "      <td>19-0-IM-0001-0001-0001.png</td>\n",
       "      <td>PA</td>\n",
       "    </tr>\n",
       "  </tbody>\n",
       "</table>\n",
       "</div>"
      ],
      "text/plain": [
       "    ID Fecha consulta SU Resultado consenso BSTI        date  \\\n",
       "6   15        2020-03-01               Non-COVID  2020-03-01   \n",
       "7   17        2020-03-02               Non-COVID  2020-03-02   \n",
       "8   17        2020-03-02               Non-COVID  2020-03-02   \n",
       "9   18        2020-03-02               Non-COVID  2020-03-02   \n",
       "10  19        2020-03-03               Non-COVID  2020-03-03   \n",
       "\n",
       "                    image_name view  \n",
       "6   15-0-IM-0001-0001-0001.png   AP  \n",
       "7   17-0-IM-0001-0001-0001.png   PA  \n",
       "8   17-1-IM-0001-0001-0001.png   PA  \n",
       "9   18-0-IM-0001-0001-0001.png   AP  \n",
       "10  19-0-IM-0001-0001-0001.png   PA  "
      ]
     },
     "execution_count": 538,
     "metadata": {},
     "output_type": "execute_result"
    }
   ],
   "source": [
    "df = pd.read_csv(os.path.join(DATASET_DIR, 'metadata_anon_3.csv'), index_col=0)\n",
    "df.head()"
   ]
  },
  {
   "cell_type": "code",
   "execution_count": 539,
   "metadata": {},
   "outputs": [
    {
     "data": {
      "text/plain": [
       "Counter({'Non-COVID': 50, 'covid': 4, 'normal': 619})"
      ]
     },
     "execution_count": 539,
     "metadata": {},
     "output_type": "execute_result"
    }
   ],
   "source": [
    "Counter(df[LABEL_COL])"
   ]
  },
  {
   "cell_type": "code",
   "execution_count": null,
   "metadata": {},
   "outputs": [],
   "source": []
  },
  {
   "cell_type": "code",
   "execution_count": null,
   "metadata": {},
   "outputs": [],
   "source": []
  },
  {
   "cell_type": "code",
   "execution_count": null,
   "metadata": {},
   "outputs": [],
   "source": [
    "# RESULTS ANON_3\n",
    "\n",
    "### IMAGE SIZE 256\n",
    "\n",
    "## FRONTAL ONLY\n",
    "\n",
    "{'acc': 0.47306791569086654,                                                                                                        \n",
    "         'cm': tensor([[  1,   1,   1],                                                                                                     \n",
    "        [ 14,   9,   9],                                                                                                                    \n",
    "        [145,  57, 190]]),                                                                                                                  \n",
    "         'loss': 2.7440714836120605,                                                                                                        \n",
    "         'prec_Non-COVID': 0.16279069767441862,                                                                                             \n",
    "         'prec_covid': 0.005555555555555556,                                                                                                \n",
    "         'prec_normal': 0.9509803921568627,                                                                                                 \n",
    "         'recall_Non-COVID': 0.21875,                                                                                                       \n",
    "         'recall_covid': 0.3333333333333333,                                                                                                \n",
    "         'recall_normal': 0.49489795918367346,                                                                                              \n",
    "         'spec_Non-COVID': 0.9088607594936708,                                                                                              \n",
    "         'spec_covid': 0.5778301886792453,                                                                                                  \n",
    "         'spec_normal': 0.7142857142857143}\n",
    "\n",
    "\n",
    "## RESULTS ANON_3 FRONTAL + LATERAL\n",
    "{'acc': 0.3447251114413076,\n",
    "         'cm': tensor([[  1,   3,   0],\n",
    "        [ 25,  16,   9],\n",
    "        [253, 151, 215]]),\n",
    "         'loss': 2.953134059906006,\n",
    "         'prec_Non-COVID': 0.12396694214876033,\n",
    "         'prec_covid': 0.003067484662576687,\n",
    "         'prec_normal': 0.9557522123893806,\n",
    "         'recall_Non-COVID': 0.3,\n",
    "         'recall_covid': 0.25,\n",
    "         'recall_normal': 0.34894991922455576,\n",
    "         'spec_Non-COVID': 0.8298555377207063,\n",
    "         'spec_covid': 0.5142002989536621,\n",
    "         'spec_normal': 0.8148148148148148}"
   ]
  },
  {
   "cell_type": "code",
   "execution_count": null,
   "metadata": {},
   "outputs": [],
   "source": [
    "### IMAGE SIZE 512\n",
    "\n",
    "### FRONTAL ONLY\n",
    "{'acc': 0.3185011709601874,\n",
    "         'cm': tensor([[  3,   0,   0],\n",
    "        [ 20,   6,   6],\n",
    "        [233,  28, 131]]),\n",
    "         'loss': 3.2618606090545654,\n",
    "         'prec_Non-COVID': 0.21739130434782608,\n",
    "         'prec_covid': 0.011111111111111112,\n",
    "         'prec_normal': 0.9552238805970149,\n",
    "         'recall_Non-COVID': 0.15625,\n",
    "         'recall_covid': 1.0,\n",
    "         'recall_normal': 0.32653061224489793,\n",
    "         'spec_Non-COVID': 0.9544303797468354,\n",
    "         'spec_covid': 0.37028301886792453,\n",
    "         'spec_normal': 0.8285714285714286}\n",
    "\n",
    "## FRONTAL + LATERAL\n",
    "{'acc': 0.24071322436849926,                                                                                                        \n",
    "         'cm': tensor([[  2,   2,   0],                                                                                                     \n",
    "        [ 24,  21,   5],                                                                                                                    \n",
    "        [303, 160, 156]]),                                                                                                                  \n",
    "         'loss': 5.56564998626709,                                                                                                          \n",
    "         'prec_Non-COVID': 0.11875,                                                                                                         \n",
    "         'prec_covid': 0.005449591280653951,                                                                                                \n",
    "         'prec_normal': 0.9657534246575342,                                                                                                 \n",
    "         'recall_Non-COVID': 0.38,                                                                                                          \n",
    "         'recall_covid': 0.5,                                                                                                               \n",
    "         'recall_normal': 0.22778675282714056,                                                                                              \n",
    "         'spec_Non-COVID': 0.7736757624398074,                                                                                              \n",
    "         'spec_covid': 0.45440956651718983,                                                                                                 \n",
    "         'spec_normal': 0.9074074074074074}"
   ]
  },
  {
   "cell_type": "code",
   "execution_count": null,
   "metadata": {},
   "outputs": [],
   "source": []
  }
 ],
 "metadata": {
  "kernelspec": {
   "display_name": "py2gdcm",
   "language": "python",
   "name": "py2gdcm"
  },
  "language_info": {
   "codemirror_mode": {
    "name": "ipython",
    "version": 2
   },
   "file_extension": ".py",
   "mimetype": "text/x-python",
   "name": "python",
   "nbconvert_exporter": "python",
   "pygments_lexer": "ipython2",
   "version": "2.7.17"
  },
  "toc": {
   "base_numbering": 1,
   "nav_menu": {},
   "number_sections": true,
   "sideBar": true,
   "skip_h1_title": false,
   "title_cell": "Table of Contents",
   "title_sidebar": "Contents",
   "toc_cell": false,
   "toc_position": {},
   "toc_section_display": true,
   "toc_window_display": false
  }
 },
 "nbformat": 4,
 "nbformat_minor": 4
}
