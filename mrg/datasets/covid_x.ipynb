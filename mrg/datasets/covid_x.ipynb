{
 "cells": [
  {
   "cell_type": "code",
   "execution_count": 2,
   "metadata": {},
   "outputs": [],
   "source": [
    "import os\n",
    "from PIL import Image\n",
    "import matplotlib.pyplot as plt\n",
    "from torchvision import transforms\n",
    "import torch\n",
    "from tqdm.notebook import tqdm\n",
    "import pandas as pd"
   ]
  },
  {
   "cell_type": "code",
   "execution_count": 3,
   "metadata": {},
   "outputs": [],
   "source": [
    "%run covid_x.py"
   ]
  },
  {
   "cell_type": "code",
   "execution_count": 4,
   "metadata": {},
   "outputs": [
    {
     "data": {
      "text/plain": [
       "12504"
      ]
     },
     "execution_count": 4,
     "metadata": {},
     "output_type": "execute_result"
    }
   ],
   "source": [
    "images_dir = os.path.join(DATASET_DIR, 'train')\n",
    "# images_names = os.listdir(images_dir)\n",
    "with open(os.path.join(DATASET_DIR, 'further_train_split.txt')) as f:\n",
    "    images_names = [l.strip() for l in f.readlines()]\n",
    "len(images_names)"
   ]
  },
  {
   "cell_type": "markdown",
   "metadata": {
    "heading_collapsed": true
   },
   "source": [
    "## Calculate mean and std"
   ]
  },
  {
   "cell_type": "code",
   "execution_count": 6,
   "metadata": {
    "hidden": true
   },
   "outputs": [],
   "source": [
    "transform = transforms.Compose([\n",
    "    transforms.Resize((512, 512)),\n",
    "    transforms.ToTensor(),\n",
    "])"
   ]
  },
  {
   "cell_type": "code",
   "execution_count": 7,
   "metadata": {
    "hidden": true
   },
   "outputs": [],
   "source": [
    "total = torch.zeros(3, 512, 512)"
   ]
  },
  {
   "cell_type": "code",
   "execution_count": 8,
   "metadata": {
    "hidden": true
   },
   "outputs": [
    {
     "data": {
      "application/vnd.jupyter.widget-view+json": {
       "model_id": "5a5cc83737da436eba53217ef756470b",
       "version_major": 2,
       "version_minor": 0
      },
      "text/plain": [
       "HBox(children=(FloatProgress(value=0.0, max=12504.0), HTML(value='')))"
      ]
     },
     "metadata": {},
     "output_type": "display_data"
    },
    {
     "name": "stdout",
     "output_type": "stream",
     "text": [
      "\n"
     ]
    },
    {
     "data": {
      "text/plain": [
       "torch.Size([3, 512, 512])"
      ]
     },
     "execution_count": 8,
     "metadata": {},
     "output_type": "execute_result"
    }
   ],
   "source": [
    "for image_name in tqdm(images_names):\n",
    "    filepath = os.path.join(images_dir, image_name)\n",
    "    image = Image.open(filepath).convert('RGB')\n",
    "    image = transform(image)\n",
    "    total += image\n",
    "    \n",
    "    break\n",
    "    \n",
    "total /= len(images_names)\n",
    "total.size()"
   ]
  },
  {
   "cell_type": "code",
   "execution_count": 93,
   "metadata": {
    "hidden": true
   },
   "outputs": [
    {
     "data": {
      "text/plain": [
       "tensor([0.4919, 0.4920, 0.4920])"
      ]
     },
     "execution_count": 93,
     "metadata": {},
     "output_type": "execute_result"
    }
   ],
   "source": [
    "total.mean(dim=-1).mean(dim=-1)"
   ]
  },
  {
   "cell_type": "code",
   "execution_count": 94,
   "metadata": {
    "hidden": true
   },
   "outputs": [
    {
     "data": {
      "text/plain": [
       "tensor([0.0467, 0.0467, 0.0467])"
      ]
     },
     "execution_count": 94,
     "metadata": {},
     "output_type": "execute_result"
    }
   ],
   "source": [
    "total.std(dim=-1).std(dim=-1)"
   ]
  },
  {
   "cell_type": "code",
   "execution_count": null,
   "metadata": {
    "hidden": true
   },
   "outputs": [],
   "source": []
  },
  {
   "cell_type": "markdown",
   "metadata": {
    "heading_collapsed": true
   },
   "source": [
    "## Load labels"
   ]
  },
  {
   "cell_type": "code",
   "execution_count": 34,
   "metadata": {
    "hidden": true
   },
   "outputs": [
    {
     "data": {
      "text/html": [
       "<div>\n",
       "<style scoped>\n",
       "    .dataframe tbody tr th:only-of-type {\n",
       "        vertical-align: middle;\n",
       "    }\n",
       "\n",
       "    .dataframe tbody tr th {\n",
       "        vertical-align: top;\n",
       "    }\n",
       "\n",
       "    .dataframe thead th {\n",
       "        text-align: right;\n",
       "    }\n",
       "</style>\n",
       "<table border=\"1\" class=\"dataframe\">\n",
       "  <thead>\n",
       "    <tr style=\"text-align: right;\">\n",
       "      <th></th>\n",
       "      <th>patient_id</th>\n",
       "      <th>image_name</th>\n",
       "      <th>label</th>\n",
       "      <th>source</th>\n",
       "    </tr>\n",
       "  </thead>\n",
       "  <tbody>\n",
       "    <tr>\n",
       "      <th>0</th>\n",
       "      <td>3</td>\n",
       "      <td>SARS-10.1148rg.242035193-g04mr34g0-Fig8a-day0....</td>\n",
       "      <td>pneumonia</td>\n",
       "      <td>cohen</td>\n",
       "    </tr>\n",
       "    <tr>\n",
       "      <th>1</th>\n",
       "      <td>3</td>\n",
       "      <td>SARS-10.1148rg.242035193-g04mr34g0-Fig8b-day5....</td>\n",
       "      <td>pneumonia</td>\n",
       "      <td>cohen</td>\n",
       "    </tr>\n",
       "    <tr>\n",
       "      <th>2</th>\n",
       "      <td>3</td>\n",
       "      <td>SARS-10.1148rg.242035193-g04mr34g0-Fig8c-day10...</td>\n",
       "      <td>pneumonia</td>\n",
       "      <td>cohen</td>\n",
       "    </tr>\n",
       "    <tr>\n",
       "      <th>3</th>\n",
       "      <td>7</td>\n",
       "      <td>SARS-10.1148rg.242035193-g04mr34g04a-Fig4a-day...</td>\n",
       "      <td>pneumonia</td>\n",
       "      <td>cohen</td>\n",
       "    </tr>\n",
       "    <tr>\n",
       "      <th>4</th>\n",
       "      <td>7</td>\n",
       "      <td>SARS-10.1148rg.242035193-g04mr34g04b-Fig4b-day...</td>\n",
       "      <td>pneumonia</td>\n",
       "      <td>cohen</td>\n",
       "    </tr>\n",
       "  </tbody>\n",
       "</table>\n",
       "</div>"
      ],
      "text/plain": [
       "  patient_id                                         image_name      label  \\\n",
       "0          3  SARS-10.1148rg.242035193-g04mr34g0-Fig8a-day0....  pneumonia   \n",
       "1          3  SARS-10.1148rg.242035193-g04mr34g0-Fig8b-day5....  pneumonia   \n",
       "2          3  SARS-10.1148rg.242035193-g04mr34g0-Fig8c-day10...  pneumonia   \n",
       "3          7  SARS-10.1148rg.242035193-g04mr34g04a-Fig4a-day...  pneumonia   \n",
       "4          7  SARS-10.1148rg.242035193-g04mr34g04b-Fig4b-day...  pneumonia   \n",
       "\n",
       "  source  \n",
       "0  cohen  \n",
       "1  cohen  \n",
       "2  cohen  \n",
       "3  cohen  \n",
       "4  cohen  "
      ]
     },
     "execution_count": 34,
     "metadata": {},
     "output_type": "execute_result"
    }
   ],
   "source": [
    "labels_path = os.path.join(DATASET_DIR, 'train_split.txt')\n",
    "columns = ['patient_id', 'image_name', 'label', 'source']\n",
    "\n",
    "df = pd.read_csv(labels_path, sep=' ', header=None, names=columns)\n",
    "df.head()"
   ]
  },
  {
   "cell_type": "code",
   "execution_count": 37,
   "metadata": {
    "hidden": true
   },
   "outputs": [
    {
     "data": {
      "text/plain": [
       "{'covid', 'normal', 'pneumonia'}"
      ]
     },
     "execution_count": 37,
     "metadata": {},
     "output_type": "execute_result"
    }
   ],
   "source": [
    "set(df['label'])"
   ]
  },
  {
   "cell_type": "code",
   "execution_count": 36,
   "metadata": {
    "hidden": true
   },
   "outputs": [
    {
     "data": {
      "text/html": [
       "<div>\n",
       "<style scoped>\n",
       "    .dataframe tbody tr th:only-of-type {\n",
       "        vertical-align: middle;\n",
       "    }\n",
       "\n",
       "    .dataframe tbody tr th {\n",
       "        vertical-align: top;\n",
       "    }\n",
       "\n",
       "    .dataframe thead th {\n",
       "        text-align: right;\n",
       "    }\n",
       "</style>\n",
       "<table border=\"1\" class=\"dataframe\">\n",
       "  <thead>\n",
       "    <tr style=\"text-align: right;\">\n",
       "      <th></th>\n",
       "      <th>patient_id</th>\n",
       "      <th>image_name</th>\n",
       "      <th>label</th>\n",
       "      <th>source</th>\n",
       "    </tr>\n",
       "  </thead>\n",
       "  <tbody>\n",
       "    <tr>\n",
       "      <th>0</th>\n",
       "      <td>3</td>\n",
       "      <td>SARS-10.1148rg.242035193-g04mr34g0-Fig8a-day0....</td>\n",
       "      <td>pneumonia</td>\n",
       "      <td>cohen</td>\n",
       "    </tr>\n",
       "    <tr>\n",
       "      <th>1</th>\n",
       "      <td>3</td>\n",
       "      <td>SARS-10.1148rg.242035193-g04mr34g0-Fig8b-day5....</td>\n",
       "      <td>pneumonia</td>\n",
       "      <td>cohen</td>\n",
       "    </tr>\n",
       "    <tr>\n",
       "      <th>2</th>\n",
       "      <td>3</td>\n",
       "      <td>SARS-10.1148rg.242035193-g04mr34g0-Fig8c-day10...</td>\n",
       "      <td>pneumonia</td>\n",
       "      <td>cohen</td>\n",
       "    </tr>\n",
       "    <tr>\n",
       "      <th>3</th>\n",
       "      <td>7</td>\n",
       "      <td>SARS-10.1148rg.242035193-g04mr34g04a-Fig4a-day...</td>\n",
       "      <td>pneumonia</td>\n",
       "      <td>cohen</td>\n",
       "    </tr>\n",
       "    <tr>\n",
       "      <th>4</th>\n",
       "      <td>7</td>\n",
       "      <td>SARS-10.1148rg.242035193-g04mr34g04b-Fig4b-day...</td>\n",
       "      <td>pneumonia</td>\n",
       "      <td>cohen</td>\n",
       "    </tr>\n",
       "  </tbody>\n",
       "</table>\n",
       "</div>"
      ],
      "text/plain": [
       "  patient_id                                         image_name      label  \\\n",
       "0          3  SARS-10.1148rg.242035193-g04mr34g0-Fig8a-day0....  pneumonia   \n",
       "1          3  SARS-10.1148rg.242035193-g04mr34g0-Fig8b-day5....  pneumonia   \n",
       "2          3  SARS-10.1148rg.242035193-g04mr34g0-Fig8c-day10...  pneumonia   \n",
       "3          7  SARS-10.1148rg.242035193-g04mr34g04a-Fig4a-day...  pneumonia   \n",
       "4          7  SARS-10.1148rg.242035193-g04mr34g04b-Fig4b-day...  pneumonia   \n",
       "\n",
       "  source  \n",
       "0  cohen  \n",
       "1  cohen  \n",
       "2  cohen  \n",
       "3  cohen  \n",
       "4  cohen  "
      ]
     },
     "execution_count": 36,
     "metadata": {},
     "output_type": "execute_result"
    }
   ],
   "source": [
    "df.replace('COVID-19', 'covid', inplace=True)\n",
    "df.head()"
   ]
  },
  {
   "cell_type": "code",
   "execution_count": 39,
   "metadata": {
    "hidden": true
   },
   "outputs": [
    {
     "data": {
      "text/plain": [
       "True"
      ]
     },
     "execution_count": 39,
     "metadata": {},
     "output_type": "execute_result"
    }
   ],
   "source": [
    "set(['1', 'a']) == set(['a', '1'])"
   ]
  },
  {
   "cell_type": "code",
   "execution_count": 43,
   "metadata": {
    "hidden": true
   },
   "outputs": [
    {
     "data": {
      "text/plain": [
       "Int64Index([    0,     1,     2,     3,     4,     5,     6,     7,     8,\n",
       "                9,\n",
       "            ...\n",
       "            13882, 13883, 13884, 13885, 13886, 13887, 13888, 13889, 13890,\n",
       "            13891],\n",
       "           dtype='int64', length=13424)"
      ]
     },
     "execution_count": 43,
     "metadata": {},
     "output_type": "execute_result"
    }
   ],
   "source": [
    "df[df['label'] != 'covid'].index"
   ]
  },
  {
   "cell_type": "code",
   "execution_count": null,
   "metadata": {
    "hidden": true
   },
   "outputs": [],
   "source": []
  },
  {
   "cell_type": "markdown",
   "metadata": {
    "heading_collapsed": true
   },
   "source": [
    "## Split train-val"
   ]
  },
  {
   "cell_type": "code",
   "execution_count": 28,
   "metadata": {
    "hidden": true
   },
   "outputs": [],
   "source": [
    "import random"
   ]
  },
  {
   "cell_type": "code",
   "execution_count": 1,
   "metadata": {
    "hidden": true
   },
   "outputs": [],
   "source": [
    "%run covid_x.py"
   ]
  },
  {
   "cell_type": "code",
   "execution_count": 3,
   "metadata": {
    "hidden": true
   },
   "outputs": [
    {
     "data": {
      "text/plain": [
       "(13892, 1579)"
      ]
     },
     "execution_count": 3,
     "metadata": {},
     "output_type": "execute_result"
    }
   ],
   "source": [
    "train_dataset = CovidXDataset('train')\n",
    "test_dataset = CovidXDataset('test')\n",
    "len(train_dataset), len(test_dataset)"
   ]
  },
  {
   "cell_type": "code",
   "execution_count": 20,
   "metadata": {
    "hidden": true
   },
   "outputs": [
    {
     "data": {
      "text/plain": [
       "label\n",
       "covid         468\n",
       "normal       7966\n",
       "pneumonia    5458\n",
       "Name: image_name, dtype: int64"
      ]
     },
     "execution_count": 20,
     "metadata": {},
     "output_type": "execute_result"
    }
   ],
   "source": [
    "train_dataset._metadata_df.groupby('label').count()['image_name']"
   ]
  },
  {
   "cell_type": "code",
   "execution_count": 19,
   "metadata": {
    "hidden": true
   },
   "outputs": [
    {
     "data": {
      "text/plain": [
       "label\n",
       "covid        100\n",
       "normal       885\n",
       "pneumonia    594\n",
       "Name: image_name, dtype: int64"
      ]
     },
     "execution_count": 19,
     "metadata": {},
     "output_type": "execute_result"
    }
   ],
   "source": [
    "test_dataset._metadata_df.groupby('label').count()['image_name']"
   ]
  },
  {
   "cell_type": "code",
   "execution_count": 3,
   "metadata": {
    "hidden": true
   },
   "outputs": [
    {
     "data": {
      "text/plain": [
       "28"
      ]
     },
     "execution_count": 3,
     "metadata": {},
     "output_type": "execute_result"
    }
   ],
   "source": [
    "(13892-468) // 468"
   ]
  },
  {
   "cell_type": "code",
   "execution_count": 60,
   "metadata": {
    "hidden": true
   },
   "outputs": [],
   "source": [
    "def split_train_val(df, split=0.1):\n",
    "    \"\"\"The label distribution is mantained.\"\"\"\n",
    "    images_chosen = []\n",
    "    \n",
    "    labels = list(set(df['label']))\n",
    "    for label in labels:\n",
    "        # Filter only this label\n",
    "        df_with_label = df[df['label'] == label]\n",
    "        \n",
    "        # Group images by patient\n",
    "        images_by_patient = df_with_label.groupby('patient_id')['image_name'].apply(list)\n",
    "        \n",
    "        patients = list(images_by_patient.index)\n",
    "        \n",
    "        # Calculate split length\n",
    "        n_images = len(df_with_label)\n",
    "        split_len = int(n_images * split)\n",
    "        \n",
    "        # Choose images\n",
    "        n_chosen = 0\n",
    "        while n_chosen < split_len:\n",
    "            # Choose one random patient\n",
    "            patient = random.choice(patients)\n",
    "            \n",
    "            # Patient has 1 or more images\n",
    "            images_from_patient = images_by_patient[patient]\n",
    "            n_chosen += len(images_from_patient)\n",
    "\n",
    "            # Add chosen images to main list\n",
    "            images_chosen.extend(images_from_patient)\n",
    "\n",
    "            # Remove patient from posible options\n",
    "            patients.remove(patient)\n",
    "\n",
    "    return images_chosen"
   ]
  },
  {
   "cell_type": "code",
   "execution_count": 58,
   "metadata": {
    "hidden": true
   },
   "outputs": [
    {
     "data": {
      "text/html": [
       "<div>\n",
       "<style scoped>\n",
       "    .dataframe tbody tr th:only-of-type {\n",
       "        vertical-align: middle;\n",
       "    }\n",
       "\n",
       "    .dataframe tbody tr th {\n",
       "        vertical-align: top;\n",
       "    }\n",
       "\n",
       "    .dataframe thead th {\n",
       "        text-align: right;\n",
       "    }\n",
       "</style>\n",
       "<table border=\"1\" class=\"dataframe\">\n",
       "  <thead>\n",
       "    <tr style=\"text-align: right;\">\n",
       "      <th></th>\n",
       "      <th>patient_id</th>\n",
       "      <th>image_name</th>\n",
       "      <th>label</th>\n",
       "      <th>source</th>\n",
       "    </tr>\n",
       "  </thead>\n",
       "  <tbody>\n",
       "    <tr>\n",
       "      <th>0</th>\n",
       "      <td>3</td>\n",
       "      <td>SARS-10.1148rg.242035193-g04mr34g0-Fig8a-day0....</td>\n",
       "      <td>pneumonia</td>\n",
       "      <td>cohen</td>\n",
       "    </tr>\n",
       "    <tr>\n",
       "      <th>1</th>\n",
       "      <td>3</td>\n",
       "      <td>SARS-10.1148rg.242035193-g04mr34g0-Fig8b-day5....</td>\n",
       "      <td>pneumonia</td>\n",
       "      <td>cohen</td>\n",
       "    </tr>\n",
       "    <tr>\n",
       "      <th>2</th>\n",
       "      <td>3</td>\n",
       "      <td>SARS-10.1148rg.242035193-g04mr34g0-Fig8c-day10...</td>\n",
       "      <td>pneumonia</td>\n",
       "      <td>cohen</td>\n",
       "    </tr>\n",
       "    <tr>\n",
       "      <th>3</th>\n",
       "      <td>7</td>\n",
       "      <td>SARS-10.1148rg.242035193-g04mr34g04a-Fig4a-day...</td>\n",
       "      <td>pneumonia</td>\n",
       "      <td>cohen</td>\n",
       "    </tr>\n",
       "    <tr>\n",
       "      <th>4</th>\n",
       "      <td>7</td>\n",
       "      <td>SARS-10.1148rg.242035193-g04mr34g04b-Fig4b-day...</td>\n",
       "      <td>pneumonia</td>\n",
       "      <td>cohen</td>\n",
       "    </tr>\n",
       "  </tbody>\n",
       "</table>\n",
       "</div>"
      ],
      "text/plain": [
       "  patient_id                                         image_name      label  \\\n",
       "0          3  SARS-10.1148rg.242035193-g04mr34g0-Fig8a-day0....  pneumonia   \n",
       "1          3  SARS-10.1148rg.242035193-g04mr34g0-Fig8b-day5....  pneumonia   \n",
       "2          3  SARS-10.1148rg.242035193-g04mr34g0-Fig8c-day10...  pneumonia   \n",
       "3          7  SARS-10.1148rg.242035193-g04mr34g04a-Fig4a-day...  pneumonia   \n",
       "4          7  SARS-10.1148rg.242035193-g04mr34g04b-Fig4b-day...  pneumonia   \n",
       "\n",
       "  source  \n",
       "0  cohen  \n",
       "1  cohen  \n",
       "2  cohen  \n",
       "3  cohen  \n",
       "4  cohen  "
      ]
     },
     "execution_count": 58,
     "metadata": {},
     "output_type": "execute_result"
    }
   ],
   "source": [
    "labels_fpath = os.path.join(DATASET_DIR, 'train_split.txt')\n",
    "columns = ['patient_id', 'image_name', 'label', 'source']\n",
    "df = pd.read_csv(labels_fpath, sep=' ', header=None, names=columns)\n",
    "df.head()"
   ]
  },
  {
   "cell_type": "code",
   "execution_count": 61,
   "metadata": {
    "hidden": true
   },
   "outputs": [
    {
     "data": {
      "text/plain": [
       "(12505, 1387)"
      ]
     },
     "execution_count": 61,
     "metadata": {},
     "output_type": "execute_result"
    }
   ],
   "source": [
    "val_images = split_train_val(df, split=0.1)\n",
    "train_images = [i for i in train_dataset._metadata_df['image_name'] if i not in val_images]\n",
    "\n",
    "assert len(df) == len(train_images) + len(val_images)\n",
    "\n",
    "len(train_images), len(val_images)"
   ]
  },
  {
   "cell_type": "markdown",
   "metadata": {
    "hidden": true
   },
   "source": [
    "### Save split to files"
   ]
  },
  {
   "cell_type": "code",
   "execution_count": 53,
   "metadata": {
    "hidden": true
   },
   "outputs": [],
   "source": [
    "def write_to_txt(arr, fname, sep='\\n'):\n",
    "    with open(fname, 'w') as f:\n",
    "        for line in arr:\n",
    "            f.write(line + sep)"
   ]
  },
  {
   "cell_type": "code",
   "execution_count": 54,
   "metadata": {
    "hidden": true
   },
   "outputs": [],
   "source": [
    "write_to_txt(train_images, os.path.join(DATASET_DIR, 'further_train_split.txt'))"
   ]
  },
  {
   "cell_type": "code",
   "execution_count": 55,
   "metadata": {
    "hidden": true
   },
   "outputs": [],
   "source": [
    "write_to_txt(val_images, os.path.join(DATASET_DIR, 'further_val_split.txt'))"
   ]
  },
  {
   "cell_type": "code",
   "execution_count": null,
   "metadata": {
    "hidden": true
   },
   "outputs": [],
   "source": []
  },
  {
   "cell_type": "markdown",
   "metadata": {},
   "source": [
    "## Debug `CovidXDataset` class"
   ]
  },
  {
   "cell_type": "code",
   "execution_count": 1,
   "metadata": {},
   "outputs": [],
   "source": [
    "%run covid_x.py"
   ]
  },
  {
   "cell_type": "code",
   "execution_count": 2,
   "metadata": {},
   "outputs": [
    {
     "data": {
      "text/plain": [
       "(12504, 1388, 1579)"
      ]
     },
     "execution_count": 2,
     "metadata": {},
     "output_type": "execute_result"
    }
   ],
   "source": [
    "train_dataset = CovidXDataset('train')\n",
    "val_dataset = CovidXDataset('val')\n",
    "test_dataset = CovidXDataset('test')\n",
    "len(train_dataset), len(val_dataset), len(test_dataset)"
   ]
  },
  {
   "cell_type": "code",
   "execution_count": 79,
   "metadata": {},
   "outputs": [
    {
     "data": {
      "text/plain": [
       "(12358, 1374, 1550)"
      ]
     },
     "execution_count": 79,
     "metadata": {},
     "output_type": "execute_result"
    }
   ],
   "source": [
    "train_patients = set(train_dataset._metadata_df['patient_id'])\n",
    "val_patients = set(val_dataset._metadata_df['patient_id'])\n",
    "test_patients = set(test_dataset._metadata_df['patient_id'])\n",
    "len(train_patients), len(val_patients), len(test_patients)"
   ]
  },
  {
   "cell_type": "code",
   "execution_count": 83,
   "metadata": {},
   "outputs": [
    {
     "data": {
      "text/plain": [
       "(set(), set(), set())"
      ]
     },
     "execution_count": 83,
     "metadata": {},
     "output_type": "execute_result"
    }
   ],
   "source": [
    "train_patients.intersection(test_patients), \\\n",
    "train_patients.intersection(val_patients), \\\n",
    "val_patients.intersection(test_patients)"
   ]
  },
  {
   "cell_type": "code",
   "execution_count": null,
   "metadata": {},
   "outputs": [],
   "source": []
  },
  {
   "cell_type": "code",
   "execution_count": 26,
   "metadata": {},
   "outputs": [],
   "source": [
    "def get_dataset_distribution(dataset):\n",
    "    temp_df = dataset._metadata_df.groupby('label').count()\n",
    "    temp_df.rename(columns={'patient_id': 'counts'}, inplace=True)\n",
    "    \n",
    "    counts = temp_df['counts'].to_numpy()\n",
    "    total = sum(counts)\n",
    "    \n",
    "    temp_df['percentage'] = counts / total * 100\n",
    "    \n",
    "    return temp_df[['counts', 'percentage']]"
   ]
  },
  {
   "cell_type": "code",
   "execution_count": 31,
   "metadata": {},
   "outputs": [
    {
     "data": {
      "text/html": [
       "<div>\n",
       "<style scoped>\n",
       "    .dataframe tbody tr th:only-of-type {\n",
       "        vertical-align: middle;\n",
       "    }\n",
       "\n",
       "    .dataframe tbody tr th {\n",
       "        vertical-align: top;\n",
       "    }\n",
       "\n",
       "    .dataframe thead th {\n",
       "        text-align: right;\n",
       "    }\n",
       "</style>\n",
       "<table border=\"1\" class=\"dataframe\">\n",
       "  <thead>\n",
       "    <tr style=\"text-align: right;\">\n",
       "      <th></th>\n",
       "      <th>counts</th>\n",
       "      <th>percentage</th>\n",
       "    </tr>\n",
       "    <tr>\n",
       "      <th>label</th>\n",
       "      <th></th>\n",
       "      <th></th>\n",
       "    </tr>\n",
       "  </thead>\n",
       "  <tbody>\n",
       "    <tr>\n",
       "      <th>covid</th>\n",
       "      <td>421</td>\n",
       "      <td>3.366923</td>\n",
       "    </tr>\n",
       "    <tr>\n",
       "      <th>normal</th>\n",
       "      <td>7170</td>\n",
       "      <td>57.341651</td>\n",
       "    </tr>\n",
       "    <tr>\n",
       "      <th>pneumonia</th>\n",
       "      <td>4913</td>\n",
       "      <td>39.291427</td>\n",
       "    </tr>\n",
       "  </tbody>\n",
       "</table>\n",
       "</div>"
      ],
      "text/plain": [
       "           counts  percentage\n",
       "label                        \n",
       "covid         421    3.366923\n",
       "normal       7170   57.341651\n",
       "pneumonia    4913   39.291427"
      ]
     },
     "execution_count": 31,
     "metadata": {},
     "output_type": "execute_result"
    }
   ],
   "source": [
    "get_dataset_distribution(train_dataset)"
   ]
  },
  {
   "cell_type": "code",
   "execution_count": 28,
   "metadata": {},
   "outputs": [
    {
     "data": {
      "text/html": [
       "<div>\n",
       "<style scoped>\n",
       "    .dataframe tbody tr th:only-of-type {\n",
       "        vertical-align: middle;\n",
       "    }\n",
       "\n",
       "    .dataframe tbody tr th {\n",
       "        vertical-align: top;\n",
       "    }\n",
       "\n",
       "    .dataframe thead th {\n",
       "        text-align: right;\n",
       "    }\n",
       "</style>\n",
       "<table border=\"1\" class=\"dataframe\">\n",
       "  <thead>\n",
       "    <tr style=\"text-align: right;\">\n",
       "      <th></th>\n",
       "      <th>counts</th>\n",
       "      <th>percentage</th>\n",
       "    </tr>\n",
       "    <tr>\n",
       "      <th>label</th>\n",
       "      <th></th>\n",
       "      <th></th>\n",
       "    </tr>\n",
       "  </thead>\n",
       "  <tbody>\n",
       "    <tr>\n",
       "      <th>covid</th>\n",
       "      <td>47</td>\n",
       "      <td>3.386167</td>\n",
       "    </tr>\n",
       "    <tr>\n",
       "      <th>normal</th>\n",
       "      <td>796</td>\n",
       "      <td>57.348703</td>\n",
       "    </tr>\n",
       "    <tr>\n",
       "      <th>pneumonia</th>\n",
       "      <td>545</td>\n",
       "      <td>39.265130</td>\n",
       "    </tr>\n",
       "  </tbody>\n",
       "</table>\n",
       "</div>"
      ],
      "text/plain": [
       "           counts  percentage\n",
       "label                        \n",
       "covid          47    3.386167\n",
       "normal        796   57.348703\n",
       "pneumonia     545   39.265130"
      ]
     },
     "execution_count": 28,
     "metadata": {},
     "output_type": "execute_result"
    }
   ],
   "source": [
    "get_dataset_distribution(val_dataset)"
   ]
  },
  {
   "cell_type": "code",
   "execution_count": 29,
   "metadata": {},
   "outputs": [
    {
     "data": {
      "text/html": [
       "<div>\n",
       "<style scoped>\n",
       "    .dataframe tbody tr th:only-of-type {\n",
       "        vertical-align: middle;\n",
       "    }\n",
       "\n",
       "    .dataframe tbody tr th {\n",
       "        vertical-align: top;\n",
       "    }\n",
       "\n",
       "    .dataframe thead th {\n",
       "        text-align: right;\n",
       "    }\n",
       "</style>\n",
       "<table border=\"1\" class=\"dataframe\">\n",
       "  <thead>\n",
       "    <tr style=\"text-align: right;\">\n",
       "      <th></th>\n",
       "      <th>counts</th>\n",
       "      <th>percentage</th>\n",
       "    </tr>\n",
       "    <tr>\n",
       "      <th>label</th>\n",
       "      <th></th>\n",
       "      <th></th>\n",
       "    </tr>\n",
       "  </thead>\n",
       "  <tbody>\n",
       "    <tr>\n",
       "      <th>covid</th>\n",
       "      <td>100</td>\n",
       "      <td>6.333122</td>\n",
       "    </tr>\n",
       "    <tr>\n",
       "      <th>normal</th>\n",
       "      <td>885</td>\n",
       "      <td>56.048132</td>\n",
       "    </tr>\n",
       "    <tr>\n",
       "      <th>pneumonia</th>\n",
       "      <td>594</td>\n",
       "      <td>37.618746</td>\n",
       "    </tr>\n",
       "  </tbody>\n",
       "</table>\n",
       "</div>"
      ],
      "text/plain": [
       "           counts  percentage\n",
       "label                        \n",
       "covid         100    6.333122\n",
       "normal        885   56.048132\n",
       "pneumonia     594   37.618746"
      ]
     },
     "execution_count": 29,
     "metadata": {},
     "output_type": "execute_result"
    }
   ],
   "source": [
    "get_dataset_distribution(test_dataset)"
   ]
  },
  {
   "cell_type": "code",
   "execution_count": 1,
   "metadata": {},
   "outputs": [
    {
     "data": {
      "text/plain": [
       "1579"
      ]
     },
     "execution_count": 1,
     "metadata": {},
     "output_type": "execute_result"
    }
   ],
   "source": [
    "100 + 885 + 594"
   ]
  },
  {
   "cell_type": "code",
   "execution_count": 3,
   "metadata": {},
   "outputs": [
    {
     "data": {
      "text/plain": [
       "(15180, 568, 6052, 8560)"
      ]
     },
     "execution_count": 3,
     "metadata": {},
     "output_type": "execute_result"
    }
   ],
   "source": [
    "covid = 421 + 47 + 100\n",
    "pneum = 4913 + 545 + 594\n",
    "normal = 7170 + 796 + 594\n",
    "total = covid + pneum + normal\n",
    "total, covid, pneum, normal"
   ]
  },
  {
   "cell_type": "code",
   "execution_count": 4,
   "metadata": {},
   "outputs": [
    {
     "data": {
      "text/plain": [
       "(3.741765480895916, 39.86824769433465, 56.38998682476944)"
      ]
     },
     "execution_count": 4,
     "metadata": {},
     "output_type": "execute_result"
    }
   ],
   "source": [
    "covid / total * 100, pneum / total * 100, normal /total * 100 "
   ]
  },
  {
   "cell_type": "code",
   "execution_count": 3,
   "metadata": {},
   "outputs": [
    {
     "data": {
      "text/plain": [
       "(11.669833729216151, 17.03087885985748)"
      ]
     },
     "execution_count": 3,
     "metadata": {},
     "output_type": "execute_result"
    }
   ],
   "source": [
    "4913 / 421, 7170 / 421"
   ]
  },
  {
   "cell_type": "code",
   "execution_count": 32,
   "metadata": {},
   "outputs": [
    {
     "data": {
      "text/plain": [
       "1579"
      ]
     },
     "execution_count": 32,
     "metadata": {},
     "output_type": "execute_result"
    }
   ],
   "source": [
    "100 + 885 + 594"
   ]
  },
  {
   "cell_type": "code",
   "execution_count": null,
   "metadata": {},
   "outputs": [],
   "source": []
  },
  {
   "cell_type": "code",
   "execution_count": null,
   "metadata": {},
   "outputs": [],
   "source": []
  },
  {
   "cell_type": "code",
   "execution_count": null,
   "metadata": {},
   "outputs": [],
   "source": []
  }
 ],
 "metadata": {
  "kernelspec": {
   "display_name": "Python 3",
   "language": "python",
   "name": "python3"
  },
  "language_info": {
   "codemirror_mode": {
    "name": "ipython",
    "version": 3
   },
   "file_extension": ".py",
   "mimetype": "text/x-python",
   "name": "python",
   "nbconvert_exporter": "python",
   "pygments_lexer": "ipython3",
   "version": "3.6.9"
  },
  "toc": {
   "base_numbering": 1,
   "nav_menu": {},
   "number_sections": true,
   "sideBar": true,
   "skip_h1_title": false,
   "title_cell": "Table of Contents",
   "title_sidebar": "Contents",
   "toc_cell": false,
   "toc_position": {},
   "toc_section_display": true,
   "toc_window_display": false
  }
 },
 "nbformat": 4,
 "nbformat_minor": 4
}
