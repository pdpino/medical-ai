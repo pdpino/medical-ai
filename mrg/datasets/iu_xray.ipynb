{
 "cells": [
  {
   "cell_type": "markdown",
   "metadata": {},
   "source": [
    "## Intro\n",
    "\n",
    "Debug datasets preprocessing steps."
   ]
  },
  {
   "cell_type": "code",
   "execution_count": 42,
   "metadata": {},
   "outputs": [],
   "source": [
    "import torch\n",
    "from torch.utils.data import Dataset\n",
    "from torchvision import transforms\n",
    "from PIL import Image\n",
    "import os\n",
    "import json\n",
    "import matplotlib.pyplot as plt"
   ]
  },
  {
   "cell_type": "code",
   "execution_count": 4,
   "metadata": {},
   "outputs": [],
   "source": [
    "%run ./iu_xray.py"
   ]
  },
  {
   "cell_type": "code",
   "execution_count": 5,
   "metadata": {},
   "outputs": [],
   "source": [
    "reports_dir = os.path.join(DATASET_DIR, 'reports')"
   ]
  },
  {
   "cell_type": "markdown",
   "metadata": {
    "heading_collapsed": true
   },
   "source": [
    "## Load data"
   ]
  },
  {
   "cell_type": "code",
   "execution_count": 6,
   "metadata": {
    "hidden": true
   },
   "outputs": [
    {
     "data": {
      "text/plain": [
       "(3955, 3955)"
      ]
     },
     "execution_count": 6,
     "metadata": {},
     "output_type": "execute_result"
    }
   ],
   "source": [
    "reports_fname = os.path.join(reports_dir, 'reports.json')\n",
    "with open(reports_fname, 'r') as f:\n",
    "    reports_as_dict = json.load(f)\n",
    "    reports = list(reports_as_dict.values())\n",
    "len(reports_as_dict), len(reports)"
   ]
  },
  {
   "cell_type": "code",
   "execution_count": 28,
   "metadata": {
    "hidden": true
   },
   "outputs": [
    {
     "data": {
      "text/plain": [
       "2"
      ]
     },
     "execution_count": 28,
     "metadata": {},
     "output_type": "execute_result"
    }
   ],
   "source": [
    "info_fname = os.path.join(DATASET_DIR, 'info.json')\n",
    "with open(info_fname, 'r') as f:\n",
    "    info = json.load(f)\n",
    "len(info)"
   ]
  },
  {
   "cell_type": "code",
   "execution_count": 65,
   "metadata": {
    "hidden": true
   },
   "outputs": [],
   "source": [
    "with open(info_fname, 'w') as f:\n",
    "    json.dump(info, f)"
   ]
  },
  {
   "cell_type": "markdown",
   "metadata": {
    "hidden": true
   },
   "source": [
    "### Rotate images"
   ]
  },
  {
   "cell_type": "code",
   "execution_count": 55,
   "metadata": {
    "hidden": true
   },
   "outputs": [],
   "source": [
    "rotations = [\n",
    "    ('left', -90),\n",
    "    ('right', 90),\n",
    "    ('bottom', 180),\n",
    "]"
   ]
  },
  {
   "cell_type": "code",
   "execution_count": null,
   "metadata": {
    "hidden": true
   },
   "outputs": [],
   "source": [
    "for key, degrees in rotations:\n",
    "    images_key = f'rotated_{key}'\n",
    "    for image_name in info['marks'][images_key]:\n",
    "        filepath = os.path.join(DATASET_DIR, 'images', image_name)\n",
    "        img = Image.open(filepath).rotate(degrees)\n",
    "        # img.save(filepath)"
   ]
  },
  {
   "cell_type": "code",
   "execution_count": null,
   "metadata": {
    "hidden": true
   },
   "outputs": [],
   "source": []
  },
  {
   "cell_type": "markdown",
   "metadata": {
    "heading_collapsed": true
   },
   "source": [
    "## Clean text"
   ]
  },
  {
   "cell_type": "markdown",
   "metadata": {
    "heading_collapsed": true,
    "hidden": true
   },
   "source": [
    "### Tokenize and clean"
   ]
  },
  {
   "cell_type": "code",
   "execution_count": 15,
   "metadata": {
    "hidden": true
   },
   "outputs": [],
   "source": [
    "import re"
   ]
  },
  {
   "cell_type": "code",
   "execution_count": 16,
   "metadata": {
    "hidden": true
   },
   "outputs": [],
   "source": [
    "# NUMBER_TOKEN = 'NUMBER'"
   ]
  },
  {
   "cell_type": "code",
   "execution_count": 17,
   "metadata": {
    "hidden": true
   },
   "outputs": [],
   "source": [
    "def text_to_tokens(text):\n",
    "    text = text.lower()\n",
    "    text = re.sub(r'(;|,+)', r',', text)\n",
    "    \n",
    "    # text = re.sub(r'\\d+\\.\\d+', NUMBER_TOKEN, text)\n",
    "    # text = re.sub(r'\\d+(nd|th)?', NUMBER_TOKEN, text)\n",
    "    \n",
    "    text = re.sub(r'< ?br ?\\?>', ' ', text)\n",
    "    text = re.sub(r'[\\[\\]<>]', '', text)\n",
    "    text = re.sub(r'(\\(|\\))', r' \\1 ', text)\n",
    "    \n",
    "    text = re.sub(r'\\.+', r'.', text)\n",
    "    text = re.sub(r'([a-zA-Z])(\\.|,|/)', r'\\1 \\2', text)\n",
    "    text = re.sub(r'(\\.|,|/)([a-zA-Z])', r'\\1 \\2', text)\n",
    "    \n",
    "    return text.split()"
   ]
  },
  {
   "cell_type": "code",
   "execution_count": 19,
   "metadata": {
    "hidden": true
   },
   "outputs": [
    {
     "name": "stdout",
     "output_type": "stream",
     "text": [
      "{'findings-none': 489, 'impression-none': 6, 'text-none': 25, 'no-images': 104}\n",
      "1923\n"
     ]
    },
    {
     "data": {
      "text/plain": [
       "(3826, 3955)"
      ]
     },
     "execution_count": 19,
     "metadata": {},
     "output_type": "execute_result"
    }
   ],
   "source": [
    "IGNORE_TOKENS = set(['p.m.'])\n",
    "token_appearances = dict()\n",
    "errors = {\n",
    "    'findings-none': [],\n",
    "    'impression-none': [],\n",
    "    'text-none': [],\n",
    "    'no-images': [],\n",
    "}\n",
    "\n",
    "cleaned_reports_as_dict = dict()\n",
    "\n",
    "for report in reports:\n",
    "    filename = report['filename']\n",
    "    findings = report['findings']\n",
    "    impression = report['impression']\n",
    "\n",
    "    n_images = len(report['images'])\n",
    "    if n_images == 0:\n",
    "        errors['no-images'].append(filename)\n",
    "        continue\n",
    "    \n",
    "    text = findings\n",
    "    if findings is None and impression is None:\n",
    "        errors['text-none'].append(filename)\n",
    "        continue\n",
    "    elif findings is None:\n",
    "        errors['findings-none'].append(filename)\n",
    "        text = impression\n",
    "    elif impression is None:\n",
    "        errors['impression-none'].append(filename)\n",
    "\n",
    "    # Clean and tokenize text\n",
    "    tokens = [token for token in text_to_tokens(text) if token not in IGNORE_TOKENS]\n",
    "\n",
    "    for token in tokens:\n",
    "        if token not in token_appearances:\n",
    "            token_appearances[token] = 0\n",
    "        token_appearances[token] += 1\n",
    "\n",
    "    cleaned_report = {k: v for k, v in report.items()}\n",
    "    cleaned_report['clean_text'] = ' '.join(tokens)\n",
    "\n",
    "    cleaned_reports_as_dict[filename] = cleaned_report\n",
    "\n",
    "print({k: len(v) for k, v in errors.items()})\n",
    "print(len(token_appearances))\n",
    "len(cleaned_reports_as_dict), len(reports)"
   ]
  },
  {
   "cell_type": "code",
   "execution_count": 20,
   "metadata": {
    "hidden": true
   },
   "outputs": [
    {
     "data": {
      "text/plain": [
       "1299"
      ]
     },
     "execution_count": 20,
     "metadata": {},
     "output_type": "execute_result"
    }
   ],
   "source": [
    "len([k for k, v in token_appearances.items() if v > 1])"
   ]
  },
  {
   "cell_type": "code",
   "execution_count": 21,
   "metadata": {
    "hidden": true
   },
   "outputs": [
    {
     "data": {
      "text/plain": [
       "[(')', 13), ('(', 14)]"
      ]
     },
     "execution_count": 21,
     "metadata": {},
     "output_type": "execute_result"
    }
   ],
   "source": [
    "sorted([(k, v) for k, v in token_appearances.items() if re.search(r'[()]', k)],\n",
    "       key=lambda x:x[1], reverse=False)"
   ]
  },
  {
   "cell_type": "markdown",
   "metadata": {
    "heading_collapsed": true,
    "hidden": true
   },
   "source": [
    "### Review errors"
   ]
  },
  {
   "cell_type": "code",
   "execution_count": 142,
   "metadata": {
    "hidden": true
   },
   "outputs": [
    {
     "data": {
      "text/plain": [
       "{'comparison': 'None',\n",
       " 'filename': '1068.xml',\n",
       " 'findings': 'Heart size and pulmonary vascularity are within normal limits. No focal infiltrate, pneumothorax or pleural effusion is identified.',\n",
       " 'images': [],\n",
       " 'impression': 'No active disease.',\n",
       " 'indication': 'Chest congestion',\n",
       " 'tags_auto': [],\n",
       " 'tags_manual': ['normal']}"
      ]
     },
     "execution_count": 142,
     "metadata": {},
     "output_type": "execute_result"
    }
   ],
   "source": [
    "reports_as_dict[errors['no-images'][0]]"
   ]
  },
  {
   "cell_type": "markdown",
   "metadata": {
    "heading_collapsed": true,
    "hidden": true
   },
   "source": [
    "### Review specific tokens"
   ]
  },
  {
   "cell_type": "code",
   "execution_count": 92,
   "metadata": {
    "hidden": true
   },
   "outputs": [
    {
     "name": "stdout",
     "output_type": "stream",
     "text": [
      "3\n"
     ]
    },
    {
     "data": {
      "text/plain": [
       "[('2192.xml',\n",
       "  'No focal lung consolidation. No pneumothorax or pleural effusion.Heart size and pulmonary vascularity are within normal limits.Minimal degenerative changes of the thoracic spine. The previously<BR>described XXXX deformity in the midthoracic spine is again seen. There is subcutaneous shunt catheter tubing along the anterior chest wall'),\n",
       " ('2513.xml',\n",
       "  '[<Heart size and pulmonary vascularity within normal limits. There is a large hiatal hernia seen projecting in the retrocardiac region. This is XXXX from prior examination. There is associated atelectasis in the left lung base. No pleural effusion or pneumothorax is identified.'),\n",
       " ('2542.xml',\n",
       "  'The XXXX examination consists of frontal and lateral radiographs of the chest. The cardiomediastinal contours are within normal limits. [Pulmonary vascularity is within normal limits>]. No focal consolidation, pleural effusion, or pneumothorax identified. The visualized osseous structures and upper abdomen are unremarkable.')]"
      ]
     },
     "execution_count": 92,
     "metadata": {},
     "output_type": "execute_result"
    }
   ],
   "source": [
    "found = []\n",
    "\n",
    "for report in reports:\n",
    "    name = report['filename']\n",
    "    text = report['findings']\n",
    "    \n",
    "    if text is None:\n",
    "        continue\n",
    "        \n",
    "    s = re.search('[\\[\\]><]', text)\n",
    "    if s and 'and/or' not in text:\n",
    "        found.append((name, text)) # s.group(0)\n",
    "\n",
    "print(len(found))\n",
    "found"
   ]
  },
  {
   "cell_type": "code",
   "execution_count": null,
   "metadata": {
    "hidden": true
   },
   "outputs": [],
   "source": []
  },
  {
   "cell_type": "markdown",
   "metadata": {
    "hidden": true
   },
   "source": [
    "### Save cleaned reports"
   ]
  },
  {
   "cell_type": "code",
   "execution_count": 22,
   "metadata": {
    "hidden": true
   },
   "outputs": [],
   "source": [
    "fname = os.path.join(reports_dir, 'reports.clean.json')\n",
    "with open(fname, 'w') as f:\n",
    "    json.dump(cleaned_reports_as_dict, f)"
   ]
  },
  {
   "cell_type": "code",
   "execution_count": null,
   "metadata": {
    "hidden": true
   },
   "outputs": [],
   "source": []
  },
  {
   "cell_type": "markdown",
   "metadata": {},
   "source": [
    "## Add side to image info (in cleaned reports)\n",
    "\n",
    "`side` can be one of (`frontal`, `lateral-left`, `lateral-right`)"
   ]
  },
  {
   "cell_type": "code",
   "execution_count": 66,
   "metadata": {},
   "outputs": [
    {
     "data": {
      "text/plain": [
       "3826"
      ]
     },
     "execution_count": 66,
     "metadata": {},
     "output_type": "execute_result"
    }
   ],
   "source": [
    "fname = os.path.join(reports_dir, 'reports.clean.json')\n",
    "with open(fname, 'r') as f:\n",
    "    clean_reports = json.load(f)\n",
    "len(clean_reports)"
   ]
  },
  {
   "cell_type": "code",
   "execution_count": 75,
   "metadata": {},
   "outputs": [],
   "source": [
    "wrong_images = set(info['marks']['wrong'])\n",
    "broken_images = set(info['marks']['broken'])"
   ]
  },
  {
   "cell_type": "code",
   "execution_count": 79,
   "metadata": {},
   "outputs": [
    {
     "data": {
      "text/plain": [
       "3826"
      ]
     },
     "execution_count": 79,
     "metadata": {},
     "output_type": "execute_result"
    }
   ],
   "source": [
    "for report_name, report_dict in clean_reports.items():\n",
    "    new_images_info = []\n",
    "    for image_info in report_dict['images']:\n",
    "        image_name = image_info['id']\n",
    "        image_name = f'{image_name}.png'\n",
    "\n",
    "        image_info['side'] = info['classification'][image_name]\n",
    "        image_info['wrong'] = image_name in wrong_images\n",
    "        image_info['broken'] = image_name in broken_images\n",
    "\n",
    "        new_images_info.append(image_info)\n",
    "    \n",
    "    report_dict['images'] = new_images_info\n",
    "    clean_reports[report_name] = report_dict\n",
    "    \n",
    "len(clean_reports)"
   ]
  },
  {
   "cell_type": "code",
   "execution_count": null,
   "metadata": {},
   "outputs": [],
   "source": []
  },
  {
   "cell_type": "markdown",
   "metadata": {},
   "source": [
    "## Calculate image normalization"
   ]
  },
  {
   "cell_type": "code",
   "execution_count": 86,
   "metadata": {},
   "outputs": [],
   "source": [
    "import torch\n",
    "from tqdm.notebook import tqdm"
   ]
  },
  {
   "cell_type": "code",
   "execution_count": 88,
   "metadata": {},
   "outputs": [],
   "source": [
    "image_folder = os.path.join(DATASET_DIR, 'images')"
   ]
  },
  {
   "cell_type": "code",
   "execution_count": 89,
   "metadata": {},
   "outputs": [
    {
     "data": {
      "text/plain": [
       "7470"
      ]
     },
     "execution_count": 89,
     "metadata": {},
     "output_type": "execute_result"
    }
   ],
   "source": [
    "image_names = os.listdir(image_folder)\n",
    "image_names = [i for i in image_names if i.endswith('.png')]\n",
    "len(image_names)"
   ]
  },
  {
   "cell_type": "code",
   "execution_count": 90,
   "metadata": {},
   "outputs": [],
   "source": [
    "transform = transforms.Compose([\n",
    "    transforms.Resize((256, 256)),\n",
    "    transforms.ToTensor(),\n",
    "])"
   ]
  },
  {
   "cell_type": "code",
   "execution_count": 93,
   "metadata": {},
   "outputs": [
    {
     "data": {
      "application/vnd.jupyter.widget-view+json": {
       "model_id": "911b49282bce4ef5bec2a8c4c69cebb1",
       "version_major": 2,
       "version_minor": 0
      },
      "text/plain": [
       "HBox(children=(FloatProgress(value=0.0, max=7470.0), HTML(value='')))"
      ]
     },
     "metadata": {},
     "output_type": "display_data"
    },
    {
     "name": "stdout",
     "output_type": "stream",
     "text": [
      "\n"
     ]
    }
   ],
   "source": [
    "summed = torch.zeros(3, 256, 256)\n",
    "\n",
    "for image_name in tqdm(image_names):\n",
    "    fpath = os.path.join(image_folder, image_name)\n",
    "    image = transform(Image.open(fpath).convert('RGB'))\n",
    "    summed += image\n",
    "    \n",
    "summed /= len(image_names)"
   ]
  },
  {
   "cell_type": "code",
   "execution_count": 94,
   "metadata": {},
   "outputs": [
    {
     "data": {
      "text/plain": [
       "tensor([0.4822, 0.4822, 0.4822])"
      ]
     },
     "execution_count": 94,
     "metadata": {},
     "output_type": "execute_result"
    }
   ],
   "source": [
    "summed.mean(dim=-1).mean(dim=-1)"
   ]
  },
  {
   "cell_type": "code",
   "execution_count": 95,
   "metadata": {},
   "outputs": [
    {
     "data": {
      "text/plain": [
       "tensor([0.0461, 0.0461, 0.0461])"
      ]
     },
     "execution_count": 95,
     "metadata": {},
     "output_type": "execute_result"
    }
   ],
   "source": [
    "summed.std(dim=-1).std(dim=-1)"
   ]
  },
  {
   "cell_type": "code",
   "execution_count": null,
   "metadata": {},
   "outputs": [],
   "source": []
  },
  {
   "cell_type": "markdown",
   "metadata": {},
   "source": [
    "## Test `IUXrayDataset` class"
   ]
  },
  {
   "cell_type": "code",
   "execution_count": 3,
   "metadata": {},
   "outputs": [],
   "source": [
    "import matplotlib.pyplot as plt\n",
    "from PIL import Image\n",
    "import numpy as np\n",
    "from torchvision import transforms"
   ]
  },
  {
   "cell_type": "code",
   "execution_count": 4,
   "metadata": {},
   "outputs": [],
   "source": [
    "%run ./iu_xray.py"
   ]
  },
  {
   "cell_type": "code",
   "execution_count": 5,
   "metadata": {},
   "outputs": [
    {
     "data": {
      "text/plain": [
       "(7430, 3826)"
      ]
     },
     "execution_count": 5,
     "metadata": {},
     "output_type": "execute_result"
    }
   ],
   "source": [
    "dataset = IUXRayDataset(max_images=None)\n",
    "dataset.size()"
   ]
  },
  {
   "cell_type": "code",
   "execution_count": 6,
   "metadata": {},
   "outputs": [
    {
     "data": {
      "text/plain": [
       "1881"
      ]
     },
     "execution_count": 6,
     "metadata": {},
     "output_type": "execute_result"
    }
   ],
   "source": [
    "len(dataset.word_to_idx)"
   ]
  },
  {
   "cell_type": "code",
   "execution_count": 9,
   "metadata": {},
   "outputs": [
    {
     "data": {
      "text/plain": [
       "torch.Size([3, 624, 512])"
      ]
     },
     "execution_count": 9,
     "metadata": {},
     "output_type": "execute_result"
    }
   ],
   "source": [
    "image, report = dataset[0]\n",
    "image.size()"
   ]
  },
  {
   "cell_type": "code",
   "execution_count": 10,
   "metadata": {},
   "outputs": [
    {
     "data": {
      "text/plain": [
       "<matplotlib.image.AxesImage at 0x7fc6f063f3c8>"
      ]
     },
     "execution_count": 10,
     "metadata": {},
     "output_type": "execute_result"
    },
    {
     "data": {
      "image/png": "[encoded data removed]",
      "text/plain": [
       "<Figure size 432x288 with 1 Axes>"
      ]
     },
     "metadata": {
      "needs_background": "light"
     },
     "output_type": "display_data"
    }
   ],
   "source": [
    "plt.imshow(image.numpy().transpose(1, 2, 0))"
   ]
  },
  {
   "cell_type": "markdown",
   "metadata": {},
   "source": [
    "### Review different image shapes"
   ]
  },
  {
   "cell_type": "code",
   "execution_count": 205,
   "metadata": {},
   "outputs": [
    {
     "data": {
      "text/plain": [
       "251"
      ]
     },
     "execution_count": 205,
     "metadata": {},
     "output_type": "execute_result"
    }
   ],
   "source": [
    "shapes = set()\n",
    "\n",
    "for idx in range(len(dataset)):\n",
    "    image, _ = dataset[idx]\n",
    "    shapes.add(image.numpy().shape)\n",
    "\n",
    "len(shapes)"
   ]
  },
  {
   "cell_type": "code",
   "execution_count": 206,
   "metadata": {
    "collapsed": true
   },
   "outputs": [
    {
     "data": {
      "text/plain": [
       "{(3, 378, 512),\n",
       " (3, 391, 512),\n",
       " (3, 392, 512),\n",
       " (3, 399, 512),\n",
       " (3, 403, 512),\n",
       " (3, 409, 512),\n",
       " (3, 413, 512),\n",
       " (3, 415, 512),\n",
       " (3, 419, 512),\n",
       " (3, 420, 512),\n",
       " (3, 421, 512),\n",
       " (3, 422, 512),\n",
       " (3, 423, 512),\n",
       " (3, 424, 512),\n",
       " (3, 425, 512),\n",
       " (3, 426, 512),\n",
       " (3, 428, 512),\n",
       " (3, 429, 512),\n",
       " (3, 430, 512),\n",
       " (3, 431, 512),\n",
       " (3, 433, 512),\n",
       " (3, 434, 512),\n",
       " (3, 435, 512),\n",
       " (3, 436, 512),\n",
       " (3, 437, 512),\n",
       " (3, 441, 512),\n",
       " (3, 442, 512),\n",
       " (3, 443, 512),\n",
       " (3, 446, 512),\n",
       " (3, 447, 512),\n",
       " (3, 448, 512),\n",
       " (3, 449, 512),\n",
       " (3, 450, 512),\n",
       " (3, 451, 512),\n",
       " (3, 454, 512),\n",
       " (3, 456, 512),\n",
       " (3, 457, 512),\n",
       " (3, 459, 512),\n",
       " (3, 460, 512),\n",
       " (3, 461, 512),\n",
       " (3, 462, 512),\n",
       " (3, 463, 512),\n",
       " (3, 464, 512),\n",
       " (3, 466, 512),\n",
       " (3, 467, 512),\n",
       " (3, 468, 512),\n",
       " (3, 469, 512),\n",
       " (3, 470, 512),\n",
       " (3, 471, 512),\n",
       " (3, 472, 512),\n",
       " (3, 473, 512),\n",
       " (3, 474, 512),\n",
       " (3, 475, 512),\n",
       " (3, 476, 512),\n",
       " (3, 478, 512),\n",
       " (3, 479, 512),\n",
       " (3, 480, 512),\n",
       " (3, 481, 512),\n",
       " (3, 482, 512),\n",
       " (3, 483, 512),\n",
       " (3, 484, 512),\n",
       " (3, 485, 512),\n",
       " (3, 486, 512),\n",
       " (3, 487, 512),\n",
       " (3, 488, 512),\n",
       " (3, 489, 512),\n",
       " (3, 490, 512),\n",
       " (3, 491, 512),\n",
       " (3, 492, 512),\n",
       " (3, 493, 512),\n",
       " (3, 494, 512),\n",
       " (3, 495, 512),\n",
       " (3, 496, 512),\n",
       " (3, 497, 512),\n",
       " (3, 498, 512),\n",
       " (3, 499, 512),\n",
       " (3, 500, 512),\n",
       " (3, 501, 512),\n",
       " (3, 502, 512),\n",
       " (3, 503, 512),\n",
       " (3, 504, 512),\n",
       " (3, 505, 512),\n",
       " (3, 506, 512),\n",
       " (3, 507, 512),\n",
       " (3, 508, 512),\n",
       " (3, 509, 512),\n",
       " (3, 510, 512),\n",
       " (3, 511, 512),\n",
       " (3, 512, 512),\n",
       " (3, 513, 512),\n",
       " (3, 514, 512),\n",
       " (3, 515, 512),\n",
       " (3, 516, 512),\n",
       " (3, 517, 512),\n",
       " (3, 518, 512),\n",
       " (3, 519, 512),\n",
       " (3, 520, 512),\n",
       " (3, 521, 512),\n",
       " (3, 522, 512),\n",
       " (3, 523, 512),\n",
       " (3, 524, 512),\n",
       " (3, 525, 512),\n",
       " (3, 526, 512),\n",
       " (3, 527, 512),\n",
       " (3, 528, 512),\n",
       " (3, 529, 512),\n",
       " (3, 530, 512),\n",
       " (3, 531, 512),\n",
       " (3, 532, 512),\n",
       " (3, 533, 512),\n",
       " (3, 534, 512),\n",
       " (3, 535, 512),\n",
       " (3, 536, 512),\n",
       " (3, 537, 512),\n",
       " (3, 538, 512),\n",
       " (3, 539, 512),\n",
       " (3, 540, 512),\n",
       " (3, 541, 512),\n",
       " (3, 542, 512),\n",
       " (3, 543, 512),\n",
       " (3, 544, 512),\n",
       " (3, 545, 512),\n",
       " (3, 546, 512),\n",
       " (3, 547, 512),\n",
       " (3, 548, 512),\n",
       " (3, 549, 512),\n",
       " (3, 550, 512),\n",
       " (3, 551, 512),\n",
       " (3, 552, 512),\n",
       " (3, 553, 512),\n",
       " (3, 555, 512),\n",
       " (3, 556, 512),\n",
       " (3, 557, 512),\n",
       " (3, 558, 512),\n",
       " (3, 560, 512),\n",
       " (3, 561, 512),\n",
       " (3, 562, 512),\n",
       " (3, 563, 512),\n",
       " (3, 564, 512),\n",
       " (3, 565, 512),\n",
       " (3, 566, 512),\n",
       " (3, 568, 512),\n",
       " (3, 569, 512),\n",
       " (3, 570, 512),\n",
       " (3, 571, 512),\n",
       " (3, 572, 512),\n",
       " (3, 573, 512),\n",
       " (3, 574, 512),\n",
       " (3, 575, 512),\n",
       " (3, 576, 512),\n",
       " (3, 577, 512),\n",
       " (3, 578, 512),\n",
       " (3, 579, 512),\n",
       " (3, 581, 512),\n",
       " (3, 582, 512),\n",
       " (3, 583, 512),\n",
       " (3, 584, 512),\n",
       " (3, 585, 512),\n",
       " (3, 587, 512),\n",
       " (3, 588, 512),\n",
       " (3, 590, 512),\n",
       " (3, 591, 512),\n",
       " (3, 592, 512),\n",
       " (3, 593, 512),\n",
       " (3, 594, 512),\n",
       " (3, 595, 512),\n",
       " (3, 596, 512),\n",
       " (3, 597, 512),\n",
       " (3, 598, 512),\n",
       " (3, 599, 512),\n",
       " (3, 600, 512),\n",
       " (3, 601, 512),\n",
       " (3, 602, 512),\n",
       " (3, 603, 512),\n",
       " (3, 604, 512),\n",
       " (3, 606, 512),\n",
       " (3, 607, 512),\n",
       " (3, 608, 512),\n",
       " (3, 609, 512),\n",
       " (3, 610, 512),\n",
       " (3, 611, 512),\n",
       " (3, 612, 512),\n",
       " (3, 613, 512),\n",
       " (3, 614, 512),\n",
       " (3, 615, 512),\n",
       " (3, 616, 512),\n",
       " (3, 617, 512),\n",
       " (3, 618, 512),\n",
       " (3, 619, 512),\n",
       " (3, 620, 512),\n",
       " (3, 621, 512),\n",
       " (3, 622, 512),\n",
       " (3, 623, 512),\n",
       " (3, 624, 512),\n",
       " (3, 626, 512),\n",
       " (3, 627, 512),\n",
       " (3, 628, 512),\n",
       " (3, 629, 512),\n",
       " (3, 630, 512),\n",
       " (3, 631, 512),\n",
       " (3, 632, 512),\n",
       " (3, 633, 512),\n",
       " (3, 634, 512),\n",
       " (3, 635, 512),\n",
       " (3, 636, 512),\n",
       " (3, 637, 512),\n",
       " (3, 639, 512),\n",
       " (3, 640, 512),\n",
       " (3, 641, 512),\n",
       " (3, 642, 512),\n",
       " (3, 643, 512),\n",
       " (3, 644, 512),\n",
       " (3, 649, 512),\n",
       " (3, 651, 512),\n",
       " (3, 652, 512),\n",
       " (3, 653, 512),\n",
       " (3, 654, 512),\n",
       " (3, 656, 512),\n",
       " (3, 657, 512),\n",
       " (3, 659, 512),\n",
       " (3, 661, 512),\n",
       " (3, 664, 512),\n",
       " (3, 667, 512),\n",
       " (3, 668, 512),\n",
       " (3, 671, 512),\n",
       " (3, 672, 512),\n",
       " (3, 673, 512),\n",
       " (3, 674, 512),\n",
       " (3, 679, 512),\n",
       " (3, 680, 512),\n",
       " (3, 682, 512),\n",
       " (3, 683, 512),\n",
       " (3, 688, 512),\n",
       " (3, 689, 512),\n",
       " (3, 690, 512),\n",
       " (3, 694, 512),\n",
       " (3, 696, 512),\n",
       " (3, 699, 512),\n",
       " (3, 716, 512),\n",
       " (3, 721, 512),\n",
       " (3, 726, 512),\n",
       " (3, 730, 512),\n",
       " (3, 732, 512),\n",
       " (3, 733, 512),\n",
       " (3, 734, 512),\n",
       " (3, 736, 512),\n",
       " (3, 741, 512),\n",
       " (3, 742, 512),\n",
       " (3, 756, 512),\n",
       " (3, 805, 512),\n",
       " (3, 821, 512)}"
      ]
     },
     "execution_count": 206,
     "metadata": {},
     "output_type": "execute_result"
    }
   ],
   "source": [
    "shapes"
   ]
  },
  {
   "cell_type": "markdown",
   "metadata": {},
   "source": [
    "### Load single images"
   ]
  },
  {
   "cell_type": "code",
   "execution_count": 11,
   "metadata": {},
   "outputs": [
    {
     "data": {
      "text/plain": [
       "((512, 621), torch.Size([3, 621, 512]))"
      ]
     },
     "execution_count": 11,
     "metadata": {},
     "output_type": "execute_result"
    }
   ],
   "source": [
    "fname = DATASET_DIR + '/images/CXR5_IM-2117-1003002.png'\n",
    "img = Image.open(fname)\n",
    "img_tensor = transforms.ToTensor()(img)\n",
    "img.size, img_tensor.size()"
   ]
  },
  {
   "cell_type": "code",
   "execution_count": null,
   "metadata": {},
   "outputs": [],
   "source": []
  }
 ],
 "metadata": {
  "kernelspec": {
   "display_name": "Python 3",
   "language": "python",
   "name": "python3"
  },
  "language_info": {
   "codemirror_mode": {
    "name": "ipython",
    "version": 3
   },
   "file_extension": ".py",
   "mimetype": "text/x-python",
   "name": "python",
   "nbconvert_exporter": "python",
   "pygments_lexer": "ipython3",
   "version": "3.6.9"
  },
  "toc": {
   "base_numbering": 1,
   "nav_menu": {},
   "number_sections": true,
   "sideBar": true,
   "skip_h1_title": false,
   "title_cell": "Table of Contents",
   "title_sidebar": "Contents",
   "toc_cell": false,
   "toc_position": {},
   "toc_section_display": true,
   "toc_window_display": false
  }
 },
 "nbformat": 4,
 "nbformat_minor": 4
}
