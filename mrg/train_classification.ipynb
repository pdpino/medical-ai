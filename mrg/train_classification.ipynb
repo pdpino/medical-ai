{
 "cells": [
  {
   "cell_type": "markdown",
   "metadata": {},
   "source": [
    "## Imports"
   ]
  },
  {
   "cell_type": "code",
   "execution_count": 1,
   "metadata": {},
   "outputs": [],
   "source": [
    "import torch\n",
    "from ignite.engine import Engine, Events\n",
    "from ignite.handlers import Timer #, EarlyStopping\n",
    "from torch import optim\n",
    "\n",
    "import time"
   ]
  },
  {
   "cell_type": "code",
   "execution_count": 16,
   "metadata": {},
   "outputs": [],
   "source": [
    "%run ./datasets/__init__.py"
   ]
  },
  {
   "cell_type": "code",
   "execution_count": 17,
   "metadata": {},
   "outputs": [],
   "source": [
    "%run ./utils/__init__.py\n",
    "%run ./utils/runs.py"
   ]
  },
  {
   "cell_type": "code",
   "execution_count": 18,
   "metadata": {},
   "outputs": [],
   "source": [
    "%run ./models/classification/__init__.py"
   ]
  },
  {
   "cell_type": "code",
   "execution_count": 19,
   "metadata": {},
   "outputs": [],
   "source": [
    "%run ./losses/__init__.py"
   ]
  },
  {
   "cell_type": "code",
   "execution_count": 20,
   "metadata": {},
   "outputs": [],
   "source": [
    "%run ./metrics/classification/__init__.py"
   ]
  },
  {
   "cell_type": "code",
   "execution_count": 21,
   "metadata": {},
   "outputs": [],
   "source": [
    "%run ./tensorboard.py"
   ]
  },
  {
   "cell_type": "markdown",
   "metadata": {},
   "source": [
    "## Functions"
   ]
  },
  {
   "cell_type": "code",
   "execution_count": 8,
   "metadata": {},
   "outputs": [
    {
     "data": {
      "text/plain": [
       "device(type='cuda')"
      ]
     },
     "execution_count": 8,
     "metadata": {},
     "output_type": "execute_result"
    }
   ],
   "source": [
    "DEVICE = torch.device('cuda')\n",
    "DEVICE"
   ]
  },
  {
   "cell_type": "code",
   "execution_count": 9,
   "metadata": {},
   "outputs": [],
   "source": [
    "def get_step_fn(model, optimizer, loss_fn, training=True, device=DEVICE):\n",
    "    \"\"\"Creates a step function for an Engine.\"\"\"\n",
    "    def step_fn(engine, data_batch):\n",
    "        # Move inputs to GPU\n",
    "        images = data_batch[0].to(device)\n",
    "        # shape: batch_size, 3, height, width\n",
    "        \n",
    "        labels = data_batch[1].to(device)\n",
    "        # shape: batch_size, n_labels\n",
    "\n",
    "        # Enable training\n",
    "        model.train(training)\n",
    "        torch.set_grad_enabled(training) # enable recording gradients\n",
    "\n",
    "        # zero the parameter gradients\n",
    "        optimizer.zero_grad()\n",
    "\n",
    "        # Forward\n",
    "        output_tuple = model(images)\n",
    "        outputs = output_tuple[0]\n",
    "\n",
    "        # Compute classification loss\n",
    "        loss = loss_fn(outputs, labels.float())\n",
    "        \n",
    "        batch_loss = loss.item()\n",
    "\n",
    "        if training:\n",
    "            loss.backward()\n",
    "            optimizer.step()\n",
    "\n",
    "        return batch_loss, outputs, labels\n",
    "\n",
    "    return step_fn"
   ]
  },
  {
   "cell_type": "code",
   "execution_count": 43,
   "metadata": {},
   "outputs": [],
   "source": [
    "# SEED = 10 # will be ignored in ignite v0.4.0"
   ]
  },
  {
   "cell_type": "code",
   "execution_count": 44,
   "metadata": {},
   "outputs": [],
   "source": [
    "def train_model(run_name, model, train_dataloader, val_dataloader, n_epochs=1, lr=0.0001,\n",
    "               loss_name='wbce', debug=True):\n",
    "    # Prepare run\n",
    "    run_state = RunState(run_name, classification=True, debug=debug)\n",
    "    initial_epoch = run_state.current_epoch()\n",
    "    if initial_epoch > 0:\n",
    "        print('Found previous run on epoch: ', initial_epoch)\n",
    "    \n",
    "    # Prepare optimizer and loss\n",
    "    optimizer = optim.Adam(model.parameters(), lr=lr)\n",
    "    loss = get_loss_function(loss_name)\n",
    "    \n",
    "    # Classification labels\n",
    "    labels = train_dataloader.dataset.labels\n",
    "    \n",
    "    # TB writer\n",
    "    tb_writer = TBClassificationWriter(run_name, labels=labels, debug=debug)\n",
    "\n",
    "    # Create validator engine\n",
    "    validator = Engine(get_step_fn(model, optimizer, loss, training=False))\n",
    "    attach_metrics_classification(validator, labels)\n",
    "    \n",
    "    # Create trainer engine\n",
    "    trainer = Engine(get_step_fn(model, optimizer, loss, training=True))\n",
    "    attach_metrics_classification(trainer, labels)\n",
    "    \n",
    "    # Create Timer to measure wall time between epochs\n",
    "    timer = Timer(average=True)\n",
    "    timer.attach(trainer, start=Events.EPOCH_STARTED, step=Events.EPOCH_COMPLETED)\n",
    "\n",
    "    @trainer.on(Events.EPOCH_COMPLETED)\n",
    "    def log_metrics(trainer):\n",
    "        # Run on evaluation\n",
    "        validator.run(val_dataloader, 1)\n",
    "\n",
    "        # State\n",
    "        epoch = trainer.state.epoch + initial_epoch\n",
    "        max_epochs = trainer.state.max_epochs + initial_epoch\n",
    "        train_metrics = trainer.state.metrics\n",
    "        val_metrics = validator.state.metrics\n",
    "        \n",
    "        # Save state\n",
    "        run_state.save_state(epoch)\n",
    "        \n",
    "        # Walltime\n",
    "        wall_time = time.time()\n",
    "\n",
    "        # Log to TB\n",
    "        tb_writer.write_histogram(model, epoch, wall_time)\n",
    "        tb_writer.write_metrics(train_metrics, 'train', epoch, wall_time)\n",
    "        tb_writer.write_metrics(val_metrics, 'val', epoch, wall_time)\n",
    "        \n",
    "        # Print results\n",
    "        train_loss = train_metrics.get('loss', -1)\n",
    "        val_loss = val_metrics.get('loss', -1)\n",
    "        \n",
    "        loss_str = f'loss {train_loss:.4f}, {val_loss:.4f}'\n",
    "        duration_str = duration_to_str(timer._elapsed())\n",
    "        print(f'Finished epoch {epoch}/{max_epochs}, {loss_str} (took {duration_str})')\n",
    "\n",
    "    # Train!\n",
    "    print('-' * 50)\n",
    "    print('Training...')\n",
    "    trainer.run(train_dataloader, n_epochs)\n",
    "    \n",
    "    # Capture time per epoch\n",
    "    secs_per_epoch = timer.value()\n",
    "    duration_per_epoch = duration_to_str(secs_per_epoch)\n",
    "    print('Average time per epoch: ', duration_per_epoch)\n",
    "    print('-'*50)\n",
    "\n",
    "    tb_writer.close()\n",
    "\n",
    "    return"
   ]
  },
  {
   "cell_type": "markdown",
   "metadata": {},
   "source": [
    "## Load stuff"
   ]
  },
  {
   "cell_type": "code",
   "execution_count": 11,
   "metadata": {},
   "outputs": [
    {
     "name": "stdout",
     "output_type": "stream",
     "text": [
      "Loading train dataset...\n",
      "Loading val dataset...\n"
     ]
    },
    {
     "data": {
      "text/plain": [
       "(100, 14)"
      ]
     },
     "execution_count": 11,
     "metadata": {},
     "output_type": "execute_result"
    }
   ],
   "source": [
    "train_dataloader = prepare_data_classification(dataset_type='train', max_images=100)\n",
    "val_dataloader = prepare_data_classification(dataset_type='val', max_images=100)\n",
    "train_dataloader.dataset.size()"
   ]
  },
  {
   "cell_type": "code",
   "execution_count": 28,
   "metadata": {},
   "outputs": [],
   "source": [
    "model = init_empty_model('resnet', train_dataloader.dataset.labels).to(DEVICE)"
   ]
  },
  {
   "cell_type": "markdown",
   "metadata": {},
   "source": [
    "## Train"
   ]
  },
  {
   "cell_type": "code",
   "execution_count": 48,
   "metadata": {},
   "outputs": [
    {
     "name": "stdout",
     "output_type": "stream",
     "text": [
      "Found previous run on epoch:  6\n",
      "--------------------------------------------------\n",
      "Training...\n",
      "Finished epoch 7/9, loss 0.0268, 722.7981 (took 0h 0m 8s)\n",
      "Finished epoch 8/9, loss 0.0065, 877.6345 (took 0h 0m 8s)\n",
      "Finished epoch 9/9, loss 0.1154, 1115.6416 (took 0h 0m 8s)\n",
      "Average time per epoch:  0h 0m 8s\n",
      "--------------------------------------------------\n"
     ]
    }
   ],
   "source": [
    "train_model('run_name_6', model, train_dataloader, val_dataloader, n_epochs=3, loss_name='wbce')"
   ]
  },
  {
   "cell_type": "code",
   "execution_count": null,
   "metadata": {},
   "outputs": [],
   "source": []
  },
  {
   "cell_type": "code",
   "execution_count": null,
   "metadata": {},
   "outputs": [],
   "source": []
  }
 ],
 "metadata": {
  "kernelspec": {
   "display_name": "Python 3",
   "language": "python",
   "name": "python3"
  },
  "language_info": {
   "codemirror_mode": {
    "name": "ipython",
    "version": 3
   },
   "file_extension": ".py",
   "mimetype": "text/x-python",
   "name": "python",
   "nbconvert_exporter": "python",
   "pygments_lexer": "ipython3",
   "version": "3.6.9"
  },
  "toc": {
   "base_numbering": 1,
   "nav_menu": {
    "height": "255px",
    "width": "188px"
   },
   "number_sections": true,
   "sideBar": true,
   "skip_h1_title": false,
   "title_cell": "Table of Contents",
   "title_sidebar": "Contents",
   "toc_cell": false,
   "toc_position": {},
   "toc_section_display": true,
   "toc_window_display": false
  }
 },
 "nbformat": 4,
 "nbformat_minor": 4
}
