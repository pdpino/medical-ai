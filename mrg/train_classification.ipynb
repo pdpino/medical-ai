{
 "cells": [
  {
   "cell_type": "markdown",
   "metadata": {},
   "source": [
    "## Imports"
   ]
  },
  {
   "cell_type": "code",
   "execution_count": 1,
   "metadata": {},
   "outputs": [
    {
     "name": "stdout",
     "output_type": "stream",
     "text": [
      "0,1\r\n"
     ]
    }
   ],
   "source": [
    "!echo $CUDA_VISIBLE_DEVICES"
   ]
  },
  {
   "cell_type": "code",
   "execution_count": 2,
   "metadata": {},
   "outputs": [],
   "source": [
    "import torch\n",
    "from torch import optim\n",
    "from ignite.handlers import Checkpoint"
   ]
  },
  {
   "cell_type": "code",
   "execution_count": 3,
   "metadata": {},
   "outputs": [],
   "source": [
    "%run -n train_classification.py"
   ]
  },
  {
   "cell_type": "code",
   "execution_count": 4,
   "metadata": {},
   "outputs": [],
   "source": [
    "%run models/classification/__init__.py"
   ]
  },
  {
   "cell_type": "code",
   "execution_count": 5,
   "metadata": {},
   "outputs": [],
   "source": [
    "%run datasets/__init__.py"
   ]
  },
  {
   "cell_type": "code",
   "execution_count": 6,
   "metadata": {},
   "outputs": [],
   "source": [
    "%run models/checkpoint/__init__.py"
   ]
  },
  {
   "cell_type": "code",
   "execution_count": 7,
   "metadata": {},
   "outputs": [],
   "source": [
    "%run utils/__init__.py"
   ]
  },
  {
   "cell_type": "code",
   "execution_count": 8,
   "metadata": {},
   "outputs": [
    {
     "data": {
      "text/plain": [
       "device(type='cpu')"
      ]
     },
     "execution_count": 8,
     "metadata": {},
     "output_type": "execute_result"
    }
   ],
   "source": [
    "DEVICE = torch.device('cpu')\n",
    "# DEVICE = torch.device('cuda')\n",
    "DEVICE"
   ]
  },
  {
   "cell_type": "markdown",
   "metadata": {},
   "source": [
    "## Load stuff"
   ]
  },
  {
   "cell_type": "markdown",
   "metadata": {
    "heading_collapsed": true
   },
   "source": [
    "### Load datasets"
   ]
  },
  {
   "cell_type": "code",
   "execution_count": 10,
   "metadata": {
    "hidden": true
   },
   "outputs": [
    {
     "name": "stdout",
     "output_type": "stream",
     "text": [
      "Loading covid-x/train dataset...\n",
      "Loading covid-x/val dataset...\n"
     ]
    },
    {
     "data": {
      "text/plain": [
       "(20, 3)"
      ]
     },
     "execution_count": 10,
     "metadata": {},
     "output_type": "execute_result"
    }
   ],
   "source": [
    "dataset_name = 'covid-x'\n",
    "kwargs = {\n",
    "    'max_samples': 20,\n",
    "    'batch_size': 10, # 26\n",
    "}\n",
    "train_kwargs = {\n",
    "#     'augment': True,\n",
    "#     'augment_label': 'covid',\n",
    "#     'oversample': True,\n",
    "#     'oversample_label': 'covid',\n",
    "#     'oversample_max_ratio': 2,\n",
    "}\n",
    "\n",
    "train_dataloader = prepare_data_classification(dataset_name, 'train', **kwargs, **train_kwargs)\n",
    "val_dataloader = prepare_data_classification(dataset_name, 'val', **kwargs)\n",
    "train_dataloader.dataset.size()"
   ]
  },
  {
   "cell_type": "markdown",
   "metadata": {
    "heading_collapsed": true
   },
   "source": [
    "### Load pretrained model"
   ]
  },
  {
   "cell_type": "code",
   "execution_count": 10,
   "metadata": {
    "hidden": true
   },
   "outputs": [],
   "source": [
    "multiple_gpu = False"
   ]
  },
  {
   "cell_type": "code",
   "execution_count": 11,
   "metadata": {
    "hidden": true
   },
   "outputs": [],
   "source": [
    "# run_name = '0704_005511_covid-kaggle_tfs-small_lr1e-06'\n",
    "# run_name = '0714_232500_cxr14_densenet-121_lr1e-06'\n",
    "# run_name = '0714_232518_cxr14_densenet-121_lr1e-06'\n",
    "# run_name = '0716_133211_cxr14_densenet-121_lr1e-06_us_aug-0_Pneumonia'\n",
    "run_name = '0717_120222_covid-x_densenet-121_lr1e-06_os_aug-covid'\n",
    "compiled_model = load_compiled_model_classification(run_name,\n",
    "                                                    debug=False,\n",
    "                                                    multiple_gpu=multiple_gpu,\n",
    "                                                    device=DEVICE)"
   ]
  },
  {
   "cell_type": "code",
   "execution_count": 12,
   "metadata": {
    "hidden": true
   },
   "outputs": [
    {
     "data": {
      "text/plain": [
       "{'model_kwargs': {'model_name': 'densenet-121',\n",
       "  'labels': ['covid', 'pneumonia', 'normal'],\n",
       "  'imagenet': True,\n",
       "  'freeze': False,\n",
       "  'image_size': [512, 512]},\n",
       " 'opt_kwargs': {'lr': 1e-06},\n",
       " 'hparams': {'loss_name': 'cross-entropy',\n",
       "  'loss_kwargs': {},\n",
       "  'batch_size': 28},\n",
       " 'dataset_kwargs': {'dataset_name': 'covid-x',\n",
       "  'labels': None,\n",
       "  'max_samples': None,\n",
       "  'batch_size': 28,\n",
       "  'image_size': [512, 512]},\n",
       " 'dataset_train_kwargs': {'oversample': True,\n",
       "  'oversample_label': 'covid',\n",
       "  'oversample_max_ratio': None,\n",
       "  'augment': True,\n",
       "  'augment_label': 'covid',\n",
       "  'augment_kwargs': {'crop': 0.8,\n",
       "   'translate': 0.1,\n",
       "   'rotation': 15,\n",
       "   'contrast': 0.5,\n",
       "   'brightness': 0.5},\n",
       "  'undersample': False,\n",
       "  'undersample_label': None}}"
      ]
     },
     "execution_count": 12,
     "metadata": {},
     "output_type": "execute_result"
    }
   ],
   "source": [
    "compiled_model.metadata"
   ]
  },
  {
   "cell_type": "code",
   "execution_count": null,
   "metadata": {
    "hidden": true
   },
   "outputs": [],
   "source": []
  },
  {
   "cell_type": "code",
   "execution_count": null,
   "metadata": {
    "hidden": true
   },
   "outputs": [],
   "source": []
  },
  {
   "cell_type": "markdown",
   "metadata": {
    "heading_collapsed": true
   },
   "source": [
    "### Use pre-trained weights new model"
   ]
  },
  {
   "cell_type": "code",
   "execution_count": 11,
   "metadata": {
    "hidden": true
   },
   "outputs": [],
   "source": [
    "old_compiled_model = compiled_model"
   ]
  },
  {
   "cell_type": "code",
   "execution_count": 15,
   "metadata": {
    "hidden": true
   },
   "outputs": [],
   "source": [
    "lr = 0.000001\n",
    "cnn_name = 'densenet-121'\n",
    "run_name = f'{get_timestamp()}_{dataset_name}_{cnn_name}_lr{lr}_os-max2_aug-0_precxr14'\n",
    "\n",
    "model = init_empty_model(cnn_name,\n",
    "                         train_dataloader.dataset.labels,\n",
    "                         multilabel=train_dataloader.dataset.multilabel,\n",
    "                         pretrained_cnn=old_compiled_model.model.module.base_cnn,\n",
    "                         imagenet=True,\n",
    "                         freeze=False,\n",
    "                        ).to(DEVICE)\n",
    "\n",
    "if multiple_gpu:\n",
    "    model = nn.DataParallel(model)\n",
    "\n",
    "optimizer = optim.Adam(model.parameters(), lr=lr)\n",
    "\n",
    "compiled_model = CompiledModel(model, optimizer)\n",
    "\n",
    "del old_compiled_model"
   ]
  },
  {
   "cell_type": "code",
   "execution_count": 16,
   "metadata": {
    "hidden": true
   },
   "outputs": [
    {
     "data": {
      "text/plain": [
       "'0717_063232_covid-x_densenet-121_lr1e-06_os-max2_aug-0_precxr14'"
      ]
     },
     "execution_count": 16,
     "metadata": {},
     "output_type": "execute_result"
    }
   ],
   "source": [
    "run_name"
   ]
  },
  {
   "cell_type": "markdown",
   "metadata": {},
   "source": [
    "### ...or create model"
   ]
  },
  {
   "cell_type": "code",
   "execution_count": null,
   "metadata": {},
   "outputs": [],
   "source": [
    "lr = 0.000001\n",
    "cnn_name = 'densenet-121'\n",
    "run_name = f'{get_timestamp()}_{dataset_name}_{cnn_name}_lr{lr}'\n",
    "\n",
    "model = init_empty_model(cnn_name,\n",
    "                         train_dataloader.dataset.labels,\n",
    "                         multilabel=train_dataloader.dataset.multilabel,\n",
    "                         imagenet=True,\n",
    "                         freeze=False,\n",
    "                        ).to(DEVICE)\n",
    "\n",
    "if multiple_gpu:\n",
    "    model = nn.DataParallel(model)\n",
    "\n",
    "optimizer = optim.Adam(model.parameters(), lr=lr)\n",
    "\n",
    "compiled_model = CompiledModel(model, optimizer)"
   ]
  },
  {
   "cell_type": "code",
   "execution_count": null,
   "metadata": {},
   "outputs": [],
   "source": []
  },
  {
   "cell_type": "markdown",
   "metadata": {},
   "source": [
    "## Train"
   ]
  },
  {
   "cell_type": "code",
   "execution_count": 21,
   "metadata": {},
   "outputs": [
    {
     "name": "stdout",
     "output_type": "stream",
     "text": [
      "Training run:  0717_063232_covid-x_densenet-121_lr1e-06_os-max2_aug-0_precxr14\n",
      "Resuming from epoch:  20\n",
      "Using loss:  cross-entropy {}\n",
      "--------------------------------------------------\n",
      "Training...\n",
      "Finished epoch 21/24 loss 0.0222 1.3080, acc 0.9999 0.8725, prec_covid 1.0000 0.9286, recall_covid 1.0000 0.5532, 0h 11m 17s\n",
      "Finished epoch 22/24 loss 0.0195 1.3450, acc 1.0000 0.8718, prec_covid 1.0000 0.9286, recall_covid 1.0000 0.5532, 0h 11m 16s\n",
      "Finished epoch 23/24 loss 0.0206 1.3225, acc 0.9999 0.8739, prec_covid 1.0000 0.9286, recall_covid 1.0000 0.5532, 0h 11m 14s\n",
      "Finished epoch 24/24 loss 0.0178 1.3545, acc 1.0000 0.8732, prec_covid 1.0000 0.9286, recall_covid 1.0000 0.5532, 0h 10m 43s\n",
      "Average time per epoch:  0h 10m 43s\n",
      "--------------------------------------------------\n",
      "CPU times: user 3h 15min 34s, sys: 7min 22s, total: 3h 22min 56s\n",
      "Wall time: 44min 32s\n"
     ]
    }
   ],
   "source": [
    "%%time\n",
    "\n",
    "# print_metrics = ['loss', 'acc', 'hamming']\n",
    "print_metrics = ['loss', 'acc', 'prec_covid', 'recall_covid']\n",
    "\n",
    "train_metrics, val_metrics = train_model(run_name,\n",
    "                                         compiled_model,\n",
    "                                         train_dataloader,\n",
    "                                         val_dataloader,\n",
    "                                         n_epochs=4,\n",
    "                                         loss_name='cross-entropy',\n",
    "                                         print_metrics=print_metrics,\n",
    "                                         debug=False,\n",
    "                                         device=DEVICE,\n",
    "                                        )"
   ]
  },
  {
   "cell_type": "code",
   "execution_count": 19,
   "metadata": {},
   "outputs": [
    {
     "name": "stdout",
     "output_type": "stream",
     "text": [
      "Training run:  0717_063232_covid-x_densenet-121_lr1e-06_os-max2_aug-0_precxr14\n",
      "Using loss:  cross-entropy {}\n",
      "--------------------------------------------------\n",
      "Training...\n",
      "Finished epoch 1/10 loss 1.6400 2.4560, acc 0.6948 0.7421, prec_covid 0.8857 0.3600, recall_covid 0.7379 0.1915, 0h 12m 21s\n",
      "Finished epoch 2/10 loss 0.3639 2.1430, acc 0.8207 0.7925, prec_covid 0.9507 0.5500, recall_covid 0.8816 0.2340, 0h 11m 22s\n",
      "Finished epoch 3/10 loss 0.2061 1.8972, acc 0.8559 0.8105, prec_covid 0.9665 0.7083, recall_covid 0.9082 0.3617, 0h 11m 18s\n",
      "Finished epoch 4/10 loss 0.1756 1.7136, acc 0.8800 0.8148, prec_covid 0.9753 0.7083, recall_covid 0.9236 0.3617, 0h 13m 11s\n",
      "Finished epoch 5/10 loss 0.1273 1.6166, acc 0.8981 0.8278, prec_covid 0.9806 0.7500, recall_covid 0.9382 0.3830, 0h 11m 17s\n",
      "Finished epoch 6/10 loss 0.1155 1.5706, acc 0.9133 0.8300, prec_covid 0.9838 0.8182, recall_covid 0.9495 0.3830, 0h 11m 17s\n",
      "Finished epoch 7/10 loss 0.1014 1.4694, acc 0.9289 0.8372, prec_covid 0.9894 0.8261, recall_covid 0.9608 0.4043, 0h 11m 18s\n",
      "Finished epoch 8/10 loss 0.0902 1.4441, acc 0.9426 0.8408, prec_covid 0.9923 0.8333, recall_covid 0.9671 0.4255, 0h 12m 13s\n",
      "Finished epoch 9/10 loss 0.0754 1.3843, acc 0.9518 0.8444, prec_covid 0.9939 0.8148, recall_covid 0.9745 0.4681, 0h 12m 8s\n",
      "Finished epoch 10/10 loss 0.0784 1.3580, acc 0.9621 0.8480, prec_covid 0.9958 0.8519, recall_covid 0.9800 0.4894, 0h 11m 47s\n",
      "Average time per epoch:  0h 11m 47s\n",
      "--------------------------------------------------\n",
      "CPU times: user 8h 41min 37s, sys: 18min 11s, total: 8h 59min 48s\n",
      "Wall time: 1h 58min 19s\n",
      "\n"
     ]
    }
   ],
   "source": [
    "print(output)"
   ]
  },
  {
   "cell_type": "code",
   "execution_count": 27,
   "metadata": {},
   "outputs": [
    {
     "name": "stdout",
     "output_type": "stream",
     "text": [
      "Loading covid-x/test dataset...\n"
     ]
    }
   ],
   "source": [
    "test_dataloader = prepare_data_classification(dataset_name, 'test', **kwargs)"
   ]
  },
  {
   "cell_type": "code",
   "execution_count": null,
   "metadata": {},
   "outputs": [],
   "source": []
  },
  {
   "cell_type": "code",
   "execution_count": null,
   "metadata": {},
   "outputs": [],
   "source": []
  },
  {
   "cell_type": "markdown",
   "metadata": {},
   "source": [
    "## Debug stuff"
   ]
  },
  {
   "cell_type": "markdown",
   "metadata": {},
   "source": [
    "### Test metrics"
   ]
  },
  {
   "cell_type": "code",
   "execution_count": 95,
   "metadata": {},
   "outputs": [],
   "source": [
    "from ignite.metrics import Accuracy, Recall, Precision"
   ]
  },
  {
   "cell_type": "code",
   "execution_count": 143,
   "metadata": {},
   "outputs": [],
   "source": [
    "%run ./metrics/classification/__init__.py\n",
    "%run ./metrics/classification/specificity.py\n",
    "%run ./metrics/classification/accuracy.py\n",
    "%run ./metrics/classification/hamming.py"
   ]
  },
  {
   "cell_type": "code",
   "execution_count": 144,
   "metadata": {},
   "outputs": [],
   "source": [
    "acc = MultilabelAccuracy(output_transform=_transform_remove_loss_and_round)\n",
    "ham = Hamming(output_transform=_transform_remove_loss_and_round)"
   ]
  },
  {
   "cell_type": "code",
   "execution_count": 153,
   "metadata": {},
   "outputs": [],
   "source": [
    "outputs = torch.tensor([[0, 1, 1],\n",
    "                        [0.3, 0.7, 0.8],\n",
    "                       ])\n",
    "target = torch.tensor([[0, 0, 1],\n",
    "                       [0, 1, 1],\n",
    "                      ])"
   ]
  },
  {
   "cell_type": "code",
   "execution_count": 154,
   "metadata": {},
   "outputs": [
    {
     "data": {
      "text/plain": [
       "0.6666666666666666"
      ]
     },
     "execution_count": 154,
     "metadata": {},
     "output_type": "execute_result"
    }
   ],
   "source": [
    "acc.reset()\n",
    "acc.update(_transform_remove_loss_and_round((0, outputs, target)))\n",
    "acc.compute()"
   ]
  },
  {
   "cell_type": "code",
   "execution_count": 155,
   "metadata": {},
   "outputs": [
    {
     "data": {
      "text/plain": [
       "0.16666666666666666"
      ]
     },
     "execution_count": 155,
     "metadata": {},
     "output_type": "execute_result"
    }
   ],
   "source": [
    "ham.reset()\n",
    "ham.update(_transform_remove_loss_and_round((0, outputs, target)))\n",
    "ham.compute()"
   ]
  },
  {
   "cell_type": "code",
   "execution_count": null,
   "metadata": {},
   "outputs": [],
   "source": []
  },
  {
   "cell_type": "code",
   "execution_count": null,
   "metadata": {},
   "outputs": [],
   "source": [
    "sp = Specificity()\n",
    "rec = Recall()\n",
    "prec = Precision()"
   ]
  },
  {
   "cell_type": "code",
   "execution_count": null,
   "metadata": {},
   "outputs": [],
   "source": [
    "fn = _get_transform_one_class(0)"
   ]
  },
  {
   "cell_type": "code",
   "execution_count": null,
   "metadata": {},
   "outputs": [],
   "source": [
    "# outputs = torch.tensor([[1, 2, 1, 0, 0]])\n",
    "# target = torch.tensor([[1, 0, 1, 1, 2]])\n",
    "outputs = torch.tensor([[0, 20, -1],\n",
    "                        [-40, 2, 3],\n",
    "                        [17, 5, 6],\n",
    "                       ])\n",
    "target = torch.tensor([0, 0, 2])\n",
    "outputs, target = fn((0, outputs, target))\n",
    "outputs, target"
   ]
  },
  {
   "cell_type": "code",
   "execution_count": null,
   "metadata": {},
   "outputs": [],
   "source": [
    "sp.reset()\n",
    "sp.update((outputs, target))\n",
    "sp.compute()"
   ]
  },
  {
   "cell_type": "code",
   "execution_count": null,
   "metadata": {},
   "outputs": [],
   "source": [
    "rec.reset()\n",
    "rec.update((outputs, target))\n",
    "rec.compute().item()"
   ]
  },
  {
   "cell_type": "code",
   "execution_count": null,
   "metadata": {},
   "outputs": [],
   "source": [
    "prec.reset()\n",
    "prec.update((outputs, target))\n",
    "prec.compute().item()"
   ]
  },
  {
   "cell_type": "code",
   "execution_count": null,
   "metadata": {},
   "outputs": [],
   "source": []
  },
  {
   "cell_type": "markdown",
   "metadata": {},
   "source": [
    "#### Test BCE loss"
   ]
  },
  {
   "cell_type": "code",
   "execution_count": 19,
   "metadata": {},
   "outputs": [],
   "source": [
    "import torch\n",
    "import numpy as np\n",
    "from torch.nn.functional import binary_cross_entropy"
   ]
  },
  {
   "cell_type": "code",
   "execution_count": 41,
   "metadata": {},
   "outputs": [],
   "source": [
    "%run losses/bce.py"
   ]
  },
  {
   "cell_type": "code",
   "execution_count": 45,
   "metadata": {},
   "outputs": [],
   "source": [
    "EPS = 1e-5"
   ]
  },
  {
   "cell_type": "code",
   "execution_count": 86,
   "metadata": {},
   "outputs": [],
   "source": [
    "target = torch.tensor([[1, 0, 0, 0, 0, 0],\n",
    "                       [0, 0, 1, 0, 1, 0],\n",
    "                       [0, 0, 0, 0, 0, 0],\n",
    "                      ])\n",
    "bce = WeigthedBCELoss()"
   ]
  },
  {
   "cell_type": "code",
   "execution_count": 90,
   "metadata": {},
   "outputs": [
    {
     "data": {
      "text/plain": [
       "tensor(82.8836)"
      ]
     },
     "execution_count": 90,
     "metadata": {},
     "output_type": "execute_result"
    }
   ],
   "source": [
    "output_o = torch.tensor([[1, 0, 0, 0, 0, 0],\n",
    "                         [0, 0, 1, 0, 1, 0],\n",
    "                         [1, 1, 1, 1, 1, 1],\n",
    "                        ]).float()\n",
    "bce(output_o, target)"
   ]
  },
  {
   "cell_type": "code",
   "execution_count": 96,
   "metadata": {},
   "outputs": [
    {
     "data": {
      "text/plain": [
       "tensor(151.9611)"
      ]
     },
     "execution_count": 96,
     "metadata": {},
     "output_type": "execute_result"
    }
   ],
   "source": [
    "output_o = torch.tensor([[0, 0, 0, 0, 0, 0],\n",
    "                         [0, 0, 1, 0, 1, 0],\n",
    "                         [1, 1, 1, 1, 1, 1],\n",
    "                        ]).float()\n",
    "bce(output_o, target)"
   ]
  },
  {
   "cell_type": "code",
   "execution_count": 97,
   "metadata": {},
   "outputs": [
    {
     "data": {
      "text/plain": [
       "tensor(0.0004)"
      ]
     },
     "execution_count": 97,
     "metadata": {},
     "output_type": "execute_result"
    }
   ],
   "source": [
    "output_o = torch.tensor([[1, 0, 0, 0, 0, 0],\n",
    "                         [0, 0, 1, 0, 1, 0],\n",
    "                         [0, 0, 0, 0, 0, 0],\n",
    "                        ]).float()\n",
    "bce(output_o, target)"
   ]
  },
  {
   "cell_type": "code",
   "execution_count": 98,
   "metadata": {},
   "outputs": [
    {
     "data": {
      "text/plain": [
       "tensor(69.0779)"
      ]
     },
     "execution_count": 98,
     "metadata": {},
     "output_type": "execute_result"
    }
   ],
   "source": [
    "output_o = torch.tensor([[0, 0, 0, 0, 0, 0],\n",
    "                         [0, 0, 1, 0, 1, 0],\n",
    "                         [0, 0, 0, 0, 0, 0],\n",
    "                        ]).float()\n",
    "bce(output_o, target)"
   ]
  },
  {
   "cell_type": "code",
   "execution_count": null,
   "metadata": {},
   "outputs": [],
   "source": []
  },
  {
   "cell_type": "code",
   "execution_count": 110,
   "metadata": {},
   "outputs": [
    {
     "data": {
      "text/plain": [
       "tensor([[1.0000e-05, 1.0000e-05, 1.0000e-05, 1.0000e-05, 1.0000e-05, 1.0000e-05],\n",
       "        [1.0000e-05, 1.0000e-05, 9.9999e-01, 1.0000e-05, 9.9999e-01, 1.0000e-05],\n",
       "        [1.0000e-05, 1.0000e-05, 1.0000e-05, 1.0000e-05, 1.0000e-05, 1.0000e-05]])"
      ]
     },
     "execution_count": 110,
     "metadata": {},
     "output_type": "execute_result"
    }
   ],
   "source": [
    "output = output_o.clamp(min=EPS, max=1-EPS)\n",
    "output"
   ]
  },
  {
   "cell_type": "code",
   "execution_count": 94,
   "metadata": {},
   "outputs": [
    {
     "data": {
      "text/plain": [
       "(18, 3, 15)"
      ]
     },
     "execution_count": 94,
     "metadata": {},
     "output_type": "execute_result"
    }
   ],
   "source": [
    "total = np.prod(target.size())\n",
    "positive = (target == 1).sum().item()\n",
    "negative = total - positive\n",
    "total, positive, negative"
   ]
  },
  {
   "cell_type": "code",
   "execution_count": 95,
   "metadata": {},
   "outputs": [
    {
     "data": {
      "text/plain": [
       "(6.0, 1.2)"
      ]
     },
     "execution_count": 95,
     "metadata": {},
     "output_type": "execute_result"
    }
   ],
   "source": [
    "BP = total / positive\n",
    "BN = total / negative\n",
    "BP, BN"
   ]
  },
  {
   "cell_type": "code",
   "execution_count": 85,
   "metadata": {},
   "outputs": [
    {
     "data": {
      "text/plain": [
       "(torch.Size([2, 3]), torch.Size([3, 6]))"
      ]
     },
     "execution_count": 85,
     "metadata": {},
     "output_type": "execute_result"
    }
   ],
   "source": [
    "target.size(), output.size()"
   ]
  },
  {
   "cell_type": "code",
   "execution_count": 116,
   "metadata": {},
   "outputs": [
    {
     "data": {
      "text/plain": [
       "tensor([[-1.1513e+01, -0.0000e+00, -0.0000e+00, -0.0000e+00, -0.0000e+00,\n",
       "         -0.0000e+00],\n",
       "        [-0.0000e+00, -0.0000e+00, -1.0014e-05, -0.0000e+00, -1.0014e-05,\n",
       "         -0.0000e+00],\n",
       "        [-0.0000e+00, -0.0000e+00, -0.0000e+00, -0.0000e+00, -0.0000e+00,\n",
       "         -0.0000e+00]])"
      ]
     },
     "execution_count": 116,
     "metadata": {},
     "output_type": "execute_result"
    }
   ],
   "source": [
    "left = (target * torch.log(output))\n",
    "left"
   ]
  },
  {
   "cell_type": "code",
   "execution_count": 117,
   "metadata": {},
   "outputs": [
    {
     "data": {
      "text/plain": [
       "tensor([[-0.0000e+00, -1.0014e-05, -1.0014e-05, -1.0014e-05, -1.0014e-05,\n",
       "         -1.0014e-05],\n",
       "        [-1.0014e-05, -1.0014e-05, -0.0000e+00, -1.0014e-05, -0.0000e+00,\n",
       "         -1.0014e-05],\n",
       "        [-1.0014e-05, -1.0014e-05, -1.0014e-05, -1.0014e-05, -1.0014e-05,\n",
       "         -1.0014e-05]])"
      ]
     },
     "execution_count": 117,
     "metadata": {},
     "output_type": "execute_result"
    }
   ],
   "source": [
    "right = (1-target) * torch.log(1-output)\n",
    "right"
   ]
  },
  {
   "cell_type": "code",
   "execution_count": 118,
   "metadata": {},
   "outputs": [
    {
     "data": {
      "text/plain": [
       "tensor(69.0779)"
      ]
     },
     "execution_count": 118,
     "metadata": {},
     "output_type": "execute_result"
    }
   ],
   "source": [
    "-(weights*(left + right)).sum()"
   ]
  },
  {
   "cell_type": "code",
   "execution_count": 99,
   "metadata": {},
   "outputs": [
    {
     "data": {
      "text/plain": [
       "tensor([[0., 0., 0., 0., 0., 0.],\n",
       "        [0., 0., 0., 0., 0., 0.],\n",
       "        [0., 0., 0., 0., 0., 0.]])"
      ]
     },
     "execution_count": 99,
     "metadata": {},
     "output_type": "execute_result"
    }
   ],
   "source": [
    "weights = torch.zeros(target.size())\n",
    "weights"
   ]
  },
  {
   "cell_type": "code",
   "execution_count": 109,
   "metadata": {},
   "outputs": [
    {
     "data": {
      "text/plain": [
       "tensor([[6.0000, 1.2000, 1.2000, 1.2000, 1.2000, 1.2000],\n",
       "        [1.2000, 1.2000, 6.0000, 1.2000, 6.0000, 1.2000],\n",
       "        [1.2000, 1.2000, 1.2000, 1.2000, 1.2000, 1.2000]])"
      ]
     },
     "execution_count": 109,
     "metadata": {},
     "output_type": "execute_result"
    }
   ],
   "source": [
    "weights[target == 0] = BN\n",
    "weights[target == 1] = BP\n",
    "weights"
   ]
  },
  {
   "cell_type": "code",
   "execution_count": 119,
   "metadata": {},
   "outputs": [
    {
     "data": {
      "text/plain": [
       "tensor(600.)"
      ]
     },
     "execution_count": 119,
     "metadata": {},
     "output_type": "execute_result"
    }
   ],
   "source": [
    "binary_cross_entropy(output_o, target.float(), weight=weights, reduction='sum')"
   ]
  },
  {
   "cell_type": "code",
   "execution_count": 120,
   "metadata": {},
   "outputs": [
    {
     "data": {
      "text/plain": [
       "tensor(69.0779)"
      ]
     },
     "execution_count": 120,
     "metadata": {},
     "output_type": "execute_result"
    }
   ],
   "source": [
    "bce(output_o, target)"
   ]
  },
  {
   "cell_type": "code",
   "execution_count": null,
   "metadata": {},
   "outputs": [],
   "source": []
  },
  {
   "cell_type": "code",
   "execution_count": 122,
   "metadata": {},
   "outputs": [],
   "source": [
    "def calc_conv_output_size(input_size, padding, kernel_size, stride, dilation=0):\n",
    "    value = (input_size + 2*padding - dilation * (kernel_size - 1) - 1)\n",
    "    value /= (stride)\n",
    "    value += 1\n",
    "    return value"
   ]
  },
  {
   "cell_type": "code",
   "execution_count": 124,
   "metadata": {},
   "outputs": [],
   "source": [
    "conv = nn.Conv2d(3, 32, (8, 8), stride=4)"
   ]
  },
  {
   "cell_type": "code",
   "execution_count": null,
   "metadata": {},
   "outputs": [],
   "source": []
  },
  {
   "cell_type": "code",
   "execution_count": null,
   "metadata": {},
   "outputs": [],
   "source": []
  }
 ],
 "metadata": {
  "kernelspec": {
   "display_name": "Python 3",
   "language": "python",
   "name": "python3"
  },
  "language_info": {
   "codemirror_mode": {
    "name": "ipython",
    "version": 3
   },
   "file_extension": ".py",
   "mimetype": "text/x-python",
   "name": "python",
   "nbconvert_exporter": "python",
   "pygments_lexer": "ipython3",
   "version": "3.6.9"
  },
  "toc": {
   "base_numbering": 1,
   "nav_menu": {
    "height": "255px",
    "width": "188px"
   },
   "number_sections": true,
   "sideBar": true,
   "skip_h1_title": false,
   "title_cell": "Table of Contents",
   "title_sidebar": "Contents",
   "toc_cell": false,
   "toc_position": {},
   "toc_section_display": true,
   "toc_window_display": false
  }
 },
 "nbformat": 4,
 "nbformat_minor": 4
}
