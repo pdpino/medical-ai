{
 "cells": [
  {
   "cell_type": "markdown",
   "metadata": {},
   "source": [
    "## Imports"
   ]
  },
  {
   "cell_type": "code",
   "execution_count": 1,
   "metadata": {},
   "outputs": [],
   "source": [
    "import torch\n",
    "from ignite.engine import Engine, Events\n",
    "from ignite.handlers import Timer #, EarlyStopping\n",
    "from torch import optim\n",
    "\n",
    "import time"
   ]
  },
  {
   "cell_type": "code",
   "execution_count": 2,
   "metadata": {},
   "outputs": [],
   "source": [
    "%run ./datasets/__init__.py"
   ]
  },
  {
   "cell_type": "code",
   "execution_count": 3,
   "metadata": {},
   "outputs": [],
   "source": [
    "%run ./utils/__init__.py\n",
    "%run ./utils/runs.py"
   ]
  },
  {
   "cell_type": "code",
   "execution_count": 4,
   "metadata": {},
   "outputs": [],
   "source": [
    "%run ./models/classification/__init__.py"
   ]
  },
  {
   "cell_type": "code",
   "execution_count": 5,
   "metadata": {},
   "outputs": [],
   "source": [
    "%run ./losses/__init__.py"
   ]
  },
  {
   "cell_type": "code",
   "execution_count": 6,
   "metadata": {},
   "outputs": [],
   "source": [
    "%run ./tensorboard.py"
   ]
  },
  {
   "cell_type": "markdown",
   "metadata": {},
   "source": [
    "## Functions"
   ]
  },
  {
   "cell_type": "code",
   "execution_count": 7,
   "metadata": {},
   "outputs": [
    {
     "data": {
      "text/plain": [
       "device(type='cuda', index=1)"
      ]
     },
     "execution_count": 7,
     "metadata": {},
     "output_type": "execute_result"
    }
   ],
   "source": [
    "DEVICE = torch.device('cuda:1')\n",
    "DEVICE"
   ]
  },
  {
   "cell_type": "code",
   "execution_count": 19,
   "metadata": {},
   "outputs": [],
   "source": [
    "def get_step_fn(model, optimizer, loss_fn, training=True, device=DEVICE):\n",
    "    \"\"\"Creates a step function for an Engine.\"\"\"\n",
    "    def step_fn(engine, data_batch):\n",
    "        # Move inputs to GPU\n",
    "        images = data_batch[0].to(device)\n",
    "        # shape: batch_size, 3, height, width\n",
    "        \n",
    "        labels = data_batch[1].to(device)\n",
    "        # shape: batch_size, n_labels\n",
    "\n",
    "        # Enable training\n",
    "        model.train(training)\n",
    "        torch.set_grad_enabled(training) # enable recording gradients\n",
    "\n",
    "        # zero the parameter gradients\n",
    "        optimizer.zero_grad()\n",
    "\n",
    "        # Forward\n",
    "        output_tuple = model(images)\n",
    "        outputs = output_tuple[0]\n",
    "        # shape: batch_size, n_labels\n",
    "\n",
    "        if model.multilabel:\n",
    "            labels = labels.float()\n",
    "        else:\n",
    "            labels = labels.long()\n",
    "        \n",
    "        # Compute classification loss\n",
    "        loss = loss_fn(outputs, labels)\n",
    "        \n",
    "        batch_loss = loss.item()\n",
    "\n",
    "        if training:\n",
    "            loss.backward()\n",
    "            optimizer.step()\n",
    "\n",
    "        return batch_loss, outputs, labels\n",
    "\n",
    "    return step_fn"
   ]
  },
  {
   "cell_type": "code",
   "execution_count": 29,
   "metadata": {},
   "outputs": [],
   "source": [
    "%run ./metrics/classification/__init__.py"
   ]
  },
  {
   "cell_type": "code",
   "execution_count": 30,
   "metadata": {},
   "outputs": [],
   "source": [
    "def train_model(run_name, model, train_dataloader, val_dataloader, n_epochs=1, lr=0.0001,\n",
    "               loss_name='wbce', debug=True, print_metrics=['loss', 'acc']):\n",
    "    # Prepare run\n",
    "    run_state = RunState(run_name, classification=True, debug=debug)\n",
    "    initial_epoch = run_state.current_epoch()\n",
    "    if initial_epoch > 0:\n",
    "        print('Found previous run on epoch: ', initial_epoch)\n",
    "    \n",
    "    # Prepare optimizer and loss\n",
    "    optimizer = optim.Adam(model.parameters(), lr=lr)\n",
    "    loss = get_loss_function(loss_name)\n",
    "    \n",
    "    # Classification labels\n",
    "    labels = train_dataloader.dataset.labels\n",
    "    \n",
    "    # TB writer\n",
    "    tb_writer = TBWriter(run_name, classification=True, debug=debug)\n",
    "\n",
    "    # Create validator engine\n",
    "    validator = Engine(get_step_fn(model, optimizer, loss, training=False))\n",
    "    attach_metrics_classification(validator, labels, multilabel=model.multilabel)\n",
    "    \n",
    "    # Create trainer engine\n",
    "    trainer = Engine(get_step_fn(model, optimizer, loss, training=True))\n",
    "    attach_metrics_classification(trainer, labels, multilabel=model.multilabel)\n",
    "    \n",
    "    # Create Timer to measure wall time between epochs\n",
    "    timer = Timer(average=True)\n",
    "    timer.attach(trainer, start=Events.EPOCH_STARTED, step=Events.EPOCH_COMPLETED)\n",
    "\n",
    "    @trainer.on(Events.EPOCH_COMPLETED)\n",
    "    def log_metrics(trainer):\n",
    "        # Run on evaluation\n",
    "        validator.run(val_dataloader, 1)\n",
    "\n",
    "        # State\n",
    "        epoch = trainer.state.epoch + initial_epoch\n",
    "        max_epochs = trainer.state.max_epochs + initial_epoch\n",
    "        train_metrics = trainer.state.metrics\n",
    "        val_metrics = validator.state.metrics\n",
    "        \n",
    "        # Save state\n",
    "        run_state.save_state(epoch)\n",
    "        \n",
    "        # Walltime\n",
    "        wall_time = time.time()\n",
    "\n",
    "        # Log to TB\n",
    "        tb_writer.write_histogram(model, epoch, wall_time)\n",
    "        tb_writer.write_metrics(train_metrics, 'train', epoch, wall_time)\n",
    "        tb_writer.write_metrics(val_metrics, 'val', epoch, wall_time)\n",
    "        \n",
    "        # Print results\n",
    "        print_str = f'Finished epoch {epoch}/{max_epochs}'\n",
    "        for metric in print_metrics:\n",
    "            if not (metric in train_metrics and metric in val_metrics):\n",
    "                continue\n",
    "            train_value = train_metrics[metric]\n",
    "            val_value = val_metrics[metric]\n",
    "            metric_str = f' {metric} {train_value:.4f} {val_value:.4f},'\n",
    "            print_str += metric_str\n",
    "\n",
    "        print_str += f' (took {duration_to_str(timer._elapsed())})'\n",
    "        print(print_str)\n",
    "\n",
    "    # Train!\n",
    "    print('-' * 50)\n",
    "    print('Training...')\n",
    "    trainer.run(train_dataloader, n_epochs)\n",
    "\n",
    "    # Capture time per epoch\n",
    "    secs_per_epoch = timer.value()\n",
    "    duration_per_epoch = duration_to_str(secs_per_epoch)\n",
    "    print('Average time per epoch: ', duration_per_epoch)\n",
    "    print('-'*50)\n",
    "\n",
    "    tb_writer.close()\n",
    "\n",
    "    return"
   ]
  },
  {
   "cell_type": "markdown",
   "metadata": {},
   "source": [
    "## Load stuff"
   ]
  },
  {
   "cell_type": "code",
   "execution_count": 11,
   "metadata": {},
   "outputs": [],
   "source": [
    "%run datasets/__init__.py"
   ]
  },
  {
   "cell_type": "code",
   "execution_count": 32,
   "metadata": {},
   "outputs": [
    {
     "name": "stdout",
     "output_type": "stream",
     "text": [
      "Loading train dataset...\n",
      "Loading val dataset...\n"
     ]
    },
    {
     "data": {
      "text/plain": [
       "(10, 14)"
      ]
     },
     "execution_count": 32,
     "metadata": {},
     "output_type": "execute_result"
    }
   ],
   "source": [
    "train_dataloader = prepare_data_classification('cxr14',\n",
    "                                               dataset_type='train', max_samples=10)\n",
    "val_dataloader = prepare_data_classification('cxr14',\n",
    "                                             dataset_type='val', max_samples=10)\n",
    "train_dataloader.dataset.size()"
   ]
  },
  {
   "cell_type": "code",
   "execution_count": 13,
   "metadata": {},
   "outputs": [],
   "source": [
    "model = init_empty_model('resnet',\n",
    "                         train_dataloader.dataset.labels,\n",
    "                         multilabel=train_dataloader.dataset.multilabel,\n",
    "                        ).to(DEVICE)"
   ]
  },
  {
   "cell_type": "markdown",
   "metadata": {},
   "source": [
    "## Train"
   ]
  },
  {
   "cell_type": "code",
   "execution_count": 33,
   "metadata": {},
   "outputs": [
    {
     "name": "stdout",
     "output_type": "stream",
     "text": [
      "--------------------------------------------------\n",
      "Training...\n",
      "Finished epoch 1/3 loss 302.4202 277.8905, (took 0h 0m 3s)\n",
      "Finished epoch 2/3 loss 286.4681 279.3835, (took 0h 0m 3s)\n",
      "Finished epoch 3/3 loss 271.4820 280.6645, (took 0h 0m 3s)\n",
      "Average time per epoch:  0h 0m 3s\n",
      "--------------------------------------------------\n"
     ]
    }
   ],
   "source": [
    "train_model('cxr', model, train_dataloader, val_dataloader, n_epochs=3,\n",
    "            loss_name='wbce', lr=0.000001,\n",
    "            # print_metrics=['loss', 'spec_covid', 'rec_covid'],\n",
    "           )"
   ]
  },
  {
   "cell_type": "code",
   "execution_count": null,
   "metadata": {},
   "outputs": [],
   "source": []
  },
  {
   "cell_type": "code",
   "execution_count": null,
   "metadata": {},
   "outputs": [],
   "source": []
  },
  {
   "cell_type": "code",
   "execution_count": null,
   "metadata": {},
   "outputs": [],
   "source": []
  },
  {
   "cell_type": "markdown",
   "metadata": {},
   "source": [
    "## Test stuff"
   ]
  },
  {
   "cell_type": "markdown",
   "metadata": {},
   "source": [
    "### Test metrics"
   ]
  },
  {
   "cell_type": "code",
   "execution_count": null,
   "metadata": {},
   "outputs": [],
   "source": [
    "from ignite.metrics import Recall, Precision"
   ]
  },
  {
   "cell_type": "code",
   "execution_count": null,
   "metadata": {},
   "outputs": [],
   "source": [
    "%run ./metrics/classification/__init__.py\n",
    "%run ./metrics/classification/specificity.py"
   ]
  },
  {
   "cell_type": "code",
   "execution_count": null,
   "metadata": {},
   "outputs": [],
   "source": [
    "sp = Specificity()\n",
    "rec = Recall()\n",
    "prec = Precision()"
   ]
  },
  {
   "cell_type": "code",
   "execution_count": null,
   "metadata": {},
   "outputs": [],
   "source": [
    "fn = _get_transform_one_class(0)"
   ]
  },
  {
   "cell_type": "code",
   "execution_count": null,
   "metadata": {},
   "outputs": [],
   "source": [
    "# outputs = torch.tensor([[1, 2, 1, 0, 0]])\n",
    "# target = torch.tensor([[1, 0, 1, 1, 2]])\n",
    "outputs = torch.tensor([[0, 20, -1],\n",
    "                        [-40, 2, 3],\n",
    "                        [17, 5, 6],\n",
    "                       ])\n",
    "target = torch.tensor([0, 0, 2])\n",
    "outputs, target = fn((0, outputs, target))\n",
    "outputs, target"
   ]
  },
  {
   "cell_type": "code",
   "execution_count": null,
   "metadata": {},
   "outputs": [],
   "source": [
    "sp.reset()\n",
    "sp.update((outputs, target))\n",
    "sp.compute()"
   ]
  },
  {
   "cell_type": "code",
   "execution_count": null,
   "metadata": {},
   "outputs": [],
   "source": [
    "rec.reset()\n",
    "rec.update((outputs, target))\n",
    "rec.compute().item()"
   ]
  },
  {
   "cell_type": "code",
   "execution_count": null,
   "metadata": {},
   "outputs": [],
   "source": [
    "prec.reset()\n",
    "prec.update((outputs, target))\n",
    "prec.compute().item()"
   ]
  },
  {
   "cell_type": "code",
   "execution_count": null,
   "metadata": {},
   "outputs": [],
   "source": []
  },
  {
   "cell_type": "code",
   "execution_count": null,
   "metadata": {},
   "outputs": [],
   "source": []
  },
  {
   "cell_type": "code",
   "execution_count": null,
   "metadata": {},
   "outputs": [],
   "source": []
  },
  {
   "cell_type": "code",
   "execution_count": null,
   "metadata": {},
   "outputs": [],
   "source": []
  },
  {
   "cell_type": "code",
   "execution_count": null,
   "metadata": {},
   "outputs": [],
   "source": []
  },
  {
   "cell_type": "markdown",
   "metadata": {},
   "source": [
    "### Test samples"
   ]
  },
  {
   "cell_type": "code",
   "execution_count": null,
   "metadata": {},
   "outputs": [],
   "source": [
    "import matplotlib.pyplot as plt"
   ]
  },
  {
   "cell_type": "code",
   "execution_count": null,
   "metadata": {},
   "outputs": [],
   "source": [
    "image, label = train_dataloader.dataset[200]\n",
    "images = image.unsqueeze(0)\n",
    "image = image.numpy().transpose(1, 2, 0)\n",
    "print(image.shape)\n",
    "print(label)\n",
    "\n",
    "plt.imshow(image)"
   ]
  },
  {
   "cell_type": "code",
   "execution_count": null,
   "metadata": {},
   "outputs": [],
   "source": []
  },
  {
   "cell_type": "code",
   "execution_count": null,
   "metadata": {},
   "outputs": [],
   "source": []
  },
  {
   "cell_type": "code",
   "execution_count": null,
   "metadata": {},
   "outputs": [],
   "source": []
  }
 ],
 "metadata": {
  "kernelspec": {
   "display_name": "Python 3",
   "language": "python",
   "name": "python3"
  },
  "language_info": {
   "codemirror_mode": {
    "name": "ipython",
    "version": 3
   },
   "file_extension": ".py",
   "mimetype": "text/x-python",
   "name": "python",
   "nbconvert_exporter": "python",
   "pygments_lexer": "ipython3",
   "version": "3.6.9"
  },
  "toc": {
   "base_numbering": 1,
   "nav_menu": {
    "height": "255px",
    "width": "188px"
   },
   "number_sections": true,
   "sideBar": true,
   "skip_h1_title": false,
   "title_cell": "Table of Contents",
   "title_sidebar": "Contents",
   "toc_cell": false,
   "toc_position": {},
   "toc_section_display": true,
   "toc_window_display": false
  }
 },
 "nbformat": 4,
 "nbformat_minor": 4
}
