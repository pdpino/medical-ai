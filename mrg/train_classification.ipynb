{
 "cells": [
  {
   "cell_type": "markdown",
   "metadata": {},
   "source": [
    "## Imports"
   ]
  },
  {
   "cell_type": "code",
   "execution_count": 1,
   "metadata": {},
   "outputs": [
    {
     "name": "stdout",
     "output_type": "stream",
     "text": [
      "0,1\r\n"
     ]
    }
   ],
   "source": [
    "!echo $CUDA_VISIBLE_DEVICES"
   ]
  },
  {
   "cell_type": "code",
   "execution_count": 2,
   "metadata": {},
   "outputs": [],
   "source": [
    "import torch\n",
    "from torch import optim\n",
    "from ignite.handlers import Checkpoint"
   ]
  },
  {
   "cell_type": "code",
   "execution_count": 3,
   "metadata": {},
   "outputs": [],
   "source": [
    "%run -n train_classification.py"
   ]
  },
  {
   "cell_type": "code",
   "execution_count": 4,
   "metadata": {},
   "outputs": [],
   "source": [
    "%run models/classification/__init__.py"
   ]
  },
  {
   "cell_type": "code",
   "execution_count": 5,
   "metadata": {},
   "outputs": [],
   "source": [
    "%run datasets/__init__.py"
   ]
  },
  {
   "cell_type": "code",
   "execution_count": 6,
   "metadata": {},
   "outputs": [],
   "source": [
    "%run models/checkpoint/__init__.py"
   ]
  },
  {
   "cell_type": "code",
   "execution_count": 7,
   "metadata": {},
   "outputs": [],
   "source": [
    "%run utils/__init__.py"
   ]
  },
  {
   "cell_type": "code",
   "execution_count": 8,
   "metadata": {},
   "outputs": [
    {
     "data": {
      "text/plain": [
       "device(type='cuda')"
      ]
     },
     "execution_count": 8,
     "metadata": {},
     "output_type": "execute_result"
    }
   ],
   "source": [
    "# DEVICE = torch.device('cpu')\n",
    "DEVICE = torch.device('cuda')\n",
    "DEVICE"
   ]
  },
  {
   "cell_type": "markdown",
   "metadata": {},
   "source": [
    "## Load stuff"
   ]
  },
  {
   "cell_type": "markdown",
   "metadata": {},
   "source": [
    "### Load datasets"
   ]
  },
  {
   "cell_type": "code",
   "execution_count": 9,
   "metadata": {},
   "outputs": [
    {
     "name": "stdout",
     "output_type": "stream",
     "text": [
      "Loading covid-x/train dataset...\n",
      "\tAugmenting samples only from label covid:  new-total=14609 original=12504\n",
      "\tOversampling covid: ratio=2 positives=2526 negatives=12083 new-total=17135 original=14609\n",
      "Loading covid-x/val dataset...\n"
     ]
    },
    {
     "data": {
      "text/plain": [
       "(12504, 3)"
      ]
     },
     "execution_count": 9,
     "metadata": {},
     "output_type": "execute_result"
    }
   ],
   "source": [
    "dataset_name = 'covid-x'\n",
    "kwargs = {\n",
    "    'max_samples': None,\n",
    "    'batch_size': 26,\n",
    "}\n",
    "train_kwargs = {\n",
    "    'augment': True,\n",
    "    'augment_label': 'covid',\n",
    "    'oversample': True,\n",
    "    'oversample_label': 'covid',\n",
    "    'oversample_max_ratio': 2,\n",
    "}\n",
    "\n",
    "train_dataloader = prepare_data_classification(dataset_name, 'train', **kwargs, **train_kwargs)\n",
    "val_dataloader = prepare_data_classification(dataset_name, 'val', **kwargs)\n",
    "train_dataloader.dataset.size()"
   ]
  },
  {
   "cell_type": "markdown",
   "metadata": {},
   "source": [
    "### Load pretrained model"
   ]
  },
  {
   "cell_type": "code",
   "execution_count": 14,
   "metadata": {},
   "outputs": [],
   "source": [
    "multiple_gpu = True"
   ]
  },
  {
   "cell_type": "code",
   "execution_count": 10,
   "metadata": {},
   "outputs": [],
   "source": [
    "# run_name = '0704_005511_covid-kaggle_tfs-small_lr1e-06'\n",
    "# run_name = '0714_232500_cxr14_densenet-121_lr1e-06'\n",
    "# run_name = '0714_232518_cxr14_densenet-121_lr1e-06'\n",
    "run_name = '0716_133211_cxr14_densenet-121_lr1e-06_us_aug-0_Pneumonia'\n",
    "compiled_model = load_compiled_model_classification(run_name,\n",
    "                                                    debug=False,\n",
    "                                                    multiple_gpu=multiple_gpu,\n",
    "                                                    device=DEVICE)"
   ]
  },
  {
   "cell_type": "code",
   "execution_count": 11,
   "metadata": {},
   "outputs": [
    {
     "data": {
      "text/plain": [
       "{'model_kwargs': {'model_name': 'densenet-121',\n",
       "  'labels': ['Pneumonia'],\n",
       "  'imagenet': True,\n",
       "  'freeze': False},\n",
       " 'opt_kwargs': {'lr': 1e-06},\n",
       " 'hparams': {'loss_name': 'wbce', 'batch_size': 30},\n",
       " 'dataset_kwargs': {'dataset_name': 'cxr14',\n",
       "  'labels': ['Pneumonia'],\n",
       "  'max_samples': None,\n",
       "  'batch_size': 30},\n",
       " 'dataset_train_kwargs': {'oversample': False,\n",
       "  'oversample_label': None,\n",
       "  'oversample_max_ratio': None,\n",
       "  'augment': True,\n",
       "  'augment_label': 0,\n",
       "  'augment_kwargs': {'crop': 0.8,\n",
       "   'translate': 0.1,\n",
       "   'rotation': 15,\n",
       "   'contrast': 0.5,\n",
       "   'brightness': 0.5},\n",
       "  'undersample': True,\n",
       "  'undersample_label': 0}}"
      ]
     },
     "execution_count": 11,
     "metadata": {},
     "output_type": "execute_result"
    }
   ],
   "source": [
    "compiled_model.metadata"
   ]
  },
  {
   "cell_type": "code",
   "execution_count": null,
   "metadata": {},
   "outputs": [],
   "source": []
  },
  {
   "cell_type": "markdown",
   "metadata": {},
   "source": [
    "### Create new model"
   ]
  },
  {
   "cell_type": "code",
   "execution_count": 11,
   "metadata": {},
   "outputs": [],
   "source": [
    "old_compiled_model = compiled_model"
   ]
  },
  {
   "cell_type": "code",
   "execution_count": 15,
   "metadata": {},
   "outputs": [],
   "source": [
    "lr = 0.000001\n",
    "cnn_name = 'densenet-121'\n",
    "run_name = f'{get_timestamp()}_{dataset_name}_{cnn_name}_lr{lr}_os-max2_aug-0_precxr14'\n",
    "\n",
    "model = init_empty_model(cnn_name,\n",
    "                         train_dataloader.dataset.labels,\n",
    "                         multilabel=train_dataloader.dataset.multilabel,\n",
    "                         pretrained_cnn=old_compiled_model.model.module.base_cnn,\n",
    "                         imagenet=True,\n",
    "                         freeze=False,\n",
    "                        ).to(DEVICE)\n",
    "\n",
    "if multiple_gpu:\n",
    "    model = nn.DataParallel(model)\n",
    "\n",
    "optimizer = optim.Adam(model.parameters(), lr=lr)\n",
    "\n",
    "compiled_model = CompiledModel(model, optimizer)"
   ]
  },
  {
   "cell_type": "code",
   "execution_count": 16,
   "metadata": {},
   "outputs": [
    {
     "data": {
      "text/plain": [
       "'0717_063232_covid-x_densenet-121_lr1e-06_os-max2_aug-0_precxr14'"
      ]
     },
     "execution_count": 16,
     "metadata": {},
     "output_type": "execute_result"
    }
   ],
   "source": [
    "run_name"
   ]
  },
  {
   "cell_type": "code",
   "execution_count": 17,
   "metadata": {},
   "outputs": [],
   "source": [
    "del old_compiled_model"
   ]
  },
  {
   "cell_type": "code",
   "execution_count": null,
   "metadata": {},
   "outputs": [],
   "source": []
  },
  {
   "cell_type": "markdown",
   "metadata": {},
   "source": [
    "## Train"
   ]
  },
  {
   "cell_type": "code",
   "execution_count": null,
   "metadata": {},
   "outputs": [],
   "source": [
    "%%capture output\n",
    "%%time\n",
    "\n",
    "# print_metrics = ['loss', 'acc', 'hamming']\n",
    "print_metrics = ['loss', 'acc', 'prec_covid', 'recall_covid']\n",
    "\n",
    "train_metrics, val_metrics = train_model(run_name,\n",
    "                                         compiled_model,\n",
    "                                         train_dataloader,\n",
    "                                         val_dataloader,\n",
    "                                         n_epochs=10,\n",
    "                                         loss_name='cross-entropy',\n",
    "                                         print_metrics=print_metrics,\n",
    "                                         debug=False,\n",
    "                                         device=DEVICE,\n",
    "                                        )"
   ]
  },
  {
   "cell_type": "code",
   "execution_count": 15,
   "metadata": {},
   "outputs": [
    {
     "name": "stdout",
     "output_type": "stream",
     "text": [
      "Resuming from epoch:  19\n",
      "Using loss:  focal\n",
      "--------------------------------------------------\n",
      "Training...\n",
      "Finished epoch 20/24 loss 7.9555 12.0304, acc 0.5365 0.3533, hamming 0.0505 0.0949, 0h 43m 53s\n",
      "Finished epoch 21/24 loss 7.7393 12.0385, acc 0.5468 0.3567, hamming 0.0488 0.0940, 0h 44m 6s\n",
      "Finished epoch 22/24 loss 7.5092 12.0463, acc 0.5578 0.3590, hamming 0.0471 0.0931, 0h 44m 9s\n",
      "Finished epoch 23/24 loss 7.2867 12.0509, acc 0.5687 0.3622, hamming 0.0455 0.0923, 0h 44m 12s\n",
      "Finished epoch 24/24 loss 7.0798 12.0894, acc 0.5812 0.3681, hamming 0.0437 0.0912, 0h 44m 14s\n",
      "Average time per epoch:  0h 44m 14s\n",
      "--------------------------------------------------\n",
      "CPU times: user 16h 44min 34s, sys: 33min 40s, total: 17h 18min 15s\n",
      "Wall time: 3h 40min 37s\n",
      "\n"
     ]
    }
   ],
   "source": [
    "print(output)"
   ]
  },
  {
   "cell_type": "code",
   "execution_count": null,
   "metadata": {},
   "outputs": [],
   "source": []
  },
  {
   "cell_type": "code",
   "execution_count": null,
   "metadata": {},
   "outputs": [],
   "source": []
  },
  {
   "cell_type": "code",
   "execution_count": null,
   "metadata": {},
   "outputs": [],
   "source": []
  },
  {
   "cell_type": "markdown",
   "metadata": {},
   "source": [
    "## Debug stuff"
   ]
  },
  {
   "cell_type": "markdown",
   "metadata": {},
   "source": [
    "### Test metrics"
   ]
  },
  {
   "cell_type": "code",
   "execution_count": 95,
   "metadata": {},
   "outputs": [],
   "source": [
    "from ignite.metrics import Accuracy, Recall, Precision"
   ]
  },
  {
   "cell_type": "code",
   "execution_count": 143,
   "metadata": {},
   "outputs": [],
   "source": [
    "%run ./metrics/classification/__init__.py\n",
    "%run ./metrics/classification/specificity.py\n",
    "%run ./metrics/classification/accuracy.py\n",
    "%run ./metrics/classification/hamming.py"
   ]
  },
  {
   "cell_type": "code",
   "execution_count": 144,
   "metadata": {},
   "outputs": [],
   "source": [
    "acc = MultilabelAccuracy(output_transform=_transform_remove_loss_and_round)\n",
    "ham = Hamming(output_transform=_transform_remove_loss_and_round)"
   ]
  },
  {
   "cell_type": "code",
   "execution_count": 153,
   "metadata": {},
   "outputs": [],
   "source": [
    "outputs = torch.tensor([[0, 1, 1],\n",
    "                        [0.3, 0.7, 0.8],\n",
    "                       ])\n",
    "target = torch.tensor([[0, 0, 1],\n",
    "                       [0, 1, 1],\n",
    "                      ])"
   ]
  },
  {
   "cell_type": "code",
   "execution_count": 154,
   "metadata": {},
   "outputs": [
    {
     "data": {
      "text/plain": [
       "0.6666666666666666"
      ]
     },
     "execution_count": 154,
     "metadata": {},
     "output_type": "execute_result"
    }
   ],
   "source": [
    "acc.reset()\n",
    "acc.update(_transform_remove_loss_and_round((0, outputs, target)))\n",
    "acc.compute()"
   ]
  },
  {
   "cell_type": "code",
   "execution_count": 155,
   "metadata": {},
   "outputs": [
    {
     "data": {
      "text/plain": [
       "0.16666666666666666"
      ]
     },
     "execution_count": 155,
     "metadata": {},
     "output_type": "execute_result"
    }
   ],
   "source": [
    "ham.reset()\n",
    "ham.update(_transform_remove_loss_and_round((0, outputs, target)))\n",
    "ham.compute()"
   ]
  },
  {
   "cell_type": "code",
   "execution_count": null,
   "metadata": {},
   "outputs": [],
   "source": []
  },
  {
   "cell_type": "code",
   "execution_count": null,
   "metadata": {},
   "outputs": [],
   "source": [
    "sp = Specificity()\n",
    "rec = Recall()\n",
    "prec = Precision()"
   ]
  },
  {
   "cell_type": "code",
   "execution_count": null,
   "metadata": {},
   "outputs": [],
   "source": [
    "fn = _get_transform_one_class(0)"
   ]
  },
  {
   "cell_type": "code",
   "execution_count": null,
   "metadata": {},
   "outputs": [],
   "source": [
    "# outputs = torch.tensor([[1, 2, 1, 0, 0]])\n",
    "# target = torch.tensor([[1, 0, 1, 1, 2]])\n",
    "outputs = torch.tensor([[0, 20, -1],\n",
    "                        [-40, 2, 3],\n",
    "                        [17, 5, 6],\n",
    "                       ])\n",
    "target = torch.tensor([0, 0, 2])\n",
    "outputs, target = fn((0, outputs, target))\n",
    "outputs, target"
   ]
  },
  {
   "cell_type": "code",
   "execution_count": null,
   "metadata": {},
   "outputs": [],
   "source": [
    "sp.reset()\n",
    "sp.update((outputs, target))\n",
    "sp.compute()"
   ]
  },
  {
   "cell_type": "code",
   "execution_count": null,
   "metadata": {},
   "outputs": [],
   "source": [
    "rec.reset()\n",
    "rec.update((outputs, target))\n",
    "rec.compute().item()"
   ]
  },
  {
   "cell_type": "code",
   "execution_count": null,
   "metadata": {},
   "outputs": [],
   "source": [
    "prec.reset()\n",
    "prec.update((outputs, target))\n",
    "prec.compute().item()"
   ]
  },
  {
   "cell_type": "code",
   "execution_count": null,
   "metadata": {},
   "outputs": [],
   "source": []
  },
  {
   "cell_type": "markdown",
   "metadata": {},
   "source": [
    "#### Test BCE loss"
   ]
  },
  {
   "cell_type": "code",
   "execution_count": 19,
   "metadata": {},
   "outputs": [],
   "source": [
    "import torch\n",
    "import numpy as np\n",
    "from torch.nn.functional import binary_cross_entropy"
   ]
  },
  {
   "cell_type": "code",
   "execution_count": 41,
   "metadata": {},
   "outputs": [],
   "source": [
    "%run losses/bce.py"
   ]
  },
  {
   "cell_type": "code",
   "execution_count": 45,
   "metadata": {},
   "outputs": [],
   "source": [
    "EPS = 1e-5"
   ]
  },
  {
   "cell_type": "code",
   "execution_count": 86,
   "metadata": {},
   "outputs": [],
   "source": [
    "target = torch.tensor([[1, 0, 0, 0, 0, 0],\n",
    "                       [0, 0, 1, 0, 1, 0],\n",
    "                       [0, 0, 0, 0, 0, 0],\n",
    "                      ])\n",
    "bce = WeigthedBCELoss()"
   ]
  },
  {
   "cell_type": "code",
   "execution_count": 90,
   "metadata": {},
   "outputs": [
    {
     "data": {
      "text/plain": [
       "tensor(82.8836)"
      ]
     },
     "execution_count": 90,
     "metadata": {},
     "output_type": "execute_result"
    }
   ],
   "source": [
    "output_o = torch.tensor([[1, 0, 0, 0, 0, 0],\n",
    "                         [0, 0, 1, 0, 1, 0],\n",
    "                         [1, 1, 1, 1, 1, 1],\n",
    "                        ]).float()\n",
    "bce(output_o, target)"
   ]
  },
  {
   "cell_type": "code",
   "execution_count": 96,
   "metadata": {},
   "outputs": [
    {
     "data": {
      "text/plain": [
       "tensor(151.9611)"
      ]
     },
     "execution_count": 96,
     "metadata": {},
     "output_type": "execute_result"
    }
   ],
   "source": [
    "output_o = torch.tensor([[0, 0, 0, 0, 0, 0],\n",
    "                         [0, 0, 1, 0, 1, 0],\n",
    "                         [1, 1, 1, 1, 1, 1],\n",
    "                        ]).float()\n",
    "bce(output_o, target)"
   ]
  },
  {
   "cell_type": "code",
   "execution_count": 97,
   "metadata": {},
   "outputs": [
    {
     "data": {
      "text/plain": [
       "tensor(0.0004)"
      ]
     },
     "execution_count": 97,
     "metadata": {},
     "output_type": "execute_result"
    }
   ],
   "source": [
    "output_o = torch.tensor([[1, 0, 0, 0, 0, 0],\n",
    "                         [0, 0, 1, 0, 1, 0],\n",
    "                         [0, 0, 0, 0, 0, 0],\n",
    "                        ]).float()\n",
    "bce(output_o, target)"
   ]
  },
  {
   "cell_type": "code",
   "execution_count": 98,
   "metadata": {},
   "outputs": [
    {
     "data": {
      "text/plain": [
       "tensor(69.0779)"
      ]
     },
     "execution_count": 98,
     "metadata": {},
     "output_type": "execute_result"
    }
   ],
   "source": [
    "output_o = torch.tensor([[0, 0, 0, 0, 0, 0],\n",
    "                         [0, 0, 1, 0, 1, 0],\n",
    "                         [0, 0, 0, 0, 0, 0],\n",
    "                        ]).float()\n",
    "bce(output_o, target)"
   ]
  },
  {
   "cell_type": "code",
   "execution_count": null,
   "metadata": {},
   "outputs": [],
   "source": []
  },
  {
   "cell_type": "code",
   "execution_count": 110,
   "metadata": {},
   "outputs": [
    {
     "data": {
      "text/plain": [
       "tensor([[1.0000e-05, 1.0000e-05, 1.0000e-05, 1.0000e-05, 1.0000e-05, 1.0000e-05],\n",
       "        [1.0000e-05, 1.0000e-05, 9.9999e-01, 1.0000e-05, 9.9999e-01, 1.0000e-05],\n",
       "        [1.0000e-05, 1.0000e-05, 1.0000e-05, 1.0000e-05, 1.0000e-05, 1.0000e-05]])"
      ]
     },
     "execution_count": 110,
     "metadata": {},
     "output_type": "execute_result"
    }
   ],
   "source": [
    "output = output_o.clamp(min=EPS, max=1-EPS)\n",
    "output"
   ]
  },
  {
   "cell_type": "code",
   "execution_count": 94,
   "metadata": {},
   "outputs": [
    {
     "data": {
      "text/plain": [
       "(18, 3, 15)"
      ]
     },
     "execution_count": 94,
     "metadata": {},
     "output_type": "execute_result"
    }
   ],
   "source": [
    "total = np.prod(target.size())\n",
    "positive = (target == 1).sum().item()\n",
    "negative = total - positive\n",
    "total, positive, negative"
   ]
  },
  {
   "cell_type": "code",
   "execution_count": 95,
   "metadata": {},
   "outputs": [
    {
     "data": {
      "text/plain": [
       "(6.0, 1.2)"
      ]
     },
     "execution_count": 95,
     "metadata": {},
     "output_type": "execute_result"
    }
   ],
   "source": [
    "BP = total / positive\n",
    "BN = total / negative\n",
    "BP, BN"
   ]
  },
  {
   "cell_type": "code",
   "execution_count": 85,
   "metadata": {},
   "outputs": [
    {
     "data": {
      "text/plain": [
       "(torch.Size([2, 3]), torch.Size([3, 6]))"
      ]
     },
     "execution_count": 85,
     "metadata": {},
     "output_type": "execute_result"
    }
   ],
   "source": [
    "target.size(), output.size()"
   ]
  },
  {
   "cell_type": "code",
   "execution_count": 116,
   "metadata": {},
   "outputs": [
    {
     "data": {
      "text/plain": [
       "tensor([[-1.1513e+01, -0.0000e+00, -0.0000e+00, -0.0000e+00, -0.0000e+00,\n",
       "         -0.0000e+00],\n",
       "        [-0.0000e+00, -0.0000e+00, -1.0014e-05, -0.0000e+00, -1.0014e-05,\n",
       "         -0.0000e+00],\n",
       "        [-0.0000e+00, -0.0000e+00, -0.0000e+00, -0.0000e+00, -0.0000e+00,\n",
       "         -0.0000e+00]])"
      ]
     },
     "execution_count": 116,
     "metadata": {},
     "output_type": "execute_result"
    }
   ],
   "source": [
    "left = (target * torch.log(output))\n",
    "left"
   ]
  },
  {
   "cell_type": "code",
   "execution_count": 117,
   "metadata": {},
   "outputs": [
    {
     "data": {
      "text/plain": [
       "tensor([[-0.0000e+00, -1.0014e-05, -1.0014e-05, -1.0014e-05, -1.0014e-05,\n",
       "         -1.0014e-05],\n",
       "        [-1.0014e-05, -1.0014e-05, -0.0000e+00, -1.0014e-05, -0.0000e+00,\n",
       "         -1.0014e-05],\n",
       "        [-1.0014e-05, -1.0014e-05, -1.0014e-05, -1.0014e-05, -1.0014e-05,\n",
       "         -1.0014e-05]])"
      ]
     },
     "execution_count": 117,
     "metadata": {},
     "output_type": "execute_result"
    }
   ],
   "source": [
    "right = (1-target) * torch.log(1-output)\n",
    "right"
   ]
  },
  {
   "cell_type": "code",
   "execution_count": 118,
   "metadata": {},
   "outputs": [
    {
     "data": {
      "text/plain": [
       "tensor(69.0779)"
      ]
     },
     "execution_count": 118,
     "metadata": {},
     "output_type": "execute_result"
    }
   ],
   "source": [
    "-(weights*(left + right)).sum()"
   ]
  },
  {
   "cell_type": "code",
   "execution_count": 99,
   "metadata": {},
   "outputs": [
    {
     "data": {
      "text/plain": [
       "tensor([[0., 0., 0., 0., 0., 0.],\n",
       "        [0., 0., 0., 0., 0., 0.],\n",
       "        [0., 0., 0., 0., 0., 0.]])"
      ]
     },
     "execution_count": 99,
     "metadata": {},
     "output_type": "execute_result"
    }
   ],
   "source": [
    "weights = torch.zeros(target.size())\n",
    "weights"
   ]
  },
  {
   "cell_type": "code",
   "execution_count": 109,
   "metadata": {},
   "outputs": [
    {
     "data": {
      "text/plain": [
       "tensor([[6.0000, 1.2000, 1.2000, 1.2000, 1.2000, 1.2000],\n",
       "        [1.2000, 1.2000, 6.0000, 1.2000, 6.0000, 1.2000],\n",
       "        [1.2000, 1.2000, 1.2000, 1.2000, 1.2000, 1.2000]])"
      ]
     },
     "execution_count": 109,
     "metadata": {},
     "output_type": "execute_result"
    }
   ],
   "source": [
    "weights[target == 0] = BN\n",
    "weights[target == 1] = BP\n",
    "weights"
   ]
  },
  {
   "cell_type": "code",
   "execution_count": 119,
   "metadata": {},
   "outputs": [
    {
     "data": {
      "text/plain": [
       "tensor(600.)"
      ]
     },
     "execution_count": 119,
     "metadata": {},
     "output_type": "execute_result"
    }
   ],
   "source": [
    "binary_cross_entropy(output_o, target.float(), weight=weights, reduction='sum')"
   ]
  },
  {
   "cell_type": "code",
   "execution_count": 120,
   "metadata": {},
   "outputs": [
    {
     "data": {
      "text/plain": [
       "tensor(69.0779)"
      ]
     },
     "execution_count": 120,
     "metadata": {},
     "output_type": "execute_result"
    }
   ],
   "source": [
    "bce(output_o, target)"
   ]
  },
  {
   "cell_type": "code",
   "execution_count": null,
   "metadata": {},
   "outputs": [],
   "source": []
  },
  {
   "cell_type": "code",
   "execution_count": 122,
   "metadata": {},
   "outputs": [],
   "source": [
    "def calc_conv_output_size(input_size, padding, kernel_size, stride, dilation=0):\n",
    "    value = (input_size + 2*padding - dilation * (kernel_size - 1) - 1)\n",
    "    value /= (stride)\n",
    "    value += 1\n",
    "    return value"
   ]
  },
  {
   "cell_type": "code",
   "execution_count": 124,
   "metadata": {},
   "outputs": [],
   "source": [
    "conv = nn.Conv2d(3, 32, (8, 8), stride=4)"
   ]
  },
  {
   "cell_type": "code",
   "execution_count": null,
   "metadata": {},
   "outputs": [],
   "source": []
  },
  {
   "cell_type": "code",
   "execution_count": null,
   "metadata": {},
   "outputs": [],
   "source": []
  }
 ],
 "metadata": {
  "kernelspec": {
   "display_name": "Python 3",
   "language": "python",
   "name": "python3"
  },
  "language_info": {
   "codemirror_mode": {
    "name": "ipython",
    "version": 3
   },
   "file_extension": ".py",
   "mimetype": "text/x-python",
   "name": "python",
   "nbconvert_exporter": "python",
   "pygments_lexer": "ipython3",
   "version": "3.6.9"
  },
  "toc": {
   "base_numbering": 1,
   "nav_menu": {
    "height": "255px",
    "width": "188px"
   },
   "number_sections": true,
   "sideBar": true,
   "skip_h1_title": false,
   "title_cell": "Table of Contents",
   "title_sidebar": "Contents",
   "toc_cell": false,
   "toc_position": {},
   "toc_section_display": true,
   "toc_window_display": false
  }
 },
 "nbformat": 4,
 "nbformat_minor": 4
}
