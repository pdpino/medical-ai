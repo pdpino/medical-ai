{
 "cells": [
  {
   "cell_type": "code",
   "execution_count": 1,
   "metadata": {},
   "outputs": [],
   "source": [
    "import torch\n",
    "from torch import nn\n",
    "from torch.nn.functional import cross_entropy, softmax, binary_cross_entropy_with_logits"
   ]
  },
  {
   "cell_type": "markdown",
   "metadata": {},
   "source": [
    "## Debug Focal loss"
   ]
  },
  {
   "cell_type": "code",
   "execution_count": 2,
   "metadata": {},
   "outputs": [],
   "source": [
    "%run focal.py"
   ]
  },
  {
   "cell_type": "code",
   "execution_count": 3,
   "metadata": {},
   "outputs": [],
   "source": [
    "alpha = 0.75\n",
    "gamma = 2"
   ]
  },
  {
   "cell_type": "markdown",
   "metadata": {
    "heading_collapsed": true
   },
   "source": [
    "### Multilabel case"
   ]
  },
  {
   "cell_type": "code",
   "execution_count": 108,
   "metadata": {
    "hidden": true
   },
   "outputs": [
    {
     "data": {
      "text/plain": [
       "tensor([[1., 1., 0., 0., 0., 1.],\n",
       "        [0., 0., 1., 0., 0., 1.]])"
      ]
     },
     "execution_count": 108,
     "metadata": {},
     "output_type": "execute_result"
    }
   ],
   "source": [
    "outputs = torch.tensor([[1, 1, 0, 0, 0, 1],\n",
    "                        [0, 0, 1, 0, 0, 1],\n",
    "                       ]).float()\n",
    "targets = torch.tensor([[1, 1, 1, 0, 1, 0],\n",
    "                        [0, 1, 0, 0, 1, 0],\n",
    "                       ]).float()\n",
    "outputs"
   ]
  },
  {
   "cell_type": "code",
   "execution_count": 116,
   "metadata": {
    "hidden": true
   },
   "outputs": [
    {
     "name": "stdout",
     "output_type": "stream",
     "text": [
      "tensor([[0.8700, 0.8700, 0.8700, 0.1300, 0.8700, 0.1300],\n",
      "        [0.1300, 0.8700, 0.1300, 0.1300, 0.8700, 0.1300]])\n",
      "tensor([[0.0723, 0.0723, 0.2500, 0.2500, 0.2500, 0.5344],\n",
      "        [0.2500, 0.2500, 0.5344, 0.2500, 0.2500, 0.5344]])\n",
      "tensor([[0.3133, 0.3133, 0.6931, 0.6931, 0.6931, 1.3133],\n",
      "        [0.6931, 0.6931, 1.3133, 0.6931, 0.6931, 1.3133]])\n"
     ]
    },
    {
     "data": {
      "text/plain": [
       "tensor([[0.0197, 0.0197, 0.1508, 0.0225, 0.1508, 0.0912],\n",
       "        [0.0225, 0.1508, 0.0912, 0.0225, 0.1508, 0.0912]])"
      ]
     },
     "execution_count": 116,
     "metadata": {},
     "output_type": "execute_result"
    }
   ],
   "source": [
    "focal = FocalLoss(alpha=0.87, reduction='none')\n",
    "focal(outputs, targets)"
   ]
  },
  {
   "cell_type": "code",
   "execution_count": null,
   "metadata": {
    "hidden": true
   },
   "outputs": [],
   "source": []
  },
  {
   "cell_type": "code",
   "execution_count": null,
   "metadata": {
    "hidden": true
   },
   "outputs": [],
   "source": []
  },
  {
   "cell_type": "markdown",
   "metadata": {},
   "source": [
    "### Multiclass case"
   ]
  },
  {
   "cell_type": "code",
   "execution_count": 38,
   "metadata": {},
   "outputs": [],
   "source": [
    "outputs = torch.tensor([[0, 1, 0],\n",
    "                        [-3, 1, 2],\n",
    "                        [1, 11.1, 0.5],\n",
    "                       ]).float()\n",
    "targets = torch.tensor([1, 2, 0]).long()"
   ]
  },
  {
   "cell_type": "code",
   "execution_count": 39,
   "metadata": {},
   "outputs": [
    {
     "data": {
      "text/plain": [
       "tensor([0.0892, 0.0213, 9.0893])"
      ]
     },
     "execution_count": 39,
     "metadata": {},
     "output_type": "execute_result"
    }
   ],
   "source": [
    "focal = FocalLoss(alpha=0.9, gamma=2, multilabel=False, reduction='none')\n",
    "focal(outputs, targets)"
   ]
  },
  {
   "cell_type": "code",
   "execution_count": null,
   "metadata": {},
   "outputs": [],
   "source": []
  }
 ],
 "metadata": {
  "kernelspec": {
   "display_name": "Python 3",
   "language": "python",
   "name": "python3"
  },
  "language_info": {
   "codemirror_mode": {
    "name": "ipython",
    "version": 3
   },
   "file_extension": ".py",
   "mimetype": "text/x-python",
   "name": "python",
   "nbconvert_exporter": "python",
   "pygments_lexer": "ipython3",
   "version": "3.6.9"
  },
  "toc": {
   "base_numbering": 1,
   "nav_menu": {},
   "number_sections": true,
   "sideBar": true,
   "skip_h1_title": false,
   "title_cell": "Table of Contents",
   "title_sidebar": "Contents",
   "toc_cell": false,
   "toc_position": {},
   "toc_section_display": true,
   "toc_window_display": false
  }
 },
 "nbformat": 4,
 "nbformat_minor": 4
}
