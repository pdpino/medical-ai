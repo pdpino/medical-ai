{
 "cells": [
  {
   "cell_type": "markdown",
   "metadata": {},
   "source": [
    "## Imports"
   ]
  },
  {
   "cell_type": "code",
   "execution_count": 1,
   "metadata": {},
   "outputs": [],
   "source": [
    "import torch\n",
    "from torch import nn\n",
    "from torch import optim\n",
    "from ignite.engine import Engine, Events\n",
    "from ignite.handlers import Timer #, EarlyStopping\n",
    "\n",
    "import time"
   ]
  },
  {
   "cell_type": "markdown",
   "metadata": {},
   "source": [
    "## Functions"
   ]
  },
  {
   "cell_type": "code",
   "execution_count": 2,
   "metadata": {},
   "outputs": [
    {
     "data": {
      "text/plain": [
       "device(type='cuda')"
      ]
     },
     "execution_count": 2,
     "metadata": {},
     "output_type": "execute_result"
    }
   ],
   "source": [
    "DEVICE = torch.device('cuda')\n",
    "DEVICE"
   ]
  },
  {
   "cell_type": "markdown",
   "metadata": {},
   "source": [
    "### Dataloader"
   ]
  },
  {
   "cell_type": "code",
   "execution_count": 3,
   "metadata": {},
   "outputs": [],
   "source": [
    "from torch.utils.data import DataLoader\n",
    "from torch.nn.utils.rnn import pad_sequence"
   ]
  },
  {
   "cell_type": "code",
   "execution_count": 4,
   "metadata": {},
   "outputs": [],
   "source": [
    "def create_dataloader(dataset, batch_size=128, shuffle=False):\n",
    "    def collate_fn(batch_tuples):\n",
    "        images = []\n",
    "        batch_seq_out = []\n",
    "        for image, seq_out in batch_tuples:\n",
    "            images.append(image)\n",
    "            batch_seq_out.append(seq_out)\n",
    "\n",
    "        images = torch.stack(images)\n",
    "        batch_seq_out = pad_sequence(batch_seq_out, batch_first=True)\n",
    "        return images, batch_seq_out\n",
    "\n",
    "    dataloader = DataLoader(dataset, batch_size, collate_fn=collate_fn,\n",
    "                            shuffle=shuffle)\n",
    "    return dataloader"
   ]
  },
  {
   "cell_type": "markdown",
   "metadata": {},
   "source": [
    "### Step"
   ]
  },
  {
   "cell_type": "code",
   "execution_count": 5,
   "metadata": {},
   "outputs": [],
   "source": [
    "def get_step_fn(model, optimizer=None, training=True, device=DEVICE):\n",
    "    \"\"\"Creates a step function for an Engine.\"\"\"\n",
    "    loss_fn = nn.CrossEntropyLoss()\n",
    "    def step_fn(engine, data_batch):\n",
    "        # Images\n",
    "        images = data_batch[0].to(device)\n",
    "        # shape: batch_size, 3, height, width\n",
    "\n",
    "        # Reports, as word ids\n",
    "        reports = data_batch[1].to(device).long()\n",
    "        _, max_sentence_len = reports.size()\n",
    "        # shape: batch_size, max_sentence_len\n",
    "        \n",
    "        # Enable training\n",
    "        model.train(training)\n",
    "        torch.set_grad_enabled(training) # enable recording gradients\n",
    "\n",
    "        # zero the parameter gradients\n",
    "        if training:\n",
    "            optimizer.zero_grad()\n",
    "\n",
    "        # Pass thru the model\n",
    "        output_tuple = model(images, max_sentence_len)\n",
    "\n",
    "        generated_words = output_tuple[0]\n",
    "        _, _, vocab_size = generated_words.size()\n",
    "        # shape: batch_size, n_sentences, vocab_size\n",
    "\n",
    "        # Compute classification loss\n",
    "        loss = loss_fn(generated_words.view(-1, vocab_size), reports.view(-1))\n",
    "        \n",
    "        batch_loss = loss.item()\n",
    "\n",
    "        if training:\n",
    "            loss.backward()\n",
    "            optimizer.step()\n",
    "\n",
    "        return batch_loss, generated_words, reports\n",
    "\n",
    "    return step_fn"
   ]
  },
  {
   "cell_type": "markdown",
   "metadata": {},
   "source": [
    "### Metrics"
   ]
  },
  {
   "cell_type": "code",
   "execution_count": 6,
   "metadata": {},
   "outputs": [],
   "source": [
    "%run utils/__init__.py"
   ]
  },
  {
   "cell_type": "code",
   "execution_count": 7,
   "metadata": {},
   "outputs": [],
   "source": [
    "from ignite.metrics import RunningAverage"
   ]
  },
  {
   "cell_type": "code",
   "execution_count": 8,
   "metadata": {},
   "outputs": [],
   "source": [
    "%run metrics/report_generation/word_accuracy.py"
   ]
  },
  {
   "cell_type": "code",
   "execution_count": 9,
   "metadata": {},
   "outputs": [],
   "source": [
    "def _transform_word_accuracy(outputs):\n",
    "    _, generated_scores, seq = outputs\n",
    "    _, words_predicted = generated_scores.max(dim=2)\n",
    "    return words_predicted, seq\n",
    "\n",
    "def attach_metrics_report_generation(engine):\n",
    "    loss = RunningAverage(output_transform=lambda x: x[0])\n",
    "    loss.attach(engine, 'loss')\n",
    "    \n",
    "    word_acc = WordAccuracy(output_transform=_transform_word_accuracy)\n",
    "    word_acc.attach(engine, 'word_acc')"
   ]
  },
  {
   "cell_type": "markdown",
   "metadata": {},
   "source": [
    "### Train"
   ]
  },
  {
   "cell_type": "code",
   "execution_count": 10,
   "metadata": {},
   "outputs": [],
   "source": [
    "def train_model(model, train_dataloader, val_dataloader, n_epochs=1, lr=0.0001):\n",
    "    optimizer = optim.Adam(model.parameters(), lr=lr)\n",
    "\n",
    "    # Create validator engine\n",
    "    validator = Engine(get_step_fn(model, training=False))\n",
    "    attach_metrics_report_generation(validator)\n",
    "    \n",
    "    # Create trainer engine\n",
    "    trainer = Engine(get_step_fn(model, optimizer=optimizer, training=True))\n",
    "    attach_metrics_report_generation(trainer)\n",
    "    \n",
    "    # Create Timer to measure wall time between epochs\n",
    "    timer = Timer(average=True)\n",
    "    timer.attach(trainer, start=Events.EPOCH_STARTED, step=Events.EPOCH_COMPLETED)\n",
    "\n",
    "    @trainer.on(Events.EPOCH_COMPLETED)\n",
    "    def tb_write_metrics(trainer):\n",
    "        epoch = trainer.state.epoch\n",
    "        max_epochs = trainer.state.max_epochs\n",
    "\n",
    "        # Run on evaluation\n",
    "        validator.run(val_dataloader, 1)\n",
    "\n",
    "        # Common time\n",
    "        wall_time = time.time()\n",
    "\n",
    "        train_loss = trainer.state.metrics.get('loss', 0)\n",
    "        val_loss = validator.state.metrics.get('loss', 0)\n",
    "        loss_str = f'loss {train_loss:.4f}, {val_loss:.4f}'\n",
    "        \n",
    "        train_acc = trainer.state.metrics.get('word_acc', 0)\n",
    "        val_acc = validator.state.metrics.get('word_acc', 0)\n",
    "        acc_str = f'acc {train_acc:.4f}, {val_acc:.4f}'\n",
    "        \n",
    "        duration_str = duration_to_str(timer._elapsed())\n",
    "        print(f'Finished epoch {epoch}/{max_epochs}, {loss_str}, {acc_str} (took {duration_str})')\n",
    "\n",
    "    # Train!\n",
    "    print('-' * 50)\n",
    "    print('Training...')\n",
    "    trainer.run(train_dataloader, n_epochs)\n",
    "\n",
    "    # Capture time\n",
    "    secs_per_epoch = timer.value()\n",
    "    duration_per_epoch = duration_to_str(secs_per_epoch)\n",
    "    print('Average time per epoch: ', duration_per_epoch)\n",
    "    print('-'*50)\n",
    "\n",
    "    return trainer.state.metrics, validator.state.metrics"
   ]
  },
  {
   "cell_type": "markdown",
   "metadata": {},
   "source": [
    "## Load stuff"
   ]
  },
  {
   "cell_type": "code",
   "execution_count": 11,
   "metadata": {},
   "outputs": [],
   "source": [
    "%run ./datasets/iu_xray.py"
   ]
  },
  {
   "cell_type": "code",
   "execution_count": 12,
   "metadata": {},
   "outputs": [
    {
     "data": {
      "text/plain": [
       "((5927, 3062), (751, 382))"
      ]
     },
     "execution_count": 12,
     "metadata": {},
     "output_type": "execute_result"
    }
   ],
   "source": [
    "train_dataset = IUXRayDataset(dataset_type='train')\n",
    "val_dataset = IUXRayDataset(dataset_type='val', vocab=train_dataset.get_vocab())\n",
    "train_dataset.size(), val_dataset.size()"
   ]
  },
  {
   "cell_type": "code",
   "execution_count": 13,
   "metadata": {},
   "outputs": [
    {
     "data": {
      "text/plain": [
       "(5927, 3062)"
      ]
     },
     "execution_count": 13,
     "metadata": {},
     "output_type": "execute_result"
    }
   ],
   "source": [
    "BS = 10\n",
    "\n",
    "train_dataloader = create_dataloader(train_dataset, batch_size=BS)\n",
    "val_dataloader = create_dataloader(val_dataset, batch_size=BS)\n",
    "train_dataloader.dataset.size()"
   ]
  },
  {
   "cell_type": "code",
   "execution_count": 14,
   "metadata": {},
   "outputs": [],
   "source": [
    "%run ./datasets/cxr14.py\n",
    "%run ./models/classification/__init__.py\n",
    "%run ./models/report_generation/decoder_lstm.py\n",
    "%run ./models/report_generation/cnn_to_seq.py"
   ]
  },
  {
   "cell_type": "code",
   "execution_count": 15,
   "metadata": {},
   "outputs": [],
   "source": [
    "cnn = init_empty_model('resnet', CXR14_DISEASES).to(DEVICE)\n",
    "decoder = LSTMDecoder(len(train_dataset.word_to_idx), 100, 100).to(DEVICE)"
   ]
  },
  {
   "cell_type": "code",
   "execution_count": 16,
   "metadata": {},
   "outputs": [],
   "source": [
    "model = CNN2Seq(cnn, decoder).to(DEVICE)"
   ]
  },
  {
   "cell_type": "markdown",
   "metadata": {},
   "source": [
    "## Train"
   ]
  },
  {
   "cell_type": "code",
   "execution_count": null,
   "metadata": {},
   "outputs": [
    {
     "name": "stdout",
     "output_type": "stream",
     "text": [
      "--------------------------------------------------\n",
      "Training...\n",
      "Finished epoch 1/10, loss 4.9905, 4.9460, acc 0.1193, 0.1425 (took 0h 1m 26s)\n",
      "Finished epoch 2/10, loss 4.5256, 4.6848, acc 0.1488, 0.1535 (took 0h 1m 27s)\n"
     ]
    }
   ],
   "source": [
    "%%time\n",
    "\n",
    "train_metrics, val_metrics = train_model(model, train_dataloader, val_dataloader,\n",
    "                                         n_epochs=10, lr=0.0001)"
   ]
  },
  {
   "cell_type": "code",
   "execution_count": null,
   "metadata": {},
   "outputs": [],
   "source": []
  },
  {
   "cell_type": "markdown",
   "metadata": {},
   "source": [
    "## Test samples"
   ]
  },
  {
   "cell_type": "code",
   "execution_count": 18,
   "metadata": {},
   "outputs": [],
   "source": [
    "idx_to_word = {v: k for k, v in train_dataset.get_vocab().items()}\n",
    "# idx_to_word"
   ]
  },
  {
   "cell_type": "code",
   "execution_count": 19,
   "metadata": {},
   "outputs": [],
   "source": [
    "def idx_to_text(idxs):\n",
    "    return ' '.join([idx_to_word[int(g.item())] for g in idxs])"
   ]
  },
  {
   "cell_type": "code",
   "execution_count": 22,
   "metadata": {},
   "outputs": [
    {
     "data": {
      "text/plain": [
       "(torch.Size([3, 512, 512]), torch.Size([5]))"
      ]
     },
     "execution_count": 22,
     "metadata": {},
     "output_type": "execute_result"
    }
   ],
   "source": [
    "image, report = train_dataset[0]\n",
    "image.size(), report.size()"
   ]
  },
  {
   "cell_type": "code",
   "execution_count": 25,
   "metadata": {},
   "outputs": [
    {
     "name": "stdout",
     "output_type": "stream",
     "text": [
      "torch.Size([5])\n",
      "tensor([119, 918, 941, 856, 288])\n"
     ]
    },
    {
     "data": {
      "text/plain": [
       "'an critical additional injuries defibrillator'"
      ]
     },
     "execution_count": 25,
     "metadata": {},
     "output_type": "execute_result"
    }
   ],
   "source": [
    "images = image.unsqueeze(0).to(DEVICE)\n",
    "generated, = model(images, report.size()[0])\n",
    "_, generated = generated.max(dim=2)\n",
    "generated = generated.squeeze(0).cpu()\n",
    "print(generated.size())\n",
    "print(generated)\n",
    "\n",
    "idx_to_text(generated)"
   ]
  },
  {
   "cell_type": "code",
   "execution_count": 24,
   "metadata": {},
   "outputs": [
    {
     "data": {
      "text/plain": [
       "'no active disease . END'"
      ]
     },
     "execution_count": 24,
     "metadata": {},
     "output_type": "execute_result"
    }
   ],
   "source": [
    "idx_to_text(report)"
   ]
  },
  {
   "cell_type": "code",
   "execution_count": null,
   "metadata": {},
   "outputs": [],
   "source": []
  },
  {
   "cell_type": "code",
   "execution_count": 85,
   "metadata": {},
   "outputs": [],
   "source": [
    "from tqdm.notebook import tqdm"
   ]
  },
  {
   "cell_type": "code",
   "execution_count": 94,
   "metadata": {},
   "outputs": [],
   "source": [
    "import re"
   ]
  },
  {
   "cell_type": "code",
   "execution_count": 98,
   "metadata": {},
   "outputs": [
    {
     "data": {
      "text/plain": [
       "213"
      ]
     },
     "execution_count": 98,
     "metadata": {},
     "output_type": "execute_result"
    }
   ],
   "source": [
    "target = 'the size is normal'\n",
    "found = []\n",
    "\n",
    "for report in train_dataset.reports:\n",
    "    report = idx_to_text(report['tokens_idxs'])\n",
    "    if re.search(r'\\A[a-zA-Z]+ size is normal', report):\n",
    "        found.append(report)\n",
    "\n",
    "len(found)"
   ]
  },
  {
   "cell_type": "code",
   "execution_count": 99,
   "metadata": {},
   "outputs": [
    {
     "data": {
      "text/plain": [
       "['heart size is normal and lungs are clear END',\n",
       " 'heart size is normal and lungs are clear END',\n",
       " 'heart size is normal the lungs are clear END',\n",
       " 'heart size is normal the lungs are clear END',\n",
       " 'heart size is normal and lungs are clear . END',\n",
       " 'heart size is normal and lungs are clear . END',\n",
       " 'heart size is normal and lungs are clear . END',\n",
       " 'heart size is normal and lungs are clear . END',\n",
       " 'heart size is normal and lungs are clear . END',\n",
       " 'heart size is normal and lungs are clear . END',\n",
       " 'heart size is normal and lungs are clear . END',\n",
       " 'heart size is normal and lungs are clear . END',\n",
       " 'heart size is normal and lungs are clear . END',\n",
       " 'heart size is normal and the lungs are clear . END',\n",
       " 'heart size is normal and the lungs are clear . END',\n",
       " 'heart size is normal and the lungs are clear . END',\n",
       " 'heart size is normal and the lungs are clear . END',\n",
       " 'heart size is normal in the lungs are clear . END',\n",
       " 'heart size is normal and the lungs are clear . END',\n",
       " 'heart size is normal and the lungs are clear . END',\n",
       " 'heart size is normal and the lungs are clear . END',\n",
       " 'heart size is normal and the lungs are clear . END',\n",
       " 'heart size is normal and the lungs are clear . END',\n",
       " 'heart size is normal and the lungs are clear . END',\n",
       " 'heart size is normal and the lungs are clear . END',\n",
       " 'heart size is normal and the lungs are clear . END',\n",
       " 'heart size is normal and the lungs are clear . END',\n",
       " 'heart size is normal and the lungs are clear . END',\n",
       " 'heart size is normal and the lungs are clear . END',\n",
       " 'heart size is normal lungs are clear . no edema or effusions . END',\n",
       " 'heart size is normal lungs are clear . no edema or effusions . END',\n",
       " 'heart size is normal and the lungs are clear . no effusions . END',\n",
       " 'heart size is normal and the lungs are clear . no effusions . END',\n",
       " 'heart size is normal and lungs are clear . no evidence of tuberculosis END',\n",
       " 'heart size is normal and lungs are clear . no evidence of tuberculosis END',\n",
       " 'heart size is normal and lungs are clear . no evidence of tuberculosis END',\n",
       " 'heart size is normal and lungs are clear . no evidence of tuberculosis END',\n",
       " 'heart size is normal . lungs are clear . no evidence of tuberculosis END',\n",
       " 'heart size is normal . lungs are clear . no evidence of tuberculosis END',\n",
       " 'heart size is normal . lungs are clear . elevated right diaphragm , unchanged END',\n",
       " 'heart size is normal and the lungs are clear . calcified aortic xxxx . END',\n",
       " 'heart size is normal . lungs are clear . no evidence of tuberculosis . END',\n",
       " 'heart size is normal . lungs are clear . no evidence of tuberculosis . END',\n",
       " 'heart size is normal . no focal consolidations . no pneumothorax or pleural effusion . END',\n",
       " 'heart size is normal . no focal consolidations . no pneumothorax or pleural effusion . END',\n",
       " 'heart size is normal and lungs are clear . calcified left hilar lymph xxxx . END',\n",
       " 'heart size is normal and lungs are clear . calcified left hilar lymph xxxx . END',\n",
       " 'heart size is normal and lungs are clear . degenerative spurring of the thoracic spine END',\n",
       " 'heart size is normal and lungs are clear . degenerative spurring of the thoracic spine END',\n",
       " 'heart size is normal . lungs are clear . minimal platelike atelectasis left base . END',\n",
       " 'heart size is normal . lungs are clear . minimal platelike atelectasis left base . END',\n",
       " 'heart size is normal . no focal airspace disease . no pneumothorax or effusion . END',\n",
       " 'heart size is normal . no focal airspace disease . no pneumothorax or effusion . END',\n",
       " 'heart size is normal and the lungs are clear . no nodules or masses . END',\n",
       " 'heart size is normal and the lungs are clear . no nodules or masses . END',\n",
       " 'heart size is normal . lungs are clear . calcified stable right midlung granulomas . END',\n",
       " 'heart size is normal . lungs are clear . calcified stable right midlung granulomas . END',\n",
       " 'heart size is normal lungs are clear . no evidence of tuberculosis . minimal scoliosis . END',\n",
       " 'heart size is normal lungs are clear . no evidence of tuberculosis . minimal scoliosis . END',\n",
       " 'heart size is normal . lungs are clear . no effusions , pneumonia , or edema END',\n",
       " 'heart size is normal . lungs are clear . no effusions , pneumonia , or edema END',\n",
       " 'heart size is normal . the lungs are clear . no pneumothorax or pleural effusion . END',\n",
       " 'heart size is normal . the lungs are clear . no pneumothorax or pleural effusion . END',\n",
       " 'heart size is normal and lungs are clear . stable 5 mm right midlung perform granuloma END',\n",
       " 'heart size is normal and lungs are clear . stable 5 mm right midlung perform granuloma END',\n",
       " 'heart size is normal and lungs are clear . no effusions , pneumonia , or pneumothorax . END',\n",
       " 'heart size is normal and lungs are clear . no effusions , pneumonia , or pneumothorax . END',\n",
       " 'heart size is normal . lungs are clear . prominent ascending aorta . calcified left hilar xxxx . END',\n",
       " 'heart size is normal . lungs are clear . prominent ascending aorta . calcified left hilar xxxx . END',\n",
       " 'heart size is normal and lungs are clear . no infiltrates or atelectasis . gallbladder xxxx clips . END',\n",
       " 'heart size is normal and lungs are clear . no infiltrates or atelectasis . gallbladder xxxx clips . END',\n",
       " 'heart size is normal and lungs are clear . no nodules , masses , effusions , or pneumonia END',\n",
       " 'heart size is normal and lungs are clear . no nodules , masses , effusions , or pneumonia END',\n",
       " 'heart size is normal . no pneumothorax . no large pleural effusions . no focal airspace opacities . END',\n",
       " 'heart size is normal . no pneumothorax . no large pleural effusions . no focal airspace opacities . END',\n",
       " 'heart size is normal . lungs are clear . no effusion , nodules , adenopathy , or masses . END',\n",
       " 'heart size is normal . lungs are clear . no effusion , nodules , adenopathy , or masses . END',\n",
       " 'heart size is normal . bilateral upper lobe xxxx , fibronodular infiltrates which have been there on prior exams . END',\n",
       " 'heart size is normal . bilateral upper lobe xxxx , fibronodular infiltrates which have been there on prior exams . END',\n",
       " 'heart size is normal . no focal airspace consolidations . no pneumothorax or effusion . no acute osseous findings . END',\n",
       " 'heart size is normal . no focal airspace consolidations . no pneumothorax or effusion . no acute osseous findings . END',\n",
       " 'heart size is normal . slightly tortuous aorta . calcified right hilar lymph xxxx . no adenopathy or fibrosis . END',\n",
       " 'heart size is normal and the lungs are clear . no nodules or masses . no effusions . no pneumonia END',\n",
       " 'heart size is normal . the lungs and costophrenic xxxx are clear . the bony thorax is grossly intact . END',\n",
       " 'heart size is normal . the lungs and costophrenic xxxx are clear . the bony thorax is grossly intact . END',\n",
       " 'heart size is normal . slightly dilated tortuous aorta , unchanged . lungs are clear . no effusions or pneumonia END',\n",
       " 'heart size is normal . slightly dilated tortuous aorta , unchanged . lungs are clear . no effusions or pneumonia END',\n",
       " 'heart size is normal . lungs are clear of pneumonia . patient has stable interstitial fibrotic changes throughout both lungs . END',\n",
       " 'heart size is normal . lungs are clear of pneumonia . patient has stable interstitial fibrotic changes throughout both lungs . END',\n",
       " 'heart size is normal . lungs are clear . 5 mm right apical granuloma overlying the anterior first right rib . END',\n",
       " 'heart size is normal . lungs are clear . 5 mm right apical granuloma overlying the anterior first right rib . END',\n",
       " 'heart size is normal . lungs are clear . stable 5 mm calcified left midlung granuloma . calcified aortic xxxx . END',\n",
       " 'heart size is normal . lungs are clear . stable 5 mm calcified left midlung granuloma . calcified aortic xxxx . END',\n",
       " 'heart size is normal . no focal airspace consolidations . no pneumothorax or pleural effusion . no acute osseous findings . END',\n",
       " 'heart size is normal . no focal airspace consolidations . no pneumothorax or pleural effusion . no acute osseous findings . END',\n",
       " 'heart size is normal . no pneumothorax , pleural effusion , or focal airspace disease . bony structures are intact . END',\n",
       " 'heart size is normal . no pneumothorax , pleural effusion , or focal airspace disease . bony structures are intact . END',\n",
       " 'heart size is normal . no focal airspace disease . emphysema . bibasilar pleural scarring . no pneumothorax or effusion . END',\n",
       " 'heart size is normal . no pneumothorax , pleural effusion , or focal airspace disease . bony structures appear intact . END',\n",
       " 'heart size is normal . no pneumothorax , pleural effusion , or focal airspace disease . bony structures appear intact . END',\n",
       " 'heart size is normal . no pneumothorax , pleural effusion , or focal airspace disease . bony structures appear intact . END',\n",
       " 'heart size is normal . no pneumothorax , pleural effusion , or focal airspace disease . bony structures appear intact . END',\n",
       " 'heart size is normal . lungs are clear . low lung volumes . there is no pneumothorax or large pleural effusion . END',\n",
       " 'heart size is normal . lungs are clear . low lung volumes . there is no pneumothorax or large pleural effusion . END',\n",
       " 'heart size is normal , lungs are clear . no nodular masses . ct scan is more sensitive in detecting small nodules . END',\n",
       " 'heart size is normal , lungs are clear . no nodular masses . ct scan is more sensitive in detecting small nodules . END',\n",
       " \"heart size is normal and lungs are clear . soft tissue density overlying the left lateral upper chest may represent the patient's lipoma . END\",\n",
       " \"heart size is normal and lungs are clear . soft tissue density overlying the left lateral upper chest may represent the patient's lipoma . END\",\n",
       " 'heart size is normal . lungs are clear . tortuous aorta . prominent first ribs . no nodules , masses , or adenopathy . END',\n",
       " 'heart size is normal . lungs are clear . tortuous aorta . prominent first ribs . no nodules , masses , or adenopathy . END',\n",
       " 'heart size is normal . left midlung small calcified granulomas unchanged . persistent partial middle lobe atelectasis and infiltrate seen xxxx on the lateral END',\n",
       " 'heart size is normal . no focal consolidations . there are degenerative changes throughout the midlower thoracic spine . no pneumothorax or pleural effusion . END',\n",
       " 'heart size is normal . no focal consolidations . there are degenerative changes throughout the midlower thoracic spine . no pneumothorax or pleural effusion . END',\n",
       " 'heart size is normal . low lung volumes . no pneumothorax , pleural effusion , or focal airspace disease . bony structures grossly intact . END',\n",
       " 'heart size is normal . low lung volumes . no pneumothorax , pleural effusion , or focal airspace disease . bony structures grossly intact . END',\n",
       " 'heart size is normal . lungs are clear . calcified left upper lobe 5 mm peripheral granuloma . no edema or effusions . no pneumonia END',\n",
       " 'heart size is normal . lungs are clear . calcified left upper lobe 5 mm peripheral granuloma . no edema or effusions . no pneumonia END',\n",
       " 'heart size is normal . lungs are clear . minimal degenerative spurring of midthoracic spine . no effusion , pneumonia , nodules or masses . END',\n",
       " 'heart size is normal . lungs are clear . minimal degenerative spurring of midthoracic spine . no effusion , pneumonia , nodules or masses . END',\n",
       " 'heart size is normal . calcified right paratracheal lymph xxxx calcified granuloma in the peripheral portion right upper lobe . no arteriographic evidence of tuberculosis . END',\n",
       " 'heart size is normal . calcified right paratracheal lymph xxxx calcified granuloma in the peripheral portion right upper lobe . no arteriographic evidence of tuberculosis . END',\n",
       " 'heart size is normal . lungs are clear . no evidence of tuberculosis . mildly prominent ascending aorta with calcification of aortic xxxx question hypertension . END',\n",
       " 'heart size is normal . lungs are clear . no evidence of tuberculosis . mildly prominent ascending aorta with calcification of aortic xxxx question hypertension . END',\n",
       " 'heart size is normal . lungs are clear . no evidence of tuberculosis . mildly prominent ascending aorta with calcification of aortic xxxx question hypertension . END',\n",
       " 'heart size is normal . bilateral nipple shadows seen . 5 mm left lower lobe granuloma . heart size normal . no effusions . lungs clear END',\n",
       " 'heart size is normal . bilateral nipple shadows seen . 5 mm left lower lobe granuloma . heart size normal . no effusions . lungs clear END',\n",
       " 'heart size is normal . stable dilated slightly tortuous aorta . lungs are clear . no edema or effusions . no nodules , masses , or adenopathy . END',\n",
       " 'heart size is normal . stable dilated slightly tortuous aorta . lungs are clear . no edema or effusions . no nodules , masses , or adenopathy . END',\n",
       " 'heart size is normal and cardiomediastinal contours are normal . lungs are otherwise clear bilaterally without effusion or pneumothorax . bony structures and soft tissues are unremarkable . END',\n",
       " 'heart size is normal and cardiomediastinal contours are normal . lungs are otherwise clear bilaterally without effusion or pneumothorax . bony structures and soft tissues are unremarkable . END',\n",
       " 'heart size is normal . no focal consolidations . there is a 6 mm calcified granuloma at the medial right lung base . no pneumothorax or pleural effusion . END',\n",
       " 'heart size is normal . stable mediastinal contour . no focal airspace consolidation , suspicious pulmonary opacity , pneumothorax , or pleural effusion . mild thoracic spine degenerative change . END',\n",
       " 'heart size is normal . stable mediastinal contour . no focal airspace consolidation , suspicious pulmonary opacity , pneumothorax , or pleural effusion . mild thoracic spine degenerative change . END',\n",
       " 'heart size is normal . mediastinal contour and pulmonary vascularity within normal limits . no focal airspace consolidation , pneumothorax , or pleural effusion . no acute bony abnormality . END',\n",
       " 'heart size is normal . mediastinal contour and pulmonary vascularity within normal limits . no focal airspace consolidation , pneumothorax , or pleural effusion . no acute bony abnormality . END',\n",
       " 'heart size is normal and the lungs are clear . no fibrosis . no nodules or masses . please xxxx xxxx xxxx xxxx xxxx to be followed up as per history END',\n",
       " 'heart size is normal and the lungs are clear . no fibrosis . no nodules or masses . please xxxx xxxx xxxx xxxx xxxx to be followed up as per history END',\n",
       " 'heart size is normal . cardiomediastinal contour is normal without mediastinal widening . lungs are clear bilaterally . no pleural effusions or pneumothorax . no bony or soft tissue abnormalities . END',\n",
       " 'heart size is normal . cardiomediastinal contour is normal without mediastinal widening . lungs are clear bilaterally . no pleural effusions or pneumothorax . no bony or soft tissue abnormalities . END',\n",
       " 'heart size is normal . cardiomediastinal silhouette is normal in contour . the lungs are clear bilaterally without pleural effusion or pneumothorax . no pulmonary nodules . bony structures are intact . END',\n",
       " 'heart size is normal . cardiomediastinal silhouette is normal in contour . the lungs are clear bilaterally without pleural effusion or pneumothorax . no pulmonary nodules . bony structures are intact . END',\n",
       " 'heart size is normal . no pneumothorax or focal airspace disease . no pleural effusion . eventration of the right hemidiaphragm . mild degenerative changes of the thoracic spine without fracture . END',\n",
       " 'heart size is normal . no pneumothorax or focal airspace disease . no pleural effusion . eventration of the right hemidiaphragm . mild degenerative changes of the thoracic spine without fracture . END',\n",
       " 'heart size is normal . lungs are clear . lower cervical spine fusion and sternotomy . old healed left mid posterior rib fractures . emphysema . no nodules , masses or adenopathy . END',\n",
       " 'heart size is normal . scattered right hilar granulomas and calcified 8mm right apical granuloma . resolution of right effusion and infiltrate . stable chronic blunting of the lateral left costophrenic xxxx . END',\n",
       " 'heart size is normal . scattered right hilar granulomas and calcified 8mm right apical granuloma . resolution of right effusion and infiltrate . stable chronic blunting of the lateral left costophrenic xxxx . END',\n",
       " 'heart size is normal . the lungs are grossly clear . no pleural effusions or pneumothoraces . the hilar and mediastinal contours are stable . normal pulmonary vascularity . no overt edema . END',\n",
       " 'heart size is normal . the lungs are grossly clear . no pleural effusions or pneumothoraces . the hilar and mediastinal contours are stable . normal pulmonary vascularity . no overt edema . END',\n",
       " 'heart size is normal . right lung clear . there is a 3 cm nodular infiltrate in left midlung . this could represent pneumonia or a tumor . recommend followup radiology until clear . END',\n",
       " 'heart size is normal . right lung clear . there is a 3 cm nodular infiltrate in left midlung . this could represent pneumonia or a tumor . recommend followup radiology until clear . END',\n",
       " 'heart size is normal . cardiomediastinal silhouette stable . no pneumothorax , pleural effusion , or focal airspace disease . nodular densities consistent with chronic granulomatous disease . bony structures appear intact . emphysema . END',\n",
       " 'heart size is normal . cardiomediastinal silhouette stable . no pneumothorax , pleural effusion , or focal airspace disease . nodular densities consistent with chronic granulomatous disease . bony structures appear intact . emphysema . END',\n",
       " 'heart size is normal . cardiomediastinal silhouette stable . no pneumothorax , pleural effusion , or focal airspace disease . nodular densities consistent with chronic granulomatous disease . bony structures appear intact . emphysema . END',\n",
       " 'heart size is normal and lungs are clear . right aortic xxxx with probable aberrant left subclavian artery . this is a normal variant seen in one of 200 patients . no evidence of tuberculosis END',\n",
       " 'heart size is normal and lungs are clear . right aortic xxxx with probable aberrant left subclavian artery . this is a normal variant seen in one of 200 patients . no evidence of tuberculosis END',\n",
       " 'heart size is normal . the lungs are clear . there are no focal air space consolidations . no pleural effusions or pneumothoraces . the hilar and mediastinal contours are normal . normal pulmonary vascularity . END',\n",
       " 'heart size is normal . there are xxxx opacities which appear to xxxx xxxx above the right xxxx fissure . there is mild thickening in the fissure . no pneumothorax . no large pleural effusions . END',\n",
       " 'heart size is normal . there are xxxx opacities which appear to xxxx xxxx above the right xxxx fissure . there is mild thickening in the fissure . no pneumothorax . no large pleural effusions . END',\n",
       " 'heart size is normal . the lungs are clear . there are no focal air space consolidations . no pleural effusions or pneumothoraces . the hilar and mediastinal contours are normal . normal pulmonary vascularity . END',\n",
       " 'heart size is normal . the lungs are clear . there are no focal air space consolidations . no pleural effusions or pneumothoraces . the hilar and mediastinal contours are normal . normal pulmonary vascularity . END',\n",
       " 'heart size is normal . mediastinal silhouette and pulmonary vascularity are within normal limits . there is no focal airspace consolidation , pleural effusion or pneumothorax . there is a dextroscoliosis of the thoracic spine . END',\n",
       " 'heart size is normal . mediastinal silhouette and pulmonary vascularity are within normal limits . there is no focal airspace consolidation , pleural effusion or pneumothorax . there is a dextroscoliosis of the thoracic spine . END',\n",
       " 'heart size is normal . the lungs are clear . there are no focal air space consolidations . no pleural effusions or pneumothoraces . the hilar and mediastinal contours are normal . normal pulmonary vascularity . END',\n",
       " 'heart size is normal . the lungs are clear . there are no focal air space consolidations . no pleural effusions or pneumothoraces . the hilar and mediastinal contours are normal . normal pulmonary vascularity . END',\n",
       " 'heart size is normal . the lungs are clear . there are no focal air space consolidations . no pleural effusions or pneumothoraces . the hilar and mediastinal contours are normal . normal pulmonary vascularity . END',\n",
       " 'heart size is normal . the lungs are clear . there are no focal air space consolidations . no pleural effusions or pneumothoraces . the hilar and mediastinal contours are normal . normal pulmonary vascularity . END',\n",
       " 'heart size is normal . the lungs are clear . there are no focal air space consolidations . no pleural effusions or pneumothoraces . the hilar and mediastinal contours are normal . normal pulmonary vascularity . END',\n",
       " 'heart size is normal . the lungs are clear . there are no focal air space consolidations . no pleural effusions or pneumothoraces . the hilar and mediastinal contours are normal . normal pulmonary vascularity . END',\n",
       " 'heart size is normal . lungs are clear . calcified 5 mm granuloma in the left midlung . status post resection of left upper lobe . no adenopathy , nodules , or masses . no effusion . END',\n",
       " 'heart size is normal . lungs are clear . calcified 5 mm granuloma in the left midlung . status post resection of left upper lobe . no adenopathy , nodules , or masses . no effusion . END',\n",
       " 'heart size is normal . left upper lobe atelectasis / infiltrate in the left perihilar region , unchanged . two venous catheter tips overlie the mid svc . small medial left upper lobe pleural air collection . END',\n",
       " 'heart size is normal . left upper lobe atelectasis / infiltrate in the left perihilar region , unchanged . two venous catheter tips overlie the mid svc . small medial left upper lobe pleural air collection . END',\n",
       " 'heart size is normal . there is tortuosity of the thoracic aorta , stable compared with prior . no focal airspace disease or effusion . no pleural effusions or pneumothoraces . degenerative changes in the thoracic spine . END',\n",
       " 'heart size is normal . there is tortuosity of the thoracic aorta , stable compared with prior . no focal airspace disease or effusion . no pleural effusions or pneumothoraces . degenerative changes in the thoracic spine . END',\n",
       " 'heart size is normal . the lungs are clear . there are no focal air space consolidations . no pleural effusions or pneumothoraces . the hilar and mediastinal contours are normal . normal pulmonary vascularity . umbilical piercing . END',\n",
       " 'heart size is normal . the lungs are clear . there are no focal air space consolidations . no pleural effusions or pneumothoraces . the hilar and mediastinal contours are normal . normal pulmonary vascularity . umbilical piercing . END',\n",
       " 'heart size is normal . aorta is tortuous and ectatic . cardiomediastinal contours are normal . lungs are clear without evidence of fibrosis . pleural effusions or pneumothorax . endplate sclerotic changes are present in the thoracic spine . END',\n",
       " 'heart size is normal . aorta is tortuous and ectatic . cardiomediastinal contours are normal . lungs are clear without evidence of fibrosis . pleural effusions or pneumothorax . endplate sclerotic changes are present in the thoracic spine . END',\n",
       " 'heart size is normal in cardiomediastinal silhouette is normal in contour . the lungs are clear bilaterally . no xxxx consolidations . no pleural effusion . no pneumothorax . xxxx and soft tissues are unremarkable . lungs are hyperinflated . END',\n",
       " 'heart size is normal in cardiomediastinal silhouette is normal in contour . the lungs are clear bilaterally . no xxxx consolidations . no pleural effusion . no pneumothorax . xxxx and soft tissues are unremarkable . lungs are hyperinflated . END',\n",
       " 'heart size is normal . mild lung hyperexpansion . the lungs are clear . there are no focal air space consolidations . no pleural effusions or pneumothoraces . the hilar and mediastinal contours are normal . normal pulmonary vascularity . END',\n",
       " 'heart size is normal . mild lung hyperexpansion . the lungs are clear . there are no focal air space consolidations . no pleural effusions or pneumothoraces . the hilar and mediastinal contours are normal . normal pulmonary vascularity . END',\n",
       " 'heart size is normal . the lungs are clear . there are no focal air space consolidations . no pleural effusions or pneumothoraces . the hilar and mediastinal contours are normal . calcified lingular pulmonary granuloma . normal pulmonary vascularity . END',\n",
       " 'heart size is normal . the lungs are clear . there are no focal air space consolidations . no pleural effusions or pneumothoraces . the hilar and mediastinal contours are normal . calcified lingular pulmonary granuloma . normal pulmonary vascularity . END',\n",
       " 'heart size is normal . the aorta is tortuous , and cannot exclude ascending aortic aneurysm . the pulmonary vascularity is normal . there residual to prior granulomatous infection . lungs are otherwise clear . degenerative change of the spine . END',\n",
       " 'heart size is normal . the aorta is tortuous , and cannot exclude ascending aortic aneurysm . the pulmonary vascularity is normal . there residual to prior granulomatous infection . lungs are otherwise clear . degenerative change of the spine . END',\n",
       " 'heart size is normal . lungs are clear . calcified left midlung 5 mm granuloma and left hilar granulomas . no effusions . no nodules or masses . no pneumonia . no bony abnormalities . status post left shoulder replacement . END',\n",
       " 'heart size is normal . lungs are clear . calcified left midlung 5 mm granuloma and left hilar granulomas . no effusions . no nodules or masses . no pneumonia . no bony abnormalities . status post left shoulder replacement . END',\n",
       " 'heart size is normal . there are densely calcified mediastinal and right hilar lymph xxxx which suggest prior histoplasmosis exposure . no consolidating airspace disease is seen within the lungs . no pleural effusion or pneumothorax . no convincing acute bony findings . END',\n",
       " 'heart size is normal . there are densely calcified mediastinal and right hilar lymph xxxx which suggest prior histoplasmosis exposure . no consolidating airspace disease is seen within the lungs . no pleural effusion or pneumothorax . no convincing acute bony findings . END',\n",
       " 'heart size is normal . minimal subsegmental atelectasis in the left base , seen xxxx on the lateral film , otherwise lungs are clear . degenerative disease of thoracic spine . stable left lower lobe 5 mm granuloma adjacent to the heart xxxx . END',\n",
       " 'heart size is normal . minimal subsegmental atelectasis in the left base , seen xxxx on the lateral film , otherwise lungs are clear . degenerative disease of thoracic spine . stable left lower lobe 5 mm granuloma adjacent to the heart xxxx . END',\n",
       " 'heart size is normal . there is left hilar enlargement with partial opacification of the left upper lobe suggestive of hilar mass with obstructive atelectasis . questionable small right midlung nodule . negative for pneumothorax or pleural effusion . bony thorax is unremarkable . END',\n",
       " 'heart size is normal . there is left hilar enlargement with partial opacification of the left upper lobe suggestive of hilar mass with obstructive atelectasis . questionable small right midlung nodule . negative for pneumothorax or pleural effusion . bony thorax is unremarkable . END',\n",
       " 'heart size is normal . no pneumothorax or pleural effusions . there is an 8 mm calcified nodule in the left midlung . there is also a 7 mm calcified nodule near the left hilum . hyperexpanded lungs consistent with chronic obstructive pulmonary disease . END',\n",
       " 'heart size is normal . no pneumothorax or pleural effusions . there is an 8 mm calcified nodule in the left midlung . there is also a 7 mm calcified nodule near the left hilum . hyperexpanded lungs consistent with chronic obstructive pulmonary disease . END',\n",
       " 'heart size is normal . the lungs are clear . there are no focal air space consolidations . no pleural effusions or pneumothoraces . the hilar and mediastinal contours are unchanged . normal pulmonary vascularity . stable postsurgical changes of the lower cervical spine . END',\n",
       " 'heart size is normal . the lungs are clear . there are no focal air space consolidations . no pleural effusions or pneumothoraces . the hilar and mediastinal contours are unchanged . normal pulmonary vascularity . stable postsurgical changes of the lower cervical spine . END',\n",
       " 'heart size is normal . the lungs are clear . there are no focal air space consolidations . no pleural effusions or pneumothoraces . aortic vascular calcifications . normal pulmonary vascularity . fracture-dislocation of the right shoulder . bone demineralization . scoliosis which is possibly positional . END',\n",
       " 'heart size is normal . the lungs are clear . there are no focal air space consolidations . no pleural effusions or pneumothoraces . calcified right upper lobe pulmonary granuloma and calcified right hilar lymph xxxx . the hilar and mediastinal contours are normal . normal pulmonary vascularity . END',\n",
       " 'heart size is normal . the lungs are clear . there are no focal air space consolidations . no pleural effusions or pneumothoraces . calcified right upper lobe pulmonary granuloma and calcified right hilar lymph xxxx . the hilar and mediastinal contours are normal . normal pulmonary vascularity . END',\n",
       " 'heart size is normal . mildly tortuous aorta , otherwise mediastinal silhouette and pulmonary vascularity are within normal limits . no focal airspace consolidation of pneumonia , pleural effusion or pneumothorax . couple of xxxx nodules in the left base are xxxx calcified sequela of old granulomatous disease . no pleural effusion or pneumothorax . END',\n",
       " 'heart size is normal . mildly tortuous aorta , otherwise mediastinal silhouette and pulmonary vascularity are within normal limits . no focal airspace consolidation of pneumonia , pleural effusion or pneumothorax . couple of xxxx nodules in the left base are xxxx calcified sequela of old granulomatous disease . no pleural effusion or pneumothorax . END',\n",
       " 'heart size is normal . the lungs are clear . there are no xxxx focal air space consolidations . no pleural effusions or pneumothoraces . the hilar and mediastinal contours are unchanged . again noted is tortuosity and unfolding of the thoracic aorta . aortic vascular calcifications . normal pulmonary vascularity . bone demineralization . END',\n",
       " 'heart size is normal . the lungs are clear . there are no xxxx focal air space consolidations . no pleural effusions or pneumothoraces . the hilar and mediastinal contours are unchanged . again noted is tortuosity and unfolding of the thoracic aorta . aortic vascular calcifications . normal pulmonary vascularity . bone demineralization . END',\n",
       " 'heart size is normal . 2 cm calcified granuloma in the right midlung . calcified right hilar lymph xxxx . no other nodules or masses . it is unchanged xxxx compared to a xxxx for the abdomen ct scan from xxxx . the xxxx 40% of the nodule is on the upper portion of the xxxx film . END',\n",
       " 'heart size is normal . prior calcified granulomatous disease . on the lateral view in the anterior costophrenic xxxx , there is a 2.1 x 2 cm nodular density which seems to be present previously but is more nodular in appearance on this examination . no pleural effusion or pneumothorax . endplate degenerative changes of the thoracolumbar spine and mild scoliosis are unchanged . END',\n",
       " 'heart size is normal . prior calcified granulomatous disease . on the lateral view in the anterior costophrenic xxxx , there is a 2.1 x 2 cm nodular density which seems to be present previously but is more nodular in appearance on this examination . no pleural effusion or pneumothorax . endplate degenerative changes of the thoracolumbar spine and mild scoliosis are unchanged . END',\n",
       " 'heart size is normal . tortuous aorta . irregular 1.2 cm opacity in the left upper lung is identified both on pa and lateral views and xxxx represents chronic scarring . she has a partial resection of the posterior fourth rib . no pneumothorax . no pleural effusion . no focal infiltrate . anterior wedging of multiple vertebral bodies including t6, t8, t11 and t12. END',\n",
       " 'heart size is normal . no effusions . xxxx interstitial infiltrate in the left lung . less xxxx on the right lung . this may represent lymphangitic spread of carcinoma . other etiologies may include mycoplasma pneumonia or viral pneumonia . ordering physician was notified of this finding at the time of the exam . further evaluation may require ct with iv contrast and high-resolution scans . END',\n",
       " 'heart size is normal . no effusions . xxxx interstitial infiltrate in the left lung . less xxxx on the right lung . this may represent lymphangitic spread of carcinoma . other etiologies may include mycoplasma pneumonia or viral pneumonia . ordering physician was notified of this finding at the time of the exam . further evaluation may require ct with iv contrast and high-resolution scans . END',\n",
       " 'heart size is normal . mediastinal width is within normal limits for supine ap technique . no edema . no focal infiltrate . no pleural effusion or pneumothorax . right hilar and right lung base calcifications are compatible with old granulomatous disease . there is a very mild anterior wedge deformity of a midthoracic vertebrae , possibly t7, age-indeterminate . correlate for midthoracic tenderness . no displaced , acute rib fractures are identified . END',\n",
       " 'heart size is normal . mediastinal width is within normal limits for supine ap technique . no edema . no focal infiltrate . no pleural effusion or pneumothorax . right hilar and right lung base calcifications are compatible with old granulomatous disease . there is a very mild anterior wedge deformity of a midthoracic vertebrae , possibly t7, age-indeterminate . correlate for midthoracic tenderness . no displaced , acute rib fractures are identified . END']"
      ]
     },
     "execution_count": 99,
     "metadata": {},
     "output_type": "execute_result"
    }
   ],
   "source": [
    "found"
   ]
  }
 ],
 "metadata": {
  "kernelspec": {
   "display_name": "Python 3",
   "language": "python",
   "name": "python3"
  },
  "language_info": {
   "codemirror_mode": {
    "name": "ipython",
    "version": 3
   },
   "file_extension": ".py",
   "mimetype": "text/x-python",
   "name": "python",
   "nbconvert_exporter": "python",
   "pygments_lexer": "ipython3",
   "version": "3.6.9"
  },
  "toc": {
   "base_numbering": 1,
   "nav_menu": {
    "height": "255px",
    "width": "188px"
   },
   "number_sections": true,
   "sideBar": true,
   "skip_h1_title": false,
   "title_cell": "Table of Contents",
   "title_sidebar": "Contents",
   "toc_cell": false,
   "toc_position": {},
   "toc_section_display": true,
   "toc_window_display": false
  }
 },
 "nbformat": 4,
 "nbformat_minor": 4
}
