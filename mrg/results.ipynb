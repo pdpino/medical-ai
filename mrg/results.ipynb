{
 "cells": [
  {
   "cell_type": "code",
   "execution_count": 2,
   "metadata": {},
   "outputs": [],
   "source": [
    "import os\n",
    "import pandas as pd\n",
    "import json"
   ]
  },
  {
   "cell_type": "code",
   "execution_count": 3,
   "metadata": {},
   "outputs": [],
   "source": [
    "%run utils/__init__.py"
   ]
  },
  {
   "cell_type": "code",
   "execution_count": 4,
   "metadata": {},
   "outputs": [],
   "source": [
    "%run metrics/__init__.py"
   ]
  },
  {
   "cell_type": "code",
   "execution_count": 5,
   "metadata": {},
   "outputs": [
    {
     "data": {
      "text/plain": [
       "['0709_121201_covid-x_densenet-121_lr1e-06_os',\n",
       " '0704_232547_covid-kaggle_resnet-50_lr1e-06',\n",
       " '0704_062601_covid-kaggle_densenet-121_lr1e-06',\n",
       " '0704_015027_covid-kaggle_densenet-121_lr1e-06_os',\n",
       " '0705_013805_covid-kaggle_resnet-50_lr1e-06_noig_os',\n",
       " '0704_161918_covid-kaggle_densenet-121_lr1e-06_noig',\n",
       " '0705_055411_covid-kaggle_resnet-50_lr1e-06_noig',\n",
       " '0704_190958_covid-kaggle_resnet-50_lr1e-06_os',\n",
       " '0704_114753_covid-kaggle_densenet-121_lr1e-06_noig_os',\n",
       " '0708_192944_covid-x_densenet-121_lr1e-06']"
      ]
     },
     "execution_count": 5,
     "metadata": {},
     "output_type": "execute_result"
    }
   ],
   "source": [
    "results_folder = os.path.join(WORKSPACE_DIR, 'classification', 'results')\n",
    "run_names = os.listdir(results_folder)\n",
    "run_names.remove('debug')\n",
    "run_names"
   ]
  },
  {
   "cell_type": "code",
   "execution_count": 6,
   "metadata": {},
   "outputs": [
    {
     "data": {
      "text/plain": [
       "10"
      ]
     },
     "execution_count": 6,
     "metadata": {},
     "output_type": "execute_result"
    }
   ],
   "source": [
    "all_results = []\n",
    "\n",
    "for run_name in run_names:\n",
    "    filepath = os.path.join(results_folder, run_name, 'metrics.json')\n",
    "    \n",
    "    if not os.path.isfile(filepath):\n",
    "        print('Not found for: ', run_name)\n",
    "        continue\n",
    "\n",
    "    with open(filepath, 'r') as f:\n",
    "        results = json.load(f)\n",
    "\n",
    "    all_results.append((run_name, results))\n",
    "\n",
    "len(all_results)"
   ]
  },
  {
   "cell_type": "code",
   "execution_count": 7,
   "metadata": {},
   "outputs": [],
   "source": [
    "def create_results_df(key):\n",
    "    run_names = [run_name for run_name, _ in all_results]\n",
    "    \n",
    "    results_dicts = [d[key] for _, d in all_results]\n",
    "    \n",
    "    df = pd.DataFrame(results_dicts, index=run_names)\n",
    "    return df"
   ]
  },
  {
   "cell_type": "code",
   "execution_count": 8,
   "metadata": {},
   "outputs": [],
   "source": [
    "results_df_val = create_results_df('val')\n",
    "results_df_test = create_results_df('test')"
   ]
  },
  {
   "cell_type": "code",
   "execution_count": 10,
   "metadata": {},
   "outputs": [],
   "source": [
    "results_df_val = results_df_val.loc[results_df_val.index.str.contains('covid-x')]"
   ]
  },
  {
   "cell_type": "code",
   "execution_count": 12,
   "metadata": {},
   "outputs": [],
   "source": [
    "results_df_test = results_df_test.loc[results_df_test.index.str.contains('covid-x')]"
   ]
  },
  {
   "cell_type": "code",
   "execution_count": 11,
   "metadata": {},
   "outputs": [
    {
     "data": {
      "text/html": [
       "<div>\n",
       "<style scoped>\n",
       "    .dataframe tbody tr th:only-of-type {\n",
       "        vertical-align: middle;\n",
       "    }\n",
       "\n",
       "    .dataframe tbody tr th {\n",
       "        vertical-align: top;\n",
       "    }\n",
       "\n",
       "    .dataframe thead th {\n",
       "        text-align: right;\n",
       "    }\n",
       "</style>\n",
       "<table border=\"1\" class=\"dataframe\">\n",
       "  <thead>\n",
       "    <tr style=\"text-align: right;\">\n",
       "      <th></th>\n",
       "      <th>loss</th>\n",
       "      <th>acc</th>\n",
       "      <th>prec_covid</th>\n",
       "      <th>prec_pneumonia</th>\n",
       "      <th>prec_normal</th>\n",
       "      <th>recall_covid</th>\n",
       "      <th>recall_pneumonia</th>\n",
       "      <th>recall_normal</th>\n",
       "      <th>spec_covid</th>\n",
       "      <th>spec_pneumonia</th>\n",
       "      <th>spec_normal</th>\n",
       "      <th>cm</th>\n",
       "    </tr>\n",
       "  </thead>\n",
       "  <tbody>\n",
       "    <tr>\n",
       "      <th>0709_121201_covid-x_densenet-121_lr1e-06_os</th>\n",
       "      <td>1.090467</td>\n",
       "      <td>0.904179</td>\n",
       "      <td>0.952381</td>\n",
       "      <td>0.899048</td>\n",
       "      <td>0.904994</td>\n",
       "      <td>0.851064</td>\n",
       "      <td>0.866055</td>\n",
       "      <td>0.933417</td>\n",
       "      <td>0.998509</td>\n",
       "      <td>0.937129</td>\n",
       "      <td>0.868243</td>\n",
       "      <td>[[39, 2, 6], [1, 476, 68], [1, 56, 739]]</td>\n",
       "    </tr>\n",
       "    <tr>\n",
       "      <th>0708_192944_covid-x_densenet-121_lr1e-06</th>\n",
       "      <td>13.103516</td>\n",
       "      <td>0.392651</td>\n",
       "      <td>0.000000</td>\n",
       "      <td>0.392651</td>\n",
       "      <td>0.000000</td>\n",
       "      <td>0.000000</td>\n",
       "      <td>1.000000</td>\n",
       "      <td>0.000000</td>\n",
       "      <td>1.000000</td>\n",
       "      <td>0.000000</td>\n",
       "      <td>1.000000</td>\n",
       "      <td>[[0, 47, 0], [0, 545, 0], [0, 796, 0]]</td>\n",
       "    </tr>\n",
       "  </tbody>\n",
       "</table>\n",
       "</div>"
      ],
      "text/plain": [
       "                                                  loss       acc  prec_covid  \\\n",
       "0709_121201_covid-x_densenet-121_lr1e-06_os   1.090467  0.904179    0.952381   \n",
       "0708_192944_covid-x_densenet-121_lr1e-06     13.103516  0.392651    0.000000   \n",
       "\n",
       "                                             prec_pneumonia  prec_normal  \\\n",
       "0709_121201_covid-x_densenet-121_lr1e-06_os        0.899048     0.904994   \n",
       "0708_192944_covid-x_densenet-121_lr1e-06           0.392651     0.000000   \n",
       "\n",
       "                                             recall_covid  recall_pneumonia  \\\n",
       "0709_121201_covid-x_densenet-121_lr1e-06_os      0.851064          0.866055   \n",
       "0708_192944_covid-x_densenet-121_lr1e-06         0.000000          1.000000   \n",
       "\n",
       "                                             recall_normal  spec_covid  \\\n",
       "0709_121201_covid-x_densenet-121_lr1e-06_os       0.933417    0.998509   \n",
       "0708_192944_covid-x_densenet-121_lr1e-06          0.000000    1.000000   \n",
       "\n",
       "                                             spec_pneumonia  spec_normal  \\\n",
       "0709_121201_covid-x_densenet-121_lr1e-06_os        0.937129     0.868243   \n",
       "0708_192944_covid-x_densenet-121_lr1e-06           0.000000     1.000000   \n",
       "\n",
       "                                                                                   cm  \n",
       "0709_121201_covid-x_densenet-121_lr1e-06_os  [[39, 2, 6], [1, 476, 68], [1, 56, 739]]  \n",
       "0708_192944_covid-x_densenet-121_lr1e-06       [[0, 47, 0], [0, 545, 0], [0, 796, 0]]  "
      ]
     },
     "execution_count": 11,
     "metadata": {},
     "output_type": "execute_result"
    }
   ],
   "source": [
    "results_df_val.sort_values(['recall_covid', 'prec_covid'], ascending=False)"
   ]
  },
  {
   "cell_type": "code",
   "execution_count": 13,
   "metadata": {},
   "outputs": [
    {
     "data": {
      "text/html": [
       "<div>\n",
       "<style scoped>\n",
       "    .dataframe tbody tr th:only-of-type {\n",
       "        vertical-align: middle;\n",
       "    }\n",
       "\n",
       "    .dataframe tbody tr th {\n",
       "        vertical-align: top;\n",
       "    }\n",
       "\n",
       "    .dataframe thead th {\n",
       "        text-align: right;\n",
       "    }\n",
       "</style>\n",
       "<table border=\"1\" class=\"dataframe\">\n",
       "  <thead>\n",
       "    <tr style=\"text-align: right;\">\n",
       "      <th></th>\n",
       "      <th>loss</th>\n",
       "      <th>acc</th>\n",
       "      <th>prec_covid</th>\n",
       "      <th>prec_pneumonia</th>\n",
       "      <th>prec_normal</th>\n",
       "      <th>recall_covid</th>\n",
       "      <th>recall_pneumonia</th>\n",
       "      <th>recall_normal</th>\n",
       "      <th>spec_covid</th>\n",
       "      <th>spec_pneumonia</th>\n",
       "      <th>spec_normal</th>\n",
       "      <th>cm</th>\n",
       "    </tr>\n",
       "  </thead>\n",
       "  <tbody>\n",
       "    <tr>\n",
       "      <th>0709_121201_covid-x_densenet-121_lr1e-06_os</th>\n",
       "      <td>1.918947</td>\n",
       "      <td>0.890437</td>\n",
       "      <td>0.913043</td>\n",
       "      <td>0.845541</td>\n",
       "      <td>0.920635</td>\n",
       "      <td>0.63</td>\n",
       "      <td>0.893939</td>\n",
       "      <td>0.917514</td>\n",
       "      <td>0.995943</td>\n",
       "      <td>0.901523</td>\n",
       "      <td>0.899135</td>\n",
       "      <td>[[61, 28, 11], [4, 535, 55], [2, 81, 802]]</td>\n",
       "    </tr>\n",
       "    <tr>\n",
       "      <th>0708_192944_covid-x_densenet-121_lr1e-06</th>\n",
       "      <td>11.571823</td>\n",
       "      <td>0.376187</td>\n",
       "      <td>0.000000</td>\n",
       "      <td>0.376187</td>\n",
       "      <td>0.000000</td>\n",
       "      <td>0.00</td>\n",
       "      <td>1.000000</td>\n",
       "      <td>0.000000</td>\n",
       "      <td>1.000000</td>\n",
       "      <td>0.000000</td>\n",
       "      <td>1.000000</td>\n",
       "      <td>[[0, 100, 0], [0, 594, 0], [0, 885, 0]]</td>\n",
       "    </tr>\n",
       "  </tbody>\n",
       "</table>\n",
       "</div>"
      ],
      "text/plain": [
       "                                                  loss       acc  prec_covid  \\\n",
       "0709_121201_covid-x_densenet-121_lr1e-06_os   1.918947  0.890437    0.913043   \n",
       "0708_192944_covid-x_densenet-121_lr1e-06     11.571823  0.376187    0.000000   \n",
       "\n",
       "                                             prec_pneumonia  prec_normal  \\\n",
       "0709_121201_covid-x_densenet-121_lr1e-06_os        0.845541     0.920635   \n",
       "0708_192944_covid-x_densenet-121_lr1e-06           0.376187     0.000000   \n",
       "\n",
       "                                             recall_covid  recall_pneumonia  \\\n",
       "0709_121201_covid-x_densenet-121_lr1e-06_os          0.63          0.893939   \n",
       "0708_192944_covid-x_densenet-121_lr1e-06             0.00          1.000000   \n",
       "\n",
       "                                             recall_normal  spec_covid  \\\n",
       "0709_121201_covid-x_densenet-121_lr1e-06_os       0.917514    0.995943   \n",
       "0708_192944_covid-x_densenet-121_lr1e-06          0.000000    1.000000   \n",
       "\n",
       "                                             spec_pneumonia  spec_normal  \\\n",
       "0709_121201_covid-x_densenet-121_lr1e-06_os        0.901523     0.899135   \n",
       "0708_192944_covid-x_densenet-121_lr1e-06           0.000000     1.000000   \n",
       "\n",
       "                                                                                     cm  \n",
       "0709_121201_covid-x_densenet-121_lr1e-06_os  [[61, 28, 11], [4, 535, 55], [2, 81, 802]]  \n",
       "0708_192944_covid-x_densenet-121_lr1e-06        [[0, 100, 0], [0, 594, 0], [0, 885, 0]]  "
      ]
     },
     "execution_count": 13,
     "metadata": {},
     "output_type": "execute_result"
    }
   ],
   "source": [
    "results_df_test.sort_values(['recall_covid', 'prec_covid'], ascending=False)"
   ]
  },
  {
   "cell_type": "code",
   "execution_count": null,
   "metadata": {},
   "outputs": [],
   "source": []
  },
  {
   "cell_type": "code",
   "execution_count": null,
   "metadata": {},
   "outputs": [],
   "source": []
  }
 ],
 "metadata": {
  "kernelspec": {
   "display_name": "Python 3",
   "language": "python",
   "name": "python3"
  },
  "toc": {
   "base_numbering": 1,
   "nav_menu": {},
   "number_sections": true,
   "sideBar": true,
   "skip_h1_title": false,
   "title_cell": "Table of Contents",
   "title_sidebar": "Contents",
   "toc_cell": false,
   "toc_position": {},
   "toc_section_display": true,
   "toc_window_display": false
  }
 },
 "nbformat": 4,
 "nbformat_minor": 4
}
