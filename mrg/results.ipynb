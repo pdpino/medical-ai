{
 "cells": [
  {
   "cell_type": "code",
   "execution_count": 1,
   "metadata": {},
   "outputs": [],
   "source": [
    "import os\n",
    "import pandas as pd\n",
    "import json"
   ]
  },
  {
   "cell_type": "code",
   "execution_count": 2,
   "metadata": {},
   "outputs": [],
   "source": [
    "%run utils/__init__.py"
   ]
  },
  {
   "cell_type": "code",
   "execution_count": 3,
   "metadata": {},
   "outputs": [],
   "source": [
    "%run metrics/__init__.py"
   ]
  },
  {
   "cell_type": "code",
   "execution_count": 4,
   "metadata": {},
   "outputs": [],
   "source": [
    "classification = True"
   ]
  },
  {
   "cell_type": "code",
   "execution_count": 21,
   "metadata": {},
   "outputs": [
    {
     "data": {
      "text/plain": [
       "['0709_121201_covid-x_densenet-121_lr1e-06_os',\n",
       " '0715_232631_cxr14_densenet-121_lr1e-06_os-max4_aug-0_focal_Pneumonia',\n",
       " '0717_140104_covid-kaggle_densenet-121_lr1e-06_e0',\n",
       " '0713_165918_covid-x_resnet-50_lr1e-06_os',\n",
       " '0717_063232_covid-x_densenet-121_lr1e-06_os-max2_aug-0_precxr14',\n",
       " '0704_232547_covid-kaggle_resnet-50_lr1e-06',\n",
       " '0716_145915_covid-x_densenet-121_lr1e-06_focal-a=0.9-g=2',\n",
       " '0716_171955_covid-x_densenet-121_lr1e-06_aug',\n",
       " '0704_062601_covid-kaggle_densenet-121_lr1e-06',\n",
       " '0704_015027_covid-kaggle_densenet-121_lr1e-06_os',\n",
       " '0714_030324_covid-x_resnet-50_lr1e-06_os-max14',\n",
       " '0705_013805_covid-kaggle_resnet-50_lr1e-06_noig_os',\n",
       " '0714_232500_cxr14_densenet-121_lr1e-06',\n",
       " '0715_232418_cxr14_densenet-121_lr1e-06_os-max4_aug-0_Pneumonia',\n",
       " '0717_140241_covid-kaggle_resnet-50_lr1e-06_e0',\n",
       " '0704_161918_covid-kaggle_densenet-121_lr1e-06_noig',\n",
       " '0716_133211_cxr14_densenet-121_lr1e-06_us_aug-0_Pneumonia',\n",
       " '0713_192636_covid-x_densenet-121_lr1e-06_os-max14',\n",
       " '0717_120222_covid-x_densenet-121_lr1e-06_os_aug-covid',\n",
       " '0714_101035_covid-x_mobilenet_lr1e-06_os',\n",
       " '0714_232518_cxr14_densenet-121_lr1e-06',\n",
       " '0705_055411_covid-kaggle_resnet-50_lr1e-06_noig',\n",
       " '0710_191443_covid-x_vgg-19_lr1e-06',\n",
       " '0717_101812_covid-x_densenet-121_lr1e-06_os-max2_aug-covid',\n",
       " '0717_130913_covid-x_densenet-121_lr1e-06_e0',\n",
       " '0717_131715_covid-x_resnet-50_lr1e-06_e0',\n",
       " '0704_190958_covid-kaggle_resnet-50_lr1e-06_os',\n",
       " '0711_124133_covid-x_vgg-19_lr1e-06_os',\n",
       " '0716_154314_covid-x_densenet-121_lr1e-06_focal-a0.75-g2',\n",
       " '0713_124329_covid-x_resnet-50_lr0.0001',\n",
       " '0704_114753_covid-kaggle_densenet-121_lr1e-06_noig_os',\n",
       " '0708_192944_covid-x_densenet-121_lr1e-06']"
      ]
     },
     "execution_count": 21,
     "metadata": {},
     "output_type": "execute_result"
    }
   ],
   "source": [
    "base_folder = os.path.join(WORKSPACE_DIR,\n",
    "                           'classification' if classification else 'report_generation')\n",
    "results_folder = os.path.join(base_folder, 'results')\n",
    "runs_folder = os.path.join(base_folder, 'runs')\n",
    "run_names = os.listdir(results_folder)\n",
    "_tb_run_names = os.listdir(runs_folder)\n",
    "run_names = [r for r in run_names if r in _tb_run_names or 'dummy' in r]\n",
    "run_names = list(run_names)\n",
    "if 'debug' in run_names: run_names.remove('debug')\n",
    "run_names"
   ]
  },
  {
   "cell_type": "code",
   "execution_count": 22,
   "metadata": {},
   "outputs": [],
   "source": [
    "def load_results(suffix=''):\n",
    "    filename = 'metrics'\n",
    "    if suffix:\n",
    "        filename += f'-{suffix}'\n",
    "\n",
    "    all_results = []\n",
    "\n",
    "    for run_name in run_names:\n",
    "        filepath = os.path.join(results_folder, run_name, f'{filename}.json')\n",
    "\n",
    "        if not os.path.isfile(filepath):\n",
    "            print('Not found for: ', run_name)\n",
    "            continue\n",
    "\n",
    "        with open(filepath, 'r') as f:\n",
    "            results = json.load(f)\n",
    "\n",
    "        all_results.append((run_name, results))\n",
    "\n",
    "    return all_results"
   ]
  },
  {
   "cell_type": "code",
   "execution_count": 23,
   "metadata": {},
   "outputs": [
    {
     "data": {
      "text/plain": [
       "32"
      ]
     },
     "execution_count": 23,
     "metadata": {},
     "output_type": "execute_result"
    }
   ],
   "source": [
    "all_results = load_results('') #, 'max-words-27')\n",
    "len(all_results)"
   ]
  },
  {
   "cell_type": "code",
   "execution_count": 24,
   "metadata": {},
   "outputs": [],
   "source": [
    "def create_results_df(results, key):\n",
    "    run_names = [run_name for run_name, _ in results]\n",
    "    \n",
    "    results_dicts = [d[key] for _, d in results]\n",
    "    \n",
    "    df = pd.DataFrame(results_dicts, index=run_names)\n",
    "    return df"
   ]
  },
  {
   "cell_type": "code",
   "execution_count": 33,
   "metadata": {},
   "outputs": [],
   "source": [
    "results_df_train = create_results_df(all_results, 'train')\n",
    "results_df_val = create_results_df(all_results, 'val')\n",
    "results_df_test = create_results_df(all_results, 'test')"
   ]
  },
  {
   "cell_type": "markdown",
   "metadata": {
    "heading_collapsed": true
   },
   "source": [
    "### Report generation"
   ]
  },
  {
   "cell_type": "code",
   "execution_count": 17,
   "metadata": {
    "hidden": true
   },
   "outputs": [],
   "source": [
    "results_df_test = results_df_test.loc[results_df_test.index.str.contains('_lstm_')]"
   ]
  },
  {
   "cell_type": "code",
   "execution_count": 61,
   "metadata": {
    "hidden": true
   },
   "outputs": [
    {
     "data": {
      "text/html": [
       "<div>\n",
       "<style scoped>\n",
       "    .dataframe tbody tr th:only-of-type {\n",
       "        vertical-align: middle;\n",
       "    }\n",
       "\n",
       "    .dataframe tbody tr th {\n",
       "        vertical-align: top;\n",
       "    }\n",
       "\n",
       "    .dataframe thead th {\n",
       "        text-align: right;\n",
       "    }\n",
       "</style>\n",
       "<table border=\"1\" class=\"dataframe\">\n",
       "  <thead>\n",
       "    <tr style=\"text-align: right;\">\n",
       "      <th></th>\n",
       "      <th>loss</th>\n",
       "      <th>word_acc</th>\n",
       "      <th>bleu1</th>\n",
       "      <th>bleu2</th>\n",
       "      <th>bleu3</th>\n",
       "      <th>bleu4</th>\n",
       "      <th>bleu</th>\n",
       "      <th>rougeL</th>\n",
       "      <th>ciderD</th>\n",
       "    </tr>\n",
       "  </thead>\n",
       "  <tbody>\n",
       "    <tr>\n",
       "      <th>0716_211601_lstm-att_lr0.0001_densenet-121</th>\n",
       "      <td>8.513943</td>\n",
       "      <td>0.068213</td>\n",
       "      <td>0.434808</td>\n",
       "      <td>0.277032</td>\n",
       "      <td>0.194837</td>\n",
       "      <td>0.147231</td>\n",
       "      <td>0.263477</td>\n",
       "      <td>0.348825</td>\n",
       "      <td>0.741187</td>\n",
       "    </tr>\n",
       "  </tbody>\n",
       "</table>\n",
       "</div>"
      ],
      "text/plain": [
       "                                                loss  word_acc     bleu1  \\\n",
       "0716_211601_lstm-att_lr0.0001_densenet-121  8.513943  0.068213  0.434808   \n",
       "\n",
       "                                               bleu2     bleu3     bleu4  \\\n",
       "0716_211601_lstm-att_lr0.0001_densenet-121  0.277032  0.194837  0.147231   \n",
       "\n",
       "                                                bleu    rougeL    ciderD  \n",
       "0716_211601_lstm-att_lr0.0001_densenet-121  0.263477  0.348825  0.741187  "
      ]
     },
     "execution_count": 61,
     "metadata": {},
     "output_type": "execute_result"
    }
   ],
   "source": [
    "results_df_val"
   ]
  },
  {
   "cell_type": "code",
   "execution_count": 80,
   "metadata": {
    "hidden": true
   },
   "outputs": [
    {
     "data": {
      "text/html": [
       "<div>\n",
       "<style scoped>\n",
       "    .dataframe tbody tr th:only-of-type {\n",
       "        vertical-align: middle;\n",
       "    }\n",
       "\n",
       "    .dataframe tbody tr th {\n",
       "        vertical-align: top;\n",
       "    }\n",
       "\n",
       "    .dataframe thead th {\n",
       "        text-align: right;\n",
       "    }\n",
       "</style>\n",
       "<table border=\"1\" class=\"dataframe\">\n",
       "  <thead>\n",
       "    <tr style=\"text-align: right;\">\n",
       "      <th></th>\n",
       "      <th>loss</th>\n",
       "      <th>word_acc</th>\n",
       "      <th>bleu1</th>\n",
       "      <th>bleu2</th>\n",
       "      <th>bleu3</th>\n",
       "      <th>bleu4</th>\n",
       "      <th>bleu</th>\n",
       "      <th>rougeL</th>\n",
       "      <th>ciderD</th>\n",
       "    </tr>\n",
       "  </thead>\n",
       "  <tbody>\n",
       "    <tr>\n",
       "      <th>0716_211601_lstm-att_lr0.0001_densenet-121</th>\n",
       "      <td>7.725230</td>\n",
       "      <td>0.055295</td>\n",
       "      <td>0.401821</td>\n",
       "      <td>0.255879</td>\n",
       "      <td>0.174197</td>\n",
       "      <td>1.245062e-01</td>\n",
       "      <td>0.239101</td>\n",
       "      <td>0.331644</td>\n",
       "      <td>0.481737</td>\n",
       "    </tr>\n",
       "    <tr>\n",
       "      <th>0717_085045_dummy-words-200</th>\n",
       "      <td>7.452846</td>\n",
       "      <td>0.031153</td>\n",
       "      <td>0.373533</td>\n",
       "      <td>0.085370</td>\n",
       "      <td>0.015814</td>\n",
       "      <td>6.192783e-07</td>\n",
       "      <td>0.118680</td>\n",
       "      <td>0.211350</td>\n",
       "      <td>0.201866</td>\n",
       "    </tr>\n",
       "    <tr>\n",
       "      <th>0717_083015_dummy-sentences-100</th>\n",
       "      <td>39.685739</td>\n",
       "      <td>0.048110</td>\n",
       "      <td>0.323524</td>\n",
       "      <td>0.188075</td>\n",
       "      <td>0.116731</td>\n",
       "      <td>7.227757e-02</td>\n",
       "      <td>0.175152</td>\n",
       "      <td>0.220751</td>\n",
       "      <td>0.192516</td>\n",
       "    </tr>\n",
       "    <tr>\n",
       "      <th>0716_234501_h-lstm-att_lr0.0001_densenet-121</th>\n",
       "      <td>5.836308</td>\n",
       "      <td>0.081163</td>\n",
       "      <td>0.278639</td>\n",
       "      <td>0.163611</td>\n",
       "      <td>0.106255</td>\n",
       "      <td>7.249889e-02</td>\n",
       "      <td>0.155251</td>\n",
       "      <td>0.260263</td>\n",
       "      <td>0.120244</td>\n",
       "    </tr>\n",
       "    <tr>\n",
       "      <th>0717_083603_dummy-sentences-500</th>\n",
       "      <td>39.702269</td>\n",
       "      <td>0.044475</td>\n",
       "      <td>0.315434</td>\n",
       "      <td>0.182265</td>\n",
       "      <td>0.113446</td>\n",
       "      <td>7.201885e-02</td>\n",
       "      <td>0.170791</td>\n",
       "      <td>0.209300</td>\n",
       "      <td>0.192069</td>\n",
       "    </tr>\n",
       "    <tr>\n",
       "      <th>0717_084306_dummy-sentences-50</th>\n",
       "      <td>39.666352</td>\n",
       "      <td>0.050461</td>\n",
       "      <td>0.311519</td>\n",
       "      <td>0.183110</td>\n",
       "      <td>0.114710</td>\n",
       "      <td>7.228451e-02</td>\n",
       "      <td>0.170406</td>\n",
       "      <td>0.223176</td>\n",
       "      <td>0.211758</td>\n",
       "    </tr>\n",
       "    <tr>\n",
       "      <th>0717_090748_dummy-words-10</th>\n",
       "      <td>7.426205</td>\n",
       "      <td>0.062627</td>\n",
       "      <td>0.332876</td>\n",
       "      <td>0.114587</td>\n",
       "      <td>0.023408</td>\n",
       "      <td>6.150347e-03</td>\n",
       "      <td>0.119255</td>\n",
       "      <td>0.256932</td>\n",
       "      <td>0.176793</td>\n",
       "    </tr>\n",
       "    <tr>\n",
       "      <th>0717_083314_dummy-sentences-200</th>\n",
       "      <td>39.682048</td>\n",
       "      <td>0.045503</td>\n",
       "      <td>0.321895</td>\n",
       "      <td>0.185239</td>\n",
       "      <td>0.113506</td>\n",
       "      <td>6.935814e-02</td>\n",
       "      <td>0.172499</td>\n",
       "      <td>0.214820</td>\n",
       "      <td>0.197815</td>\n",
       "    </tr>\n",
       "    <tr>\n",
       "      <th>0717_041434_lstm_lr0.0001_densenet-121</th>\n",
       "      <td>6.577675</td>\n",
       "      <td>0.059194</td>\n",
       "      <td>0.437577</td>\n",
       "      <td>0.295265</td>\n",
       "      <td>0.205521</td>\n",
       "      <td>1.498014e-01</td>\n",
       "      <td>0.272041</td>\n",
       "      <td>0.356053</td>\n",
       "      <td>0.607990</td>\n",
       "    </tr>\n",
       "    <tr>\n",
       "      <th>0717_080808_dummy-words-50</th>\n",
       "      <td>7.448333</td>\n",
       "      <td>0.038413</td>\n",
       "      <td>0.409490</td>\n",
       "      <td>0.111303</td>\n",
       "      <td>0.023779</td>\n",
       "      <td>4.728711e-03</td>\n",
       "      <td>0.137325</td>\n",
       "      <td>0.234163</td>\n",
       "      <td>0.271556</td>\n",
       "    </tr>\n",
       "    <tr>\n",
       "      <th>0717_080411_dummy-words</th>\n",
       "      <td>7.447865</td>\n",
       "      <td>0.034551</td>\n",
       "      <td>0.388595</td>\n",
       "      <td>0.095112</td>\n",
       "      <td>0.016609</td>\n",
       "      <td>6.424807e-07</td>\n",
       "      <td>0.125079</td>\n",
       "      <td>0.220203</td>\n",
       "      <td>0.239086</td>\n",
       "    </tr>\n",
       "    <tr>\n",
       "      <th>0717_085314_dummy-words-500</th>\n",
       "      <td>7.460770</td>\n",
       "      <td>0.027147</td>\n",
       "      <td>0.361456</td>\n",
       "      <td>0.082062</td>\n",
       "      <td>0.015738</td>\n",
       "      <td>6.170368e-07</td>\n",
       "      <td>0.114814</td>\n",
       "      <td>0.204967</td>\n",
       "      <td>0.172378</td>\n",
       "    </tr>\n",
       "    <tr>\n",
       "      <th>0717_015057_h-lstm_lr0.0001_densenet-121</th>\n",
       "      <td>5.299548</td>\n",
       "      <td>0.084028</td>\n",
       "      <td>0.303179</td>\n",
       "      <td>0.168716</td>\n",
       "      <td>0.103162</td>\n",
       "      <td>6.604955e-02</td>\n",
       "      <td>0.160277</td>\n",
       "      <td>0.268216</td>\n",
       "      <td>0.156951</td>\n",
       "    </tr>\n",
       "  </tbody>\n",
       "</table>\n",
       "</div>"
      ],
      "text/plain": [
       "                                                   loss  word_acc     bleu1  \\\n",
       "0716_211601_lstm-att_lr0.0001_densenet-121     7.725230  0.055295  0.401821   \n",
       "0717_085045_dummy-words-200                    7.452846  0.031153  0.373533   \n",
       "0717_083015_dummy-sentences-100               39.685739  0.048110  0.323524   \n",
       "0716_234501_h-lstm-att_lr0.0001_densenet-121   5.836308  0.081163  0.278639   \n",
       "0717_083603_dummy-sentences-500               39.702269  0.044475  0.315434   \n",
       "0717_084306_dummy-sentences-50                39.666352  0.050461  0.311519   \n",
       "0717_090748_dummy-words-10                     7.426205  0.062627  0.332876   \n",
       "0717_083314_dummy-sentences-200               39.682048  0.045503  0.321895   \n",
       "0717_041434_lstm_lr0.0001_densenet-121         6.577675  0.059194  0.437577   \n",
       "0717_080808_dummy-words-50                     7.448333  0.038413  0.409490   \n",
       "0717_080411_dummy-words                        7.447865  0.034551  0.388595   \n",
       "0717_085314_dummy-words-500                    7.460770  0.027147  0.361456   \n",
       "0717_015057_h-lstm_lr0.0001_densenet-121       5.299548  0.084028  0.303179   \n",
       "\n",
       "                                                 bleu2     bleu3  \\\n",
       "0716_211601_lstm-att_lr0.0001_densenet-121    0.255879  0.174197   \n",
       "0717_085045_dummy-words-200                   0.085370  0.015814   \n",
       "0717_083015_dummy-sentences-100               0.188075  0.116731   \n",
       "0716_234501_h-lstm-att_lr0.0001_densenet-121  0.163611  0.106255   \n",
       "0717_083603_dummy-sentences-500               0.182265  0.113446   \n",
       "0717_084306_dummy-sentences-50                0.183110  0.114710   \n",
       "0717_090748_dummy-words-10                    0.114587  0.023408   \n",
       "0717_083314_dummy-sentences-200               0.185239  0.113506   \n",
       "0717_041434_lstm_lr0.0001_densenet-121        0.295265  0.205521   \n",
       "0717_080808_dummy-words-50                    0.111303  0.023779   \n",
       "0717_080411_dummy-words                       0.095112  0.016609   \n",
       "0717_085314_dummy-words-500                   0.082062  0.015738   \n",
       "0717_015057_h-lstm_lr0.0001_densenet-121      0.168716  0.103162   \n",
       "\n",
       "                                                     bleu4      bleu  \\\n",
       "0716_211601_lstm-att_lr0.0001_densenet-121    1.245062e-01  0.239101   \n",
       "0717_085045_dummy-words-200                   6.192783e-07  0.118680   \n",
       "0717_083015_dummy-sentences-100               7.227757e-02  0.175152   \n",
       "0716_234501_h-lstm-att_lr0.0001_densenet-121  7.249889e-02  0.155251   \n",
       "0717_083603_dummy-sentences-500               7.201885e-02  0.170791   \n",
       "0717_084306_dummy-sentences-50                7.228451e-02  0.170406   \n",
       "0717_090748_dummy-words-10                    6.150347e-03  0.119255   \n",
       "0717_083314_dummy-sentences-200               6.935814e-02  0.172499   \n",
       "0717_041434_lstm_lr0.0001_densenet-121        1.498014e-01  0.272041   \n",
       "0717_080808_dummy-words-50                    4.728711e-03  0.137325   \n",
       "0717_080411_dummy-words                       6.424807e-07  0.125079   \n",
       "0717_085314_dummy-words-500                   6.170368e-07  0.114814   \n",
       "0717_015057_h-lstm_lr0.0001_densenet-121      6.604955e-02  0.160277   \n",
       "\n",
       "                                                rougeL    ciderD  \n",
       "0716_211601_lstm-att_lr0.0001_densenet-121    0.331644  0.481737  \n",
       "0717_085045_dummy-words-200                   0.211350  0.201866  \n",
       "0717_083015_dummy-sentences-100               0.220751  0.192516  \n",
       "0716_234501_h-lstm-att_lr0.0001_densenet-121  0.260263  0.120244  \n",
       "0717_083603_dummy-sentences-500               0.209300  0.192069  \n",
       "0717_084306_dummy-sentences-50                0.223176  0.211758  \n",
       "0717_090748_dummy-words-10                    0.256932  0.176793  \n",
       "0717_083314_dummy-sentences-200               0.214820  0.197815  \n",
       "0717_041434_lstm_lr0.0001_densenet-121        0.356053  0.607990  \n",
       "0717_080808_dummy-words-50                    0.234163  0.271556  \n",
       "0717_080411_dummy-words                       0.220203  0.239086  \n",
       "0717_085314_dummy-words-500                   0.204967  0.172378  \n",
       "0717_015057_h-lstm_lr0.0001_densenet-121      0.268216  0.156951  "
      ]
     },
     "execution_count": 80,
     "metadata": {},
     "output_type": "execute_result"
    }
   ],
   "source": [
    "results_df_test"
   ]
  },
  {
   "cell_type": "code",
   "execution_count": 81,
   "metadata": {
    "hidden": true
   },
   "outputs": [
    {
     "name": "stdout",
     "output_type": "stream",
     "text": [
      "\\begin{tabular}{lrrrrrrrr}\n",
      "\\toprule\n",
      "{} &  word\\_acc &  bleu1 &  bleu2 &  bleu3 &  bleu4 &  bleu &  rougeL &  ciderD \\\\\n",
      "\\midrule\n",
      "0716\\_211601\\_lstm-att\\_lr0.0001\\_densenet-121   &     0.055 &  0.402 &  0.256 &  0.174 &  0.125 & 0.239 &   0.332 &   0.482 \\\\\n",
      "0717\\_085045\\_dummy-words-200                  &     0.031 &  0.374 &  0.085 &  0.016 &  0.000 & 0.119 &   0.211 &   0.202 \\\\\n",
      "0717\\_083015\\_dummy-sentences-100              &     0.048 &  0.324 &  0.188 &  0.117 &  0.072 & 0.175 &   0.221 &   0.193 \\\\\n",
      "0716\\_234501\\_h-lstm-att\\_lr0.0001\\_densenet-121 &     0.081 &  0.279 &  0.164 &  0.106 &  0.072 & 0.155 &   0.260 &   0.120 \\\\\n",
      "0717\\_083603\\_dummy-sentences-500              &     0.044 &  0.315 &  0.182 &  0.113 &  0.072 & 0.171 &   0.209 &   0.192 \\\\\n",
      "0717\\_084306\\_dummy-sentences-50               &     0.050 &  0.312 &  0.183 &  0.115 &  0.072 & 0.170 &   0.223 &   0.212 \\\\\n",
      "0717\\_090748\\_dummy-words-10                   &     0.063 &  0.333 &  0.115 &  0.023 &  0.006 & 0.119 &   0.257 &   0.177 \\\\\n",
      "0717\\_083314\\_dummy-sentences-200              &     0.046 &  0.322 &  0.185 &  0.114 &  0.069 & 0.172 &   0.215 &   0.198 \\\\\n",
      "0717\\_041434\\_lstm\\_lr0.0001\\_densenet-121       &     0.059 &  0.438 &  0.295 &  0.206 &  0.150 & 0.272 &   0.356 &   0.608 \\\\\n",
      "0717\\_080808\\_dummy-words-50                   &     0.038 &  0.409 &  0.111 &  0.024 &  0.005 & 0.137 &   0.234 &   0.272 \\\\\n",
      "0717\\_080411\\_dummy-words                      &     0.035 &  0.389 &  0.095 &  0.017 &  0.000 & 0.125 &   0.220 &   0.239 \\\\\n",
      "0717\\_085314\\_dummy-words-500                  &     0.027 &  0.361 &  0.082 &  0.016 &  0.000 & 0.115 &   0.205 &   0.172 \\\\\n",
      "0717\\_015057\\_h-lstm\\_lr0.0001\\_densenet-121     &     0.084 &  0.303 &  0.169 &  0.103 &  0.066 & 0.160 &   0.268 &   0.157 \\\\\n",
      "\\bottomrule\n",
      "\\end{tabular}\n",
      "\n"
     ]
    }
   ],
   "source": [
    "print_columns = [c for c in results_df_test.columns if c != 'loss' and 'cm' not in c]\n",
    "print((results_df_test).to_latex(columns=print_columns,\n",
    "                               float_format='%.3f',\n",
    "                              ))"
   ]
  },
  {
   "cell_type": "code",
   "execution_count": 74,
   "metadata": {
    "hidden": true
   },
   "outputs": [
    {
     "data": {
      "text/plain": [
       "0.22525"
      ]
     },
     "execution_count": 74,
     "metadata": {},
     "output_type": "execute_result"
    }
   ],
   "source": [
    "np.mean([0.369, 0.246, 0.171, 0.115])"
   ]
  },
  {
   "cell_type": "code",
   "execution_count": null,
   "metadata": {
    "hidden": true
   },
   "outputs": [],
   "source": []
  },
  {
   "cell_type": "code",
   "execution_count": null,
   "metadata": {
    "hidden": true
   },
   "outputs": [],
   "source": []
  },
  {
   "cell_type": "markdown",
   "metadata": {},
   "source": [
    "### Classification"
   ]
  },
  {
   "cell_type": "code",
   "execution_count": 31,
   "metadata": {},
   "outputs": [],
   "source": [
    "# contains = 'covid-x'\n",
    "# contains = 'cxr14'\n",
    "contains = 'e0'\n",
    "# contains = '0717_120222_covid-x_densenet-121_lr1e-06_os_aug-covid'\n",
    "# contains = '0717_101812_covid-x_densenet-121_lr1e-06_os-max2_aug-covid'\n",
    "contains = '0717_120222_covid-x_densenet-121_lr1e-06_os_aug-covid' # WINNER\n",
    "\n",
    "contains = '0717_101812_covid-x_densenet-121_lr1e-06_os-max2_aug-covid'"
   ]
  },
  {
   "cell_type": "code",
   "execution_count": 34,
   "metadata": {},
   "outputs": [],
   "source": [
    "results_df_train = results_df_train.loc[results_df_train.index.str.contains(contains)]\n",
    "results_df_val = results_df_val.loc[results_df_val.index.str.contains(contains)]\n",
    "results_df_test = results_df_test.loc[results_df_test.index.str.contains(contains)]"
   ]
  },
  {
   "cell_type": "code",
   "execution_count": 111,
   "metadata": {
    "collapsed": true
   },
   "outputs": [
    {
     "ename": "KeyError",
     "evalue": "'recall_covid'",
     "output_type": "error",
     "traceback": [
      "\u001b[0;31m---------------------------------------------------------------------------\u001b[0m",
      "\u001b[0;31mKeyError\u001b[0m                                  Traceback (most recent call last)",
      "\u001b[0;32m<ipython-input-111-ed0ce64360d3>\u001b[0m in \u001b[0;36m<module>\u001b[0;34m\u001b[0m\n\u001b[1;32m      1\u001b[0m results_df_train.sort_values(['acc', 'recall_covid', 'prec_covid'],\n\u001b[0;32m----> 2\u001b[0;31m                            ascending=False).dropna(axis=1, how='all')\n\u001b[0m",
      "\u001b[0;32m~/medical-report-generation/pyenv/lib/python3.6/site-packages/pandas/core/frame.py\u001b[0m in \u001b[0;36msort_values\u001b[0;34m(self, by, axis, ascending, inplace, kind, na_position, ignore_index)\u001b[0m\n\u001b[1;32m   4918\u001b[0m             \u001b[0;32mfrom\u001b[0m \u001b[0mpandas\u001b[0m\u001b[0;34m.\u001b[0m\u001b[0mcore\u001b[0m\u001b[0;34m.\u001b[0m\u001b[0msorting\u001b[0m \u001b[0;32mimport\u001b[0m \u001b[0mlexsort_indexer\u001b[0m\u001b[0;34m\u001b[0m\u001b[0;34m\u001b[0m\u001b[0m\n\u001b[1;32m   4919\u001b[0m \u001b[0;34m\u001b[0m\u001b[0m\n\u001b[0;32m-> 4920\u001b[0;31m             \u001b[0mkeys\u001b[0m \u001b[0;34m=\u001b[0m \u001b[0;34m[\u001b[0m\u001b[0mself\u001b[0m\u001b[0;34m.\u001b[0m\u001b[0m_get_label_or_level_values\u001b[0m\u001b[0;34m(\u001b[0m\u001b[0mx\u001b[0m\u001b[0;34m,\u001b[0m \u001b[0maxis\u001b[0m\u001b[0;34m=\u001b[0m\u001b[0maxis\u001b[0m\u001b[0;34m)\u001b[0m \u001b[0;32mfor\u001b[0m \u001b[0mx\u001b[0m \u001b[0;32min\u001b[0m \u001b[0mby\u001b[0m\u001b[0;34m]\u001b[0m\u001b[0;34m\u001b[0m\u001b[0;34m\u001b[0m\u001b[0m\n\u001b[0m\u001b[1;32m   4921\u001b[0m             \u001b[0mindexer\u001b[0m \u001b[0;34m=\u001b[0m \u001b[0mlexsort_indexer\u001b[0m\u001b[0;34m(\u001b[0m\u001b[0mkeys\u001b[0m\u001b[0;34m,\u001b[0m \u001b[0morders\u001b[0m\u001b[0;34m=\u001b[0m\u001b[0mascending\u001b[0m\u001b[0;34m,\u001b[0m \u001b[0mna_position\u001b[0m\u001b[0;34m=\u001b[0m\u001b[0mna_position\u001b[0m\u001b[0;34m)\u001b[0m\u001b[0;34m\u001b[0m\u001b[0;34m\u001b[0m\u001b[0m\n\u001b[1;32m   4922\u001b[0m             \u001b[0mindexer\u001b[0m \u001b[0;34m=\u001b[0m \u001b[0mensure_platform_int\u001b[0m\u001b[0;34m(\u001b[0m\u001b[0mindexer\u001b[0m\u001b[0;34m)\u001b[0m\u001b[0;34m\u001b[0m\u001b[0;34m\u001b[0m\u001b[0m\n",
      "\u001b[0;32m~/medical-report-generation/pyenv/lib/python3.6/site-packages/pandas/core/frame.py\u001b[0m in \u001b[0;36m<listcomp>\u001b[0;34m(.0)\u001b[0m\n\u001b[1;32m   4918\u001b[0m             \u001b[0;32mfrom\u001b[0m \u001b[0mpandas\u001b[0m\u001b[0;34m.\u001b[0m\u001b[0mcore\u001b[0m\u001b[0;34m.\u001b[0m\u001b[0msorting\u001b[0m \u001b[0;32mimport\u001b[0m \u001b[0mlexsort_indexer\u001b[0m\u001b[0;34m\u001b[0m\u001b[0;34m\u001b[0m\u001b[0m\n\u001b[1;32m   4919\u001b[0m \u001b[0;34m\u001b[0m\u001b[0m\n\u001b[0;32m-> 4920\u001b[0;31m             \u001b[0mkeys\u001b[0m \u001b[0;34m=\u001b[0m \u001b[0;34m[\u001b[0m\u001b[0mself\u001b[0m\u001b[0;34m.\u001b[0m\u001b[0m_get_label_or_level_values\u001b[0m\u001b[0;34m(\u001b[0m\u001b[0mx\u001b[0m\u001b[0;34m,\u001b[0m \u001b[0maxis\u001b[0m\u001b[0;34m=\u001b[0m\u001b[0maxis\u001b[0m\u001b[0;34m)\u001b[0m \u001b[0;32mfor\u001b[0m \u001b[0mx\u001b[0m \u001b[0;32min\u001b[0m \u001b[0mby\u001b[0m\u001b[0;34m]\u001b[0m\u001b[0;34m\u001b[0m\u001b[0;34m\u001b[0m\u001b[0m\n\u001b[0m\u001b[1;32m   4921\u001b[0m             \u001b[0mindexer\u001b[0m \u001b[0;34m=\u001b[0m \u001b[0mlexsort_indexer\u001b[0m\u001b[0;34m(\u001b[0m\u001b[0mkeys\u001b[0m\u001b[0;34m,\u001b[0m \u001b[0morders\u001b[0m\u001b[0;34m=\u001b[0m\u001b[0mascending\u001b[0m\u001b[0;34m,\u001b[0m \u001b[0mna_position\u001b[0m\u001b[0;34m=\u001b[0m\u001b[0mna_position\u001b[0m\u001b[0;34m)\u001b[0m\u001b[0;34m\u001b[0m\u001b[0;34m\u001b[0m\u001b[0m\n\u001b[1;32m   4922\u001b[0m             \u001b[0mindexer\u001b[0m \u001b[0;34m=\u001b[0m \u001b[0mensure_platform_int\u001b[0m\u001b[0;34m(\u001b[0m\u001b[0mindexer\u001b[0m\u001b[0;34m)\u001b[0m\u001b[0;34m\u001b[0m\u001b[0;34m\u001b[0m\u001b[0m\n",
      "\u001b[0;32m~/medical-report-generation/pyenv/lib/python3.6/site-packages/pandas/core/generic.py\u001b[0m in \u001b[0;36m_get_label_or_level_values\u001b[0;34m(self, key, axis)\u001b[0m\n\u001b[1;32m   1690\u001b[0m             \u001b[0mvalues\u001b[0m \u001b[0;34m=\u001b[0m \u001b[0mself\u001b[0m\u001b[0;34m.\u001b[0m\u001b[0maxes\u001b[0m\u001b[0;34m[\u001b[0m\u001b[0maxis\u001b[0m\u001b[0;34m]\u001b[0m\u001b[0;34m.\u001b[0m\u001b[0mget_level_values\u001b[0m\u001b[0;34m(\u001b[0m\u001b[0mkey\u001b[0m\u001b[0;34m)\u001b[0m\u001b[0;34m.\u001b[0m\u001b[0m_values\u001b[0m\u001b[0;34m\u001b[0m\u001b[0;34m\u001b[0m\u001b[0m\n\u001b[1;32m   1691\u001b[0m         \u001b[0;32melse\u001b[0m\u001b[0;34m:\u001b[0m\u001b[0;34m\u001b[0m\u001b[0;34m\u001b[0m\u001b[0m\n\u001b[0;32m-> 1692\u001b[0;31m             \u001b[0;32mraise\u001b[0m \u001b[0mKeyError\u001b[0m\u001b[0;34m(\u001b[0m\u001b[0mkey\u001b[0m\u001b[0;34m)\u001b[0m\u001b[0;34m\u001b[0m\u001b[0;34m\u001b[0m\u001b[0m\n\u001b[0m\u001b[1;32m   1693\u001b[0m \u001b[0;34m\u001b[0m\u001b[0m\n\u001b[1;32m   1694\u001b[0m         \u001b[0;31m# Check for duplicates\u001b[0m\u001b[0;34m\u001b[0m\u001b[0;34m\u001b[0m\u001b[0;34m\u001b[0m\u001b[0m\n",
      "\u001b[0;31mKeyError\u001b[0m: 'recall_covid'"
     ]
    }
   ],
   "source": [
    "results_df_train.sort_values(['acc', 'recall_covid', 'prec_covid'],\n",
    "                           ascending=False).dropna(axis=1, how='all')"
   ]
  },
  {
   "cell_type": "code",
   "execution_count": 91,
   "metadata": {},
   "outputs": [
    {
     "data": {
      "text/html": [
       "<div>\n",
       "<style scoped>\n",
       "    .dataframe tbody tr th:only-of-type {\n",
       "        vertical-align: middle;\n",
       "    }\n",
       "\n",
       "    .dataframe tbody tr th {\n",
       "        vertical-align: top;\n",
       "    }\n",
       "\n",
       "    .dataframe thead th {\n",
       "        text-align: right;\n",
       "    }\n",
       "</style>\n",
       "<table border=\"1\" class=\"dataframe\">\n",
       "  <thead>\n",
       "    <tr style=\"text-align: right;\">\n",
       "      <th></th>\n",
       "      <th>loss</th>\n",
       "      <th>acc</th>\n",
       "      <th>prec_covid</th>\n",
       "      <th>prec_pneumonia</th>\n",
       "      <th>prec_normal</th>\n",
       "      <th>recall_covid</th>\n",
       "      <th>recall_pneumonia</th>\n",
       "      <th>recall_normal</th>\n",
       "      <th>spec_covid</th>\n",
       "      <th>spec_pneumonia</th>\n",
       "      <th>spec_normal</th>\n",
       "      <th>cm</th>\n",
       "    </tr>\n",
       "  </thead>\n",
       "  <tbody>\n",
       "    <tr>\n",
       "      <th>0717_063232_covid-x_densenet-121_lr1e-06_os-max2_aug-0_precxr14</th>\n",
       "      <td>1.354517</td>\n",
       "      <td>0.873199</td>\n",
       "      <td>0.928571</td>\n",
       "      <td>0.844891</td>\n",
       "      <td>0.890394</td>\n",
       "      <td>0.553191</td>\n",
       "      <td>0.849541</td>\n",
       "      <td>0.908291</td>\n",
       "      <td>0.998509</td>\n",
       "      <td>0.89917</td>\n",
       "      <td>0.849662</td>\n",
       "      <td>[[24, 14, 9], [2, 477, 66], [0, 88, 708]]</td>\n",
       "    </tr>\n",
       "  </tbody>\n",
       "</table>\n",
       "</div>"
      ],
      "text/plain": [
       "                                                        loss       acc  \\\n",
       "0717_063232_covid-x_densenet-121_lr1e-06_os-max...  1.354517  0.873199   \n",
       "\n",
       "                                                    prec_covid  \\\n",
       "0717_063232_covid-x_densenet-121_lr1e-06_os-max...    0.928571   \n",
       "\n",
       "                                                    prec_pneumonia  \\\n",
       "0717_063232_covid-x_densenet-121_lr1e-06_os-max...        0.844891   \n",
       "\n",
       "                                                    prec_normal  recall_covid  \\\n",
       "0717_063232_covid-x_densenet-121_lr1e-06_os-max...     0.890394      0.553191   \n",
       "\n",
       "                                                    recall_pneumonia  \\\n",
       "0717_063232_covid-x_densenet-121_lr1e-06_os-max...          0.849541   \n",
       "\n",
       "                                                    recall_normal  spec_covid  \\\n",
       "0717_063232_covid-x_densenet-121_lr1e-06_os-max...       0.908291    0.998509   \n",
       "\n",
       "                                                    spec_pneumonia  \\\n",
       "0717_063232_covid-x_densenet-121_lr1e-06_os-max...         0.89917   \n",
       "\n",
       "                                                    spec_normal  \\\n",
       "0717_063232_covid-x_densenet-121_lr1e-06_os-max...     0.849662   \n",
       "\n",
       "                                                                                           cm  \n",
       "0717_063232_covid-x_densenet-121_lr1e-06_os-max...  [[24, 14, 9], [2, 477, 66], [0, 88, 708]]  "
      ]
     },
     "execution_count": 91,
     "metadata": {},
     "output_type": "execute_result"
    }
   ],
   "source": [
    "results_df_val.sort_values(['acc', 'recall_covid', 'prec_covid'],\n",
    "                           ascending=False).dropna(axis=1, how='all')"
   ]
  },
  {
   "cell_type": "code",
   "execution_count": 35,
   "metadata": {},
   "outputs": [
    {
     "data": {
      "text/html": [
       "<div>\n",
       "<style scoped>\n",
       "    .dataframe tbody tr th:only-of-type {\n",
       "        vertical-align: middle;\n",
       "    }\n",
       "\n",
       "    .dataframe tbody tr th {\n",
       "        vertical-align: top;\n",
       "    }\n",
       "\n",
       "    .dataframe thead th {\n",
       "        text-align: right;\n",
       "    }\n",
       "</style>\n",
       "<table border=\"1\" class=\"dataframe\">\n",
       "  <thead>\n",
       "    <tr style=\"text-align: right;\">\n",
       "      <th></th>\n",
       "      <th>loss</th>\n",
       "      <th>acc</th>\n",
       "      <th>prec_covid</th>\n",
       "      <th>prec_pneumonia</th>\n",
       "      <th>prec_normal</th>\n",
       "      <th>recall_covid</th>\n",
       "      <th>recall_pneumonia</th>\n",
       "      <th>recall_normal</th>\n",
       "      <th>spec_covid</th>\n",
       "      <th>spec_pneumonia</th>\n",
       "      <th>spec_normal</th>\n",
       "      <th>cm</th>\n",
       "    </tr>\n",
       "  </thead>\n",
       "  <tbody>\n",
       "    <tr>\n",
       "      <th>0717_101812_covid-x_densenet-121_lr1e-06_os-max2_aug-covid</th>\n",
       "      <td>0.145496</td>\n",
       "      <td>0.937302</td>\n",
       "      <td>0.939394</td>\n",
       "      <td>0.911184</td>\n",
       "      <td>0.955275</td>\n",
       "      <td>0.93</td>\n",
       "      <td>0.93266</td>\n",
       "      <td>0.941243</td>\n",
       "      <td>0.995943</td>\n",
       "      <td>0.945178</td>\n",
       "      <td>0.943804</td>\n",
       "      <td>[[91, 7, 2], [1, 561, 32], [2, 58, 825]]</td>\n",
       "    </tr>\n",
       "  </tbody>\n",
       "</table>\n",
       "</div>"
      ],
      "text/plain": [
       "                                                        loss       acc  \\\n",
       "0717_101812_covid-x_densenet-121_lr1e-06_os-max...  0.145496  0.937302   \n",
       "\n",
       "                                                    prec_covid  \\\n",
       "0717_101812_covid-x_densenet-121_lr1e-06_os-max...    0.939394   \n",
       "\n",
       "                                                    prec_pneumonia  \\\n",
       "0717_101812_covid-x_densenet-121_lr1e-06_os-max...        0.911184   \n",
       "\n",
       "                                                    prec_normal  recall_covid  \\\n",
       "0717_101812_covid-x_densenet-121_lr1e-06_os-max...     0.955275          0.93   \n",
       "\n",
       "                                                    recall_pneumonia  \\\n",
       "0717_101812_covid-x_densenet-121_lr1e-06_os-max...           0.93266   \n",
       "\n",
       "                                                    recall_normal  spec_covid  \\\n",
       "0717_101812_covid-x_densenet-121_lr1e-06_os-max...       0.941243    0.995943   \n",
       "\n",
       "                                                    spec_pneumonia  \\\n",
       "0717_101812_covid-x_densenet-121_lr1e-06_os-max...        0.945178   \n",
       "\n",
       "                                                    spec_normal  \\\n",
       "0717_101812_covid-x_densenet-121_lr1e-06_os-max...     0.943804   \n",
       "\n",
       "                                                                                          cm  \n",
       "0717_101812_covid-x_densenet-121_lr1e-06_os-max...  [[91, 7, 2], [1, 561, 32], [2, 58, 825]]  "
      ]
     },
     "execution_count": 35,
     "metadata": {},
     "output_type": "execute_result"
    }
   ],
   "source": [
    "results_df_test.sort_values(['acc', 'recall_covid', 'prec_covid'],\n",
    "                            ascending=False).dropna(axis=1, how='all')"
   ]
  },
  {
   "cell_type": "code",
   "execution_count": 36,
   "metadata": {},
   "outputs": [],
   "source": [
    "print_columns = [\n",
    "    'acc',\n",
    "    'prec_covid','prec_pneumonia','prec_normal',\n",
    "    'recall_covid','recall_pneumonia', 'recall_normal',\n",
    "    'spec_covid','spec_pneumonia', 'spec_normal'\n",
    "#     'acc_Pneumonia', 'prec_Pneumonia', 'recall_Pneumonia'\n",
    "]\n",
    "# print_columns = [c for c in results_df_test.columns if c != 'loss' and 'cm' not in c]"
   ]
  },
  {
   "cell_type": "code",
   "execution_count": 37,
   "metadata": {
    "scrolled": true
   },
   "outputs": [
    {
     "name": "stdout",
     "output_type": "stream",
     "text": [
      "\\begin{tabular}{lrrrrrrrrrr}\n",
      "\\toprule\n",
      "{} &   acc &  prec\\_covid &  prec\\_pneumonia &  prec\\_normal &  recall\\_covid &  recall\\_pneumonia &  recall\\_normal &  spec\\_covid &  spec\\_pneumonia &  spec\\_normal \\\\\n",
      "\\midrule\n",
      "0717\\_101812\\_covid-x\\_densenet-121\\_lr1e-06\\_os-max... & 93.73 &       93.94 &           91.12 &        95.53 &         93.00 &             93.27 &          94.12 &       99.59 &           94.52 &        94.38 \\\\\n",
      "\\bottomrule\n",
      "\\end{tabular}\n",
      "\n"
     ]
    }
   ],
   "source": [
    "print((results_df_test*100).to_latex(columns=print_columns,\n",
    "                               float_format='%.2f',\n",
    "                              ))"
   ]
  },
  {
   "cell_type": "code",
   "execution_count": null,
   "metadata": {},
   "outputs": [],
   "source": []
  },
  {
   "cell_type": "code",
   "execution_count": null,
   "metadata": {},
   "outputs": [],
   "source": []
  },
  {
   "cell_type": "markdown",
   "metadata": {},
   "source": [
    "### Report-generation: results at different report lengths"
   ]
  },
  {
   "cell_type": "code",
   "execution_count": 32,
   "metadata": {},
   "outputs": [],
   "source": [
    "vals_words = [20, 25, 27, 33, 44, None]\n",
    "vals_sents = [3, 4, 5, 6, None]"
   ]
  },
  {
   "cell_type": "code",
   "execution_count": 40,
   "metadata": {},
   "outputs": [
    {
     "data": {
      "text/html": [
       "<div>\n",
       "<style scoped>\n",
       "    .dataframe tbody tr th:only-of-type {\n",
       "        vertical-align: middle;\n",
       "    }\n",
       "\n",
       "    .dataframe tbody tr th {\n",
       "        vertical-align: top;\n",
       "    }\n",
       "\n",
       "    .dataframe thead th {\n",
       "        text-align: right;\n",
       "    }\n",
       "</style>\n",
       "<table border=\"1\" class=\"dataframe\">\n",
       "  <thead>\n",
       "    <tr style=\"text-align: right;\">\n",
       "      <th></th>\n",
       "      <th>loss</th>\n",
       "      <th>word_acc</th>\n",
       "      <th>bleu1</th>\n",
       "      <th>bleu2</th>\n",
       "      <th>bleu3</th>\n",
       "      <th>bleu4</th>\n",
       "      <th>bleu</th>\n",
       "      <th>rougeL</th>\n",
       "      <th>ciderD</th>\n",
       "    </tr>\n",
       "  </thead>\n",
       "  <tbody>\n",
       "    <tr>\n",
       "      <th>0717_041434_lstm_lr0.0001_densenet-121</th>\n",
       "      <td>5.579509</td>\n",
       "      <td>0.149129</td>\n",
       "      <td>0.478934</td>\n",
       "      <td>0.325275</td>\n",
       "      <td>0.256634</td>\n",
       "      <td>0.218300</td>\n",
       "      <td>0.319786</td>\n",
       "      <td>0.395486</td>\n",
       "      <td>1.354237</td>\n",
       "    </tr>\n",
       "    <tr>\n",
       "      <th>0716_211601_lstm-att_lr0.0001_densenet-121</th>\n",
       "      <td>7.382415</td>\n",
       "      <td>0.068293</td>\n",
       "      <td>0.442359</td>\n",
       "      <td>0.282490</td>\n",
       "      <td>0.199632</td>\n",
       "      <td>0.150046</td>\n",
       "      <td>0.268632</td>\n",
       "      <td>0.358223</td>\n",
       "      <td>0.775244</td>\n",
       "    </tr>\n",
       "    <tr>\n",
       "      <th>0717_015057_h-lstm_lr0.0001_densenet-121</th>\n",
       "      <td>4.548621</td>\n",
       "      <td>0.162518</td>\n",
       "      <td>0.328184</td>\n",
       "      <td>0.195510</td>\n",
       "      <td>0.126410</td>\n",
       "      <td>0.082401</td>\n",
       "      <td>0.183126</td>\n",
       "      <td>0.334782</td>\n",
       "      <td>0.256378</td>\n",
       "    </tr>\n",
       "    <tr>\n",
       "      <th>0716_234501_h-lstm-att_lr0.0001_densenet-121</th>\n",
       "      <td>5.157984</td>\n",
       "      <td>0.132504</td>\n",
       "      <td>0.298223</td>\n",
       "      <td>0.179060</td>\n",
       "      <td>0.115951</td>\n",
       "      <td>0.075574</td>\n",
       "      <td>0.167202</td>\n",
       "      <td>0.315891</td>\n",
       "      <td>0.101786</td>\n",
       "    </tr>\n",
       "  </tbody>\n",
       "</table>\n",
       "</div>"
      ],
      "text/plain": [
       "                                                  loss  word_acc     bleu1  \\\n",
       "0717_041434_lstm_lr0.0001_densenet-121        5.579509  0.149129  0.478934   \n",
       "0716_211601_lstm-att_lr0.0001_densenet-121    7.382415  0.068293  0.442359   \n",
       "0717_015057_h-lstm_lr0.0001_densenet-121      4.548621  0.162518  0.328184   \n",
       "0716_234501_h-lstm-att_lr0.0001_densenet-121  5.157984  0.132504  0.298223   \n",
       "\n",
       "                                                 bleu2     bleu3     bleu4  \\\n",
       "0717_041434_lstm_lr0.0001_densenet-121        0.325275  0.256634  0.218300   \n",
       "0716_211601_lstm-att_lr0.0001_densenet-121    0.282490  0.199632  0.150046   \n",
       "0717_015057_h-lstm_lr0.0001_densenet-121      0.195510  0.126410  0.082401   \n",
       "0716_234501_h-lstm-att_lr0.0001_densenet-121  0.179060  0.115951  0.075574   \n",
       "\n",
       "                                                  bleu    rougeL    ciderD  \n",
       "0717_041434_lstm_lr0.0001_densenet-121        0.319786  0.395486  1.354237  \n",
       "0716_211601_lstm-att_lr0.0001_densenet-121    0.268632  0.358223  0.775244  \n",
       "0717_015057_h-lstm_lr0.0001_densenet-121      0.183126  0.334782  0.256378  \n",
       "0716_234501_h-lstm-att_lr0.0001_densenet-121  0.167202  0.315891  0.101786  "
      ]
     },
     "execution_count": 40,
     "metadata": {},
     "output_type": "execute_result"
    }
   ],
   "source": [
    "max_words = vals_words[0]\n",
    "suffix = f'max-words-{max_words}' if max_words else ''\n",
    "all_results = load_results(suffix)\n",
    "results_df_test = create_results_df(all_results, 'test')\n",
    "results_df_test"
   ]
  },
  {
   "cell_type": "code",
   "execution_count": null,
   "metadata": {},
   "outputs": [],
   "source": []
  }
 ],
 "metadata": {
  "kernelspec": {
   "display_name": "Python 3",
   "language": "python",
   "name": "python3"
  },
  "language_info": {
   "codemirror_mode": {
    "name": "ipython",
    "version": 3
   },
   "file_extension": ".py",
   "mimetype": "text/x-python",
   "name": "python",
   "nbconvert_exporter": "python",
   "pygments_lexer": "ipython3",
   "version": "3.6.9"
  },
  "toc": {
   "base_numbering": 1,
   "nav_menu": {},
   "number_sections": true,
   "sideBar": true,
   "skip_h1_title": false,
   "title_cell": "Table of Contents",
   "title_sidebar": "Contents",
   "toc_cell": false,
   "toc_position": {},
   "toc_section_display": true,
   "toc_window_display": false
  }
 },
 "nbformat": 4,
 "nbformat_minor": 4
}
