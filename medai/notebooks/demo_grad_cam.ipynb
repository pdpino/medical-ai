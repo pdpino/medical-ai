{
 "cells": [
  {
   "cell_type": "markdown",
   "metadata": {},
   "source": [
    "## Imports"
   ]
  },
  {
   "cell_type": "code",
   "execution_count": null,
   "metadata": {},
   "outputs": [],
   "source": [
    "%env CUDA_VISIBLE_DEVICES=1"
   ]
  },
  {
   "cell_type": "code",
   "execution_count": null,
   "metadata": {},
   "outputs": [],
   "source": [
    "!echo $CUDA_VISIBLE_DEVICES"
   ]
  },
  {
   "cell_type": "code",
   "execution_count": null,
   "metadata": {},
   "outputs": [],
   "source": [
    "import torch\n",
    "import matplotlib.pyplot as plt"
   ]
  },
  {
   "cell_type": "code",
   "execution_count": null,
   "metadata": {},
   "outputs": [],
   "source": [
    "import matplotlib\n",
    "matplotlib.rcParams['figure.facecolor'] = 'white'"
   ]
  },
  {
   "cell_type": "code",
   "execution_count": null,
   "metadata": {},
   "outputs": [],
   "source": [
    "# DEVICE = torch.device('cpu')\n",
    "DEVICE = torch.device('cuda')\n",
    "DEVICE"
   ]
  },
  {
   "cell_type": "code",
   "execution_count": null,
   "metadata": {},
   "outputs": [],
   "source": []
  },
  {
   "cell_type": "markdown",
   "metadata": {
    "heading_collapsed": true
   },
   "source": [
    "## Load data"
   ]
  },
  {
   "cell_type": "code",
   "execution_count": null,
   "metadata": {
    "hidden": true
   },
   "outputs": [],
   "source": [
    "%run ../datasets/__init__.py"
   ]
  },
  {
   "cell_type": "code",
   "execution_count": null,
   "metadata": {
    "hidden": true
   },
   "outputs": [],
   "source": [
    "dataset_kwargs = {\n",
    "    'dataset_name': 'cxr14',\n",
    "    # 'dataset_name': 'covid-x',\n",
    "    'dataset_type': 'train',\n",
    "    'max_samples': None,\n",
    "    'labels': None, # ['Cardiomegaly'],\n",
    "}\n",
    "dataloader = prepare_data_classification(**dataset_kwargs)\n",
    "dataset = dataloader.dataset\n",
    "len(dataset)"
   ]
  },
  {
   "cell_type": "code",
   "execution_count": null,
   "metadata": {
    "hidden": true
   },
   "outputs": [],
   "source": [
    "COVID_SAMPLES = [idx for idx, presence in dataset.get_labels_presence_for('covid') if presence]\n",
    "len(COVID_SAMPLES)"
   ]
  },
  {
   "cell_type": "code",
   "execution_count": null,
   "metadata": {
    "hidden": true
   },
   "outputs": [],
   "source": []
  },
  {
   "cell_type": "markdown",
   "metadata": {},
   "source": [
    "## Load model"
   ]
  },
  {
   "cell_type": "code",
   "execution_count": null,
   "metadata": {},
   "outputs": [],
   "source": [
    "%run ../models/checkpoint/__init__.py"
   ]
  },
  {
   "cell_type": "code",
   "execution_count": null,
   "metadata": {},
   "outputs": [],
   "source": [
    "# run_name = '0717_120222_covid-x_densenet-121_lr1e-06_os_aug-covid'\n",
    "# run_name = '0714_030324_covid-x_resnet-50_lr1e-06_os-max14'\n",
    "# run_name = '0721_214907_cxr14_densenet-121_lr0.001_aug-0_bce_Cardiomegaly_size256'\n",
    "# run_name = '0721_124730_cxr14_densenet-121_lr1e-05_bce_Cardiomegaly_size256'\n",
    "# run_name = '1215_174443_cxr14_resnet-50-v2_lr0.0001_os_Cardiomegaly_normS_size256_sch-roc_auc-p5-f0.1'\n",
    "run_name = '1205_135045_cxr14_mobilenet-v2_lr0.0001_aug_normS_size256_sch-roc_auc-p5-f0.1'\n",
    "debug = False"
   ]
  },
  {
   "cell_type": "code",
   "execution_count": null,
   "metadata": {},
   "outputs": [],
   "source": [
    "compiled_model = load_compiled_model_classification(run_name, debug, DEVICE)\n",
    "compiled_model.metadata['model_kwargs']"
   ]
  },
  {
   "cell_type": "code",
   "execution_count": null,
   "metadata": {},
   "outputs": [],
   "source": [
    "_ = compiled_model.model.eval()"
   ]
  },
  {
   "cell_type": "code",
   "execution_count": null,
   "metadata": {},
   "outputs": [],
   "source": []
  },
  {
   "cell_type": "markdown",
   "metadata": {},
   "source": [
    "## Apply Grad-CAM"
   ]
  },
  {
   "cell_type": "markdown",
   "metadata": {
    "heading_collapsed": true
   },
   "source": [
    "### Debug grad-cam correctness"
   ]
  },
  {
   "cell_type": "code",
   "execution_count": null,
   "metadata": {
    "hidden": true
   },
   "outputs": [],
   "source": [
    "import captum\n",
    "from captum.attr import LayerGradCam, GuidedGradCam, visualization"
   ]
  },
  {
   "cell_type": "code",
   "execution_count": null,
   "metadata": {
    "hidden": true
   },
   "outputs": [],
   "source": [
    "%run ../training/classification/grad_cam.py\n",
    "# %run ../utils/common.py"
   ]
  },
  {
   "cell_type": "code",
   "execution_count": null,
   "metadata": {
    "hidden": true
   },
   "outputs": [],
   "source": [
    "ACTIVATION = 'sigmoid' if dataset.multilabel else 'softmax'\n",
    "ACTIVATION"
   ]
  },
  {
   "cell_type": "code",
   "execution_count": null,
   "metadata": {
    "hidden": true
   },
   "outputs": [],
   "source": [
    "layer = _get_last_layer(compiled_model)\n",
    "\n",
    "grad_cam_with = LayerGradCam(ModelWrapper(compiled_model.model, activation=ACTIVATION), layer)\n",
    "grad_cam_wo = LayerGradCam(ModelWrapper(compiled_model.model, activation=None), layer)\n",
    "# grad_cam = GuidedGradCam(Dummy(model), layer)"
   ]
  },
  {
   "cell_type": "code",
   "execution_count": null,
   "metadata": {
    "hidden": true
   },
   "outputs": [],
   "source": [
    "LABEL_INDEX = 1"
   ]
  },
  {
   "cell_type": "code",
   "execution_count": null,
   "metadata": {
    "hidden": true
   },
   "outputs": [],
   "source": [
    "idx = 10\n",
    "\n",
    "item = dataset[idx]\n",
    "image = item.image\n",
    "\n",
    "images = image.unsqueeze(0).to(DEVICE)\n",
    "images.requires_grad = True\n",
    "attrs_with = grad_cam_with.attribute(images,\n",
    "                                     LABEL_INDEX,\n",
    "                                     relu_attributions=True,\n",
    "                                    ).detach().cpu().squeeze(0).squeeze(0)\n",
    "attrs_wo = grad_cam_wo.attribute(images,\n",
    "                                 LABEL_INDEX,\n",
    "                                 relu_attributions=True,\n",
    "                                ).detach().cpu().squeeze(0).squeeze(0)\n",
    "image.size(), attrs_with.size(), attrs_wo.size()"
   ]
  },
  {
   "cell_type": "code",
   "execution_count": null,
   "metadata": {
    "hidden": true
   },
   "outputs": [],
   "source": [
    "cam_attrs = calculate_cam(compiled_model.model, images)\n",
    "cam_attrs = cam_attrs.detach().cpu().squeeze(0)[LABEL_INDEX]\n",
    "cam_attrs.size()"
   ]
  },
  {
   "cell_type": "code",
   "execution_count": null,
   "metadata": {
    "hidden": true
   },
   "outputs": [],
   "source": [
    "plt.figure(figsize=(15, 5))\n",
    "\n",
    "plt.subplot(1, 3, 1)\n",
    "# plt.imshow(tensor_to_range01(image).permute(1, 2, 0))\n",
    "# plt.title(item.image_fname)\n",
    "# plt.axis('off')\n",
    "\n",
    "plt.imshow(attrs_with, cmap='jet')\n",
    "plt.title(f'Captum GradCAM with {ACTIVATION}')\n",
    "plt.axis('off')\n",
    "plt.colorbar()\n",
    "\n",
    "plt.subplot(1, 3, 2)\n",
    "plt.imshow(attrs_wo, cmap='jet')\n",
    "plt.title(f'Captum GradCAM without {ACTIVATION}')\n",
    "plt.axis('off')\n",
    "plt.colorbar()\n",
    "\n",
    "plt.subplot(1, 3, 3)\n",
    "plt.imshow(cam_attrs, cmap='jet')\n",
    "plt.title('Manual CAM')\n",
    "plt.axis('off')\n",
    "plt.colorbar()"
   ]
  },
  {
   "cell_type": "code",
   "execution_count": null,
   "metadata": {
    "hidden": true
   },
   "outputs": [],
   "source": [
    "plt.hist((attrs_wo - cam_attrs).view(-1))"
   ]
  },
  {
   "cell_type": "code",
   "execution_count": null,
   "metadata": {
    "hidden": true
   },
   "outputs": [],
   "source": []
  },
  {
   "cell_type": "markdown",
   "metadata": {
    "heading_collapsed": true
   },
   "source": [
    "### Compute grad-cam"
   ]
  },
  {
   "cell_type": "code",
   "execution_count": null,
   "metadata": {
    "hidden": true
   },
   "outputs": [],
   "source": [
    "from captum.attr import LayerGradCam, visualization # , GuidedGradCam\n",
    "\n",
    "from torch import sigmoid\n",
    "from torch.nn.functional import softmax"
   ]
  },
  {
   "cell_type": "code",
   "execution_count": null,
   "metadata": {
    "hidden": true
   },
   "outputs": [],
   "source": [
    "%run ../training/classification/grad_cam.py\n",
    "%run ../utils/common.py"
   ]
  },
  {
   "cell_type": "code",
   "execution_count": null,
   "metadata": {
    "hidden": true
   },
   "outputs": [],
   "source": [
    "LABEL_INDEX = 0"
   ]
  },
  {
   "cell_type": "code",
   "execution_count": null,
   "metadata": {
    "hidden": true
   },
   "outputs": [],
   "source": [
    "grad_cam = create_grad_cam(compiled_model, device=DEVICE)"
   ]
  },
  {
   "cell_type": "code",
   "execution_count": null,
   "metadata": {
    "hidden": true
   },
   "outputs": [],
   "source": [
    "def plot_cam(idx, thresh=0.5, relu=False, **kwargs):\n",
    "    item = dataset[idx]\n",
    "    image = item.image\n",
    "    \n",
    "    print('Image fname: ', item.image_fname)\n",
    "\n",
    "    images = image.unsqueeze(0).to(DEVICE)\n",
    "    # shape: bs=1, 3, height, width\n",
    "\n",
    "    # Make a prediction\n",
    "    output = compiled_model.model(images)[0].detach().cpu().squeeze(0)\n",
    "    # shape: bs=1, n_diseases\n",
    "    if dataset.multilabel:\n",
    "        # label_index = item.labels.tolist().index(1)\n",
    "        label_index = 0\n",
    "        print('Prediction: ', sigmoid(output[label_index]))\n",
    "    else:\n",
    "        print('Prediction: ', softmax(output, dim=-1))\n",
    "        label_index = item.labels\n",
    "    print('Ground truth: ', item.labels)\n",
    "\n",
    "    attributions = calculate_attributions(grad_cam, images, label_index,\n",
    "                                          relu=relu).detach().cpu().squeeze(0)\n",
    "    # shape: height, width\n",
    "\n",
    "    # attributions = attributions.repeat(3, 1, 1).permute(1, 2, 0)\n",
    "    # shape: height, width, 3\n",
    "    \n",
    "    image = tensor_to_range01(image).permute(1, 2, 0)\n",
    "    # shape: height, width, 3\n",
    "\n",
    "    # Plot!\n",
    "    plt.figure(figsize=(15, 5))\n",
    "    n_subplots = 3\n",
    "    plt.subplot(1, n_subplots, 1)\n",
    "    plt.imshow(image)\n",
    "    plt.axis('off')\n",
    "    \n",
    "    plt.subplot(1, n_subplots, 2)\n",
    "    plt.imshow(attributions, cmap='jet')\n",
    "    plt.colorbar()\n",
    "    \n",
    "    plt.subplot(1, n_subplots, 3)\n",
    "    plt.imshow(threshold_attributions(attributions, thresh=thresh), cmap='jet')\n",
    "    plt.colorbar()\n",
    "    \n",
    "    \n",
    "#     visualization.visualize_image_attr_multiple(attributions.numpy(),\n",
    "#                                                 image.numpy(),\n",
    "#                                                 methods=['original_image',\n",
    "#                                                          'blended_heat_map',\n",
    "#                                                         ],\n",
    "#                                                 signs=['all', 'all'],\n",
    "#                                                 titles=['CXR',\n",
    "#                                                         f'Grad-CAM label={label_index}',\n",
    "#                                                        ],\n",
    "#                                                 **kwargs,\n",
    "#                                                )\n",
    "    \n",
    "    return attributions"
   ]
  },
  {
   "cell_type": "code",
   "execution_count": null,
   "metadata": {
    "hidden": true
   },
   "outputs": [],
   "source": [
    "attrs = plot_cam(400, relu=True, thresh=0.8)"
   ]
  },
  {
   "cell_type": "code",
   "execution_count": null,
   "metadata": {
    "hidden": true
   },
   "outputs": [],
   "source": [
    "attrs = plot_cam(4, relu=False, thresh=0.8)"
   ]
  },
  {
   "cell_type": "code",
   "execution_count": null,
   "metadata": {
    "hidden": true
   },
   "outputs": [],
   "source": []
  },
  {
   "cell_type": "code",
   "execution_count": null,
   "metadata": {
    "hidden": true
   },
   "outputs": [],
   "source": []
  },
  {
   "cell_type": "markdown",
   "metadata": {},
   "source": [
    "### Average over dataset"
   ]
  },
  {
   "cell_type": "code",
   "execution_count": null,
   "metadata": {},
   "outputs": [],
   "source": [
    "from tqdm.notebook import tqdm"
   ]
  },
  {
   "cell_type": "code",
   "execution_count": null,
   "metadata": {},
   "outputs": [],
   "source": [
    "mins = []\n",
    "maxs = []\n",
    "\n",
    "for idx in tqdm(COVID_SAMPLES): # range(100) # len(dataset)\n",
    "    image, label = dataset[idx]\n",
    "    images = image.unsqueeze(0).to(DEVICE)\n",
    "\n",
    "    attributions = grad_cam.attribute(images, 0)\n",
    "    attributions = attributions.detach().cpu().squeeze(0).squeeze(0)\n",
    "    attributions = attributions.numpy()\n",
    "\n",
    "    mins.append(attributions.min())\n",
    "    maxs.append(attributions.max())\n",
    "    \n",
    "np.mean(mins), np.mean(maxs)"
   ]
  },
  {
   "cell_type": "code",
   "execution_count": null,
   "metadata": {},
   "outputs": [],
   "source": [
    "0: (-2.0381943e-10, 2.047288e-10)\n",
    "1: (-2.1670395e-10, 2.1722059e-10)\n",
    "2: (-2.0727114e-10, 2.0217203e-10)"
   ]
  },
  {
   "cell_type": "code",
   "execution_count": null,
   "metadata": {},
   "outputs": [],
   "source": []
  },
  {
   "cell_type": "code",
   "execution_count": null,
   "metadata": {},
   "outputs": [],
   "source": []
  },
  {
   "cell_type": "code",
   "execution_count": null,
   "metadata": {},
   "outputs": [],
   "source": []
  },
  {
   "cell_type": "code",
   "execution_count": null,
   "metadata": {},
   "outputs": [],
   "source": []
  },
  {
   "cell_type": "code",
   "execution_count": null,
   "metadata": {},
   "outputs": [],
   "source": []
  }
 ],
 "metadata": {
  "kernelspec": {
   "display_name": "Python 3",
   "language": "python",
   "name": "python3"
  },
  "language_info": {
   "codemirror_mode": {
    "name": "ipython",
    "version": 3
   },
   "file_extension": ".py",
   "mimetype": "text/x-python",
   "name": "python",
   "nbconvert_exporter": "python",
   "pygments_lexer": "ipython3",
   "version": "3.6.9"
  },
  "toc": {
   "base_numbering": 1,
   "nav_menu": {},
   "number_sections": true,
   "sideBar": true,
   "skip_h1_title": false,
   "title_cell": "Table of Contents",
   "title_sidebar": "Contents",
   "toc_cell": false,
   "toc_position": {},
   "toc_section_display": true,
   "toc_window_display": false
  }
 },
 "nbformat": 4,
 "nbformat_minor": 4
}
