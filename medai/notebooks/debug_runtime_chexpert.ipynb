{
 "cells": [
  {
   "cell_type": "markdown",
   "metadata": {},
   "source": [
    "## Imports"
   ]
  },
  {
   "cell_type": "code",
   "execution_count": 1,
   "metadata": {},
   "outputs": [
    {
     "name": "stdout",
     "output_type": "stream",
     "text": [
      "env: CUDA_VISIBLE_DEVICES=1\n"
     ]
    }
   ],
   "source": [
    "%env CUDA_VISIBLE_DEVICES=1"
   ]
  },
  {
   "cell_type": "code",
   "execution_count": 2,
   "metadata": {},
   "outputs": [],
   "source": [
    "import torch\n",
    "import matplotlib.pyplot as plt\n",
    "import pandas as pd\n",
    "import os"
   ]
  },
  {
   "cell_type": "code",
   "execution_count": 3,
   "metadata": {},
   "outputs": [],
   "source": [
    "import matplotlib\n",
    "matplotlib.rcParams['figure.facecolor'] = 'white'"
   ]
  },
  {
   "cell_type": "code",
   "execution_count": 4,
   "metadata": {},
   "outputs": [],
   "source": [
    "pd.options.display.max_columns = None"
   ]
  },
  {
   "cell_type": "code",
   "execution_count": null,
   "metadata": {},
   "outputs": [],
   "source": []
  },
  {
   "cell_type": "markdown",
   "metadata": {
    "heading_collapsed": true
   },
   "source": [
    "## Load data"
   ]
  },
  {
   "cell_type": "code",
   "execution_count": 5,
   "metadata": {
    "hidden": true
   },
   "outputs": [],
   "source": [
    "%run ../datasets/__init__.py"
   ]
  },
  {
   "cell_type": "code",
   "execution_count": 6,
   "metadata": {
    "hidden": true
   },
   "outputs": [
    {
     "data": {
      "text/plain": [
       "7426"
      ]
     },
     "execution_count": 6,
     "metadata": {},
     "output_type": "execute_result"
    }
   ],
   "source": [
    "dataset_kwargs = {\n",
    "    'dataset_name': 'iu-x-ray',\n",
    "    'dataset_type': 'all',\n",
    "    'max_samples': None,\n",
    "}\n",
    "dataloader = prepare_data_classification(**dataset_kwargs)\n",
    "dataset = dataloader.dataset\n",
    "len(dataset)"
   ]
  },
  {
   "cell_type": "code",
   "execution_count": null,
   "metadata": {
    "hidden": true
   },
   "outputs": [],
   "source": []
  },
  {
   "cell_type": "markdown",
   "metadata": {},
   "source": [
    "## Compare runtime chexpert vs holistic"
   ]
  },
  {
   "cell_type": "markdown",
   "metadata": {},
   "source": [
    "### Load holistic chexpert"
   ]
  },
  {
   "cell_type": "code",
   "execution_count": 7,
   "metadata": {},
   "outputs": [],
   "source": [
    "%run ../datasets/iu_xray.py"
   ]
  },
  {
   "cell_type": "code",
   "execution_count": 8,
   "metadata": {},
   "outputs": [
    {
     "data": {
      "text/html": [
       "<div>\n",
       "<style scoped>\n",
       "    .dataframe tbody tr th:only-of-type {\n",
       "        vertical-align: middle;\n",
       "    }\n",
       "\n",
       "    .dataframe tbody tr th {\n",
       "        vertical-align: top;\n",
       "    }\n",
       "\n",
       "    .dataframe thead th {\n",
       "        text-align: right;\n",
       "    }\n",
       "</style>\n",
       "<table border=\"1\" class=\"dataframe\">\n",
       "  <thead>\n",
       "    <tr style=\"text-align: right;\">\n",
       "      <th></th>\n",
       "      <th>Reports</th>\n",
       "      <th>No Finding</th>\n",
       "      <th>Enlarged Cardiomediastinum</th>\n",
       "      <th>Cardiomegaly</th>\n",
       "      <th>Lung Lesion</th>\n",
       "      <th>Lung Opacity</th>\n",
       "      <th>Edema</th>\n",
       "      <th>Consolidation</th>\n",
       "      <th>Pneumonia</th>\n",
       "      <th>Atelectasis</th>\n",
       "      <th>Pneumothorax</th>\n",
       "      <th>Pleural Effusion</th>\n",
       "      <th>Pleural Other</th>\n",
       "      <th>Fracture</th>\n",
       "      <th>Support Devices</th>\n",
       "      <th>filename</th>\n",
       "    </tr>\n",
       "  </thead>\n",
       "  <tbody>\n",
       "    <tr>\n",
       "      <th>0</th>\n",
       "      <td>the cardiac silhouette and mediastinum size ar...</td>\n",
       "      <td>1.0</td>\n",
       "      <td>0.0</td>\n",
       "      <td>0.0</td>\n",
       "      <td>0.0</td>\n",
       "      <td>0.0</td>\n",
       "      <td>0.0</td>\n",
       "      <td>0.0</td>\n",
       "      <td>0.0</td>\n",
       "      <td>0.0</td>\n",
       "      <td>0.0</td>\n",
       "      <td>0.0</td>\n",
       "      <td>0.0</td>\n",
       "      <td>0.0</td>\n",
       "      <td>0.0</td>\n",
       "      <td>1.xml</td>\n",
       "    </tr>\n",
       "    <tr>\n",
       "      <th>1</th>\n",
       "      <td>the cardiomediastinal silhouette is within nor...</td>\n",
       "      <td>0.0</td>\n",
       "      <td>0.0</td>\n",
       "      <td>0.0</td>\n",
       "      <td>0.0</td>\n",
       "      <td>0.0</td>\n",
       "      <td>0.0</td>\n",
       "      <td>0.0</td>\n",
       "      <td>0.0</td>\n",
       "      <td>0.0</td>\n",
       "      <td>0.0</td>\n",
       "      <td>0.0</td>\n",
       "      <td>0.0</td>\n",
       "      <td>0.0</td>\n",
       "      <td>0.0</td>\n",
       "      <td>10.xml</td>\n",
       "    </tr>\n",
       "    <tr>\n",
       "      <th>2</th>\n",
       "      <td>both lungs are clear and expanded . heart and ...</td>\n",
       "      <td>1.0</td>\n",
       "      <td>0.0</td>\n",
       "      <td>0.0</td>\n",
       "      <td>0.0</td>\n",
       "      <td>0.0</td>\n",
       "      <td>0.0</td>\n",
       "      <td>0.0</td>\n",
       "      <td>0.0</td>\n",
       "      <td>0.0</td>\n",
       "      <td>0.0</td>\n",
       "      <td>0.0</td>\n",
       "      <td>0.0</td>\n",
       "      <td>0.0</td>\n",
       "      <td>0.0</td>\n",
       "      <td>100.xml</td>\n",
       "    </tr>\n",
       "    <tr>\n",
       "      <th>3</th>\n",
       "      <td>there is xxxx increased opacity within the rig...</td>\n",
       "      <td>0.0</td>\n",
       "      <td>0.0</td>\n",
       "      <td>0.0</td>\n",
       "      <td>1.0</td>\n",
       "      <td>1.0</td>\n",
       "      <td>0.0</td>\n",
       "      <td>1.0</td>\n",
       "      <td>0.0</td>\n",
       "      <td>1.0</td>\n",
       "      <td>0.0</td>\n",
       "      <td>0.0</td>\n",
       "      <td>0.0</td>\n",
       "      <td>0.0</td>\n",
       "      <td>0.0</td>\n",
       "      <td>1000.xml</td>\n",
       "    </tr>\n",
       "    <tr>\n",
       "      <th>4</th>\n",
       "      <td>interstitial markings are diffusely prominent ...</td>\n",
       "      <td>0.0</td>\n",
       "      <td>0.0</td>\n",
       "      <td>0.0</td>\n",
       "      <td>0.0</td>\n",
       "      <td>1.0</td>\n",
       "      <td>0.0</td>\n",
       "      <td>0.0</td>\n",
       "      <td>0.0</td>\n",
       "      <td>0.0</td>\n",
       "      <td>0.0</td>\n",
       "      <td>0.0</td>\n",
       "      <td>0.0</td>\n",
       "      <td>0.0</td>\n",
       "      <td>0.0</td>\n",
       "      <td>1001.xml</td>\n",
       "    </tr>\n",
       "  </tbody>\n",
       "</table>\n",
       "</div>"
      ],
      "text/plain": [
       "                                             Reports  No Finding  \\\n",
       "0  the cardiac silhouette and mediastinum size ar...         1.0   \n",
       "1  the cardiomediastinal silhouette is within nor...         0.0   \n",
       "2  both lungs are clear and expanded . heart and ...         1.0   \n",
       "3  there is xxxx increased opacity within the rig...         0.0   \n",
       "4  interstitial markings are diffusely prominent ...         0.0   \n",
       "\n",
       "   Enlarged Cardiomediastinum  Cardiomegaly  Lung Lesion  Lung Opacity  Edema  \\\n",
       "0                         0.0           0.0          0.0           0.0    0.0   \n",
       "1                         0.0           0.0          0.0           0.0    0.0   \n",
       "2                         0.0           0.0          0.0           0.0    0.0   \n",
       "3                         0.0           0.0          1.0           1.0    0.0   \n",
       "4                         0.0           0.0          0.0           1.0    0.0   \n",
       "\n",
       "   Consolidation  Pneumonia  Atelectasis  Pneumothorax  Pleural Effusion  \\\n",
       "0            0.0        0.0          0.0           0.0               0.0   \n",
       "1            0.0        0.0          0.0           0.0               0.0   \n",
       "2            0.0        0.0          0.0           0.0               0.0   \n",
       "3            1.0        0.0          1.0           0.0               0.0   \n",
       "4            0.0        0.0          0.0           0.0               0.0   \n",
       "\n",
       "   Pleural Other  Fracture  Support Devices  filename  \n",
       "0            0.0       0.0              0.0     1.xml  \n",
       "1            0.0       0.0              0.0    10.xml  \n",
       "2            0.0       0.0              0.0   100.xml  \n",
       "3            0.0       0.0              0.0  1000.xml  \n",
       "4            0.0       0.0              0.0  1001.xml  "
      ]
     },
     "execution_count": 8,
     "metadata": {},
     "output_type": "execute_result"
    }
   ],
   "source": [
    "fpath = os.path.join(DATASET_DIR, 'reports', 'reports_with_chexpert_labels.csv')\n",
    "df = pd.read_csv(fpath, index_col=0)\n",
    "df.replace(-1, 1, inplace=True)\n",
    "df.replace(-2, 0, inplace=True)\n",
    "df.head()"
   ]
  },
  {
   "cell_type": "code",
   "execution_count": null,
   "metadata": {},
   "outputs": [],
   "source": []
  },
  {
   "cell_type": "markdown",
   "metadata": {},
   "source": [
    "### Calculate light-labeler chexpert"
   ]
  },
  {
   "cell_type": "code",
   "execution_count": 8,
   "metadata": {},
   "outputs": [],
   "source": [
    "%run ../metrics/report_generation/labeler_correctness/light_labeler.py\n",
    "%run ../utils/nlp.py"
   ]
  },
  {
   "cell_type": "code",
   "execution_count": 9,
   "metadata": {},
   "outputs": [
    {
     "data": {
      "text/plain": [
       "<__main__.ChexpertLightLabeler at 0x7fe2393a3f28>"
      ]
     },
     "execution_count": 9,
     "metadata": {},
     "output_type": "execute_result"
    }
   ],
   "source": [
    "labeler = ChexpertLightLabeler(dataloader.dataset.get_vocab())\n",
    "labeler"
   ]
  },
  {
   "cell_type": "code",
   "execution_count": 10,
   "metadata": {},
   "outputs": [],
   "source": [
    "report_reader = ReportReader(dataloader.dataset.get_vocab())"
   ]
  },
  {
   "cell_type": "code",
   "execution_count": 12,
   "metadata": {},
   "outputs": [
    {
     "data": {
      "text/plain": [
       "3826"
      ]
     },
     "execution_count": 12,
     "metadata": {},
     "output_type": "execute_result"
    }
   ],
   "source": [
    "reports = list(df['Reports'])\n",
    "reports = [\n",
    "    report_reader.text_to_idx(report)\n",
    "    for report in reports\n",
    "]\n",
    "len(reports)"
   ]
  },
  {
   "cell_type": "code",
   "execution_count": 14,
   "metadata": {},
   "outputs": [
    {
     "name": "stdout",
     "output_type": "stream",
     "text": [
      "CPU times: user 525 ms, sys: 43.4 ms, total: 568 ms\n",
      "Wall time: 58.2 s\n"
     ]
    },
    {
     "data": {
      "text/plain": [
       "(3826, 14)"
      ]
     },
     "execution_count": 14,
     "metadata": {},
     "output_type": "execute_result"
    }
   ],
   "source": [
    "%%time\n",
    "\n",
    "labels = labeler(reports)\n",
    "labels.shape"
   ]
  },
  {
   "cell_type": "code",
   "execution_count": 20,
   "metadata": {
    "scrolled": true
   },
   "outputs": [
    {
     "data": {
      "text/plain": [
       "array([[1., 0., 0., ..., 0., 0., 0.],\n",
       "       [1., 0., 0., ..., 0., 0., 0.],\n",
       "       [1., 0., 0., ..., 0., 0., 0.],\n",
       "       ...,\n",
       "       [1., 0., 0., ..., 0., 0., 0.],\n",
       "       [0., 1., 0., ..., 0., 0., 0.],\n",
       "       [1., 0., 0., ..., 0., 0., 0.]])"
      ]
     },
     "execution_count": 20,
     "metadata": {},
     "output_type": "execute_result"
    }
   ],
   "source": [
    "labels[labels == -2] = 0\n",
    "labels[labels == -1] = 1\n",
    "labels"
   ]
  },
  {
   "cell_type": "code",
   "execution_count": null,
   "metadata": {},
   "outputs": [],
   "source": []
  },
  {
   "cell_type": "code",
   "execution_count": null,
   "metadata": {},
   "outputs": [],
   "source": []
  },
  {
   "cell_type": "markdown",
   "metadata": {},
   "source": [
    "### Calculate with full-labeler"
   ]
  },
  {
   "cell_type": "code",
   "execution_count": 9,
   "metadata": {},
   "outputs": [],
   "source": [
    "%run ../metrics/report_generation/labeler_correctness/full_labeler.py\n",
    "%run ../utils/nlp.py"
   ]
  },
  {
   "cell_type": "code",
   "execution_count": 10,
   "metadata": {},
   "outputs": [
    {
     "data": {
      "text/plain": [
       "<__main__.ChexpertFullLabeler at 0x7fa8d46db9b0>"
      ]
     },
     "execution_count": 10,
     "metadata": {},
     "output_type": "execute_result"
    }
   ],
   "source": [
    "labeler = ChexpertFullLabeler(dataloader.dataset.get_vocab())\n",
    "labeler"
   ]
  },
  {
   "cell_type": "code",
   "execution_count": 11,
   "metadata": {},
   "outputs": [],
   "source": [
    "report_reader = ReportReader(dataloader.dataset.get_vocab())"
   ]
  },
  {
   "cell_type": "code",
   "execution_count": 12,
   "metadata": {},
   "outputs": [
    {
     "data": {
      "text/plain": [
       "3826"
      ]
     },
     "execution_count": 12,
     "metadata": {},
     "output_type": "execute_result"
    }
   ],
   "source": [
    "reports = list(df['Reports'])\n",
    "reports = [\n",
    "    report_reader.text_to_idx(report)\n",
    "    for report in reports\n",
    "]\n",
    "len(reports)"
   ]
  },
  {
   "cell_type": "code",
   "execution_count": 13,
   "metadata": {},
   "outputs": [
    {
     "name": "stdout",
     "output_type": "stream",
     "text": [
      "CPU times: user 136 ms, sys: 30.6 ms, total: 166 ms\n",
      "Wall time: 15min 25s\n"
     ]
    },
    {
     "data": {
      "text/plain": [
       "(3826, 14)"
      ]
     },
     "execution_count": 13,
     "metadata": {},
     "output_type": "execute_result"
    }
   ],
   "source": [
    "%%time\n",
    "\n",
    "labels = labeler(reports)\n",
    "labels.shape"
   ]
  },
  {
   "cell_type": "code",
   "execution_count": 14,
   "metadata": {},
   "outputs": [
    {
     "data": {
      "text/plain": [
       "array([[1., 0., 0., ..., 0., 0., 0.],\n",
       "       [0., 0., 0., ..., 0., 0., 0.],\n",
       "       [1., 0., 0., ..., 0., 0., 0.],\n",
       "       ...,\n",
       "       [0., 0., 0., ..., 0., 0., 0.],\n",
       "       [0., 1., 0., ..., 0., 0., 0.],\n",
       "       [1., 0., 0., ..., 0., 0., 0.]])"
      ]
     },
     "execution_count": 14,
     "metadata": {},
     "output_type": "execute_result"
    }
   ],
   "source": [
    "labels[labels == -2] = 0\n",
    "labels[labels == -1] = 1\n",
    "labels"
   ]
  },
  {
   "cell_type": "code",
   "execution_count": null,
   "metadata": {},
   "outputs": [],
   "source": []
  },
  {
   "cell_type": "markdown",
   "metadata": {},
   "source": [
    "### Calculate metrics between runtime and holistic"
   ]
  },
  {
   "cell_type": "code",
   "execution_count": 15,
   "metadata": {},
   "outputs": [],
   "source": [
    "%run ../metrics/report_generation/chexpert.py\n",
    "%run -n ../eval_report_generation_chexpert_labeler.py"
   ]
  },
  {
   "cell_type": "code",
   "execution_count": 17,
   "metadata": {
    "collapsed": true
   },
   "outputs": [
    {
     "data": {
      "text/html": [
       "<div>\n",
       "<style scoped>\n",
       "    .dataframe tbody tr th:only-of-type {\n",
       "        vertical-align: middle;\n",
       "    }\n",
       "\n",
       "    .dataframe tbody tr th {\n",
       "        vertical-align: top;\n",
       "    }\n",
       "\n",
       "    .dataframe thead th {\n",
       "        text-align: right;\n",
       "    }\n",
       "</style>\n",
       "<table border=\"1\" class=\"dataframe\">\n",
       "  <thead>\n",
       "    <tr style=\"text-align: right;\">\n",
       "      <th></th>\n",
       "      <th>Reports</th>\n",
       "      <th>No Finding-gt</th>\n",
       "      <th>Enlarged Cardiomediastinum-gt</th>\n",
       "      <th>Cardiomegaly-gt</th>\n",
       "      <th>Lung Lesion-gt</th>\n",
       "      <th>Lung Opacity-gt</th>\n",
       "      <th>Edema-gt</th>\n",
       "      <th>Consolidation-gt</th>\n",
       "      <th>Pneumonia-gt</th>\n",
       "      <th>Atelectasis-gt</th>\n",
       "      <th>Pneumothorax-gt</th>\n",
       "      <th>Pleural Effusion-gt</th>\n",
       "      <th>Pleural Other-gt</th>\n",
       "      <th>Fracture-gt</th>\n",
       "      <th>Support Devices-gt</th>\n",
       "      <th>filename</th>\n",
       "    </tr>\n",
       "  </thead>\n",
       "  <tbody>\n",
       "    <tr>\n",
       "      <th>0</th>\n",
       "      <td>the cardiac silhouette and mediastinum size ar...</td>\n",
       "      <td>1.0</td>\n",
       "      <td>0.0</td>\n",
       "      <td>0.0</td>\n",
       "      <td>0.0</td>\n",
       "      <td>0.0</td>\n",
       "      <td>0.0</td>\n",
       "      <td>0.0</td>\n",
       "      <td>0.0</td>\n",
       "      <td>0.0</td>\n",
       "      <td>0.0</td>\n",
       "      <td>0.0</td>\n",
       "      <td>0.0</td>\n",
       "      <td>0.0</td>\n",
       "      <td>0.0</td>\n",
       "      <td>1.xml</td>\n",
       "    </tr>\n",
       "    <tr>\n",
       "      <th>1</th>\n",
       "      <td>the cardiomediastinal silhouette is within nor...</td>\n",
       "      <td>0.0</td>\n",
       "      <td>0.0</td>\n",
       "      <td>0.0</td>\n",
       "      <td>0.0</td>\n",
       "      <td>0.0</td>\n",
       "      <td>0.0</td>\n",
       "      <td>0.0</td>\n",
       "      <td>0.0</td>\n",
       "      <td>0.0</td>\n",
       "      <td>0.0</td>\n",
       "      <td>0.0</td>\n",
       "      <td>0.0</td>\n",
       "      <td>0.0</td>\n",
       "      <td>0.0</td>\n",
       "      <td>10.xml</td>\n",
       "    </tr>\n",
       "    <tr>\n",
       "      <th>2</th>\n",
       "      <td>both lungs are clear and expanded . heart and ...</td>\n",
       "      <td>1.0</td>\n",
       "      <td>0.0</td>\n",
       "      <td>0.0</td>\n",
       "      <td>0.0</td>\n",
       "      <td>0.0</td>\n",
       "      <td>0.0</td>\n",
       "      <td>0.0</td>\n",
       "      <td>0.0</td>\n",
       "      <td>0.0</td>\n",
       "      <td>0.0</td>\n",
       "      <td>0.0</td>\n",
       "      <td>0.0</td>\n",
       "      <td>0.0</td>\n",
       "      <td>0.0</td>\n",
       "      <td>100.xml</td>\n",
       "    </tr>\n",
       "    <tr>\n",
       "      <th>3</th>\n",
       "      <td>there is xxxx increased opacity within the rig...</td>\n",
       "      <td>0.0</td>\n",
       "      <td>0.0</td>\n",
       "      <td>0.0</td>\n",
       "      <td>1.0</td>\n",
       "      <td>1.0</td>\n",
       "      <td>0.0</td>\n",
       "      <td>1.0</td>\n",
       "      <td>0.0</td>\n",
       "      <td>1.0</td>\n",
       "      <td>0.0</td>\n",
       "      <td>0.0</td>\n",
       "      <td>0.0</td>\n",
       "      <td>0.0</td>\n",
       "      <td>0.0</td>\n",
       "      <td>1000.xml</td>\n",
       "    </tr>\n",
       "    <tr>\n",
       "      <th>4</th>\n",
       "      <td>interstitial markings are diffusely prominent ...</td>\n",
       "      <td>0.0</td>\n",
       "      <td>0.0</td>\n",
       "      <td>0.0</td>\n",
       "      <td>0.0</td>\n",
       "      <td>1.0</td>\n",
       "      <td>0.0</td>\n",
       "      <td>0.0</td>\n",
       "      <td>0.0</td>\n",
       "      <td>0.0</td>\n",
       "      <td>0.0</td>\n",
       "      <td>0.0</td>\n",
       "      <td>0.0</td>\n",
       "      <td>0.0</td>\n",
       "      <td>0.0</td>\n",
       "      <td>1001.xml</td>\n",
       "    </tr>\n",
       "  </tbody>\n",
       "</table>\n",
       "</div>"
      ],
      "text/plain": [
       "                                             Reports  No Finding-gt  \\\n",
       "0  the cardiac silhouette and mediastinum size ar...            1.0   \n",
       "1  the cardiomediastinal silhouette is within nor...            0.0   \n",
       "2  both lungs are clear and expanded . heart and ...            1.0   \n",
       "3  there is xxxx increased opacity within the rig...            0.0   \n",
       "4  interstitial markings are diffusely prominent ...            0.0   \n",
       "\n",
       "   Enlarged Cardiomediastinum-gt  Cardiomegaly-gt  Lung Lesion-gt  \\\n",
       "0                            0.0              0.0             0.0   \n",
       "1                            0.0              0.0             0.0   \n",
       "2                            0.0              0.0             0.0   \n",
       "3                            0.0              0.0             1.0   \n",
       "4                            0.0              0.0             0.0   \n",
       "\n",
       "   Lung Opacity-gt  Edema-gt  Consolidation-gt  Pneumonia-gt  Atelectasis-gt  \\\n",
       "0              0.0       0.0               0.0           0.0             0.0   \n",
       "1              0.0       0.0               0.0           0.0             0.0   \n",
       "2              0.0       0.0               0.0           0.0             0.0   \n",
       "3              1.0       0.0               1.0           0.0             1.0   \n",
       "4              1.0       0.0               0.0           0.0             0.0   \n",
       "\n",
       "   Pneumothorax-gt  Pleural Effusion-gt  Pleural Other-gt  Fracture-gt  \\\n",
       "0              0.0                  0.0               0.0          0.0   \n",
       "1              0.0                  0.0               0.0          0.0   \n",
       "2              0.0                  0.0               0.0          0.0   \n",
       "3              0.0                  0.0               0.0          0.0   \n",
       "4              0.0                  0.0               0.0          0.0   \n",
       "\n",
       "   Support Devices-gt  filename  \n",
       "0                 0.0     1.xml  \n",
       "1                 0.0    10.xml  \n",
       "2                 0.0   100.xml  \n",
       "3                 0.0  1000.xml  \n",
       "4                 0.0  1001.xml  "
      ]
     },
     "execution_count": 17,
     "metadata": {},
     "output_type": "execute_result"
    }
   ],
   "source": [
    "def add_suffix(col):\n",
    "    if col in CHEXPERT_LABELS:\n",
    "        return f'{col}-gt'\n",
    "    return col\n",
    "df.rename(\n",
    "    columns=add_suffix,\n",
    "    inplace=True,\n",
    ")\n",
    "df.head()"
   ]
  },
  {
   "cell_type": "code",
   "execution_count": 18,
   "metadata": {
    "collapsed": true
   },
   "outputs": [
    {
     "data": {
      "text/html": [
       "<div>\n",
       "<style scoped>\n",
       "    .dataframe tbody tr th:only-of-type {\n",
       "        vertical-align: middle;\n",
       "    }\n",
       "\n",
       "    .dataframe tbody tr th {\n",
       "        vertical-align: top;\n",
       "    }\n",
       "\n",
       "    .dataframe thead th {\n",
       "        text-align: right;\n",
       "    }\n",
       "</style>\n",
       "<table border=\"1\" class=\"dataframe\">\n",
       "  <thead>\n",
       "    <tr style=\"text-align: right;\">\n",
       "      <th></th>\n",
       "      <th>Reports</th>\n",
       "      <th>No Finding-gt</th>\n",
       "      <th>Enlarged Cardiomediastinum-gt</th>\n",
       "      <th>Cardiomegaly-gt</th>\n",
       "      <th>Lung Lesion-gt</th>\n",
       "      <th>Lung Opacity-gt</th>\n",
       "      <th>Edema-gt</th>\n",
       "      <th>Consolidation-gt</th>\n",
       "      <th>Pneumonia-gt</th>\n",
       "      <th>Atelectasis-gt</th>\n",
       "      <th>Pneumothorax-gt</th>\n",
       "      <th>Pleural Effusion-gt</th>\n",
       "      <th>Pleural Other-gt</th>\n",
       "      <th>Fracture-gt</th>\n",
       "      <th>Support Devices-gt</th>\n",
       "      <th>filename</th>\n",
       "      <th>No Finding-gen</th>\n",
       "      <th>Enlarged Cardiomediastinum-gen</th>\n",
       "      <th>Cardiomegaly-gen</th>\n",
       "      <th>Lung Lesion-gen</th>\n",
       "      <th>Lung Opacity-gen</th>\n",
       "      <th>Edema-gen</th>\n",
       "      <th>Consolidation-gen</th>\n",
       "      <th>Pneumonia-gen</th>\n",
       "      <th>Atelectasis-gen</th>\n",
       "      <th>Pneumothorax-gen</th>\n",
       "      <th>Pleural Effusion-gen</th>\n",
       "      <th>Pleural Other-gen</th>\n",
       "      <th>Fracture-gen</th>\n",
       "      <th>Support Devices-gen</th>\n",
       "    </tr>\n",
       "  </thead>\n",
       "  <tbody>\n",
       "    <tr>\n",
       "      <th>0</th>\n",
       "      <td>the cardiac silhouette and mediastinum size ar...</td>\n",
       "      <td>1.0</td>\n",
       "      <td>0.0</td>\n",
       "      <td>0.0</td>\n",
       "      <td>0.0</td>\n",
       "      <td>0.0</td>\n",
       "      <td>0.0</td>\n",
       "      <td>0.0</td>\n",
       "      <td>0.0</td>\n",
       "      <td>0.0</td>\n",
       "      <td>0.0</td>\n",
       "      <td>0.0</td>\n",
       "      <td>0.0</td>\n",
       "      <td>0.0</td>\n",
       "      <td>0.0</td>\n",
       "      <td>1.xml</td>\n",
       "      <td>1.0</td>\n",
       "      <td>0.0</td>\n",
       "      <td>0.0</td>\n",
       "      <td>0.0</td>\n",
       "      <td>0.0</td>\n",
       "      <td>0.0</td>\n",
       "      <td>0.0</td>\n",
       "      <td>0.0</td>\n",
       "      <td>0.0</td>\n",
       "      <td>0.0</td>\n",
       "      <td>0.0</td>\n",
       "      <td>0.0</td>\n",
       "      <td>0.0</td>\n",
       "      <td>0.0</td>\n",
       "    </tr>\n",
       "    <tr>\n",
       "      <th>1</th>\n",
       "      <td>the cardiomediastinal silhouette is within nor...</td>\n",
       "      <td>0.0</td>\n",
       "      <td>0.0</td>\n",
       "      <td>0.0</td>\n",
       "      <td>0.0</td>\n",
       "      <td>0.0</td>\n",
       "      <td>0.0</td>\n",
       "      <td>0.0</td>\n",
       "      <td>0.0</td>\n",
       "      <td>0.0</td>\n",
       "      <td>0.0</td>\n",
       "      <td>0.0</td>\n",
       "      <td>0.0</td>\n",
       "      <td>0.0</td>\n",
       "      <td>0.0</td>\n",
       "      <td>10.xml</td>\n",
       "      <td>0.0</td>\n",
       "      <td>0.0</td>\n",
       "      <td>0.0</td>\n",
       "      <td>0.0</td>\n",
       "      <td>0.0</td>\n",
       "      <td>0.0</td>\n",
       "      <td>0.0</td>\n",
       "      <td>0.0</td>\n",
       "      <td>0.0</td>\n",
       "      <td>0.0</td>\n",
       "      <td>0.0</td>\n",
       "      <td>0.0</td>\n",
       "      <td>0.0</td>\n",
       "      <td>0.0</td>\n",
       "    </tr>\n",
       "    <tr>\n",
       "      <th>2</th>\n",
       "      <td>both lungs are clear and expanded . heart and ...</td>\n",
       "      <td>1.0</td>\n",
       "      <td>0.0</td>\n",
       "      <td>0.0</td>\n",
       "      <td>0.0</td>\n",
       "      <td>0.0</td>\n",
       "      <td>0.0</td>\n",
       "      <td>0.0</td>\n",
       "      <td>0.0</td>\n",
       "      <td>0.0</td>\n",
       "      <td>0.0</td>\n",
       "      <td>0.0</td>\n",
       "      <td>0.0</td>\n",
       "      <td>0.0</td>\n",
       "      <td>0.0</td>\n",
       "      <td>100.xml</td>\n",
       "      <td>1.0</td>\n",
       "      <td>0.0</td>\n",
       "      <td>0.0</td>\n",
       "      <td>0.0</td>\n",
       "      <td>0.0</td>\n",
       "      <td>0.0</td>\n",
       "      <td>0.0</td>\n",
       "      <td>0.0</td>\n",
       "      <td>0.0</td>\n",
       "      <td>0.0</td>\n",
       "      <td>0.0</td>\n",
       "      <td>0.0</td>\n",
       "      <td>0.0</td>\n",
       "      <td>0.0</td>\n",
       "    </tr>\n",
       "    <tr>\n",
       "      <th>3</th>\n",
       "      <td>there is xxxx increased opacity within the rig...</td>\n",
       "      <td>0.0</td>\n",
       "      <td>0.0</td>\n",
       "      <td>0.0</td>\n",
       "      <td>1.0</td>\n",
       "      <td>1.0</td>\n",
       "      <td>0.0</td>\n",
       "      <td>1.0</td>\n",
       "      <td>0.0</td>\n",
       "      <td>1.0</td>\n",
       "      <td>0.0</td>\n",
       "      <td>0.0</td>\n",
       "      <td>0.0</td>\n",
       "      <td>0.0</td>\n",
       "      <td>0.0</td>\n",
       "      <td>1000.xml</td>\n",
       "      <td>0.0</td>\n",
       "      <td>0.0</td>\n",
       "      <td>0.0</td>\n",
       "      <td>1.0</td>\n",
       "      <td>1.0</td>\n",
       "      <td>0.0</td>\n",
       "      <td>1.0</td>\n",
       "      <td>0.0</td>\n",
       "      <td>1.0</td>\n",
       "      <td>0.0</td>\n",
       "      <td>0.0</td>\n",
       "      <td>0.0</td>\n",
       "      <td>0.0</td>\n",
       "      <td>0.0</td>\n",
       "    </tr>\n",
       "    <tr>\n",
       "      <th>4</th>\n",
       "      <td>interstitial markings are diffusely prominent ...</td>\n",
       "      <td>0.0</td>\n",
       "      <td>0.0</td>\n",
       "      <td>0.0</td>\n",
       "      <td>0.0</td>\n",
       "      <td>1.0</td>\n",
       "      <td>0.0</td>\n",
       "      <td>0.0</td>\n",
       "      <td>0.0</td>\n",
       "      <td>0.0</td>\n",
       "      <td>0.0</td>\n",
       "      <td>0.0</td>\n",
       "      <td>0.0</td>\n",
       "      <td>0.0</td>\n",
       "      <td>0.0</td>\n",
       "      <td>1001.xml</td>\n",
       "      <td>0.0</td>\n",
       "      <td>0.0</td>\n",
       "      <td>0.0</td>\n",
       "      <td>0.0</td>\n",
       "      <td>1.0</td>\n",
       "      <td>0.0</td>\n",
       "      <td>0.0</td>\n",
       "      <td>0.0</td>\n",
       "      <td>0.0</td>\n",
       "      <td>0.0</td>\n",
       "      <td>0.0</td>\n",
       "      <td>0.0</td>\n",
       "      <td>0.0</td>\n",
       "      <td>0.0</td>\n",
       "    </tr>\n",
       "    <tr>\n",
       "      <th>...</th>\n",
       "      <td>...</td>\n",
       "      <td>...</td>\n",
       "      <td>...</td>\n",
       "      <td>...</td>\n",
       "      <td>...</td>\n",
       "      <td>...</td>\n",
       "      <td>...</td>\n",
       "      <td>...</td>\n",
       "      <td>...</td>\n",
       "      <td>...</td>\n",
       "      <td>...</td>\n",
       "      <td>...</td>\n",
       "      <td>...</td>\n",
       "      <td>...</td>\n",
       "      <td>...</td>\n",
       "      <td>...</td>\n",
       "      <td>...</td>\n",
       "      <td>...</td>\n",
       "      <td>...</td>\n",
       "      <td>...</td>\n",
       "      <td>...</td>\n",
       "      <td>...</td>\n",
       "      <td>...</td>\n",
       "      <td>...</td>\n",
       "      <td>...</td>\n",
       "      <td>...</td>\n",
       "      <td>...</td>\n",
       "      <td>...</td>\n",
       "      <td>...</td>\n",
       "      <td>...</td>\n",
       "    </tr>\n",
       "    <tr>\n",
       "      <th>3821</th>\n",
       "      <td>sternotomy sutures and bypass grafts have been...</td>\n",
       "      <td>1.0</td>\n",
       "      <td>0.0</td>\n",
       "      <td>0.0</td>\n",
       "      <td>0.0</td>\n",
       "      <td>0.0</td>\n",
       "      <td>0.0</td>\n",
       "      <td>0.0</td>\n",
       "      <td>0.0</td>\n",
       "      <td>0.0</td>\n",
       "      <td>0.0</td>\n",
       "      <td>0.0</td>\n",
       "      <td>0.0</td>\n",
       "      <td>0.0</td>\n",
       "      <td>0.0</td>\n",
       "      <td>995.xml</td>\n",
       "      <td>1.0</td>\n",
       "      <td>0.0</td>\n",
       "      <td>0.0</td>\n",
       "      <td>0.0</td>\n",
       "      <td>0.0</td>\n",
       "      <td>0.0</td>\n",
       "      <td>0.0</td>\n",
       "      <td>0.0</td>\n",
       "      <td>0.0</td>\n",
       "      <td>0.0</td>\n",
       "      <td>0.0</td>\n",
       "      <td>0.0</td>\n",
       "      <td>0.0</td>\n",
       "      <td>0.0</td>\n",
       "    </tr>\n",
       "    <tr>\n",
       "      <th>3822</th>\n",
       "      <td>heart size is normal and lungs are clear . no ...</td>\n",
       "      <td>1.0</td>\n",
       "      <td>0.0</td>\n",
       "      <td>0.0</td>\n",
       "      <td>0.0</td>\n",
       "      <td>0.0</td>\n",
       "      <td>0.0</td>\n",
       "      <td>0.0</td>\n",
       "      <td>0.0</td>\n",
       "      <td>0.0</td>\n",
       "      <td>0.0</td>\n",
       "      <td>0.0</td>\n",
       "      <td>0.0</td>\n",
       "      <td>0.0</td>\n",
       "      <td>0.0</td>\n",
       "      <td>996.xml</td>\n",
       "      <td>1.0</td>\n",
       "      <td>0.0</td>\n",
       "      <td>0.0</td>\n",
       "      <td>0.0</td>\n",
       "      <td>0.0</td>\n",
       "      <td>0.0</td>\n",
       "      <td>0.0</td>\n",
       "      <td>0.0</td>\n",
       "      <td>0.0</td>\n",
       "      <td>0.0</td>\n",
       "      <td>0.0</td>\n",
       "      <td>0.0</td>\n",
       "      <td>0.0</td>\n",
       "      <td>0.0</td>\n",
       "    </tr>\n",
       "    <tr>\n",
       "      <th>3823</th>\n",
       "      <td>calcified mediastinal xxxx . no focal areas of...</td>\n",
       "      <td>0.0</td>\n",
       "      <td>0.0</td>\n",
       "      <td>0.0</td>\n",
       "      <td>0.0</td>\n",
       "      <td>0.0</td>\n",
       "      <td>0.0</td>\n",
       "      <td>0.0</td>\n",
       "      <td>0.0</td>\n",
       "      <td>0.0</td>\n",
       "      <td>0.0</td>\n",
       "      <td>0.0</td>\n",
       "      <td>0.0</td>\n",
       "      <td>0.0</td>\n",
       "      <td>0.0</td>\n",
       "      <td>997.xml</td>\n",
       "      <td>0.0</td>\n",
       "      <td>0.0</td>\n",
       "      <td>0.0</td>\n",
       "      <td>0.0</td>\n",
       "      <td>0.0</td>\n",
       "      <td>0.0</td>\n",
       "      <td>0.0</td>\n",
       "      <td>0.0</td>\n",
       "      <td>0.0</td>\n",
       "      <td>0.0</td>\n",
       "      <td>0.0</td>\n",
       "      <td>0.0</td>\n",
       "      <td>0.0</td>\n",
       "      <td>0.0</td>\n",
       "    </tr>\n",
       "    <tr>\n",
       "      <th>3824</th>\n",
       "      <td>cardiomediastinal silhouette demonstrates norm...</td>\n",
       "      <td>0.0</td>\n",
       "      <td>1.0</td>\n",
       "      <td>0.0</td>\n",
       "      <td>0.0</td>\n",
       "      <td>0.0</td>\n",
       "      <td>0.0</td>\n",
       "      <td>0.0</td>\n",
       "      <td>0.0</td>\n",
       "      <td>0.0</td>\n",
       "      <td>0.0</td>\n",
       "      <td>0.0</td>\n",
       "      <td>0.0</td>\n",
       "      <td>0.0</td>\n",
       "      <td>0.0</td>\n",
       "      <td>998.xml</td>\n",
       "      <td>0.0</td>\n",
       "      <td>1.0</td>\n",
       "      <td>0.0</td>\n",
       "      <td>0.0</td>\n",
       "      <td>0.0</td>\n",
       "      <td>0.0</td>\n",
       "      <td>0.0</td>\n",
       "      <td>0.0</td>\n",
       "      <td>0.0</td>\n",
       "      <td>0.0</td>\n",
       "      <td>0.0</td>\n",
       "      <td>0.0</td>\n",
       "      <td>0.0</td>\n",
       "      <td>0.0</td>\n",
       "    </tr>\n",
       "    <tr>\n",
       "      <th>3825</th>\n",
       "      <td>lungs are clear bilaterally . there is no foca...</td>\n",
       "      <td>1.0</td>\n",
       "      <td>0.0</td>\n",
       "      <td>0.0</td>\n",
       "      <td>0.0</td>\n",
       "      <td>0.0</td>\n",
       "      <td>0.0</td>\n",
       "      <td>0.0</td>\n",
       "      <td>0.0</td>\n",
       "      <td>0.0</td>\n",
       "      <td>0.0</td>\n",
       "      <td>0.0</td>\n",
       "      <td>0.0</td>\n",
       "      <td>0.0</td>\n",
       "      <td>0.0</td>\n",
       "      <td>999.xml</td>\n",
       "      <td>1.0</td>\n",
       "      <td>0.0</td>\n",
       "      <td>0.0</td>\n",
       "      <td>0.0</td>\n",
       "      <td>0.0</td>\n",
       "      <td>0.0</td>\n",
       "      <td>0.0</td>\n",
       "      <td>0.0</td>\n",
       "      <td>0.0</td>\n",
       "      <td>0.0</td>\n",
       "      <td>0.0</td>\n",
       "      <td>0.0</td>\n",
       "      <td>0.0</td>\n",
       "      <td>0.0</td>\n",
       "    </tr>\n",
       "  </tbody>\n",
       "</table>\n",
       "<p>3826 rows × 30 columns</p>\n",
       "</div>"
      ],
      "text/plain": [
       "                                                Reports  No Finding-gt  \\\n",
       "0     the cardiac silhouette and mediastinum size ar...            1.0   \n",
       "1     the cardiomediastinal silhouette is within nor...            0.0   \n",
       "2     both lungs are clear and expanded . heart and ...            1.0   \n",
       "3     there is xxxx increased opacity within the rig...            0.0   \n",
       "4     interstitial markings are diffusely prominent ...            0.0   \n",
       "...                                                 ...            ...   \n",
       "3821  sternotomy sutures and bypass grafts have been...            1.0   \n",
       "3822  heart size is normal and lungs are clear . no ...            1.0   \n",
       "3823  calcified mediastinal xxxx . no focal areas of...            0.0   \n",
       "3824  cardiomediastinal silhouette demonstrates norm...            0.0   \n",
       "3825  lungs are clear bilaterally . there is no foca...            1.0   \n",
       "\n",
       "      Enlarged Cardiomediastinum-gt  Cardiomegaly-gt  Lung Lesion-gt  \\\n",
       "0                               0.0              0.0             0.0   \n",
       "1                               0.0              0.0             0.0   \n",
       "2                               0.0              0.0             0.0   \n",
       "3                               0.0              0.0             1.0   \n",
       "4                               0.0              0.0             0.0   \n",
       "...                             ...              ...             ...   \n",
       "3821                            0.0              0.0             0.0   \n",
       "3822                            0.0              0.0             0.0   \n",
       "3823                            0.0              0.0             0.0   \n",
       "3824                            1.0              0.0             0.0   \n",
       "3825                            0.0              0.0             0.0   \n",
       "\n",
       "      Lung Opacity-gt  Edema-gt  Consolidation-gt  Pneumonia-gt  \\\n",
       "0                 0.0       0.0               0.0           0.0   \n",
       "1                 0.0       0.0               0.0           0.0   \n",
       "2                 0.0       0.0               0.0           0.0   \n",
       "3                 1.0       0.0               1.0           0.0   \n",
       "4                 1.0       0.0               0.0           0.0   \n",
       "...               ...       ...               ...           ...   \n",
       "3821              0.0       0.0               0.0           0.0   \n",
       "3822              0.0       0.0               0.0           0.0   \n",
       "3823              0.0       0.0               0.0           0.0   \n",
       "3824              0.0       0.0               0.0           0.0   \n",
       "3825              0.0       0.0               0.0           0.0   \n",
       "\n",
       "      Atelectasis-gt  Pneumothorax-gt  Pleural Effusion-gt  Pleural Other-gt  \\\n",
       "0                0.0              0.0                  0.0               0.0   \n",
       "1                0.0              0.0                  0.0               0.0   \n",
       "2                0.0              0.0                  0.0               0.0   \n",
       "3                1.0              0.0                  0.0               0.0   \n",
       "4                0.0              0.0                  0.0               0.0   \n",
       "...              ...              ...                  ...               ...   \n",
       "3821             0.0              0.0                  0.0               0.0   \n",
       "3822             0.0              0.0                  0.0               0.0   \n",
       "3823             0.0              0.0                  0.0               0.0   \n",
       "3824             0.0              0.0                  0.0               0.0   \n",
       "3825             0.0              0.0                  0.0               0.0   \n",
       "\n",
       "      Fracture-gt  Support Devices-gt  filename  No Finding-gen  \\\n",
       "0             0.0                 0.0     1.xml             1.0   \n",
       "1             0.0                 0.0    10.xml             0.0   \n",
       "2             0.0                 0.0   100.xml             1.0   \n",
       "3             0.0                 0.0  1000.xml             0.0   \n",
       "4             0.0                 0.0  1001.xml             0.0   \n",
       "...           ...                 ...       ...             ...   \n",
       "3821          0.0                 0.0   995.xml             1.0   \n",
       "3822          0.0                 0.0   996.xml             1.0   \n",
       "3823          0.0                 0.0   997.xml             0.0   \n",
       "3824          0.0                 0.0   998.xml             0.0   \n",
       "3825          0.0                 0.0   999.xml             1.0   \n",
       "\n",
       "      Enlarged Cardiomediastinum-gen  Cardiomegaly-gen  Lung Lesion-gen  \\\n",
       "0                                0.0               0.0              0.0   \n",
       "1                                0.0               0.0              0.0   \n",
       "2                                0.0               0.0              0.0   \n",
       "3                                0.0               0.0              1.0   \n",
       "4                                0.0               0.0              0.0   \n",
       "...                              ...               ...              ...   \n",
       "3821                             0.0               0.0              0.0   \n",
       "3822                             0.0               0.0              0.0   \n",
       "3823                             0.0               0.0              0.0   \n",
       "3824                             1.0               0.0              0.0   \n",
       "3825                             0.0               0.0              0.0   \n",
       "\n",
       "      Lung Opacity-gen  Edema-gen  Consolidation-gen  Pneumonia-gen  \\\n",
       "0                  0.0        0.0                0.0            0.0   \n",
       "1                  0.0        0.0                0.0            0.0   \n",
       "2                  0.0        0.0                0.0            0.0   \n",
       "3                  1.0        0.0                1.0            0.0   \n",
       "4                  1.0        0.0                0.0            0.0   \n",
       "...                ...        ...                ...            ...   \n",
       "3821               0.0        0.0                0.0            0.0   \n",
       "3822               0.0        0.0                0.0            0.0   \n",
       "3823               0.0        0.0                0.0            0.0   \n",
       "3824               0.0        0.0                0.0            0.0   \n",
       "3825               0.0        0.0                0.0            0.0   \n",
       "\n",
       "      Atelectasis-gen  Pneumothorax-gen  Pleural Effusion-gen  \\\n",
       "0                 0.0               0.0                   0.0   \n",
       "1                 0.0               0.0                   0.0   \n",
       "2                 0.0               0.0                   0.0   \n",
       "3                 1.0               0.0                   0.0   \n",
       "4                 0.0               0.0                   0.0   \n",
       "...               ...               ...                   ...   \n",
       "3821              0.0               0.0                   0.0   \n",
       "3822              0.0               0.0                   0.0   \n",
       "3823              0.0               0.0                   0.0   \n",
       "3824              0.0               0.0                   0.0   \n",
       "3825              0.0               0.0                   0.0   \n",
       "\n",
       "      Pleural Other-gen  Fracture-gen  Support Devices-gen  \n",
       "0                   0.0           0.0                  0.0  \n",
       "1                   0.0           0.0                  0.0  \n",
       "2                   0.0           0.0                  0.0  \n",
       "3                   0.0           0.0                  0.0  \n",
       "4                   0.0           0.0                  0.0  \n",
       "...                 ...           ...                  ...  \n",
       "3821                0.0           0.0                  0.0  \n",
       "3822                0.0           0.0                  0.0  \n",
       "3823                0.0           0.0                  0.0  \n",
       "3824                0.0           0.0                  0.0  \n",
       "3825                0.0           0.0                  0.0  \n",
       "\n",
       "[3826 rows x 30 columns]"
      ]
     },
     "execution_count": 18,
     "metadata": {},
     "output_type": "execute_result"
    }
   ],
   "source": [
    "columns = labels_with_suffix('gen')\n",
    "full_df = pd.concat([df, pd.DataFrame(labels, columns=columns)], axis=1)\n",
    "full_df"
   ]
  },
  {
   "cell_type": "code",
   "execution_count": 19,
   "metadata": {},
   "outputs": [
    {
     "data": {
      "text/plain": [
       "(array([0.99895452, 0.99973863, 0.99947726, 1.        , 1.        ,\n",
       "        1.        , 1.        , 0.99973863, 1.        , 0.99973863,\n",
       "        1.        , 1.        , 1.        , 0.99973863]),\n",
       " array([0.99734396, 1.        , 0.99677419, 1.        , 1.        ,\n",
       "        1.        , 1.        , 1.        , 1.        , 0.98148148,\n",
       "        1.        , 1.        , 1.        , 1.        ]),\n",
       " array([1.        , 0.9974359 , 1.        , 1.        , 1.        ,\n",
       "        1.        , 1.        , 0.98275862, 1.        , 1.        ,\n",
       "        1.        , 1.        , 1.        , 0.99561404]),\n",
       " array([0.99867021, 0.9987163 , 0.99838449, 1.        , 1.        ,\n",
       "        1.        , 1.        , 0.99130435, 1.        , 0.99065421,\n",
       "        1.        , 1.        , 1.        , 0.9978022 ]),\n",
       " array([0.99913941, 0.99871795, 0.99968828, 1.        , 1.        ,\n",
       "        1.        , 1.        , 0.99137931, 1.        , 0.99986748,\n",
       "        1.        , 1.        , 1.        , 0.99780702]))"
      ]
     },
     "execution_count": 19,
     "metadata": {},
     "output_type": "execute_result"
    }
   ],
   "source": [
    "acc, precision, recall, f1, roc_auc = _calculate_metrics(full_df)\n",
    "acc, precision, recall, f1, roc_auc"
   ]
  },
  {
   "cell_type": "code",
   "execution_count": 20,
   "metadata": {
    "scrolled": true
   },
   "outputs": [
    {
     "data": {
      "text/plain": [
       "array([0.99913941, 0.99871795, 0.99968828, 1.        , 1.        ,\n",
       "       1.        , 1.        , 0.99137931, 1.        , 0.99986748,\n",
       "       1.        , 1.        , 1.        , 0.99780702])"
      ]
     },
     "execution_count": 20,
     "metadata": {},
     "output_type": "execute_result"
    }
   ],
   "source": [
    "roc_auc"
   ]
  }
 ],
 "metadata": {
  "kernelspec": {
   "display_name": "Python 3",
   "language": "python",
   "name": "python3"
  },
  "language_info": {
   "codemirror_mode": {
    "name": "ipython",
    "version": 3
   },
   "file_extension": ".py",
   "mimetype": "text/x-python",
   "name": "python",
   "nbconvert_exporter": "python",
   "pygments_lexer": "ipython3",
   "version": "3.6.9"
  },
  "toc": {
   "base_numbering": 1,
   "nav_menu": {},
   "number_sections": true,
   "sideBar": true,
   "skip_h1_title": false,
   "title_cell": "Table of Contents",
   "title_sidebar": "Contents",
   "toc_cell": false,
   "toc_position": {},
   "toc_section_display": true,
   "toc_window_display": false
  }
 },
 "nbformat": 4,
 "nbformat_minor": 4
}
