{
 "cells": [
  {
   "cell_type": "markdown",
   "metadata": {},
   "source": [
    "# Import"
   ]
  },
  {
   "cell_type": "code",
   "execution_count": null,
   "metadata": {},
   "outputs": [],
   "source": [
    "import os\n",
    "from collections import Counter"
   ]
  },
  {
   "cell_type": "code",
   "execution_count": null,
   "metadata": {},
   "outputs": [],
   "source": [
    "import matplotlib.pyplot as plt\n",
    "import matplotlib\n",
    "matplotlib.rcParams['figure.facecolor'] = 'white'\n",
    "matplotlib.rcParams['figure.figsize'] = (15, 5)"
   ]
  },
  {
   "cell_type": "code",
   "execution_count": null,
   "metadata": {},
   "outputs": [],
   "source": [
    "import pandas as pd\n",
    "pd.options.display.max_columns = None"
   ]
  },
  {
   "cell_type": "code",
   "execution_count": null,
   "metadata": {},
   "outputs": [],
   "source": [
    "%run ../../utils/__init__.py\n",
    "config_logging(logging.INFO)"
   ]
  },
  {
   "cell_type": "code",
   "execution_count": null,
   "metadata": {},
   "outputs": [],
   "source": [
    "%run ../../datasets/common/constants.py"
   ]
  },
  {
   "cell_type": "code",
   "execution_count": null,
   "metadata": {},
   "outputs": [],
   "source": [
    "from medai.datasets.iu_xray import DATASET_DIR as IU_DIR\n",
    "from medai.datasets.mimic_cxr import DATASET_DIR as MIMIC_DIR"
   ]
  },
  {
   "cell_type": "code",
   "execution_count": null,
   "metadata": {},
   "outputs": [],
   "source": [
    "ACTUAL_DISEASES = CHEXPERT_DISEASES[1:]"
   ]
  },
  {
   "cell_type": "markdown",
   "metadata": {
    "heading_collapsed": true
   },
   "source": [
    "# Utils"
   ]
  },
  {
   "cell_type": "code",
   "execution_count": null,
   "metadata": {
    "hidden": true
   },
   "outputs": [],
   "source": [
    "import re"
   ]
  },
  {
   "cell_type": "code",
   "execution_count": null,
   "metadata": {
    "hidden": true
   },
   "outputs": [],
   "source": [
    "def mentions_any_term(sentence, terms):\n",
    "    return any(\n",
    "        bool(re.search(term, sentence))\n",
    "        for term in terms\n",
    "    )"
   ]
  },
  {
   "cell_type": "code",
   "execution_count": null,
   "metadata": {
    "hidden": true
   },
   "outputs": [],
   "source": [
    "def array_mentions_any_term(sentences, terms):\n",
    "    return [\n",
    "        mentions_any_term(sentence, terms)\n",
    "        for sentence in sentences\n",
    "    ]"
   ]
  },
  {
   "cell_type": "code",
   "execution_count": null,
   "metadata": {
    "hidden": true
   },
   "outputs": [],
   "source": [
    "def print_subdf_stats(subdf, name, full_df):\n",
    "    total_sentences = len(full_df)\n",
    "    total_appearances = full_df['appearances'].sum()\n",
    "    \n",
    "    n_sent = len(subdf)\n",
    "    n_appear = subdf['appearances'].sum()\n",
    "\n",
    "    perc_sent = n_sent / total_sentences * 100\n",
    "    perc_appear = n_appear / total_appearances * 100\n",
    "    print(f'{name}:')\n",
    "    print(f'\\tsentences={n_sent:,}/{total_sentences:,} ({perc_sent:.2f}%)')\n",
    "    print(f'\\tappearances={n_appear:,}/{total_appearances:,} ({perc_appear:.2f}%)')"
   ]
  },
  {
   "cell_type": "markdown",
   "metadata": {},
   "source": [
    "# Annotate out-of-reach info\n",
    "\n",
    "TODO: other non-convered info:\n",
    "\n",
    "* Non-disease descriptive info: e.g. 'ap and lateral view of the chest .'"
   ]
  },
  {
   "cell_type": "markdown",
   "metadata": {},
   "source": [
    "## Load sentences"
   ]
  },
  {
   "cell_type": "markdown",
   "metadata": {},
   "source": [
    "### Select IU version with XXXX"
   ]
  },
  {
   "cell_type": "code",
   "execution_count": null,
   "metadata": {},
   "outputs": [],
   "source": [
    "import json"
   ]
  },
  {
   "cell_type": "code",
   "execution_count": null,
   "metadata": {},
   "outputs": [],
   "source": [
    "%run ../../datasets/preprocess/common.py"
   ]
  },
  {
   "cell_type": "code",
   "execution_count": null,
   "metadata": {},
   "outputs": [],
   "source": [
    "for dataset_dir in (IU_DIR, MIMIC_DIR):\n",
    "    with open(os.path.join(dataset_dir, 'reports', 'reports.clean.v4.json')) as f:\n",
    "        reports_dict = json.load(f)\n",
    "    split_sentences_and_save_csv(os.path.join(dataset_dir, 'reports'), reports_dict, suffix='v4')"
   ]
  },
  {
   "cell_type": "code",
   "execution_count": null,
   "metadata": {},
   "outputs": [],
   "source": [
    "# dataset_dir = IU_DIR\n",
    "dataset_dir = MIMIC_DIR\n",
    "\n",
    "fpath = os.path.join(dataset_dir, 'reports', 'sentences.v4.csv')\n",
    "SENTENCES_DF = pd.read_csv(fpath)\n",
    "print(len(SENTENCES_DF)), print(SENTENCES_DF['appearances'].sum())\n",
    "SENTENCES_DF.head(3)"
   ]
  },
  {
   "cell_type": "markdown",
   "metadata": {
    "heading_collapsed": true
   },
   "source": [
    "## Annotate obfuscated sentences\n",
    "\n",
    "Contain xxxx"
   ]
  },
  {
   "cell_type": "code",
   "execution_count": null,
   "metadata": {
    "hidden": true
   },
   "outputs": [],
   "source": [
    "def contains_obfuscated(sentence):\n",
    "    return 'xxxx' in sentence"
   ]
  },
  {
   "cell_type": "code",
   "execution_count": null,
   "metadata": {
    "hidden": true
   },
   "outputs": [],
   "source": [
    "SENTENCES_DF['obfuscated'] = [\n",
    "    contains_obfuscated(sentence)\n",
    "    for sentence in SENTENCES_DF['sentence']\n",
    "]\n",
    "SENTENCES_DF.head()"
   ]
  },
  {
   "cell_type": "code",
   "execution_count": null,
   "metadata": {
    "hidden": true
   },
   "outputs": [],
   "source": [
    "obf_df = SENTENCES_DF.loc[SENTENCES_DF['obfuscated'] == True]\n",
    "print_subdf_stats(obf_df, 'Obfuscated', SENTENCES_DF)"
   ]
  },
  {
   "cell_type": "code",
   "execution_count": null,
   "metadata": {
    "hidden": true
   },
   "outputs": [],
   "source": [
    "l = list(obf_df['sentence'])\n",
    "sorted([a for a in l if 'heart' in a], key=lambda x: len(x))"
   ]
  },
  {
   "cell_type": "markdown",
   "metadata": {
    "heading_collapsed": true
   },
   "source": [
    "## Annotate time-related sentences\n",
    "\n",
    "Comparison sentences, \"shown again\", \"given history\", etc"
   ]
  },
  {
   "cell_type": "code",
   "execution_count": null,
   "metadata": {
    "hidden": true
   },
   "outputs": [],
   "source": [
    "_TIME_MENTIONS = set([\n",
    "    'unchanged', 'improved', 'given history',\n",
    "    'previous', 'with prior',\n",
    "    'no change', 'unchanged',\n",
    "    'again noted',\n",
    "    'comparison',\n",
    "    'prior exam', 'consistent with prior',\n",
    "    'prior study', 'compared to prior', 'compared to exams',\n",
    "    'compared to ,', 'compared to .', # Edge cases, xxxx was removed\n",
    "    'from the prior',\n",
    "    'prior',\n",
    "    'has been removed',\n",
    "    'have been removed',\n",
    "    'interval', 'persistent', 'remain',\n",
    "    'stable', 'now', 'again',\n",
    "    'as before',\n",
    "    'postoperative changes',\n",
    "    'temporal development',\n",
    "])"
   ]
  },
  {
   "cell_type": "code",
   "execution_count": null,
   "metadata": {
    "hidden": true
   },
   "outputs": [],
   "source": [
    "SENTENCES_DF['time'] = array_mentions_any_term(SENTENCES_DF['sentence'], _TIME_MENTIONS)\n",
    "SENTENCES_DF.head(3)"
   ]
  },
  {
   "cell_type": "code",
   "execution_count": null,
   "metadata": {
    "hidden": true
   },
   "outputs": [],
   "source": [
    "time_df = SENTENCES_DF.loc[SENTENCES_DF['time'] == True]\n",
    "print_subdf_stats(time_df, 'Time', SENTENCES_DF)"
   ]
  },
  {
   "cell_type": "code",
   "execution_count": null,
   "metadata": {
    "hidden": true
   },
   "outputs": [],
   "source": [
    "list(time_df['sentence'])"
   ]
  },
  {
   "cell_type": "code",
   "execution_count": null,
   "metadata": {
    "hidden": true
   },
   "outputs": [],
   "source": [
    "l = []\n",
    "df = SENTENCES_DF.loc[SENTENCES_DF['time'] == False]\n",
    "for sentence in df['sentence']:\n",
    "    if mentions_any_term(sentence, ['change']):\n",
    "        l.append(sentence)\n",
    "len(l), l[:20]"
   ]
  },
  {
   "cell_type": "markdown",
   "metadata": {
    "heading_collapsed": true
   },
   "source": [
    "## Annotate technical sentences\n",
    "\n",
    "e.g.: \"technically limited study secondary to patient\""
   ]
  },
  {
   "cell_type": "code",
   "execution_count": null,
   "metadata": {
    "hidden": true
   },
   "outputs": [],
   "source": [
    "_TECHNICAL_MENTIONS = set([\n",
    "    'limited',\n",
    "    'limitation',\n",
    "    'technique', 'technical',\n",
    "])"
   ]
  },
  {
   "cell_type": "code",
   "execution_count": null,
   "metadata": {
    "hidden": true
   },
   "outputs": [],
   "source": [
    "SENTENCES_DF['technical'] = array_mentions_any_term(\n",
    "    SENTENCES_DF['sentence'],\n",
    "    _TECHNICAL_MENTIONS,\n",
    ")\n",
    "SENTENCES_DF.head(3)"
   ]
  },
  {
   "cell_type": "code",
   "execution_count": null,
   "metadata": {
    "hidden": true
   },
   "outputs": [],
   "source": [
    "technical_df = SENTENCES_DF.loc[SENTENCES_DF['technical'] == True]\n",
    "print_subdf_stats(technical_df, 'Technical', SENTENCES_DF)"
   ]
  },
  {
   "cell_type": "code",
   "execution_count": null,
   "metadata": {
    "hidden": true
   },
   "outputs": [],
   "source": [
    "list(technical_df['sentence'])"
   ]
  },
  {
   "cell_type": "code",
   "execution_count": null,
   "metadata": {
    "hidden": true
   },
   "outputs": [],
   "source": [
    "l = []\n",
    "df = SENTENCES_DF.loc[SENTENCES_DF['technical'] == False]\n",
    "for sentence in df['sentence']:\n",
    "    if mentions_any_term(sentence, ['technique', 'technical']):\n",
    "        l.append(sentence)\n",
    "len(l), l[:20]"
   ]
  },
  {
   "cell_type": "markdown",
   "metadata": {},
   "source": [
    "## Annotate follow-up"
   ]
  },
  {
   "cell_type": "code",
   "execution_count": null,
   "metadata": {},
   "outputs": [],
   "source": [
    "_FU_MENTIONS = set([\n",
    "    'correlate', 'correlation',\n",
    "    'recommend',\n",
    "    'follow.?up', 'followed up',\n",
    "    'evaluated further',\n",
    "    r'further (investigation|imag|character|evaluat|clarification|concern|local|workup)',\n",
    "    'discuss this case further',\n",
    "    r'\\b(ct|cta|contrast)\\b.*further',\n",
    "    r'further.*\\b(ct|cta|contrast)\\b',\n",
    "    'review at this time', 'ordered at the time',\n",
    "    'refer to',\n",
    "    'radiographic assessment',\n",
    "    r'\\bif (the|concern)', # condition, typically followed by a recommendation\n",
    "    r'\\b(ct|cta|ultrasound)',\n",
    "    \n",
    "    # Other:\n",
    "    'the patient was xxxx transferred to the operating room',\n",
    "    'repeat images were not obtained',\n",
    "])"
   ]
  },
  {
   "cell_type": "code",
   "execution_count": null,
   "metadata": {},
   "outputs": [],
   "source": [
    "SENTENCES_DF['followup'] = array_mentions_any_term(\n",
    "    SENTENCES_DF['sentence'],\n",
    "    _FU_MENTIONS,\n",
    ")\n",
    "SENTENCES_DF.head(3)"
   ]
  },
  {
   "cell_type": "code",
   "execution_count": null,
   "metadata": {},
   "outputs": [],
   "source": [
    "fu_df = SENTENCES_DF.loc[SENTENCES_DF['followup'] == True]\n",
    "print_subdf_stats(fu_df, 'Follow-up', SENTENCES_DF)"
   ]
  },
  {
   "cell_type": "code",
   "execution_count": null,
   "metadata": {},
   "outputs": [],
   "source": [
    "list(fu_df['sentence'])"
   ]
  },
  {
   "cell_type": "code",
   "execution_count": null,
   "metadata": {},
   "outputs": [],
   "source": [
    "l = []\n",
    "df = SENTENCES_DF.loc[SENTENCES_DF['followup'] == False]\n",
    "for sentence in df['sentence']:\n",
    "    if mentions_any_term(sentence, ['\\bif']):\n",
    "        l.append(sentence)\n",
    "len(l), l[:20]"
   ]
  },
  {
   "cell_type": "markdown",
   "metadata": {
    "heading_collapsed": true
   },
   "source": [
    "## Annotate comms with other people"
   ]
  },
  {
   "cell_type": "code",
   "execution_count": null,
   "metadata": {
    "hidden": true
   },
   "outputs": [],
   "source": [
    "_COMM_MENTIONS = set([\n",
    "    'telephone',\n",
    "    'staff',\n",
    "    'radiologist',\n",
    "    'physician',\n",
    "    r'notifi',\n",
    "    'communicated',\n",
    "    'contacted',\n",
    "    'paged',\n",
    "])"
   ]
  },
  {
   "cell_type": "code",
   "execution_count": null,
   "metadata": {
    "hidden": true
   },
   "outputs": [],
   "source": [
    "SENTENCES_DF['comm'] = array_mentions_any_term(\n",
    "    SENTENCES_DF['sentence'],\n",
    "    _COMM_MENTIONS,\n",
    ")\n",
    "SENTENCES_DF.head(3)"
   ]
  },
  {
   "cell_type": "code",
   "execution_count": null,
   "metadata": {
    "hidden": true
   },
   "outputs": [],
   "source": [
    "comm_df = SENTENCES_DF.loc[SENTENCES_DF['comm'] == True]\n",
    "print_subdf_stats(comm_df, 'Communications', SENTENCES_DF)"
   ]
  },
  {
   "cell_type": "code",
   "execution_count": null,
   "metadata": {
    "hidden": true
   },
   "outputs": [],
   "source": [
    "list(comm_df['sentence'])"
   ]
  },
  {
   "cell_type": "code",
   "execution_count": null,
   "metadata": {
    "hidden": true
   },
   "outputs": [],
   "source": [
    "l = []\n",
    "df = SENTENCES_DF.loc[SENTENCES_DF['comm'] == False]\n",
    "for sentence in df['sentence']:\n",
    "    if mentions_any_term(sentence, [r'paged']):\n",
    "        l.append(sentence)\n",
    "len(l), l[-20:]"
   ]
  },
  {
   "cell_type": "markdown",
   "metadata": {},
   "source": [
    "## Summarize all out-of-reach"
   ]
  },
  {
   "cell_type": "code",
   "execution_count": null,
   "metadata": {},
   "outputs": [],
   "source": [
    "cols = [c for c in SENTENCES_DF.columns if c not in ('sentence', 'appearances')]\n",
    "cols"
   ]
  },
  {
   "cell_type": "code",
   "execution_count": null,
   "metadata": {},
   "outputs": [],
   "source": [
    "for col in cols:\n",
    "    subdf = SENTENCES_DF.loc[SENTENCES_DF[col] == True]\n",
    "    print_subdf_stats(subdf, col, SENTENCES_DF)"
   ]
  },
  {
   "cell_type": "markdown",
   "metadata": {},
   "source": [
    "## Collect any out-of-reach info"
   ]
  },
  {
   "cell_type": "code",
   "execution_count": null,
   "metadata": {},
   "outputs": [],
   "source": [
    "SENTENCES_DF.head(3)"
   ]
  },
  {
   "cell_type": "code",
   "execution_count": null,
   "metadata": {},
   "outputs": [],
   "source": [
    "cols = [c for c in SENTENCES_DF.columns if c not in ('sentence', 'appearances')]\n",
    "any_df = SENTENCES_DF.loc[(SENTENCES_DF[cols] == True).any(axis=1)]\n",
    "print_subdf_stats(any_df, 'Any out-of-reach', SENTENCES_DF)"
   ]
  },
  {
   "cell_type": "code",
   "execution_count": null,
   "metadata": {},
   "outputs": [],
   "source": [
    "clean_df = SENTENCES_DF.loc[(SENTENCES_DF[cols] == False).all(axis=1)]\n",
    "print(len(clean_df))\n",
    "clean_df.head(3)"
   ]
  },
  {
   "cell_type": "code",
   "execution_count": null,
   "metadata": {},
   "outputs": [],
   "source": [
    "l = []\n",
    "for sentence in clean_df['sentence']:\n",
    "    if mentions_any_term(sentence, [r'\\bif']):\n",
    "        l.append(sentence)\n",
    "len(l), l[:10]"
   ]
  },
  {
   "cell_type": "code",
   "execution_count": null,
   "metadata": {},
   "outputs": [],
   "source": [
    "sorted(list(clean_df['sentence']), key=lambda x: len(x))"
   ]
  },
  {
   "cell_type": "code",
   "execution_count": null,
   "metadata": {},
   "outputs": [],
   "source": [
    "list(any_df['sentence'])"
   ]
  },
  {
   "cell_type": "code",
   "execution_count": null,
   "metadata": {},
   "outputs": [],
   "source": [
    "[\n",
    "    s\n",
    "    for s in SENTENCES_DF['sentence']\n",
    "    if re.search(r'pleural (recess|reflection)', s)\n",
    "]"
   ]
  },
  {
   "cell_type": "markdown",
   "metadata": {},
   "source": [
    "# Save annotations to file\n",
    "\n",
    "With extra info"
   ]
  },
  {
   "cell_type": "code",
   "execution_count": null,
   "metadata": {},
   "outputs": [],
   "source": [
    "dataset_dir = IU_DIR\n",
    "fpath = os.path.join(dataset_dir, 'reports', 'sentences_with_extra_info.csv')"
   ]
  },
  {
   "cell_type": "code",
   "execution_count": null,
   "metadata": {},
   "outputs": [],
   "source": [
    "assert not os.path.isfile(fpath)\n",
    "# SENTENCES_DF.to_csv(fpath, index=False)"
   ]
  },
  {
   "cell_type": "code",
   "execution_count": null,
   "metadata": {},
   "outputs": [],
   "source": [
    "SENTENCES_DF = pd.read_csv(fpath)\n",
    "SENTENCES_DF.head(5)"
   ]
  },
  {
   "cell_type": "code",
   "execution_count": null,
   "metadata": {},
   "outputs": [],
   "source": [
    "d = SENTENCES_DF\n",
    "d = d.loc[d['followup'] == True]\n",
    "print(len(d))\n",
    "d.head(2)"
   ]
  }
 ],
 "metadata": {
  "kernelspec": {
   "display_name": "Python 3",
   "language": "python",
   "name": "python3"
  },
  "language_info": {
   "codemirror_mode": {
    "name": "ipython",
    "version": 3
   },
   "file_extension": ".py",
   "mimetype": "text/x-python",
   "name": "python",
   "nbconvert_exporter": "python",
   "pygments_lexer": "ipython3",
   "version": "3.6.9"
  },
  "toc": {
   "base_numbering": 1,
   "nav_menu": {},
   "number_sections": true,
   "sideBar": true,
   "skip_h1_title": false,
   "title_cell": "Table of Contents",
   "title_sidebar": "Contents",
   "toc_cell": false,
   "toc_position": {},
   "toc_section_display": true,
   "toc_window_display": false
  }
 },
 "nbformat": 4,
 "nbformat_minor": 4
}
