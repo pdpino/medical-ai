{
 "cells": [
  {
   "cell_type": "markdown",
   "metadata": {},
   "source": [
    "# Imports"
   ]
  },
  {
   "cell_type": "code",
   "execution_count": null,
   "metadata": {},
   "outputs": [],
   "source": [
    "import os\n",
    "from collections import Counter\n",
    "import importlib"
   ]
  },
  {
   "cell_type": "code",
   "execution_count": null,
   "metadata": {},
   "outputs": [],
   "source": [
    "import matplotlib.pyplot as plt\n",
    "import matplotlib\n",
    "matplotlib.rcParams['figure.facecolor'] = 'white'\n",
    "matplotlib.rcParams['figure.figsize'] = (15, 5)"
   ]
  },
  {
   "cell_type": "code",
   "execution_count": null,
   "metadata": {},
   "outputs": [],
   "source": [
    "import pandas as pd\n",
    "pd.options.display.max_columns = None"
   ]
  },
  {
   "cell_type": "code",
   "execution_count": null,
   "metadata": {},
   "outputs": [],
   "source": [
    "%run ../../utils/__init__.py\n",
    "config_logging(logging.INFO)"
   ]
  },
  {
   "cell_type": "code",
   "execution_count": null,
   "metadata": {},
   "outputs": [],
   "source": [
    "%run ../../datasets/common/constants.py"
   ]
  },
  {
   "cell_type": "code",
   "execution_count": null,
   "metadata": {},
   "outputs": [],
   "source": [
    "from medai.datasets import iu_xray, mimic_cxr\n",
    "IU_DIR = iu_xray.DATASET_DIR\n",
    "MIMIC_DIR = mimic_cxr.DATASET_DIR"
   ]
  },
  {
   "cell_type": "markdown",
   "metadata": {},
   "source": [
    "# Find opacities co-occurrences"
   ]
  },
  {
   "cell_type": "markdown",
   "metadata": {},
   "source": [
    "## Load reports"
   ]
  },
  {
   "cell_type": "code",
   "execution_count": null,
   "metadata": {},
   "outputs": [],
   "source": [
    "dataset_dir = IU_DIR\n",
    "# dataset_dir = MIMIC_DIR"
   ]
  },
  {
   "cell_type": "code",
   "execution_count": null,
   "metadata": {},
   "outputs": [],
   "source": [
    "with open(os.path.join(IU_DIR, 'reports', 'reports.min.json')) as f:\n",
    "    RAW_REPORTS = json.load(f)\n",
    "len(RAW_REPORTS)"
   ]
  },
  {
   "cell_type": "code",
   "execution_count": null,
   "metadata": {},
   "outputs": [],
   "source": [
    "fpath = os.path.join(dataset_dir, 'reports', 'sentences_with_chexpert_labels.csv')\n",
    "SENTENCES_DF = pd.read_csv(fpath)\n",
    "SENTENCES_DF.head(3)"
   ]
  },
  {
   "cell_type": "code",
   "execution_count": null,
   "metadata": {},
   "outputs": [],
   "source": [
    "cols = ['Lung Opacity', 'Consolidation', 'Pneumonia', 'Atelectasis', 'Lung Lesion']\n",
    "d = SENTENCES_DF\n",
    "d = d.loc[((d[cols] == 1).any(axis=1) | (d[cols] == -1).any(axis=1))]\n",
    "print(len(d))\n",
    "d.head(3)"
   ]
  },
  {
   "cell_type": "code",
   "execution_count": null,
   "metadata": {},
   "outputs": [],
   "source": [
    "dataset_dir = MIMIC_DIR"
   ]
  },
  {
   "cell_type": "code",
   "execution_count": null,
   "metadata": {},
   "outputs": [],
   "source": [
    "fpath = os.path.join(dataset_dir, 'reports', 'reports_with_chexpert_labels.csv')\n",
    "REPORTS_DF = pd.read_csv(fpath)\n",
    "REPORTS_DF.head(3)"
   ]
  },
  {
   "cell_type": "code",
   "execution_count": null,
   "metadata": {},
   "outputs": [],
   "source": [
    "# cols = ['Lung Opacity', 'Consolidation', 'Pneumonia', 'Atelectasis', 'Lung Lesion']\n",
    "cols = ['Edema']\n",
    "d = REPORTS_DF\n",
    "d = d.loc[((d[cols] == 1).any(axis=1) | (d[cols] == -1).any(axis=1))]\n",
    "# d = d.loc[(d[cols] == -1).sum(axis=1) >= 2]\n",
    "print(len(d))\n",
    "d.head(3)"
   ]
  },
  {
   "cell_type": "code",
   "execution_count": null,
   "metadata": {},
   "outputs": [],
   "source": [
    "l = list(d['Reports'])\n",
    "len(l), l[:10]"
   ]
  },
  {
   "cell_type": "markdown",
   "metadata": {},
   "source": [
    "## Load images"
   ]
  },
  {
   "cell_type": "code",
   "execution_count": null,
   "metadata": {},
   "outputs": [],
   "source": [
    "%run ../../utils/images.py"
   ]
  },
  {
   "cell_type": "code",
   "execution_count": null,
   "metadata": {},
   "outputs": [],
   "source": [
    "import json"
   ]
  },
  {
   "cell_type": "code",
   "execution_count": null,
   "metadata": {},
   "outputs": [],
   "source": [
    "importlib.reload(iu_xray)"
   ]
  },
  {
   "cell_type": "code",
   "execution_count": null,
   "metadata": {},
   "outputs": [],
   "source": [
    "dataset = iu_xray.IUXRayDataset('all')\n",
    "len(dataset)"
   ]
  },
  {
   "cell_type": "code",
   "execution_count": null,
   "metadata": {},
   "outputs": [],
   "source": [
    "find_idxs = lambda target_report_id: [\n",
    "    idx\n",
    "    for idx, sample in enumerate(dataset.samples)\n",
    "    if sample['report_filename'] == target_report_id\n",
    "]"
   ]
  },
  {
   "cell_type": "code",
   "execution_count": null,
   "metadata": {},
   "outputs": [],
   "source": [
    "def print_diseases(row, target):\n",
    "    if not isinstance(target, (list, tuple)):\n",
    "        target = (target,)\n",
    "    return ', '.join([\n",
    "        disease\n",
    "        for value, disease in zip(row[CHEXPERT_DISEASES], CHEXPERT_DISEASES)\n",
    "        if value in target\n",
    "    ])"
   ]
  },
  {
   "cell_type": "code",
   "execution_count": null,
   "metadata": {},
   "outputs": [],
   "source": [
    "def print_raw_report(report_id):\n",
    "    report = RAW_REPORTS.get(report_id)\n",
    "    if report is None:\n",
    "        return\n",
    "    print('---')\n",
    "    print('FINDINGS: ', report.get('findings'))\n",
    "    print('IMPRESSION: ', report.get('impression'))\n",
    "    print('---')"
   ]
  },
  {
   "cell_type": "code",
   "execution_count": null,
   "metadata": {},
   "outputs": [],
   "source": [
    "def plot_images_for_report(report_id):\n",
    "    items = [\n",
    "        dataset[idx]\n",
    "        for idx in find_idxs(report_id)\n",
    "    ]\n",
    "\n",
    "    if len(items) == 0:\n",
    "        print('No items found')\n",
    "        return\n",
    "\n",
    "    # Print report info\n",
    "    print(report_id)\n",
    "    rows = REPORTS_DF.loc[REPORTS_DF['filename'] == report_id]\n",
    "    if len(rows) != 1:\n",
    "        print('More than one row!')\n",
    "    row = rows.iloc[0]\n",
    "    print('---')\n",
    "    print(row['Reports'])\n",
    "    print('---')\n",
    "    print('Pos: ', print_diseases(row, 1))\n",
    "    print('Unc: ', print_diseases(row, -1))\n",
    "    print('Neg: ', print_diseases(row, 0))\n",
    "    \n",
    "    # Plot images\n",
    "    n_rows = 1\n",
    "    n_cols = len(items)\n",
    "\n",
    "    plt.figure(figsize=(15, 5))\n",
    "\n",
    "    for plt_idx, item in enumerate(items):\n",
    "        plt.subplot(n_rows, n_cols, plt_idx + 1)\n",
    "        plt.imshow(tensor_to_range01(item.image).permute(1, 2, 0))\n",
    "        plt.title(item.image_fname)"
   ]
  },
  {
   "cell_type": "markdown",
   "metadata": {},
   "source": [
    "## Display some images"
   ]
  },
  {
   "cell_type": "code",
   "execution_count": null,
   "metadata": {},
   "outputs": [],
   "source": [
    "plot_images_for_report('1000.xml')"
   ]
  },
  {
   "cell_type": "code",
   "execution_count": null,
   "metadata": {},
   "outputs": [],
   "source": [
    "plot_images_for_report('1001.xml')"
   ]
  },
  {
   "cell_type": "code",
   "execution_count": null,
   "metadata": {},
   "outputs": [],
   "source": [
    "# print_raw_report('1012.xml')\n",
    "plot_images_for_report('1012.xml')"
   ]
  },
  {
   "cell_type": "code",
   "execution_count": null,
   "metadata": {},
   "outputs": [],
   "source": [
    "plot_images_for_report('983.xml')"
   ]
  },
  {
   "cell_type": "code",
   "execution_count": null,
   "metadata": {},
   "outputs": [],
   "source": [
    "rid = '984.xml'\n",
    "print_raw_report(rid)\n",
    "plot_images_for_report(rid)"
   ]
  },
  {
   "cell_type": "code",
   "execution_count": null,
   "metadata": {},
   "outputs": [],
   "source": [
    "rid = '877.xml'\n",
    "print_raw_report(rid)\n",
    "plot_images_for_report(rid)"
   ]
  },
  {
   "cell_type": "code",
   "execution_count": null,
   "metadata": {},
   "outputs": [],
   "source": [
    "d['filename']"
   ]
  },
  {
   "cell_type": "markdown",
   "metadata": {},
   "source": [
    "## Show multiple samples"
   ]
  },
  {
   "cell_type": "code",
   "execution_count": null,
   "metadata": {},
   "outputs": [],
   "source": [
    "cols = [\n",
    "    'Lung Opacity', 'Atelectasis', 'Consolidation', 'Pneumonia', 'Lung Lesion',\n",
    "    # 'Edema',\n",
    "    # 'Enlarged Cardiomediastinum', 'Cardiomegaly',\n",
    "]\n",
    "n_cols = len(cols)\n",
    "\n",
    "array = np.zeros((n_cols, n_cols), dtype=object)\n",
    "\n",
    "for i in range(n_cols):\n",
    "    for j in range(n_cols):\n",
    "        if i == j:\n",
    "            continue\n",
    "        base = cols[i]\n",
    "        other = cols[j]\n",
    "        d = REPORTS_DF\n",
    "        d = d.loc[((d[base] == 1) | (d[base] == -1))]\n",
    "        total = len(d)\n",
    "        \n",
    "        d = d.loc[((d[other] == 1) | (d[other] == -1))]\n",
    "        shared = len(d)\n",
    "        \n",
    "        array[i, j] = f'{shared:,}/{total:,} ({shared/total*100:.0f}%)'\n",
    "coocurrences = pd.DataFrame(array, columns=cols, index=cols)\n",
    "coocurrences"
   ]
  }
 ],
 "metadata": {
  "kernelspec": {
   "display_name": "Python 3",
   "language": "python",
   "name": "python3"
  },
  "language_info": {
   "codemirror_mode": {
    "name": "ipython",
    "version": 3
   },
   "file_extension": ".py",
   "mimetype": "text/x-python",
   "name": "python",
   "nbconvert_exporter": "python",
   "pygments_lexer": "ipython3",
   "version": "3.6.9"
  },
  "toc": {
   "base_numbering": 1,
   "nav_menu": {},
   "number_sections": true,
   "sideBar": true,
   "skip_h1_title": false,
   "title_cell": "Table of Contents",
   "title_sidebar": "Contents",
   "toc_cell": false,
   "toc_position": {},
   "toc_section_display": true,
   "toc_window_display": false
  }
 },
 "nbformat": 4,
 "nbformat_minor": 4
}
