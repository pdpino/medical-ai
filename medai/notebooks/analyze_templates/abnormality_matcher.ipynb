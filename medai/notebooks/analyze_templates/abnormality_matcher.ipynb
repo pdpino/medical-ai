{
 "cells": [
  {
   "cell_type": "markdown",
   "metadata": {},
   "source": [
    "# Try abnormality matcher"
   ]
  },
  {
   "cell_type": "code",
   "execution_count": null,
   "metadata": {},
   "outputs": [],
   "source": [
    "import os\n",
    "from collections import Counter, defaultdict\n",
    "import importlib"
   ]
  },
  {
   "cell_type": "code",
   "execution_count": null,
   "metadata": {},
   "outputs": [],
   "source": [
    "import matplotlib.pyplot as plt\n",
    "import matplotlib\n",
    "matplotlib.rcParams['figure.facecolor'] = 'white'\n",
    "matplotlib.rcParams['figure.figsize'] = (15, 5)"
   ]
  },
  {
   "cell_type": "code",
   "execution_count": null,
   "metadata": {},
   "outputs": [],
   "source": [
    "import pandas as pd\n",
    "pd.options.display.max_columns = None"
   ]
  },
  {
   "cell_type": "code",
   "execution_count": null,
   "metadata": {},
   "outputs": [],
   "source": [
    "%run ../../utils/__init__.py\n",
    "config_logging(logging.INFO)"
   ]
  },
  {
   "cell_type": "code",
   "execution_count": null,
   "metadata": {},
   "outputs": [],
   "source": [
    "%run ../../datasets/common/constants.py\n",
    "%run ../../datasets/vocab/__init__.py"
   ]
  },
  {
   "cell_type": "code",
   "execution_count": null,
   "metadata": {},
   "outputs": [],
   "source": [
    "from medai.datasets import iu_xray, mimic_cxr\n",
    "IU_DIR = iu_xray.DATASET_DIR\n",
    "MIMIC_DIR = mimic_cxr.DATASET_DIR"
   ]
  },
  {
   "cell_type": "markdown",
   "metadata": {},
   "source": [
    "# Inspect sentences"
   ]
  },
  {
   "cell_type": "code",
   "execution_count": null,
   "metadata": {},
   "outputs": [],
   "source": [
    "%run ../../metrics/report_generation/abn_match/chexpert.py\n",
    "%run ../../metrics/report_generation/abn_match/textray.py\n",
    "%run ../../metrics/report_generation/chexpert.py\n",
    "%run -n ../../eval_report_generation_chexpert_labeler.py"
   ]
  },
  {
   "cell_type": "code",
   "execution_count": null,
   "metadata": {},
   "outputs": [],
   "source": [
    "dataset_dir = IU_DIR\n",
    "# dataset_dir = MIMIC_DIR"
   ]
  },
  {
   "cell_type": "code",
   "execution_count": null,
   "metadata": {},
   "outputs": [],
   "source": [
    "vocab = load_vocab(os.path.join(dataset_dir, 'reports'), 'v4')\n",
    "len(vocab)"
   ]
  },
  {
   "cell_type": "code",
   "execution_count": null,
   "metadata": {},
   "outputs": [],
   "source": [
    "fpath = os.path.join(dataset_dir, 'reports', 'sentences_with_chexpert_labels.csv')\n",
    "SENTENCES_DF = pd.read_csv(fpath)\n",
    "SENTENCES_DF.head(3)"
   ]
  },
  {
   "cell_type": "code",
   "execution_count": null,
   "metadata": {},
   "outputs": [],
   "source": [
    "def add_suffix(col):\n",
    "    if col in CHEXPERT_LABELS:\n",
    "        return f'{col}-gt'\n",
    "    return col\n",
    "SENTENCES_DF.rename(columns=add_suffix, inplace=True)\n",
    "SENTENCES_DF.head(3)"
   ]
  },
  {
   "cell_type": "code",
   "execution_count": null,
   "metadata": {},
   "outputs": [],
   "source": [
    "sentences = list(SENTENCES_DF['sentence'])\n",
    "len(sentences)"
   ]
  },
  {
   "cell_type": "code",
   "execution_count": null,
   "metadata": {},
   "outputs": [],
   "source": [
    "labeler = ChexpertLighterLabeler(vocab, use_idx=False, device='cpu')\n",
    "# labeler = TextRayLabeler(vocab, device='cpu')\n",
    "labeler"
   ]
  },
  {
   "cell_type": "code",
   "execution_count": null,
   "metadata": {},
   "outputs": [],
   "source": [
    "%%time\n",
    "\n",
    "labels, lung_locations = labeler.label_report(sentences[13])\n",
    "labels.shape"
   ]
  },
  {
   "cell_type": "code",
   "execution_count": null,
   "metadata": {},
   "outputs": [],
   "source": [
    "labels"
   ]
  },
  {
   "cell_type": "code",
   "execution_count": null,
   "metadata": {},
   "outputs": [],
   "source": [
    "sentences[13]"
   ]
  },
  {
   "cell_type": "code",
   "execution_count": null,
   "metadata": {},
   "outputs": [],
   "source": [
    "lung_locations"
   ]
  },
  {
   "cell_type": "code",
   "execution_count": null,
   "metadata": {},
   "outputs": [],
   "source": []
  },
  {
   "cell_type": "code",
   "execution_count": null,
   "metadata": {},
   "outputs": [],
   "source": []
  },
  {
   "cell_type": "code",
   "execution_count": null,
   "metadata": {},
   "outputs": [],
   "source": [
    "if labels.size(1) == 13:\n",
    "    nf_column = torch.zeros(labels.size(0), device=labels.device).unsqueeze(-1)\n",
    "    labels = torch.cat((nf_column, labels), dim=1)\n",
    "labels.size()"
   ]
  },
  {
   "cell_type": "code",
   "execution_count": null,
   "metadata": {},
   "outputs": [],
   "source": [
    "labels = labels.cpu().numpy()\n",
    "assert len(labels) == len(SENTENCES_DF)"
   ]
  },
  {
   "cell_type": "code",
   "execution_count": null,
   "metadata": {},
   "outputs": [],
   "source": [
    "full_df = pd.concat([\n",
    "    SENTENCES_DF,\n",
    "    pd.DataFrame(labels, index=SENTENCES_DF.index, columns=labels_with_suffix('gen')),\n",
    "], axis=1)\n",
    "\n",
    "assert len(full_df) == len(labels)"
   ]
  },
  {
   "cell_type": "code",
   "execution_count": null,
   "metadata": {},
   "outputs": [],
   "source": [
    "full_df2 = full_df.replace({-2: 0, -1: 1})"
   ]
  },
  {
   "cell_type": "code",
   "execution_count": null,
   "metadata": {},
   "outputs": [],
   "source": [
    "acc, precision, recall, f1, roc_auc, pr_auc = _calculate_metrics(full_df2)\n",
    "precision[1:], precision[1:].mean(), recall[1:], recall[1:].mean(), f1[1:], f1[1:].mean()"
   ]
  },
  {
   "cell_type": "code",
   "execution_count": null,
   "metadata": {},
   "outputs": [],
   "source": [
    "target = labeler.diseases[9]\n",
    "colgt = f'{target}-gt'\n",
    "colgen = f'{target}-gen'\n",
    "\n",
    "d = full_df\n",
    "# d = d[((d[colgt] != -1) & (d[colgen] == -1))]\n",
    "d = d[((d[colgt] == -1) & (d[colgen] != -1))]\n",
    "d = d[['sentence', colgt, colgen]]\n",
    "print(len(d))\n",
    "d.head(5)"
   ]
  },
  {
   "cell_type": "code",
   "execution_count": null,
   "metadata": {},
   "outputs": [],
   "source": [
    "sorted(list(d['sentence']))"
   ]
  },
  {
   "cell_type": "code",
   "execution_count": null,
   "metadata": {},
   "outputs": [],
   "source": []
  },
  {
   "cell_type": "markdown",
   "metadata": {},
   "source": [
    "# Inspect modifiers"
   ]
  },
  {
   "cell_type": "code",
   "execution_count": null,
   "metadata": {},
   "outputs": [],
   "source": [
    "from collections import Counter\n",
    "from nltk.corpus import stopwords"
   ]
  },
  {
   "cell_type": "code",
   "execution_count": null,
   "metadata": {},
   "outputs": [],
   "source": [
    "STOPWORDS = set(stopwords.words('english'))\n",
    "STOPWORDS.add(',')\n",
    "STOPWORDS.add('.')\n",
    "STOPWORDS.add('/')\n",
    "len(STOPWORDS)"
   ]
  },
  {
   "cell_type": "code",
   "execution_count": null,
   "metadata": {},
   "outputs": [],
   "source": [
    "def to_word_counter(sentences, remove_stop=False):\n",
    "    word_counter = Counter()\n",
    "    for sentence in sentences:\n",
    "        for word in sentence.split():\n",
    "            if remove_stop and word in STOPWORDS:\n",
    "                    continue\n",
    "            word_counter[word] += 1\n",
    "    word_counter = sorted(word_counter.items(), key=lambda x: x[1], reverse=True)\n",
    "    return word_counter"
   ]
  },
  {
   "cell_type": "code",
   "execution_count": null,
   "metadata": {},
   "outputs": [],
   "source": [
    "fpath = os.path.join(dataset_dir, 'reports', 'sentences_with_chexpert_labels.csv')\n",
    "SENTENCES_DF = pd.read_csv(fpath)\n",
    "SENTENCES_DF.head(3)"
   ]
  },
  {
   "cell_type": "code",
   "execution_count": null,
   "metadata": {},
   "outputs": [],
   "source": [
    "target = 'Lung Opacity'\n",
    "d = SENTENCES_DF\n",
    "d = d[d[target] == 1]\n",
    "# d = d[((d[target] == 1) | (d[target] == -1))]\n",
    "print(len(d))\n",
    "d.head(3)"
   ]
  },
  {
   "cell_type": "code",
   "execution_count": null,
   "metadata": {},
   "outputs": [],
   "source": [
    "sorted(list(d['sentence']))"
   ]
  },
  {
   "cell_type": "code",
   "execution_count": null,
   "metadata": {},
   "outputs": [],
   "source": [
    "wc = to_word_counter(d['sentence'], remove_stop=True)\n",
    "wc[:10]"
   ]
  },
  {
   "cell_type": "code",
   "execution_count": null,
   "metadata": {},
   "outputs": [],
   "source": [
    "wc"
   ]
  },
  {
   "cell_type": "code",
   "execution_count": null,
   "metadata": {},
   "outputs": [],
   "source": []
  },
  {
   "cell_type": "code",
   "execution_count": null,
   "metadata": {},
   "outputs": [],
   "source": [
    "## TODO: this could be useful:\n",
    "AMOUNTS = ['innumerable', 'multiple', 'three', 'a few']\n",
    "SIZE = ['NUMBER', 'large', 'small', 'moderate sized', 'width', 'diameter']\n",
    "COMPARISON = ['than', # e.g. right larger than left\n",
    "             ]"
   ]
  },
  {
   "cell_type": "code",
   "execution_count": null,
   "metadata": {},
   "outputs": [],
   "source": [
    "_OPACITY_MODIFIERS = set([\n",
    "    # lung*\n",
    "    'left', 'right',\n",
    "    'lobe', 'lobes', # lobe*\n",
    "    'basal', 'base', 'bases',\n",
    "    'basilar', 'bibasilar',\n",
    "    'bilaterally', 'bilateral', 'lateral', # lateral*\n",
    "    'lower', 'upper', 'midlung', 'middle', 'central',\n",
    "    'biapical', 'apex', 'apical',\n",
    "    'perihilar', # hilar* | hilum\n",
    "    'costophrenic', 'retrocardiac',\n",
    "    'lingula', 'lingular', # lingula*\n",
    "    'anterior', 'posterior',\n",
    "\n",
    "    'mild', 'minimal', 'slightly', 'small',\n",
    "    'patchy', 'streaky', 'bandlike', 'reticular',\n",
    "    'focal', 'diffuse', 'scattered',\n",
    "    'subsegmental', # segmental*\n",
    "    'parenchymal', 'interstitial', 'alveolar',\n",
    "    'chronic',\n",
    "    'prominent',\n",
    "\n",
    "    'calcified', 'discrete', 'poorly defined', 'vague',\n",
    "    'subtle', 'asymmetric', 'strandy', 'shaped', 'rotated',\n",
    "    'irregular', 'coarse', 'residual', 'maximal thickness',\n",
    "    'thin', 'smooth',\n",
    "\n",
    "    'ring shaped',\n",
    "    'wedge shaped',\n",
    "    'lobulated',\n",
    "    'central lucency'\n",
    "])"
   ]
  },
  {
   "cell_type": "code",
   "execution_count": null,
   "metadata": {},
   "outputs": [],
   "source": [
    "_MEDIAST_MODIFIERS = set([\n",
    "    'minimal', 'borderline',\n",
    "    'mild', 'mildly',\n",
    "    'moderate', 'moderately',\n",
    "    'slight', 'slightly',\n",
    "    'significantly',\n",
    "    'severe', 'severely',\n",
    "])"
   ]
  },
  {
   "cell_type": "code",
   "execution_count": null,
   "metadata": {},
   "outputs": [],
   "source": [
    "[\n",
    "    s for s in sorted(list(d['sentence']))\n",
    "    if any(m in s for m in _OPACITY_MODIFIERS)\n",
    "]"
   ]
  },
  {
   "cell_type": "code",
   "execution_count": null,
   "metadata": {},
   "outputs": [],
   "source": [
    "'right middle lobe', 'right lower lobe', 'left base'"
   ]
  },
  {
   "cell_type": "code",
   "execution_count": null,
   "metadata": {},
   "outputs": [],
   "source": []
  }
 ],
 "metadata": {
  "kernelspec": {
   "display_name": "Python 3",
   "language": "python",
   "name": "python3"
  },
  "language_info": {
   "codemirror_mode": {
    "name": "ipython",
    "version": 3
   },
   "file_extension": ".py",
   "mimetype": "text/x-python",
   "name": "python",
   "nbconvert_exporter": "python",
   "pygments_lexer": "ipython3",
   "version": "3.6.9"
  },
  "toc": {
   "base_numbering": 1,
   "nav_menu": {},
   "number_sections": true,
   "sideBar": true,
   "skip_h1_title": false,
   "title_cell": "Table of Contents",
   "title_sidebar": "Contents",
   "toc_cell": false,
   "toc_position": {},
   "toc_section_display": true,
   "toc_window_display": false
  }
 },
 "nbformat": 4,
 "nbformat_minor": 4
}
