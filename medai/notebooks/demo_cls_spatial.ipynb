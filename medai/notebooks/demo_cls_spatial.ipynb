{
 "cells": [
  {
   "cell_type": "markdown",
   "metadata": {},
   "source": [
    "# Imports"
   ]
  },
  {
   "cell_type": "code",
   "execution_count": null,
   "metadata": {},
   "outputs": [],
   "source": [
    "%env CUDA_VISIBLE_DEVICES="
   ]
  },
  {
   "cell_type": "code",
   "execution_count": null,
   "metadata": {},
   "outputs": [],
   "source": [
    "import torch"
   ]
  },
  {
   "cell_type": "code",
   "execution_count": null,
   "metadata": {},
   "outputs": [],
   "source": [
    "DEVICE = torch.device('cuda' if torch.cuda.is_available() else 'cpu')"
   ]
  },
  {
   "cell_type": "code",
   "execution_count": null,
   "metadata": {},
   "outputs": [],
   "source": [
    "import matplotlib\n",
    "import matplotlib.pyplot as plt\n",
    "matplotlib.rcParams['figure.facecolor'] = 'white'\n",
    "matplotlib.rcParams['figure.figsize'] = (15, 5)"
   ]
  },
  {
   "cell_type": "code",
   "execution_count": null,
   "metadata": {},
   "outputs": [],
   "source": [
    "import pandas as pd\n",
    "pd.options.display.max_columns = None"
   ]
  },
  {
   "cell_type": "code",
   "execution_count": null,
   "metadata": {},
   "outputs": [],
   "source": [
    "%run ../utils/__init__.py\n",
    "config_logging(logging.INFO)"
   ]
  },
  {
   "cell_type": "markdown",
   "metadata": {},
   "source": [
    "# Load model"
   ]
  },
  {
   "cell_type": "code",
   "execution_count": null,
   "metadata": {},
   "outputs": [],
   "source": [
    "%run ../models/checkpoint/__init__.py\n",
    "%run ../utils/files.py"
   ]
  },
  {
   "cell_type": "code",
   "execution_count": null,
   "metadata": {},
   "outputs": [],
   "source": [
    "run_name = '0606_183458'\n",
    "# run_name = '0607_000601'\n",
    "run_id = RunId(run_name, debug=False, task='cls-spatial')"
   ]
  },
  {
   "cell_type": "code",
   "execution_count": null,
   "metadata": {},
   "outputs": [],
   "source": [
    "compiled_model = load_compiled_model(run_id, device=DEVICE)\n",
    "_ = compiled_model.model.eval()"
   ]
  },
  {
   "cell_type": "markdown",
   "metadata": {},
   "source": [
    "# Load data"
   ]
  },
  {
   "cell_type": "code",
   "execution_count": null,
   "metadata": {},
   "outputs": [],
   "source": [
    "%run ../datasets/__init__.py"
   ]
  },
  {
   "cell_type": "code",
   "execution_count": null,
   "metadata": {},
   "outputs": [],
   "source": [
    "dataset_kwargs = {\n",
    "    'dataset_type': 'train',\n",
    "    **compiled_model.metadata['dataset_kwargs'],\n",
    "    'num_workers': 1,\n",
    "    'batch_size': 10,\n",
    "    'sort_samples': False,\n",
    "    'shuffle': True,\n",
    "}\n",
    "dataloader = prepare_data_classification(**dataset_kwargs)\n",
    "dataset = dataloader.dataset\n",
    "len(dataset)"
   ]
  },
  {
   "cell_type": "markdown",
   "metadata": {},
   "source": [
    "# Check some examples"
   ]
  },
  {
   "cell_type": "code",
   "execution_count": null,
   "metadata": {},
   "outputs": [],
   "source": [
    "from torch.nn.functional import interpolate"
   ]
  },
  {
   "cell_type": "code",
   "execution_count": null,
   "metadata": {},
   "outputs": [],
   "source": [
    "%run ../training/detection/cls_spatial.py\n",
    "%run ../metrics/detection/__init__.py"
   ]
  },
  {
   "cell_type": "code",
   "execution_count": null,
   "metadata": {},
   "outputs": [],
   "source": [
    "step_fn = get_step_fn_cls_spatial(\n",
    "    compiled_model.model, training=False,\n",
    "    cl_loss_name='wbce', device=DEVICE,\n",
    ")"
   ]
  },
  {
   "cell_type": "code",
   "execution_count": null,
   "metadata": {},
   "outputs": [],
   "source": [
    "# parse_output_for_metric = partial(\n",
    "#     _threshold_activations_and_keep_valid,\n",
    "#     cls_thresh=None, heat_thresh=None, only='T',\n",
    "# )\n",
    "ioo_metric = IoO(reduce_sum=False, device=DEVICE)"
   ]
  },
  {
   "cell_type": "code",
   "execution_count": null,
   "metadata": {},
   "outputs": [],
   "source": [
    "dataloader_iter = iter(dataloader)"
   ]
  },
  {
   "cell_type": "code",
   "execution_count": null,
   "metadata": {},
   "outputs": [],
   "source": [
    "batch = next(dataloader_iter)\n",
    "batch.labels.sum(dim=0)"
   ]
  },
  {
   "cell_type": "code",
   "execution_count": null,
   "metadata": {},
   "outputs": [],
   "source": [
    "batch.image.size(), batch.masks.size()"
   ]
  },
  {
   "cell_type": "code",
   "execution_count": null,
   "metadata": {},
   "outputs": [],
   "source": [
    "with torch.no_grad():\n",
    "    output = step_fn(None, batch)\n",
    "\n",
    "out_cl_spatial_osize = output['activations_original_size'].cpu()\n",
    "out_cl_spatial = output['activations'].cpu()\n",
    "out_cl = output['pred_labels'].cpu()\n",
    "out_cl.size(), out_cl_spatial.size(), out_cl_spatial_osize.size()"
   ]
  },
  {
   "cell_type": "code",
   "execution_count": null,
   "metadata": {},
   "outputs": [],
   "source": [
    "for k in ('loss', 'cl_loss', 'spatial_loss'):\n",
    "    print(k, output[k].item())"
   ]
  },
  {
   "cell_type": "code",
   "execution_count": null,
   "metadata": {},
   "outputs": [],
   "source": [
    "def plot_sample(idx):\n",
    "    activations_osize = out_cl_spatial_osize[idx]\n",
    "    activations = out_cl_spatial[idx]\n",
    "    gt_masks = batch.masks[idx]\n",
    "    labels = batch.labels[idx]\n",
    "    preds = out_cl[idx]\n",
    "    \n",
    "    # Prepare output for IoO metric\n",
    "    metric_activations = out_cl_spatial[idx:idx+1]\n",
    "    metric_gt_masks = batch.masks[idx:idx+1]\n",
    "    valid = batch.labels[idx:idx+1].bool()\n",
    "    \n",
    "    # Calculate metrics\n",
    "    ioo_metric.reset()\n",
    "    ioo_metric.update((metric_activations, metric_gt_masks, valid))\n",
    "    ioo = ioo_metric.compute()\n",
    "    print(ioo)\n",
    "    \n",
    "    # Prepare plot\n",
    "    diseases = dataloader.dataset.labels\n",
    "    n_rows = len(diseases)\n",
    "    n_cols = 3\n",
    "    plt.figure(figsize=(5*n_cols, 5*n_rows))\n",
    "\n",
    "    for i, disease in enumerate(diseases):\n",
    "        plt.subplot(n_rows, n_cols, i*n_cols + 1)\n",
    "        plt.title(f'{disease} (gt={labels[i].item()})')\n",
    "        plt.imshow(gt_masks[i])\n",
    "        plt.colorbar()\n",
    "\n",
    "        plt.subplot(n_rows, n_cols, i*n_cols + 2)\n",
    "        plt.title(f'Spatial output (gen={preds[i].item():.2f}, ioo={ioo[i]:.2f})')\n",
    "        plt.imshow(activations[i])\n",
    "        plt.colorbar()\n",
    "        \n",
    "        plt.subplot(n_rows, n_cols, i*n_cols + 3)\n",
    "        a = activations_osize[i]\n",
    "        min_value = a.min().item()\n",
    "        max_value = a.max().item()\n",
    "        plt.title(f'O-size (range={min_value:.1f},{max_value:.1f})')\n",
    "        plt.imshow(a)\n",
    "        plt.colorbar()"
   ]
  },
  {
   "cell_type": "code",
   "execution_count": null,
   "metadata": {},
   "outputs": [],
   "source": [
    "batch.labels"
   ]
  },
  {
   "cell_type": "code",
   "execution_count": null,
   "metadata": {},
   "outputs": [],
   "source": [
    "plot_sample(9)"
   ]
  }
 ],
 "metadata": {
  "kernelspec": {
   "display_name": "Python 3",
   "language": "python",
   "name": "python3"
  },
  "language_info": {
   "codemirror_mode": {
    "name": "ipython",
    "version": 3
   },
   "file_extension": ".py",
   "mimetype": "text/x-python",
   "name": "python",
   "nbconvert_exporter": "python",
   "pygments_lexer": "ipython3",
   "version": "3.6.9"
  },
  "toc": {
   "base_numbering": 1,
   "nav_menu": {},
   "number_sections": true,
   "sideBar": true,
   "skip_h1_title": false,
   "title_cell": "Table of Contents",
   "title_sidebar": "Contents",
   "toc_cell": false,
   "toc_position": {},
   "toc_section_display": true,
   "toc_window_display": false
  }
 },
 "nbformat": 4,
 "nbformat_minor": 4
}
