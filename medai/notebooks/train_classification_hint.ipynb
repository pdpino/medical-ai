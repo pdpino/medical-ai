{
 "cells": [
  {
   "cell_type": "markdown",
   "metadata": {},
   "source": [
    "## Imports"
   ]
  },
  {
   "cell_type": "code",
   "execution_count": null,
   "metadata": {},
   "outputs": [],
   "source": [
    "%env CUDA_VISIBLE_DEVICES=1"
   ]
  },
  {
   "cell_type": "code",
   "execution_count": null,
   "metadata": {},
   "outputs": [],
   "source": [
    "import torch\n",
    "from torch import nn"
   ]
  },
  {
   "cell_type": "code",
   "execution_count": null,
   "metadata": {},
   "outputs": [],
   "source": []
  },
  {
   "cell_type": "markdown",
   "metadata": {},
   "source": [
    "## Load model"
   ]
  },
  {
   "cell_type": "code",
   "execution_count": null,
   "metadata": {},
   "outputs": [],
   "source": [
    "%run ../models/checkpoint/__init__.py"
   ]
  },
  {
   "cell_type": "code",
   "execution_count": null,
   "metadata": {},
   "outputs": [],
   "source": [
    "# run_name = '1215_174443_cxr14_resnet-50-v2_lr0.0001_os_Cardiomegaly_normS_size256_sch-roc_auc-p5-f0.1'\n",
    "run_name = '1215_222128_cxr14_mobilenet-v2_lr0.0001_os_Cardiomegaly_normS_size256_sch-roc_auc-p5-f0.1'\n",
    "debug_run = False"
   ]
  },
  {
   "cell_type": "code",
   "execution_count": null,
   "metadata": {},
   "outputs": [],
   "source": [
    "compiled_model = load_compiled_model_classification(run_name, debug=debug_run)\n",
    "compiled_model.metadata['model_kwargs']"
   ]
  },
  {
   "cell_type": "code",
   "execution_count": null,
   "metadata": {},
   "outputs": [],
   "source": []
  },
  {
   "cell_type": "markdown",
   "metadata": {},
   "source": [
    "## Load data"
   ]
  },
  {
   "cell_type": "code",
   "execution_count": null,
   "metadata": {},
   "outputs": [],
   "source": [
    "%run ../datasets/__init__.py"
   ]
  },
  {
   "cell_type": "code",
   "execution_count": null,
   "metadata": {},
   "outputs": [],
   "source": [
    "dataset_kwargs = {\n",
    "    'dataset_name': 'cxr14',\n",
    "    'dataset_type': 'train',\n",
    "    'max_samples': None,\n",
    "    'labels': ['Cardiomegaly'],\n",
    "    'masks': True,\n",
    "    'image_size': (128, 128),\n",
    "    'batch_size': 2,\n",
    "}\n",
    "dataloader = prepare_data_classification(**dataset_kwargs)\n",
    "dataset = dataloader.dataset\n",
    "len(dataset)"
   ]
  },
  {
   "cell_type": "code",
   "execution_count": null,
   "metadata": {},
   "outputs": [],
   "source": []
  },
  {
   "cell_type": "code",
   "execution_count": null,
   "metadata": {},
   "outputs": [],
   "source": []
  },
  {
   "cell_type": "markdown",
   "metadata": {},
   "source": [
    "## Train with HINT"
   ]
  },
  {
   "cell_type": "markdown",
   "metadata": {},
   "source": [
    "### Prepare model"
   ]
  },
  {
   "cell_type": "code",
   "execution_count": null,
   "metadata": {},
   "outputs": [],
   "source": [
    "from torchviz import make_dot"
   ]
  },
  {
   "cell_type": "code",
   "execution_count": null,
   "metadata": {},
   "outputs": [],
   "source": [
    "%run ../training/classification/grad_cam.py\n",
    "%run ../datasets/common/utils.py\n",
    "%run ../losses/out_of_target.py"
   ]
  },
  {
   "cell_type": "code",
   "execution_count": null,
   "metadata": {},
   "outputs": [],
   "source": [
    "# %run ../tensorboard/__init__.py\n",
    "# run_name = 'hint'\n",
    "# tb_writer = TBWriter(run_name, 'cls', debug=True)\n",
    "# tb_writer.write_graph(model, data_batch.image.to(device))\n",
    "# tb_writer.close()"
   ]
  },
  {
   "cell_type": "code",
   "execution_count": null,
   "metadata": {},
   "outputs": [],
   "source": [
    "class SimpleModel(nn.Module):\n",
    "    def __init__(self, n_labels=14):\n",
    "        super().__init__()\n",
    "\n",
    "        self.features = nn.Conv2d(3, 10, 2)\n",
    "        \n",
    "        self.global_pool = nn.Sequential(\n",
    "            nn.AdaptiveMaxPool2d((1, 1)),\n",
    "            nn.Flatten(),\n",
    "        )\n",
    "        \n",
    "        self.prediction = nn.Linear(10, n_labels)\n",
    "        \n",
    "    def forward(self, x):\n",
    "        x = self.features(x)\n",
    "        x = self.global_pool(x)\n",
    "        x = self.prediction(x)\n",
    "        \n",
    "        return x"
   ]
  },
  {
   "cell_type": "code",
   "execution_count": null,
   "metadata": {},
   "outputs": [],
   "source": []
  },
  {
   "cell_type": "code",
   "execution_count": null,
   "metadata": {},
   "outputs": [],
   "source": [
    "device = 'cuda'\n",
    "training = True\n",
    "multilabel = dataset.multilabel\n",
    "multilabel"
   ]
  },
  {
   "cell_type": "code",
   "execution_count": null,
   "metadata": {},
   "outputs": [],
   "source": [
    "loss_fn = nn.BCEWithLogitsLoss()\n",
    "hint_loss_fn = OutOfTargetSumLoss()\n",
    "hint_loss_fn = lambda x, y: (x - y).mean() # Simple loss to debug"
   ]
  },
  {
   "cell_type": "code",
   "execution_count": null,
   "metadata": {},
   "outputs": [],
   "source": [
    "model, optimizer, _ = compiled_model.get_elements()\n",
    "grad_cam = create_grad_cam(compiled_model)\n",
    "grad_cam"
   ]
  },
  {
   "cell_type": "code",
   "execution_count": null,
   "metadata": {},
   "outputs": [],
   "source": [
    "model = SimpleModel(len(dataset.labels)).to(device)\n",
    "optimizer = optim.Adam(model.parameters(), lr=0.001)\n",
    "grad_cam = LayerGradCam(model, model.features)\n",
    "model"
   ]
  },
  {
   "cell_type": "code",
   "execution_count": null,
   "metadata": {},
   "outputs": [],
   "source": []
  },
  {
   "cell_type": "code",
   "execution_count": null,
   "metadata": {},
   "outputs": [],
   "source": []
  },
  {
   "cell_type": "code",
   "execution_count": null,
   "metadata": {},
   "outputs": [],
   "source": []
  },
  {
   "cell_type": "markdown",
   "metadata": {},
   "source": [
    "### Run step_fn\n",
    "\n",
    "To debug, copy here the `step_fn` from `training/classification/__init__.py`"
   ]
  },
  {
   "cell_type": "code",
   "execution_count": null,
   "metadata": {},
   "outputs": [],
   "source": [
    "def step_fn(data_batch):\n",
    "    images = data_batch.image.to(device)\n",
    "    # shape: batch_size, channels=3, height, width\n",
    "\n",
    "    labels = data_batch.labels.to(device)\n",
    "    # shape(multilabel=True): batch_size, n_labels\n",
    "    # shape(multilabel=False): batch_size\n",
    "\n",
    "    masks = reduce_masks_for_diseases(dataset.labels, data_batch.masks.to(device))\n",
    "    # shape: batch_size, n_labels, height, width\n",
    "\n",
    "    # Enable training\n",
    "    model.train(training)\n",
    "    torch.set_grad_enabled(training)\n",
    "\n",
    "    # zero the parameter gradients\n",
    "    if training:\n",
    "        optimizer.zero_grad()\n",
    "\n",
    "    # Forward\n",
    "    outputs = model(images)\n",
    "    if isinstance(outputs, tuple):\n",
    "        outputs = output_tuple[0]\n",
    "    \n",
    "    # outputs shape: batch_size, n_labels\n",
    "\n",
    "    if multilabel:\n",
    "        labels = labels.float()\n",
    "    else:\n",
    "        labels = labels.long()\n",
    "\n",
    "    images.requires_grad = True\n",
    "        \n",
    "    grad_cam_attrs = calculate_attributions_for_labels(\n",
    "        grad_cam, images, dataset.labels,\n",
    "        relu=True, create_graph=True,\n",
    "    )\n",
    "    # shape: (batch_size, n_labels, height, width)\n",
    "\n",
    "    images.requires_grad = False\n",
    "\n",
    "    # Compute HINT loss\n",
    "    hint_loss = hint_loss_fn(grad_cam_attrs, masks)\n",
    "\n",
    "    # Compute classification loss\n",
    "    cl_loss = loss_fn(outputs, labels)\n",
    "    \n",
    "    total_loss = cl_loss + hint_loss\n",
    "    \n",
    "    if training:\n",
    "        total_loss.backward()\n",
    "        optimizer.step()\n",
    "\n",
    "    return cl_loss, hint_loss, total_loss, images\n",
    "        \n",
    "    # print(hint_loss.item(), loss.item())\n",
    "\n",
    "    # return total_loss"
   ]
  },
  {
   "cell_type": "code",
   "execution_count": null,
   "metadata": {},
   "outputs": [],
   "source": [
    "data_batch = next(iter(dataloader))\n",
    "data_batch.image.size(), data_batch.masks.size()"
   ]
  },
  {
   "cell_type": "code",
   "execution_count": null,
   "metadata": {},
   "outputs": [],
   "source": [
    "cl_loss, hint_loss, total_loss, i = step_fn(data_batch)\n",
    "cl_loss.item(), hint_loss.item(), total_loss.item()"
   ]
  },
  {
   "cell_type": "code",
   "execution_count": null,
   "metadata": {},
   "outputs": [],
   "source": [
    "_print_grads(model)"
   ]
  },
  {
   "cell_type": "code",
   "execution_count": null,
   "metadata": {},
   "outputs": [],
   "source": [
    "_print_grads(model)"
   ]
  },
  {
   "cell_type": "code",
   "execution_count": null,
   "metadata": {},
   "outputs": [],
   "source": [
    "def _print_grads(model):\n",
    "    print(model.features.weight.grad.mean())\n",
    "    print(model.features.bias.grad.mean())\n",
    "    print(model.prediction.weight.grad.mean())\n",
    "    print(model.prediction.bias.grad.mean())"
   ]
  },
  {
   "cell_type": "code",
   "execution_count": null,
   "metadata": {},
   "outputs": [],
   "source": []
  },
  {
   "cell_type": "code",
   "execution_count": null,
   "metadata": {},
   "outputs": [],
   "source": []
  },
  {
   "cell_type": "code",
   "execution_count": null,
   "metadata": {},
   "outputs": [],
   "source": [
    "params = dict(model.named_parameters())"
   ]
  },
  {
   "cell_type": "code",
   "execution_count": null,
   "metadata": {},
   "outputs": [],
   "source": [
    "params['images'] = i"
   ]
  },
  {
   "cell_type": "code",
   "execution_count": null,
   "metadata": {},
   "outputs": [],
   "source": []
  },
  {
   "cell_type": "code",
   "execution_count": null,
   "metadata": {},
   "outputs": [],
   "source": [
    "make_dot(cl_loss, params=params)"
   ]
  },
  {
   "cell_type": "code",
   "execution_count": null,
   "metadata": {},
   "outputs": [],
   "source": [
    "make_dot(hint_loss, params=params)"
   ]
  },
  {
   "cell_type": "code",
   "execution_count": null,
   "metadata": {},
   "outputs": [],
   "source": [
    "make_dot(total_loss, params=params)"
   ]
  },
  {
   "cell_type": "code",
   "execution_count": null,
   "metadata": {},
   "outputs": [],
   "source": []
  },
  {
   "cell_type": "code",
   "execution_count": null,
   "metadata": {},
   "outputs": [],
   "source": []
  },
  {
   "cell_type": "code",
   "execution_count": null,
   "metadata": {},
   "outputs": [],
   "source": []
  },
  {
   "cell_type": "code",
   "execution_count": null,
   "metadata": {},
   "outputs": [],
   "source": []
  }
 ],
 "metadata": {
  "kernelspec": {
   "display_name": "Python 3",
   "language": "python",
   "name": "python3"
  },
  "language_info": {
   "codemirror_mode": {
    "name": "ipython",
    "version": 3
   },
   "file_extension": ".py",
   "mimetype": "text/x-python",
   "name": "python",
   "nbconvert_exporter": "python",
   "pygments_lexer": "ipython3",
   "version": "3.6.9"
  },
  "toc": {
   "base_numbering": 1,
   "nav_menu": {},
   "number_sections": true,
   "sideBar": true,
   "skip_h1_title": false,
   "title_cell": "Table of Contents",
   "title_sidebar": "Contents",
   "toc_cell": false,
   "toc_position": {},
   "toc_section_display": true,
   "toc_window_display": false
  }
 },
 "nbformat": 4,
 "nbformat_minor": 4
}
