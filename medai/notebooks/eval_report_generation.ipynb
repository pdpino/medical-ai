{
 "cells": [
  {
   "cell_type": "markdown",
   "metadata": {
    "heading_collapsed": true
   },
   "source": [
    "## Import"
   ]
  },
  {
   "cell_type": "code",
   "execution_count": 1,
   "metadata": {
    "hidden": true
   },
   "outputs": [
    {
     "name": "stdout",
     "output_type": "stream",
     "text": [
      "env: CUDA_VISIBLE_DEVICES=2,3\n",
      "2,3\r\n"
     ]
    }
   ],
   "source": [
    "%env CUDA_VISIBLE_DEVICES=2,3\n",
    "!echo $CUDA_VISIBLE_DEVICES"
   ]
  },
  {
   "cell_type": "code",
   "execution_count": 2,
   "metadata": {
    "hidden": true
   },
   "outputs": [],
   "source": [
    "import torch"
   ]
  },
  {
   "cell_type": "code",
   "execution_count": 3,
   "metadata": {
    "hidden": true
   },
   "outputs": [
    {
     "data": {
      "text/plain": [
       "device(type='cuda')"
      ]
     },
     "execution_count": 3,
     "metadata": {},
     "output_type": "execute_result"
    }
   ],
   "source": [
    "# DEVICE = torch.device('cpu')\n",
    "DEVICE = torch.device('cuda')\n",
    "DEVICE"
   ]
  },
  {
   "cell_type": "code",
   "execution_count": 4,
   "metadata": {
    "hidden": true
   },
   "outputs": [],
   "source": [
    "from tqdm.notebook import tqdm"
   ]
  },
  {
   "cell_type": "code",
   "execution_count": 5,
   "metadata": {
    "hidden": true
   },
   "outputs": [],
   "source": [
    "%run ../datasets/iu_xray.py\n",
    "%run ../training/report_generation/hierarchical.py\n",
    "%run ../utils/nlp.py"
   ]
  },
  {
   "cell_type": "code",
   "execution_count": 6,
   "metadata": {
    "hidden": true
   },
   "outputs": [
    {
     "data": {
      "text/plain": [
       "5923"
      ]
     },
     "execution_count": 6,
     "metadata": {},
     "output_type": "execute_result"
    }
   ],
   "source": [
    "train_dataset = IUXRayDataset('train')\n",
    "len(train_dataset)"
   ]
  },
  {
   "cell_type": "markdown",
   "metadata": {
    "heading_collapsed": true
   },
   "source": [
    "## Compute dataset stats"
   ]
  },
  {
   "cell_type": "code",
   "execution_count": 22,
   "metadata": {
    "hidden": true
   },
   "outputs": [],
   "source": [
    "from collections import Counter"
   ]
  },
  {
   "cell_type": "code",
   "execution_count": 25,
   "metadata": {
    "hidden": true
   },
   "outputs": [],
   "source": [
    "def get_dataset_stats(dataset):\n",
    "    word_appearances = dict()\n",
    "\n",
    "    words_count = []\n",
    "    sentences_count = []\n",
    "\n",
    "    for image, report in tqdm(dataset):\n",
    "        # Save appearances\n",
    "        for word in report:\n",
    "            if word not in word_appearances:\n",
    "                word_appearances[word] = 0\n",
    "            word_appearances[word] += 1\n",
    "\n",
    "        # Must end with a dot\n",
    "        if report[-1] != END_OF_SENTENCE_IDX:\n",
    "            report.append(END_OF_SENTENCE_IDX)\n",
    "\n",
    "        # Count words\n",
    "        n_words = len(report)\n",
    "        words_count.append(n_words)\n",
    "\n",
    "        # Count sentences\n",
    "        n_sentences = report.count(END_OF_SENTENCE_IDX)\n",
    "        sentences_count.append(n_sentences)\n",
    "\n",
    "    return word_appearances, words_count, sentences_count"
   ]
  },
  {
   "cell_type": "code",
   "execution_count": 26,
   "metadata": {
    "collapsed": true,
    "hidden": true
   },
   "outputs": [
    {
     "data": {
      "application/vnd.jupyter.widget-view+json": {
       "model_id": "fd04bbc3b27d49c985505f685063b937",
       "version_major": 2,
       "version_minor": 0
      },
      "text/plain": [
       "HBox(children=(FloatProgress(value=0.0, max=5923.0), HTML(value='')))"
      ]
     },
     "metadata": {},
     "output_type": "display_data"
    },
    {
     "name": "stdout",
     "output_type": "stream",
     "text": [
      "\n"
     ]
    },
    {
     "data": {
      "text/plain": [
       "{17: 7788,\n",
       " 378: 77,\n",
       " 37: 1089,\n",
       " 4: 27050,\n",
       " 337: 143,\n",
       " 362: 32,\n",
       " 176: 284,\n",
       " 50: 2718,\n",
       " 32: 3373,\n",
       " 52: 3724,\n",
       " 10: 3398,\n",
       " 13: 5931,\n",
       " 27: 564,\n",
       " 23: 4093,\n",
       " 46: 1220,\n",
       " 44: 586,\n",
       " 14: 2485,\n",
       " 8: 4642,\n",
       " 11: 6869,\n",
       " 299: 55,\n",
       " 135: 497,\n",
       " 136: 208,\n",
       " 5: 10078,\n",
       " 201: 539,\n",
       " 16: 6950,\n",
       " 26: 3651,\n",
       " 53: 158,\n",
       " 71: 231,\n",
       " 127: 526,\n",
       " 973: 1,\n",
       " 922: 19,\n",
       " 19: 476,\n",
       " 39: 3924,\n",
       " 555: 9,\n",
       " 974: 1,\n",
       " 523: 12,\n",
       " 524: 48,\n",
       " 1290: 2,\n",
       " 30: 593,\n",
       " 62: 2341,\n",
       " 878: 5,\n",
       " 181: 770,\n",
       " 285: 209,\n",
       " 283: 79,\n",
       " 930: 52,\n",
       " 217: 249,\n",
       " 661: 35,\n",
       " 265: 277,\n",
       " 29: 1260,\n",
       " 123: 834,\n",
       " 28: 3850,\n",
       " 22: 4174,\n",
       " 219: 127,\n",
       " 349: 66,\n",
       " 359: 59,\n",
       " 395: 61,\n",
       " 51: 216,\n",
       " 9: 934,\n",
       " 49: 241,\n",
       " 35: 697,\n",
       " 25: 4005,\n",
       " 55: 491,\n",
       " 76: 27,\n",
       " 77: 35,\n",
       " 63: 1450,\n",
       " 78: 7,\n",
       " 45: 1164,\n",
       " 165: 404,\n",
       " 166: 343,\n",
       " 20: 2767,\n",
       " 225: 197,\n",
       " 206: 7,\n",
       " 43: 1673,\n",
       " 449: 37,\n",
       " 158: 171,\n",
       " 164: 944,\n",
       " 113: 213,\n",
       " 718: 20,\n",
       " 112: 475,\n",
       " 226: 161,\n",
       " 131: 354,\n",
       " 107: 317,\n",
       " 450: 117,\n",
       " 139: 871,\n",
       " 109: 942,\n",
       " 730: 19,\n",
       " 568: 39,\n",
       " 533: 42,\n",
       " 341: 119,\n",
       " 258: 174,\n",
       " 363: 117,\n",
       " 260: 77,\n",
       " 284: 388,\n",
       " 41: 706,\n",
       " 228: 270,\n",
       " 292: 154,\n",
       " 200: 413,\n",
       " 933: 44,\n",
       " 682: 94,\n",
       " 42: 325,\n",
       " 6: 651,\n",
       " 31: 908,\n",
       " 111: 275,\n",
       " 56: 1117,\n",
       " 38: 5167,\n",
       " 182: 264,\n",
       " 183: 200,\n",
       " 360: 104,\n",
       " 826: 4,\n",
       " 157: 31,\n",
       " 156: 290,\n",
       " 372: 80,\n",
       " 538: 33,\n",
       " 151: 50,\n",
       " 576: 115,\n",
       " 40: 1063,\n",
       " 64: 135,\n",
       " 236: 152,\n",
       " 274: 78,\n",
       " 515: 47,\n",
       " 180: 77,\n",
       " 154: 711,\n",
       " 18: 2013,\n",
       " 184: 226,\n",
       " 780: 78,\n",
       " 36: 1382,\n",
       " 21: 1760,\n",
       " 708: 36,\n",
       " 98: 209,\n",
       " 401: 56,\n",
       " 422: 61,\n",
       " 709: 34,\n",
       " 712: 18,\n",
       " 61: 429,\n",
       " 190: 377,\n",
       " 440: 180,\n",
       " 146: 297,\n",
       " 355: 17,\n",
       " 356: 123,\n",
       " 377: 76,\n",
       " 124: 829,\n",
       " 125: 908,\n",
       " 350: 89,\n",
       " 237: 102,\n",
       " 281: 140,\n",
       " 511: 39,\n",
       " 791: 9,\n",
       " 936: 3,\n",
       " 369: 141,\n",
       " 115: 738,\n",
       " 815: 11,\n",
       " 352: 29,\n",
       " 321: 81,\n",
       " 138: 760,\n",
       " 79: 626,\n",
       " 732: 16,\n",
       " 677: 112,\n",
       " 234: 59,\n",
       " 87: 635,\n",
       " 1330: 2,\n",
       " 12: 2550,\n",
       " 338: 37,\n",
       " 809: 27,\n",
       " 24: 907,\n",
       " 7: 1586,\n",
       " 295: 156,\n",
       " 130: 129,\n",
       " 129: 127,\n",
       " 300: 111,\n",
       " 747: 31,\n",
       " 68: 251,\n",
       " 312: 156,\n",
       " 472: 103,\n",
       " 167: 131,\n",
       " 345: 159,\n",
       " 619: 54,\n",
       " 469: 66,\n",
       " 1006: 7,\n",
       " 1548: 3,\n",
       " 80: 669,\n",
       " 1598: 2,\n",
       " 245: 338,\n",
       " 1108: 38,\n",
       " 175: 180,\n",
       " 246: 113,\n",
       " 15: 3731,\n",
       " 1085: 2,\n",
       " 247: 73,\n",
       " 122: 1523,\n",
       " 231: 304,\n",
       " 81: 45,\n",
       " 54: 627,\n",
       " 1225: 7,\n",
       " 143: 620,\n",
       " 134: 228,\n",
       " 1123: 17,\n",
       " 243: 49,\n",
       " 514: 10,\n",
       " 1508: 6,\n",
       " 676: 26,\n",
       " 1509: 2,\n",
       " 145: 226,\n",
       " 291: 180,\n",
       " 425: 205,\n",
       " 1146: 14,\n",
       " 1332: 10,\n",
       " 836: 11,\n",
       " 581: 36,\n",
       " 371: 233,\n",
       " 667: 28,\n",
       " 101: 731,\n",
       " 216: 31,\n",
       " 892: 8,\n",
       " 1620: 4,\n",
       " 808: 12,\n",
       " 72: 117,\n",
       " 73: 11,\n",
       " 74: 152,\n",
       " 75: 58,\n",
       " 163: 46,\n",
       " 748: 21,\n",
       " 249: 17,\n",
       " 267: 215,\n",
       " 551: 42,\n",
       " 381: 26,\n",
       " 459: 13,\n",
       " 1392: 4,\n",
       " 471: 152,\n",
       " 96: 67,\n",
       " 97: 78,\n",
       " 480: 334,\n",
       " 758: 19,\n",
       " 953: 15,\n",
       " 1461: 4,\n",
       " 238: 222,\n",
       " 1180: 22,\n",
       " 1034: 12,\n",
       " 126: 597,\n",
       " 330: 188,\n",
       " 361: 11,\n",
       " 121: 502,\n",
       " 82: 215,\n",
       " 550: 132,\n",
       " 150: 61,\n",
       " 415: 112,\n",
       " 128: 130,\n",
       " 133: 121,\n",
       " 48: 620,\n",
       " 584: 5,\n",
       " 560: 26,\n",
       " 561: 23,\n",
       " 1073: 11,\n",
       " 1074: 4,\n",
       " 497: 18,\n",
       " 110: 311,\n",
       " 325: 76,\n",
       " 278: 32,\n",
       " 571: 27,\n",
       " 741: 47,\n",
       " 864: 47,\n",
       " 242: 6,\n",
       " 737: 56,\n",
       " 100: 471,\n",
       " 754: 24,\n",
       " 116: 935,\n",
       " 155: 20,\n",
       " 984: 43,\n",
       " 376: 47,\n",
       " 248: 56,\n",
       " 412: 57,\n",
       " 186: 134,\n",
       " 343: 31,\n",
       " 434: 10,\n",
       " 168: 188,\n",
       " 169: 117,\n",
       " 85: 355,\n",
       " 334: 181,\n",
       " 89: 394,\n",
       " 772: 4,\n",
       " 91: 189,\n",
       " 235: 130,\n",
       " 103: 102,\n",
       " 773: 7,\n",
       " 311: 101,\n",
       " 856: 2,\n",
       " 193: 394,\n",
       " 1064: 2,\n",
       " 802: 35,\n",
       " 1167: 2,\n",
       " 140: 282,\n",
       " 354: 270,\n",
       " 282: 136,\n",
       " 1017: 37,\n",
       " 333: 207,\n",
       " 301: 18,\n",
       " 373: 15,\n",
       " 198: 103,\n",
       " 1546: 2,\n",
       " 839: 4,\n",
       " 1547: 2,\n",
       " 950: 5,\n",
       " 83: 91,\n",
       " 329: 33,\n",
       " 713: 10,\n",
       " 1521: 12,\n",
       " 701: 34,\n",
       " 239: 84,\n",
       " 286: 89,\n",
       " 1136: 11,\n",
       " 132: 510,\n",
       " 601: 2,\n",
       " 147: 128,\n",
       " 102: 141,\n",
       " 693: 8,\n",
       " 442: 24,\n",
       " 256: 44,\n",
       " 694: 32,\n",
       " 69: 218,\n",
       " 70: 150,\n",
       " 666: 14,\n",
       " 65: 159,\n",
       " 302: 125,\n",
       " 528: 18,\n",
       " 729: 45,\n",
       " 389: 42,\n",
       " 655: 14,\n",
       " 279: 75,\n",
       " 456: 32,\n",
       " 148: 33,\n",
       " 801: 9,\n",
       " 270: 162,\n",
       " 1130: 3,\n",
       " 679: 22,\n",
       " 476: 27,\n",
       " 439: 46,\n",
       " 335: 35,\n",
       " 1124: 12,\n",
       " 1356: 4,\n",
       " 374: 43,\n",
       " 119: 140,\n",
       " 336: 86,\n",
       " 99: 112,\n",
       " 433: 29,\n",
       " 332: 105,\n",
       " 305: 45,\n",
       " 117: 19,\n",
       " 261: 173,\n",
       " 543: 111,\n",
       " 544: 27,\n",
       " 717: 2,\n",
       " 152: 166,\n",
       " 380: 41,\n",
       " 470: 126,\n",
       " 542: 79,\n",
       " 272: 4,\n",
       " 1338: 2,\n",
       " 185: 111,\n",
       " 479: 67,\n",
       " 224: 168,\n",
       " 407: 182,\n",
       " 408: 118,\n",
       " 1576: 4,\n",
       " 664: 16,\n",
       " 47: 95,\n",
       " 623: 19,\n",
       " 104: 240,\n",
       " 1763: 2,\n",
       " 230: 189,\n",
       " 804: 22,\n",
       " 273: 12,\n",
       " 944: 14,\n",
       " 287: 222,\n",
       " 945: 11,\n",
       " 650: 27,\n",
       " 293: 66,\n",
       " 1056: 17,\n",
       " 1057: 19,\n",
       " 199: 36,\n",
       " 277: 29,\n",
       " 289: 23,\n",
       " 257: 53,\n",
       " 1220: 1,\n",
       " 142: 13,\n",
       " 879: 8,\n",
       " 1151: 3,\n",
       " 782: 7,\n",
       " 271: 74,\n",
       " 276: 110,\n",
       " 251: 41,\n",
       " 597: 29,\n",
       " 220: 27,\n",
       " 1279: 2,\n",
       " 1280: 2,\n",
       " 340: 55,\n",
       " 490: 35,\n",
       " 296: 70,\n",
       " 266: 32,\n",
       " 600: 43,\n",
       " 191: 243,\n",
       " 57: 24,\n",
       " 969: 16,\n",
       " 33: 101,\n",
       " 34: 100,\n",
       " 767: 10,\n",
       " 727: 30,\n",
       " 90: 197,\n",
       " 549: 72,\n",
       " 392: 62,\n",
       " 987: 6,\n",
       " 379: 31,\n",
       " 229: 481,\n",
       " 324: 9,\n",
       " 932: 2,\n",
       " 934: 2,\n",
       " 917: 5,\n",
       " 484: 11,\n",
       " 84: 142,\n",
       " 404: 32,\n",
       " 965: 2,\n",
       " 399: 49,\n",
       " 971: 10,\n",
       " 1203: 2,\n",
       " 328: 52,\n",
       " 205: 94,\n",
       " 353: 56,\n",
       " 507: 16,\n",
       " 1259: 2,\n",
       " 93: 170,\n",
       " 1096: 16,\n",
       " 1041: 10,\n",
       " 939: 16,\n",
       " 1299: 5,\n",
       " 319: 34,\n",
       " 244: 83,\n",
       " 390: 16,\n",
       " 144: 130,\n",
       " 1556: 2,\n",
       " 838: 10,\n",
       " 1190: 5,\n",
       " 214: 79,\n",
       " 546: 26,\n",
       " 1066: 11,\n",
       " 1432: 5,\n",
       " 304: 87,\n",
       " 1100: 4,\n",
       " 351: 30,\n",
       " 391: 29,\n",
       " 834: 8,\n",
       " 88: 203,\n",
       " 824: 4,\n",
       " 641: 32,\n",
       " 943: 5,\n",
       " 358: 31,\n",
       " 177: 35,\n",
       " 178: 25,\n",
       " 179: 2,\n",
       " 262: 130,\n",
       " 263: 133,\n",
       " 618: 2,\n",
       " 488: 60,\n",
       " 364: 78,\n",
       " 499: 28,\n",
       " 400: 117,\n",
       " 691: 55,\n",
       " 1027: 2,\n",
       " 869: 6,\n",
       " 707: 21,\n",
       " 429: 39,\n",
       " 1028: 2,\n",
       " 1029: 2,\n",
       " 1030: 2,\n",
       " 170: 11,\n",
       " 1049: 10,\n",
       " 564: 93,\n",
       " 492: 50,\n",
       " 612: 30,\n",
       " 604: 16,\n",
       " 605: 25,\n",
       " 660: 19,\n",
       " 1068: 8,\n",
       " 779: 8,\n",
       " 873: 34,\n",
       " 473: 44,\n",
       " 1428: 2,\n",
       " 227: 32,\n",
       " 435: 56,\n",
       " 1188: 13,\n",
       " 1229: 9,\n",
       " 1184: 13,\n",
       " 1270: 11,\n",
       " 1478: 4,\n",
       " 66: 154,\n",
       " 579: 18,\n",
       " 770: 18,\n",
       " 264: 164,\n",
       " 1005: 10,\n",
       " 60: 56,\n",
       " 843: 10,\n",
       " 1021: 2,\n",
       " 1035: 5,\n",
       " 86: 187,\n",
       " 464: 22,\n",
       " 1162: 6,\n",
       " 890: 4,\n",
       " 925: 6,\n",
       " 805: 11,\n",
       " 288: 6,\n",
       " 290: 20,\n",
       " 721: 18,\n",
       " 280: 94,\n",
       " 822: 12,\n",
       " 1385: 2,\n",
       " 1251: 4,\n",
       " 886: 35,\n",
       " 899: 6,\n",
       " 1308: 10,\n",
       " 95: 40,\n",
       " 1473: 2,\n",
       " 872: 16,\n",
       " 1061: 8,\n",
       " 414: 53,\n",
       " 463: 26,\n",
       " 653: 45,\n",
       " 367: 76,\n",
       " 532: 53,\n",
       " 448: 75,\n",
       " 269: 69,\n",
       " 250: 18,\n",
       " 192: 153,\n",
       " 1121: 9,\n",
       " 580: 18,\n",
       " 365: 92,\n",
       " 468: 4,\n",
       " 539: 2,\n",
       " 615: 28,\n",
       " 616: 2,\n",
       " 617: 2,\n",
       " 370: 37,\n",
       " 566: 29,\n",
       " 254: 30,\n",
       " 654: 8,\n",
       " 203: 70,\n",
       " 795: 4,\n",
       " 419: 8,\n",
       " 966: 15,\n",
       " 489: 59,\n",
       " 867: 10,\n",
       " 529: 25,\n",
       " 1255: 2,\n",
       " 1417: 4,\n",
       " 1418: 2,\n",
       " 1419: 3,\n",
       " 1283: 13,\n",
       " 348: 21,\n",
       " 736: 25,\n",
       " 1692: 4,\n",
       " 1693: 2,\n",
       " 537: 46,\n",
       " 1216: 11,\n",
       " 1762: 1,\n",
       " 1514: 5,\n",
       " 1325: 6,\n",
       " 1774: 2,\n",
       " 1654: 7,\n",
       " 452: 20,\n",
       " 416: 40,\n",
       " 453: 18,\n",
       " 255: 67,\n",
       " 575: 91,\n",
       " 783: 20,\n",
       " 474: 10,\n",
       " 658: 42,\n",
       " 874: 4,\n",
       " 563: 80,\n",
       " 1204: 1,\n",
       " 1205: 1,\n",
       " 423: 19,\n",
       " 366: 69,\n",
       " 1624: 2,\n",
       " 1207: 12,\n",
       " 462: 46,\n",
       " 1651: 2,\n",
       " 1630: 4,\n",
       " 1652: 2,\n",
       " 1653: 2,\n",
       " 1534: 7,\n",
       " 1107: 17,\n",
       " 1103: 8,\n",
       " 347: 13,\n",
       " 572: 21,\n",
       " 573: 43,\n",
       " 1303: 4,\n",
       " 739: 8,\n",
       " 740: 4,\n",
       " 1366: 4,\n",
       " 1086: 17,\n",
       " 1237: 17,\n",
       " 222: 53,\n",
       " 339: 28,\n",
       " 534: 59,\n",
       " 460: 14,\n",
       " 1018: 6,\n",
       " 894: 21,\n",
       " 114: 35,\n",
       " 309: 32,\n",
       " 426: 12,\n",
       " 750: 11,\n",
       " 1125: 12,\n",
       " 1126: 4,\n",
       " 723: 12,\n",
       " 268: 42,\n",
       " 931: 8,\n",
       " 421: 15,\n",
       " 1215: 16,\n",
       " 393: 61,\n",
       " 223: 152,\n",
       " 1367: 2,\n",
       " 1072: 12,\n",
       " 540: 28,\n",
       " 1482: 4,\n",
       " 1511: 5,\n",
       " 763: 25,\n",
       " 644: 11,\n",
       " 1496: 8,\n",
       " 1449: 8,\n",
       " 877: 18,\n",
       " 607: 56,\n",
       " 1750: 2,\n",
       " 1219: 16,\n",
       " 1388: 12,\n",
       " 417: 37,\n",
       " 582: 14,\n",
       " 1759: 3,\n",
       " 512: 13,\n",
       " 896: 5,\n",
       " 1039: 15,\n",
       " 141: 10,\n",
       " 496: 2,\n",
       " 215: 23,\n",
       " 498: 26,\n",
       " 552: 49,\n",
       " 781: 4,\n",
       " 775: 9,\n",
       " 204: 159,\n",
       " 952: 2,\n",
       " 1040: 6,\n",
       " 688: 64,\n",
       " 672: 72,\n",
       " 999: 9,\n",
       " 307: 44,\n",
       " 1012: 10,\n",
       " 1246: 5,\n",
       " 388: 16,\n",
       " 1276: 12,\n",
       " 698: 31,\n",
       " 409: 86,\n",
       " 1492: 2,\n",
       " 1493: 2,\n",
       " 1457: 4,\n",
       " 1605: 2,\n",
       " 535: 54,\n",
       " 493: 4,\n",
       " 494: 2,\n",
       " 495: 2,\n",
       " 526: 75,\n",
       " 527: 14,\n",
       " 706: 5,\n",
       " 762: 4,\n",
       " 785: 1,\n",
       " 755: 9,\n",
       " 202: 34,\n",
       " 1015: 25,\n",
       " 59: 32,\n",
       " 397: 26,\n",
       " 438: 19,\n",
       " 522: 67,\n",
       " 639: 14,\n",
       " 1316: 5,\n",
       " 1317: 2,\n",
       " 897: 17,\n",
       " 898: 4,\n",
       " 1318: 2,\n",
       " 1319: 2,\n",
       " 174: 14,\n",
       " 1243: 4,\n",
       " 710: 56,\n",
       " 1226: 10,\n",
       " 876: 7,\n",
       " 1329: 5,\n",
       " 1337: 2,\n",
       " 194: 21,\n",
       " 317: 61,\n",
       " 868: 40,\n",
       " 1373: 2,\n",
       " 1374: 2,\n",
       " 1375: 2,\n",
       " 1376: 2,\n",
       " 1377: 2,\n",
       " 1396: 2,\n",
       " 1397: 2,\n",
       " 1020: 14,\n",
       " 1402: 2,\n",
       " 1403: 2,\n",
       " 1404: 7,\n",
       " 1405: 2,\n",
       " 405: 16,\n",
       " 1475: 2,\n",
       " 992: 8,\n",
       " 259: 11,\n",
       " 394: 8,\n",
       " 1602: 3,\n",
       " 153: 101,\n",
       " 384: 59,\n",
       " 1051: 4,\n",
       " 437: 25,\n",
       " 690: 10,\n",
       " 784: 4,\n",
       " 398: 37,\n",
       " 924: 3,\n",
       " 606: 9,\n",
       " 411: 6,\n",
       " 342: 5,\n",
       " 647: 58,\n",
       " 813: 23,\n",
       " 1269: 2,\n",
       " 410: 33,\n",
       " 1447: 2,\n",
       " 1448: 2,\n",
       " 1450: 4,\n",
       " 1462: 4,\n",
       " 1463: 2,\n",
       " 1476: 1,\n",
       " 1491: 4,\n",
       " 1518: 2,\n",
       " 1519: 2,\n",
       " 1520: 2,\n",
       " 500: 6,\n",
       " 501: 6,\n",
       " 1472: 12,\n",
       " 424: 31,\n",
       " 427: 37,\n",
       " 1579: 2,\n",
       " 1580: 2,\n",
       " 368: 52,\n",
       " 1058: 8,\n",
       " 1234: 5,\n",
       " 1689: 1,\n",
       " 1540: 8,\n",
       " 1466: 4,\n",
       " 1178: 13,\n",
       " 989: 6,\n",
       " 160: 21,\n",
       " 475: 25,\n",
       " 58: 57,\n",
       " 508: 40,\n",
       " 548: 6,\n",
       " 588: 10,\n",
       " 652: 26,\n",
       " 651: 9,\n",
       " 195: 16,\n",
       " 196: 30,\n",
       " 197: 30,\n",
       " 1067: 9,\n",
       " 636: 12,\n",
       " 1069: 2,\n",
       " 1070: 12,\n",
       " 1071: 6,\n",
       " 1192: 6,\n",
       " 432: 13,\n",
       " 455: 15,\n",
       " 858: 16,\n",
       " 744: 27,\n",
       " 149: 35,\n",
       " 726: 7,\n",
       " 212: 58,\n",
       " 577: 22,\n",
       " 481: 23,\n",
       " 1549: 3,\n",
       " 1038: 19,\n",
       " 1538: 5,\n",
       " 525: 6,\n",
       " 487: 14,\n",
       " 458: 31,\n",
       " 982: 9,\n",
       " 854: 16,\n",
       " 557: 8,\n",
       " 1667: 9,\n",
       " 171: 9,\n",
       " 172: 1,\n",
       " 173: 1,\n",
       " 232: 9,\n",
       " 553: 12,\n",
       " 794: 23,\n",
       " 599: 13,\n",
       " 1088: 5,\n",
       " 642: 8,\n",
       " 208: 31,\n",
       " 1098: 2,\n",
       " 738: 16,\n",
       " 1099: 4,\n",
       " 1160: 2,\n",
       " 413: 6,\n",
       " 541: 52,\n",
       " 1296: 2,\n",
       " 637: 18,\n",
       " 545: 49,\n",
       " 1236: 25,\n",
       " 1300: 2,\n",
       " 1301: 4,\n",
       " 1324: 1,\n",
       " 1250: 23,\n",
       " 1586: 3,\n",
       " 850: 13,\n",
       " 1587: 2,\n",
       " 1588: 4,\n",
       " 396: 54,\n",
       " 92: 54,\n",
       " 1423: 4,\n",
       " 1102: 9,\n",
       " 446: 11,\n",
       " 1590: 2,\n",
       " 1591: 2,\n",
       " 1700: 4,\n",
       " 240: 17,\n",
       " 108: 31,\n",
       " 692: 8,\n",
       " 313: 31,\n",
       " 314: 2,\n",
       " 315: 8,\n",
       " 316: 7,\n",
       " 509: 7,\n",
       " 510: 8,\n",
       " 513: 12,\n",
       " 861: 2,\n",
       " 908: 10,\n",
       " 765: 19,\n",
       " 1023: 2,\n",
       " 888: 4,\n",
       " 1024: 2,\n",
       " 1025: 2,\n",
       " 1026: 2,\n",
       " 436: 10,\n",
       " 622: 27,\n",
       " 252: 20,\n",
       " 1127: 2,\n",
       " 221: 8,\n",
       " 1161: 2,\n",
       " 210: 64,\n",
       " 346: 54,\n",
       " 1083: 18,\n",
       " 753: 58,\n",
       " 303: 21,\n",
       " 1298: 4,\n",
       " 915: 29,\n",
       " 1166: 6,\n",
       " 1054: 22,\n",
       " 1360: 12,\n",
       " 1393: 2,\n",
       " 430: 10,\n",
       " 1477: 2,\n",
       " 441: 5,\n",
       " 1488: 4,\n",
       " 1527: 11,\n",
       " 1581: 2,\n",
       " 1582: 2,\n",
       " 1583: 2,\n",
       " 1584: 2,\n",
       " 1217: 6,\n",
       " 882: 4,\n",
       " 189: 95,\n",
       " 749: 4,\n",
       " 331: 123,\n",
       " 774: 11,\n",
       " 719: 48,\n",
       " 467: 25,\n",
       " 477: 19,\n",
       " 1109: 2,\n",
       " 1110: 7,\n",
       " 402: 13,\n",
       " 766: 8,\n",
       " 1306: 4,\n",
       " 1343: 3,\n",
       " 233: 29,\n",
       " 1339: 5,\n",
       " 724: 11,\n",
       " 725: 11,\n",
       " 1080: 7,\n",
       " 1358: 6,\n",
       " 1494: 2,\n",
       " 851: 21,\n",
       " 1572: 2,\n",
       " 1573: 2,\n",
       " 659: 11,\n",
       " 689: 8,\n",
       " 1656: 4,\n",
       " 1657: 1,\n",
       " 1248: 5,\n",
       " 322: 10,\n",
       " 297: 11,\n",
       " 491: 27,\n",
       " 675: 3,\n",
       " 819: 3,\n",
       " 820: 3,\n",
       " 985: 4,\n",
       " 385: 25,\n",
       " 1077: 5,\n",
       " 1078: 3,\n",
       " 570: 33,\n",
       " 1101: 8,\n",
       " 665: 6,\n",
       " 1198: 1,\n",
       " 1159: 6,\n",
       " 1199: 3,\n",
       " 827: 16,\n",
       " 1244: 4,\n",
       " 1245: 4,\n",
       " 1112: 4,\n",
       " 1415: 6,\n",
       " 209: 23,\n",
       " 118: 18,\n",
       " 320: 25,\n",
       " 948: 12,\n",
       " 443: 8,\n",
       " 444: 8,\n",
       " 445: 5,\n",
       " 1291: 3,\n",
       " 1506: 4,\n",
       " 1097: 13,\n",
       " 1507: 2,\n",
       " 1157: 9,\n",
       " 137: 32,\n",
       " 1600: 2,\n",
       " 902: 8,\n",
       " 1669: 2,\n",
       " 909: 7,\n",
       " 1206: 6,\n",
       " 643: 20,\n",
       " 788: 3,\n",
       " 789: 12,\n",
       " 218: 15,\n",
       " 431: 15,\n",
       " 211: 39,\n",
       " 1052: 7,\n",
       " 1227: 4,\n",
       " 106: 20,\n",
       " 1323: 3,\n",
       " 946: 4,\n",
       " 1043: 6,\n",
       " 620: 11,\n",
       " 213: 7,\n",
       " 1016: 3,\n",
       " 1629: 2,\n",
       " 1053: 6,\n",
       " 1065: 12,\n",
       " 1574: 8,\n",
       " 663: 3,\n",
       " 751: 4,\n",
       " 1256: 2,\n",
       " 1257: 2,\n",
       " 318: 13,\n",
       " 1119: 11,\n",
       " 275: 26,\n",
       " 914: 13,\n",
       " 1426: 4,\n",
       " 1427: 2,\n",
       " 958: 8,\n",
       " 1446: 1,\n",
       " 628: 10,\n",
       " 1526: 2,\n",
       " 1022: 7,\n",
       " 997: 10,\n",
       " 991: 20,\n",
       " 684: 23,\n",
       " 1634: 2,\n",
       " 1641: 5,\n",
       " 1674: 1,\n",
       " 695: 27,\n",
       " 1694: 2,\n",
       " 960: 17,\n",
       " 1695: 2,\n",
       " 403: 32,\n",
       " 1740: 2,\n",
       " 1458: 6,\n",
       " 1569: 4,\n",
       " 344: 2,\n",
       " 562: 8,\n",
       " 565: 2,\n",
       " 583: 7,\n",
       " 554: 10,\n",
       " 585: 13,\n",
       " 586: 13,\n",
       " 587: 3,\n",
       " 937: 1,\n",
       " 591: 18,\n",
       " 1075: 2,\n",
       " 161: 18,\n",
       " 162: 14,\n",
       " 1122: 5,\n",
       " 961: 11,\n",
       " 976: 4,\n",
       " ...}"
      ]
     },
     "execution_count": 26,
     "metadata": {},
     "output_type": "execute_result"
    }
   ],
   "source": [
    "word_appearances, words_count, sentences_count = get_dataset_stats(train_dataset)"
   ]
  },
  {
   "cell_type": "code",
   "execution_count": 67,
   "metadata": {
    "hidden": true
   },
   "outputs": [],
   "source": [
    "import matplotlib.pyplot as plt\n",
    "import numpy as np"
   ]
  },
  {
   "cell_type": "code",
   "execution_count": 65,
   "metadata": {
    "hidden": true
   },
   "outputs": [],
   "source": [
    "def plot_counter(counter, title):\n",
    "    x = list(counter.keys())\n",
    "    y = list(counter.values())\n",
    "    \n",
    "    plt.bar(x, y)\n",
    "    plt.title(title)"
   ]
  },
  {
   "cell_type": "code",
   "execution_count": 66,
   "metadata": {
    "hidden": true
   },
   "outputs": [
    {
     "data": {
      "image/png": "[encoded data removed]",
      "text/plain": [
       "<Figure size 432x288 with 1 Axes>"
      ]
     },
     "metadata": {
      "needs_background": "light"
     },
     "output_type": "display_data"
    }
   ],
   "source": [
    "plot_counter(Counter(words_count), 'words')"
   ]
  },
  {
   "cell_type": "code",
   "execution_count": 70,
   "metadata": {
    "hidden": true
   },
   "outputs": [
    {
     "data": {
      "image/png": "[encoded data removed]",
      "text/plain": [
       "<Figure size 432x288 with 1 Axes>"
      ]
     },
     "metadata": {
      "needs_background": "light"
     },
     "output_type": "display_data"
    }
   ],
   "source": [
    "plot_counter(Counter(sentences_count), 'sentences')"
   ]
  },
  {
   "cell_type": "code",
   "execution_count": 77,
   "metadata": {
    "hidden": true
   },
   "outputs": [],
   "source": [
    "counter = Counter(sentences_count)"
   ]
  },
  {
   "cell_type": "code",
   "execution_count": 94,
   "metadata": {
    "hidden": true
   },
   "outputs": [],
   "source": [
    "def get_percentiles(counter):\n",
    "    items = sorted(counter.items())\n",
    "\n",
    "    keys, values = zip(*items)\n",
    "\n",
    "    return list(zip(keys, np.cumsum(values) / total * 100))"
   ]
  },
  {
   "cell_type": "code",
   "execution_count": 95,
   "metadata": {
    "collapsed": true,
    "hidden": true
   },
   "outputs": [
    {
     "data": {
      "text/plain": [
       "[(4, 0.30390005065000847),\n",
       " (5, 0.3376667229444538),\n",
       " (6, 0.37143339523889923),\n",
       " (7, 0.5402667567111261),\n",
       " (8, 0.7259834543305757),\n",
       " (9, 0.9792334965389161),\n",
       " (10, 1.3169002194833699),\n",
       " (11, 1.485733580955597),\n",
       " (12, 2.566267094377849),\n",
       " (13, 3.2922505487084246),\n",
       " (14, 4.575384095897349),\n",
       " (15, 5.689684281614047),\n",
       " (16, 6.196184366030728),\n",
       " (17, 8.340368056728009),\n",
       " (18, 9.724801620800271),\n",
       " (19, 13.169002194833698),\n",
       " (20, 14.452135742022623),\n",
       " (21, 16.35995272665879),\n",
       " (22, 18.183353030558838),\n",
       " (23, 21.27300354550059),\n",
       " (24, 23.65355394225899),\n",
       " (25, 26.118521019753505),\n",
       " (26, 29.461421576903597),\n",
       " (27, 33.327705554617594),\n",
       " (28, 36.451122741853794),\n",
       " (29, 39.135573189262196),\n",
       " (30, 41.83690697281783),\n",
       " (31, 43.93044065507345),\n",
       " (32, 46.96944116157353),\n",
       " (33, 50.05909167651528),\n",
       " (34, 52.017558669593114),\n",
       " (35, 55.4279925713321),\n",
       " (36, 58.07867634644606),\n",
       " (37, 62.367043727840624),\n",
       " (38, 64.25797737632956),\n",
       " (39, 66.38527773087962),\n",
       " (40, 68.76582812763802),\n",
       " (41, 70.94377849062975),\n",
       " (42, 72.27756204626034),\n",
       " (43, 74.45551240925207),\n",
       " (44, 76.042546007091),\n",
       " (45, 77.54516292419382),\n",
       " (46, 79.16596319432719),\n",
       " (47, 80.39844673307445),\n",
       " (48, 81.63093027182171),\n",
       " (49, 82.8127638021273),\n",
       " (50, 83.82576397096067),\n",
       " (51, 84.82188080364679),\n",
       " (52, 85.7166976194496),\n",
       " (53, 86.44268107378018),\n",
       " (54, 87.32061455343576),\n",
       " (55, 88.13101468850245),\n",
       " (56, 89.07648151274692),\n",
       " (57, 89.68428161404694),\n",
       " (58, 90.86611514435252),\n",
       " (59, 91.57521526253588),\n",
       " (60, 92.267432044572),\n",
       " (61, 92.82458213743035),\n",
       " (62, 93.02718217119703),\n",
       " (63, 93.5336822556137),\n",
       " (64, 93.87134897855816),\n",
       " (65, 94.3440823906804),\n",
       " (66, 94.71551578591931),\n",
       " (67, 95.20513253418875),\n",
       " (68, 95.50903258483876),\n",
       " (69, 95.89734931622489),\n",
       " (70, 96.13371602228601),\n",
       " (71, 96.60644943440823),\n",
       " (72, 96.74151612358602),\n",
       " (73, 97.04541617423604),\n",
       " (74, 97.28178288029716),\n",
       " (75, 97.45061624176937),\n",
       " (76, 97.58568293094716),\n",
       " (77, 97.82204963700826),\n",
       " (78, 97.94023299003884),\n",
       " (79, 98.10906635151106),\n",
       " (80, 98.22724970454162),\n",
       " (81, 98.27789971298328),\n",
       " (82, 98.3623163937194),\n",
       " (83, 98.42984973830829),\n",
       " (84, 98.63244977207496),\n",
       " (85, 98.6662164443694),\n",
       " (86, 98.7337497889583),\n",
       " (87, 98.85193314198885),\n",
       " (88, 98.90258315043053),\n",
       " (89, 98.93634982272496),\n",
       " (90, 99.1051831841972),\n",
       " (91, 99.15583319263887),\n",
       " (92, 99.18959986493331),\n",
       " (93, 99.2571332095222),\n",
       " (94, 99.34154989025832),\n",
       " (96, 99.35843322640554),\n",
       " (97, 99.42596657099443),\n",
       " (98, 99.51038325173054),\n",
       " (99, 99.57791659631944),\n",
       " (100, 99.61168326861389),\n",
       " (101, 99.64544994090832),\n",
       " (105, 99.67921661320277),\n",
       " (106, 99.74674995779166),\n",
       " (109, 99.7805166300861),\n",
       " (116, 99.81428330238055),\n",
       " (138, 99.86493331082222),\n",
       " (143, 99.9324666554111),\n",
       " (147, 99.94934999155834),\n",
       " (162, 99.98311666385278),\n",
       " (186, 100.0)]"
      ]
     },
     "execution_count": 95,
     "metadata": {},
     "output_type": "execute_result"
    }
   ],
   "source": [
    "get_percentiles(Counter(words_count))"
   ]
  },
  {
   "cell_type": "code",
   "execution_count": 96,
   "metadata": {
    "collapsed": true,
    "hidden": true
   },
   "outputs": [
    {
     "data": {
      "text/plain": [
       "[(1, 1.2324835387472564),\n",
       " (2, 4.761100793516799),\n",
       " (3, 25.730204288367382),\n",
       " (4, 55.10720918453487),\n",
       " (5, 76.66722944453824),\n",
       " (6, 89.39726489954415),\n",
       " (7, 95.03629917271653),\n",
       " (8, 97.6194496032416),\n",
       " (9, 98.86881647813608),\n",
       " (10, 99.42596657099443),\n",
       " (11, 99.71298328549722),\n",
       " (12, 99.89869998311667),\n",
       " (13, 99.96623332770555),\n",
       " (17, 99.98311666385278),\n",
       " (18, 100.0)]"
      ]
     },
     "execution_count": 96,
     "metadata": {},
     "output_type": "execute_result"
    }
   ],
   "source": [
    "get_percentiles(Counter(sentences_count))"
   ]
  },
  {
   "cell_type": "code",
   "execution_count": null,
   "metadata": {
    "hidden": true
   },
   "outputs": [],
   "source": []
  },
  {
   "cell_type": "code",
   "execution_count": null,
   "metadata": {
    "hidden": true
   },
   "outputs": [],
   "source": []
  },
  {
   "cell_type": "markdown",
   "metadata": {
    "heading_collapsed": true
   },
   "source": [
    "## Evaluate models in subsets"
   ]
  },
  {
   "cell_type": "code",
   "execution_count": 7,
   "metadata": {
    "hidden": true
   },
   "outputs": [],
   "source": [
    "%run -n train_report_generation.py\n",
    "%run datasets/__init__.py\n",
    "%run models/checkpoint/__init__.py\n",
    "%run training/report_generation/flat.py\n",
    "%run training/report_generation/hierarchical.py\n",
    "%run models/report_generation/__init__.py"
   ]
  },
  {
   "cell_type": "code",
   "execution_count": 8,
   "metadata": {
    "hidden": true
   },
   "outputs": [],
   "source": [
    "def eval_in_subset(run_name, compiled_model, debug=True, max_n_words=None, max_n_sentences=None,\n",
    "                   device='cuda'):\n",
    "    # Create datasets\n",
    "    vocab = compiled_model.metadata['vocab']\n",
    "    train_dataset = IUXRayDataset('train', vocab=vocab)\n",
    "    val_dataset = IUXRayDataset('val', vocab=vocab)\n",
    "    test_dataset = IUXRayDataset('test', vocab=vocab)\n",
    "    \n",
    "    # Prepare subsets\n",
    "    subset_kwargs = {\n",
    "        'max_n_words': max_n_words,\n",
    "        'max_n_sentences': max_n_sentences,\n",
    "    }\n",
    "    \n",
    "    train_subset = create_report_dataset_subset(train_dataset, **subset_kwargs)\n",
    "    val_subset = create_report_dataset_subset(val_dataset, **subset_kwargs)\n",
    "    test_subset = create_report_dataset_subset(test_dataset, **subset_kwargs)\n",
    "    \n",
    "    # Decide hierachical\n",
    "    decoder_name = compiled_model.metadata['decoder_kwargs']['decoder_name']\n",
    "    hierarchical = is_decoder_hierarchical(decoder_name)\n",
    "    if hierarchical:\n",
    "        create_dataloader = create_hierarchical_dataloader\n",
    "    else:\n",
    "        create_dataloader = create_flat_dataloader\n",
    "\n",
    "    # Create dataloaders\n",
    "    BS = 50\n",
    "    train_dataloader = create_dataloader(train_subset, batch_size=BS)\n",
    "    val_dataloader = create_dataloader(val_subset, batch_size=BS)\n",
    "    test_dataloader = create_dataloader(test_subset, batch_size=BS)\n",
    "    \n",
    "    # Create a suffix\n",
    "    if max_n_words:\n",
    "        suffix = f'max-words-{max_n_words}'\n",
    "    elif max_n_sentences:\n",
    "        suffix = f'max-sentences-{max_n_sentences}'\n",
    "        \n",
    "    evaluate_and_save(run_name,\n",
    "                      compiled_model.model,\n",
    "                      train_dataloader,\n",
    "                      val_dataloader,\n",
    "                      test_dataloader,\n",
    "                      hierarchical=hierarchical,\n",
    "                      debug=debug,\n",
    "                      device=device,\n",
    "                      suffix=suffix,\n",
    "                     )"
   ]
  },
  {
   "cell_type": "code",
   "execution_count": 13,
   "metadata": {
    "hidden": true
   },
   "outputs": [],
   "source": [
    "eval_n_words = [\n",
    "    20 , # --> 15%\n",
    "    25 , # --> 26%\n",
    "    27 , # --> 33%\n",
    "    33 , # --> 50%\n",
    "#     39 , # --> 66%\n",
    "#     41 , # --> 70%\n",
    "    44 , # --> 75%\n",
    "#     47 , # --> 80%\n",
    "#     58 , # --> 90%\n",
    "    # None, # --> 100%\n",
    "]"
   ]
  },
  {
   "cell_type": "code",
   "execution_count": 14,
   "metadata": {
    "hidden": true
   },
   "outputs": [],
   "source": [
    "eval_n_sentences = [\n",
    "#     1, # 1.2324835387472564\n",
    "#     2, # 4.761100793516799\n",
    "    3, # 25.730204288367382\n",
    "    4, # 55.10720918453487\n",
    "    5, # 76.66722944453824\n",
    "    6, # 89.39726489954415\n",
    "#     7, # 95.03629917271653\n",
    "#     8, # 97.6194496032416\n",
    "#     9, # 98.86881647813608\n",
    "#     10, # 99.42596657099443\n",
    "#     11, # 99.71298328549722\n",
    "#     12, # 99.89869998311667\n",
    "#     13, # 99.96623332770555\n",
    "#     17, # 99.98311666385278\n",
    "#     18, # 100\n",
    "]"
   ]
  },
  {
   "cell_type": "code",
   "execution_count": 15,
   "metadata": {
    "hidden": true
   },
   "outputs": [],
   "source": [
    "run_names = [\n",
    "#     '0717_041434_lstm_lr0.0001_densenet-121',\n",
    "    '0716_211601_lstm-att_lr0.0001_densenet-121', # faltan 33 y 34\n",
    "#     '0717_015057_h-lstm_lr0.0001_densenet-121',\n",
    "#     '0716_234501_h-lstm-att_lr0.0001_densenet-121',\n",
    "]\n",
    "debug = False"
   ]
  },
  {
   "cell_type": "code",
   "execution_count": 16,
   "metadata": {
    "hidden": true
   },
   "outputs": [
    {
     "data": {
      "application/vnd.jupyter.widget-view+json": {
       "model_id": "be6ea337180f4a6f9d5e1c2f68b4c3fc",
       "version_major": 2,
       "version_minor": 0
      },
      "text/plain": [
       "HBox(children=(FloatProgress(value=0.0, max=2.0), HTML(value='')))"
      ]
     },
     "metadata": {},
     "output_type": "display_data"
    },
    {
     "name": "stdout",
     "output_type": "stream",
     "text": [
      "Evaluating model in train...\n",
      "Evaluating model in val...\n",
      "Evaluating model in test...\n",
      "Saved metrics to /mnt/workspace/medical-report-generation/report_generation/results/0716_211601_lstm-att_lr0.0001_densenet-121/metrics-max-words-33.json\n",
      "Evaluating model in train...\n",
      "Evaluating model in val...\n",
      "Evaluating model in test...\n",
      "Saved metrics to /mnt/workspace/medical-report-generation/report_generation/results/0716_211601_lstm-att_lr0.0001_densenet-121/metrics-max-words-44.json\n",
      "\n"
     ]
    },
    {
     "data": {
      "application/vnd.jupyter.widget-view+json": {
       "model_id": "a50ab56b798e43d780c1594765504775",
       "version_major": 2,
       "version_minor": 0
      },
      "text/plain": [
       "HBox(children=(FloatProgress(value=0.0, max=4.0), HTML(value='')))"
      ]
     },
     "metadata": {},
     "output_type": "display_data"
    },
    {
     "name": "stdout",
     "output_type": "stream",
     "text": [
      "Evaluating model in train...\n",
      "Evaluating model in val...\n",
      "Evaluating model in test...\n",
      "Saved metrics to /mnt/workspace/medical-report-generation/report_generation/results/0716_211601_lstm-att_lr0.0001_densenet-121/metrics-max-sentences-3.json\n",
      "Evaluating model in train...\n",
      "Evaluating model in val...\n",
      "Evaluating model in test...\n",
      "Saved metrics to /mnt/workspace/medical-report-generation/report_generation/results/0716_211601_lstm-att_lr0.0001_densenet-121/metrics-max-sentences-4.json\n",
      "Evaluating model in train...\n",
      "Evaluating model in val...\n",
      "Evaluating model in test...\n",
      "Saved metrics to /mnt/workspace/medical-report-generation/report_generation/results/0716_211601_lstm-att_lr0.0001_densenet-121/metrics-max-sentences-5.json\n",
      "Evaluating model in train...\n",
      "Evaluating model in val...\n",
      "Evaluating model in test...\n",
      "Saved metrics to /mnt/workspace/medical-report-generation/report_generation/results/0716_211601_lstm-att_lr0.0001_densenet-121/metrics-max-sentences-6.json\n",
      "\n"
     ]
    }
   ],
   "source": [
    "for run_name in run_names:\n",
    "    compiled_model = load_compiled_model_report_generation(run_name,\n",
    "                                                           debug=debug,\n",
    "                                                           multiple_gpu=True,\n",
    "                                                           device=DEVICE)\n",
    "    for n_words in tqdm(eval_n_words):\n",
    "        eval_in_subset(run_name,\n",
    "                       compiled_model,\n",
    "                       max_n_words=n_words,\n",
    "                       max_n_sentences=None,\n",
    "                       debug=debug,\n",
    "                       device=DEVICE,\n",
    "                      )\n",
    "    for n_sentences in tqdm(eval_n_sentences):\n",
    "        eval_in_subset(run_name,\n",
    "                       compiled_model,\n",
    "                       max_n_words=None,\n",
    "                       max_n_sentences=n_sentences,\n",
    "                       debug=debug,\n",
    "                       device=DEVICE,\n",
    "                      )"
   ]
  },
  {
   "cell_type": "code",
   "execution_count": null,
   "metadata": {
    "hidden": true
   },
   "outputs": [],
   "source": []
  },
  {
   "cell_type": "markdown",
   "metadata": {
    "heading_collapsed": true
   },
   "source": [
    "## Eval H-LSTM outputs"
   ]
  },
  {
   "cell_type": "markdown",
   "metadata": {
    "hidden": true
   },
   "source": [
    "### Load model"
   ]
  },
  {
   "cell_type": "code",
   "execution_count": 7,
   "metadata": {
    "hidden": true
   },
   "outputs": [],
   "source": [
    "%run ../models/report_generation/__init__.py\n",
    "%run ../models/checkpoint/__init__.py"
   ]
  },
  {
   "cell_type": "code",
   "execution_count": 8,
   "metadata": {
    "hidden": true
   },
   "outputs": [],
   "source": [
    "# run_name = '0716_234501_h-lstm-att_lr0.0001_densenet-121'\n",
    "# run_name = '0717_015057_h-lstm_lr0.0001_densenet-121'\n",
    "# run_name = '0720_192858_lstm_lr0.0001_densenet-121_size256'\n",
    "# run_name = '0717_041434_lstm_lr0.0001_densenet-121'\n",
    "run_name = '0716_211601_lstm-att_lr0.0001_densenet-121'\n",
    "debug = False"
   ]
  },
  {
   "cell_type": "code",
   "execution_count": 9,
   "metadata": {
    "hidden": true
   },
   "outputs": [],
   "source": [
    "compiled_model = load_compiled_model_report_generation(run_name,\n",
    "                                                       debug=debug,\n",
    "                                                       device=DEVICE,\n",
    "                                                      )\n",
    "\n",
    "_ = compiled_model.model.eval()"
   ]
  },
  {
   "cell_type": "code",
   "execution_count": 10,
   "metadata": {
    "hidden": true
   },
   "outputs": [
    {
     "data": {
      "text/plain": [
       "{'decoder_name': 'lstm-att',\n",
       " 'vocab_size': 1775,\n",
       " 'embedding_size': 100,\n",
       " 'hidden_size': 100,\n",
       " 'features_size': [1024, 16, 16],\n",
       " 'teacher_forcing': True}"
      ]
     },
     "execution_count": 10,
     "metadata": {},
     "output_type": "execute_result"
    }
   ],
   "source": [
    "compiled_model.metadata['decoder_kwargs']"
   ]
  },
  {
   "cell_type": "code",
   "execution_count": 11,
   "metadata": {
    "hidden": true
   },
   "outputs": [
    {
     "data": {
      "text/plain": [
       "1775"
      ]
     },
     "execution_count": 11,
     "metadata": {},
     "output_type": "execute_result"
    }
   ],
   "source": [
    "VOCAB = compiled_model.metadata['vocab']\n",
    "len(VOCAB)"
   ]
  },
  {
   "cell_type": "markdown",
   "metadata": {
    "heading_collapsed": true,
    "hidden": true
   },
   "source": [
    "### Load data"
   ]
  },
  {
   "cell_type": "code",
   "execution_count": 12,
   "metadata": {
    "hidden": true
   },
   "outputs": [],
   "source": [
    "%run ../datasets/iu_xray.py"
   ]
  },
  {
   "cell_type": "code",
   "execution_count": 13,
   "metadata": {
    "hidden": true
   },
   "outputs": [
    {
     "data": {
      "text/plain": [
       "(5923, 751, 752)"
      ]
     },
     "execution_count": 13,
     "metadata": {},
     "output_type": "execute_result"
    }
   ],
   "source": [
    "dataset_kwargs = {\n",
    "    'max_samples': None,\n",
    "    'frontal_only': False,\n",
    "    'image_size': (512, 512),\n",
    "    'vocab': VOCAB,\n",
    "}\n",
    "\n",
    "train_dataset = IUXRayDataset(dataset_type='train', **dataset_kwargs)\n",
    "val_dataset = IUXRayDataset(dataset_type='val', **dataset_kwargs)\n",
    "test_dataset = IUXRayDataset(dataset_type='test', **dataset_kwargs)\n",
    "len(train_dataset), len(val_dataset), len(test_dataset)"
   ]
  },
  {
   "cell_type": "markdown",
   "metadata": {
    "heading_collapsed": true,
    "hidden": true
   },
   "source": [
    "### Eval"
   ]
  },
  {
   "cell_type": "code",
   "execution_count": 14,
   "metadata": {
    "hidden": true
   },
   "outputs": [],
   "source": [
    "from ignite.engine import Engine, Events"
   ]
  },
  {
   "cell_type": "code",
   "execution_count": 23,
   "metadata": {
    "hidden": true
   },
   "outputs": [],
   "source": [
    "%run ../training/report_generation/hierarchical.py\n",
    "%run ../training/report_generation/flat.py\n",
    "%run ../utils/nlp.py\n",
    "%run ../utils/__init__.py\n",
    "%run ../metrics/report_generation/__init__.py"
   ]
  },
  {
   "cell_type": "code",
   "execution_count": 16,
   "metadata": {
    "hidden": true
   },
   "outputs": [],
   "source": [
    "is_hierarchical = compiled_model.metadata['decoder_kwargs']['decoder_name'].startswith('h-')\n",
    "\n",
    "if is_hierarchical:\n",
    "    get_step_fn = get_step_fn_hierarchical\n",
    "    create_dataloader = create_hierarchical_dataloader\n",
    "else:\n",
    "    get_step_fn = get_step_fn_flat\n",
    "    create_dataloader = create_flat_dataloader"
   ]
  },
  {
   "cell_type": "code",
   "execution_count": 17,
   "metadata": {
    "hidden": true
   },
   "outputs": [],
   "source": [
    "dataloader = create_dataloader(test_dataset, batch_size=1)"
   ]
  },
  {
   "cell_type": "code",
   "execution_count": 18,
   "metadata": {
    "hidden": true
   },
   "outputs": [],
   "source": [
    "free = True"
   ]
  },
  {
   "cell_type": "code",
   "execution_count": 24,
   "metadata": {
    "hidden": true
   },
   "outputs": [],
   "source": [
    "tester = Engine(get_step_fn(compiled_model.model, training=False, free=free, device=DEVICE))\n",
    "attach_metrics_report_generation(tester, hierarchical=is_hierarchical, free=free)\n",
    "attach_report_writer(tester, VOCAB, run_name, debug=True)"
   ]
  },
  {
   "cell_type": "code",
   "execution_count": 29,
   "metadata": {
    "hidden": true
   },
   "outputs": [
    {
     "data": {
      "text/plain": [
       "'test'"
      ]
     },
     "execution_count": 29,
     "metadata": {},
     "output_type": "execute_result"
    }
   ],
   "source": [
    "tester.state.dataloader.dataset.dataset_type"
   ]
  },
  {
   "cell_type": "code",
   "execution_count": null,
   "metadata": {
    "hidden": true
   },
   "outputs": [],
   "source": []
  },
  {
   "cell_type": "code",
   "execution_count": 25,
   "metadata": {
    "hidden": true
   },
   "outputs": [
    {
     "data": {
      "text/plain": [
       "State:\n",
       "\titeration: 752\n",
       "\tepoch: 1\n",
       "\tepoch_length: 752\n",
       "\tmax_epochs: 1\n",
       "\toutput: <class 'dict'>\n",
       "\tbatch: <class 'medai.datasets.common.BatchItems'>\n",
       "\tmetrics: <class 'dict'>\n",
       "\tdataloader: <class 'torch.utils.data.dataloader.DataLoader'>\n",
       "\tseed: <class 'NoneType'>\n",
       "\ttimes: <class 'dict'>"
      ]
     },
     "execution_count": 25,
     "metadata": {},
     "output_type": "execute_result"
    }
   ],
   "source": [
    "tester.run(dataloader, 1)"
   ]
  },
  {
   "cell_type": "code",
   "execution_count": 33,
   "metadata": {
    "hidden": true
   },
   "outputs": [
    {
     "data": {
      "text/plain": [
       "{'loss': -1.0,\n",
       " 'bleu1': 0.2274829111379126,\n",
       " 'bleu2': 0.14307057645948942,\n",
       " 'bleu3': 0.09893463044593184,\n",
       " 'bleu4': 0.0713106247352369,\n",
       " 'bleu': 0.1351996856946427,\n",
       " 'rougeL': 0.27017315624793853,\n",
       " 'ciderD': 0.10152144255592997}"
      ]
     },
     "execution_count": 33,
     "metadata": {},
     "output_type": "execute_result"
    }
   ],
   "source": [
    "tester.state.metrics"
   ]
  },
  {
   "cell_type": "code",
   "execution_count": null,
   "metadata": {
    "hidden": true
   },
   "outputs": [],
   "source": []
  },
  {
   "cell_type": "code",
   "execution_count": null,
   "metadata": {
    "hidden": true
   },
   "outputs": [],
   "source": []
  },
  {
   "cell_type": "code",
   "execution_count": 24,
   "metadata": {
    "hidden": true
   },
   "outputs": [],
   "source": [
    "def eval_sample(compiled_model, image, report,\n",
    "                show=True, device=DEVICE, free=False, **kwargs):\n",
    "    report_reader = ReportReader(compiled_model.metadata['vocab'])\n",
    "    \n",
    "    is_hierarchical = compiled_model.metadata['decoder_kwargs']['decoder_name'].startswith('h-')\n",
    "    \n",
    "    # Prepare inputs\n",
    "    images = image.unsqueeze(0).to(device)\n",
    "    if is_hierarchical:\n",
    "        reports = split_sentences_and_pad(report)\n",
    "    else:\n",
    "        reports = torch.tensor(report)\n",
    "\n",
    "    reports = reports.unsqueeze(0).to(device)\n",
    "    \n",
    "    # Pass thru model\n",
    "    if not is_hierarchical:\n",
    "        del kwargs['max_sentences']\n",
    "    tup = compiled_model.model(images, reports, free=free, **kwargs)\n",
    "    \n",
    "    # Parse outputs\n",
    "    if is_hierarchical:\n",
    "        generated = _flatten_gen_reports(tup[0], tup[1])\n",
    "    else:\n",
    "        generated = tup[0]\n",
    "        _, generated = generated.max(dim=-1)\n",
    "\n",
    "    generated = generated.squeeze(0).cpu()\n",
    "    \n",
    "    # Print result\n",
    "    original_report = report_reader.idx_to_text(report)\n",
    "    generated_report = report_reader.idx_to_text(generated)\n",
    "    if show:\n",
    "        print(original_report)\n",
    "        print('-'*20)\n",
    "        print(generated_report)\n",
    "        \n",
    "    return original_report, generated_report"
   ]
  },
  {
   "cell_type": "code",
   "execution_count": 31,
   "metadata": {
    "hidden": true
   },
   "outputs": [
    {
     "name": "stdout",
     "output_type": "stream",
     "text": [
      "heart normal . lungs clear . calcified left lower lobe 5 mm granuloma\n",
      "--------------------\n",
      "heart normal . lungs clear . no pneumothorax or pleural effusion . END\n"
     ]
    }
   ],
   "source": [
    "idx = 200\n",
    "\n",
    "image, report = train_dataset[idx]\n",
    "\n",
    "gt, gen = eval_sample(compiled_model, image, report,\n",
    "                      free=True, max_sentences=100, max_words=100)"
   ]
  },
  {
   "cell_type": "markdown",
   "metadata": {
    "hidden": true
   },
   "source": [
    "### Eval metrics on dataset"
   ]
  },
  {
   "cell_type": "markdown",
   "metadata": {
    "heading_collapsed": true,
    "hidden": true
   },
   "source": [
    "#### BLEU"
   ]
  },
  {
   "cell_type": "code",
   "execution_count": 32,
   "metadata": {
    "hidden": true
   },
   "outputs": [],
   "source": [
    "from pycocoevalcap.bleu import bleu_scorer"
   ]
  },
  {
   "cell_type": "code",
   "execution_count": 33,
   "metadata": {
    "hidden": true
   },
   "outputs": [
    {
     "data": {
      "text/plain": [
       "([0.46153846146745575,\n",
       "  0.43852900958464325,\n",
       "  0.4119912452509562,\n",
       "  0.38058030010480765],\n",
       " 1)"
      ]
     },
     "execution_count": 33,
     "metadata": {},
     "output_type": "execute_result"
    }
   ],
   "source": [
    "s = bleu_scorer.BleuScorer(n=4)\n",
    "s += (gen, [gt])\n",
    "scores_avg, scores_all = s.compute_score()\n",
    "scores_avg, len(scores_all[0])"
   ]
  },
  {
   "cell_type": "code",
   "execution_count": 40,
   "metadata": {
    "hidden": true
   },
   "outputs": [],
   "source": [
    "def eval_dataset(dataset, max_samples=None, free=False):\n",
    "    scorer = bleu_scorer.BleuScorer(n=4)\n",
    "    report_lens = []\n",
    "    \n",
    "    n_samples = len(dataset) if max_samples is None else max_samples\n",
    "    for idx in tqdm(range(n_samples)):\n",
    "        image, report = dataset[idx]\n",
    "\n",
    "        report_lens.append(len(report))\n",
    "\n",
    "        gt, gen = eval_sample(compiled_model, image, report, show=False,\n",
    "                              free=free, max_sentences=100, max_words=20)\n",
    "\n",
    "        scorer += (gen, [gt])\n",
    "    scores_avg, scores_all = scorer.compute_score()\n",
    "    scores_all = np.array(scores_all)\n",
    "\n",
    "    return scores_avg, scores_all, report_lens"
   ]
  },
  {
   "cell_type": "code",
   "execution_count": 269,
   "metadata": {
    "hidden": true
   },
   "outputs": [
    {
     "data": {
      "text/plain": [
       "[0.16835218251085712,\n",
       " 0.10554277592636395,\n",
       " 0.07296819313164568,\n",
       " 0.05292745343539316]"
      ]
     },
     "execution_count": 269,
     "metadata": {},
     "output_type": "execute_result"
    }
   ],
   "source": [
    "train_results = eval_dataset(train_dataset, free=True)\n",
    "train_results[0]"
   ]
  },
  {
   "cell_type": "code",
   "execution_count": 270,
   "metadata": {
    "hidden": true
   },
   "outputs": [
    {
     "data": {
      "text/plain": [
       "[0.1776066165498987,\n",
       " 0.10954749616009493,\n",
       " 0.07444893364873906,\n",
       " 0.05321739026241552]"
      ]
     },
     "execution_count": 270,
     "metadata": {},
     "output_type": "execute_result"
    }
   ],
   "source": [
    "val_results = eval_dataset(val_dataset, free=True)\n",
    "val_results[0]"
   ]
  },
  {
   "cell_type": "code",
   "execution_count": 35,
   "metadata": {
    "hidden": true
   },
   "outputs": [
    {
     "data": {
      "application/vnd.jupyter.widget-view+json": {
       "model_id": "f21f5973e9a546bfa192579520d0a054",
       "version_major": 2,
       "version_minor": 0
      },
      "text/plain": [
       "HBox(children=(FloatProgress(value=0.0, max=752.0), HTML(value='')))"
      ]
     },
     "metadata": {},
     "output_type": "display_data"
    },
    {
     "name": "stdout",
     "output_type": "stream",
     "text": [
      "\n"
     ]
    },
    {
     "data": {
      "text/plain": [
       "[0.2359481128077447,\n",
       " 0.1516891752655873,\n",
       " 0.10404271781894223,\n",
       " 0.07447624964919011]"
      ]
     },
     "execution_count": 35,
     "metadata": {},
     "output_type": "execute_result"
    }
   ],
   "source": [
    "test_results = eval_dataset(test_dataset, free=True)\n",
    "test_results[0]"
   ]
  },
  {
   "cell_type": "code",
   "execution_count": null,
   "metadata": {
    "hidden": true
   },
   "outputs": [],
   "source": []
  },
  {
   "cell_type": "markdown",
   "metadata": {
    "heading_collapsed": true,
    "hidden": true
   },
   "source": [
    "#### Rouge-L"
   ]
  },
  {
   "cell_type": "code",
   "execution_count": 36,
   "metadata": {
    "hidden": true
   },
   "outputs": [],
   "source": [
    "from pycocoevalcap.rouge import rouge"
   ]
  },
  {
   "cell_type": "code",
   "execution_count": 50,
   "metadata": {
    "hidden": true
   },
   "outputs": [
    {
     "name": "stdout",
     "output_type": "stream",
     "text": [
      "stable heart size . diffuse bilateral interstitial opacities . no pneumothorax . no effusions . no acute bony abnormalities .\n",
      "--------------------\n",
      "stable cardiomediastinal silhouette . no focal consolidation , pleural effusion , or pneumothorax . no acute bony abnormality . END\n"
     ]
    },
    {
     "data": {
      "text/plain": [
       "0.45"
      ]
     },
     "execution_count": 50,
     "metadata": {},
     "output_type": "execute_result"
    }
   ],
   "source": [
    "idx = 800\n",
    "\n",
    "image, report = train_dataset[idx]\n",
    "\n",
    "gt, gen = eval_sample(compiled_model, image, report,\n",
    "                      free=True, max_sentences=100, max_words=100)\n",
    "\n",
    "scorer = rouge.Rouge()\n",
    "scorer.calc_score([gen], [gt])"
   ]
  },
  {
   "cell_type": "code",
   "execution_count": null,
   "metadata": {
    "hidden": true
   },
   "outputs": [],
   "source": []
  },
  {
   "cell_type": "code",
   "execution_count": 55,
   "metadata": {
    "hidden": true
   },
   "outputs": [],
   "source": [
    "def eval_dataset(dataset, max_samples=None, free=False):\n",
    "    scorer = rouge.Rouge()\n",
    "    scores = []\n",
    "    report_lens = []\n",
    "    \n",
    "    n_samples = len(dataset) if max_samples is None else max_samples\n",
    "    for idx in tqdm(range(n_samples)):\n",
    "        image, report = dataset[idx]\n",
    "\n",
    "        report_lens.append(len(report))\n",
    "\n",
    "        gt, gen = eval_sample(compiled_model, image, report, show=False,\n",
    "                              free=free, max_sentences=100, max_words=20)\n",
    "\n",
    "        scores.append(scorer.calc_score([gen], [gt]))\n",
    "\n",
    "    return np.mean(scores), np.array(scores), report_lens"
   ]
  },
  {
   "cell_type": "code",
   "execution_count": 42,
   "metadata": {
    "hidden": true
   },
   "outputs": [
    {
     "data": {
      "application/vnd.jupyter.widget-view+json": {
       "model_id": "cdc6366769db4b2486d210d5384074cf",
       "version_major": 2,
       "version_minor": 0
      },
      "text/plain": [
       "HBox(children=(FloatProgress(value=0.0, max=752.0), HTML(value='')))"
      ]
     },
     "metadata": {},
     "output_type": "display_data"
    },
    {
     "name": "stdout",
     "output_type": "stream",
     "text": [
      "\n"
     ]
    },
    {
     "data": {
      "text/plain": [
       "0.3080028564452431"
      ]
     },
     "execution_count": 42,
     "metadata": {},
     "output_type": "execute_result"
    }
   ],
   "source": [
    "test_results = eval_dataset(test_dataset, free=True)\n",
    "test_results[0]"
   ]
  },
  {
   "cell_type": "markdown",
   "metadata": {
    "heading_collapsed": true,
    "hidden": true
   },
   "source": [
    "#### CIDEr"
   ]
  },
  {
   "cell_type": "code",
   "execution_count": 77,
   "metadata": {
    "hidden": true
   },
   "outputs": [],
   "source": [
    "from pycocoevalcap.cider import cider_scorer"
   ]
  },
  {
   "cell_type": "code",
   "execution_count": 80,
   "metadata": {
    "hidden": true
   },
   "outputs": [
    {
     "name": "stdout",
     "output_type": "stream",
     "text": [
      "stable heart size . diffuse bilateral interstitial opacities . no pneumothorax . no effusions . no acute bony abnormalities .\n",
      "--------------------\n",
      "stable cardiomediastinal silhouette . no focal consolidation , pleural effusion , or pneumothorax . no acute bony abnormality . END\n",
      "no active disease .\n",
      "--------------------\n",
      "no focal consolidation . no pneumothorax . no pleural effusion seen . END\n"
     ]
    },
    {
     "data": {
      "text/plain": [
       "(1.1229230191360247, array([2.24584604, 0.        ]))"
      ]
     },
     "execution_count": 80,
     "metadata": {},
     "output_type": "execute_result"
    }
   ],
   "source": [
    "idx = 800\n",
    "image, report = train_dataset[idx]\n",
    "\n",
    "gt, gen = eval_sample(compiled_model, image, report,\n",
    "                      free=True, max_sentences=100, max_words=100)\n",
    "\n",
    "scorer = cider_scorer.CiderScorer(n=4)\n",
    "scorer += (gen, [gt])\n",
    "\n",
    "idx = 0\n",
    "image, report = train_dataset[idx]\n",
    "\n",
    "gt, gen = eval_sample(compiled_model, image, report,\n",
    "                      free=True, max_sentences=100, max_words=100)\n",
    "scorer += (gen, [gt])\n",
    "\n",
    "scorer.compute_score()"
   ]
  },
  {
   "cell_type": "code",
   "execution_count": 81,
   "metadata": {
    "hidden": true
   },
   "outputs": [],
   "source": [
    "def eval_dataset(dataset, max_samples=None, free=False):\n",
    "    scorer = cider_scorer.CiderScorer(n=4)\n",
    "    report_lens = []\n",
    "    \n",
    "    n_samples = len(dataset) if max_samples is None else max_samples\n",
    "    for idx in tqdm(range(n_samples)):\n",
    "        image, report = dataset[idx]\n",
    "\n",
    "        report_lens.append(len(report))\n",
    "\n",
    "        gt, gen = eval_sample(compiled_model, image, report, show=False,\n",
    "                              free=free, max_sentences=100, max_words=20)\n",
    "\n",
    "        scorer += (gen, [gt])\n",
    "    scores_avg, scores_all = scorer.compute_score()\n",
    "    scores_all = np.array(scores_all)\n",
    "\n",
    "    return scores_avg, scores_all, report_lens"
   ]
  },
  {
   "cell_type": "code",
   "execution_count": 85,
   "metadata": {
    "hidden": true
   },
   "outputs": [
    {
     "data": {
      "application/vnd.jupyter.widget-view+json": {
       "model_id": "b778c58cc8734fca8d2e9da4a3156d4d",
       "version_major": 2,
       "version_minor": 0
      },
      "text/plain": [
       "HBox(children=(FloatProgress(value=0.0, max=751.0), HTML(value='')))"
      ]
     },
     "metadata": {},
     "output_type": "display_data"
    },
    {
     "name": "stdout",
     "output_type": "stream",
     "text": [
      "\n"
     ]
    },
    {
     "data": {
      "text/plain": [
       "0.2953398082049025"
      ]
     },
     "execution_count": 85,
     "metadata": {},
     "output_type": "execute_result"
    }
   ],
   "source": [
    "val_results = eval_dataset(val_dataset, free=False)\n",
    "val_results[0]"
   ]
  },
  {
   "cell_type": "code",
   "execution_count": 83,
   "metadata": {
    "hidden": true
   },
   "outputs": [
    {
     "data": {
      "application/vnd.jupyter.widget-view+json": {
       "model_id": "ce0ea887da3b4891a8dfc1b79ae3e944",
       "version_major": 2,
       "version_minor": 0
      },
      "text/plain": [
       "HBox(children=(FloatProgress(value=0.0, max=752.0), HTML(value='')))"
      ]
     },
     "metadata": {},
     "output_type": "display_data"
    },
    {
     "name": "stdout",
     "output_type": "stream",
     "text": [
      "\n"
     ]
    },
    {
     "data": {
      "text/plain": [
       "0.21860380772512616"
      ]
     },
     "execution_count": 83,
     "metadata": {},
     "output_type": "execute_result"
    }
   ],
   "source": [
    "test_results = eval_dataset(test_dataset, free=False)\n",
    "test_results[0]"
   ]
  },
  {
   "cell_type": "code",
   "execution_count": null,
   "metadata": {
    "hidden": true
   },
   "outputs": [],
   "source": []
  },
  {
   "cell_type": "markdown",
   "metadata": {
    "heading_collapsed": true,
    "hidden": true
   },
   "source": [
    "#### Plots"
   ]
  },
  {
   "cell_type": "code",
   "execution_count": 51,
   "metadata": {
    "hidden": true
   },
   "outputs": [],
   "source": [
    "import matplotlib.pyplot as plt"
   ]
  },
  {
   "cell_type": "code",
   "execution_count": 58,
   "metadata": {
    "hidden": true
   },
   "outputs": [],
   "source": [
    "results = test_results"
   ]
  },
  {
   "cell_type": "code",
   "execution_count": 59,
   "metadata": {
    "hidden": true
   },
   "outputs": [
    {
     "data": {
      "text/plain": [
       "(752,)"
      ]
     },
     "execution_count": 59,
     "metadata": {},
     "output_type": "execute_result"
    }
   ],
   "source": [
    "all_scores = results[1]\n",
    "# all_scores = all_scores.mean(axis=0)\n",
    "# all_scores = all_scores[0, :]\n",
    "all_scores.shape"
   ]
  },
  {
   "cell_type": "code",
   "execution_count": 60,
   "metadata": {
    "hidden": true
   },
   "outputs": [
    {
     "data": {
      "text/plain": [
       "(752,)"
      ]
     },
     "execution_count": 60,
     "metadata": {},
     "output_type": "execute_result"
    }
   ],
   "source": [
    "lens = np.array(results[2])\n",
    "lens.shape"
   ]
  },
  {
   "cell_type": "markdown",
   "metadata": {
    "heading_collapsed": true,
    "hidden": true
   },
   "source": [
    "###### Plot scatter"
   ]
  },
  {
   "cell_type": "code",
   "execution_count": 63,
   "metadata": {
    "hidden": true
   },
   "outputs": [
    {
     "data": {
      "text/plain": [
       "Text(0, 0.5, 'Metric')"
      ]
     },
     "execution_count": 63,
     "metadata": {},
     "output_type": "execute_result"
    },
    {
     "data": {
      "image/png": "[encoded data removed]",
      "text/plain": [
       "<Figure size 432x288 with 1 Axes>"
      ]
     },
     "metadata": {
      "needs_background": "light"
     },
     "output_type": "display_data"
    }
   ],
   "source": [
    "plt.scatter(lens, all_scores)\n",
    "plt.xlabel('Report len')\n",
    "plt.ylabel('Metric')"
   ]
  },
  {
   "cell_type": "markdown",
   "metadata": {
    "heading_collapsed": true,
    "hidden": true
   },
   "source": [
    "###### Adjust linear regression"
   ]
  },
  {
   "cell_type": "code",
   "execution_count": 241,
   "metadata": {
    "hidden": true
   },
   "outputs": [],
   "source": [
    "from sklearn.linear_model import LinearRegression as LR"
   ]
  },
  {
   "cell_type": "code",
   "execution_count": 253,
   "metadata": {
    "hidden": true
   },
   "outputs": [
    {
     "data": {
      "text/plain": [
       "LinearRegression()"
      ]
     },
     "execution_count": 253,
     "metadata": {},
     "output_type": "execute_result"
    }
   ],
   "source": [
    "lr = LR()\n",
    "lr.fit(lens.reshape(-1, 1), all_scores)"
   ]
  },
  {
   "cell_type": "code",
   "execution_count": 254,
   "metadata": {
    "hidden": true
   },
   "outputs": [
    {
     "data": {
      "text/plain": [
       "(array([0.00207335]), 0.1493450188187051)"
      ]
     },
     "execution_count": 254,
     "metadata": {},
     "output_type": "execute_result"
    }
   ],
   "source": [
    "lr.coef_, lr.intercept_"
   ]
  },
  {
   "cell_type": "markdown",
   "metadata": {
    "hidden": true
   },
   "source": [
    "###### Plot hist"
   ]
  },
  {
   "cell_type": "code",
   "execution_count": 64,
   "metadata": {
    "hidden": true
   },
   "outputs": [
    {
     "data": {
      "text/plain": [
       "Text(0, 0.5, 'Occurences')"
      ]
     },
     "execution_count": 64,
     "metadata": {},
     "output_type": "execute_result"
    },
    {
     "data": {
      "image/png": "[encoded data removed]",
      "text/plain": [
       "<Figure size 432x288 with 1 Axes>"
      ]
     },
     "metadata": {
      "needs_background": "light"
     },
     "output_type": "display_data"
    }
   ],
   "source": [
    "plt.hist(all_scores, bins=50)\n",
    "plt.xlabel('Metric')\n",
    "plt.ylabel('Occurences')"
   ]
  },
  {
   "cell_type": "code",
   "execution_count": 66,
   "metadata": {
    "hidden": true
   },
   "outputs": [
    {
     "data": {
      "text/plain": [
       "0.3080028564452431"
      ]
     },
     "execution_count": 66,
     "metadata": {},
     "output_type": "execute_result"
    }
   ],
   "source": [
    "results[0]"
   ]
  },
  {
   "cell_type": "code",
   "execution_count": 65,
   "metadata": {
    "hidden": true
   },
   "outputs": [
    {
     "data": {
      "text/plain": [
       "()"
      ]
     },
     "execution_count": 65,
     "metadata": {},
     "output_type": "execute_result"
    }
   ],
   "source": [
    "results[1].mean(axis=0).shape"
   ]
  },
  {
   "cell_type": "code",
   "execution_count": null,
   "metadata": {
    "hidden": true
   },
   "outputs": [],
   "source": []
  },
  {
   "cell_type": "code",
   "execution_count": null,
   "metadata": {
    "hidden": true
   },
   "outputs": [],
   "source": []
  },
  {
   "cell_type": "markdown",
   "metadata": {
    "heading_collapsed": true,
    "hidden": true
   },
   "source": [
    "#### Eval sample with ordered scores"
   ]
  },
  {
   "cell_type": "code",
   "execution_count": 67,
   "metadata": {
    "hidden": true
   },
   "outputs": [],
   "source": [
    "results = test_results\n",
    "dataset = test_dataset"
   ]
  },
  {
   "cell_type": "code",
   "execution_count": 69,
   "metadata": {
    "hidden": true
   },
   "outputs": [
    {
     "data": {
      "text/plain": [
       "752"
      ]
     },
     "execution_count": 69,
     "metadata": {},
     "output_type": "execute_result"
    }
   ],
   "source": [
    "scores_all = results[1]\n",
    "# BLEU\n",
    "# ordered_values = [\n",
    "#     (i, *scores_all[:, i]) \n",
    "#     for i in range(scores_all.shape[1])\n",
    "# ]\n",
    "ordered_values = list(enumerate(scores_all)) # ROUGE-L, CIDEr\n",
    "len(ordered_values)"
   ]
  },
  {
   "cell_type": "code",
   "execution_count": 70,
   "metadata": {
    "hidden": true
   },
   "outputs": [],
   "source": [
    "ordered_values = sorted(ordered_values, key=lambda x:x[1], reverse=True)"
   ]
  },
  {
   "cell_type": "code",
   "execution_count": 76,
   "metadata": {
    "hidden": true
   },
   "outputs": [
    {
     "name": "stdout",
     "output_type": "stream",
     "text": [
      "[0.7221448467966572]\n",
      "the heart is normal in size and contour . the lungs are clear , without evidence of infiltrate . there is no pneumothorax or effusion .\n",
      "--------------------\n",
      "the heart size is normal . the lungs are clear . there is no pneumothorax or pleural effusion . END\n"
     ]
    }
   ],
   "source": [
    "idx, *scores = ordered_values[2]\n",
    "\n",
    "print(scores)\n",
    "image, report = dataset[idx]\n",
    "\n",
    "gt, gen = eval_sample(compiled_model, image, report,\n",
    "                      free=True, max_sentences=100, max_words=100)"
   ]
  },
  {
   "cell_type": "code",
   "execution_count": null,
   "metadata": {
    "hidden": true
   },
   "outputs": [],
   "source": []
  },
  {
   "cell_type": "markdown",
   "metadata": {},
   "source": [
    "## Debug metrics"
   ]
  },
  {
   "cell_type": "markdown",
   "metadata": {
    "heading_collapsed": true
   },
   "source": [
    "### Distinct words"
   ]
  },
  {
   "cell_type": "code",
   "execution_count": 110,
   "metadata": {
    "hidden": true
   },
   "outputs": [],
   "source": [
    "%run ../metrics/report_generation/distinct_words.py"
   ]
  },
  {
   "cell_type": "code",
   "execution_count": 111,
   "metadata": {
    "hidden": true
   },
   "outputs": [],
   "source": [
    "dw = DistinctWords()\n",
    "dw.reset()"
   ]
  },
  {
   "cell_type": "code",
   "execution_count": 112,
   "metadata": {
    "hidden": true
   },
   "outputs": [],
   "source": [
    "reports = torch.tensor([[1, 2, 3, 4],\n",
    "                        [21, 12, 1, 0],\n",
    "                       ])"
   ]
  },
  {
   "cell_type": "code",
   "execution_count": 113,
   "metadata": {
    "hidden": true
   },
   "outputs": [
    {
     "data": {
      "text/plain": [
       "tensor([[ 2,  3,  4,  5],\n",
       "        [22, 13,  2,  1]])"
      ]
     },
     "execution_count": 113,
     "metadata": {},
     "output_type": "execute_result"
    }
   ],
   "source": [
    "reports2 = reports + 1\n",
    "reports2"
   ]
  },
  {
   "cell_type": "code",
   "execution_count": 114,
   "metadata": {
    "hidden": true
   },
   "outputs": [
    {
     "data": {
      "text/plain": [
       "9"
      ]
     },
     "execution_count": 114,
     "metadata": {},
     "output_type": "execute_result"
    }
   ],
   "source": [
    "dw.update(reports)\n",
    "dw.update(reports2)\n",
    "dw.compute()"
   ]
  },
  {
   "cell_type": "code",
   "execution_count": 115,
   "metadata": {
    "hidden": true
   },
   "outputs": [
    {
     "data": {
      "text/plain": [
       "Counter({1: 3, 2: 3, 3: 2, 4: 2, 21: 1, 12: 1, 5: 1, 22: 1, 13: 1})"
      ]
     },
     "execution_count": 115,
     "metadata": {},
     "output_type": "execute_result"
    }
   ],
   "source": [
    "dw.words_seen"
   ]
  },
  {
   "cell_type": "markdown",
   "metadata": {},
   "source": [
    "### Distinct sentences"
   ]
  },
  {
   "cell_type": "code",
   "execution_count": 120,
   "metadata": {},
   "outputs": [],
   "source": [
    "%run ../metrics/report_generation/distinct_sentences.py"
   ]
  },
  {
   "cell_type": "code",
   "execution_count": 127,
   "metadata": {},
   "outputs": [],
   "source": [
    "ds = DistinctSentences()\n",
    "ds.reset()"
   ]
  },
  {
   "cell_type": "code",
   "execution_count": 128,
   "metadata": {},
   "outputs": [],
   "source": [
    "reports = torch.tensor([\n",
    "    [[11, 21, 37, 4],\n",
    "     [29, 32, 52, 4],\n",
    "    ],\n",
    "    [[11, 21, 37, 4],\n",
    "     [29, 32, 52, 4],\n",
    "    ],\n",
    "    [[12, 23, 47, 4],\n",
    "     [30, 33, 53, 5],\n",
    "    ],\n",
    "])"
   ]
  },
  {
   "cell_type": "code",
   "execution_count": 129,
   "metadata": {},
   "outputs": [
    {
     "data": {
      "text/plain": [
       "7"
      ]
     },
     "execution_count": 129,
     "metadata": {},
     "output_type": "execute_result"
    }
   ],
   "source": [
    "ds.update(reports)\n",
    "ds.update(reports + 1)\n",
    "ds.compute()"
   ]
  },
  {
   "cell_type": "code",
   "execution_count": 130,
   "metadata": {},
   "outputs": [
    {
     "data": {
      "text/plain": [
       "Counter({'11 21 37 4': 2,\n",
       "         '29 32 52 4': 2,\n",
       "         '12 23 47 4': 1,\n",
       "         '30 33 53 5': 3,\n",
       "         '12 22 38 5': 2,\n",
       "         '13 24 48 5': 1,\n",
       "         '31 34 54 6': 1})"
      ]
     },
     "execution_count": 130,
     "metadata": {},
     "output_type": "execute_result"
    }
   ],
   "source": [
    "ds.sentences_seen"
   ]
  },
  {
   "cell_type": "code",
   "execution_count": null,
   "metadata": {},
   "outputs": [],
   "source": []
  },
  {
   "cell_type": "code",
   "execution_count": null,
   "metadata": {},
   "outputs": [],
   "source": []
  },
  {
   "cell_type": "markdown",
   "metadata": {},
   "source": [
    "## Debug others"
   ]
  },
  {
   "cell_type": "code",
   "execution_count": 2,
   "metadata": {},
   "outputs": [],
   "source": [
    "from sklearn.metrics import roc_auc_score\n",
    "import numpy as np"
   ]
  },
  {
   "cell_type": "code",
   "execution_count": 3,
   "metadata": {},
   "outputs": [],
   "source": [
    "a = np.array([[1, 0, 0],\n",
    "              [0, 1, 0],\n",
    "              [0, 1, 1],\n",
    "             ])\n",
    "b = np.array([[1, 0, 0],\n",
    "              [0, 1, 0],\n",
    "              [0, 1, 1],\n",
    "             ])"
   ]
  },
  {
   "cell_type": "code",
   "execution_count": 5,
   "metadata": {},
   "outputs": [
    {
     "data": {
      "text/plain": [
       "array([1., 1., 1.])"
      ]
     },
     "execution_count": 5,
     "metadata": {},
     "output_type": "execute_result"
    }
   ],
   "source": [
    "roc_auc_score(a, b, average=None)"
   ]
  },
  {
   "cell_type": "code",
   "execution_count": 6,
   "metadata": {},
   "outputs": [],
   "source": [
    "import hashlib"
   ]
  },
  {
   "cell_type": "code",
   "execution_count": 42,
   "metadata": {},
   "outputs": [],
   "source": [
    "%run -n ../eval_report_generation_chexpert_labeler.py"
   ]
  },
  {
   "cell_type": "code",
   "execution_count": 43,
   "metadata": {},
   "outputs": [],
   "source": [
    "run_name = '0915_172446_dummy-common-sentences-100'"
   ]
  },
  {
   "cell_type": "code",
   "execution_count": 45,
   "metadata": {},
   "outputs": [
    {
     "name": "stdout",
     "output_type": "stream",
     "text": [
      "Using cached labels for ground truth\n",
      "Labelling generated...\n",
      "Only one class present in y_true. ROC AUC score is not defined in that case.\n",
      "Saved to file:  /mnt/workspace/medical-ai/report_generation/results/debug/0915_172446_dummy-common-sentences-100/chexpert-metrics-notfree.json\n",
      "{'train': {'f1': 0.06493506493506493,\n",
      "           'f1-Atelectasis': 0.0,\n",
      "           'f1-Cardiomegaly': 0.0,\n",
      "           'f1-Consolidation': 0.0,\n",
      "           'f1-Edema': 0.0,\n",
      "           'f1-Enlarged Cardiomediastinum': 0.0,\n",
      "           'f1-Fracture': 0.0,\n",
      "           'f1-Lung Lesion': 0.0,\n",
      "           'f1-Lung Opacity': 0.0,\n",
      "           'f1-No Finding': 0.9090909090909091,\n",
      "           'f1-Pleural Effusion': 0.0,\n",
      "           'f1-Pleural Other': 0.0,\n",
      "           'f1-Pneumonia': 0.0,\n",
      "           'f1-Pneumothorax': 0.0,\n",
      "           'f1-Support Devices': 0.0,\n",
      "           'prec': 0.06613756613756613,\n",
      "           'prec-Atelectasis': 0.0,\n",
      "           'prec-Cardiomegaly': 0.0,\n",
      "           'prec-Consolidation': 0.0,\n",
      "           'prec-Edema': 0.0,\n",
      "           'prec-Enlarged Cardiomediastinum': 0.0,\n",
      "           'prec-Fracture': 0.0,\n",
      "           'prec-Lung Lesion': 0.0,\n",
      "           'prec-Lung Opacity': 0.0,\n",
      "           'prec-No Finding': 0.9259259259259259,\n",
      "           'prec-Pleural Effusion': 0.0,\n",
      "           'prec-Pleural Other': 0.0,\n",
      "           'prec-Pneumonia': 0.0,\n",
      "           'prec-Pneumothorax': 0.0,\n",
      "           'prec-Support Devices': 0.0,\n",
      "           'recall': 0.06377551020408163,\n",
      "           'recall-Atelectasis': 0.0,\n",
      "           'recall-Cardiomegaly': 0.0,\n",
      "           'recall-Consolidation': 0.0,\n",
      "           'recall-Edema': 0.0,\n",
      "           'recall-Enlarged Cardiomediastinum': 0.0,\n",
      "           'recall-Fracture': 0.0,\n",
      "           'recall-Lung Lesion': 0.0,\n",
      "           'recall-Lung Opacity': 0.0,\n",
      "           'recall-No Finding': 0.8928571428571429,\n",
      "           'recall-Pleural Effusion': 0.0,\n",
      "           'recall-Pleural Other': 0.0,\n",
      "           'recall-Pneumonia': 0.0,\n",
      "           'recall-Pneumothorax': 0.0,\n",
      "           'recall-Support Devices': 0.0,\n",
      "           'roc_auc': -1.0,\n",
      "           'roc_auc-Atelectasis': -1,\n",
      "           'roc_auc-Cardiomegaly': -1,\n",
      "           'roc_auc-Consolidation': -1,\n",
      "           'roc_auc-Edema': -1,\n",
      "           'roc_auc-Enlarged Cardiomediastinum': -1,\n",
      "           'roc_auc-Fracture': -1,\n",
      "           'roc_auc-Lung Lesion': -1,\n",
      "           'roc_auc-Lung Opacity': -1,\n",
      "           'roc_auc-No Finding': -1,\n",
      "           'roc_auc-Pleural Effusion': -1,\n",
      "           'roc_auc-Pleural Other': -1,\n",
      "           'roc_auc-Pneumonia': -1,\n",
      "           'roc_auc-Pneumothorax': -1,\n",
      "           'roc_auc-Support Devices': -1}}\n"
     ]
    }
   ],
   "source": [
    "evaluate_run(run_name, debug=True, max_samples=30, override=True)"
   ]
  },
  {
   "cell_type": "code",
   "execution_count": null,
   "metadata": {},
   "outputs": [],
   "source": []
  },
  {
   "cell_type": "code",
   "execution_count": null,
   "metadata": {},
   "outputs": [],
   "source": []
  },
  {
   "cell_type": "code",
   "execution_count": null,
   "metadata": {},
   "outputs": [],
   "source": []
  }
 ],
 "metadata": {
  "kernelspec": {
   "display_name": "Python 3",
   "language": "python",
   "name": "python3"
  },
  "language_info": {
   "codemirror_mode": {
    "name": "ipython",
    "version": 3
   },
   "file_extension": ".py",
   "mimetype": "text/x-python",
   "name": "python",
   "nbconvert_exporter": "python",
   "pygments_lexer": "ipython3",
   "version": "3.6.9"
  },
  "toc": {
   "base_numbering": 1,
   "nav_menu": {},
   "number_sections": true,
   "sideBar": true,
   "skip_h1_title": false,
   "title_cell": "Table of Contents",
   "title_sidebar": "Contents",
   "toc_cell": false,
   "toc_position": {},
   "toc_section_display": true,
   "toc_window_display": false
  }
 },
 "nbformat": 4,
 "nbformat_minor": 4
}
