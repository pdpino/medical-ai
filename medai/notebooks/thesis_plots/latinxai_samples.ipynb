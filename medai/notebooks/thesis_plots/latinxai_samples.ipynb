{
 "cells": [
  {
   "cell_type": "markdown",
   "metadata": {},
   "source": [
    "# Get sample reports\n",
    "\n",
    "For LATINX in AI workshop"
   ]
  },
  {
   "cell_type": "code",
   "execution_count": null,
   "metadata": {},
   "outputs": [],
   "source": [
    "import matplotlib.pyplot as plt"
   ]
  },
  {
   "cell_type": "code",
   "execution_count": null,
   "metadata": {},
   "outputs": [],
   "source": [
    "import numpy as np\n",
    "from pycocoevalcap.bleu import bleu_scorer\n",
    "from pycocoevalcap.rouge import rouge"
   ]
  },
  {
   "cell_type": "code",
   "execution_count": null,
   "metadata": {},
   "outputs": [],
   "source": [
    "%run ../datasets/common.py\n",
    "%run ../datasets/iu_xray.py\n",
    "%run ../utils/nlp.py\n",
    "%run ../utils/__init__.py"
   ]
  },
  {
   "cell_type": "code",
   "execution_count": null,
   "metadata": {},
   "outputs": [],
   "source": [
    "CONSTANT_REPORT = \"\"\"the heart is normal in size . the mediastinum is unremarkable . \n",
    "the lungs are clear .\n",
    "there is no pneumothorax or pleural effusion . no focal airspace disease .\n",
    "no pleural effusion or pneumothorax .\"\"\""
   ]
  },
  {
   "cell_type": "code",
   "execution_count": null,
   "metadata": {},
   "outputs": [],
   "source": [
    "dataset = IUXRayDataset(dataset_type='all')\n",
    "report_reader = ReportReader(dataset.get_vocab())\n",
    "len(dataset)"
   ]
  },
  {
   "cell_type": "code",
   "execution_count": null,
   "metadata": {},
   "outputs": [],
   "source": [
    "idx = GT_IDX\n",
    "item = dataset[idx]\n",
    "image = arr_to_range(item.image.permute(1, 2, 0))\n",
    "report_base = report_reader.idx_to_text(item.report)\n",
    "plt.imshow(image)\n",
    "plt.axis('off')\n",
    "print(report_base)"
   ]
  },
  {
   "cell_type": "code",
   "execution_count": null,
   "metadata": {},
   "outputs": [],
   "source": [
    "GT_IDX = 7289"
   ]
  },
  {
   "cell_type": "code",
   "execution_count": null,
   "metadata": {},
   "outputs": [],
   "source": [
    "target = [\n",
    "    'the cardiac silhouette is enlarged',\n",
    "    # 'the lungs are hyper',\n",
    "    # 'the heart is',\n",
    "]\n",
    "not_target = [\n",
    "    # 'the lungs are clear',\n",
    "#     'the mediastinum is unremarkable',\n",
    "#     'the mediastinum is stable',\n",
    "#     'the mediastinum is normal',\n",
    "#     'the mediastinum is within normal limits',\n",
    "]\n",
    "found = []\n",
    "found_names = set()\n",
    "for idx, report in enumerate(dataset.reports):\n",
    "    filename = report['filename']\n",
    "    report = report_reader.idx_to_text(report['tokens_idxs'])\n",
    "    if all(t in report for t in target) and all(t not in report for t in not_target):\n",
    "        if filename not in found_names:\n",
    "            found.append((idx, report))\n",
    "        found_names.add(filename)\n",
    "len(found)"
   ]
  },
  {
   "cell_type": "code",
   "execution_count": null,
   "metadata": {},
   "outputs": [],
   "source": [
    "found[5]"
   ]
  },
  {
   "cell_type": "code",
   "execution_count": null,
   "metadata": {},
   "outputs": [],
   "source": [
    "gen = 'the heart is enlarged. the mediastinum is unremarkable . the lungs are hyperinflated with mildly coarsened interstitial markings . '\n",
    "# the lungs are hyperexpanded\n",
    "# the lungs are hyperinflated with mildly coarsened interstitial markings\n",
    "# the lungs are hyperinflated with biapical pleural-parenchymal scarring and upward retraction of the xxxx"
   ]
  },
  {
   "cell_type": "code",
   "execution_count": null,
   "metadata": {},
   "outputs": [],
   "source": [
    "def measure_bleu_rouge(gen, gt):\n",
    "    scorer = bleu_scorer.BleuScorer(n=4)\n",
    "    scorer += (gen, [gt])\n",
    "    bleu_1_4, _ = scorer.compute_score()\n",
    "    \n",
    "    scorer = rouge.Rouge()\n",
    "    rouge_score = scorer.calc_score([gen], [gt])\n",
    "    \n",
    "    print('BLEU 1-4: ', bleu_1_4)\n",
    "    print('BLEU: ', np.mean(bleu_1_4))\n",
    "    print('ROUGE-L: ', rouge_score)"
   ]
  },
  {
   "cell_type": "code",
   "execution_count": null,
   "metadata": {},
   "outputs": [],
   "source": [
    "report_1 = \"\"\"the heart is normal in size . the mediastinum is unremarkable . \n",
    "the lungs are clear .\"\"\"\n",
    "report_2 = \"\"\"the heart is normal . the mediastinum is otherwise unremarkable . \n",
    "lungs are both clear .\"\"\"\n",
    "measure_bleu_rouge(report_1, report_2)"
   ]
  },
  {
   "cell_type": "code",
   "execution_count": null,
   "metadata": {},
   "outputs": [],
   "source": [
    "report = report_reader.idx_to_text(dataset[GT_IDX].report)\n",
    "report"
   ]
  },
  {
   "cell_type": "code",
   "execution_count": null,
   "metadata": {},
   "outputs": [],
   "source": [
    "gt = \"\"\"the cardiac silhouette is enlarged .\n",
    "the lungs are hyperexpanded with flattening of the bilateral hemidiaphragms .\n",
    "no pneumothorax or pleural effusion .\"\"\"\n",
    "# the lungs are hyperinflated with mildly coarsened interstitial markings .\n",
    "# with flattening of the bilateral hemidiaphragms "
   ]
  },
  {
   "cell_type": "code",
   "execution_count": null,
   "metadata": {},
   "outputs": [],
   "source": [
    "gen = \"\"\"the cardiac silhouette is normal in size .\n",
    "the lungs are clear .\n",
    "no pneumothorax or pleural effusion .\"\"\""
   ]
  },
  {
   "cell_type": "code",
   "execution_count": null,
   "metadata": {},
   "outputs": [],
   "source": [
    "measure_bleu_rouge(gen, gt)"
   ]
  },
  {
   "cell_type": "code",
   "execution_count": null,
   "metadata": {},
   "outputs": [],
   "source": [
    "gt = \"the cardiac silhouette is enlarged . the lungs are hyperexpanded with flattening of the bilateral hemidiaphragms . no pneumothorax or pleural effusion .\"\n",
    "gen = \"the cardiac silhouette is normal in size and configuration . the lungs are clear . no pneumothorax or pleural effusion .\"\n",
    "measure_bleu_rouge(gen, gt)"
   ]
  },
  {
   "cell_type": "code",
   "execution_count": null,
   "metadata": {},
   "outputs": [],
   "source": [
    "measure_bleu_rouge(gen, gt)"
   ]
  },
  {
   "cell_type": "code",
   "execution_count": null,
   "metadata": {},
   "outputs": [],
   "source": []
  }
 ],
 "metadata": {
  "kernelspec": {
   "display_name": "Python 3",
   "language": "python",
   "name": "python3"
  },
  "language_info": {
   "codemirror_mode": {
    "name": "ipython",
    "version": 3
   },
   "file_extension": ".py",
   "mimetype": "text/x-python",
   "name": "python",
   "nbconvert_exporter": "python",
   "pygments_lexer": "ipython3",
   "version": "3.6.9"
  },
  "toc": {
   "base_numbering": 1,
   "nav_menu": {},
   "number_sections": true,
   "sideBar": true,
   "skip_h1_title": false,
   "title_cell": "Table of Contents",
   "title_sidebar": "Contents",
   "toc_cell": false,
   "toc_position": {},
   "toc_section_display": true,
   "toc_window_display": false
  }
 },
 "nbformat": 4,
 "nbformat_minor": 4
}
