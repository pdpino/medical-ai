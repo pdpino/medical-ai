{
 "cells": [
  {
   "cell_type": "markdown",
   "metadata": {},
   "source": [
    "# Imports"
   ]
  },
  {
   "cell_type": "code",
   "execution_count": null,
   "metadata": {},
   "outputs": [],
   "source": [
    "import torch\n",
    "import os\n",
    "import json\n",
    "import pandas as pd"
   ]
  },
  {
   "cell_type": "code",
   "execution_count": null,
   "metadata": {},
   "outputs": [],
   "source": [
    "import matplotlib.pyplot as plt\n",
    "import matplotlib\n",
    "matplotlib.rcParams['figure.facecolor'] = 'white'\n",
    "matplotlib.rcParams['figure.figsize'] = (15, 5)\n",
    "plt.rcParams.update({'font.family': 'serif', 'font.sans-serif': ['CMU', 'Helvetica']})"
   ]
  },
  {
   "cell_type": "code",
   "execution_count": null,
   "metadata": {},
   "outputs": [],
   "source": [
    "from medai.datasets.common.constants import CHEXPERT_DISEASES, ABN_SHORTCUTS"
   ]
  },
  {
   "cell_type": "code",
   "execution_count": null,
   "metadata": {},
   "outputs": [],
   "source": [
    "%run ../../utils/__init__.py"
   ]
  },
  {
   "cell_type": "markdown",
   "metadata": {},
   "source": [
    "# Utils"
   ]
  },
  {
   "cell_type": "code",
   "execution_count": null,
   "metadata": {},
   "outputs": [],
   "source": [
    "from medai.datasets.iu_xray import DATASET_DIR as IU_DIR\n",
    "from medai.datasets.mimic_cxr import DATASET_DIR as MIMIC_DIR"
   ]
  },
  {
   "cell_type": "code",
   "execution_count": null,
   "metadata": {},
   "outputs": [],
   "source": [
    "IU_REPORTS_DIR = os.path.join(IU_DIR, 'reports')\n",
    "MIMIC_REPORTS_DIR = os.path.join(MIMIC_DIR, 'reports')"
   ]
  },
  {
   "cell_type": "markdown",
   "metadata": {},
   "source": [
    "## Images in each split"
   ]
  },
  {
   "cell_type": "code",
   "execution_count": null,
   "metadata": {},
   "outputs": [],
   "source": [
    "%run ../../datasets/__init__.py"
   ]
  },
  {
   "cell_type": "code",
   "execution_count": null,
   "metadata": {},
   "outputs": [],
   "source": [
    "_LEN_VALUES = {\n",
    "    'iu': {'all': 3311, 'train': 2638, 'val': 336, 'test': 337},\n",
    "    'mimic': {'all': 243326, 'train': 237964, 'val': 1959, 'test': 3403},\n",
    "}"
   ]
  },
  {
   "cell_type": "code",
   "execution_count": null,
   "metadata": {},
   "outputs": [],
   "source": [
    "def _get_subset_df(dataset_name, split):\n",
    "    _kw = {'do_not_load_image':True, 'do_not_load_report':True, 'frontal_only':True}\n",
    "\n",
    "    assert dataset_name in _LEN_VALUES\n",
    "    if dataset_name == 'iu':\n",
    "        dataset = IUXRayDataset(reports_version='v4-1', dataset_type=split, **_kw)\n",
    "    else:\n",
    "        dataset = MIMICCXRDataset(reports_version='v4-2', dataset_type=split, **_kw)\n",
    "\n",
    "    expected = _LEN_VALUES[dataset_name][split]\n",
    "    assert expected == len(dataset), f'{expected} vs {len(dataset)}'\n",
    "\n",
    "    return pd.DataFrame([\n",
    "        (item.report_fname, item.image_fname)\n",
    "        for item in dataset\n",
    "    ], columns=['report_fname', 'image_fname'])"
   ]
  },
  {
   "cell_type": "code",
   "execution_count": null,
   "metadata": {},
   "outputs": [],
   "source": [
    "IU_ALL = _get_subset_df('iu', 'all')\n",
    "IU_TRAIN = _get_subset_df('iu', 'train')\n",
    "IU_VAL = _get_subset_df('iu', 'val')\n",
    "IU_TEST = _get_subset_df('iu', 'test')"
   ]
  },
  {
   "cell_type": "code",
   "execution_count": null,
   "metadata": {},
   "outputs": [],
   "source": [
    "MIMIC_ALL = _get_subset_df('mimic', 'all')\n",
    "MIMIC_TRAIN = _get_subset_df('mimic', 'train')\n",
    "MIMIC_VAL = _get_subset_df('mimic', 'val')\n",
    "MIMIC_TEST = _get_subset_df('mimic', 'test')"
   ]
  },
  {
   "cell_type": "code",
   "execution_count": null,
   "metadata": {},
   "outputs": [],
   "source": [
    "def reduce_df_to_subset(df, subset_info):\n",
    "    df = df.merge(subset_info, left_on='filename', right_on='report_fname', how='right')\n",
    "    assert len(df) == len(subset_info), f'{len(df)} vs {len(subset_info)}'\n",
    "    return df"
   ]
  },
  {
   "cell_type": "markdown",
   "metadata": {},
   "source": [
    "# Word and sentence distribution"
   ]
  },
  {
   "cell_type": "markdown",
   "metadata": {},
   "source": [
    "## Load reports"
   ]
  },
  {
   "cell_type": "code",
   "execution_count": null,
   "metadata": {},
   "outputs": [],
   "source": [
    "with open(os.path.join(IU_REPORTS_DIR, 'reports.clean.v4-1.json')) as f:\n",
    "    reports_IU = json.load(f)\n",
    "len(reports_IU)"
   ]
  },
  {
   "cell_type": "code",
   "execution_count": null,
   "metadata": {},
   "outputs": [],
   "source": [
    "with open(os.path.join(MIMIC_REPORTS_DIR, 'reports.clean.v4-2.json')) as f:\n",
    "    reports_MIMIC = json.load(f)\n",
    "len(reports_MIMIC)"
   ]
  },
  {
   "cell_type": "code",
   "execution_count": null,
   "metadata": {},
   "outputs": [],
   "source": [
    "def reports_to_df(reports):\n",
    "    samples = []\n",
    "\n",
    "    for report_fname, d in reports.items():\n",
    "        text = d['clean_text']\n",
    "        words = text.split()\n",
    "        n_words = len(words)\n",
    "\n",
    "        n_sentences = words.count('.')\n",
    "        if words[-1] != '.':\n",
    "            n_sentences += 1\n",
    "\n",
    "        samples.append((text, n_words, n_sentences))\n",
    "\n",
    "    df = pd.DataFrame(samples, columns=['Report', 'n_words', 'n_sentences'])\n",
    "    print(len(df))\n",
    "    return df"
   ]
  },
  {
   "cell_type": "code",
   "execution_count": null,
   "metadata": {},
   "outputs": [],
   "source": [
    "df_iu = reports_to_df(reports_IU)\n",
    "df_iu.head(2)"
   ]
  },
  {
   "cell_type": "code",
   "execution_count": null,
   "metadata": {},
   "outputs": [],
   "source": [
    "df_mimic = reports_to_df(reports_MIMIC)\n",
    "df_mimic.head(2)"
   ]
  },
  {
   "cell_type": "code",
   "execution_count": null,
   "metadata": {},
   "outputs": [],
   "source": [
    "fpath = os.path.join(IU_REPORTS_DIR, 'sentences_with_chexpert_labels.csv')\n",
    "sentences_df_iu = pd.read_csv(fpath)\n",
    "print(len(sentences_df_iu))\n",
    "sentences_df_iu.head(2)"
   ]
  },
  {
   "cell_type": "code",
   "execution_count": null,
   "metadata": {},
   "outputs": [],
   "source": [
    "fpath = os.path.join(MIMIC_REPORTS_DIR, 'sentences_with_chexpert_labels.csv')\n",
    "sentences_df_mimic = pd.read_csv(fpath)\n",
    "print(len(sentences_df_mimic))\n",
    "sentences_df_mimic.head(2)"
   ]
  },
  {
   "cell_type": "markdown",
   "metadata": {},
   "source": [
    "## Load vocabs"
   ]
  },
  {
   "cell_type": "code",
   "execution_count": null,
   "metadata": {},
   "outputs": [],
   "source": [
    "%run ../../datasets/vocab/__init__.py"
   ]
  },
  {
   "cell_type": "code",
   "execution_count": null,
   "metadata": {},
   "outputs": [],
   "source": [
    "vocab_iu = load_vocab(IU_REPORTS_DIR, 'v4-1')\n",
    "vocab_mimic = load_vocab(MIMIC_REPORTS_DIR, 'v4-2')\n",
    "len(vocab_iu), len(vocab_mimic)"
   ]
  },
  {
   "cell_type": "markdown",
   "metadata": {},
   "source": [
    "## Word per sentence"
   ]
  },
  {
   "cell_type": "code",
   "execution_count": null,
   "metadata": {},
   "outputs": [],
   "source": [
    "def count_words_in_sentences(sentences):\n",
    "    return [\n",
    "        len(sentence.split())\n",
    "        for sentence in sentences\n",
    "    ]"
   ]
  },
  {
   "cell_type": "code",
   "execution_count": null,
   "metadata": {},
   "outputs": [],
   "source": [
    "sentences_df_mimic['n_words_per_sentence'] = count_words_in_sentences(sentences_df_mimic['sentence'])\n",
    "sentences_df_iu['n_words_per_sentence'] = count_words_in_sentences(sentences_df_iu['sentence'])\n",
    "sentences_df_iu.head(2)"
   ]
  },
  {
   "cell_type": "markdown",
   "metadata": {},
   "source": [
    "## Plot!"
   ]
  },
  {
   "cell_type": "code",
   "execution_count": null,
   "metadata": {},
   "outputs": [],
   "source": [
    "X_LABEL_FONTSIZE = Y_LABEL_FONTSIZE = 15\n",
    "LEGEND_FONTSIZE = 12\n",
    "TITLE_FONTSIZE = 16"
   ]
  },
  {
   "cell_type": "code",
   "execution_count": null,
   "metadata": {},
   "outputs": [],
   "source": [
    "plt.figure(figsize=(15, 4))\n",
    "n_reports = len(df_iu)\n",
    "\n",
    "iu_label = 'IU X-ray'\n",
    "mimic_label = 'MIMIC-CXR'\n",
    "\n",
    "n_rows = 1\n",
    "n_cols = 3\n",
    "\n",
    "plt.subplot(n_rows, n_cols, 1)\n",
    "plt.hist(df_iu['n_words'], bins=20, density=True, alpha=0.5, label=iu_label)\n",
    "plt.hist(df_mimic['n_words'], bins=20, density=True, alpha=0.5, label=mimic_label)\n",
    "plt.title('Number of words per report', fontsize=TITLE_FONTSIZE)\n",
    "plt.xlabel('Number of words', fontsize=X_LABEL_FONTSIZE)\n",
    "plt.ylabel('Frequency', fontsize=Y_LABEL_FONTSIZE)\n",
    "plt.legend(fontsize=LEGEND_FONTSIZE)\n",
    "\n",
    "plt.subplot(n_rows, n_cols, 2)\n",
    "plt.hist(df_iu['n_sentences'], bins=15, density=True, alpha=0.5, label=iu_label)\n",
    "plt.hist(df_mimic['n_sentences'], bins=15, density=True, alpha=0.5, label=mimic_label)\n",
    "plt.title('Number of sentences per report', fontsize=TITLE_FONTSIZE)\n",
    "plt.xlabel('Number of sentences', fontsize=X_LABEL_FONTSIZE)\n",
    "#  plt.ylabel('Frequency', fontsize=Y_LABEL_FONTSIZE) # f'Reports (N={n_reports:,})'\n",
    "plt.legend(fontsize=LEGEND_FONTSIZE)\n",
    "\n",
    "plt.subplot(n_rows, n_cols, 3)\n",
    "plt.hist(sentences_df_iu['n_words_per_sentence'], bins=15, density=True, alpha=0.5,\n",
    "         label=iu_label)\n",
    "plt.hist(sentences_df_mimic['n_words_per_sentence'], bins=15, density=True, alpha=0.5,\n",
    "         label=mimic_label)\n",
    "plt.title('Number of words per sentence', fontsize=TITLE_FONTSIZE)\n",
    "plt.xlabel('Number of words', fontsize=X_LABEL_FONTSIZE)\n",
    "# plt.ylabel('Frequency', fontsize=Y_LABEL_FONTSIZE) # f'Reports (N={n_reports:,})'\n",
    "plt.legend(fontsize=LEGEND_FONTSIZE)\n",
    "\n",
    "_fig_fpath = os.path.join(FIGURES_DIR, 'datasets-distributions-word-sentences.pdf')\n",
    "plt.gcf().savefig(_fig_fpath, bbox_inches='tight')"
   ]
  },
  {
   "cell_type": "code",
   "execution_count": null,
   "metadata": {},
   "outputs": [],
   "source": [
    "cols = ['n_words', 'n_sentences']\n",
    "df_iu[cols].mean(axis=0), df_mimic[cols].mean(axis=0)"
   ]
  },
  {
   "cell_type": "markdown",
   "metadata": {},
   "source": [
    "# Abnormality distribution"
   ]
  },
  {
   "cell_type": "code",
   "execution_count": null,
   "metadata": {},
   "outputs": [],
   "source": [
    "df_iu = pd.read_csv(os.path.join(IU_REPORTS_DIR, 'reports_with_chexpert_labels.csv'))\n",
    "print(len(df_iu))\n",
    "df_iu.head(2)"
   ]
  },
  {
   "cell_type": "code",
   "execution_count": null,
   "metadata": {},
   "outputs": [],
   "source": [
    "df_mimic = pd.read_csv(os.path.join(MIMIC_REPORTS_DIR, 'reports_with_chexpert_labels.csv'))\n",
    "print(len(df_mimic))\n",
    "df_mimic.head(2)"
   ]
  },
  {
   "cell_type": "code",
   "execution_count": null,
   "metadata": {},
   "outputs": [],
   "source": [
    "def _shorten_ec(disease):\n",
    "    if disease == 'Enlarged Cardiomediastinum':\n",
    "        return 'Enlarged Cardiom.'\n",
    "    return disease"
   ]
  },
  {
   "cell_type": "code",
   "execution_count": null,
   "metadata": {},
   "outputs": [],
   "source": [
    "def plot_abn_dist(df, name, ignore_NF=True, thousands=False, ylabel=True, txt_rot=0):\n",
    "    n_images = len(df)\n",
    "\n",
    "    df = df.replace({ -2: 0, -1: 1 })\n",
    "    \n",
    "    diseases = list(CHEXPERT_DISEASES)\n",
    "    if ignore_NF:\n",
    "        diseases.remove('No Finding')\n",
    "    \n",
    "    amounts_by_disease = df[diseases].sum(axis=0).sort_values(ascending=False)\n",
    "\n",
    "    diseases, values = list(amounts_by_disease.index), amounts_by_disease.values\n",
    "\n",
    "    diseases = [_shorten_ec(d) for d in diseases]\n",
    "    \n",
    "    plt.bar(diseases, values)\n",
    "    plt.xticks(rotation=90, fontsize=16)\n",
    "    # ylabel =  # if not thousands else 'N x1000 reports'\n",
    "    # plt.ylabel(f'{ylabel} (total={n_images:,})', fontsize=16)\n",
    "    if ylabel:\n",
    "        plt.ylabel('N images', fontsize=16)\n",
    "    plt.title(f'{name} (N={len(df):,})', fontsize=18)\n",
    "\n",
    "    max_amount = max(values)\n",
    "    y_padding = int(max_amount * 0.03)\n",
    "    plt.ylim(0, max_amount * 1.15)\n",
    "\n",
    "    for index, value in enumerate(values):\n",
    "        value = int(value)\n",
    "        perc = value / n_images * 100\n",
    "        if not thousands:\n",
    "            s = f'{value:,}'\n",
    "        else:\n",
    "            thousands = value / 1000\n",
    "            s = f'{thousands:.1f}k'\n",
    "        plt.text(index, value + y_padding, f'{s}\\n{perc:.0f}%', ha='center', rotation=txt_rot)"
   ]
  },
  {
   "cell_type": "code",
   "execution_count": null,
   "metadata": {},
   "outputs": [],
   "source": [
    "# plt.figure(figsize=(10, 5))\n",
    "plt.subplot(1, 2, 1)\n",
    "df = reduce_df_to_subset(df_iu, IU_ALL)\n",
    "plot_abn_dist(df, 'IU X-ray')\n",
    "\n",
    "plt.subplot(1, 2, 2)\n",
    "df = reduce_df_to_subset(df_mimic, MIMIC_ALL)\n",
    "plot_abn_dist(df, 'MIMIC-CXR', thousands=True, ylabel=True)\n",
    "# plt.tight_layout()\n",
    "\n",
    "_fig_fpath = os.path.join(FIGURES_DIR, 'datasets-distributions-chexpert-labels.pdf')\n",
    "plt.gcf().savefig(_fig_fpath, bbox_inches='tight')"
   ]
  },
  {
   "cell_type": "markdown",
   "metadata": {},
   "source": [
    "## Test split only"
   ]
  },
  {
   "cell_type": "markdown",
   "metadata": {},
   "source": [
    "### Plot"
   ]
  },
  {
   "cell_type": "code",
   "execution_count": null,
   "metadata": {},
   "outputs": [],
   "source": [
    "from collections import Counter\n",
    "import numpy as np"
   ]
  },
  {
   "cell_type": "code",
   "execution_count": null,
   "metadata": {},
   "outputs": [],
   "source": [
    "def plot_abn_dist_subclasses(df, title=None,\n",
    "                             horizontal=False,\n",
    "                             sortby='None',\n",
    "                             thousands=False, width=0.3, ignore_NF=True):\n",
    "    n_reports = len(df)\n",
    "\n",
    "    diseases = list(CHEXPERT_DISEASES)\n",
    "    if ignore_NF:\n",
    "        diseases.remove('No Finding')\n",
    "\n",
    "    amounts_by_label = df.replace({ -1: 1 })[diseases].apply(Counter).apply(pd.Series).rename(\n",
    "        index={ i: disease for i, disease in enumerate(diseases) },\n",
    "        columns={\n",
    "            -2: 'None',\n",
    "            0: 'Neg',\n",
    "            1: 'Pos',\n",
    "        },\n",
    "    ).fillna(0)\n",
    "    if sortby is not None:\n",
    "        amounts_by_label = amounts_by_label.sort_values(sortby, ascending=not horizontal)\n",
    "\n",
    "#     if not horizontal:\n",
    "#         plt.figure(figsize=(10,10))\n",
    "\n",
    "    absolute_max = amounts_by_label.max().max()\n",
    "    Y_PADDING_FACTOR = 0.03\n",
    "\n",
    "    x_labels = [ABN_SHORTCUTS[label] for label in amounts_by_label.index]\n",
    "    x = np.arange(len(x_labels))\n",
    "    for i, c in enumerate(['None', 'Neg', 'Pos']):\n",
    "        x_offset = (i-1)*width\n",
    "        y = amounts_by_label[c].values\n",
    "\n",
    "        if horizontal:\n",
    "            plt.bar(x + x_offset, y, width=width, label=c)\n",
    "        else:\n",
    "            plt.barh(x + x_offset, y, height=width, label=c)\n",
    "\n",
    "        y_padding = int(absolute_max * Y_PADDING_FACTOR)\n",
    "\n",
    "        for index, value in enumerate(y):\n",
    "            value = int(value)\n",
    "            perc = value / n_reports * 100\n",
    "            if not thousands:\n",
    "                s = f'{value:,}'\n",
    "            else:\n",
    "                thousands = value / 1000\n",
    "                s = f'{thousands:.1f}k'\n",
    "\n",
    "            if horizontal:\n",
    "                plt.text(index + x_offset, value + y_padding,\n",
    "                         f'{s}\\n{perc:.0f}%', ha='center')\n",
    "            else:\n",
    "                plt.text(value + y_padding, index + x_offset,\n",
    "                         f'{s} ({perc:.0f}%)', ha='left', va='center')\n",
    "\n",
    "    if horizontal:\n",
    "        plt.xticks(ticks=x, labels=x_labels, rotation=90)\n",
    "        plt.ylim(0, absolute_max * 1.15)\n",
    "        plt.legend()\n",
    "        plt.ylabel('N reports')\n",
    "    else:\n",
    "        plt.yticks(ticks=x, labels=x_labels)\n",
    "        plt.xlim(0, absolute_max * 1.2)\n",
    "        plt.legend(loc='lower right')\n",
    "        plt.xlabel('N reports')\n",
    "    plt.title(title)"
   ]
  },
  {
   "cell_type": "code",
   "execution_count": null,
   "metadata": {},
   "outputs": [],
   "source": [
    "df, subset_info, name = df_iu, IU_TEST, 'IU X-ray'\n",
    "# df, subset_info, name = df_mimic, MIMIC_TEST, 'MIMIC-CXR'\n",
    "\n",
    "df = reduce_df_to_subset(df, subset_info)\n",
    "# plot_abn_dist(df, f'{name} (test-only)')\n",
    "plot_abn_dist_subclasses(df, f'{name} (test-only)', horizontal=True)"
   ]
  },
  {
   "cell_type": "code",
   "execution_count": null,
   "metadata": {},
   "outputs": [],
   "source": []
  },
  {
   "cell_type": "code",
   "execution_count": null,
   "metadata": {},
   "outputs": [],
   "source": [
    "plt.figure(figsize=(15,10))\n",
    "\n",
    "plt.subplot(1, 2, 1)\n",
    "df1 = reduce_df_to_subset(df_iu, IU_TEST)\n",
    "plot_abn_dist_subclasses(df1, f'IU X-ray (test-subset-only)', sortby=None)\n",
    "\n",
    "plt.subplot(1, 2, 2)\n",
    "df2 = reduce_df_to_subset(df_mimic, MIMIC_TEST)\n",
    "plot_abn_dist_subclasses(df2, f'MIMIC X-ray (test-subset-only)', sortby=None)"
   ]
  },
  {
   "cell_type": "code",
   "execution_count": null,
   "metadata": {},
   "outputs": [],
   "source": []
  },
  {
   "cell_type": "code",
   "execution_count": null,
   "metadata": {},
   "outputs": [],
   "source": [
    "def df_to_test_and_to_amounts(df, subset_info, ignore_NF=True):\n",
    "    df = reduce_df_to_subset(df, subset_info)\n",
    "\n",
    "    diseases = list(CHEXPERT_DISEASES)\n",
    "    if ignore_NF:\n",
    "        diseases.remove('No Finding')\n",
    "    \n",
    "    amounts_by_label = df.replace({ -1: 1 })[diseases].apply(Counter).apply(pd.Series).rename(\n",
    "        index={ i: disease for i, disease in enumerate(diseases) },\n",
    "        columns={\n",
    "            -2: 'Unmention',\n",
    "            0: 'Negative',\n",
    "            1: 'Positive + Uncertain',\n",
    "        },\n",
    "    ).fillna(0)\n",
    "    return amounts_by_label"
   ]
  },
  {
   "cell_type": "code",
   "execution_count": null,
   "metadata": {},
   "outputs": [],
   "source": [
    "am_iu = df_to_test_and_to_amounts(df_iu, IU_TEST)\n",
    "am_mimic = df_to_test_and_to_amounts(df_mimic, MIMIC_TEST)\n",
    "len(am_iu), len(am_mimic)"
   ]
  },
  {
   "cell_type": "code",
   "execution_count": null,
   "metadata": {},
   "outputs": [],
   "source": [
    "am_iu = am_iu.sum(axis=0) / 13 / len(IU_TEST)\n",
    "am_iu"
   ]
  },
  {
   "cell_type": "code",
   "execution_count": null,
   "metadata": {},
   "outputs": [],
   "source": [
    "am_mimic = am_mimic.sum(axis=0) / 13 / len(MIMIC_TEST)\n",
    "am_mimic"
   ]
  },
  {
   "cell_type": "code",
   "execution_count": null,
   "metadata": {},
   "outputs": [],
   "source": [
    "am = pd.concat([am_iu, am_mimic], axis=1).rename(\n",
    "    columns={ 0: 'IU X-ray', 1: 'MIMIC-CXR' },\n",
    ").transpose()\n",
    "am"
   ]
  },
  {
   "cell_type": "code",
   "execution_count": null,
   "metadata": {},
   "outputs": [],
   "source": [
    "am_iu.sum(), am_mimic.sum()"
   ]
  },
  {
   "cell_type": "code",
   "execution_count": null,
   "metadata": {},
   "outputs": [],
   "source": [
    "# thousands = False\n",
    "horizontal = True\n",
    "density = True\n",
    "to_100 = True\n",
    "\n",
    "plt.figure(figsize=(8, 6))\n",
    "\n",
    "width = 0.2\n",
    "x_labels = am.index\n",
    "x = np.arange(len(x_labels))\n",
    "\n",
    "if to_100:\n",
    "    am2 = am * 100\n",
    "    max_y = 100\n",
    "else:\n",
    "    am2 = am\n",
    "    max_y = 1\n",
    "absolute_max = am2.max().max() if not density else max_y\n",
    "Y_PADDING_FACTOR = 0.03\n",
    "y_padding = float(absolute_max * Y_PADDING_FACTOR)\n",
    "\n",
    "for i, c in enumerate(am.columns):\n",
    "    x_offset = (i-1)*width\n",
    "    y = am2[c]\n",
    "    \n",
    "    plt.bar(x + x_offset, y, width=width, label=c)\n",
    "    \n",
    "    for index, value in enumerate(y):\n",
    "        # HACK!!\n",
    "        if index == 1:\n",
    "            n_reports = len(MIMIC_TEST) * 13\n",
    "        else:\n",
    "            n_reports = len(IU_TEST) * 13\n",
    "        # n_reports = int(n_reports * value)\n",
    "#         value = int(value)\n",
    "#         perc = value / n_reports * 100\n",
    "\n",
    "        # t = f'{value*100:.1f}%'\n",
    "        t = f'{value:.1f}%'\n",
    "        # t += '\\n({n_reports:,})'\n",
    "        plt.text(index + x_offset, value + y_padding, t, ha='center', fontsize=14)\n",
    "    \n",
    "plt.xticks(ticks=x, labels=x_labels, fontsize=16)\n",
    "plt.ylabel(r'Percentage of mentions', fontsize=16) # of all images $\\times$ all abnormalities\n",
    "plt.title('Abnormality mentions (test subset)', fontsize=18)\n",
    "plt.ylim(0, max_y)\n",
    "plt.legend(fontsize=14)\n",
    "\n",
    "_fig_fpath = os.path.join(FIGURES_DIR, 'stress-test-datasets-valorations-dist.pdf')\n",
    "plt.gcf().savefig(_fig_fpath, bbox_inches='tight')"
   ]
  }
 ],
 "metadata": {
  "kernelspec": {
   "display_name": "Python 3",
   "language": "python",
   "name": "python3"
  },
  "language_info": {
   "codemirror_mode": {
    "name": "ipython",
    "version": 3
   },
   "file_extension": ".py",
   "mimetype": "text/x-python",
   "name": "python",
   "nbconvert_exporter": "python",
   "pygments_lexer": "ipython3",
   "version": "3.6.9"
  },
  "toc": {
   "base_numbering": 1,
   "nav_menu": {},
   "number_sections": true,
   "sideBar": true,
   "skip_h1_title": false,
   "title_cell": "Table of Contents",
   "title_sidebar": "Contents",
   "toc_cell": false,
   "toc_position": {},
   "toc_section_display": true,
   "toc_window_display": false
  }
 },
 "nbformat": 4,
 "nbformat_minor": 4
}
