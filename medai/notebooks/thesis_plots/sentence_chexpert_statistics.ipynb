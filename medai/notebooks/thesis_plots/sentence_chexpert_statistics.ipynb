{
 "cells": [
  {
   "cell_type": "markdown",
   "metadata": {},
   "source": [
    "# Imports"
   ]
  },
  {
   "cell_type": "code",
   "execution_count": null,
   "metadata": {},
   "outputs": [],
   "source": [
    "import os\n",
    "import numpy as np\n",
    "from collections import Counter, defaultdict\n",
    "import importlib\n",
    "import re"
   ]
  },
  {
   "cell_type": "code",
   "execution_count": null,
   "metadata": {},
   "outputs": [],
   "source": [
    "import matplotlib.pyplot as plt\n",
    "import matplotlib\n",
    "matplotlib.rcParams['figure.facecolor'] = 'white'\n",
    "matplotlib.rcParams['figure.figsize'] = (15, 5)"
   ]
  },
  {
   "cell_type": "code",
   "execution_count": null,
   "metadata": {},
   "outputs": [],
   "source": [
    "import pandas as pd\n",
    "pd.options.display.max_columns = None"
   ]
  },
  {
   "cell_type": "code",
   "execution_count": null,
   "metadata": {},
   "outputs": [],
   "source": [
    "%run ../../utils/__init__.py\n",
    "config_logging(logging.INFO)"
   ]
  },
  {
   "cell_type": "code",
   "execution_count": null,
   "metadata": {},
   "outputs": [],
   "source": [
    "%run ../../datasets/common/constants.py"
   ]
  },
  {
   "cell_type": "code",
   "execution_count": null,
   "metadata": {},
   "outputs": [],
   "source": [
    "from medai.datasets import iu_xray, mimic_cxr\n",
    "IU_DIR = iu_xray.DATASET_DIR\n",
    "MIMIC_DIR = mimic_cxr.DATASET_DIR"
   ]
  },
  {
   "cell_type": "markdown",
   "metadata": {},
   "source": [
    "# Load sentences"
   ]
  },
  {
   "cell_type": "code",
   "execution_count": null,
   "metadata": {},
   "outputs": [],
   "source": [
    "fpath = os.path.join(IU_DIR, 'reports', 'sentences_with_chexpert_labels.csv')\n",
    "SENTENCES_DF_IU = pd.read_csv(fpath)\n",
    "SENTENCES_DF_IU.head(3)"
   ]
  },
  {
   "cell_type": "code",
   "execution_count": null,
   "metadata": {},
   "outputs": [],
   "source": [
    "fpath = os.path.join(MIMIC_DIR, 'reports', 'sentences_with_chexpert_labels.csv')\n",
    "SENTENCES_DF_MIMIC = pd.read_csv(fpath)\n",
    "SENTENCES_DF_MIMIC.head(3)"
   ]
  },
  {
   "cell_type": "markdown",
   "metadata": {
    "heading_collapsed": true
   },
   "source": [
    "# Amounts by abnormality"
   ]
  },
  {
   "cell_type": "code",
   "execution_count": null,
   "metadata": {
    "hidden": true
   },
   "outputs": [],
   "source": [
    "def get_amounts_by_abn(sentences_df):\n",
    "    amounts_by_abn = sentences_df[CHEXPERT_DISEASES].apply(Counter).apply(pd.Series)\n",
    "    amounts_by_abn = amounts_by_abn.rename(\n",
    "        index={ i: disease for i, disease in enumerate(CHEXPERT_DISEASES) },\n",
    "        columns={ -2: 'Unmention', -1: 'Uncertain', 0: 'Negative', 1: 'Positive' },\n",
    "    ).fillna(0) # .astype(np.int)\n",
    "    cols = ['Unmention', 'Negative', 'Uncertain', 'Positive']\n",
    "    return amounts_by_abn[cols]"
   ]
  },
  {
   "cell_type": "code",
   "execution_count": null,
   "metadata": {
    "hidden": true
   },
   "outputs": [],
   "source": [
    "df_iu = get_amounts_by_abn(SENTENCES_DF_IU)\n",
    "df_iu"
   ]
  },
  {
   "cell_type": "code",
   "execution_count": null,
   "metadata": {
    "hidden": true
   },
   "outputs": [],
   "source": [
    "df_mimic = get_amounts_by_abn(SENTENCES_DF_MIMIC)\n",
    "df_mimic"
   ]
  },
  {
   "cell_type": "code",
   "execution_count": null,
   "metadata": {
    "hidden": true
   },
   "outputs": [],
   "source": [
    "final_table = pd.concat([df_iu, df_mimic], axis=1)\n",
    "final_table"
   ]
  },
  {
   "cell_type": "code",
   "execution_count": null,
   "metadata": {
    "hidden": true
   },
   "outputs": [],
   "source": [
    "x = 3000\n",
    "f'{x:,}'"
   ]
  },
  {
   "cell_type": "code",
   "execution_count": null,
   "metadata": {
    "hidden": true
   },
   "outputs": [],
   "source": [
    "def bold(s):\n",
    "    return '\\textbf{' + s + '}'\n",
    "def shorten(s):\n",
    "    d = {\n",
    "        'Unmention': 'None',\n",
    "        'Negative': 'Neg',\n",
    "        'Positive': 'Pos',\n",
    "        'Uncertain': 'Unc',\n",
    "    }\n",
    "    return d[s]\n",
    "\n",
    "s = final_table.rename(\n",
    "    columns={col: bold(shorten(col)) for col in final_table.columns}\n",
    ").to_latex(float_format='{:,.0f}'.format, escape=False)\n",
    "s = re.sub(r' +', ' ', s)\n",
    "print(s)"
   ]
  },
  {
   "cell_type": "code",
   "execution_count": null,
   "metadata": {
    "hidden": true
   },
   "outputs": [],
   "source": [
    "len(SENTENCES_DF_IU), len(SENTENCES_DF_MIMIC)"
   ]
  },
  {
   "cell_type": "markdown",
   "metadata": {},
   "source": [
    "# Other stats"
   ]
  },
  {
   "cell_type": "code",
   "execution_count": null,
   "metadata": {},
   "outputs": [],
   "source": [
    "def print_stats(df, name):\n",
    "    print(name)\n",
    "    print(f'\\tTotal sentences in DF: {len(df):,}')\n",
    "    print(f'\\tUnique sentences in DF: {len(df[\"sentence\"].unique()):,}')"
   ]
  },
  {
   "cell_type": "code",
   "execution_count": null,
   "metadata": {},
   "outputs": [],
   "source": [
    "print_stats(SENTENCES_DF_IU, 'iu')\n",
    "print_stats(SENTENCES_DF_MIMIC, 'mimic')"
   ]
  },
  {
   "cell_type": "code",
   "execution_count": null,
   "metadata": {},
   "outputs": [],
   "source": [
    "ACTUAL_DISEASES = CHEXPERT_DISEASES[1:]"
   ]
  },
  {
   "cell_type": "code",
   "execution_count": null,
   "metadata": {},
   "outputs": [],
   "source": [
    "d = SENTENCES_DF_IU\n",
    "d = d.loc[(d[ACTUAL_DISEASES] == -2).all(axis=1)]\n",
    "d = d.loc[(d['No Finding'] == 1)]\n",
    "print(len(d))\n",
    "d"
   ]
  },
  {
   "cell_type": "code",
   "execution_count": null,
   "metadata": {},
   "outputs": [],
   "source": [
    "list(d['sentence'])"
   ]
  }
 ],
 "metadata": {
  "kernelspec": {
   "display_name": "Python 3",
   "language": "python",
   "name": "python3"
  },
  "language_info": {
   "codemirror_mode": {
    "name": "ipython",
    "version": 3
   },
   "file_extension": ".py",
   "mimetype": "text/x-python",
   "name": "python",
   "nbconvert_exporter": "python",
   "pygments_lexer": "ipython3",
   "version": "3.6.9"
  },
  "toc": {
   "base_numbering": 1,
   "nav_menu": {},
   "number_sections": true,
   "sideBar": true,
   "skip_h1_title": false,
   "title_cell": "Table of Contents",
   "title_sidebar": "Contents",
   "toc_cell": false,
   "toc_position": {},
   "toc_section_display": true,
   "toc_window_display": false
  }
 },
 "nbformat": 4,
 "nbformat_minor": 4
}
