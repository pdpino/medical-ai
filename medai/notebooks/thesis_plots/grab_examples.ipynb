{
 "cells": [
  {
   "cell_type": "markdown",
   "metadata": {},
   "source": [
    "# Imports"
   ]
  },
  {
   "cell_type": "code",
   "execution_count": null,
   "metadata": {},
   "outputs": [],
   "source": [
    "import os\n",
    "from collections import Counter, defaultdict\n",
    "import importlib\n",
    "import json\n",
    "import re\n",
    "import numpy as np"
   ]
  },
  {
   "cell_type": "code",
   "execution_count": null,
   "metadata": {},
   "outputs": [],
   "source": [
    "import matplotlib.pyplot as plt\n",
    "import matplotlib\n",
    "matplotlib.rcParams['figure.facecolor'] = 'white'\n",
    "matplotlib.rcParams['figure.figsize'] = (15, 5)\n",
    "plt.rcParams.update({'font.family': 'serif', 'font.sans-serif': ['CMU', 'Helvetica']})"
   ]
  },
  {
   "cell_type": "code",
   "execution_count": null,
   "metadata": {},
   "outputs": [],
   "source": [
    "import pandas as pd\n",
    "pd.options.display.max_columns = None"
   ]
  },
  {
   "cell_type": "code",
   "execution_count": null,
   "metadata": {},
   "outputs": [],
   "source": [
    "%run ../../utils/__init__.py\n",
    "config_logging(logging.INFO)"
   ]
  },
  {
   "cell_type": "code",
   "execution_count": null,
   "metadata": {},
   "outputs": [],
   "source": [
    "%run ../../datasets/common/constants.py"
   ]
  },
  {
   "cell_type": "code",
   "execution_count": null,
   "metadata": {},
   "outputs": [],
   "source": [
    "from medai.datasets import iu_xray, mimic_cxr\n",
    "IU_DIR = iu_xray.DATASET_DIR\n",
    "MIMIC_DIR = mimic_cxr.DATASET_DIR"
   ]
  },
  {
   "cell_type": "markdown",
   "metadata": {},
   "source": [
    "# Load stuff"
   ]
  },
  {
   "cell_type": "markdown",
   "metadata": {
    "heading_collapsed": true
   },
   "source": [
    "## Load dicts"
   ]
  },
  {
   "cell_type": "code",
   "execution_count": null,
   "metadata": {
    "hidden": true
   },
   "outputs": [],
   "source": [
    "dataset_dir, version = IU_DIR, 'v4-1'\n",
    "# dataset_dir, version = MIMIC_DIR, 'v4-2'\n",
    "\n",
    "_fpath = os.path.join(dataset_dir, 'reports', f'reports.clean.{version}.json')\n",
    "with open(_fpath) as f:\n",
    "    REPORTS_DICT = json.load(f)\n",
    "len(REPORTS_DICT)"
   ]
  },
  {
   "cell_type": "markdown",
   "metadata": {
    "heading_collapsed": true
   },
   "source": [
    "## Load sentences"
   ]
  },
  {
   "cell_type": "code",
   "execution_count": null,
   "metadata": {
    "hidden": true
   },
   "outputs": [],
   "source": [
    "#dataset_dir = IU_DIR\n",
    "dataset_dir = MIMIC_DIR\n",
    "\n",
    "fpath = os.path.join(dataset_dir, 'reports', 'sentences_with_chexpert_labels.csv')\n",
    "SENTENCES_DF = pd.read_csv(fpath)\n",
    "SENTENCES_DF.head(3)"
   ]
  },
  {
   "cell_type": "code",
   "execution_count": null,
   "metadata": {
    "hidden": true
   },
   "outputs": [],
   "source": [
    "d = SENTENCES_DF\n",
    "d = d.loc[d['Lung Lesion'] == 0]\n",
    "list(d['sentence'])"
   ]
  },
  {
   "cell_type": "markdown",
   "metadata": {
    "heading_collapsed": true
   },
   "source": [
    "## Load reports with chexpert labels"
   ]
  },
  {
   "cell_type": "code",
   "execution_count": null,
   "metadata": {
    "hidden": true
   },
   "outputs": [],
   "source": [
    "# dataset_dir = IU_DIR\n",
    "dataset_dir = MIMIC_DIR\n",
    "\n",
    "fpath = os.path.join(dataset_dir, 'reports', 'reports_with_chexpert_labels.csv')\n",
    "REPORTS_DF = pd.read_csv(fpath)\n",
    "REPORTS_DF.head(3)"
   ]
  },
  {
   "cell_type": "code",
   "execution_count": null,
   "metadata": {
    "hidden": true
   },
   "outputs": [],
   "source": [
    "n_none, n_neg, n_unc, n_pos = zip(*[\n",
    "    (row.tolist().count(-2), row.tolist().count(0), row.tolist().count(-1), row.tolist().count(1))\n",
    "    for index, row in REPORTS_DF[CHEXPERT_DISEASES].iterrows()\n",
    "])\n",
    "REPORTS_DF = REPORTS_DF.assign(**{\n",
    "    'n_none': n_none,'n_neg': n_neg,'n_unc': n_unc,'n_pos': n_pos,\n",
    "})\n",
    "REPORTS_DF['study_id'] = [filename[14:-4] for filename in REPORTS_DF['filename']]\n",
    "REPORTS_DF.head(2)"
   ]
  },
  {
   "cell_type": "markdown",
   "metadata": {
    "heading_collapsed": true
   },
   "source": [
    "## Load mimic sectioned file"
   ]
  },
  {
   "cell_type": "code",
   "execution_count": null,
   "metadata": {
    "hidden": true
   },
   "outputs": [],
   "source": [
    "_fpath = os.path.join(MIMIC_DIR, 'master_metadata.csv')\n",
    "mimic_metadata = pd.read_csv(_fpath)\n",
    "mimic_metadata.head(2)"
   ]
  },
  {
   "cell_type": "code",
   "execution_count": null,
   "metadata": {
    "hidden": true
   },
   "outputs": [],
   "source": [
    "_fpath = os.path.join(MIMIC_DIR, 'reports', 'mimic_cxr_sectioned.csv')\n",
    "mimic_sectioned = pd.read_csv(_fpath)\n",
    "print(len(mimic_sectioned))\n",
    "mimic_sectioned.head(2)"
   ]
  },
  {
   "cell_type": "code",
   "execution_count": null,
   "metadata": {
    "hidden": true
   },
   "outputs": [],
   "source": [
    "mimic_sectioned = mimic_sectioned.merge(REPORTS_DF, left_on='study', right_on='study_id',\n",
    "                                        how='left')\n",
    "print(len(mimic_sectioned))\n",
    "mimic_sectioned.head(3)"
   ]
  },
  {
   "cell_type": "markdown",
   "metadata": {
    "hidden": true
   },
   "source": [
    "### Find an example"
   ]
  },
  {
   "cell_type": "code",
   "execution_count": null,
   "metadata": {
    "hidden": true
   },
   "outputs": [],
   "source": [
    "%run ../../utils/images.py"
   ]
  },
  {
   "cell_type": "code",
   "execution_count": null,
   "metadata": {
    "hidden": true
   },
   "outputs": [],
   "source": [
    "d = mimic_sectioned\n",
    "d = d.fillna('').sort_values('findings', key=lambda x: x.str.len(), ascending=True)\n",
    "# d = d.loc[d['comparison'].notnull()]\n",
    "# d = d.loc[~d['comparison'].str.contains('None')]\n",
    "# d = d.loc[d['comparison'] != '___.']\n",
    "# d = d.loc[d['comparison'] != '___']\n",
    "d = d.loc[((d['n_neg'] >= 1) & (d['n_pos'] >= 1))]\n",
    "d = d.loc[d['No Finding'] == -2]\n",
    "d = d.loc[d['Support Devices'] == -2]\n",
    "d = d.loc[d['findings'].str.contains(r'[Aa]gain|unchanged|comparison')]\n",
    "d = d.loc[d['findings'].str.contains(r'follow[\\-u]')]\n",
    "d = d.loc[d['findings'].str.contains(r'PA|frontal|lateral|single|techn')]\n",
    "print(len(d))"
   ]
  },
  {
   "cell_type": "code",
   "execution_count": null,
   "metadata": {
    "hidden": true
   },
   "outputs": [],
   "source": [
    "list(d['findings'])"
   ]
  },
  {
   "cell_type": "code",
   "execution_count": null,
   "metadata": {
    "hidden": true
   },
   "outputs": [],
   "source": [
    "# target = 'Chest radiograph ___ and chest CT ___'\n",
    "# target =  'AP upright and lateral views of the chest provided.\\n \\n Suture material is noted projecting over the left upper lung as on prior\\n compatible with prior resection.  There is focal opacity in the right lower\\n lobe and left mid lung, could represent pneumonia though follow-up to\\n resolution advised.  There is a retrocardiac opacity containing a fluid level\\n most compatible with a hiatal hernia.  No large effusion or pneumothorax. \\n Cardiomediastinal silhouette is unchanged.  Bony structures are intact.'\n",
    "# target = 'Frontal and lateral views of the chest were obtained.  There is a\\n subtle patchy opacity projecting over the right upper lobe, difficult to\\n discern whether it may have been subtly present on the prior study, concerning\\n for focus of infection.  Recommend followup to resolution to exclude\\n underlying lesion.  The remainder of the lungs is clear.  No pleural effusion\\n or pneumothorax is seen.  The cardiac and mediastinal silhouettes are stable. \\n A single-lead left-sided AICD is again seen, unchanged in position.'\n",
    "target = 'Single AP upright portable view of the chest was obtained.  The\\n cardiomediastinal silhouette remains enlarged and similar in appearance since\\n the prior study.  Interstitial pulmonary edema is again seen, fairly similar\\n in severity as compared to the prior study.  No large pleural effusion or\\n pneumothorax is seen.  A posterior left infrahilar opacity is seen, somewhat\\n rounded in contour, not as well seen on the lateral view on ___, could be\\n due to underlying consolidation; recommend followup to resolution to exclude\\n an underlying nodular lesion.  The opacity measures approximately 2.4 cm.'"
   ]
  },
  {
   "cell_type": "code",
   "execution_count": null,
   "metadata": {
    "hidden": true
   },
   "outputs": [],
   "source": [
    "d = mimic_sectioned\n",
    "rows = d.loc[d['findings'] == target].sort_values('findings', key=lambda x: x.str.len())\n",
    "print(len(rows))\n",
    "rows"
   ]
  },
  {
   "cell_type": "code",
   "execution_count": null,
   "metadata": {
    "hidden": true
   },
   "outputs": [],
   "source": [
    "list(rows['impression'])"
   ]
  },
  {
   "cell_type": "code",
   "execution_count": null,
   "metadata": {
    "hidden": true
   },
   "outputs": [],
   "source": [
    "# target_impression = 'Mild pulmonary vascular congestion and bibasilar opacities, likely atelectasis\\n but infection is not excluded.'\n",
    "# target_impression = '1. PICC line positioned appropriately.\\n 2. Mild cardiomegaly.\\n 3. No signs of pneumonia.'\n",
    "target_impression = 'Minimal patchy right lower lobe opacity which is concerning for infection in\\n the correct clinical setting.'\n",
    "rows2 = rows.loc[rows['impression'] == target_impression]\n",
    "print(len(rows2))\n",
    "rows2"
   ]
  },
  {
   "cell_type": "code",
   "execution_count": null,
   "metadata": {
    "hidden": true
   },
   "outputs": [],
   "source": [
    "# Sample:\n",
    "# study_id = 's53031050'\n",
    "# study_id = 's56273978'\n",
    "# study_id = 's59372424' ## Figure 1 in intro\n",
    "study_id = 's52756007'\n",
    "# study_id = 's57385035'"
   ]
  },
  {
   "cell_type": "code",
   "execution_count": null,
   "metadata": {
    "hidden": true
   },
   "outputs": [],
   "source": [
    "d = mimic_sectioned\n",
    "d = d.loc[d['study'] == study_id].iloc[0]\n",
    "impression = d['impression']\n",
    "findings = d['findings']\n",
    "comparison = d['comparison']\n",
    "path = d['filename']\n",
    "print('PATH: ', path)\n",
    "print('COMPARISON: ', comparison)\n",
    "print('FINDINGS: ', findings)\n",
    "print('IMPRESSION: ', impression)"
   ]
  },
  {
   "cell_type": "code",
   "execution_count": null,
   "metadata": {
    "hidden": true
   },
   "outputs": [],
   "source": [
    "d = mimic_metadata\n",
    "d = d.loc[d['study_id'] == int(study_id[1:])]\n",
    "image_fpaths = list(d['image_fpath'])\n",
    "len(image_fpaths)"
   ]
  },
  {
   "cell_type": "code",
   "execution_count": null,
   "metadata": {
    "hidden": true
   },
   "outputs": [],
   "source": [
    "n_rows = 1\n",
    "n_cols = len(image_fpaths)\n",
    "for index, filename in enumerate(image_fpaths):\n",
    "    plt.subplot(n_rows, n_cols, index+1)\n",
    "    fpath = os.path.join(MIMIC_DIR, 'images', filename)\n",
    "    image = load_image(fpath, 'RGB')\n",
    "    plt.imshow(image)"
   ]
  },
  {
   "cell_type": "code",
   "execution_count": null,
   "metadata": {
    "hidden": true
   },
   "outputs": [],
   "source": []
  },
  {
   "cell_type": "markdown",
   "metadata": {
    "heading_collapsed": true
   },
   "source": [
    "## Search in reports_df"
   ]
  },
  {
   "cell_type": "code",
   "execution_count": null,
   "metadata": {
    "hidden": true
   },
   "outputs": [],
   "source": [
    "d = REPORTS_DF\n",
    "# d = d.loc[((d['n_neg'] >= 1) & (d['n_pos'] >= 1) & (d['n_unc'] >= 1))]\n",
    "# d = d.loc[d['Pneumonia'] == 1]\n",
    "d = d.sort_values('Reports', key=lambda x: x.str.len())\n",
    "print(len(d))\n",
    "d.head(2)"
   ]
  },
  {
   "cell_type": "code",
   "execution_count": null,
   "metadata": {
    "hidden": true
   },
   "outputs": [],
   "source": [
    "# d = REPORTS_DF\n",
    "# target = r'clinical.setting.*follow'\n",
    "target = r'blunt'\n",
    "d = d.loc[d['Reports'].str.contains(target)]\n",
    "# l = [r for r in d['Reports'] if re.search(target, r)]\n",
    "l = list(d['Reports'])\n",
    "l[:20]"
   ]
  },
  {
   "cell_type": "code",
   "execution_count": null,
   "metadata": {
    "hidden": true
   },
   "outputs": [],
   "source": [
    "d.head(1)"
   ]
  },
  {
   "cell_type": "markdown",
   "metadata": {
    "heading_collapsed": true
   },
   "source": [
    "## Search in dict"
   ]
  },
  {
   "cell_type": "code",
   "execution_count": null,
   "metadata": {
    "hidden": true
   },
   "outputs": [],
   "source": [
    "list(REPORTS_DICT.keys())[0]"
   ]
  },
  {
   "cell_type": "code",
   "execution_count": null,
   "metadata": {
    "hidden": true
   },
   "outputs": [],
   "source": [
    "REPORTS_DICT['53911762']"
   ]
  },
  {
   "cell_type": "code",
   "execution_count": null,
   "metadata": {
    "hidden": true
   },
   "outputs": [],
   "source": [
    "def _is_none(txt):\n",
    "    if not txt:\n",
    "        return True\n",
    "    txt = txt.lower().replace('.', '').strip()\n",
    "    if txt.startswith('none'):\n",
    "        return True\n",
    "    if txt.startswith('no comparison'):\n",
    "        return True\n",
    "    if txt in ('none', 'nones', 'xxxx', 'none available', 'none clinical', 'no prior'):\n",
    "        return True\n",
    "    return False\n",
    "def _contains_xxxx(txt):\n",
    "    return 'xxxx' in txt.lower()"
   ]
  },
  {
   "cell_type": "code",
   "execution_count": null,
   "metadata": {
    "hidden": true
   },
   "outputs": [],
   "source": [
    "condition = lambda txt: not _contains_xxxx(txt) and not _is_none(txt)"
   ]
  },
  {
   "cell_type": "code",
   "execution_count": null,
   "metadata": {
    "hidden": true
   },
   "outputs": [],
   "source": [
    "# target_image = 'CXR3095_IM-1448-1001'\n",
    "found = []\n",
    "for filename, d in REPORTS_DICT.items():\n",
    "#     if any(image.get('id') == target_image for image in d['images']):\n",
    "#         found.append(filename)\n",
    "    comparison = d.get('comparison') or ''\n",
    "    indication = d.get('indication') or ''\n",
    "    if condition(comparison) and condition(indication):\n",
    "        found.append(filename)\n",
    "len(found), len(REPORTS_DICT)"
   ]
  },
  {
   "cell_type": "code",
   "execution_count": null,
   "metadata": {
    "hidden": true
   },
   "outputs": [],
   "source": [
    "for f in found:\n",
    "    d = REPORTS_DICT[f]\n",
    "    comparison = d['comparison']\n",
    "    indication = d['indication']\n",
    "    print(f'{f}, {comparison}\\t\\t{indication}')"
   ]
  },
  {
   "cell_type": "code",
   "execution_count": null,
   "metadata": {
    "hidden": true
   },
   "outputs": [],
   "source": [
    "REPORTS_DICT['1547.xml']"
   ]
  },
  {
   "cell_type": "markdown",
   "metadata": {},
   "source": [
    "## Sentence examples"
   ]
  },
  {
   "cell_type": "code",
   "execution_count": null,
   "metadata": {},
   "outputs": [],
   "source": [
    "d = SENTENCES_DF\n",
    "d = d.loc[d['Cardiomegaly'] == 0]\n",
    "list(d['sentence'])"
   ]
  },
  {
   "cell_type": "code",
   "execution_count": null,
   "metadata": {},
   "outputs": [],
   "source": []
  },
  {
   "cell_type": "markdown",
   "metadata": {},
   "source": [
    "# ImageCLEF samples"
   ]
  },
  {
   "cell_type": "code",
   "execution_count": null,
   "metadata": {},
   "outputs": [],
   "source": [
    "%run ../../utils/images.py"
   ]
  },
  {
   "cell_type": "code",
   "execution_count": null,
   "metadata": {},
   "outputs": [],
   "source": [
    "IMAGECLEF_DIR = IU_DIR.replace('iu-x-ray/dataset',\n",
    "                               'imageclef/2020-2021-Datasets/Captioning/caption-prediction')"
   ]
  },
  {
   "cell_type": "code",
   "execution_count": null,
   "metadata": {},
   "outputs": [],
   "source": [
    "_fpath = os.path.join(IMAGECLEF_DIR, 'Training_Set_Caption.csv')\n",
    "df = pd.read_csv(_fpath, sep='\\t', header=None, names=['image_name', 'caption'])\n",
    "df.head(2)"
   ]
  },
  {
   "cell_type": "code",
   "execution_count": null,
   "metadata": {},
   "outputs": [],
   "source": [
    "image_folder = os.path.join(IMAGECLEF_DIR, 'Training-Images')"
   ]
  },
  {
   "cell_type": "code",
   "execution_count": null,
   "metadata": {},
   "outputs": [],
   "source": [
    "row = df.iloc[111]\n",
    "image_name = row['image_name']\n",
    "caption = row['caption']\n",
    "row"
   ]
  },
  {
   "cell_type": "code",
   "execution_count": null,
   "metadata": {},
   "outputs": [],
   "source": [
    "image = load_image(os.path.join(image_folder, f'{image_name}.jpg'), 'RGB')\n",
    "print(caption)\n",
    "plt.imshow(image)"
   ]
  },
  {
   "cell_type": "code",
   "execution_count": null,
   "metadata": {},
   "outputs": [],
   "source": [
    "# Example 1: synpic43648, iloc 10\n",
    "# Example 2: synpic33642, iloc 140"
   ]
  }
 ],
 "metadata": {
  "kernelspec": {
   "display_name": "Python 3 (ipykernel)",
   "language": "python",
   "name": "python3"
  },
  "language_info": {
   "codemirror_mode": {
    "name": "ipython",
    "version": 3
   },
   "file_extension": ".py",
   "mimetype": "text/x-python",
   "name": "python",
   "nbconvert_exporter": "python",
   "pygments_lexer": "ipython3",
   "version": "3.10.9"
  },
  "toc": {
   "base_numbering": 1,
   "nav_menu": {},
   "number_sections": true,
   "sideBar": true,
   "skip_h1_title": false,
   "title_cell": "Table of Contents",
   "title_sidebar": "Contents",
   "toc_cell": false,
   "toc_position": {},
   "toc_section_display": true,
   "toc_window_display": false
  }
 },
 "nbformat": 4,
 "nbformat_minor": 4
}
