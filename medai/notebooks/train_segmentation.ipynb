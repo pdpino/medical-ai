{
 "cells": [
  {
   "cell_type": "markdown",
   "metadata": {},
   "source": [
    "## Imports"
   ]
  },
  {
   "cell_type": "code",
   "execution_count": 1,
   "metadata": {},
   "outputs": [],
   "source": [
    "import torch\n",
    "from torch import nn"
   ]
  },
  {
   "cell_type": "code",
   "execution_count": 4,
   "metadata": {},
   "outputs": [
    {
     "name": "stdout",
     "output_type": "stream",
     "text": [
      "env: CUDA_VISIBLE_DEVICES=0,1\n"
     ]
    }
   ],
   "source": [
    "%env CUDA_VISIBLE_DEVICES=0,1"
   ]
  },
  {
   "cell_type": "code",
   "execution_count": 5,
   "metadata": {},
   "outputs": [
    {
     "data": {
      "text/plain": [
       "device(type='cuda')"
      ]
     },
     "execution_count": 5,
     "metadata": {},
     "output_type": "execute_result"
    }
   ],
   "source": [
    "DEVICE = torch.device('cuda')\n",
    "DEVICE"
   ]
  },
  {
   "cell_type": "code",
   "execution_count": null,
   "metadata": {},
   "outputs": [],
   "source": []
  },
  {
   "cell_type": "markdown",
   "metadata": {},
   "source": [
    "## Load data"
   ]
  },
  {
   "cell_type": "code",
   "execution_count": 6,
   "metadata": {},
   "outputs": [],
   "source": [
    "%run ../datasets/__init__.py"
   ]
  },
  {
   "cell_type": "code",
   "execution_count": 7,
   "metadata": {},
   "outputs": [
    {
     "data": {
      "text/plain": [
       "(124, 61)"
      ]
     },
     "execution_count": 7,
     "metadata": {},
     "output_type": "execute_result"
    }
   ],
   "source": [
    "BS = 20\n",
    "\n",
    "train_dataloader = prepare_data_segmentation('jsrt', 'train', batch_size=BS)\n",
    "val_dataloader = prepare_data_segmentation('jsrt', 'val', batch_size=BS)\n",
    "len(train_dataloader.dataset), len(val_dataloader.dataset)"
   ]
  },
  {
   "cell_type": "code",
   "execution_count": null,
   "metadata": {},
   "outputs": [],
   "source": []
  },
  {
   "cell_type": "markdown",
   "metadata": {},
   "source": [
    "## Create model"
   ]
  },
  {
   "cell_type": "code",
   "execution_count": 8,
   "metadata": {},
   "outputs": [],
   "source": [
    "from torch import optim"
   ]
  },
  {
   "cell_type": "code",
   "execution_count": 9,
   "metadata": {},
   "outputs": [],
   "source": [
    "%run ../models/checkpoint/__init__.py\n",
    "%run ../models/segmentation/scan.py"
   ]
  },
  {
   "cell_type": "code",
   "execution_count": 10,
   "metadata": {},
   "outputs": [],
   "source": [
    "model = ScanFCN().to(DEVICE)\n",
    "# model"
   ]
  },
  {
   "cell_type": "code",
   "execution_count": 11,
   "metadata": {},
   "outputs": [],
   "source": [
    "optimizer = optim.Adam(model.parameters(), lr=0.0001)"
   ]
  },
  {
   "cell_type": "code",
   "execution_count": 12,
   "metadata": {},
   "outputs": [],
   "source": [
    "compiled_model = CompiledModel(model, optimizer, {})"
   ]
  },
  {
   "cell_type": "code",
   "execution_count": null,
   "metadata": {},
   "outputs": [],
   "source": []
  },
  {
   "cell_type": "markdown",
   "metadata": {},
   "source": [
    "## Train model"
   ]
  },
  {
   "cell_type": "code",
   "execution_count": 28,
   "metadata": {},
   "outputs": [],
   "source": [
    "%run -n ../train_segmentation.py"
   ]
  },
  {
   "cell_type": "code",
   "execution_count": 29,
   "metadata": {},
   "outputs": [],
   "source": [
    "run_name = 'debugging'"
   ]
  },
  {
   "cell_type": "code",
   "execution_count": 30,
   "metadata": {},
   "outputs": [],
   "source": [
    "loss_weights = [0.1, 0.3, 0.3, 0.3]"
   ]
  },
  {
   "cell_type": "code",
   "execution_count": 31,
   "metadata": {},
   "outputs": [
    {
     "name": "stderr",
     "output_type": "stream",
     "text": [
      "INFO(11-06 12:58) Training run: debugging\n",
      "INFO(11-06 12:58) ---------------------------------------------------\n",
      "INFO(11-06 12:58) Training...\n",
      "INFO(11-06 12:58) Finished epoch 1/2,  loss 1.386 1.386, iou 0.095 0.055, dice 0.168 0.097, 0h 0m 8s\n",
      "INFO(11-06 12:58) Finished epoch 2/2,  loss 1.385 1.386, iou 0.117 0.049, dice 0.201 0.085, 0h 0m 8s\n",
      "INFO(11-06 12:58) Average time per epoch: 0h 0m 8s\n",
      "INFO(11-06 12:58) Finished training: debugging\n",
      "INFO(11-06 12:58) --------------------------------------------------\n"
     ]
    }
   ],
   "source": [
    "train_metrics, val_metrics = train_model(run_name,\n",
    "                                         compiled_model,\n",
    "                                         train_dataloader,\n",
    "                                         val_dataloader,\n",
    "                                         n_epochs=2,\n",
    "                                         loss_weights=loss_weights,\n",
    "                                         print_metrics=None,\n",
    "                                         debug=True,\n",
    "                                         device=DEVICE,\n",
    "                                        )"
   ]
  },
  {
   "cell_type": "code",
   "execution_count": 32,
   "metadata": {},
   "outputs": [
    {
     "data": {
      "text/plain": [
       "({'loss': 1.3845785856246948,\n",
       "  'iou-background': 0.19311708211898804,\n",
       "  'iou-heart': 0.08055438846349716,\n",
       "  'iou-right lung': 0.17928826808929443,\n",
       "  'iou-left lung': 0.015760594978928566,\n",
       "  'iou': 0.11718008667230606,\n",
       "  'dice-background': 0.3225189745426178,\n",
       "  'dice-heart': 0.1487397402524948,\n",
       "  'dice-right lung': 0.30328142642974854,\n",
       "  'dice-left lung': 0.030922692269086838,\n",
       "  'dice': 0.20136570930480957},\n",
       " {'loss': 1.3862011432647705,\n",
       "  'iou-background': 0.0,\n",
       "  'iou-heart': 0.023369964212179184,\n",
       "  'iou-right lung': 0.1734345406293869,\n",
       "  'iou-left lung': 0.0,\n",
       "  'iou': 0.049201127141714096,\n",
       "  'dice-background': 0.0,\n",
       "  'dice-heart': 0.04567057639360428,\n",
       "  'dice-right lung': 0.2947053015232086,\n",
       "  'dice-left lung': 0.0,\n",
       "  'dice': 0.08509396761655807})"
      ]
     },
     "execution_count": 32,
     "metadata": {},
     "output_type": "execute_result"
    }
   ],
   "source": [
    "train_metrics, val_metrics"
   ]
  },
  {
   "cell_type": "code",
   "execution_count": null,
   "metadata": {},
   "outputs": [],
   "source": []
  },
  {
   "cell_type": "code",
   "execution_count": null,
   "metadata": {},
   "outputs": [],
   "source": []
  },
  {
   "cell_type": "code",
   "execution_count": null,
   "metadata": {},
   "outputs": [],
   "source": []
  },
  {
   "cell_type": "code",
   "execution_count": null,
   "metadata": {},
   "outputs": [],
   "source": []
  }
 ],
 "metadata": {
  "kernelspec": {
   "display_name": "Python 3",
   "language": "python",
   "name": "python3"
  },
  "language_info": {
   "codemirror_mode": {
    "name": "ipython",
    "version": 3
   },
   "file_extension": ".py",
   "mimetype": "text/x-python",
   "name": "python",
   "nbconvert_exporter": "python",
   "pygments_lexer": "ipython3",
   "version": "3.6.9"
  },
  "toc": {
   "base_numbering": 1,
   "nav_menu": {},
   "number_sections": true,
   "sideBar": true,
   "skip_h1_title": false,
   "title_cell": "Table of Contents",
   "title_sidebar": "Contents",
   "toc_cell": false,
   "toc_position": {},
   "toc_section_display": true,
   "toc_window_display": false
  }
 },
 "nbformat": 4,
 "nbformat_minor": 4
}
