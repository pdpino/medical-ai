{
 "cells": [
  {
   "cell_type": "markdown",
   "metadata": {},
   "source": [
    "## Imports"
   ]
  },
  {
   "cell_type": "code",
   "execution_count": 1,
   "metadata": {},
   "outputs": [],
   "source": [
    "import torch\n",
    "from torch import nn"
   ]
  },
  {
   "cell_type": "code",
   "execution_count": null,
   "metadata": {},
   "outputs": [],
   "source": []
  },
  {
   "cell_type": "markdown",
   "metadata": {},
   "source": [
    "## Load data"
   ]
  },
  {
   "cell_type": "code",
   "execution_count": 2,
   "metadata": {},
   "outputs": [],
   "source": [
    "from torch.utils.data import DataLoader"
   ]
  },
  {
   "cell_type": "code",
   "execution_count": 3,
   "metadata": {},
   "outputs": [],
   "source": [
    "%run ../datasets/jsrt.py"
   ]
  },
  {
   "cell_type": "code",
   "execution_count": 37,
   "metadata": {},
   "outputs": [],
   "source": [
    "_SEG_DATASETS = {\n",
    "    'jsrt': JSRTDataset,\n",
    "}"
   ]
  },
  {
   "cell_type": "code",
   "execution_count": 38,
   "metadata": {},
   "outputs": [],
   "source": [
    "def prepare_data_segmentation(dataset_name=None,\n",
    "                              dataset_type='train',\n",
    "                              image_size=(512, 512),\n",
    "                              batch_size=10,\n",
    "                              shuffle=False,\n",
    "                              num_workers=2,\n",
    "                             ):\n",
    "    assert dataset_name in _SEG_DATASETS, f'Dataset not found: {dataset_name}'\n",
    "    DatasetClass = _SEG_DATASETS[dataset_name]\n",
    "    \n",
    "    dataset = DatasetClass(dataset_type=dataset_type,\n",
    "                           image_size=image_size,\n",
    "                          )\n",
    "\n",
    "    dataloader = DataLoader(dataset,\n",
    "                            batch_size=batch_size,\n",
    "                            shuffle=shuffle,\n",
    "                            num_workers=num_workers,\n",
    "                           )\n",
    "    return dataloader"
   ]
  },
  {
   "cell_type": "code",
   "execution_count": 40,
   "metadata": {},
   "outputs": [
    {
     "data": {
      "text/plain": [
       "(124, 61)"
      ]
     },
     "execution_count": 40,
     "metadata": {},
     "output_type": "execute_result"
    }
   ],
   "source": [
    "BS = 20\n",
    "\n",
    "train_dataloader = prepare_data_segmentation('jsrt', 'train', batch_size=BS)\n",
    "val_dataloader = prepare_data_segmentation('jsrt', 'val', batch_size=BS)\n",
    "len(train_dataloader.dataset), len(val_dataloader.dataset)"
   ]
  },
  {
   "cell_type": "code",
   "execution_count": null,
   "metadata": {},
   "outputs": [],
   "source": []
  },
  {
   "cell_type": "markdown",
   "metadata": {},
   "source": [
    "## Create model"
   ]
  },
  {
   "cell_type": "code",
   "execution_count": 41,
   "metadata": {},
   "outputs": [],
   "source": [
    "%run ../models/segmentation/scan.py"
   ]
  },
  {
   "cell_type": "code",
   "execution_count": 42,
   "metadata": {},
   "outputs": [],
   "source": [
    "model = ScanFCN()\n",
    "# model"
   ]
  },
  {
   "cell_type": "code",
   "execution_count": null,
   "metadata": {},
   "outputs": [],
   "source": []
  },
  {
   "cell_type": "code",
   "execution_count": null,
   "metadata": {},
   "outputs": [],
   "source": []
  },
  {
   "cell_type": "markdown",
   "metadata": {},
   "source": [
    "## Train model"
   ]
  },
  {
   "cell_type": "code",
   "execution_count": 43,
   "metadata": {},
   "outputs": [],
   "source": [
    "from ignite.engine import Engine, Events\n",
    "from ignite.metrics import RunningAverage\n",
    "from torch import optim\n",
    "from ignite.utils import to_onehot"
   ]
  },
  {
   "cell_type": "code",
   "execution_count": 44,
   "metadata": {},
   "outputs": [],
   "source": [
    "def get_step_fn(model, optimizer=None, training=False, device='cuda'):\n",
    "    criterion = nn.CrossEntropyLoss()\n",
    "\n",
    "    def step_fn(engine, batch):\n",
    "        images = batch.image.to(device) # shape: batch_size, 1, height, width\n",
    "        masks = batch.masks.to(device) # shape: batch_size, height, width\n",
    "        \n",
    "        # Enable training\n",
    "        model.train(training)\n",
    "        torch.set_grad_enabled(training)\n",
    "\n",
    "        if training:\n",
    "            optimizer.zero_grad()\n",
    "        \n",
    "        # Pass thru model\n",
    "        output = model(images)\n",
    "        # shape: batch_size, n_labels, height, width\n",
    "        \n",
    "        loss = criterion(output, masks)\n",
    "        batch_loss = loss.item()\n",
    "        \n",
    "        if training:\n",
    "            loss.backward()\n",
    "            optimizer.step()\n",
    "            \n",
    "        return {\n",
    "            'loss': batch_loss,\n",
    "            'activations': output,\n",
    "            'gt_map': masks,\n",
    "        }\n",
    "\n",
    "    return step_fn"
   ]
  },
  {
   "cell_type": "code",
   "execution_count": 45,
   "metadata": {},
   "outputs": [
    {
     "data": {
      "text/plain": [
       "device(type='cuda')"
      ]
     },
     "execution_count": 45,
     "metadata": {},
     "output_type": "execute_result"
    }
   ],
   "source": [
    "DEVICE = torch.device('cuda')\n",
    "DEVICE"
   ]
  },
  {
   "cell_type": "code",
   "execution_count": 53,
   "metadata": {},
   "outputs": [],
   "source": [
    "model = model.to(DEVICE)"
   ]
  },
  {
   "cell_type": "code",
   "execution_count": 54,
   "metadata": {},
   "outputs": [],
   "source": [
    "optimizer = optim.Adam(model.parameters(), lr=0.0001)"
   ]
  },
  {
   "cell_type": "code",
   "execution_count": 55,
   "metadata": {},
   "outputs": [],
   "source": [
    "trainer = Engine(get_step_fn(model, optimizer, training=True, device=DEVICE))"
   ]
  },
  {
   "cell_type": "code",
   "execution_count": 56,
   "metadata": {},
   "outputs": [],
   "source": [
    "validator = Engine(get_step_fn(model, training=False, device=DEVICE))"
   ]
  },
  {
   "cell_type": "code",
   "execution_count": 59,
   "metadata": {},
   "outputs": [],
   "source": [
    "%run ../metrics/segmentation/__init__.py"
   ]
  },
  {
   "cell_type": "code",
   "execution_count": 60,
   "metadata": {},
   "outputs": [],
   "source": [
    "attach_metrics_segmentation(trainer, dataset.seg_labels, multilabel=False)\n",
    "attach_metrics_segmentation(validator, dataset.seg_labels, multilabel=False)"
   ]
  },
  {
   "cell_type": "code",
   "execution_count": 61,
   "metadata": {},
   "outputs": [],
   "source": [
    "print_metrics = ['loss', 'iou', 'dice']\n",
    "\n",
    "@trainer.on(Events.EPOCH_COMPLETED)\n",
    "def log_metrics(trainer):\n",
    "    # Run on validation\n",
    "    validator.run(val_dataloader, 1)\n",
    "    \n",
    "    # State\n",
    "    epoch = trainer.state.epoch\n",
    "    max_epochs = trainer.state.max_epochs\n",
    "    train_metrics = trainer.state.metrics\n",
    "    val_metrics = validator.state.metrics\n",
    "\n",
    "    metrics_str = ''\n",
    "    for metric in print_metrics:\n",
    "        train_value = train_metrics.get(metric, -1)\n",
    "        val_value = val_metrics.get(metric, -1)\n",
    "        metrics_str += f' {metric} {train_value:.3f} {val_value:.3f},'\n",
    "    \n",
    "    print(f'Epoch {epoch}/{max_epochs}, {metrics_str}')"
   ]
  },
  {
   "cell_type": "code",
   "execution_count": 62,
   "metadata": {},
   "outputs": [
    {
     "name": "stdout",
     "output_type": "stream",
     "text": [
      "Epoch 1/4,  loss 1.383 1.382, iou 0.115 0.058, dice 0.092 0.051,\n",
      "Epoch 2/4,  loss 1.376 1.382, iou 0.178 0.065, dice 0.132 0.057,\n",
      "Epoch 3/4,  loss 1.363 1.383, iou 0.249 0.058, dice 0.171 0.052,\n",
      "Epoch 4/4,  loss 1.346 1.378, iou 0.296 0.128, dice 0.195 0.108,\n"
     ]
    },
    {
     "data": {
      "text/plain": [
       "State:\n",
       "\titeration: 40\n",
       "\tepoch: 4\n",
       "\tepoch_length: 10\n",
       "\tmax_epochs: 4\n",
       "\toutput: <class 'dict'>\n",
       "\tbatch: <class 'medai.datasets.common.BatchItem'>\n",
       "\tmetrics: <class 'dict'>\n",
       "\tdataloader: <class 'torch.utils.data.dataloader.DataLoader'>\n",
       "\tseed: <class 'NoneType'>\n",
       "\ttimes: <class 'dict'>"
      ]
     },
     "execution_count": 62,
     "metadata": {},
     "output_type": "execute_result"
    }
   ],
   "source": [
    "trainer.run(dataloader, 4)"
   ]
  },
  {
   "cell_type": "code",
   "execution_count": 64,
   "metadata": {},
   "outputs": [
    {
     "data": {
      "text/plain": [
       "{'loss': 1.3776187896728516,\n",
       " 'iou-background': 0.24102243781089783,\n",
       " 'iou-heart': 0.002288548741489649,\n",
       " 'iou-right lung': 0.1287536919116974,\n",
       " 'iou-left lung': 0.1393049657344818,\n",
       " 'iou': 0.12784241139888763,\n",
       " 'dice-background': 0.19315950572490692,\n",
       " 'dice-heart': 0.0022826166823506355,\n",
       " 'dice-right lung': 0.11386360228061676,\n",
       " 'dice-left lung': 0.12189631164073944,\n",
       " 'dice': 0.10780051350593567}"
      ]
     },
     "execution_count": 64,
     "metadata": {},
     "output_type": "execute_result"
    }
   ],
   "source": [
    "validator.state.metrics"
   ]
  },
  {
   "cell_type": "code",
   "execution_count": null,
   "metadata": {},
   "outputs": [],
   "source": []
  },
  {
   "cell_type": "code",
   "execution_count": null,
   "metadata": {},
   "outputs": [],
   "source": []
  },
  {
   "cell_type": "code",
   "execution_count": null,
   "metadata": {},
   "outputs": [],
   "source": []
  },
  {
   "cell_type": "code",
   "execution_count": null,
   "metadata": {},
   "outputs": [],
   "source": []
  },
  {
   "cell_type": "code",
   "execution_count": null,
   "metadata": {},
   "outputs": [],
   "source": []
  },
  {
   "cell_type": "code",
   "execution_count": null,
   "metadata": {},
   "outputs": [],
   "source": []
  }
 ],
 "metadata": {
  "kernelspec": {
   "display_name": "Python 3",
   "language": "python",
   "name": "python3"
  },
  "language_info": {
   "codemirror_mode": {
    "name": "ipython",
    "version": 3
   },
   "file_extension": ".py",
   "mimetype": "text/x-python",
   "name": "python",
   "nbconvert_exporter": "python",
   "pygments_lexer": "ipython3",
   "version": "3.6.9"
  },
  "toc": {
   "base_numbering": 1,
   "nav_menu": {},
   "number_sections": true,
   "sideBar": true,
   "skip_h1_title": false,
   "title_cell": "Table of Contents",
   "title_sidebar": "Contents",
   "toc_cell": false,
   "toc_position": {},
   "toc_section_display": true,
   "toc_window_display": false
  }
 },
 "nbformat": 4,
 "nbformat_minor": 4
}
