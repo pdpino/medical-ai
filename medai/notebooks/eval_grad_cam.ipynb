{
 "cells": [
  {
   "cell_type": "markdown",
   "metadata": {},
   "source": [
    "## Imports"
   ]
  },
  {
   "cell_type": "code",
   "execution_count": 1,
   "metadata": {},
   "outputs": [],
   "source": [
    "import torch\n",
    "import torch.nn as nn\n",
    "import matplotlib.pyplot as plt"
   ]
  },
  {
   "cell_type": "code",
   "execution_count": 2,
   "metadata": {},
   "outputs": [
    {
     "name": "stdout",
     "output_type": "stream",
     "text": [
      "2,3\r\n"
     ]
    }
   ],
   "source": [
    "!echo $CUDA_VISIBLE_DEVICES"
   ]
  },
  {
   "cell_type": "code",
   "execution_count": 3,
   "metadata": {},
   "outputs": [
    {
     "data": {
      "text/plain": [
       "device(type='cuda')"
      ]
     },
     "execution_count": 3,
     "metadata": {},
     "output_type": "execute_result"
    }
   ],
   "source": [
    "DEVICE = torch.device('cuda')\n",
    "DEVICE"
   ]
  },
  {
   "cell_type": "code",
   "execution_count": null,
   "metadata": {},
   "outputs": [],
   "source": []
  },
  {
   "cell_type": "markdown",
   "metadata": {
    "heading_collapsed": true
   },
   "source": [
    "## Load model"
   ]
  },
  {
   "cell_type": "code",
   "execution_count": 4,
   "metadata": {
    "hidden": true
   },
   "outputs": [],
   "source": [
    "%run ../models/checkpoint/__init__.py"
   ]
  },
  {
   "cell_type": "code",
   "execution_count": 5,
   "metadata": {
    "hidden": true
   },
   "outputs": [
    {
     "data": {
      "text/plain": [
       "{'model_kwargs': {'model_name': 'densenet-121',\n",
       "  'labels': ['Pneumonia'],\n",
       "  'imagenet': True,\n",
       "  'freeze': False},\n",
       " 'opt_kwargs': {'lr': 1e-06},\n",
       " 'hparams': {'loss_name': 'wbce', 'batch_size': 30},\n",
       " 'dataset_kwargs': {'labels': ['Pneumonia'],\n",
       "  'max_samples': None,\n",
       "  'batch_size': 30},\n",
       " 'dataset_train_kwargs': {'oversample': True,\n",
       "  'oversample_label': 0,\n",
       "  'oversample_max_ratio': 4,\n",
       "  'augment': True,\n",
       "  'augment_label': 0,\n",
       "  'augment_kwargs': {'crop': 0.8,\n",
       "   'translate': 0.1,\n",
       "   'rotation': 15,\n",
       "   'contrast': 0.5,\n",
       "   'brightness': 0.5}}}"
      ]
     },
     "execution_count": 5,
     "metadata": {},
     "output_type": "execute_result"
    }
   ],
   "source": [
    "# run_name = '1012_170550_cxr14_mobilenet_lr1e-06'\n",
    "run_name = '0715_232418_cxr14_densenet-121_lr1e-06_os-max4_aug-0_Pneumonia'\n",
    "debug_run = False\n",
    "\n",
    "compiled_model = load_compiled_model_classification(run_name, debug=debug_run, device=DEVICE)\n",
    "compiled_model.metadata"
   ]
  },
  {
   "cell_type": "code",
   "execution_count": null,
   "metadata": {
    "hidden": true
   },
   "outputs": [],
   "source": []
  },
  {
   "cell_type": "markdown",
   "metadata": {},
   "source": [
    "## Load data"
   ]
  },
  {
   "cell_type": "code",
   "execution_count": 6,
   "metadata": {},
   "outputs": [],
   "source": [
    "%run ../datasets/__init__.py"
   ]
  },
  {
   "cell_type": "code",
   "execution_count": 7,
   "metadata": {},
   "outputs": [
    {
     "name": "stdout",
     "output_type": "stream",
     "text": [
      "Loading cxr14/test-bbox dataset...\n"
     ]
    },
    {
     "data": {
      "text/plain": [
       "880"
      ]
     },
     "execution_count": 7,
     "metadata": {},
     "output_type": "execute_result"
    }
   ],
   "source": [
    "kwargs = {\n",
    "    'dataset_name': 'cxr14',\n",
    "    'dataset_type': 'test-bbox',\n",
    "    'max_samples': None,\n",
    "    'batch_size': 10,\n",
    "}\n",
    "\n",
    "dataloader = prepare_data_classification(**kwargs)\n",
    "len(dataloader.dataset)"
   ]
  },
  {
   "cell_type": "code",
   "execution_count": null,
   "metadata": {},
   "outputs": [],
   "source": []
  },
  {
   "cell_type": "markdown",
   "metadata": {},
   "source": [
    "## Run through data"
   ]
  },
  {
   "cell_type": "code",
   "execution_count": 8,
   "metadata": {},
   "outputs": [],
   "source": [
    "import captum\n",
    "from captum.attr import LayerGradCam\n",
    "from torch import sigmoid\n",
    "# from skimage.transform import resize\n",
    "from torch.nn.functional import interpolate"
   ]
  },
  {
   "cell_type": "code",
   "execution_count": 9,
   "metadata": {},
   "outputs": [],
   "source": [
    "%run ../utils/__init__.py"
   ]
  },
  {
   "cell_type": "code",
   "execution_count": null,
   "metadata": {},
   "outputs": [],
   "source": []
  },
  {
   "cell_type": "markdown",
   "metadata": {},
   "source": [
    "NOTE: Copied in eval_classification_grad_cam.py"
   ]
  },
  {
   "cell_type": "code",
   "execution_count": 40,
   "metadata": {},
   "outputs": [
    {
     "data": {
      "text/plain": [
       "tensor([0.0283, 0.1355, 0.0564, 0.0845, 0.0361, 0.0045, 0.0833, 0.0507, 0.0000,\n",
       "        0.0000, 0.0000, 0.0000, 0.0000, 0.0000], device='cuda:0')"
      ]
     },
     "execution_count": 40,
     "metadata": {},
     "output_type": "execute_result"
    }
   ],
   "source": [
    "iou = IoU(n_labels=len(dataloader.dataset.labels))\n",
    "iou.reset()\n",
    "\n",
    "for batch in iter(dataloader):\n",
    "    ## Calculate bounding boxes\n",
    "    images = batch.image.to(DEVICE)\n",
    "    # shape: batch_size, 3, h, w\n",
    "\n",
    "    bboxes_valid = batch.bboxes_valid.to(DEVICE) # shape: batch_size, n_labels\n",
    "    bboxes = (batch.bboxes.to(DEVICE) / scale).long() # shape: batch_size, n_labels, 4\n",
    "    bboxes_map = bbox_coordinates_to_map(bboxes, bboxes_valid, image_size)\n",
    "    # shape: batch_size, n_labels, height, width\n",
    "    \n",
    "    ## Calculate attributions\n",
    "    attributions = []\n",
    "    for index, label in enumerate(dataloader.dataset.labels):\n",
    "        attributions.append(calculate_attributions(images, index, image_size))\n",
    "    attributions = torch.stack(attributions, dim=1)\n",
    "    # shape: batch_size, n_labels, h, w\n",
    "    \n",
    "    attributions = threshold_attributions(attributions)\n",
    "    # shape: batch_size, n_labels, h, w\n",
    "\n",
    "    ## Calculate metrics\n",
    "    iou.update((attributions, bboxes_map, bboxes_valid))\n",
    "\n",
    "iou.compute()"
   ]
  },
  {
   "cell_type": "code",
   "execution_count": null,
   "metadata": {},
   "outputs": [],
   "source": []
  },
  {
   "cell_type": "code",
   "execution_count": null,
   "metadata": {},
   "outputs": [],
   "source": []
  },
  {
   "cell_type": "code",
   "execution_count": null,
   "metadata": {},
   "outputs": [],
   "source": []
  }
 ],
 "metadata": {
  "kernelspec": {
   "display_name": "Python 3",
   "language": "python",
   "name": "python3"
  },
  "language_info": {
   "codemirror_mode": {
    "name": "ipython",
    "version": 3
   },
   "file_extension": ".py",
   "mimetype": "text/x-python",
   "name": "python",
   "nbconvert_exporter": "python",
   "pygments_lexer": "ipython3",
   "version": "3.6.9"
  },
  "toc": {
   "base_numbering": 1,
   "nav_menu": {},
   "number_sections": true,
   "sideBar": true,
   "skip_h1_title": false,
   "title_cell": "Table of Contents",
   "title_sidebar": "Contents",
   "toc_cell": false,
   "toc_position": {},
   "toc_section_display": true,
   "toc_window_display": false
  }
 },
 "nbformat": 4,
 "nbformat_minor": 4
}
