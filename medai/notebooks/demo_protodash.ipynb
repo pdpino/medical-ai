{
 "cells": [
  {
   "cell_type": "code",
   "execution_count": null,
   "metadata": {},
   "outputs": [],
   "source": [
    "import numpy as np\n",
    "from aix360.algorithms.protodash import ProtodashExplainer\n",
    "import matplotlib.pyplot as plt\n",
    "from torchvision.utils import make_grid\n",
    "import torch"
   ]
  },
  {
   "cell_type": "code",
   "execution_count": null,
   "metadata": {},
   "outputs": [],
   "source": [
    "%run ../utils/__init__.py"
   ]
  },
  {
   "cell_type": "markdown",
   "metadata": {},
   "source": [
    "## Load data"
   ]
  },
  {
   "cell_type": "code",
   "execution_count": null,
   "metadata": {},
   "outputs": [],
   "source": [
    "%run ../datasets/__init__.py"
   ]
  },
  {
   "cell_type": "code",
   "execution_count": null,
   "metadata": {},
   "outputs": [],
   "source": [
    "kwargs = {\n",
    "    'dataset_type': 'test',\n",
    "    'dataset_name': 'iu-x-ray',\n",
    "    'image_size': (512, 512),\n",
    "    'shuffle': True,\n",
    "    'frontal_only': True,\n",
    "}\n",
    "\n",
    "dataloader = prepare_data_classification(**kwargs)\n",
    "len(dataloader.dataset)"
   ]
  },
  {
   "cell_type": "code",
   "execution_count": null,
   "metadata": {},
   "outputs": [],
   "source": []
  },
  {
   "cell_type": "markdown",
   "metadata": {},
   "source": [
    "## Load model"
   ]
  },
  {
   "cell_type": "code",
   "execution_count": null,
   "metadata": {},
   "outputs": [],
   "source": [
    "%run ../models/checkpoint/__init__.py"
   ]
  },
  {
   "cell_type": "code",
   "execution_count": null,
   "metadata": {},
   "outputs": [],
   "source": [
    "run_name = '0917_161952_iu-x-ray_mobilenet_lr1e-06_aug-0-cls0_size256'\n",
    "debug = False"
   ]
  },
  {
   "cell_type": "code",
   "execution_count": null,
   "metadata": {},
   "outputs": [],
   "source": [
    "compiled_model = load_compiled_model_classification(run_name, debug=debug, device='cuda')\n",
    "compiled_model.metadata"
   ]
  },
  {
   "cell_type": "code",
   "execution_count": null,
   "metadata": {},
   "outputs": [],
   "source": []
  },
  {
   "cell_type": "code",
   "execution_count": null,
   "metadata": {},
   "outputs": [],
   "source": []
  },
  {
   "cell_type": "code",
   "execution_count": null,
   "metadata": {},
   "outputs": [],
   "source": []
  },
  {
   "cell_type": "markdown",
   "metadata": {},
   "source": [
    "## ProtoDash"
   ]
  },
  {
   "cell_type": "markdown",
   "metadata": {},
   "source": [
    "### Random images"
   ]
  },
  {
   "cell_type": "code",
   "execution_count": null,
   "metadata": {},
   "outputs": [],
   "source": [
    "batch_size = 10\n",
    "n_features = 15\n",
    "images = np.random.random((batch_size, n_features))\n",
    "images.shape"
   ]
  },
  {
   "cell_type": "markdown",
   "metadata": {},
   "source": [
    "### Load images"
   ]
  },
  {
   "cell_type": "code",
   "execution_count": null,
   "metadata": {},
   "outputs": [],
   "source": [
    "images = []\n",
    "labels = []\n",
    "for batch in dataloader:\n",
    "    images.append(batch.image)\n",
    "    labels.append(batch.labels)\n",
    "\n",
    "images = torch.cat(images, dim=0)\n",
    "labels = torch.cat(labels, dim=0)\n",
    "images.size(), labels.size()"
   ]
  },
  {
   "cell_type": "markdown",
   "metadata": {},
   "source": [
    "#### Raw pixels as features"
   ]
  },
  {
   "cell_type": "code",
   "execution_count": null,
   "metadata": {},
   "outputs": [],
   "source": [
    "batch_size = images.size()[0]\n",
    "features = images.detach().cpu().view(batch_size, -1).numpy()\n",
    "features.shape"
   ]
  },
  {
   "cell_type": "markdown",
   "metadata": {},
   "source": [
    "#### CNN output as features"
   ]
  },
  {
   "cell_type": "code",
   "execution_count": null,
   "metadata": {},
   "outputs": [],
   "source": [
    "features = []\n",
    "\n",
    "for batch in dataloader:\n",
    "    feats = compiled_model.model(batch.image.to('cuda'), features=True).detach().cpu()\n",
    "    feats = feats.view(feats.size()[0], -1)\n",
    "    features.append(feats)\n",
    "features = torch.cat(features, dim=0)\n",
    "features.size()"
   ]
  },
  {
   "cell_type": "code",
   "execution_count": null,
   "metadata": {},
   "outputs": [],
   "source": []
  },
  {
   "cell_type": "markdown",
   "metadata": {},
   "source": [
    "### Run proto"
   ]
  },
  {
   "cell_type": "code",
   "execution_count": null,
   "metadata": {},
   "outputs": [],
   "source": [
    "proto = ProtodashExplainer()\n",
    "proto"
   ]
  },
  {
   "cell_type": "code",
   "execution_count": null,
   "metadata": {},
   "outputs": [],
   "source": [
    "%%time\n",
    "\n",
    "weights, samples, other_values = proto.explain(features, features, 10)\n",
    "samples.shape"
   ]
  },
  {
   "cell_type": "code",
   "execution_count": null,
   "metadata": {},
   "outputs": [],
   "source": [
    "def get_label(dataloader, item_label):\n",
    "    dataset = dataloader.dataset\n",
    "    multilabel = dataset.multilabel\n",
    "    labels = dataset.labels\n",
    "    \n",
    "    if multilabel:\n",
    "        return ','.join([\n",
    "            disease\n",
    "            for disease, presence in zip(labels, item_label)\n",
    "            if presence\n",
    "        ])\n",
    "    else:\n",
    "        return labels[l]"
   ]
  },
  {
   "cell_type": "code",
   "execution_count": null,
   "metadata": {},
   "outputs": [],
   "source": [
    "selected_images = []\n",
    "selected_labels = []\n",
    "\n",
    "for sample_idx in samples:\n",
    "    image = images[sample_idx]\n",
    "    selected_images.append(image)\n",
    "    \n",
    "    label = labels[sample_idx]\n",
    "    label = get_label(dataloader, label)\n",
    "    selected_labels.append(label)\n",
    "\n",
    "selected_images = torch.stack(selected_images, dim=0)\n",
    "selected_images.size(), list(enumerate(selected_labels))"
   ]
  },
  {
   "cell_type": "code",
   "execution_count": null,
   "metadata": {},
   "outputs": [],
   "source": [
    "grid = make_grid(selected_images, normalize=True, scale_each=True, nrow=5)\n",
    "grid = grid.permute(1, 2, 0)\n",
    "grid.size()"
   ]
  },
  {
   "cell_type": "code",
   "execution_count": null,
   "metadata": {},
   "outputs": [],
   "source": [
    "plt.figure(figsize=(15, 5))\n",
    "plt.imshow(grid)"
   ]
  },
  {
   "cell_type": "code",
   "execution_count": null,
   "metadata": {},
   "outputs": [],
   "source": [
    "S_IDX = 7\n",
    "\n",
    "plt.figure(figsize=(15, 10))\n",
    "plt.imshow(tensor_to_range01(selected_images[S_IDX]).permute(1, 2, 0))"
   ]
  },
  {
   "cell_type": "code",
   "execution_count": null,
   "metadata": {},
   "outputs": [],
   "source": []
  }
 ],
 "metadata": {
  "kernelspec": {
   "display_name": "py3aix360",
   "language": "python",
   "name": "py3aix360"
  },
  "language_info": {
   "codemirror_mode": {
    "name": "ipython",
    "version": 3
   },
   "file_extension": ".py",
   "mimetype": "text/x-python",
   "name": "python",
   "nbconvert_exporter": "python",
   "pygments_lexer": "ipython3",
   "version": "3.6.9"
  },
  "toc": {
   "base_numbering": 1,
   "nav_menu": {},
   "number_sections": true,
   "sideBar": true,
   "skip_h1_title": false,
   "title_cell": "Table of Contents",
   "title_sidebar": "Contents",
   "toc_cell": false,
   "toc_position": {},
   "toc_section_display": true,
   "toc_window_display": false
  }
 },
 "nbformat": 4,
 "nbformat_minor": 4
}
