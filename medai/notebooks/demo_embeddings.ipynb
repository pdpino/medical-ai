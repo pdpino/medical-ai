{
 "cells": [
  {
   "cell_type": "markdown",
   "metadata": {},
   "source": [
    "# Imports"
   ]
  },
  {
   "cell_type": "code",
   "execution_count": null,
   "metadata": {},
   "outputs": [],
   "source": [
    "%env CUDA_VISIBLE_DEVICES=0"
   ]
  },
  {
   "cell_type": "code",
   "execution_count": null,
   "metadata": {},
   "outputs": [],
   "source": [
    "import torch\n",
    "import matplotlib.pyplot as plt"
   ]
  },
  {
   "cell_type": "code",
   "execution_count": null,
   "metadata": {},
   "outputs": [],
   "source": [
    "import matplotlib\n",
    "matplotlib.rcParams['figure.facecolor'] = 'white'"
   ]
  },
  {
   "cell_type": "code",
   "execution_count": null,
   "metadata": {},
   "outputs": [],
   "source": [
    "import pandas as pd\n",
    "pd.options.display.max_columns = None"
   ]
  },
  {
   "cell_type": "code",
   "execution_count": null,
   "metadata": {},
   "outputs": [],
   "source": [
    "%run ../utils/__init__.py\n",
    "config_logging(logging.INFO)"
   ]
  },
  {
   "cell_type": "code",
   "execution_count": null,
   "metadata": {},
   "outputs": [],
   "source": []
  },
  {
   "cell_type": "markdown",
   "metadata": {},
   "source": [
    "# Load model"
   ]
  },
  {
   "cell_type": "code",
   "execution_count": null,
   "metadata": {},
   "outputs": [],
   "source": [
    "%run ../models/checkpoint/__init__.py"
   ]
  },
  {
   "cell_type": "code",
   "execution_count": null,
   "metadata": {},
   "outputs": [],
   "source": [
    "run_name = '0123_174651_cxr14_mobilenet-v2_lr0.0001_hint_normS_size256_sch-roc_auc-p5-f0.1_noes'\n",
    "debug_run = False"
   ]
  },
  {
   "cell_type": "code",
   "execution_count": null,
   "metadata": {},
   "outputs": [],
   "source": [
    "compiled_model = load_compiled_model_classification(run_name, debug=debug_run)\n",
    "compiled_model.metadata['model_kwargs']"
   ]
  },
  {
   "cell_type": "code",
   "execution_count": null,
   "metadata": {},
   "outputs": [],
   "source": []
  },
  {
   "cell_type": "markdown",
   "metadata": {},
   "source": [
    "# Load data"
   ]
  },
  {
   "cell_type": "code",
   "execution_count": null,
   "metadata": {},
   "outputs": [],
   "source": [
    "%run ../datasets/__init__.py"
   ]
  },
  {
   "cell_type": "code",
   "execution_count": null,
   "metadata": {},
   "outputs": [],
   "source": [
    "dataset_kwargs = {\n",
    "    'dataset_name': 'cxr14',\n",
    "    'dataset_type': 'train',\n",
    "    'max_samples': None,\n",
    "}\n",
    "dataloader = prepare_data_classification(**dataset_kwargs)\n",
    "dataset = dataloader.dataset\n",
    "len(dataset)"
   ]
  },
  {
   "cell_type": "code",
   "execution_count": null,
   "metadata": {},
   "outputs": [],
   "source": []
  },
  {
   "cell_type": "markdown",
   "metadata": {},
   "source": [
    "# Visualize embeddings"
   ]
  },
  {
   "cell_type": "code",
   "execution_count": null,
   "metadata": {},
   "outputs": [],
   "source": [
    "import random\n",
    "from collections import Counter, defaultdict\n",
    "from torch.utils.data import Subset\n",
    "from torch.nn.functional import interpolate\n",
    "from torch import sigmoid\n",
    "from tqdm.auto import tqdm"
   ]
  },
  {
   "cell_type": "code",
   "execution_count": null,
   "metadata": {},
   "outputs": [],
   "source": [
    "%run ../tensorboard/__init__.py\n",
    "# %run ../utils/images.py"
   ]
  },
  {
   "cell_type": "code",
   "execution_count": null,
   "metadata": {},
   "outputs": [],
   "source": [
    "tb_writer = TBWriter(run_name, task='cls', large=True, debug=debug_run)"
   ]
  },
  {
   "cell_type": "code",
   "execution_count": null,
   "metadata": {},
   "outputs": [],
   "source": [
    "N_SAMPLES = 1000\n",
    "indexes = random.sample(range(len(dataset)), k=N_SAMPLES)"
   ]
  },
  {
   "cell_type": "code",
   "execution_count": null,
   "metadata": {},
   "outputs": [],
   "source": [
    "img_atlas_size = (50, 50) # dataset.image_size\n",
    "\n",
    "_ATLAS_SIZE = int(np.ceil(np.sqrt(len(indexes)) * img_atlas_size[1]))\n",
    "\n",
    "assert _ATLAS_SIZE <= 8192, f'Atlas wont fit in TB: {_ATLAS_SIZE}'"
   ]
  },
  {
   "cell_type": "code",
   "execution_count": null,
   "metadata": {},
   "outputs": [],
   "source": [
    "embeddings = []\n",
    "label_img = []\n",
    "metadata = []\n",
    "metadata_header = [\n",
    "    f'{val}_{disease}'\n",
    "    for disease in dataset.labels\n",
    "    for val in ('pred', 'round', 'gt')\n",
    "]\n",
    "\n",
    "for item_idx in tqdm(indexes):\n",
    "    item = dataset[item_idx]\n",
    "    \n",
    "    images = item.image.to('cuda').unsqueeze(0) # shape: bs=1, n_channels=3, height, width\n",
    "    \n",
    "    with torch.no_grad():\n",
    "        preds, emb = compiled_model.model(images)\n",
    "    \n",
    "    # Save predictions as metadata\n",
    "    preds = sigmoid(preds).squeeze(0) # shape: n_diseases\n",
    "    \n",
    "    sample_meta = [\n",
    "        val\n",
    "        for pred, gt in zip(preds.tolist(), item.labels.tolist())\n",
    "        for val in [f'{pred:.2f}', round(pred), gt]\n",
    "    ]\n",
    "    \n",
    "    metadata.append(sample_meta)\n",
    "    \n",
    "    # Save embedding\n",
    "    embeddings.append(emb)\n",
    "    \n",
    "    # Save images\n",
    "    images = images.detach() # .cpu()\n",
    "    images = interpolate(images, img_atlas_size, mode='nearest') # shape: bs=1, 3, atlas_h, atlas_w\n",
    "    image = images.squeeze(0)\n",
    "    label_img.append(tensor_to_range01(image))\n",
    "    \n",
    "label_img = torch.stack(label_img, dim=0)\n",
    "embeddings = torch.cat(embeddings, dim=0)\n",
    "embeddings.size(), label_img.size()"
   ]
  },
  {
   "cell_type": "code",
   "execution_count": null,
   "metadata": {},
   "outputs": [],
   "source": [
    "tb_writer.writer.add_embedding(embeddings,\n",
    "                               metadata=metadata,\n",
    "                               label_img=label_img,\n",
    "                               metadata_header=metadata_header,\n",
    "                               tag=dataset.dataset_type,\n",
    "                              )"
   ]
  },
  {
   "cell_type": "code",
   "execution_count": null,
   "metadata": {},
   "outputs": [],
   "source": []
  },
  {
   "cell_type": "code",
   "execution_count": null,
   "metadata": {},
   "outputs": [],
   "source": [
    "[(i, c) for i, c in enumerate(metadata_header) if 'Cardio' in c]"
   ]
  },
  {
   "cell_type": "code",
   "execution_count": null,
   "metadata": {},
   "outputs": [],
   "source": [
    "Counter(m[4] for m in metadata)"
   ]
  },
  {
   "cell_type": "code",
   "execution_count": null,
   "metadata": {},
   "outputs": [],
   "source": []
  },
  {
   "cell_type": "code",
   "execution_count": null,
   "metadata": {},
   "outputs": [],
   "source": []
  },
  {
   "cell_type": "code",
   "execution_count": null,
   "metadata": {},
   "outputs": [],
   "source": []
  },
  {
   "cell_type": "code",
   "execution_count": null,
   "metadata": {},
   "outputs": [],
   "source": []
  }
 ],
 "metadata": {
  "kernelspec": {
   "display_name": "Python 3",
   "language": "python",
   "name": "python3"
  },
  "language_info": {
   "codemirror_mode": {
    "name": "ipython",
    "version": 3
   },
   "file_extension": ".py",
   "mimetype": "text/x-python",
   "name": "python",
   "nbconvert_exporter": "python",
   "pygments_lexer": "ipython3",
   "version": "3.6.9"
  },
  "toc": {
   "base_numbering": 1,
   "nav_menu": {},
   "number_sections": true,
   "sideBar": true,
   "skip_h1_title": false,
   "title_cell": "Table of Contents",
   "title_sidebar": "Contents",
   "toc_cell": false,
   "toc_position": {},
   "toc_section_display": true,
   "toc_window_display": false
  }
 },
 "nbformat": 4,
 "nbformat_minor": 4
}
