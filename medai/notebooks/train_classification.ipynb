{
 "cells": [
  {
   "cell_type": "markdown",
   "metadata": {},
   "source": [
    "## Imports"
   ]
  },
  {
   "cell_type": "code",
   "execution_count": null,
   "metadata": {},
   "outputs": [],
   "source": [
    "%env CUDA_VISIBLE_DEVICES=1"
   ]
  },
  {
   "cell_type": "code",
   "execution_count": null,
   "metadata": {},
   "outputs": [],
   "source": [
    "import torch\n",
    "from torch import optim\n",
    "from ignite.handlers import Checkpoint"
   ]
  },
  {
   "cell_type": "code",
   "execution_count": null,
   "metadata": {},
   "outputs": [],
   "source": [
    "%run -n ../train_classification.py"
   ]
  },
  {
   "cell_type": "code",
   "execution_count": null,
   "metadata": {},
   "outputs": [],
   "source": [
    "%run ../models/classification/__init__.py\n",
    "%run ../models/checkpoint/__init__.py\n",
    "%run ../datasets/__init__.py\n",
    "%run ../utils/__init__.py"
   ]
  },
  {
   "cell_type": "code",
   "execution_count": null,
   "metadata": {},
   "outputs": [],
   "source": [
    "# DEVICE = torch.device('cpu')\n",
    "DEVICE = torch.device('cuda')\n",
    "DEVICE"
   ]
  },
  {
   "cell_type": "markdown",
   "metadata": {},
   "source": [
    "## Load stuff"
   ]
  },
  {
   "cell_type": "markdown",
   "metadata": {
    "heading_collapsed": true
   },
   "source": [
    "### Load datasets"
   ]
  },
  {
   "cell_type": "code",
   "execution_count": null,
   "metadata": {
    "hidden": true
   },
   "outputs": [],
   "source": [
    "dataset_name = 'covid-uc'\n",
    "dataset_kwargs = {\n",
    "    'max_samples': None,\n",
    "    'batch_size': 26,\n",
    "    'image_size': (512, 512),\n",
    "}\n",
    "train_kwargs = {\n",
    "    'augment': True,\n",
    "    # 'augment_label': 'covid',\n",
    "    'oversample': True,\n",
    "    'oversample_label': 'covid',\n",
    "    'oversample_max_ratio': 10,\n",
    "}\n",
    "\n",
    "train_dataloader = prepare_data_classification(dataset_name, 'train',\n",
    "                                               **dataset_kwargs, **train_kwargs)\n",
    "val_dataloader = prepare_data_classification(dataset_name, 'val', **dataset_kwargs)\n",
    "len(train_dataloader.dataset)"
   ]
  },
  {
   "cell_type": "markdown",
   "metadata": {
    "heading_collapsed": true
   },
   "source": [
    "### Load pretrained model"
   ]
  },
  {
   "cell_type": "code",
   "execution_count": null,
   "metadata": {
    "hidden": true
   },
   "outputs": [],
   "source": [
    "multiple_gpu = True"
   ]
  },
  {
   "cell_type": "code",
   "execution_count": null,
   "metadata": {
    "hidden": true
   },
   "outputs": [],
   "source": [
    "# run_name = '0704_005511_covid-kaggle_tfs-small_lr1e-06'\n",
    "# run_name = '0714_232500_cxr14_densenet-121_lr1e-06'\n",
    "# run_name = '0714_232518_cxr14_densenet-121_lr1e-06'\n",
    "# run_name = '0716_133211_cxr14_densenet-121_lr1e-06_us_aug-0_Pneumonia'\n",
    "run_name = '0717_120222_covid-x_densenet-121_lr1e-06_os_aug-covid'\n",
    "compiled_model = load_compiled_model_classification(run_name,\n",
    "                                                    debug=False,\n",
    "                                                    multiple_gpu=False,\n",
    "                                                    device=DEVICE)"
   ]
  },
  {
   "cell_type": "code",
   "execution_count": null,
   "metadata": {
    "hidden": true
   },
   "outputs": [],
   "source": [
    "compiled_model.metadata"
   ]
  },
  {
   "cell_type": "code",
   "execution_count": null,
   "metadata": {
    "hidden": true
   },
   "outputs": [],
   "source": []
  },
  {
   "cell_type": "code",
   "execution_count": null,
   "metadata": {
    "hidden": true
   },
   "outputs": [],
   "source": []
  },
  {
   "cell_type": "markdown",
   "metadata": {
    "heading_collapsed": true
   },
   "source": [
    "### Use pre-trained weights new model"
   ]
  },
  {
   "cell_type": "code",
   "execution_count": null,
   "metadata": {
    "hidden": true
   },
   "outputs": [],
   "source": [
    "old_compiled_model = compiled_model"
   ]
  },
  {
   "cell_type": "code",
   "execution_count": null,
   "metadata": {
    "hidden": true
   },
   "outputs": [],
   "source": [
    "lr = 0.0001\n",
    "cnn_name = 'densenet-121'\n",
    "run_name = f'{get_timestamp()}_{dataset_name}_{cnn_name}_lr{lr}_os-max10_aug_pre-covid-x'\n",
    "run_name"
   ]
  },
  {
   "cell_type": "code",
   "execution_count": null,
   "metadata": {
    "hidden": true
   },
   "outputs": [],
   "source": [
    "model = init_empty_model(cnn_name,\n",
    "                         train_dataloader.dataset.labels,\n",
    "                         multilabel=train_dataloader.dataset.multilabel,\n",
    "                         pretrained_cnn=old_compiled_model.model.base_cnn,\n",
    "                         imagenet=False,\n",
    "                         freeze=False,\n",
    "                        ).to(DEVICE)\n",
    "\n",
    "if multiple_gpu:\n",
    "    model = nn.DataParallel(model)\n",
    "\n",
    "optimizer = optim.Adam(model.parameters(), lr=lr)\n",
    "\n",
    "# TODO: metadata!!\n",
    "compiled_model = CompiledModel(model, optimizer)\n",
    "\n",
    "del old_compiled_model"
   ]
  },
  {
   "cell_type": "code",
   "execution_count": null,
   "metadata": {
    "hidden": true
   },
   "outputs": [],
   "source": [
    "run_name"
   ]
  },
  {
   "cell_type": "markdown",
   "metadata": {
    "heading_collapsed": true
   },
   "source": [
    "### ...or create model"
   ]
  },
  {
   "cell_type": "code",
   "execution_count": null,
   "metadata": {
    "hidden": true
   },
   "outputs": [],
   "source": [
    "lr = 0.000001\n",
    "cnn_name = 'densenet-121'\n",
    "run_name = f'{get_timestamp()}_{dataset_name}_{cnn_name}_lr{lr}'\n",
    "\n",
    "model = init_empty_model(cnn_name,\n",
    "                         train_dataloader.dataset.labels,\n",
    "                         multilabel=train_dataloader.dataset.multilabel,\n",
    "                         imagenet=True,\n",
    "                         freeze=False,\n",
    "                        ).to(DEVICE)\n",
    "\n",
    "if multiple_gpu:\n",
    "    model = nn.DataParallel(model)\n",
    "\n",
    "optimizer = optim.Adam(model.parameters(), lr=lr)\n",
    "\n",
    "compiled_model = CompiledModel(model, optimizer)"
   ]
  },
  {
   "cell_type": "code",
   "execution_count": null,
   "metadata": {
    "hidden": true
   },
   "outputs": [],
   "source": []
  },
  {
   "cell_type": "markdown",
   "metadata": {},
   "source": [
    "## Train"
   ]
  },
  {
   "cell_type": "code",
   "execution_count": null,
   "metadata": {},
   "outputs": [],
   "source": [
    "loss_name = 'cross-entropy'"
   ]
  },
  {
   "cell_type": "code",
   "execution_count": null,
   "metadata": {},
   "outputs": [],
   "source": [
    "%%time\n",
    "\n",
    "# print_metrics = ['loss', 'acc', 'hamming']\n",
    "print_metrics = ['loss', 'acc', 'prec_covid', 'recall_covid']\n",
    "\n",
    "train_metrics, val_metrics = train_model(run_name,\n",
    "                                         compiled_model,\n",
    "                                         train_dataloader,\n",
    "                                         val_dataloader,\n",
    "                                         n_epochs=5,\n",
    "                                         loss_name=loss_name,\n",
    "                                         print_metrics=print_metrics,\n",
    "                                         debug=False,\n",
    "                                         device=DEVICE,\n",
    "                                        )"
   ]
  },
  {
   "cell_type": "code",
   "execution_count": null,
   "metadata": {},
   "outputs": [],
   "source": [
    "print(output)"
   ]
  },
  {
   "cell_type": "code",
   "execution_count": null,
   "metadata": {},
   "outputs": [],
   "source": [
    "test_dataloader = prepare_data_classification(dataset_name, 'test', **dataset_kwargs)"
   ]
  },
  {
   "cell_type": "code",
   "execution_count": null,
   "metadata": {},
   "outputs": [],
   "source": [
    "dataloaders = [\n",
    "    train_dataloader,\n",
    "    val_dataloader,\n",
    "]"
   ]
  },
  {
   "cell_type": "code",
   "execution_count": null,
   "metadata": {},
   "outputs": [],
   "source": [
    "evaluate_and_save(run_name,\n",
    "                  compiled_model.model,\n",
    "                  dataloaders,\n",
    "                  loss_name,\n",
    "                  debug=False,\n",
    "                  device=DEVICE)"
   ]
  },
  {
   "cell_type": "code",
   "execution_count": null,
   "metadata": {},
   "outputs": [],
   "source": []
  },
  {
   "cell_type": "code",
   "execution_count": null,
   "metadata": {},
   "outputs": [],
   "source": []
  },
  {
   "cell_type": "code",
   "execution_count": null,
   "metadata": {},
   "outputs": [],
   "source": []
  },
  {
   "cell_type": "markdown",
   "metadata": {},
   "source": [
    "## Debug stuff"
   ]
  },
  {
   "cell_type": "markdown",
   "metadata": {},
   "source": [
    "### Test metrics"
   ]
  },
  {
   "cell_type": "code",
   "execution_count": null,
   "metadata": {},
   "outputs": [],
   "source": [
    "from ignite.metrics import Accuracy, Recall, Precision"
   ]
  },
  {
   "cell_type": "code",
   "execution_count": null,
   "metadata": {},
   "outputs": [],
   "source": [
    "%run ../metrics/classification/__init__.py\n",
    "%run ../metrics/classification/specificity.py\n",
    "%run ../metrics/classification/accuracy.py\n",
    "%run ../metrics/classification/hamming.py"
   ]
  },
  {
   "cell_type": "code",
   "execution_count": null,
   "metadata": {},
   "outputs": [],
   "source": [
    "acc = MultilabelAccuracy(output_transform=_transform_remove_loss_and_round)\n",
    "ham = Hamming(output_transform=_transform_remove_loss_and_round)"
   ]
  },
  {
   "cell_type": "code",
   "execution_count": null,
   "metadata": {},
   "outputs": [],
   "source": [
    "outputs = torch.tensor([[0, 1, 1],\n",
    "                        [0.3, 0.7, 0.8],\n",
    "                       ])\n",
    "target = torch.tensor([[0, 0, 1],\n",
    "                       [0, 1, 1],\n",
    "                      ])"
   ]
  },
  {
   "cell_type": "code",
   "execution_count": null,
   "metadata": {},
   "outputs": [],
   "source": [
    "acc.reset()\n",
    "acc.update(_transform_remove_loss_and_round((0, outputs, target)))\n",
    "acc.compute()"
   ]
  },
  {
   "cell_type": "code",
   "execution_count": null,
   "metadata": {},
   "outputs": [],
   "source": [
    "ham.reset()\n",
    "ham.update(_transform_remove_loss_and_round((0, outputs, target)))\n",
    "ham.compute()"
   ]
  },
  {
   "cell_type": "code",
   "execution_count": null,
   "metadata": {},
   "outputs": [],
   "source": []
  },
  {
   "cell_type": "code",
   "execution_count": null,
   "metadata": {},
   "outputs": [],
   "source": [
    "sp = Specificity()\n",
    "rec = Recall()\n",
    "prec = Precision()"
   ]
  },
  {
   "cell_type": "code",
   "execution_count": null,
   "metadata": {},
   "outputs": [],
   "source": [
    "fn = _get_transform_one_class(0)"
   ]
  },
  {
   "cell_type": "code",
   "execution_count": null,
   "metadata": {},
   "outputs": [],
   "source": [
    "# outputs = torch.tensor([[1, 2, 1, 0, 0]])\n",
    "# target = torch.tensor([[1, 0, 1, 1, 2]])\n",
    "outputs = torch.tensor([[0, 20, -1],\n",
    "                        [-40, 2, 3],\n",
    "                        [17, 5, 6],\n",
    "                       ])\n",
    "target = torch.tensor([0, 0, 2])\n",
    "outputs, target = fn((0, outputs, target))\n",
    "outputs, target"
   ]
  },
  {
   "cell_type": "code",
   "execution_count": null,
   "metadata": {},
   "outputs": [],
   "source": [
    "sp.reset()\n",
    "sp.update((outputs, target))\n",
    "sp.compute()"
   ]
  },
  {
   "cell_type": "code",
   "execution_count": null,
   "metadata": {},
   "outputs": [],
   "source": [
    "rec.reset()\n",
    "rec.update((outputs, target))\n",
    "rec.compute().item()"
   ]
  },
  {
   "cell_type": "code",
   "execution_count": null,
   "metadata": {},
   "outputs": [],
   "source": [
    "prec.reset()\n",
    "prec.update((outputs, target))\n",
    "prec.compute().item()"
   ]
  },
  {
   "cell_type": "code",
   "execution_count": null,
   "metadata": {},
   "outputs": [],
   "source": []
  },
  {
   "cell_type": "markdown",
   "metadata": {},
   "source": [
    "### Test BCE loss"
   ]
  },
  {
   "cell_type": "code",
   "execution_count": null,
   "metadata": {},
   "outputs": [],
   "source": [
    "import torch\n",
    "import numpy as np\n",
    "from torch.nn.functional import binary_cross_entropy"
   ]
  },
  {
   "cell_type": "code",
   "execution_count": null,
   "metadata": {},
   "outputs": [],
   "source": [
    "%run ../losses/wbce.py"
   ]
  },
  {
   "cell_type": "code",
   "execution_count": null,
   "metadata": {},
   "outputs": [],
   "source": [
    "EPS = 1e-5"
   ]
  },
  {
   "cell_type": "code",
   "execution_count": null,
   "metadata": {},
   "outputs": [],
   "source": [
    "target = torch.tensor([[1, 0, 0, 0, 0, 0],\n",
    "                       [0, 0, 1, 0, 1, 0],\n",
    "                       [0, 0, 0, 0, 0, 0],\n",
    "                      ])\n",
    "bce = WeigthedBCELoss()"
   ]
  },
  {
   "cell_type": "code",
   "execution_count": null,
   "metadata": {},
   "outputs": [],
   "source": [
    "output_o = torch.tensor([[1, 0, 0, 0, 0, 0],\n",
    "                         [0, 0, 1, 0, 1, 0],\n",
    "                         [1, 1, 1, 1, 1, 1],\n",
    "                        ]).float()\n",
    "bce(output_o, target)"
   ]
  },
  {
   "cell_type": "code",
   "execution_count": null,
   "metadata": {},
   "outputs": [],
   "source": [
    "output_o = torch.tensor([[0, 0, 0, 0, 0, 0],\n",
    "                         [0, 0, 1, 0, 1, 0],\n",
    "                         [1, 1, 1, 1, 1, 1],\n",
    "                        ]).float()\n",
    "bce(output_o, target)"
   ]
  },
  {
   "cell_type": "code",
   "execution_count": null,
   "metadata": {},
   "outputs": [],
   "source": [
    "output_o = torch.tensor([[1, 0, 0, 0, 0, 0],\n",
    "                         [0, 0, 1, 0, 1, 0],\n",
    "                         [0, 0, 0, 0, 0, 0],\n",
    "                        ]).float()\n",
    "bce(output_o, target)"
   ]
  },
  {
   "cell_type": "code",
   "execution_count": null,
   "metadata": {},
   "outputs": [],
   "source": [
    "output_o = torch.tensor([[0, 0, 0, 0, 0, 0],\n",
    "                         [0, 0, 1, 0, 1, 0],\n",
    "                         [0, 0, 0, 0, 0, 0],\n",
    "                        ]).float()\n",
    "bce(output_o, target)"
   ]
  },
  {
   "cell_type": "code",
   "execution_count": null,
   "metadata": {},
   "outputs": [],
   "source": []
  },
  {
   "cell_type": "code",
   "execution_count": null,
   "metadata": {},
   "outputs": [],
   "source": [
    "output = output_o.clamp(min=EPS, max=1-EPS)\n",
    "output"
   ]
  },
  {
   "cell_type": "code",
   "execution_count": null,
   "metadata": {},
   "outputs": [],
   "source": [
    "total = np.prod(target.size())\n",
    "positive = (target == 1).sum().item()\n",
    "negative = total - positive\n",
    "total, positive, negative"
   ]
  },
  {
   "cell_type": "code",
   "execution_count": null,
   "metadata": {},
   "outputs": [],
   "source": [
    "BP = total / positive\n",
    "BN = total / negative\n",
    "BP, BN"
   ]
  },
  {
   "cell_type": "code",
   "execution_count": null,
   "metadata": {},
   "outputs": [],
   "source": [
    "target.size(), output.size()"
   ]
  },
  {
   "cell_type": "code",
   "execution_count": null,
   "metadata": {},
   "outputs": [],
   "source": [
    "left = (target * torch.log(output))\n",
    "left"
   ]
  },
  {
   "cell_type": "code",
   "execution_count": null,
   "metadata": {},
   "outputs": [],
   "source": [
    "right = (1-target) * torch.log(1-output)\n",
    "right"
   ]
  },
  {
   "cell_type": "code",
   "execution_count": null,
   "metadata": {},
   "outputs": [],
   "source": [
    "-(weights*(left + right)).sum()"
   ]
  },
  {
   "cell_type": "code",
   "execution_count": null,
   "metadata": {},
   "outputs": [],
   "source": [
    "weights = torch.zeros(target.size())\n",
    "weights"
   ]
  },
  {
   "cell_type": "code",
   "execution_count": null,
   "metadata": {},
   "outputs": [],
   "source": [
    "weights[target == 0] = BN\n",
    "weights[target == 1] = BP\n",
    "weights"
   ]
  },
  {
   "cell_type": "code",
   "execution_count": null,
   "metadata": {},
   "outputs": [],
   "source": [
    "binary_cross_entropy(output_o, target.float(), weight=weights, reduction='sum')"
   ]
  },
  {
   "cell_type": "code",
   "execution_count": null,
   "metadata": {},
   "outputs": [],
   "source": [
    "bce(output_o, target)"
   ]
  },
  {
   "cell_type": "code",
   "execution_count": null,
   "metadata": {},
   "outputs": [],
   "source": []
  },
  {
   "cell_type": "code",
   "execution_count": null,
   "metadata": {},
   "outputs": [],
   "source": [
    "def calc_conv_output_size(input_size, padding, kernel_size, stride, dilation=0):\n",
    "    value = (input_size + 2*padding - dilation * (kernel_size - 1) - 1)\n",
    "    value /= (stride)\n",
    "    value += 1\n",
    "    return value"
   ]
  },
  {
   "cell_type": "code",
   "execution_count": null,
   "metadata": {},
   "outputs": [],
   "source": [
    "conv = nn.Conv2d(3, 32, (8, 8), stride=4)"
   ]
  },
  {
   "cell_type": "code",
   "execution_count": null,
   "metadata": {},
   "outputs": [],
   "source": []
  },
  {
   "cell_type": "code",
   "execution_count": null,
   "metadata": {},
   "outputs": [],
   "source": []
  }
 ],
 "metadata": {
  "kernelspec": {
   "display_name": "Python 3",
   "language": "python",
   "name": "python3"
  },
  "language_info": {
   "codemirror_mode": {
    "name": "ipython",
    "version": 3
   },
   "file_extension": ".py",
   "mimetype": "text/x-python",
   "name": "python",
   "nbconvert_exporter": "python",
   "pygments_lexer": "ipython3",
   "version": "3.6.9"
  },
  "toc": {
   "base_numbering": 1,
   "nav_menu": {
    "height": "255px",
    "width": "188px"
   },
   "number_sections": true,
   "sideBar": true,
   "skip_h1_title": false,
   "title_cell": "Table of Contents",
   "title_sidebar": "Contents",
   "toc_cell": false,
   "toc_position": {},
   "toc_section_display": true,
   "toc_window_display": false
  }
 },
 "nbformat": 4,
 "nbformat_minor": 4
}
