{
 "cells": [
  {
   "cell_type": "markdown",
   "metadata": {},
   "source": [
    "# Imports"
   ]
  },
  {
   "cell_type": "code",
   "execution_count": null,
   "metadata": {},
   "outputs": [],
   "source": [
    "%env CUDA_VISIBLE_DEVICES=0"
   ]
  },
  {
   "cell_type": "code",
   "execution_count": null,
   "metadata": {},
   "outputs": [],
   "source": [
    "import torch"
   ]
  },
  {
   "cell_type": "code",
   "execution_count": null,
   "metadata": {},
   "outputs": [],
   "source": [
    "import matplotlib\n",
    "import matplotlib.pyplot as plt\n",
    "matplotlib.rcParams['figure.facecolor'] = 'white'\n",
    "matplotlib.rcParams['figure.figsize'] = (15, 5)"
   ]
  },
  {
   "cell_type": "code",
   "execution_count": null,
   "metadata": {},
   "outputs": [],
   "source": [
    "import pandas as pd\n",
    "pd.options.display.max_columns = None"
   ]
  },
  {
   "cell_type": "code",
   "execution_count": null,
   "metadata": {},
   "outputs": [],
   "source": [
    "%run ../utils/__init__.py\n",
    "config_logging(logging.INFO)"
   ]
  },
  {
   "cell_type": "markdown",
   "metadata": {},
   "source": [
    "# Load model"
   ]
  },
  {
   "cell_type": "code",
   "execution_count": null,
   "metadata": {},
   "outputs": [],
   "source": [
    "%run ../models/classification/__init__.py"
   ]
  },
  {
   "cell_type": "code",
   "execution_count": null,
   "metadata": {},
   "outputs": [],
   "source": [
    "model = create_cnn(\n",
    "    'densenet-121-v2', labels=range(14), gpool='avg', dropout=0.3, dropout_features=0.5,\n",
    ").cuda()\n",
    "model.classifier"
   ]
  },
  {
   "cell_type": "markdown",
   "metadata": {},
   "source": [
    "# Load data"
   ]
  },
  {
   "cell_type": "code",
   "execution_count": null,
   "metadata": {},
   "outputs": [],
   "source": [
    "%run ../datasets/__init__.py"
   ]
  },
  {
   "cell_type": "code",
   "execution_count": null,
   "metadata": {},
   "outputs": [],
   "source": [
    "dataset_kwargs = {\n",
    "    'dataset_name': 'chexpert',\n",
    "    'dataset_type': 'train',\n",
    "    'max_samples': 100,\n",
    "    'image_size': (256, 256),\n",
    "    'batch_size': 10,\n",
    "    # 'labels': ['Cardiomegaly'],\n",
    "}\n",
    "dataloader = prepare_data_classification(**dataset_kwargs)\n",
    "dataset = dataloader.dataset\n",
    "len(dataset)"
   ]
  },
  {
   "cell_type": "code",
   "execution_count": null,
   "metadata": {},
   "outputs": [],
   "source": [
    "dataset.label_index['Cardiomegaly'].sum() / len(dataset)"
   ]
  },
  {
   "cell_type": "code",
   "execution_count": null,
   "metadata": {},
   "outputs": [],
   "source": []
  },
  {
   "cell_type": "markdown",
   "metadata": {},
   "source": [
    "# Try LibAUC"
   ]
  },
  {
   "cell_type": "code",
   "execution_count": null,
   "metadata": {},
   "outputs": [],
   "source": [
    "from libauc.losses import APLoss_SH, AUCMLoss\n",
    "from libauc.optimizers import SOAP_SGD, SOAP_ADAM, PESG"
   ]
  },
  {
   "cell_type": "code",
   "execution_count": null,
   "metadata": {},
   "outputs": [],
   "source": [
    "# Copied from libauc code installed by python\n",
    "# Authors have not released the code in github yet:\n",
    "# https://github.com/yzhuoning/LibAUC/issues/7\n",
    "class APLoss_SH(torch.nn.Module):\n",
    "    \"\"\"\n",
    "    AP Loss with squared-hinge function: a novel loss function to directly optimize AUPRC\n",
    "    \n",
    "    inputs:\n",
    "        margin: margin for squred hinge loss, e.g., m in [0, 1]\n",
    "        beta: factors for moving average, which aslo refers to gamma in the paper\n",
    "    outputs:\n",
    "        loss  \n",
    "    Reference:\n",
    "        Qi, Q., Luo, Y., Xu, Z., Ji, S. and Yang, T., 2021. \n",
    "        Stochastic Optimization of Area Under Precision-Recall Curve for Deep Learning with Provable Convergence. \n",
    "        arXiv preprint arXiv:2104.08736.\n",
    "    Link:\n",
    "        https://arxiv.org/abs/2104.08736\n",
    "    \"\"\"\n",
    "    def __init__(self, data_len=None, margin=0.8, beta=0.99, choice_p=3, device='cuda'):\n",
    "        super(APLoss_SH, self).__init__()\n",
    "        # TODO!\n",
    "        self.u_all = torch.zeros(data_len, 1, dtype=torch.float64, device=device)\n",
    "        self.u_pos = torch.zeros(data_len, 1, dtype=torch.float64, device=device)\n",
    "        self.margin = margin\n",
    "        self.choice_p = choice_p\n",
    "        self.beta = beta\n",
    "    \n",
    "    def forward(self, y_pred, y_true, index_s):    \n",
    "        y_pred_ps = y_pred[y_true == 1].reshape(-1, 1)\n",
    "        y_pred_ns = y_pred[y_true == 0].reshape(-1, 1)\n",
    "        \n",
    "        y_true = y_true.reshape(-1)\n",
    "        index_s = index_s[y_true==1]\n",
    "        pos_num = (y_true == 1).int().sum()\n",
    "        if True: #pos_num != 0:\n",
    "            y_pred_matrix = y_pred_ns.repeat(pos_num, 1).reshape(pos_num, -1)  # (batch_size-pos_num, pos_num)\n",
    "    \n",
    "            neg_mask = torch.ones_like(y_pred_matrix)\n",
    "            neg_mask[:, 0:pos_num] = 0\n",
    "    \n",
    "            pos_mask = torch.zeros_like(y_pred_matrix)\n",
    "            pos_mask[:, 0:pos_num] = 1\n",
    "    \n",
    "            all_loss = torch.max(self.margin - (y_pred_ps - y_pred_matrix), torch.zeros_like(y_pred_matrix)) ** 2   \n",
    "            pos_loss = torch.max(self.margin  - (y_pred_matrix), torch.zeros_like(y_pred_ps)) ** 2 * pos_mask\n",
    "    \n",
    "            if y_pred_ps.size(0) == 1:   \n",
    "                self.u_all[index_s] = (1 - self.beta) * self.u_all[index_s] + self.beta * (all_loss.sum())\n",
    "                self.u_pos[index_s] = (1 - self.beta) * self.u_pos[index_s] + self.beta * (pos_loss.sum())\n",
    "            else:\n",
    "                self.u_all[index_s] = (1 - self.beta) * self.u_all[index_s] + self.beta * (all_loss.sum(1, keepdim=True))\n",
    "                self.u_pos[index_s] = (1 - self.beta) * self.u_pos[index_s] + self.beta * (pos_loss.sum(1, keepdim=True))\n",
    "                \n",
    "            p = all_loss / self.u_all[index_s]\n",
    "        \n",
    "            p.detach_()\n",
    "            loss = torch.mean(p * all_loss)\n",
    "        else:\n",
    "            # TODO!\n",
    "            all_loss = torch.max(self.margin - (0-y_pred_ns), torch.zeros_like(y_pred_ns))**2 \n",
    "            loss = all_loss.mean()\n",
    "        \n",
    "        return loss"
   ]
  },
  {
   "cell_type": "code",
   "execution_count": null,
   "metadata": {},
   "outputs": [],
   "source": [
    "class MultilabelAPLoss(nn.Module):\n",
    "    def __init__(self, n_labels, n_samples, **kwargs):\n",
    "        super().__init__()\n",
    "\n",
    "        self.losses = nn.ModuleList([\n",
    "            APLoss_SH(data_len=n_samples, **kwargs)\n",
    "            for _ in range(n_labels)\n",
    "        ])\n",
    "        \n",
    "    def forward(self, preds, targets, index):\n",
    "        return torch.tensor([\n",
    "            loss(preds[:, idx], targets[:, idx], index)\n",
    "            for idx, loss in enumerate(self.losses)\n",
    "        ], device=preds.device)"
   ]
  },
  {
   "cell_type": "code",
   "execution_count": null,
   "metadata": {},
   "outputs": [],
   "source": [
    "class AUCMLoss(torch.nn.Module):\n",
    "    \"\"\"\n",
    "    AUCM Loss: a novel loss function to directly optimize AUROC\n",
    "    \n",
    "    inputs:\n",
    "        margin: margin term for AUCM loss, e.g., m in [0, 1]\n",
    "        imratio: imbalance ratio, i.e., the ratio of number of postive samples to number of total samples\n",
    "    outputs:\n",
    "        loss value \n",
    "    \n",
    "    Reference: \n",
    "        Yuan, Z., Yan, Y., Sonka, M. and Yang, T., 2020. \n",
    "        Robust Deep AUC Maximization: A New Surrogate Loss and Empirical Studies on Medical Image Classification. \n",
    "        arXiv preprint arXiv:2012.03173.\n",
    "    Link:\n",
    "        https://arxiv.org/abs/2012.03173\n",
    "    \"\"\"\n",
    "    def __init__(self, margin=1.0, imratio=None, device='cuda'):\n",
    "        super(AUCMLoss, self).__init__()\n",
    "        self.margin = margin\n",
    "        self.p = imratio\n",
    "        self.a = torch.zeros(1, dtype=torch.float32, device=device, requires_grad=True)\n",
    "        self.b = torch.zeros(1, dtype=torch.float32, device=device, requires_grad=True)\n",
    "        self.alpha = torch.zeros(1, dtype=torch.float32, device=device, requires_grad=True)\n",
    "        \n",
    "    def forward(self, y_pred, y_true):\n",
    "        if self.p is None:\n",
    "           self.p = (y_true==1).float().sum()/y_true.shape[0]   \n",
    "     \n",
    "        y_pred = y_pred.reshape(-1, 1) # be carefull about these shapes\n",
    "        y_true = y_true.reshape(-1, 1) \n",
    "        loss = (1-self.p)*torch.mean((y_pred - self.a)**2*(1==y_true).float()) + \\\n",
    "                    self.p*torch.mean((y_pred - self.b)**2*(0==y_true).float())   + \\\n",
    "                    2*self.alpha*(self.p*(1-self.p)*self.margin + \\\n",
    "                    torch.mean((self.p*y_pred*(0==y_true).float() - (1-self.p)*y_pred*(1==y_true).float())) )- \\\n",
    "                    self.p*(1-self.p)*self.alpha**2\n",
    "        return loss"
   ]
  },
  {
   "cell_type": "code",
   "execution_count": null,
   "metadata": {},
   "outputs": [],
   "source": [
    "# loss_fn = APLoss_SH(data_len=len(dataloader.dataset))\n",
    "# loss_fn = MultilabelAPLoss(14, len(dataloader.dataset), device='cuda')\n",
    "loss_fn = AUCMLoss(imratio=0.1)"
   ]
  },
  {
   "cell_type": "code",
   "execution_count": null,
   "metadata": {},
   "outputs": [],
   "source": [
    "predictions = torch.rand(7, 1).cuda()\n",
    "labels = (torch.rand(7, 1) > 0.5).long().cuda()\n",
    "l = loss_fn(predictions, labels)\n",
    "l"
   ]
  },
  {
   "cell_type": "code",
   "execution_count": null,
   "metadata": {},
   "outputs": [],
   "source": [
    "# optimizer = SOAP_SGD(model.parameters(), lr=0.001)\n",
    "optimizer = PESG(\n",
    "    model,\n",
    "    a=loss_fn.a,\n",
    "    b=loss_fn.b,\n",
    "    alpha=loss_fn.alpha,\n",
    "    imratio=loss_fn.p,\n",
    "    lr=0.001,\n",
    ")"
   ]
  },
  {
   "cell_type": "code",
   "execution_count": null,
   "metadata": {},
   "outputs": [],
   "source": [
    "_ = model.train()"
   ]
  },
  {
   "cell_type": "code",
   "execution_count": null,
   "metadata": {},
   "outputs": [],
   "source": [
    "INDEX = 1\n",
    "\n",
    "for batch in dataloader:\n",
    "    images = batch.image.cuda()\n",
    "    labels = batch.labels.cuda()\n",
    "    # index = batch.idx.cuda()\n",
    "\n",
    "    out = model(images)\n",
    "    prediction = out[0]\n",
    "    \n",
    "    loss = loss_fn(prediction[:, INDEX], labels[:, INDEX])\n",
    "\n",
    "    optimizer.zero_grad()\n",
    "    loss.backward()\n",
    "    optimizer.step()\n",
    "    break"
   ]
  },
  {
   "cell_type": "code",
   "execution_count": null,
   "metadata": {},
   "outputs": [],
   "source": [
    "prediction.size(), labels.size() # , index.size()"
   ]
  },
  {
   "cell_type": "code",
   "execution_count": null,
   "metadata": {},
   "outputs": [],
   "source": []
  },
  {
   "cell_type": "code",
   "execution_count": null,
   "metadata": {},
   "outputs": [],
   "source": [
    "from medai.models import load_compiled_model\n",
    "from medai.utils import RunId"
   ]
  },
  {
   "cell_type": "code",
   "execution_count": null,
   "metadata": {},
   "outputs": [],
   "source": [
    "run_id = RunId('0321_052008', False, 'cls')"
   ]
  },
  {
   "cell_type": "code",
   "execution_count": null,
   "metadata": {},
   "outputs": [],
   "source": [
    "cm = load_compiled_model(run_id)\n",
    "type(cm.model)"
   ]
  },
  {
   "cell_type": "code",
   "execution_count": null,
   "metadata": {},
   "outputs": [],
   "source": [
    "cm.model.parameters"
   ]
  }
 ],
 "metadata": {
  "kernelspec": {
   "display_name": "Python 3",
   "language": "python",
   "name": "python3"
  },
  "language_info": {
   "codemirror_mode": {
    "name": "ipython",
    "version": 3
   },
   "file_extension": ".py",
   "mimetype": "text/x-python",
   "name": "python",
   "nbconvert_exporter": "python",
   "pygments_lexer": "ipython3",
   "version": "3.6.9"
  },
  "toc": {
   "base_numbering": 1,
   "nav_menu": {},
   "number_sections": true,
   "sideBar": true,
   "skip_h1_title": false,
   "title_cell": "Table of Contents",
   "title_sidebar": "Contents",
   "toc_cell": false,
   "toc_position": {},
   "toc_section_display": true,
   "toc_window_display": false
  }
 },
 "nbformat": 4,
 "nbformat_minor": 4
}
