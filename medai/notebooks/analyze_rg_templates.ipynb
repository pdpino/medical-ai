{
 "cells": [
  {
   "cell_type": "markdown",
   "metadata": {},
   "source": [
    "# Imports"
   ]
  },
  {
   "cell_type": "code",
   "execution_count": null,
   "metadata": {},
   "outputs": [],
   "source": [
    "import os\n",
    "from collections import Counter"
   ]
  },
  {
   "cell_type": "code",
   "execution_count": null,
   "metadata": {},
   "outputs": [],
   "source": [
    "import matplotlib.pyplot as plt\n",
    "import matplotlib\n",
    "matplotlib.rcParams['figure.facecolor'] = 'white'\n",
    "matplotlib.rcParams['figure.figsize'] = (15, 5)"
   ]
  },
  {
   "cell_type": "code",
   "execution_count": null,
   "metadata": {},
   "outputs": [],
   "source": [
    "import pandas as pd\n",
    "pd.options.display.max_columns = None"
   ]
  },
  {
   "cell_type": "code",
   "execution_count": null,
   "metadata": {},
   "outputs": [],
   "source": [
    "%run ../utils/__init__.py\n",
    "config_logging(logging.INFO)"
   ]
  },
  {
   "cell_type": "code",
   "execution_count": null,
   "metadata": {},
   "outputs": [],
   "source": [
    "%run ../datasets/common/constants.py"
   ]
  },
  {
   "cell_type": "code",
   "execution_count": null,
   "metadata": {},
   "outputs": [],
   "source": [
    "from medai.datasets.iu_xray import DATASET_DIR as IU_DIR"
   ]
  },
  {
   "cell_type": "markdown",
   "metadata": {
    "heading_collapsed": true
   },
   "source": [
    "# Utils"
   ]
  },
  {
   "cell_type": "code",
   "execution_count": null,
   "metadata": {
    "hidden": true
   },
   "outputs": [],
   "source": [
    "ACTUAL_DISEASES = CHEXPERT_DISEASES[1:]\n",
    "ACTUAL_DISEASES"
   ]
  },
  {
   "cell_type": "code",
   "execution_count": null,
   "metadata": {
    "hidden": true
   },
   "outputs": [],
   "source": [
    "def collect_for_disease(df, target_disease, remove_other=True, column='text'):\n",
    "    only_df = df\n",
    "\n",
    "    if remove_other:\n",
    "        # Keep only sentences that do not mention other diseases\n",
    "        other_diseases = list(ACTUAL_DISEASES)\n",
    "        other_diseases.remove(target_disease)\n",
    "        only_df = only_df.loc[(only_df[other_diseases] == -2).all(axis=1)]\n",
    "    \n",
    "    grouped = only_df.groupby(target_disease)[column].apply(\n",
    "        lambda x: sorted(list(x), key=lambda y: len(y)),\n",
    "    )\n",
    "    print([(valuation, len(sentences)) for valuation, sentences in grouped.iteritems()])\n",
    "    \n",
    "    return grouped"
   ]
  },
  {
   "cell_type": "markdown",
   "metadata": {
    "heading_collapsed": true
   },
   "source": [
    "# Analyze sentence vs diseases"
   ]
  },
  {
   "cell_type": "code",
   "execution_count": null,
   "metadata": {
    "hidden": true
   },
   "outputs": [],
   "source": [
    "fpath = os.path.join(IU_DIR, 'reports', 'sentences_with_extra_info.csv')\n",
    "df = pd.read_csv(fpath)\n",
    "print(len(df))\n",
    "df.head(2)"
   ]
  },
  {
   "cell_type": "code",
   "execution_count": null,
   "metadata": {
    "hidden": true
   },
   "outputs": [],
   "source": [
    "TOTAL_SENTENCES = len(df)\n",
    "TOTAL_APPEARANCES = df['appearances'].sum()\n",
    "TOTAL_SENTENCES, TOTAL_APPEARANCES"
   ]
  },
  {
   "cell_type": "markdown",
   "metadata": {
    "heading_collapsed": true,
    "hidden": true
   },
   "source": [
    "## Utils"
   ]
  },
  {
   "cell_type": "code",
   "execution_count": null,
   "metadata": {
    "hidden": true
   },
   "outputs": [],
   "source": [
    "def remove_non_covered_info(df):\n",
    "    def _remove_key_with_value(d, key, value):\n",
    "        if key not in df.columns:\n",
    "            print(f'Key not found in df: {key}')\n",
    "        else:\n",
    "            d = d.loc[d[key] == value]\n",
    "        return d\n",
    "    \n",
    "    df = _remove_key_with_value(df, 'obfuscated', False)\n",
    "    df = _remove_key_with_value(df, 'time', False)\n",
    "    return df"
   ]
  },
  {
   "cell_type": "code",
   "execution_count": null,
   "metadata": {
    "hidden": true
   },
   "outputs": [],
   "source": [
    "def collect_sentences_for_disease(target_disease, remove_other=True, remove_useless_info=True):\n",
    "    only_df = df\n",
    "\n",
    "    if remove_useless_info:\n",
    "        only_df = remove_non_covered_info(only_df)\n",
    "        \n",
    "    grouped = collect_for_disease(only_df, target_disease, remove_other, column='sentence')\n",
    "\n",
    "    return grouped"
   ]
  },
  {
   "cell_type": "code",
   "execution_count": null,
   "metadata": {
    "hidden": true
   },
   "outputs": [],
   "source": [
    "def mentions_any_term(sentence, terms):\n",
    "    return any(\n",
    "        term in sentence\n",
    "        for term in terms\n",
    "    )"
   ]
  },
  {
   "cell_type": "code",
   "execution_count": null,
   "metadata": {
    "hidden": true
   },
   "outputs": [],
   "source": [
    "def new_column_mentions_any_term(sentences, terms):\n",
    "    return [\n",
    "        mentions_any_term(sentence, terms)\n",
    "        for sentence in sentences\n",
    "    ]"
   ]
  },
  {
   "cell_type": "code",
   "execution_count": null,
   "metadata": {
    "hidden": true
   },
   "outputs": [],
   "source": [
    "def print_subdf_stats(subdf, name, full_df=df):\n",
    "    total_sentences = len(full_df)\n",
    "    total_appearances = full_df['appearances'].sum()\n",
    "    \n",
    "    n_sent = len(subdf)\n",
    "    n_appear = subdf['appearances'].sum()\n",
    "\n",
    "    perc_sent = n_sent / total_sentences * 100\n",
    "    perc_appear = n_appear / total_appearances * 100\n",
    "    print(f'{name}:')\n",
    "    print(f'\\tsentences={n_sent:,}/{total_sentences:,} ({perc_sent:.2f}%)')\n",
    "    print(f'\\tappearances={n_appear:,}/{total_appearances:,} ({perc_appear:.2f}%)')"
   ]
  },
  {
   "cell_type": "markdown",
   "metadata": {
    "heading_collapsed": true,
    "hidden": true
   },
   "source": [
    "## Annotate non-covered info\n",
    "\n",
    "TODO: other non-convered info:\n",
    "\n",
    "* Non-disease descriptive info: e.g. 'ap and lateral view of the chest .'"
   ]
  },
  {
   "cell_type": "markdown",
   "metadata": {
    "heading_collapsed": true,
    "hidden": true
   },
   "source": [
    "### Obfuscated sentences\n",
    "\n",
    "Contain xxxx"
   ]
  },
  {
   "cell_type": "code",
   "execution_count": null,
   "metadata": {
    "hidden": true
   },
   "outputs": [],
   "source": [
    "def contains_obfuscated(sentence):\n",
    "    return 'xxxx' in sentence"
   ]
  },
  {
   "cell_type": "code",
   "execution_count": null,
   "metadata": {
    "hidden": true
   },
   "outputs": [],
   "source": [
    "df['obfuscated'] = [\n",
    "    contains_obfuscated(sentence)\n",
    "    for sentence in df['sentence']\n",
    "]\n",
    "df.head()"
   ]
  },
  {
   "cell_type": "code",
   "execution_count": null,
   "metadata": {
    "hidden": true
   },
   "outputs": [],
   "source": [
    "obf_df = df.loc[df['obfuscated'] == True]\n",
    "print_subdf_stats(obf_df, 'Obfuscated')"
   ]
  },
  {
   "cell_type": "code",
   "execution_count": null,
   "metadata": {
    "hidden": true
   },
   "outputs": [],
   "source": [
    "l = list(obf_df['sentence'])\n",
    "l"
   ]
  },
  {
   "cell_type": "code",
   "execution_count": null,
   "metadata": {
    "hidden": true
   },
   "outputs": [],
   "source": []
  },
  {
   "cell_type": "markdown",
   "metadata": {
    "heading_collapsed": true,
    "hidden": true
   },
   "source": [
    "### Time-related sentences\n",
    "\n",
    "\"shown again\", \"given history\", etc"
   ]
  },
  {
   "cell_type": "code",
   "execution_count": null,
   "metadata": {
    "hidden": true
   },
   "outputs": [],
   "source": [
    "_TIME_MENTIONS = set([\n",
    "    'unchanged', 'improved', 'given history',\n",
    "    'previous', 'with prior', 'no change',\n",
    "    'prior exam', 'consistent with prior',\n",
    "    'prior study', 'compared to prior',\n",
    "    'from the prior',\n",
    "    'prior',\n",
    "    'has been removed',\n",
    "    'have been removed',\n",
    "    'interval', 'persistent', 'remain',\n",
    "    'stable', 'now', 'again',\n",
    "    'as before',\n",
    "])"
   ]
  },
  {
   "cell_type": "code",
   "execution_count": null,
   "metadata": {
    "hidden": true
   },
   "outputs": [],
   "source": [
    "l = list(df[df['sentence'].str.contains('again')]['sentence'])\n",
    "len(l), l"
   ]
  },
  {
   "cell_type": "code",
   "execution_count": null,
   "metadata": {
    "hidden": true
   },
   "outputs": [],
   "source": [
    "df['time'] = new_column_mentions_any_term(df['sentence'], _TIME_MENTIONS)\n",
    "df.head()"
   ]
  },
  {
   "cell_type": "code",
   "execution_count": null,
   "metadata": {
    "hidden": true
   },
   "outputs": [],
   "source": [
    "time_df = df.loc[df['time'] == True]\n",
    "print_subdf_stats(time_df, 'Time')"
   ]
  },
  {
   "cell_type": "code",
   "execution_count": null,
   "metadata": {
    "hidden": true
   },
   "outputs": [],
   "source": []
  },
  {
   "cell_type": "markdown",
   "metadata": {
    "heading_collapsed": true,
    "hidden": true
   },
   "source": [
    "### Lung adjectives and extra information"
   ]
  },
  {
   "cell_type": "code",
   "execution_count": null,
   "metadata": {
    "hidden": true
   },
   "outputs": [],
   "source": [
    "ADJECTIVES = ['mild', 'subsegmental', 'streaky', 'minimal',\n",
    "              # 'decreased', 'increased',\n",
    "              'scattered', 'calcified', 'discrete', 'poorly defined',\n",
    "              'diffuse', 'patchy', 'vague', 'bandlike', 'mildly', 'prominent',\n",
    "              'subtle', 'asymmetric', 'strandy', 'shaped', 'rotated',\n",
    "              'irregular', 'coarse', 'residual', 'maximal thickness',\n",
    "              'thin', 'resolved', 'smooth',\n",
    "             ]\n",
    "LOCATION = ['basilar', 'bibasilar', 'medial', 'bilateral', 'basal', 'bilaterally',\n",
    "            'right', 'left', 'midlung', 'lung base', 'near the', 'upper lung', 'lobe',\n",
    "            'hilum', 'perihilar', 'cavitary', 'rib', 'periphery', 'lingular',\n",
    "            'biapical', 'apical', 'apex', 'apices', 'interstitial', 'alveolar',\n",
    "           ]\n",
    "AMOUNTS = ['innumerable', 'multiple', 'three', 'a few']\n",
    "SIZE = ['NUMBER', 'large', 'small', 'moderate sized', 'width', 'diameter']\n",
    "COMPARISON = ['than', # e.g. right larger than left\n",
    "             ]"
   ]
  },
  {
   "cell_type": "code",
   "execution_count": null,
   "metadata": {
    "hidden": true
   },
   "outputs": [],
   "source": [
    "sentences = df['sentence']\n",
    "df['lung-adj'] = new_column_mentions_any_term(sentences, ADJECTIVES)\n",
    "df['lung-loc'] = new_column_mentions_any_term(sentences, LOCATION)\n",
    "df['lung-amount'] = new_column_mentions_any_term(sentences, AMOUNTS)\n",
    "df['lung-size'] = new_column_mentions_any_term(sentences, SIZE)\n",
    "df['lung-compare'] = new_column_mentions_any_term(sentences, COMPARISON)\n",
    "df.head()"
   ]
  },
  {
   "cell_type": "code",
   "execution_count": null,
   "metadata": {
    "hidden": true
   },
   "outputs": [],
   "source": [
    "cols = [c for c in df.columns if c.startswith('lung-')]\n",
    "df['lung-any-detail'] = df[cols].any(axis=1)\n",
    "df.head()"
   ]
  },
  {
   "cell_type": "code",
   "execution_count": null,
   "metadata": {
    "hidden": true
   },
   "outputs": [],
   "source": [
    "LUNG_DISEASES = CHEXPERT_DISEASES[3:-2]"
   ]
  },
  {
   "cell_type": "code",
   "execution_count": null,
   "metadata": {
    "hidden": true
   },
   "outputs": [],
   "source": [
    "d = df.loc[((df[LUNG_DISEASES] == 1) | (df[LUNG_DISEASES] == -1)).any(axis=1)]\n",
    "df_detail = d.loc[(d['lung-any-detail'] == True)]\n",
    "print_subdf_stats(df_detail, 'Lung details (out of positive sentences)', d)"
   ]
  },
  {
   "cell_type": "code",
   "execution_count": null,
   "metadata": {
    "hidden": true
   },
   "outputs": [],
   "source": []
  },
  {
   "cell_type": "markdown",
   "metadata": {
    "heading_collapsed": true,
    "hidden": true
   },
   "source": [
    "### Save to file\n",
    "\n",
    "With extra info"
   ]
  },
  {
   "cell_type": "code",
   "execution_count": null,
   "metadata": {
    "hidden": true
   },
   "outputs": [],
   "source": [
    "fpath = os.path.join(IU_DIR, 'reports', 'sentences_with_extra_info.csv')\n",
    "df.to_csv(fpath, index=False)"
   ]
  },
  {
   "cell_type": "code",
   "execution_count": null,
   "metadata": {
    "hidden": true
   },
   "outputs": [],
   "source": []
  },
  {
   "cell_type": "markdown",
   "metadata": {
    "heading_collapsed": true,
    "hidden": true
   },
   "source": [
    "## Heart"
   ]
  },
  {
   "cell_type": "code",
   "execution_count": null,
   "metadata": {
    "hidden": true
   },
   "outputs": [],
   "source": [
    "grouped = collect_sentences_for_disease('Enlarged Cardiomediastinum')"
   ]
  },
  {
   "cell_type": "code",
   "execution_count": null,
   "metadata": {
    "hidden": true
   },
   "outputs": [],
   "source": [
    "grouped[1]"
   ]
  },
  {
   "cell_type": "code",
   "execution_count": null,
   "metadata": {
    "hidden": true
   },
   "outputs": [],
   "source": [
    "grouped = collect_sentences_for_disease('Enlarged Cardiomediastinum')"
   ]
  },
  {
   "cell_type": "code",
   "execution_count": null,
   "metadata": {
    "hidden": true
   },
   "outputs": [],
   "source": [
    "grouped[1]"
   ]
  },
  {
   "cell_type": "code",
   "execution_count": null,
   "metadata": {
    "hidden": true
   },
   "outputs": [],
   "source": []
  },
  {
   "cell_type": "markdown",
   "metadata": {
    "heading_collapsed": true,
    "hidden": true
   },
   "source": [
    "## Lungs"
   ]
  },
  {
   "cell_type": "code",
   "execution_count": null,
   "metadata": {
    "hidden": true
   },
   "outputs": [],
   "source": [
    "grouped = collect_sentences_for_disease('Lung Lesion')"
   ]
  },
  {
   "cell_type": "code",
   "execution_count": null,
   "metadata": {
    "hidden": true
   },
   "outputs": [],
   "source": [
    "[\n",
    "    s\n",
    "    for s in grouped[1]\n",
    "    if mentions_any_term(s, AMOUNTS)\n",
    "]"
   ]
  },
  {
   "cell_type": "code",
   "execution_count": null,
   "metadata": {
    "hidden": true
   },
   "outputs": [],
   "source": [
    "[s for s in grouped[1] if all(k not in s for k in ('right', 'left', 'apic',\n",
    "                                                   'bilateral', 'bibasilar',\n",
    "                                                   'interstitial', 'perihilar'))]"
   ]
  },
  {
   "cell_type": "code",
   "execution_count": null,
   "metadata": {
    "hidden": true
   },
   "outputs": [],
   "source": [
    "grouped = collect_sentences_for_disease('Pleural Other', True, True)"
   ]
  },
  {
   "cell_type": "code",
   "execution_count": null,
   "metadata": {
    "hidden": true
   },
   "outputs": [],
   "source": [
    "grouped[1]"
   ]
  },
  {
   "cell_type": "code",
   "execution_count": null,
   "metadata": {
    "hidden": true
   },
   "outputs": [],
   "source": []
  },
  {
   "cell_type": "markdown",
   "metadata": {
    "heading_collapsed": true,
    "hidden": true
   },
   "source": [
    "## Others\n",
    "\n",
    "Fracture and devices"
   ]
  },
  {
   "cell_type": "code",
   "execution_count": null,
   "metadata": {
    "hidden": true
   },
   "outputs": [],
   "source": [
    "grouped = collect_sentences_for_disease('Fracture')"
   ]
  },
  {
   "cell_type": "code",
   "execution_count": null,
   "metadata": {
    "hidden": true
   },
   "outputs": [],
   "source": [
    "grouped[1]"
   ]
  },
  {
   "cell_type": "code",
   "execution_count": null,
   "metadata": {
    "hidden": true
   },
   "outputs": [],
   "source": []
  },
  {
   "cell_type": "markdown",
   "metadata": {
    "hidden": true
   },
   "source": [
    "## Sentences with more than one disease"
   ]
  },
  {
   "cell_type": "code",
   "execution_count": null,
   "metadata": {
    "hidden": true
   },
   "outputs": [],
   "source": [
    "many_diseases_df = df.loc[((df[ACTUAL_DISEASES] == 1) | (df[ACTUAL_DISEASES] == -1)).sum(axis=1) > 1]\n",
    "many_diseases_df = many_diseases_df.sort_values('sentence', key=lambda x: x.str.len())\n",
    "print(len(many_diseases_df))\n",
    "many_diseases_df.head(1)"
   ]
  },
  {
   "cell_type": "code",
   "execution_count": null,
   "metadata": {
    "hidden": true
   },
   "outputs": [],
   "source": [
    "print_subdf_stats(many_diseases_df, 'More than 1 disease')"
   ]
  },
  {
   "cell_type": "code",
   "execution_count": null,
   "metadata": {
    "hidden": true
   },
   "outputs": [],
   "source": [
    "l = list(many_diseases_df['sentence'])\n",
    "l"
   ]
  },
  {
   "cell_type": "code",
   "execution_count": null,
   "metadata": {
    "hidden": true
   },
   "outputs": [],
   "source": []
  },
  {
   "cell_type": "markdown",
   "metadata": {
    "hidden": true
   },
   "source": [
    "## Sentences not covered by chexpert"
   ]
  },
  {
   "cell_type": "markdown",
   "metadata": {
    "hidden": true
   },
   "source": [
    "### Including NF"
   ]
  },
  {
   "cell_type": "code",
   "execution_count": null,
   "metadata": {
    "hidden": true
   },
   "outputs": [],
   "source": [
    "not_covered_df = df.loc[(df[CHEXPERT_DISEASES] == -2).all(axis=1)]\n",
    "not_covered_df = not_covered_df.sort_values('sentence', key=lambda x: x.str.len())\n",
    "print(len(not_covered_df))\n",
    "print_subdf_stats(not_covered_df, 'Non covered including NF')\n",
    "not_covered_df.head(2)"
   ]
  },
  {
   "cell_type": "code",
   "execution_count": null,
   "metadata": {
    "hidden": true
   },
   "outputs": [],
   "source": [
    "l1 = list(not_covered_df['sentence'])\n",
    "l1"
   ]
  },
  {
   "cell_type": "markdown",
   "metadata": {
    "hidden": true
   },
   "source": [
    "### Not including NF"
   ]
  },
  {
   "cell_type": "code",
   "execution_count": null,
   "metadata": {
    "hidden": true
   },
   "outputs": [],
   "source": [
    "d = df.loc[(df[ACTUAL_DISEASES] == -2).all(axis=1)]\n",
    "d = d.loc[d['No Finding'] != -2]\n",
    "d = d.sort_values('sentence', key=lambda x: x.str.len())\n",
    "print(len(d))\n",
    "print_subdf_stats(d, 'Non covered diseases')\n",
    "d.head(2)"
   ]
  },
  {
   "cell_type": "code",
   "execution_count": null,
   "metadata": {
    "hidden": true
   },
   "outputs": [],
   "source": [
    "Counter(d['No Finding'])"
   ]
  },
  {
   "cell_type": "code",
   "execution_count": null,
   "metadata": {
    "hidden": true
   },
   "outputs": [],
   "source": [
    "l2 = list(d['sentence'])\n",
    "len(l2), l2"
   ]
  },
  {
   "cell_type": "markdown",
   "metadata": {
    "heading_collapsed": true
   },
   "source": [
    "# Compare with expert-given-procedure"
   ]
  },
  {
   "cell_type": "markdown",
   "metadata": {
    "hidden": true
   },
   "source": [
    "## Common stuff"
   ]
  },
  {
   "cell_type": "code",
   "execution_count": null,
   "metadata": {
    "hidden": true
   },
   "outputs": [],
   "source": [
    "fpath = os.path.join(IU_DIR, 'reports', 'sentences_with_extra_info.csv')\n",
    "SENTENCES_DF = pd.read_csv(fpath)\n",
    "SENTENCES_DF.rename(columns={'sentence': 'text'}, inplace=True)\n",
    "SENTENCES_DF = SENTENCES_DF.sort_values('text', key=lambda x: x.str.len())\n",
    "\n",
    "fpath = os.path.join(IU_DIR, 'reports', 'reports_with_chexpert_labels.csv')\n",
    "REPORTS_DF = pd.read_csv(fpath, index_col=0)\n",
    "REPORTS_DF.rename(columns={'Reports': 'text'}, inplace=True)\n",
    "REPORTS_DF = REPORTS_DF.sort_values('text', key=lambda x: x.str.len())\n",
    "REPORTS_DF.reset_index(drop=True, inplace=True)\n",
    "\n",
    "len(SENTENCES_DF), len(REPORTS_DF)"
   ]
  },
  {
   "cell_type": "markdown",
   "metadata": {
    "hidden": true
   },
   "source": [
    "## Inspect"
   ]
  },
  {
   "cell_type": "markdown",
   "metadata": {
    "hidden": true
   },
   "source": [
    "### Get sentences with text"
   ]
  },
  {
   "cell_type": "code",
   "execution_count": null,
   "metadata": {
    "hidden": true
   },
   "outputs": [],
   "source": [
    "d = SENTENCES_DF\n",
    "# d = d.loc[(d['text'].str.contains(r'atrial') & d['text'].str.contains('large'))]\n",
    "d = d.loc[d['text'].str.contains(r'mass')]\n",
    "len(d), d['appearances'].sum()"
   ]
  },
  {
   "cell_type": "code",
   "execution_count": null,
   "metadata": {
    "hidden": true
   },
   "outputs": [],
   "source": [
    "list(d['text'])"
   ]
  },
  {
   "cell_type": "markdown",
   "metadata": {
    "hidden": true
   },
   "source": [
    "### Group sentences by chexpert disease eval"
   ]
  },
  {
   "cell_type": "code",
   "execution_count": null,
   "metadata": {
    "hidden": true
   },
   "outputs": [],
   "source": [
    "g = collect_for_disease(SENTENCES_DF, 'Lung Lesion')"
   ]
  },
  {
   "cell_type": "code",
   "execution_count": null,
   "metadata": {
    "hidden": true
   },
   "outputs": [],
   "source": [
    "g[1]"
   ]
  },
  {
   "cell_type": "code",
   "execution_count": null,
   "metadata": {
    "hidden": true
   },
   "outputs": [],
   "source": []
  },
  {
   "cell_type": "markdown",
   "metadata": {},
   "source": [
    "# Check sentence positions\n",
    "\n",
    "Try to define the best position in the report to name the reports"
   ]
  },
  {
   "cell_type": "code",
   "execution_count": null,
   "metadata": {},
   "outputs": [],
   "source": [
    "import json\n",
    "from collections import defaultdict, Counter\n",
    "from tqdm.auto import tqdm\n",
    "import math"
   ]
  },
  {
   "cell_type": "code",
   "execution_count": null,
   "metadata": {},
   "outputs": [],
   "source": [
    "%run ../utils/nlp.py\n",
    "%run ../datasets/common/constants.py"
   ]
  },
  {
   "cell_type": "code",
   "execution_count": null,
   "metadata": {},
   "outputs": [],
   "source": [
    "with open(os.path.join(IU_DIR, 'reports', 'reports.clean.v4.json'), 'r') as f:\n",
    "    reports_raw = list(json.load(f).values())\n",
    "reports = [r['clean_text'] for r in reports_raw]\n",
    "len(reports)"
   ]
  },
  {
   "cell_type": "code",
   "execution_count": null,
   "metadata": {},
   "outputs": [],
   "source": [
    "fpath = os.path.join(IU_DIR, 'reports', 'sentences_with_extra_info.csv')\n",
    "df = pd.read_csv(fpath)\n",
    "# df.replace(-2, 0, inplace=True)\n",
    "# df.replace(-1, 1, inplace=True)\n",
    "print(len(df))\n",
    "df.head(2)"
   ]
  },
  {
   "cell_type": "code",
   "execution_count": null,
   "metadata": {},
   "outputs": [],
   "source": [
    "sentence_to_chexpert_labels = {\n",
    "    row['sentence']: row[CHEXPERT_DISEASES].to_numpy().astype(np.uint8).tolist()\n",
    "    for index, row in df.iterrows()\n",
    "}\n",
    "len(sentence_to_chexpert_labels)"
   ]
  },
  {
   "cell_type": "code",
   "execution_count": null,
   "metadata": {},
   "outputs": [],
   "source": [
    "not_found = []\n",
    "positions_and_disease = []\n",
    "\n",
    "for report in reports:\n",
    "    for sentence_position, sentence in enumerate(split_sentences_text(report)):\n",
    "        if sentence not in sentence_to_chexpert_labels:\n",
    "            not_found.append(sentence)\n",
    "            continue\n",
    "        chex = sentence_to_chexpert_labels[sentence]\n",
    "        \n",
    "        for disease, value in zip(CHEXPERT_DISEASES, chex):\n",
    "            if value in (0, 1, -1):\n",
    "                positions_and_disease.append((disease, sentence_position, value))\n",
    "len(positions_and_disease)"
   ]
  },
  {
   "cell_type": "code",
   "execution_count": null,
   "metadata": {},
   "outputs": [],
   "source": [
    "positions_by_disease = defaultdict(list)\n",
    "diseases_by_position = defaultdict(list)\n",
    "for disease, position, value in positions_and_disease:\n",
    "    positions_by_disease[disease].append(position)\n",
    "    diseases_by_position[position].append(disease)\n",
    "len(diseases_by_position), len(positions_by_disease)"
   ]
  },
  {
   "cell_type": "code",
   "execution_count": null,
   "metadata": {},
   "outputs": [],
   "source": [
    "n_subplots = len(CHEXPERT_DISEASES)\n",
    "n_cols = 4\n",
    "n_rows = math.ceil(n_subplots / n_cols)\n",
    "plt.figure(figsize=(5*n_cols, 5*n_rows))\n",
    "\n",
    "for index, disease in enumerate(CHEXPERT_DISEASES):\n",
    "    positions = positions_by_disease[disease]\n",
    "    \n",
    "    plt.subplot(n_rows, n_cols, index+1)\n",
    "    plt.title(disease)\n",
    "    plt.hist(positions)\n",
    "    plt.ylabel('Amount')\n",
    "    plt.xlabel('Position')"
   ]
  },
  {
   "cell_type": "code",
   "execution_count": null,
   "metadata": {},
   "outputs": [],
   "source": [
    "shorten_name = {\n",
    "    'Enlarged Cardiomediastinum': 'EC', 'Cardiomegaly': 'Ca',\n",
    "    'Lung Lesion': 'LL', 'Lung Opacity': 'LO',\n",
    "    'Edema': 'E', 'Consolidation': 'Co',\n",
    "    'Pneumonia': 'Pm', 'Atelectasis': 'A', 'Pneumothorax': 'Pt',\n",
    "    'Pleural Effusion': 'PE', 'Pleural Other': 'PO',\n",
    "    'Fracture': 'F', 'Support Devices': 'SD',\n",
    "}"
   ]
  },
  {
   "cell_type": "code",
   "execution_count": null,
   "metadata": {},
   "outputs": [],
   "source": [
    "max_position = max(diseases_by_position.keys())\n",
    "disease_to_index = {\n",
    "    disease: index\n",
    "    for index, disease in enumerate(CHEXPERT_DISEASES)\n",
    "}\n",
    "\n",
    "n_subplots = len(diseases_by_position)\n",
    "n_cols = 2\n",
    "n_rows = math.ceil(n_subplots / n_cols)\n",
    "plt.figure(figsize=(8*n_cols, 5*n_rows))\n",
    "\n",
    "chosen_diseases = CHEXPERT_DISEASES[1:]\n",
    "chosen_diseases_short = [shorten_name[d] for d in chosen_diseases]\n",
    "\n",
    "for index, position in enumerate(range(max_position)):\n",
    "    diseases = diseases_by_position[position]\n",
    "    \n",
    "    diseases = [\n",
    "        disease_to_index[d] for d in diseases\n",
    "        if d != 'No Finding'\n",
    "    ]\n",
    "    \n",
    "    hist, _ = np.histogram(diseases, bins=13)\n",
    "    amounts_and_disease_names = list(zip(hist, chosen_diseases_short))\n",
    "    amounts_and_disease_names = sorted(amounts_and_disease_names, reverse=True)\n",
    "    amounts, short_names = tuple(zip(*amounts_and_disease_names))\n",
    "\n",
    "    plt.subplot(n_rows, n_cols, index+1)\n",
    "    plt.title(position, fontsize=20)\n",
    "    plt.bar(short_names, amounts)\n",
    "    # plt.hist(diseases, rwidth=0.8, align='left', bins=13)\n",
    "    plt.ylabel('Amount')\n",
    "    plt.xticks(fontsize=16) # rotation=90"
   ]
  },
  {
   "cell_type": "code",
   "execution_count": null,
   "metadata": {},
   "outputs": [],
   "source": [
    "avg_by_disease = Counter()\n",
    "appearances_by_disease = Counter()\n",
    "for disease, position, value in positions_and_disease:\n",
    "    avg_by_disease[disease] += position\n",
    "    appearances_by_disease[disease] += 1\n",
    "    \n",
    "avg_by_disease = [\n",
    "    (value / appearances_by_disease[disease], disease)\n",
    "    for disease, value in avg_by_disease.items()\n",
    "]\n",
    "avg_by_disease = sorted(avg_by_disease, reverse=False)\n",
    "avg_by_disease"
   ]
  },
  {
   "cell_type": "code",
   "execution_count": null,
   "metadata": {},
   "outputs": [],
   "source": [
    "_, diseases_ordered = tuple(zip(*avg_by_disease))\n",
    "diseases_ordered"
   ]
  },
  {
   "cell_type": "markdown",
   "metadata": {},
   "source": [
    "# Debug RG-templates model"
   ]
  },
  {
   "cell_type": "code",
   "execution_count": null,
   "metadata": {},
   "outputs": [],
   "source": [
    "import torch"
   ]
  },
  {
   "cell_type": "code",
   "execution_count": null,
   "metadata": {},
   "outputs": [],
   "source": [
    "%run ../datasets/vocab/__init__.py\n",
    "%run ../utils/nlp.py"
   ]
  },
  {
   "cell_type": "code",
   "execution_count": null,
   "metadata": {},
   "outputs": [],
   "source": [
    "vocab = load_vocab('iu_xray')\n",
    "len(vocab)"
   ]
  },
  {
   "cell_type": "code",
   "execution_count": null,
   "metadata": {},
   "outputs": [],
   "source": [
    "report_reader = ReportReader(vocab)"
   ]
  },
  {
   "cell_type": "code",
   "execution_count": null,
   "metadata": {},
   "outputs": [],
   "source": [
    "%run ../models/report_generation/templates/__init__.py"
   ]
  },
  {
   "cell_type": "code",
   "execution_count": null,
   "metadata": {},
   "outputs": [],
   "source": [
    "ORDER = (\n",
    "        'Cardiomegaly',\n",
    "        'Enlarged Cardiomediastinum',\n",
    "        'Consolidation',\n",
    "        'Lung Opacity',\n",
    "        'Atelectasis',\n",
    "        'Support Devices',\n",
    "        'Pleural Effusion',\n",
    "        'Pleural Other',\n",
    "        'Pneumonia',\n",
    "        'Pneumothorax',\n",
    "        'Edema',\n",
    "        'Lung Lesion',\n",
    "        'Fracture',\n",
    "    )"
   ]
  },
  {
   "cell_type": "code",
   "execution_count": null,
   "metadata": {},
   "outputs": [],
   "source": [
    "model = create_rg_template_model('chex-v1', ACTUAL_DISEASES, vocab, order=ORDER)\n",
    "model"
   ]
  },
  {
   "cell_type": "code",
   "execution_count": null,
   "metadata": {},
   "outputs": [],
   "source": [
    "labels = torch.tensor([[1, 0, 0, 0, 0, 0, 1, 0, 0, 1, 0, 1, 1],\n",
    "                       [1, 1, 0, 1, 0, 0, 1, 0, 0, 1, 1, 1, 0],\n",
    "                      ]).long()\n",
    "labels.size()"
   ]
  },
  {
   "cell_type": "code",
   "execution_count": null,
   "metadata": {},
   "outputs": [],
   "source": [
    "reports = model(labels)\n",
    "[\n",
    "    report_reader.idx_to_text(r)\n",
    "    for r in reports\n",
    "]"
   ]
  },
  {
   "cell_type": "markdown",
   "metadata": {
    "heading_collapsed": true
   },
   "source": [
    "# Debug chexpert-labeler\n",
    "\n",
    "Check that made-up sentences evaluate correctly with chexpert"
   ]
  },
  {
   "cell_type": "code",
   "execution_count": null,
   "metadata": {
    "hidden": true
   },
   "outputs": [],
   "source": [
    "%run ../metrics/report_generation/chexpert.py"
   ]
  },
  {
   "cell_type": "code",
   "execution_count": null,
   "metadata": {
    "hidden": true
   },
   "outputs": [],
   "source": [
    "sentences = [\n",
    "#     'there are pulmonary nodules or mass identified',\n",
    "#     'one or more airspace opacities can be seen',\n",
    "#     'pulmonary edema is seen',\n",
    "#     'there is focal consolidation',\n",
    "#     'there is evidence of pneumonia',\n",
    "#     'no atelectasis',\n",
    "#     'pleural effusion is seen',\n",
    "#     'pleural thickening is present',\n",
    "#     'a fracture is identified',\n",
    "    'a device is seen',\n",
    "]"
   ]
  },
  {
   "cell_type": "code",
   "execution_count": null,
   "metadata": {
    "hidden": true
   },
   "outputs": [],
   "source": [
    "temp_df = pd.DataFrame(sentences, columns=['s'])"
   ]
  },
  {
   "cell_type": "code",
   "execution_count": null,
   "metadata": {
    "hidden": true,
    "scrolled": true
   },
   "outputs": [],
   "source": [
    "labels = apply_labeler_to_column(temp_df, 's')\n",
    "labels"
   ]
  },
  {
   "cell_type": "code",
   "execution_count": null,
   "metadata": {
    "hidden": true
   },
   "outputs": [],
   "source": []
  }
 ],
 "metadata": {
  "kernelspec": {
   "display_name": "Python 3",
   "language": "python",
   "name": "python3"
  },
  "language_info": {
   "codemirror_mode": {
    "name": "ipython",
    "version": 3
   },
   "file_extension": ".py",
   "mimetype": "text/x-python",
   "name": "python",
   "nbconvert_exporter": "python",
   "pygments_lexer": "ipython3",
   "version": "3.6.9"
  },
  "toc": {
   "base_numbering": 1,
   "nav_menu": {},
   "number_sections": true,
   "sideBar": true,
   "skip_h1_title": false,
   "title_cell": "Table of Contents",
   "title_sidebar": "Contents",
   "toc_cell": false,
   "toc_position": {},
   "toc_section_display": true,
   "toc_window_display": false
  }
 },
 "nbformat": 4,
 "nbformat_minor": 4
}
