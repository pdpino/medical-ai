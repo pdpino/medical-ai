{
 "cells": [
  {
   "cell_type": "markdown",
   "metadata": {},
   "source": [
    "# Imports"
   ]
  },
  {
   "cell_type": "code",
   "execution_count": null,
   "metadata": {},
   "outputs": [],
   "source": [
    "import os\n",
    "import json\n",
    "import matplotlib.pyplot as plt"
   ]
  },
  {
   "cell_type": "code",
   "execution_count": null,
   "metadata": {},
   "outputs": [],
   "source": [
    "import matplotlib\n",
    "matplotlib.rcParams['figure.facecolor'] = 'white'"
   ]
  },
  {
   "cell_type": "code",
   "execution_count": null,
   "metadata": {},
   "outputs": [],
   "source": [
    "import pandas as pd\n",
    "pd.options.display.max_columns = None"
   ]
  },
  {
   "cell_type": "code",
   "execution_count": null,
   "metadata": {},
   "outputs": [],
   "source": [
    "%run ../utils/__init__.py\n",
    "%run ../metrics/__init__.py"
   ]
  },
  {
   "cell_type": "code",
   "execution_count": null,
   "metadata": {},
   "outputs": [],
   "source": []
  },
  {
   "cell_type": "markdown",
   "metadata": {},
   "source": [
    "# Functions"
   ]
  },
  {
   "cell_type": "code",
   "execution_count": null,
   "metadata": {},
   "outputs": [],
   "source": [
    "%run ../utils/files.py"
   ]
  },
  {
   "cell_type": "code",
   "execution_count": null,
   "metadata": {},
   "outputs": [],
   "source": [
    "def load_metrics(run_id):\n",
    "    folder = get_results_folder(run_id, assert_exists=True)\n",
    "    filepath = os.path.join(folder, 'metrics.json')\n",
    "    \n",
    "    if not os.path.isfile(filepath):\n",
    "        raise FileNotFoundError(filepath)\n",
    "\n",
    "    with open(filepath, 'r') as f:\n",
    "        return json.load(f)"
   ]
  },
  {
   "cell_type": "code",
   "execution_count": null,
   "metadata": {},
   "outputs": [],
   "source": [
    "def load_outputs_csv(run_id):\n",
    "    folder = get_results_folder(run_id, assert_exists=True)\n",
    "    filepath = os.path.join(folder, 'outputs.csv')\n",
    "    \n",
    "    if not os.path.isfile(filepath):\n",
    "        raise FileNotFoundError(filepath)\n",
    "    \n",
    "    return pd.read_csv(filepath)"
   ]
  },
  {
   "cell_type": "code",
   "execution_count": null,
   "metadata": {},
   "outputs": [],
   "source": []
  },
  {
   "cell_type": "markdown",
   "metadata": {},
   "source": [
    "# Compare multiple models"
   ]
  },
  {
   "cell_type": "code",
   "execution_count": null,
   "metadata": {},
   "outputs": [],
   "source": [
    "from collections import defaultdict\n",
    "import re"
   ]
  },
  {
   "cell_type": "code",
   "execution_count": null,
   "metadata": {},
   "outputs": [],
   "source": [
    "%run ../datasets/common/__init__.py\n",
    "%run ../utils/plots.py"
   ]
  },
  {
   "cell_type": "code",
   "execution_count": null,
   "metadata": {},
   "outputs": [],
   "source": [
    "DISEASES = CXR14_DISEASES\n",
    "# DISEASES = VINBIG_DISEASES\n",
    "len(DISEASES)"
   ]
  },
  {
   "cell_type": "markdown",
   "metadata": {
    "heading_collapsed": true
   },
   "source": [
    "## Load metadata"
   ]
  },
  {
   "cell_type": "code",
   "execution_count": null,
   "metadata": {
    "hidden": true
   },
   "outputs": [],
   "source": [
    "%run ../models/checkpoint/__init__.py\n",
    "%run ../utils/files.py"
   ]
  },
  {
   "cell_type": "code",
   "execution_count": null,
   "metadata": {
    "hidden": true
   },
   "outputs": [],
   "source": [
    "# run_name = '0201_180839_cxr14_tfs-small_lr0.0001_normS_size256_sch-roc_auc-p5-f0.1_noes'\n",
    "run_name = '0309_215826'\n",
    "debug_run = False"
   ]
  },
  {
   "cell_type": "code",
   "execution_count": null,
   "metadata": {
    "hidden": true
   },
   "outputs": [],
   "source": [
    "meta = load_metadata(RunId(run_name, debug_run, task='rg'))\n",
    "meta"
   ]
  },
  {
   "cell_type": "code",
   "execution_count": null,
   "metadata": {
    "hidden": true
   },
   "outputs": [],
   "source": [
    "meta['hparams']"
   ]
  },
  {
   "cell_type": "code",
   "execution_count": null,
   "metadata": {
    "hidden": true
   },
   "outputs": [],
   "source": [
    "load_metadata(RunId('0123_174651', debug=False, task='cls'))"
   ]
  },
  {
   "cell_type": "code",
   "execution_count": null,
   "metadata": {
    "hidden": true
   },
   "outputs": [],
   "source": []
  },
  {
   "cell_type": "code",
   "execution_count": null,
   "metadata": {
    "hidden": true
   },
   "outputs": [],
   "source": []
  },
  {
   "cell_type": "markdown",
   "metadata": {
    "heading_collapsed": true
   },
   "source": [
    "## CMs"
   ]
  },
  {
   "cell_type": "code",
   "execution_count": null,
   "metadata": {
    "hidden": true
   },
   "outputs": [],
   "source": [
    "# TODO: implement for multiple dataset_types at the same time (see function below)\n",
    "# FIXME: update for RunId stuff\n",
    "\n",
    "def plot_cms_multiple_runs(run_names, dataset_type='train', percentage=False):\n",
    "    errors = defaultdict(list)\n",
    "\n",
    "    n_runs = len(run_names)\n",
    "    n_diseases = len(diseases)\n",
    "\n",
    "    plt.figure(figsize=(n_runs*5, n_diseases * 3))\n",
    "\n",
    "    for i_run, run_name in enumerate(run_names):\n",
    "        results = load_metrics(run_name)      \n",
    "\n",
    "        # for dataset_type in dataset_types:\n",
    "        if dataset_type not in results:\n",
    "            errors['dataset-type-not-found'].append(run_name)\n",
    "            continue\n",
    "\n",
    "        metrics = results[dataset_type]\n",
    "\n",
    "        for i_disease, disease in enumerate(diseases):\n",
    "            key = f'cm_{disease}'\n",
    "            if key not in metrics:\n",
    "                errors[f'{key}-not-in-metrics'].append(run_name)\n",
    "                continue\n",
    "\n",
    "            cm = metrics[key]\n",
    "\n",
    "            subplt_index = n_runs * i_disease + i_run + 1\n",
    "            plt.subplot(n_diseases, n_runs, subplt_index)\n",
    "\n",
    "            title = shorten_run_name(run_name) if i_disease == 0 else None\n",
    "            plot_cm(cm, title=title, percentage=percentage,\n",
    "                    xlabel=(i_disease == n_diseases-1),\n",
    "                    ylabel=False,\n",
    "                   )\n",
    "            plt.ylabel(disease)\n",
    "\n",
    "\n",
    "        print(run_name)\n",
    "    print(f'Dataset type: {dataset_type}')\n",
    "    \n",
    "    n_errors = sum(v for v in errors.values())\n",
    "    if n_errors > 0:\n",
    "        print('Errors: ', {k: len(v) for k, v in errors.items()})"
   ]
  },
  {
   "cell_type": "code",
   "execution_count": null,
   "metadata": {
    "hidden": true
   },
   "outputs": [],
   "source": [
    "run_names = [\n",
    "#     '0123_174651_cxr14_mobilenet-v2_lr0.0001_hint_normS_size256_sch-roc_auc-p5-f0.1_noes',\n",
    "    '0125_211742_cxr14_densenet-121-v2_lr0.0001_hint_normS_size200_sch-roc_auc-p5-f0.1_noes',\n",
    "#     '0128_092013_cxr14-clahe_densenet-121-v2_lr0.0001_normS_size256_sch-roc_auc-p5-f0.1_noes',\n",
    "#     '0128_165641_cxr14-clahe_densenet-121-v2_lr0.0001_hint_normS_size200_sch-roc_auc-p5-f0.1_noes',\n",
    "    '0129_150255_cxr14_densenet-121-v2_lr0.0001_hint_balance_normS_size200_sch-roc_auc-p5-f0.1_noes',\n",
    "    '0129_150753_cxr14_densenet-121-v2_lr0.0001_balance_normS_size256_sch-roc_auc-p5-f0.1_noes',\n",
    "]"
   ]
  },
  {
   "cell_type": "code",
   "execution_count": null,
   "metadata": {
    "hidden": true
   },
   "outputs": [],
   "source": [
    "plot_cms_multiple_runs(run_names, 'test', percentage=True)"
   ]
  },
  {
   "cell_type": "code",
   "execution_count": null,
   "metadata": {
    "hidden": true
   },
   "outputs": [],
   "source": []
  },
  {
   "cell_type": "markdown",
   "metadata": {},
   "source": [
    "## Prediction distribution"
   ]
  },
  {
   "cell_type": "markdown",
   "metadata": {},
   "source": [
    "### Functions"
   ]
  },
  {
   "cell_type": "code",
   "execution_count": null,
   "metadata": {},
   "outputs": [],
   "source": [
    "def plot_distributions(run_ids, dataset_types='test', density=True):\n",
    "    # FIXME: load this from the metadata?\n",
    "    diseases = list(DISEASES)\n",
    "    \n",
    "    if isinstance(dataset_types, str):\n",
    "        dataset_types = (dataset_types,)\n",
    "    \n",
    "    n_diseases = len(diseases)\n",
    "    n_runs = len(run_ids)\n",
    "    n_dtypes = len(dataset_types)\n",
    "    \n",
    "    n_rows = n_diseases\n",
    "    n_cols = n_runs * n_dtypes\n",
    "    \n",
    "    plt.figure(figsize=((n_runs*n_dtypes)*5, n_diseases*3))\n",
    "    \n",
    "    # To set y_lim the same for horizontal neighbors:\n",
    "    max_upper_y_by_disease = np.zeros(len(diseases))\n",
    "    axes_by_disease = {i: [] for i in range(len(diseases))}\n",
    "    \n",
    "    for i_run, run_id in enumerate(run_ids):\n",
    "        df = load_outputs_csv(run_id)\n",
    "        metrics = load_metrics(run_id)\n",
    "        \n",
    "        print(run_id.name)\n",
    "        \n",
    "        # Print metrics\n",
    "        for dataset_type in metrics.keys():\n",
    "            sub_metrics = metrics[dataset_type]\n",
    "            macro_roc_auc = sub_metrics.get('roc_auc', -1)\n",
    "            print(f'\\t{dataset_type}: roc-auc={macro_roc_auc:.2f}')\n",
    "        \n",
    "        for i_dtype, dataset_type in enumerate(dataset_types):\n",
    "            sub_df = df[df['dataset_type'] == dataset_type]\n",
    "            sub_metrics = metrics.get(dataset_type, {})\n",
    "    \n",
    "            upper_y_by_disease = []\n",
    "            for i_disease, disease in enumerate(diseases):\n",
    "                gt_col = f'{disease}-gt'\n",
    "                pred_col = f'{disease}-pred'\n",
    "                cols = [gt_col, pred_col]\n",
    "\n",
    "                if gt_col not in sub_df.columns:\n",
    "                    continue\n",
    "                \n",
    "                disease_df = sub_df[cols]\n",
    "\n",
    "                pos_samples = disease_df[disease_df[gt_col] == 1][pred_col]\n",
    "                neg_samples = disease_df[disease_df[gt_col] == 0][pred_col]\n",
    "\n",
    "                # Plot\n",
    "                subplt_index = (n_runs * n_dtypes) * i_disease + i_run * n_dtypes + i_dtype + 1\n",
    "                plt.subplot(n_rows, n_cols, subplt_index)\n",
    "\n",
    "                if i_disease == 0: plt.title(f'{run_id.short_name} ({dataset_type})')\n",
    "\n",
    "                plt.hist(pos_samples, fc=(1, 0, 0, 0.4), label='pos', density=density)\n",
    "                plt.hist(neg_samples, fc=(0, 0, 1, 0.4), label='neg', density=density)\n",
    "\n",
    "                if i_disease == n_diseases-1: plt.xlabel('Prediction value')\n",
    "                \n",
    "                roc_auc = sub_metrics.get(f'roc_auc_{disease}')\n",
    "                # plt.ylabel(f'{disease[:6]} ={roc_auc:.2f}', fontsize=16)\n",
    "                plt.ylabel(disease, fontsize=16)\n",
    "                plt.annotate(f'{roc_auc:.2f}', (0.5, 0.95),\n",
    "                             xycoords='axes fraction',\n",
    "                             fontsize=20, va='top', ha='center',\n",
    "                            )\n",
    "\n",
    "                # plt.legend()\n",
    "                \n",
    "                # To set ylims for horizontal neighbors:\n",
    "                current_axes = plt.gca()\n",
    "                _, upper_y = current_axes.get_ylim()\n",
    "                upper_y_by_disease.append(upper_y)\n",
    "                axes_by_disease[i_disease].append(current_axes)\n",
    "\n",
    "            max_upper_y_by_disease = np.maximum(max_upper_y_by_disease, upper_y_by_disease)\n",
    "            \n",
    "            \n",
    "    # Correctly set ylims\n",
    "    for i_disease in range(len(diseases)):\n",
    "        upper_y = max_upper_y_by_disease[i_disease]\n",
    "        axes = axes_by_disease[i_disease]\n",
    "        \n",
    "        for ax in axes:\n",
    "            ax.set_ylim(0, upper_y)"
   ]
  },
  {
   "cell_type": "markdown",
   "metadata": {},
   "source": [
    "### Compare runs"
   ]
  },
  {
   "cell_type": "code",
   "execution_count": null,
   "metadata": {},
   "outputs": [],
   "source": [
    "run_ids = [\n",
    "# '1215_174443_cxr14_resnet-50-v2_lr0.0001_os_Cardiomegaly_normS_size256_sch-roc_auc-p5-f0.1',\n",
    "# '0125_211742_cxr14_densenet-121-v2_lr0.0001_hint_normS_size200_sch-roc_auc-p5-f0.1_noes',\n",
    "# '0201_180839_cxr14_tfs-small_lr0.0001_normS_size256_sch-roc_auc-p5-f0.1_noes',\n",
    "# '0203_163918_cxr14_tiny-densenet_lr0.0001_gavg_aug-No-Finding-cls0_normS_size256_sch-roc_auc-p3-f0.1',\n",
    "# '0203_185555_cxr14_tiny-densenet_lr0.0001_hint_gavg_normS_size256_sch-roc_auc-p3-f0.1',\n",
    "\n",
    "# Small examples:\n",
    "# '0222_230258',\n",
    "# '0219_175036',\n",
    "    \n",
    "# Balance examples:\n",
    "# '0201_180818_cxr14_tfs-small_lr0.0001_balance_normS_size256_sch-roc_auc-p5-f0.1_noes',\n",
    "# '0201_143527_cxr14_mobilenet-v2_lr0.0001_noig_balance_normS_size256_sch-roc_auc-p5-f0.1_noes',\n",
    "\n",
    "# Bad examples:\n",
    "# '0202_164454_cxr14_tiny-densenet_lr0.0001_normS_size256_sch-roc_auc-p5-f0.1',\n",
    "    \n",
    "    # Good examples:\n",
    "#     RunId('0317_110119', debug=False, task='cls'),\n",
    "#     RunId('0318_154252', debug=False, task='cls'),\n",
    "#     RunId('0406_003450', debug=False, task='cls-seg'),\n",
    "\n",
    "    # Previous best:\n",
    "    # RunId('0123_174651', debug=False, task='cls'),\n",
    "    \n",
    "    # Best CL:\n",
    "    # RunId('0311_101753', debug=False, task='cls'),\n",
    "    # RunId('0410_145310', debug=False, task='cls'),\n",
    "    # RunId('0413_174536', debug=False, task='cls'),\n",
    "    \n",
    "    # Best CLS-SEG (better than CLS):\n",
    "    RunId('0402_062551', debug=False, task='cls-seg'),\n",
    "    # RunId('0415_032125', debug=False, task='cls-seg'), # augmentation\n",
    "    RunId('0422_163242', debug=False, task='cls-seg'),\n",
    "    \n",
    "    # RunId('0422_002431', debug=False, task='cls-seg'),\n",
    "    # RunId('0423_033202', debug=False, task='cls-seg'),\n",
    "]"
   ]
  },
  {
   "cell_type": "code",
   "execution_count": null,
   "metadata": {},
   "outputs": [],
   "source": [
    "plot_distributions(run_ids, ('train', 'val'))"
   ]
  },
  {
   "cell_type": "code",
   "execution_count": null,
   "metadata": {},
   "outputs": [],
   "source": []
  },
  {
   "cell_type": "markdown",
   "metadata": {
    "heading_collapsed": "true"
   },
   "source": [
    "# Covid examples"
   ]
  },
  {
   "cell_type": "code",
   "execution_count": null,
   "metadata": {},
   "outputs": [],
   "source": [
    "LABELS = ['covid', 'non-c', 'normal']"
   ]
  },
  {
   "cell_type": "markdown",
   "metadata": {},
   "source": [
    "## Example 1: Covid-UC, size 512, frontal only"
   ]
  },
  {
   "cell_type": "code",
   "execution_count": null,
   "metadata": {},
   "outputs": [],
   "source": [
    "results = load_results('0717_120222_covid-x_densenet-121_lr1e-06_os_aug-covid', 'covid-uc_size512_frontal')\n",
    "list(zip(*results))[0]"
   ]
  },
  {
   "cell_type": "code",
   "execution_count": null,
   "metadata": {},
   "outputs": [],
   "source": [
    "result = results[0][1]\n",
    "result"
   ]
  },
  {
   "cell_type": "code",
   "execution_count": null,
   "metadata": {},
   "outputs": [],
   "source": [
    "cm = result['all']['cm']"
   ]
  },
  {
   "cell_type": "code",
   "execution_count": null,
   "metadata": {},
   "outputs": [],
   "source": [
    "fig = plt.figure()\n",
    "fig.patch.set_facecolor('white')\n",
    "\n",
    "plot_cm(cm, labels=LABELS, title='Trained on Covid-X (frontal only)', percentage=False)"
   ]
  },
  {
   "cell_type": "markdown",
   "metadata": {},
   "source": [
    "## Example 2: Covid-X + Covid-UC"
   ]
  },
  {
   "cell_type": "code",
   "execution_count": null,
   "metadata": {},
   "outputs": [],
   "source": [
    "results = load_results('0722_201835_covid-uc_densenet-121_lr0.0001_os-max10_aug_pre-covid-x')\n",
    "list(zip(*results))[0]"
   ]
  },
  {
   "cell_type": "code",
   "execution_count": null,
   "metadata": {},
   "outputs": [],
   "source": [
    "cm = results[0][1]['val']['cm']"
   ]
  },
  {
   "cell_type": "code",
   "execution_count": null,
   "metadata": {},
   "outputs": [],
   "source": [
    "fig = plt.figure()\n",
    "fig.patch.set_facecolor('white')\n",
    "\n",
    "plot_cm(cm, labels=LABELS, title='Trained on Covid-X + UC', percentage=False)"
   ]
  },
  {
   "cell_type": "code",
   "execution_count": null,
   "metadata": {},
   "outputs": [],
   "source": []
  },
  {
   "cell_type": "markdown",
   "metadata": {},
   "source": [
    "## Example 3"
   ]
  },
  {
   "cell_type": "code",
   "execution_count": null,
   "metadata": {},
   "outputs": [],
   "source": [
    "results = load_results('0722_193534_covid-uc_densenet-121_lr0.0001_os-max10_aug_size256')\n",
    "list(zip(*results))[0]"
   ]
  },
  {
   "cell_type": "code",
   "execution_count": null,
   "metadata": {},
   "outputs": [],
   "source": [
    "cm = results[0][1]['val']['cm']"
   ]
  },
  {
   "cell_type": "code",
   "execution_count": null,
   "metadata": {},
   "outputs": [],
   "source": [
    "fig = plt.figure()\n",
    "fig.patch.set_facecolor('white')\n",
    "\n",
    "plot_cm(cm, labels=LABELS, title='Trained on Covid-UC', percentage=False)"
   ]
  },
  {
   "cell_type": "code",
   "execution_count": null,
   "metadata": {},
   "outputs": [],
   "source": []
  },
  {
   "cell_type": "markdown",
   "metadata": {},
   "source": [
    "## Example 4: winner"
   ]
  },
  {
   "cell_type": "code",
   "execution_count": null,
   "metadata": {},
   "outputs": [],
   "source": [
    "results = load_results('0717_120222_covid-x_densenet-121_lr1e-06_os_aug-covid')\n",
    "list(zip(*results))[0]"
   ]
  },
  {
   "cell_type": "code",
   "execution_count": null,
   "metadata": {},
   "outputs": [],
   "source": [
    "cm = results[0][1]['test']['cm']"
   ]
  },
  {
   "cell_type": "code",
   "execution_count": null,
   "metadata": {},
   "outputs": [],
   "source": [
    "plot_cm(cm, labels=['covid', 'pneumonia', 'normal'], title='Covid-X', percentage=False)"
   ]
  },
  {
   "cell_type": "code",
   "execution_count": null,
   "metadata": {},
   "outputs": [],
   "source": []
  },
  {
   "cell_type": "code",
   "execution_count": null,
   "metadata": {},
   "outputs": [],
   "source": []
  },
  {
   "cell_type": "code",
   "execution_count": null,
   "metadata": {},
   "outputs": [],
   "source": []
  }
 ],
 "metadata": {
  "kernelspec": {
   "display_name": "Python 3",
   "language": "python",
   "name": "python3"
  },
  "language_info": {
   "codemirror_mode": {
    "name": "ipython",
    "version": 3
   },
   "file_extension": ".py",
   "mimetype": "text/x-python",
   "name": "python",
   "nbconvert_exporter": "python",
   "pygments_lexer": "ipython3",
   "version": "3.6.9"
  },
  "toc": {
   "base_numbering": 1,
   "nav_menu": {},
   "number_sections": true,
   "sideBar": true,
   "skip_h1_title": false,
   "title_cell": "Table of Contents",
   "title_sidebar": "Contents",
   "toc_cell": false,
   "toc_position": {},
   "toc_section_display": true,
   "toc_window_display": false
  }
 },
 "nbformat": 4,
 "nbformat_minor": 4
}
