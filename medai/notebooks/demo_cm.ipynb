{
 "cells": [
  {
   "cell_type": "markdown",
   "metadata": {},
   "source": [
    "# Imports"
   ]
  },
  {
   "cell_type": "code",
   "execution_count": null,
   "metadata": {},
   "outputs": [],
   "source": [
    "import os\n",
    "import json\n",
    "import matplotlib.pyplot as plt"
   ]
  },
  {
   "cell_type": "code",
   "execution_count": null,
   "metadata": {},
   "outputs": [],
   "source": [
    "import matplotlib\n",
    "matplotlib.rcParams['figure.facecolor'] = 'white'"
   ]
  },
  {
   "cell_type": "code",
   "execution_count": null,
   "metadata": {},
   "outputs": [],
   "source": [
    "import pandas as pd\n",
    "pd.options.display.max_columns = None"
   ]
  },
  {
   "cell_type": "code",
   "execution_count": null,
   "metadata": {},
   "outputs": [],
   "source": [
    "%run ../utils/__init__.py\n",
    "%run ../metrics/__init__.py"
   ]
  },
  {
   "cell_type": "code",
   "execution_count": null,
   "metadata": {},
   "outputs": [],
   "source": []
  },
  {
   "cell_type": "markdown",
   "metadata": {},
   "source": [
    "# Functions"
   ]
  },
  {
   "cell_type": "code",
   "execution_count": null,
   "metadata": {},
   "outputs": [],
   "source": [
    "%run ../utils/files.py"
   ]
  },
  {
   "cell_type": "code",
   "execution_count": null,
   "metadata": {},
   "outputs": [],
   "source": [
    "TASK = 'cls'"
   ]
  },
  {
   "cell_type": "code",
   "execution_count": null,
   "metadata": {},
   "outputs": [],
   "source": [
    "TASK_FOLDER = _get_task_folder(TASK)\n",
    "BASE_FOLDER = os.path.join(WORKSPACE_DIR, TASK_FOLDER)\n",
    "RESULTS_FOLDER = os.path.join(BASE_FOLDER, 'results')"
   ]
  },
  {
   "cell_type": "code",
   "execution_count": null,
   "metadata": {},
   "outputs": [],
   "source": [
    "def load_results_deprecated(run_name, additional=None):\n",
    "    all_results = []\n",
    "\n",
    "    folder = os.path.join(RESULTS_FOLDER, run_name)\n",
    "\n",
    "    for filename in os.listdir(folder):\n",
    "        filepath = os.path.join(folder, filename)\n",
    "\n",
    "        if not os.path.isfile(filepath):\n",
    "            continue\n",
    "            \n",
    "        if additional and additional not in filename:\n",
    "            continue\n",
    "\n",
    "        with open(filepath, 'r') as f:\n",
    "            results = json.load(f)\n",
    "\n",
    "        additional_name = filename.replace('metrics', '').replace('.json', '')\n",
    "        all_results.append((additional_name, results))\n",
    "\n",
    "    return all_results"
   ]
  },
  {
   "cell_type": "code",
   "execution_count": null,
   "metadata": {},
   "outputs": [],
   "source": [
    "def load_metrics(run_name):\n",
    "    filepath = os.path.join(RESULTS_FOLDER, run_name, 'metrics.json')\n",
    "    \n",
    "    if not os.path.isfile(filepath):\n",
    "        raise FileNotFoundError(filepath)\n",
    "\n",
    "    with open(filepath, 'r') as f:\n",
    "        return json.load(f)"
   ]
  },
  {
   "cell_type": "code",
   "execution_count": null,
   "metadata": {},
   "outputs": [],
   "source": [
    "def load_outputs_csv(run_name):\n",
    "    filepath = os.path.join(RESULTS_FOLDER, run_name, 'outputs.csv')\n",
    "    \n",
    "    if not os.path.isfile(filepath):\n",
    "        raise FileNotFoundError(filepath)\n",
    "    \n",
    "    return pd.read_csv(filepath)"
   ]
  },
  {
   "cell_type": "code",
   "execution_count": null,
   "metadata": {},
   "outputs": [],
   "source": []
  },
  {
   "cell_type": "code",
   "execution_count": null,
   "metadata": {},
   "outputs": [],
   "source": []
  },
  {
   "cell_type": "markdown",
   "metadata": {},
   "source": [
    "# Compare multiple models"
   ]
  },
  {
   "cell_type": "code",
   "execution_count": null,
   "metadata": {},
   "outputs": [],
   "source": [
    "from collections import defaultdict\n",
    "import re"
   ]
  },
  {
   "cell_type": "code",
   "execution_count": null,
   "metadata": {},
   "outputs": [],
   "source": [
    "%run ../datasets/common/__init__.py\n",
    "%run ../utils/plots.py"
   ]
  },
  {
   "cell_type": "code",
   "execution_count": null,
   "metadata": {},
   "outputs": [],
   "source": [
    "DISEASES = CXR14_DISEASES\n",
    "len(DISEASES)"
   ]
  },
  {
   "cell_type": "code",
   "execution_count": null,
   "metadata": {},
   "outputs": [],
   "source": [
    "def shorten_run_name(run_name):\n",
    "    group = re.search(r'\\d{4}_\\d{6}', run_name)\n",
    "    return group[0]"
   ]
  },
  {
   "cell_type": "markdown",
   "metadata": {
    "heading_collapsed": true
   },
   "source": [
    "## Load metadata"
   ]
  },
  {
   "cell_type": "code",
   "execution_count": null,
   "metadata": {
    "hidden": true
   },
   "outputs": [],
   "source": [
    "%run ../models/checkpoint/__init__.py"
   ]
  },
  {
   "cell_type": "code",
   "execution_count": null,
   "metadata": {
    "hidden": true
   },
   "outputs": [],
   "source": [
    "run_name = '0201_180839_cxr14_tfs-small_lr0.0001_normS_size256_sch-roc_auc-p5-f0.1_noes'\n",
    "debug_run = False"
   ]
  },
  {
   "cell_type": "code",
   "execution_count": null,
   "metadata": {
    "hidden": true
   },
   "outputs": [],
   "source": [
    "meta = load_metadata(run_name, task='cls', debug=debug_run)\n",
    "meta"
   ]
  },
  {
   "cell_type": "code",
   "execution_count": null,
   "metadata": {
    "hidden": true
   },
   "outputs": [],
   "source": []
  },
  {
   "cell_type": "code",
   "execution_count": null,
   "metadata": {
    "hidden": true
   },
   "outputs": [],
   "source": []
  },
  {
   "cell_type": "markdown",
   "metadata": {
    "heading_collapsed": true
   },
   "source": [
    "## CMs"
   ]
  },
  {
   "cell_type": "code",
   "execution_count": null,
   "metadata": {
    "hidden": true
   },
   "outputs": [],
   "source": [
    "# TODO: implement for multiple dataset_types at the same time (see function below)\n",
    "\n",
    "def plot_cms_multiple_runs(run_names, dataset_type='train', percentage=False):\n",
    "    errors = defaultdict(list)\n",
    "\n",
    "    n_runs = len(run_names)\n",
    "    n_diseases = len(diseases)\n",
    "\n",
    "    plt.figure(figsize=(n_runs*5, n_diseases * 3))\n",
    "\n",
    "    for i_run, run_name in enumerate(run_names):\n",
    "        results = load_metrics(run_name)      \n",
    "\n",
    "        # for dataset_type in dataset_types:\n",
    "        if dataset_type not in results:\n",
    "            errors['dataset-type-not-found'].append(run_name)\n",
    "            continue\n",
    "\n",
    "        metrics = results[dataset_type]\n",
    "\n",
    "        for i_disease, disease in enumerate(diseases):\n",
    "            key = f'cm_{disease}'\n",
    "            if key not in metrics:\n",
    "                errors[f'{key}-not-in-metrics'].append(run_name)\n",
    "                continue\n",
    "\n",
    "            cm = metrics[key]\n",
    "\n",
    "            subplt_index = n_runs * i_disease + i_run + 1\n",
    "            plt.subplot(n_diseases, n_runs, subplt_index)\n",
    "\n",
    "            title = shorten_run_name(run_name) if i_disease == 0 else None\n",
    "            plot_cm(cm, title=title, percentage=percentage,\n",
    "                    xlabel=(i_disease == n_diseases-1),\n",
    "                    ylabel=False,\n",
    "                   )\n",
    "            plt.ylabel(disease)\n",
    "\n",
    "\n",
    "        print(run_name)\n",
    "    print(f'Dataset type: {dataset_type}')\n",
    "    \n",
    "    n_errors = sum(v for v in errors.values())\n",
    "    if n_errors > 0:\n",
    "        print('Errors: ', {k: len(v) for k, v in errors.items()})"
   ]
  },
  {
   "cell_type": "code",
   "execution_count": null,
   "metadata": {
    "hidden": true
   },
   "outputs": [],
   "source": [
    "run_names = [\n",
    "#     '0123_174651_cxr14_mobilenet-v2_lr0.0001_hint_normS_size256_sch-roc_auc-p5-f0.1_noes',\n",
    "    '0125_211742_cxr14_densenet-121-v2_lr0.0001_hint_normS_size200_sch-roc_auc-p5-f0.1_noes',\n",
    "#     '0128_092013_cxr14-clahe_densenet-121-v2_lr0.0001_normS_size256_sch-roc_auc-p5-f0.1_noes',\n",
    "#     '0128_165641_cxr14-clahe_densenet-121-v2_lr0.0001_hint_normS_size200_sch-roc_auc-p5-f0.1_noes',\n",
    "    '0129_150255_cxr14_densenet-121-v2_lr0.0001_hint_balance_normS_size200_sch-roc_auc-p5-f0.1_noes',\n",
    "    '0129_150753_cxr14_densenet-121-v2_lr0.0001_balance_normS_size256_sch-roc_auc-p5-f0.1_noes',\n",
    "]"
   ]
  },
  {
   "cell_type": "code",
   "execution_count": null,
   "metadata": {
    "hidden": true
   },
   "outputs": [],
   "source": [
    "plot_cms_multiple_runs(run_names, 'test', percentage=True)"
   ]
  },
  {
   "cell_type": "code",
   "execution_count": null,
   "metadata": {
    "hidden": true
   },
   "outputs": [],
   "source": []
  },
  {
   "cell_type": "markdown",
   "metadata": {},
   "source": [
    "## Prediction distribution"
   ]
  },
  {
   "cell_type": "code",
   "execution_count": null,
   "metadata": {},
   "outputs": [],
   "source": [
    "def plot_distributions(run_names, dataset_types='test', density=True):\n",
    "    diseases = list(CXR14_DISEASES) # For other datasets, this should be changed\n",
    "    \n",
    "    if isinstance(dataset_types, str):\n",
    "        dataset_types = (dataset_types,)\n",
    "    \n",
    "    n_diseases = len(diseases)\n",
    "    n_runs = len(run_names)\n",
    "    n_dtypes = len(dataset_types)\n",
    "    \n",
    "    n_rows = n_diseases\n",
    "    n_cols = n_runs * n_dtypes\n",
    "    \n",
    "    plt.figure(figsize=((n_runs*n_dtypes)*5, n_diseases*3))\n",
    "    \n",
    "    for i_run, run_name in enumerate(run_names):\n",
    "        df = load_outputs_csv(run_name)\n",
    "        metrics = load_metrics(run_name)\n",
    "        \n",
    "        print(run_name)\n",
    "        \n",
    "        for i_dtype, dataset_type in enumerate(dataset_types):\n",
    "            sub_df = df[df['dataset_type'] == dataset_type]\n",
    "            sub_metrics = metrics.get(dataset_type, {})\n",
    "    \n",
    "            for i_disease, disease in enumerate(diseases):\n",
    "                gt_col = f'{disease}-gt'\n",
    "                pred_col = f'{disease}-pred'\n",
    "                cols = [gt_col, pred_col]\n",
    "\n",
    "                disease_df = sub_df[cols]\n",
    "\n",
    "                pos_samples = disease_df[disease_df[gt_col] == 1][pred_col]\n",
    "                neg_samples = disease_df[disease_df[gt_col] == 0][pred_col]\n",
    "\n",
    "\n",
    "                # Plot\n",
    "                subplt_index = (n_runs * n_dtypes) * i_disease + i_run * n_dtypes + i_dtype + 1\n",
    "                plt.subplot(n_rows, n_cols, subplt_index)\n",
    "\n",
    "                if i_disease == 0: plt.title(f'{shorten_run_name(run_name)} ({dataset_type})')\n",
    "\n",
    "                plt.hist(pos_samples, fc=(1, 0, 0, 0.4), label='pos', density=density)\n",
    "                plt.hist(neg_samples, fc=(0, 0, 1, 0.4), label='neg', density=density)\n",
    "\n",
    "                if i_disease == n_diseases-1: plt.xlabel('Prediction value')\n",
    "                \n",
    "                roc_auc = sub_metrics.get(f'roc_auc_{disease}')\n",
    "                plt.ylabel(f'{disease} (ROC-AUC={roc_auc:.2f})')\n",
    "\n",
    "                plt.legend()"
   ]
  },
  {
   "cell_type": "code",
   "execution_count": null,
   "metadata": {},
   "outputs": [],
   "source": [
    "run_names = [\n",
    "    # '0201_180839_cxr14_tfs-small_lr0.0001_normS_size256_sch-roc_auc-p5-f0.1_noes',\n",
    "    # '0201_180818_cxr14_tfs-small_lr0.0001_balance_normS_size256_sch-roc_auc-p5-f0.1_noes',\n",
    "    '0123_174651_cxr14_mobilenet-v2_lr0.0001_hint_normS_size256_sch-roc_auc-p5-f0.1_noes',\n",
    "    # '0201_143527_cxr14_mobilenet-v2_lr0.0001_noig_balance_normS_size256_sch-roc_auc-p5-f0.1_noes',\n",
    "    '0202_164454_cxr14_tiny-densenet_lr0.0001_normS_size256_sch-roc_auc-p5-f0.1',\n",
    "]"
   ]
  },
  {
   "cell_type": "code",
   "execution_count": null,
   "metadata": {},
   "outputs": [],
   "source": [
    "plot_distributions(run_names, ('train', 'val'))"
   ]
  },
  {
   "cell_type": "code",
   "execution_count": null,
   "metadata": {},
   "outputs": [],
   "source": []
  },
  {
   "cell_type": "code",
   "execution_count": null,
   "metadata": {},
   "outputs": [],
   "source": []
  },
  {
   "cell_type": "code",
   "execution_count": null,
   "metadata": {},
   "outputs": [],
   "source": []
  },
  {
   "cell_type": "code",
   "execution_count": null,
   "metadata": {},
   "outputs": [],
   "source": []
  },
  {
   "cell_type": "code",
   "execution_count": null,
   "metadata": {},
   "outputs": [],
   "source": []
  },
  {
   "cell_type": "code",
   "execution_count": null,
   "metadata": {},
   "outputs": [],
   "source": []
  },
  {
   "cell_type": "markdown",
   "metadata": {
    "heading_collapsed": "true"
   },
   "source": [
    "# Covid examples"
   ]
  },
  {
   "cell_type": "code",
   "execution_count": null,
   "metadata": {},
   "outputs": [],
   "source": [
    "LABELS = ['covid', 'non-c', 'normal']"
   ]
  },
  {
   "cell_type": "markdown",
   "metadata": {},
   "source": [
    "## Example 1: Covid-UC, size 512, frontal only"
   ]
  },
  {
   "cell_type": "code",
   "execution_count": null,
   "metadata": {},
   "outputs": [],
   "source": [
    "results = load_results('0717_120222_covid-x_densenet-121_lr1e-06_os_aug-covid', 'covid-uc_size512_frontal')\n",
    "list(zip(*results))[0]"
   ]
  },
  {
   "cell_type": "code",
   "execution_count": null,
   "metadata": {},
   "outputs": [],
   "source": [
    "result = results[0][1]\n",
    "result"
   ]
  },
  {
   "cell_type": "code",
   "execution_count": null,
   "metadata": {},
   "outputs": [],
   "source": [
    "cm = result['all']['cm']"
   ]
  },
  {
   "cell_type": "code",
   "execution_count": null,
   "metadata": {},
   "outputs": [],
   "source": [
    "fig = plt.figure()\n",
    "fig.patch.set_facecolor('white')\n",
    "\n",
    "plot_cm(cm, labels=LABELS, title='Trained on Covid-X (frontal only)', percentage=False)"
   ]
  },
  {
   "cell_type": "markdown",
   "metadata": {},
   "source": [
    "## Example 2: Covid-X + Covid-UC"
   ]
  },
  {
   "cell_type": "code",
   "execution_count": null,
   "metadata": {},
   "outputs": [],
   "source": [
    "results = load_results('0722_201835_covid-uc_densenet-121_lr0.0001_os-max10_aug_pre-covid-x')\n",
    "list(zip(*results))[0]"
   ]
  },
  {
   "cell_type": "code",
   "execution_count": null,
   "metadata": {},
   "outputs": [],
   "source": [
    "cm = results[0][1]['val']['cm']"
   ]
  },
  {
   "cell_type": "code",
   "execution_count": null,
   "metadata": {},
   "outputs": [],
   "source": [
    "fig = plt.figure()\n",
    "fig.patch.set_facecolor('white')\n",
    "\n",
    "plot_cm(cm, labels=LABELS, title='Trained on Covid-X + UC', percentage=False)"
   ]
  },
  {
   "cell_type": "code",
   "execution_count": null,
   "metadata": {},
   "outputs": [],
   "source": []
  },
  {
   "cell_type": "markdown",
   "metadata": {},
   "source": [
    "## Example 3"
   ]
  },
  {
   "cell_type": "code",
   "execution_count": null,
   "metadata": {},
   "outputs": [],
   "source": [
    "results = load_results('0722_193534_covid-uc_densenet-121_lr0.0001_os-max10_aug_size256')\n",
    "list(zip(*results))[0]"
   ]
  },
  {
   "cell_type": "code",
   "execution_count": null,
   "metadata": {},
   "outputs": [],
   "source": [
    "cm = results[0][1]['val']['cm']"
   ]
  },
  {
   "cell_type": "code",
   "execution_count": null,
   "metadata": {},
   "outputs": [],
   "source": [
    "fig = plt.figure()\n",
    "fig.patch.set_facecolor('white')\n",
    "\n",
    "plot_cm(cm, labels=LABELS, title='Trained on Covid-UC', percentage=False)"
   ]
  },
  {
   "cell_type": "code",
   "execution_count": null,
   "metadata": {},
   "outputs": [],
   "source": []
  },
  {
   "cell_type": "markdown",
   "metadata": {},
   "source": [
    "## Example 4: winner"
   ]
  },
  {
   "cell_type": "code",
   "execution_count": null,
   "metadata": {},
   "outputs": [],
   "source": [
    "results = load_results('0717_120222_covid-x_densenet-121_lr1e-06_os_aug-covid')\n",
    "list(zip(*results))[0]"
   ]
  },
  {
   "cell_type": "code",
   "execution_count": null,
   "metadata": {},
   "outputs": [],
   "source": [
    "cm = results[0][1]['test']['cm']"
   ]
  },
  {
   "cell_type": "code",
   "execution_count": null,
   "metadata": {},
   "outputs": [],
   "source": [
    "plot_cm(cm, labels=['covid', 'pneumonia', 'normal'], title='Covid-X', percentage=False)"
   ]
  },
  {
   "cell_type": "code",
   "execution_count": null,
   "metadata": {},
   "outputs": [],
   "source": []
  },
  {
   "cell_type": "code",
   "execution_count": null,
   "metadata": {},
   "outputs": [],
   "source": []
  },
  {
   "cell_type": "code",
   "execution_count": null,
   "metadata": {},
   "outputs": [],
   "source": []
  }
 ],
 "metadata": {
  "kernelspec": {
   "display_name": "Python 3",
   "language": "python",
   "name": "python3"
  },
  "language_info": {
   "codemirror_mode": {
    "name": "ipython",
    "version": 3
   },
   "file_extension": ".py",
   "mimetype": "text/x-python",
   "name": "python",
   "nbconvert_exporter": "python",
   "pygments_lexer": "ipython3",
   "version": "3.6.9"
  },
  "toc": {
   "base_numbering": 1,
   "nav_menu": {},
   "number_sections": true,
   "sideBar": true,
   "skip_h1_title": false,
   "title_cell": "Table of Contents",
   "title_sidebar": "Contents",
   "toc_cell": false,
   "toc_position": {},
   "toc_section_display": true,
   "toc_window_display": false
  }
 },
 "nbformat": 4,
 "nbformat_minor": 4
}
