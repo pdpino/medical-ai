{
 "cells": [
  {
   "cell_type": "markdown",
   "metadata": {},
   "source": [
    "# Imports"
   ]
  },
  {
   "cell_type": "code",
   "execution_count": null,
   "metadata": {},
   "outputs": [],
   "source": [
    "%env CUDA_VISIBLE_DEVICES=0"
   ]
  },
  {
   "cell_type": "code",
   "execution_count": null,
   "metadata": {},
   "outputs": [],
   "source": [
    "import torch\n",
    "from torch import nn\n",
    "from torchvision import models"
   ]
  },
  {
   "cell_type": "code",
   "execution_count": null,
   "metadata": {},
   "outputs": [],
   "source": [
    "import matplotlib\n",
    "import matplotlib.pyplot as plt\n",
    "matplotlib.rcParams['figure.facecolor'] = 'white'\n",
    "matplotlib.rcParams['figure.figsize'] = (15, 5)"
   ]
  },
  {
   "cell_type": "code",
   "execution_count": null,
   "metadata": {},
   "outputs": [],
   "source": [
    "import pandas as pd\n",
    "pd.options.display.max_columns = None"
   ]
  },
  {
   "cell_type": "code",
   "execution_count": null,
   "metadata": {},
   "outputs": [],
   "source": [
    "%run ../utils/__init__.py\n",
    "config_logging(logging.INFO)"
   ]
  },
  {
   "cell_type": "markdown",
   "metadata": {},
   "source": [
    "# Debug model"
   ]
  },
  {
   "cell_type": "markdown",
   "metadata": {},
   "source": [
    "## Feature extractor"
   ]
  },
  {
   "cell_type": "code",
   "execution_count": null,
   "metadata": {},
   "outputs": [],
   "source": [
    "extractor = VisualFeatureExtractor('resnet152', pretrained=True)\n",
    "extractor"
   ]
  },
  {
   "cell_type": "code",
   "execution_count": null,
   "metadata": {},
   "outputs": [],
   "source": [
    "BATCH_SIZE = 7"
   ]
  },
  {
   "cell_type": "code",
   "execution_count": null,
   "metadata": {},
   "outputs": [],
   "source": [
    "images = torch.rand(BATCH_SIZE, 3, 224, 224)\n",
    "images.size()"
   ]
  },
  {
   "cell_type": "code",
   "execution_count": null,
   "metadata": {},
   "outputs": [],
   "source": [
    "local_features, global_features = extractor(images)\n",
    "local_features.size(), global_features.size()"
   ]
  },
  {
   "cell_type": "markdown",
   "metadata": {},
   "source": [
    "## MLC"
   ]
  },
  {
   "cell_type": "code",
   "execution_count": null,
   "metadata": {},
   "outputs": [],
   "source": [
    "mlc = MLC(fc_in_features=extractor.out_features)\n",
    "mlc"
   ]
  },
  {
   "cell_type": "code",
   "execution_count": null,
   "metadata": {},
   "outputs": [],
   "source": [
    "tags, semantic_features = mlc(global_features)\n",
    "tags.size(), semantic_features.size()"
   ]
  },
  {
   "cell_type": "markdown",
   "metadata": {},
   "source": [
    "## Co-attention"
   ]
  },
  {
   "cell_type": "code",
   "execution_count": null,
   "metadata": {},
   "outputs": [],
   "source": [
    "embed_size = 512\n",
    "hidden_size = 512\n",
    "k = 10\n",
    "bn_momentum = 0.1"
   ]
  },
  {
   "cell_type": "code",
   "execution_count": null,
   "metadata": {},
   "outputs": [],
   "source": [
    "coatt = CoAttention(version='v4',\n",
    "                    embed_size=embed_size,\n",
    "                    hidden_size=hidden_size,\n",
    "                    visual_size=extractor.out_features,\n",
    "                    k=k,\n",
    "                    momentum=bn_momentum,\n",
    "                   )"
   ]
  },
  {
   "cell_type": "code",
   "execution_count": null,
   "metadata": {},
   "outputs": [],
   "source": [
    "prev_hidden_states = torch.zeros(BATCH_SIZE, 1, hidden_size)\n",
    "prev_hidden_states.size()"
   ]
  },
  {
   "cell_type": "code",
   "execution_count": null,
   "metadata": {},
   "outputs": [],
   "source": [
    "ctx, other_a, other_b = coatt(global_features, semantic_features, prev_hidden_states)\n",
    "ctx.size(), other_a.size(), other_b.size()"
   ]
  },
  {
   "cell_type": "markdown",
   "metadata": {},
   "source": [
    "## Sentence model"
   ]
  },
  {
   "cell_type": "code",
   "execution_count": null,
   "metadata": {},
   "outputs": [],
   "source": [
    "sentence_num_layers = 2"
   ]
  },
  {
   "cell_type": "code",
   "execution_count": null,
   "metadata": {},
   "outputs": [],
   "source": [
    "sentence_model = SentenceLSTM(\n",
    "    version='v1', embed_size=embed_size, hidden_size=hidden_size,\n",
    "    num_layers=sentence_num_layers, dropout=0,\n",
    "    momentum=bn_momentum)"
   ]
  },
  {
   "cell_type": "code",
   "execution_count": null,
   "metadata": {},
   "outputs": [],
   "source": [
    "sentence_states = None"
   ]
  },
  {
   "cell_type": "code",
   "execution_count": null,
   "metadata": {},
   "outputs": [],
   "source": [
    "topic, p_stop, hidden_states, sentence_states = sentence_model(ctx,\n",
    "                                                               prev_hidden_states,\n",
    "                                                               sentence_states)"
   ]
  },
  {
   "cell_type": "code",
   "execution_count": null,
   "metadata": {},
   "outputs": [],
   "source": [
    "topic.size(), p_stop.size(), hidden_states.size(), sentence_states[0].size()"
   ]
  },
  {
   "cell_type": "markdown",
   "metadata": {},
   "source": [
    "## Word model"
   ]
  },
  {
   "cell_type": "code",
   "execution_count": null,
   "metadata": {},
   "outputs": [],
   "source": [
    "%run ../models/report_generation/coatt/lstm.py"
   ]
  },
  {
   "cell_type": "code",
   "execution_count": null,
   "metadata": {},
   "outputs": [],
   "source": [
    "vocab_size = 1000"
   ]
  },
  {
   "cell_type": "code",
   "execution_count": null,
   "metadata": {},
   "outputs": [],
   "source": [
    "word_model = WordLSTM(vocab_size=vocab_size,\n",
    "                      embed_size=512,\n",
    "                      hidden_size=512,\n",
    "                      num_layers=1,\n",
    "                      n_max=30)"
   ]
  },
  {
   "cell_type": "code",
   "execution_count": null,
   "metadata": {},
   "outputs": [],
   "source": [
    "BATCH_SIZE = 2\n",
    "topic = torch.rand(BATCH_SIZE, 1, 512)\n",
    "captions = (torch.rand(BATCH_SIZE, 3, 19) * (vocab_size - 1)).long()"
   ]
  },
  {
   "cell_type": "code",
   "execution_count": null,
   "metadata": {},
   "outputs": [],
   "source": [
    "word_model.train()\n",
    "words = word_model(topic, captions[:, 0, :1])\n",
    "words.size()"
   ]
  },
  {
   "cell_type": "code",
   "execution_count": null,
   "metadata": {},
   "outputs": [],
   "source": [
    "words.argmax(-1)"
   ]
  },
  {
   "cell_type": "code",
   "execution_count": null,
   "metadata": {},
   "outputs": [],
   "source": [
    "word_model.eval()\n",
    "words = word_model(topic, None)\n",
    "words.size()"
   ]
  },
  {
   "cell_type": "code",
   "execution_count": null,
   "metadata": {},
   "outputs": [],
   "source": [
    "words"
   ]
  },
  {
   "cell_type": "code",
   "execution_count": null,
   "metadata": {},
   "outputs": [],
   "source": []
  },
  {
   "cell_type": "markdown",
   "metadata": {},
   "source": [
    "## Losses"
   ]
  },
  {
   "cell_type": "code",
   "execution_count": null,
   "metadata": {},
   "outputs": [],
   "source": [
    "label = (torch.rand(BATCH_SIZE, 156) > 0.5)"
   ]
  },
  {
   "cell_type": "code",
   "execution_count": null,
   "metadata": {},
   "outputs": [],
   "source": [
    "mse_criterion = nn.MSELoss()"
   ]
  },
  {
   "cell_type": "code",
   "execution_count": null,
   "metadata": {},
   "outputs": [],
   "source": [
    "batch_tag_loss = mse_criterion(tags, label).sum()\n",
    "batch_tag_loss"
   ]
  },
  {
   "cell_type": "code",
   "execution_count": null,
   "metadata": {},
   "outputs": [],
   "source": [
    "prob_real = (torch.rand(BATCH_SIZE, ) > 0.5).long()"
   ]
  },
  {
   "cell_type": "code",
   "execution_count": null,
   "metadata": {},
   "outputs": [],
   "source": [
    "batch_stop_loss = words_criterion(p_stop.squeeze(), prob_real).sum()\n",
    "batch_stop_loss"
   ]
  },
  {
   "cell_type": "code",
   "execution_count": null,
   "metadata": {},
   "outputs": [],
   "source": []
  },
  {
   "cell_type": "markdown",
   "metadata": {},
   "source": [
    "## Full model"
   ]
  },
  {
   "cell_type": "code",
   "execution_count": null,
   "metadata": {},
   "outputs": [],
   "source": [
    "%run ../models/report_generation/coatt/__init__.py"
   ]
  },
  {
   "cell_type": "code",
   "execution_count": null,
   "metadata": {},
   "outputs": [],
   "source": [
    "VOCAB_SIZE = 1234"
   ]
  },
  {
   "cell_type": "code",
   "execution_count": null,
   "metadata": {},
   "outputs": [],
   "source": [
    "model = CoAttModel(range(VOCAB_SIZE))\n",
    "# model"
   ]
  },
  {
   "cell_type": "code",
   "execution_count": null,
   "metadata": {},
   "outputs": [],
   "source": [
    "optimizer = torch.optim.Adam(model.parameters(), lr=0.001)"
   ]
  },
  {
   "cell_type": "code",
   "execution_count": null,
   "metadata": {},
   "outputs": [],
   "source": []
  },
  {
   "cell_type": "code",
   "execution_count": null,
   "metadata": {},
   "outputs": [],
   "source": [
    "BATCH_SIZE = 7\n",
    "N_SENTENCES = 3\n",
    "N_WORDS = 5\n",
    "images = torch.rand(BATCH_SIZE, 3, 224, 224)\n",
    "labels = (torch.rand(BATCH_SIZE, 14) > 0.5).long()\n",
    "captions = (torch.rand(BATCH_SIZE, N_SENTENCES, N_WORDS) * (VOCAB_SIZE - 1)).long()\n",
    "prob_real = torch.rand(BATCH_SIZE, N_SENTENCES).long()"
   ]
  },
  {
   "cell_type": "code",
   "execution_count": null,
   "metadata": {},
   "outputs": [],
   "source": [
    "out = model(images, captions, prob_real)\n",
    "len(out)"
   ]
  },
  {
   "cell_type": "code",
   "execution_count": null,
   "metadata": {},
   "outputs": [],
   "source": [
    "words, tags, l1, l2 = out\n",
    "words.size()"
   ]
  },
  {
   "cell_type": "code",
   "execution_count": null,
   "metadata": {},
   "outputs": [],
   "source": [
    "_, l1, l2 = out\n",
    "l1.type(), l2.type()"
   ]
  },
  {
   "cell_type": "code",
   "execution_count": null,
   "metadata": {},
   "outputs": [],
   "source": []
  },
  {
   "cell_type": "code",
   "execution_count": null,
   "metadata": {},
   "outputs": [],
   "source": [
    "prob_real.size()"
   ]
  },
  {
   "cell_type": "code",
   "execution_count": null,
   "metadata": {},
   "outputs": [],
   "source": [
    "def get_step_fn(model, optimizer=None, training=True,\n",
    "                lambda_tag=1,\n",
    "                lambda_stop=1,\n",
    "                lambda_word=1,\n",
    "                clip=0,\n",
    "               ):\n",
    "    mse_criterion = nn.MSELoss()\n",
    "    def step_fn(unused_engine, batch):\n",
    "        images, _, labels, reports, gt_stops = batch\n",
    "        \n",
    "        # Forward pass\n",
    "        words, tags, batch_stop_loss, batch_word_loss = model(images, reports, gt_stops)\n",
    "        \n",
    "        # Tags loss\n",
    "        batch_tag_loss = mse_criterion(tags, labels.float()).sum()\n",
    "\n",
    "        # Total loss\n",
    "        batch_loss = lambda_tag * batch_tag_loss \\\n",
    "                     + lambda_stop * batch_stop_loss \\\n",
    "                     + lambda_word * batch_word_loss\n",
    "\n",
    "        if optimizer:\n",
    "            optimizer.zero_grad()\n",
    "\n",
    "        if training:\n",
    "            batch_loss.backward()\n",
    "\n",
    "            if clip > 0:\n",
    "                torch.nn.utils.clip_grad_norm(model.sentence_model.parameters(), clip)\n",
    "                torch.nn.utils.clip_grad_norm(model.word_model.parameters(), clip)\n",
    "\n",
    "            optimizer.step()\n",
    "            \n",
    "        return {\n",
    "            'loss': batch_loss.detach(),\n",
    "        }\n",
    "    return step_fn"
   ]
  },
  {
   "cell_type": "code",
   "execution_count": null,
   "metadata": {},
   "outputs": [],
   "source": [
    "step_fn = get_step_fn(model, optimizer)"
   ]
  },
  {
   "cell_type": "code",
   "execution_count": null,
   "metadata": {},
   "outputs": [],
   "source": [
    "def get_step_fn(model, optimizer=None, training=True,\n",
    "                lambda_tag=1,\n",
    "                lambda_stop=1,\n",
    "                lambda_word=1,\n",
    "                clip=0,\n",
    "               ):\n",
    "    mse_criterion = nn.MSELoss()\n",
    "    def step_fn(unused_engine, batch):\n",
    "        images, _, labels, reports, gt_stops = batch\n",
    "        \n",
    "        # Forward pass\n",
    "        tags, batch_stop_loss, batch_word_loss = model(images, label, captions, gt_stops)\n",
    "        \n",
    "        # Tags loss\n",
    "        batch_tag_loss = mse_criterion(tags, labels.float()).sum()\n",
    "\n",
    "        # Total loss\n",
    "        batch_loss = lambda_tag * batch_tag_loss \\\n",
    "                     + lambda_stop * batch_stop_loss \\\n",
    "                     + lambda_word * batch_word_loss\n",
    "\n",
    "        if optimizer:\n",
    "            optimizer.zero_grad()\n",
    "\n",
    "        if training:\n",
    "            batch_loss.backward()\n",
    "\n",
    "            if clip > 0:\n",
    "                torch.nn.utils.clip_grad_norm(model.sentence_model.parameters(), clip)\n",
    "                torch.nn.utils.clip_grad_norm(model.word_model.parameters(), clip)\n",
    "\n",
    "            optimizer.step()\n",
    "            \n",
    "        return {\n",
    "            'loss': batch_loss.detach(),\n",
    "        }\n",
    "    return step_fn"
   ]
  },
  {
   "cell_type": "code",
   "execution_count": null,
   "metadata": {},
   "outputs": [],
   "source": [
    "step_fn(None, (images, None, labels, captions, prob_real))"
   ]
  },
  {
   "cell_type": "code",
   "execution_count": null,
   "metadata": {},
   "outputs": [],
   "source": []
  },
  {
   "cell_type": "markdown",
   "metadata": {},
   "source": [
    "## Their dataloader"
   ]
  },
  {
   "cell_type": "code",
   "execution_count": null,
   "metadata": {},
   "outputs": [],
   "source": [
    "%run -n ../../../software/Medical-Report-Generation/utils/dataset.py"
   ]
  },
  {
   "cell_type": "code",
   "execution_count": null,
   "metadata": {},
   "outputs": [],
   "source": [
    "transform = transforms.Compose([\n",
    "    transforms.Resize(256),\n",
    "    transforms.RandomCrop(224),\n",
    "    transforms.RandomHorizontalFlip(),\n",
    "    transforms.ToTensor(),\n",
    "    transforms.Normalize((0.485, 0.456, 0.406),\n",
    "                         (0.229, 0.224, 0.225))])"
   ]
  },
  {
   "cell_type": "code",
   "execution_count": null,
   "metadata": {},
   "outputs": [],
   "source": [
    "new_data_dir = '/home/pdpino/software/Medical-Report-Generation/data/new_data'"
   ]
  },
  {
   "cell_type": "code",
   "execution_count": null,
   "metadata": {},
   "outputs": [],
   "source": [
    "with open(f'{new_data_dir}/vocab.pkl', 'rb') as f:\n",
    "    vocab = pickle.load(f)"
   ]
  },
  {
   "cell_type": "code",
   "execution_count": null,
   "metadata": {},
   "outputs": [],
   "source": [
    "data_loader = get_loader(\n",
    "    image_dir='/mnt/workspace/iu-x-ray/dataset/images',\n",
    "    caption_json=f'{new_data_dir}/captions.json',\n",
    "    file_list=f'{new_data_dir}/train_data.txt',\n",
    "    vocabulary=vocab,\n",
    "    transform=transform,\n",
    "    batch_size=10,\n",
    "    shuffle=False,\n",
    ")"
   ]
  },
  {
   "cell_type": "code",
   "execution_count": null,
   "metadata": {},
   "outputs": [],
   "source": [
    "dataloader = iter(data_loader)"
   ]
  },
  {
   "cell_type": "code",
   "execution_count": null,
   "metadata": {},
   "outputs": [],
   "source": [
    "batch = next(dataloader)"
   ]
  },
  {
   "cell_type": "code",
   "execution_count": null,
   "metadata": {},
   "outputs": [],
   "source": [
    "images, ids, labels, captions, stops = batch\n",
    "captions = torch.from_numpy(captions)\n",
    "stops = torch.from_numpy(stops)\n",
    "images.size(), len(ids), labels.size(), captions.size(), stops.size()"
   ]
  },
  {
   "cell_type": "code",
   "execution_count": null,
   "metadata": {},
   "outputs": [],
   "source": [
    "stops"
   ]
  },
  {
   "cell_type": "code",
   "execution_count": null,
   "metadata": {},
   "outputs": [],
   "source": [
    "captions.long()"
   ]
  },
  {
   "cell_type": "code",
   "execution_count": null,
   "metadata": {},
   "outputs": [],
   "source": []
  },
  {
   "cell_type": "markdown",
   "metadata": {
    "heading_collapsed": true
   },
   "source": [
    "# Load model"
   ]
  },
  {
   "cell_type": "code",
   "execution_count": null,
   "metadata": {
    "hidden": true
   },
   "outputs": [],
   "source": [
    "%run ../models/checkpoint/__init__.py\n",
    "%run ../utils/files.py"
   ]
  },
  {
   "cell_type": "code",
   "execution_count": null,
   "metadata": {
    "hidden": true
   },
   "outputs": [],
   "source": [
    "run_id = RunId('1215_174443', debug=False, task='cls')"
   ]
  },
  {
   "cell_type": "code",
   "execution_count": null,
   "metadata": {
    "hidden": true
   },
   "outputs": [],
   "source": [
    "compiled_model = load_compiled_model(run_id)\n",
    "compiled_model.metadata['model_kwargs']"
   ]
  },
  {
   "cell_type": "markdown",
   "metadata": {
    "heading_collapsed": true
   },
   "source": [
    "# Load data"
   ]
  },
  {
   "cell_type": "code",
   "execution_count": null,
   "metadata": {
    "hidden": true
   },
   "outputs": [],
   "source": [
    "%run ../datasets/__init__.py"
   ]
  },
  {
   "cell_type": "code",
   "execution_count": null,
   "metadata": {
    "hidden": true
   },
   "outputs": [],
   "source": [
    "dataset_kwargs = {\n",
    "    'dataset_name': 'cxr14',\n",
    "    'dataset_type': 'train',\n",
    "    'max_samples': None,\n",
    "}\n",
    "dataloader = prepare_data_classification(**dataset_kwargs)\n",
    "dataset = dataloader.dataset\n",
    "len(dataset)"
   ]
  },
  {
   "cell_type": "markdown",
   "metadata": {},
   "source": [
    "# Do something ..."
   ]
  },
  {
   "cell_type": "code",
   "execution_count": null,
   "metadata": {},
   "outputs": [],
   "source": []
  }
 ],
 "metadata": {
  "kernelspec": {
   "display_name": "Python 3",
   "language": "python",
   "name": "python3"
  },
  "language_info": {
   "codemirror_mode": {
    "name": "ipython",
    "version": 3
   },
   "file_extension": ".py",
   "mimetype": "text/x-python",
   "name": "python",
   "nbconvert_exporter": "python",
   "pygments_lexer": "ipython3",
   "version": "3.6.9"
  },
  "toc": {
   "base_numbering": 1,
   "nav_menu": {},
   "number_sections": true,
   "sideBar": true,
   "skip_h1_title": false,
   "title_cell": "Table of Contents",
   "title_sidebar": "Contents",
   "toc_cell": false,
   "toc_position": {},
   "toc_section_display": true,
   "toc_window_display": false
  }
 },
 "nbformat": 4,
 "nbformat_minor": 4
}
