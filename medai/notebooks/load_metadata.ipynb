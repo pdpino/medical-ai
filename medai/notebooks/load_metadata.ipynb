{
 "cells": [
  {
   "cell_type": "code",
   "execution_count": 1,
   "metadata": {},
   "outputs": [],
   "source": [
    "%run ../models/checkpoint/__init__.py\n",
    "%run ../utils/files.py"
   ]
  },
  {
   "cell_type": "code",
   "execution_count": 5,
   "metadata": {},
   "outputs": [
    {
     "data": {
      "text/plain": [
       "{'model_kwargs': {'model_name': 'densenet-121-cls-seg',\n",
       "  'cl_labels': ['Atelectasis',\n",
       "   'Cardiomegaly',\n",
       "   'Effusion',\n",
       "   'Infiltration',\n",
       "   'Mass',\n",
       "   'Nodule',\n",
       "   'Pneumonia',\n",
       "   'Pneumothorax',\n",
       "   'Consolidation',\n",
       "   'Edema',\n",
       "   'Emphysema',\n",
       "   'Fibrosis',\n",
       "   'Pleural_Thickening',\n",
       "   'Hernia'],\n",
       "  'seg_labels': ['background', 'heart', 'right lung', 'left lung'],\n",
       "  'gpool': 'avg',\n",
       "  'dropout': 0.3,\n",
       "  'imagenet': True},\n",
       " 'opt_kwargs': {'lr': 1e-05, 'weight_decay': 0.002},\n",
       " 'lr_sch_kwargs': {'mode': 'max',\n",
       "  'threshold_mode': 'abs',\n",
       "  'factor': 0.5,\n",
       "  'patience': 3,\n",
       "  'cooldown': 0,\n",
       "  'verbose': True},\n",
       " 'hparams': {'batch_size': 112},\n",
       " 'other_train_kwargs': {'early_stopping': True,\n",
       "  'early_stopping_kwargs': {'patience': 10,\n",
       "   'metric': 'roc_auc',\n",
       "   'min_delta': 0.001},\n",
       "  'lr_metric': 'roc_auc',\n",
       "  'cl_lambda': 1,\n",
       "  'seg_lambda': 1,\n",
       "  'cl_loss_name': 'wbce',\n",
       "  'weight_organs': [0.1, 0.6, 0.3, 0.3]},\n",
       " 'dataset_kwargs': {'dataset_name': 'cxr14',\n",
       "  'labels': None,\n",
       "  'max_samples': None,\n",
       "  'batch_size': 112,\n",
       "  'image_size': [256, 256],\n",
       "  'frontal_only': True,\n",
       "  'num_workers': 5,\n",
       "  'norm_by_sample': True,\n",
       "  'image_format': 'RGB',\n",
       "  'masks': True,\n",
       "  'masks_version': 'v2',\n",
       "  'seg_multilabel': False},\n",
       " 'dataset_train_kwargs': {'shuffle': True,\n",
       "  'augment': True,\n",
       "  'augment_mode': 'double',\n",
       "  'augment_label': None,\n",
       "  'augment_class': None,\n",
       "  'augment_times': 1,\n",
       "  'augment_kwargs': {'crop': 0.8,\n",
       "   'translate': 0.1,\n",
       "   'rotation': 30,\n",
       "   'contrast': 0.8,\n",
       "   'brightness': 0.8,\n",
       "   'shear': [10, 10],\n",
       "   'noise_gaussian': 0.1},\n",
       "  'augment_seg_mask': True},\n",
       " 'seed': 1234,\n",
       " 'run_id': {'name': '0415_032125_cxr14_densenet-121-cls-seg_drop0.3_normS_size256_lr1e-05_shuffle_wd0.002_sch-roc_auc-p3-f0.5_aug1-double_best-roc_auc',\n",
       "  'debug': False,\n",
       "  'task': 'cls-seg',\n",
       "  'experiment': 'aug'}}"
      ]
     },
     "execution_count": 5,
     "metadata": {},
     "output_type": "execute_result"
    }
   ],
   "source": [
    "meta = load_metadata(RunId('0415_032125', False, 'cls-seg', 'aug'))\n",
    "meta"
   ]
  },
  {
   "cell_type": "code",
   "execution_count": null,
   "metadata": {},
   "outputs": [],
   "source": []
  }
 ],
 "metadata": {
  "kernelspec": {
   "display_name": "Python 3",
   "language": "python",
   "name": "python3"
  },
  "language_info": {
   "codemirror_mode": {
    "name": "ipython",
    "version": 3
   },
   "file_extension": ".py",
   "mimetype": "text/x-python",
   "name": "python",
   "nbconvert_exporter": "python",
   "pygments_lexer": "ipython3",
   "version": "3.6.9"
  },
  "toc": {
   "base_numbering": 1,
   "nav_menu": {},
   "number_sections": true,
   "sideBar": true,
   "skip_h1_title": false,
   "title_cell": "Table of Contents",
   "title_sidebar": "Contents",
   "toc_cell": false,
   "toc_position": {},
   "toc_section_display": true,
   "toc_window_display": false
  }
 },
 "nbformat": 4,
 "nbformat_minor": 4
}
