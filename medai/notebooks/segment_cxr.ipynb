{
 "cells": [
  {
   "cell_type": "markdown",
   "metadata": {},
   "source": [
    "# Imports"
   ]
  },
  {
   "cell_type": "code",
   "execution_count": null,
   "metadata": {},
   "outputs": [],
   "source": [
    "%env CUDA_VISIBLE_DEVICES=2"
   ]
  },
  {
   "cell_type": "code",
   "execution_count": null,
   "metadata": {},
   "outputs": [],
   "source": [
    "import os\n",
    "import torch\n",
    "import matplotlib.pyplot as plt"
   ]
  },
  {
   "cell_type": "code",
   "execution_count": null,
   "metadata": {},
   "outputs": [],
   "source": [
    "import matplotlib\n",
    "matplotlib.rcParams['figure.facecolor'] = 'white'"
   ]
  },
  {
   "cell_type": "code",
   "execution_count": null,
   "metadata": {},
   "outputs": [],
   "source": [
    "DEVICE = torch.device('cuda')"
   ]
  },
  {
   "cell_type": "code",
   "execution_count": null,
   "metadata": {},
   "outputs": [],
   "source": [
    "%run ../utils/__init__.py\n",
    "%run ../models/checkpoint/__init__.py\n",
    "%run ../utils/nlp.py"
   ]
  },
  {
   "cell_type": "code",
   "execution_count": null,
   "metadata": {},
   "outputs": [],
   "source": [
    "config_logging(logging.INFO)"
   ]
  },
  {
   "cell_type": "code",
   "execution_count": null,
   "metadata": {},
   "outputs": [],
   "source": []
  },
  {
   "cell_type": "markdown",
   "metadata": {},
   "source": [
    "# Load data"
   ]
  },
  {
   "cell_type": "code",
   "execution_count": null,
   "metadata": {},
   "outputs": [],
   "source": [
    "%run ../datasets/__init__.py"
   ]
  },
  {
   "cell_type": "code",
   "execution_count": null,
   "metadata": {},
   "outputs": [],
   "source": [
    "kwargs = {\n",
    "    'dataset_name': 'cxr14',\n",
    "    'dataset_type': 'all',\n",
    "    'batch_size': 45,\n",
    "    'image_format': 'L',\n",
    "    'frontal_only': True,\n",
    "    'norm_by_sample': True,\n",
    "    'image_size': (1024, 1024),\n",
    "}\n",
    "\n",
    "dataloader = prepare_data_classification(**kwargs)\n",
    "len(dataloader.dataset)"
   ]
  },
  {
   "cell_type": "code",
   "execution_count": null,
   "metadata": {},
   "outputs": [],
   "source": []
  },
  {
   "cell_type": "markdown",
   "metadata": {},
   "source": [
    "# Load model"
   ]
  },
  {
   "cell_type": "code",
   "execution_count": null,
   "metadata": {},
   "outputs": [],
   "source": [
    "# v0 and v1:\n",
    "# run_name = '1202_015907_jsrt_scan_lr0.0005_normS_size1024_wce1-6-3-3_aug10_sch-iou-p5-f0.5'\n",
    "\n",
    "# v2:\n",
    "run_name = '0412_080944_jsrt_scan_lr0.0005_normS_size1024_wce1-6-3-3_aug5-double_sch-iou-p5-f0.5'\n",
    "debug = False"
   ]
  },
  {
   "cell_type": "code",
   "execution_count": null,
   "metadata": {},
   "outputs": [],
   "source": [
    "compiled_model = load_compiled_model_segmentation(run_name, debug=debug, device=DEVICE)\n",
    "compiled_model.metadata"
   ]
  },
  {
   "cell_type": "code",
   "execution_count": null,
   "metadata": {},
   "outputs": [],
   "source": []
  },
  {
   "cell_type": "markdown",
   "metadata": {},
   "source": [
    "# Segment images\n",
    "\n",
    "And save masks"
   ]
  },
  {
   "cell_type": "markdown",
   "metadata": {},
   "source": [
    "## Functions"
   ]
  },
  {
   "cell_type": "code",
   "execution_count": null,
   "metadata": {},
   "outputs": [],
   "source": [
    "from PIL import Image\n",
    "from tqdm.notebook import tqdm"
   ]
  },
  {
   "cell_type": "code",
   "execution_count": null,
   "metadata": {},
   "outputs": [],
   "source": [
    "%run ../utils/shapes.py"
   ]
  },
  {
   "cell_type": "code",
   "execution_count": null,
   "metadata": {},
   "outputs": [],
   "source": [
    "def calculate_output(batch):\n",
    "    images = batch.image.to(DEVICE)\n",
    "\n",
    "    with torch.no_grad():\n",
    "        outputs = compiled_model.model(images).detach().cpu()\n",
    "        # shape: batch_size, n_labels, height, width\n",
    "\n",
    "    _, outputs = outputs.max(dim=1)\n",
    "    # shape: batch_size, height, width\n",
    "\n",
    "    return outputs"
   ]
  },
  {
   "cell_type": "code",
   "execution_count": null,
   "metadata": {},
   "outputs": [],
   "source": [
    "def assertions(mask, image_fname):\n",
    "    min_value = mask.min()\n",
    "    if min_value != 0:\n",
    "        print(f'[{image_fname}] Minimum must be 0, got {min_value}')\n",
    "    \n",
    "    max_value = mask.max()\n",
    "    if max_value != 3:\n",
    "        print(f'[{image_fname}] Maximum must be 3, got {min_value}')"
   ]
  },
  {
   "cell_type": "code",
   "execution_count": null,
   "metadata": {},
   "outputs": [],
   "source": [
    "def get_filepath(masks_folder, image_name):\n",
    "    filepath = os.path.join(masks_folder, image_name)\n",
    "    if not filepath.endswith('.png'):\n",
    "        filepath += '.png'\n",
    "    return filepath"
   ]
  },
  {
   "cell_type": "code",
   "execution_count": null,
   "metadata": {},
   "outputs": [],
   "source": [
    "def clean_image_fname(image_name):\n",
    "    image_name = image_name.replace('.png', '')\n",
    "    image_name = image_name.replace('.jpg', '')\n",
    "    image_name = image_name.replace('/', '-')\n",
    "    return image_name"
   ]
  },
  {
   "cell_type": "markdown",
   "metadata": {},
   "source": [
    "## Run segmentation"
   ]
  },
  {
   "cell_type": "markdown",
   "metadata": {},
   "source": [
    "### Define folders"
   ]
  },
  {
   "cell_type": "code",
   "execution_count": null,
   "metadata": {},
   "outputs": [],
   "source": [
    "VERSION = 'v2'\n",
    "EXIST_OK = True"
   ]
  },
  {
   "cell_type": "code",
   "execution_count": null,
   "metadata": {},
   "outputs": [],
   "source": [
    "if dataloader.dataset.__class__.__name__ == 'VinBigDataset':\n",
    "    FOLDER_NAME = 'organ-masks'\n",
    "else:\n",
    "    FOLDER_NAME = 'masks'\n",
    "FOLDER_NAME"
   ]
  },
  {
   "cell_type": "code",
   "execution_count": null,
   "metadata": {},
   "outputs": [],
   "source": [
    "masks_folder = os.path.join(dataloader.dataset.dataset_dir, FOLDER_NAME, VERSION)\n",
    "os.makedirs(masks_folder, exist_ok=EXIST_OK)"
   ]
  },
  {
   "cell_type": "markdown",
   "metadata": {
    "heading_collapsed": true
   },
   "source": [
    "### Remove already calculated\n",
    "\n",
    "Remove already calculated from the dataset, to avoid loading innecessary images from disk"
   ]
  },
  {
   "cell_type": "code",
   "execution_count": null,
   "metadata": {
    "hidden": true
   },
   "outputs": [],
   "source": [
    "already_calculated = set(\n",
    "    clean_image_fname(image_name)\n",
    "    for image_name in os.listdir(masks_folder)\n",
    ")\n",
    "len(already_calculated)"
   ]
  },
  {
   "cell_type": "code",
   "execution_count": null,
   "metadata": {
    "hidden": true
   },
   "outputs": [],
   "source": [
    "if dataloader.dataset.__class__.__name__ in ('ChexpertDataset',):\n",
    "    ignore_images = set([\n",
    "        i.replace('-', '/').replace('.png', '.jpg')\n",
    "        for i in os.listdir(masks_folder)\n",
    "    ])\n",
    "    d = dataloader.dataset.label_index\n",
    "    d = d.loc[~d['Path'].isin(ignore_images)]\n",
    "    dataloader.dataset.label_index = d.reset_index(drop=True)\n",
    "    len(dataloader.dataset)"
   ]
  },
  {
   "cell_type": "markdown",
   "metadata": {},
   "source": [
    "### Segment!"
   ]
  },
  {
   "cell_type": "code",
   "execution_count": null,
   "metadata": {},
   "outputs": [],
   "source": [
    "%%capture output\n",
    "%%time\n",
    "\n",
    "state = tqdm(total=len(dataloader.dataset))\n",
    "errors = []\n",
    "\n",
    "for batch in dataloader:\n",
    "    if all(\n",
    "        clean_image_fname(image_name) in already_calculated\n",
    "        for image_name in batch.image_fname\n",
    "    ):\n",
    "        state.update(len(batch.image_fname))\n",
    "        continue\n",
    "    \n",
    "    outputs = calculate_output(batch).cpu()\n",
    "    \n",
    "    for image_name, mask in zip(batch.image_fname, outputs):\n",
    "        image_name = clean_image_fname(image_name)\n",
    "        if image_name in already_calculated:\n",
    "            state.update(1)\n",
    "            continue\n",
    "            # raise Exception('Overriding previous mask!')\n",
    "\n",
    "        mask = mask.to(torch.uint8).numpy()\n",
    "        # shape: height, width\n",
    "        \n",
    "        assertions(mask, image_name)\n",
    "        \n",
    "        # Keep only largest shape:\n",
    "        polygons = calculate_polygons(mask)\n",
    "        largest_polygons = get_largest_shapes(polygons, name=image_name)\n",
    "        mask = polygons_to_array(largest_polygons, mask.shape)\n",
    "\n",
    "        assertions(mask, image_name)\n",
    "        \n",
    "        if any(len(coords) == 0 for coords, organ_idx in largest_polygons):\n",
    "            errors.append(image_name)\n",
    "\n",
    "        # Save to file\n",
    "        mask = Image.fromarray(mask, mode='L')\n",
    "        out_fpath = get_filepath(masks_folder, image_name)\n",
    "        mask.save(out_fpath)\n",
    "\n",
    "        state.update(1)"
   ]
  },
  {
   "cell_type": "code",
   "execution_count": null,
   "metadata": {},
   "outputs": [],
   "source": [
    "print(output)"
   ]
  },
  {
   "cell_type": "code",
   "execution_count": null,
   "metadata": {},
   "outputs": [],
   "source": [
    "plt.title(image_name)\n",
    "plt.imshow(mask)"
   ]
  },
  {
   "cell_type": "code",
   "execution_count": null,
   "metadata": {},
   "outputs": [],
   "source": []
  },
  {
   "cell_type": "markdown",
   "metadata": {
    "heading_collapsed": true
   },
   "source": [
    "### Load and plot images by name\n",
    "\n",
    "Checkout errors in the process"
   ]
  },
  {
   "cell_type": "code",
   "execution_count": null,
   "metadata": {
    "hidden": true
   },
   "outputs": [],
   "source": [
    "%run ../utils/images.py"
   ]
  },
  {
   "cell_type": "code",
   "execution_count": null,
   "metadata": {
    "hidden": true
   },
   "outputs": [],
   "source": [
    "new_kwargs = {\n",
    "    **kwargs,\n",
    "    'masks': True,\n",
    "    'masks_version': 'v2',\n",
    "}\n",
    "new_dataloader = prepare_data_classification(**new_kwargs)\n",
    "len(new_dataloader.dataset)"
   ]
  },
  {
   "cell_type": "code",
   "execution_count": null,
   "metadata": {
    "hidden": true
   },
   "outputs": [],
   "source": [
    "# errors = [\n",
    "#     '00000003_001.png', '00000013_005.png', '00000010_000.png', '00000007_000.png',\n",
    "#     '00000005_003.png', '00000001_001.png',\n",
    "# ]"
   ]
  },
  {
   "cell_type": "code",
   "execution_count": null,
   "metadata": {
    "hidden": true
   },
   "outputs": [],
   "source": [
    "# TODO: move this to dataset.get_item_by_name() ???\n",
    "if dataloader.dataset.__class__.__name__ in ('ChexpertDataset',):\n",
    "    KEY = 'Path'\n",
    "    image_names = [\n",
    "        f\"{i.replace('-', '/')}.jpg\"\n",
    "        for i in errors\n",
    "    ]\n",
    "else:\n",
    "    KEY = 'FileName'\n",
    "    image_names = list(errors)\n",
    "len(image_names)"
   ]
  },
  {
   "cell_type": "code",
   "execution_count": null,
   "metadata": {
    "hidden": true
   },
   "outputs": [],
   "source": [
    "df = new_dataloader.dataset.label_index\n",
    "rows = df.loc[df[KEY].isin(image_names)]\n",
    "indexes = list(rows.index)\n",
    "indexes"
   ]
  },
  {
   "cell_type": "code",
   "execution_count": null,
   "metadata": {
    "hidden": true
   },
   "outputs": [],
   "source": [
    "n_rows = len(indexes)\n",
    "n_cols = 2\n",
    "\n",
    "plt.figure(figsize=(n_cols*3, n_rows*3))\n",
    "\n",
    "for counter, index in enumerate(indexes):\n",
    "    item = new_dataloader.dataset[index]\n",
    "    \n",
    "    row_index = counter * n_cols\n",
    "    \n",
    "    plt.subplot(n_rows, n_cols, row_index + 1)\n",
    "    plt.title(item.image_fname)\n",
    "    plt.imshow(tensor_to_range01(item.image[0]), cmap='gray')\n",
    "    \n",
    "    mask = squeeze_masks(item.masks)\n",
    "    if mask is not None:\n",
    "        plt.subplot(n_rows, n_cols, row_index + 2)\n",
    "        plt.imshow(mask)\n",
    "\n",
    "#     plt.subplot(1, 2, 2)\n",
    "#     plt.gca().invert_yaxis()\n",
    "#     for coords, value in largest_polygons2:\n",
    "#         if len(coords) == 0:\n",
    "#             continue\n",
    "#         x_values, y_values = zip(*coords)\n",
    "#         plt.plot(x_values, y_values)"
   ]
  },
  {
   "cell_type": "code",
   "execution_count": null,
   "metadata": {
    "hidden": true
   },
   "outputs": [],
   "source": []
  },
  {
   "cell_type": "code",
   "execution_count": null,
   "metadata": {
    "hidden": true
   },
   "outputs": [],
   "source": []
  },
  {
   "cell_type": "markdown",
   "metadata": {},
   "source": [
    "# Debug load dataset"
   ]
  },
  {
   "cell_type": "markdown",
   "metadata": {},
   "source": [
    "## CXR14, IU or alike datasets"
   ]
  },
  {
   "cell_type": "code",
   "execution_count": null,
   "metadata": {},
   "outputs": [],
   "source": [
    "%run ../utils/common.py\n",
    "%run ../utils/images.py"
   ]
  },
  {
   "cell_type": "code",
   "execution_count": null,
   "metadata": {},
   "outputs": [],
   "source": [
    "%run ../datasets/iu_xray.py\n",
    "\n",
    "dataset = IUXRayDataset('all', image_size=(1024, 1024), frontal_only=True, masks=True)\n",
    "len(dataset)"
   ]
  },
  {
   "cell_type": "code",
   "execution_count": null,
   "metadata": {},
   "outputs": [],
   "source": [
    "%run ../datasets/cxr14.py\n",
    "\n",
    "dataset = CXR14Dataset('all', image_size=(1024, 1024), frontal_only=True,\n",
    "                       masks=True, masks_version='v1')\n",
    "len(dataset)"
   ]
  },
  {
   "cell_type": "code",
   "execution_count": null,
   "metadata": {},
   "outputs": [],
   "source": [
    "item = dataset[200]\n",
    "item.image.size(), item.masks.size(), item.image_fname"
   ]
  },
  {
   "cell_type": "code",
   "execution_count": null,
   "metadata": {},
   "outputs": [],
   "source": [
    "plt.figure(figsize=(15, 5))\n",
    "\n",
    "plt.subplot(1, 2, 1)\n",
    "plt.imshow(tensor_to_range01(item.image).permute(1, 2, 0))\n",
    "plt.axis('off')\n",
    "\n",
    "plt.subplot(1, 2, 2)\n",
    "plt.imshow(squeeze_masks(item.masks))\n",
    "plt.axis('off')"
   ]
  },
  {
   "cell_type": "code",
   "execution_count": null,
   "metadata": {},
   "outputs": [],
   "source": []
  },
  {
   "cell_type": "markdown",
   "metadata": {},
   "source": [
    "## VinBig alike datasets"
   ]
  },
  {
   "cell_type": "code",
   "execution_count": null,
   "metadata": {},
   "outputs": [],
   "source": [
    "import math"
   ]
  },
  {
   "cell_type": "code",
   "execution_count": null,
   "metadata": {},
   "outputs": [],
   "source": [
    "%run ../datasets/vinbig.py\n",
    "\n",
    "dataset = VinBigDataset('train', image_size=(1024, 1024), frontal_only=True,\n",
    "                        masks=True, fallback_organs=True)\n",
    "len(dataset)"
   ]
  },
  {
   "cell_type": "code",
   "execution_count": null,
   "metadata": {},
   "outputs": [],
   "source": [
    "item = dataset[14]\n",
    "item.masks.size(), item.labels.shape"
   ]
  },
  {
   "cell_type": "code",
   "execution_count": null,
   "metadata": {},
   "outputs": [],
   "source": [
    "n_plots = len(dataset.labels) + 1\n",
    "\n",
    "n_rows = 3\n",
    "n_cols = math.ceil(n_plots / n_rows)\n",
    "\n",
    "plt.figure(figsize=(n_cols*5, n_rows*5))\n",
    "\n",
    "plt.subplot(n_rows, n_cols, 1)\n",
    "plt.imshow(tensor_to_range01(item.image).permute(1, 2, 0))\n",
    "plt.title('CXR')\n",
    "plt.axis('off')\n",
    "\n",
    "for disease_i, (disease_name, gt_value) in enumerate(zip(dataset.labels, item.labels)):\n",
    "    plt.subplot(n_rows, n_cols, disease_i+2)\n",
    "    plt.imshow(item.masks[disease_i])\n",
    "    plt.title(f'{disease_name} (gt={gt_value})')\n",
    "    plt.axis('off')"
   ]
  },
  {
   "cell_type": "code",
   "execution_count": null,
   "metadata": {},
   "outputs": [],
   "source": []
  },
  {
   "cell_type": "code",
   "execution_count": null,
   "metadata": {},
   "outputs": [],
   "source": []
  },
  {
   "cell_type": "code",
   "execution_count": null,
   "metadata": {},
   "outputs": [],
   "source": []
  },
  {
   "cell_type": "code",
   "execution_count": null,
   "metadata": {},
   "outputs": [],
   "source": []
  }
 ],
 "metadata": {
  "kernelspec": {
   "display_name": "Python 3",
   "language": "python",
   "name": "python3"
  },
  "language_info": {
   "codemirror_mode": {
    "name": "ipython",
    "version": 3
   },
   "file_extension": ".py",
   "mimetype": "text/x-python",
   "name": "python",
   "nbconvert_exporter": "python",
   "pygments_lexer": "ipython3",
   "version": "3.6.9"
  },
  "toc": {
   "base_numbering": 1,
   "nav_menu": {},
   "number_sections": true,
   "sideBar": true,
   "skip_h1_title": false,
   "title_cell": "Table of Contents",
   "title_sidebar": "Contents",
   "toc_cell": false,
   "toc_position": {},
   "toc_section_display": true,
   "toc_window_display": false
  }
 },
 "nbformat": 4,
 "nbformat_minor": 4
}
