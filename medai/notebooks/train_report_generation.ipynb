{
 "cells": [
  {
   "cell_type": "markdown",
   "metadata": {},
   "source": [
    "Debug training processes"
   ]
  },
  {
   "cell_type": "markdown",
   "metadata": {},
   "source": [
    "## Imports"
   ]
  },
  {
   "cell_type": "code",
   "execution_count": null,
   "metadata": {},
   "outputs": [],
   "source": [
    "%env CUDA_VISIBLE_DEVICES=0"
   ]
  },
  {
   "cell_type": "code",
   "execution_count": null,
   "metadata": {},
   "outputs": [],
   "source": [
    "import torch\n",
    "from torch import nn"
   ]
  },
  {
   "cell_type": "code",
   "execution_count": null,
   "metadata": {},
   "outputs": [],
   "source": [
    "import matplotlib.pyplot as plt\n",
    "import matplotlib\n",
    "matplotlib.rcParams['figure.facecolor'] = 'white'"
   ]
  },
  {
   "cell_type": "code",
   "execution_count": null,
   "metadata": {},
   "outputs": [],
   "source": [
    "%run -n ../train_report_generation.py"
   ]
  },
  {
   "cell_type": "code",
   "execution_count": null,
   "metadata": {},
   "outputs": [],
   "source": [
    "DEVICE = torch.device('cuda')\n",
    "# DEVICE = torch.device('cpu')\n",
    "DEVICE"
   ]
  },
  {
   "cell_type": "code",
   "execution_count": null,
   "metadata": {},
   "outputs": [],
   "source": []
  },
  {
   "cell_type": "markdown",
   "metadata": {
    "heading_collapsed": true
   },
   "source": [
    "## Load data"
   ]
  },
  {
   "cell_type": "code",
   "execution_count": null,
   "metadata": {
    "hidden": true
   },
   "outputs": [],
   "source": [
    "%run ../datasets/__init__.py\n",
    "%run ../utils/nlp.py"
   ]
  },
  {
   "cell_type": "code",
   "execution_count": null,
   "metadata": {
    "hidden": true
   },
   "outputs": [],
   "source": [
    "BS = 20\n",
    "\n",
    "dataset_kwargs = {\n",
    "    'dataset_name': 'iu-x-ray',\n",
    "    'hierarchical': True,\n",
    "    'max_samples': None,\n",
    "    'batch_size': BS,\n",
    "    'frontal_only': True,\n",
    "    'image_size': (256, 256),\n",
    "    'sort_samples': False,\n",
    "    'masks': True,\n",
    "    # 'num_workers': 0,\n",
    "}\n",
    "\n",
    "train_dataloader = prepare_data_report_generation(dataset_type='train',\n",
    "                                                  **dataset_kwargs)\n",
    "VOCAB = train_dataloader.dataset.get_vocab()\n",
    "val_dataloader = prepare_data_report_generation(dataset_type='val',\n",
    "                                                vocab=VOCAB,\n",
    "                                                **dataset_kwargs)\n",
    "len(train_dataloader.dataset)"
   ]
  },
  {
   "cell_type": "code",
   "execution_count": null,
   "metadata": {
    "hidden": true
   },
   "outputs": [],
   "source": [
    "VOCAB_SIZE = len(VOCAB)\n",
    "VOCAB_SIZE"
   ]
  },
  {
   "cell_type": "code",
   "execution_count": null,
   "metadata": {
    "hidden": true
   },
   "outputs": [],
   "source": [
    "REPORT_READER = ReportReader(VOCAB)\n",
    "REPORT_READER"
   ]
  },
  {
   "cell_type": "markdown",
   "metadata": {
    "heading_collapsed": true,
    "hidden": true
   },
   "source": [
    "### Debug hierarchical dataloader"
   ]
  },
  {
   "cell_type": "code",
   "execution_count": null,
   "metadata": {
    "hidden": true
   },
   "outputs": [],
   "source": [
    "for batch in train_dataloader:\n",
    "    break"
   ]
  },
  {
   "cell_type": "code",
   "execution_count": null,
   "metadata": {
    "hidden": true
   },
   "outputs": [],
   "source": [
    "batch.masks.min(), batch.masks.max()"
   ]
  },
  {
   "cell_type": "code",
   "execution_count": null,
   "metadata": {
    "hidden": true
   },
   "outputs": [],
   "source": [
    "report_reader = ReportReader(train_dataloader.dataset.get_vocab())"
   ]
  },
  {
   "cell_type": "code",
   "execution_count": null,
   "metadata": {
    "hidden": true
   },
   "outputs": [],
   "source": [
    "item_idx = 1\n",
    "report = batch.reports[item_idx]\n",
    "mask = batch.masks[item_idx]\n",
    "report.size(), mask.size()"
   ]
  },
  {
   "cell_type": "code",
   "execution_count": null,
   "metadata": {
    "hidden": true
   },
   "outputs": [],
   "source": [
    "plt.figure(figsize=(15, 5))\n",
    "n_sentences = mask.size(0)\n",
    "n_cols = n_sentences\n",
    "\n",
    "for i_sentence in range(n_sentences):\n",
    "    submask = mask[i_sentence]\n",
    "    \n",
    "    title = f'Sentence {i_sentence}'\n",
    "    \n",
    "    min_value = submask.min().item()\n",
    "    if min_value == submask.max().item():\n",
    "        unique_value = min_value\n",
    "        title += f' ({unique_value})'\n",
    "    \n",
    "    plt.subplot(1, n_cols, i_sentence + 1)\n",
    "    plt.imshow(submask)\n",
    "    plt.title(title)\n",
    "    plt.axis('off')\n",
    "    \n",
    "    sentence = report_reader.idx_to_text(report[i_sentence])\n",
    "    print(f'{i_sentence}: {sentence}')\n",
    "    \n",
    "plt.show()"
   ]
  },
  {
   "cell_type": "code",
   "execution_count": null,
   "metadata": {
    "hidden": true
   },
   "outputs": [],
   "source": []
  },
  {
   "cell_type": "markdown",
   "metadata": {
    "heading_collapsed": true
   },
   "source": [
    "## Create model"
   ]
  },
  {
   "cell_type": "code",
   "execution_count": null,
   "metadata": {
    "hidden": true
   },
   "outputs": [],
   "source": [
    "%run ../models/classification/__init__.py\n",
    "%run ../models/report_generation/cnn_to_seq.py\n",
    "%run ../models/checkpoint/__init__.py"
   ]
  },
  {
   "cell_type": "markdown",
   "metadata": {
    "hidden": true
   },
   "source": [
    "### Create CNN"
   ]
  },
  {
   "cell_type": "markdown",
   "metadata": {
    "heading_collapsed": true,
    "hidden": true
   },
   "source": [
    "#### Load CNN"
   ]
  },
  {
   "cell_type": "code",
   "execution_count": null,
   "metadata": {
    "hidden": true
   },
   "outputs": [],
   "source": [
    "cnn_run_name = '0706_134245_covid-kaggle_tfs-small_lr1e-06'\n",
    "debug_run = True\n",
    "\n",
    "compiled_cnn = load_compiled_model_classification(cnn_run_name,\n",
    "                                                  debug=debug_run,\n",
    "                                                  device=DEVICE)\n",
    "cnn = compiled_cnn.model"
   ]
  },
  {
   "cell_type": "markdown",
   "metadata": {
    "hidden": true
   },
   "source": [
    "#### New CNN"
   ]
  },
  {
   "cell_type": "code",
   "execution_count": null,
   "metadata": {
    "hidden": true
   },
   "outputs": [],
   "source": [
    "cnn = create_cnn('mobilenet-v2', # resnet-50 # densenet-121\n",
    "                 labels=[],\n",
    "                 imagenet=True,\n",
    "                 freeze=False,\n",
    "                ).to(DEVICE)"
   ]
  },
  {
   "cell_type": "markdown",
   "metadata": {
    "hidden": true
   },
   "source": [
    "### Create Decoder"
   ]
  },
  {
   "cell_type": "code",
   "execution_count": null,
   "metadata": {
    "hidden": true
   },
   "outputs": [],
   "source": [
    "decoder_kwargs = {\n",
    "    'decoder_name': 'lstm-v2',\n",
    "    'vocab': VOCAB,\n",
    "    'embedding_size': 100,\n",
    "    'embedding_kwargs': { 'pretrained': 'radglove' },\n",
    "    'hidden_size': 100,\n",
    "    'features_size': cnn.features_size,\n",
    "    'teacher_forcing': True,\n",
    "    'dropout_recursive': 0,\n",
    "    'dropout_out': 0,\n",
    "    'double_bias': False,\n",
    "}\n",
    "decoder = create_decoder(**decoder_kwargs).to(DEVICE)"
   ]
  },
  {
   "cell_type": "markdown",
   "metadata": {
    "hidden": true
   },
   "source": [
    "### cnn2seq"
   ]
  },
  {
   "cell_type": "code",
   "execution_count": null,
   "metadata": {
    "hidden": true
   },
   "outputs": [],
   "source": [
    "%run ../losses/optimizers.py"
   ]
  },
  {
   "cell_type": "code",
   "execution_count": null,
   "metadata": {
    "hidden": true
   },
   "outputs": [],
   "source": [
    "model = CNN2Seq(cnn, decoder).to(DEVICE)"
   ]
  },
  {
   "cell_type": "code",
   "execution_count": null,
   "metadata": {
    "hidden": true
   },
   "outputs": [],
   "source": [
    "optimizer = create_optimizer(model, custom_lr={ 'word_embedding': 0.05 }, lr=0.0001)\n",
    "optimizer"
   ]
  },
  {
   "cell_type": "code",
   "execution_count": null,
   "metadata": {
    "hidden": true
   },
   "outputs": [],
   "source": []
  },
  {
   "cell_type": "markdown",
   "metadata": {
    "hidden": true
   },
   "source": [
    "### Load CNN2Seq model"
   ]
  },
  {
   "cell_type": "code",
   "execution_count": null,
   "metadata": {
    "hidden": true
   },
   "outputs": [],
   "source": [
    "%run models/checkpoint/__init__.py"
   ]
  },
  {
   "cell_type": "code",
   "execution_count": null,
   "metadata": {
    "hidden": true
   },
   "outputs": [],
   "source": [
    "# run_name = '0717_184851_lstm_lr0.0001_densenet-121_size256'\n",
    "debug = False\n",
    "\n",
    "run_id = RunId(run_name, debug, 'rg')\n",
    "\n",
    "compiled_model = load_compiled_model_report_generation(run_id, device=DEVICE)\n",
    "\n",
    "compiled_model.metadata"
   ]
  },
  {
   "cell_type": "code",
   "execution_count": null,
   "metadata": {
    "hidden": true
   },
   "outputs": [],
   "source": [
    "compiled_model.metadata['vocab']"
   ]
  },
  {
   "cell_type": "code",
   "execution_count": null,
   "metadata": {
    "hidden": true
   },
   "outputs": [],
   "source": []
  },
  {
   "cell_type": "code",
   "execution_count": null,
   "metadata": {
    "hidden": true
   },
   "outputs": [],
   "source": []
  },
  {
   "cell_type": "markdown",
   "metadata": {},
   "source": [
    "## Debug att-supervision loss"
   ]
  },
  {
   "cell_type": "code",
   "execution_count": null,
   "metadata": {},
   "outputs": [],
   "source": [
    "%run ../losses/out_of_target.py"
   ]
  },
  {
   "cell_type": "code",
   "execution_count": null,
   "metadata": {},
   "outputs": [],
   "source": [
    "masks1 = train_dataloader.dataset[30].masks\n",
    "masks2 = train_dataloader.dataset[100].masks\n",
    "masks3 = train_dataloader.dataset[200].masks\n",
    "masks4 = train_dataloader.dataset[1].masks\n",
    "target = torch.stack([torch.stack([masks1, masks2]), torch.stack([masks3, masks4])])\n",
    "target.size()"
   ]
  },
  {
   "cell_type": "code",
   "execution_count": null,
   "metadata": {},
   "outputs": [],
   "source": [
    "shape = target.size()[:2]\n",
    "output = torch.rand(*shape, 16, 16)\n",
    "# output = torch.ones(*target.size())\n",
    "output = output.view(*shape, -1)\n",
    "output = torch.softmax(output, dim=-1)\n",
    "output = output.view(*shape, 16, 16)\n",
    "output.size()"
   ]
  },
  {
   "cell_type": "code",
   "execution_count": null,
   "metadata": {},
   "outputs": [],
   "source": [
    "loss = OutOfTargetSumLoss()\n",
    "x = loss(output, target)\n",
    "x.item()"
   ]
  },
  {
   "cell_type": "code",
   "execution_count": null,
   "metadata": {},
   "outputs": [],
   "source": []
  },
  {
   "cell_type": "code",
   "execution_count": null,
   "metadata": {},
   "outputs": [],
   "source": []
  },
  {
   "cell_type": "code",
   "execution_count": null,
   "metadata": {},
   "outputs": [],
   "source": [
    "# target = (torch.rand(1, 1, 256, 256) > 0.5).long()\n",
    "target = masks\n",
    "target.size()"
   ]
  },
  {
   "cell_type": "code",
   "execution_count": null,
   "metadata": {},
   "outputs": [],
   "source": [
    "target2 = interpolate(target.float(), size=(16, 16), mode='nearest')\n",
    "target2.size()"
   ]
  },
  {
   "cell_type": "code",
   "execution_count": null,
   "metadata": {},
   "outputs": [],
   "source": [
    "batch_size, n_sentences = target.size()[:2]\n",
    "\n",
    "n_rows = batch_size\n",
    "n_cols = n_sentences * 2\n",
    "\n",
    "plt.figure(figsize=(15, 8))\n",
    "\n",
    "plot_index = 1\n",
    "for idx1 in range(batch_size):\n",
    "    for idx2 in range(n_sentences):\n",
    "        plt.subplot(n_rows, n_cols, plot_index)\n",
    "        plt.imshow(target[idx1][idx2])\n",
    "        plt.title(f'Original - {idx1},{idx2}')\n",
    "        plot_index += 1\n",
    "        \n",
    "        plt.subplot(n_rows, n_cols, plot_index)\n",
    "        plt.imshow(output[idx1][idx2])\n",
    "        plt.title(f'Downsampled - {idx1},{idx2}')\n",
    "        plot_index += 1"
   ]
  },
  {
   "cell_type": "code",
   "execution_count": null,
   "metadata": {},
   "outputs": [],
   "source": []
  },
  {
   "cell_type": "markdown",
   "metadata": {},
   "source": [
    "## Debug flatten h-reports"
   ]
  },
  {
   "cell_type": "code",
   "execution_count": null,
   "metadata": {},
   "outputs": [],
   "source": [
    "%run ../training/report_generation/hierarchical.py"
   ]
  },
  {
   "cell_type": "code",
   "execution_count": null,
   "metadata": {},
   "outputs": [],
   "source": [
    "for batch in tqdm(val_dataloader):\n",
    "    images = batch.images.to(DEVICE)\n",
    "    reports = batch.reports.to(DEVICE)\n",
    "\n",
    "    with torch.no_grad():\n",
    "        output = compiled_model.model(images, reports, free=True,\n",
    "                                      max_words=100, max_sentences=100)\n",
    "    gen_words, gen_stops, gen_scores, gen_topics = output\n",
    "    \n",
    "    break"
   ]
  },
  {
   "cell_type": "code",
   "execution_count": null,
   "metadata": {},
   "outputs": [],
   "source": [
    "for report in _flatten_gen_reports(gen_words, gen_stops):\n",
    "    break"
   ]
  },
  {
   "cell_type": "code",
   "execution_count": null,
   "metadata": {},
   "outputs": [],
   "source": [
    "gen_words = gen_words.argmax(dim=-1)\n",
    "\n",
    "valid_sentences = torch.where(\n",
    "    gen_stops < 0.5,\n",
    "    torch.ones_like(gen_stops),\n",
    "    torch.zeros_like(gen_stops),\n",
    ")\n",
    "\n",
    "gen_words.size(), valid_sentences.size()"
   ]
  },
  {
   "cell_type": "code",
   "execution_count": null,
   "metadata": {},
   "outputs": [],
   "source": [
    "end_of_sentence_tensor = torch.tensor([4], device=gen_words.device)\n",
    "end_of_sentence_tensor = end_of_sentence_tensor.expand(gen_words.size(0),\n",
    "                                                       gen_words.size(1),\n",
    "                                                       -1)\n",
    "end_of_sentence_tensor.size()"
   ]
  },
  {
   "cell_type": "code",
   "execution_count": null,
   "metadata": {},
   "outputs": [],
   "source": [
    "gen_words = torch.cat((gen_words, end_of_sentence_tensor), dim=-1)\n",
    "gen_words.size()"
   ]
  },
  {
   "cell_type": "code",
   "execution_count": null,
   "metadata": {},
   "outputs": [],
   "source": [
    "for report, valid in zip(gen_words, valid_sentences):\n",
    "    report = report[valid.nonzero(as_tuple=True)]\n",
    "    break\n",
    "report.size()"
   ]
  },
  {
   "cell_type": "code",
   "execution_count": null,
   "metadata": {},
   "outputs": [],
   "source": [
    "dot_positions = (report == END_OF_SENTENCE_IDX).type(torch.uint8)\n",
    "print(dot_positions.size())\n",
    "dot_positions"
   ]
  },
  {
   "cell_type": "code",
   "execution_count": null,
   "metadata": {},
   "outputs": [],
   "source": [
    "dot_positions = torch.cumsum(dot_positions, dim=1)\n",
    "dot_positions = torch.cumsum(dot_positions, dim=1)\n",
    "dot_positions"
   ]
  },
  {
   "cell_type": "code",
   "execution_count": null,
   "metadata": {},
   "outputs": [],
   "source": [
    "report[dot_positions <= 1]"
   ]
  },
  {
   "cell_type": "code",
   "execution_count": null,
   "metadata": {},
   "outputs": [],
   "source": [
    "REPORT_READER.idx_to_text(report[dot_positions <= 1])"
   ]
  },
  {
   "cell_type": "code",
   "execution_count": null,
   "metadata": {
    "scrolled": true
   },
   "outputs": [],
   "source": [
    "REPORT_READER.idx_to_text(report)"
   ]
  },
  {
   "cell_type": "code",
   "execution_count": null,
   "metadata": {},
   "outputs": [],
   "source": []
  },
  {
   "cell_type": "code",
   "execution_count": null,
   "metadata": {},
   "outputs": [],
   "source": []
  }
 ],
 "metadata": {
  "kernelspec": {
   "display_name": "Python 3",
   "language": "python",
   "name": "python3"
  },
  "language_info": {
   "codemirror_mode": {
    "name": "ipython",
    "version": 3
   },
   "file_extension": ".py",
   "mimetype": "text/x-python",
   "name": "python",
   "nbconvert_exporter": "python",
   "pygments_lexer": "ipython3",
   "version": "3.6.9"
  },
  "toc": {
   "base_numbering": 1,
   "nav_menu": {
    "height": "255px",
    "width": "188px"
   },
   "number_sections": true,
   "sideBar": true,
   "skip_h1_title": false,
   "title_cell": "Table of Contents",
   "title_sidebar": "Contents",
   "toc_cell": false,
   "toc_position": {},
   "toc_section_display": true,
   "toc_window_display": false
  }
 },
 "nbformat": 4,
 "nbformat_minor": 4
}
