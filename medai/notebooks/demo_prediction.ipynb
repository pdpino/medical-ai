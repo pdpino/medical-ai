{
 "cells": [
  {
   "cell_type": "code",
   "execution_count": null,
   "metadata": {},
   "outputs": [],
   "source": [
    "import os\n",
    "import pandas as pd\n",
    "import json\n",
    "import matplotlib\n",
    "import torch\n",
    "from tqdm.notebook import tqdm"
   ]
  },
  {
   "cell_type": "code",
   "execution_count": null,
   "metadata": {},
   "outputs": [],
   "source": [
    "%run ../utils/__init__.py\n",
    "%run ../metrics/__init__.py"
   ]
  },
  {
   "cell_type": "code",
   "execution_count": null,
   "metadata": {},
   "outputs": [],
   "source": [
    "%run ../utils/plots.py"
   ]
  },
  {
   "cell_type": "code",
   "execution_count": null,
   "metadata": {},
   "outputs": [],
   "source": [
    "matplotlib.rcParams['figure.facecolor'] = 'white'"
   ]
  },
  {
   "cell_type": "code",
   "execution_count": null,
   "metadata": {},
   "outputs": [],
   "source": [
    "DEVICE = torch.device('cuda')\n",
    "DEVICE"
   ]
  },
  {
   "cell_type": "markdown",
   "metadata": {},
   "source": [
    "## Load data"
   ]
  },
  {
   "cell_type": "code",
   "execution_count": null,
   "metadata": {},
   "outputs": [],
   "source": [
    "%run ../datasets/__init__.py"
   ]
  },
  {
   "cell_type": "code",
   "execution_count": null,
   "metadata": {},
   "outputs": [],
   "source": [
    "dataset_kwargs = {\n",
    "    'dataset_name': 'covid-uc',\n",
    "    'max_samples': None,\n",
    "    'frontal_only': False,\n",
    "    'image_size': (512, 512),\n",
    "}\n",
    "dataloader = prepare_data_classification(dataset_type='all', **dataset_kwargs)\n",
    "dataset = dataloader.dataset\n",
    "len(dataset)"
   ]
  },
  {
   "cell_type": "code",
   "execution_count": null,
   "metadata": {},
   "outputs": [],
   "source": []
  },
  {
   "cell_type": "markdown",
   "metadata": {},
   "source": [
    "## Load model"
   ]
  },
  {
   "cell_type": "code",
   "execution_count": null,
   "metadata": {},
   "outputs": [],
   "source": [
    "%run ../models/checkpoint/__init__.py"
   ]
  },
  {
   "cell_type": "code",
   "execution_count": null,
   "metadata": {},
   "outputs": [],
   "source": [
    "run_name = '0717_120222_covid-x_densenet-121_lr1e-06_os_aug-covid'\n",
    "debug = False"
   ]
  },
  {
   "cell_type": "code",
   "execution_count": null,
   "metadata": {},
   "outputs": [],
   "source": [
    "compiled_model = load_compiled_model_classification(run_name, debug, DEVICE)\n",
    "compiled_model.metadata"
   ]
  },
  {
   "cell_type": "code",
   "execution_count": null,
   "metadata": {},
   "outputs": [],
   "source": []
  },
  {
   "cell_type": "code",
   "execution_count": null,
   "metadata": {},
   "outputs": [],
   "source": [
    "model = compiled_model.model\n",
    "_ = model.eval()"
   ]
  },
  {
   "cell_type": "code",
   "execution_count": null,
   "metadata": {},
   "outputs": [],
   "source": []
  },
  {
   "cell_type": "markdown",
   "metadata": {},
   "source": [
    "## Run through data"
   ]
  },
  {
   "cell_type": "code",
   "execution_count": null,
   "metadata": {},
   "outputs": [],
   "source": [
    "from torch.nn.functional import softmax"
   ]
  },
  {
   "cell_type": "code",
   "execution_count": null,
   "metadata": {},
   "outputs": [],
   "source": [
    "from collections import defaultdict"
   ]
  },
  {
   "cell_type": "code",
   "execution_count": null,
   "metadata": {},
   "outputs": [],
   "source": [
    "LABELS = dataloader.dataset.labels\n",
    "LABELS"
   ]
  },
  {
   "cell_type": "code",
   "execution_count": null,
   "metadata": {},
   "outputs": [],
   "source": [
    "COVID_IDX = 0"
   ]
  },
  {
   "cell_type": "code",
   "execution_count": null,
   "metadata": {},
   "outputs": [],
   "source": [
    "debugging = defaultdict(lambda: list())\n",
    "\n",
    "def get_predictions(model, dataloader, covid_threshold=None):\n",
    "    torch.set_grad_enabled(False)\n",
    "\n",
    "    labels = dataloader.dataset.labels\n",
    "    cm_predictions = [[[] for _ in range(len(labels))] for _ in range(len(labels))]\n",
    "\n",
    "    for batch in tqdm(dataloader):\n",
    "        images, labels = batch\n",
    "        images = images.to(DEVICE)\n",
    "        labels = labels.to(DEVICE)\n",
    "\n",
    "        outputs = model(images)\n",
    "        outputs = outputs[0].detach()\n",
    "\n",
    "        for gt, prediction in zip(labels, outputs):\n",
    "            gt = int(gt.item())\n",
    "            label_predicted = prediction.argmax().item()\n",
    "            \n",
    "            # NOTE: forcing threshold on COVID\n",
    "            if covid_threshold and label_predicted == COVID_IDX:\n",
    "                probas = softmax(prediction, dim=-1)\n",
    "                under_threshold = probas.max().item() < covid_threshold\n",
    "                if under_threshold:\n",
    "                    # Use next best thing\n",
    "                    predictions_copy = prediction.clone()\n",
    "                    predictions_copy[COVID_IDX] = prediction.min().item() - 10\n",
    "                    label_predicted = predictions_copy.argmax().item()\n",
    "#                 else:\n",
    "#                     predictions_copy = None # DEBUG\n",
    "                    \n",
    "#                 debugging['threshold'].append((prediction,\n",
    "#                                                probas,\n",
    "#                                                under_threshold,\n",
    "#                                                predictions_copy,\n",
    "#                                                label_predicted))\n",
    "\n",
    "            cm_predictions[gt][label_predicted].append(prediction.cpu())\n",
    "            \n",
    "    cm = [[len(l) for l in row] for row in cm_predictions]\n",
    "    \n",
    "    return cm_predictions, cm"
   ]
  },
  {
   "cell_type": "code",
   "execution_count": null,
   "metadata": {},
   "outputs": [],
   "source": [
    "def plot_distribution(cm_preds, gt_chosen=2, pred_chosen=0, **kwargs):\n",
    "    predictions = cm_preds[gt_chosen][pred_chosen]\n",
    "    selection = f'GT: {LABELS[gt_chosen]}, Pred: {LABELS[pred_chosen]}'\n",
    "    if len(predictions) == 0:\n",
    "        print(f'No predictions match! ({selection})')\n",
    "        return\n",
    "    predictions = torch.stack(predictions)\n",
    "    # shape: n_cases, n_labels\n",
    "    \n",
    "    probas_predicted = softmax(predictions, dim=-1)[:, pred_chosen]\n",
    "    # shape: n_cases\n",
    "    \n",
    "    plt.hist(probas_predicted, **kwargs)\n",
    "    plt.xlabel(f'Prediction probability of class {LABELS[pred_chosen]}')\n",
    "    plt.ylabel('Sample count')\n",
    "    plt.title(f'{selection} ({len(predictions)} cases)')"
   ]
  },
  {
   "cell_type": "code",
   "execution_count": null,
   "metadata": {},
   "outputs": [],
   "source": [
    "cm_preds, cm = get_predictions(model, dataloader, covid_threshold=0.6)"
   ]
  },
  {
   "cell_type": "code",
   "execution_count": null,
   "metadata": {},
   "outputs": [],
   "source": [
    "plot_cm(cm, LABELS)"
   ]
  },
  {
   "cell_type": "code",
   "execution_count": null,
   "metadata": {},
   "outputs": [],
   "source": [
    "plot_cm(cm, LABELS)"
   ]
  },
  {
   "cell_type": "code",
   "execution_count": null,
   "metadata": {},
   "outputs": [],
   "source": [
    "plt.figure(figsize=(15, 4))\n",
    "\n",
    "plt.subplot(1, 3, 1)\n",
    "plot_cm(cm, LABELS, title='Trained on COVID-X, tested on COVID-UC')\n",
    "\n",
    "plt.subplot(1, 3, 2)\n",
    "plot_distribution(cm_preds, 2, 0, bins=20)\n",
    "\n",
    "plt.subplot(1, 3, 3)\n",
    "plot_distribution(cm_preds, 0, 0, bins=20)"
   ]
  },
  {
   "cell_type": "code",
   "execution_count": null,
   "metadata": {},
   "outputs": [],
   "source": [
    "plt.figure(figsize=(15, 4))\n",
    "\n",
    "plt.subplot(1, 3, 1)\n",
    "plot_cm(cm, LABELS, title='Trained on COVID-X, tested on COVID-UC')\n",
    "\n",
    "plt.subplot(1, 3, 2)\n",
    "plot_distribution(cm_preds, 2, 0, bins=20)\n",
    "\n",
    "plt.subplot(1, 3, 3)\n",
    "plot_distribution(cm_preds, 0, 0, bins=20)"
   ]
  },
  {
   "cell_type": "code",
   "execution_count": null,
   "metadata": {},
   "outputs": [],
   "source": []
  },
  {
   "cell_type": "code",
   "execution_count": null,
   "metadata": {},
   "outputs": [],
   "source": []
  },
  {
   "cell_type": "code",
   "execution_count": null,
   "metadata": {},
   "outputs": [],
   "source": []
  }
 ],
 "metadata": {
  "kernelspec": {
   "display_name": "Python 3",
   "language": "python",
   "name": "python3"
  },
  "language_info": {
   "codemirror_mode": {
    "name": "ipython",
    "version": 3
   },
   "file_extension": ".py",
   "mimetype": "text/x-python",
   "name": "python",
   "nbconvert_exporter": "python",
   "pygments_lexer": "ipython3",
   "version": "3.6.9"
  },
  "toc": {
   "base_numbering": 1,
   "nav_menu": {},
   "number_sections": true,
   "sideBar": true,
   "skip_h1_title": false,
   "title_cell": "Table of Contents",
   "title_sidebar": "Contents",
   "toc_cell": false,
   "toc_position": {},
   "toc_section_display": true,
   "toc_window_display": false
  }
 },
 "nbformat": 4,
 "nbformat_minor": 4
}
