{
 "cells": [
  {
   "cell_type": "markdown",
   "metadata": {},
   "source": [
    "# Imports"
   ]
  },
  {
   "cell_type": "code",
   "execution_count": null,
   "metadata": {},
   "outputs": [],
   "source": [
    "%env CUDA_VISIBLE_DEVICES=0"
   ]
  },
  {
   "cell_type": "code",
   "execution_count": null,
   "metadata": {},
   "outputs": [],
   "source": [
    "import torch\n",
    "import os\n",
    "from collections import OrderedDict"
   ]
  },
  {
   "cell_type": "code",
   "execution_count": null,
   "metadata": {},
   "outputs": [],
   "source": [
    "DEVICE = torch.device('cuda')"
   ]
  },
  {
   "cell_type": "code",
   "execution_count": null,
   "metadata": {},
   "outputs": [],
   "source": []
  },
  {
   "cell_type": "markdown",
   "metadata": {},
   "source": [
    "# Load models and rename layers"
   ]
  },
  {
   "cell_type": "code",
   "execution_count": null,
   "metadata": {},
   "outputs": [],
   "source": [
    "from tqdm.auto import tqdm"
   ]
  },
  {
   "cell_type": "code",
   "execution_count": null,
   "metadata": {},
   "outputs": [],
   "source": [
    "%run ../models/checkpoint/__init__.py\n",
    "%run ../utils/files.py"
   ]
  },
  {
   "cell_type": "markdown",
   "metadata": {},
   "source": [
    "## Rename function"
   ]
  },
  {
   "cell_type": "code",
   "execution_count": null,
   "metadata": {},
   "outputs": [],
   "source": [
    "def rename_layer(name):\n",
    "    name = name.replace('attention_layer', 'attention')\n",
    "    name = name.replace('lstm_cell', 'word_lstm')\n",
    "    name = name.replace('W_vocab', 'word_fc')\n",
    "    name = name.replace('embeddings_table', 'word_embeddings')\n",
    "    name = name.replace('features_fc.2', 'features_fc')\n",
    "    \n",
    "    name = name.replace('stop_control.0', 'stop_control')\n",
    "    name = name.replace('last_fc.1', 'last_fc')\n",
    "\n",
    "    return name"
   ]
  },
  {
   "cell_type": "code",
   "execution_count": null,
   "metadata": {},
   "outputs": [],
   "source": [
    "def test_rename_layers(layers):\n",
    "    new_layers = []\n",
    "    for layer in layers:\n",
    "        layer2 = rename_layer(layer)\n",
    "        if layer2 not in layers:\n",
    "            new_layers.append((layer, layer2))\n",
    "        if layer2 != layer:\n",
    "            print(f'{layer:<42} {layer2 if layer2 != layer else \"SAME\"}')\n",
    "    return new_layers"
   ]
  },
  {
   "cell_type": "markdown",
   "metadata": {},
   "source": [
    "## Rename"
   ]
  },
  {
   "cell_type": "code",
   "execution_count": null,
   "metadata": {},
   "outputs": [],
   "source": [
    "run_ids = [\n",
    "    # RunId('0430_231758', True, 'rg'),\n",
    "    # RunId('0428_200424', True, 'rg'),\n",
    "    RunId(name, False, 'rg')\n",
    "    for name in os.listdir(_get_parent_folder('models', False, 'rg'))\n",
    "    if name != 'debug'\n",
    "]\n",
    "len(run_ids)"
   ]
  },
  {
   "cell_type": "code",
   "execution_count": null,
   "metadata": {},
   "outputs": [],
   "source": [
    "for run_id in tqdm(run_ids):\n",
    "    folder = get_checkpoint_folder(run_id, save_mode=False, assert_exists=True)\n",
    "\n",
    "    for filepath in os.listdir(folder):\n",
    "        if not 'checkpoint' in filepath:\n",
    "            continue\n",
    "        filepath = os.path.join(folder, filepath)\n",
    "        \n",
    "        # Load checkpoint\n",
    "        checkpoint = torch.load(filepath, map_location=DEVICE)\n",
    "        \n",
    "        # Rename layers\n",
    "        state_dict = checkpoint['model']\n",
    "        new_state_dict = OrderedDict()\n",
    "        for key, value in state_dict.items():\n",
    "            new_key = rename_layer(key)\n",
    "            new_state_dict[new_key] = value\n",
    "        \n",
    "        # Override layers and save\n",
    "        checkpoint['model'] = new_state_dict\n",
    "        torch.save(checkpoint, filepath2) # TODO: change filepath2 by a new one"
   ]
  },
  {
   "cell_type": "code",
   "execution_count": null,
   "metadata": {},
   "outputs": [],
   "source": []
  },
  {
   "cell_type": "code",
   "execution_count": null,
   "metadata": {},
   "outputs": [],
   "source": []
  }
 ],
 "metadata": {
  "kernelspec": {
   "display_name": "Python 3",
   "language": "python",
   "name": "python3"
  },
  "language_info": {
   "codemirror_mode": {
    "name": "ipython",
    "version": 3
   },
   "file_extension": ".py",
   "mimetype": "text/x-python",
   "name": "python",
   "nbconvert_exporter": "python",
   "pygments_lexer": "ipython3",
   "version": "3.6.9"
  },
  "toc": {
   "base_numbering": 1,
   "nav_menu": {},
   "number_sections": true,
   "sideBar": true,
   "skip_h1_title": false,
   "title_cell": "Table of Contents",
   "title_sidebar": "Contents",
   "toc_cell": false,
   "toc_position": {},
   "toc_section_display": true,
   "toc_window_display": false
  }
 },
 "nbformat": 4,
 "nbformat_minor": 4
}
