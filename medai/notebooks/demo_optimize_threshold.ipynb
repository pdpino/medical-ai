{
 "cells": [
  {
   "cell_type": "markdown",
   "metadata": {},
   "source": [
    "# Import"
   ]
  },
  {
   "cell_type": "code",
   "execution_count": null,
   "metadata": {},
   "outputs": [],
   "source": [
    "import pandas as pd"
   ]
  },
  {
   "cell_type": "code",
   "execution_count": null,
   "metadata": {},
   "outputs": [],
   "source": [
    "import matplotlib.pyplot as plt\n",
    "import matplotlib\n",
    "matplotlib.rcParams['figure.facecolor'] = 'white'"
   ]
  },
  {
   "cell_type": "code",
   "execution_count": null,
   "metadata": {},
   "outputs": [],
   "source": []
  },
  {
   "cell_type": "markdown",
   "metadata": {},
   "source": [
    "# Load run"
   ]
  },
  {
   "cell_type": "code",
   "execution_count": null,
   "metadata": {},
   "outputs": [],
   "source": [
    "%run ../utils/files.py"
   ]
  },
  {
   "cell_type": "code",
   "execution_count": null,
   "metadata": {},
   "outputs": [],
   "source": [
    "run_id = RunId('0422_163242', False, 'cls-seg')\n",
    "run_id"
   ]
  },
  {
   "cell_type": "code",
   "execution_count": null,
   "metadata": {},
   "outputs": [],
   "source": [
    "results_folder = get_results_folder(run_id)\n",
    "fpath = os.path.join(results_folder, 'outputs.csv')\n",
    "df = pd.read_csv(fpath)\n",
    "df.head()"
   ]
  },
  {
   "cell_type": "code",
   "execution_count": null,
   "metadata": {},
   "outputs": [],
   "source": []
  },
  {
   "cell_type": "markdown",
   "metadata": {},
   "source": [
    "# Calculate threshs"
   ]
  },
  {
   "cell_type": "code",
   "execution_count": null,
   "metadata": {},
   "outputs": [],
   "source": [
    "%run ../metrics/classification/optimize_threshold.py\n",
    "# %run ../utils/common.py"
   ]
  },
  {
   "cell_type": "code",
   "execution_count": null,
   "metadata": {},
   "outputs": [],
   "source": [
    "diseases = _get_diseases_from_results_df(df)\n",
    "len(diseases)"
   ]
  },
  {
   "cell_type": "code",
   "execution_count": null,
   "metadata": {},
   "outputs": [],
   "source": [
    "val_df = df.loc[df['dataset_type'] == 'val']\n",
    "print(len(val_df))\n",
    "assert len(val_df['filename'].unique()) == len(val_df)\n",
    "val_df.head()"
   ]
  },
  {
   "cell_type": "code",
   "execution_count": null,
   "metadata": {},
   "outputs": [],
   "source": []
  },
  {
   "cell_type": "markdown",
   "metadata": {},
   "source": [
    "## Plot ROC curve"
   ]
  },
  {
   "cell_type": "code",
   "execution_count": null,
   "metadata": {},
   "outputs": [],
   "source": [
    "def get_gt_pred_for_disease(disease):\n",
    "    gt = val_df[f'{disease}-gt'].to_numpy()\n",
    "    pred = val_df[f'{disease}-pred'].to_numpy()\n",
    "    return gt, pred"
   ]
  },
  {
   "cell_type": "code",
   "execution_count": null,
   "metadata": {},
   "outputs": [],
   "source": [
    "disease = 'Cardiomegaly'"
   ]
  },
  {
   "cell_type": "code",
   "execution_count": null,
   "metadata": {},
   "outputs": [],
   "source": [
    "gt, pred = get_gt_pred_for_disease(disease)\n",
    "fpr, tpr, thresholds = roc_curve(gt, pred)\n",
    "thresholds[0] = 1\n",
    "\n",
    "J_stat = tpr - fpr\n",
    "best_idx = J_stat.argmax()\n",
    "thresholds[best_idx], J_stat[best_idx]"
   ]
  },
  {
   "cell_type": "code",
   "execution_count": null,
   "metadata": {
    "scrolled": true
   },
   "outputs": [],
   "source": [
    "n_rows = 1\n",
    "n_cols = 2\n",
    "plt.figure(figsize=(14, 5))\n",
    "\n",
    "plt.subplot(n_rows, n_cols, 1)\n",
    "plt.plot(fpr, tpr)\n",
    "plt.title(f'ROC-curve ({disease})', fontsize=25)\n",
    "plt.xlabel('False positive rate', fontsize=18)\n",
    "plt.ylabel('True positive rate', fontsize=18)\n",
    "\n",
    "plt.scatter(fpr[best_idx], tpr[best_idx], marker='o', color='orange')\n",
    "\n",
    "plt.subplot(n_rows, n_cols, 2)\n",
    "plt.plot(thresholds, J_stat)\n",
    "plt.title('Optimal threshold', fontsize=20)\n",
    "plt.xlabel('Threshold', fontsize=18)\n",
    "plt.ylabel('J = tpr - fpr', fontsize=18)"
   ]
  },
  {
   "cell_type": "code",
   "execution_count": null,
   "metadata": {},
   "outputs": [],
   "source": []
  },
  {
   "cell_type": "markdown",
   "metadata": {},
   "source": [
    "## Plot PR curves"
   ]
  },
  {
   "cell_type": "code",
   "execution_count": null,
   "metadata": {},
   "outputs": [],
   "source": [
    "precision, recall, thresholds = precision_recall_curve(gt, pred)\n",
    "precision = precision[:-1]\n",
    "recall = recall[:-1]\n",
    "\n",
    "\n",
    "f1 = divide_arrays(2 * precision * recall, precision + recall)\n",
    "best_idx = f1.argmax()\n",
    "best_idx, thresholds[best_idx], f1[best_idx]"
   ]
  },
  {
   "cell_type": "code",
   "execution_count": null,
   "metadata": {},
   "outputs": [],
   "source": [
    "plt.figure(figsize=(14, 5))\n",
    "\n",
    "plt.subplot(1, 2, 1)\n",
    "plt.plot(recall, precision)\n",
    "plt.title(f'PR-curve ({disease})', fontsize=25)\n",
    "plt.xlabel('Recall', fontsize=18)\n",
    "plt.ylabel('Precision', fontsize=18)\n",
    "\n",
    "plt.scatter(recall[best_idx], precision[best_idx], marker='o', color='orange')\n",
    "\n",
    "plt.subplot(1, 2, 2)\n",
    "plt.plot(thresholds, f1)\n",
    "plt.title('Optimal threshold', fontsize=20)\n",
    "plt.xlabel('Threshold', fontsize=18)\n",
    "plt.ylabel('F1', fontsize=18)"
   ]
  },
  {
   "cell_type": "code",
   "execution_count": null,
   "metadata": {},
   "outputs": [],
   "source": []
  },
  {
   "cell_type": "code",
   "execution_count": null,
   "metadata": {},
   "outputs": [],
   "source": []
  }
 ],
 "metadata": {
  "kernelspec": {
   "display_name": "Python 3",
   "language": "python",
   "name": "python3"
  },
  "language_info": {
   "codemirror_mode": {
    "name": "ipython",
    "version": 3
   },
   "file_extension": ".py",
   "mimetype": "text/x-python",
   "name": "python",
   "nbconvert_exporter": "python",
   "pygments_lexer": "ipython3",
   "version": "3.6.9"
  },
  "toc": {
   "base_numbering": 1,
   "nav_menu": {},
   "number_sections": true,
   "sideBar": true,
   "skip_h1_title": false,
   "title_cell": "Table of Contents",
   "title_sidebar": "Contents",
   "toc_cell": false,
   "toc_position": {},
   "toc_section_display": true,
   "toc_window_display": false
  }
 },
 "nbformat": 4,
 "nbformat_minor": 4
}
