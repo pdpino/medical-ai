{
 "cells": [
  {
   "cell_type": "markdown",
   "metadata": {},
   "source": [
    "# Imports"
   ]
  },
  {
   "cell_type": "code",
   "execution_count": null,
   "metadata": {},
   "outputs": [],
   "source": [
    "%env CUDA_VISIBLE_DEVICES=1"
   ]
  },
  {
   "cell_type": "code",
   "execution_count": null,
   "metadata": {},
   "outputs": [],
   "source": [
    "import torch\n",
    "import re\n",
    "import os\n",
    "from collections import OrderedDict"
   ]
  },
  {
   "cell_type": "code",
   "execution_count": null,
   "metadata": {},
   "outputs": [],
   "source": [
    "DEVICE = torch.device('cuda')"
   ]
  },
  {
   "cell_type": "code",
   "execution_count": null,
   "metadata": {},
   "outputs": [],
   "source": []
  },
  {
   "cell_type": "markdown",
   "metadata": {},
   "source": [
    "# Load models and rename layers"
   ]
  },
  {
   "cell_type": "code",
   "execution_count": null,
   "metadata": {},
   "outputs": [],
   "source": [
    "from tqdm.auto import tqdm"
   ]
  },
  {
   "cell_type": "code",
   "execution_count": null,
   "metadata": {},
   "outputs": [],
   "source": [
    "%run ../models/checkpoint/__init__.py\n",
    "%run ../utils/files.py"
   ]
  },
  {
   "cell_type": "code",
   "execution_count": null,
   "metadata": {},
   "outputs": [],
   "source": [
    "def test_rename_layers(layers):\n",
    "    new_layers = []\n",
    "    for layer in layers:\n",
    "        layer2 = rename_layer(layer)\n",
    "        if layer2 not in layers:\n",
    "            new_layers.append((layer, layer2))\n",
    "        if layer2 != layer:\n",
    "            print(f'{layer:<42} {layer2 if layer2 != layer else \"SAME\"}')\n",
    "    return new_layers"
   ]
  },
  {
   "cell_type": "code",
   "execution_count": null,
   "metadata": {},
   "outputs": [],
   "source": [
    "def load_checkpoint(run_id):\n",
    "    folder = get_checkpoint_folder(run_id, save_mode=False, assert_exists=True)\n",
    "\n",
    "    for filepath in os.listdir(folder):\n",
    "        if 'checkpoint' in filepath:\n",
    "            filepath = os.path.join(folder, filepath)\n",
    "            return torch.load(filepath, map_location=DEVICE)\n",
    "    raise Exception(f'No checkpoint found in {folder}')"
   ]
  },
  {
   "cell_type": "code",
   "execution_count": null,
   "metadata": {},
   "outputs": [],
   "source": [
    "def rename_checkpoints(run_ids, fixed=True, dry=True):\n",
    "    for run_id in tqdm(run_ids):\n",
    "        folder = get_checkpoint_folder(run_id, save_mode=False, assert_exists=True)\n",
    "\n",
    "        for filepath in os.listdir(folder):\n",
    "            if not 'checkpoint' in filepath:\n",
    "                continue\n",
    "            filepath = os.path.join(folder, filepath)\n",
    "\n",
    "            # Load checkpoint\n",
    "            checkpoint = torch.load(filepath, map_location=DEVICE)\n",
    "\n",
    "            # Rename layers\n",
    "            state_dict = checkpoint['model']\n",
    "            new_state_dict = OrderedDict()\n",
    "            for key, value in state_dict.items():\n",
    "                new_key = rename_layer(key)\n",
    "                new_state_dict[new_key] = value\n",
    "\n",
    "            # Override layers\n",
    "            checkpoint['model'] = new_state_dict\n",
    "            \n",
    "            # Get new dest\n",
    "            if fixed:\n",
    "                path_dest = filepath.replace('/models/', '/models/fixed/')\n",
    "            else:\n",
    "                path_dest = filepath\n",
    "\n",
    "            # Save to new dest\n",
    "            if dry:\n",
    "                if filepath == path_dest:\n",
    "                    print(f'Would override {filepath}')\n",
    "                else:\n",
    "                    print(f'Would save from {filepath} to {path_dest}')\n",
    "            else:\n",
    "                os.makedirs(os.path.dirname(path_dest), exist_ok=True)\n",
    "                torch.save(checkpoint, path_dest)"
   ]
  },
  {
   "cell_type": "code",
   "execution_count": null,
   "metadata": {},
   "outputs": [],
   "source": []
  },
  {
   "cell_type": "markdown",
   "metadata": {},
   "source": [
    "## RG"
   ]
  },
  {
   "cell_type": "code",
   "execution_count": null,
   "metadata": {},
   "outputs": [],
   "source": [
    "def rename_layer(name):\n",
    "#     name = name.replace('attention_layer', 'attention')\n",
    "#     name = name.replace('lstm_cell', 'word_lstm')\n",
    "#     name = name.replace('W_vocab', 'word_fc')\n",
    "#     name = name.replace('embeddings_table', 'word_embeddings')\n",
    "#     name = name.replace('features_fc.2', 'features_fc')\n",
    "    \n",
    "#     name = name.replace('stop_control.0', 'stop_control')\n",
    "#     name = name.replace('last_fc.1', 'last_fc')\n",
    "    name = name.replace('classifier.1', 'classifier')\n",
    "\n",
    "    return name"
   ]
  },
  {
   "cell_type": "code",
   "execution_count": null,
   "metadata": {},
   "outputs": [],
   "source": [
    "run_ids = [\n",
    "    # RunId('0430_231758', True, 'rg'),\n",
    "    # RunId('0428_200424', True, 'rg'),\n",
    "    RunId(name, False, 'rg')\n",
    "    for name in os.listdir(_get_parent_folder('models', False, 'rg'))\n",
    "    if re.search(r'^\\d{4}_\\d{6}', name)\n",
    "]\n",
    "len(run_ids)"
   ]
  },
  {
   "cell_type": "code",
   "execution_count": null,
   "metadata": {},
   "outputs": [],
   "source": [
    "checkpoint = load_checkpoint(run_ids[0])\n",
    "test_rename_layers(checkpoint['model'].keys())"
   ]
  },
  {
   "cell_type": "code",
   "execution_count": null,
   "metadata": {},
   "outputs": [],
   "source": [
    "rename_checkpoints(run_ids, fixed=False, dry=False)"
   ]
  },
  {
   "cell_type": "code",
   "execution_count": null,
   "metadata": {},
   "outputs": [],
   "source": []
  },
  {
   "cell_type": "markdown",
   "metadata": {},
   "source": [
    "## CLS-SEG"
   ]
  },
  {
   "cell_type": "code",
   "execution_count": null,
   "metadata": {},
   "outputs": [],
   "source": [
    "def rename_layer(name):\n",
    "    name = name.replace('classifier.1', 'classifier')\n",
    "    return name"
   ]
  },
  {
   "cell_type": "code",
   "execution_count": null,
   "metadata": {},
   "outputs": [],
   "source": [
    "run_ids = [\n",
    "    # RunId('0430_231758', True, 'rg'),\n",
    "    # RunId('0428_200424', True, 'rg'),\n",
    "    RunId(name, False, 'cls-seg')\n",
    "    for name in os.listdir(_get_parent_folder('models', False, 'cls-seg'))\n",
    "    if name != 'debug' and name != 'fixed'\n",
    "]\n",
    "# run_ids = [r for r in run_ids if 'densenet-121-cls-seg' in r.name]\n",
    "len(run_ids)"
   ]
  },
  {
   "cell_type": "code",
   "execution_count": null,
   "metadata": {},
   "outputs": [],
   "source": [
    "# checkpoint = load_checkpoint(run_ids[0])\n",
    "len(checkpoint['model'].keys())"
   ]
  },
  {
   "cell_type": "code",
   "execution_count": null,
   "metadata": {},
   "outputs": [],
   "source": [
    "[c for c in checkpoint['model'].keys() if 'classifier' in c]"
   ]
  },
  {
   "cell_type": "code",
   "execution_count": null,
   "metadata": {},
   "outputs": [],
   "source": [
    "test_rename_layers(checkpoint['model'].keys())"
   ]
  },
  {
   "cell_type": "code",
   "execution_count": null,
   "metadata": {},
   "outputs": [],
   "source": [
    "rename_checkpoints(run_ids, dry=False)"
   ]
  },
  {
   "cell_type": "code",
   "execution_count": null,
   "metadata": {},
   "outputs": [],
   "source": []
  }
 ],
 "metadata": {
  "kernelspec": {
   "display_name": "Python 3",
   "language": "python",
   "name": "python3"
  },
  "language_info": {
   "codemirror_mode": {
    "name": "ipython",
    "version": 3
   },
   "file_extension": ".py",
   "mimetype": "text/x-python",
   "name": "python",
   "nbconvert_exporter": "python",
   "pygments_lexer": "ipython3",
   "version": "3.6.9"
  },
  "toc": {
   "base_numbering": 1,
   "nav_menu": {},
   "number_sections": true,
   "sideBar": true,
   "skip_h1_title": false,
   "title_cell": "Table of Contents",
   "title_sidebar": "Contents",
   "toc_cell": false,
   "toc_position": {},
   "toc_section_display": true,
   "toc_window_display": false
  }
 },
 "nbformat": 4,
 "nbformat_minor": 4
}
