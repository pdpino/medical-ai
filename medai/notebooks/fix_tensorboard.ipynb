{
 "cells": [
  {
   "cell_type": "markdown",
   "metadata": {},
   "source": [
    "# Imports"
   ]
  },
  {
   "cell_type": "code",
   "execution_count": null,
   "metadata": {},
   "outputs": [],
   "source": [
    "import numpy as np\n",
    "import tensorboard as tb\n",
    "from tensorboardX import SummaryWriter"
   ]
  },
  {
   "cell_type": "code",
   "execution_count": null,
   "metadata": {},
   "outputs": [],
   "source": [
    "import matplotlib.pyplot as plt"
   ]
  },
  {
   "cell_type": "code",
   "execution_count": null,
   "metadata": {},
   "outputs": [],
   "source": [
    "import matplotlib\n",
    "matplotlib.rcParams['figure.facecolor'] = 'white'\n",
    "matplotlib.rcParams['figure.figsize'] = (15, 5)"
   ]
  },
  {
   "cell_type": "code",
   "execution_count": null,
   "metadata": {},
   "outputs": [],
   "source": [
    "%run ../utils/files.py"
   ]
  },
  {
   "cell_type": "code",
   "execution_count": null,
   "metadata": {},
   "outputs": [],
   "source": [
    "# TB_ID = 'eIkFKGjGSZmJjo5DmDomkA'\n",
    "TB_ID = 'VXpHYn3eTYCOtZC9evpZsQ'"
   ]
  },
  {
   "cell_type": "code",
   "execution_count": null,
   "metadata": {},
   "outputs": [],
   "source": []
  },
  {
   "cell_type": "markdown",
   "metadata": {},
   "source": [
    "# Load data"
   ]
  },
  {
   "cell_type": "code",
   "execution_count": null,
   "metadata": {},
   "outputs": [],
   "source": [
    "experiment = tb.data.experimental.ExperimentFromDev(TB_ID)"
   ]
  },
  {
   "cell_type": "code",
   "execution_count": null,
   "metadata": {},
   "outputs": [],
   "source": [
    "df = experiment.get_scalars()\n",
    "df.head()"
   ]
  },
  {
   "cell_type": "code",
   "execution_count": null,
   "metadata": {},
   "outputs": [],
   "source": [
    "runs = list(df['run'].unique())\n",
    "len(df), len(runs)"
   ]
  },
  {
   "cell_type": "code",
   "execution_count": null,
   "metadata": {},
   "outputs": [],
   "source": []
  },
  {
   "cell_type": "markdown",
   "metadata": {
    "heading_collapsed": true
   },
   "source": [
    "# Add chex-f1"
   ]
  },
  {
   "cell_type": "code",
   "execution_count": null,
   "metadata": {
    "hidden": true
   },
   "outputs": [],
   "source": [
    "for run in runs:\n",
    "    run_id = RunId(run, debug=False, task='rg', experiment='best-cnn')\n",
    "    writer = SummaryWriter(get_tb_log_folder(run_id))\n",
    "\n",
    "    d = df.loc[df['run'] == run]\n",
    "    d = d.loc[d['tag'].str.contains('chex_f1')]\n",
    "    d = d.loc[~d['tag'].str.contains('No_Finding')]\n",
    "    d2 = d.replace(r'chex_f1_\\w+/(\\w+)', r'\\1', regex=True)\n",
    "    s = d2.groupby(['tag', 'step'])['value'].apply(np.mean)\n",
    "\n",
    "    for split in ('train', 'val'):\n",
    "        for step, value in s[split].items():\n",
    "            writer.add_scalar(f'Chex_f1_woNF/{split}', value, step)\n",
    "            \n",
    "    writer.close()"
   ]
  },
  {
   "cell_type": "code",
   "execution_count": null,
   "metadata": {
    "hidden": true
   },
   "outputs": [],
   "source": [
    "run"
   ]
  },
  {
   "cell_type": "code",
   "execution_count": null,
   "metadata": {
    "hidden": true
   },
   "outputs": [],
   "source": [
    "for step, value in curve.items():\n",
    "    continue"
   ]
  },
  {
   "cell_type": "code",
   "execution_count": null,
   "metadata": {
    "hidden": true
   },
   "outputs": [],
   "source": [
    "s"
   ]
  },
  {
   "cell_type": "code",
   "execution_count": null,
   "metadata": {
    "hidden": true
   },
   "outputs": [],
   "source": [
    "n_rows = 2\n",
    "n_cols = 1\n",
    "\n",
    "print(run)\n",
    "for i, split in enumerate(('train', 'val')):\n",
    "    plt.subplot(n_rows, n_cols, i + 1)\n",
    "    plt.title(split)\n",
    "    plt.plot(s[split].index, s[split].values)"
   ]
  },
  {
   "cell_type": "code",
   "execution_count": null,
   "metadata": {
    "hidden": true
   },
   "outputs": [],
   "source": []
  },
  {
   "cell_type": "markdown",
   "metadata": {},
   "source": [
    "# Re-write metrics\n",
    "\n",
    "Fix names"
   ]
  },
  {
   "cell_type": "code",
   "execution_count": null,
   "metadata": {},
   "outputs": [],
   "source": [
    "def _rename_tag(tag):\n",
    "    return tag.replace('wonf', 'woNF')"
   ]
  },
  {
   "cell_type": "code",
   "execution_count": null,
   "metadata": {},
   "outputs": [],
   "source": [
    "_rename_tag('chexf1')"
   ]
  },
  {
   "cell_type": "code",
   "execution_count": null,
   "metadata": {},
   "outputs": [],
   "source": [
    "runs = [\n",
    "    '0420_223832_iu-x-ray_lstm-v2_lr0.0001_precnn-0420-174100_normS_size256_front',\n",
    "    '0421_062547_iu-x-ray_lstm-att-v2_lr0.0001_precnn-0420-174100_normS_size256_front',\n",
    "]"
   ]
  },
  {
   "cell_type": "code",
   "execution_count": null,
   "metadata": {},
   "outputs": [],
   "source": [
    "for run in runs:\n",
    "    # new_run_name = f'{run}__copy'\n",
    "    run_id = RunId(run, debug=False, task='rg', experiment='best-cnn-fixed')\n",
    "    writer = SummaryWriter(get_tb_log_folder(run_id))\n",
    "\n",
    "    sub_df = df.loc[df['run'] == run]\n",
    "    for index, row in sub_df.iterrows():\n",
    "        tag = row['tag']\n",
    "        step = row['step']\n",
    "        value = row['value']\n",
    "\n",
    "        tag = _rename_tag(tag)\n",
    "        writer.add_scalar(tag, value, step)\n",
    "    \n",
    "    writer.close()"
   ]
  },
  {
   "cell_type": "code",
   "execution_count": null,
   "metadata": {},
   "outputs": [],
   "source": []
  },
  {
   "cell_type": "code",
   "execution_count": null,
   "metadata": {},
   "outputs": [],
   "source": []
  }
 ],
 "metadata": {
  "kernelspec": {
   "display_name": "Python 3",
   "language": "python",
   "name": "python3"
  },
  "language_info": {
   "codemirror_mode": {
    "name": "ipython",
    "version": 3
   },
   "file_extension": ".py",
   "mimetype": "text/x-python",
   "name": "python",
   "nbconvert_exporter": "python",
   "pygments_lexer": "ipython3",
   "version": "3.6.9"
  },
  "toc": {
   "base_numbering": 1,
   "nav_menu": {},
   "number_sections": true,
   "sideBar": true,
   "skip_h1_title": false,
   "title_cell": "Table of Contents",
   "title_sidebar": "Contents",
   "toc_cell": false,
   "toc_position": {},
   "toc_section_display": true,
   "toc_window_display": false
  }
 },
 "nbformat": 4,
 "nbformat_minor": 4
}
