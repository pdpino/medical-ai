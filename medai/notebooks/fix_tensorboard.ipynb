{
 "cells": [
  {
   "cell_type": "markdown",
   "metadata": {},
   "source": [
    "# Imports"
   ]
  },
  {
   "cell_type": "code",
   "execution_count": null,
   "metadata": {},
   "outputs": [],
   "source": [
    "import numpy as np\n",
    "import tensorboard as tb\n",
    "from tensorboardX import SummaryWriter"
   ]
  },
  {
   "cell_type": "code",
   "execution_count": null,
   "metadata": {},
   "outputs": [],
   "source": [
    "import matplotlib.pyplot as plt"
   ]
  },
  {
   "cell_type": "code",
   "execution_count": null,
   "metadata": {},
   "outputs": [],
   "source": [
    "import matplotlib\n",
    "matplotlib.rcParams['figure.facecolor'] = 'white'\n",
    "matplotlib.rcParams['figure.figsize'] = (15, 5)"
   ]
  },
  {
   "cell_type": "code",
   "execution_count": null,
   "metadata": {},
   "outputs": [],
   "source": [
    "%run ../utils/files.py"
   ]
  },
  {
   "cell_type": "code",
   "execution_count": null,
   "metadata": {},
   "outputs": [],
   "source": [
    "# TB_ID = 'SNN6AQpdQc6ILAVWPZ7LyA'"
   ]
  },
  {
   "cell_type": "code",
   "execution_count": null,
   "metadata": {},
   "outputs": [],
   "source": []
  },
  {
   "cell_type": "markdown",
   "metadata": {},
   "source": [
    "# Load data"
   ]
  },
  {
   "cell_type": "code",
   "execution_count": null,
   "metadata": {},
   "outputs": [],
   "source": [
    "experiment = tb.data.experimental.ExperimentFromDev(TB_ID)"
   ]
  },
  {
   "cell_type": "code",
   "execution_count": null,
   "metadata": {},
   "outputs": [],
   "source": [
    "df = experiment.get_scalars(include_wall_time=True)\n",
    "df.head()"
   ]
  },
  {
   "cell_type": "code",
   "execution_count": null,
   "metadata": {},
   "outputs": [],
   "source": [
    "runs = list(df['run'].unique())\n",
    "len(df), len(runs)"
   ]
  },
  {
   "cell_type": "code",
   "execution_count": null,
   "metadata": {},
   "outputs": [],
   "source": [
    "metrics = list(df['tag'].unique())\n",
    "len(metrics)"
   ]
  },
  {
   "cell_type": "code",
   "execution_count": null,
   "metadata": {},
   "outputs": [],
   "source": []
  },
  {
   "cell_type": "markdown",
   "metadata": {
    "heading_collapsed": true
   },
   "source": [
    "# Add chex-f1 without NF"
   ]
  },
  {
   "cell_type": "code",
   "execution_count": null,
   "metadata": {
    "hidden": true
   },
   "outputs": [],
   "source": [
    "for run in runs:\n",
    "    run_id = RunId(run, debug=False, task='rg', experiment='best-cnn')\n",
    "    writer = SummaryWriter(get_tb_log_folder(run_id))\n",
    "\n",
    "    d = df.loc[df['run'] == run]\n",
    "    d = d.loc[d['tag'].str.contains('chex_f1')]\n",
    "    d = d.loc[~d['tag'].str.contains('No_Finding')]\n",
    "    d2 = d.replace(r'chex_f1_\\w+/(\\w+)', r'\\1', regex=True)\n",
    "    s = d2.groupby(['tag', 'step'])['value'].apply(np.mean)\n",
    "\n",
    "    for split in ('train', 'val'):\n",
    "        for step, value in s[split].items():\n",
    "            writer.add_scalar(f'Chex_f1_woNF/{split}', value, step)\n",
    "            \n",
    "    writer.close()"
   ]
  },
  {
   "cell_type": "code",
   "execution_count": null,
   "metadata": {
    "hidden": true
   },
   "outputs": [],
   "source": [
    "n_rows = 2\n",
    "n_cols = 1\n",
    "\n",
    "print(run)\n",
    "for i, split in enumerate(('train', 'val')):\n",
    "    plt.subplot(n_rows, n_cols, i + 1)\n",
    "    plt.title(split)\n",
    "    plt.plot(s[split].index, s[split].values)"
   ]
  },
  {
   "cell_type": "code",
   "execution_count": null,
   "metadata": {
    "hidden": true
   },
   "outputs": [],
   "source": []
  },
  {
   "cell_type": "markdown",
   "metadata": {},
   "source": [
    "# Re-write metrics\n",
    "\n",
    "Fix names"
   ]
  },
  {
   "cell_type": "code",
   "execution_count": null,
   "metadata": {},
   "outputs": [],
   "source": [
    "import re\n",
    "from tqdm.auto import tqdm\n",
    "import numpy as np"
   ]
  },
  {
   "cell_type": "markdown",
   "metadata": {},
   "source": [
    "## Function to rename"
   ]
  },
  {
   "cell_type": "markdown",
   "metadata": {},
   "source": [
    "###  RG"
   ]
  },
  {
   "cell_type": "code",
   "execution_count": null,
   "metadata": {},
   "outputs": [],
   "source": [
    "TASK = 'rg'"
   ]
  },
  {
   "cell_type": "code",
   "execution_count": null,
   "metadata": {},
   "outputs": [],
   "source": [
    "regex = re.compile(r'chex_(acc|npv|prec|recall|spec)/(train|val)\\Z')\n",
    "def _rename_tag(tag):\n",
    "    if regex.match(tag):\n",
    "        return tag.capitalize()\n",
    "    if 'fonly' in tag:\n",
    "        tag = tag.replace('fonly', 'woNF')\n",
    "        tag = tag.replace('chex', 'Chex')\n",
    "        return tag\n",
    "    \n",
    "    return tag"
   ]
  },
  {
   "cell_type": "markdown",
   "metadata": {},
   "source": [
    "### Cls / cls-seg"
   ]
  },
  {
   "cell_type": "code",
   "execution_count": null,
   "metadata": {},
   "outputs": [],
   "source": [
    "# TASK = 'cls-seg'\n",
    "TASK = 'cls'"
   ]
  },
  {
   "cell_type": "code",
   "execution_count": null,
   "metadata": {},
   "outputs": [],
   "source": [
    "def _rename_tag(tag):\n",
    "    tag = tag.replace('pr_auc/', 'PR_auc/')\n",
    "    tag = tag.replace('recall/', 'Recall/')\n",
    "    tag = tag.replace('prec/', 'Prec/')\n",
    "    tag = tag.replace('spec/', 'Spec/')\n",
    "    return tag"
   ]
  },
  {
   "cell_type": "markdown",
   "metadata": {},
   "source": [
    "### Check result"
   ]
  },
  {
   "cell_type": "code",
   "execution_count": null,
   "metadata": {},
   "outputs": [],
   "source": [
    "new_metrics = []\n",
    "for m in metrics:\n",
    "    m2 = _rename_tag(m)\n",
    "    if m2 not in metrics:\n",
    "        new_metrics.append((m, m2))\n",
    "    print(f'{m:<42} {m2 if m2 != m else \"SAME\"}')\n",
    "new_metrics"
   ]
  },
  {
   "cell_type": "markdown",
   "metadata": {},
   "source": [
    "## Rename"
   ]
  },
  {
   "cell_type": "code",
   "execution_count": null,
   "metadata": {},
   "outputs": [],
   "source": [
    "runs = list(df['run'].unique())\n",
    "len(runs)"
   ]
  },
  {
   "cell_type": "code",
   "execution_count": null,
   "metadata": {},
   "outputs": [],
   "source": [
    "runs = [\n",
    "    # '0420_223832_iu-x-ray_lstm-v2_lr0.0001_precnn-0420-174100_normS_size256_front__best-cnn',\n",
    "    # '0421_062547_iu-x-ray_lstm-att-v2_lr0.0001_precnn-0420-174100_normS_size256_front__best-cnn'\n",
    "]"
   ]
  },
  {
   "cell_type": "code",
   "execution_count": null,
   "metadata": {},
   "outputs": [],
   "source": [
    "for run in tqdm(runs):\n",
    "    if run.startswith('fixed'):\n",
    "        continue\n",
    "\n",
    "    run_id = RunId(run, debug=False, task=TASK)\n",
    "    folder = get_tb_log_folder(run_id)\n",
    "    folder = folder.replace('/runs/', '/runs/fixed/')\n",
    "    writer = SummaryWriter(folder)\n",
    "\n",
    "    sub_df = df.loc[df['run'] == run]\n",
    "    \n",
    "    if TASK == 'rg':\n",
    "        # Create a step-to-walltime dict\n",
    "        d = sub_df.loc[sub_df['tag'] == 'Bleu/train']\n",
    "        step_to_walltime = dict(zip(d.step, d.wall_time))\n",
    "    else:\n",
    "        step_to_walltime = dict()\n",
    "\n",
    "    for index, row in sub_df.iterrows():\n",
    "        tag = row['tag']\n",
    "        step = row['step']\n",
    "        value = row['value']\n",
    "        if TASK == 'rg' and step not in step_to_walltime:\n",
    "            print('Step not in s2w: ', run, step, )\n",
    "        walltime = step_to_walltime.get(step, row['wall_time'])\n",
    "        \n",
    "        if run.startswith('0420_031015') and 'chex_f1_fonly' in tag:\n",
    "            # This one is repeated\n",
    "            continue\n",
    "\n",
    "        tag = _rename_tag(tag)\n",
    "        writer.add_scalar(tag, value, step, walltime)\n",
    "    \n",
    "    writer.close()"
   ]
  },
  {
   "cell_type": "code",
   "execution_count": null,
   "metadata": {},
   "outputs": [],
   "source": []
  },
  {
   "cell_type": "code",
   "execution_count": null,
   "metadata": {},
   "outputs": [],
   "source": []
  }
 ],
 "metadata": {
  "kernelspec": {
   "display_name": "Python 3",
   "language": "python",
   "name": "python3"
  },
  "language_info": {
   "codemirror_mode": {
    "name": "ipython",
    "version": 3
   },
   "file_extension": ".py",
   "mimetype": "text/x-python",
   "name": "python",
   "nbconvert_exporter": "python",
   "pygments_lexer": "ipython3",
   "version": "3.6.9"
  },
  "toc": {
   "base_numbering": 1,
   "nav_menu": {},
   "number_sections": true,
   "sideBar": true,
   "skip_h1_title": false,
   "title_cell": "Table of Contents",
   "title_sidebar": "Contents",
   "toc_cell": false,
   "toc_position": {},
   "toc_section_display": true,
   "toc_window_display": false
  }
 },
 "nbformat": 4,
 "nbformat_minor": 4
}
