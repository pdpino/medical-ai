{
 "cells": [
  {
   "cell_type": "markdown",
   "metadata": {},
   "source": [
    "## Imports"
   ]
  },
  {
   "cell_type": "code",
   "execution_count": 5,
   "metadata": {},
   "outputs": [],
   "source": [
    "import torch\n",
    "import os\n",
    "import json\n",
    "import matplotlib.pyplot as plt"
   ]
  },
  {
   "cell_type": "code",
   "execution_count": 6,
   "metadata": {},
   "outputs": [],
   "source": [
    "import matplotlib\n",
    "matplotlib.rcParams['figure.facecolor'] = 'white'"
   ]
  },
  {
   "cell_type": "code",
   "execution_count": 7,
   "metadata": {},
   "outputs": [],
   "source": [
    "%run ../iu_xray.py"
   ]
  },
  {
   "cell_type": "code",
   "execution_count": 8,
   "metadata": {},
   "outputs": [],
   "source": [
    "REPORTS_DIR = os.path.join(DATASET_DIR, 'reports')"
   ]
  },
  {
   "cell_type": "code",
   "execution_count": null,
   "metadata": {},
   "outputs": [],
   "source": []
  },
  {
   "cell_type": "markdown",
   "metadata": {},
   "source": [
    "## Load data"
   ]
  },
  {
   "cell_type": "code",
   "execution_count": 41,
   "metadata": {},
   "outputs": [
    {
     "data": {
      "text/plain": [
       "(3955, 3955)"
      ]
     },
     "execution_count": 41,
     "metadata": {},
     "output_type": "execute_result"
    }
   ],
   "source": [
    "reports_fname = os.path.join(REPORTS_DIR, 'reports.json')\n",
    "with open(reports_fname, 'r') as f:\n",
    "    reports_as_dict = json.load(f)\n",
    "    reports = list(reports_as_dict.values())\n",
    "len(reports_as_dict), len(reports)"
   ]
  },
  {
   "cell_type": "code",
   "execution_count": 146,
   "metadata": {},
   "outputs": [
    {
     "data": {
      "text/plain": [
       "2"
      ]
     },
     "execution_count": 146,
     "metadata": {},
     "output_type": "execute_result"
    }
   ],
   "source": [
    "info_fname = os.path.join(DATASET_DIR, 'info.json')\n",
    "with open(info_fname, 'r') as f:\n",
    "    info = json.load(f)\n",
    "len(info)"
   ]
  },
  {
   "cell_type": "code",
   "execution_count": 65,
   "metadata": {},
   "outputs": [],
   "source": [
    "with open(info_fname, 'w') as f:\n",
    "    json.dump(info, f)"
   ]
  },
  {
   "cell_type": "code",
   "execution_count": 34,
   "metadata": {},
   "outputs": [
    {
     "data": {
      "text/plain": [
       "['CXR947_IM-2442-1001.png',\n",
       " 'CXR994_IM-2478-1001.png',\n",
       " 'CXR2146_IM-0766-13013.png']"
      ]
     },
     "execution_count": 34,
     "metadata": {},
     "output_type": "execute_result"
    }
   ],
   "source": [
    "info['marks']['rotated_left']"
   ]
  },
  {
   "cell_type": "markdown",
   "metadata": {},
   "source": [
    "### Rotate images\n",
    "\n",
    "NOTE: are already rotated!!"
   ]
  },
  {
   "cell_type": "code",
   "execution_count": 55,
   "metadata": {},
   "outputs": [],
   "source": [
    "rotations = [\n",
    "    ('left', -90),\n",
    "    ('right', 90),\n",
    "    ('bottom', 180),\n",
    "]"
   ]
  },
  {
   "cell_type": "code",
   "execution_count": null,
   "metadata": {},
   "outputs": [],
   "source": [
    "for key, degrees in rotations:\n",
    "    images_key = f'rotated_{key}'\n",
    "    for image_name in info['marks'][images_key]:\n",
    "        filepath = os.path.join(DATASET_DIR, 'images', image_name)\n",
    "        img = Image.open(filepath).rotate(degrees)\n",
    "        # img.save(filepath)"
   ]
  },
  {
   "cell_type": "code",
   "execution_count": null,
   "metadata": {},
   "outputs": [],
   "source": []
  },
  {
   "cell_type": "markdown",
   "metadata": {
    "heading_collapsed": true
   },
   "source": [
    "## Clean text"
   ]
  },
  {
   "cell_type": "markdown",
   "metadata": {
    "heading_collapsed": true,
    "hidden": true
   },
   "source": [
    "### Tokenize and clean"
   ]
  },
  {
   "cell_type": "code",
   "execution_count": 11,
   "metadata": {
    "hidden": true
   },
   "outputs": [],
   "source": [
    "import re\n",
    "from collections import defaultdict, Counter"
   ]
  },
  {
   "cell_type": "code",
   "execution_count": 31,
   "metadata": {
    "hidden": true
   },
   "outputs": [
    {
     "data": {
      "text/plain": [
       "'1. low lung volumes\\n2. exam limited on lateral view by superimposed soft tissue and bony structures of the arm\\n3. lungs appear grossly clear . no evidence of pneumonia .\\n4. heart and pulmonary xxxx appear normal\\n5. pleural spaces are clear\\n6. mediastinal contours appear normal\\n7. no acute cardiopulmonary disease on this 8.'"
      ]
     },
     "execution_count": 31,
     "metadata": {},
     "output_type": "execute_result"
    }
   ],
   "source": [
    "# text = 'The previously<BR>described XXXX deformity'\n",
    "text = \"\"\"1. low lung volumes\n",
    "2. exam limited on lateral view by superimposed soft tissue and bony structures of the arm\n",
    "3. lungs appear grossly clear . no evidence of pneumonia .\"\"\"\n",
    "re.sub(r'< ?br ?\\\\?>', ' ', text.lower())"
   ]
  },
  {
   "cell_type": "code",
   "execution_count": 12,
   "metadata": {
    "hidden": true
   },
   "outputs": [],
   "source": [
    "def remove_consecutive_dots(tokens):\n",
    "    clean_tokens = []\n",
    "    last_was_dot = False\n",
    "    for token in tokens:\n",
    "        is_dot = (token == '.')\n",
    "        if last_was_dot and is_dot:\n",
    "            continue\n",
    "\n",
    "        clean_tokens.append(token)\n",
    "        last_was_dot = is_dot\n",
    "            \n",
    "    return clean_tokens"
   ]
  },
  {
   "cell_type": "code",
   "execution_count": 13,
   "metadata": {
    "hidden": true
   },
   "outputs": [
    {
     "data": {
      "text/plain": [
       "['.', 'asdf', 'hello', '.', 'abc', '.', 'c', '.']"
      ]
     },
     "execution_count": 13,
     "metadata": {},
     "output_type": "execute_result"
    }
   ],
   "source": [
    "remove_consecutive_dots(['.', '.', 'asdf', 'hello', '.', 'abc', '.', '.', 'c', '.'])"
   ]
  },
  {
   "cell_type": "code",
   "execution_count": 126,
   "metadata": {
    "hidden": true
   },
   "outputs": [],
   "source": [
    "NUMBER_TOKEN = 'NUMBER'\n",
    "\n",
    "def text_to_tokens(text):\n",
    "    text = text.lower()\n",
    "    # Remove html tags\n",
    "    text = re.sub(r'(\\[)?&amp;[gl]t;(\\])?', ' ', text)\n",
    "    \n",
    "    # PM or AM token\n",
    "    text = re.sub(r'\\s(a|p)\\.?m\\.?\\s', r' \\1m ', text)\n",
    "    \n",
    "    # Replace multiple comma/semicolon with simple coma\n",
    "    text = re.sub(r'(;|,+)', r',', text)\n",
    "    \n",
    "    # Replace numbers with decimals by token\n",
    "    text = re.sub(r'\\d+(\\.|/)\\d+', NUMBER_TOKEN, text)\n",
    "    \n",
    "    # Replace break line tag\n",
    "    text = re.sub(r'< ?br ?\\\\?>', ' ', text)\n",
    "    text = re.sub(r'[\\[\\]<>]', '', text) # Remove brackets [] <>\n",
    "    text = re.sub(r'(\\(|\\))', r' \\1 ', text) # Give space to parenthesis\n",
    "    \n",
    "    text = re.sub(r'\\.+', r'.', text) # Replace multiple dots with one dot\n",
    "    \n",
    "    # Number as enumerators, like \"1. bla bla, 2. bla bla\"\n",
    "    text = re.sub(r'(\\W|\\A)\\d+\\.[^\\d]', r' . ', text)\n",
    "    # text = re.sub(r'(\\d)\\.', r'\\1 .', text)\n",
    "    \n",
    "    # Add space between text and dot/comma\n",
    "    text = re.sub(r'([a-zA-Z0-9])(\\.|,|/)', r'\\1 \\2', text)\n",
    "    text = re.sub(r'(\\.|,|/)([a-zA-Z0-9])', r'\\1 \\2', text)\n",
    "    \n",
    "    # Other numbers\n",
    "    text = re.sub(r'(\\W|\\A)\\d+(a|st|nd|th|rd|\\%|mm|xxxx)?', r'\\1 {}'.format(NUMBER_TOKEN), text)\n",
    "    # text = re.sub(r'\\A\\d+(a|st|nd|th|rd|\\%|mm|xxxx)?', r'\\1 {}'.format(NUMBER_TOKEN), text)\n",
    "    \n",
    "    # Remove apostrophe\n",
    "    text = re.sub(r'(\\w+)\\'[st]?', r'\\1 ', text) # XXXX't is a typo\n",
    "    \n",
    "    # text = re.sub(r'NUMBER\\.', 'NUMBER .', text)\n",
    "    \n",
    "    tokens = remove_consecutive_dots(text.split())\n",
    "    if tokens[0] == '.':\n",
    "        tokens = tokens[1:]\n",
    "        \n",
    "    if tokens[-1] != '.':\n",
    "        tokens.append('.')\n",
    "    return tokens"
   ]
  },
  {
   "cell_type": "code",
   "execution_count": 127,
   "metadata": {
    "hidden": true
   },
   "outputs": [
    {
     "data": {
      "text/plain": [
       "['NUMBER',\n",
       " 'pm',\n",
       " 'message',\n",
       " 'xxxx',\n",
       " 'l10',\n",
       " 'l20',\n",
       " '.',\n",
       " 'there',\n",
       " '/',\n",
       " 'NUMBER',\n",
       " '.',\n",
       " 'mild',\n",
       " 'bilateral',\n",
       " '.']"
      ]
     },
     "execution_count": 127,
     "metadata": {},
     "output_type": "execute_result"
    }
   ],
   "source": [
    "text_to_tokens(\"3 p.m. message xxxx' l10 l20. there's /11 3. mild bilateral\")"
   ]
  },
  {
   "cell_type": "code",
   "execution_count": 131,
   "metadata": {
    "hidden": true
   },
   "outputs": [
    {
     "name": "stdout",
     "output_type": "stream",
     "text": [
      "{'findings-none': 489, 'impression-none': 6}\n",
      "Different tokens:  1819\n",
      "Tokens with more than 1 appearance:  1246\n"
     ]
    },
    {
     "data": {
      "text/plain": [
       "(3826, 3826)"
      ]
     },
     "execution_count": 131,
     "metadata": {},
     "output_type": "execute_result"
    }
   ],
   "source": [
    "IGNORE_TOKENS = set(['p.m.', 'pm', 'am'])\n",
    "token_appearances = Counter()\n",
    "errors = defaultdict(list)\n",
    "\n",
    "cleaned_reports_as_dict = dict()\n",
    "\n",
    "for report in reports:\n",
    "    filename = report['filename']\n",
    "    findings = report['findings']\n",
    "    impression = report['impression']\n",
    "\n",
    "    n_images = len(report['images'])\n",
    "    if n_images == 0:\n",
    "        errors['no-images'].append(filename)\n",
    "        continue\n",
    "    \n",
    "    text = findings\n",
    "    if findings is None and impression is None:\n",
    "        errors['text-none'].append(filename)\n",
    "        continue\n",
    "    elif findings is None:\n",
    "        errors['findings-none'].append(filename)\n",
    "        text = impression\n",
    "    elif impression is None:\n",
    "        errors['impression-none'].append(filename)\n",
    "\n",
    "    # Clean and tokenize text\n",
    "    tokens = [token for token in text_to_tokens(text) if token not in IGNORE_TOKENS]\n",
    "    token_appearances += {\n",
    "        token: 1\n",
    "        for token in tokens\n",
    "    }\n",
    "\n",
    "    cleaned_report = {k: v for k, v in report.items()}\n",
    "    cleaned_report['clean_text'] = ' '.join(tokens)\n",
    "\n",
    "    cleaned_reports_as_dict[filename] = cleaned_report\n",
    "\n",
    "print({k: len(v) for k, v in errors.items()})\n",
    "print('Different tokens: ', len(token_appearances))\n",
    "print('Tokens with more than 1 appearance: ',\n",
    "      len([k for k, v in token_appearances.items() if v > 1]))\n",
    "len(cleaned_reports_as_dict), len(reports)"
   ]
  },
  {
   "cell_type": "code",
   "execution_count": 132,
   "metadata": {
    "hidden": true
   },
   "outputs": [
    {
     "data": {
      "text/plain": [
       "[('i', 1), ('b', 1), ('x', 13), ('a', 480)]"
      ]
     },
     "execution_count": 132,
     "metadata": {},
     "output_type": "execute_result"
    }
   ],
   "source": [
    "sorted([(k, v) for k, v in token_appearances.items() if re.search('\\A\\w\\Z', k)],\n",
    "       key=lambda x:x[1], reverse=False)"
   ]
  },
  {
   "cell_type": "code",
   "execution_count": null,
   "metadata": {
    "hidden": true
   },
   "outputs": [],
   "source": []
  },
  {
   "cell_type": "markdown",
   "metadata": {
    "heading_collapsed": true,
    "hidden": true
   },
   "source": [
    "### Review errors"
   ]
  },
  {
   "cell_type": "code",
   "execution_count": 197,
   "metadata": {
    "collapsed": true,
    "hidden": true
   },
   "outputs": [
    {
     "ename": "IndexError",
     "evalue": "list index out of range",
     "output_type": "error",
     "traceback": [
      "\u001b[0;31m---------------------------------------------------------------------------\u001b[0m",
      "\u001b[0;31mIndexError\u001b[0m                                Traceback (most recent call last)",
      "\u001b[0;32m<ipython-input-197-b8092fb11d8b>\u001b[0m in \u001b[0;36m<module>\u001b[0;34m\u001b[0m\n\u001b[0;32m----> 1\u001b[0;31m \u001b[0mreports_as_dict\u001b[0m\u001b[0;34m[\u001b[0m\u001b[0merrors\u001b[0m\u001b[0;34m[\u001b[0m\u001b[0;34m'no-images'\u001b[0m\u001b[0;34m]\u001b[0m\u001b[0;34m[\u001b[0m\u001b[0;36m0\u001b[0m\u001b[0;34m]\u001b[0m\u001b[0;34m]\u001b[0m\u001b[0;34m\u001b[0m\u001b[0;34m\u001b[0m\u001b[0m\n\u001b[0m",
      "\u001b[0;31mIndexError\u001b[0m: list index out of range"
     ]
    }
   ],
   "source": [
    "reports_as_dict[errors['no-images'][0]]"
   ]
  },
  {
   "cell_type": "markdown",
   "metadata": {
    "hidden": true
   },
   "source": [
    "### Review specific tokens"
   ]
  },
  {
   "cell_type": "code",
   "execution_count": 125,
   "metadata": {
    "hidden": true
   },
   "outputs": [
    {
     "name": "stdout",
     "output_type": "stream",
     "text": [
      "4\n"
     ]
    },
    {
     "data": {
      "text/plain": [
       "[('3207.xml',\n",
       "  \"There's been interval enlargement in the cardiac silhouette. These XXXX't contours are within normal limits. The lungs are normally inflated and clear. Osseous structures are within normal limits for patient age.\",\n",
       "  'there been interval enlargement in the cardiac silhouette . these xxxx t contours are within normal limits . the lungs are normally inflated and clear . osseous structures are within normal limits for patient age .'),\n",
       " ('451.xml',\n",
       "  'On the right there is marked narrowing of the hip joint space uniformly throughout. Osteophyte formation is present with some sclerosis and subchondral cyst formation vertically along the superior acetabulum and femoral head. I do not see evidence for fracture or destructive process. AP view of the femur shows no femoral XXXX destructive process or other significant abnormality. For of the Left hip shows near-complete obliteration of the joint space with severe subchondral sclerosis and cystic formation in both the superior acetabulum and superior aspect of the femoral head. No fracture or destructive process is identified. Surgical markers were XXXX in the images and left hip for the purpose of surgical planning. PA and lateral chest show the lungs to be clear. There may be some hyperinflation. No pleural effusion is identified. The heart is normal in size. There are calcified mediastinal lymph XXXX. The skeletal structures appear normal.',\n",
       "  'on the right there is marked narrowing of the hip joint space uniformly throughout . osteophyte formation is present with some sclerosis and subchondral cyst formation vertically along the superior acetabulum and femoral head . i do not see evidence for fracture or destructive process . ap view of the femur shows no femoral xxxx destructive process or other significant abnormality . for of the left hip shows near-complete obliteration of the joint space with severe subchondral sclerosis and cystic formation in both the superior acetabulum and superior aspect of the femoral head . no fracture or destructive process is identified . surgical markers were xxxx in the images and left hip for the purpose of surgical planning . pa and lateral chest show the lungs to be clear . there may be some hyperinflation . no pleural effusion is identified . the heart is normal in size . there are calcified mediastinal lymph xxxx . the skeletal structures appear normal .'),\n",
       " ('854.xml',\n",
       "  \"The lungs appear clear. The heart and pulmonary XXXX appear normal. The pleural spaces are clear. These XXXX't contours appear normal. There is a XXXX fracture of the midthoracic vertebral body. This vertebral body does not appear sclerotic. The age of this fracture is unknown. There are healed fractures of several left anterior ribs. There is a healed left clavicle fracture.\",\n",
       "  'the lungs appear clear . the heart and pulmonary xxxx appear normal . the pleural spaces are clear . these xxxx t contours appear normal . there is a xxxx fracture of the midthoracic vertebral body . this vertebral body does not appear sclerotic . the age of this fracture is unknown . there are healed fractures of several left anterior ribs . there is a healed left clavicle fracture .'),\n",
       " ('934.xml',\n",
       "  'Cardiomediastinal silhouette is within normal limits of size In appearance. Pulmonary vascularity is unremarkable. There are diffuse, bilateral interstitial opacities, with XXXX B lines demonstrated. Small amount of subpleural edema is demonstrated in the fissures. There is mild blunting of both posterior costophrenic sulci, which may reflect XXXX effusions. Negative for pneumothorax. Limited evaluation reveals the XXXX XXXX the grossly intact.',\n",
       "  'cardiomediastinal silhouette is within normal limits of size in appearance . pulmonary vascularity is unremarkable . there are diffuse , bilateral interstitial opacities , with xxxx b lines demonstrated . small amount of subpleural edema is demonstrated in the fissures . there is mild blunting of both posterior costophrenic sulci , which may reflect xxxx effusions . negative for pneumothorax . limited evaluation reveals the xxxx xxxx the grossly intact .')]"
      ]
     },
     "execution_count": 125,
     "metadata": {},
     "output_type": "execute_result"
    }
   ],
   "source": [
    "found = []\n",
    "\n",
    "for report in cleaned_reports_as_dict.values():\n",
    "    name = report['filename']\n",
    "    text = report['findings']\n",
    "    \n",
    "    clean = report.get('clean_text', None)\n",
    "    if not clean:\n",
    "        try:\n",
    "            clean = cleaned_reports_as_dict[name]['clean_text']\n",
    "        except:\n",
    "            pass\n",
    "    \n",
    "    if clean is None:\n",
    "        continue\n",
    "        \n",
    "    # s = re.search(r'\\W\\d\\b', clean)\n",
    "    # s = re.search(r'xxxx opacity in the left midlung', clean)\n",
    "    s = re.search(r'\\s[ibt]\\s', clean)\n",
    "    if s:\n",
    "        found.append((name, text, clean)) # s.group(0)\n",
    "\n",
    "print(len(found))\n",
    "found"
   ]
  },
  {
   "cell_type": "code",
   "execution_count": null,
   "metadata": {
    "hidden": true
   },
   "outputs": [],
   "source": []
  },
  {
   "cell_type": "markdown",
   "metadata": {
    "hidden": true
   },
   "source": [
    "### Save cleaned reports\n",
    "\n",
    "NOTE: Save after image info below"
   ]
  },
  {
   "cell_type": "code",
   "execution_count": 133,
   "metadata": {
    "hidden": true
   },
   "outputs": [],
   "source": [
    "fname = os.path.join(REPORTS_DIR, 'reports.clean.v2.json')\n",
    "with open(fname, 'w') as f:\n",
    "    json.dump(cleaned_reports_as_dict, f)"
   ]
  },
  {
   "cell_type": "code",
   "execution_count": null,
   "metadata": {
    "hidden": true
   },
   "outputs": [],
   "source": []
  },
  {
   "cell_type": "code",
   "execution_count": null,
   "metadata": {
    "hidden": true
   },
   "outputs": [],
   "source": []
  },
  {
   "cell_type": "code",
   "execution_count": null,
   "metadata": {
    "hidden": true
   },
   "outputs": [],
   "source": []
  },
  {
   "cell_type": "markdown",
   "metadata": {},
   "source": [
    "## Add side to image info (in cleaned reports)\n",
    "\n",
    "TODO: move this to a script!!!\n",
    "\n",
    "`side` can be one of (`frontal`, `lateral-left`, `lateral-right`)"
   ]
  },
  {
   "cell_type": "code",
   "execution_count": 151,
   "metadata": {},
   "outputs": [
    {
     "data": {
      "text/plain": [
       "3826"
      ]
     },
     "execution_count": 151,
     "metadata": {},
     "output_type": "execute_result"
    }
   ],
   "source": [
    "REPORTS_JSON_VERSION = 'reports.clean.v2.json'\n",
    "fname = os.path.join(REPORTS_DIR, REPORTS_JSON_VERSION)\n",
    "with open(fname, 'r') as f:\n",
    "    clean_reports = json.load(f)\n",
    "len(clean_reports)"
   ]
  },
  {
   "cell_type": "code",
   "execution_count": 148,
   "metadata": {},
   "outputs": [],
   "source": [
    "wrong_images = set(info['marks']['wrong'])\n",
    "broken_images = set(info['marks']['broken'])"
   ]
  },
  {
   "cell_type": "code",
   "execution_count": 160,
   "metadata": {},
   "outputs": [
    {
     "data": {
      "text/plain": [
       "3826"
      ]
     },
     "execution_count": 160,
     "metadata": {},
     "output_type": "execute_result"
    }
   ],
   "source": [
    "for report_name, report_dict in clean_reports.items():\n",
    "    new_images_info = []\n",
    "    for image_info in report_dict['images']:\n",
    "        image_name = image_info['id']\n",
    "        image_name = f'{image_name}.png'\n",
    "\n",
    "        image_info['side'] = info['classification'][image_name]\n",
    "        image_info['wrong'] = image_name in wrong_images\n",
    "        image_info['broken'] = image_name in broken_images\n",
    "\n",
    "        new_images_info.append(image_info)\n",
    "    \n",
    "    report_dict['images'] = new_images_info\n",
    "    clean_reports[report_name] = report_dict\n",
    "    \n",
    "len(clean_reports)"
   ]
  },
  {
   "cell_type": "code",
   "execution_count": 162,
   "metadata": {},
   "outputs": [],
   "source": [
    "fname = os.path.join(REPORTS_DIR, REPORTS_JSON_VERSION)\n",
    "with open(fname, 'w') as f:\n",
    "    json.dump(clean_reports, f)"
   ]
  },
  {
   "cell_type": "code",
   "execution_count": null,
   "metadata": {},
   "outputs": [],
   "source": []
  },
  {
   "cell_type": "markdown",
   "metadata": {},
   "source": [
    "## Save common vocab"
   ]
  },
  {
   "cell_type": "code",
   "execution_count": 170,
   "metadata": {},
   "outputs": [],
   "source": [
    "%run ../vocab/__init__.py\n",
    "%run ../iu_xray.py"
   ]
  },
  {
   "cell_type": "code",
   "execution_count": 171,
   "metadata": {},
   "outputs": [
    {
     "data": {
      "text/plain": [
       "5923"
      ]
     },
     "execution_count": 171,
     "metadata": {},
     "output_type": "execute_result"
    }
   ],
   "source": [
    "train_dataset = IUXRayDataset(dataset_type='train', recompute_vocab=True)\n",
    "len(train_dataset)"
   ]
  },
  {
   "cell_type": "code",
   "execution_count": 172,
   "metadata": {},
   "outputs": [
    {
     "data": {
      "text/plain": [
       "1691"
      ]
     },
     "execution_count": 172,
     "metadata": {},
     "output_type": "execute_result"
    }
   ],
   "source": [
    "vocab = train_dataset.get_vocab()\n",
    "len(vocab)"
   ]
  },
  {
   "cell_type": "code",
   "execution_count": 173,
   "metadata": {},
   "outputs": [
    {
     "data": {
      "text/plain": [
       "(1741, 1691)"
      ]
     },
     "execution_count": 173,
     "metadata": {},
     "output_type": "execute_result"
    }
   ],
   "source": [
    "prev_vocab = load_vocab('iu_xray')\n",
    "len(prev_vocab), len(vocab)"
   ]
  },
  {
   "cell_type": "code",
   "execution_count": 174,
   "metadata": {},
   "outputs": [
    {
     "data": {
      "text/plain": [
       "(('hypertension', 1000), ('persistently', 1000))"
      ]
     },
     "execution_count": 174,
     "metadata": {},
     "output_type": "execute_result"
    }
   ],
   "source": [
    "idx = 1000\n",
    "a = [(k, v) for k, v in vocab.items() if v == idx][0]\n",
    "b = [(k, v) for k, v in prev_vocab.items() if v == idx][0]\n",
    "a, b"
   ]
  },
  {
   "cell_type": "code",
   "execution_count": 175,
   "metadata": {},
   "outputs": [],
   "source": [
    "save_vocab('iu_xray', vocab)"
   ]
  },
  {
   "cell_type": "code",
   "execution_count": null,
   "metadata": {},
   "outputs": [],
   "source": []
  },
  {
   "cell_type": "code",
   "execution_count": null,
   "metadata": {},
   "outputs": [],
   "source": []
  },
  {
   "cell_type": "markdown",
   "metadata": {
    "heading_collapsed": true
   },
   "source": [
    "## Calculate image normalization"
   ]
  },
  {
   "cell_type": "code",
   "execution_count": 1,
   "metadata": {
    "hidden": true
   },
   "outputs": [],
   "source": [
    "import torch\n",
    "from tqdm.notebook import tqdm\n",
    "import matplotlib.pyplot as plt"
   ]
  },
  {
   "cell_type": "code",
   "execution_count": 19,
   "metadata": {
    "hidden": true
   },
   "outputs": [],
   "source": [
    "%run ../../utils/images.py"
   ]
  },
  {
   "cell_type": "code",
   "execution_count": 5,
   "metadata": {
    "hidden": true
   },
   "outputs": [],
   "source": [
    "image_folder = os.path.join(DATASET_DIR, 'images')"
   ]
  },
  {
   "cell_type": "code",
   "execution_count": 10,
   "metadata": {
    "hidden": true
   },
   "outputs": [
    {
     "data": {
      "text/plain": [
       "5923"
      ]
     },
     "execution_count": 10,
     "metadata": {},
     "output_type": "execute_result"
    }
   ],
   "source": [
    "dataset = IUXRayDataset('train')\n",
    "len(dataset)"
   ]
  },
  {
   "cell_type": "code",
   "execution_count": 14,
   "metadata": {
    "hidden": true
   },
   "outputs": [
    {
     "data": {
      "text/plain": [
       "5923"
      ]
     },
     "execution_count": 14,
     "metadata": {},
     "output_type": "execute_result"
    }
   ],
   "source": [
    "train_images = [\n",
    "    i if i.endswith('.png') else f'{i}.png'\n",
    "    for i in [r['image_name'] for r in dataset.reports]\n",
    "]\n",
    "len(train_images)"
   ]
  },
  {
   "cell_type": "code",
   "execution_count": 20,
   "metadata": {
    "hidden": true
   },
   "outputs": [
    {
     "data": {
      "application/vnd.jupyter.widget-view+json": {
       "model_id": "8c2dd7d43600482bbf1bb2d4f4ee5bd4",
       "version_major": 2,
       "version_minor": 0
      },
      "text/plain": [
       "HBox(children=(FloatProgress(value=0.0, max=5923.0), HTML(value='')))"
      ]
     },
     "metadata": {},
     "output_type": "display_data"
    },
    {
     "name": "stdout",
     "output_type": "stream",
     "text": [
      "\n"
     ]
    },
    {
     "data": {
      "text/plain": [
       "(tensor([0.4821, 0.4821, 0.4821]), tensor([0.2374, 0.2374, 0.2374]))"
      ]
     },
     "execution_count": 20,
     "metadata": {},
     "output_type": "execute_result"
    }
   ],
   "source": [
    "mean, std = compute_mean_std(ImageFolderIterator(image_folder, train_images), show=True)\n",
    "mean, std"
   ]
  },
  {
   "cell_type": "code",
   "execution_count": null,
   "metadata": {
    "hidden": true
   },
   "outputs": [],
   "source": []
  },
  {
   "cell_type": "markdown",
   "metadata": {
    "hidden": true
   },
   "source": [
    "### Plot average image"
   ]
  },
  {
   "cell_type": "code",
   "execution_count": null,
   "metadata": {
    "hidden": true
   },
   "outputs": [],
   "source": [
    "from torchvision import transforms"
   ]
  },
  {
   "cell_type": "code",
   "execution_count": null,
   "metadata": {
    "hidden": true
   },
   "outputs": [],
   "source": [
    "transform = transforms.Compose([\n",
    "    transforms.Resize((256, 256)),\n",
    "    transforms.ToTensor(),\n",
    "])"
   ]
  },
  {
   "cell_type": "code",
   "execution_count": null,
   "metadata": {
    "hidden": true
   },
   "outputs": [],
   "source": [
    "summed = torch.zeros(3, 256, 256)\n",
    "\n",
    "for image_name in tqdm(image_names):\n",
    "    fpath = os.path.join(image_folder, image_name)\n",
    "    image = transform(Image.open(fpath).convert('RGB'))\n",
    "    summed += image\n",
    "    \n",
    "summed /= len(image_names)"
   ]
  },
  {
   "cell_type": "code",
   "execution_count": 11,
   "metadata": {
    "hidden": true
   },
   "outputs": [
    {
     "data": {
      "text/plain": [
       "torch.Size([256, 256])"
      ]
     },
     "execution_count": 11,
     "metadata": {},
     "output_type": "execute_result"
    }
   ],
   "source": [
    "average_image = summed.mean(dim=0)\n",
    "average_image.size()"
   ]
  },
  {
   "cell_type": "code",
   "execution_count": 16,
   "metadata": {
    "hidden": true
   },
   "outputs": [
    {
     "data": {
      "text/plain": [
       "<matplotlib.image.AxesImage at 0x7f8480494f60>"
      ]
     },
     "execution_count": 16,
     "metadata": {},
     "output_type": "execute_result"
    },
    {
     "data": {
      "image/png": "[encoded data removed]",
      "text/plain": [
       "<Figure size 432x288 with 1 Axes>"
      ]
     },
     "metadata": {
      "needs_background": "light"
     },
     "output_type": "display_data"
    }
   ],
   "source": [
    "plt.imshow(average_image, cmap='gray')"
   ]
  },
  {
   "cell_type": "code",
   "execution_count": null,
   "metadata": {
    "hidden": true
   },
   "outputs": [],
   "source": []
  },
  {
   "cell_type": "markdown",
   "metadata": {},
   "source": [
    "## Test `IUXrayDataset` class"
   ]
  },
  {
   "cell_type": "code",
   "execution_count": 176,
   "metadata": {},
   "outputs": [],
   "source": [
    "import matplotlib.pyplot as plt\n",
    "from PIL import Image\n",
    "import numpy as np\n",
    "from torchvision import transforms"
   ]
  },
  {
   "cell_type": "code",
   "execution_count": 177,
   "metadata": {},
   "outputs": [],
   "source": [
    "%run ../iu_xray.py"
   ]
  },
  {
   "cell_type": "code",
   "execution_count": 178,
   "metadata": {},
   "outputs": [
    {
     "data": {
      "text/plain": [
       "(3800, 1691)"
      ]
     },
     "execution_count": 178,
     "metadata": {},
     "output_type": "execute_result"
    }
   ],
   "source": [
    "dataset = IUXRayDataset(dataset_type='all', masks=True, frontal_only=True)\n",
    "len(dataset), len(dataset.word_to_idx)"
   ]
  },
  {
   "cell_type": "code",
   "execution_count": 11,
   "metadata": {},
   "outputs": [
    {
     "data": {
      "text/plain": [
       "(torch.Size([3, 512, 512]), torch.Size([14]), 4)"
      ]
     },
     "execution_count": 11,
     "metadata": {},
     "output_type": "execute_result"
    }
   ],
   "source": [
    "item = dataset[0]\n",
    "image = item.image\n",
    "labels = item.labels\n",
    "report = item.report\n",
    "image.size(), labels.size(), len(report)"
   ]
  },
  {
   "cell_type": "code",
   "execution_count": 12,
   "metadata": {},
   "outputs": [
    {
     "data": {
      "text/plain": [
       "torch.Size([4, 512, 512])"
      ]
     },
     "execution_count": 12,
     "metadata": {},
     "output_type": "execute_result"
    }
   ],
   "source": [
    "item.masks.size()"
   ]
  },
  {
   "cell_type": "code",
   "execution_count": 18,
   "metadata": {},
   "outputs": [
    {
     "data": {
      "image/png": "[encoded data removed]",
      "text/plain": [
       "<Figure size 576x360 with 4 Axes>"
      ]
     },
     "metadata": {},
     "output_type": "display_data"
    }
   ],
   "source": [
    "plt.figure(figsize=(8, 5))\n",
    "\n",
    "for index, organ in enumerate(JSRT_ORGANS):\n",
    "    plt.subplot(1, 4, index + 1)\n",
    "    plt.imshow(item.masks[index])\n",
    "    plt.title(organ)\n",
    "    plt.axis('off')"
   ]
  },
  {
   "cell_type": "code",
   "execution_count": 19,
   "metadata": {
    "collapsed": true
   },
   "outputs": [
    {
     "name": "stderr",
     "output_type": "stream",
     "text": [
      "Clipping input data to the valid range for imshow with RGB data ([0..1] for floats or [0..255] for integers).\n"
     ]
    },
    {
     "data": {
      "text/plain": [
       "<matplotlib.image.AxesImage at 0x7fca6ef75ac8>"
      ]
     },
     "execution_count": 19,
     "metadata": {},
     "output_type": "execute_result"
    },
    {
     "data": {
      "image/png": "[encoded data removed]",
      "text/plain": [
       "<Figure size 432x288 with 1 Axes>"
      ]
     },
     "metadata": {},
     "output_type": "display_data"
    }
   ],
   "source": [
    "plt.imshow(image.permute(1, 2, 0))"
   ]
  },
  {
   "cell_type": "code",
   "execution_count": 66,
   "metadata": {
    "collapsed": true
   },
   "outputs": [
    {
     "data": {
      "text/plain": [
       "[(0, 0),\n",
       " (1, 0),\n",
       " (2, 0),\n",
       " (3, 0),\n",
       " (4, 0),\n",
       " (5, 0),\n",
       " (6, 0),\n",
       " (7, 0),\n",
       " (8, 0),\n",
       " (9, 0),\n",
       " (10, 0),\n",
       " (11, 0),\n",
       " (12, 0),\n",
       " (13, 0),\n",
       " (14, 0),\n",
       " (15, 0),\n",
       " (16, 0),\n",
       " (17, 0),\n",
       " (18, 0),\n",
       " (19, 0),\n",
       " (20, 1),\n",
       " (21, 1),\n",
       " (22, 0),\n",
       " (23, 0),\n",
       " (24, 0),\n",
       " (25, 0),\n",
       " (26, 0),\n",
       " (27, 0),\n",
       " (28, 0),\n",
       " (29, 0),\n",
       " (30, 0),\n",
       " (31, 0),\n",
       " (32, 0),\n",
       " (33, 0),\n",
       " (34, 0),\n",
       " (35, 0),\n",
       " (36, 0),\n",
       " (37, 0),\n",
       " (38, 0),\n",
       " (39, 0),\n",
       " (40, 0),\n",
       " (41, 0),\n",
       " (42, 0),\n",
       " (43, 1),\n",
       " (44, 1),\n",
       " (45, 0),\n",
       " (46, 0),\n",
       " (47, 0),\n",
       " (48, 0),\n",
       " (49, 0),\n",
       " (50, 0),\n",
       " (51, 0),\n",
       " (52, 0),\n",
       " (53, 0),\n",
       " (54, 0),\n",
       " (55, 0),\n",
       " (56, 0),\n",
       " (57, 0),\n",
       " (58, 0),\n",
       " (59, 0),\n",
       " (60, 0),\n",
       " (61, 0),\n",
       " (62, 0),\n",
       " (63, 0),\n",
       " (64, 0),\n",
       " (65, 0),\n",
       " (66, 0),\n",
       " (67, 0),\n",
       " (68, 0),\n",
       " (69, 0),\n",
       " (70, 0),\n",
       " (71, 0),\n",
       " (72, 1),\n",
       " (73, 1),\n",
       " (74, 0),\n",
       " (75, 0),\n",
       " (76, 0),\n",
       " (77, 0),\n",
       " (78, 0),\n",
       " (79, 1),\n",
       " (80, 0),\n",
       " (81, 0),\n",
       " (82, 0),\n",
       " (83, 0),\n",
       " (84, 0),\n",
       " (85, 0),\n",
       " (86, 0),\n",
       " (87, 0),\n",
       " (88, 0),\n",
       " (89, 0),\n",
       " (90, 0),\n",
       " (91, 0),\n",
       " (92, 0),\n",
       " (93, 0),\n",
       " (94, 0),\n",
       " (95, 0),\n",
       " (96, 0),\n",
       " (97, 0),\n",
       " (98, 0),\n",
       " (99, 0),\n",
       " (100, 0),\n",
       " (101, 0),\n",
       " (102, 0),\n",
       " (103, 0),\n",
       " (104, 0),\n",
       " (105, 0),\n",
       " (106, 0),\n",
       " (107, 0),\n",
       " (108, 0),\n",
       " (109, 0),\n",
       " (110, 0),\n",
       " (111, 0),\n",
       " (112, 0),\n",
       " (113, 0),\n",
       " (114, 0),\n",
       " (115, 0),\n",
       " (116, 0),\n",
       " (117, 0),\n",
       " (118, 0),\n",
       " (119, 0),\n",
       " (120, 0),\n",
       " (121, 0),\n",
       " (122, 0),\n",
       " (123, 0),\n",
       " (124, 0),\n",
       " (125, 0),\n",
       " (126, 0),\n",
       " (127, 0),\n",
       " (128, 0),\n",
       " (129, 0),\n",
       " (130, 0),\n",
       " (131, 0),\n",
       " (132, 0),\n",
       " (133, 0),\n",
       " (134, 0),\n",
       " (135, 0),\n",
       " (136, 0),\n",
       " (137, 0),\n",
       " (138, 0),\n",
       " (139, 0),\n",
       " (140, 0),\n",
       " (141, 0),\n",
       " (142, 0),\n",
       " (143, 0),\n",
       " (144, 0),\n",
       " (145, 0),\n",
       " (146, 0),\n",
       " (147, 0),\n",
       " (148, 0),\n",
       " (149, 0),\n",
       " (150, 0),\n",
       " (151, 0),\n",
       " (152, 0),\n",
       " (153, 0),\n",
       " (154, 0),\n",
       " (155, 0),\n",
       " (156, 0),\n",
       " (157, 0),\n",
       " (158, 0),\n",
       " (159, 0),\n",
       " (160, 0),\n",
       " (161, 0),\n",
       " (162, 0),\n",
       " (163, 0),\n",
       " (164, 0),\n",
       " (165, 0),\n",
       " (166, 0),\n",
       " (167, 0),\n",
       " (168, 0),\n",
       " (169, 0),\n",
       " (170, 0),\n",
       " (171, 1),\n",
       " (172, 1),\n",
       " (173, 0),\n",
       " (174, 0),\n",
       " (175, 0),\n",
       " (176, 0),\n",
       " (177, 0),\n",
       " (178, 0),\n",
       " (179, 0),\n",
       " (180, 0),\n",
       " (181, 0),\n",
       " (182, 0),\n",
       " (183, 0),\n",
       " (184, 0),\n",
       " (185, 1),\n",
       " (186, 1),\n",
       " (187, 0),\n",
       " (188, 0),\n",
       " (189, 0),\n",
       " (190, 0),\n",
       " (191, 0),\n",
       " (192, 0),\n",
       " (193, 0),\n",
       " (194, 0),\n",
       " (195, 1),\n",
       " (196, 1),\n",
       " (197, 0),\n",
       " (198, 0),\n",
       " (199, 0),\n",
       " (200, 0),\n",
       " (201, 0),\n",
       " (202, 0),\n",
       " (203, 0),\n",
       " (204, 0),\n",
       " (205, 0),\n",
       " (206, 1),\n",
       " (207, 1),\n",
       " (208, 1),\n",
       " (209, 1),\n",
       " (210, 0),\n",
       " (211, 0),\n",
       " (212, 0),\n",
       " (213, 0),\n",
       " (214, 0),\n",
       " (215, 0),\n",
       " (216, 0),\n",
       " (217, 0),\n",
       " (218, 0),\n",
       " (219, 0),\n",
       " (220, 0),\n",
       " (221, 1),\n",
       " (222, 1),\n",
       " (223, 0),\n",
       " (224, 0),\n",
       " (225, 0),\n",
       " (226, 0),\n",
       " (227, 0),\n",
       " (228, 1),\n",
       " (229, 1),\n",
       " (230, 0),\n",
       " (231, 0),\n",
       " (232, 0),\n",
       " (233, 0),\n",
       " (234, 0),\n",
       " (235, 0),\n",
       " (236, 0),\n",
       " (237, 0),\n",
       " (238, 0),\n",
       " (239, 0),\n",
       " (240, 0),\n",
       " (241, 0),\n",
       " (242, 0),\n",
       " (243, 0),\n",
       " (244, 0),\n",
       " (245, 0),\n",
       " (246, 0),\n",
       " (247, 0),\n",
       " (248, 0),\n",
       " (249, 0),\n",
       " (250, 0),\n",
       " (251, 0),\n",
       " (252, 0),\n",
       " (253, 0),\n",
       " (254, 0),\n",
       " (255, 0),\n",
       " (256, 0),\n",
       " (257, 0),\n",
       " (258, 0),\n",
       " (259, 0),\n",
       " (260, 0),\n",
       " (261, 0),\n",
       " (262, 0),\n",
       " (263, 0),\n",
       " (264, 0),\n",
       " (265, 1),\n",
       " (266, 1),\n",
       " (267, 0),\n",
       " (268, 0),\n",
       " (269, 0),\n",
       " (270, 0),\n",
       " (271, 0),\n",
       " (272, 0),\n",
       " (273, 0),\n",
       " (274, 0),\n",
       " (275, 0),\n",
       " (276, 1),\n",
       " (277, 1),\n",
       " (278, 0),\n",
       " (279, 0),\n",
       " (280, 0),\n",
       " (281, 0),\n",
       " (282, 0),\n",
       " (283, 0),\n",
       " (284, 0),\n",
       " (285, 0),\n",
       " (286, 0),\n",
       " (287, 0),\n",
       " (288, 0),\n",
       " (289, 0),\n",
       " (290, 0),\n",
       " (291, 0),\n",
       " (292, 0),\n",
       " (293, 0),\n",
       " (294, 0),\n",
       " (295, 0),\n",
       " (296, 0),\n",
       " (297, 0),\n",
       " (298, 0),\n",
       " (299, 0),\n",
       " (300, 0),\n",
       " (301, 0),\n",
       " (302, 0),\n",
       " (303, 0),\n",
       " (304, 0),\n",
       " (305, 0),\n",
       " (306, 0),\n",
       " (307, 0),\n",
       " (308, 0),\n",
       " (309, 0),\n",
       " (310, 0),\n",
       " (311, 0),\n",
       " (312, 0),\n",
       " (313, 0),\n",
       " (314, 0),\n",
       " (315, 0),\n",
       " (316, 0),\n",
       " (317, 0),\n",
       " (318, 0),\n",
       " (319, 0),\n",
       " (320, 0),\n",
       " (321, 0),\n",
       " (322, 0),\n",
       " (323, 0),\n",
       " (324, 0),\n",
       " (325, 0),\n",
       " (326, 0),\n",
       " (327, 0),\n",
       " (328, 0),\n",
       " (329, 0),\n",
       " (330, 0),\n",
       " (331, 0),\n",
       " (332, 0),\n",
       " (333, 0),\n",
       " (334, 0),\n",
       " (335, 0),\n",
       " (336, 0),\n",
       " (337, 0),\n",
       " (338, 0),\n",
       " (339, 0),\n",
       " (340, 0),\n",
       " (341, 0),\n",
       " (342, 0),\n",
       " (343, 0),\n",
       " (344, 1),\n",
       " (345, 1),\n",
       " (346, 1),\n",
       " (347, 1),\n",
       " (348, 0),\n",
       " (349, 0),\n",
       " (350, 1),\n",
       " (351, 1),\n",
       " (352, 0),\n",
       " (353, 0),\n",
       " (354, 0),\n",
       " (355, 0),\n",
       " (356, 0),\n",
       " (357, 0),\n",
       " (358, 0),\n",
       " (359, 0),\n",
       " (360, 0),\n",
       " (361, 0),\n",
       " (362, 0),\n",
       " (363, 0),\n",
       " (364, 0),\n",
       " (365, 1),\n",
       " (366, 1),\n",
       " (367, 0),\n",
       " (368, 0),\n",
       " (369, 0),\n",
       " (370, 0),\n",
       " (371, 0),\n",
       " (372, 0),\n",
       " (373, 0),\n",
       " (374, 0),\n",
       " (375, 0),\n",
       " (376, 0),\n",
       " (377, 0),\n",
       " (378, 0),\n",
       " (379, 0),\n",
       " (380, 0),\n",
       " (381, 0),\n",
       " (382, 0),\n",
       " (383, 0),\n",
       " (384, 0),\n",
       " (385, 0),\n",
       " (386, 0),\n",
       " (387, 0),\n",
       " (388, 0),\n",
       " (389, 0),\n",
       " (390, 0),\n",
       " (391, 0),\n",
       " (392, 0),\n",
       " (393, 0),\n",
       " (394, 0),\n",
       " (395, 0),\n",
       " (396, 0),\n",
       " (397, 0),\n",
       " (398, 0),\n",
       " (399, 0),\n",
       " (400, 0),\n",
       " (401, 0),\n",
       " (402, 0),\n",
       " (403, 0),\n",
       " (404, 0),\n",
       " (405, 0),\n",
       " (406, 0),\n",
       " (407, 0),\n",
       " (408, 0),\n",
       " (409, 0),\n",
       " (410, 0),\n",
       " (411, 0),\n",
       " (412, 0),\n",
       " (413, 0),\n",
       " (414, 0),\n",
       " (415, 0),\n",
       " (416, 0),\n",
       " (417, 0),\n",
       " (418, 0),\n",
       " (419, 0),\n",
       " (420, 0),\n",
       " (421, 0),\n",
       " (422, 0),\n",
       " (423, 0),\n",
       " (424, 0),\n",
       " (425, 0),\n",
       " (426, 0),\n",
       " (427, 0),\n",
       " (428, 0),\n",
       " (429, 0),\n",
       " (430, 0),\n",
       " (431, 0),\n",
       " (432, 0),\n",
       " (433, 0),\n",
       " (434, 0),\n",
       " (435, 0),\n",
       " (436, 0),\n",
       " (437, 0),\n",
       " (438, 0),\n",
       " (439, 0),\n",
       " (440, 0),\n",
       " (441, 0),\n",
       " (442, 0),\n",
       " (443, 0),\n",
       " (444, 0),\n",
       " (445, 0),\n",
       " (446, 0),\n",
       " (447, 0),\n",
       " (448, 0),\n",
       " (449, 0),\n",
       " (450, 0),\n",
       " (451, 0),\n",
       " (452, 0),\n",
       " (453, 0),\n",
       " (454, 0),\n",
       " (455, 0),\n",
       " (456, 0),\n",
       " (457, 0),\n",
       " (458, 0),\n",
       " (459, 0),\n",
       " (460, 0),\n",
       " (461, 0),\n",
       " (462, 0),\n",
       " (463, 0),\n",
       " (464, 0),\n",
       " (465, 0),\n",
       " (466, 0),\n",
       " (467, 0),\n",
       " (468, 1),\n",
       " (469, 1),\n",
       " (470, 0),\n",
       " (471, 0),\n",
       " (472, 0),\n",
       " (473, 0),\n",
       " (474, 0),\n",
       " (475, 0),\n",
       " (476, 0),\n",
       " (477, 0),\n",
       " (478, 0),\n",
       " (479, 0),\n",
       " (480, 0),\n",
       " (481, 0),\n",
       " (482, 0),\n",
       " (483, 0),\n",
       " (484, 0),\n",
       " (485, 0),\n",
       " (486, 0),\n",
       " (487, 0),\n",
       " (488, 0),\n",
       " (489, 0),\n",
       " (490, 1),\n",
       " (491, 0),\n",
       " (492, 0),\n",
       " (493, 0),\n",
       " (494, 0),\n",
       " (495, 0),\n",
       " (496, 0),\n",
       " (497, 0),\n",
       " (498, 0),\n",
       " (499, 0),\n",
       " (500, 0),\n",
       " (501, 0),\n",
       " (502, 0),\n",
       " (503, 0),\n",
       " (504, 0),\n",
       " (505, 0),\n",
       " (506, 0),\n",
       " (507, 0),\n",
       " (508, 0),\n",
       " (509, 0),\n",
       " (510, 0),\n",
       " (511, 0),\n",
       " (512, 0),\n",
       " (513, 0),\n",
       " (514, 0),\n",
       " (515, 0),\n",
       " (516, 0),\n",
       " (517, 0),\n",
       " (518, 0),\n",
       " (519, 0),\n",
       " (520, 0),\n",
       " (521, 0),\n",
       " (522, 0),\n",
       " (523, 0),\n",
       " (524, 0),\n",
       " (525, 0),\n",
       " (526, 0),\n",
       " (527, 0),\n",
       " (528, 0),\n",
       " (529, 0),\n",
       " (530, 1),\n",
       " (531, 1),\n",
       " (532, 0),\n",
       " (533, 0),\n",
       " (534, 0),\n",
       " (535, 0),\n",
       " (536, 0),\n",
       " (537, 0),\n",
       " (538, 0),\n",
       " (539, 0),\n",
       " (540, 0),\n",
       " (541, 0),\n",
       " (542, 0),\n",
       " (543, 0),\n",
       " (544, 0),\n",
       " (545, 0),\n",
       " (546, 0),\n",
       " (547, 0),\n",
       " (548, 0),\n",
       " (549, 0),\n",
       " (550, 0),\n",
       " (551, 0),\n",
       " (552, 0),\n",
       " (553, 0),\n",
       " (554, 0),\n",
       " (555, 0),\n",
       " (556, 0),\n",
       " (557, 1),\n",
       " (558, 1),\n",
       " (559, 0),\n",
       " (560, 0),\n",
       " (561, 0),\n",
       " (562, 0),\n",
       " (563, 1),\n",
       " (564, 1),\n",
       " (565, 0),\n",
       " (566, 0),\n",
       " (567, 0),\n",
       " (568, 0),\n",
       " (569, 0),\n",
       " (570, 0),\n",
       " (571, 0),\n",
       " (572, 0),\n",
       " (573, 0),\n",
       " (574, 0),\n",
       " (575, 0),\n",
       " (576, 0),\n",
       " (577, 0),\n",
       " (578, 0),\n",
       " (579, 0),\n",
       " (580, 0),\n",
       " (581, 0),\n",
       " (582, 0),\n",
       " (583, 0),\n",
       " (584, 0),\n",
       " (585, 0),\n",
       " (586, 0),\n",
       " (587, 0),\n",
       " (588, 0),\n",
       " (589, 0),\n",
       " (590, 0),\n",
       " (591, 0),\n",
       " (592, 0),\n",
       " (593, 0),\n",
       " (594, 0),\n",
       " (595, 0),\n",
       " (596, 0),\n",
       " (597, 0),\n",
       " (598, 0),\n",
       " (599, 0),\n",
       " (600, 0),\n",
       " (601, 0),\n",
       " (602, 0),\n",
       " (603, 0),\n",
       " (604, 0),\n",
       " (605, 0),\n",
       " (606, 0),\n",
       " (607, 0),\n",
       " (608, 0),\n",
       " (609, 0),\n",
       " (610, 0),\n",
       " (611, 0),\n",
       " (612, 0),\n",
       " (613, 0),\n",
       " (614, 0),\n",
       " (615, 0),\n",
       " (616, 0),\n",
       " (617, 0),\n",
       " (618, 0),\n",
       " (619, 0),\n",
       " (620, 0),\n",
       " (621, 0),\n",
       " (622, 0),\n",
       " (623, 0),\n",
       " (624, 0),\n",
       " (625, 0),\n",
       " (626, 0),\n",
       " (627, 0),\n",
       " (628, 0),\n",
       " (629, 0),\n",
       " (630, 0),\n",
       " (631, 0),\n",
       " (632, 0),\n",
       " (633, 0),\n",
       " (634, 0),\n",
       " (635, 0),\n",
       " (636, 0),\n",
       " (637, 0),\n",
       " (638, 1),\n",
       " (639, 1),\n",
       " (640, 0),\n",
       " (641, 0),\n",
       " (642, 0),\n",
       " (643, 0),\n",
       " (644, 0),\n",
       " (645, 0),\n",
       " (646, 0),\n",
       " (647, 0),\n",
       " (648, 0),\n",
       " (649, 0),\n",
       " (650, 0),\n",
       " (651, 0),\n",
       " (652, 0),\n",
       " (653, 0),\n",
       " (654, 0),\n",
       " (655, 0),\n",
       " (656, 0),\n",
       " (657, 0),\n",
       " (658, 0),\n",
       " (659, 0),\n",
       " (660, 0),\n",
       " (661, 0),\n",
       " (662, 0),\n",
       " (663, 0),\n",
       " (664, 0),\n",
       " (665, 0),\n",
       " (666, 0),\n",
       " (667, 0),\n",
       " (668, 0),\n",
       " (669, 0),\n",
       " (670, 0),\n",
       " (671, 0),\n",
       " (672, 0),\n",
       " (673, 0),\n",
       " (674, 0),\n",
       " (675, 0),\n",
       " (676, 0),\n",
       " (677, 0),\n",
       " (678, 0),\n",
       " (679, 0),\n",
       " (680, 0),\n",
       " (681, 0),\n",
       " (682, 0),\n",
       " (683, 0),\n",
       " (684, 0),\n",
       " (685, 0),\n",
       " (686, 0),\n",
       " (687, 0),\n",
       " (688, 0),\n",
       " (689, 0),\n",
       " (690, 0),\n",
       " (691, 0),\n",
       " (692, 0),\n",
       " (693, 0),\n",
       " (694, 0),\n",
       " (695, 1),\n",
       " (696, 1),\n",
       " (697, 0),\n",
       " (698, 0),\n",
       " (699, 0),\n",
       " (700, 0),\n",
       " (701, 0),\n",
       " (702, 0),\n",
       " (703, 0),\n",
       " (704, 0),\n",
       " (705, 0),\n",
       " (706, 0),\n",
       " (707, 0),\n",
       " (708, 0),\n",
       " (709, 0),\n",
       " (710, 0),\n",
       " (711, 0),\n",
       " (712, 1),\n",
       " (713, 1),\n",
       " (714, 0),\n",
       " (715, 0),\n",
       " (716, 0),\n",
       " (717, 0),\n",
       " (718, 0),\n",
       " (719, 0),\n",
       " (720, 0),\n",
       " (721, 0),\n",
       " (722, 0),\n",
       " (723, 0),\n",
       " (724, 0),\n",
       " (725, 0),\n",
       " (726, 0),\n",
       " (727, 0),\n",
       " (728, 0),\n",
       " (729, 0),\n",
       " (730, 0),\n",
       " (731, 0),\n",
       " (732, 0),\n",
       " (733, 0),\n",
       " (734, 0),\n",
       " (735, 0),\n",
       " (736, 0),\n",
       " (737, 0),\n",
       " (738, 0),\n",
       " (739, 0),\n",
       " (740, 1),\n",
       " (741, 1),\n",
       " (742, 0),\n",
       " (743, 0),\n",
       " (744, 0),\n",
       " (745, 0),\n",
       " (746, 0),\n",
       " (747, 0),\n",
       " (748, 0),\n",
       " (749, 0),\n",
       " (750, 0),\n",
       " (751, 1),\n",
       " (752, 1),\n",
       " (753, 0),\n",
       " (754, 0),\n",
       " (755, 0),\n",
       " (756, 0),\n",
       " (757, 0),\n",
       " (758, 0),\n",
       " (759, 0),\n",
       " (760, 0),\n",
       " (761, 0),\n",
       " (762, 0),\n",
       " (763, 0),\n",
       " (764, 0),\n",
       " (765, 0),\n",
       " (766, 0),\n",
       " (767, 0),\n",
       " (768, 0),\n",
       " (769, 0),\n",
       " (770, 0),\n",
       " (771, 0),\n",
       " (772, 0),\n",
       " (773, 0),\n",
       " (774, 0),\n",
       " (775, 0),\n",
       " (776, 0),\n",
       " (777, 0),\n",
       " (778, 0),\n",
       " (779, 0),\n",
       " (780, 0),\n",
       " (781, 0),\n",
       " (782, 0),\n",
       " (783, 0),\n",
       " (784, 0),\n",
       " (785, 0),\n",
       " (786, 0),\n",
       " (787, 0),\n",
       " (788, 0),\n",
       " (789, 0),\n",
       " (790, 0),\n",
       " (791, 0),\n",
       " (792, 0),\n",
       " (793, 0),\n",
       " (794, 0),\n",
       " (795, 0),\n",
       " (796, 0),\n",
       " (797, 0),\n",
       " (798, 0),\n",
       " (799, 0),\n",
       " (800, 0),\n",
       " (801, 0),\n",
       " (802, 0),\n",
       " (803, 0),\n",
       " (804, 0),\n",
       " (805, 0),\n",
       " (806, 0),\n",
       " (807, 0),\n",
       " (808, 0),\n",
       " (809, 0),\n",
       " (810, 0),\n",
       " (811, 0),\n",
       " (812, 0),\n",
       " (813, 0),\n",
       " (814, 0),\n",
       " (815, 0),\n",
       " (816, 0),\n",
       " (817, 0),\n",
       " (818, 0),\n",
       " (819, 0),\n",
       " (820, 0),\n",
       " (821, 0),\n",
       " (822, 0),\n",
       " (823, 1),\n",
       " (824, 1),\n",
       " (825, 0),\n",
       " (826, 0),\n",
       " (827, 0),\n",
       " (828, 0),\n",
       " (829, 0),\n",
       " (830, 1),\n",
       " (831, 1),\n",
       " (832, 1),\n",
       " (833, 0),\n",
       " (834, 0),\n",
       " (835, 1),\n",
       " (836, 1),\n",
       " (837, 0),\n",
       " (838, 0),\n",
       " (839, 0),\n",
       " (840, 0),\n",
       " (841, 0),\n",
       " (842, 0),\n",
       " (843, 0),\n",
       " (844, 0),\n",
       " (845, 0),\n",
       " (846, 0),\n",
       " (847, 0),\n",
       " (848, 0),\n",
       " (849, 0),\n",
       " (850, 0),\n",
       " (851, 0),\n",
       " (852, 0),\n",
       " (853, 0),\n",
       " (854, 0),\n",
       " (855, 0),\n",
       " (856, 0),\n",
       " (857, 0),\n",
       " (858, 0),\n",
       " (859, 0),\n",
       " (860, 0),\n",
       " (861, 0),\n",
       " (862, 0),\n",
       " (863, 0),\n",
       " (864, 0),\n",
       " (865, 0),\n",
       " (866, 0),\n",
       " (867, 0),\n",
       " (868, 0),\n",
       " (869, 0),\n",
       " (870, 0),\n",
       " (871, 0),\n",
       " (872, 0),\n",
       " (873, 0),\n",
       " (874, 0),\n",
       " (875, 0),\n",
       " (876, 0),\n",
       " (877, 0),\n",
       " (878, 0),\n",
       " (879, 0),\n",
       " (880, 0),\n",
       " (881, 0),\n",
       " (882, 0),\n",
       " (883, 0),\n",
       " (884, 1),\n",
       " (885, 1),\n",
       " (886, 0),\n",
       " (887, 0),\n",
       " (888, 0),\n",
       " (889, 0),\n",
       " (890, 0),\n",
       " (891, 0),\n",
       " (892, 0),\n",
       " (893, 0),\n",
       " (894, 0),\n",
       " (895, 0),\n",
       " (896, 0),\n",
       " (897, 0),\n",
       " (898, 0),\n",
       " (899, 0),\n",
       " (900, 0),\n",
       " (901, 0),\n",
       " (902, 0),\n",
       " (903, 0),\n",
       " (904, 0),\n",
       " (905, 0),\n",
       " (906, 0),\n",
       " (907, 0),\n",
       " (908, 0),\n",
       " (909, 0),\n",
       " (910, 0),\n",
       " (911, 0),\n",
       " (912, 0),\n",
       " (913, 0),\n",
       " (914, 1),\n",
       " (915, 1),\n",
       " (916, 0),\n",
       " (917, 0),\n",
       " (918, 0),\n",
       " (919, 0),\n",
       " (920, 0),\n",
       " (921, 0),\n",
       " (922, 0),\n",
       " (923, 0),\n",
       " (924, 0),\n",
       " (925, 0),\n",
       " (926, 0),\n",
       " (927, 0),\n",
       " (928, 0),\n",
       " (929, 0),\n",
       " (930, 0),\n",
       " (931, 0),\n",
       " (932, 0),\n",
       " (933, 0),\n",
       " (934, 0),\n",
       " (935, 0),\n",
       " (936, 0),\n",
       " (937, 0),\n",
       " (938, 0),\n",
       " (939, 0),\n",
       " (940, 0),\n",
       " (941, 0),\n",
       " (942, 0),\n",
       " (943, 0),\n",
       " (944, 0),\n",
       " (945, 0),\n",
       " (946, 0),\n",
       " (947, 0),\n",
       " (948, 0),\n",
       " (949, 0),\n",
       " (950, 1),\n",
       " (951, 1),\n",
       " (952, 0),\n",
       " (953, 0),\n",
       " (954, 0),\n",
       " (955, 0),\n",
       " (956, 0),\n",
       " (957, 0),\n",
       " (958, 0),\n",
       " (959, 0),\n",
       " (960, 0),\n",
       " (961, 0),\n",
       " (962, 0),\n",
       " (963, 0),\n",
       " (964, 0),\n",
       " (965, 0),\n",
       " (966, 0),\n",
       " (967, 0),\n",
       " (968, 0),\n",
       " (969, 0),\n",
       " (970, 0),\n",
       " (971, 0),\n",
       " (972, 0),\n",
       " (973, 0),\n",
       " (974, 0),\n",
       " (975, 0),\n",
       " (976, 0),\n",
       " (977, 0),\n",
       " (978, 0),\n",
       " (979, 0),\n",
       " (980, 1),\n",
       " (981, 1),\n",
       " (982, 0),\n",
       " (983, 0),\n",
       " (984, 0),\n",
       " (985, 0),\n",
       " (986, 0),\n",
       " (987, 0),\n",
       " (988, 0),\n",
       " (989, 0),\n",
       " (990, 0),\n",
       " (991, 0),\n",
       " (992, 0),\n",
       " (993, 0),\n",
       " (994, 0),\n",
       " (995, 0),\n",
       " (996, 0),\n",
       " (997, 0),\n",
       " (998, 0),\n",
       " (999, 0),\n",
       " ...]"
      ]
     },
     "execution_count": 66,
     "metadata": {},
     "output_type": "execute_result"
    }
   ],
   "source": [
    "dataset.get_labels_presence_for('Cardiomegaly')"
   ]
  },
  {
   "cell_type": "code",
   "execution_count": null,
   "metadata": {},
   "outputs": [],
   "source": []
  },
  {
   "cell_type": "markdown",
   "metadata": {
    "heading_collapsed": true
   },
   "source": [
    "### Review different image shapes"
   ]
  },
  {
   "cell_type": "code",
   "execution_count": 205,
   "metadata": {
    "hidden": true
   },
   "outputs": [
    {
     "data": {
      "text/plain": [
       "251"
      ]
     },
     "execution_count": 205,
     "metadata": {},
     "output_type": "execute_result"
    }
   ],
   "source": [
    "shapes = set()\n",
    "\n",
    "for idx in range(len(dataset)):\n",
    "    image, _ = dataset[idx]\n",
    "    shapes.add(image.numpy().shape)\n",
    "\n",
    "len(shapes)"
   ]
  },
  {
   "cell_type": "code",
   "execution_count": 206,
   "metadata": {
    "collapsed": true,
    "hidden": true
   },
   "outputs": [
    {
     "data": {
      "text/plain": [
       "{(3, 378, 512),\n",
       " (3, 391, 512),\n",
       " (3, 392, 512),\n",
       " (3, 399, 512),\n",
       " (3, 403, 512),\n",
       " (3, 409, 512),\n",
       " (3, 413, 512),\n",
       " (3, 415, 512),\n",
       " (3, 419, 512),\n",
       " (3, 420, 512),\n",
       " (3, 421, 512),\n",
       " (3, 422, 512),\n",
       " (3, 423, 512),\n",
       " (3, 424, 512),\n",
       " (3, 425, 512),\n",
       " (3, 426, 512),\n",
       " (3, 428, 512),\n",
       " (3, 429, 512),\n",
       " (3, 430, 512),\n",
       " (3, 431, 512),\n",
       " (3, 433, 512),\n",
       " (3, 434, 512),\n",
       " (3, 435, 512),\n",
       " (3, 436, 512),\n",
       " (3, 437, 512),\n",
       " (3, 441, 512),\n",
       " (3, 442, 512),\n",
       " (3, 443, 512),\n",
       " (3, 446, 512),\n",
       " (3, 447, 512),\n",
       " (3, 448, 512),\n",
       " (3, 449, 512),\n",
       " (3, 450, 512),\n",
       " (3, 451, 512),\n",
       " (3, 454, 512),\n",
       " (3, 456, 512),\n",
       " (3, 457, 512),\n",
       " (3, 459, 512),\n",
       " (3, 460, 512),\n",
       " (3, 461, 512),\n",
       " (3, 462, 512),\n",
       " (3, 463, 512),\n",
       " (3, 464, 512),\n",
       " (3, 466, 512),\n",
       " (3, 467, 512),\n",
       " (3, 468, 512),\n",
       " (3, 469, 512),\n",
       " (3, 470, 512),\n",
       " (3, 471, 512),\n",
       " (3, 472, 512),\n",
       " (3, 473, 512),\n",
       " (3, 474, 512),\n",
       " (3, 475, 512),\n",
       " (3, 476, 512),\n",
       " (3, 478, 512),\n",
       " (3, 479, 512),\n",
       " (3, 480, 512),\n",
       " (3, 481, 512),\n",
       " (3, 482, 512),\n",
       " (3, 483, 512),\n",
       " (3, 484, 512),\n",
       " (3, 485, 512),\n",
       " (3, 486, 512),\n",
       " (3, 487, 512),\n",
       " (3, 488, 512),\n",
       " (3, 489, 512),\n",
       " (3, 490, 512),\n",
       " (3, 491, 512),\n",
       " (3, 492, 512),\n",
       " (3, 493, 512),\n",
       " (3, 494, 512),\n",
       " (3, 495, 512),\n",
       " (3, 496, 512),\n",
       " (3, 497, 512),\n",
       " (3, 498, 512),\n",
       " (3, 499, 512),\n",
       " (3, 500, 512),\n",
       " (3, 501, 512),\n",
       " (3, 502, 512),\n",
       " (3, 503, 512),\n",
       " (3, 504, 512),\n",
       " (3, 505, 512),\n",
       " (3, 506, 512),\n",
       " (3, 507, 512),\n",
       " (3, 508, 512),\n",
       " (3, 509, 512),\n",
       " (3, 510, 512),\n",
       " (3, 511, 512),\n",
       " (3, 512, 512),\n",
       " (3, 513, 512),\n",
       " (3, 514, 512),\n",
       " (3, 515, 512),\n",
       " (3, 516, 512),\n",
       " (3, 517, 512),\n",
       " (3, 518, 512),\n",
       " (3, 519, 512),\n",
       " (3, 520, 512),\n",
       " (3, 521, 512),\n",
       " (3, 522, 512),\n",
       " (3, 523, 512),\n",
       " (3, 524, 512),\n",
       " (3, 525, 512),\n",
       " (3, 526, 512),\n",
       " (3, 527, 512),\n",
       " (3, 528, 512),\n",
       " (3, 529, 512),\n",
       " (3, 530, 512),\n",
       " (3, 531, 512),\n",
       " (3, 532, 512),\n",
       " (3, 533, 512),\n",
       " (3, 534, 512),\n",
       " (3, 535, 512),\n",
       " (3, 536, 512),\n",
       " (3, 537, 512),\n",
       " (3, 538, 512),\n",
       " (3, 539, 512),\n",
       " (3, 540, 512),\n",
       " (3, 541, 512),\n",
       " (3, 542, 512),\n",
       " (3, 543, 512),\n",
       " (3, 544, 512),\n",
       " (3, 545, 512),\n",
       " (3, 546, 512),\n",
       " (3, 547, 512),\n",
       " (3, 548, 512),\n",
       " (3, 549, 512),\n",
       " (3, 550, 512),\n",
       " (3, 551, 512),\n",
       " (3, 552, 512),\n",
       " (3, 553, 512),\n",
       " (3, 555, 512),\n",
       " (3, 556, 512),\n",
       " (3, 557, 512),\n",
       " (3, 558, 512),\n",
       " (3, 560, 512),\n",
       " (3, 561, 512),\n",
       " (3, 562, 512),\n",
       " (3, 563, 512),\n",
       " (3, 564, 512),\n",
       " (3, 565, 512),\n",
       " (3, 566, 512),\n",
       " (3, 568, 512),\n",
       " (3, 569, 512),\n",
       " (3, 570, 512),\n",
       " (3, 571, 512),\n",
       " (3, 572, 512),\n",
       " (3, 573, 512),\n",
       " (3, 574, 512),\n",
       " (3, 575, 512),\n",
       " (3, 576, 512),\n",
       " (3, 577, 512),\n",
       " (3, 578, 512),\n",
       " (3, 579, 512),\n",
       " (3, 581, 512),\n",
       " (3, 582, 512),\n",
       " (3, 583, 512),\n",
       " (3, 584, 512),\n",
       " (3, 585, 512),\n",
       " (3, 587, 512),\n",
       " (3, 588, 512),\n",
       " (3, 590, 512),\n",
       " (3, 591, 512),\n",
       " (3, 592, 512),\n",
       " (3, 593, 512),\n",
       " (3, 594, 512),\n",
       " (3, 595, 512),\n",
       " (3, 596, 512),\n",
       " (3, 597, 512),\n",
       " (3, 598, 512),\n",
       " (3, 599, 512),\n",
       " (3, 600, 512),\n",
       " (3, 601, 512),\n",
       " (3, 602, 512),\n",
       " (3, 603, 512),\n",
       " (3, 604, 512),\n",
       " (3, 606, 512),\n",
       " (3, 607, 512),\n",
       " (3, 608, 512),\n",
       " (3, 609, 512),\n",
       " (3, 610, 512),\n",
       " (3, 611, 512),\n",
       " (3, 612, 512),\n",
       " (3, 613, 512),\n",
       " (3, 614, 512),\n",
       " (3, 615, 512),\n",
       " (3, 616, 512),\n",
       " (3, 617, 512),\n",
       " (3, 618, 512),\n",
       " (3, 619, 512),\n",
       " (3, 620, 512),\n",
       " (3, 621, 512),\n",
       " (3, 622, 512),\n",
       " (3, 623, 512),\n",
       " (3, 624, 512),\n",
       " (3, 626, 512),\n",
       " (3, 627, 512),\n",
       " (3, 628, 512),\n",
       " (3, 629, 512),\n",
       " (3, 630, 512),\n",
       " (3, 631, 512),\n",
       " (3, 632, 512),\n",
       " (3, 633, 512),\n",
       " (3, 634, 512),\n",
       " (3, 635, 512),\n",
       " (3, 636, 512),\n",
       " (3, 637, 512),\n",
       " (3, 639, 512),\n",
       " (3, 640, 512),\n",
       " (3, 641, 512),\n",
       " (3, 642, 512),\n",
       " (3, 643, 512),\n",
       " (3, 644, 512),\n",
       " (3, 649, 512),\n",
       " (3, 651, 512),\n",
       " (3, 652, 512),\n",
       " (3, 653, 512),\n",
       " (3, 654, 512),\n",
       " (3, 656, 512),\n",
       " (3, 657, 512),\n",
       " (3, 659, 512),\n",
       " (3, 661, 512),\n",
       " (3, 664, 512),\n",
       " (3, 667, 512),\n",
       " (3, 668, 512),\n",
       " (3, 671, 512),\n",
       " (3, 672, 512),\n",
       " (3, 673, 512),\n",
       " (3, 674, 512),\n",
       " (3, 679, 512),\n",
       " (3, 680, 512),\n",
       " (3, 682, 512),\n",
       " (3, 683, 512),\n",
       " (3, 688, 512),\n",
       " (3, 689, 512),\n",
       " (3, 690, 512),\n",
       " (3, 694, 512),\n",
       " (3, 696, 512),\n",
       " (3, 699, 512),\n",
       " (3, 716, 512),\n",
       " (3, 721, 512),\n",
       " (3, 726, 512),\n",
       " (3, 730, 512),\n",
       " (3, 732, 512),\n",
       " (3, 733, 512),\n",
       " (3, 734, 512),\n",
       " (3, 736, 512),\n",
       " (3, 741, 512),\n",
       " (3, 742, 512),\n",
       " (3, 756, 512),\n",
       " (3, 805, 512),\n",
       " (3, 821, 512)}"
      ]
     },
     "execution_count": 206,
     "metadata": {},
     "output_type": "execute_result"
    }
   ],
   "source": [
    "shapes"
   ]
  },
  {
   "cell_type": "markdown",
   "metadata": {},
   "source": [
    "### Load single images"
   ]
  },
  {
   "cell_type": "code",
   "execution_count": 11,
   "metadata": {},
   "outputs": [
    {
     "data": {
      "text/plain": [
       "((512, 621), torch.Size([3, 621, 512]))"
      ]
     },
     "execution_count": 11,
     "metadata": {},
     "output_type": "execute_result"
    }
   ],
   "source": [
    "fname = DATASET_DIR + '/images/CXR5_IM-2117-1003002.png'\n",
    "img = Image.open(fname)\n",
    "img_tensor = transforms.ToTensor()(img)\n",
    "img.size, img_tensor.size()"
   ]
  },
  {
   "cell_type": "code",
   "execution_count": null,
   "metadata": {},
   "outputs": [],
   "source": []
  },
  {
   "cell_type": "code",
   "execution_count": null,
   "metadata": {},
   "outputs": [],
   "source": []
  },
  {
   "cell_type": "code",
   "execution_count": null,
   "metadata": {},
   "outputs": [],
   "source": []
  },
  {
   "cell_type": "code",
   "execution_count": null,
   "metadata": {},
   "outputs": [],
   "source": []
  },
  {
   "cell_type": "markdown",
   "metadata": {
    "heading_collapsed": true
   },
   "source": [
    "## Inspect tags"
   ]
  },
  {
   "cell_type": "code",
   "execution_count": 14,
   "metadata": {
    "hidden": true
   },
   "outputs": [],
   "source": [
    "from collections import defaultdict"
   ]
  },
  {
   "cell_type": "code",
   "execution_count": 15,
   "metadata": {
    "hidden": true
   },
   "outputs": [],
   "source": [
    "counter = defaultdict(lambda: 0)\n",
    "for report in reports:\n",
    "    tags = report['tags_manual']\n",
    "    for tag in tags:\n",
    "        counter[tag] += 1"
   ]
  },
  {
   "cell_type": "code",
   "execution_count": 23,
   "metadata": {
    "hidden": true
   },
   "outputs": [
    {
     "data": {
      "text/plain": [
       "3955"
      ]
     },
     "execution_count": 23,
     "metadata": {},
     "output_type": "execute_result"
    }
   ],
   "source": [
    "len(reports)"
   ]
  },
  {
   "cell_type": "code",
   "execution_count": 22,
   "metadata": {
    "hidden": true
   },
   "outputs": [
    {
     "data": {
      "text/plain": [
       "[('normal', 1391),\n",
       " ('Lung/hypoinflation', 245),\n",
       " ('Lung/hyperdistention', 164),\n",
       " ('Cardiomegaly', 157),\n",
       " ('Cardiomegaly/mild', 135),\n",
       " ('Aorta/tortuous', 126),\n",
       " ('Spine/degenerative', 115),\n",
       " ('Thoracic Vertebrae/degenerative', 114),\n",
       " ('Granulomatous Disease', 98),\n",
       " ('Atherosclerosis/aorta', 97),\n",
       " ('No Indexing', 95),\n",
       " ('Thoracic Vertebrae/degenerative/mild', 93),\n",
       " ('Technical Quality of Image Unsatisfactory ', 86),\n",
       " ('Calcinosis/aorta', 69),\n",
       " ('Markings/bronchovascular', 68),\n",
       " ('Aorta, Thoracic/tortuous', 59),\n",
       " ('Catheters, Indwelling/right', 54),\n",
       " ('Emphysema', 54),\n",
       " ('Pulmonary Congestion', 52),\n",
       " ('Pulmonary Atelectasis/base/left', 51),\n",
       " ('Pulmonary Disease, Chronic Obstructive', 50),\n",
       " ('Spondylosis/thoracic vertebrae', 49),\n",
       " ('Spine/degenerative/mild', 48),\n",
       " ('Cardiomegaly/borderline', 47),\n",
       " ('Opacity/lung/base/left', 46),\n",
       " ('Pulmonary Atelectasis/base/bilateral', 44),\n",
       " ('Lung/hyperdistention/mild', 40),\n",
       " ('Implanted Medical Device/left', 39),\n",
       " ('Diaphragm/right/elevated', 38),\n",
       " ('Catheters, Indwelling/left', 38),\n",
       " ('Implanted Medical Device', 37),\n",
       " ('Pleural Effusion/bilateral/small', 33),\n",
       " ('Aorta/tortuous/mild', 32),\n",
       " ('Opacity/lung/base/bilateral', 32),\n",
       " ('Catheters, Indwelling', 30),\n",
       " ('Aorta, Thoracic/tortuous/mild', 30),\n",
       " ('Lung/hypoinflation/mild', 30),\n",
       " ('Cicatrix/lung/base/left', 29),\n",
       " ('Diaphragm/bilateral/flattened', 28),\n",
       " ('Pulmonary Atelectasis', 27),\n",
       " ('Osteophyte/thoracic vertebrae/multiple', 27),\n",
       " ('Pulmonary Emphysema', 26),\n",
       " ('Cardiac Shadow/enlarged', 26),\n",
       " ('Pulmonary Atelectasis/base/right', 25),\n",
       " ('Atherosclerosis/aorta, thoracic', 25),\n",
       " ('Cardiomegaly/moderate', 25),\n",
       " ('Diaphragm/left/elevated', 24),\n",
       " ('Calcinosis/lung/hilum/lymph nodes/right', 24),\n",
       " ('Pleural Effusion/bilateral', 22),\n",
       " ('Calcinosis/mediastinum/lymph nodes', 22),\n",
       " ('Surgical Instruments/mediastinum', 22),\n",
       " ('Diaphragmatic Eventration/right', 22),\n",
       " ('Arthritis', 21),\n",
       " ('Hernia, Hiatal', 20),\n",
       " ('Cicatrix/lung/apex/bilateral', 20),\n",
       " ('Pleural Effusion/left/small', 20),\n",
       " ('Calcinosis/lung/hilum/lymph nodes', 19),\n",
       " ('Pulmonary Atelectasis/base/bilateral/mild', 19),\n",
       " ('Surgical Instruments', 18),\n",
       " ('Calcinosis/aorta, thoracic', 18),\n",
       " ('Diaphragm/flattened', 18),\n",
       " ('Calcified Granuloma/lung/upper lobe/left', 18),\n",
       " ('Opacity/lung/middle lobe/right', 18),\n",
       " ('Calcified Granuloma', 17),\n",
       " ('Bone Diseases, Metabolic', 17),\n",
       " ('Pulmonary Congestion/mild', 17),\n",
       " ('Calcinosis/lung/hilum/lymph nodes/left', 17),\n",
       " ('Calcified Granuloma/lung/lingula', 17),\n",
       " ('Scoliosis/thoracic vertebrae', 17),\n",
       " ('Surgical Instruments/abdomen/right', 17),\n",
       " ('Pleural Effusion/right/small', 17),\n",
       " ('Thoracic Vertebrae/degenerative/multiple', 17),\n",
       " ('Opacity/lung/lingula', 16),\n",
       " ('Costophrenic Angle/bilateral/blunted', 16),\n",
       " ('Calcified Granuloma/lung/base/right', 16),\n",
       " ('Opacity/lung/base/right', 16),\n",
       " ('Cicatrix/lung/lingula', 16),\n",
       " ('Calcified Granuloma/multiple', 16),\n",
       " ('Pulmonary Atelectasis/base/left/mild', 16),\n",
       " ('Deformity/thoracic vertebrae', 16),\n",
       " ('Kyphosis/thoracic vertebrae', 16),\n",
       " ('Airspace Disease/lung/base/bilateral', 15),\n",
       " ('Medical Device', 15),\n",
       " ('Scoliosis', 14),\n",
       " ('Calcified Granuloma/lung/middle lobe/right', 14),\n",
       " ('Pleural Effusion/right', 14),\n",
       " ('Opacity/lung/base/bilateral/streaky', 14),\n",
       " ('Pulmonary Atelectasis/lingula', 14),\n",
       " ('Calcified Granuloma/lung/lower lobe/right', 14),\n",
       " ('Scoliosis/thoracic vertebrae/right/mild', 14),\n",
       " ('Hernia, Hiatal/large', 14),\n",
       " ('Calcified Granuloma/lung/upper lobe/right', 13),\n",
       " ('Calcinosis/mediastinum', 13),\n",
       " ('Calcified Granuloma/scattered/multiple', 13),\n",
       " ('Airspace Disease/lung/base/left', 13),\n",
       " ('Diaphragm/right/elevated/mild', 13),\n",
       " ('Mediastinum/prominent', 12),\n",
       " ('Pulmonary Atelectasis/base/right/mild', 12),\n",
       " ('Calcified Granuloma/lung/base/left', 12),\n",
       " ('Calcified Granuloma/lung/lower lobe/left', 12),\n",
       " ('Scoliosis/thoracic vertebrae/right', 12),\n",
       " ('Opacity/lung/lower lobe/right', 12),\n",
       " ('Scoliosis/lumbar vertebrae', 12),\n",
       " ('Opacity/lung/base/left/streaky', 12),\n",
       " ('Airspace Disease/lung/base/right', 11),\n",
       " ('Costophrenic Angle/right/blunted', 11),\n",
       " ('Pulmonary Atelectasis/middle lobe/right', 11),\n",
       " ('Cardiomegaly/severe', 11),\n",
       " ('Markings/lung/interstitial/chronic', 11),\n",
       " ('Thoracic Vertebrae/degenerative/moderate', 11),\n",
       " ('Cardiac Shadow/enlarged/mild', 11),\n",
       " ('Pulmonary Edema', 11),\n",
       " ('Pulmonary Atelectasis/lower lobe/right', 11),\n",
       " ('Calcinosis/lymph nodes', 11),\n",
       " ('Calcinosis/blood vessels', 10),\n",
       " ('Calcinosis/lung/hilum/right', 10),\n",
       " ('Pulmonary Atelectasis/lower lobe/left', 10),\n",
       " ('Pulmonary Edema/interstitial/mild', 10),\n",
       " ('Calcinosis/lung/hilum/left', 10),\n",
       " ('Pulmonary Edema/interstitial', 10),\n",
       " ('Pneumonia/lower lobe/right', 10),\n",
       " ('Granulomatous Disease/chronic', 10),\n",
       " ('Markings/lung/interstitial/prominent', 10),\n",
       " ('Nodule/lung/lower lobe/right', 10),\n",
       " ('Surgical Instruments/abdomen', 10),\n",
       " ('Calcified Granuloma/scattered', 10),\n",
       " ('Pulmonary Atelectasis/base', 9),\n",
       " ('Deformity/thoracic vertebrae/mild', 9),\n",
       " ('Airspace Disease/lung/lower lobe/left', 9),\n",
       " ('Cicatrix/lung/upper lobe/left', 9),\n",
       " ('Spinal Fusion/cervical vertebrae', 9),\n",
       " ('Costophrenic Angle/left/blunted', 9),\n",
       " ('Nodule/lung/lower lobe/left', 9),\n",
       " ('Calcified Granuloma/lung/left', 9),\n",
       " ('Fractures, Bone/ribs/left/healed', 9),\n",
       " ('Cicatrix/lung/base/bilateral', 9),\n",
       " ('Nodule/lung/lingula', 9),\n",
       " ('Fractures, Bone/thoracic vertebrae', 9),\n",
       " ('Tube, Inserted', 9),\n",
       " ('Pleural Effusion/left', 9),\n",
       " ('Tube, Inserted/trachea, carina', 9),\n",
       " ('Markings/lung/interstitial', 8),\n",
       " ('Calcified Granuloma/lung/hilum/right', 8),\n",
       " ('Osteophyte/thoracic vertebrae/degenerative', 8),\n",
       " ('Cicatrix/lung/base/left/mild', 8),\n",
       " ('Epicardial Fat/prominent', 8),\n",
       " ('Pneumonia/upper lobe/right', 8),\n",
       " ('Lung, Hyperlucent', 8),\n",
       " ('Lung/azygos lobe', 8),\n",
       " ('Costophrenic Angle/bilateral/blunted/mild', 7),\n",
       " ('Pulmonary Atelectasis/upper lobe/left', 7),\n",
       " ('Heart Failure', 7),\n",
       " ('Cicatrix/lung/middle lobe/right', 7),\n",
       " ('Cardiac Shadow/enlarged/moderate', 7),\n",
       " ('Spine/degenerative/diffuse', 7),\n",
       " ('Stents/coronary vessels', 7),\n",
       " ('Hypertension, Pulmonary', 7),\n",
       " ('Lung/hypoinflation/severe', 7),\n",
       " ('Surgical Instruments/right', 7),\n",
       " ('Nodule/lung/upper lobe/right', 7),\n",
       " ('Cicatrix/lung', 7),\n",
       " ('Opacity/lung/base/bilateral/interstitial', 7),\n",
       " ('Airspace Disease/lung/lower lobe/right', 7),\n",
       " ('Markings/bronchovascular/mild', 7),\n",
       " ('Thoracic Vertebrae/degenerative/multiple/mild', 7),\n",
       " ('Pneumonia/lower lobe/left', 7),\n",
       " ('Osteophyte/thoracic vertebrae/anterior/multiple', 7),\n",
       " ('Opacity/lung/bilateral/interstitial/diffuse', 7),\n",
       " ('Tube, Inserted/trachea', 7),\n",
       " ('Implanted Medical Device/aortic valve', 7),\n",
       " ('Calcified Granuloma/lung/bilateral/multiple', 7),\n",
       " ('Costophrenic Angle/right/blunted/mild', 7),\n",
       " ('Opacity/lung/upper lobe/right', 6),\n",
       " ('Thickening/pleura/right', 6),\n",
       " ('Pulmonary Atelectasis/right', 6),\n",
       " ('Osteophyte/thoracic vertebrae/multiple/small', 6),\n",
       " ('Opacity/lung/base/left/mild', 6),\n",
       " ('Scoliosis/right/mild', 6),\n",
       " ('Opacity/lung/right', 6),\n",
       " ('Opacity/lung/interstitial', 6),\n",
       " ('Calcinosis/lung/hilum', 6),\n",
       " ('Hernia, Hiatal/moderate', 6),\n",
       " ('Surgical Instruments/left', 6),\n",
       " ('Bone Diseases, Metabolic/thoracic vertebrae', 6),\n",
       " ('Deformity/thoracic vertebrae/multiple', 6),\n",
       " ('Markings/lung/interstitial/scattered/irregular/chronic', 6),\n",
       " ('Density/lung/lingula', 6),\n",
       " ('Nodule/lung/bilateral/multiple', 6),\n",
       " ('Thickening/pleura', 6),\n",
       " ('Kyphosis/thoracic vertebrae/severe', 6),\n",
       " ('Opacity/lung/bilateral/interstitial', 6),\n",
       " ('Fractures, Bone/ribs/right', 6),\n",
       " ('Spine/degenerative/multiple', 6),\n",
       " ('Opacity/lung/base/bilateral/streaky/mild', 6),\n",
       " ('Opacity/lung/upper lobe/left', 6),\n",
       " ('Scoliosis/thoracic vertebrae/mild', 6),\n",
       " ('Thoracic Vertebrae/scattered/degenerative', 6),\n",
       " ('Opacity/lung/base/left/patchy', 6),\n",
       " ('Kyphosis/severe', 6),\n",
       " ('Spinal Fusion/cervical vertebrae/anterior', 6),\n",
       " ('Opacity/lung/lower lobe/bilateral', 6),\n",
       " ('Bone Diseases, Metabolic/spine', 5),\n",
       " ('Opacity/lung/lower lobe/left', 5),\n",
       " ('Mediastinum/prominent/mild', 5),\n",
       " ('Scoliosis/thoracic vertebrae/left', 5),\n",
       " ('Opacity/retrocardiac', 5),\n",
       " ('Fractures, Bone/ribs/right/multiple/healed', 5),\n",
       " ('Infiltrate/lung/base/left', 5),\n",
       " ('Opacity/lung/apex/right', 5),\n",
       " ('Lung/bilateral/hyperdistention', 5),\n",
       " ('Foreign Bodies/thorax/left', 5),\n",
       " ('Implanted Medical Device/right', 5),\n",
       " ('Infiltrate/lung/lower lobe/right', 5),\n",
       " ('Pleural Effusion/left/large', 5),\n",
       " ('Pulmonary Atelectasis/left', 5),\n",
       " ('Deformity/ribs/right', 5),\n",
       " ('Opacity/lung/hilum/right', 5),\n",
       " ('Calcinosis/lung/hilum/lymph nodes/bilateral', 5),\n",
       " ('Thickening/pleura/left', 5),\n",
       " ('Cicatrix/lung/upper lobe/right', 5),\n",
       " ('Airspace Disease/lung/base/bilateral/mild', 5),\n",
       " ('Fractures, Bone/ribs/left/multiple/healed', 5),\n",
       " ('Spinal Fusion/thoracic vertebrae', 5),\n",
       " ('Cicatrix/lung/apex/right', 5),\n",
       " ('Calcinosis/trachea, carina/lymph nodes', 5),\n",
       " ('Pleural Effusion/right/large', 5),\n",
       " ('Emphysema/mild', 5),\n",
       " ('Calcified Granuloma/lung/apex/right', 5),\n",
       " ('Nodule/lung/middle lobe/right', 5),\n",
       " ('Fractures, Bone/ribs/bilateral/multiple/healed', 5),\n",
       " ('Scoliosis/mild', 5),\n",
       " ('Pleural Effusion/right/moderate', 5),\n",
       " ('Lung/hilum/lymph nodes/bilateral/enlarged', 5),\n",
       " ('Deformity/ribs/right/multiple', 5),\n",
       " ('Calcinosis/lymph nodes/right/paratracheal', 5),\n",
       " ('Calcified Granuloma/bilateral/multiple', 5),\n",
       " ('Surgical Instruments/thorax', 5),\n",
       " ('Infiltrate/lung/base/bilateral', 5),\n",
       " ('Arthritis/spine', 5),\n",
       " ('Spondylosis/mild', 5),\n",
       " ('Lung/interstitial/prominent', 5),\n",
       " ('Cicatrix/lung/base/right', 5),\n",
       " ('Diaphragm/left/elevated/mild', 5),\n",
       " ('Implanted Medical Device/heart', 5),\n",
       " ('Thickening/pleura/apex/bilateral', 5),\n",
       " ('Scoliosis/thoracic vertebrae/left/mild', 5),\n",
       " ('Pulmonary Atelectasis/upper lobe/right', 4),\n",
       " ('Implanted Medical Device/humerus/right', 4),\n",
       " ('Cicatrix/lung/lower lobe/left', 4),\n",
       " ('Calcinosis/lung/lingula', 4),\n",
       " ('Deformity/thoracic vertebrae/anterior/mild', 4),\n",
       " ('Scoliosis/lumbar vertebrae/left', 4),\n",
       " ('Pulmonary Emphysema/severe', 4),\n",
       " ('Consolidation/lung/lower lobe/left', 4),\n",
       " ('Fractures, Bone/ribs/right/healed', 4),\n",
       " ('Density/lung/lower lobe/left', 4),\n",
       " ('Fractures, Bone/sternum', 4),\n",
       " ('Lung/hilum/prominent', 4),\n",
       " ('Diaphragmatic Eventration/left', 4),\n",
       " ('Lung/hilum/enlarged', 4),\n",
       " ('Costophrenic Angle/blunted', 4),\n",
       " ('Opacity', 4),\n",
       " ('Lung/bilateral/hypoinflation', 4),\n",
       " ('Density/lung/apex/right', 4),\n",
       " ('Density/lung/base/left', 4),\n",
       " ('Breast Implants/bilateral', 4),\n",
       " ('Pulmonary Atelectasis/middle lobe/right/mild', 4),\n",
       " ('Opacity/lung/lower lobe/right/patchy', 4),\n",
       " ('Thoracic Vertebrae/degenerative/severe', 4),\n",
       " ('Lung/apex/bilateral/obscured', 4),\n",
       " ('Pneumonia', 4),\n",
       " ('Nodule/lung/base/right', 4),\n",
       " ('Pleural Effusion/base/left', 4),\n",
       " ('Hyperostosis, Diffuse Idiopathic Skeletal/thoracic vertebrae', 4),\n",
       " ('Granuloma/lung/lingula', 4),\n",
       " ('Opacity/lung/upper lobe/left/round', 4),\n",
       " ('Pleural Effusion/posterior', 4),\n",
       " ('Aorta/prominent', 4),\n",
       " ('Opacity/lung', 4),\n",
       " ('Surgical Instruments/lung/hilum/right', 4),\n",
       " ('Shoulder/right/degenerative', 4),\n",
       " ('Cardiac Shadow/enlarged/severe', 4),\n",
       " ('Pericardial Effusion', 4),\n",
       " ('Opacity/lung/base/bilateral/mild', 4),\n",
       " ('Lumbar Vertebrae/degenerative/multiple/mild', 4),\n",
       " ('Deformity/lumbar vertebrae', 4),\n",
       " ('Opacity/lung/base/right/patchy', 4),\n",
       " ('Pulmonary Atelectasis/bilateral', 4),\n",
       " ('Osteophyte/thoracic vertebrae', 4),\n",
       " ('Opacity/lung/hilum/left', 4),\n",
       " ('Hernia, Hiatal/small', 4),\n",
       " ('Pleural Effusion/left/moderate', 4),\n",
       " ('Airspace Disease/lung/middle lobe/right', 4),\n",
       " ('Density/lung/base/right', 4),\n",
       " ('Pulmonary Artery/enlarged', 4),\n",
       " ('Nipple Shadow/bilateral', 4),\n",
       " ('Granuloma/lung/lower lobe/left', 4),\n",
       " ('Density/lung/middle lobe/right/round', 4),\n",
       " ('Pulmonary Atelectasis/base/bilateral/patchy', 4),\n",
       " ('Implanted Medical Device/thorax/left', 4),\n",
       " ('Infiltrate/lung/base/left/mild', 4),\n",
       " ('Granuloma/lung/upper lobe/left', 4),\n",
       " ('Cystic Fibrosis', 4),\n",
       " ('Costophrenic Angle/left/blunted/mild', 4),\n",
       " ('Lung Diseases, Interstitial', 4),\n",
       " ('Pulmonary Edema/mild', 4),\n",
       " ('Thickening/pleura/bilateral', 4),\n",
       " ('Thickening/pleura/apex/bilateral/mild', 4),\n",
       " ('Markings/lung/interstitial/prominent/mild', 4),\n",
       " ('Nodule/lung/hilum/right', 4),\n",
       " ('Mastectomy/left', 3),\n",
       " ('Density/retrocardiac', 3),\n",
       " ('Shoulder/bilateral/degenerative', 3),\n",
       " ('Opacity/lung/base', 3),\n",
       " ('Pulmonary Atelectasis/lingula/focal', 3),\n",
       " ('Pneumothorax/right', 3),\n",
       " ('Deformity/clavicle/right', 3),\n",
       " ('Deformity/ribs/right/multiple/healed', 3),\n",
       " ('Deformity/ribs/right/posterior', 3),\n",
       " ('Cicatrix/lung/right', 3),\n",
       " ('Fractures, Bone/lumbar vertebrae', 3),\n",
       " ('Infiltrate/lung/base/bilateral/interstitial', 3),\n",
       " ('Lung Diseases, Interstitial/chronic', 3),\n",
       " ('Opacity/lung/upper lobe/right/focal', 3),\n",
       " ('Airspace Disease/lung/base/left/mild', 3),\n",
       " ('Density/lung/right', 3),\n",
       " ('Nodule/lung/right', 3),\n",
       " ('Spine/degenerative/chronic', 3),\n",
       " ('Opacity/lung/upper lobe/right/round', 3),\n",
       " ('Cicatrix', 3),\n",
       " ('Pulmonary Congestion/bilateral', 3),\n",
       " ('Calcinosis/aorta/mild', 3),\n",
       " ('Airspace Disease/lung/base/right/mild', 3),\n",
       " ('Sarcoidosis', 3),\n",
       " ('Calcified Granuloma/lung/lower lobe/left/multiple', 3),\n",
       " ('Atherosclerosis', 3),\n",
       " ('Deformity/clavicle/left', 3),\n",
       " ('Calcinosis/lung/lower lobe/left', 3),\n",
       " ('Cardiac Shadow/borderline', 3),\n",
       " ('Cardiac Shadow/enlarged/borderline', 3),\n",
       " ('Density/thorax/left', 3),\n",
       " ('Calcinosis/lung/scattered/multiple', 3),\n",
       " ('Deformity/thoracic vertebrae/anterior', 3),\n",
       " ('Diaphragm/posterior/flattened', 3),\n",
       " ('Consolidation/lung/base/right', 3),\n",
       " ('Heart/left/obscured', 3),\n",
       " ('Opacity/lung/left', 3),\n",
       " ('Pulmonary Atelectasis/focal', 3),\n",
       " ('Nodule/lung/base/left', 3),\n",
       " ('Spinal Fusion/lumbar vertebrae', 3),\n",
       " ('Deformity/thoracic vertebrae/anterior/multiple', 3),\n",
       " ('Deformity/spine', 3),\n",
       " ('Calcified Granuloma/lung/hilum/left', 3),\n",
       " ('Density/lung/upper lobe/right/round', 3),\n",
       " ('Diaphragm/bilateral/elevated', 3),\n",
       " ('Surgical Instruments/breast/left', 3),\n",
       " ('Density/lung/middle lobe/right', 3),\n",
       " ('Epicardial Fat/left/prominent', 3),\n",
       " ('Infiltrate/lung/base/bilateral/mild', 3),\n",
       " ('Infiltrate/lung/lower lobe/right/patchy', 3),\n",
       " ('Opacity/lung/middle lobe/right/patchy', 3),\n",
       " ('Opacity/lung/middle lobe/bilateral/interstitial', 3),\n",
       " ('Opacity/lung/base/bilateral/multiple', 3),\n",
       " ('Pulmonary Atelectasis/base/left/patchy', 3),\n",
       " ('Infiltrate/lung/lower lobe/left', 3),\n",
       " ('Granuloma/lung/lower lobe/right', 3),\n",
       " ('Opacity/lung/middle lobe/right/round', 3),\n",
       " ('Density/lung/lower lobe/right', 3),\n",
       " ('Pneumothorax/apex/right/small', 3),\n",
       " ('Deformity/thorax', 3),\n",
       " ('Markings/lung/base/bilateral/interstitial', 3),\n",
       " ('Spondylosis/thoracic vertebrae/mild', 3),\n",
       " ('Lung/hilum/left/prominent', 3),\n",
       " ('Lung/hilum/bilateral/prominent', 3),\n",
       " ('Fractures, Bone/humerus/right', 3),\n",
       " ('Atherosclerosis/aorta/mild', 3),\n",
       " ('Opacity/lung/interstitial/mild', 3),\n",
       " ('Calcified Granuloma/bilateral/scattered/multiple', 3),\n",
       " ('Calcinosis/lung/upper lobe/right', 3),\n",
       " ('Lumbar Vertebrae/degenerative/multiple', 3),\n",
       " ('Cicatrix/lung/base/right/mild', 3),\n",
       " ('Pneumoperitoneum', 3),\n",
       " ('Calcinosis/lung/right', 3),\n",
       " ('Granuloma/scattered/multiple', 3),\n",
       " ('Mastectomy/right', 3),\n",
       " ('Calcified Granuloma/lung/hilum/right/multiple', 3),\n",
       " ('Scoliosis/lumbar vertebrae/right/mild', 3),\n",
       " ('Cicatrix/lung/base/left/small', 3),\n",
       " ('Pneumonectomy/lung/upper lobe/left', 3),\n",
       " ('Spondylosis', 3),\n",
       " ('Pleural Effusion/small', 3),\n",
       " ('Fractures, Bone/ribs/healed', 3),\n",
       " ('Pulmonary Fibrosis', 3),\n",
       " ('Opacity/lung/apex/bilateral', 3),\n",
       " ('Cicatrix/pleura/right', 3),\n",
       " ('Heart Failure/mild', 3),\n",
       " ('Thoracic Vertebrae/degenerative/chronic', 3),\n",
       " ('Granuloma/lung/upper lobe/right', 3),\n",
       " ('Pneumonia/middle lobe/right', 3),\n",
       " ('Consolidation/lung/lower lobe/right', 3),\n",
       " ('Airspace Disease/lung/lower lobe/bilateral', 3),\n",
       " ('Granuloma/lung/middle lobe/right', 3),\n",
       " ('Stents/aorta', 3),\n",
       " ('Shoulder/degenerative', 3),\n",
       " ('Fractures, Bone/ribs/left/anterior/multiple', 3),\n",
       " ('Stents', 3),\n",
       " ('Cicatrix/pleura/apex/bilateral', 3),\n",
       " ('Aortic Aneurysm', 3),\n",
       " ('Pulmonary Atelectasis/lower lobe/bilateral', 3),\n",
       " ('Stents/abdomen/right', 3),\n",
       " ('Airspace Disease/lung/upper lobe/right', 3),\n",
       " ('Density/mediastinum', 3),\n",
       " ('Deformity/ribs/left', 3),\n",
       " ('Calcinosis/lymph nodes/small', 3),\n",
       " ('Diaphragm/left/obscured', 3),\n",
       " ('Density/thorax/round/multiple', 3),\n",
       " ('Tube, Inserted/abdomen', 3),\n",
       " ('Calcified Granuloma/lung/upper lobe/left/small', 3),\n",
       " ('Fractures, Bone/clavicle/left/healed', 3),\n",
       " ('Pleural Effusion/base/left/small', 3),\n",
       " ('Granuloma/multiple', 3),\n",
       " ('Funnel Chest/mild', 3),\n",
       " ('Heart/right/obscured', 3),\n",
       " ('Osteophyte/thoracic vertebrae/degenerative/mild', 3),\n",
       " ('Calcified Granuloma/lung/lower lobe/left/small', 3),\n",
       " ('Pectus Carinatum', 3),\n",
       " ('Pneumothorax/apex/right/moderate', 3),\n",
       " ('Calcinosis/lung/upper lobe/left', 3),\n",
       " ('Scoliosis/lumbar vertebrae/left/mild', 3),\n",
       " ('Opacity/lung/base/bilateral/patchy', 3),\n",
       " ('Consolidation/lung/base/bilateral', 2),\n",
       " ('Opacity/lung/base/bilateral/patchy/streaky', 2),\n",
       " ('Pleural Effusion/right/focal', 2),\n",
       " ('Calcified Granuloma/lung/right/small', 2),\n",
       " ('Shift/mediastinum', 2),\n",
       " ('Nodule/lung/upper lobe/right/small', 2),\n",
       " ('Pulmonary Atelectasis/base/patchy', 2),\n",
       " ('Opacity/lung/hilum/prominent', 2),\n",
       " ('Opacity/lung/upper lobe/right/round/small', 2),\n",
       " ('Calcinosis/lung/base/right', 2),\n",
       " ('Lucency/ribs/left/posterior', 2),\n",
       " ('Deformity/ribs/right/chronic', 2),\n",
       " ('Markings/lung/base/bilateral/bronchovascular', 2),\n",
       " ('Cicatrix/lung/base/bilateral/mild', 2),\n",
       " ('Foreign Bodies/breast', 2),\n",
       " ('Airspace Disease/lung/lower lobe/left/patchy', 2),\n",
       " ('Deformity/lumbar vertebrae/severe', 2),\n",
       " ('Calcified Granuloma/lung/base/left/small', 2),\n",
       " ('Thickening/bronchovascular', 2),\n",
       " ('Opacity/lung/upper lobe/hilum/left', 2),\n",
       " ('Pneumonia/upper lobe/left', 2),\n",
       " ('Thickening/pleura/apex/left', 2),\n",
       " ('Infiltrate/lung', 2),\n",
       " ('Opacity/ribs/anterior', 2),\n",
       " ('Infiltrate/lung/middle lobe/right', 2),\n",
       " ('Cicatrix/mild', 2),\n",
       " ('Airspace Disease/lung/middle lobe/right/focal', 2),\n",
       " ('Airspace Disease/lung/right', 2),\n",
       " ('Medical Device/left', 2),\n",
       " ('Opacity/lung/upper lobe/left/patchy', 2),\n",
       " ('Cicatrix/lung/lingula/mild', 2),\n",
       " ('Pulmonary Emphysema/chronic', 2),\n",
       " ('Hydropneumothorax/right', 2),\n",
       " ('Pulmonary Atelectasis/lingula/mild', 2),\n",
       " ('Calcinosis/lung/base/left', 2),\n",
       " ('Calcinosis/mild', 2),\n",
       " ('Pneumothorax', 2),\n",
       " ('Density/round', 2),\n",
       " ('Foreign Bodies/breast/left', 2),\n",
       " ('Surgical Instruments/heart', 2),\n",
       " ('Markings/lung/mild', 2),\n",
       " ('Epicardial Fat/bilateral/prominent', 2),\n",
       " ('Pleural Effusion/bilateral/large', 2),\n",
       " ('Lung/hilum/left/prominent/mild', 2),\n",
       " ('Fractures, Bone/clavicle/right', 2),\n",
       " ('Bone and Bones/degenerative', 2),\n",
       " ('Cicatrix/pleura/left', 2),\n",
       " ('Pneumothorax/apex/right', 2),\n",
       " ('Pneumothorax/right/small', 2),\n",
       " ('Calcinosis', 2),\n",
       " ('Markings/lung/base/bronchovascular/mild', 2),\n",
       " ('Fractures, Bone/ribs/left', 2),\n",
       " ('Cicatrix/lung/left', 2),\n",
       " ('Consolidation/lung/middle lobe/right', 2),\n",
       " ('Nodule/thorax/left', 2),\n",
       " ('Nodule/lung/upper lobe/bilateral', 2),\n",
       " ('Granuloma/lung/base/right', 2),\n",
       " ('Lung, Hyperlucent/apex/bilateral', 2),\n",
       " ('Lucency/lung/apex/bilateral', 2),\n",
       " ('Granuloma/scattered', 2),\n",
       " ('Pulmonary Atelectasis/base/left/focal', 2),\n",
       " ('Markings/lung/bilateral/interstitial', 2),\n",
       " ('Consolidation/lung/base/left', 2),\n",
       " ('Diaphragmatic Eventration/right/anterior', 2),\n",
       " ('Epicardial Fat', 2),\n",
       " ('Granuloma/lung/right', 2),\n",
       " ('Opacity/lung/base/right/streaky', 2),\n",
       " ('Deformity/ribs/bilateral/chronic', 2),\n",
       " ('Pulmonary Atelectasis/left/severe', 2),\n",
       " ('Density/right/paratracheal', 2),\n",
       " ('Density/lung/hilum/right', 2),\n",
       " ('Osteophyte/spine/multiple', 2),\n",
       " ('Volume Loss/lung/right', 2),\n",
       " ('Pulmonary Atelectasis/base/mild', 2),\n",
       " ('Markings/lung/interstitial/mild', 2),\n",
       " ('Opacity/lung/interstitial/diffuse', 2),\n",
       " ('Fractures, Bone/clavicle/right/healed', 2),\n",
       " ('Calcinosis/lymph nodes/bilateral', 2),\n",
       " ('Opacity/retrocardiac/patchy', 2),\n",
       " ('Scoliosis/severe', 2),\n",
       " ('Nodule/lung/upper lobe/left/multiple/small', 2),\n",
       " ('Opacity/lung/bilateral/scattered', 2),\n",
       " ('Fractures, Bone/ribs/left/chronic', 2),\n",
       " ('Mediastinum/lymph nodes/enlarged', 2),\n",
       " ('Pneumothorax/left', 2),\n",
       " ('Airspace Disease/lung/left', 2),\n",
       " ('Opacity/left/retrocardiac', 2),\n",
       " ('Calcified Granuloma/lung/bilateral/scattered', 2),\n",
       " ('Nodule/lung/hilum/left', 2),\n",
       " ('Density/lung/lower lobe/left/round', 2),\n",
       " ('Cicatrix/lung/apex/bilateral/mild', 2),\n",
       " ('Implanted Medical Device/pulmonary artery', 2),\n",
       " ('Opacity/lung/hilum/right/patchy', 2),\n",
       " ('Markings/lung/interstitial/diffuse', 2),\n",
       " ('Airspace Disease/lung/base/right/patchy', 2),\n",
       " ('Calcified Granuloma/paratracheal', 2),\n",
       " ('Granulomatous Disease/mild', 2),\n",
       " ('Costophrenic Angle/sulcus/left/blunted', 2),\n",
       " ('Opacity/lung/bilateral/interstitial/mild', 2),\n",
       " ('Opacity/lung/lower lobe/left/patchy', 2),\n",
       " ('Opacity/lung/base/right/mild', 2),\n",
       " ('Nodule/lung/apex/right', 2),\n",
       " ('Calcinosis/lung/middle lobe/right', 2),\n",
       " ('Deformity/humerus/right', 2),\n",
       " ('Nodule/lung/apex/right/round', 2),\n",
       " ('Lumbar Vertebrae/degenerative/severe', 2),\n",
       " ('Fractures, Bone', 2),\n",
       " ('Infiltrate/lung/middle lobe/right/patchy', 2),\n",
       " ('Blister/lung/upper lobe/bilateral', 2),\n",
       " ('Opacity/lung/hilum/left/round', 2),\n",
       " ('Lung/hyperdistention/moderate', 2),\n",
       " ('Calcinosis/aorta/severe', 2),\n",
       " ('Opacity/costophrenic angle/left', 2),\n",
       " ('Pulmonary Fibrosis/upper lobe/right', 2),\n",
       " ('Pulmonary Atelectasis/hilum/right/mild', 2),\n",
       " ('Deformity/ribs/posterior', 2),\n",
       " ('Opacity/lung/middle lobe/right/mild', 2),\n",
       " ('Contrast Media/abdomen', 2),\n",
       " ('Cicatrix/lung/lower lobe/right', 2),\n",
       " ('Nodule/lung/right/multiple', 2),\n",
       " ('Fractures, Bone/ribs/right/multiple', 2),\n",
       " ('Opacity/lung/hilum/streaky', 2),\n",
       " ('Surgical Instruments/abdomen/multiple', 2),\n",
       " ('Opacity/mediastinum/right', 2),\n",
       " ('Density/thorax', 2),\n",
       " ('Sclerosis/thoracic vertebrae', 2),\n",
       " ('Airspace Disease/lung/lower lobe/right/patchy', 2),\n",
       " ('Kyphosis', 2),\n",
       " ('Density/lung/lower lobe/left/irregular', 2),\n",
       " ('Density/thorax/right', 2),\n",
       " ('Thickening/pleura/apex/left/mild', 2),\n",
       " ('Nodule/lung/upper lobe/left/small', 2),\n",
       " ('Granuloma/lung/apex/right', 2),\n",
       " ('Calcified Granuloma/lung/upper lobe/right/small', 2),\n",
       " ('Thickening/pleura/apex/bilateral/round', 2),\n",
       " ('Hernia, Hiatal/prominent', 2),\n",
       " ('Bronchiectasis', 2),\n",
       " ('Pulmonary Atelectasis/middle lobe/right/focal', 2),\n",
       " ('Calcified Granuloma/lung/right/multiple', 2),\n",
       " ('Osteoporosis', 2),\n",
       " ('Foreign Bodies/abdomen', 2),\n",
       " ('Scoliosis/lumbar vertebrae/mild', 2),\n",
       " ('Opacity/multiple', 2),\n",
       " ('Markings/lung/apex/bilateral', 2),\n",
       " ('Airspace Disease/lung/bilateral', 2),\n",
       " ('Calcified Granuloma/lung/multiple', 2),\n",
       " ('Pulmonary Edema/lower lobe/bilateral', 2),\n",
       " ('Calcified Granuloma/lung/multiple/small', 2),\n",
       " ('Lung/hyperdistention/severe', 2),\n",
       " ('Calcinosis/ribs', 2),\n",
       " ('Deformity/ribs/left/multiple', 2),\n",
       " ('Nodule/lung/lower lobe/left/multiple', 2),\n",
       " ('Shoulder/right/degenerative/severe', 2),\n",
       " ('Infiltrate/lung/lower lobe/bilateral/interstitial/patchy', 2),\n",
       " ('Shift/mediastinum/right', 2),\n",
       " ('Calcified Granuloma/lung/middle lobe/right/small', 2),\n",
       " ('Pleural Effusion/bilateral/moderate', 2),\n",
       " ('Surgical Instruments/neck', 2),\n",
       " ('Sutures/lung/upper lobe/left', 2),\n",
       " ('Cicatrix/costophrenic angle/left', 2),\n",
       " ('Hernia, Hiatal/retrocardiac/large', 2),\n",
       " ('Density/ribs/left/anterior', 2),\n",
       " ('Calcinosis/mitral valve', 2),\n",
       " ('Dislocations/thoracic vertebrae', 2),\n",
       " ('Airspace Disease/lung', 2),\n",
       " ('Density/lung/base/left/round', 2),\n",
       " ('Lung/bilateral/interstitial/prominent', 2),\n",
       " ('Opacity/lung/lower lobe/right/streaky', 2),\n",
       " ('Opacity/lung/apex/left/irregular', 2),\n",
       " ('Medical Device/thorax/left', 2),\n",
       " ('Bone Diseases, Metabolic/diffuse', 2),\n",
       " ('Consolidation/lung/lower lobe/bilateral', 2),\n",
       " ('Opacity/lung/multiple/abnormal', 2),\n",
       " ('Deformity/lumbar vertebrae/anterior/mild', 2),\n",
       " ('Opacity/lung/base/left/streaky/mild', 2),\n",
       " ('Opacity/lung/lingula/streaky', 2),\n",
       " ('Cicatrix/pleura/bilateral', 2),\n",
       " ('Pulmonary Edema/base/bilateral/interstitial', 2),\n",
       " ('Scoliosis/thoracic vertebrae/moderate', 2),\n",
       " ('Scoliosis/lumbar vertebrae/moderate', 2),\n",
       " ('Calcified Granuloma/mediastinum/multiple', 2),\n",
       " ('Calcinosis/lung/lower lobe/right', 2),\n",
       " ('Deformity/thoracic vertebrae/multiple/mild', 2),\n",
       " ('Lung Diseases, Interstitial/chronic/mild', 2),\n",
       " ('Bullous Emphysema/lung/apex/bilateral', 2),\n",
       " ('Lung/interstitial/prominent/mild', 2),\n",
       " ('Cavitation/lung/apex/right', 2),\n",
       " ('Pulmonary Atelectasis/upper lobe/right/mild', 2),\n",
       " ('Airspace Disease/lung/lingula/patchy', 2),\n",
       " ('Aorta, Thoracic/tortuous/moderate', 2),\n",
       " ('Blister/lung/upper lobe/bilateral/multiple', 2),\n",
       " ('Calcinosis/right/paratracheal', 2),\n",
       " ('Shift/mediastinum/left', 2),\n",
       " ('Markings/lung/bilateral/interstitial/diffuse', 2),\n",
       " ('Calcified Granuloma/lung/scattered/multiple', 2),\n",
       " ('Nodule/lung/scattered/multiple', 2),\n",
       " ('Pleural Effusion/base/bilateral', 2),\n",
       " ('Cavitation/lung/upper lobe/right', 2),\n",
       " ('Cicatrix/lung/middle lobe/right/mild', 2),\n",
       " ('Cicatrix/lung/apex/right/mild', 2),\n",
       " ('Deformity/lung/hilum/right', 2),\n",
       " ('Volume Loss/thorax/right', 2),\n",
       " ('Cervical Vertebrae/degenerative', 2),\n",
       " ('Diaphragmatic Eventration', 2),\n",
       " ('Medical Device/thorax', 2),\n",
       " ('Airspace Disease/lung/middle lobe/right/mild', 2),\n",
       " ('Stents/abdomen', 2),\n",
       " ('Deformity/ribs/left/chronic', 2),\n",
       " ('Opacity/lung/lingula/round', 2),\n",
       " ('Mediastinum/right/paratracheal/prominent', 2),\n",
       " ('Pulmonary Artery/prominent', 2),\n",
       " ('Pulmonary Atelectasis/base/bilateral/focal', 2),\n",
       " ('Opacity/retrocardiac/streaky', 2),\n",
       " ('Foreign Bodies/thorax/left/posterior', 2),\n",
       " ('Kyphosis/thoracic vertebrae/mild', 2),\n",
       " ('Pleural Effusion', 2),\n",
       " ('Thickening/pleura/apex/right', 2),\n",
       " ('Airspace Disease/lung/base/right/focal', 2),\n",
       " ('Scoliosis/lumbar vertebrae/right', 2),\n",
       " ('Heart Ventricles/left/enlarged', 2),\n",
       " ('Pulmonary Artery/bilateral/enlarged', 2),\n",
       " ('Cicatrix/pleura/apex/left', 2),\n",
       " ('Infiltrate/lung/base/right', 2),\n",
       " ('Consolidation/lung/upper lobe/left', 2),\n",
       " ('Scoliosis/thoracic vertebrae/right/moderate', 2),\n",
       " ('Deformity/ribs/bilateral/multiple', 2),\n",
       " ('Airspace Disease/lung/middle lobe/right/patchy', 2),\n",
       " ('Opacity/lung/lower lobe/left/scattered/multiple', 2),\n",
       " ('Pulmonary Atelectasis/base/right/focal', 2),\n",
       " ('Osteophyte/thoracic vertebrae/anterior/multiple/large', 2),\n",
       " ('Opacity/lung/upper lobe/right/streaky', 2),\n",
       " ('Infiltrate/lung/upper lobe/right', 2),\n",
       " ('Calcified Granuloma/lung/base/right/small', 2),\n",
       " ('Lumbar Vertebrae/degenerative/mild', 2),\n",
       " ('Surgical Instruments/mediastinum/left', 2),\n",
       " ('Markings/lung/bilateral/interstitial/diffuse/prominent', 1),\n",
       " ('Fibrosis/diffuse', 1),\n",
       " ('Dislocations/shoulder/left/chronic', 1),\n",
       " ('Shoulder/bilateral/degenerative/severe', 1),\n",
       " ('Opacity/pleura/right', 1),\n",
       " ('Opacity/lung/hilum/right/round', 1),\n",
       " ('Pulmonary Atelectasis/hilum/right', 1),\n",
       " ('Pleural Effusion/hilum/right', 1),\n",
       " ('Density/sternum', 1),\n",
       " ('Calcinosis/lung/upper lobe/right/small', 1),\n",
       " ('Costophrenic Angle/sulcus/bilateral/posterior/obscured', 1),\n",
       " ('Shoulder/bilateral/degenerative/mild', 1),\n",
       " ('Pulmonary Atelectasis/bilateral/scattered', 1),\n",
       " ('Nodule/lung/bilateral/diffuse/multiple/small', 1),\n",
       " ('Pulmonary Emphysema/base/bilateral', 1),\n",
       " ('Opacity/pleura/upper lobe/left/irregular', 1),\n",
       " ('Opacity/thorax/posterior', 1),\n",
       " ('Markings/lung/hilum', 1),\n",
       " ('Opacity/lung/upper lobe/left/streaky/mild', 1),\n",
       " ('Opacity/lung/right/streaky/mild', 1),\n",
       " ('Kyphosis/thorax/severe', 1),\n",
       " ('Fractures, Bone/thoracic vertebrae/multiple', 1),\n",
       " ('Calcinosis/bilateral/diffuse', 1),\n",
       " ('Cicatrix/pleura/base/bilateral/chronic', 1),\n",
       " ('Pulmonary Edema/base/interstitial', 1),\n",
       " ('Density/lung/base/right/mild', 1),\n",
       " ('Opacity/lung/upper lobe/left/focal/small', 1),\n",
       " ('Calcinosis/bilateral/scattered', 1),\n",
       " ('Density/breast', 1),\n",
       " ('Opacity/lung/lower lobe/left/posterior', 1),\n",
       " ('Fractures, Bone/ribs/multiple/healed', 1),\n",
       " ('Opacity/mediastinum', 1),\n",
       " ('Pulmonary Atelectasis/base/right/scattered/mild', 1),\n",
       " ('Pleural Effusion/costophrenic angle/left', 1),\n",
       " ('Aorta/enlarged/tortuous', 1),\n",
       " ('Opacity/lung/bilateral/mild', 1),\n",
       " ('Calcified Granuloma/lung/hilum/bilateral/multiple', 1),\n",
       " ('Arthritis/humerus/left', 1),\n",
       " ('Implanted Medical Device/shoulder/right', 1),\n",
       " ('Cysts/lung/upper lobe/left', 1),\n",
       " ('Tuberculosis/lung/healed', 1),\n",
       " ('Deformity/clavicle/right/chronic', 1),\n",
       " ('Surgical Instruments/breast/right', 1),\n",
       " ('Opacity/lung/hilum/right/small', 1),\n",
       " ('Markings/lung/interstitial/irregular/chronic', 1),\n",
       " ('Infiltrate/lung/upper lobe/left', 1),\n",
       " ('Cicatrix/lung/lingula/focal', 1),\n",
       " ('Lung, Hyperlucent/bilateral', 1),\n",
       " ('Consolidation/lung/lower lobe/right/posterior/focal', 1),\n",
       " ('Lung/left/hypoinflation', 1),\n",
       " ('Markings/lung/right/bronchovascular', 1),\n",
       " ('Pulmonary Congestion/right', 1),\n",
       " ('Tube, Inserted/left', 1),\n",
       " ('Colonic Interposition/mediastinum', 1),\n",
       " ('Calcified Granuloma/lung/hilum/bilateral/multiple/large', 1),\n",
       " ('Calcinosis/lung/hilum/lymph nodes/bilateral/multiple/large', 1),\n",
       " ('Tube, Inserted/thorax/right', 1),\n",
       " ('Pneumoperitoneum/small', 1),\n",
       " ('Sclerosis/humerus/bilateral', 1),\n",
       " ('Sclerosis/spine', 1),\n",
       " ('Calcinosis/abdomen', 1),\n",
       " ('Cholelithiasis', 1),\n",
       " ('Ribs/right/anterior/prominent', 1),\n",
       " ('Opacity/lung/middle lobe/bilateral', 1),\n",
       " ('Calcified Granuloma/lung/upper lobe/right/multiple', 1),\n",
       " ('Markings/lung/lower lobe/interstitial/prominent', 1),\n",
       " ('Airspace Disease/lung/lower lobe/right/mild', 1),\n",
       " ('Nodule/lung/hilum/right/prominent', 1),\n",
       " ('Opacity/lung/lingula/patchy/mild', 1),\n",
       " ('Airspace Disease/lung/lingula/patchy/mild', 1),\n",
       " ('Calcinosis/mediastinum/lymph nodes/left', 1),\n",
       " ('Lucency/clavicle/left/round/small', 1),\n",
       " ('Mass/lung/upper lobe/right/posterior', 1),\n",
       " ('Opacity/heart/left', 1),\n",
       " ('Lucency/clavicle/left', 1),\n",
       " ('Pulmonary Fibrosis/bilateral/interstitial', 1),\n",
       " ('Opacity/lung/base/right/streaky/multiple', 1),\n",
       " ('Hernia, Diaphragmatic', 1),\n",
       " ('Aorta/enlarged/tortuous/mild', 1),\n",
       " ('Airspace Disease/lung/right/diffuse', 1),\n",
       " ('Pneumonia/right/focal/multiple', 1),\n",
       " ('Opacity/right/paratracheal', 1),\n",
       " ('Density/bilateral/round/small', 1),\n",
       " ('Pulmonary Artery/bilateral/prominent', 1),\n",
       " ('Opacity/supracardiac', 1),\n",
       " ('Infiltrate/lung/upper lobe/bilateral', 1),\n",
       " ('Fractures, Bone/Thoracic Vertebrae', 1),\n",
       " ('Surgical Instruments/lung/right', 1),\n",
       " ('Lung/hilum/bilateral/prominent/mild', 1),\n",
       " ('Opacity/left', 1),\n",
       " ('Cicatrix/left', 1),\n",
       " ('Pulmonary Atelectasis/base/bilateral/focal/mild', 1),\n",
       " ('Atherosclerosis/aorta, thoracic/mild', 1),\n",
       " ('Nodule/lung/left', 1),\n",
       " ('Consolidation/lung/upper lobe/bilateral', 1),\n",
       " ('Calcinosis/breast implants', 1),\n",
       " ('Opacity/lung/base/bilateral/patchy/mild', 1),\n",
       " ('Pleura/blunted/mild', 1),\n",
       " ('Atherosclerosis/mild', 1),\n",
       " ('Density/lung/base/right/round', 1),\n",
       " ('Airspace Disease/lung/base/bilateral/patchy/mild', 1),\n",
       " ('Tube, Inserted/large', 1),\n",
       " ('Pulmonary Fibrosis/upper lobe/left', 1),\n",
       " ('Infiltrate/lung/lower lobe/left/patchy', 1),\n",
       " ('Pulmonary Atelectasis/right/mild', 1),\n",
       " ('Calcified Granuloma/lung/middle lobe/left', 1),\n",
       " ('Expansile Bone Lesions/ribs/right', 1),\n",
       " ('Thickening/lung/interstitial', 1),\n",
       " ('Granuloma/ribs/right/posterior', 1),\n",
       " ('Opacity/ribs/right/posterior/round', 1),\n",
       " ('Density/costophrenic angle/sulcus/right', 1),\n",
       " ('Calcinosis/lung/apex/right', 1),\n",
       " ('Lucency/clavicle/right', 1),\n",
       " ('Opacity/pleural sinus/bilateral', 1),\n",
       " ('Deformity/clavicle/left/chronic', 1),\n",
       " ('Opacity/mediastinum/base', 1),\n",
       " ('Hydropneumothorax/left/large', 1),\n",
       " ('Opacity/lung/upper lobe/right/interstitial', 1),\n",
       " ('Opacity/lung/base/right/interstitial', 1),\n",
       " ('Opacity/lung/apex/right/patchy', 1),\n",
       " ('Lucency/lung/apex/right/focal/round', 1),\n",
       " ('Diaphragmatic Eventration/mild', 1),\n",
       " ('Heart Ventricles/left/prominent', 1),\n",
       " ('Pneumonectomy/lung/upper lobe/right ', 1),\n",
       " ('Opacity/lung/base/left/multiple', 1),\n",
       " ('Infiltrate/lung/base/left/interstitial', 1),\n",
       " ('Infiltrate/lung/base/pulmonary alveoli/left', 1),\n",
       " ('Thickening/pleura/upper lobe/right', 1),\n",
       " ('Pleural Effusion/upper lobe/right', 1),\n",
       " ('Nodule/pleura/upper lobe/bilateral', 1),\n",
       " ('Density/lung/base/bilateral', 1),\n",
       " ('Mass/lung/lingula', 1),\n",
       " ('Surgical Instruments/multiple', 1),\n",
       " ('Nodule/lung/upper lobe/right/multiple', 1),\n",
       " ('Osteophyte/shoulder/bilateral/multiple', 1),\n",
       " ('Opacity/retrocardiac/mild', 1),\n",
       " ('Deformity/thoracic vertebrae/right/mild', 1),\n",
       " ('Foreign Bodies/clavicle/left', 1),\n",
       " ('Pulmonary Atelectasis/left/retrocardiac/focal', 1),\n",
       " ('Pulmonary Atelectasis/base/left/scattered', 1),\n",
       " ('Cicatrix/lung/apex/mild', 1),\n",
       " ('Opacity/lung/upper lobe/left/round/multiple/small', 1),\n",
       " ('Opacity/ribs/left/round/multiple/small', 1),\n",
       " ('Opacity/lung/base/left/chronic', 1),\n",
       " ('Pleural Effusion/bilateral/focal/moderate', 1),\n",
       " ('Markings/lung/upper lobe/right/interstitial/focal', 1),\n",
       " ('Opacity/lung/middle lobe/right/scattered', 1),\n",
       " ('Nodule/lung/lower lobe/right/anterior', 1),\n",
       " ('Opacity/round/multiple', 1),\n",
       " ('Foreign Bodies/breast/right', 1),\n",
       " ('Density/ribs/right/anterior/round/multiple', 1),\n",
       " ('Airspace Disease/lung/base', 1),\n",
       " ('Catheters, Indwelling/abdomen/right', 1),\n",
       " ('Mediastinum/paratracheal/enlarged ', 1),\n",
       " ('Trachea, Carina/lymph nodes/enlarged', 1),\n",
       " ('Cardiac Shadow/enlarged/prominent', 1),\n",
       " ('Diaphragm/posterior/flattened/mild', 1),\n",
       " ('Calcinosis/aorta/lymph nodes', 1),\n",
       " ('Calcinosis/pulmonary artery/lymph nodes', 1),\n",
       " ('Airspace Disease/lung/base/left/streaky', 1),\n",
       " ('Cicatrix/lung/base/left/chronic/mild', 1),\n",
       " ('Sclerosis/thoracic vertebrae/posterior/mild', 1),\n",
       " ('Consolidation/lung/lower lobe/left/focal', 1),\n",
       " ('Catheters, Indwelling/bilateral', 1),\n",
       " ('Thickening/lung/lower lobe/bronchi/bilateral', 1),\n",
       " ('Bronchitis/lower lobe/bilateral', 1),\n",
       " ('Opacity/lung/interstitial/reticular/mild', 1),\n",
       " ('Density/ribs/bilateral/posterior/round', 1),\n",
       " ('Nipple Shadow/ribs/bilateral/posterior', 1),\n",
       " ('Lucency/lung/upper lobe/bilateral', 1),\n",
       " ('Lung, Hyperlucent/upper lobe/bilateral', 1),\n",
       " ('Emphysema/bilateral/chronic/severe', 1),\n",
       " ('Lung/obscured', 1),\n",
       " ('Deformity/sternum/anterior', 1),\n",
       " ('Consolidation/lung/upper lobe/right', 1),\n",
       " ('Sclerosis/clavicle/left', 1),\n",
       " ('Emphysema/chronic', 1),\n",
       " ('Nodule/lung/upper lobe/hilum/right', 1),\n",
       " ('Opacity/lung/lower lobe/bilateral/interstitial', 1),\n",
       " ('Markings/lung/base/right', 1),\n",
       " ('Lucency/mediastinum/mild', 1),\n",
       " ('Adipose Tissue/mediastinum', 1),\n",
       " ('Density/ribs/right/round/multiple', 1),\n",
       " ('Pulmonary Atelectasis/lingula/small', 1),\n",
       " ('Calcinosis/lung/lower lobe/left/round', 1),\n",
       " ('Granuloma/lung/lower lobe/left/round', 1),\n",
       " ('Scoliosis/right', 1),\n",
       " ('Infiltrate/lung/lower lobe/right/interstitial/patchy', 1),\n",
       " ('Thoracic vertebrae/degenerative/mild', 1),\n",
       " ('Lucency/heart ventricles/left', 1),\n",
       " ('Opacity/lung/upper lobe/patchy', 1),\n",
       " ('Opacity/lung/apex/left/patchy', 1),\n",
       " ('Airspace Disease/lung/apex/left/patchy', 1),\n",
       " ('Spondylosis/degenerative', 1),\n",
       " ('Fractures, Bone/clavicle/right/mild', 1),\n",
       " ('Cicatrix/lung/upper lobe/right/streaky/mild', 1),\n",
       " ('Calcified Granuloma/lung/base/right/large', 1),\n",
       " ('Granuloma/lung/hilum/left/multiple', 1),\n",
       " ('Pleural Effusion/borderline', 1),\n",
       " ('Aorta, Thoracic/prominent/mild', 1),\n",
       " ('Calcinosis/lung/upper lobe/left/large', 1),\n",
       " ('Calcinosis/lung/lower lobe/left/large', 1),\n",
       " ('Pleural Effusion/bilateral/posterior/mild', 1),\n",
       " ('Calcified Granuloma/lung/lower lobe/right/posterior/multiple', 1),\n",
       " ('Calcified Granuloma/mediastinum/large', 1),\n",
       " ('Calcified Granuloma/lung/hilum/right/large', 1),\n",
       " ('Nodule/lung/bilateral/round/multiple/small', 1),\n",
       " ('Density/lung/bilateral/round/multiple/small', 1),\n",
       " ('Calcinosis/lung/bilateral/round/multiple/small', 1),\n",
       " ('Airspace Disease/lung/base/left/focal', 1),\n",
       " ('Thickening/pleura/apex/right/round', 1),\n",
       " ('Cicatrix/pleura/apex/right/round', 1),\n",
       " ('Density/lung/interstitial/scattered', 1),\n",
       " ('Cicatrix/lung/upper lobe/right/scattered', 1),\n",
       " ('Deformity/humerus/right/chronic', 1),\n",
       " ('Lung/hilum/interstitial/prominent', 1),\n",
       " ('Infiltrate/lung/hilum/right', 1),\n",
       " ('Subcutaneous Emphysema/thorax/right/severe', 1),\n",
       " ('Subcutaneous Emphysema/neck/severe', 1),\n",
       " ('Fractures, Bone/ribs/right/anterior/multiple', 1),\n",
       " ('Airspace Disease/lung/base/right/streaky/mild', 1),\n",
       " ('Catheters, Indwelling/thoracic vertebrae', 1),\n",
       " ('Deformity/pleura/apex/right', 1),\n",
       " ('Opacity/lung/apex/right/focal', 1),\n",
       " ('Opacity/thorax/right', 1),\n",
       " ('Pulmonary Edema/base/bilateral', 1),\n",
       " ('Calcified Granuloma/lung/bilateral/scattered/multiple', 1),\n",
       " ('Opacity/lung/upper lobe/bilateral/round', 1),\n",
       " ('Sulcus/right/posterior/obscured', 1),\n",
       " ('Pneumonectomy/lung/left', 1),\n",
       " ('Markings/lung/base/right/interstitial/chronic', 1),\n",
       " ('Diaphragm/left/elevated/chronic', 1),\n",
       " ('Lung/lingula/obscured', 1),\n",
       " ('Density/lung/upper lobe/right', 1),\n",
       " ('Thorax/left/small', 1),\n",
       " ('Tube, Inserted/right', 1),\n",
       " ('Calcified Granuloma/lung/lower lobe/right/small', 1),\n",
       " ('Density/lung/hilum/right/round', 1),\n",
       " ('Infiltrate/lung/upper lobe/pulmonary alveoli/right/patchy', 1),\n",
       " ('Opacity/lung/left/round', 1),\n",
       " ('Nipple Shadow/lung/left', 1),\n",
       " ('Nodule/lung/base/left/reticular', 1),\n",
       " ('Pulmonary Atelectasis/mild', 1),\n",
       " ('Infiltrate/lung/hilum/right/mild', 1),\n",
       " ('Foreign Bodies/multiple/small', 1),\n",
       " ('Lucency/ribs/posterior', 1),\n",
       " ('Pulmonary Atelectasis/upper lobe/left/mild', 1),\n",
       " ('Cicatrix/lung/upper lobe/left/mild', 1),\n",
       " ('Cicatrix/lung/lower lobe/left/streaky', 1),\n",
       " ('Calcinosis/lung/right/posterior', 1),\n",
       " ('Funnel Chest', 1),\n",
       " ('Pulmonary Fibrosis/chronic', 1),\n",
       " ('Calcified Granuloma/lung/hilum/right/multiple/large', 1),\n",
       " ('Cicatrix/lung/apex/right/round', 1),\n",
       " ('Calcified Granuloma/lung/lower lobe/right/large', 1),\n",
       " ('Calcified Granuloma/lung/lower lobe/right/multiple', 1),\n",
       " ('Cicatrix/lung/lingula/small', 1),\n",
       " ('Granuloma/lung/upper lobe/right/multiple', 1),\n",
       " ('Opacity/lung/hilum/pulmonary alveoli/left', 1),\n",
       " ('Opacity/lung/hilum/left/interstitial', 1),\n",
       " ('Opacity/lung/bilateral/scattered/round/multiple', 1),\n",
       " ('Opacity/lung/base/bilateral/interstitial/mild', 1),\n",
       " ('Markings/lung/base/bilateral/interstitial/prominent/mild', 1),\n",
       " ('Calcinosis/lung/hilum/lymph nodes/left/small', 1),\n",
       " ('Ribs/prominent', 1),\n",
       " ('Osteophyte/thoracic vertebrae/degenerative/multiple/severe', 1),\n",
       " ('Opacity/lung/right/round', 1),\n",
       " ('Opacity/lung/interstitial/diffuse/patchy/mild', 1),\n",
       " ('Sclerosis/lumbar vertebrae', 1),\n",
       " ('Pulmonary Fibrosis/base/left', 1),\n",
       " ('Opacity/lung/lower lobe/right/posterior/round', 1),\n",
       " ('Granuloma/thoracic vertebrae', 1),\n",
       " ('Breast Implants', 1),\n",
       " ('Deformity/thoracic vertebrae/moderate', 1),\n",
       " ('Hernia, Diaphragmatic/small', 1),\n",
       " ('Density/lung/hilum/left', 1),\n",
       " ('Lung/interstitial/abnormal', 1),\n",
       " ('Nodule/lung/base', 1),\n",
       " ('Granuloma/right', 1),\n",
       " ('Calcinosis/lung/lower lobe/left/irregular', 1),\n",
       " ('Density/thorax/base/left', 1),\n",
       " ('Costophrenic Angle/left/obscured', 1),\n",
       " ('Calcinosis/lung/middle lobe/right/round', 1),\n",
       " ('Opacity/lung/bilateral/round/multiple', 1),\n",
       " ('Density/lung/right/round', 1),\n",
       " ('Costophrenic Angle/posterior/blunted/mild', 1),\n",
       " ('Opacity/lung/lingula/focal', 1),\n",
       " ('Calcinosis/scattered/multiple/small', 1),\n",
       " ('Nodule/scattered/multiple/small', 1),\n",
       " ('Calcified Granuloma/lung/hilum', 1),\n",
       " ('Osteophyte/thoracic vertebrae/multiple/mild', 1),\n",
       " ('Scoliosis/thoracic vertebrae/left/moderate', 1),\n",
       " ('Hypovolemia/lung/apex', 1),\n",
       " ('Nodule/thorax/multiple/small', 1),\n",
       " ('Diaphragm/bilateral/flattened/mild', 1),\n",
       " ('Lucency/lung/upper lobe/right/round/large', 1),\n",
       " ('Cicatrix/lung/apex/bilateral/round', 1),\n",
       " ('Nodule/lung/apex/bilateral/round', 1),\n",
       " ('Sclerosis/thoracic vertebrae/mild', 1),\n",
       " ('Opacity/lung/bilateral', 1),\n",
       " ('Granuloma/thorax/left', 1),\n",
       " ('Lung/hilum/lymph nodes/left/enlarged', 1),\n",
       " ('Opacity/lung/hilum/interstitial', 1),\n",
       " ('Opacity/lung/base/left/retrocardiac', 1),\n",
       " ('Catheters, Indwelling/thorax', 1),\n",
       " ('Pleura/right/blunted', 1),\n",
       " ('Opacity/lung/upper lobe/right/anterior', 1),\n",
       " ('Thickening/pleura/mild', 1),\n",
       " ('Opacity/lung/diffuse/patchy', 1),\n",
       " ('Nodule/lung/lingula/prominent', 1),\n",
       " ('Surgical Instruments/abdomen/left', 1),\n",
       " ('Opacity/lung/upper lobe/left/irregular', 1),\n",
       " ('Cicatrix/lung/upper lobe/left/chronic', 1),\n",
       " ('Thickening/pleura/upper lobe/left', 1),\n",
       " ('Calcinosis/lung/bilateral', 1),\n",
       " ('Abdomen/enlarged/severe', 1),\n",
       " ('Granuloma/lung/hilum/left', 1),\n",
       " ('Granuloma/lung/base/left', 1),\n",
       " ('Density/right/paratracheal/multiple', 1),\n",
       " ('Density/lung/hilum/left/multiple', 1),\n",
       " ('Calcinosis/right/paratracheal/multiple', 1),\n",
       " ('Calcinosis/lung/hilum/left/multiple', 1),\n",
       " ('Opacity/mediastinum/posterior/round', 1),\n",
       " ('Opacity/lung/base/interstitial/reticular', 1),\n",
       " ('Pulmonary Fibrosis/apex/bilateral', 1),\n",
       " ('Opacity/lung/base/patchy', 1),\n",
       " ('Airspace Disease/lung/base/patchy', 1),\n",
       " ('Lung/hilum/lymph nodes/right/enlarged', 1),\n",
       " ('Heart Atria/left/enlarged', 1),\n",
       " ('Density/lung/right/round/multiple', 1),\n",
       " ('Calcinosis/lung/right/round', 1),\n",
       " ('Markings/lung/middle lobe/bilateral/interstitial/prominent', 1),\n",
       " ('Markings/lung/base/bilateral/interstitial/prominent', 1),\n",
       " ('Humerus/bilateral/degenerative', 1),\n",
       " ('Density/mediastinum/prominent', 1),\n",
       " ...]"
      ]
     },
     "execution_count": 22,
     "metadata": {},
     "output_type": "execute_result"
    }
   ],
   "source": [
    "sorted(((k, v) for k, v in counter.items()), key=lambda x:x[1], reverse=True)"
   ]
  },
  {
   "cell_type": "code",
   "execution_count": null,
   "metadata": {
    "hidden": true
   },
   "outputs": [],
   "source": []
  },
  {
   "cell_type": "code",
   "execution_count": null,
   "metadata": {
    "hidden": true
   },
   "outputs": [],
   "source": []
  },
  {
   "cell_type": "code",
   "execution_count": null,
   "metadata": {
    "hidden": true
   },
   "outputs": [],
   "source": []
  },
  {
   "cell_type": "markdown",
   "metadata": {
    "heading_collapsed": true
   },
   "source": [
    "## Get sample reports\n",
    "\n",
    "For LATINX in AI workshop"
   ]
  },
  {
   "cell_type": "code",
   "execution_count": 1,
   "metadata": {
    "hidden": true
   },
   "outputs": [],
   "source": [
    "import matplotlib.pyplot as plt"
   ]
  },
  {
   "cell_type": "code",
   "execution_count": 2,
   "metadata": {
    "hidden": true
   },
   "outputs": [],
   "source": [
    "import numpy as np\n",
    "from pycocoevalcap.bleu import bleu_scorer\n",
    "from pycocoevalcap.rouge import rouge"
   ]
  },
  {
   "cell_type": "code",
   "execution_count": 3,
   "metadata": {
    "hidden": true
   },
   "outputs": [],
   "source": [
    "%run ../common.py\n",
    "%run ../iu_xray.py\n",
    "%run ../../utils/nlp.py\n",
    "%run ../../utils/__init__.py"
   ]
  },
  {
   "cell_type": "code",
   "execution_count": 39,
   "metadata": {
    "hidden": true
   },
   "outputs": [],
   "source": [
    "CONSTANT_REPORT = \"\"\"the heart is normal in size . the mediastinum is unremarkable . \n",
    "the lungs are clear .\n",
    "there is no pneumothorax or pleural effusion . no focal airspace disease .\n",
    "no pleural effusion or pneumothorax .\"\"\""
   ]
  },
  {
   "cell_type": "code",
   "execution_count": 40,
   "metadata": {
    "hidden": true
   },
   "outputs": [
    {
     "data": {
      "text/plain": [
       "7426"
      ]
     },
     "execution_count": 40,
     "metadata": {},
     "output_type": "execute_result"
    }
   ],
   "source": [
    "dataset = IUXRayDataset(dataset_type='all')\n",
    "report_reader = ReportReader(dataset.get_vocab())\n",
    "len(dataset)"
   ]
  },
  {
   "cell_type": "code",
   "execution_count": 52,
   "metadata": {
    "hidden": true
   },
   "outputs": [
    {
     "name": "stdout",
     "output_type": "stream",
     "text": [
      "the cardiac silhouette is mildly enlarged . a lobulated opacity is identified superior to the heart , in the anterior mediastinum on the lateral view , possibly consistent with a tortuous / ectatic thoracic aorta versus an anterior mediastinal mass . the thoracic aorta is tortuous and calcified . no focal areas of pulmonary consolidation . the lungs are hyperexpanded with flattening of the bilateral hemidiaphragms . no pneumothorax or pleural effusion . severe degenerative changes of the thoracic spine .\n"
     ]
    },
    {
     "data": {
      "image/png": "[encoded data removed]",
      "text/plain": [
       "<Figure size 432x288 with 1 Axes>"
      ]
     },
     "metadata": {},
     "output_type": "display_data"
    }
   ],
   "source": [
    "idx = GT_IDX\n",
    "item = dataset[idx]\n",
    "image = arr_to_range(item.image.permute(1, 2, 0))\n",
    "report_base = report_reader.idx_to_text(item.report)\n",
    "plt.imshow(image)\n",
    "plt.axis('off')\n",
    "print(report_base)"
   ]
  },
  {
   "cell_type": "code",
   "execution_count": 50,
   "metadata": {
    "hidden": true
   },
   "outputs": [],
   "source": [
    "GT_IDX = 7289"
   ]
  },
  {
   "cell_type": "code",
   "execution_count": 41,
   "metadata": {
    "hidden": true
   },
   "outputs": [
    {
     "data": {
      "text/plain": [
       "6"
      ]
     },
     "execution_count": 41,
     "metadata": {},
     "output_type": "execute_result"
    }
   ],
   "source": [
    "target = [\n",
    "    'the cardiac silhouette is enlarged',\n",
    "    # 'the lungs are hyper',\n",
    "    # 'the heart is',\n",
    "]\n",
    "not_target = [\n",
    "    # 'the lungs are clear',\n",
    "#     'the mediastinum is unremarkable',\n",
    "#     'the mediastinum is stable',\n",
    "#     'the mediastinum is normal',\n",
    "#     'the mediastinum is within normal limits',\n",
    "]\n",
    "found = []\n",
    "found_names = set()\n",
    "for idx, report in enumerate(dataset.reports):\n",
    "    filename = report['filename']\n",
    "    report = report_reader.idx_to_text(report['tokens_idxs'])\n",
    "    if all(t in report for t in target) and all(t not in report for t in not_target):\n",
    "        if filename not in found_names:\n",
    "            found.append((idx, report))\n",
    "        found_names.add(filename)\n",
    "len(found)"
   ]
  },
  {
   "cell_type": "code",
   "execution_count": 49,
   "metadata": {
    "hidden": true
   },
   "outputs": [
    {
     "data": {
      "text/plain": [
       "(7354,\n",
       " 'the cardiac silhouette is enlarged with no comparison studies . findings are xxxx accentuated by low lung volumes and eventration of the anterior right hemidiaphragm , however , cardiomegaly or less xxxx , pericardial effusion is suspected . the lungs are hypoinflated with central bronchovascular crowding but no evidence of overt pulmonary edema . the lungs are grossly clear of focal airspace disease , pneumothorax , pleural effusion . there are no acute bony findings . there are degenerative changes of the thoracic spine . patient appears morbidly obese .')"
      ]
     },
     "execution_count": 49,
     "metadata": {},
     "output_type": "execute_result"
    }
   ],
   "source": [
    "found[5]"
   ]
  },
  {
   "cell_type": "code",
   "execution_count": 143,
   "metadata": {
    "hidden": true
   },
   "outputs": [],
   "source": [
    "gen = 'the heart is enlarged. the mediastinum is unremarkable . the lungs are hyperinflated with mildly coarsened interstitial markings . '\n",
    "# the lungs are hyperexpanded\n",
    "# the lungs are hyperinflated with mildly coarsened interstitial markings\n",
    "# the lungs are hyperinflated with biapical pleural-parenchymal scarring and upward retraction of the xxxx"
   ]
  },
  {
   "cell_type": "code",
   "execution_count": 23,
   "metadata": {
    "hidden": true
   },
   "outputs": [],
   "source": [
    "def measure_bleu_rouge(gen, gt):\n",
    "    scorer = bleu_scorer.BleuScorer(n=4)\n",
    "    scorer += (gen, [gt])\n",
    "    bleu_1_4, _ = scorer.compute_score()\n",
    "    \n",
    "    scorer = rouge.Rouge()\n",
    "    rouge_score = scorer.calc_score([gen], [gt])\n",
    "    \n",
    "    print('BLEU 1-4: ', bleu_1_4)\n",
    "    print('BLEU: ', np.mean(bleu_1_4))\n",
    "    print('ROUGE-L: ', rouge_score)"
   ]
  },
  {
   "cell_type": "code",
   "execution_count": 10,
   "metadata": {
    "hidden": true
   },
   "outputs": [
    {
     "name": "stdout",
     "output_type": "stream",
     "text": [
      "BLEU 1-4:  [0.823529411716263, 0.6806139096884855, 0.498031475650019, 0.36447528422896314]\n",
      "BLEU:  0.5916625203209327\n",
      "ROUGE:  0.7922077922077921\n"
     ]
    }
   ],
   "source": [
    "report_1 = \"\"\"the heart is normal in size . the mediastinum is unremarkable . \n",
    "the lungs are clear .\"\"\"\n",
    "report_2 = \"\"\"the heart is normal . the mediastinum is otherwise unremarkable . \n",
    "lungs are both clear .\"\"\"\n",
    "measure_bleu_rouge(report_1, report_2)"
   ]
  },
  {
   "cell_type": "code",
   "execution_count": 86,
   "metadata": {
    "hidden": true
   },
   "outputs": [
    {
     "data": {
      "text/plain": [
       "'the cardiac silhouette is mildly enlarged . a lobulated opacity is identified superior to the heart , in the anterior mediastinum on the lateral view , possibly consistent with a tortuous / ectatic thoracic aorta versus an anterior mediastinal mass . the thoracic aorta is tortuous and calcified . no focal areas of pulmonary consolidation . the lungs are hyperexpanded with flattening of the bilateral hemidiaphragms . no pneumothorax or pleural effusion . severe degenerative changes of the thoracic spine .'"
      ]
     },
     "execution_count": 86,
     "metadata": {},
     "output_type": "execute_result"
    }
   ],
   "source": [
    "report = report_reader.idx_to_text(dataset[GT_IDX].report)\n",
    "report"
   ]
  },
  {
   "cell_type": "code",
   "execution_count": 63,
   "metadata": {
    "hidden": true
   },
   "outputs": [],
   "source": [
    "gt = \"\"\"the cardiac silhouette is enlarged .\n",
    "the lungs are hyperexpanded with flattening of the bilateral hemidiaphragms .\n",
    "no pneumothorax or pleural effusion .\"\"\"\n",
    "# the lungs are hyperinflated with mildly coarsened interstitial markings .\n",
    "# with flattening of the bilateral hemidiaphragms "
   ]
  },
  {
   "cell_type": "code",
   "execution_count": 64,
   "metadata": {
    "hidden": true
   },
   "outputs": [],
   "source": [
    "gen = \"\"\"the cardiac silhouette is normal in size .\n",
    "the lungs are clear .\n",
    "no pneumothorax or pleural effusion .\"\"\""
   ]
  },
  {
   "cell_type": "code",
   "execution_count": 65,
   "metadata": {
    "hidden": true
   },
   "outputs": [
    {
     "name": "stdout",
     "output_type": "stream",
     "text": [
      "BLEU 1-4:  [0.6395982117214318, 0.58775019547367, 0.5291550092647807, 0.4606142784620598]\n",
      "BLEU:  0.5542794237304856\n",
      "ROUGE-L:  0.6714648602878917\n"
     ]
    }
   ],
   "source": [
    "measure_bleu_rouge(gen, gt)"
   ]
  },
  {
   "cell_type": "code",
   "execution_count": 77,
   "metadata": {
    "hidden": true
   },
   "outputs": [
    {
     "name": "stdout",
     "output_type": "stream",
     "text": [
      "BLEU 1-4:  [0.6493974591358048, 0.5951826025196549, 0.5343297171373826, 0.46369919062449266]\n",
      "BLEU:  0.5606522423543338\n",
      "ROUGE-L:  0.6762749445676276\n"
     ]
    }
   ],
   "source": [
    "gt = \"the cardiac silhouette is enlarged . the lungs are hyperexpanded with flattening of the bilateral hemidiaphragms . no pneumothorax or pleural effusion .\"\n",
    "gen = \"the cardiac silhouette is normal in size and configuration . the lungs are clear . no pneumothorax or pleural effusion .\"\n",
    "measure_bleu_rouge(gen, gt)"
   ]
  },
  {
   "cell_type": "code",
   "execution_count": 13,
   "metadata": {
    "hidden": true
   },
   "outputs": [
    {
     "name": "stdout",
     "output_type": "stream",
     "text": [
      "BLEU 1-4:  [0.6493974591358048, 0.5951826025196549, 0.5343297171373826, 0.46369919062449266]\n",
      "BLEU:  0.5606522423543338\n",
      "ROUGE:  0.644191714053615\n"
     ]
    }
   ],
   "source": [
    "measure_bleu_rouge(gen, gt)"
   ]
  },
  {
   "cell_type": "code",
   "execution_count": null,
   "metadata": {
    "hidden": true
   },
   "outputs": [],
   "source": []
  },
  {
   "cell_type": "markdown",
   "metadata": {
    "heading_collapsed": true
   },
   "source": [
    "## Check no-findings vs labels==0"
   ]
  },
  {
   "cell_type": "code",
   "execution_count": 5,
   "metadata": {
    "hidden": true
   },
   "outputs": [],
   "source": [
    "from collections import defaultdict"
   ]
  },
  {
   "cell_type": "code",
   "execution_count": 6,
   "metadata": {
    "hidden": true
   },
   "outputs": [],
   "source": [
    "chexpert_path = os.path.join(REPORTS_DIR, 'reports_with_chexpert_labels.csv')\n",
    "mirqi_path = os.path.join(REPORTS_DIR, 'reports_with_mirqi_labels.csv')"
   ]
  },
  {
   "cell_type": "code",
   "execution_count": 7,
   "metadata": {
    "hidden": true
   },
   "outputs": [
    {
     "data": {
      "text/html": [
       "<div>\n",
       "<style scoped>\n",
       "    .dataframe tbody tr th:only-of-type {\n",
       "        vertical-align: middle;\n",
       "    }\n",
       "\n",
       "    .dataframe tbody tr th {\n",
       "        vertical-align: top;\n",
       "    }\n",
       "\n",
       "    .dataframe thead th {\n",
       "        text-align: right;\n",
       "    }\n",
       "</style>\n",
       "<table border=\"1\" class=\"dataframe\">\n",
       "  <thead>\n",
       "    <tr style=\"text-align: right;\">\n",
       "      <th></th>\n",
       "      <th>Reports</th>\n",
       "      <th>No Finding</th>\n",
       "      <th>Enlarged Cardiomediastinum</th>\n",
       "      <th>Cardiomegaly</th>\n",
       "      <th>Lung Lesion</th>\n",
       "      <th>Lung Opacity</th>\n",
       "      <th>Edema</th>\n",
       "      <th>Consolidation</th>\n",
       "      <th>Pneumonia</th>\n",
       "      <th>Atelectasis</th>\n",
       "      <th>Pneumothorax</th>\n",
       "      <th>Pleural Effusion</th>\n",
       "      <th>Pleural Other</th>\n",
       "      <th>Fracture</th>\n",
       "      <th>Support Devices</th>\n",
       "      <th>filename</th>\n",
       "    </tr>\n",
       "  </thead>\n",
       "  <tbody>\n",
       "    <tr>\n",
       "      <th>0</th>\n",
       "      <td>the cardiac silhouette and mediastinum size ar...</td>\n",
       "      <td>1.0</td>\n",
       "      <td>0.0</td>\n",
       "      <td>0.0</td>\n",
       "      <td>0.0</td>\n",
       "      <td>0.0</td>\n",
       "      <td>0.0</td>\n",
       "      <td>0.0</td>\n",
       "      <td>0.0</td>\n",
       "      <td>0.0</td>\n",
       "      <td>0.0</td>\n",
       "      <td>0.0</td>\n",
       "      <td>0.0</td>\n",
       "      <td>0.0</td>\n",
       "      <td>0.0</td>\n",
       "      <td>1.xml</td>\n",
       "    </tr>\n",
       "    <tr>\n",
       "      <th>1</th>\n",
       "      <td>the cardiomediastinal silhouette is within nor...</td>\n",
       "      <td>0.0</td>\n",
       "      <td>0.0</td>\n",
       "      <td>0.0</td>\n",
       "      <td>0.0</td>\n",
       "      <td>0.0</td>\n",
       "      <td>0.0</td>\n",
       "      <td>0.0</td>\n",
       "      <td>0.0</td>\n",
       "      <td>0.0</td>\n",
       "      <td>0.0</td>\n",
       "      <td>0.0</td>\n",
       "      <td>0.0</td>\n",
       "      <td>0.0</td>\n",
       "      <td>0.0</td>\n",
       "      <td>10.xml</td>\n",
       "    </tr>\n",
       "    <tr>\n",
       "      <th>2</th>\n",
       "      <td>both lungs are clear and expanded . heart and ...</td>\n",
       "      <td>1.0</td>\n",
       "      <td>0.0</td>\n",
       "      <td>0.0</td>\n",
       "      <td>0.0</td>\n",
       "      <td>0.0</td>\n",
       "      <td>0.0</td>\n",
       "      <td>0.0</td>\n",
       "      <td>0.0</td>\n",
       "      <td>0.0</td>\n",
       "      <td>0.0</td>\n",
       "      <td>0.0</td>\n",
       "      <td>0.0</td>\n",
       "      <td>0.0</td>\n",
       "      <td>0.0</td>\n",
       "      <td>100.xml</td>\n",
       "    </tr>\n",
       "    <tr>\n",
       "      <th>3</th>\n",
       "      <td>there is xxxx increased opacity within the rig...</td>\n",
       "      <td>0.0</td>\n",
       "      <td>0.0</td>\n",
       "      <td>0.0</td>\n",
       "      <td>1.0</td>\n",
       "      <td>1.0</td>\n",
       "      <td>0.0</td>\n",
       "      <td>1.0</td>\n",
       "      <td>0.0</td>\n",
       "      <td>1.0</td>\n",
       "      <td>0.0</td>\n",
       "      <td>0.0</td>\n",
       "      <td>0.0</td>\n",
       "      <td>0.0</td>\n",
       "      <td>0.0</td>\n",
       "      <td>1000.xml</td>\n",
       "    </tr>\n",
       "    <tr>\n",
       "      <th>4</th>\n",
       "      <td>interstitial markings are diffusely prominent ...</td>\n",
       "      <td>0.0</td>\n",
       "      <td>0.0</td>\n",
       "      <td>0.0</td>\n",
       "      <td>0.0</td>\n",
       "      <td>1.0</td>\n",
       "      <td>0.0</td>\n",
       "      <td>0.0</td>\n",
       "      <td>0.0</td>\n",
       "      <td>0.0</td>\n",
       "      <td>0.0</td>\n",
       "      <td>0.0</td>\n",
       "      <td>0.0</td>\n",
       "      <td>0.0</td>\n",
       "      <td>0.0</td>\n",
       "      <td>1001.xml</td>\n",
       "    </tr>\n",
       "  </tbody>\n",
       "</table>\n",
       "</div>"
      ],
      "text/plain": [
       "                                             Reports  No Finding  \\\n",
       "0  the cardiac silhouette and mediastinum size ar...         1.0   \n",
       "1  the cardiomediastinal silhouette is within nor...         0.0   \n",
       "2  both lungs are clear and expanded . heart and ...         1.0   \n",
       "3  there is xxxx increased opacity within the rig...         0.0   \n",
       "4  interstitial markings are diffusely prominent ...         0.0   \n",
       "\n",
       "   Enlarged Cardiomediastinum  Cardiomegaly  Lung Lesion  Lung Opacity  Edema  \\\n",
       "0                         0.0           0.0          0.0           0.0    0.0   \n",
       "1                         0.0           0.0          0.0           0.0    0.0   \n",
       "2                         0.0           0.0          0.0           0.0    0.0   \n",
       "3                         0.0           0.0          1.0           1.0    0.0   \n",
       "4                         0.0           0.0          0.0           1.0    0.0   \n",
       "\n",
       "   Consolidation  Pneumonia  Atelectasis  Pneumothorax  Pleural Effusion  \\\n",
       "0            0.0        0.0          0.0           0.0               0.0   \n",
       "1            0.0        0.0          0.0           0.0               0.0   \n",
       "2            0.0        0.0          0.0           0.0               0.0   \n",
       "3            1.0        0.0          1.0           0.0               0.0   \n",
       "4            0.0        0.0          0.0           0.0               0.0   \n",
       "\n",
       "   Pleural Other  Fracture  Support Devices  filename  \n",
       "0            0.0       0.0              0.0     1.xml  \n",
       "1            0.0       0.0              0.0    10.xml  \n",
       "2            0.0       0.0              0.0   100.xml  \n",
       "3            0.0       0.0              0.0  1000.xml  \n",
       "4            0.0       0.0              0.0  1001.xml  "
      ]
     },
     "execution_count": 7,
     "metadata": {},
     "output_type": "execute_result"
    }
   ],
   "source": [
    "chexpert_df = pd.read_csv(chexpert_path, index_col=0)\n",
    "chexpert_df.replace(-1, 1, inplace=True)\n",
    "chexpert_df.replace(-2, 0, inplace=True)\n",
    "chexpert_df.head()"
   ]
  },
  {
   "cell_type": "code",
   "execution_count": 13,
   "metadata": {
    "hidden": true
   },
   "outputs": [
    {
     "data": {
      "text/html": [
       "<div>\n",
       "<style scoped>\n",
       "    .dataframe tbody tr th:only-of-type {\n",
       "        vertical-align: middle;\n",
       "    }\n",
       "\n",
       "    .dataframe tbody tr th {\n",
       "        vertical-align: top;\n",
       "    }\n",
       "\n",
       "    .dataframe thead th {\n",
       "        text-align: right;\n",
       "    }\n",
       "</style>\n",
       "<table border=\"1\" class=\"dataframe\">\n",
       "  <thead>\n",
       "    <tr style=\"text-align: right;\">\n",
       "      <th></th>\n",
       "      <th>filename</th>\n",
       "      <th>Reports</th>\n",
       "      <th>attributes</th>\n",
       "      <th>Airspace Disease</th>\n",
       "      <th>Airspace Opacity</th>\n",
       "      <th>Atelectasis</th>\n",
       "      <th>Calcinosis</th>\n",
       "      <th>Cardiomegaly</th>\n",
       "      <th>Consolidation</th>\n",
       "      <th>Edema</th>\n",
       "      <th>...</th>\n",
       "      <th>Hernia</th>\n",
       "      <th>Hypoinflation</th>\n",
       "      <th>Lung Lesion</th>\n",
       "      <th>Other Finding</th>\n",
       "      <th>Pleural Effusion</th>\n",
       "      <th>Pleural Other</th>\n",
       "      <th>Pneumonia</th>\n",
       "      <th>Pneumothorax</th>\n",
       "      <th>Scoliosis</th>\n",
       "      <th>Support Devices</th>\n",
       "    </tr>\n",
       "  </thead>\n",
       "  <tbody>\n",
       "    <tr>\n",
       "      <th>0</th>\n",
       "      <td>1.xml</td>\n",
       "      <td>the cardiac silhouette and mediastinum size ar...</td>\n",
       "      <td>( mediastinum|Enlarged Cardiomediastinum|NEGAT...</td>\n",
       "      <td>0.0</td>\n",
       "      <td>0.0</td>\n",
       "      <td>0.0</td>\n",
       "      <td>0.0</td>\n",
       "      <td>0.0</td>\n",
       "      <td>0.0</td>\n",
       "      <td>0.0</td>\n",
       "      <td>...</td>\n",
       "      <td>0.0</td>\n",
       "      <td>0.0</td>\n",
       "      <td>0.0</td>\n",
       "      <td>0.0</td>\n",
       "      <td>0.0</td>\n",
       "      <td>0.0</td>\n",
       "      <td>0.0</td>\n",
       "      <td>0.0</td>\n",
       "      <td>0.0</td>\n",
       "      <td>0.0</td>\n",
       "    </tr>\n",
       "    <tr>\n",
       "      <th>1</th>\n",
       "      <td>10.xml</td>\n",
       "      <td>the cardiomediastinal silhouette is within nor...</td>\n",
       "      <td>(contour|Enlarged Cardiomediastinum|NEGATIVE|)...</td>\n",
       "      <td>0.0</td>\n",
       "      <td>0.0</td>\n",
       "      <td>0.0</td>\n",
       "      <td>1.0</td>\n",
       "      <td>0.0</td>\n",
       "      <td>0.0</td>\n",
       "      <td>0.0</td>\n",
       "      <td>...</td>\n",
       "      <td>0.0</td>\n",
       "      <td>0.0</td>\n",
       "      <td>0.0</td>\n",
       "      <td>1.0</td>\n",
       "      <td>0.0</td>\n",
       "      <td>0.0</td>\n",
       "      <td>0.0</td>\n",
       "      <td>0.0</td>\n",
       "      <td>0.0</td>\n",
       "      <td>0.0</td>\n",
       "    </tr>\n",
       "    <tr>\n",
       "      <th>2</th>\n",
       "      <td>100.xml</td>\n",
       "      <td>both lungs are clear and expanded . heart and ...</td>\n",
       "      <td>( mediastinum|Enlarged Cardiomediastinum|NEGAT...</td>\n",
       "      <td>0.0</td>\n",
       "      <td>0.0</td>\n",
       "      <td>0.0</td>\n",
       "      <td>0.0</td>\n",
       "      <td>0.0</td>\n",
       "      <td>0.0</td>\n",
       "      <td>0.0</td>\n",
       "      <td>...</td>\n",
       "      <td>0.0</td>\n",
       "      <td>0.0</td>\n",
       "      <td>0.0</td>\n",
       "      <td>0.0</td>\n",
       "      <td>0.0</td>\n",
       "      <td>0.0</td>\n",
       "      <td>0.0</td>\n",
       "      <td>0.0</td>\n",
       "      <td>0.0</td>\n",
       "      <td>0.0</td>\n",
       "    </tr>\n",
       "    <tr>\n",
       "      <th>3</th>\n",
       "      <td>1000.xml</td>\n",
       "      <td>there is xxxx increased opacity within the rig...</td>\n",
       "      <td>(mass|Lung Lesion|UNCERTAIN|possible) (consoli...</td>\n",
       "      <td>1.0</td>\n",
       "      <td>1.0</td>\n",
       "      <td>1.0</td>\n",
       "      <td>0.0</td>\n",
       "      <td>0.0</td>\n",
       "      <td>1.0</td>\n",
       "      <td>0.0</td>\n",
       "      <td>...</td>\n",
       "      <td>0.0</td>\n",
       "      <td>0.0</td>\n",
       "      <td>1.0</td>\n",
       "      <td>0.0</td>\n",
       "      <td>0.0</td>\n",
       "      <td>0.0</td>\n",
       "      <td>0.0</td>\n",
       "      <td>0.0</td>\n",
       "      <td>0.0</td>\n",
       "      <td>0.0</td>\n",
       "    </tr>\n",
       "    <tr>\n",
       "      <th>4</th>\n",
       "      <td>1001.xml</td>\n",
       "      <td>interstitial markings are diffusely prominent ...</td>\n",
       "      <td>(interstitial markings|Other Finding|POSITIVE|...</td>\n",
       "      <td>0.0</td>\n",
       "      <td>1.0</td>\n",
       "      <td>0.0</td>\n",
       "      <td>0.0</td>\n",
       "      <td>0.0</td>\n",
       "      <td>0.0</td>\n",
       "      <td>0.0</td>\n",
       "      <td>...</td>\n",
       "      <td>0.0</td>\n",
       "      <td>0.0</td>\n",
       "      <td>0.0</td>\n",
       "      <td>1.0</td>\n",
       "      <td>0.0</td>\n",
       "      <td>0.0</td>\n",
       "      <td>0.0</td>\n",
       "      <td>0.0</td>\n",
       "      <td>0.0</td>\n",
       "      <td>0.0</td>\n",
       "    </tr>\n",
       "  </tbody>\n",
       "</table>\n",
       "<p>5 rows × 23 columns</p>\n",
       "</div>"
      ],
      "text/plain": [
       "   filename                                            Reports  \\\n",
       "0     1.xml  the cardiac silhouette and mediastinum size ar...   \n",
       "1    10.xml  the cardiomediastinal silhouette is within nor...   \n",
       "2   100.xml  both lungs are clear and expanded . heart and ...   \n",
       "3  1000.xml  there is xxxx increased opacity within the rig...   \n",
       "4  1001.xml  interstitial markings are diffusely prominent ...   \n",
       "\n",
       "                                          attributes  Airspace Disease  \\\n",
       "0  ( mediastinum|Enlarged Cardiomediastinum|NEGAT...               0.0   \n",
       "1  (contour|Enlarged Cardiomediastinum|NEGATIVE|)...               0.0   \n",
       "2  ( mediastinum|Enlarged Cardiomediastinum|NEGAT...               0.0   \n",
       "3  (mass|Lung Lesion|UNCERTAIN|possible) (consoli...               1.0   \n",
       "4  (interstitial markings|Other Finding|POSITIVE|...               0.0   \n",
       "\n",
       "   Airspace Opacity  Atelectasis  Calcinosis  Cardiomegaly  Consolidation  \\\n",
       "0               0.0          0.0         0.0           0.0            0.0   \n",
       "1               0.0          0.0         1.0           0.0            0.0   \n",
       "2               0.0          0.0         0.0           0.0            0.0   \n",
       "3               1.0          1.0         0.0           0.0            1.0   \n",
       "4               1.0          0.0         0.0           0.0            0.0   \n",
       "\n",
       "   Edema  ...  Hernia  Hypoinflation  Lung Lesion  Other Finding  \\\n",
       "0    0.0  ...     0.0            0.0          0.0            0.0   \n",
       "1    0.0  ...     0.0            0.0          0.0            1.0   \n",
       "2    0.0  ...     0.0            0.0          0.0            0.0   \n",
       "3    0.0  ...     0.0            0.0          1.0            0.0   \n",
       "4    0.0  ...     0.0            0.0          0.0            1.0   \n",
       "\n",
       "   Pleural Effusion  Pleural Other  Pneumonia  Pneumothorax  Scoliosis  \\\n",
       "0               0.0            0.0        0.0           0.0        0.0   \n",
       "1               0.0            0.0        0.0           0.0        0.0   \n",
       "2               0.0            0.0        0.0           0.0        0.0   \n",
       "3               0.0            0.0        0.0           0.0        0.0   \n",
       "4               0.0            0.0        0.0           0.0        0.0   \n",
       "\n",
       "   Support Devices  \n",
       "0              0.0  \n",
       "1              0.0  \n",
       "2              0.0  \n",
       "3              0.0  \n",
       "4              0.0  \n",
       "\n",
       "[5 rows x 23 columns]"
      ]
     },
     "execution_count": 13,
     "metadata": {},
     "output_type": "execute_result"
    }
   ],
   "source": [
    "mirqi_df = pd.read_csv(mirqi_path, index_col=0)\n",
    "mirqi_df.drop(columns=['attributes-gen', 'MIRQI-r', 'MIRQI-p', 'MIRQI-f'], inplace=True)\n",
    "mirqi_df.rename(columns={'attributes-gt': 'attributes'}, inplace=True)\n",
    "mirqi_df.replace(-1, 1, inplace=True)\n",
    "mirqi_df.replace(-2, 0, inplace=True)\n",
    "mirqi_df.head()"
   ]
  },
  {
   "cell_type": "code",
   "execution_count": 23,
   "metadata": {
    "hidden": true
   },
   "outputs": [],
   "source": [
    "base_columns = set(['filename', 'Reports', 'attributes'])\n",
    "MIRQI_LABELS = [c for c in mirqi_df.columns if c not in base_columns]"
   ]
  },
  {
   "cell_type": "code",
   "execution_count": 14,
   "metadata": {
    "hidden": true
   },
   "outputs": [
    {
     "data": {
      "text/plain": [
       "(3826, 3826)"
      ]
     },
     "execution_count": 14,
     "metadata": {},
     "output_type": "execute_result"
    }
   ],
   "source": [
    "len(chexpert_df), len(mirqi_df)"
   ]
  },
  {
   "cell_type": "code",
   "execution_count": 16,
   "metadata": {
    "collapsed": true,
    "hidden": true
   },
   "outputs": [
    {
     "name": "stdout",
     "output_type": "stream",
     "text": [
      "3826\n"
     ]
    },
    {
     "data": {
      "text/html": [
       "<div>\n",
       "<style scoped>\n",
       "    .dataframe tbody tr th:only-of-type {\n",
       "        vertical-align: middle;\n",
       "    }\n",
       "\n",
       "    .dataframe tbody tr th {\n",
       "        vertical-align: top;\n",
       "    }\n",
       "\n",
       "    .dataframe thead th {\n",
       "        text-align: right;\n",
       "    }\n",
       "</style>\n",
       "<table border=\"1\" class=\"dataframe\">\n",
       "  <thead>\n",
       "    <tr style=\"text-align: right;\">\n",
       "      <th></th>\n",
       "      <th>Reports_chx</th>\n",
       "      <th>No Finding</th>\n",
       "      <th>Enlarged Cardiomediastinum_chx</th>\n",
       "      <th>Cardiomegaly_chx</th>\n",
       "      <th>Lung Lesion_chx</th>\n",
       "      <th>Lung Opacity</th>\n",
       "      <th>Edema_chx</th>\n",
       "      <th>Consolidation_chx</th>\n",
       "      <th>Pneumonia_chx</th>\n",
       "      <th>Atelectasis_chx</th>\n",
       "      <th>...</th>\n",
       "      <th>Hernia</th>\n",
       "      <th>Hypoinflation</th>\n",
       "      <th>Lung Lesion_mirqi</th>\n",
       "      <th>Other Finding</th>\n",
       "      <th>Pleural Effusion_mirqi</th>\n",
       "      <th>Pleural Other_mirqi</th>\n",
       "      <th>Pneumonia_mirqi</th>\n",
       "      <th>Pneumothorax_mirqi</th>\n",
       "      <th>Scoliosis</th>\n",
       "      <th>Support Devices_mirqi</th>\n",
       "    </tr>\n",
       "  </thead>\n",
       "  <tbody>\n",
       "    <tr>\n",
       "      <th>0</th>\n",
       "      <td>the cardiac silhouette and mediastinum size ar...</td>\n",
       "      <td>1.0</td>\n",
       "      <td>0.0</td>\n",
       "      <td>0.0</td>\n",
       "      <td>0.0</td>\n",
       "      <td>0.0</td>\n",
       "      <td>0.0</td>\n",
       "      <td>0.0</td>\n",
       "      <td>0.0</td>\n",
       "      <td>0.0</td>\n",
       "      <td>...</td>\n",
       "      <td>0.0</td>\n",
       "      <td>0.0</td>\n",
       "      <td>0.0</td>\n",
       "      <td>0.0</td>\n",
       "      <td>0.0</td>\n",
       "      <td>0.0</td>\n",
       "      <td>0.0</td>\n",
       "      <td>0.0</td>\n",
       "      <td>0.0</td>\n",
       "      <td>0.0</td>\n",
       "    </tr>\n",
       "    <tr>\n",
       "      <th>1</th>\n",
       "      <td>the cardiomediastinal silhouette is within nor...</td>\n",
       "      <td>0.0</td>\n",
       "      <td>0.0</td>\n",
       "      <td>0.0</td>\n",
       "      <td>0.0</td>\n",
       "      <td>0.0</td>\n",
       "      <td>0.0</td>\n",
       "      <td>0.0</td>\n",
       "      <td>0.0</td>\n",
       "      <td>0.0</td>\n",
       "      <td>...</td>\n",
       "      <td>0.0</td>\n",
       "      <td>0.0</td>\n",
       "      <td>0.0</td>\n",
       "      <td>1.0</td>\n",
       "      <td>0.0</td>\n",
       "      <td>0.0</td>\n",
       "      <td>0.0</td>\n",
       "      <td>0.0</td>\n",
       "      <td>0.0</td>\n",
       "      <td>0.0</td>\n",
       "    </tr>\n",
       "    <tr>\n",
       "      <th>2</th>\n",
       "      <td>both lungs are clear and expanded . heart and ...</td>\n",
       "      <td>1.0</td>\n",
       "      <td>0.0</td>\n",
       "      <td>0.0</td>\n",
       "      <td>0.0</td>\n",
       "      <td>0.0</td>\n",
       "      <td>0.0</td>\n",
       "      <td>0.0</td>\n",
       "      <td>0.0</td>\n",
       "      <td>0.0</td>\n",
       "      <td>...</td>\n",
       "      <td>0.0</td>\n",
       "      <td>0.0</td>\n",
       "      <td>0.0</td>\n",
       "      <td>0.0</td>\n",
       "      <td>0.0</td>\n",
       "      <td>0.0</td>\n",
       "      <td>0.0</td>\n",
       "      <td>0.0</td>\n",
       "      <td>0.0</td>\n",
       "      <td>0.0</td>\n",
       "    </tr>\n",
       "    <tr>\n",
       "      <th>3</th>\n",
       "      <td>there is xxxx increased opacity within the rig...</td>\n",
       "      <td>0.0</td>\n",
       "      <td>0.0</td>\n",
       "      <td>0.0</td>\n",
       "      <td>1.0</td>\n",
       "      <td>1.0</td>\n",
       "      <td>0.0</td>\n",
       "      <td>1.0</td>\n",
       "      <td>0.0</td>\n",
       "      <td>1.0</td>\n",
       "      <td>...</td>\n",
       "      <td>0.0</td>\n",
       "      <td>0.0</td>\n",
       "      <td>1.0</td>\n",
       "      <td>0.0</td>\n",
       "      <td>0.0</td>\n",
       "      <td>0.0</td>\n",
       "      <td>0.0</td>\n",
       "      <td>0.0</td>\n",
       "      <td>0.0</td>\n",
       "      <td>0.0</td>\n",
       "    </tr>\n",
       "    <tr>\n",
       "      <th>4</th>\n",
       "      <td>interstitial markings are diffusely prominent ...</td>\n",
       "      <td>0.0</td>\n",
       "      <td>0.0</td>\n",
       "      <td>0.0</td>\n",
       "      <td>0.0</td>\n",
       "      <td>1.0</td>\n",
       "      <td>0.0</td>\n",
       "      <td>0.0</td>\n",
       "      <td>0.0</td>\n",
       "      <td>0.0</td>\n",
       "      <td>...</td>\n",
       "      <td>0.0</td>\n",
       "      <td>0.0</td>\n",
       "      <td>0.0</td>\n",
       "      <td>1.0</td>\n",
       "      <td>0.0</td>\n",
       "      <td>0.0</td>\n",
       "      <td>0.0</td>\n",
       "      <td>0.0</td>\n",
       "      <td>0.0</td>\n",
       "      <td>0.0</td>\n",
       "    </tr>\n",
       "  </tbody>\n",
       "</table>\n",
       "<p>5 rows × 38 columns</p>\n",
       "</div>"
      ],
      "text/plain": [
       "                                         Reports_chx  No Finding  \\\n",
       "0  the cardiac silhouette and mediastinum size ar...         1.0   \n",
       "1  the cardiomediastinal silhouette is within nor...         0.0   \n",
       "2  both lungs are clear and expanded . heart and ...         1.0   \n",
       "3  there is xxxx increased opacity within the rig...         0.0   \n",
       "4  interstitial markings are diffusely prominent ...         0.0   \n",
       "\n",
       "   Enlarged Cardiomediastinum_chx  Cardiomegaly_chx  Lung Lesion_chx  \\\n",
       "0                             0.0               0.0              0.0   \n",
       "1                             0.0               0.0              0.0   \n",
       "2                             0.0               0.0              0.0   \n",
       "3                             0.0               0.0              1.0   \n",
       "4                             0.0               0.0              0.0   \n",
       "\n",
       "   Lung Opacity  Edema_chx  Consolidation_chx  Pneumonia_chx  Atelectasis_chx  \\\n",
       "0           0.0        0.0                0.0            0.0              0.0   \n",
       "1           0.0        0.0                0.0            0.0              0.0   \n",
       "2           0.0        0.0                0.0            0.0              0.0   \n",
       "3           1.0        0.0                1.0            0.0              1.0   \n",
       "4           1.0        0.0                0.0            0.0              0.0   \n",
       "\n",
       "   ...  Hernia  Hypoinflation  Lung Lesion_mirqi  Other Finding  \\\n",
       "0  ...     0.0            0.0                0.0            0.0   \n",
       "1  ...     0.0            0.0                0.0            1.0   \n",
       "2  ...     0.0            0.0                0.0            0.0   \n",
       "3  ...     0.0            0.0                1.0            0.0   \n",
       "4  ...     0.0            0.0                0.0            1.0   \n",
       "\n",
       "   Pleural Effusion_mirqi Pleural Other_mirqi Pneumonia_mirqi  \\\n",
       "0                     0.0                 0.0             0.0   \n",
       "1                     0.0                 0.0             0.0   \n",
       "2                     0.0                 0.0             0.0   \n",
       "3                     0.0                 0.0             0.0   \n",
       "4                     0.0                 0.0             0.0   \n",
       "\n",
       "  Pneumothorax_mirqi  Scoliosis  Support Devices_mirqi  \n",
       "0                0.0        0.0                    0.0  \n",
       "1                0.0        0.0                    0.0  \n",
       "2                0.0        0.0                    0.0  \n",
       "3                0.0        0.0                    0.0  \n",
       "4                0.0        0.0                    0.0  \n",
       "\n",
       "[5 rows x 38 columns]"
      ]
     },
     "execution_count": 16,
     "metadata": {},
     "output_type": "execute_result"
    }
   ],
   "source": [
    "df = chexpert_df.merge(mirqi_df, on='filename', suffixes=['_chx', '_mirqi'])\n",
    "print(len(df))\n",
    "df.head()"
   ]
  },
  {
   "cell_type": "code",
   "execution_count": 18,
   "metadata": {
    "hidden": true
   },
   "outputs": [
    {
     "data": {
      "text/plain": [
       "[('no-findings-1', 1502), ('no-findings-absent', 675), ('no-1s', 644)]"
      ]
     },
     "execution_count": 18,
     "metadata": {},
     "output_type": "execute_result"
    }
   ],
   "source": [
    "reports_by_condition = defaultdict(set)\n",
    "\n",
    "for index, row in chexpert_df.iterrows():\n",
    "    filename = row['filename']\n",
    "    report = row['Reports']\n",
    "    labels = row[CHEXPERT_LABELS]\n",
    "\n",
    "    tup = (index, filename, report)\n",
    "\n",
    "    no_findings = labels['No Finding']\n",
    "    \n",
    "    if no_findings == 1:\n",
    "        reports_by_condition['no-findings-1'].add(tup)\n",
    "        if any(l != 0 for l in labels[1:-1]):\n",
    "            # Exclude no-findings and support-devices\n",
    "            reports_by_condition['inconsistent'].add(tup)\n",
    "    else:\n",
    "        if not any(l != 0 for l in labels[1:-1]):\n",
    "            reports_by_condition['no-findings-absent'].add(tup)\n",
    "    \n",
    "    if all(l != 1 for l in labels):\n",
    "        reports_by_condition['no-1s'].add(tup)\n",
    "    \n",
    "[(k, len(v)) for k, v in reports_by_condition.items()]"
   ]
  },
  {
   "cell_type": "code",
   "execution_count": 19,
   "metadata": {
    "hidden": true
   },
   "outputs": [
    {
     "data": {
      "text/plain": [
       "[(1654,\n",
       "  '256.xml',\n",
       "  'postoperative changes are present in the left fifth rib . residual radiopaque sutures are also present in the left upper lobe . the lungs are clear with no infiltrates or masses . heart and mediastinum are normal .'),\n",
       " (987,\n",
       "  '1930.xml',\n",
       "  'the cardiomediastinal silhouette and pulmonary vasculature are within normal limits in size . the lungs are mildly hypoinflated but grossly clear of focal airspace disease , pneumothorax , or pleural effusion . there are mild degenerative endplate changes in the thoracic spine . there are no acute bony findings .'),\n",
       " (3373,\n",
       "  '575.xml',\n",
       "  'the heart size and mediastinal silhouette are within normal limits for contour . the lungs are clear . no pneumothorax or pleural effusions . the xxxx are intact . stable calcified granuloma in the left lung .'),\n",
       " (200,\n",
       "  '1189.xml',\n",
       "  'normal heart size and hilar vascular markings . evidence of prior granulomatous disease . the lungs are clear without focal area of consolidation , pleural effusion , or pneumothorax . there are no acute osseous abnormalities present . mild degenerative changes of the thoracic spine . the soft tissues are within normal limits .'),\n",
       " (3169,\n",
       "  '3987.xml',\n",
       "  'no acute osseous abnormality . stable scattered endplate degenerative changes and osteophyte formation in the thoracic spine . normal cardiomediastinal silhouette and hilar contours . no focal area of consolidation , pleural effusion , or pneumothorax .')]"
      ]
     },
     "execution_count": 19,
     "metadata": {},
     "output_type": "execute_result"
    }
   ],
   "source": [
    "l = list(reports_by_condition['no-findings-absent'])\n",
    "l[:5]"
   ]
  },
  {
   "cell_type": "code",
   "execution_count": 24,
   "metadata": {
    "hidden": true
   },
   "outputs": [
    {
     "data": {
      "text/html": [
       "<div>\n",
       "<style scoped>\n",
       "    .dataframe tbody tr th:only-of-type {\n",
       "        vertical-align: middle;\n",
       "    }\n",
       "\n",
       "    .dataframe tbody tr th {\n",
       "        vertical-align: top;\n",
       "    }\n",
       "\n",
       "    .dataframe thead th {\n",
       "        text-align: right;\n",
       "    }\n",
       "</style>\n",
       "<table border=\"1\" class=\"dataframe\">\n",
       "  <thead>\n",
       "    <tr style=\"text-align: right;\">\n",
       "      <th></th>\n",
       "      <th>Airspace Disease</th>\n",
       "      <th>Airspace Opacity</th>\n",
       "      <th>Atelectasis</th>\n",
       "      <th>Calcinosis</th>\n",
       "      <th>Cardiomegaly</th>\n",
       "      <th>Consolidation</th>\n",
       "      <th>Edema</th>\n",
       "      <th>Emphysema</th>\n",
       "      <th>Enlarged Cardiomediastinum</th>\n",
       "      <th>Fracture</th>\n",
       "      <th>Hernia</th>\n",
       "      <th>Hypoinflation</th>\n",
       "      <th>Lung Lesion</th>\n",
       "      <th>Other Finding</th>\n",
       "      <th>Pleural Effusion</th>\n",
       "      <th>Pleural Other</th>\n",
       "      <th>Pneumonia</th>\n",
       "      <th>Pneumothorax</th>\n",
       "      <th>Scoliosis</th>\n",
       "      <th>Support Devices</th>\n",
       "    </tr>\n",
       "  </thead>\n",
       "  <tbody>\n",
       "    <tr>\n",
       "      <th>1654</th>\n",
       "      <td>0.0</td>\n",
       "      <td>0.0</td>\n",
       "      <td>0.0</td>\n",
       "      <td>0.0</td>\n",
       "      <td>0.0</td>\n",
       "      <td>0.0</td>\n",
       "      <td>0.0</td>\n",
       "      <td>0.0</td>\n",
       "      <td>0.0</td>\n",
       "      <td>0.0</td>\n",
       "      <td>0.0</td>\n",
       "      <td>0.0</td>\n",
       "      <td>0.0</td>\n",
       "      <td>1.0</td>\n",
       "      <td>0.0</td>\n",
       "      <td>0.0</td>\n",
       "      <td>0.0</td>\n",
       "      <td>0.0</td>\n",
       "      <td>0.0</td>\n",
       "      <td>0.0</td>\n",
       "    </tr>\n",
       "  </tbody>\n",
       "</table>\n",
       "</div>"
      ],
      "text/plain": [
       "      Airspace Disease  Airspace Opacity  Atelectasis  Calcinosis  \\\n",
       "1654               0.0               0.0          0.0         0.0   \n",
       "\n",
       "      Cardiomegaly  Consolidation  Edema  Emphysema  \\\n",
       "1654           0.0            0.0    0.0        0.0   \n",
       "\n",
       "      Enlarged Cardiomediastinum  Fracture  Hernia  Hypoinflation  \\\n",
       "1654                         0.0       0.0     0.0            0.0   \n",
       "\n",
       "      Lung Lesion  Other Finding  Pleural Effusion  Pleural Other  Pneumonia  \\\n",
       "1654          0.0            1.0               0.0            0.0        0.0   \n",
       "\n",
       "      Pneumothorax  Scoliosis  Support Devices  \n",
       "1654           0.0        0.0              0.0  "
      ]
     },
     "execution_count": 24,
     "metadata": {},
     "output_type": "execute_result"
    }
   ],
   "source": [
    "mirqi_df.loc[mirqi_df['filename'] == '256.xml'][MIRQI_LABELS]"
   ]
  },
  {
   "cell_type": "code",
   "execution_count": null,
   "metadata": {
    "hidden": true
   },
   "outputs": [],
   "source": []
  },
  {
   "cell_type": "code",
   "execution_count": 27,
   "metadata": {
    "hidden": true
   },
   "outputs": [
    {
     "data": {
      "text/plain": [
       "[('1652.xml',\n",
       "  'dextroscoliosis of the thoracic spine . clear lungs bilaterally . no pneumothorax or pleural effusion . no acute bony abnormalities .'),\n",
       " ('2479.xml',\n",
       "  'there is a right-sided chest xxxx identified whose distal tip projects over the svc . heart size is normal . low lung volumes with elevated right hemidiaphragm . the lungs are grossly clear . no focal infiltrate . no pleural effusion or pneumothorax . normal pulmonary vascularity . normal mediastinal and hilar contours . degenerative changes of the spine .'),\n",
       " ('398.xml',\n",
       "  'no focal consolidation , pneumothorax or definite pleural effusion . heart size and pulmonary vascularity within normal limits , no mediastinal widening characteristic in appearance of vascular injury . right paratracheal calcifications suggest a previous granulomatous process . no acute osseous injury xxxx demonstrated .'),\n",
       " ('1268.xml',\n",
       "  'the cardiomediastinal silhouette is normal size and configuration . the thoracic aorta is tortuous . pulmonary vasculature within normal limits . the lungs are well-aerated . there is no pneumothorax , pleural effusion , or focal consolidation . there is no obvious displaced rib fracture . if there is concern for fracture consider rib series .'),\n",
       " ('3486.xml',\n",
       "  'the heart is normal size . the mediastinum is unremarkable . there is no pleural effusion , pneumothorax , or focal airspace disease . mild chronic degenerative changes are present in the spine .'),\n",
       " ('3296.xml',\n",
       "  'the lungs are clear . heart size is normal . no pneumothorax . calcified left hilar node .'),\n",
       " ('417.xml',\n",
       "  'stable calcified granulomas . the trachea is midline . negative for pneumothorax , pleural effusion or focal airspace consolidation . the heart size is normal .'),\n",
       " ('2137.xml',\n",
       "  'calcified granulomas . no suspicious appearing lung nodules identified . well-expanded and clear lungs . mediastinal contour within normal limits . no acute cardiopulmonary abnormality identified .'),\n",
       " ('2052.xml',\n",
       "  'lungs are clear without focal consolidation , effusion , or pneumothorax . normal heart size . scattered granulomatous changes . mild unfolding of the thoracic aorta . bony thorax is unremarkable'),\n",
       " ('189.xml',\n",
       "  'the heart , pulmonary xxxx and mediastinum are within normal limits . there is no pleural effusion or pneumothorax . there is no focal air space opacity to suggest a pneumonia . there is a 1 cm focal opacity in the right lung apex incompletely evaluated by this exam . there is minimal left basilar xxxx opacity compatible with scarring or atelectasis . there are degenerative changes of the spine .')]"
      ]
     },
     "execution_count": 27,
     "metadata": {},
     "output_type": "execute_result"
    }
   ],
   "source": [
    "l = list(reports_by_condition['no-1s'])\n",
    "l[:10]"
   ]
  },
  {
   "cell_type": "code",
   "execution_count": 25,
   "metadata": {
    "hidden": true
   },
   "outputs": [
    {
     "data": {
      "text/plain": [
       "[('176.xml',\n",
       "  'cardiac and mediastinal contours are within normal limits . the lungs are clear . bony structures are intact .'),\n",
       " ('1915.xml',\n",
       "  'both lungs are clear and expanded . heart and mediastinum normal .'),\n",
       " ('270.xml',\n",
       "  'the cardiomediastinal silhouette and pulmonary vasculature are within normal limits in size . the lungs are clear of focal airspace disease , pneumothorax , or pleural effusion . there are no acute bony findings .'),\n",
       " ('1078.xml',\n",
       "  'the lungs are clear . there is no pleural effusion or pneumothorax . the heart and mediastinum are normal . the skeletal structures are normal .'),\n",
       " ('1323.xml',\n",
       "  'the heart size and mediastinal silhouette are within normal limits for contour . the lungs are clear . no pneumothorax or pleural effusions . the xxxx are intact .'),\n",
       " ('2291.xml',\n",
       "  'heart size is normal . the lungs are clear . there are no focal air space consolidations . no pleural effusions or pneumothoraces . the hilar and mediastinal contours are normal . normal pulmonary vascularity . umbilical piercing .'),\n",
       " ('3234.xml',\n",
       "  'the lungs are clear . the cardiomediastinal silhouette is within normal limits . no pneumothorax or pleural effusion .'),\n",
       " ('3781.xml',\n",
       "  'the lungs are clear bilaterally . specifically , no evidence of focal consolidation , pneumothorax , or pleural effusion . cardiomediastinal silhouette is unremarkable . visualized osseous structures of the thorax are without acute abnormality . a right humeral intramedullary xxxx is noted incidentally , without evidence of xxxx complicating features .'),\n",
       " ('2303.xml', 'heart upper limits normal . lungs clear'),\n",
       " ('2031.xml',\n",
       "  'heart size within normal limits . negative for focal pulmonary consolidation , pleural effusion , or pneumothorax . no pulmonary nodules identified .')]"
      ]
     },
     "execution_count": 25,
     "metadata": {},
     "output_type": "execute_result"
    }
   ],
   "source": [
    "l = list(reports_by_condition['no-findings-1'])\n",
    "l[:10]"
   ]
  },
  {
   "cell_type": "code",
   "execution_count": null,
   "metadata": {
    "hidden": true
   },
   "outputs": [],
   "source": []
  },
  {
   "cell_type": "code",
   "execution_count": null,
   "metadata": {
    "hidden": true
   },
   "outputs": [],
   "source": []
  },
  {
   "cell_type": "code",
   "execution_count": null,
   "metadata": {
    "hidden": true
   },
   "outputs": [],
   "source": []
  }
 ],
 "metadata": {
  "kernelspec": {
   "display_name": "Python 3",
   "language": "python",
   "name": "python3"
  },
  "language_info": {
   "codemirror_mode": {
    "name": "ipython",
    "version": 3
   },
   "file_extension": ".py",
   "mimetype": "text/x-python",
   "name": "python",
   "nbconvert_exporter": "python",
   "pygments_lexer": "ipython3",
   "version": "3.6.9"
  },
  "toc": {
   "base_numbering": 1,
   "nav_menu": {},
   "number_sections": true,
   "sideBar": true,
   "skip_h1_title": false,
   "title_cell": "Table of Contents",
   "title_sidebar": "Contents",
   "toc_cell": false,
   "toc_position": {},
   "toc_section_display": true,
   "toc_window_display": false
  }
 },
 "nbformat": 4,
 "nbformat_minor": 4
}
