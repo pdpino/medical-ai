{
 "cells": [
  {
   "cell_type": "markdown",
   "metadata": {},
   "source": [
    "# Imports"
   ]
  },
  {
   "cell_type": "code",
   "execution_count": 1,
   "metadata": {},
   "outputs": [],
   "source": [
    "import torch\n",
    "import pandas as pd\n",
    "import os\n",
    "import matplotlib.pyplot as plt\n",
    "from collections import defaultdict, Counter"
   ]
  },
  {
   "cell_type": "code",
   "execution_count": 2,
   "metadata": {},
   "outputs": [],
   "source": [
    "import matplotlib\n",
    "matplotlib.rcParams['figure.facecolor'] = 'white'"
   ]
  },
  {
   "cell_type": "code",
   "execution_count": 3,
   "metadata": {},
   "outputs": [],
   "source": [
    "%run ../mimic_cxr.py"
   ]
  },
  {
   "cell_type": "code",
   "execution_count": null,
   "metadata": {},
   "outputs": [],
   "source": []
  },
  {
   "cell_type": "markdown",
   "metadata": {
    "heading_collapsed": true
   },
   "source": [
    "# Load metadata"
   ]
  },
  {
   "cell_type": "code",
   "execution_count": null,
   "metadata": {
    "hidden": true
   },
   "outputs": [],
   "source": [
    "FNAME_PREFIX = 'mimic-cxr-2.0.0'"
   ]
  },
  {
   "cell_type": "code",
   "execution_count": null,
   "metadata": {
    "hidden": true
   },
   "outputs": [],
   "source": [
    "fpath = os.path.join(DATASET_DIR, f'{FNAME_PREFIX}-metadata.csv')\n",
    "metadata = pd.read_csv(fpath)\n",
    "metadata.head()"
   ]
  },
  {
   "cell_type": "code",
   "execution_count": null,
   "metadata": {
    "hidden": true
   },
   "outputs": [],
   "source": [
    "fpath = os.path.join(DATASET_DIR, f'{FNAME_PREFIX}-chexpert.csv')\n",
    "chexpert_df = pd.read_csv(fpath)\n",
    "chexpert_df.fillna(0, inplace=True)\n",
    "chexpert_df.replace(-1, 1, inplace=True)\n",
    "chexpert_df.head()"
   ]
  },
  {
   "cell_type": "code",
   "execution_count": null,
   "metadata": {
    "hidden": true
   },
   "outputs": [],
   "source": []
  },
  {
   "cell_type": "markdown",
   "metadata": {
    "heading_collapsed": true
   },
   "source": [
    "# Plot example"
   ]
  },
  {
   "cell_type": "code",
   "execution_count": null,
   "metadata": {
    "hidden": true
   },
   "outputs": [],
   "source": [
    "from PIL import Image"
   ]
  },
  {
   "cell_type": "code",
   "execution_count": null,
   "metadata": {
    "hidden": true
   },
   "outputs": [],
   "source": [
    "idx = -1001\n",
    "row = metadata.iloc[idx]\n",
    "row"
   ]
  },
  {
   "cell_type": "code",
   "execution_count": null,
   "metadata": {
    "hidden": true
   },
   "outputs": [],
   "source": [
    "subject_id = f'p{row[\"subject_id\"]}'\n",
    "study_id = f's{row[\"study_id\"]}'\n",
    "dicom_id = str(row['dicom_id'])\n",
    "image_fname = f'{dicom_id}.jpg'\n",
    "subfolder = subject_id[:3]\n",
    "subfolder, subject_id, study_id, image_fname"
   ]
  },
  {
   "cell_type": "code",
   "execution_count": null,
   "metadata": {
    "hidden": true
   },
   "outputs": [],
   "source": [
    "image_fpath = os.path.join(DATASET_DIR, 'images', subfolder, subject_id, study_id, image_fname)"
   ]
  },
  {
   "cell_type": "code",
   "execution_count": null,
   "metadata": {
    "hidden": true
   },
   "outputs": [],
   "source": [
    "image = Image.open(image_fpath)\n",
    "print(image.size)\n",
    "plt.imshow(image, cmap='gray')"
   ]
  },
  {
   "cell_type": "code",
   "execution_count": null,
   "metadata": {
    "hidden": true
   },
   "outputs": [],
   "source": []
  },
  {
   "cell_type": "code",
   "execution_count": null,
   "metadata": {
    "hidden": true
   },
   "outputs": [],
   "source": [
    "report_fpath = os.path.join(DATASET_DIR, 'reports', subfolder, subject_id, f'{study_id}.txt')"
   ]
  },
  {
   "cell_type": "code",
   "execution_count": null,
   "metadata": {
    "hidden": true
   },
   "outputs": [],
   "source": [
    "with open(report_fpath) as f:\n",
    "    text = f.read()\n",
    "print(text)"
   ]
  },
  {
   "cell_type": "code",
   "execution_count": null,
   "metadata": {
    "hidden": true
   },
   "outputs": [],
   "source": []
  },
  {
   "cell_type": "markdown",
   "metadata": {
    "heading_collapsed": true
   },
   "source": [
    "# Labels distribution"
   ]
  },
  {
   "cell_type": "code",
   "execution_count": null,
   "metadata": {
    "hidden": true
   },
   "outputs": [],
   "source": [
    "%run ../common/constants.py"
   ]
  },
  {
   "cell_type": "code",
   "execution_count": null,
   "metadata": {
    "hidden": true
   },
   "outputs": [],
   "source": [
    "chexpert_df.head()"
   ]
  },
  {
   "cell_type": "code",
   "execution_count": null,
   "metadata": {
    "hidden": true
   },
   "outputs": [],
   "source": [
    "n_samples = len(chexpert_df['study_id'])\n",
    "n_patients = len(chexpert_df['subject_id'])\n",
    "\n",
    "values = []\n",
    "for disease in CHEXPERT_DISEASES:\n",
    "    value = chexpert_df[disease].sum()\n",
    "    values.append((disease, value))\n",
    "\n",
    "values = sorted(values, key=lambda x:x[1], reverse=True)\n",
    "labels, amounts = zip(*values)"
   ]
  },
  {
   "cell_type": "code",
   "execution_count": null,
   "metadata": {
    "hidden": true
   },
   "outputs": [],
   "source": [
    "plt.bar(labels, amounts)\n",
    "plt.xticks(rotation=90)\n",
    "plt.ylabel('Number of studies')\n",
    "plt.ylim(0, amounts[0] + 10000)\n",
    "plt.title('Chexpert labels distribution')\n",
    "\n",
    "for index, (amount, disease) in enumerate(zip(amounts, labels)):\n",
    "    perc = amount / n_samples * 100\n",
    "    plt.text(index, amount + 1200, f'{perc:.0f}%', ha='center')"
   ]
  },
  {
   "cell_type": "code",
   "execution_count": null,
   "metadata": {
    "hidden": true
   },
   "outputs": [],
   "source": []
  },
  {
   "cell_type": "markdown",
   "metadata": {},
   "source": [
    "# Pre-process\n",
    "\n",
    "i.e. run only once"
   ]
  },
  {
   "cell_type": "markdown",
   "metadata": {
    "heading_collapsed": true
   },
   "source": [
    "## Create master csv"
   ]
  },
  {
   "cell_type": "markdown",
   "metadata": {
    "hidden": true
   },
   "source": [
    "### Keep only studies with a report present"
   ]
  },
  {
   "cell_type": "code",
   "execution_count": null,
   "metadata": {
    "hidden": true
   },
   "outputs": [],
   "source": [
    "%run -n ../preprocess/mimic_cxr.py"
   ]
  },
  {
   "cell_type": "code",
   "execution_count": null,
   "metadata": {
    "hidden": true
   },
   "outputs": [],
   "source": [
    "reports_df = load_raw_reports_df()\n",
    "reports_df.head()"
   ]
  },
  {
   "cell_type": "code",
   "execution_count": null,
   "metadata": {
    "hidden": true
   },
   "outputs": [],
   "source": [
    "studies_with_report = set(int(report[1:]) for report in reports_df['study'])\n",
    "len(studies_with_report)"
   ]
  },
  {
   "cell_type": "code",
   "execution_count": null,
   "metadata": {
    "hidden": true
   },
   "outputs": [],
   "source": []
  },
  {
   "cell_type": "markdown",
   "metadata": {
    "hidden": true
   },
   "source": [
    "### Check metadata vs chexpert discrepancies\n",
    "\n",
    "* Only studies with a report are kept\n",
    "* There are a few studies with no report, present in metadata and chexpert_df csvs"
   ]
  },
  {
   "cell_type": "code",
   "execution_count": null,
   "metadata": {
    "hidden": true
   },
   "outputs": [],
   "source": [
    "len(metadata), len(chexpert_df)"
   ]
  },
  {
   "cell_type": "code",
   "execution_count": null,
   "metadata": {
    "hidden": true
   },
   "outputs": [],
   "source": [
    "studies1 = set(metadata['study_id'])\n",
    "studies2 = set(chexpert_df['study_id'])\n",
    "len(studies1), len(studies2), studies2.issubset(studies1)"
   ]
  },
  {
   "cell_type": "code",
   "execution_count": null,
   "metadata": {
    "hidden": true
   },
   "outputs": [],
   "source": [
    "studies11 = studies1.intersection(studies_with_report)\n",
    "studies22 = studies2.intersection(studies_with_report)\n",
    "len(studies11), len(studies22), studies11 == studies22"
   ]
  },
  {
   "cell_type": "code",
   "execution_count": null,
   "metadata": {
    "hidden": true
   },
   "outputs": [],
   "source": []
  },
  {
   "cell_type": "markdown",
   "metadata": {
    "hidden": true
   },
   "source": [
    "### Merge metadata and chexpert"
   ]
  },
  {
   "cell_type": "code",
   "execution_count": null,
   "metadata": {
    "hidden": true
   },
   "outputs": [],
   "source": [
    "metadata_filtered = metadata.loc[metadata['study_id'].isin(studies_with_report)]\n",
    "len(metadata_filtered), len(set(metadata_filtered['study_id']))"
   ]
  },
  {
   "cell_type": "code",
   "execution_count": null,
   "metadata": {
    "hidden": true
   },
   "outputs": [],
   "source": [
    "chexpert_filtered = chexpert_df.loc[chexpert_df['study_id'].isin(studies_with_report)]\n",
    "len(chexpert_filtered), len(set(chexpert_filtered['study_id']))"
   ]
  },
  {
   "cell_type": "code",
   "execution_count": null,
   "metadata": {
    "hidden": true
   },
   "outputs": [],
   "source": [
    "studies1 = set(metadata_filtered['study_id'])\n",
    "studies2 = set(chexpert_filtered['study_id'])\n",
    "assert studies1 == studies2"
   ]
  },
  {
   "cell_type": "code",
   "execution_count": null,
   "metadata": {
    "hidden": true
   },
   "outputs": [],
   "source": [
    "master_df = metadata_filtered.merge(\n",
    "    chexpert_filtered, on=['study_id', 'subject_id'], how='inner')\n",
    "len(master_df), len(set(master_df['study_id']))"
   ]
  },
  {
   "cell_type": "code",
   "execution_count": null,
   "metadata": {
    "hidden": true
   },
   "outputs": [],
   "source": [
    "master_df.head()"
   ]
  },
  {
   "cell_type": "code",
   "execution_count": null,
   "metadata": {
    "hidden": true
   },
   "outputs": [],
   "source": []
  },
  {
   "cell_type": "markdown",
   "metadata": {
    "hidden": true
   },
   "source": [
    "### Merge with split"
   ]
  },
  {
   "cell_type": "code",
   "execution_count": null,
   "metadata": {
    "hidden": true
   },
   "outputs": [],
   "source": [
    "fpath = os.path.join(DATASET_DIR, f'{FNAME_PREFIX}-split.csv')\n",
    "split_df = pd.read_csv(fpath)\n",
    "split_df.head()"
   ]
  },
  {
   "cell_type": "code",
   "execution_count": null,
   "metadata": {
    "hidden": true
   },
   "outputs": [],
   "source": [
    "master_df = master_df.merge(split_df, on=['dicom_id', 'study_id', 'subject_id'], how='inner')\n",
    "len(master_df), len(set(master_df['study_id']))"
   ]
  },
  {
   "cell_type": "code",
   "execution_count": null,
   "metadata": {
    "hidden": true
   },
   "outputs": [],
   "source": [
    "master_df.head()"
   ]
  },
  {
   "cell_type": "code",
   "execution_count": null,
   "metadata": {
    "hidden": true
   },
   "outputs": [],
   "source": []
  },
  {
   "cell_type": "markdown",
   "metadata": {
    "hidden": true
   },
   "source": [
    "### Add filepaths"
   ]
  },
  {
   "cell_type": "code",
   "execution_count": null,
   "metadata": {
    "hidden": true
   },
   "outputs": [],
   "source": [
    "def get_filenames(subject_id, study_id, dicom_id):\n",
    "    subject_id = f'p{subject_id}'\n",
    "    study_id = f's{study_id}'\n",
    "    image_fname = f'{dicom_id}.jpg'\n",
    "    subfolder = subject_id[:3]\n",
    "\n",
    "    image_fpath = os.path.join(subfolder, subject_id, study_id, image_fname)\n",
    "    report_fpath = os.path.join(subfolder, subject_id, f'{study_id}.txt')\n",
    "    \n",
    "    return image_fpath, report_fpath"
   ]
  },
  {
   "cell_type": "code",
   "execution_count": null,
   "metadata": {
    "hidden": true
   },
   "outputs": [],
   "source": [
    "image_fpaths, report_fpaths = zip(*[\n",
    "    get_filenames(*ids)\n",
    "    for ids in zip(master_df['subject_id'], master_df['study_id'], master_df['dicom_id'])\n",
    "])\n",
    "len(image_fpaths), len(report_fpaths)"
   ]
  },
  {
   "cell_type": "code",
   "execution_count": null,
   "metadata": {
    "hidden": true
   },
   "outputs": [],
   "source": [
    "master_df['image_fpath'] = image_fpaths\n",
    "master_df['report_fpath'] = report_fpaths"
   ]
  },
  {
   "cell_type": "code",
   "execution_count": null,
   "metadata": {
    "hidden": true
   },
   "outputs": [],
   "source": [
    "master_df.head()"
   ]
  },
  {
   "cell_type": "code",
   "execution_count": null,
   "metadata": {
    "hidden": true
   },
   "outputs": [],
   "source": []
  },
  {
   "cell_type": "markdown",
   "metadata": {
    "hidden": true
   },
   "source": [
    "### Check lateral or frontal"
   ]
  },
  {
   "cell_type": "code",
   "execution_count": null,
   "metadata": {
    "hidden": true
   },
   "outputs": [],
   "source": [
    "master_df.head()"
   ]
  },
  {
   "cell_type": "markdown",
   "metadata": {
    "hidden": true
   },
   "source": [
    "#### Check weird positions "
   ]
  },
  {
   "cell_type": "code",
   "execution_count": null,
   "metadata": {
    "hidden": true
   },
   "outputs": [],
   "source": [
    "positions = list(Counter(master_df['ViewPosition']).keys())\n",
    "positions"
   ]
  },
  {
   "cell_type": "code",
   "execution_count": null,
   "metadata": {
    "hidden": true
   },
   "outputs": [],
   "source": [
    "weird_pos = positions[5:]\n",
    "weird_pos"
   ]
  },
  {
   "cell_type": "code",
   "execution_count": null,
   "metadata": {
    "hidden": true
   },
   "outputs": [],
   "source": [
    "cols = ['image_fpath',\n",
    "        'ViewPosition', 'PerformedProcedureStepDescription', 'ViewCodeSequence_CodeMeaning',\n",
    "        # 'dicom_id',\n",
    "       ]\n",
    "df = master_df[cols]\n",
    "weird_images = df.loc[df['ViewPosition'].isin(weird_pos)]\n",
    "print(len(weird_images))"
   ]
  },
  {
   "cell_type": "code",
   "execution_count": null,
   "metadata": {
    "hidden": true
   },
   "outputs": [],
   "source": [
    "weird_images.sort_values('ViewPosition')"
   ]
  },
  {
   "cell_type": "code",
   "execution_count": null,
   "metadata": {
    "hidden": true
   },
   "outputs": [],
   "source": [
    "' '.join(list(weird_images['image_fpath']))"
   ]
  },
  {
   "cell_type": "code",
   "execution_count": null,
   "metadata": {
    "hidden": true
   },
   "outputs": [],
   "source": []
  },
  {
   "cell_type": "code",
   "execution_count": null,
   "metadata": {
    "hidden": true
   },
   "outputs": [],
   "source": [
    "FRONTAL_POSITIONS = ['PA', 'AP', 'AP AXIAL', 'LAO', 'LPO', 'RAO']"
   ]
  },
  {
   "cell_type": "code",
   "execution_count": null,
   "metadata": {
    "hidden": true
   },
   "outputs": [],
   "source": []
  },
  {
   "cell_type": "markdown",
   "metadata": {
    "heading_collapsed": true,
    "hidden": true
   },
   "source": [
    "#### Check nan positions\n",
    "\n",
    "FIXME: For now, samples with ViewPosition == nan, maybe frontal or lateral"
   ]
  },
  {
   "cell_type": "code",
   "execution_count": null,
   "metadata": {
    "hidden": true
   },
   "outputs": [],
   "source": [
    "Counter(master_df['ViewPosition'])"
   ]
  },
  {
   "cell_type": "code",
   "execution_count": null,
   "metadata": {
    "hidden": true
   },
   "outputs": [],
   "source": [
    "cols = ['image_fpath',\n",
    "        'ViewPosition', 'PerformedProcedureStepDescription', 'ViewCodeSequence_CodeMeaning',\n",
    "        # 'dicom_id',\n",
    "       ]\n",
    "df = master_df[cols]\n",
    "nan_positions = df.loc[df['ViewPosition'].isnull()]\n",
    "len(nan_positions)"
   ]
  },
  {
   "cell_type": "code",
   "execution_count": null,
   "metadata": {
    "hidden": true
   },
   "outputs": [],
   "source": [
    "nan_positions['ViewCodeSequence_CodeMeaning'].isnull().sum()"
   ]
  },
  {
   "cell_type": "code",
   "execution_count": null,
   "metadata": {
    "hidden": true
   },
   "outputs": [],
   "source": [
    "' '.join(list(nan_positions['image_fpath'])[:10])"
   ]
  },
  {
   "cell_type": "code",
   "execution_count": null,
   "metadata": {
    "hidden": true
   },
   "outputs": [],
   "source": []
  },
  {
   "cell_type": "markdown",
   "metadata": {
    "hidden": true
   },
   "source": [
    "### Save master csv"
   ]
  },
  {
   "cell_type": "code",
   "execution_count": null,
   "metadata": {
    "hidden": true
   },
   "outputs": [],
   "source": [
    "%run ../common/__init__.py"
   ]
  },
  {
   "cell_type": "code",
   "execution_count": null,
   "metadata": {
    "hidden": true
   },
   "outputs": [],
   "source": [
    "cols = ['dicom_id', 'subject_id', 'study_id',\n",
    "        'image_fpath', 'report_fpath',\n",
    "        'ViewPosition', 'split',\n",
    "        ] + CHEXPERT_DISEASES"
   ]
  },
  {
   "cell_type": "code",
   "execution_count": null,
   "metadata": {
    "hidden": true
   },
   "outputs": [],
   "source": [
    "out_df = master_df[cols]\n",
    "out_df.replace('validate', 'val', inplace=True)\n",
    "out_df.head()"
   ]
  },
  {
   "cell_type": "code",
   "execution_count": null,
   "metadata": {
    "hidden": true
   },
   "outputs": [],
   "source": [
    "len(out_df), len(set(out_df['subject_id'])), len(set(out_df['study_id']))"
   ]
  },
  {
   "cell_type": "code",
   "execution_count": null,
   "metadata": {
    "hidden": true
   },
   "outputs": [],
   "source": [
    "Counter(out_df['split'])"
   ]
  },
  {
   "cell_type": "code",
   "execution_count": null,
   "metadata": {
    "hidden": true
   },
   "outputs": [],
   "source": [
    "fpath = os.path.join(DATASET_DIR, 'master_metadata.csv')\n",
    "out_df.to_csv(fpath, index=False)"
   ]
  },
  {
   "cell_type": "code",
   "execution_count": null,
   "metadata": {
    "hidden": true
   },
   "outputs": [],
   "source": []
  },
  {
   "cell_type": "markdown",
   "metadata": {},
   "source": [
    "## Clean and tokenize reports"
   ]
  },
  {
   "cell_type": "markdown",
   "metadata": {},
   "source": [
    "### Debug tokenizer"
   ]
  },
  {
   "cell_type": "markdown",
   "metadata": {},
   "source": [
    "#### Review reports/sentences manually"
   ]
  },
  {
   "cell_type": "code",
   "execution_count": 10,
   "metadata": {},
   "outputs": [],
   "source": [
    "import re"
   ]
  },
  {
   "cell_type": "code",
   "execution_count": 3,
   "metadata": {},
   "outputs": [],
   "source": [
    "%run ../../utils/nlp.py\n",
    "%run ../mimic_cxr.py"
   ]
  },
  {
   "cell_type": "code",
   "execution_count": 4,
   "metadata": {},
   "outputs": [],
   "source": [
    "reports_fname = os.path.join(DATASET_DIR, 'reports', 'reports.clean.v1.json')\n",
    "with open(reports_fname, 'r') as f:\n",
    "    reports = json.load(f)"
   ]
  },
  {
   "cell_type": "code",
   "execution_count": 5,
   "metadata": {},
   "outputs": [
    {
     "data": {
      "text/plain": [
       "11146"
      ]
     },
     "execution_count": 5,
     "metadata": {},
     "output_type": "execute_result"
    }
   ],
   "source": [
    "token_appearances = Counter()\n",
    "for r in reports.values():\n",
    "    for token in r['clean_text'].split():\n",
    "        token_appearances[token] += 1\n",
    "len(token_appearances)"
   ]
  },
  {
   "cell_type": "code",
   "execution_count": 6,
   "metadata": {},
   "outputs": [],
   "source": [
    "def find_reports_with_tokens(tokens):\n",
    "    if isinstance(tokens, str):\n",
    "        tokens = [tokens]\n",
    "    found = []\n",
    "    for report in reports.values():\n",
    "        text = report['clean_text']\n",
    "        \n",
    "        for token in tokens:\n",
    "            if re.search(token, text):\n",
    "                found.append(report)\n",
    "                break\n",
    "                \n",
    "    return found"
   ]
  },
  {
   "cell_type": "code",
   "execution_count": 7,
   "metadata": {},
   "outputs": [
    {
     "data": {
      "text/plain": [
       "361265"
      ]
     },
     "execution_count": 7,
     "metadata": {},
     "output_type": "execute_result"
    }
   ],
   "source": [
    "sentences_appears = get_sentences_appearances(r['clean_text'] for r in reports.values())\n",
    "sentences = list(sentences_appears)\n",
    "len(sentences)"
   ]
  },
  {
   "cell_type": "code",
   "execution_count": 8,
   "metadata": {
    "collapsed": true
   },
   "outputs": [
    {
     "data": {
      "text/plain": [
       "['there is upper zone redistribution and cardiomegaly suggesting pulmonary venous hypertension .',\n",
       " 'there is no pneumothorax .',\n",
       " 'in comparison with the study of xxxx , the increased opacification at the right base has essentially cleared with better inspiration .',\n",
       " 'cardiac silhouette remains at the upper limits of normal in size and there is again tortuosity of the aorta without vascular congestion or pleural effusion .',\n",
       " 'biapical changes , especially on the right , are stable .',\n",
       " 'this ascending aorta is unchanged .',\n",
       " 'lungs are essentially clear except for chronic interstitial changes bilaterally .',\n",
       " 'the findings might be attributed to the provided history of copd .',\n",
       " 'if clinically warranted , correlation with cross-sectional imaging might be considered .',\n",
       " 'no pleural effusion or pneumothorax is seen .',\n",
       " 'right middle lobe opacity concerning for pneumonia .',\n",
       " 'mild basilar atelectasis without definite focal consolidation .',\n",
       " 'no evidence of pneumonia .',\n",
       " 'no focal consolidation to suggest active infection .',\n",
       " 'stable copd .',\n",
       " 'stable unexplained mild rightward deviation of the trachea .',\n",
       " 'compared to prior chest radiographs since xxxx , most recently xxxx and xxxx .',\n",
       " 'mild pulmonary edema has not resolved .',\n",
       " 'moderate cardiomegaly is stable .',\n",
       " 'pleural effusion , small if any .',\n",
       " 'right transjugular temporary pacer lead tip projects over the floor of the right ventricle .',\n",
       " 'et tube in standard placement .',\n",
       " 'esophageal probe ends at the level of the carina .',\n",
       " 'transesophageal drainage tube passes into the stomach and out of view .',\n",
       " 'no acute findings .',\n",
       " 'top-normal heart size .',\n",
       " 'there is hyperinflation .',\n",
       " 'there is no pneumothorax , effusion , consolidation or chf .',\n",
       " 'there is probable osteopenia .',\n",
       " 'normal chest radiograph , no evidence of pneumothorax .',\n",
       " 'if there is strong concern for rib fracture , a dedicated rib series may be performed .',\n",
       " 'there is mild-to-moderate cardiomegaly .',\n",
       " 'bilateral pleural effusions are small .',\n",
       " 'aside from atelectasis in the left lower lobe , the lungs are grossly clear .',\n",
       " 'almost complete resolution of atelectasis in the left upper lobe .',\n",
       " 'sternal wires are aligned .',\n",
       " 'widened mediastinum has improved .',\n",
       " 'a small air-fluid level in the retrosternal region suggests the presence of a tiny pneumothorax and small effusion .',\n",
       " 'these are most likely located in the left side .',\n",
       " 'in comparison with the study of earlier in this date , the left chest tube has been removed and there is no evidence of pneumothorax .',\n",
       " 'otherwise , little change .',\n",
       " 'status post bypass surgery , pleural scar , no evidence of acute pulmonary infiltrates or pleural effusions in this patient with cough and chills .',\n",
       " 'new moderate left pleural effusion with adjacent atelectasis in the left lung base .',\n",
       " 'in comparison with study of xxxx , the endotracheal tube and swan-ganz catheter have been removed .',\n",
       " 'the left chest tube remains in place and there is no evidence of pneumothorax .',\n",
       " 'mild atelectatic changes are seen at the left base .',\n",
       " 'bilateral pleural effusions , large on the right and small on the left .',\n",
       " 'no definite focal consolidation identified , although evaluation is limited secondary to these effusions .',\n",
       " 'no significant interval change .',\n",
       " 'comparison is made with prior study , xxxx .',\n",
       " 'cardiac size is normal .',\n",
       " 'lines and tubes are in the standard position .',\n",
       " 'large right and moderate left pleural effusions are grossly unchanged allowing the differences in positioning of the patient .',\n",
       " 'right upper lobe opacity has improved consistent with improving atelectasis .',\n",
       " 'pleural effusions are associated with atelectasis , larger on the right side .',\n",
       " 'there is mild vascular congestion .',\n",
       " 'endotracheal tube has been withdrawn , now lying approximately NUMBER cm from the carina .',\n",
       " 'unchanged positioning of the orogastric tube with tip at the gastroesophageal junction and side port in the distal esophagus .',\n",
       " 'this should be advanced for appropriate positioning .',\n",
       " 'bilateral pleural effusions , moderate to large on the right and small on the left with bibasilar atelectasis .',\n",
       " 'comparison is made with prior study performed nine hours earlier .',\n",
       " 'there is decrease in now small right pleural effusion .',\n",
       " 'there is a new right pacer pigtail catheter .',\n",
       " 'cardiomediastinal contours are unchanged .',\n",
       " 'lines and tubes are in standard position .',\n",
       " 'left lower lobe opacities , a combination of pleural effusion and atelectasis , are unchanged .',\n",
       " 'distal tip of the dobbhoff is now in the fundus of the stomach .',\n",
       " 'this could be advanced an additional NUMBER cm for more optimal placement .',\n",
       " 'there are unchanged bilateral pleural effusions , left greater than right .',\n",
       " 'a pleural catheter is seen at the right base .',\n",
       " 'there are no pneumothoraces identified .',\n",
       " 'comparison is made with prior study xxxx .',\n",
       " 'large right and moderate left pleural effusions are unchanged .',\n",
       " 'cardiomediastinal contours are normal .',\n",
       " 'right ij catheter tip is at the cavoatrial junction .',\n",
       " 'et tube is in standard position .',\n",
       " 'ng tube tip is out of view below the diaphragm .',\n",
       " 'there is no evident pneumothorax .',\n",
       " 'unchanged appearance of small bilateral pleural effusions status post extubation .',\n",
       " 'portable semi-upright chest radiograph is presented for review .',\n",
       " 'endotracheal tube terminates NUMBER cm above the carina .',\n",
       " 'nasogastric and dobbhoff tubes course into the stomach and out of view .',\n",
       " 'bilateral right greater than left moderate pleural effusions and bibasilar atelectasis are unchanged without new pulmonary opacities and unchanged mild pulmonary edema .',\n",
       " 'left picc is unchanged .',\n",
       " 'ap chest compared to xxxx moderate to large right and moderate left pleural effusions have both increased in size .',\n",
       " 'upper lungs are clear .',\n",
       " 'heart is obscured by the effusions , but not substantially enlarged .',\n",
       " 'no free subdiaphragmatic gas .',\n",
       " 'left pic line ends in the left brachiocephalic vein .',\n",
       " 'pa and lateral chest compared to xxxx lungs are hyperinflated , due to airway obstruction or emphysema .',\n",
       " 'if there is any focal consolidation , it is in the right mid lung in the region of the right nipple .',\n",
       " 'large areas of lung are obscured by costal cartilage .',\n",
       " 'on the lateral view , aside from a calcified granuloma inseparable from a heavily calcified mitral annulus , the lungs are clear aside from what may be a small region of severe bronchial wall thickening in the right middle lobe .',\n",
       " 'there is no pulmonary edema .',\n",
       " 'right pleural effusion is tiny compared to large pleural effusions seen at various times on prior chest radiographs .',\n",
       " 'there are no findings to suggest intrathoracic malignancy or infection .',\n",
       " 'heart size is normal , hilar and peripheral pulmonary vasculature are also normal .',\n",
       " 'if there is clinical justification excluding a small lung nodule , then i would recommend chest ct scanning .',\n",
       " 'bilateral pneumonia .',\n",
       " 'background likely copd .']"
      ]
     },
     "execution_count": 8,
     "metadata": {},
     "output_type": "execute_result"
    }
   ],
   "source": [
    "sentences[100:200]"
   ]
  },
  {
   "cell_type": "code",
   "execution_count": null,
   "metadata": {},
   "outputs": [],
   "source": []
  },
  {
   "cell_type": "code",
   "execution_count": 11,
   "metadata": {},
   "outputs": [
    {
     "data": {
      "text/plain": [
       "7"
      ]
     },
     "execution_count": 11,
     "metadata": {},
     "output_type": "execute_result"
    }
   ],
   "source": [
    "found = [s for s in sentences if re.search(r'\\A\\W', s)]\n",
    "len(found)"
   ]
  },
  {
   "cell_type": "code",
   "execution_count": 12,
   "metadata": {},
   "outputs": [
    {
     "data": {
      "text/plain": [
       "[', xxxx into xxxx a pre-existing left pleural effusion has massively increased .',\n",
       " '? infiltrate vs .',\n",
       " '.',\n",
       " ', the right base is essentially clear .',\n",
       " '? tiny left apical pneumothorax .',\n",
       " '- no acute cardiopulmonary process .',\n",
       " ', the orogastric tube is been pushed forward so that the tip extends at least to the lower body of the stomach , with the side port well beyond the esophagogastric junction .']"
      ]
     },
     "execution_count": 12,
     "metadata": {},
     "output_type": "execute_result"
    }
   ],
   "source": [
    "found"
   ]
  },
  {
   "cell_type": "code",
   "execution_count": 13,
   "metadata": {},
   "outputs": [
    {
     "data": {
      "text/plain": [
       "['.', ',', '(', ')', '-', '?', '#', '+']"
      ]
     },
     "execution_count": 13,
     "metadata": {},
     "output_type": "execute_result"
    }
   ],
   "source": [
    "[k for k in token_appearances.keys() if re.search(r'\\A\\W+', k)]"
   ]
  },
  {
   "cell_type": "code",
   "execution_count": null,
   "metadata": {},
   "outputs": [],
   "source": []
  },
  {
   "cell_type": "code",
   "execution_count": 25,
   "metadata": {},
   "outputs": [
    {
     "data": {
      "text/plain": [
       "6"
      ]
     },
     "execution_count": 25,
     "metadata": {},
     "output_type": "execute_result"
    }
   ],
   "source": [
    "found = find_reports_with_tokens(r'(\\. |\\A)[\\?,\\-]')\n",
    "len(found)"
   ]
  },
  {
   "cell_type": "code",
   "execution_count": 26,
   "metadata": {},
   "outputs": [
    {
     "data": {
      "text/plain": [
       "[{'study_id': 54164300,\n",
       "  'clean_text': ', xxxx into xxxx a pre-existing left pleural effusion has massively increased . the effusion now occupies approximately NUMBER of the left hemi thorax . there is mild displacement of the heart and the mediastinum to the right . extensive left lower lobe atelectasis . unchanged normal appearance of the right lung . the right pectoral pacemaker and the hemodialysis catheter are in correct position .',\n",
       "  'text': ', ___ into ___ a pre-existing left pleural effusion has massively\\n increased.  The effusion now occupies approximately ___% of the left hemi\\n thorax.  There is mild displacement of the heart and the mediastinum to the\\n right.  Extensive left lower lobe atelectasis.  Unchanged normal appearance of\\n the right lung.  The right pectoral pacemaker and the hemodialysis catheter\\n are in correct position.'},\n",
       " {'study_id': 56010602,\n",
       "  'clean_text': '? infiltrate vs . atelectasis right mid lung .',\n",
       "  'text': '? infiltrate vs. atelectasis right mid lung.'},\n",
       " {'study_id': 55963523,\n",
       "  'clean_text': ', the right base is essentially clear . mild blunting of the costophrenic angles posteriorly could reflect small effusion or pleural thickening . the cardiac silhouette is within upper limits of normal in size and there is again tortuosity of the aorta . no acute focal pneumonia or vascular congestion .',\n",
       "  'text': ', the right base is essentially clear. Mild blunting of the costophrenic\\n angles posteriorly could reflect small effusion or pleural thickening.  The\\n cardiac silhouette is within upper limits of normal in size and there is again\\n tortuosity of the aorta. No acute focal pneumonia or vascular congestion.'},\n",
       " {'study_id': 54148287,\n",
       "  'clean_text': '? tiny left apical pneumothorax .',\n",
       "  'text': '? tiny left apical pneumothorax.'},\n",
       " {'study_id': 57406511,\n",
       "  'clean_text': '- no acute cardiopulmonary process .',\n",
       "  'text': '- No acute cardiopulmonary process.'},\n",
       " {'study_id': 55157853,\n",
       "  'clean_text': ', the orogastric tube is been pushed forward so that the tip extends at least to the lower body of the stomach , with the side port well beyond the esophagogastric junction . otherwise little change . in comparison with the earlier study of this date .',\n",
       "  'text': ', the orogastric tube is been pushed forward so that the tip\\n extends at least to the lower body of the stomach, with the side port well\\n beyond the esophagogastric junction.  Otherwise little change.  In comparison\\n with the earlier study of this date'}]"
      ]
     },
     "execution_count": 26,
     "metadata": {},
     "output_type": "execute_result"
    }
   ],
   "source": [
    "found"
   ]
  },
  {
   "cell_type": "code",
   "execution_count": null,
   "metadata": {},
   "outputs": [],
   "source": []
  },
  {
   "cell_type": "markdown",
   "metadata": {},
   "source": [
    "#### Actually debug tokenizer"
   ]
  },
  {
   "cell_type": "code",
   "execution_count": 41,
   "metadata": {},
   "outputs": [],
   "source": [
    "%run ../preprocess/tokenize.py"
   ]
  },
  {
   "cell_type": "code",
   "execution_count": 45,
   "metadata": {},
   "outputs": [
    {
     "data": {
      "text/plain": [
       "['alsdka', 's', 'ña', ',', 's', ',', '?', 'pa', 'and', 'lat', '.']"
      ]
     },
     "execution_count": 45,
     "metadata": {},
     "output_type": "execute_result"
    }
   ],
   "source": [
    "ts = text_to_tokens('. , alsdka s ña,s , ? PA & lat')\n",
    "ts"
   ]
  },
  {
   "cell_type": "code",
   "execution_count": null,
   "metadata": {},
   "outputs": [],
   "source": []
  },
  {
   "cell_type": "code",
   "execution_count": 40,
   "metadata": {},
   "outputs": [
    {
     "data": {
      "text/plain": [
       "0"
      ]
     },
     "execution_count": 40,
     "metadata": {},
     "output_type": "execute_result"
    }
   ],
   "source": [
    "ts = ['a', 'b', 'c', '.']\n",
    "ts = []\n",
    "next(filter(lambda i: _VALID_WORD_TOKEN.search(ts[i]), range(len(ts))), 0)"
   ]
  },
  {
   "cell_type": "code",
   "execution_count": 30,
   "metadata": {},
   "outputs": [
    {
     "ename": "AttributeError",
     "evalue": "'list' object has no attribute 'find'",
     "output_type": "error",
     "traceback": [
      "\u001b[0;31m---------------------------------------------------------------------------\u001b[0m",
      "\u001b[0;31mAttributeError\u001b[0m                            Traceback (most recent call last)",
      "\u001b[0;32m<ipython-input-30-af69fe2fd771>\u001b[0m in \u001b[0;36m<module>\u001b[0;34m\u001b[0m\n\u001b[0;32m----> 1\u001b[0;31m \u001b[0mts\u001b[0m\u001b[0;34m.\u001b[0m\u001b[0mfind\u001b[0m\u001b[0;34m(\u001b[0m\u001b[0;36m3\u001b[0m\u001b[0;34m)\u001b[0m\u001b[0;34m\u001b[0m\u001b[0;34m\u001b[0m\u001b[0m\n\u001b[0m",
      "\u001b[0;31mAttributeError\u001b[0m: 'list' object has no attribute 'find'"
     ]
    }
   ],
   "source": [
    "ts.find(3)"
   ]
  },
  {
   "cell_type": "code",
   "execution_count": null,
   "metadata": {},
   "outputs": [],
   "source": []
  },
  {
   "cell_type": "markdown",
   "metadata": {},
   "source": [
    "### Run preprocess"
   ]
  },
  {
   "cell_type": "code",
   "execution_count": 1,
   "metadata": {},
   "outputs": [],
   "source": [
    "%run -n ../preprocess/mimic_cxr.py"
   ]
  },
  {
   "cell_type": "code",
   "execution_count": 2,
   "metadata": {},
   "outputs": [
    {
     "data": {
      "application/vnd.jupyter.widget-view+json": {
       "model_id": "ab1a7a4063bd4efda8d65635363d4f65",
       "version_major": 2,
       "version_minor": 0
      },
      "text/plain": [
       "  0%|          | 0/227827 [00:00<?, ?it/s]"
      ]
     },
     "metadata": {},
     "output_type": "display_data"
    },
    {
     "name": "stdout",
     "output_type": "stream",
     "text": [
      "Errors:  {}\n",
      "Different tokens:  11148\n",
      "Saved reports to:  /mnt/data/mimic-cxr-jpg/reports/reports.clean.v1.json\n"
     ]
    },
    {
     "data": {
      "text/plain": [
       "(227827, 11148)"
      ]
     },
     "execution_count": 2,
     "metadata": {},
     "output_type": "execute_result"
    }
   ],
   "source": [
    "reports, token_appearances, errors = preprocess_mimic_cxr()\n",
    "len(reports), len(token_appearances)"
   ]
  },
  {
   "cell_type": "code",
   "execution_count": null,
   "metadata": {},
   "outputs": [],
   "source": []
  },
  {
   "cell_type": "code",
   "execution_count": null,
   "metadata": {},
   "outputs": [],
   "source": []
  },
  {
   "cell_type": "markdown",
   "metadata": {},
   "source": [
    "### Some utils"
   ]
  },
  {
   "cell_type": "code",
   "execution_count": 8,
   "metadata": {},
   "outputs": [
    {
     "data": {
      "text/html": [
       "<div>\n",
       "<style scoped>\n",
       "    .dataframe tbody tr th:only-of-type {\n",
       "        vertical-align: middle;\n",
       "    }\n",
       "\n",
       "    .dataframe tbody tr th {\n",
       "        vertical-align: top;\n",
       "    }\n",
       "\n",
       "    .dataframe thead th {\n",
       "        text-align: right;\n",
       "    }\n",
       "</style>\n",
       "<table border=\"1\" class=\"dataframe\">\n",
       "  <thead>\n",
       "    <tr style=\"text-align: right;\">\n",
       "      <th></th>\n",
       "      <th>study</th>\n",
       "      <th>text</th>\n",
       "      <th>impression</th>\n",
       "      <th>findings</th>\n",
       "      <th>last_paragraph</th>\n",
       "      <th>comparison</th>\n",
       "    </tr>\n",
       "  </thead>\n",
       "  <tbody>\n",
       "    <tr>\n",
       "      <th>0</th>\n",
       "      <td>s53911762</td>\n",
       "      <td>No acute intrathoracic process.</td>\n",
       "      <td>No acute intrathoracic process.</td>\n",
       "      <td>Single frontal view of the chest provided.\\n \\...</td>\n",
       "      <td>NaN</td>\n",
       "      <td>Chest radiograph ___</td>\n",
       "    </tr>\n",
       "    <tr>\n",
       "      <th>1</th>\n",
       "      <td>s56699142</td>\n",
       "      <td>No acute cardiopulmonary process.</td>\n",
       "      <td>No acute cardiopulmonary process.</td>\n",
       "      <td>The lungs are clear of focal consolidation, pl...</td>\n",
       "      <td>NaN</td>\n",
       "      <td>Radiographs from ___, ___ and ___.</td>\n",
       "    </tr>\n",
       "    <tr>\n",
       "      <th>2</th>\n",
       "      <td>s53189527</td>\n",
       "      <td>No acute cardiopulmonary abnormality.</td>\n",
       "      <td>No acute cardiopulmonary abnormality.</td>\n",
       "      <td>The cardiac, mediastinal and hilar contours ar...</td>\n",
       "      <td>NaN</td>\n",
       "      <td>___</td>\n",
       "    </tr>\n",
       "    <tr>\n",
       "      <th>3</th>\n",
       "      <td>s50414267</td>\n",
       "      <td>No acute cardiopulmonary process.</td>\n",
       "      <td>No acute cardiopulmonary process.</td>\n",
       "      <td>There is no focal consolidation, pleural effus...</td>\n",
       "      <td>NaN</td>\n",
       "      <td>None.</td>\n",
       "    </tr>\n",
       "    <tr>\n",
       "      <th>4</th>\n",
       "      <td>s57375967</td>\n",
       "      <td>Focal consolidation at the left lung base, pos...</td>\n",
       "      <td>Focal consolidation at the left lung base, pos...</td>\n",
       "      <td>PA and lateral views of the chest provided.   ...</td>\n",
       "      <td>NaN</td>\n",
       "      <td>None</td>\n",
       "    </tr>\n",
       "  </tbody>\n",
       "</table>\n",
       "</div>"
      ],
      "text/plain": [
       "       study                                               text  \\\n",
       "0  s53911762                    No acute intrathoracic process.   \n",
       "1  s56699142                  No acute cardiopulmonary process.   \n",
       "2  s53189527              No acute cardiopulmonary abnormality.   \n",
       "3  s50414267                  No acute cardiopulmonary process.   \n",
       "4  s57375967  Focal consolidation at the left lung base, pos...   \n",
       "\n",
       "                                          impression  \\\n",
       "0                    No acute intrathoracic process.   \n",
       "1                  No acute cardiopulmonary process.   \n",
       "2              No acute cardiopulmonary abnormality.   \n",
       "3                  No acute cardiopulmonary process.   \n",
       "4  Focal consolidation at the left lung base, pos...   \n",
       "\n",
       "                                            findings last_paragraph  \\\n",
       "0  Single frontal view of the chest provided.\\n \\...            NaN   \n",
       "1  The lungs are clear of focal consolidation, pl...            NaN   \n",
       "2  The cardiac, mediastinal and hilar contours ar...            NaN   \n",
       "3  There is no focal consolidation, pleural effus...            NaN   \n",
       "4  PA and lateral views of the chest provided.   ...            NaN   \n",
       "\n",
       "                           comparison  \n",
       "0                Chest radiograph ___  \n",
       "1  Radiographs from ___, ___ and ___.  \n",
       "2                                 ___  \n",
       "3                               None.  \n",
       "4                                None  "
      ]
     },
     "execution_count": 8,
     "metadata": {},
     "output_type": "execute_result"
    }
   ],
   "source": [
    "REPORTS_DF = load_raw_reports_df()\n",
    "REPORTS_DF.head()"
   ]
  },
  {
   "cell_type": "code",
   "execution_count": 78,
   "metadata": {},
   "outputs": [
    {
     "data": {
      "text/html": [
       "<div>\n",
       "<style scoped>\n",
       "    .dataframe tbody tr th:only-of-type {\n",
       "        vertical-align: middle;\n",
       "    }\n",
       "\n",
       "    .dataframe tbody tr th {\n",
       "        vertical-align: top;\n",
       "    }\n",
       "\n",
       "    .dataframe thead th {\n",
       "        text-align: right;\n",
       "    }\n",
       "</style>\n",
       "<table border=\"1\" class=\"dataframe\">\n",
       "  <thead>\n",
       "    <tr style=\"text-align: right;\">\n",
       "      <th></th>\n",
       "      <th>dicom_id</th>\n",
       "      <th>subject_id</th>\n",
       "      <th>study_id</th>\n",
       "      <th>image_fpath</th>\n",
       "      <th>report_fpath</th>\n",
       "      <th>ViewPosition</th>\n",
       "      <th>split</th>\n",
       "      <th>No Finding</th>\n",
       "      <th>Enlarged Cardiomediastinum</th>\n",
       "      <th>Cardiomegaly</th>\n",
       "      <th>...</th>\n",
       "      <th>Edema</th>\n",
       "      <th>Consolidation</th>\n",
       "      <th>Pneumonia</th>\n",
       "      <th>Atelectasis</th>\n",
       "      <th>Pneumothorax</th>\n",
       "      <th>Pleural Effusion</th>\n",
       "      <th>Pleural Other</th>\n",
       "      <th>Fracture</th>\n",
       "      <th>Support Devices</th>\n",
       "      <th>report_length</th>\n",
       "    </tr>\n",
       "  </thead>\n",
       "  <tbody>\n",
       "    <tr>\n",
       "      <th>0</th>\n",
       "      <td>02aa804e-bde0afdd-112c0b34-7bc16630-4e384014</td>\n",
       "      <td>10000032</td>\n",
       "      <td>50414267</td>\n",
       "      <td>p10/p10000032/s50414267/02aa804e-bde0afdd-112c...</td>\n",
       "      <td>p10/p10000032/s50414267.txt</td>\n",
       "      <td>PA</td>\n",
       "      <td>train</td>\n",
       "      <td>1.0</td>\n",
       "      <td>0.0</td>\n",
       "      <td>0.0</td>\n",
       "      <td>...</td>\n",
       "      <td>0.0</td>\n",
       "      <td>0.0</td>\n",
       "      <td>0.0</td>\n",
       "      <td>0.0</td>\n",
       "      <td>0.0</td>\n",
       "      <td>0.0</td>\n",
       "      <td>0.0</td>\n",
       "      <td>0.0</td>\n",
       "      <td>0.0</td>\n",
       "      <td>5</td>\n",
       "    </tr>\n",
       "    <tr>\n",
       "      <th>1</th>\n",
       "      <td>174413ec-4ec4c1f7-34ea26b7-c5f994f8-79ef1962</td>\n",
       "      <td>10000032</td>\n",
       "      <td>50414267</td>\n",
       "      <td>p10/p10000032/s50414267/174413ec-4ec4c1f7-34ea...</td>\n",
       "      <td>p10/p10000032/s50414267.txt</td>\n",
       "      <td>LATERAL</td>\n",
       "      <td>train</td>\n",
       "      <td>1.0</td>\n",
       "      <td>0.0</td>\n",
       "      <td>0.0</td>\n",
       "      <td>...</td>\n",
       "      <td>0.0</td>\n",
       "      <td>0.0</td>\n",
       "      <td>0.0</td>\n",
       "      <td>0.0</td>\n",
       "      <td>0.0</td>\n",
       "      <td>0.0</td>\n",
       "      <td>0.0</td>\n",
       "      <td>0.0</td>\n",
       "      <td>0.0</td>\n",
       "      <td>5</td>\n",
       "    </tr>\n",
       "  </tbody>\n",
       "</table>\n",
       "<p>2 rows × 22 columns</p>\n",
       "</div>"
      ],
      "text/plain": [
       "                                       dicom_id  subject_id  study_id  \\\n",
       "0  02aa804e-bde0afdd-112c0b34-7bc16630-4e384014    10000032  50414267   \n",
       "1  174413ec-4ec4c1f7-34ea26b7-c5f994f8-79ef1962    10000032  50414267   \n",
       "\n",
       "                                         image_fpath  \\\n",
       "0  p10/p10000032/s50414267/02aa804e-bde0afdd-112c...   \n",
       "1  p10/p10000032/s50414267/174413ec-4ec4c1f7-34ea...   \n",
       "\n",
       "                  report_fpath ViewPosition  split  No Finding  \\\n",
       "0  p10/p10000032/s50414267.txt           PA  train         1.0   \n",
       "1  p10/p10000032/s50414267.txt      LATERAL  train         1.0   \n",
       "\n",
       "   Enlarged Cardiomediastinum  Cardiomegaly  ...  Edema  Consolidation  \\\n",
       "0                         0.0           0.0  ...    0.0            0.0   \n",
       "1                         0.0           0.0  ...    0.0            0.0   \n",
       "\n",
       "   Pneumonia  Atelectasis  Pneumothorax  Pleural Effusion  Pleural Other  \\\n",
       "0        0.0          0.0           0.0               0.0            0.0   \n",
       "1        0.0          0.0           0.0               0.0            0.0   \n",
       "\n",
       "   Fracture  Support Devices  report_length  \n",
       "0       0.0              0.0              5  \n",
       "1       0.0              0.0              5  \n",
       "\n",
       "[2 rows x 22 columns]"
      ]
     },
     "execution_count": 78,
     "metadata": {},
     "output_type": "execute_result"
    }
   ],
   "source": [
    "fpath = os.path.join(DATASET_DIR, 'master_metadata.csv')\n",
    "master_df = pd.read_csv(fpath)\n",
    "master_df.head(2)"
   ]
  },
  {
   "cell_type": "code",
   "execution_count": 6,
   "metadata": {},
   "outputs": [],
   "source": [
    "def load_raw_report(study_id):\n",
    "    if isinstance(study_id, str):\n",
    "        study_id = int(study_id.strip('s'))\n",
    "\n",
    "    d = master_df.loc[master_df['study_id'] == study_id]\n",
    "    \n",
    "    report_fpaths = list(d['report_fpath'].unique())\n",
    "    assert len(report_fpaths) == 1, f'Not 1 subject: {report_fpaths}'\n",
    "    report_fpath = report_fpaths[0]\n",
    "    print(report_fpath)\n",
    "    report_fpath = os.path.join(DATASET_DIR, 'raw-reports', report_fpath)\n",
    "    \n",
    "    with open(report_fpath) as f:\n",
    "        text = f.read()\n",
    "    \n",
    "    return text"
   ]
  },
  {
   "cell_type": "code",
   "execution_count": null,
   "metadata": {},
   "outputs": [],
   "source": []
  },
  {
   "cell_type": "markdown",
   "metadata": {},
   "source": [
    "### Check errors"
   ]
  },
  {
   "cell_type": "markdown",
   "metadata": {
    "heading_collapsed": true
   },
   "source": [
    "#### Check wrong reports"
   ]
  },
  {
   "cell_type": "code",
   "execution_count": null,
   "metadata": {
    "hidden": true
   },
   "outputs": [],
   "source": [
    "studies = list(f's{s}' for s in errors['tokens-empty'])\n",
    "len(studies)"
   ]
  },
  {
   "cell_type": "code",
   "execution_count": null,
   "metadata": {
    "hidden": true
   },
   "outputs": [],
   "source": [
    "for study_id in studies:\n",
    "    print('=' * 60)\n",
    "    print('Study ID: ', study_id)\n",
    "\n",
    "    report = load_raw_report(study_id)\n",
    "    print(report)\n",
    "\n",
    "    print('-' * 30)\n",
    "\n",
    "    d = REPORTS_DF.loc[REPORTS_DF['study'] == study_id]\n",
    "    ids = list(d.index)\n",
    "    assert len(ids) == 1, f'Not 1 study: {d}'\n",
    "    d = d.loc[ids[0]]\n",
    "    for k in ['text', 'comparison', 'findings', 'impression', 'last_paragraph']:\n",
    "        print(f'{k}: {d[k]}')\n",
    "\n",
    "    print('=' * 60)"
   ]
  },
  {
   "cell_type": "code",
   "execution_count": null,
   "metadata": {
    "hidden": true
   },
   "outputs": [],
   "source": []
  },
  {
   "cell_type": "markdown",
   "metadata": {},
   "source": [
    "#### Check tokens"
   ]
  },
  {
   "cell_type": "code",
   "execution_count": 41,
   "metadata": {
    "collapsed": true
   },
   "outputs": [
    {
     "data": {
      "text/plain": [
       "[('.', 700496),\n",
       " ('the', 428366),\n",
       " ('of', 232669),\n",
       " (',', 224377),\n",
       " ('is', 214079),\n",
       " ('no', 192578),\n",
       " ('in', 159873),\n",
       " ('and', 136040),\n",
       " ('right', 125472),\n",
       " ('to', 108014),\n",
       " ('left', 102973),\n",
       " ('pleural', 97854),\n",
       " ('with', 94405),\n",
       " ('there', 86204),\n",
       " ('xxxx', 84486),\n",
       " ('are', 79342),\n",
       " ('pulmonary', 70949),\n",
       " ('lung', 69282),\n",
       " ('effusion', 63616),\n",
       " ('acute', 61677),\n",
       " ('a', 56007),\n",
       " ('atelectasis', 55243),\n",
       " ('pneumothorax', 53435),\n",
       " ('tube', 52518),\n",
       " ('edema', 50330),\n",
       " ('or', 49641),\n",
       " ('pneumonia', 49186),\n",
       " ('chest', 49122),\n",
       " ('unchanged', 47430),\n",
       " ('at', 46208),\n",
       " ('be', 42095),\n",
       " ('process', 40934),\n",
       " ('cardiopulmonary', 39842),\n",
       " ('has', 39593),\n",
       " ('on', 39550),\n",
       " ('evidence', 38615),\n",
       " ('mild', 37694),\n",
       " ('lower', 37093),\n",
       " ('small', 36364),\n",
       " ('compared', 35434),\n",
       " ('as', 34885),\n",
       " ('study', 33916),\n",
       " ('comparison', 33057),\n",
       " ('size', 32279),\n",
       " ('effusions', 32241),\n",
       " ('normal', 31066),\n",
       " ('lobe', 30006),\n",
       " ('NUMBER', 29763),\n",
       " ('radiograph', 29351),\n",
       " ('moderate', 28209),\n",
       " ('tip', 27404),\n",
       " ('cardiac', 26652),\n",
       " ('bilateral', 26427),\n",
       " ('for', 26256),\n",
       " ('heart', 26041),\n",
       " ('seen', 25511),\n",
       " ('stable', 25291),\n",
       " ('cardiomegaly', 25073),\n",
       " ('previous', 24470),\n",
       " ('change', 24000),\n",
       " ('opacities', 23446),\n",
       " ('silhouette', 23385),\n",
       " ('upper', 23298),\n",
       " ('vascular', 23238),\n",
       " ('opacity', 22890),\n",
       " ('prior', 21873),\n",
       " ('consolidation', 20896),\n",
       " ('volumes', 20413),\n",
       " ('but', 19748),\n",
       " ('position', 19475),\n",
       " ('interval', 19349),\n",
       " ('lungs', 19141),\n",
       " ('congestion', 18775),\n",
       " ('new', 18720),\n",
       " ('this', 18315),\n",
       " ('likely', 17945),\n",
       " ('line', 17862),\n",
       " ('been', 17843),\n",
       " ('base', 17255),\n",
       " ('low', 17153),\n",
       " ('patient', 17071),\n",
       " ('increased', 16472),\n",
       " ('not', 15993),\n",
       " ('catheter', 15733),\n",
       " ('since', 15670),\n",
       " ('could', 15595),\n",
       " ('focal', 15381),\n",
       " ('clear', 15272),\n",
       " ('may', 14727),\n",
       " ('by', 14177),\n",
       " ('mediastinal', 14101),\n",
       " ('cm', 13934),\n",
       " ('improved', 13861),\n",
       " ('abnormality', 13701),\n",
       " ('from', 13482),\n",
       " ('appearance', 13383),\n",
       " ('stomach', 13320),\n",
       " ('lateral', 13263),\n",
       " ('findings', 13244),\n",
       " ('bibasilar', 13241),\n",
       " ('have', 13030),\n",
       " ('svc', 12613),\n",
       " ('which', 12437),\n",
       " ('mid', 11864),\n",
       " ('ct', 11842),\n",
       " ('opacification', 11624),\n",
       " ('interstitial', 11412),\n",
       " ('ap', 11210),\n",
       " ('again', 11073),\n",
       " ('consistent', 10802),\n",
       " ('more', 10696),\n",
       " ('due', 10661),\n",
       " ('an', 10569),\n",
       " ('minimal', 10448),\n",
       " ('above', 10430),\n",
       " ('clinical', 10370),\n",
       " ('slightly', 10211),\n",
       " ('radiographs', 10194),\n",
       " ('was', 10099),\n",
       " ('retrocardiac', 10055),\n",
       " ('mediastinum', 9967),\n",
       " ('than', 9768),\n",
       " ('endotracheal', 9680),\n",
       " ('large', 9518),\n",
       " ('changes', 9339),\n",
       " ('present', 9206),\n",
       " ('disease', 9136),\n",
       " ('nasogastric', 9135),\n",
       " ('bases', 9086),\n",
       " ('parenchymal', 8900),\n",
       " ('infection', 8863),\n",
       " ('view', 8751),\n",
       " ('within', 8740),\n",
       " ('most', 8687),\n",
       " ('if', 8665),\n",
       " ('ends', 8554),\n",
       " ('aspiration', 8426),\n",
       " ('intrathoracic', 8410),\n",
       " ('that', 8218),\n",
       " ('over', 8199),\n",
       " ('picc', 8160),\n",
       " ('cardiomediastinal', 8144),\n",
       " ('excluded', 8044),\n",
       " ('et', 7979),\n",
       " ('carina', 7960),\n",
       " ('also', 7940),\n",
       " ('severe', 7939),\n",
       " ('without', 7937),\n",
       " ('standard', 7894),\n",
       " ('apical', 7861),\n",
       " ('central', 7816),\n",
       " ('devices', 7788),\n",
       " ('contours', 7781),\n",
       " ('basilar', 7744),\n",
       " ('support', 7669),\n",
       " ('relevant', 7617),\n",
       " ('jugular', 7546),\n",
       " ('well', 7485),\n",
       " ('doctor', 7320),\n",
       " ('otherwise', 7308),\n",
       " ('rib', 7294),\n",
       " ('fluid', 7259),\n",
       " ('some', 7198),\n",
       " ('overall', 7157),\n",
       " ('place', 7143),\n",
       " ('reflect', 7115),\n",
       " ('persistent', 7087),\n",
       " ('enlargement', 7074),\n",
       " ('represent', 7070),\n",
       " ('venous', 7040),\n",
       " ('enlarged', 6984),\n",
       " ('earlier', 6970),\n",
       " ('setting', 6963),\n",
       " ('junction', 6954),\n",
       " ('monitoring', 6865),\n",
       " ('were', 6856),\n",
       " ('however', 6835),\n",
       " ('decreased', 6730),\n",
       " ('little', 6571),\n",
       " ('appropriate', 6555),\n",
       " ('level', 6549),\n",
       " ('volume', 6500),\n",
       " ('hilar', 6466),\n",
       " ('increase', 6437),\n",
       " ('cannot', 6434),\n",
       " ('areas', 6424),\n",
       " ('remains', 6410),\n",
       " ('placement', 6402),\n",
       " (':', 6381),\n",
       " ('substantial', 6320),\n",
       " ('basal', 6297),\n",
       " ('region', 6210),\n",
       " ('noted', 6204),\n",
       " ('other', 6198),\n",
       " ('chronic', 6191),\n",
       " ('it', 6094),\n",
       " ('improvement', 6085),\n",
       " ('although', 5900),\n",
       " ('now', 5888),\n",
       " ('would', 5885),\n",
       " ('aorta', 5841),\n",
       " ('both', 5833),\n",
       " ('made', 5765),\n",
       " ('internal', 5754),\n",
       " ('possible', 5613),\n",
       " ('probably', 5592),\n",
       " ('concerning', 5539),\n",
       " ('should', 5476),\n",
       " ('definite', 5447),\n",
       " ('removed', 5430),\n",
       " ('hemidiaphragm', 5427),\n",
       " ('better', 5361),\n",
       " ('thoracic', 5320),\n",
       " ('patchy', 5269),\n",
       " ('examination', 5224),\n",
       " ('worsening', 5192),\n",
       " ('/', 5082),\n",
       " ('limits', 5077),\n",
       " ('extent', 5060),\n",
       " ('significant', 5059),\n",
       " ('ng', 5011),\n",
       " ('pa', 4973),\n",
       " ('air', 4955),\n",
       " ('constant', 4953),\n",
       " ('still', 4860),\n",
       " ('reviewed', 4851),\n",
       " ('superimposed', 4773),\n",
       " ('appears', 4677),\n",
       " ('recommended', 4642),\n",
       " ('further', 4602),\n",
       " ('subclavian', 4567),\n",
       " ('approximately', 4547),\n",
       " ('recent', 4518),\n",
       " ('known', 4516),\n",
       " ('atrium', 4483),\n",
       " ('identified', 4446),\n",
       " ('similar', 4420),\n",
       " ('right-sided', 4383),\n",
       " ('slight', 4298),\n",
       " ('demonstrated', 4295),\n",
       " ('unremarkable', 4282),\n",
       " ('suggest', 4217),\n",
       " ('infectious', 4186),\n",
       " ('loss', 4165),\n",
       " ('continued', 4161),\n",
       " ('underlying', 4153),\n",
       " ('larger', 4145),\n",
       " ('persists', 4133),\n",
       " ('distal', 4113),\n",
       " ('any', 4092),\n",
       " ('perihilar', 4083),\n",
       " ('below', 4076),\n",
       " ('emphysema', 4001),\n",
       " ('extensive', 3992),\n",
       " ('tubes', 3991),\n",
       " ('diffuse', 3991),\n",
       " ('image', 3982),\n",
       " ('borderline', 3976),\n",
       " ('left-sided', 3962),\n",
       " ('terminates', 3960),\n",
       " ('essentially', 3956),\n",
       " ('elevation', 3955),\n",
       " ('area', 3918),\n",
       " ('appreciable', 3906),\n",
       " ('adjacent', 3883),\n",
       " ('projecting', 3853),\n",
       " ('given', 3840),\n",
       " ('worsened', 3839),\n",
       " ('obtained', 3816),\n",
       " ('portable', 3776),\n",
       " ('overt', 3763),\n",
       " ('side', 3755),\n",
       " ('greater', 3730),\n",
       " ('resolution', 3728),\n",
       " ('though', 3712),\n",
       " ('after', 3666),\n",
       " ('post', 3662),\n",
       " ('decrease', 3659),\n",
       " ('increasing', 3626),\n",
       " ('day', 3617),\n",
       " ('drainage', 3566),\n",
       " ('considered', 3559),\n",
       " ('residual', 3542),\n",
       " ('middle', 3534),\n",
       " ('projects', 3532),\n",
       " ('into', 3528),\n",
       " ('discussed', 3508),\n",
       " ('less', 3499),\n",
       " ('remain', 3489),\n",
       " ('pre-existing', 3487),\n",
       " ('abnormalities', 3481),\n",
       " ('these', 3470),\n",
       " ('fracture', 3467),\n",
       " ('difficult', 3467),\n",
       " ('overload', 3460),\n",
       " ('previously', 3457),\n",
       " ('minimally', 3442),\n",
       " ('grossly', 3439),\n",
       " ('associated', 3435),\n",
       " ('cavoatrial', 3431),\n",
       " ('mildly', 3429),\n",
       " ('radiographic', 3423),\n",
       " ('exclude', 3410),\n",
       " ('through', 3405),\n",
       " ('diaphragm', 3391),\n",
       " ('engorgement', 3371),\n",
       " ('atelectatic', 3361),\n",
       " ('multifocal', 3356),\n",
       " ('fractures', 3354),\n",
       " ('collapse', 3350),\n",
       " ('prominent', 3345),\n",
       " ('ij', 3337),\n",
       " ('airspace', 3334),\n",
       " ('costophrenic', 3281),\n",
       " ('ex', 3281),\n",
       " ('status', 3276),\n",
       " ('combination', 3250),\n",
       " ('time', 3233),\n",
       " ('leads', 3196),\n",
       " ('potentially', 3181),\n",
       " ('tracheostomy', 3163),\n",
       " ('prominence', 3153),\n",
       " ('pigtail', 3142),\n",
       " ('advanced', 3136),\n",
       " ('signs', 3119),\n",
       " ('telephone', 3101),\n",
       " ('vein', 3101),\n",
       " ('resolved', 3091),\n",
       " ('positioning', 3054),\n",
       " ('pacemaker', 3045),\n",
       " ('wall', 3019),\n",
       " ('possibility', 3009),\n",
       " ('followup', 2995),\n",
       " ('its', 2994),\n",
       " ('thickening', 2971),\n",
       " ('mass', 2969),\n",
       " ('suggesting', 2967),\n",
       " ('feeding', 2922),\n",
       " ('consolidations', 2910),\n",
       " ('pressure', 2888),\n",
       " ('scarring', 2882),\n",
       " ('terminating', 2881),\n",
       " ('layering', 2879),\n",
       " ('pacer', 2871),\n",
       " ('extends', 2864),\n",
       " ('substantially', 2859),\n",
       " ('linear', 2844),\n",
       " ('evaluation', 2833),\n",
       " ('hemithorax', 2804),\n",
       " ('structures', 2782),\n",
       " ('superior', 2782),\n",
       " ('wires', 2764),\n",
       " ('portion', 2746),\n",
       " ('pneumothoraces', 2745),\n",
       " ('out', 2730),\n",
       " ('performed', 2720),\n",
       " ('removal', 2696),\n",
       " ('can', 2678),\n",
       " ('date', 2669),\n",
       " ('least', 2658),\n",
       " ('apex', 2649),\n",
       " ('aeration', 2617),\n",
       " ('multiple', 2616),\n",
       " ('vasculature', 2605),\n",
       " ('developing', 2598),\n",
       " ('probable', 2593),\n",
       " ('might', 2578),\n",
       " ('severity', 2569),\n",
       " ('changed', 2562),\n",
       " ('compressive', 2551),\n",
       " ('suggestive', 2533),\n",
       " ('upright', 2523),\n",
       " ('course', 2515),\n",
       " ('lead', 2482),\n",
       " ('aortic', 2468),\n",
       " ('passes', 2465),\n",
       " ('subcutaneous', 2465),\n",
       " ('visualized', 2460),\n",
       " ('views', 2448),\n",
       " ('blunting', 2443),\n",
       " ('amount', 2442),\n",
       " ('appear', 2440),\n",
       " ('frontal', 2435),\n",
       " ('enteric', 2355),\n",
       " ('pic', 2351),\n",
       " ('widening', 2351),\n",
       " ('markings', 2350),\n",
       " ('very', 2350),\n",
       " ('reflecting', 2332),\n",
       " ('free', 2315),\n",
       " ('proximal', 2314),\n",
       " ('recommend', 2312),\n",
       " ('concern', 2312),\n",
       " ('chf', 2301),\n",
       " ('elevated', 2297),\n",
       " ('loculated', 2294),\n",
       " ('overlying', 2287),\n",
       " ('infiltrate', 2282),\n",
       " ('correlation', 2276),\n",
       " ('accompanied', 2272),\n",
       " ('relatively', 2269),\n",
       " ('sternal', 2266),\n",
       " ('subsequent', 2252),\n",
       " ('development', 2230),\n",
       " ('postoperative', 2226),\n",
       " ('ventricle', 2214),\n",
       " ('early', 2208),\n",
       " ('possibly', 2205),\n",
       " ('including', 2205),\n",
       " ('lines', 2187),\n",
       " ('today', 2148),\n",
       " ('nodules', 2145),\n",
       " ('vessels', 2144),\n",
       " ('dobbhoff', 2132),\n",
       " ('top', 2129),\n",
       " ('presence', 2118),\n",
       " ('visible', 2116),\n",
       " ('current', 2103),\n",
       " ('subtle', 2102),\n",
       " ('nodular', 2089),\n",
       " ('back', 2087),\n",
       " ('hernia', 2068),\n",
       " ('esophagus', 2067),\n",
       " ('port-a-cath', 2036),\n",
       " ('suggests', 2016),\n",
       " ('parenchyma', 2012),\n",
       " ('angle', 2004),\n",
       " ('bilaterally', 1997),\n",
       " ('related', 1991),\n",
       " ('zone', 1988),\n",
       " ('tortuosity', 1979),\n",
       " ('clinically', 1976),\n",
       " ('following', 1963),\n",
       " ('component', 1960),\n",
       " ('port', 1943),\n",
       " ('trace', 1940),\n",
       " ('when', 1937),\n",
       " ('developed', 1926),\n",
       " ('all', 1921),\n",
       " ('swan-ganz', 1891),\n",
       " ('moderately', 1889),\n",
       " ('correct', 1889),\n",
       " ('nodule', 1869),\n",
       " ('silhouettes', 1855),\n",
       " ('shows', 1853),\n",
       " ('density', 1850),\n",
       " ('posterior', 1848),\n",
       " ('sternotomy', 1846),\n",
       " ('appreciated', 1833),\n",
       " ('lobes', 1830),\n",
       " ('expected', 1830),\n",
       " ('calcified', 1829),\n",
       " ('compatible', 1802),\n",
       " ('either', 1801),\n",
       " ('helpful', 1797),\n",
       " ('body', 1795),\n",
       " ('partially', 1785),\n",
       " ('progression', 1785),\n",
       " ('artery', 1785),\n",
       " ('abdomen', 1783),\n",
       " ('surfaces', 1779),\n",
       " ('continues', 1776),\n",
       " ('repeat', 1776),\n",
       " ('only', 1775),\n",
       " ('dedicated', 1773),\n",
       " ('apparent', 1770),\n",
       " ('widespread', 1769),\n",
       " ('tiny', 1767),\n",
       " ('spine', 1752),\n",
       " ('i', 1741),\n",
       " ('same', 1736),\n",
       " ('asymmetric', 1722),\n",
       " ('pericardial', 1718),\n",
       " ('improving', 1716),\n",
       " ('recently', 1714),\n",
       " ('single', 1712),\n",
       " ('completely', 1703),\n",
       " ('ventricular', 1695),\n",
       " ('technique', 1694),\n",
       " ('along', 1690),\n",
       " ('history', 1690),\n",
       " ('limited', 1687),\n",
       " ('tortuous', 1683),\n",
       " ('pulled', 1677),\n",
       " ('assessment', 1675),\n",
       " ('degree', 1673),\n",
       " ('note', 1669),\n",
       " ('images', 1652),\n",
       " ('bibasal', 1651),\n",
       " ('assess', 1650),\n",
       " ('midline', 1646),\n",
       " ('newly', 1641),\n",
       " ('smaller', 1628),\n",
       " ('failure', 1628),\n",
       " ('hiatal', 1628),\n",
       " ('placements', 1619),\n",
       " ('differences', 1577),\n",
       " ('location', 1575),\n",
       " ('represents', 1570),\n",
       " ('contour', 1554),\n",
       " ('paged', 1554),\n",
       " ('inspiration', 1553),\n",
       " ('worse', 1552),\n",
       " ('complications', 1551),\n",
       " ('pectoral', 1542),\n",
       " ('somewhat', 1541),\n",
       " ('top-normal', 1533),\n",
       " ('versus', 1525),\n",
       " ('soft', 1524),\n",
       " ('obscured', 1517),\n",
       " ('descending', 1497),\n",
       " ('esophageal', 1482),\n",
       " ('finding', 1480),\n",
       " ('evaluated', 1477),\n",
       " ('marked', 1476),\n",
       " ('displaced', 1465),\n",
       " ('persist', 1463),\n",
       " ('mild-to-moderate', 1453),\n",
       " ('particularly', 1453),\n",
       " ('hyperinflated', 1451),\n",
       " ('opacifications', 1447),\n",
       " ('heterogeneous', 1442),\n",
       " ('anterior', 1439),\n",
       " ('copd', 1435),\n",
       " ('shift', 1420),\n",
       " ('fully', 1399),\n",
       " ('one', 1392),\n",
       " ('several', 1388),\n",
       " ('studies', 1382),\n",
       " ('except', 1375),\n",
       " ('currently', 1375),\n",
       " ('evident', 1370),\n",
       " ('device', 1370),\n",
       " ('assessed', 1370),\n",
       " ('complete', 1364),\n",
       " ('allowing', 1363),\n",
       " ('film', 1358),\n",
       " ('phone', 1356),\n",
       " ('notably', 1354),\n",
       " ('imaging', 1351),\n",
       " ('received', 1340),\n",
       " ('before', 1328),\n",
       " ('carinal', 1318),\n",
       " ('hemorrhage', 1316),\n",
       " ('trachea', 1315),\n",
       " ('additional', 1310),\n",
       " ('lymphadenopathy', 1304),\n",
       " ('thorax', 1303),\n",
       " ('reflects', 1302),\n",
       " ('neck', 1296),\n",
       " ('just', 1290),\n",
       " ('expanded', 1273),\n",
       " ('two', 1272),\n",
       " ('drain', 1249),\n",
       " ('median', 1238),\n",
       " ('mm', 1230),\n",
       " ('positioned', 1228),\n",
       " ('please', 1228),\n",
       " ('suggested', 1227),\n",
       " ('cleared', 1226),\n",
       " ('lesion', 1225),\n",
       " ('representing', 1220),\n",
       " ('via', 1212),\n",
       " ('pronounced', 1203),\n",
       " ('advised', 1201),\n",
       " ('diameter', 1199),\n",
       " ('discovery', 1198),\n",
       " ('absence', 1197),\n",
       " ('atrial', 1187),\n",
       " ('extubated', 1184),\n",
       " ('hours', 1180),\n",
       " ('specifically', 1180),\n",
       " ('clips', 1179),\n",
       " ('pneumomediastinum', 1179),\n",
       " ('between', 1175),\n",
       " ('hazy', 1172),\n",
       " ('much', 1171),\n",
       " ('entirely', 1168),\n",
       " ('-', 1168),\n",
       " ('consider', 1165),\n",
       " ('surgery', 1156),\n",
       " ('medial', 1155),\n",
       " ('transvenous', 1153),\n",
       " ('available', 1153),\n",
       " ('taken', 1150),\n",
       " ('described', 1149),\n",
       " ('engorged', 1146),\n",
       " ('aspect', 1139),\n",
       " ('presumed', 1138),\n",
       " ('distended', 1136),\n",
       " ('placed', 1122),\n",
       " ('infiltrates', 1115),\n",
       " ('progressed', 1094),\n",
       " ('x-ray', 1089),\n",
       " ('hila', 1088),\n",
       " ('malignancy', 1085),\n",
       " ('such', 1084),\n",
       " ('hyperinflation', 1081),\n",
       " ('old', 1080),\n",
       " ('valve', 1079),\n",
       " ('withdrawn', 1078),\n",
       " ('vertebral', 1072),\n",
       " ('ventilation', 1072),\n",
       " ('main', 1070),\n",
       " ('border', 1066),\n",
       " ('widened', 1065),\n",
       " ('dilated', 1057),\n",
       " ('treatment', 1057),\n",
       " ('worrisome', 1050),\n",
       " ('diagnosis', 1048),\n",
       " ('physician', 1042),\n",
       " ('tension', 1040),\n",
       " ('streaky', 1037),\n",
       " ('ge', 1033),\n",
       " ('dictation', 1033),\n",
       " ('crowding', 1033),\n",
       " ('dense', 1028),\n",
       " ('intubated', 1025),\n",
       " ('parts', 1024),\n",
       " ('brachiocephalic', 1011),\n",
       " ('gas', 996),\n",
       " ('hemi', 996),\n",
       " ('collection', 995),\n",
       " ('clearly', 990),\n",
       " ('involving', 989),\n",
       " ('part', 988),\n",
       " ('see', 987),\n",
       " ('adenopathy', 984),\n",
       " ('infrahilar', 984),\n",
       " ('stent', 971),\n",
       " ('results', 963),\n",
       " ('intact', 960),\n",
       " ('congestive', 958),\n",
       " ('especially', 957),\n",
       " ('regions', 957),\n",
       " ('cabg', 957),\n",
       " ('confluent', 954),\n",
       " ('markedly', 949),\n",
       " ('subsegmental', 947),\n",
       " ('partial', 947),\n",
       " ('calcification', 943),\n",
       " ('coiled', 942),\n",
       " ('gastroesophageal', 938),\n",
       " ('secondary', 937),\n",
       " ('tissue', 936),\n",
       " ('bronchial', 936),\n",
       " ('appeared', 936),\n",
       " ('remaining', 934),\n",
       " ('referring', 933),\n",
       " ('hilus', 923),\n",
       " ('hypertension', 922),\n",
       " ('small-to-moderate', 921),\n",
       " ('fibrosis', 920),\n",
       " ('longer', 920),\n",
       " ('surgical', 918),\n",
       " ('metastatic', 915),\n",
       " ('so', 915),\n",
       " ('decompensation', 915),\n",
       " ('high', 913),\n",
       " ('veins', 913),\n",
       " ('preceding', 913),\n",
       " ('rotation', 911),\n",
       " ('communicated', 909),\n",
       " ('supine', 904),\n",
       " ('alveolar', 904),\n",
       " ('elongation', 898),\n",
       " ('significantly', 898),\n",
       " ('almost', 893),\n",
       " ('redistribution', 889),\n",
       " ('addition', 889),\n",
       " ('conventional', 887),\n",
       " ('hyperexpansion', 887),\n",
       " ('next', 887),\n",
       " ('sinus', 882),\n",
       " ('fissure', 875),\n",
       " ('indistinctness', 873),\n",
       " ('space', 873),\n",
       " ('peribronchial', 871),\n",
       " ('raises', 868),\n",
       " ('had', 864),\n",
       " ('distribution', 862),\n",
       " ('degenerative', 856),\n",
       " ('appropriately', 855),\n",
       " ('detected', 854),\n",
       " ('differential', 853),\n",
       " ('rounded', 853),\n",
       " ('bronchus', 843),\n",
       " ('compression', 842),\n",
       " ('extending', 842),\n",
       " ('suspected', 841),\n",
       " ('lies', 837),\n",
       " ('gastric', 837),\n",
       " ('scoliosis', 835),\n",
       " ('even', 835),\n",
       " ('does', 834),\n",
       " ('calcifications', 831),\n",
       " ('observation', 827),\n",
       " ('weeks', 825),\n",
       " ('optimal', 822),\n",
       " ('atypical', 818),\n",
       " ('margin', 816),\n",
       " ('demonstrates', 815),\n",
       " ('field', 815),\n",
       " ('close', 812),\n",
       " ('near', 808),\n",
       " ('imaged', 807),\n",
       " ('review', 806),\n",
       " ('pneumoperitoneum', 806),\n",
       " ('whether', 804),\n",
       " ('follow-up', 802),\n",
       " ('procedure', 795),\n",
       " ('bronchovascular', 795),\n",
       " ('series', 792),\n",
       " ('show', 792),\n",
       " ('correlate', 786),\n",
       " ('bony', 786),\n",
       " ('indeterminate', 785),\n",
       " ('notification', 780),\n",
       " ('appreciably', 778),\n",
       " ('concurrent', 777),\n",
       " ('predominantly', 777),\n",
       " ('up', 771),\n",
       " ('presumably', 770),\n",
       " ('ill-defined', 769),\n",
       " ('minor', 767),\n",
       " ('resolving', 763),\n",
       " ('quadrant', 762),\n",
       " ('about', 762),\n",
       " (')', 760),\n",
       " ('days', 758),\n",
       " ('bowel', 757),\n",
       " ('abdominal', 757),\n",
       " ('alignment', 757),\n",
       " ('scan', 756),\n",
       " ('(', 754),\n",
       " ('aside', 751),\n",
       " ('convincing', 749),\n",
       " ('throughout', 742),\n",
       " ('beyond', 738),\n",
       " ('lymph', 737),\n",
       " ('tissues', 737),\n",
       " ('positions', 734),\n",
       " ('healed', 732),\n",
       " ('arch', 731),\n",
       " ('distention', 726),\n",
       " ('symptoms', 726),\n",
       " ('evaluate', 723),\n",
       " ('peripheral', 723),\n",
       " ('cervical', 723),\n",
       " ('focus', 721),\n",
       " ('caused', 716),\n",
       " ('inlet', 714),\n",
       " ('follow', 713),\n",
       " ('thyroid', 710),\n",
       " ('origin', 706),\n",
       " ('second', 705),\n",
       " ('courses', 703),\n",
       " ('laterally', 703),\n",
       " ('lucency', 701),\n",
       " ('definitive', 700),\n",
       " ('rather', 698),\n",
       " ('supervening', 695),\n",
       " ('collapsed', 695),\n",
       " ('drains', 695),\n",
       " ('vena', 694),\n",
       " ('bronchiectasis', 691),\n",
       " ('cava', 690),\n",
       " ('included', 689),\n",
       " ('suggestion', 687),\n",
       " ('inspiratory', 686),\n",
       " ('massive', 683),\n",
       " ('hemidiaphragms', 683),\n",
       " ('infusion', 679),\n",
       " ('repositioned', 678),\n",
       " ('remainder', 673),\n",
       " ('replaced', 673),\n",
       " ('poor', 672),\n",
       " ('active', 671),\n",
       " ('clearing', 671),\n",
       " ('oblique', 670),\n",
       " ('good', 670),\n",
       " ('site', 667),\n",
       " ('indwelling', 664),\n",
       " ('ribs', 661),\n",
       " ('angles', 659),\n",
       " ('accentuate', 656),\n",
       " ('particular', 655),\n",
       " ('attention', 654),\n",
       " ('caliber', 654),\n",
       " ('their', 650),\n",
       " ('merely', 650),\n",
       " ('arteries', 649),\n",
       " ('coursing', 646),\n",
       " ('relate', 645),\n",
       " ('projection', 639),\n",
       " ('satisfactory', 637),\n",
       " ('located', 632),\n",
       " ('dobhoff', 631),\n",
       " ('moderate-to-severe', 631),\n",
       " ('orogastric', 628),\n",
       " ('leftward', 627),\n",
       " ('transverse', 626),\n",
       " ('zones', 625),\n",
       " ('subsequently', 623),\n",
       " ('rotated', 617),\n",
       " ('bronchograms', 612),\n",
       " ('pathology', 610),\n",
       " ('minutes', 609),\n",
       " ('provided', 608),\n",
       " ('replacement', 607),\n",
       " ('lingula', 605),\n",
       " ('pattern', 604),\n",
       " ('fundus', 604),\n",
       " ('mitral', 602),\n",
       " ('doubt', 601),\n",
       " ('inferior', 601),\n",
       " ('need', 601),\n",
       " ('outside', 600),\n",
       " ('cta', 599),\n",
       " ('masses', 599),\n",
       " ('radiographically', 598),\n",
       " ('where', 595),\n",
       " ('azygos', 592),\n",
       " ('short-term', 590),\n",
       " ('dependent', 589),\n",
       " ('nearly', 585),\n",
       " ('posteriorly', 584),\n",
       " ('metastases', 583),\n",
       " ('progressive', 583),\n",
       " ('balloon', 580),\n",
       " ('defibrillator', 579),\n",
       " ('asymmetrical', 579),\n",
       " ('suspicious', 575),\n",
       " ('ascending', 574),\n",
       " ('supraclavicular', 574),\n",
       " ('indicated', 571),\n",
       " ('background', 568),\n",
       " ('ensure', 568),\n",
       " ('advancement', 564),\n",
       " ('scanning', 563),\n",
       " ('yesterday', 563),\n",
       " ('access', 563),\n",
       " ('hilum', 563),\n",
       " ('overinflation', 558),\n",
       " ('medially', 557),\n",
       " ('catheters', 557),\n",
       " ('deformity', 555),\n",
       " ('terminate', 551),\n",
       " ('largely', 551),\n",
       " ('document', 550),\n",
       " ('lesions', 550),\n",
       " ('perhaps', 548),\n",
       " ('fat', 547),\n",
       " ('loops', 544),\n",
       " ('obscuration', 541),\n",
       " ('tracheal', 541),\n",
       " ('accentuated', 540),\n",
       " ('nipple', 539),\n",
       " ('apices', 538),\n",
       " ('past', 537),\n",
       " ('wire', 537),\n",
       " ('intraperitoneal', 536),\n",
       " ('pump', 535),\n",
       " ('lingular', 534),\n",
       " ('esophagogastric', 533),\n",
       " ('nonspecific', 533),\n",
       " ('apparently', 532),\n",
       " ('shoulder', 532),\n",
       " ('hardware', 530),\n",
       " ('warranted', 528),\n",
       " ('raising', 525),\n",
       " ('axillary', 524),\n",
       " ('report', 523),\n",
       " ('proper', 522),\n",
       " ('dilatation', 522),\n",
       " ('suspicion', 522),\n",
       " ('asymmetry', 520),\n",
       " ('ett', 520),\n",
       " ('whose', 517),\n",
       " ('unclear', 515),\n",
       " ('vague', 509),\n",
       " ('etiology', 506),\n",
       " ('severely', 505),\n",
       " ('reported', 505),\n",
       " ('generator', 503),\n",
       " ('atelectases', 503),\n",
       " ('node', 501),\n",
       " ('situ', 500),\n",
       " ('sensitive', 500),\n",
       " ('trauma', 500),\n",
       " ('injury', 497),\n",
       " ('relative', 496),\n",
       " ('despite', 494),\n",
       " ('definition', 494),\n",
       " ('extubation', 493),\n",
       " ('clavicle', 493),\n",
       " ('basis', 493),\n",
       " ('sheath', 492),\n",
       " ('explain', 491),\n",
       " ('respectively', 488),\n",
       " ('hydropneumothorax', 486),\n",
       " ('then', 485),\n",
       " ('sharply', 485),\n",
       " ('indicative', 484),\n",
       " ('required', 484),\n",
       " ('diaphragmatic', 484),\n",
       " ('ards', 484),\n",
       " ('obvious', 483),\n",
       " ('exaggerated', 483),\n",
       " ('films', 481),\n",
       " ('thoracentesis', 477),\n",
       " ('includes', 477),\n",
       " ('third', 475),\n",
       " ('beneath', 475),\n",
       " ('platelike', 474),\n",
       " ('dialysis', 473),\n",
       " ('reticular', 472),\n",
       " ('clavicular', 472),\n",
       " ('quite', 472),\n",
       " ('dual-channel', 472),\n",
       " ('inflated', 471),\n",
       " ('external', 471),\n",
       " ('tuberculosis', 469),\n",
       " ('paratracheal', 467),\n",
       " ('intubation', 466),\n",
       " ('chin', 466),\n",
       " ('dual', 464),\n",
       " ('difference', 462),\n",
       " ('they', 462),\n",
       " ('re-', 461),\n",
       " ('redemonstrated', 460),\n",
       " ('vascularity', 460),\n",
       " ('pneumonic', 460),\n",
       " ('configuration', 459),\n",
       " ('diuresis', 459),\n",
       " ('fields', 459),\n",
       " ('repositioning', 458),\n",
       " ('fibrotic', 458),\n",
       " ('obscures', 458),\n",
       " ('midlung', 457),\n",
       " ('contrast', 455),\n",
       " ('insertion', 454),\n",
       " ('dr', 454),\n",
       " ('generally', 453),\n",
       " ('subdiaphragmatic', 450),\n",
       " ('recurrent', 448),\n",
       " ('interim', 448),\n",
       " ('inserted', 447),\n",
       " ('nondistended', 447),\n",
       " ('radiation', 447),\n",
       " ('rest', 446),\n",
       " ('demonstrate', 446),\n",
       " ('incidental', 445),\n",
       " ('hemodialysis', 445),\n",
       " ('potential', 444),\n",
       " ('towards', 443),\n",
       " ('resection', 443),\n",
       " ('complication', 443),\n",
       " ('being', 442),\n",
       " ('aligned', 440),\n",
       " ('structure', 440),\n",
       " ('characterized', 440),\n",
       " ('torso', 436),\n",
       " ('aerated', 434),\n",
       " ('segment', 432),\n",
       " ('hematoma', 432),\n",
       " ('read', 430),\n",
       " ('semi-upright', 429),\n",
       " ('characterization', 426),\n",
       " ('frank', 425),\n",
       " ('followed', 425),\n",
       " ('first', 425),\n",
       " ('coronary', 424),\n",
       " ('remarkable', 423),\n",
       " ('airway', 423),\n",
       " ('end', 422),\n",
       " ('undergone', 422),\n",
       " ('alternatively', 419),\n",
       " ('needs', 419),\n",
       " ('detail', 416),\n",
       " ('spinal', 416),\n",
       " ('decreasing', 415),\n",
       " ('continue', 415),\n",
       " ('therefore', 414),\n",
       " ('scattered', 412),\n",
       " ('extremely', 412),\n",
       " ('air-fluid', 411),\n",
       " ('what', 411),\n",
       " ('exam', 411),\n",
       " ('while', 411),\n",
       " ('densities', 410),\n",
       " ('far', 405),\n",
       " ('ending', 405),\n",
       " ('short', 404),\n",
       " ('clavicles', 404),\n",
       " ('osseous', 403),\n",
       " ('fullness', 402),\n",
       " ('effort', 401),\n",
       " ('knob', 401),\n",
       " ('lobectomy', 400),\n",
       " ...]"
      ]
     },
     "execution_count": 41,
     "metadata": {},
     "output_type": "execute_result"
    }
   ],
   "source": [
    "sorted([(k, v) for k, v in token_appearances.items()], key=lambda x: x[1], reverse=True)"
   ]
  },
  {
   "cell_type": "code",
   "execution_count": null,
   "metadata": {},
   "outputs": [],
   "source": []
  },
  {
   "cell_type": "code",
   "execution_count": 42,
   "metadata": {},
   "outputs": [
    {
     "data": {
      "text/plain": [
       "0"
      ]
     },
     "execution_count": 42,
     "metadata": {},
     "output_type": "execute_result"
    }
   ],
   "source": [
    "found = find_reports_with_tokens(r'\\# NUMBER')\n",
    "len(found)"
   ]
  },
  {
   "cell_type": "code",
   "execution_count": 88,
   "metadata": {},
   "outputs": [
    {
     "data": {
      "text/plain": [
       "{'study_id': 59977695,\n",
       " 'clean_text': 'bibasilar reticulonodular opacities , slightly decreased on the right and increased on the left compared to prior radiograph from xxxx , concerning for a multifocal infectious process . persistent rightward deviation of the trachea at the level of the clavicular heads , raising concern for right thyroid enlargement . if not already performed , a non-emergent thyroid ultrasound could provide further information . impression point # NUMBER was discussed with doctor xxxx by doctor xxxx at NUMBER via telephone on the day of the study .',\n",
       " 'text': '1.  Bibasilar reticulonodular opacities, slightly decreased on the right and\\n increased on the left compared to prior radiograph from ___,\\n concerning for a multifocal infectious process.\\n \\n 2.  Persistent rightward deviation of the trachea at the level of the\\n clavicular heads, raising concern for right thyroid enlargement.  If not\\n already performed, a non-emergent thyroid ultrasound could provide further\\n information.\\n \\n Impression point #1 was discussed with Dr. ___ by Dr. ___ at 3:50 p.m.\\n via telephone on the day of the study.'}"
      ]
     },
     "execution_count": 88,
     "metadata": {},
     "output_type": "execute_result"
    }
   ],
   "source": [
    "found[0]"
   ]
  },
  {
   "cell_type": "code",
   "execution_count": 47,
   "metadata": {
    "collapsed": true
   },
   "outputs": [
    {
     "data": {
      "text/plain": [
       "['.',\n",
       " ',',\n",
       " ':',\n",
       " '/',\n",
       " '(',\n",
       " ')',\n",
       " '-',\n",
       " ',?',\n",
       " '\"round\"',\n",
       " '%',\n",
       " '\\\\small',\n",
       " '?',\n",
       " '\"butterfly\"',\n",
       " \"'s\",\n",
       " ',.',\n",
       " '\"no',\n",
       " '\"water',\n",
       " '#',\n",
       " '?consolidation',\n",
       " '\"wedge',\n",
       " '\"',\n",
       " '\"chf',\n",
       " '\"apical',\n",
       " ',\"',\n",
       " '=',\n",
       " './',\n",
       " '~',\n",
       " '?atelectasis',\n",
       " '\"hairpin\"',\n",
       " '\"right',\n",
       " '\"worsening',\n",
       " '\"round',\n",
       " '&',\n",
       " '?small',\n",
       " \"'subclavian\",\n",
       " '`difficult',\n",
       " \"'wetread\",\n",
       " '%.',\n",
       " '-?',\n",
       " \"'\\\\s\",\n",
       " '\"second',\n",
       " '\\\\pneumonia',\n",
       " '\"spine',\n",
       " '.\"',\n",
       " '***',\n",
       " '?technical',\n",
       " '\"asthma\"',\n",
       " '\"nodule\"',\n",
       " '\"left',\n",
       " '\"patient',\n",
       " '\"new',\n",
       " '\"cardiac',\n",
       " '?calcified',\n",
       " '\"lymphadenopathy\"',\n",
       " '.\\\\',\n",
       " '+/-',\n",
       " '?right',\n",
       " '?to',\n",
       " ':follow',\n",
       " '.:',\n",
       " '\"bb\".',\n",
       " '\"ed',\n",
       " ':followup',\n",
       " '?mediastinal',\n",
       " '\"atypical\".',\n",
       " '\"saber-shaped\"',\n",
       " '\\\\with',\n",
       " '\"upright\"',\n",
       " '\"pagetoid\"',\n",
       " ',,',\n",
       " '?.',\n",
       " '*right',\n",
       " '?pulmonary',\n",
       " '\"pneumonia\"',\n",
       " '~NUMBER',\n",
       " '\\\\moderate',\n",
       " '?scarring',\n",
       " '=w']"
      ]
     },
     "execution_count": 47,
     "metadata": {},
     "output_type": "execute_result"
    }
   ],
   "source": [
    "[k for k in token_appearances.keys() if re.search(r'\\A\\W+', k)]"
   ]
  },
  {
   "cell_type": "code",
   "execution_count": null,
   "metadata": {},
   "outputs": [],
   "source": []
  },
  {
   "cell_type": "code",
   "execution_count": 43,
   "metadata": {},
   "outputs": [
    {
     "data": {
      "text/plain": [
       "[('inmoderate', 1),\n",
       " ('diaphragm:', 1),\n",
       " ('re-developed', 1),\n",
       " ('reflectiing', 1),\n",
       " ('osteoporotic?', 1),\n",
       " ('attributes', 1),\n",
       " ('telehpone', 1),\n",
       " ('arytenoid', 1),\n",
       " ('interrupting', 1),\n",
       " ('prompting', 1),\n",
       " ('magnets', 1),\n",
       " ('addedd', 1),\n",
       " ('finely', 1),\n",
       " ('ailment', 1),\n",
       " ('antibioic', 1),\n",
       " ('lsca', 1),\n",
       " ('subtends', 1),\n",
       " ('s-g', 1),\n",
       " ('proximalmost', 1),\n",
       " ('invariably', 1),\n",
       " ('chronologically', 1),\n",
       " ('imag', 1),\n",
       " ('ive', 1),\n",
       " ('chsst', 1),\n",
       " ('readiograph', 1),\n",
       " ('intussusception', 1),\n",
       " ('refect', 1),\n",
       " ('intraatrial', 1),\n",
       " ('mid-portion', 1),\n",
       " ('regardomg', 1),\n",
       " ('deployed', 1),\n",
       " ('consistence', 1),\n",
       " ('pheochromocytoma', 1),\n",
       " ('achieved:', 1),\n",
       " ('confounded', 1),\n",
       " ('severe:', 1),\n",
       " ('potentiallymight', 1),\n",
       " ('likely2', 1),\n",
       " ('bbibasilar', 1),\n",
       " ('follwing', 1),\n",
       " ('noncompliance', 1),\n",
       " ('pre-intubation', 1),\n",
       " ('intra-intrathoracic', 1),\n",
       " ('opacifaction', 1),\n",
       " ('fungemia', 1),\n",
       " ('opacityfor', 1),\n",
       " ('hemicolectomy', 1),\n",
       " ('possiblle', 1),\n",
       " ('clinnically', 1),\n",
       " ('hemangioma', 1),\n",
       " ('echinococcal', 1),\n",
       " ('possiby', 1),\n",
       " ('systole', 1),\n",
       " ('conglomerates', 1),\n",
       " ('normalaccentuated', 1),\n",
       " ('\"round\"', 1),\n",
       " ('sectioning', 1),\n",
       " ('perohilar', 1),\n",
       " ('collect', 1),\n",
       " ('deserving', 1),\n",
       " ('composition', 1),\n",
       " ('adetectable', 1),\n",
       " ('morgnani', 1),\n",
       " ('lkiely', 1),\n",
       " ('cupola', 1),\n",
       " ('thr', 1),\n",
       " ('primarly', 1),\n",
       " ('inter-', 1),\n",
       " ('supersedes', 1),\n",
       " ('officially', 1),\n",
       " ('transpleural', 1),\n",
       " ('cathether', 1),\n",
       " ('NUMBER?', 1),\n",
       " ('tamoxifen', 1),\n",
       " ('air-trapping', 1),\n",
       " ('hypretension', 1),\n",
       " ('reality', 1),\n",
       " ('advisability', 1),\n",
       " ('hereafter', 1),\n",
       " ('closed', 1),\n",
       " ('server', 1),\n",
       " ('\\\\small', 1),\n",
       " ('eeding', 1),\n",
       " ('crossover', 1),\n",
       " ('ventilating', 1),\n",
       " ('normality', 1),\n",
       " ('unquestionable', 1),\n",
       " ('leurx', 1),\n",
       " ('nterval', 1),\n",
       " ('effusion-related', 1),\n",
       " ('sacular', 1),\n",
       " ('cardio-conversion', 1),\n",
       " ('ulcers', 1),\n",
       " ('differntial', 1),\n",
       " ('discovering', 1),\n",
       " ('staphylococcal', 1),\n",
       " ('expander', 1),\n",
       " ('ventrally', 1),\n",
       " ('peribroncho', 1),\n",
       " ('dgenerative', 1),\n",
       " ('happen', 1),\n",
       " ('post-vats', 1),\n",
       " ('fistulization', 1),\n",
       " ('bovinum', 1),\n",
       " ('deformations', 1),\n",
       " ('plaural', 1),\n",
       " ('retro-cardiac', 1),\n",
       " ('ind', 1),\n",
       " ('green', 1),\n",
       " ('\"butterfly\"', 1),\n",
       " ('edeme', 1),\n",
       " ('commuted', 1),\n",
       " ('jugular-approach', 1),\n",
       " ('subclavian-approach', 1),\n",
       " ('subcapital', 1),\n",
       " ('dragging', 1),\n",
       " ('acutepulmonary', 1),\n",
       " ('en-face', 1),\n",
       " ('construction', 1),\n",
       " ('descriptions', 1),\n",
       " ('manufacturer', 1),\n",
       " ('appropariate', 1),\n",
       " ('commence', 1),\n",
       " ('fistulogr', 1),\n",
       " ('parathyroid', 1),\n",
       " ('pre-procedure', 1),\n",
       " ('circumstances:', 1),\n",
       " ('time?', 1),\n",
       " ('noon:', 1),\n",
       " ('casting', 1),\n",
       " ('repiratory', 1),\n",
       " ('re-ajustment', 1),\n",
       " ('tetralogy', 1),\n",
       " ('fallot', 1),\n",
       " ('consulting', 1),\n",
       " ('imunosuppressed', 1),\n",
       " ('recrudencense', 1),\n",
       " ('interfere', 1),\n",
       " ('shiftly', 1),\n",
       " ('amout', 1),\n",
       " ('short-time', 1),\n",
       " ('widths', 1),\n",
       " ('info', 1),\n",
       " ('contingently', 1),\n",
       " ('uppercase', 1),\n",
       " ('detectedin', 1),\n",
       " ('malformations', 1),\n",
       " ('pt', 1),\n",
       " ('valve-like', 1),\n",
       " ('overling', 1),\n",
       " ('prehilar', 1),\n",
       " ('full-circle', 1),\n",
       " ('cochest', 1),\n",
       " ('readings', 1),\n",
       " ('insiratory', 1),\n",
       " ('bso', 1),\n",
       " ('oldest', 1),\n",
       " ('acronym', 1),\n",
       " ('fx', 1),\n",
       " ('study2', 1),\n",
       " ('effusionand', 1),\n",
       " ('intert', 1),\n",
       " ('gestation', 1),\n",
       " ('fracturing', 1),\n",
       " ('bipolar', 1),\n",
       " ('maintenance', 1),\n",
       " ('excludable', 1),\n",
       " ('calcificationpersist', 1),\n",
       " ('arteriogr', 1),\n",
       " ('second-look', 1),\n",
       " ('receptionist', 1),\n",
       " ('abdomen-pelvis', 1),\n",
       " ('t11-t12', 1),\n",
       " ('proxiaml', 1),\n",
       " ('filament', 1),\n",
       " ('heals', 1),\n",
       " ('improvemnt', 1),\n",
       " ('tjis', 1),\n",
       " ('anteroseptal', 1),\n",
       " ('albumin', 1),\n",
       " ('pneumoperitoneumunder', 1),\n",
       " ('vomitting', 1),\n",
       " ('apycalthickening', 1),\n",
       " ('ctp', 1),\n",
       " ('herat', 1),\n",
       " ('add-on', 1),\n",
       " ('sclerotherapy', 1),\n",
       " ('study-ct', 1),\n",
       " ('consistenly', 1),\n",
       " ('gets', 1),\n",
       " ('meningioma', 1),\n",
       " ('anterolaterally', 1),\n",
       " ('moderately-large', 1),\n",
       " ('feasibility', 1),\n",
       " ('folowing', 1),\n",
       " ('pharyx', 1),\n",
       " ('searched', 1),\n",
       " ('radiation?', 1),\n",
       " ('testicular', 1),\n",
       " ('teratoma', 1),\n",
       " ('seeming', 1),\n",
       " ('inhibits', 1),\n",
       " ('basess', 1),\n",
       " ('flex', 1),\n",
       " ('brachio', 1),\n",
       " ('suggestiong', 1),\n",
       " ('mid-clavicular', 1),\n",
       " ('lymphadenpathy', 1),\n",
       " ('haemophilus', 1),\n",
       " ('tenuous', 1),\n",
       " ('mulitple', 1),\n",
       " ('muliple', 1),\n",
       " ('oasis', 1),\n",
       " ('admittedly', 1),\n",
       " ('signal', 1),\n",
       " ('fibroma', 1),\n",
       " ('metallic-type', 1),\n",
       " ('radio-density', 1),\n",
       " ('amalg', 1),\n",
       " ('correlatino', 1),\n",
       " ('policyclic', 1),\n",
       " ('accept', 1),\n",
       " ('ober', 1),\n",
       " ('NUMBERerd', 1),\n",
       " ('opacify', 1),\n",
       " ('nonobliqued', 1),\n",
       " ('scrutinized', 1),\n",
       " ('nfection', 1),\n",
       " ('coexists', 1),\n",
       " ('pneumo-', 1),\n",
       " ('degenerateive', 1),\n",
       " ('declined', 1),\n",
       " ('cinder', 1),\n",
       " ('underpentrated', 1),\n",
       " ('antero-apical', 1),\n",
       " ('a-cath', 1),\n",
       " ('coagulation', 1),\n",
       " ('intervale', 1),\n",
       " ('inferoposterior', 1),\n",
       " ('crit', 1),\n",
       " ('radiographed', 1),\n",
       " ('strangulate', 1),\n",
       " ('immunosuppressant', 1),\n",
       " ('stroma', 1),\n",
       " ('predominated', 1),\n",
       " ('internal-external', 1),\n",
       " ('sub-pulmonic', 1),\n",
       " ('regained', 1),\n",
       " ('plica', 1),\n",
       " ('re-checking', 1),\n",
       " ('analyses', 1),\n",
       " ('slowing', 1),\n",
       " ('post-abdominal', 1),\n",
       " ('comorbidities', 1),\n",
       " ('k', 1),\n",
       " ('malppositioned', 1),\n",
       " ('cholangiocarcinoma', 1),\n",
       " ('dextroscoliotic', 1),\n",
       " ('strands', 1),\n",
       " ('two-three', 1),\n",
       " ('fruitful', 1),\n",
       " ('stringy', 1),\n",
       " ('bowel-gas', 1),\n",
       " ('califications', 1),\n",
       " ('ghost', 1),\n",
       " ('lowert', 1),\n",
       " ('jumper', 1),\n",
       " ('imagine', 1),\n",
       " ('lunglucency', 1),\n",
       " ('adjustments', 1),\n",
       " ('difficulties?', 1),\n",
       " ('housing', 1),\n",
       " ('infrahihlar', 1),\n",
       " ('distractions', 1),\n",
       " ('terminats', 1),\n",
       " ('readjust', 1),\n",
       " ('sentence', 1),\n",
       " ('repreesent', 1),\n",
       " ('presen', 1),\n",
       " ('influent', 1),\n",
       " ('tablets', 1),\n",
       " ('subpneumonic', 1),\n",
       " ('cute', 1),\n",
       " ('non-anatomic', 1),\n",
       " ('rent', 1),\n",
       " ('contrasting', 1),\n",
       " ('submitting', 1),\n",
       " ('reread', 1),\n",
       " ('brackets', 1),\n",
       " ('holders', 1),\n",
       " ('lingul', 1),\n",
       " ('tuis', 1),\n",
       " ('unremarkably', 1),\n",
       " ('preferrably', 1),\n",
       " ('opacity\"', 1),\n",
       " ('manipulating', 1),\n",
       " ('dial', 1),\n",
       " ('grid', 1),\n",
       " ('iinternal', 1),\n",
       " ('encroaching', 1),\n",
       " ('\"water', 1),\n",
       " ('bottle\"', 1),\n",
       " ('dermal', 1),\n",
       " ('wax', 1),\n",
       " ('wane', 1),\n",
       " ('fecalization', 1),\n",
       " ('areindeterminate', 1),\n",
       " ('arthritic', 1),\n",
       " ('vlave', 1),\n",
       " ('cancellation', 1),\n",
       " ('aaccentuated', 1),\n",
       " ('sternomanobrial', 1),\n",
       " ('amiodarone-induced', 1),\n",
       " ('reference-', 1),\n",
       " ('specialist', 1),\n",
       " ('wedge-shape', 1),\n",
       " ('fissue', 1),\n",
       " ('adenocaricinoma', 1),\n",
       " ('mandibular', 1),\n",
       " ('findings?', 1),\n",
       " ('migrates', 1),\n",
       " ('laminated', 1),\n",
       " ('unibasal', 1),\n",
       " ('stretched', 1),\n",
       " ('signficantly', 1),\n",
       " ('comminute', 1),\n",
       " ('solves', 1),\n",
       " ('sabersheeth', 1),\n",
       " ('atelectasisand', 1),\n",
       " ('positined', 1),\n",
       " ('singel', 1),\n",
       " ('suspended', 1),\n",
       " ('desaturations', 1),\n",
       " ('credited', 1),\n",
       " ('?consolidation', 1),\n",
       " ('presisting', 1),\n",
       " ('inaccessible', 1),\n",
       " ('ludwig', 1),\n",
       " ('angina', 1),\n",
       " ('lungfield', 1),\n",
       " ('frozen', 1),\n",
       " ('fetal', 1),\n",
       " ('pillow', 1),\n",
       " ('tried', 1),\n",
       " ('recommendation:', 1),\n",
       " ('yes', 1),\n",
       " ('diarrheal', 1),\n",
       " ('combi', 1),\n",
       " ('possibilitiy', 1),\n",
       " ('multisegmental', 1),\n",
       " ('sublobar', 1),\n",
       " ('gibbus', 1),\n",
       " ('mildf', 1),\n",
       " ('arcs', 1),\n",
       " ('uncertainties', 1),\n",
       " ('encase', 1),\n",
       " ('model', 1),\n",
       " ('consilation', 1),\n",
       " ('modicum', 1),\n",
       " ('dissected', 1),\n",
       " ('fluid-level', 1),\n",
       " ('wavy', 1),\n",
       " ('rung', 1),\n",
       " ('endo-aortic', 1),\n",
       " ('transparencies', 1),\n",
       " ('accident', 1),\n",
       " ('mom', 1),\n",
       " ('nears', 1),\n",
       " ('arching', 1),\n",
       " ('inter-rib', 1),\n",
       " ('ammonium', 1),\n",
       " ('fixator', 1),\n",
       " ('smallpericarical', 1),\n",
       " ('hematogenously', 1),\n",
       " ('transbronchially', 1),\n",
       " ('reenters', 1),\n",
       " ('obscuraion', 1),\n",
       " ('studies:', 1),\n",
       " ('post-bullectomy', 1),\n",
       " ('post-pneumonic', 1),\n",
       " ('flecks', 1),\n",
       " ('angiogram', 1),\n",
       " ('demomsrated', 1),\n",
       " ('salivary', 1),\n",
       " ('alterated', 1),\n",
       " ('medialized', 1),\n",
       " ('dissection-', 1),\n",
       " ('litttle', 1),\n",
       " ('osteogenesis', 1),\n",
       " ('imperfecta', 1),\n",
       " ('profuse', 1),\n",
       " ('one-month', 1),\n",
       " ('ep', 1),\n",
       " ('bowel-containing', 1),\n",
       " ('exlcuded', 1),\n",
       " ('kerly', 1),\n",
       " ('lympangitic', 1),\n",
       " ('impression:left', 1),\n",
       " ('fishbone', 1),\n",
       " ('mysterious', 1),\n",
       " ('goals', 1),\n",
       " ('sir', 1),\n",
       " ('concentrates', 1),\n",
       " ('cardkiopulmonary', 1),\n",
       " ('shortness-of-breath', 1),\n",
       " ('rsolution', 1),\n",
       " ('inguinal', 1),\n",
       " ('brachiocepahlic', 1),\n",
       " ('pneumatic', 1),\n",
       " ('biopsy?', 1),\n",
       " ('abnormalitiesfree', 1),\n",
       " ('xr', 1),\n",
       " ('remarkably', 1),\n",
       " ('fluctuant', 1),\n",
       " ('proces', 1),\n",
       " ('herbal', 1),\n",
       " ('effacing', 1),\n",
       " ('overcrowding', 1),\n",
       " ('peribronchiovascular', 1),\n",
       " ('deteriorating', 1),\n",
       " ('intraparenchymally', 1),\n",
       " ('tube-', 1),\n",
       " ('radical', 1),\n",
       " ('ms4', 1),\n",
       " ('mycobacterical', 1),\n",
       " ('angio', 1),\n",
       " ('equivalently', 1),\n",
       " ('partially-layering', 1),\n",
       " ('forth', 1),\n",
       " ('classical', 1),\n",
       " ('converge', 1),\n",
       " ('vitamin', 1),\n",
       " ('distinctions', 1),\n",
       " ('obsecured', 1),\n",
       " ('clavical', 1),\n",
       " ('post-therapeutic', 1),\n",
       " ('theinterst', 1),\n",
       " ('itial', 1),\n",
       " ('impression:large', 1),\n",
       " ('allocated', 1),\n",
       " ('chunky', 1),\n",
       " ('insular', 1),\n",
       " ('conservative', 1),\n",
       " ('ap-only', 1),\n",
       " ('volunteered', 1),\n",
       " ('bi-', 1),\n",
       " ('re-assessing', 1),\n",
       " ('posterioly', 1),\n",
       " ('ventricule', 1),\n",
       " ('supervisor', 1),\n",
       " ('schedule', 1),\n",
       " ('strandlike', 1),\n",
       " ('reticulo-nodular', 1),\n",
       " ('comperessive', 1),\n",
       " ('tore', 1),\n",
       " ('enveloping', 1),\n",
       " ('extruded', 1),\n",
       " ('ies', 1),\n",
       " ('patien', 1),\n",
       " ('cereal', 1),\n",
       " ('navicular', 1),\n",
       " ('purported', 1),\n",
       " ('rewarding', 1),\n",
       " ('fluid-containing', 1),\n",
       " ('projection:', 1),\n",
       " ('remaininig', 1),\n",
       " ('post-bioptic', 1),\n",
       " ('alfa-', 1),\n",
       " ('mere', 1),\n",
       " ('unchangedthe', 1),\n",
       " ('bneath', 1),\n",
       " ('recolved', 1),\n",
       " ('spends', 1),\n",
       " ('position:', 1),\n",
       " ('procedure-related', 1),\n",
       " ('laminectomies', 1),\n",
       " ('antimicrobial', 1),\n",
       " ('stays', 1),\n",
       " ('distinctness', 1),\n",
       " ('re-evalute', 1),\n",
       " ('posteriolateral', 1),\n",
       " ('biv-icd', 1),\n",
       " ('iis', 1),\n",
       " ('\"wedge', 1),\n",
       " ('calficiations', 1),\n",
       " ('cross-table', 1),\n",
       " ('aleft', 1),\n",
       " ('cup', 1),\n",
       " ('obviate', 1),\n",
       " ('premature', 1),\n",
       " ('genu', 1),\n",
       " ('syrup', 1),\n",
       " ('focussed', 1),\n",
       " ('appreciates', 1),\n",
       " ('mediallyand', 1),\n",
       " ('hydrosyringomyelia', 1),\n",
       " ('resorptive', 1),\n",
       " ('dispalacement', 1),\n",
       " ('port-a-', 1),\n",
       " ('intra-bronchial', 1),\n",
       " ('evidnece', 1),\n",
       " ('overhead', 1),\n",
       " ('bx', 1),\n",
       " ('fluorographs', 1),\n",
       " ('tries', 1),\n",
       " ('seriousness', 1),\n",
       " ('inwards', 1),\n",
       " ('cardiopulmary', 1),\n",
       " ('cellular', 1),\n",
       " ('atleast', 1),\n",
       " ('pneumomediastium', 1),\n",
       " ('near-collapse', 1),\n",
       " ('phalanx', 1),\n",
       " ('title', 1),\n",
       " ('locates', 1),\n",
       " ('yesterdays', 1),\n",
       " ('cannnot', 1),\n",
       " ('self-extubated', 1),\n",
       " ('convenience', 1),\n",
       " ('motility', 1),\n",
       " ('tib', 1),\n",
       " ('supravalvular', 1),\n",
       " ('core-valve', 1),\n",
       " ('tranthcatheter', 1),\n",
       " ('phases', 1),\n",
       " ('cardiac-related', 1),\n",
       " ('eet', 1),\n",
       " ('svts', 1),\n",
       " ('pvcs', 1),\n",
       " ('lpartial', 1),\n",
       " ('iinfiltrate', 1),\n",
       " ('\"chf', 1),\n",
       " ('techique', 1),\n",
       " ('isimilar', 1),\n",
       " ('instrumented', 1),\n",
       " ('nonsmoker', 1),\n",
       " ('flu-like', 1),\n",
       " ('pheumonia', 1),\n",
       " ('fov', 1),\n",
       " ('chondral', 1),\n",
       " ('patient?', 1),\n",
       " ('_chest', 1),\n",
       " ('semi-linear', 1),\n",
       " ('clouded', 1),\n",
       " ('business', 1),\n",
       " ('align', 1),\n",
       " ('scan:', 1),\n",
       " ('emphysem', 1),\n",
       " ('retrocardial', 1),\n",
       " ('bettter', 1),\n",
       " ('affiliated', 1),\n",
       " ('nutrient', 1),\n",
       " ('poly', 1),\n",
       " ('convolution', 1),\n",
       " ('rib-series', 1),\n",
       " ('bb-marker', 1),\n",
       " ('\"apical', 1),\n",
       " ('terminatrd', 1),\n",
       " ('roux-en-y', 1),\n",
       " ('jonction', 1),\n",
       " ('jxn', 1),\n",
       " ('intervascular', 1),\n",
       " ('l5', 1),\n",
       " ('erosions', 1),\n",
       " ('fibroelastosis', 1),\n",
       " ('positivity', 1),\n",
       " ('misinterpretation', 1),\n",
       " ('atrophic', 1),\n",
       " ('nephro-ureteral', 1),\n",
       " ('symetrical', 1),\n",
       " ('ptbd', 1),\n",
       " ('re-advanced', 1),\n",
       " ('overcirculated', 1),\n",
       " ('effaces', 1),\n",
       " ('valley', 1),\n",
       " ('sterotomy', 1),\n",
       " ('mentally', 1),\n",
       " ('apicoventral', 1),\n",
       " ('yearly', 1),\n",
       " ('atectasis', 1),\n",
       " ('tirangular', 1),\n",
       " ('pigtailed', 1),\n",
       " ('goodpasture', 1),\n",
       " ('cardiopulmonry', 1),\n",
       " ('apropiate', 1),\n",
       " ('fleeting', 1),\n",
       " ('loffler', 1),\n",
       " ('juxta-', 1),\n",
       " ('recommenditions', 1),\n",
       " ('pararacheal', 1),\n",
       " ('polycystic', 1),\n",
       " ('love', 1),\n",
       " ('ijl', 1),\n",
       " ('strict', 1),\n",
       " ('flame-shaped', 1),\n",
       " ('redemosntration', 1),\n",
       " ('llowing', 1),\n",
       " ('atelectasiss', 1),\n",
       " ('infrapulmonary', 1),\n",
       " ('outstanding', 1),\n",
       " ('pulmonary-vascular', 1),\n",
       " ('confounding', 1),\n",
       " ('pulmonarial', 1),\n",
       " ('select', 1),\n",
       " ('prepped', 1),\n",
       " ('circulatory', 1),\n",
       " ('neurofibromatosis?', 1),\n",
       " ('decompressing', 1),\n",
       " ('abscessing', 1),\n",
       " ('alternance', 1),\n",
       " ('lymphadenopahty', 1),\n",
       " ('five-month', 1),\n",
       " ('hypervascularity', 1),\n",
       " ('rsv', 1),\n",
       " ('with2', 1),\n",
       " ('malignancies', 1),\n",
       " ('dealing', 1),\n",
       " ('hemi-arthroplasties', 1),\n",
       " ('dec', 1),\n",
       " ('minimally-present', 1),\n",
       " ('posteroinferior', 1),\n",
       " ('cerebrovascular', 1),\n",
       " ('voluminous', 1),\n",
       " ('negate', 1),\n",
       " ('midhemithorax', 1),\n",
       " ('unrecognizable', 1),\n",
       " ('oderate', 1),\n",
       " ('hyper-aeration', 1),\n",
       " ('diskitis-osteomyelitis', 1),\n",
       " ('upperexpanded', 1),\n",
       " ('employing', 1),\n",
       " ('tapers', 1),\n",
       " ('pulmoary', 1),\n",
       " ('hypercarbia', 1),\n",
       " ('exerting', 1),\n",
       " ('seatinig', 1),\n",
       " ('trabecula', 1),\n",
       " ('paget', 1),\n",
       " ('apicolaterally', 1),\n",
       " ('wired', 1),\n",
       " ('overlaod', 1),\n",
       " ('priro', 1),\n",
       " ('filma', 1),\n",
       " ('nowslightly', 1),\n",
       " ('urled', 1),\n",
       " ('diaphgragm', 1),\n",
       " ('rvc', 1),\n",
       " ('multi-fragment', 1),\n",
       " ('descriptive', 1),\n",
       " ('debris-filled', 1),\n",
       " ('plugging?', 1),\n",
       " ('wasd', 1),\n",
       " ('prolapsed', 1),\n",
       " ('acquisitions', 1),\n",
       " ('atelectasias', 1),\n",
       " ('calf', 1),\n",
       " ('abound', 1),\n",
       " ('gigantic', 1),\n",
       " ('para-mediastinal', 1),\n",
       " ('intubate', 1),\n",
       " ('sensitivityive', 1),\n",
       " ('periscapular', 1),\n",
       " ('dilitation', 1),\n",
       " ('?atelectasis', 1),\n",
       " ('non-functioning', 1),\n",
       " ('ventriculoseptal', 1),\n",
       " ('ling', 1),\n",
       " ('ocver', 1),\n",
       " ('overshadowing', 1),\n",
       " ('arelatively', 1),\n",
       " ('slighty', 1),\n",
       " ('thresholds', 1),\n",
       " ('poserior', 1),\n",
       " ('run', 1),\n",
       " ('voicemails', 1),\n",
       " ('carete', 1),\n",
       " ('dilate', 1),\n",
       " ('non-verified', 1),\n",
       " ('ns', 1),\n",
       " ('hypotension-induced', 1),\n",
       " ('ismid', 1),\n",
       " ('aveolar', 1),\n",
       " ('noprevious', 1),\n",
       " ('forced', 1),\n",
       " ('jaundice', 1),\n",
       " ('mrcp', 1),\n",
       " ('pathophysiologically', 1),\n",
       " ('stationary', 1),\n",
       " ('bifurcating', 1),\n",
       " ('findingswere', 1),\n",
       " ('product?', 1),\n",
       " ('routinely', 1),\n",
       " ('rows', 1),\n",
       " ('non-cavitary', 1),\n",
       " ('noncavitated', 1),\n",
       " ('cardiomedistinal', 1),\n",
       " ('regins', 1),\n",
       " ('coded', 1),\n",
       " ('extrapericardial', 1),\n",
       " ('loculared', 1),\n",
       " ('edffusion', 1),\n",
       " ('land', 1),\n",
       " ('wheezes', 1),\n",
       " ('bronchoconcentric', 1),\n",
       " ('geometry', 1),\n",
       " ('vessel-on-end', 1),\n",
       " ('instertial', 1),\n",
       " ('atelectaasis', 1),\n",
       " ('unchanged2', 1),\n",
       " ('stable:', 1),\n",
       " ('vavuloplasty', 1),\n",
       " ('family', 1),\n",
       " ('minimall', 1),\n",
       " ('tense', 1),\n",
       " ('propagating', 1),\n",
       " ('filaments', 1),\n",
       " ('sponges', 1),\n",
       " ('simlar', 1),\n",
       " ('redistrubtution', 1),\n",
       " ('themain', 1),\n",
       " ('enable', 1),\n",
       " ('assistance', 1),\n",
       " ('finger-in-glove', 1),\n",
       " ('ccc', 1),\n",
       " ('osteodestructive', 1),\n",
       " ('hct', 1),\n",
       " ('discerned', 1),\n",
       " ('chesty', 1),\n",
       " ('collection:', 1),\n",
       " ('mid-esophageal', 1),\n",
       " ('termianting', 1),\n",
       " ('organomegaly', 1),\n",
       " ('intersect', 1),\n",
       " ('abate', 1),\n",
       " ('unintentional', 1),\n",
       " ('equals', 1),\n",
       " ('translated', 1),\n",
       " ('withstanding', 1),\n",
       " ('keeps', 1),\n",
       " ('separable', 1),\n",
       " ('incident', 1),\n",
       " ('buttressing', 1),\n",
       " ('attributing', 1),\n",
       " ('abduct', 1),\n",
       " ('neurological', 1),\n",
       " ('staus', 1),\n",
       " ('type-tube', 1),\n",
       " ('supposed', 1),\n",
       " ('thesuperior', 1),\n",
       " ('sonde', 1),\n",
       " ('inutes', 1),\n",
       " ('escape', 1),\n",
       " ('ring-shadow', 1),\n",
       " ('portacaththat', 1),\n",
       " ('substantial:', 1),\n",
       " ('whetherthe', 1),\n",
       " ('boop', 1),\n",
       " ('stopped', 1),\n",
       " ('ean', 1),\n",
       " ('semi-invasive', 1),\n",
       " ('unchnaged', 1),\n",
       " ('palpitation', 1),\n",
       " ('anuerysm', 1),\n",
       " ('media', 1),\n",
       " ('biabasilar', 1),\n",
       " ('overlied', 1),\n",
       " ('superinfected', 1),\n",
       " ('intra-alveolar', 1),\n",
       " ('osteal', 1),\n",
       " ('lysis', 1),\n",
       " ('bronchcoscopy', 1),\n",
       " ('diff', 1),\n",
       " ('behalf', 1),\n",
       " ('resistant', 1),\n",
       " ('iodinated', 1),\n",
       " ('nopnemergent', 1),\n",
       " ('hemidiaphrags', 1),\n",
       " ('non-', 1),\n",
       " ('conosoidation', 1),\n",
       " ('mamillary', 1),\n",
       " ('dobhof', 1),\n",
       " ('snce', 1),\n",
       " ('perinatal', 1),\n",
       " ('toxemia', 1),\n",
       " ('bilaterals', 1),\n",
       " ('qualities', 1),\n",
       " ('pumonry', 1),\n",
       " ('hyerinflation', 1),\n",
       " ('max', 1),\n",
       " ('norm', 1),\n",
       " ('expectable', 1),\n",
       " ('designations', 1),\n",
       " ('radigraphs', 1),\n",
       " ('iwith', 1),\n",
       " ('nonfunctional', 1),\n",
       " ('decsribed', 1),\n",
       " ('buried', 1),\n",
       " ('persisten', 1),\n",
       " ('mid2', 1),\n",
       " ('sillhouete', 1),\n",
       " ('infiltates', 1),\n",
       " ('difficult-to-see', 1),\n",
       " ('perileisonal', 1),\n",
       " ('plate-shaped', 1),\n",
       " ('brown', 1),\n",
       " ('non-enlarged', 1),\n",
       " ('successively', 1),\n",
       " ('lens', 1),\n",
       " ('psudo', 1),\n",
       " ('effectiveness', 1),\n",
       " ('presumotively', 1),\n",
       " ('shapes', 1),\n",
       " ('raiss', 1),\n",
       " ('pulmon', 1),\n",
       " ('re-istribution', 1),\n",
       " ('subsolid', 1),\n",
       " ('multilobulated', 1),\n",
       " ('infarcted', 1),\n",
       " ('viscera', 1),\n",
       " ('mal-placed', 1),\n",
       " ('largepneumothorax', 1),\n",
       " ('multi-cavitary', 1),\n",
       " ('noncavitary', 1),\n",
       " ('dominate', 1),\n",
       " ('betters', 1),\n",
       " ('freshly', 1),\n",
       " ('tolerating', 1),\n",
       " ('unexpectedly', 1),\n",
       " ('airway-centric', 1),\n",
       " ('recomend', 1),\n",
       " ('multivalcular', 1),\n",
       " ('stom', 1),\n",
       " ('retarding', 1),\n",
       " ('mild-to-distal', 1),\n",
       " ('moerate', 1),\n",
       " ('burder', 1),\n",
       " ('non-typical', 1),\n",
       " ('hemostats', 1),\n",
       " ('lateromedially', 1),\n",
       " ('adenitis', 1),\n",
       " ('narrower', 1),\n",
       " ('pertaining', 1),\n",
       " ('ardiomegaly', 1),\n",
       " ('medial-upward', 1),\n",
       " ('abscene', 1),\n",
       " ('leftventricle', 1),\n",
       " ('thuis', 1),\n",
       " ('abduction', 1),\n",
       " ('collar', 1),\n",
       " ('mediastinum2', 1),\n",
       " ('side-ports', 1),\n",
       " ('knuckle', 1),\n",
       " ('waiting', 1),\n",
       " ('ld', 1),\n",
       " ('tough', 1),\n",
       " ('neurovascular', 1),\n",
       " ('contributor', 1),\n",
       " ('maintaining', 1),\n",
       " ('side-to-side', 1),\n",
       " ('sub-clinical', 1),\n",
       " ('garment', 1),\n",
       " ('convoluted', 1),\n",
       " ('newly-apparent', 1),\n",
       " ('postinsertion', 1),\n",
       " ('rim-like', 1),\n",
       " ('pneumocosis', 1),\n",
       " ('silicosis', 1),\n",
       " ('however-', 1),\n",
       " ('printed', 1),\n",
       " ('affective', 1),\n",
       " ('extennsive', 1),\n",
       " ('apperas', 1),\n",
       " ('threre', 1),\n",
       " ('interstitum', 1),\n",
       " ('juxtafissural', 1),\n",
       " ('unquestioned', 1),\n",
       " ('otheracute', 1),\n",
       " ('bone-on-bone', 1),\n",
       " ('decompresses', 1),\n",
       " ('dishiscence', 1),\n",
       " ('gas-forming', 1),\n",
       " ('six-week', 1),\n",
       " ('ruq', 1),\n",
       " ('iincreased', 1),\n",
       " ('admixed', 1),\n",
       " ('likelyhood', 1),\n",
       " ('mediastinoscopy-related', 1),\n",
       " ('diagphr', 1),\n",
       " ('postulated', 1),\n",
       " ('edit', 1),\n",
       " ('less-well-seen', 1),\n",
       " ('heaves', 1),\n",
       " ('double-barrel', 1),\n",
       " ('disproportional', 1),\n",
       " ('incriminated', 1),\n",
       " ('reconstructed', 1),\n",
       " ('isunchanged', 1),\n",
       " ('summed', 1),\n",
       " ('hiv-related', 1),\n",
       " ('\"hairpin\"', 1),\n",
       " ('technique:', 1),\n",
       " ('expansive', 1),\n",
       " ('aroto-pulmonary', 1),\n",
       " ('repersenting', 1),\n",
       " ('aspiraiton', 1),\n",
       " ('superseding', 1),\n",
       " ('subclavicular', 1),\n",
       " ('words', 1),\n",
       " ('laryngoscopy', 1),\n",
       " ('para-parenchymal', 1),\n",
       " ('termiantes', 1),\n",
       " ('nonatelectatic', 1),\n",
       " ('non-atelectatic', 1),\n",
       " ('rekated', 1),\n",
       " ('restored', 1),\n",
       " ('atelectatsis', 1),\n",
       " ('represet', 1),\n",
       " ('extrapleurally', 1),\n",
       " ('immaterial', 1),\n",
       " ('hematothorax', 1),\n",
       " ('lateromedial', 1),\n",
       " ('perhilar', 1),\n",
       " ('apropriate', 1),\n",
       " ('linx', 1),\n",
       " ('desne', 1),\n",
       " ('moderal', 1),\n",
       " ('orientated', 1),\n",
       " ('ilateral', 1),\n",
       " ('misaligned', 1),\n",
       " ('cardiompulmonary', 1),\n",
       " ('promimance', 1),\n",
       " ('wered', 1),\n",
       " ('iscussed', 1),\n",
       " ('pleuro-parenchymal', 1),\n",
       " ('hyperinf', 1),\n",
       " ('radiogr', 1),\n",
       " ('\"right', 1),\n",
       " ('infection\"', 1),\n",
       " ('\"worsening', 1),\n",
       " ('abnormality\"', 1),\n",
       " ('scarrning', 1),\n",
       " ('mornings', 1),\n",
       " ('bouleus', 1),\n",
       " ('perdominantly', 1),\n",
       " ('ccd', 1),\n",
       " ('moderalte', 1),\n",
       " ('respirational', 1),\n",
       " ('ileectomy', 1),\n",
       " ('sequences', 1),\n",
       " ('melp', 1),\n",
       " ('interrogated', 1),\n",
       " ('slices', 1),\n",
       " ('prelim', 1),\n",
       " ('post-transbronchial', 1),\n",
       " ('epiphrenic', 1),\n",
       " ('ronchial', 1),\n",
       " ('fibers', 1),\n",
       " ('qestion', 1),\n",
       " ('destructed', 1),\n",
       " ('purposefully', 1),\n",
       " ('logo', 1),\n",
       " ('enumeration', 1),\n",
       " ('incapable', 1),\n",
       " ('findin', 1),\n",
       " ('demonstratestr', 1),\n",
       " ('exacerabation', 1),\n",
       " ('posterior-lateral', 1),\n",
       " ('ulmonary', 1),\n",
       " ('briefly', 1),\n",
       " ('intervcal', 1),\n",
       " ('lymphangioleiomyomatosis', 1),\n",
       " ('lymphangiomyomatosis', 1),\n",
       " ('abnormalies', 1),\n",
       " ('tortuos', 1),\n",
       " ('subscapularis', 1),\n",
       " ('under-ventilation', 1),\n",
       " ('immunosupression', 1),\n",
       " ('waveform', 1),\n",
       " ('midabdomen', 1),\n",
       " ('precarious', 1),\n",
       " ('reconsidered', 1),\n",
       " ('earlier:', 1),\n",
       " ('genuinely', 1),\n",
       " ('hemidiaphgram', 1),\n",
       " ('moderate-to-moderately-large', 1),\n",
       " ('begins', 1),\n",
       " ('medications', 1),\n",
       " ('dilantin', 1),\n",
       " ('subcutaneously', 1),\n",
       " ('preview', 1),\n",
       " ('colapse', 1),\n",
       " ('reporitng', 1),\n",
       " ('NUMBERg', 1),\n",
       " ('worsenining', 1),\n",
       " ('\"round', 1),\n",
       " ('reduncancy', 1),\n",
       " ('ambiguity', 1),\n",
       " ('frequent', 1),\n",
       " ('fa10', 1),\n",
       " ('suggestingbronchitis', 1),\n",
       " ...]"
      ]
     },
     "execution_count": 43,
     "metadata": {},
     "output_type": "execute_result"
    }
   ],
   "source": [
    "sorted([(k, v) for k, v in token_appearances.items()], key=lambda x: x[1])"
   ]
  },
  {
   "cell_type": "code",
   "execution_count": null,
   "metadata": {},
   "outputs": [],
   "source": []
  },
  {
   "cell_type": "markdown",
   "metadata": {
    "heading_collapsed": true
   },
   "source": [
    "## Calculate mean and std"
   ]
  },
  {
   "cell_type": "code",
   "execution_count": null,
   "metadata": {
    "hidden": true
   },
   "outputs": [],
   "source": [
    "%run ../mimic_cxr.py\n",
    "%run ../../utils/images.py"
   ]
  },
  {
   "cell_type": "code",
   "execution_count": null,
   "metadata": {
    "hidden": true
   },
   "outputs": [],
   "source": [
    "fpath = os.path.join(DATASET_DIR, 'master_metadata.csv')\n",
    "d = pd.read_csv(fpath)\n",
    "d = d.loc[d['split'] == 'train']\n",
    "train_images = list(d['image_fpath'].unique())\n",
    "len(train_images)"
   ]
  },
  {
   "cell_type": "code",
   "execution_count": null,
   "metadata": {
    "hidden": true
   },
   "outputs": [],
   "source": [
    "image_folder = os.path.join(DATASET_DIR, 'images')"
   ]
  },
  {
   "cell_type": "code",
   "execution_count": null,
   "metadata": {
    "hidden": true
   },
   "outputs": [],
   "source": [
    "%%capture output\n",
    "%%time\n",
    "\n",
    "mean, std = compute_mean_std(ImageFolderIterator(image_folder, train_images), show=True)\n",
    "mean, std"
   ]
  },
  {
   "cell_type": "code",
   "execution_count": null,
   "metadata": {
    "hidden": true
   },
   "outputs": [],
   "source": [
    "mean, std"
   ]
  },
  {
   "cell_type": "code",
   "execution_count": null,
   "metadata": {
    "hidden": true
   },
   "outputs": [],
   "source": []
  },
  {
   "cell_type": "markdown",
   "metadata": {},
   "source": [
    "## Sentence2organ"
   ]
  },
  {
   "cell_type": "code",
   "execution_count": 1,
   "metadata": {},
   "outputs": [],
   "source": [
    "import json"
   ]
  },
  {
   "cell_type": "code",
   "execution_count": 15,
   "metadata": {},
   "outputs": [],
   "source": [
    "%run ../mimic_cxr.py\n",
    "%run ../common/sentences2organs/compute.py\n",
    "%run ../common/constants.py\n",
    "%run ../../utils/nlp.py"
   ]
  },
  {
   "cell_type": "code",
   "execution_count": 5,
   "metadata": {},
   "outputs": [
    {
     "data": {
      "text/plain": [
       "227827"
      ]
     },
     "execution_count": 5,
     "metadata": {},
     "output_type": "execute_result"
    }
   ],
   "source": [
    "reports_fname = os.path.join(DATASET_DIR, 'reports', 'reports.clean.v1.json')\n",
    "with open(reports_fname, 'r') as f:\n",
    "    reports = list(json.load(f).values())\n",
    "len(reports)"
   ]
  },
  {
   "cell_type": "code",
   "execution_count": 6,
   "metadata": {},
   "outputs": [
    {
     "data": {
      "text/plain": [
       "361267"
      ]
     },
     "execution_count": 6,
     "metadata": {},
     "output_type": "execute_result"
    }
   ],
   "source": [
    "sentences_appears = get_sentences_appearances(r['clean_text'] for r in reports)\n",
    "sentences = list(sentences_appears)\n",
    "len(sentences)"
   ]
  },
  {
   "cell_type": "code",
   "execution_count": 7,
   "metadata": {},
   "outputs": [
    {
     "data": {
      "text/plain": [
       "700519"
      ]
     },
     "execution_count": 7,
     "metadata": {},
     "output_type": "execute_result"
    }
   ],
   "source": [
    "total_appearances = sum(sentences_appears.values())\n",
    "total_appearances"
   ]
  },
  {
   "cell_type": "code",
   "execution_count": 16,
   "metadata": {},
   "outputs": [
    {
     "data": {
      "application/vnd.jupyter.widget-view+json": {
       "model_id": "48e5c6684fe74b94985abd34b2ad2c95",
       "version_major": 2,
       "version_minor": 0
      },
      "text/plain": [
       "  0%|          | 0/361267 [00:00<?, ?it/s]"
      ]
     },
     "metadata": {},
     "output_type": "display_data"
    },
    {
     "data": {
      "text/plain": [
       "(361267, 52686)"
      ]
     },
     "execution_count": 16,
     "metadata": {},
     "output_type": "execute_result"
    }
   ],
   "source": [
    "organs_for_sentences, errors = find_organs_for_sentences(sentences, show=True)\n",
    "len(organs_for_sentences), len(errors['all-empty'])"
   ]
  },
  {
   "cell_type": "code",
   "execution_count": 17,
   "metadata": {},
   "outputs": [
    {
     "data": {
      "text/html": [
       "<div>\n",
       "<style scoped>\n",
       "    .dataframe tbody tr th:only-of-type {\n",
       "        vertical-align: middle;\n",
       "    }\n",
       "\n",
       "    .dataframe tbody tr th {\n",
       "        vertical-align: top;\n",
       "    }\n",
       "\n",
       "    .dataframe thead th {\n",
       "        text-align: right;\n",
       "    }\n",
       "</style>\n",
       "<table border=\"1\" class=\"dataframe\">\n",
       "  <thead>\n",
       "    <tr style=\"text-align: right;\">\n",
       "      <th></th>\n",
       "      <th>sentences</th>\n",
       "      <th>background</th>\n",
       "      <th>heart</th>\n",
       "      <th>right lung</th>\n",
       "      <th>left lung</th>\n",
       "    </tr>\n",
       "  </thead>\n",
       "  <tbody>\n",
       "    <tr>\n",
       "      <th>0</th>\n",
       "      <td>no acute intrathoracic process .</td>\n",
       "      <td>0</td>\n",
       "      <td>1</td>\n",
       "      <td>1</td>\n",
       "      <td>1</td>\n",
       "    </tr>\n",
       "    <tr>\n",
       "      <th>1</th>\n",
       "      <td>no acute cardiopulmonary process .</td>\n",
       "      <td>0</td>\n",
       "      <td>1</td>\n",
       "      <td>1</td>\n",
       "      <td>1</td>\n",
       "    </tr>\n",
       "    <tr>\n",
       "      <th>2</th>\n",
       "      <td>no acute cardiopulmonary abnormality .</td>\n",
       "      <td>0</td>\n",
       "      <td>1</td>\n",
       "      <td>1</td>\n",
       "      <td>1</td>\n",
       "    </tr>\n",
       "    <tr>\n",
       "      <th>3</th>\n",
       "      <td>focal consolidation at the left lung base , po...</td>\n",
       "      <td>0</td>\n",
       "      <td>0</td>\n",
       "      <td>0</td>\n",
       "      <td>1</td>\n",
       "    </tr>\n",
       "    <tr>\n",
       "      <th>4</th>\n",
       "      <td>central vascular engorgement .</td>\n",
       "      <td>0</td>\n",
       "      <td>1</td>\n",
       "      <td>1</td>\n",
       "      <td>1</td>\n",
       "    </tr>\n",
       "  </tbody>\n",
       "</table>\n",
       "</div>"
      ],
      "text/plain": [
       "                                           sentences  background  heart  \\\n",
       "0                   no acute intrathoracic process .           0      1   \n",
       "1                 no acute cardiopulmonary process .           0      1   \n",
       "2             no acute cardiopulmonary abnormality .           0      1   \n",
       "3  focal consolidation at the left lung base , po...           0      0   \n",
       "4                     central vascular engorgement .           0      1   \n",
       "\n",
       "   right lung  left lung  \n",
       "0           1          1  \n",
       "1           1          1  \n",
       "2           1          1  \n",
       "3           0          1  \n",
       "4           1          1  "
      ]
     },
     "execution_count": 17,
     "metadata": {},
     "output_type": "execute_result"
    }
   ],
   "source": [
    "mimic_df = pd.DataFrame(organs_for_sentences, columns=JSRT_ORGANS)\n",
    "mimic_df['sentences'] = sentences\n",
    "mimic_df = mimic_df[['sentences'] + JSRT_ORGANS]\n",
    "mimic_df.head()"
   ]
  },
  {
   "cell_type": "code",
   "execution_count": null,
   "metadata": {},
   "outputs": [],
   "source": []
  },
  {
   "cell_type": "markdown",
   "metadata": {
    "heading_collapsed": true
   },
   "source": [
    "### Check empty ones"
   ]
  },
  {
   "cell_type": "code",
   "execution_count": 18,
   "metadata": {
    "hidden": true
   },
   "outputs": [
    {
     "data": {
      "text/plain": [
       "('115,276', '700,519', '16%')"
      ]
     },
     "execution_count": 18,
     "metadata": {},
     "output_type": "execute_result"
    }
   ],
   "source": [
    "error_appearances = {\n",
    "    sentence: sentences_appears[sentence]\n",
    "    for sentence in errors['all-empty']\n",
    "}\n",
    "n_errors = sum(error_appearances.values())\n",
    "perc = n_errors / total_appearances * 100\n",
    "f'{n_errors:,}', f'{total_appearances:,}', f'{perc:.0f}%'"
   ]
  },
  {
   "cell_type": "code",
   "execution_count": 19,
   "metadata": {
    "hidden": true
   },
   "outputs": [
    {
     "data": {
      "text/plain": [
       "[('comparison to xxxx .', 3491),\n",
       " ('as compared to the previous radiograph , there is no relevant change .',\n",
       "  1873),\n",
       " ('as compared to the previous radiograph , no relevant change is seen .',\n",
       "  1560),\n",
       " ('no evidence of acute disease .', 1333),\n",
       " ('no previous images .', 1257),\n",
       " ('portable ap radiograph of the chest was reviewed in comparison to xxxx .',\n",
       "  1229),\n",
       " ('normal chest radiograph .', 1156),\n",
       " ('compared to chest radiographs xxxx through xxxx .', 1057),\n",
       " ('pa and lateral upright chest radiographs were reviewed in comparison to xxxx .',\n",
       "  818),\n",
       " ('no significant interval change .', 792)]"
      ]
     },
     "execution_count": 19,
     "metadata": {},
     "output_type": "execute_result"
    }
   ],
   "source": [
    "l = sorted(error_appearances.items(), key=lambda x: x[1], reverse=True)\n",
    "l[:10]"
   ]
  },
  {
   "cell_type": "code",
   "execution_count": null,
   "metadata": {
    "hidden": true
   },
   "outputs": [],
   "source": []
  },
  {
   "cell_type": "markdown",
   "metadata": {},
   "source": [
    "### Save sentence2organ in file"
   ]
  },
  {
   "cell_type": "code",
   "execution_count": 20,
   "metadata": {},
   "outputs": [],
   "source": [
    "%run ../../utils/__init__.py\n",
    "%run ../common/constants.py"
   ]
  },
  {
   "cell_type": "code",
   "execution_count": 28,
   "metadata": {},
   "outputs": [],
   "source": [
    "from medai.datasets.iu_xray import DATASET_DIR as IU_DATASET_DIR"
   ]
  },
  {
   "cell_type": "code",
   "execution_count": 30,
   "metadata": {},
   "outputs": [
    {
     "data": {
      "text/html": [
       "<div>\n",
       "<style scoped>\n",
       "    .dataframe tbody tr th:only-of-type {\n",
       "        vertical-align: middle;\n",
       "    }\n",
       "\n",
       "    .dataframe tbody tr th {\n",
       "        vertical-align: top;\n",
       "    }\n",
       "\n",
       "    .dataframe thead th {\n",
       "        text-align: right;\n",
       "    }\n",
       "</style>\n",
       "<table border=\"1\" class=\"dataframe\">\n",
       "  <thead>\n",
       "    <tr style=\"text-align: right;\">\n",
       "      <th></th>\n",
       "      <th>sentences</th>\n",
       "      <th>background</th>\n",
       "      <th>heart</th>\n",
       "      <th>right lung</th>\n",
       "      <th>left lung</th>\n",
       "    </tr>\n",
       "  </thead>\n",
       "  <tbody>\n",
       "    <tr>\n",
       "      <th>0</th>\n",
       "      <td>the cardiac silhouette and mediastinum size ar...</td>\n",
       "      <td>0</td>\n",
       "      <td>1</td>\n",
       "      <td>0</td>\n",
       "      <td>0</td>\n",
       "    </tr>\n",
       "    <tr>\n",
       "      <th>1</th>\n",
       "      <td>there is no pulmonary edema .</td>\n",
       "      <td>0</td>\n",
       "      <td>0</td>\n",
       "      <td>1</td>\n",
       "      <td>1</td>\n",
       "    </tr>\n",
       "    <tr>\n",
       "      <th>2</th>\n",
       "      <td>there is no focal consolidation .</td>\n",
       "      <td>0</td>\n",
       "      <td>0</td>\n",
       "      <td>1</td>\n",
       "      <td>1</td>\n",
       "    </tr>\n",
       "    <tr>\n",
       "      <th>3</th>\n",
       "      <td>there are no xxxx of a pleural effusion .</td>\n",
       "      <td>0</td>\n",
       "      <td>0</td>\n",
       "      <td>1</td>\n",
       "      <td>1</td>\n",
       "    </tr>\n",
       "    <tr>\n",
       "      <th>4</th>\n",
       "      <td>there is no evidence of pneumothorax .</td>\n",
       "      <td>0</td>\n",
       "      <td>0</td>\n",
       "      <td>1</td>\n",
       "      <td>1</td>\n",
       "    </tr>\n",
       "  </tbody>\n",
       "</table>\n",
       "</div>"
      ],
      "text/plain": [
       "                                           sentences  background  heart  \\\n",
       "0  the cardiac silhouette and mediastinum size ar...           0      1   \n",
       "1                      there is no pulmonary edema .           0      0   \n",
       "2                  there is no focal consolidation .           0      0   \n",
       "3          there are no xxxx of a pleural effusion .           0      0   \n",
       "4             there is no evidence of pneumothorax .           0      0   \n",
       "\n",
       "   right lung  left lung  \n",
       "0           0          0  \n",
       "1           1          1  \n",
       "2           1          1  \n",
       "3           1          1  \n",
       "4           1          1  "
      ]
     },
     "execution_count": 30,
     "metadata": {},
     "output_type": "execute_result"
    }
   ],
   "source": [
    "fpath = os.path.join(IU_DATASET_DIR, 'reports', 'sentences_with_organs_OLD.csv')\n",
    "iu_df = pd.read_csv(fpath)\n",
    "iu_df.head()"
   ]
  },
  {
   "cell_type": "code",
   "execution_count": 33,
   "metadata": {},
   "outputs": [
    {
     "data": {
      "text/plain": [
       "(367706, 367706)"
      ]
     },
     "execution_count": 33,
     "metadata": {},
     "output_type": "execute_result"
    }
   ],
   "source": [
    "final_df = iu_df.append(mimic_df, ignore_index=True)\n",
    "len(final_df), len(iu_df) + len(mimic_df)"
   ]
  },
  {
   "cell_type": "code",
   "execution_count": 34,
   "metadata": {},
   "outputs": [
    {
     "name": "stdout",
     "output_type": "stream",
     "text": [
      "366951\n"
     ]
    },
    {
     "data": {
      "text/html": [
       "<div>\n",
       "<style scoped>\n",
       "    .dataframe tbody tr th:only-of-type {\n",
       "        vertical-align: middle;\n",
       "    }\n",
       "\n",
       "    .dataframe tbody tr th {\n",
       "        vertical-align: top;\n",
       "    }\n",
       "\n",
       "    .dataframe thead th {\n",
       "        text-align: right;\n",
       "    }\n",
       "</style>\n",
       "<table border=\"1\" class=\"dataframe\">\n",
       "  <thead>\n",
       "    <tr style=\"text-align: right;\">\n",
       "      <th></th>\n",
       "      <th>sentences</th>\n",
       "      <th>background</th>\n",
       "      <th>heart</th>\n",
       "      <th>right lung</th>\n",
       "      <th>left lung</th>\n",
       "    </tr>\n",
       "  </thead>\n",
       "  <tbody>\n",
       "    <tr>\n",
       "      <th>0</th>\n",
       "      <td>&amp;lt , the heart size and cardiomediastinal sil...</td>\n",
       "      <td>0</td>\n",
       "      <td>1</td>\n",
       "      <td>0</td>\n",
       "      <td>0</td>\n",
       "    </tr>\n",
       "    <tr>\n",
       "      <th>1</th>\n",
       "      <td>.</td>\n",
       "      <td>1</td>\n",
       "      <td>1</td>\n",
       "      <td>1</td>\n",
       "      <td>1</td>\n",
       "    </tr>\n",
       "    <tr>\n",
       "      <th>2</th>\n",
       "      <td>NUMBER ) .</td>\n",
       "      <td>1</td>\n",
       "      <td>1</td>\n",
       "      <td>1</td>\n",
       "      <td>1</td>\n",
       "    </tr>\n",
       "    <tr>\n",
       "      <th>3</th>\n",
       "      <td>NUMBER , on xxxx .</td>\n",
       "      <td>1</td>\n",
       "      <td>1</td>\n",
       "      <td>1</td>\n",
       "      <td>1</td>\n",
       "    </tr>\n",
       "    <tr>\n",
       "      <th>4</th>\n",
       "      <td>NUMBER , patchy opacities in the right lower l...</td>\n",
       "      <td>0</td>\n",
       "      <td>0</td>\n",
       "      <td>1</td>\n",
       "      <td>0</td>\n",
       "    </tr>\n",
       "  </tbody>\n",
       "</table>\n",
       "</div>"
      ],
      "text/plain": [
       "                                           sentences  background  heart  \\\n",
       "0  &lt , the heart size and cardiomediastinal sil...           0      1   \n",
       "1                                                  .           1      1   \n",
       "2                                         NUMBER ) .           1      1   \n",
       "3                                 NUMBER , on xxxx .           1      1   \n",
       "4  NUMBER , patchy opacities in the right lower l...           0      0   \n",
       "\n",
       "   right lung  left lung  \n",
       "0           0          0  \n",
       "1           1          1  \n",
       "2           1          1  \n",
       "3           1          1  \n",
       "4           1          0  "
      ]
     },
     "execution_count": 34,
     "metadata": {},
     "output_type": "execute_result"
    }
   ],
   "source": [
    "final_df = final_df.groupby('sentences').last()\n",
    "final_df.reset_index(drop=False, inplace=True)\n",
    "print(len(final_df))\n",
    "final_df.head()"
   ]
  },
  {
   "cell_type": "code",
   "execution_count": 37,
   "metadata": {},
   "outputs": [],
   "source": [
    "fpath = os.path.join(WORKSPACE_DIR, 'sentences_with_organs.csv')\n",
    "final_df.to_csv(fpath, index=False)"
   ]
  },
  {
   "cell_type": "code",
   "execution_count": null,
   "metadata": {},
   "outputs": [],
   "source": []
  },
  {
   "cell_type": "code",
   "execution_count": null,
   "metadata": {},
   "outputs": [],
   "source": []
  },
  {
   "cell_type": "markdown",
   "metadata": {},
   "source": [
    "# Debug Dataset class"
   ]
  },
  {
   "cell_type": "code",
   "execution_count": null,
   "metadata": {},
   "outputs": [],
   "source": [
    "%run ../mimic_cxr.py\n",
    "%run ../../utils/common.py"
   ]
  },
  {
   "cell_type": "code",
   "execution_count": null,
   "metadata": {},
   "outputs": [],
   "source": [
    "dataset = MIMICCXRDataset('test', sort_samples=True)\n",
    "len(dataset)"
   ]
  },
  {
   "cell_type": "code",
   "execution_count": null,
   "metadata": {},
   "outputs": [],
   "source": [
    "item = dataset[4]\n",
    "item.image.size(), item.report"
   ]
  },
  {
   "cell_type": "code",
   "execution_count": null,
   "metadata": {},
   "outputs": [],
   "source": [
    "item.image.min(), item.image.max()"
   ]
  },
  {
   "cell_type": "code",
   "execution_count": null,
   "metadata": {},
   "outputs": [],
   "source": [
    "plt.imshow(tensor_to_range01(item.image).permute(1, 2, 0))"
   ]
  },
  {
   "cell_type": "code",
   "execution_count": null,
   "metadata": {},
   "outputs": [],
   "source": []
  }
 ],
 "metadata": {
  "kernelspec": {
   "display_name": "Python 3",
   "language": "python",
   "name": "python3"
  },
  "language_info": {
   "codemirror_mode": {
    "name": "ipython",
    "version": 3
   },
   "file_extension": ".py",
   "mimetype": "text/x-python",
   "name": "python",
   "nbconvert_exporter": "python",
   "pygments_lexer": "ipython3",
   "version": "3.6.9"
  },
  "toc": {
   "base_numbering": 1,
   "nav_menu": {},
   "number_sections": true,
   "sideBar": true,
   "skip_h1_title": false,
   "title_cell": "Table of Contents",
   "title_sidebar": "Contents",
   "toc_cell": false,
   "toc_position": {},
   "toc_section_display": true,
   "toc_window_display": false
  }
 },
 "nbformat": 4,
 "nbformat_minor": 4
}
