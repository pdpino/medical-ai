{
 "cells": [
  {
   "cell_type": "markdown",
   "metadata": {},
   "source": [
    "# Imports"
   ]
  },
  {
   "cell_type": "code",
   "execution_count": null,
   "metadata": {},
   "outputs": [],
   "source": [
    "import os\n",
    "import json\n",
    "import matplotlib.pyplot as plt\n",
    "from PIL import Image\n",
    "from collections import Counter"
   ]
  },
  {
   "cell_type": "code",
   "execution_count": null,
   "metadata": {},
   "outputs": [],
   "source": [
    "import matplotlib\n",
    "matplotlib.rcParams['figure.facecolor'] = 'white'"
   ]
  },
  {
   "cell_type": "code",
   "execution_count": null,
   "metadata": {},
   "outputs": [],
   "source": [
    "%run ../iu_xray.py"
   ]
  },
  {
   "cell_type": "code",
   "execution_count": null,
   "metadata": {},
   "outputs": [],
   "source": [
    "REPORTS_DIR = os.path.join(DATASET_DIR, 'reports')"
   ]
  },
  {
   "cell_type": "code",
   "execution_count": null,
   "metadata": {},
   "outputs": [],
   "source": [
    "DICOM_DIR = '/mnt/data/iu-x-ray/dicoms'"
   ]
  },
  {
   "cell_type": "markdown",
   "metadata": {},
   "source": [
    "# Load DICOMs"
   ]
  },
  {
   "cell_type": "code",
   "execution_count": null,
   "metadata": {},
   "outputs": [],
   "source": [
    "import pydicom as pydcm"
   ]
  },
  {
   "cell_type": "code",
   "execution_count": null,
   "metadata": {},
   "outputs": [],
   "source": [
    "%run ../../utils/dicom.py"
   ]
  },
  {
   "cell_type": "code",
   "execution_count": null,
   "metadata": {},
   "outputs": [],
   "source": [
    "# report_id, image_id = '1798', 'IM-0518-1001'\n",
    "report_id, image_id = '3179', 'IM-1499-1001'\n",
    "dicom_fpath = os.path.join(DICOM_DIR, report_id, f'{report_id}_{image_id}.dcm')\n",
    "png_fpath = os.path.join(DATASET_DIR, 'images', f'CXR{report_id}_{image_id}.png')"
   ]
  },
  {
   "cell_type": "code",
   "execution_count": null,
   "metadata": {},
   "outputs": [],
   "source": [
    "dicom = pydcm.dcmread(dicom_fpath)\n",
    "# dicom"
   ]
  },
  {
   "cell_type": "code",
   "execution_count": null,
   "metadata": {},
   "outputs": [],
   "source": [
    "image_png = load_image(png_fpath, image_format='L')\n",
    "image_png = np.array(image_png)\n",
    "image_png.shape, image_png.dtype"
   ]
  },
  {
   "cell_type": "code",
   "execution_count": null,
   "metadata": {},
   "outputs": [],
   "source": [
    "image_dicom = dicom_to_np(dicom, voi_lut=True).astype(np.uint16)\n",
    "image_dicom.dtype, image_dicom.shape"
   ]
  },
  {
   "cell_type": "code",
   "execution_count": null,
   "metadata": {},
   "outputs": [],
   "source": [
    "def stats(arr):\n",
    "    print(arr.dtype, arr.min(), arr.max(), arr.mean(), arr.std())"
   ]
  },
  {
   "cell_type": "code",
   "execution_count": null,
   "metadata": {},
   "outputs": [],
   "source": [
    "stats(image_png)\n",
    "stats(image_dicom)"
   ]
  },
  {
   "cell_type": "code",
   "execution_count": null,
   "metadata": {},
   "outputs": [],
   "source": [
    "n_rows, n_cols = 1, 2\n",
    "plt.figure(figsize=(14, 5))\n",
    "\n",
    "plt.subplot(n_rows, n_cols, 1)\n",
    "plt.title('PNG')\n",
    "plt.imshow(image_png, cmap='gray')\n",
    "\n",
    "plt.subplot(n_rows, n_cols, 2)\n",
    "plt.title('Dicom')\n",
    "plt.imshow(image_dicom, cmap='gray')"
   ]
  },
  {
   "cell_type": "code",
   "execution_count": null,
   "metadata": {},
   "outputs": [],
   "source": [
    "out_fpath = png_fpath.replace('/images/', '/images-16bit/')"
   ]
  },
  {
   "cell_type": "code",
   "execution_count": null,
   "metadata": {},
   "outputs": [],
   "source": [
    "image = Image.fromarray(image_dicom, mode='I;16')\n",
    "image = image.resize((1024, 1024))\n",
    "image.size, image.mode"
   ]
  },
  {
   "cell_type": "code",
   "execution_count": null,
   "metadata": {},
   "outputs": [],
   "source": [
    "plt.imshow(image, cmap='gray')"
   ]
  },
  {
   "cell_type": "code",
   "execution_count": null,
   "metadata": {},
   "outputs": [],
   "source": [
    "image.save(out_fpath, optimize=True)"
   ]
  },
  {
   "cell_type": "code",
   "execution_count": null,
   "metadata": {},
   "outputs": [],
   "source": [
    "from glob import glob"
   ]
  },
  {
   "cell_type": "code",
   "execution_count": null,
   "metadata": {},
   "outputs": [],
   "source": [
    "png_names = glob(f'{DATASET_DIR}/images/*.png')\n",
    "len(png_names)"
   ]
  },
  {
   "cell_type": "code",
   "execution_count": null,
   "metadata": {},
   "outputs": [],
   "source": [
    "dicom_names = glob(f'{DICOM_DIR}/*/*.dcm')\n",
    "len(dicom_names)"
   ]
  },
  {
   "cell_type": "code",
   "execution_count": null,
   "metadata": {},
   "outputs": [],
   "source": [
    "dicom_names[:2]"
   ]
  },
  {
   "cell_type": "code",
   "execution_count": null,
   "metadata": {},
   "outputs": [],
   "source": [
    "def name_dicom_to_png(dicom_path):\n",
    "    dicom_name = os.path.basename(dicom_path)\n",
    "    if dicom_name.startswith('1_'):\n",
    "        # Special case for this patient\n",
    "        dicom_name = '1_' + dicom_name\n",
    "    return 'CXR' + dicom_name.replace('.dcm', '.png')"
   ]
  },
  {
   "cell_type": "code",
   "execution_count": null,
   "metadata": {},
   "outputs": [],
   "source": [
    "future_pngs = set([name_dicom_to_png(d) for d in dicom_names])\n",
    "current_pngs = set([os.path.basename(p) for p in png_names])\n",
    "future_pngs == current_pngs"
   ]
  },
  {
   "cell_type": "code",
   "execution_count": null,
   "metadata": {},
   "outputs": [],
   "source": [
    "from tqdm import tqdm"
   ]
  },
  {
   "cell_type": "code",
   "execution_count": null,
   "metadata": {},
   "outputs": [],
   "source": [
    "dtypes = dict()\n",
    "\n",
    "for dicom_path in tqdm(dicom_names):\n",
    "    dicom = pydcm.dcmread(dicom_path)\n",
    "    \n",
    "    dtypes[dicom_path] = dicom.pixel_array.dtype\n",
    "    \n",
    "    arr = dicom_to_np(dicom, voi_lut=True)\n",
    "    arr = arr.astype(np.uint16) # np.array\n",
    "    \n",
    "    image = Image.fromarray(arr, mode='I;16')\n",
    "    image = image.resize((1024, 1024))\n",
    "    \n",
    "    out_path = os.path.join(DATASET_DIR, 'images-16bit-1024p', name_dicom_to_png(dicom_path))\n",
    "    image.save(out_path)\n",
    "    \n",
    "Counter(dtypes.values()) # all IU dicoms come from uint16"
   ]
  },
  {
   "cell_type": "code",
   "execution_count": null,
   "metadata": {},
   "outputs": [],
   "source": [
    "# path = '/mnt/workspace/iu-x-ray/dataset/images-16bit/CXR1503_IM-0329-5001.png'\n",
    "# path = '/mnt/workspace/iu-x-ray/dataset/images-16bit/CXR339_IM-1635-2001.png'\n",
    "path = out_path\n",
    "image_loaded = Image.open(path).convert('I;16')"
   ]
  },
  {
   "cell_type": "code",
   "execution_count": null,
   "metadata": {},
   "outputs": [],
   "source": [
    "plt.figure(figsize=(15, 5))\n",
    "n_rows, n_cols = 1, 3\n",
    "\n",
    "plt.subplot(n_rows, n_cols, 1)\n",
    "plt.imshow(image_loaded, cmap='gray')\n",
    "plt.title('Loaded')\n",
    "\n",
    "plt.subplot(n_rows, n_cols, 2)\n",
    "plt.imshow(image, cmap='gray')\n",
    "plt.title('Original')\n",
    "\n",
    "plt.subplot(n_rows, n_cols, 3)\n",
    "plt.imshow(arr, cmap='gray')\n",
    "plt.title('Array')"
   ]
  },
  {
   "cell_type": "code",
   "execution_count": null,
   "metadata": {},
   "outputs": [],
   "source": [
    "stats(arr)\n",
    "stats(np.array(image_loaded))\n",
    "stats(np.array(image))"
   ]
  },
  {
   "cell_type": "markdown",
   "metadata": {},
   "source": [
    "## Debug VOI LUT"
   ]
  },
  {
   "cell_type": "code",
   "execution_count": null,
   "metadata": {},
   "outputs": [],
   "source": [
    "image_dicom_vl = dicom_to_np(dicom, voi_lut=True)\n",
    "image_dicom_vl_u16 = image_dicom_vl.copy().astype(np.uint16)\n",
    "image_dicom = dicom_to_np(dicom, voi_lut=False)\n",
    "image_dicom_3 = apply_windowing_custom(dicom.pixel_array.copy(), dicom, dtype=None) # TODO: photometric interp\n",
    "image_dicom.shape, image_dicom.dtype, image_dicom_vl.dtype, image_dicom_3.dtype"
   ]
  },
  {
   "cell_type": "code",
   "execution_count": null,
   "metadata": {},
   "outputs": [],
   "source": [
    "def stats(arr):\n",
    "    print(arr.dtype, arr.min(), arr.max(), arr.mean(), arr.std())"
   ]
  },
  {
   "cell_type": "code",
   "execution_count": null,
   "metadata": {},
   "outputs": [],
   "source": [
    "stats(image_png)\n",
    "stats(image_dicom)\n",
    "stats(image_dicom_vl)\n",
    "stats(image_dicom_vl_u16)\n",
    "stats(image_dicom_3)"
   ]
  },
  {
   "cell_type": "code",
   "execution_count": null,
   "metadata": {},
   "outputs": [],
   "source": [
    "(image_dicom_3 == image_dicom_vl_u16).all()"
   ]
  },
  {
   "cell_type": "code",
   "execution_count": null,
   "metadata": {},
   "outputs": [],
   "source": [
    "n_rows, n_cols = 1, 4\n",
    "plt.figure(figsize=(14, 5))\n",
    "\n",
    "plt.subplot(n_rows, n_cols, 1)\n",
    "plt.title('PNG')\n",
    "plt.imshow(image_png, cmap='gray')\n",
    "\n",
    "plt.subplot(n_rows, n_cols, 2)\n",
    "plt.title('Dicom')\n",
    "plt.imshow(image_dicom, cmap='gray')\n",
    "\n",
    "plt.subplot(n_rows, n_cols, 3)\n",
    "plt.title('Dicom VOI LUT')\n",
    "plt.imshow(image_dicom_vl, cmap='gray')\n",
    "\n",
    "plt.subplot(n_rows, n_cols, 4)\n",
    "plt.title('Dicom VOI LUT uint16')\n",
    "plt.imshow(image_dicom_vl_u16, cmap='gray')"
   ]
  }
 ],
 "metadata": {
  "kernelspec": {
   "display_name": "Python 3",
   "language": "python",
   "name": "python3"
  },
  "language_info": {
   "codemirror_mode": {
    "name": "ipython",
    "version": 3
   },
   "file_extension": ".py",
   "mimetype": "text/x-python",
   "name": "python",
   "nbconvert_exporter": "python",
   "pygments_lexer": "ipython3",
   "version": "3.6.9"
  },
  "toc": {
   "base_numbering": 1,
   "nav_menu": {},
   "number_sections": true,
   "sideBar": true,
   "skip_h1_title": false,
   "title_cell": "Table of Contents",
   "title_sidebar": "Contents",
   "toc_cell": false,
   "toc_position": {},
   "toc_section_display": true,
   "toc_window_display": false
  }
 },
 "nbformat": 4,
 "nbformat_minor": 4
}
