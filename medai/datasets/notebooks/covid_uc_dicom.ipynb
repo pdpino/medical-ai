{
 "cells": [
  {
   "cell_type": "code",
   "execution_count": null,
   "metadata": {},
   "outputs": [],
   "source": [
    "import sys; sys.version_info"
   ]
  },
  {
   "cell_type": "code",
   "execution_count": null,
   "metadata": {},
   "outputs": [],
   "source": [
    "import pandas as pd\n",
    "import os\n",
    "from collections import Counter"
   ]
  },
  {
   "cell_type": "code",
   "execution_count": null,
   "metadata": {},
   "outputs": [],
   "source": [
    "DATASET_DIR = os.environ.get('DATASET_DIR_COVID_UC')"
   ]
  },
  {
   "cell_type": "markdown",
   "metadata": {
    "heading_collapsed": true
   },
   "source": [
    "### Load given dataframe"
   ]
  },
  {
   "cell_type": "code",
   "execution_count": null,
   "metadata": {
    "hidden": true
   },
   "outputs": [],
   "source": [
    "LABEL_COL = 'Resultado consenso BSTI'"
   ]
  },
  {
   "cell_type": "code",
   "execution_count": null,
   "metadata": {
    "hidden": true
   },
   "outputs": [],
   "source": [
    "fpath = os.path.join(DATASET_DIR, 'anonymus_match.xlsx')\n",
    "main_df = pd.read_excel(fpath)\n",
    "main_df.head()"
   ]
  },
  {
   "cell_type": "code",
   "execution_count": null,
   "metadata": {
    "hidden": true
   },
   "outputs": [],
   "source": [
    "main_df.dropna(how='all', axis=1, inplace=True)"
   ]
  },
  {
   "cell_type": "code",
   "execution_count": null,
   "metadata": {
    "hidden": true
   },
   "outputs": [],
   "source": [
    "unnamed_cols = [c for c in main_df.columns if 'unnamed' in c.lower()]\n",
    "unnamed_cols"
   ]
  },
  {
   "cell_type": "code",
   "execution_count": null,
   "metadata": {
    "hidden": true
   },
   "outputs": [],
   "source": [
    "Counter(main_df['Clasificación BSTI'])"
   ]
  },
  {
   "cell_type": "code",
   "execution_count": null,
   "metadata": {
    "hidden": true
   },
   "outputs": [],
   "source": [
    "Counter(main_df['Resultado consenso BSTI'])"
   ]
  },
  {
   "cell_type": "code",
   "execution_count": null,
   "metadata": {
    "hidden": true
   },
   "outputs": [],
   "source": [
    "main_df['PCR']"
   ]
  },
  {
   "cell_type": "code",
   "execution_count": null,
   "metadata": {
    "hidden": true
   },
   "outputs": [],
   "source": []
  },
  {
   "cell_type": "markdown",
   "metadata": {
    "heading_collapsed": true,
    "hidden": true
   },
   "source": [
    "#### Check patients with _"
   ]
  },
  {
   "cell_type": "code",
   "execution_count": null,
   "metadata": {
    "hidden": true
   },
   "outputs": [],
   "source": [
    "patients_double = [v for v in main_df['ID'] if '_' in str(v)]\n",
    "patients_double = list(set(v.split('_')[0] for v in patients_double))\n",
    "patients_double"
   ]
  },
  {
   "cell_type": "code",
   "execution_count": null,
   "metadata": {
    "hidden": true
   },
   "outputs": [],
   "source": [
    "target_cols = ['Edad', 'Sexo']\n",
    "\n",
    "for patient_id in patients_double:\n",
    "    patients = [v for v in main_df['ID'] if str(v).split('_')[0] == str(patient_id)]\n",
    "    sub_df = labels_df.loc[main_df['ID'].isin(patients)]\n",
    "    \n",
    "    for col in target_cols:\n",
    "        values = set(sub_df[col])\n",
    "        if len(values) != 1:\n",
    "            print(patient_id, col, values, patients)"
   ]
  },
  {
   "cell_type": "code",
   "execution_count": null,
   "metadata": {
    "hidden": true
   },
   "outputs": [],
   "source": [
    "main_df.loc[main_df['ID'].isin(['185', '185_2', '185_3'])]"
   ]
  },
  {
   "cell_type": "code",
   "execution_count": null,
   "metadata": {
    "hidden": true
   },
   "outputs": [],
   "source": []
  },
  {
   "cell_type": "markdown",
   "metadata": {
    "heading_collapsed": true,
    "hidden": true
   },
   "source": [
    "#### Check indeterminados"
   ]
  },
  {
   "cell_type": "code",
   "execution_count": null,
   "metadata": {
    "hidden": true
   },
   "outputs": [],
   "source": [
    "cols = ['Clasificación BSTI', 'Clasificación BSTI.1']\n",
    "main_df.loc[main_df['Resultado consenso BSTI'] == 'Indeterminado'][cols]"
   ]
  },
  {
   "cell_type": "code",
   "execution_count": null,
   "metadata": {
    "hidden": true
   },
   "outputs": [],
   "source": []
  },
  {
   "cell_type": "markdown",
   "metadata": {},
   "source": [
    "### Read images"
   ]
  },
  {
   "cell_type": "code",
   "execution_count": null,
   "metadata": {},
   "outputs": [],
   "source": [
    "from collections import defaultdict"
   ]
  },
  {
   "cell_type": "code",
   "execution_count": null,
   "metadata": {},
   "outputs": [],
   "source": [
    "import pydicom\n",
    "import matplotlib.pyplot as plt\n",
    "from PIL import Image\n",
    "import numpy as np"
   ]
  },
  {
   "cell_type": "code",
   "execution_count": null,
   "metadata": {},
   "outputs": [],
   "source": [
    "%run ../../utils/common.py"
   ]
  },
  {
   "cell_type": "code",
   "execution_count": null,
   "metadata": {},
   "outputs": [],
   "source": [
    "DATA_DIR = os.environ.get('DATASET_DIR_COVID_UC_RAW_DATA')\n",
    "DATA_DIR_ANON_3 = os.path.join(DATA_DIR, 'anon_3')\n",
    "DATA_DIR_TEST_ANON = os.path.join(DATA_DIR, 'test_anon')"
   ]
  },
  {
   "cell_type": "markdown",
   "metadata": {
    "heading_collapsed": true
   },
   "source": [
    "#### Inspect one sample"
   ]
  },
  {
   "cell_type": "code",
   "execution_count": null,
   "metadata": {
    "hidden": true
   },
   "outputs": [],
   "source": [
    "# fpath = os.path.join(DATA_DIR, '95', 'Torax Pa-L', 'Tórax - 1', 'IM-0001-0002-0001.dcm')\n",
    "# fpath = DATA_DIR_ANON_3 + '/376/Rx Torax Ap-L/unnamed - 100/IM-0001-0001-0001.dcm'\n",
    "# fpath = DATA_DIR_TEST_ANON + '/10/Rx Torax Ap Portatil/AP horizontal - 1/IM-0001-0001-0001.dcm'\n",
    "# fpath = DATA_DIR_TEST_ANON + '/3/Examen Previo No Uc/MIP Axial Pulmon - 1004/IM-0001-0045-0001.dcm'\n",
    "fpath = DATA_DIR_TEST_ANON + '/395/Rx Torax Ap-L/unnamed - 100/IM-0001-0001-0001.dcm'\n",
    "ds = pydicom.dcmread(fpath)"
   ]
  },
  {
   "cell_type": "code",
   "execution_count": null,
   "metadata": {
    "hidden": true
   },
   "outputs": [],
   "source": [
    "ds.StudyDescription"
   ]
  },
  {
   "cell_type": "code",
   "execution_count": null,
   "metadata": {
    "hidden": true
   },
   "outputs": [],
   "source": [
    "print(ds)"
   ]
  },
  {
   "cell_type": "code",
   "execution_count": null,
   "metadata": {
    "hidden": true
   },
   "outputs": [],
   "source": [
    "ds.pixel_array"
   ]
  },
  {
   "cell_type": "code",
   "execution_count": null,
   "metadata": {
    "hidden": true
   },
   "outputs": [],
   "source": [
    "ds.StudyDate"
   ]
  },
  {
   "cell_type": "code",
   "execution_count": null,
   "metadata": {
    "hidden": true
   },
   "outputs": [],
   "source": [
    "image = ds.pixel_array"
   ]
  },
  {
   "cell_type": "code",
   "execution_count": null,
   "metadata": {
    "hidden": true
   },
   "outputs": [],
   "source": [
    "print(image.shape)\n",
    "\n",
    "plt.imshow(arr_to_range(image, 0, 255), cmap='gray')"
   ]
  },
  {
   "cell_type": "code",
   "execution_count": null,
   "metadata": {
    "hidden": true
   },
   "outputs": [],
   "source": [
    "image.min(), image.max()"
   ]
  },
  {
   "cell_type": "code",
   "execution_count": null,
   "metadata": {
    "hidden": true
   },
   "outputs": [],
   "source": [
    "scaled_image = arr_to_range(image, 0, 255)\n",
    "scaled_image.min(), scaled_image.max()"
   ]
  },
  {
   "cell_type": "code",
   "execution_count": null,
   "metadata": {
    "hidden": true
   },
   "outputs": [],
   "source": [
    "fname = 'sample_file.png'\n",
    "\n",
    "arr_to_range(image, 0, 255)\n",
    "pil_image = Image.fromarray(scaled_image).convert('L')\n",
    "pil_image.save(fname)"
   ]
  },
  {
   "cell_type": "code",
   "execution_count": null,
   "metadata": {
    "hidden": true
   },
   "outputs": [],
   "source": [
    "loaded_image = Image.open(fname)\n",
    "loaded_image.size"
   ]
  },
  {
   "cell_type": "code",
   "execution_count": null,
   "metadata": {
    "hidden": true
   },
   "outputs": [],
   "source": [
    "plt.imshow(loaded_image, cmap='gray')"
   ]
  },
  {
   "cell_type": "code",
   "execution_count": null,
   "metadata": {
    "hidden": true
   },
   "outputs": [],
   "source": [
    "np.min(loaded_image), np.max(loaded_image)"
   ]
  },
  {
   "cell_type": "code",
   "execution_count": null,
   "metadata": {
    "hidden": true
   },
   "outputs": [],
   "source": []
  },
  {
   "cell_type": "code",
   "execution_count": null,
   "metadata": {
    "hidden": true
   },
   "outputs": [],
   "source": []
  },
  {
   "cell_type": "markdown",
   "metadata": {},
   "source": [
    "#### Dicom to images"
   ]
  },
  {
   "cell_type": "code",
   "execution_count": null,
   "metadata": {},
   "outputs": [],
   "source": [
    "%run ../../utils/common.py"
   ]
  },
  {
   "cell_type": "code",
   "execution_count": null,
   "metadata": {},
   "outputs": [],
   "source": [
    "from tqdm import tqdm # tqdm_notebook as tqdm"
   ]
  },
  {
   "cell_type": "code",
   "execution_count": null,
   "metadata": {},
   "outputs": [],
   "source": [
    "IMAGES_DIR = os.path.join(DATASET_DIR, 'images')"
   ]
  },
  {
   "cell_type": "code",
   "execution_count": null,
   "metadata": {},
   "outputs": [],
   "source": [
    "def split_date(date_str):\n",
    "    year = date_str[:4]\n",
    "    month = date_str[4:6]\n",
    "    day = date_str[6:]\n",
    "    return '-'.join(v for v in [year, month, day])\n",
    "split_date('20200308')"
   ]
  },
  {
   "cell_type": "code",
   "execution_count": null,
   "metadata": {},
   "outputs": [],
   "source": [
    "def iter_dicom_images(data_dir, save_png=False, max_samples=None,\n",
    "                      prev_images={},\n",
    "                     ):\n",
    "    errors = defaultdict(lambda: list())\n",
    "    images_by_patient = defaultdict(lambda: list())\n",
    "    result = []\n",
    "\n",
    "    patients = sorted(os.listdir(data_dir))\n",
    "\n",
    "    if max_samples:\n",
    "        patients = patients[:max_samples]\n",
    "    # patients = ['312', '315', '344', '351']\n",
    "    # patients = ['185_2', '414', '582', '616']\n",
    "\n",
    "    for patient_id in tqdm(patients):\n",
    "        patient_id = str(patient_id)\n",
    "        patient_folder = os.path.join(data_dir, patient_id)\n",
    "        \n",
    "        if patient_id in prev_images:\n",
    "            # There are images present already!!\n",
    "            image_counter = len(prev_images[patient_id])\n",
    "        else:\n",
    "            image_counter = 0\n",
    "\n",
    "        for basepath, _, filenames in os.walk(patient_folder):\n",
    "            for filename in sorted(filenames):\n",
    "                filepath = os.path.join(basepath, filename)\n",
    "\n",
    "                # Filter only RX\n",
    "                filepath_clean = filepath.replace(data_dir, '').replace(patient_id, '')\n",
    "                filepath_lower = filepath_clean.lower()\n",
    "                is_other_scan = False\n",
    "                for scan_type in ('scanner', 'tac', 'ecograf', 'prev'):\n",
    "                    if scan_type in filepath_lower:\n",
    "                        errors[scan_type].append(filepath_clean)\n",
    "                        is_other_scan = True\n",
    "                if is_other_scan:\n",
    "                    continue\n",
    "                \n",
    "                if not filename.endswith('.dcm'):\n",
    "                    errors['non-dcm'].append(filepath)\n",
    "                    continue\n",
    "                images_by_patient[patient_id].append(filename)\n",
    "\n",
    "                # Read DICOM\n",
    "                ds = pydicom.dcmread(filepath)\n",
    "\n",
    "                try:\n",
    "                    image = ds.pixel_array\n",
    "                except AttributeError as e:\n",
    "                    errors['broken'].append(filepath)\n",
    "                    continue\n",
    "\n",
    "                # Set image name and path\n",
    "                image_name = '-'.join(str(s) for s in [patient_id, image_counter, filename[:-4]])\n",
    "                image_name += '.png'\n",
    "\n",
    "                # Read DICOM useful information\n",
    "                try:\n",
    "                    view_position = ds.ViewPosition\n",
    "                except AttributeError as e:\n",
    "                    view_position = ''\n",
    "                    print('NO VIEW POSITION: ', filepath, image_name)\n",
    "                date = split_date(ds.StudyDate)\n",
    "                # transfer_syntax = ds.file_meta.TransferSyntaxUID.name\n",
    "\n",
    "                # HACK: fill empty view positions\n",
    "                if not view_position:\n",
    "                    # Only valid for anon_3\n",
    "                    if data_dir.endswith('anon_3'):\n",
    "                        if image_name.startswith('312-0'):\n",
    "                            view_position = 'AP'\n",
    "                        else:\n",
    "                            view_position = 'LL'\n",
    "                    errors['missing-view'].append((filepath, image_name, view_position))\n",
    "\n",
    "                # Save image to png\n",
    "                if save_png:\n",
    "                    image_filepath = os.path.join(IMAGES_DIR, image_name)\n",
    "                    if os.path.isfile(image_filepath):\n",
    "                        errors['overriden-image'].append((filepath, image_name))\n",
    "                    scaled_image = arr_to_range(image, 0, 255)\n",
    "                    pil_image = Image.fromarray(scaled_image).convert('L')\n",
    "                    pil_image.save(image_filepath)\n",
    "\n",
    "                # Save into main list\n",
    "                result.append((patient_id, image_name, view_position, date))\n",
    "\n",
    "                image_counter += 1\n",
    "\n",
    "    return result, images_by_patient, errors"
   ]
  },
  {
   "cell_type": "code",
   "execution_count": null,
   "metadata": {},
   "outputs": [],
   "source": [
    "results_anon_3, i_by_p_anon_3, errors1 = iter_dicom_images(DATA_DIR_ANON_3,\n",
    "                                                           save_png=False)"
   ]
  },
  {
   "cell_type": "code",
   "execution_count": null,
   "metadata": {},
   "outputs": [],
   "source": [
    "results_test_anon, i_by_p_test_anon, errors2 = iter_dicom_images(DATA_DIR_TEST_ANON,\n",
    "                                                                 save_png=True,\n",
    "                                                                 prev_images=i_by_p_anon_3,\n",
    "                                                                )"
   ]
  },
  {
   "cell_type": "code",
   "execution_count": null,
   "metadata": {},
   "outputs": [],
   "source": []
  },
  {
   "cell_type": "markdown",
   "metadata": {
    "heading_collapsed": true
   },
   "source": [
    "##### Check errors"
   ]
  },
  {
   "cell_type": "code",
   "execution_count": null,
   "metadata": {
    "hidden": true
   },
   "outputs": [],
   "source": [
    "errors.keys()"
   ]
  },
  {
   "cell_type": "code",
   "execution_count": null,
   "metadata": {
    "hidden": true
   },
   "outputs": [],
   "source": [
    "def different_values(strings):\n",
    "    values = set()\n",
    "    for s in strings:\n",
    "        for w in s.split('/'):\n",
    "            if not w:\n",
    "                continue\n",
    "            values.add(w)\n",
    "            break\n",
    "    return values"
   ]
  },
  {
   "cell_type": "code",
   "execution_count": null,
   "metadata": {
    "hidden": true
   },
   "outputs": [],
   "source": [
    "different_values(errors['ecograf'])"
   ]
  },
  {
   "cell_type": "code",
   "execution_count": null,
   "metadata": {
    "hidden": true
   },
   "outputs": [],
   "source": [
    "different_values(errors['prev'])"
   ]
  },
  {
   "cell_type": "code",
   "execution_count": null,
   "metadata": {
    "hidden": true
   },
   "outputs": [],
   "source": [
    "different_values(errors['scanner'])"
   ]
  },
  {
   "cell_type": "code",
   "execution_count": null,
   "metadata": {
    "hidden": true
   },
   "outputs": [],
   "source": [
    "different_values(errors['tac'])"
   ]
  },
  {
   "cell_type": "code",
   "execution_count": null,
   "metadata": {
    "hidden": true
   },
   "outputs": [],
   "source": [
    "results_2"
   ]
  },
  {
   "cell_type": "code",
   "execution_count": null,
   "metadata": {
    "hidden": true
   },
   "outputs": [],
   "source": []
  },
  {
   "cell_type": "markdown",
   "metadata": {},
   "source": [
    "#### DF with image information"
   ]
  },
  {
   "cell_type": "code",
   "execution_count": null,
   "metadata": {},
   "outputs": [],
   "source": [
    "columns = ['ID', 'image_name', 'view', 'date']\n",
    "\n",
    "image_df_anon_3 = pd.DataFrame(results_anon_3, columns=columns)\n",
    "image_df_anon_3.head()"
   ]
  },
  {
   "cell_type": "code",
   "execution_count": null,
   "metadata": {},
   "outputs": [],
   "source": [
    "image_df_test_anon = pd.DataFrame(results_test_anon, columns=columns)\n",
    "image_df_test_anon.head()"
   ]
  },
  {
   "cell_type": "code",
   "execution_count": null,
   "metadata": {},
   "outputs": [],
   "source": [
    "set(image_df_test_anon['image_name']).intersection(image_df_anon_3['image_name'])"
   ]
  },
  {
   "cell_type": "code",
   "execution_count": null,
   "metadata": {},
   "outputs": [],
   "source": [
    "len(image_df_anon_3), len(image_df_test_anon)"
   ]
  },
  {
   "cell_type": "code",
   "execution_count": null,
   "metadata": {},
   "outputs": [],
   "source": [
    "image_df = image_df_anon_3.append(image_df_test_anon)\n",
    "print(len(image_df))\n",
    "image_df.head()"
   ]
  },
  {
   "cell_type": "code",
   "execution_count": null,
   "metadata": {},
   "outputs": [],
   "source": []
  },
  {
   "cell_type": "markdown",
   "metadata": {
    "heading_collapsed": true
   },
   "source": [
    "##### Solve empty views"
   ]
  },
  {
   "cell_type": "code",
   "execution_count": null,
   "metadata": {
    "hidden": true
   },
   "outputs": [],
   "source": [
    "empty_view = image_df.loc[image_df['view'] == '']\n",
    "print(' '.join(s for s in empty_view['image_name']))\n",
    "empty_view"
   ]
  },
  {
   "cell_type": "code",
   "execution_count": null,
   "metadata": {
    "hidden": true
   },
   "outputs": [],
   "source": [
    "rl_view = image_df.loc[image_df['view'] == 'RL']\n",
    "print(' '.join(s for s in rl_view['image_name']))\n",
    "rl_view"
   ]
  },
  {
   "cell_type": "code",
   "execution_count": null,
   "metadata": {
    "hidden": true
   },
   "outputs": [],
   "source": [
    "Counter(image_df['view'])"
   ]
  },
  {
   "cell_type": "code",
   "execution_count": null,
   "metadata": {
    "hidden": true
   },
   "outputs": [],
   "source": []
  },
  {
   "cell_type": "markdown",
   "metadata": {
    "heading_collapsed": true
   },
   "source": [
    "##### Solve repeated images"
   ]
  },
  {
   "cell_type": "code",
   "execution_count": null,
   "metadata": {
    "hidden": true
   },
   "outputs": [],
   "source": [
    "[(k, v) for (k, v) in Counter(image_df['image_name']).items() if v > 1]"
   ]
  },
  {
   "cell_type": "markdown",
   "metadata": {
    "heading_collapsed": true
   },
   "source": [
    "##### Check same patients"
   ]
  },
  {
   "cell_type": "code",
   "execution_count": null,
   "metadata": {
    "hidden": true
   },
   "outputs": [],
   "source": [
    "image_df.loc[image_df['ID'].str.startswith('37')]"
   ]
  },
  {
   "cell_type": "code",
   "execution_count": null,
   "metadata": {
    "hidden": true
   },
   "outputs": [],
   "source": [
    "Counter(image_df['ID'])"
   ]
  },
  {
   "cell_type": "code",
   "execution_count": null,
   "metadata": {
    "hidden": true
   },
   "outputs": [],
   "source": []
  },
  {
   "cell_type": "markdown",
   "metadata": {},
   "source": [
    "#### Merge with labels"
   ]
  },
  {
   "cell_type": "code",
   "execution_count": null,
   "metadata": {},
   "outputs": [],
   "source": [
    "cols = ['ID', 'Fecha consulta SU', 'Resultado consenso BSTI']\n",
    "labels_df = main_df[cols]\n",
    "labels_df.head()"
   ]
  },
  {
   "cell_type": "markdown",
   "metadata": {},
   "source": [
    "##### Fix: use str types for ease of merge"
   ]
  },
  {
   "cell_type": "code",
   "execution_count": null,
   "metadata": {},
   "outputs": [],
   "source": [
    "labels_df['date'] = labels_df['Fecha consulta SU'].astype(str)\n",
    "labels_df['ID'] = labels_df['ID'].astype(str)\n",
    "\n",
    "labels_df['date'].dtypes"
   ]
  },
  {
   "cell_type": "code",
   "execution_count": null,
   "metadata": {},
   "outputs": [],
   "source": [
    "labels_df.loc[labels_df['ID'] == '37']"
   ]
  },
  {
   "cell_type": "markdown",
   "metadata": {
    "heading_collapsed": true
   },
   "source": [
    "##### Patient 185 vs 185_2\n",
    "\n",
    "is reversed in labels_df"
   ]
  },
  {
   "cell_type": "code",
   "execution_count": null,
   "metadata": {
    "hidden": true
   },
   "outputs": [],
   "source": [
    "image_df.loc[image_df['ID'].str.startswith('185')]"
   ]
  },
  {
   "cell_type": "code",
   "execution_count": null,
   "metadata": {
    "hidden": true
   },
   "outputs": [],
   "source": [
    "labels_df.loc[labels_df['ID'].str.startswith('185')]"
   ]
  },
  {
   "cell_type": "code",
   "execution_count": null,
   "metadata": {
    "hidden": true
   },
   "outputs": [],
   "source": [
    "labels_df.loc[184, 'ID'] = '185_2'\n",
    "labels_df.loc[524, 'ID'] = '185'"
   ]
  },
  {
   "cell_type": "code",
   "execution_count": null,
   "metadata": {
    "hidden": true
   },
   "outputs": [],
   "source": [
    "labels_df.loc[labels_df['ID'].str.startswith('185')]"
   ]
  },
  {
   "cell_type": "code",
   "execution_count": null,
   "metadata": {
    "hidden": true
   },
   "outputs": [],
   "source": []
  },
  {
   "cell_type": "markdown",
   "metadata": {},
   "source": [
    "##### Merge!"
   ]
  },
  {
   "cell_type": "code",
   "execution_count": null,
   "metadata": {},
   "outputs": [],
   "source": [
    "merged = labels_df.merge(image_df, how='right',\n",
    "                         left_on=['ID', 'date'], # Fecha consulta SU\n",
    "                         right_on=['ID', 'date']\n",
    "                        )\n",
    "merged.head()"
   ]
  },
  {
   "cell_type": "code",
   "execution_count": null,
   "metadata": {},
   "outputs": [],
   "source": [
    "Counter(merged[LABEL_COL])"
   ]
  },
  {
   "cell_type": "code",
   "execution_count": null,
   "metadata": {},
   "outputs": [],
   "source": [
    "len(merged)"
   ]
  },
  {
   "cell_type": "code",
   "execution_count": null,
   "metadata": {},
   "outputs": [],
   "source": [
    "clean_df = merged[merged[LABEL_COL] != 'Indeterminado']\n",
    "\n",
    "# clean_df.replace('Non-COVID', 'pneumonia', inplace=True)\n",
    "clean_df.replace('Normal', 'normal', inplace=True)\n",
    "clean_df.replace('Sugerente COVID', 'covid', inplace=True)\n",
    "clean_df.tail()"
   ]
  },
  {
   "cell_type": "code",
   "execution_count": null,
   "metadata": {},
   "outputs": [],
   "source": [
    "len(clean_df)"
   ]
  },
  {
   "cell_type": "code",
   "execution_count": null,
   "metadata": {},
   "outputs": [],
   "source": [
    "clean_df.head()"
   ]
  },
  {
   "cell_type": "markdown",
   "metadata": {},
   "source": [
    "##### Revisar NaN"
   ]
  },
  {
   "cell_type": "code",
   "execution_count": null,
   "metadata": {},
   "outputs": [],
   "source": [
    "clean_df.loc[clean_df[LABEL_COL] != clean_df[LABEL_COL]]"
   ]
  },
  {
   "cell_type": "code",
   "execution_count": null,
   "metadata": {},
   "outputs": [],
   "source": [
    "clean_df.dropna(axis=0, how='any', inplace=True)"
   ]
  },
  {
   "cell_type": "code",
   "execution_count": null,
   "metadata": {},
   "outputs": [],
   "source": [
    "clean_df.head()"
   ]
  },
  {
   "cell_type": "markdown",
   "metadata": {},
   "source": [
    "##### Revisar cantidades"
   ]
  },
  {
   "cell_type": "code",
   "execution_count": null,
   "metadata": {},
   "outputs": [],
   "source": [
    "Counter(clean_df.loc[clean_df['view'].str.contains('P')][LABEL_COL])"
   ]
  },
  {
   "cell_type": "code",
   "execution_count": null,
   "metadata": {},
   "outputs": [],
   "source": [
    "Counter(clean_df[LABEL_COL])"
   ]
  },
  {
   "cell_type": "code",
   "execution_count": null,
   "metadata": {},
   "outputs": [],
   "source": [
    "Counter(labels_df[LABEL_COL])"
   ]
  },
  {
   "cell_type": "code",
   "execution_count": null,
   "metadata": {},
   "outputs": [],
   "source": []
  },
  {
   "cell_type": "markdown",
   "metadata": {},
   "source": [
    "#### Save"
   ]
  },
  {
   "cell_type": "code",
   "execution_count": null,
   "metadata": {},
   "outputs": [],
   "source": [
    "metadata_path = os.path.join(DATASET_DIR, 'metadata.csv')\n",
    "clean_df.to_csv(metadata_path)"
   ]
  },
  {
   "cell_type": "code",
   "execution_count": null,
   "metadata": {},
   "outputs": [],
   "source": []
  },
  {
   "cell_type": "markdown",
   "metadata": {},
   "source": [
    "### Read metadatas"
   ]
  },
  {
   "cell_type": "code",
   "execution_count": null,
   "metadata": {},
   "outputs": [],
   "source": [
    "df = pd.read_csv(os.path.join(DATASET_DIR, 'metadata_anon_3.csv'), index_col=0)\n",
    "df.head()"
   ]
  },
  {
   "cell_type": "code",
   "execution_count": null,
   "metadata": {},
   "outputs": [],
   "source": [
    "Counter(df[LABEL_COL])"
   ]
  },
  {
   "cell_type": "code",
   "execution_count": null,
   "metadata": {},
   "outputs": [],
   "source": []
  },
  {
   "cell_type": "code",
   "execution_count": null,
   "metadata": {},
   "outputs": [],
   "source": []
  },
  {
   "cell_type": "code",
   "execution_count": null,
   "metadata": {},
   "outputs": [],
   "source": [
    "# RESULTS ANON_3\n",
    "\n",
    "### IMAGE SIZE 256\n",
    "\n",
    "## FRONTAL ONLY\n",
    "\n",
    "{'acc': 0.47306791569086654,                                                                                                        \n",
    "         'cm': tensor([[  1,   1,   1],                                                                                                     \n",
    "        [ 14,   9,   9],                                                                                                                    \n",
    "        [145,  57, 190]]),                                                                                                                  \n",
    "         'loss': 2.7440714836120605,                                                                                                        \n",
    "         'prec_Non-COVID': 0.16279069767441862,                                                                                             \n",
    "         'prec_covid': 0.005555555555555556,                                                                                                \n",
    "         'prec_normal': 0.9509803921568627,                                                                                                 \n",
    "         'recall_Non-COVID': 0.21875,                                                                                                       \n",
    "         'recall_covid': 0.3333333333333333,                                                                                                \n",
    "         'recall_normal': 0.49489795918367346,                                                                                              \n",
    "         'spec_Non-COVID': 0.9088607594936708,                                                                                              \n",
    "         'spec_covid': 0.5778301886792453,                                                                                                  \n",
    "         'spec_normal': 0.7142857142857143}\n",
    "\n",
    "\n",
    "## RESULTS ANON_3 FRONTAL + LATERAL\n",
    "{'acc': 0.3447251114413076,\n",
    "         'cm': tensor([[  1,   3,   0],\n",
    "        [ 25,  16,   9],\n",
    "        [253, 151, 215]]),\n",
    "         'loss': 2.953134059906006,\n",
    "         'prec_Non-COVID': 0.12396694214876033,\n",
    "         'prec_covid': 0.003067484662576687,\n",
    "         'prec_normal': 0.9557522123893806,\n",
    "         'recall_Non-COVID': 0.3,\n",
    "         'recall_covid': 0.25,\n",
    "         'recall_normal': 0.34894991922455576,\n",
    "         'spec_Non-COVID': 0.8298555377207063,\n",
    "         'spec_covid': 0.5142002989536621,\n",
    "         'spec_normal': 0.8148148148148148}"
   ]
  },
  {
   "cell_type": "code",
   "execution_count": null,
   "metadata": {},
   "outputs": [],
   "source": [
    "### IMAGE SIZE 512\n",
    "\n",
    "### FRONTAL ONLY\n",
    "{'acc': 0.3185011709601874,\n",
    "         'cm': tensor([[  3,   0,   0],\n",
    "        [ 20,   6,   6],\n",
    "        [233,  28, 131]]),\n",
    "         'loss': 3.2618606090545654,\n",
    "         'prec_Non-COVID': 0.21739130434782608,\n",
    "         'prec_covid': 0.011111111111111112,\n",
    "         'prec_normal': 0.9552238805970149,\n",
    "         'recall_Non-COVID': 0.15625,\n",
    "         'recall_covid': 1.0,\n",
    "         'recall_normal': 0.32653061224489793,\n",
    "         'spec_Non-COVID': 0.9544303797468354,\n",
    "         'spec_covid': 0.37028301886792453,\n",
    "         'spec_normal': 0.8285714285714286}\n",
    "\n",
    "## FRONTAL + LATERAL\n",
    "{'acc': 0.24071322436849926,                                                                                                        \n",
    "         'cm': tensor([[  2,   2,   0],                                                                                                     \n",
    "        [ 24,  21,   5],                                                                                                                    \n",
    "        [303, 160, 156]]),                                                                                                                  \n",
    "         'loss': 5.56564998626709,                                                                                                          \n",
    "         'prec_Non-COVID': 0.11875,                                                                                                         \n",
    "         'prec_covid': 0.005449591280653951,                                                                                                \n",
    "         'prec_normal': 0.9657534246575342,                                                                                                 \n",
    "         'recall_Non-COVID': 0.38,                                                                                                          \n",
    "         'recall_covid': 0.5,                                                                                                               \n",
    "         'recall_normal': 0.22778675282714056,                                                                                              \n",
    "         'spec_Non-COVID': 0.7736757624398074,                                                                                              \n",
    "         'spec_covid': 0.45440956651718983,                                                                                                 \n",
    "         'spec_normal': 0.9074074074074074}"
   ]
  },
  {
   "cell_type": "code",
   "execution_count": null,
   "metadata": {},
   "outputs": [],
   "source": []
  }
 ],
 "metadata": {
  "kernelspec": {
   "display_name": "py2gdcm",
   "language": "python",
   "name": "py2gdcm"
  },
  "language_info": {
   "codemirror_mode": {
    "name": "ipython",
    "version": 2
   },
   "file_extension": ".py",
   "mimetype": "text/x-python",
   "name": "python",
   "nbconvert_exporter": "python",
   "pygments_lexer": "ipython2",
   "version": "2.7.17"
  },
  "toc": {
   "base_numbering": 1,
   "nav_menu": {},
   "number_sections": true,
   "sideBar": true,
   "skip_h1_title": false,
   "title_cell": "Table of Contents",
   "title_sidebar": "Contents",
   "toc_cell": false,
   "toc_position": {},
   "toc_section_display": true,
   "toc_window_display": false
  }
 },
 "nbformat": 4,
 "nbformat_minor": 4
}
