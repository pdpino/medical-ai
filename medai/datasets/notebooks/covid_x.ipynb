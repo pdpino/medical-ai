{
 "cells": [
  {
   "cell_type": "markdown",
   "metadata": {},
   "source": [
    "## Imports"
   ]
  },
  {
   "cell_type": "code",
   "execution_count": null,
   "metadata": {},
   "outputs": [],
   "source": [
    "import os\n",
    "from PIL import Image\n",
    "import matplotlib.pyplot as plt\n",
    "from torchvision import transforms\n",
    "import torch\n",
    "from tqdm.notebook import tqdm\n",
    "import pandas as pd"
   ]
  },
  {
   "cell_type": "code",
   "execution_count": null,
   "metadata": {},
   "outputs": [],
   "source": [
    "%run ../covid_x.py"
   ]
  },
  {
   "cell_type": "code",
   "execution_count": null,
   "metadata": {},
   "outputs": [],
   "source": []
  },
  {
   "cell_type": "markdown",
   "metadata": {},
   "source": [
    "## Calculate mean and std"
   ]
  },
  {
   "cell_type": "code",
   "execution_count": null,
   "metadata": {},
   "outputs": [],
   "source": [
    "%run ../covid_x.py\n",
    "%run ../../utils/images.py"
   ]
  },
  {
   "cell_type": "code",
   "execution_count": null,
   "metadata": {},
   "outputs": [],
   "source": [
    "images_dir = os.path.join(DATASET_DIR, 'train')\n",
    "with open(os.path.join(DATASET_DIR, 'further_train_split.txt')) as f:\n",
    "    train_images = [l.strip() for l in f.readlines()]\n",
    "len(train_images)"
   ]
  },
  {
   "cell_type": "code",
   "execution_count": null,
   "metadata": {},
   "outputs": [],
   "source": [
    "mean, std = compute_mean_std(ImageFolderIterator(images_dir, train_images), show=True)\n",
    "mean, std"
   ]
  },
  {
   "cell_type": "code",
   "execution_count": null,
   "metadata": {},
   "outputs": [],
   "source": []
  },
  {
   "cell_type": "markdown",
   "metadata": {
    "heading_collapsed": true
   },
   "source": [
    "## Load labels"
   ]
  },
  {
   "cell_type": "code",
   "execution_count": null,
   "metadata": {
    "hidden": true
   },
   "outputs": [],
   "source": [
    "labels_path = os.path.join(DATASET_DIR, 'train_split.txt')\n",
    "columns = ['patient_id', 'image_name', 'label', 'source']\n",
    "\n",
    "df = pd.read_csv(labels_path, sep=' ', header=None, names=columns)\n",
    "df.head()"
   ]
  },
  {
   "cell_type": "code",
   "execution_count": null,
   "metadata": {
    "hidden": true
   },
   "outputs": [],
   "source": [
    "set(df['label'])"
   ]
  },
  {
   "cell_type": "code",
   "execution_count": null,
   "metadata": {
    "hidden": true
   },
   "outputs": [],
   "source": [
    "df.replace('COVID-19', 'covid', inplace=True)\n",
    "df.head()"
   ]
  },
  {
   "cell_type": "code",
   "execution_count": null,
   "metadata": {
    "hidden": true
   },
   "outputs": [],
   "source": [
    "set(['1', 'a']) == set(['a', '1'])"
   ]
  },
  {
   "cell_type": "code",
   "execution_count": null,
   "metadata": {
    "hidden": true
   },
   "outputs": [],
   "source": [
    "df[df['label'] != 'covid'].index"
   ]
  },
  {
   "cell_type": "code",
   "execution_count": null,
   "metadata": {
    "hidden": true
   },
   "outputs": [],
   "source": []
  },
  {
   "cell_type": "markdown",
   "metadata": {
    "heading_collapsed": true
   },
   "source": [
    "## Split train-val"
   ]
  },
  {
   "cell_type": "code",
   "execution_count": null,
   "metadata": {
    "hidden": true
   },
   "outputs": [],
   "source": [
    "import random"
   ]
  },
  {
   "cell_type": "code",
   "execution_count": null,
   "metadata": {
    "hidden": true
   },
   "outputs": [],
   "source": [
    "%run covid_x.py"
   ]
  },
  {
   "cell_type": "code",
   "execution_count": null,
   "metadata": {
    "hidden": true
   },
   "outputs": [],
   "source": [
    "train_dataset = CovidXDataset('train')\n",
    "test_dataset = CovidXDataset('test')\n",
    "len(train_dataset), len(test_dataset)"
   ]
  },
  {
   "cell_type": "code",
   "execution_count": null,
   "metadata": {
    "hidden": true
   },
   "outputs": [],
   "source": [
    "train_dataset._metadata_df.groupby('label').count()['image_name']"
   ]
  },
  {
   "cell_type": "code",
   "execution_count": null,
   "metadata": {
    "hidden": true
   },
   "outputs": [],
   "source": [
    "test_dataset._metadata_df.groupby('label').count()['image_name']"
   ]
  },
  {
   "cell_type": "code",
   "execution_count": null,
   "metadata": {
    "hidden": true
   },
   "outputs": [],
   "source": [
    "(13892-468) // 468"
   ]
  },
  {
   "cell_type": "code",
   "execution_count": null,
   "metadata": {
    "hidden": true
   },
   "outputs": [],
   "source": [
    "def split_train_val(df, split=0.1):\n",
    "    \"\"\"The label distribution is mantained.\"\"\"\n",
    "    images_chosen = []\n",
    "    \n",
    "    labels = list(set(df['label']))\n",
    "    for label in labels:\n",
    "        # Filter only this label\n",
    "        df_with_label = df[df['label'] == label]\n",
    "        \n",
    "        # Group images by patient\n",
    "        images_by_patient = df_with_label.groupby('patient_id')['image_name'].apply(list)\n",
    "        \n",
    "        patients = list(images_by_patient.index)\n",
    "        \n",
    "        # Calculate split length\n",
    "        n_images = len(df_with_label)\n",
    "        split_len = int(n_images * split)\n",
    "        \n",
    "        # Choose images\n",
    "        n_chosen = 0\n",
    "        while n_chosen < split_len:\n",
    "            # Choose one random patient\n",
    "            patient = random.choice(patients)\n",
    "            \n",
    "            # Patient has 1 or more images\n",
    "            images_from_patient = images_by_patient[patient]\n",
    "            n_chosen += len(images_from_patient)\n",
    "\n",
    "            # Add chosen images to main list\n",
    "            images_chosen.extend(images_from_patient)\n",
    "\n",
    "            # Remove patient from posible options\n",
    "            patients.remove(patient)\n",
    "\n",
    "    return images_chosen"
   ]
  },
  {
   "cell_type": "code",
   "execution_count": null,
   "metadata": {
    "hidden": true
   },
   "outputs": [],
   "source": [
    "labels_fpath = os.path.join(DATASET_DIR, 'train_split.txt')\n",
    "columns = ['patient_id', 'image_name', 'label', 'source']\n",
    "df = pd.read_csv(labels_fpath, sep=' ', header=None, names=columns)\n",
    "df.head()"
   ]
  },
  {
   "cell_type": "code",
   "execution_count": null,
   "metadata": {
    "hidden": true
   },
   "outputs": [],
   "source": [
    "val_images = split_train_val(df, split=0.1)\n",
    "train_images = [i for i in train_dataset._metadata_df['image_name'] if i not in val_images]\n",
    "\n",
    "assert len(df) == len(train_images) + len(val_images)\n",
    "\n",
    "len(train_images), len(val_images)"
   ]
  },
  {
   "cell_type": "markdown",
   "metadata": {
    "hidden": true
   },
   "source": [
    "### Save split to files"
   ]
  },
  {
   "cell_type": "code",
   "execution_count": null,
   "metadata": {
    "hidden": true
   },
   "outputs": [],
   "source": [
    "def write_to_txt(arr, fname, sep='\\n'):\n",
    "    with open(fname, 'w') as f:\n",
    "        for line in arr:\n",
    "            f.write(line + sep)"
   ]
  },
  {
   "cell_type": "code",
   "execution_count": null,
   "metadata": {
    "hidden": true
   },
   "outputs": [],
   "source": [
    "write_to_txt(train_images, os.path.join(DATASET_DIR, 'further_train_split.txt'))"
   ]
  },
  {
   "cell_type": "code",
   "execution_count": null,
   "metadata": {
    "hidden": true
   },
   "outputs": [],
   "source": [
    "write_to_txt(val_images, os.path.join(DATASET_DIR, 'further_val_split.txt'))"
   ]
  },
  {
   "cell_type": "code",
   "execution_count": null,
   "metadata": {
    "hidden": true
   },
   "outputs": [],
   "source": []
  },
  {
   "cell_type": "markdown",
   "metadata": {},
   "source": [
    "## Debug `CovidXDataset` class"
   ]
  },
  {
   "cell_type": "code",
   "execution_count": null,
   "metadata": {},
   "outputs": [],
   "source": [
    "%run covid_x.py"
   ]
  },
  {
   "cell_type": "code",
   "execution_count": null,
   "metadata": {},
   "outputs": [],
   "source": [
    "train_dataset = CovidXDataset('train')\n",
    "val_dataset = CovidXDataset('val')\n",
    "test_dataset = CovidXDataset('test')\n",
    "len(train_dataset), len(val_dataset), len(test_dataset)"
   ]
  },
  {
   "cell_type": "code",
   "execution_count": null,
   "metadata": {},
   "outputs": [],
   "source": [
    "train_patients = set(train_dataset._metadata_df['patient_id'])\n",
    "val_patients = set(val_dataset._metadata_df['patient_id'])\n",
    "test_patients = set(test_dataset._metadata_df['patient_id'])\n",
    "len(train_patients), len(val_patients), len(test_patients)"
   ]
  },
  {
   "cell_type": "code",
   "execution_count": null,
   "metadata": {},
   "outputs": [],
   "source": [
    "train_patients.intersection(test_patients), \\\n",
    "train_patients.intersection(val_patients), \\\n",
    "val_patients.intersection(test_patients)"
   ]
  },
  {
   "cell_type": "code",
   "execution_count": null,
   "metadata": {},
   "outputs": [],
   "source": []
  },
  {
   "cell_type": "code",
   "execution_count": null,
   "metadata": {},
   "outputs": [],
   "source": [
    "def get_dataset_distribution(dataset):\n",
    "    temp_df = dataset._metadata_df.groupby('label').count()\n",
    "    temp_df.rename(columns={'patient_id': 'counts'}, inplace=True)\n",
    "    \n",
    "    counts = temp_df['counts'].to_numpy()\n",
    "    total = sum(counts)\n",
    "    \n",
    "    temp_df['percentage'] = counts / total * 100\n",
    "    \n",
    "    return temp_df[['counts', 'percentage']]"
   ]
  },
  {
   "cell_type": "code",
   "execution_count": null,
   "metadata": {},
   "outputs": [],
   "source": [
    "get_dataset_distribution(train_dataset)"
   ]
  },
  {
   "cell_type": "code",
   "execution_count": null,
   "metadata": {},
   "outputs": [],
   "source": [
    "get_dataset_distribution(val_dataset)"
   ]
  },
  {
   "cell_type": "code",
   "execution_count": null,
   "metadata": {},
   "outputs": [],
   "source": [
    "get_dataset_distribution(test_dataset)"
   ]
  },
  {
   "cell_type": "code",
   "execution_count": null,
   "metadata": {},
   "outputs": [],
   "source": [
    "100 + 885 + 594"
   ]
  },
  {
   "cell_type": "code",
   "execution_count": null,
   "metadata": {},
   "outputs": [],
   "source": [
    "covid = 421 + 47 + 100\n",
    "pneum = 4913 + 545 + 594\n",
    "normal = 7170 + 796 + 594\n",
    "total = covid + pneum + normal\n",
    "total, covid, pneum, normal"
   ]
  },
  {
   "cell_type": "code",
   "execution_count": null,
   "metadata": {},
   "outputs": [],
   "source": [
    "covid / total * 100, pneum / total * 100, normal /total * 100 "
   ]
  },
  {
   "cell_type": "code",
   "execution_count": null,
   "metadata": {},
   "outputs": [],
   "source": [
    "4913 / 421, 7170 / 421"
   ]
  },
  {
   "cell_type": "code",
   "execution_count": null,
   "metadata": {},
   "outputs": [],
   "source": [
    "100 + 885 + 594"
   ]
  },
  {
   "cell_type": "code",
   "execution_count": null,
   "metadata": {},
   "outputs": [],
   "source": []
  },
  {
   "cell_type": "code",
   "execution_count": null,
   "metadata": {},
   "outputs": [],
   "source": []
  },
  {
   "cell_type": "code",
   "execution_count": null,
   "metadata": {},
   "outputs": [],
   "source": []
  }
 ],
 "metadata": {
  "kernelspec": {
   "display_name": "Python 3",
   "language": "python",
   "name": "python3"
  },
  "toc": {
   "base_numbering": 1,
   "nav_menu": {},
   "number_sections": true,
   "sideBar": true,
   "skip_h1_title": false,
   "title_cell": "Table of Contents",
   "title_sidebar": "Contents",
   "toc_cell": false,
   "toc_position": {},
   "toc_section_display": true,
   "toc_window_display": false
  }
 },
 "nbformat": 4,
 "nbformat_minor": 4
}
