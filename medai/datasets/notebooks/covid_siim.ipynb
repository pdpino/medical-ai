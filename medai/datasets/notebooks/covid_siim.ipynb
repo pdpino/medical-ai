{
 "cells": [
  {
   "cell_type": "markdown",
   "metadata": {},
   "source": [
    "# Imports"
   ]
  },
  {
   "cell_type": "code",
   "execution_count": 1,
   "metadata": {},
   "outputs": [],
   "source": [
    "import os\n",
    "from glob import glob\n",
    "from collections import Counter\n",
    "import pandas as pd\n",
    "import numpy as np\n",
    "import pydicom as pydcm"
   ]
  },
  {
   "cell_type": "code",
   "execution_count": 2,
   "metadata": {},
   "outputs": [],
   "source": [
    "from pydicom.pixel_data_handlers.util import apply_voi_lut"
   ]
  },
  {
   "cell_type": "code",
   "execution_count": 3,
   "metadata": {},
   "outputs": [],
   "source": [
    "import matplotlib\n",
    "import matplotlib.pyplot as plt\n",
    "matplotlib.rcParams['figure.facecolor'] = 'white'\n",
    "matplotlib.rcParams['figure.figsize'] = (15, 5)"
   ]
  },
  {
   "cell_type": "code",
   "execution_count": 4,
   "metadata": {},
   "outputs": [],
   "source": [
    "DATASET_DIR = '/mnt/workspace/covid-siim'\n",
    "DICOM_DIR = '/mnt/data/covid-siim'"
   ]
  },
  {
   "cell_type": "markdown",
   "metadata": {},
   "source": [
    "# Load metadata"
   ]
  },
  {
   "cell_type": "markdown",
   "metadata": {},
   "source": [
    "## Utils\n",
    "\n",
    "For pre-processing"
   ]
  },
  {
   "cell_type": "code",
   "execution_count": 29,
   "metadata": {},
   "outputs": [],
   "source": [
    "TRAIN_IMAGE_PATHS = glob(os.path.join(DICOM_DIR, 'train/*/*/*.dcm'))\n",
    "TEST_IMAGE_PATHS = glob(os.path.join(DICOM_DIR, 'test/*/*/*.dcm'))"
   ]
  },
  {
   "cell_type": "code",
   "execution_count": 30,
   "metadata": {},
   "outputs": [],
   "source": [
    "IMAGE_ID_TO_FPATH = {}\n",
    "\n",
    "for fpath in TRAIN_IMAGE_PATHS + TEST_IMAGE_PATHS:\n",
    "    imagename = os.path.basename(fpath).replace('.dcm', '')\n",
    "    assert imagename not in IMAGE_ID_TO_FPATH, f'Repeated filename: {filename}'\n",
    "    \n",
    "    image_fpath = fpath.replace(DICOM_DIR, '').replace('.dcm', '')\n",
    "    if image_fpath.startswith('/'):\n",
    "        image_fpath = image_fpath[1:]\n",
    "    IMAGE_ID_TO_FPATH[imagename] = image_fpath"
   ]
  },
  {
   "cell_type": "markdown",
   "metadata": {},
   "source": [
    "## Image-level labels"
   ]
  },
  {
   "cell_type": "code",
   "execution_count": 31,
   "metadata": {},
   "outputs": [
    {
     "data": {
      "text/html": [
       "<div>\n",
       "<style scoped>\n",
       "    .dataframe tbody tr th:only-of-type {\n",
       "        vertical-align: middle;\n",
       "    }\n",
       "\n",
       "    .dataframe tbody tr th {\n",
       "        vertical-align: top;\n",
       "    }\n",
       "\n",
       "    .dataframe thead th {\n",
       "        text-align: right;\n",
       "    }\n",
       "</style>\n",
       "<table border=\"1\" class=\"dataframe\">\n",
       "  <thead>\n",
       "    <tr style=\"text-align: right;\">\n",
       "      <th></th>\n",
       "      <th>id</th>\n",
       "      <th>boxes</th>\n",
       "      <th>label</th>\n",
       "      <th>StudyInstanceUID</th>\n",
       "      <th>image_fpath</th>\n",
       "    </tr>\n",
       "  </thead>\n",
       "  <tbody>\n",
       "    <tr>\n",
       "      <th>0</th>\n",
       "      <td>000a312787f2_image</td>\n",
       "      <td>[{'x': 789.28836, 'y': 582.43035, 'width': 102...</td>\n",
       "      <td>opacity 1 789.28836 582.43035 1815.94498 2499....</td>\n",
       "      <td>5776db0cec75</td>\n",
       "      <td>train/5776db0cec75/81456c9c5423/000a312787f2</td>\n",
       "    </tr>\n",
       "    <tr>\n",
       "      <th>1</th>\n",
       "      <td>000c3a3f293f_image</td>\n",
       "      <td>NaN</td>\n",
       "      <td>none 1 0 0 1 1</td>\n",
       "      <td>ff0879eb20ed</td>\n",
       "      <td>train/ff0879eb20ed/d8a644cc4f93/000c3a3f293f</td>\n",
       "    </tr>\n",
       "    <tr>\n",
       "      <th>2</th>\n",
       "      <td>0012ff7358bc_image</td>\n",
       "      <td>[{'x': 677.42216, 'y': 197.97662, 'width': 867...</td>\n",
       "      <td>opacity 1 677.42216 197.97662 1545.21983 1197....</td>\n",
       "      <td>9d514ce429a7</td>\n",
       "      <td>train/9d514ce429a7/22897cd1daa0/0012ff7358bc</td>\n",
       "    </tr>\n",
       "    <tr>\n",
       "      <th>3</th>\n",
       "      <td>001398f4ff4f_image</td>\n",
       "      <td>[{'x': 2729, 'y': 2181.33331, 'width': 948.000...</td>\n",
       "      <td>opacity 1 2729 2181.33331 3677.00012 2785.33331</td>\n",
       "      <td>28dddc8559b2</td>\n",
       "      <td>train/28dddc8559b2/4d47bc042ee6/001398f4ff4f</td>\n",
       "    </tr>\n",
       "    <tr>\n",
       "      <th>4</th>\n",
       "      <td>001bd15d1891_image</td>\n",
       "      <td>[{'x': 623.23328, 'y': 1050, 'width': 714, 'he...</td>\n",
       "      <td>opacity 1 623.23328 1050 1337.23328 2156 opaci...</td>\n",
       "      <td>dfd9fdd85a3e</td>\n",
       "      <td>train/dfd9fdd85a3e/49170afa4f27/001bd15d1891</td>\n",
       "    </tr>\n",
       "  </tbody>\n",
       "</table>\n",
       "</div>"
      ],
      "text/plain": [
       "                   id                                              boxes  \\\n",
       "0  000a312787f2_image  [{'x': 789.28836, 'y': 582.43035, 'width': 102...   \n",
       "1  000c3a3f293f_image                                                NaN   \n",
       "2  0012ff7358bc_image  [{'x': 677.42216, 'y': 197.97662, 'width': 867...   \n",
       "3  001398f4ff4f_image  [{'x': 2729, 'y': 2181.33331, 'width': 948.000...   \n",
       "4  001bd15d1891_image  [{'x': 623.23328, 'y': 1050, 'width': 714, 'he...   \n",
       "\n",
       "                                               label StudyInstanceUID  \\\n",
       "0  opacity 1 789.28836 582.43035 1815.94498 2499....     5776db0cec75   \n",
       "1                                     none 1 0 0 1 1     ff0879eb20ed   \n",
       "2  opacity 1 677.42216 197.97662 1545.21983 1197....     9d514ce429a7   \n",
       "3    opacity 1 2729 2181.33331 3677.00012 2785.33331     28dddc8559b2   \n",
       "4  opacity 1 623.23328 1050 1337.23328 2156 opaci...     dfd9fdd85a3e   \n",
       "\n",
       "                                    image_fpath  \n",
       "0  train/5776db0cec75/81456c9c5423/000a312787f2  \n",
       "1  train/ff0879eb20ed/d8a644cc4f93/000c3a3f293f  \n",
       "2  train/9d514ce429a7/22897cd1daa0/0012ff7358bc  \n",
       "3  train/28dddc8559b2/4d47bc042ee6/001398f4ff4f  \n",
       "4  train/dfd9fdd85a3e/49170afa4f27/001bd15d1891  "
      ]
     },
     "execution_count": 31,
     "metadata": {},
     "output_type": "execute_result"
    }
   ],
   "source": [
    "fpath = os.path.join(DATASET_DIR, 'train_image_level.csv')\n",
    "df_image = pd.read_csv(fpath)\n",
    "df_image['image_fpath'] = [\n",
    "    IMAGE_ID_TO_FPATH[image_id.replace('_image', '')]\n",
    "    for image_id in df_image['id']\n",
    "]\n",
    "df_image.head()"
   ]
  },
  {
   "cell_type": "code",
   "execution_count": 32,
   "metadata": {},
   "outputs": [],
   "source": [
    "def chunks(l, n):\n",
    "    for i in range(0, len(l), n):\n",
    "        yield l[i:i+n]"
   ]
  },
  {
   "cell_type": "code",
   "execution_count": 33,
   "metadata": {},
   "outputs": [
    {
     "data": {
      "text/plain": [
       "9893"
      ]
     },
     "execution_count": 33,
     "metadata": {},
     "output_type": "execute_result"
    }
   ],
   "source": [
    "labels_with_bb = list(df_image['label'])\n",
    "labels = [\n",
    "    label\n",
    "    for ll in labels_with_bb\n",
    "    for label, score, a, b, c, d in tuple(chunks(ll.split(), 6))\n",
    "]\n",
    "len(labels)"
   ]
  },
  {
   "cell_type": "code",
   "execution_count": 34,
   "metadata": {},
   "outputs": [
    {
     "data": {
      "text/plain": [
       "Counter({'opacity': 7853, 'none': 2040})"
      ]
     },
     "execution_count": 34,
     "metadata": {},
     "output_type": "execute_result"
    }
   ],
   "source": [
    "Counter(labels)"
   ]
  },
  {
   "cell_type": "markdown",
   "metadata": {},
   "source": [
    "## Study level labels"
   ]
  },
  {
   "cell_type": "code",
   "execution_count": 35,
   "metadata": {},
   "outputs": [
    {
     "data": {
      "text/html": [
       "<div>\n",
       "<style scoped>\n",
       "    .dataframe tbody tr th:only-of-type {\n",
       "        vertical-align: middle;\n",
       "    }\n",
       "\n",
       "    .dataframe tbody tr th {\n",
       "        vertical-align: top;\n",
       "    }\n",
       "\n",
       "    .dataframe thead th {\n",
       "        text-align: right;\n",
       "    }\n",
       "</style>\n",
       "<table border=\"1\" class=\"dataframe\">\n",
       "  <thead>\n",
       "    <tr style=\"text-align: right;\">\n",
       "      <th></th>\n",
       "      <th>id</th>\n",
       "      <th>Negative for Pneumonia</th>\n",
       "      <th>Typical Appearance</th>\n",
       "      <th>Indeterminate Appearance</th>\n",
       "      <th>Atypical Appearance</th>\n",
       "    </tr>\n",
       "  </thead>\n",
       "  <tbody>\n",
       "    <tr>\n",
       "      <th>0</th>\n",
       "      <td>00086460a852</td>\n",
       "      <td>0</td>\n",
       "      <td>1</td>\n",
       "      <td>0</td>\n",
       "      <td>0</td>\n",
       "    </tr>\n",
       "    <tr>\n",
       "      <th>1</th>\n",
       "      <td>000c9c05fd14</td>\n",
       "      <td>0</td>\n",
       "      <td>0</td>\n",
       "      <td>0</td>\n",
       "      <td>1</td>\n",
       "    </tr>\n",
       "    <tr>\n",
       "      <th>2</th>\n",
       "      <td>00292f8c37bd</td>\n",
       "      <td>1</td>\n",
       "      <td>0</td>\n",
       "      <td>0</td>\n",
       "      <td>0</td>\n",
       "    </tr>\n",
       "    <tr>\n",
       "      <th>3</th>\n",
       "      <td>005057b3f880</td>\n",
       "      <td>1</td>\n",
       "      <td>0</td>\n",
       "      <td>0</td>\n",
       "      <td>0</td>\n",
       "    </tr>\n",
       "    <tr>\n",
       "      <th>4</th>\n",
       "      <td>0051d9b12e72</td>\n",
       "      <td>0</td>\n",
       "      <td>0</td>\n",
       "      <td>0</td>\n",
       "      <td>1</td>\n",
       "    </tr>\n",
       "  </tbody>\n",
       "</table>\n",
       "</div>"
      ],
      "text/plain": [
       "             id  Negative for Pneumonia  Typical Appearance  \\\n",
       "0  00086460a852                       0                   1   \n",
       "1  000c9c05fd14                       0                   0   \n",
       "2  00292f8c37bd                       1                   0   \n",
       "3  005057b3f880                       1                   0   \n",
       "4  0051d9b12e72                       0                   0   \n",
       "\n",
       "   Indeterminate Appearance  Atypical Appearance  \n",
       "0                         0                    0  \n",
       "1                         0                    1  \n",
       "2                         0                    0  \n",
       "3                         0                    0  \n",
       "4                         0                    1  "
      ]
     },
     "execution_count": 35,
     "metadata": {},
     "output_type": "execute_result"
    }
   ],
   "source": [
    "fpath = os.path.join(DATASET_DIR, 'train_study_level.csv')\n",
    "df_study = pd.read_csv(fpath)\n",
    "df_study['id'] = [s.replace('_study', '') for s in df_study['id']]\n",
    "df_study.head()"
   ]
  },
  {
   "cell_type": "code",
   "execution_count": 37,
   "metadata": {},
   "outputs": [],
   "source": [
    "COVID_SIIM_DISEASES = [\n",
    "    'Negative for Pneumonia',\n",
    "    'Typical Appearance',\n",
    "    'Indeterminate Appearance',\n",
    "    'Atypical Appearance',\n",
    "]"
   ]
  },
  {
   "cell_type": "code",
   "execution_count": 38,
   "metadata": {},
   "outputs": [
    {
     "data": {
      "text/plain": [
       "Counter({1: 6054})"
      ]
     },
     "execution_count": 38,
     "metadata": {},
     "output_type": "execute_result"
    }
   ],
   "source": [
    "# Check if is multilabel or not\n",
    "Counter(df_study[COVID_SIIM_DISEASES].sum(axis=1).values)"
   ]
  },
  {
   "cell_type": "code",
   "execution_count": 39,
   "metadata": {},
   "outputs": [
    {
     "data": {
      "text/plain": [
       "Typical Appearance          2855\n",
       "Negative for Pneumonia      1676\n",
       "Indeterminate Appearance    1049\n",
       "Atypical Appearance          474\n",
       "dtype: int64"
      ]
     },
     "execution_count": 39,
     "metadata": {},
     "output_type": "execute_result"
    }
   ],
   "source": [
    "n_studies = len(df_study)\n",
    "dist_labels = df_study[COVID_SIIM_DISEASES].sum(axis=0).sort_values(ascending=False)\n",
    "dist_labels"
   ]
  },
  {
   "cell_type": "code",
   "execution_count": 46,
   "metadata": {},
   "outputs": [
    {
     "data": {
      "image/png": "[encoded data removed]",
      "text/plain": [
       "<Figure size 720x360 with 1 Axes>"
      ]
     },
     "metadata": {},
     "output_type": "display_data"
    }
   ],
   "source": [
    "plt.figure(figsize=(10, 5))\n",
    "plt.title('Labels distribution')\n",
    "plt.bar(dist_labels.index, dist_labels.values)\n",
    "plt.ylabel('N studies')\n",
    "plt.ylim(0, max(dist_labels.values) * 1.10)\n",
    "\n",
    "for index, value in enumerate(dist_labels.values):\n",
    "    perc = value / n_studies * 100\n",
    "    txt = f'{value:,} ({perc:.1f}%)'\n",
    "    plt.text(index, value * 1.02, txt, ha='center')"
   ]
  },
  {
   "cell_type": "markdown",
   "metadata": {
    "heading_collapsed": true
   },
   "source": [
    "### Split studies in train/val"
   ]
  },
  {
   "cell_type": "code",
   "execution_count": 47,
   "metadata": {
    "hidden": true
   },
   "outputs": [],
   "source": [
    "import random"
   ]
  },
  {
   "cell_type": "code",
   "execution_count": 48,
   "metadata": {
    "hidden": true
   },
   "outputs": [
    {
     "data": {
      "text/plain": [
       "6054"
      ]
     },
     "execution_count": 48,
     "metadata": {},
     "output_type": "execute_result"
    }
   ],
   "source": [
    "studies = list(df_study['id'])\n",
    "n_studies = len(studies)\n",
    "assert n_studies == len(set(studies))\n",
    "n_studies"
   ]
  },
  {
   "cell_type": "code",
   "execution_count": 49,
   "metadata": {
    "hidden": true
   },
   "outputs": [
    {
     "data": {
      "text/plain": [
       "(5449, 605)"
      ]
     },
     "execution_count": 49,
     "metadata": {},
     "output_type": "execute_result"
    }
   ],
   "source": [
    "val_split = 0.1\n",
    "n_val_studies = int(n_studies * val_split)\n",
    "n_train_studies = n_studies - n_val_studies\n",
    "n_train_studies, n_val_studies"
   ]
  },
  {
   "cell_type": "code",
   "execution_count": 50,
   "metadata": {
    "hidden": true
   },
   "outputs": [
    {
     "data": {
      "text/plain": [
       "(5449, 605)"
      ]
     },
     "execution_count": 50,
     "metadata": {},
     "output_type": "execute_result"
    }
   ],
   "source": [
    "val_studies = random.sample(studies, n_val_studies)\n",
    "train_studies = list(set(studies) - set(val_studies))\n",
    "assert len(set(val_studies).intersection(train_studies)) == 0\n",
    "len(train_studies), len(val_studies)"
   ]
  },
  {
   "cell_type": "code",
   "execution_count": 51,
   "metadata": {
    "hidden": true
   },
   "outputs": [],
   "source": [
    "def write_list_to_txt(arr, filepath, sep='\\n'):\n",
    "    \"\"\"Writes a list of strings to a file\"\"\"\n",
    "    with open(filepath, 'w') as f:\n",
    "        for line in arr:\n",
    "            f.write(line + sep)"
   ]
  },
  {
   "cell_type": "code",
   "execution_count": 135,
   "metadata": {
    "hidden": true
   },
   "outputs": [],
   "source": [
    "splits_folder = os.path.join(DATASET_DIR, 'splits')\n",
    "write_list_to_txt(train_studies, os.path.join(splits_folder, 'train.txt'))\n",
    "write_list_to_txt(val_studies, os.path.join(splits_folder, 'val.txt'))"
   ]
  },
  {
   "cell_type": "markdown",
   "metadata": {},
   "source": [
    "## Merge into master_metadata.csv"
   ]
  },
  {
   "cell_type": "code",
   "execution_count": 40,
   "metadata": {},
   "outputs": [
    {
     "data": {
      "text/html": [
       "<div>\n",
       "<style scoped>\n",
       "    .dataframe tbody tr th:only-of-type {\n",
       "        vertical-align: middle;\n",
       "    }\n",
       "\n",
       "    .dataframe tbody tr th {\n",
       "        vertical-align: top;\n",
       "    }\n",
       "\n",
       "    .dataframe thead th {\n",
       "        text-align: right;\n",
       "    }\n",
       "</style>\n",
       "<table border=\"1\" class=\"dataframe\">\n",
       "  <thead>\n",
       "    <tr style=\"text-align: right;\">\n",
       "      <th></th>\n",
       "      <th>id</th>\n",
       "      <th>Negative for Pneumonia</th>\n",
       "      <th>Typical Appearance</th>\n",
       "      <th>Indeterminate Appearance</th>\n",
       "      <th>Atypical Appearance</th>\n",
       "    </tr>\n",
       "  </thead>\n",
       "  <tbody>\n",
       "    <tr>\n",
       "      <th>0</th>\n",
       "      <td>00086460a852</td>\n",
       "      <td>0</td>\n",
       "      <td>1</td>\n",
       "      <td>0</td>\n",
       "      <td>0</td>\n",
       "    </tr>\n",
       "    <tr>\n",
       "      <th>1</th>\n",
       "      <td>000c9c05fd14</td>\n",
       "      <td>0</td>\n",
       "      <td>0</td>\n",
       "      <td>0</td>\n",
       "      <td>1</td>\n",
       "    </tr>\n",
       "  </tbody>\n",
       "</table>\n",
       "</div>"
      ],
      "text/plain": [
       "             id  Negative for Pneumonia  Typical Appearance  \\\n",
       "0  00086460a852                       0                   1   \n",
       "1  000c9c05fd14                       0                   0   \n",
       "\n",
       "   Indeterminate Appearance  Atypical Appearance  \n",
       "0                         0                    0  \n",
       "1                         0                    1  "
      ]
     },
     "execution_count": 40,
     "metadata": {},
     "output_type": "execute_result"
    }
   ],
   "source": [
    "df_study.head(2)"
   ]
  },
  {
   "cell_type": "code",
   "execution_count": 41,
   "metadata": {},
   "outputs": [
    {
     "data": {
      "text/html": [
       "<div>\n",
       "<style scoped>\n",
       "    .dataframe tbody tr th:only-of-type {\n",
       "        vertical-align: middle;\n",
       "    }\n",
       "\n",
       "    .dataframe tbody tr th {\n",
       "        vertical-align: top;\n",
       "    }\n",
       "\n",
       "    .dataframe thead th {\n",
       "        text-align: right;\n",
       "    }\n",
       "</style>\n",
       "<table border=\"1\" class=\"dataframe\">\n",
       "  <thead>\n",
       "    <tr style=\"text-align: right;\">\n",
       "      <th></th>\n",
       "      <th>id</th>\n",
       "      <th>boxes</th>\n",
       "      <th>label</th>\n",
       "      <th>StudyInstanceUID</th>\n",
       "      <th>image_fpath</th>\n",
       "    </tr>\n",
       "  </thead>\n",
       "  <tbody>\n",
       "    <tr>\n",
       "      <th>0</th>\n",
       "      <td>000a312787f2_image</td>\n",
       "      <td>[{'x': 789.28836, 'y': 582.43035, 'width': 102...</td>\n",
       "      <td>opacity 1 789.28836 582.43035 1815.94498 2499....</td>\n",
       "      <td>5776db0cec75</td>\n",
       "      <td>train/5776db0cec75/81456c9c5423/000a312787f2</td>\n",
       "    </tr>\n",
       "    <tr>\n",
       "      <th>1</th>\n",
       "      <td>000c3a3f293f_image</td>\n",
       "      <td>NaN</td>\n",
       "      <td>none 1 0 0 1 1</td>\n",
       "      <td>ff0879eb20ed</td>\n",
       "      <td>train/ff0879eb20ed/d8a644cc4f93/000c3a3f293f</td>\n",
       "    </tr>\n",
       "  </tbody>\n",
       "</table>\n",
       "</div>"
      ],
      "text/plain": [
       "                   id                                              boxes  \\\n",
       "0  000a312787f2_image  [{'x': 789.28836, 'y': 582.43035, 'width': 102...   \n",
       "1  000c3a3f293f_image                                                NaN   \n",
       "\n",
       "                                               label StudyInstanceUID  \\\n",
       "0  opacity 1 789.28836 582.43035 1815.94498 2499....     5776db0cec75   \n",
       "1                                     none 1 0 0 1 1     ff0879eb20ed   \n",
       "\n",
       "                                    image_fpath  \n",
       "0  train/5776db0cec75/81456c9c5423/000a312787f2  \n",
       "1  train/ff0879eb20ed/d8a644cc4f93/000c3a3f293f  "
      ]
     },
     "execution_count": 41,
     "metadata": {},
     "output_type": "execute_result"
    }
   ],
   "source": [
    "df_image.head(2)"
   ]
  },
  {
   "cell_type": "code",
   "execution_count": 42,
   "metadata": {},
   "outputs": [
    {
     "data": {
      "text/plain": [
       "True"
      ]
     },
     "execution_count": 42,
     "metadata": {},
     "output_type": "execute_result"
    }
   ],
   "source": [
    "set(df_study['id']) == set(df_image['StudyInstanceUID'])"
   ]
  },
  {
   "cell_type": "code",
   "execution_count": 43,
   "metadata": {},
   "outputs": [],
   "source": [
    "df_image_2 = df_image.copy()\n",
    "df_image_2['image_id'] = [i.replace('_image', '') for i in df_image_2['id']]\n",
    "del df_image_2['id']"
   ]
  },
  {
   "cell_type": "code",
   "execution_count": 56,
   "metadata": {},
   "outputs": [
    {
     "data": {
      "text/html": [
       "<div>\n",
       "<style scoped>\n",
       "    .dataframe tbody tr th:only-of-type {\n",
       "        vertical-align: middle;\n",
       "    }\n",
       "\n",
       "    .dataframe tbody tr th {\n",
       "        vertical-align: top;\n",
       "    }\n",
       "\n",
       "    .dataframe thead th {\n",
       "        text-align: right;\n",
       "    }\n",
       "</style>\n",
       "<table border=\"1\" class=\"dataframe\">\n",
       "  <thead>\n",
       "    <tr style=\"text-align: right;\">\n",
       "      <th></th>\n",
       "      <th>boxes</th>\n",
       "      <th>label</th>\n",
       "      <th>study_id</th>\n",
       "      <th>image_fpath</th>\n",
       "      <th>image_id</th>\n",
       "      <th>Negative for Pneumonia</th>\n",
       "      <th>Typical Appearance</th>\n",
       "      <th>Indeterminate Appearance</th>\n",
       "      <th>Atypical Appearance</th>\n",
       "    </tr>\n",
       "  </thead>\n",
       "  <tbody>\n",
       "    <tr>\n",
       "      <th>0</th>\n",
       "      <td>[{'x': 789.28836, 'y': 582.43035, 'width': 102...</td>\n",
       "      <td>opacity 1 789.28836 582.43035 1815.94498 2499....</td>\n",
       "      <td>5776db0cec75</td>\n",
       "      <td>train/5776db0cec75/81456c9c5423/000a312787f2</td>\n",
       "      <td>000a312787f2</td>\n",
       "      <td>0</td>\n",
       "      <td>1</td>\n",
       "      <td>0</td>\n",
       "      <td>0</td>\n",
       "    </tr>\n",
       "    <tr>\n",
       "      <th>1</th>\n",
       "      <td>NaN</td>\n",
       "      <td>none 1 0 0 1 1</td>\n",
       "      <td>ff0879eb20ed</td>\n",
       "      <td>train/ff0879eb20ed/d8a644cc4f93/000c3a3f293f</td>\n",
       "      <td>000c3a3f293f</td>\n",
       "      <td>1</td>\n",
       "      <td>0</td>\n",
       "      <td>0</td>\n",
       "      <td>0</td>\n",
       "    </tr>\n",
       "  </tbody>\n",
       "</table>\n",
       "</div>"
      ],
      "text/plain": [
       "                                               boxes  \\\n",
       "0  [{'x': 789.28836, 'y': 582.43035, 'width': 102...   \n",
       "1                                                NaN   \n",
       "\n",
       "                                               label      study_id  \\\n",
       "0  opacity 1 789.28836 582.43035 1815.94498 2499....  5776db0cec75   \n",
       "1                                     none 1 0 0 1 1  ff0879eb20ed   \n",
       "\n",
       "                                    image_fpath      image_id  \\\n",
       "0  train/5776db0cec75/81456c9c5423/000a312787f2  000a312787f2   \n",
       "1  train/ff0879eb20ed/d8a644cc4f93/000c3a3f293f  000c3a3f293f   \n",
       "\n",
       "   Negative for Pneumonia  Typical Appearance  Indeterminate Appearance  \\\n",
       "0                       0                   1                         0   \n",
       "1                       1                   0                         0   \n",
       "\n",
       "   Atypical Appearance  \n",
       "0                    0  \n",
       "1                    0  "
      ]
     },
     "execution_count": 56,
     "metadata": {},
     "output_type": "execute_result"
    }
   ],
   "source": [
    "master_df = df_image_2.merge(df_study, how='inner', left_on='StudyInstanceUID', right_on='id')\n",
    "del master_df['id']\n",
    "master_df.rename(columns={'StudyInstanceUID': 'study_id'}, inplace=True)\n",
    "master_df.head(2)"
   ]
  },
  {
   "cell_type": "code",
   "execution_count": 51,
   "metadata": {},
   "outputs": [],
   "source": [
    "assert len(master_df) == len(df_image)"
   ]
  },
  {
   "cell_type": "markdown",
   "metadata": {},
   "source": [
    "### Add test images to metadata.csv"
   ]
  },
  {
   "cell_type": "code",
   "execution_count": 57,
   "metadata": {},
   "outputs": [],
   "source": [
    "import re"
   ]
  },
  {
   "cell_type": "code",
   "execution_count": 58,
   "metadata": {},
   "outputs": [
    {
     "data": {
      "text/plain": [
       "1263"
      ]
     },
     "execution_count": 58,
     "metadata": {},
     "output_type": "execute_result"
    }
   ],
   "source": [
    "test_metadata = []\n",
    "for image_fpath in TEST_IMAGE_PATHS:\n",
    "    image_id = os.path.basename(image_fpath).replace('.dcm', '')\n",
    "    study_id = re.search(r'.*test\\/([a-z\\d]+)\\/.*', image_fpath).group(1)\n",
    "    \n",
    "    fpath = image_fpath.replace(DICOM_DIR, '').replace('.dcm', '')\n",
    "    if fpath.startswith('/'):\n",
    "        fpath = fpath[1:]\n",
    "    test_metadata.append((\n",
    "        image_id, study_id, fpath, [], 'none 1 0 0 1 1', 0, 0, 0, 0,\n",
    "    ))\n",
    "len(test_metadata)"
   ]
  },
  {
   "cell_type": "code",
   "execution_count": 59,
   "metadata": {},
   "outputs": [
    {
     "data": {
      "text/html": [
       "<div>\n",
       "<style scoped>\n",
       "    .dataframe tbody tr th:only-of-type {\n",
       "        vertical-align: middle;\n",
       "    }\n",
       "\n",
       "    .dataframe tbody tr th {\n",
       "        vertical-align: top;\n",
       "    }\n",
       "\n",
       "    .dataframe thead th {\n",
       "        text-align: right;\n",
       "    }\n",
       "</style>\n",
       "<table border=\"1\" class=\"dataframe\">\n",
       "  <thead>\n",
       "    <tr style=\"text-align: right;\">\n",
       "      <th></th>\n",
       "      <th>image_id</th>\n",
       "      <th>study_id</th>\n",
       "      <th>image_fpath</th>\n",
       "      <th>boxes</th>\n",
       "      <th>label</th>\n",
       "      <th>Negative for Pneumonia</th>\n",
       "      <th>Typical Appearance</th>\n",
       "      <th>Indeterminate Appearance</th>\n",
       "      <th>Atypical Appearance</th>\n",
       "    </tr>\n",
       "  </thead>\n",
       "  <tbody>\n",
       "    <tr>\n",
       "      <th>0</th>\n",
       "      <td>3a81bc9c91c9</td>\n",
       "      <td>c731d74015f8</td>\n",
       "      <td>test/c731d74015f8/719b2b5798d1/3a81bc9c91c9</td>\n",
       "      <td>[]</td>\n",
       "      <td>none 1 0 0 1 1</td>\n",
       "      <td>0</td>\n",
       "      <td>0</td>\n",
       "      <td>0</td>\n",
       "      <td>0</td>\n",
       "    </tr>\n",
       "    <tr>\n",
       "      <th>1</th>\n",
       "      <td>572d5c14fc66</td>\n",
       "      <td>0816f9d3875e</td>\n",
       "      <td>test/0816f9d3875e/d7929996174c/572d5c14fc66</td>\n",
       "      <td>[]</td>\n",
       "      <td>none 1 0 0 1 1</td>\n",
       "      <td>0</td>\n",
       "      <td>0</td>\n",
       "      <td>0</td>\n",
       "      <td>0</td>\n",
       "    </tr>\n",
       "    <tr>\n",
       "      <th>2</th>\n",
       "      <td>3dcdfc352a06</td>\n",
       "      <td>00188a671292</td>\n",
       "      <td>test/00188a671292/3eb5a506ccf3/3dcdfc352a06</td>\n",
       "      <td>[]</td>\n",
       "      <td>none 1 0 0 1 1</td>\n",
       "      <td>0</td>\n",
       "      <td>0</td>\n",
       "      <td>0</td>\n",
       "      <td>0</td>\n",
       "    </tr>\n",
       "    <tr>\n",
       "      <th>3</th>\n",
       "      <td>7553bffc2232</td>\n",
       "      <td>17ffbc3d2207</td>\n",
       "      <td>test/17ffbc3d2207/890d435d6ea0/7553bffc2232</td>\n",
       "      <td>[]</td>\n",
       "      <td>none 1 0 0 1 1</td>\n",
       "      <td>0</td>\n",
       "      <td>0</td>\n",
       "      <td>0</td>\n",
       "      <td>0</td>\n",
       "    </tr>\n",
       "    <tr>\n",
       "      <th>4</th>\n",
       "      <td>a522fd19d916</td>\n",
       "      <td>28156ad1b4cc</td>\n",
       "      <td>test/28156ad1b4cc/f7794eaf81e2/a522fd19d916</td>\n",
       "      <td>[]</td>\n",
       "      <td>none 1 0 0 1 1</td>\n",
       "      <td>0</td>\n",
       "      <td>0</td>\n",
       "      <td>0</td>\n",
       "      <td>0</td>\n",
       "    </tr>\n",
       "  </tbody>\n",
       "</table>\n",
       "</div>"
      ],
      "text/plain": [
       "       image_id      study_id                                  image_fpath  \\\n",
       "0  3a81bc9c91c9  c731d74015f8  test/c731d74015f8/719b2b5798d1/3a81bc9c91c9   \n",
       "1  572d5c14fc66  0816f9d3875e  test/0816f9d3875e/d7929996174c/572d5c14fc66   \n",
       "2  3dcdfc352a06  00188a671292  test/00188a671292/3eb5a506ccf3/3dcdfc352a06   \n",
       "3  7553bffc2232  17ffbc3d2207  test/17ffbc3d2207/890d435d6ea0/7553bffc2232   \n",
       "4  a522fd19d916  28156ad1b4cc  test/28156ad1b4cc/f7794eaf81e2/a522fd19d916   \n",
       "\n",
       "  boxes           label  Negative for Pneumonia  Typical Appearance  \\\n",
       "0    []  none 1 0 0 1 1                       0                   0   \n",
       "1    []  none 1 0 0 1 1                       0                   0   \n",
       "2    []  none 1 0 0 1 1                       0                   0   \n",
       "3    []  none 1 0 0 1 1                       0                   0   \n",
       "4    []  none 1 0 0 1 1                       0                   0   \n",
       "\n",
       "   Indeterminate Appearance  Atypical Appearance  \n",
       "0                         0                    0  \n",
       "1                         0                    0  \n",
       "2                         0                    0  \n",
       "3                         0                    0  \n",
       "4                         0                    0  "
      ]
     },
     "execution_count": 59,
     "metadata": {},
     "output_type": "execute_result"
    }
   ],
   "source": [
    "cols = ['image_id', 'study_id', 'image_fpath', 'boxes', 'label', *COVID_SIIM_DISEASES]\n",
    "test_df = pd.DataFrame(test_metadata, columns=cols)\n",
    "test_df.head()"
   ]
  },
  {
   "cell_type": "code",
   "execution_count": 60,
   "metadata": {},
   "outputs": [
    {
     "data": {
      "text/plain": [
       "7597"
      ]
     },
     "execution_count": 60,
     "metadata": {},
     "output_type": "execute_result"
    }
   ],
   "source": [
    "master_df = master_df.append(test_df)\n",
    "assert len(master_df) == len(df_image) + len(test_df)\n",
    "len(master_df)"
   ]
  },
  {
   "cell_type": "code",
   "execution_count": 61,
   "metadata": {},
   "outputs": [],
   "source": [
    "master_df.fillna(\"[]\", inplace=True)"
   ]
  },
  {
   "cell_type": "code",
   "execution_count": 62,
   "metadata": {},
   "outputs": [
    {
     "data": {
      "text/plain": [
       "boxes                       False\n",
       "label                       False\n",
       "study_id                    False\n",
       "image_fpath                 False\n",
       "image_id                    False\n",
       "Negative for Pneumonia      False\n",
       "Typical Appearance          False\n",
       "Indeterminate Appearance    False\n",
       "Atypical Appearance         False\n",
       "dtype: bool"
      ]
     },
     "execution_count": 62,
     "metadata": {},
     "output_type": "execute_result"
    }
   ],
   "source": [
    "master_df.isnull().any(axis=0)"
   ]
  },
  {
   "cell_type": "code",
   "execution_count": 63,
   "metadata": {},
   "outputs": [
    {
     "data": {
      "text/html": [
       "<div>\n",
       "<style scoped>\n",
       "    .dataframe tbody tr th:only-of-type {\n",
       "        vertical-align: middle;\n",
       "    }\n",
       "\n",
       "    .dataframe tbody tr th {\n",
       "        vertical-align: top;\n",
       "    }\n",
       "\n",
       "    .dataframe thead th {\n",
       "        text-align: right;\n",
       "    }\n",
       "</style>\n",
       "<table border=\"1\" class=\"dataframe\">\n",
       "  <thead>\n",
       "    <tr style=\"text-align: right;\">\n",
       "      <th></th>\n",
       "      <th>boxes</th>\n",
       "      <th>label</th>\n",
       "      <th>study_id</th>\n",
       "      <th>image_fpath</th>\n",
       "      <th>image_id</th>\n",
       "      <th>Negative for Pneumonia</th>\n",
       "      <th>Typical Appearance</th>\n",
       "      <th>Indeterminate Appearance</th>\n",
       "      <th>Atypical Appearance</th>\n",
       "      <th>disease</th>\n",
       "    </tr>\n",
       "  </thead>\n",
       "  <tbody>\n",
       "    <tr>\n",
       "      <th>0</th>\n",
       "      <td>[{'x': 789.28836, 'y': 582.43035, 'width': 102...</td>\n",
       "      <td>opacity 1 789.28836 582.43035 1815.94498 2499....</td>\n",
       "      <td>5776db0cec75</td>\n",
       "      <td>train/5776db0cec75/81456c9c5423/000a312787f2</td>\n",
       "      <td>000a312787f2</td>\n",
       "      <td>0</td>\n",
       "      <td>1</td>\n",
       "      <td>0</td>\n",
       "      <td>0</td>\n",
       "      <td>1</td>\n",
       "    </tr>\n",
       "    <tr>\n",
       "      <th>1</th>\n",
       "      <td>[]</td>\n",
       "      <td>none 1 0 0 1 1</td>\n",
       "      <td>ff0879eb20ed</td>\n",
       "      <td>train/ff0879eb20ed/d8a644cc4f93/000c3a3f293f</td>\n",
       "      <td>000c3a3f293f</td>\n",
       "      <td>1</td>\n",
       "      <td>0</td>\n",
       "      <td>0</td>\n",
       "      <td>0</td>\n",
       "      <td>0</td>\n",
       "    </tr>\n",
       "  </tbody>\n",
       "</table>\n",
       "</div>"
      ],
      "text/plain": [
       "                                               boxes  \\\n",
       "0  [{'x': 789.28836, 'y': 582.43035, 'width': 102...   \n",
       "1                                                 []   \n",
       "\n",
       "                                               label      study_id  \\\n",
       "0  opacity 1 789.28836 582.43035 1815.94498 2499....  5776db0cec75   \n",
       "1                                     none 1 0 0 1 1  ff0879eb20ed   \n",
       "\n",
       "                                    image_fpath      image_id  \\\n",
       "0  train/5776db0cec75/81456c9c5423/000a312787f2  000a312787f2   \n",
       "1  train/ff0879eb20ed/d8a644cc4f93/000c3a3f293f  000c3a3f293f   \n",
       "\n",
       "   Negative for Pneumonia  Typical Appearance  Indeterminate Appearance  \\\n",
       "0                       0                   1                         0   \n",
       "1                       1                   0                         0   \n",
       "\n",
       "   Atypical Appearance  disease  \n",
       "0                    0        1  \n",
       "1                    0        0  "
      ]
     },
     "execution_count": 63,
     "metadata": {},
     "output_type": "execute_result"
    }
   ],
   "source": [
    "master_df['disease'] = [\n",
    "    np.argmax(row[COVID_SIIM_DISEASES])\n",
    "    for _, row in master_df.iterrows()\n",
    "]\n",
    "master_df.head(2)"
   ]
  },
  {
   "cell_type": "markdown",
   "metadata": {},
   "source": [
    "## Save original_size into metadata"
   ]
  },
  {
   "cell_type": "code",
   "execution_count": null,
   "metadata": {},
   "outputs": [],
   "source": [
    "original_heights = []\n",
    "original_widths = []\n",
    "\n",
    "for _, row in master_df.iterrows():\n",
    "    path = os.path.join(DATASET_DIR, 'images', f\"{row['image_fpath']}.png\")\n",
    "    image = load_image(path, 'RGB')\n",
    "    \n",
    "    height = image.height\n",
    "    width = image.width\n",
    "    \n",
    "    original_heights.append(height)\n",
    "    original_widths.append(width)\n",
    "\n",
    "master_df['original_height'] = original_heights\n",
    "master_df['original_width'] = original_widths\n",
    "master_df.head()"
   ]
  },
  {
   "cell_type": "code",
   "execution_count": 111,
   "metadata": {},
   "outputs": [
    {
     "data": {
      "text/html": [
       "<div>\n",
       "<style scoped>\n",
       "    .dataframe tbody tr th:only-of-type {\n",
       "        vertical-align: middle;\n",
       "    }\n",
       "\n",
       "    .dataframe tbody tr th {\n",
       "        vertical-align: top;\n",
       "    }\n",
       "\n",
       "    .dataframe thead th {\n",
       "        text-align: right;\n",
       "    }\n",
       "</style>\n",
       "<table border=\"1\" class=\"dataframe\">\n",
       "  <thead>\n",
       "    <tr style=\"text-align: right;\">\n",
       "      <th></th>\n",
       "      <th>boxes</th>\n",
       "      <th>label</th>\n",
       "      <th>study_id</th>\n",
       "      <th>image_fpath</th>\n",
       "      <th>image_id</th>\n",
       "      <th>Negative for Pneumonia</th>\n",
       "      <th>Typical Appearance</th>\n",
       "      <th>Indeterminate Appearance</th>\n",
       "      <th>Atypical Appearance</th>\n",
       "      <th>disease</th>\n",
       "      <th>original_height</th>\n",
       "      <th>original_width</th>\n",
       "    </tr>\n",
       "  </thead>\n",
       "  <tbody>\n",
       "    <tr>\n",
       "      <th>0</th>\n",
       "      <td>[{'x': 789.28836, 'y': 582.43035, 'width': 102...</td>\n",
       "      <td>opacity 1 789.28836 582.43035 1815.94498 2499....</td>\n",
       "      <td>5776db0cec75</td>\n",
       "      <td>train/5776db0cec75/81456c9c5423/000a312787f2</td>\n",
       "      <td>000a312787f2</td>\n",
       "      <td>0</td>\n",
       "      <td>1</td>\n",
       "      <td>0</td>\n",
       "      <td>0</td>\n",
       "      <td>1</td>\n",
       "      <td>3488</td>\n",
       "      <td>4256</td>\n",
       "    </tr>\n",
       "    <tr>\n",
       "      <th>1</th>\n",
       "      <td>[]</td>\n",
       "      <td>none 1 0 0 1 1</td>\n",
       "      <td>ff0879eb20ed</td>\n",
       "      <td>train/ff0879eb20ed/d8a644cc4f93/000c3a3f293f</td>\n",
       "      <td>000c3a3f293f</td>\n",
       "      <td>1</td>\n",
       "      <td>0</td>\n",
       "      <td>0</td>\n",
       "      <td>0</td>\n",
       "      <td>0</td>\n",
       "      <td>2320</td>\n",
       "      <td>2832</td>\n",
       "    </tr>\n",
       "    <tr>\n",
       "      <th>2</th>\n",
       "      <td>[{'x': 677.42216, 'y': 197.97662, 'width': 867...</td>\n",
       "      <td>opacity 1 677.42216 197.97662 1545.21983 1197....</td>\n",
       "      <td>9d514ce429a7</td>\n",
       "      <td>train/9d514ce429a7/22897cd1daa0/0012ff7358bc</td>\n",
       "      <td>0012ff7358bc</td>\n",
       "      <td>0</td>\n",
       "      <td>1</td>\n",
       "      <td>0</td>\n",
       "      <td>0</td>\n",
       "      <td>1</td>\n",
       "      <td>2544</td>\n",
       "      <td>3056</td>\n",
       "    </tr>\n",
       "    <tr>\n",
       "      <th>3</th>\n",
       "      <td>[{'x': 2729, 'y': 2181.33331, 'width': 948.000...</td>\n",
       "      <td>opacity 1 2729 2181.33331 3677.00012 2785.33331</td>\n",
       "      <td>28dddc8559b2</td>\n",
       "      <td>train/28dddc8559b2/4d47bc042ee6/001398f4ff4f</td>\n",
       "      <td>001398f4ff4f</td>\n",
       "      <td>0</td>\n",
       "      <td>0</td>\n",
       "      <td>0</td>\n",
       "      <td>1</td>\n",
       "      <td>3</td>\n",
       "      <td>3520</td>\n",
       "      <td>4280</td>\n",
       "    </tr>\n",
       "    <tr>\n",
       "      <th>4</th>\n",
       "      <td>[{'x': 623.23328, 'y': 1050, 'width': 714, 'he...</td>\n",
       "      <td>opacity 1 623.23328 1050 1337.23328 2156 opaci...</td>\n",
       "      <td>dfd9fdd85a3e</td>\n",
       "      <td>train/dfd9fdd85a3e/49170afa4f27/001bd15d1891</td>\n",
       "      <td>001bd15d1891</td>\n",
       "      <td>0</td>\n",
       "      <td>1</td>\n",
       "      <td>0</td>\n",
       "      <td>0</td>\n",
       "      <td>1</td>\n",
       "      <td>2800</td>\n",
       "      <td>3408</td>\n",
       "    </tr>\n",
       "  </tbody>\n",
       "</table>\n",
       "</div>"
      ],
      "text/plain": [
       "                                               boxes  \\\n",
       "0  [{'x': 789.28836, 'y': 582.43035, 'width': 102...   \n",
       "1                                                 []   \n",
       "2  [{'x': 677.42216, 'y': 197.97662, 'width': 867...   \n",
       "3  [{'x': 2729, 'y': 2181.33331, 'width': 948.000...   \n",
       "4  [{'x': 623.23328, 'y': 1050, 'width': 714, 'he...   \n",
       "\n",
       "                                               label      study_id  \\\n",
       "0  opacity 1 789.28836 582.43035 1815.94498 2499....  5776db0cec75   \n",
       "1                                     none 1 0 0 1 1  ff0879eb20ed   \n",
       "2  opacity 1 677.42216 197.97662 1545.21983 1197....  9d514ce429a7   \n",
       "3    opacity 1 2729 2181.33331 3677.00012 2785.33331  28dddc8559b2   \n",
       "4  opacity 1 623.23328 1050 1337.23328 2156 opaci...  dfd9fdd85a3e   \n",
       "\n",
       "                                    image_fpath      image_id  \\\n",
       "0  train/5776db0cec75/81456c9c5423/000a312787f2  000a312787f2   \n",
       "1  train/ff0879eb20ed/d8a644cc4f93/000c3a3f293f  000c3a3f293f   \n",
       "2  train/9d514ce429a7/22897cd1daa0/0012ff7358bc  0012ff7358bc   \n",
       "3  train/28dddc8559b2/4d47bc042ee6/001398f4ff4f  001398f4ff4f   \n",
       "4  train/dfd9fdd85a3e/49170afa4f27/001bd15d1891  001bd15d1891   \n",
       "\n",
       "   Negative for Pneumonia  Typical Appearance  Indeterminate Appearance  \\\n",
       "0                       0                   1                         0   \n",
       "1                       1                   0                         0   \n",
       "2                       0                   1                         0   \n",
       "3                       0                   0                         0   \n",
       "4                       0                   1                         0   \n",
       "\n",
       "   Atypical Appearance  disease  original_height  original_width  \n",
       "0                    0        1             3488            4256  \n",
       "1                    0        0             2320            2832  \n",
       "2                    0        1             2544            3056  \n",
       "3                    1        3             3520            4280  \n",
       "4                    0        1             2800            3408  "
      ]
     },
     "execution_count": 111,
     "metadata": {},
     "output_type": "execute_result"
    }
   ],
   "source": [
    "master_df.head()"
   ]
  },
  {
   "cell_type": "code",
   "execution_count": 113,
   "metadata": {},
   "outputs": [],
   "source": [
    "master_df.to_csv(os.path.join(DATASET_DIR, 'metadata.csv'), index=False)"
   ]
  },
  {
   "cell_type": "markdown",
   "metadata": {},
   "source": [
    "## Create bboxes_by_image_id"
   ]
  },
  {
   "cell_type": "code",
   "execution_count": 78,
   "metadata": {},
   "outputs": [],
   "source": [
    "import json\n",
    "import ast"
   ]
  },
  {
   "cell_type": "code",
   "execution_count": 93,
   "metadata": {},
   "outputs": [
    {
     "data": {
      "text/plain": [
       "7597"
      ]
     },
     "execution_count": 93,
     "metadata": {},
     "output_type": "execute_result"
    }
   ],
   "source": [
    "cols = ['image_id', 'boxes']\n",
    "d = master_df[cols] # .set_index('image_id')\n",
    "\n",
    "bboxes_by_image_id = dict()\n",
    "errors = []\n",
    "for index, row in d.iterrows():\n",
    "    image_id = row['image_id']\n",
    "    boxes = row['boxes']\n",
    "\n",
    "    if isinstance(boxes, str):\n",
    "        boxes = ast.literal_eval(boxes)\n",
    "\n",
    "    bboxes_by_image_id[image_id] = boxes\n",
    "len(bboxes_by_image_id)"
   ]
  },
  {
   "cell_type": "code",
   "execution_count": 95,
   "metadata": {},
   "outputs": [],
   "source": [
    "with open(os.path.join(DATASET_DIR, 'bboxes.json'), 'w') as f:\n",
    "    json.dump(bboxes_by_image_id, f, indent=2)"
   ]
  },
  {
   "cell_type": "markdown",
   "metadata": {},
   "source": [
    "# Load one DICOM sample"
   ]
  },
  {
   "cell_type": "code",
   "execution_count": 71,
   "metadata": {},
   "outputs": [],
   "source": [
    "# name = 'train/00086460a852/9e8302230c91/65761e66de9f.dcm'\n",
    "name = 'test/00188a671292/3eb5a506ccf3/3dcdfc352a06.dcm'\n",
    "fpath = os.path.join(DICOM_DIR, name)"
   ]
  },
  {
   "cell_type": "code",
   "execution_count": 72,
   "metadata": {},
   "outputs": [
    {
     "data": {
      "text/plain": [
       "(0008, 0005) Specific Character Set              CS: 'ISO_IR 100'\n",
       "(0008, 0008) Image Type                          CS: ['ORIGINAL', 'PRIMARY']\n",
       "(0008, 0016) SOP Class UID                       UI: 03a65300fa41\n",
       "(0008, 0018) SOP Instance UID                    UI: 3dcdfc352a06\n",
       "(0008, 0020) Study Date                          DA: 'cada73552f2d'\n",
       "(0008, 0030) Study Time                          TM: 'aa1e61c343c6'\n",
       "(0008, 0050) Accession Number                    SH: u'650c486678b5'\n",
       "(0008, 0060) Modality                            CS: 'CR'\n",
       "(0010, 0010) Patient's Name                      PN: u'11c7067a2eb8'\n",
       "(0010, 0020) Patient ID                          LO: u'180a110dcd8d'\n",
       "(0010, 0040) Patient's Sex                       CS: 'F'\n",
       "(0012, 0063) De-identification Method            LO: u'CTP Default:  based on DICOM PS3.15 AnnexE. Details in 0012,0064'\n",
       "(0012, 0064)  De-identification Method Code Sequence   6 item(s) ---- \n",
       "   (0008, 0100) Code Value                          SH: u'113100'\n",
       "   (0008, 0102) Coding Scheme Designator            SH: u'DCM'\n",
       "   (0008, 0104) Code Meaning                        LO: u'Basic Application Confidentiality Profile'\n",
       "   ---------\n",
       "   (0008, 0100) Code Value                          SH: u'113105'\n",
       "   (0008, 0102) Coding Scheme Designator            SH: u'DCM'\n",
       "   (0008, 0104) Code Meaning                        LO: u'Clean Descriptors Option'\n",
       "   ---------\n",
       "   (0008, 0100) Code Value                          SH: u'113107'\n",
       "   (0008, 0102) Coding Scheme Designator            SH: u'DCM'\n",
       "   (0008, 0104) Code Meaning                        LO: u'Retain Longitudinal Temporal Information Modified Dates Option'\n",
       "   ---------\n",
       "   (0008, 0100) Code Value                          SH: u'113108'\n",
       "   (0008, 0102) Coding Scheme Designator            SH: u'DCM'\n",
       "   (0008, 0104) Code Meaning                        LO: u'Retain Patient Characteristics Option'\n",
       "   ---------\n",
       "   (0008, 0100) Code Value                          SH: u'113109'\n",
       "   (0008, 0102) Coding Scheme Designator            SH: u'DCM'\n",
       "   (0008, 0104) Code Meaning                        LO: u'Retain Device Identity Option'\n",
       "   ---------\n",
       "   (0008, 0100) Code Value                          SH: u'11'\n",
       "   (0008, 0102) Coding Scheme Designator            SH: u'XNAT'\n",
       "   (0008, 0103) Coding Scheme Version               SH: u'1.0'\n",
       "   (0008, 0104) Code Meaning                        LO: u'XNAT DicomEdit 4 Script'\n",
       "   ---------\n",
       "(0018, 0015) Body Part Examined                  CS: 'CHEST'\n",
       "(0018, 1164) Imager Pixel Spacing                DS: [0.1, 0.1]\n",
       "(0020, 000d) Study Instance UID                  UI: 00188a671292\n",
       "(0020, 000e) Series Instance UID                 UI: 3eb5a506ccf3\n",
       "(0020, 0010) Study ID                            SH: u'55625fb42f3f'\n",
       "(0020, 0011) Series Number                       IS: \"1\"\n",
       "(0020, 0013) Instance Number                     IS: \"1\"\n",
       "(0028, 0002) Samples per Pixel                   US: 1\n",
       "(0028, 0004) Photometric Interpretation          CS: 'MONOCHROME2'\n",
       "(0028, 0010) Rows                                US: 3480\n",
       "(0028, 0011) Columns                             US: 4248\n",
       "(0028, 0100) Bits Allocated                      US: 8\n",
       "(0028, 0101) Bits Stored                         US: 8\n",
       "(0028, 0102) High Bit                            US: 7\n",
       "(0028, 0103) Pixel Representation                US: 0\n",
       "(7fe0, 0010) Pixel Data                          OW: Array of 14783040 elements"
      ]
     },
     "execution_count": 72,
     "metadata": {},
     "output_type": "execute_result"
    }
   ],
   "source": [
    "dicom = pydcm.read_file(fpath)\n",
    "dicom"
   ]
  },
  {
   "cell_type": "code",
   "execution_count": 59,
   "metadata": {},
   "outputs": [],
   "source": [
    "def dicom_to_np(dicom):\n",
    "    data = apply_voi_lut(dicom.pixel_array, dicom)\n",
    "\n",
    "    if dicom.PhotometricInterpretation == 'MONOCHROME1':\n",
    "        data = np.amax(data) - data\n",
    "\n",
    "    return data"
   ]
  },
  {
   "cell_type": "code",
   "execution_count": 28,
   "metadata": {},
   "outputs": [],
   "source": [
    "def arr_to_uint8(data):\n",
    "    data = data - np.min(data)\n",
    "    data = np.true_divide(data, np.max(data))\n",
    "    data = (data * 255).astype(np.uint8)\n",
    "    \n",
    "    return data"
   ]
  },
  {
   "cell_type": "code",
   "execution_count": 73,
   "metadata": {},
   "outputs": [
    {
     "data": {
      "text/plain": [
       "(0, 255, dtype('uint8'))"
      ]
     },
     "execution_count": 73,
     "metadata": {},
     "output_type": "execute_result"
    }
   ],
   "source": [
    "data = dicom_to_np(dicom)\n",
    "data.min(), data.max(), data.dtype"
   ]
  },
  {
   "cell_type": "code",
   "execution_count": 31,
   "metadata": {},
   "outputs": [
    {
     "data": {
      "text/plain": [
       "Text(0.5,1,'Original DICOM')"
      ]
     },
     "execution_count": 31,
     "metadata": {},
     "output_type": "execute_result"
    },
    {
     "data": {
      "image/png": "[encoded data removed]",
      "text/plain": [
       "<Figure size 432x288 with 2 Axes>"
      ]
     },
     "metadata": {
      "needs_background": "light"
     },
     "output_type": "display_data"
    }
   ],
   "source": [
    "plt.subplot(1, 2, 1)\n",
    "plt.imshow(data, cmap='gray')\n",
    "plt.title('Np array')\n",
    "\n",
    "plt.subplot(1, 2, 2)\n",
    "plt.imshow(dicom.pixel_array, cmap='gray')\n",
    "plt.title('Original DICOM')"
   ]
  },
  {
   "cell_type": "markdown",
   "metadata": {},
   "source": [
    "# Transform all images into PNG\n",
    "\n",
    "Needs to run with py2gdcm for some images, that throw error:\n",
    "\n",
    "`\"The following handlers are available to decode the pixel data however they are missing required dependencies: GDCM (req. GDCM)\"`"
   ]
  },
  {
   "cell_type": "code",
   "execution_count": 65,
   "metadata": {},
   "outputs": [],
   "source": [
    "from tqdm.auto import tqdm\n",
    "from PIL import Image\n",
    "from collections import defaultdict"
   ]
  },
  {
   "cell_type": "code",
   "execution_count": null,
   "metadata": {},
   "outputs": [],
   "source": [
    "errors = defaultdict(list)\n",
    "dtypes_by_image = dict()"
   ]
  },
  {
   "cell_type": "code",
   "execution_count": null,
   "metadata": {},
   "outputs": [],
   "source": [
    "# took ~1h for test split, ~6h for train split"
   ]
  },
  {
   "cell_type": "code",
   "execution_count": null,
   "metadata": {},
   "outputs": [],
   "source": [
    "for split in ('test', 'train'):\n",
    "    fpaths = glob(os.path.join(DICOM_DIR, split, '*/*/*.dcm'))\n",
    "\n",
    "    for fpath in tqdm(fpaths):\n",
    "        # Get png fpath\n",
    "        filename = fpath.replace(DICOM_DIR, '')\n",
    "        if filename.startswith('/'):\n",
    "            filename = filename[1:]\n",
    "        out_fpath = os.path.join(DATASET_DIR, 'images-16bit', filename)\n",
    "        out_fpath = out_fpath.replace('.dcm', '.png')\n",
    "        \n",
    "        if os.path.isfile(out_fpath):\n",
    "            continue\n",
    "        \n",
    "        # Ensure folder exists\n",
    "        out_folder = os.path.dirname(out_fpath)\n",
    "        if not os.path.isdir(out_folder):\n",
    "            os.makedirs(out_folder)\n",
    "            # Cannot use exist_ok=True in python 2\n",
    "        \n",
    "        dicom = pydcm.read_file(fpath)\n",
    "        \n",
    "        # Save dtype\n",
    "        dtypes_by_image[filename] = str(dicom.pixel_array.dtype)\n",
    "\n",
    "        # Transform tu numpy\n",
    "        try:\n",
    "            data = dicom_to_np(dicom)\n",
    "        except Exception as e:\n",
    "            errors['to-np'].append((fpath, e))\n",
    "            continue\n",
    "\n",
    "        # Choose image mode (8bit or 16bit)\n",
    "        if data.dtype == np.uint8:\n",
    "            mode = 'L'\n",
    "        elif data.dtype == np.uint16:\n",
    "            mode = 'I;16'\n",
    "        else:\n",
    "            errors['dtype'].append((fpath, data.type))\n",
    "            continue\n",
    "        \n",
    "        image = Image.fromarray(data, mode=mode)\n",
    "        \n",
    "        # Save as png\n",
    "        image.save(out_fpath, optimize=True)\n",
    "        image.close()"
   ]
  },
  {
   "cell_type": "code",
   "execution_count": 85,
   "metadata": {},
   "outputs": [],
   "source": [
    "from collections import Counter\n",
    "import json"
   ]
  },
  {
   "cell_type": "code",
   "execution_count": 96,
   "metadata": {},
   "outputs": [],
   "source": [
    "with open(os.path.join(DATASET_DIR, 'dtypes_by_image.json'), 'w') as f:\n",
    "    json.dump(dtypes_by_image, f, indent=2)"
   ]
  },
  {
   "cell_type": "code",
   "execution_count": 84,
   "metadata": {},
   "outputs": [
    {
     "data": {
      "text/plain": [
       "Counter({'uint16': 7118, 'uint8': 479})"
      ]
     },
     "execution_count": 84,
     "metadata": {},
     "output_type": "execute_result"
    }
   ],
   "source": [
    "Counter(dtypes_by_image.values())"
   ]
  },
  {
   "cell_type": "code",
   "execution_count": 79,
   "metadata": {},
   "outputs": [
    {
     "data": {
      "text/plain": [
       "set()"
      ]
     },
     "execution_count": 79,
     "metadata": {},
     "output_type": "execute_result"
    }
   ],
   "source": [
    "unique_exceptions = set(str(e) for f, e in errors['to-np'])\n",
    "unique_exceptions"
   ]
  },
  {
   "cell_type": "code",
   "execution_count": 237,
   "metadata": {},
   "outputs": [
    {
     "data": {
      "text/plain": [
       "550"
      ]
     },
     "execution_count": 237,
     "metadata": {},
     "output_type": "execute_result"
    }
   ],
   "source": [
    "error_fpaths = [f for f, e in errors['to-np']]\n",
    "len(error_fpaths)"
   ]
  },
  {
   "cell_type": "code",
   "execution_count": null,
   "metadata": {},
   "outputs": [],
   "source": [
    "error_fpaths"
   ]
  },
  {
   "cell_type": "markdown",
   "metadata": {},
   "source": [
    "# Save images-small\n",
    "\n",
    "Save into folder images-256"
   ]
  },
  {
   "cell_type": "code",
   "execution_count": 15,
   "metadata": {},
   "outputs": [],
   "source": [
    "from torchvision.transforms import Resize"
   ]
  },
  {
   "cell_type": "code",
   "execution_count": 12,
   "metadata": {},
   "outputs": [],
   "source": [
    "%run ../../utils/images.py"
   ]
  },
  {
   "cell_type": "code",
   "execution_count": null,
   "metadata": {},
   "outputs": [],
   "source": [
    "errors = []\n",
    "resizer = Resize((256, 256))\n",
    "\n",
    "for split in ('train', 'test'):\n",
    "    fpaths = glob(os.path.join(DATASET_DIR, 'images', split, '*/*/*.png'))\n",
    "\n",
    "    for fpath in tqdm(fpaths):\n",
    "        target_fpath = fpath.replace('/images/', '/images-256/')\n",
    "        \n",
    "        if os.path.isfile(target_fpath):\n",
    "            continue\n",
    "        \n",
    "        # Create folder\n",
    "        target_folder = os.path.dirname(target_fpath)\n",
    "        os.makedirs(target_folder, exist_ok=True)\n",
    "            \n",
    "        # Load large image\n",
    "        src_image = load_image(fpath, 'RGB')\n",
    "        \n",
    "        # Resize to 256\n",
    "        target_image = resizer(src_image)\n",
    "        \n",
    "        # Save\n",
    "        target_image.save(target_fpath)"
   ]
  },
  {
   "cell_type": "markdown",
   "metadata": {
    "heading_collapsed": true
   },
   "source": [
    "# Compute mean and std"
   ]
  },
  {
   "cell_type": "code",
   "execution_count": 17,
   "metadata": {
    "hidden": true
   },
   "outputs": [],
   "source": [
    "%run ../../utils/images.py"
   ]
  },
  {
   "cell_type": "code",
   "execution_count": 21,
   "metadata": {
    "hidden": true
   },
   "outputs": [
    {
     "data": {
      "text/plain": [
       "6334"
      ]
     },
     "execution_count": 21,
     "metadata": {},
     "output_type": "execute_result"
    }
   ],
   "source": [
    "TRAIN_IMAGE_PATHS = glob(os.path.join(DATASET_DIR, 'images', 'train/*/*/*.png'))\n",
    "len(TRAIN_IMAGE_PATHS)"
   ]
  },
  {
   "cell_type": "code",
   "execution_count": 22,
   "metadata": {
    "hidden": true
   },
   "outputs": [
    {
     "data": {
      "application/vnd.jupyter.widget-view+json": {
       "model_id": "2cd381bd45664c9b90ee06f148f58adf",
       "version_major": 2,
       "version_minor": 0
      },
      "text/plain": [
       "  0%|          | 0/6334 [00:00<?, ?it/s]"
      ]
     },
     "metadata": {},
     "output_type": "display_data"
    },
    {
     "data": {
      "text/plain": [
       "(tensor([0.5234, 0.5234, 0.5234]), tensor([0.2099, 0.2099, 0.2099]))"
      ]
     },
     "execution_count": 22,
     "metadata": {},
     "output_type": "execute_result"
    }
   ],
   "source": [
    "mean, std = compute_mean_std(\n",
    "    ImageFolderIterator(os.path.join(DATASET_DIR, 'images'), TRAIN_IMAGE_PATHS),\n",
    "    show=True,\n",
    ")\n",
    "mean, std"
   ]
  },
  {
   "cell_type": "markdown",
   "metadata": {},
   "source": [
    "# Debug dataset class"
   ]
  },
  {
   "cell_type": "code",
   "execution_count": 115,
   "metadata": {},
   "outputs": [],
   "source": [
    "%run ../covid_siim.py"
   ]
  },
  {
   "cell_type": "code",
   "execution_count": 133,
   "metadata": {},
   "outputs": [
    {
     "data": {
      "text/plain": [
       "1263"
      ]
     },
     "execution_count": 133,
     "metadata": {},
     "output_type": "execute_result"
    }
   ],
   "source": [
    "dataset = CovidSiimDataset('test')\n",
    "len(dataset)"
   ]
  },
  {
   "cell_type": "code",
   "execution_count": 134,
   "metadata": {},
   "outputs": [],
   "source": [
    "item = dataset[10]"
   ]
  },
  {
   "cell_type": "code",
   "execution_count": 135,
   "metadata": {},
   "outputs": [
    {
     "data": {
      "text/plain": [
       "(torch.Size([3, 512, 512]), [], tensor([0, 0, 0, 0], dtype=torch.uint8))"
      ]
     },
     "execution_count": 135,
     "metadata": {},
     "output_type": "execute_result"
    }
   ],
   "source": [
    "item.image.size(), item.bboxes, item.labels"
   ]
  }
 ],
 "metadata": {
  "kernelspec": {
   "display_name": "py2gdcm",
   "language": "python",
   "name": "py2gdcm"
  },
  "language_info": {
   "codemirror_mode": {
    "name": "ipython",
    "version": 2
   },
   "file_extension": ".py",
   "mimetype": "text/x-python",
   "name": "python",
   "nbconvert_exporter": "python",
   "pygments_lexer": "ipython2",
   "version": "2.7.17"
  },
  "toc": {
   "base_numbering": 1,
   "nav_menu": {},
   "number_sections": true,
   "sideBar": true,
   "skip_h1_title": false,
   "title_cell": "Table of Contents",
   "title_sidebar": "Contents",
   "toc_cell": false,
   "toc_position": {},
   "toc_section_display": true,
   "toc_window_display": false
  }
 },
 "nbformat": 4,
 "nbformat_minor": 4
}
