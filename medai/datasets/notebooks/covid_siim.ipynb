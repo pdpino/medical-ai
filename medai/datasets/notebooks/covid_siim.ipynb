{
 "cells": [
  {
   "cell_type": "markdown",
   "metadata": {},
   "source": [
    "# Imports"
   ]
  },
  {
   "cell_type": "code",
   "execution_count": null,
   "metadata": {},
   "outputs": [],
   "source": [
    "import os\n",
    "from glob import glob\n",
    "from collections import Counter\n",
    "import pandas as pd\n",
    "import numpy as np\n",
    "import pydicom as pydcm"
   ]
  },
  {
   "cell_type": "code",
   "execution_count": null,
   "metadata": {},
   "outputs": [],
   "source": [
    "from pydicom.pixel_data_handlers.util import apply_voi_lut"
   ]
  },
  {
   "cell_type": "code",
   "execution_count": null,
   "metadata": {},
   "outputs": [],
   "source": [
    "import matplotlib\n",
    "import matplotlib.pyplot as plt\n",
    "matplotlib.rcParams['figure.facecolor'] = 'white'\n",
    "matplotlib.rcParams['figure.figsize'] = (15, 5)"
   ]
  },
  {
   "cell_type": "code",
   "execution_count": null,
   "metadata": {},
   "outputs": [],
   "source": [
    "DATASET_DIR = '/mnt/workspace/covid-siim'\n",
    "DICOM_DIR = '/mnt/data/covid-siim'"
   ]
  },
  {
   "cell_type": "markdown",
   "metadata": {
    "heading_collapsed": true
   },
   "source": [
    "# Load metadata"
   ]
  },
  {
   "cell_type": "markdown",
   "metadata": {
    "hidden": true
   },
   "source": [
    "## Utils\n",
    "\n",
    "For pre-processing"
   ]
  },
  {
   "cell_type": "code",
   "execution_count": null,
   "metadata": {
    "hidden": true
   },
   "outputs": [],
   "source": [
    "TRAIN_IMAGE_PATHS = glob(os.path.join(DICOM_DIR, 'train/*/*/*.dcm'))\n",
    "TEST_IMAGE_PATHS = glob(os.path.join(DICOM_DIR, 'test/*/*/*.dcm'))"
   ]
  },
  {
   "cell_type": "code",
   "execution_count": null,
   "metadata": {
    "hidden": true
   },
   "outputs": [],
   "source": [
    "IMAGE_ID_TO_FPATH = {}\n",
    "\n",
    "for fpath in TRAIN_IMAGE_PATHS + TEST_IMAGE_PATHS:\n",
    "    imagename = os.path.basename(fpath).replace('.dcm', '')\n",
    "    assert imagename not in IMAGE_ID_TO_FPATH, f'Repeated filename: {filename}'\n",
    "    \n",
    "    image_fpath = fpath.replace(DICOM_DIR, '').replace('.dcm', '')\n",
    "    if image_fpath.startswith('/'):\n",
    "        image_fpath = image_fpath[1:]\n",
    "    IMAGE_ID_TO_FPATH[imagename] = image_fpath"
   ]
  },
  {
   "cell_type": "markdown",
   "metadata": {
    "hidden": true
   },
   "source": [
    "## Image-level labels"
   ]
  },
  {
   "cell_type": "code",
   "execution_count": null,
   "metadata": {
    "hidden": true
   },
   "outputs": [],
   "source": [
    "fpath = os.path.join(DATASET_DIR, 'train_image_level.csv')\n",
    "df_image = pd.read_csv(fpath)\n",
    "df_image['image_fpath'] = [\n",
    "    IMAGE_ID_TO_FPATH[image_id.replace('_image', '')]\n",
    "    for image_id in df_image['id']\n",
    "]\n",
    "df_image.head()"
   ]
  },
  {
   "cell_type": "code",
   "execution_count": null,
   "metadata": {
    "hidden": true
   },
   "outputs": [],
   "source": [
    "def chunks(l, n):\n",
    "    for i in range(0, len(l), n):\n",
    "        yield l[i:i+n]"
   ]
  },
  {
   "cell_type": "code",
   "execution_count": null,
   "metadata": {
    "hidden": true
   },
   "outputs": [],
   "source": [
    "labels_with_bb = list(df_image['label'])\n",
    "labels = [\n",
    "    label\n",
    "    for ll in labels_with_bb\n",
    "    for label, score, a, b, c, d in tuple(chunks(ll.split(), 6))\n",
    "]\n",
    "len(labels)"
   ]
  },
  {
   "cell_type": "code",
   "execution_count": null,
   "metadata": {
    "hidden": true
   },
   "outputs": [],
   "source": [
    "Counter(labels)"
   ]
  },
  {
   "cell_type": "markdown",
   "metadata": {
    "hidden": true
   },
   "source": [
    "## Study level labels"
   ]
  },
  {
   "cell_type": "code",
   "execution_count": null,
   "metadata": {
    "hidden": true
   },
   "outputs": [],
   "source": [
    "fpath = os.path.join(DATASET_DIR, 'train_study_level.csv')\n",
    "df_study = pd.read_csv(fpath)\n",
    "df_study['id'] = [s.replace('_study', '') for s in df_study['id']]\n",
    "df_study.head()"
   ]
  },
  {
   "cell_type": "code",
   "execution_count": null,
   "metadata": {
    "hidden": true
   },
   "outputs": [],
   "source": [
    "COVID_SIIM_DISEASES = [\n",
    "    'Negative for Pneumonia',\n",
    "    'Typical Appearance',\n",
    "    'Indeterminate Appearance',\n",
    "    'Atypical Appearance',\n",
    "]"
   ]
  },
  {
   "cell_type": "code",
   "execution_count": null,
   "metadata": {
    "hidden": true
   },
   "outputs": [],
   "source": [
    "# Check if is multilabel or not\n",
    "Counter(df_study[COVID_SIIM_DISEASES].sum(axis=1).values)"
   ]
  },
  {
   "cell_type": "code",
   "execution_count": null,
   "metadata": {
    "hidden": true
   },
   "outputs": [],
   "source": [
    "n_studies = len(df_study)\n",
    "dist_labels = df_study[COVID_SIIM_DISEASES].sum(axis=0).sort_values(ascending=False)\n",
    "dist_labels"
   ]
  },
  {
   "cell_type": "code",
   "execution_count": null,
   "metadata": {
    "hidden": true
   },
   "outputs": [],
   "source": [
    "plt.figure(figsize=(10, 5))\n",
    "plt.title('Labels distribution')\n",
    "plt.bar(dist_labels.index, dist_labels.values)\n",
    "plt.ylabel('N studies')\n",
    "plt.ylim(0, max(dist_labels.values) * 1.10)\n",
    "\n",
    "for index, value in enumerate(dist_labels.values):\n",
    "    perc = value / n_studies * 100\n",
    "    txt = f'{value:,} ({perc:.1f}%)'\n",
    "    plt.text(index, value * 1.02, txt, ha='center')"
   ]
  },
  {
   "cell_type": "markdown",
   "metadata": {
    "heading_collapsed": true,
    "hidden": true
   },
   "source": [
    "### Split studies in train/val"
   ]
  },
  {
   "cell_type": "code",
   "execution_count": null,
   "metadata": {
    "hidden": true
   },
   "outputs": [],
   "source": [
    "import random"
   ]
  },
  {
   "cell_type": "code",
   "execution_count": null,
   "metadata": {
    "hidden": true
   },
   "outputs": [],
   "source": [
    "studies = list(df_study['id'])\n",
    "n_studies = len(studies)\n",
    "assert n_studies == len(set(studies))\n",
    "n_studies"
   ]
  },
  {
   "cell_type": "code",
   "execution_count": null,
   "metadata": {
    "hidden": true
   },
   "outputs": [],
   "source": [
    "val_split = 0.1\n",
    "n_val_studies = int(n_studies * val_split)\n",
    "n_train_studies = n_studies - n_val_studies\n",
    "n_train_studies, n_val_studies"
   ]
  },
  {
   "cell_type": "code",
   "execution_count": null,
   "metadata": {
    "hidden": true
   },
   "outputs": [],
   "source": [
    "val_studies = random.sample(studies, n_val_studies)\n",
    "train_studies = list(set(studies) - set(val_studies))\n",
    "assert len(set(val_studies).intersection(train_studies)) == 0\n",
    "len(train_studies), len(val_studies)"
   ]
  },
  {
   "cell_type": "code",
   "execution_count": null,
   "metadata": {
    "hidden": true
   },
   "outputs": [],
   "source": [
    "def write_list_to_txt(arr, filepath, sep='\\n'):\n",
    "    \"\"\"Writes a list of strings to a file\"\"\"\n",
    "    with open(filepath, 'w') as f:\n",
    "        for line in arr:\n",
    "            f.write(line + sep)"
   ]
  },
  {
   "cell_type": "code",
   "execution_count": null,
   "metadata": {
    "hidden": true
   },
   "outputs": [],
   "source": [
    "splits_folder = os.path.join(DATASET_DIR, 'splits')\n",
    "write_list_to_txt(train_studies, os.path.join(splits_folder, 'train.txt'))\n",
    "write_list_to_txt(val_studies, os.path.join(splits_folder, 'val.txt'))"
   ]
  },
  {
   "cell_type": "markdown",
   "metadata": {
    "hidden": true
   },
   "source": [
    "## Merge into master_metadata.csv"
   ]
  },
  {
   "cell_type": "code",
   "execution_count": null,
   "metadata": {
    "hidden": true
   },
   "outputs": [],
   "source": [
    "df_study.head(2)"
   ]
  },
  {
   "cell_type": "code",
   "execution_count": null,
   "metadata": {
    "hidden": true
   },
   "outputs": [],
   "source": [
    "df_image.head(2)"
   ]
  },
  {
   "cell_type": "code",
   "execution_count": null,
   "metadata": {
    "hidden": true
   },
   "outputs": [],
   "source": [
    "set(df_study['id']) == set(df_image['StudyInstanceUID'])"
   ]
  },
  {
   "cell_type": "code",
   "execution_count": null,
   "metadata": {
    "hidden": true
   },
   "outputs": [],
   "source": [
    "df_image_2 = df_image.copy()\n",
    "df_image_2['image_id'] = [i.replace('_image', '') for i in df_image_2['id']]\n",
    "del df_image_2['id']"
   ]
  },
  {
   "cell_type": "code",
   "execution_count": null,
   "metadata": {
    "hidden": true
   },
   "outputs": [],
   "source": [
    "master_df = df_image_2.merge(df_study, how='inner', left_on='StudyInstanceUID', right_on='id')\n",
    "del master_df['id']\n",
    "master_df.rename(columns={'StudyInstanceUID': 'study_id'}, inplace=True)\n",
    "master_df.head(2)"
   ]
  },
  {
   "cell_type": "code",
   "execution_count": null,
   "metadata": {
    "hidden": true
   },
   "outputs": [],
   "source": [
    "assert len(master_df) == len(df_image)"
   ]
  },
  {
   "cell_type": "markdown",
   "metadata": {
    "hidden": true
   },
   "source": [
    "### Add test images to metadata.csv"
   ]
  },
  {
   "cell_type": "code",
   "execution_count": null,
   "metadata": {
    "hidden": true
   },
   "outputs": [],
   "source": [
    "import re"
   ]
  },
  {
   "cell_type": "code",
   "execution_count": null,
   "metadata": {
    "hidden": true
   },
   "outputs": [],
   "source": [
    "test_metadata = []\n",
    "for image_fpath in TEST_IMAGE_PATHS:\n",
    "    image_id = os.path.basename(image_fpath).replace('.dcm', '')\n",
    "    study_id = re.search(r'.*test\\/([a-z\\d]+)\\/.*', image_fpath).group(1)\n",
    "    \n",
    "    fpath = image_fpath.replace(DICOM_DIR, '').replace('.dcm', '')\n",
    "    if fpath.startswith('/'):\n",
    "        fpath = fpath[1:]\n",
    "    test_metadata.append((\n",
    "        image_id, study_id, fpath, [], 'none 1 0 0 1 1', 0, 0, 0, 0,\n",
    "    ))\n",
    "len(test_metadata)"
   ]
  },
  {
   "cell_type": "code",
   "execution_count": null,
   "metadata": {
    "hidden": true
   },
   "outputs": [],
   "source": [
    "cols = ['image_id', 'study_id', 'image_fpath', 'boxes', 'label', *COVID_SIIM_DISEASES]\n",
    "test_df = pd.DataFrame(test_metadata, columns=cols)\n",
    "test_df.head()"
   ]
  },
  {
   "cell_type": "code",
   "execution_count": null,
   "metadata": {
    "hidden": true
   },
   "outputs": [],
   "source": [
    "master_df = master_df.append(test_df)\n",
    "assert len(master_df) == len(df_image) + len(test_df)\n",
    "len(master_df)"
   ]
  },
  {
   "cell_type": "code",
   "execution_count": null,
   "metadata": {
    "hidden": true
   },
   "outputs": [],
   "source": [
    "master_df.fillna(\"[]\", inplace=True)"
   ]
  },
  {
   "cell_type": "code",
   "execution_count": null,
   "metadata": {
    "hidden": true
   },
   "outputs": [],
   "source": [
    "master_df.isnull().any(axis=0)"
   ]
  },
  {
   "cell_type": "code",
   "execution_count": null,
   "metadata": {
    "hidden": true
   },
   "outputs": [],
   "source": [
    "master_df['disease'] = [\n",
    "    np.argmax(row[COVID_SIIM_DISEASES])\n",
    "    for _, row in master_df.iterrows()\n",
    "]\n",
    "master_df.head(2)"
   ]
  },
  {
   "cell_type": "markdown",
   "metadata": {
    "hidden": true
   },
   "source": [
    "## Save original_size into metadata"
   ]
  },
  {
   "cell_type": "code",
   "execution_count": null,
   "metadata": {
    "hidden": true
   },
   "outputs": [],
   "source": [
    "original_heights = []\n",
    "original_widths = []\n",
    "\n",
    "for _, row in master_df.iterrows():\n",
    "    path = os.path.join(DATASET_DIR, 'images', f\"{row['image_fpath']}.png\")\n",
    "    image = load_image(path, 'RGB')\n",
    "    \n",
    "    height = image.height\n",
    "    width = image.width\n",
    "    \n",
    "    original_heights.append(height)\n",
    "    original_widths.append(width)\n",
    "\n",
    "master_df['original_height'] = original_heights\n",
    "master_df['original_width'] = original_widths\n",
    "master_df.head()"
   ]
  },
  {
   "cell_type": "code",
   "execution_count": null,
   "metadata": {
    "hidden": true
   },
   "outputs": [],
   "source": [
    "master_df.head()"
   ]
  },
  {
   "cell_type": "code",
   "execution_count": null,
   "metadata": {
    "hidden": true
   },
   "outputs": [],
   "source": [
    "master_df.to_csv(os.path.join(DATASET_DIR, 'metadata.csv'), index=False)"
   ]
  },
  {
   "cell_type": "markdown",
   "metadata": {
    "hidden": true
   },
   "source": [
    "## Create bboxes_by_image_id"
   ]
  },
  {
   "cell_type": "code",
   "execution_count": null,
   "metadata": {
    "hidden": true
   },
   "outputs": [],
   "source": [
    "import json\n",
    "import ast"
   ]
  },
  {
   "cell_type": "code",
   "execution_count": null,
   "metadata": {
    "hidden": true
   },
   "outputs": [],
   "source": [
    "cols = ['image_id', 'boxes']\n",
    "d = master_df[cols] # .set_index('image_id')\n",
    "\n",
    "bboxes_by_image_id = dict()\n",
    "errors = []\n",
    "for index, row in d.iterrows():\n",
    "    image_id = row['image_id']\n",
    "    boxes = row['boxes']\n",
    "\n",
    "    if isinstance(boxes, str):\n",
    "        boxes = ast.literal_eval(boxes)\n",
    "\n",
    "    bboxes_by_image_id[image_id] = boxes\n",
    "len(bboxes_by_image_id)"
   ]
  },
  {
   "cell_type": "code",
   "execution_count": null,
   "metadata": {
    "hidden": true
   },
   "outputs": [],
   "source": [
    "with open(os.path.join(DATASET_DIR, 'bboxes.json'), 'w') as f:\n",
    "    json.dump(bboxes_by_image_id, f, indent=2)"
   ]
  },
  {
   "cell_type": "markdown",
   "metadata": {
    "heading_collapsed": true
   },
   "source": [
    "# Load one DICOM sample"
   ]
  },
  {
   "cell_type": "code",
   "execution_count": null,
   "metadata": {
    "hidden": true
   },
   "outputs": [],
   "source": [
    "# name = 'train/00086460a852/9e8302230c91/65761e66de9f.dcm'\n",
    "name = 'test/00188a671292/3eb5a506ccf3/3dcdfc352a06.dcm'\n",
    "fpath = os.path.join(DICOM_DIR, name)"
   ]
  },
  {
   "cell_type": "code",
   "execution_count": null,
   "metadata": {
    "hidden": true
   },
   "outputs": [],
   "source": [
    "dicom = pydcm.read_file(fpath)\n",
    "dicom"
   ]
  },
  {
   "cell_type": "code",
   "execution_count": null,
   "metadata": {
    "hidden": true
   },
   "outputs": [],
   "source": [
    "def dicom_to_np(dicom):\n",
    "    data = apply_voi_lut(dicom.pixel_array, dicom)\n",
    "\n",
    "    if dicom.PhotometricInterpretation == 'MONOCHROME1':\n",
    "        data = np.amax(data) - data\n",
    "\n",
    "    return data"
   ]
  },
  {
   "cell_type": "code",
   "execution_count": null,
   "metadata": {
    "hidden": true
   },
   "outputs": [],
   "source": [
    "def arr_to_uint8(data):\n",
    "    data = data - np.min(data)\n",
    "    data = np.true_divide(data, np.max(data))\n",
    "    data = (data * 255).astype(np.uint8)\n",
    "    \n",
    "    return data"
   ]
  },
  {
   "cell_type": "code",
   "execution_count": null,
   "metadata": {
    "hidden": true
   },
   "outputs": [],
   "source": [
    "data = dicom_to_np(dicom)\n",
    "data.min(), data.max(), data.dtype"
   ]
  },
  {
   "cell_type": "code",
   "execution_count": null,
   "metadata": {
    "hidden": true
   },
   "outputs": [],
   "source": [
    "plt.subplot(1, 2, 1)\n",
    "plt.imshow(data, cmap='gray')\n",
    "plt.title('Np array')\n",
    "\n",
    "plt.subplot(1, 2, 2)\n",
    "plt.imshow(dicom.pixel_array, cmap='gray')\n",
    "plt.title('Original DICOM')"
   ]
  },
  {
   "cell_type": "markdown",
   "metadata": {
    "heading_collapsed": true
   },
   "source": [
    "# Transform all images into PNG\n",
    "\n",
    "Needs to run with py2gdcm for some images, that throw error:\n",
    "\n",
    "`\"The following handlers are available to decode the pixel data however they are missing required dependencies: GDCM (req. GDCM)\"`"
   ]
  },
  {
   "cell_type": "code",
   "execution_count": null,
   "metadata": {
    "hidden": true
   },
   "outputs": [],
   "source": [
    "from tqdm.auto import tqdm\n",
    "from PIL import Image\n",
    "from collections import defaultdict"
   ]
  },
  {
   "cell_type": "code",
   "execution_count": null,
   "metadata": {
    "hidden": true
   },
   "outputs": [],
   "source": [
    "errors = defaultdict(list)\n",
    "dtypes_by_image = dict()"
   ]
  },
  {
   "cell_type": "code",
   "execution_count": null,
   "metadata": {
    "hidden": true
   },
   "outputs": [],
   "source": [
    "# took ~1h for test split, ~6h for train split"
   ]
  },
  {
   "cell_type": "code",
   "execution_count": null,
   "metadata": {
    "hidden": true
   },
   "outputs": [],
   "source": [
    "for split in ('test', 'train'):\n",
    "    fpaths = glob(os.path.join(DICOM_DIR, split, '*/*/*.dcm'))\n",
    "\n",
    "    for fpath in tqdm(fpaths):\n",
    "        # Get png fpath\n",
    "        filename = fpath.replace(DICOM_DIR, '')\n",
    "        if filename.startswith('/'):\n",
    "            filename = filename[1:]\n",
    "        out_fpath = os.path.join(DATASET_DIR, 'images-16bit', filename)\n",
    "        out_fpath = out_fpath.replace('.dcm', '.png')\n",
    "        \n",
    "        if os.path.isfile(out_fpath):\n",
    "            continue\n",
    "        \n",
    "        # Ensure folder exists\n",
    "        out_folder = os.path.dirname(out_fpath)\n",
    "        if not os.path.isdir(out_folder):\n",
    "            os.makedirs(out_folder)\n",
    "            # Cannot use exist_ok=True in python 2\n",
    "        \n",
    "        dicom = pydcm.read_file(fpath)\n",
    "        \n",
    "        # Save dtype\n",
    "        dtypes_by_image[filename] = str(dicom.pixel_array.dtype)\n",
    "\n",
    "        # Transform tu numpy\n",
    "        try:\n",
    "            data = dicom_to_np(dicom)\n",
    "        except Exception as e:\n",
    "            errors['to-np'].append((fpath, e))\n",
    "            continue\n",
    "\n",
    "        # Choose image mode (8bit or 16bit)\n",
    "        if data.dtype == np.uint8:\n",
    "            mode = 'L'\n",
    "        elif data.dtype == np.uint16:\n",
    "            mode = 'I;16'\n",
    "        else:\n",
    "            errors['dtype'].append((fpath, data.type))\n",
    "            continue\n",
    "        \n",
    "        image = Image.fromarray(data, mode=mode)\n",
    "        \n",
    "        # Save as png\n",
    "        image.save(out_fpath, optimize=True)\n",
    "        image.close()"
   ]
  },
  {
   "cell_type": "code",
   "execution_count": null,
   "metadata": {
    "hidden": true
   },
   "outputs": [],
   "source": [
    "from collections import Counter\n",
    "import json"
   ]
  },
  {
   "cell_type": "code",
   "execution_count": null,
   "metadata": {
    "hidden": true
   },
   "outputs": [],
   "source": [
    "with open(os.path.join(DATASET_DIR, 'dtypes_by_image.json'), 'w') as f:\n",
    "    json.dump(dtypes_by_image, f, indent=2)"
   ]
  },
  {
   "cell_type": "code",
   "execution_count": null,
   "metadata": {
    "hidden": true
   },
   "outputs": [],
   "source": [
    "Counter(dtypes_by_image.values())"
   ]
  },
  {
   "cell_type": "code",
   "execution_count": null,
   "metadata": {
    "hidden": true
   },
   "outputs": [],
   "source": [
    "unique_exceptions = set(str(e) for f, e in errors['to-np'])\n",
    "unique_exceptions"
   ]
  },
  {
   "cell_type": "code",
   "execution_count": null,
   "metadata": {
    "hidden": true
   },
   "outputs": [],
   "source": [
    "error_fpaths = [f for f, e in errors['to-np']]\n",
    "len(error_fpaths)"
   ]
  },
  {
   "cell_type": "code",
   "execution_count": null,
   "metadata": {
    "hidden": true
   },
   "outputs": [],
   "source": [
    "error_fpaths"
   ]
  },
  {
   "cell_type": "markdown",
   "metadata": {
    "heading_collapsed": true
   },
   "source": [
    "# Save images-small\n",
    "\n",
    "Save into folder images-256"
   ]
  },
  {
   "cell_type": "code",
   "execution_count": null,
   "metadata": {
    "hidden": true
   },
   "outputs": [],
   "source": [
    "from torchvision.transforms import Resize"
   ]
  },
  {
   "cell_type": "code",
   "execution_count": null,
   "metadata": {
    "hidden": true
   },
   "outputs": [],
   "source": [
    "%run ../../utils/images.py"
   ]
  },
  {
   "cell_type": "code",
   "execution_count": null,
   "metadata": {
    "hidden": true
   },
   "outputs": [],
   "source": [
    "errors = []\n",
    "resizer = Resize((256, 256))\n",
    "\n",
    "for split in ('train', 'test'):\n",
    "    fpaths = glob(os.path.join(DATASET_DIR, 'images', split, '*/*/*.png'))\n",
    "\n",
    "    for fpath in tqdm(fpaths):\n",
    "        target_fpath = fpath.replace('/images/', '/images-256/')\n",
    "        \n",
    "        if os.path.isfile(target_fpath):\n",
    "            continue\n",
    "        \n",
    "        # Create folder\n",
    "        target_folder = os.path.dirname(target_fpath)\n",
    "        os.makedirs(target_folder, exist_ok=True)\n",
    "            \n",
    "        # Load large image\n",
    "        src_image = load_image(fpath, 'RGB')\n",
    "        \n",
    "        # Resize to 256\n",
    "        target_image = resizer(src_image)\n",
    "        \n",
    "        # Save\n",
    "        target_image.save(target_fpath)"
   ]
  },
  {
   "cell_type": "markdown",
   "metadata": {
    "heading_collapsed": true
   },
   "source": [
    "# Compute mean and std"
   ]
  },
  {
   "cell_type": "code",
   "execution_count": null,
   "metadata": {
    "hidden": true
   },
   "outputs": [],
   "source": [
    "%run ../../utils/images.py"
   ]
  },
  {
   "cell_type": "code",
   "execution_count": null,
   "metadata": {
    "hidden": true
   },
   "outputs": [],
   "source": [
    "TRAIN_IMAGE_PATHS = glob(os.path.join(DATASET_DIR, 'images', 'train/*/*/*.png'))\n",
    "len(TRAIN_IMAGE_PATHS)"
   ]
  },
  {
   "cell_type": "code",
   "execution_count": null,
   "metadata": {
    "hidden": true
   },
   "outputs": [],
   "source": [
    "mean, std = compute_mean_std(\n",
    "    ImageFolderIterator(os.path.join(DATASET_DIR, 'images'), TRAIN_IMAGE_PATHS),\n",
    "    show=True,\n",
    ")\n",
    "mean, std"
   ]
  },
  {
   "cell_type": "markdown",
   "metadata": {},
   "source": [
    "# Debug dataset class"
   ]
  },
  {
   "cell_type": "markdown",
   "metadata": {},
   "source": [
    "## Definition"
   ]
  },
  {
   "cell_type": "code",
   "execution_count": null,
   "metadata": {},
   "outputs": [],
   "source": [
    "# Copy from tutoriales repo"
   ]
  },
  {
   "cell_type": "markdown",
   "metadata": {},
   "source": [
    "## Usage"
   ]
  },
  {
   "cell_type": "code",
   "execution_count": null,
   "metadata": {},
   "outputs": [],
   "source": [
    "transform_16bit = transforms.Compose([\n",
    "    PILToTensorAndRange01(), # Use instead of transforms.ToTensor(), see docstring\n",
    "    GrayTo3Channels(), # Change to 3 channels (by default 16bit images have 1 channel)\n",
    "    transforms.Normalize([0.485, 0.456, 0.406], [0.229, 0.224, 0.225]),\n",
    "])\n",
    "\n",
    "dataset = CovidSiimDataset(\n",
    "    'test', image_folder='images-16bit', image_format='I;16', transform=transform_16bit)\n",
    "len(dataset)"
   ]
  },
  {
   "cell_type": "code",
   "execution_count": null,
   "metadata": {},
   "outputs": [],
   "source": [
    "image, labels, bboxes = dataset[10]"
   ]
  },
  {
   "cell_type": "code",
   "execution_count": null,
   "metadata": {},
   "outputs": [],
   "source": [
    "image.size(), image.min(), image.max()"
   ]
  },
  {
   "cell_type": "code",
   "execution_count": null,
   "metadata": {},
   "outputs": [],
   "source": [
    "plt.imshow(image[0], cmap='gray')"
   ]
  },
  {
   "cell_type": "code",
   "execution_count": null,
   "metadata": {},
   "outputs": [],
   "source": []
  }
 ],
 "metadata": {
  "kernelspec": {
   "display_name": "Python 3",
   "language": "python",
   "name": "python3"
  },
  "language_info": {
   "codemirror_mode": {
    "name": "ipython",
    "version": 3
   },
   "file_extension": ".py",
   "mimetype": "text/x-python",
   "name": "python",
   "nbconvert_exporter": "python",
   "pygments_lexer": "ipython3",
   "version": "3.6.9"
  },
  "toc": {
   "base_numbering": 1,
   "nav_menu": {},
   "number_sections": true,
   "sideBar": true,
   "skip_h1_title": false,
   "title_cell": "Table of Contents",
   "title_sidebar": "Contents",
   "toc_cell": false,
   "toc_position": {},
   "toc_section_display": true,
   "toc_window_display": false
  }
 },
 "nbformat": 4,
 "nbformat_minor": 4
}
