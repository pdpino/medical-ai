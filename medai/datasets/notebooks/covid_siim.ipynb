{
 "cells": [
  {
   "cell_type": "markdown",
   "metadata": {},
   "source": [
    "# Imports"
   ]
  },
  {
   "cell_type": "code",
   "execution_count": 1,
   "metadata": {},
   "outputs": [],
   "source": [
    "import os\n",
    "from glob import glob\n",
    "from collections import Counter\n",
    "import pandas as pd\n",
    "import numpy as np\n",
    "import pydicom as pydcm"
   ]
  },
  {
   "cell_type": "code",
   "execution_count": 2,
   "metadata": {},
   "outputs": [],
   "source": [
    "from pydicom.pixel_data_handlers.util import apply_voi_lut"
   ]
  },
  {
   "cell_type": "code",
   "execution_count": 3,
   "metadata": {},
   "outputs": [],
   "source": [
    "import matplotlib\n",
    "import matplotlib.pyplot as plt\n",
    "matplotlib.rcParams['figure.facecolor'] = 'white'\n",
    "matplotlib.rcParams['figure.figsize'] = (15, 5)"
   ]
  },
  {
   "cell_type": "code",
   "execution_count": 4,
   "metadata": {},
   "outputs": [],
   "source": [
    "DATASET_DIR = '/mnt/workspace/covid-siim'\n",
    "DICOM_DIR = '/mnt/data/covid-siim'"
   ]
  },
  {
   "cell_type": "markdown",
   "metadata": {},
   "source": [
    "# Load metadata"
   ]
  },
  {
   "cell_type": "code",
   "execution_count": 36,
   "metadata": {},
   "outputs": [],
   "source": [
    "TRAIN_IMAGE_PATHS = glob(os.path.join(DICOM_DIR, 'train/*/*/*.dcm'))\n",
    "TEST_IMAGE_PATHS = glob(os.path.join(DICOM_DIR, 'test/*/*/*.dcm'))"
   ]
  },
  {
   "cell_type": "code",
   "execution_count": 37,
   "metadata": {},
   "outputs": [],
   "source": [
    "IMAGE_ID_TO_FPATH = {}\n",
    "\n",
    "for fpath in TRAIN_IMAGE_PATHS + TEST_IMAGE_PATHS:\n",
    "    imagename = os.path.basename(fpath).replace('.dcm', '')\n",
    "    assert imagename not in IMAGE_ID_TO_FPATH, f'Repeated filename: {filename}'\n",
    "    \n",
    "    image_fpath = fpath.replace(DICOM_DIR, '').replace('.dcm', '')\n",
    "    if image_fpath.startswith('/'):\n",
    "        image_fpath = image_fpath[1:]\n",
    "    IMAGE_ID_TO_FPATH[imagename] = image_fpath"
   ]
  },
  {
   "cell_type": "markdown",
   "metadata": {},
   "source": [
    "## Image-level labels"
   ]
  },
  {
   "cell_type": "code",
   "execution_count": 38,
   "metadata": {},
   "outputs": [
    {
     "data": {
      "text/html": [
       "<div>\n",
       "<style scoped>\n",
       "    .dataframe tbody tr th:only-of-type {\n",
       "        vertical-align: middle;\n",
       "    }\n",
       "\n",
       "    .dataframe tbody tr th {\n",
       "        vertical-align: top;\n",
       "    }\n",
       "\n",
       "    .dataframe thead th {\n",
       "        text-align: right;\n",
       "    }\n",
       "</style>\n",
       "<table border=\"1\" class=\"dataframe\">\n",
       "  <thead>\n",
       "    <tr style=\"text-align: right;\">\n",
       "      <th></th>\n",
       "      <th>id</th>\n",
       "      <th>boxes</th>\n",
       "      <th>label</th>\n",
       "      <th>StudyInstanceUID</th>\n",
       "      <th>image_fpath</th>\n",
       "    </tr>\n",
       "  </thead>\n",
       "  <tbody>\n",
       "    <tr>\n",
       "      <th>0</th>\n",
       "      <td>000a312787f2_image</td>\n",
       "      <td>[{'x': 789.28836, 'y': 582.43035, 'width': 102...</td>\n",
       "      <td>opacity 1 789.28836 582.43035 1815.94498 2499....</td>\n",
       "      <td>5776db0cec75</td>\n",
       "      <td>train/5776db0cec75/81456c9c5423/000a312787f2</td>\n",
       "    </tr>\n",
       "    <tr>\n",
       "      <th>1</th>\n",
       "      <td>000c3a3f293f_image</td>\n",
       "      <td>NaN</td>\n",
       "      <td>none 1 0 0 1 1</td>\n",
       "      <td>ff0879eb20ed</td>\n",
       "      <td>train/ff0879eb20ed/d8a644cc4f93/000c3a3f293f</td>\n",
       "    </tr>\n",
       "    <tr>\n",
       "      <th>2</th>\n",
       "      <td>0012ff7358bc_image</td>\n",
       "      <td>[{'x': 677.42216, 'y': 197.97662, 'width': 867...</td>\n",
       "      <td>opacity 1 677.42216 197.97662 1545.21983 1197....</td>\n",
       "      <td>9d514ce429a7</td>\n",
       "      <td>train/9d514ce429a7/22897cd1daa0/0012ff7358bc</td>\n",
       "    </tr>\n",
       "    <tr>\n",
       "      <th>3</th>\n",
       "      <td>001398f4ff4f_image</td>\n",
       "      <td>[{'x': 2729, 'y': 2181.33331, 'width': 948.000...</td>\n",
       "      <td>opacity 1 2729 2181.33331 3677.00012 2785.33331</td>\n",
       "      <td>28dddc8559b2</td>\n",
       "      <td>train/28dddc8559b2/4d47bc042ee6/001398f4ff4f</td>\n",
       "    </tr>\n",
       "    <tr>\n",
       "      <th>4</th>\n",
       "      <td>001bd15d1891_image</td>\n",
       "      <td>[{'x': 623.23328, 'y': 1050, 'width': 714, 'he...</td>\n",
       "      <td>opacity 1 623.23328 1050 1337.23328 2156 opaci...</td>\n",
       "      <td>dfd9fdd85a3e</td>\n",
       "      <td>train/dfd9fdd85a3e/49170afa4f27/001bd15d1891</td>\n",
       "    </tr>\n",
       "  </tbody>\n",
       "</table>\n",
       "</div>"
      ],
      "text/plain": [
       "                   id                                              boxes  \\\n",
       "0  000a312787f2_image  [{'x': 789.28836, 'y': 582.43035, 'width': 102...   \n",
       "1  000c3a3f293f_image                                                NaN   \n",
       "2  0012ff7358bc_image  [{'x': 677.42216, 'y': 197.97662, 'width': 867...   \n",
       "3  001398f4ff4f_image  [{'x': 2729, 'y': 2181.33331, 'width': 948.000...   \n",
       "4  001bd15d1891_image  [{'x': 623.23328, 'y': 1050, 'width': 714, 'he...   \n",
       "\n",
       "                                               label StudyInstanceUID  \\\n",
       "0  opacity 1 789.28836 582.43035 1815.94498 2499....     5776db0cec75   \n",
       "1                                     none 1 0 0 1 1     ff0879eb20ed   \n",
       "2  opacity 1 677.42216 197.97662 1545.21983 1197....     9d514ce429a7   \n",
       "3    opacity 1 2729 2181.33331 3677.00012 2785.33331     28dddc8559b2   \n",
       "4  opacity 1 623.23328 1050 1337.23328 2156 opaci...     dfd9fdd85a3e   \n",
       "\n",
       "                                    image_fpath  \n",
       "0  train/5776db0cec75/81456c9c5423/000a312787f2  \n",
       "1  train/ff0879eb20ed/d8a644cc4f93/000c3a3f293f  \n",
       "2  train/9d514ce429a7/22897cd1daa0/0012ff7358bc  \n",
       "3  train/28dddc8559b2/4d47bc042ee6/001398f4ff4f  \n",
       "4  train/dfd9fdd85a3e/49170afa4f27/001bd15d1891  "
      ]
     },
     "execution_count": 38,
     "metadata": {},
     "output_type": "execute_result"
    }
   ],
   "source": [
    "fpath = os.path.join(DATASET_DIR, 'train_image_level.csv')\n",
    "df_image = pd.read_csv(fpath)\n",
    "df_image['image_fpath'] = [\n",
    "    IMAGE_ID_TO_FPATH[image_id.replace('_image', '')]\n",
    "    for image_id in df_image['id']\n",
    "]\n",
    "df_image.head()"
   ]
  },
  {
   "cell_type": "code",
   "execution_count": 39,
   "metadata": {},
   "outputs": [],
   "source": [
    "def chunks(l, n):\n",
    "    for i in range(0, len(l), n):\n",
    "        yield l[i:i+n]"
   ]
  },
  {
   "cell_type": "code",
   "execution_count": 40,
   "metadata": {},
   "outputs": [
    {
     "data": {
      "text/plain": [
       "9893"
      ]
     },
     "execution_count": 40,
     "metadata": {},
     "output_type": "execute_result"
    }
   ],
   "source": [
    "labels_with_bb = list(df_image['label'])\n",
    "labels = [\n",
    "    label\n",
    "    for ll in labels_with_bb\n",
    "    for label, score, a, b, c, d in tuple(chunks(ll.split(), 6))\n",
    "]\n",
    "len(labels)"
   ]
  },
  {
   "cell_type": "code",
   "execution_count": 41,
   "metadata": {},
   "outputs": [
    {
     "data": {
      "text/plain": [
       "Counter({'opacity': 7853, 'none': 2040})"
      ]
     },
     "execution_count": 41,
     "metadata": {},
     "output_type": "execute_result"
    }
   ],
   "source": [
    "Counter(labels)"
   ]
  },
  {
   "cell_type": "markdown",
   "metadata": {},
   "source": [
    "## Study level labels"
   ]
  },
  {
   "cell_type": "code",
   "execution_count": 42,
   "metadata": {},
   "outputs": [
    {
     "data": {
      "text/html": [
       "<div>\n",
       "<style scoped>\n",
       "    .dataframe tbody tr th:only-of-type {\n",
       "        vertical-align: middle;\n",
       "    }\n",
       "\n",
       "    .dataframe tbody tr th {\n",
       "        vertical-align: top;\n",
       "    }\n",
       "\n",
       "    .dataframe thead th {\n",
       "        text-align: right;\n",
       "    }\n",
       "</style>\n",
       "<table border=\"1\" class=\"dataframe\">\n",
       "  <thead>\n",
       "    <tr style=\"text-align: right;\">\n",
       "      <th></th>\n",
       "      <th>id</th>\n",
       "      <th>Negative for Pneumonia</th>\n",
       "      <th>Typical Appearance</th>\n",
       "      <th>Indeterminate Appearance</th>\n",
       "      <th>Atypical Appearance</th>\n",
       "    </tr>\n",
       "  </thead>\n",
       "  <tbody>\n",
       "    <tr>\n",
       "      <th>0</th>\n",
       "      <td>00086460a852</td>\n",
       "      <td>0</td>\n",
       "      <td>1</td>\n",
       "      <td>0</td>\n",
       "      <td>0</td>\n",
       "    </tr>\n",
       "    <tr>\n",
       "      <th>1</th>\n",
       "      <td>000c9c05fd14</td>\n",
       "      <td>0</td>\n",
       "      <td>0</td>\n",
       "      <td>0</td>\n",
       "      <td>1</td>\n",
       "    </tr>\n",
       "    <tr>\n",
       "      <th>2</th>\n",
       "      <td>00292f8c37bd</td>\n",
       "      <td>1</td>\n",
       "      <td>0</td>\n",
       "      <td>0</td>\n",
       "      <td>0</td>\n",
       "    </tr>\n",
       "    <tr>\n",
       "      <th>3</th>\n",
       "      <td>005057b3f880</td>\n",
       "      <td>1</td>\n",
       "      <td>0</td>\n",
       "      <td>0</td>\n",
       "      <td>0</td>\n",
       "    </tr>\n",
       "    <tr>\n",
       "      <th>4</th>\n",
       "      <td>0051d9b12e72</td>\n",
       "      <td>0</td>\n",
       "      <td>0</td>\n",
       "      <td>0</td>\n",
       "      <td>1</td>\n",
       "    </tr>\n",
       "  </tbody>\n",
       "</table>\n",
       "</div>"
      ],
      "text/plain": [
       "             id  Negative for Pneumonia  Typical Appearance  \\\n",
       "0  00086460a852                       0                   1   \n",
       "1  000c9c05fd14                       0                   0   \n",
       "2  00292f8c37bd                       1                   0   \n",
       "3  005057b3f880                       1                   0   \n",
       "4  0051d9b12e72                       0                   0   \n",
       "\n",
       "   Indeterminate Appearance  Atypical Appearance  \n",
       "0                         0                    0  \n",
       "1                         0                    1  \n",
       "2                         0                    0  \n",
       "3                         0                    0  \n",
       "4                         0                    1  "
      ]
     },
     "execution_count": 42,
     "metadata": {},
     "output_type": "execute_result"
    }
   ],
   "source": [
    "fpath = os.path.join(DATASET_DIR, 'train_study_level.csv')\n",
    "df_study = pd.read_csv(fpath)\n",
    "df_study['id'] = [s.replace('_study', '') for s in df_study['id']]\n",
    "df_study.head()"
   ]
  },
  {
   "cell_type": "code",
   "execution_count": 43,
   "metadata": {},
   "outputs": [],
   "source": [
    "COVID_SIIM_DISEASES = [\n",
    "    'Negative for Pneumonia',\n",
    "    'Typical Appearance',\n",
    "    'Indeterminate Appearance',\n",
    "    'Atypical Appearance',\n",
    "]"
   ]
  },
  {
   "cell_type": "code",
   "execution_count": 44,
   "metadata": {},
   "outputs": [
    {
     "data": {
      "text/plain": [
       "Counter({1: 6054})"
      ]
     },
     "execution_count": 44,
     "metadata": {},
     "output_type": "execute_result"
    }
   ],
   "source": [
    "# Check if is multilabel or not\n",
    "Counter(df_study[COVID_SIIM_DISEASES].sum(axis=1).values)"
   ]
  },
  {
   "cell_type": "code",
   "execution_count": 45,
   "metadata": {},
   "outputs": [
    {
     "data": {
      "text/plain": [
       "Typical Appearance          2855\n",
       "Negative for Pneumonia      1676\n",
       "Indeterminate Appearance    1049\n",
       "Atypical Appearance          474\n",
       "dtype: int64"
      ]
     },
     "execution_count": 45,
     "metadata": {},
     "output_type": "execute_result"
    }
   ],
   "source": [
    "n_studies = len(df_study)\n",
    "dist_labels = df_study[COVID_SIIM_DISEASES].sum(axis=0).sort_values(ascending=False)\n",
    "dist_labels"
   ]
  },
  {
   "cell_type": "code",
   "execution_count": 46,
   "metadata": {},
   "outputs": [
    {
     "data": {
      "image/png": "[encoded data removed]",
      "text/plain": [
       "<Figure size 720x360 with 1 Axes>"
      ]
     },
     "metadata": {},
     "output_type": "display_data"
    }
   ],
   "source": [
    "plt.figure(figsize=(10, 5))\n",
    "plt.title('Labels distribution')\n",
    "plt.bar(dist_labels.index, dist_labels.values)\n",
    "plt.ylabel('N studies')\n",
    "plt.ylim(0, max(dist_labels.values) * 1.10)\n",
    "\n",
    "for index, value in enumerate(dist_labels.values):\n",
    "    perc = value / n_studies * 100\n",
    "    txt = f'{value:,} ({perc:.1f}%)'\n",
    "    plt.text(index, value * 1.02, txt, ha='center')"
   ]
  },
  {
   "cell_type": "markdown",
   "metadata": {},
   "source": [
    "### Split studies in train/val"
   ]
  },
  {
   "cell_type": "code",
   "execution_count": 47,
   "metadata": {},
   "outputs": [],
   "source": [
    "import random"
   ]
  },
  {
   "cell_type": "code",
   "execution_count": 48,
   "metadata": {},
   "outputs": [
    {
     "data": {
      "text/plain": [
       "6054"
      ]
     },
     "execution_count": 48,
     "metadata": {},
     "output_type": "execute_result"
    }
   ],
   "source": [
    "studies = list(df_study['id'])\n",
    "n_studies = len(studies)\n",
    "assert n_studies == len(set(studies))\n",
    "n_studies"
   ]
  },
  {
   "cell_type": "code",
   "execution_count": 49,
   "metadata": {},
   "outputs": [
    {
     "data": {
      "text/plain": [
       "(5449, 605)"
      ]
     },
     "execution_count": 49,
     "metadata": {},
     "output_type": "execute_result"
    }
   ],
   "source": [
    "val_split = 0.1\n",
    "n_val_studies = int(n_studies * val_split)\n",
    "n_train_studies = n_studies - n_val_studies\n",
    "n_train_studies, n_val_studies"
   ]
  },
  {
   "cell_type": "code",
   "execution_count": 50,
   "metadata": {},
   "outputs": [
    {
     "data": {
      "text/plain": [
       "(5449, 605)"
      ]
     },
     "execution_count": 50,
     "metadata": {},
     "output_type": "execute_result"
    }
   ],
   "source": [
    "val_studies = random.sample(studies, n_val_studies)\n",
    "train_studies = list(set(studies) - set(val_studies))\n",
    "assert len(set(val_studies).intersection(train_studies)) == 0\n",
    "len(train_studies), len(val_studies)"
   ]
  },
  {
   "cell_type": "code",
   "execution_count": 51,
   "metadata": {},
   "outputs": [],
   "source": [
    "def write_list_to_txt(arr, filepath, sep='\\n'):\n",
    "    \"\"\"Writes a list of strings to a file\"\"\"\n",
    "    with open(filepath, 'w') as f:\n",
    "        for line in arr:\n",
    "            f.write(line + sep)"
   ]
  },
  {
   "cell_type": "code",
   "execution_count": 135,
   "metadata": {},
   "outputs": [],
   "source": [
    "splits_folder = os.path.join(DATASET_DIR, 'splits')\n",
    "write_list_to_txt(train_studies, os.path.join(splits_folder, 'train.txt'))\n",
    "write_list_to_txt(val_studies, os.path.join(splits_folder, 'val.txt'))"
   ]
  },
  {
   "cell_type": "markdown",
   "metadata": {},
   "source": [
    "## Merge into master_metadata.csv"
   ]
  },
  {
   "cell_type": "code",
   "execution_count": 52,
   "metadata": {},
   "outputs": [
    {
     "data": {
      "text/html": [
       "<div>\n",
       "<style scoped>\n",
       "    .dataframe tbody tr th:only-of-type {\n",
       "        vertical-align: middle;\n",
       "    }\n",
       "\n",
       "    .dataframe tbody tr th {\n",
       "        vertical-align: top;\n",
       "    }\n",
       "\n",
       "    .dataframe thead th {\n",
       "        text-align: right;\n",
       "    }\n",
       "</style>\n",
       "<table border=\"1\" class=\"dataframe\">\n",
       "  <thead>\n",
       "    <tr style=\"text-align: right;\">\n",
       "      <th></th>\n",
       "      <th>id</th>\n",
       "      <th>Negative for Pneumonia</th>\n",
       "      <th>Typical Appearance</th>\n",
       "      <th>Indeterminate Appearance</th>\n",
       "      <th>Atypical Appearance</th>\n",
       "    </tr>\n",
       "  </thead>\n",
       "  <tbody>\n",
       "    <tr>\n",
       "      <th>0</th>\n",
       "      <td>00086460a852</td>\n",
       "      <td>0</td>\n",
       "      <td>1</td>\n",
       "      <td>0</td>\n",
       "      <td>0</td>\n",
       "    </tr>\n",
       "    <tr>\n",
       "      <th>1</th>\n",
       "      <td>000c9c05fd14</td>\n",
       "      <td>0</td>\n",
       "      <td>0</td>\n",
       "      <td>0</td>\n",
       "      <td>1</td>\n",
       "    </tr>\n",
       "  </tbody>\n",
       "</table>\n",
       "</div>"
      ],
      "text/plain": [
       "             id  Negative for Pneumonia  Typical Appearance  \\\n",
       "0  00086460a852                       0                   1   \n",
       "1  000c9c05fd14                       0                   0   \n",
       "\n",
       "   Indeterminate Appearance  Atypical Appearance  \n",
       "0                         0                    0  \n",
       "1                         0                    1  "
      ]
     },
     "execution_count": 52,
     "metadata": {},
     "output_type": "execute_result"
    }
   ],
   "source": [
    "df_study.head(2)"
   ]
  },
  {
   "cell_type": "code",
   "execution_count": 53,
   "metadata": {},
   "outputs": [
    {
     "data": {
      "text/html": [
       "<div>\n",
       "<style scoped>\n",
       "    .dataframe tbody tr th:only-of-type {\n",
       "        vertical-align: middle;\n",
       "    }\n",
       "\n",
       "    .dataframe tbody tr th {\n",
       "        vertical-align: top;\n",
       "    }\n",
       "\n",
       "    .dataframe thead th {\n",
       "        text-align: right;\n",
       "    }\n",
       "</style>\n",
       "<table border=\"1\" class=\"dataframe\">\n",
       "  <thead>\n",
       "    <tr style=\"text-align: right;\">\n",
       "      <th></th>\n",
       "      <th>id</th>\n",
       "      <th>boxes</th>\n",
       "      <th>label</th>\n",
       "      <th>StudyInstanceUID</th>\n",
       "      <th>image_fpath</th>\n",
       "    </tr>\n",
       "  </thead>\n",
       "  <tbody>\n",
       "    <tr>\n",
       "      <th>0</th>\n",
       "      <td>000a312787f2_image</td>\n",
       "      <td>[{'x': 789.28836, 'y': 582.43035, 'width': 102...</td>\n",
       "      <td>opacity 1 789.28836 582.43035 1815.94498 2499....</td>\n",
       "      <td>5776db0cec75</td>\n",
       "      <td>train/5776db0cec75/81456c9c5423/000a312787f2</td>\n",
       "    </tr>\n",
       "    <tr>\n",
       "      <th>1</th>\n",
       "      <td>000c3a3f293f_image</td>\n",
       "      <td>NaN</td>\n",
       "      <td>none 1 0 0 1 1</td>\n",
       "      <td>ff0879eb20ed</td>\n",
       "      <td>train/ff0879eb20ed/d8a644cc4f93/000c3a3f293f</td>\n",
       "    </tr>\n",
       "  </tbody>\n",
       "</table>\n",
       "</div>"
      ],
      "text/plain": [
       "                   id                                              boxes  \\\n",
       "0  000a312787f2_image  [{'x': 789.28836, 'y': 582.43035, 'width': 102...   \n",
       "1  000c3a3f293f_image                                                NaN   \n",
       "\n",
       "                                               label StudyInstanceUID  \\\n",
       "0  opacity 1 789.28836 582.43035 1815.94498 2499....     5776db0cec75   \n",
       "1                                     none 1 0 0 1 1     ff0879eb20ed   \n",
       "\n",
       "                                    image_fpath  \n",
       "0  train/5776db0cec75/81456c9c5423/000a312787f2  \n",
       "1  train/ff0879eb20ed/d8a644cc4f93/000c3a3f293f  "
      ]
     },
     "execution_count": 53,
     "metadata": {},
     "output_type": "execute_result"
    }
   ],
   "source": [
    "df_image.head(2)"
   ]
  },
  {
   "cell_type": "code",
   "execution_count": 54,
   "metadata": {},
   "outputs": [
    {
     "data": {
      "text/plain": [
       "True"
      ]
     },
     "execution_count": 54,
     "metadata": {},
     "output_type": "execute_result"
    }
   ],
   "source": [
    "set(df_study['id']) == set(df_image['StudyInstanceUID'])"
   ]
  },
  {
   "cell_type": "code",
   "execution_count": 105,
   "metadata": {},
   "outputs": [],
   "source": [
    "df_image_2 = df_image.copy()\n",
    "df_image_2['image_id'] = [i.replace('_image', '') for i in df_image_2['id']]\n",
    "del df_image_2['id']"
   ]
  },
  {
   "cell_type": "code",
   "execution_count": 106,
   "metadata": {},
   "outputs": [
    {
     "data": {
      "text/html": [
       "<div>\n",
       "<style scoped>\n",
       "    .dataframe tbody tr th:only-of-type {\n",
       "        vertical-align: middle;\n",
       "    }\n",
       "\n",
       "    .dataframe tbody tr th {\n",
       "        vertical-align: top;\n",
       "    }\n",
       "\n",
       "    .dataframe thead th {\n",
       "        text-align: right;\n",
       "    }\n",
       "</style>\n",
       "<table border=\"1\" class=\"dataframe\">\n",
       "  <thead>\n",
       "    <tr style=\"text-align: right;\">\n",
       "      <th></th>\n",
       "      <th>boxes</th>\n",
       "      <th>label</th>\n",
       "      <th>study_id</th>\n",
       "      <th>image_fpath</th>\n",
       "      <th>image_id</th>\n",
       "      <th>Negative for Pneumonia</th>\n",
       "      <th>Typical Appearance</th>\n",
       "      <th>Indeterminate Appearance</th>\n",
       "      <th>Atypical Appearance</th>\n",
       "    </tr>\n",
       "  </thead>\n",
       "  <tbody>\n",
       "    <tr>\n",
       "      <th>0</th>\n",
       "      <td>[{'x': 789.28836, 'y': 582.43035, 'width': 102...</td>\n",
       "      <td>opacity 1 789.28836 582.43035 1815.94498 2499....</td>\n",
       "      <td>5776db0cec75</td>\n",
       "      <td>train/5776db0cec75/81456c9c5423/000a312787f2</td>\n",
       "      <td>000a312787f2</td>\n",
       "      <td>0</td>\n",
       "      <td>1</td>\n",
       "      <td>0</td>\n",
       "      <td>0</td>\n",
       "    </tr>\n",
       "    <tr>\n",
       "      <th>1</th>\n",
       "      <td>NaN</td>\n",
       "      <td>none 1 0 0 1 1</td>\n",
       "      <td>ff0879eb20ed</td>\n",
       "      <td>train/ff0879eb20ed/d8a644cc4f93/000c3a3f293f</td>\n",
       "      <td>000c3a3f293f</td>\n",
       "      <td>1</td>\n",
       "      <td>0</td>\n",
       "      <td>0</td>\n",
       "      <td>0</td>\n",
       "    </tr>\n",
       "  </tbody>\n",
       "</table>\n",
       "</div>"
      ],
      "text/plain": [
       "                                               boxes  \\\n",
       "0  [{'x': 789.28836, 'y': 582.43035, 'width': 102...   \n",
       "1                                                NaN   \n",
       "\n",
       "                                               label      study_id  \\\n",
       "0  opacity 1 789.28836 582.43035 1815.94498 2499....  5776db0cec75   \n",
       "1                                     none 1 0 0 1 1  ff0879eb20ed   \n",
       "\n",
       "                                    image_fpath      image_id  \\\n",
       "0  train/5776db0cec75/81456c9c5423/000a312787f2  000a312787f2   \n",
       "1  train/ff0879eb20ed/d8a644cc4f93/000c3a3f293f  000c3a3f293f   \n",
       "\n",
       "   Negative for Pneumonia  Typical Appearance  Indeterminate Appearance  \\\n",
       "0                       0                   1                         0   \n",
       "1                       1                   0                         0   \n",
       "\n",
       "   Atypical Appearance  \n",
       "0                    0  \n",
       "1                    0  "
      ]
     },
     "execution_count": 106,
     "metadata": {},
     "output_type": "execute_result"
    }
   ],
   "source": [
    "master_df = df_image_2.merge(df_study, how='inner', left_on='StudyInstanceUID', right_on='id')\n",
    "del master_df['id']\n",
    "master_df.rename(columns={'StudyInstanceUID': 'study_id'}, inplace=True)\n",
    "master_df.head(2)"
   ]
  },
  {
   "cell_type": "code",
   "execution_count": 107,
   "metadata": {},
   "outputs": [],
   "source": [
    "assert len(master_df) == len(df_image)"
   ]
  },
  {
   "cell_type": "markdown",
   "metadata": {},
   "source": [
    "### Add test images to metadata.csv"
   ]
  },
  {
   "cell_type": "code",
   "execution_count": 108,
   "metadata": {},
   "outputs": [],
   "source": [
    "import re"
   ]
  },
  {
   "cell_type": "code",
   "execution_count": 109,
   "metadata": {},
   "outputs": [
    {
     "data": {
      "text/plain": [
       "1263"
      ]
     },
     "execution_count": 109,
     "metadata": {},
     "output_type": "execute_result"
    }
   ],
   "source": [
    "test_metadata = []\n",
    "for image_fpath in TEST_IMAGE_PATHS:\n",
    "    image_id = os.path.basename(image_fpath).replace('.dcm', '')\n",
    "    study_id = re.search(r'.*test\\/([a-z\\d]+)\\/.*', image_fpath).group(1)\n",
    "    \n",
    "    fpath = image_fpath.replace(DICOM_DIR, '').replace('.dcm', '')\n",
    "    if fpath.startswith('/'):\n",
    "        fpath = fpath[1:]\n",
    "    test_metadata.append((\n",
    "        image_id, study_id, fpath, [], 'none 1 0 0 1 1', 0, 0, 0, 0,\n",
    "    ))\n",
    "len(test_metadata)"
   ]
  },
  {
   "cell_type": "code",
   "execution_count": 110,
   "metadata": {},
   "outputs": [
    {
     "data": {
      "text/html": [
       "<div>\n",
       "<style scoped>\n",
       "    .dataframe tbody tr th:only-of-type {\n",
       "        vertical-align: middle;\n",
       "    }\n",
       "\n",
       "    .dataframe tbody tr th {\n",
       "        vertical-align: top;\n",
       "    }\n",
       "\n",
       "    .dataframe thead th {\n",
       "        text-align: right;\n",
       "    }\n",
       "</style>\n",
       "<table border=\"1\" class=\"dataframe\">\n",
       "  <thead>\n",
       "    <tr style=\"text-align: right;\">\n",
       "      <th></th>\n",
       "      <th>image_id</th>\n",
       "      <th>study_id</th>\n",
       "      <th>image_fpath</th>\n",
       "      <th>boxes</th>\n",
       "      <th>label</th>\n",
       "      <th>Negative for Pneumonia</th>\n",
       "      <th>Typical Appearance</th>\n",
       "      <th>Indeterminate Appearance</th>\n",
       "      <th>Atypical Appearance</th>\n",
       "    </tr>\n",
       "  </thead>\n",
       "  <tbody>\n",
       "    <tr>\n",
       "      <th>0</th>\n",
       "      <td>3a81bc9c91c9</td>\n",
       "      <td>c731d74015f8</td>\n",
       "      <td>test/c731d74015f8/719b2b5798d1/3a81bc9c91c9</td>\n",
       "      <td>[]</td>\n",
       "      <td>none 1 0 0 1 1</td>\n",
       "      <td>0</td>\n",
       "      <td>0</td>\n",
       "      <td>0</td>\n",
       "      <td>0</td>\n",
       "    </tr>\n",
       "    <tr>\n",
       "      <th>1</th>\n",
       "      <td>572d5c14fc66</td>\n",
       "      <td>0816f9d3875e</td>\n",
       "      <td>test/0816f9d3875e/d7929996174c/572d5c14fc66</td>\n",
       "      <td>[]</td>\n",
       "      <td>none 1 0 0 1 1</td>\n",
       "      <td>0</td>\n",
       "      <td>0</td>\n",
       "      <td>0</td>\n",
       "      <td>0</td>\n",
       "    </tr>\n",
       "    <tr>\n",
       "      <th>2</th>\n",
       "      <td>3dcdfc352a06</td>\n",
       "      <td>00188a671292</td>\n",
       "      <td>test/00188a671292/3eb5a506ccf3/3dcdfc352a06</td>\n",
       "      <td>[]</td>\n",
       "      <td>none 1 0 0 1 1</td>\n",
       "      <td>0</td>\n",
       "      <td>0</td>\n",
       "      <td>0</td>\n",
       "      <td>0</td>\n",
       "    </tr>\n",
       "    <tr>\n",
       "      <th>3</th>\n",
       "      <td>7553bffc2232</td>\n",
       "      <td>17ffbc3d2207</td>\n",
       "      <td>test/17ffbc3d2207/890d435d6ea0/7553bffc2232</td>\n",
       "      <td>[]</td>\n",
       "      <td>none 1 0 0 1 1</td>\n",
       "      <td>0</td>\n",
       "      <td>0</td>\n",
       "      <td>0</td>\n",
       "      <td>0</td>\n",
       "    </tr>\n",
       "    <tr>\n",
       "      <th>4</th>\n",
       "      <td>a522fd19d916</td>\n",
       "      <td>28156ad1b4cc</td>\n",
       "      <td>test/28156ad1b4cc/f7794eaf81e2/a522fd19d916</td>\n",
       "      <td>[]</td>\n",
       "      <td>none 1 0 0 1 1</td>\n",
       "      <td>0</td>\n",
       "      <td>0</td>\n",
       "      <td>0</td>\n",
       "      <td>0</td>\n",
       "    </tr>\n",
       "  </tbody>\n",
       "</table>\n",
       "</div>"
      ],
      "text/plain": [
       "       image_id      study_id                                  image_fpath  \\\n",
       "0  3a81bc9c91c9  c731d74015f8  test/c731d74015f8/719b2b5798d1/3a81bc9c91c9   \n",
       "1  572d5c14fc66  0816f9d3875e  test/0816f9d3875e/d7929996174c/572d5c14fc66   \n",
       "2  3dcdfc352a06  00188a671292  test/00188a671292/3eb5a506ccf3/3dcdfc352a06   \n",
       "3  7553bffc2232  17ffbc3d2207  test/17ffbc3d2207/890d435d6ea0/7553bffc2232   \n",
       "4  a522fd19d916  28156ad1b4cc  test/28156ad1b4cc/f7794eaf81e2/a522fd19d916   \n",
       "\n",
       "  boxes           label  Negative for Pneumonia  Typical Appearance  \\\n",
       "0    []  none 1 0 0 1 1                       0                   0   \n",
       "1    []  none 1 0 0 1 1                       0                   0   \n",
       "2    []  none 1 0 0 1 1                       0                   0   \n",
       "3    []  none 1 0 0 1 1                       0                   0   \n",
       "4    []  none 1 0 0 1 1                       0                   0   \n",
       "\n",
       "   Indeterminate Appearance  Atypical Appearance  \n",
       "0                         0                    0  \n",
       "1                         0                    0  \n",
       "2                         0                    0  \n",
       "3                         0                    0  \n",
       "4                         0                    0  "
      ]
     },
     "execution_count": 110,
     "metadata": {},
     "output_type": "execute_result"
    }
   ],
   "source": [
    "cols = ['image_id', 'study_id', 'image_fpath', 'boxes', 'label', *COVID_SIIM_DISEASES]\n",
    "test_df = pd.DataFrame(test_metadata, columns=cols)\n",
    "test_df.head()"
   ]
  },
  {
   "cell_type": "code",
   "execution_count": 111,
   "metadata": {},
   "outputs": [
    {
     "data": {
      "text/plain": [
       "7597"
      ]
     },
     "execution_count": 111,
     "metadata": {},
     "output_type": "execute_result"
    }
   ],
   "source": [
    "master_df = master_df.append(test_df)\n",
    "assert len(master_df) == len(df_image) + len(test_df)\n",
    "len(master_df)"
   ]
  },
  {
   "cell_type": "code",
   "execution_count": 112,
   "metadata": {},
   "outputs": [],
   "source": [
    "master_df.fillna(\"[]\", inplace=True)"
   ]
  },
  {
   "cell_type": "code",
   "execution_count": 113,
   "metadata": {},
   "outputs": [
    {
     "data": {
      "text/plain": [
       "boxes                       False\n",
       "label                       False\n",
       "study_id                    False\n",
       "image_fpath                 False\n",
       "image_id                    False\n",
       "Negative for Pneumonia      False\n",
       "Typical Appearance          False\n",
       "Indeterminate Appearance    False\n",
       "Atypical Appearance         False\n",
       "dtype: bool"
      ]
     },
     "execution_count": 113,
     "metadata": {},
     "output_type": "execute_result"
    }
   ],
   "source": [
    "master_df.isnull().any(axis=0)"
   ]
  },
  {
   "cell_type": "code",
   "execution_count": 114,
   "metadata": {},
   "outputs": [],
   "source": [
    "master_df.to_csv(os.path.join(DATASET_DIR, 'metadata.csv'), index=False)"
   ]
  },
  {
   "cell_type": "markdown",
   "metadata": {
    "heading_collapsed": true
   },
   "source": [
    "# Load one DICOM sample"
   ]
  },
  {
   "cell_type": "code",
   "execution_count": 5,
   "metadata": {
    "hidden": true
   },
   "outputs": [],
   "source": [
    "fpath = os.path.join(DICOM_DIR, 'train/00086460a852/9e8302230c91/65761e66de9f.dcm')"
   ]
  },
  {
   "cell_type": "code",
   "execution_count": 6,
   "metadata": {
    "hidden": true
   },
   "outputs": [
    {
     "data": {
      "text/plain": [
       "(0008, 0005) Specific Character Set              CS: 'ISO_IR 100'\n",
       "(0008, 0008) Image Type                          CS: ['ORIGINAL', 'PRIMARY', '']\n",
       "(0008, 0016) SOP Class UID                       UI: 71228e4340de\n",
       "(0008, 0018) SOP Instance UID                    UI: 65761e66de9f\n",
       "(0008, 0020) Study Date                          DA: '4545ba78b753'\n",
       "(0008, 0030) Study Time                          TM: 'bf1677526b2b'\n",
       "(0008, 0050) Accession Number                    SH: u'5f20f119e3df'\n",
       "(0008, 0060) Modality                            CS: 'DX'\n",
       "(0009, 0010) Private Creator                     LO: u'GEIIS'\n",
       "(0010, 0010) Patient's Name                      PN: u'd47cea7a3b93'\n",
       "(0010, 0020) Patient ID                          LO: u'7d3bf0aef747'\n",
       "(0010, 0040) Patient's Sex                       CS: 'F'\n",
       "(0012, 0063) De-identification Method            LO: u'CTP Default:  based on DICOM PS3.15 AnnexE. Details in 0012,0064'\n",
       "(0012, 0064)  De-identification Method Code Sequence   6 item(s) ---- \n",
       "   (0008, 0100) Code Value                          SH: u'113100'\n",
       "   (0008, 0102) Coding Scheme Designator            SH: u'DCM'\n",
       "   (0008, 0104) Code Meaning                        LO: u'Basic Application Confidentiality Profile'\n",
       "   ---------\n",
       "   (0008, 0100) Code Value                          SH: u'113105'\n",
       "   (0008, 0102) Coding Scheme Designator            SH: u'DCM'\n",
       "   (0008, 0104) Code Meaning                        LO: u'Clean Descriptors Option'\n",
       "   ---------\n",
       "   (0008, 0100) Code Value                          SH: u'113107'\n",
       "   (0008, 0102) Coding Scheme Designator            SH: u'DCM'\n",
       "   (0008, 0104) Code Meaning                        LO: u'Retain Longitudinal Temporal Information Modified Dates Option'\n",
       "   ---------\n",
       "   (0008, 0100) Code Value                          SH: u'113108'\n",
       "   (0008, 0102) Coding Scheme Designator            SH: u'DCM'\n",
       "   (0008, 0104) Code Meaning                        LO: u'Retain Patient Characteristics Option'\n",
       "   ---------\n",
       "   (0008, 0100) Code Value                          SH: u'113109'\n",
       "   (0008, 0102) Coding Scheme Designator            SH: u'DCM'\n",
       "   (0008, 0104) Code Meaning                        LO: u'Retain Device Identity Option'\n",
       "   ---------\n",
       "   (0008, 0100) Code Value                          SH: u'11'\n",
       "   (0008, 0102) Coding Scheme Designator            SH: u'XNAT'\n",
       "   (0008, 0103) Coding Scheme Version               SH: u'1.0'\n",
       "   (0008, 0104) Code Meaning                        LO: u'XNAT DicomEdit 4 Script'\n",
       "   ---------\n",
       "(0018, 0015) Body Part Examined                  CS: 'CHEST'\n",
       "(0018, 1164) Imager Pixel Spacing                DS: [0.148, 0.148]\n",
       "(0020, 000d) Study Instance UID                  UI: 00086460a852\n",
       "(0020, 000e) Series Instance UID                 UI: 9e8302230c91\n",
       "(0020, 0010) Study ID                            SH: u'55625fb42f3f'\n",
       "(0020, 0011) Series Number                       IS: \"1\"\n",
       "(0020, 0013) Instance Number                     IS: \"1\"\n",
       "(0028, 0002) Samples per Pixel                   US: 1\n",
       "(0028, 0004) Photometric Interpretation          CS: 'MONOCHROME2'\n",
       "(0028, 0010) Rows                                US: 2330\n",
       "(0028, 0011) Columns                             US: 2783\n",
       "(0028, 0100) Bits Allocated                      US: 16\n",
       "(0028, 0101) Bits Stored                         US: 12\n",
       "(0028, 0102) High Bit                            US: 11\n",
       "(0028, 0103) Pixel Representation                US: 0\n",
       "(0903, 0010) Private Creator                     LO: u'GEIIS PACS'\n",
       "(0905, 0010) Private Creator                     LO: u'GEIIS'\n",
       "(2001, 0010) Private Creator                     LO: u'Philips Imaging DD 001'\n",
       "(2001, 0011) Private Creator                     LO: u'Philips Imaging DD 002'\n",
       "(200b, 0010) Private Creator                     LO: u'Philips RAD Imaging DD 001'\n",
       "(200b, 0011) Private Creator                     LO: u'Philips RAD Imaging DD 097'\n",
       "(200b, 0012) Private Creator                     LO: u'Philips RAD Imaging DD 099'\n",
       "(7fd1, 0010) Private Creator                     LO: u'GEIIS'\n",
       "(7fe0, 0010) Pixel Data                          OW: Array of 12968780 elements"
      ]
     },
     "execution_count": 6,
     "metadata": {},
     "output_type": "execute_result"
    }
   ],
   "source": [
    "dicom = pydcm.read_file(fpath)\n",
    "dicom"
   ]
  },
  {
   "cell_type": "code",
   "execution_count": 7,
   "metadata": {
    "hidden": true
   },
   "outputs": [],
   "source": [
    "def dicom_to_np(dicom):\n",
    "    data = apply_voi_lut(dicom.pixel_array, dicom)\n",
    "\n",
    "    if dicom.PhotometricInterpretation == 'MONOCHROME1':\n",
    "        data = np.amax(data) - data\n",
    "        \n",
    "    data = data - np.min(data)\n",
    "    data = np.true_divide(data, np.max(data))\n",
    "    data = (data * 255).astype(np.uint8)\n",
    "    \n",
    "    return data"
   ]
  },
  {
   "cell_type": "code",
   "execution_count": 8,
   "metadata": {
    "hidden": true
   },
   "outputs": [],
   "source": [
    "data = dicom_to_np(dicom)"
   ]
  },
  {
   "cell_type": "code",
   "execution_count": 10,
   "metadata": {
    "hidden": true
   },
   "outputs": [
    {
     "data": {
      "text/plain": [
       "(0, 255, dtype('uint8'))"
      ]
     },
     "execution_count": 10,
     "metadata": {},
     "output_type": "execute_result"
    }
   ],
   "source": [
    "data.min(), data.max(), data.dtype"
   ]
  },
  {
   "cell_type": "code",
   "execution_count": 9,
   "metadata": {
    "hidden": true
   },
   "outputs": [
    {
     "data": {
      "text/plain": [
       "Text(0.5,1,'Original DICOM')"
      ]
     },
     "execution_count": 9,
     "metadata": {},
     "output_type": "execute_result"
    },
    {
     "data": {
      "image/png": "[encoded data removed]",
      "text/plain": [
       "<Figure size 432x288 with 2 Axes>"
      ]
     },
     "metadata": {
      "needs_background": "light"
     },
     "output_type": "display_data"
    }
   ],
   "source": [
    "plt.subplot(1, 2, 1)\n",
    "plt.imshow(data, cmap='gray')\n",
    "plt.title('Np array')\n",
    "\n",
    "plt.subplot(1, 2, 2)\n",
    "plt.imshow(dicom.pixel_array, cmap='gray')\n",
    "plt.title('Original DICOM')"
   ]
  },
  {
   "cell_type": "markdown",
   "metadata": {
    "heading_collapsed": true
   },
   "source": [
    "# Transform all images into PNG\n",
    "\n",
    "Needs to run with py2gdcm for some images, that throw error:\n",
    "\n",
    "`\"The following handlers are available to decode the pixel data however they are missing required dependencies: GDCM (req. GDCM)\"`"
   ]
  },
  {
   "cell_type": "code",
   "execution_count": 12,
   "metadata": {
    "hidden": true
   },
   "outputs": [],
   "source": [
    "from tqdm.auto import tqdm\n",
    "from PIL import Image"
   ]
  },
  {
   "cell_type": "code",
   "execution_count": 14,
   "metadata": {
    "hidden": true
   },
   "outputs": [
    {
     "data": {
      "application/vnd.jupyter.widget-view+json": {
       "model_id": "4e128337898543929021ac63f153c96d",
       "version_major": 2,
       "version_minor": 0
      },
      "text/plain": [
       "HBox(children=(FloatProgress(value=0.0, max=6334.0), HTML(value=u'')))"
      ]
     },
     "metadata": {},
     "output_type": "display_data"
    },
    {
     "name": "stdout",
     "output_type": "stream",
     "text": [
      "\n"
     ]
    },
    {
     "data": {
      "application/vnd.jupyter.widget-view+json": {
       "model_id": "29c1faa6a4554a0586303575e67c9599",
       "version_major": 2,
       "version_minor": 0
      },
      "text/plain": [
       "HBox(children=(FloatProgress(value=0.0, max=1263.0), HTML(value=u'')))"
      ]
     },
     "metadata": {},
     "output_type": "display_data"
    },
    {
     "name": "stdout",
     "output_type": "stream",
     "text": [
      "\n"
     ]
    }
   ],
   "source": [
    "errors = []\n",
    "\n",
    "for split in ('train', 'test'):\n",
    "    fpaths = glob(os.path.join(DICOM_DIR, split, '*/*/*.dcm'))\n",
    "\n",
    "    for fpath in tqdm(fpaths):\n",
    "        # Get png fpath\n",
    "        filename = fpath.replace(DICOM_DIR, '')\n",
    "        if filename.startswith('/'):\n",
    "            filename = filename[1:]\n",
    "        out_fpath = os.path.join(DATASET_DIR, 'images', filename)\n",
    "        out_fpath = out_fpath.replace('.dcm', '.png')\n",
    "        \n",
    "        if os.path.isfile(out_fpath):\n",
    "            continue\n",
    "        \n",
    "        # Ensure folder exists\n",
    "        out_folder = os.path.dirname(out_fpath)\n",
    "        if not os.path.isdir(out_folder):\n",
    "            os.makedirs(out_folder)\n",
    "            # Cannot use exist_ok=True in python 2\n",
    "        \n",
    "        dicom = pydcm.read_file(fpath)\n",
    "        try:\n",
    "            data = dicom_to_np(dicom)\n",
    "        except Exception as e:\n",
    "            errors.append((fpath, e))\n",
    "            continue\n",
    "        image = Image.fromarray(data, mode='L')\n",
    "        \n",
    "        # Save as png\n",
    "        image.save(out_fpath)\n",
    "        image.close()"
   ]
  },
  {
   "cell_type": "code",
   "execution_count": 234,
   "metadata": {
    "hidden": true
   },
   "outputs": [
    {
     "data": {
      "text/plain": [
       "{'The following handlers are available to decode the pixel data however they are missing required dependencies: GDCM (req. GDCM)'}"
      ]
     },
     "execution_count": 234,
     "metadata": {},
     "output_type": "execute_result"
    }
   ],
   "source": [
    "unique_exceptions = set(str(e) for f, e in errors)\n",
    "unique_exceptions"
   ]
  },
  {
   "cell_type": "code",
   "execution_count": 237,
   "metadata": {
    "hidden": true
   },
   "outputs": [
    {
     "data": {
      "text/plain": [
       "550"
      ]
     },
     "execution_count": 237,
     "metadata": {},
     "output_type": "execute_result"
    }
   ],
   "source": [
    "error_fpaths = [f for f, e in errors]\n",
    "len(error_fpaths)"
   ]
  },
  {
   "cell_type": "code",
   "execution_count": 238,
   "metadata": {
    "hidden": true
   },
   "outputs": [
    {
     "data": {
      "text/plain": [
       "['/mnt/data/covid-siim/train/91bd57a2c56d/52183b72d70e/61677edec1cf.dcm',\n",
       " '/mnt/data/covid-siim/train/28e1a974995b/9787c6ccf80b/d69a7e63c358.dcm',\n",
       " '/mnt/data/covid-siim/train/904b2fc4d66c/2c7478e0aa0e/094e0c33d8b2.dcm',\n",
       " '/mnt/data/covid-siim/train/a072ab44ba69/6f90217eb28b/ae8fecc25309.dcm',\n",
       " '/mnt/data/covid-siim/train/dc632437d7c9/02c59d4efe47/299ca999e917.dcm',\n",
       " '/mnt/data/covid-siim/train/d1f080b7cba8/78e3f2fdde50/a1279146145c.dcm',\n",
       " '/mnt/data/covid-siim/train/54a27efa3410/5c3897e44b96/e3ab2d72cac2.dcm',\n",
       " '/mnt/data/covid-siim/train/30f89ad8f0d8/04cf5bba00b5/cd04ca4ef72d.dcm',\n",
       " '/mnt/data/covid-siim/train/9298dad2b9d5/358e616dfbd3/339898ec49b3.dcm',\n",
       " '/mnt/data/covid-siim/train/c8787f51904f/9e67fb12f66d/f173ce0e8a47.dcm',\n",
       " '/mnt/data/covid-siim/train/bcee64e12aa2/1fa51a4cf5eb/b689306ef723.dcm',\n",
       " '/mnt/data/covid-siim/train/f0b673ef64e1/35a200b1602b/e1f510dd50d5.dcm',\n",
       " '/mnt/data/covid-siim/train/7ae41bc8d8bf/2729a1fbd8de/ea3d66fd0904.dcm',\n",
       " '/mnt/data/covid-siim/train/cf6018adf8b8/56be0fc82f69/98e4ffb4c6e2.dcm',\n",
       " '/mnt/data/covid-siim/train/936046fa7b66/acc22aa77763/51eb9085f328.dcm',\n",
       " '/mnt/data/covid-siim/train/8f668881cb15/84baf9c3b2be/7bc56e205e08.dcm',\n",
       " '/mnt/data/covid-siim/train/49a79f8222a6/1a0600af389a/e9e89d9b3a95.dcm',\n",
       " '/mnt/data/covid-siim/train/363454850843/be0b79587290/4dbdf2240c17.dcm',\n",
       " '/mnt/data/covid-siim/train/c4fab7c2a354/f424ee71de5e/93fae0b370c3.dcm',\n",
       " '/mnt/data/covid-siim/train/ce193df4c0fa/530759c79f6b/83569c76974e.dcm',\n",
       " '/mnt/data/covid-siim/train/1d001accdcbd/e7123b218acf/32663bd94fbf.dcm',\n",
       " '/mnt/data/covid-siim/train/1d001accdcbd/c8403ab41f28/646a6a0a9bf2.dcm',\n",
       " '/mnt/data/covid-siim/train/c15db163ce39/6fb4bec69099/c3c9b5c33028.dcm',\n",
       " '/mnt/data/covid-siim/train/c15db163ce39/2955929fcffb/6ddf030ec946.dcm',\n",
       " '/mnt/data/covid-siim/train/7adea6f20461/e0a9cb22a978/10b1352bfe36.dcm',\n",
       " '/mnt/data/covid-siim/train/6e7239f0b71e/b3edaa96a6e1/44674edbc278.dcm',\n",
       " '/mnt/data/covid-siim/train/29240c2eaf30/d753c067fe54/265c8659d53b.dcm',\n",
       " '/mnt/data/covid-siim/train/7468e3ccba55/5ecfe07cce7d/ab91cf190fdf.dcm',\n",
       " '/mnt/data/covid-siim/train/c804cb63b917/55367eba8900/f6462d1bf586.dcm',\n",
       " '/mnt/data/covid-siim/train/c804cb63b917/01759ae94878/783b1efb5675.dcm',\n",
       " '/mnt/data/covid-siim/train/ce65f4a0c584/9d7222ade833/dca9116538c8.dcm',\n",
       " '/mnt/data/covid-siim/train/3b0ddef5a49e/84bc7ef76a68/72e5fbd61953.dcm',\n",
       " '/mnt/data/covid-siim/train/3b0ddef5a49e/7d6fec3e3f04/0684dae08842.dcm',\n",
       " '/mnt/data/covid-siim/train/14c938eebb45/9dd30dd370a6/db9f538fa315.dcm',\n",
       " '/mnt/data/covid-siim/train/9032f7dfa5b7/7c24a570bb60/6a9d97bd8458.dcm',\n",
       " '/mnt/data/covid-siim/train/9185f141a3c9/8480175244c7/5026e8d1e6f9.dcm',\n",
       " '/mnt/data/covid-siim/train/0a256a4617e8/c11e1e2da2fd/467f412db5c4.dcm',\n",
       " '/mnt/data/covid-siim/train/0a256a4617e8/6441f142de3a/84a8af741443.dcm',\n",
       " '/mnt/data/covid-siim/train/fcfeb11ce6e1/4cac57c08e22/a8f9b3071e77.dcm',\n",
       " '/mnt/data/covid-siim/train/e4f280b01af5/23a8177c9db1/4d647a4df4a8.dcm',\n",
       " '/mnt/data/covid-siim/train/c79e944eb6ae/aa414115b770/f2de614a9ebf.dcm',\n",
       " '/mnt/data/covid-siim/train/11c2f3a476ec/08f552bc7caf/6aadfed4ee85.dcm',\n",
       " '/mnt/data/covid-siim/train/2d365318fb2b/5d5e537161a0/b622f84403da.dcm',\n",
       " '/mnt/data/covid-siim/train/2d365318fb2b/9f7208c5a3f0/26aec18cd81a.dcm',\n",
       " '/mnt/data/covid-siim/train/2d794121b64b/616404e09e90/92433ed035bd.dcm',\n",
       " '/mnt/data/covid-siim/train/d670149083bf/0aa057fc193a/89fc91cc28bb.dcm',\n",
       " '/mnt/data/covid-siim/train/fd33d1e13711/cedf11e8c75e/7e63892d77cb.dcm',\n",
       " '/mnt/data/covid-siim/train/5baf929549c6/3e57b2d997c2/61a64b9f621d.dcm',\n",
       " '/mnt/data/covid-siim/train/0680d8beb75f/2279d0580c4d/68c7b2a6fd54.dcm',\n",
       " '/mnt/data/covid-siim/train/bae502afd0c2/44043c703431/6f9a5f616c30.dcm',\n",
       " '/mnt/data/covid-siim/train/6051b9586e00/16cd7361be35/bff9ffea639f.dcm',\n",
       " '/mnt/data/covid-siim/train/3a07d9311567/b6d41ed51332/215885f7fd71.dcm',\n",
       " '/mnt/data/covid-siim/train/0cde09614efd/7d80d5fd0127/bfcc54749d3a.dcm',\n",
       " '/mnt/data/covid-siim/train/9817859ffa87/d87fb90159c3/2ed1dfce5a95.dcm',\n",
       " '/mnt/data/covid-siim/train/14e56e75b328/d8be55d81886/aec39463226f.dcm',\n",
       " '/mnt/data/covid-siim/train/9f08bfb28f37/20a73e086ebc/dc773d9243e1.dcm',\n",
       " '/mnt/data/covid-siim/train/34e9ba075967/5ef4a198159d/ecf80e899d12.dcm',\n",
       " '/mnt/data/covid-siim/train/31557085aaef/ccb9b251b25b/56ed68c28819.dcm',\n",
       " '/mnt/data/covid-siim/train/31557085aaef/6f47f20885ac/0e3bf1e3d4a7.dcm',\n",
       " '/mnt/data/covid-siim/train/1d667e9556ad/f29e66026a0e/95b239a10358.dcm',\n",
       " '/mnt/data/covid-siim/train/1d667e9556ad/0e636e1e75dd/bf2417586cf2.dcm',\n",
       " '/mnt/data/covid-siim/train/8ae458411c33/f992c53e2f2f/21f6548ae9d4.dcm',\n",
       " '/mnt/data/covid-siim/train/37bfb5f1f1db/3ff602436243/3224f58b22af.dcm',\n",
       " '/mnt/data/covid-siim/train/116aee0c66b7/6968b0cad25c/2ac27ce316d5.dcm',\n",
       " '/mnt/data/covid-siim/train/6a034051a411/25538e23dc5e/9d703123c8f8.dcm',\n",
       " '/mnt/data/covid-siim/train/32bf7e54a7ee/44116dbe01c9/1117adfb1445.dcm',\n",
       " '/mnt/data/covid-siim/train/4fe89b3c7225/309ec8192930/a489a901a401.dcm',\n",
       " '/mnt/data/covid-siim/train/4fe89b3c7225/309ec8192930/0b858129adb4.dcm',\n",
       " '/mnt/data/covid-siim/train/c140fcf4dbce/8c0afc659030/76e7878d290d.dcm',\n",
       " '/mnt/data/covid-siim/train/193d3d99e496/8cb94eebd307/db516ead1471.dcm',\n",
       " '/mnt/data/covid-siim/train/cb0d6854e691/8f1e70e03ca5/41751eb3b214.dcm',\n",
       " '/mnt/data/covid-siim/train/f83e9b4ac488/500438bc4409/5f138fe1ae22.dcm',\n",
       " '/mnt/data/covid-siim/train/5c6b722a9a82/a16f4f32beee/103a2ee89a54.dcm',\n",
       " '/mnt/data/covid-siim/train/9d85cfba99ae/347b559b48f8/699803decf1c.dcm',\n",
       " '/mnt/data/covid-siim/train/30aa2c27d732/ba10375576e4/a3ca531101d3.dcm',\n",
       " '/mnt/data/covid-siim/train/b7756ed17f51/8c1bc7e92114/c5281671123d.dcm',\n",
       " '/mnt/data/covid-siim/train/60c01627cfff/582360657830/2a29437b06df.dcm',\n",
       " '/mnt/data/covid-siim/train/620367287eaf/7f6032f73529/447ab0346a33.dcm',\n",
       " '/mnt/data/covid-siim/train/670ad2fc8a1a/076e3d71286c/df0fe96fc60a.dcm',\n",
       " '/mnt/data/covid-siim/train/eed9b6596e6d/61102b994801/4d904469de66.dcm',\n",
       " '/mnt/data/covid-siim/train/f7ae051fa2f4/76c01e39609c/68ed8274ae7e.dcm',\n",
       " '/mnt/data/covid-siim/train/cc4d29e2b176/5a2af34b3f65/5b5f7675f4cc.dcm',\n",
       " '/mnt/data/covid-siim/train/cc4d29e2b176/b89cc76dbca3/6792b9b0329d.dcm',\n",
       " '/mnt/data/covid-siim/train/bdaa322433dc/02b4f859df40/cd2d1e229ace.dcm',\n",
       " '/mnt/data/covid-siim/train/a87879343eb4/48f51923c3af/b9f6129171e3.dcm',\n",
       " '/mnt/data/covid-siim/train/6e4a0581cefe/416e15e074d2/deea6d6f81a5.dcm',\n",
       " '/mnt/data/covid-siim/train/6e4a0581cefe/018ed20fa9c8/04f41a8958f7.dcm',\n",
       " '/mnt/data/covid-siim/train/a842d9e96828/859c2eed7a17/12525e86fa15.dcm',\n",
       " '/mnt/data/covid-siim/train/5122ec355c24/8f851313789f/31f599eed7d4.dcm',\n",
       " '/mnt/data/covid-siim/train/17da3bebe960/c197d43cb031/ab787975fed9.dcm',\n",
       " '/mnt/data/covid-siim/train/0e3c57f50255/f86fe1715110/aa0205864615.dcm',\n",
       " '/mnt/data/covid-siim/train/2cd2a236d885/1c7a37e31906/93c3665123d1.dcm',\n",
       " '/mnt/data/covid-siim/train/ac8a1bc0fd7c/b69f8bd9dc6a/221ff464c9fc.dcm',\n",
       " '/mnt/data/covid-siim/train/ac8a1bc0fd7c/1f357549f4fc/336d2b8392f9.dcm',\n",
       " '/mnt/data/covid-siim/train/75de22fce271/d598ec0b272a/67995d63d73a.dcm',\n",
       " '/mnt/data/covid-siim/train/d2ddeca64f16/978e258088bc/705eea360dd8.dcm',\n",
       " '/mnt/data/covid-siim/train/f74f0c0db300/51deb08ba11a/9f50edab452b.dcm',\n",
       " '/mnt/data/covid-siim/train/f74f0c0db300/cde4930ca8c6/d9bea6b28f9f.dcm',\n",
       " '/mnt/data/covid-siim/train/c5de8eb728f7/15fb77fb6008/5daea5db8804.dcm',\n",
       " '/mnt/data/covid-siim/train/386026264f01/98de6393cfe8/110dde407e0a.dcm',\n",
       " '/mnt/data/covid-siim/train/386026264f01/cb3b7659a091/75f207c4945d.dcm',\n",
       " '/mnt/data/covid-siim/train/732475ef8c2c/834029e32672/685114c3c9fd.dcm',\n",
       " '/mnt/data/covid-siim/train/cc4f74e87040/57ea29871546/3857daee16d2.dcm',\n",
       " '/mnt/data/covid-siim/train/0a49309fc682/a9d152dbf2ef/0f4bc6a7b8b5.dcm',\n",
       " '/mnt/data/covid-siim/train/f13c5fb56a73/0a1203a92ddf/fd7515610b5a.dcm',\n",
       " '/mnt/data/covid-siim/train/e3a9b892e7c1/aaf579ffb879/2b81c9da7d2b.dcm',\n",
       " '/mnt/data/covid-siim/train/e2998bb6695c/c5a2d4adf57b/686c25134e34.dcm',\n",
       " '/mnt/data/covid-siim/train/0e5b9c6b7ba6/c1f9566f7e02/ef367099b05f.dcm',\n",
       " '/mnt/data/covid-siim/train/8c8b558206fb/629b3b93487e/8af643cb6d79.dcm',\n",
       " '/mnt/data/covid-siim/train/8f9f2fcd1101/f734fca2afaf/78383a97e9b8.dcm',\n",
       " '/mnt/data/covid-siim/train/f7859a6e1ae1/b44529b93438/27c3a9b1d888.dcm',\n",
       " '/mnt/data/covid-siim/train/f556a329c873/c3ce11c94966/55eac3fc31fd.dcm',\n",
       " '/mnt/data/covid-siim/train/7213dcc54526/4b557268617b/1b95284a695b.dcm',\n",
       " '/mnt/data/covid-siim/train/7213dcc54526/43f0883daa4c/26c6c25e9467.dcm',\n",
       " '/mnt/data/covid-siim/train/0fbde73d7dc0/6ed4a65b536f/4364d25b5f46.dcm',\n",
       " '/mnt/data/covid-siim/train/b776a1192e48/d06b4ec59f87/4f7cb2b6dacc.dcm',\n",
       " '/mnt/data/covid-siim/train/a4856003f5c1/e26d4add1e38/a3f371ac6ff2.dcm',\n",
       " '/mnt/data/covid-siim/train/a4856003f5c1/81ec9bf30087/c9a9e5e120bd.dcm',\n",
       " '/mnt/data/covid-siim/train/061d2ddaddd1/a8720bd0d827/67ea53f37acf.dcm',\n",
       " '/mnt/data/covid-siim/train/061d2ddaddd1/07c161ea915c/4cf41c062d0c.dcm',\n",
       " '/mnt/data/covid-siim/train/c3cedc9aabd2/f1d6df5297a5/4af3b3e55386.dcm',\n",
       " '/mnt/data/covid-siim/train/26ae7b9c9414/ffd1697bc785/137dd4fedd7f.dcm',\n",
       " '/mnt/data/covid-siim/train/765d0ac06115/2ec14cb9ad3e/47dc317fb2b4.dcm',\n",
       " '/mnt/data/covid-siim/train/76b5e2db22ba/504c0e3fe488/1b92142f4362.dcm',\n",
       " '/mnt/data/covid-siim/train/76b5e2db22ba/234e99174aa1/fa447a409bd6.dcm',\n",
       " '/mnt/data/covid-siim/train/15f05ab2d893/a65eb8bd503e/4dc51d0b21f4.dcm',\n",
       " '/mnt/data/covid-siim/train/9d46d14396b9/98466236df1a/dd4db2cfc1dc.dcm',\n",
       " '/mnt/data/covid-siim/train/133a21a5280f/54cb35b594ed/85c498bfbd65.dcm',\n",
       " '/mnt/data/covid-siim/train/133a21a5280f/7cd32ff716ad/d19ed8d811ad.dcm',\n",
       " '/mnt/data/covid-siim/train/3993e1dd3d8a/be78729012a2/355991eaf97f.dcm',\n",
       " '/mnt/data/covid-siim/train/3d33841de910/0a48877cb3b2/9fa8318fb7f6.dcm',\n",
       " '/mnt/data/covid-siim/train/3d33841de910/e844f3b22b91/0dd32589bdc3.dcm',\n",
       " '/mnt/data/covid-siim/train/71d1bdc6e89d/5757421acba2/d204955f43d0.dcm',\n",
       " '/mnt/data/covid-siim/train/68d1b3e6d222/37142438e579/e350c6a1acbd.dcm',\n",
       " '/mnt/data/covid-siim/train/455695d95aa2/82dab3487551/65c9e7d450e1.dcm',\n",
       " '/mnt/data/covid-siim/train/22ebaa704ad4/24ecb8316cd4/df7f2edf03aa.dcm',\n",
       " '/mnt/data/covid-siim/train/8f152cdec38a/2449aca93306/2e16a6f0bf59.dcm',\n",
       " '/mnt/data/covid-siim/train/67c36705aa1d/2e06f6452320/90118b900db4.dcm',\n",
       " '/mnt/data/covid-siim/train/fb6a47691101/a9e0b4596b28/455a7af10292.dcm',\n",
       " '/mnt/data/covid-siim/train/426023c1b425/14eb94778764/5ddad421aa0b.dcm',\n",
       " '/mnt/data/covid-siim/train/426023c1b425/243dbd4ed93a/daae293a8b40.dcm',\n",
       " '/mnt/data/covid-siim/train/673e42f95093/1dc41de42990/c931296826c2.dcm',\n",
       " '/mnt/data/covid-siim/train/4492a7f00b5f/5cc5cf03df71/f84caac28a27.dcm',\n",
       " '/mnt/data/covid-siim/train/075544a7881c/4bd245a088ed/9d45a7e2deda.dcm',\n",
       " '/mnt/data/covid-siim/train/075544a7881c/fbee3848f211/09236f094647.dcm',\n",
       " '/mnt/data/covid-siim/train/7a15889e036a/33157f8a4155/b20a51fa500d.dcm',\n",
       " '/mnt/data/covid-siim/train/ae3e63d94c13/288554eb6182/e00f9fe0cce5.dcm',\n",
       " '/mnt/data/covid-siim/train/1a6082c58f64/55c24d02a186/6bc60b22fc16.dcm',\n",
       " '/mnt/data/covid-siim/train/df89af5f42ef/11e8ff6d8625/7749cddd0a17.dcm',\n",
       " '/mnt/data/covid-siim/train/a8351982c575/d2274cc1226f/7d8d55a80737.dcm',\n",
       " '/mnt/data/covid-siim/train/0dda3b2bc0a2/91d77227f682/4aead97c229e.dcm',\n",
       " '/mnt/data/covid-siim/train/5e5bee2f9f08/11d3ac96e622/53359821ebef.dcm',\n",
       " '/mnt/data/covid-siim/train/c08f28069408/c999cc5a35c8/08dc9d73dc6e.dcm',\n",
       " '/mnt/data/covid-siim/train/b6a1aa419995/30d47644daac/5062d954b4ce.dcm',\n",
       " '/mnt/data/covid-siim/train/e2d38e9bf5e4/093d3aa1fae9/30eae2ee5011.dcm',\n",
       " '/mnt/data/covid-siim/train/43e67cd54343/a5bba0bfb62d/f4eb9c0ca79b.dcm',\n",
       " '/mnt/data/covid-siim/train/14f6c850597c/ab1246d5fa0a/9b2d4652ad72.dcm',\n",
       " '/mnt/data/covid-siim/train/14f6c850597c/400fbe528edb/aad814e52627.dcm',\n",
       " '/mnt/data/covid-siim/train/6fecf0039e87/e01648fd5931/88e7702b49c4.dcm',\n",
       " '/mnt/data/covid-siim/train/6fecf0039e87/e18443a3fa39/76988ae210f1.dcm',\n",
       " '/mnt/data/covid-siim/train/d522ef41a34e/4cc0f3de80f8/426981c72215.dcm',\n",
       " '/mnt/data/covid-siim/train/d522ef41a34e/8bc41c3d5599/744427c7dff8.dcm',\n",
       " '/mnt/data/covid-siim/train/3be9203f616c/4ed4d7d391f4/5526fe22f7d8.dcm',\n",
       " '/mnt/data/covid-siim/train/2b8680eba187/4d2871000174/d67e15fad409.dcm',\n",
       " '/mnt/data/covid-siim/train/635679335416/37dff21d4fd4/a648b88334e7.dcm',\n",
       " '/mnt/data/covid-siim/train/4c45ac349e3a/e23ce3cfaa25/586ea12cdc1c.dcm',\n",
       " '/mnt/data/covid-siim/train/4c45ac349e3a/6e8c8a35f9c7/39cd89772e5e.dcm',\n",
       " '/mnt/data/covid-siim/train/c29970048923/fc3ba5dcfffe/7b3e9f13d4e7.dcm',\n",
       " '/mnt/data/covid-siim/train/c29970048923/b67d36eb6f80/76c66ee8e58d.dcm',\n",
       " '/mnt/data/covid-siim/train/c78431df8576/1268ecd89ae2/384de6416f6e.dcm',\n",
       " '/mnt/data/covid-siim/train/01e830e3a965/60d00ff9714b/9db8a85a79c7.dcm',\n",
       " '/mnt/data/covid-siim/train/79e2eafdb5cd/1bb33ac3496a/575135cef005.dcm',\n",
       " '/mnt/data/covid-siim/train/e7bc5f198df7/a19b1d4ee5a1/c4dfb1c766c1.dcm',\n",
       " '/mnt/data/covid-siim/train/126aa6f8dd4d/6cd3ea6e10c1/bc179d29b11b.dcm',\n",
       " '/mnt/data/covid-siim/train/126aa6f8dd4d/bdffa5fdd804/4b2f144a1a8b.dcm',\n",
       " '/mnt/data/covid-siim/train/6fc44d8b4e7f/cba008556a04/c3e1be838c3e.dcm',\n",
       " '/mnt/data/covid-siim/train/b07b1a96e24c/b7eea5b6a77e/cf2318379a61.dcm',\n",
       " '/mnt/data/covid-siim/train/b1dd8130cbf3/52f965e7a34e/f83043bab3eb.dcm',\n",
       " '/mnt/data/covid-siim/train/e562c9ac6268/7dba451b56e0/c97d6fe880a7.dcm',\n",
       " '/mnt/data/covid-siim/train/3093d2622f98/95e2845e003d/1933d1afe1d5.dcm',\n",
       " '/mnt/data/covid-siim/train/9927fbe86982/a5fb6dbbfe5a/1b3dcbce0fa2.dcm',\n",
       " '/mnt/data/covid-siim/train/b74b3d2dd83d/d275c0e95e16/38e710e131ef.dcm',\n",
       " '/mnt/data/covid-siim/train/3c4bae86dd43/c1736072ce63/286d9132f875.dcm',\n",
       " '/mnt/data/covid-siim/train/771997f40f43/97e177a3a8e8/f065b45d0cfd.dcm',\n",
       " '/mnt/data/covid-siim/train/798c27690f1f/b07b6aeea2d3/bbcaf12f5c75.dcm',\n",
       " '/mnt/data/covid-siim/train/6bcea66a71ed/02472ad31883/d540d6c2a425.dcm',\n",
       " '/mnt/data/covid-siim/train/6bcea66a71ed/3ec917904453/7f72568692d9.dcm',\n",
       " '/mnt/data/covid-siim/train/d435148e61a4/59c299ed2785/abea895b62de.dcm',\n",
       " '/mnt/data/covid-siim/train/2e11f3486372/c768b2a049fe/ac92f478c77e.dcm',\n",
       " '/mnt/data/covid-siim/train/e67619d00b58/f0bcda248516/afed0cd3c9a7.dcm',\n",
       " '/mnt/data/covid-siim/train/12466f93afc9/117144c613e3/8709a6be6eaa.dcm',\n",
       " '/mnt/data/covid-siim/train/3ee0ccf7f5a7/dcf37e2ec41d/603ffc1653fd.dcm',\n",
       " '/mnt/data/covid-siim/train/e2c18c715bb7/4dee2c7e59a1/106632672b95.dcm',\n",
       " '/mnt/data/covid-siim/train/e2c18c715bb7/6153ef49a596/e03c29566ed4.dcm',\n",
       " '/mnt/data/covid-siim/train/5abc0730eea5/e7c162f8aed4/0e035b62d9bc.dcm',\n",
       " '/mnt/data/covid-siim/train/28e7495f0382/403be2fda430/b5aa6189d142.dcm',\n",
       " '/mnt/data/covid-siim/train/28e7495f0382/d995a229b0b2/4f85c500dedd.dcm',\n",
       " '/mnt/data/covid-siim/train/81acc5470917/304dcaf8a1fc/2512da499679.dcm',\n",
       " '/mnt/data/covid-siim/train/81acc5470917/9eb57d04a570/581fd56bc4bf.dcm',\n",
       " '/mnt/data/covid-siim/train/ffcb4630f46f/4a4a9ae34a66/1c96d9b08487.dcm',\n",
       " '/mnt/data/covid-siim/train/ffcb4630f46f/d4d43f6fe855/84ed5f7f71bf.dcm',\n",
       " '/mnt/data/covid-siim/train/c40ab2057c7f/822d92b386b5/835e81040e61.dcm',\n",
       " '/mnt/data/covid-siim/train/df4722bbd29a/572901d03f65/644c60497cf1.dcm',\n",
       " '/mnt/data/covid-siim/train/a57441f93f98/4b557ceb6e6d/ae68234eb2d3.dcm',\n",
       " '/mnt/data/covid-siim/train/853df92b47be/55144dba42a0/6797654b79bc.dcm',\n",
       " '/mnt/data/covid-siim/train/27f8616263ed/00eab0514ef6/7e4a4ef3ff9f.dcm',\n",
       " '/mnt/data/covid-siim/train/27f8616263ed/17924a8e1eeb/8df39f4dcd7b.dcm',\n",
       " '/mnt/data/covid-siim/train/814e0fdfde1e/c846b3597811/f9a92f1ba934.dcm',\n",
       " '/mnt/data/covid-siim/train/814e0fdfde1e/64a48e08fb5e/c0fe3d5ef9aa.dcm',\n",
       " '/mnt/data/covid-siim/train/1964b644d7ef/735874ee2914/f217982afb62.dcm',\n",
       " '/mnt/data/covid-siim/train/b93fcd443349/ab24c7c00e81/0a0cbc610620.dcm',\n",
       " '/mnt/data/covid-siim/train/f98073cda3e1/0d6dc2c61ea7/9b056a88674c.dcm',\n",
       " '/mnt/data/covid-siim/train/6fdb93227268/e02a4c92a203/58feda404eda.dcm',\n",
       " '/mnt/data/covid-siim/train/9cf41cd052f7/248c62a54eb6/20c4ea1cc82c.dcm',\n",
       " '/mnt/data/covid-siim/train/2460844b8bd7/870bd1baae04/2ce4a103d25d.dcm',\n",
       " '/mnt/data/covid-siim/train/38cce8d6f373/9bbb2300b103/efdc1a6d4739.dcm',\n",
       " '/mnt/data/covid-siim/train/cab686c551eb/0e8f0c07e702/653cc3df5c01.dcm',\n",
       " '/mnt/data/covid-siim/train/10c04ba1bd2b/9368b02b515e/124d0765c82a.dcm',\n",
       " '/mnt/data/covid-siim/train/1aaef9f47b25/05f0b2bfbc0c/4444cafd21f8.dcm',\n",
       " '/mnt/data/covid-siim/train/9a2ad069cce4/f33a14cf6646/a613a3d1b65d.dcm',\n",
       " '/mnt/data/covid-siim/train/a34c88047a71/4ca67574ab75/97f431ee7684.dcm',\n",
       " '/mnt/data/covid-siim/train/ed8cc5fd07f1/f0e94e3ae9a2/54ea47b77f33.dcm',\n",
       " '/mnt/data/covid-siim/train/19a69f8ae995/66f4e84ddbce/73cc6794cbb8.dcm',\n",
       " '/mnt/data/covid-siim/train/1cf24b1b5615/47183222d73d/fc00fda61d7f.dcm',\n",
       " '/mnt/data/covid-siim/train/ff3bc8d91f5b/e6d5ce839d54/49c596c8b1a1.dcm',\n",
       " '/mnt/data/covid-siim/train/38016f8471b2/a5ba71dd53ce/055ab8efe60a.dcm',\n",
       " '/mnt/data/covid-siim/train/d2d3cdb4272e/a1c1a51c1982/605e2fde958f.dcm',\n",
       " '/mnt/data/covid-siim/train/618e7671d9c2/e11e5c949a43/32579cfb5545.dcm',\n",
       " '/mnt/data/covid-siim/train/28b1968260da/6d5e4816ce57/99aa461b2afd.dcm',\n",
       " '/mnt/data/covid-siim/train/2829975db9f5/6f521883b080/5c1e736c0af9.dcm',\n",
       " '/mnt/data/covid-siim/train/cac903938518/93be650bfa1c/4b32fd76e163.dcm',\n",
       " '/mnt/data/covid-siim/train/5e64e42f9b10/3a2fa9820859/4f57c61c596a.dcm',\n",
       " '/mnt/data/covid-siim/train/2938b11fe3f2/1ea94b2e5817/d74b9368cbe5.dcm',\n",
       " '/mnt/data/covid-siim/train/a89dac81f0b7/8308ccca6d4c/82ac18114c98.dcm',\n",
       " '/mnt/data/covid-siim/train/a89dac81f0b7/babe8e380b88/b989acc3c046.dcm',\n",
       " '/mnt/data/covid-siim/train/3f91d11cef59/9d432f4b74cb/3e63eefbf3d6.dcm',\n",
       " '/mnt/data/covid-siim/train/4bb14a344446/d3a6fcd58cdd/0d3910133fbe.dcm',\n",
       " '/mnt/data/covid-siim/train/fa6d3b56e333/27ad48d6bd2d/9bc4d429d4e8.dcm',\n",
       " '/mnt/data/covid-siim/train/cb2949b1aa32/5a118055f290/b648e954aec9.dcm',\n",
       " '/mnt/data/covid-siim/train/3976f3f36b35/c21050191a45/9a7132fee727.dcm',\n",
       " '/mnt/data/covid-siim/train/fda2cd74ad14/f99131fcbc66/0729e35c1829.dcm',\n",
       " '/mnt/data/covid-siim/train/21b8491fb0e0/d5832b266b40/99f3642f50f5.dcm',\n",
       " '/mnt/data/covid-siim/train/21b8491fb0e0/d5832b266b40/32222cc776a2.dcm',\n",
       " '/mnt/data/covid-siim/train/21b8491fb0e0/d5832b266b40/b6b74c8a97e4.dcm',\n",
       " '/mnt/data/covid-siim/train/19049e36a56b/5cb729d1cd75/229c496fc08d.dcm',\n",
       " '/mnt/data/covid-siim/train/009bc005edaa/8713301456d4/1df3e98f79be.dcm',\n",
       " '/mnt/data/covid-siim/train/1f919389d164/11946c9ec0f6/6551d8bd1375.dcm',\n",
       " '/mnt/data/covid-siim/train/f0637f0d7719/8323718354a2/76767c467873.dcm',\n",
       " '/mnt/data/covid-siim/train/2b6132fe557c/50e0e13b7a6e/0e2691505e53.dcm',\n",
       " '/mnt/data/covid-siim/train/9f8d8f947beb/c480be89187f/ce51b397b1a6.dcm',\n",
       " '/mnt/data/covid-siim/train/9f8d8f947beb/68e77eb9b262/a0178e3a0d8f.dcm',\n",
       " '/mnt/data/covid-siim/train/6ebb85e3ec55/84eb1fb3d972/8c760b2d01b5.dcm',\n",
       " '/mnt/data/covid-siim/train/816ff8fa8f42/b34f37437cb9/d6a56e79a52d.dcm',\n",
       " '/mnt/data/covid-siim/train/4ae37a325776/4137e41131e7/db27626f6cf2.dcm',\n",
       " '/mnt/data/covid-siim/train/6ff3619ba762/b0c3dbee5c68/7847e1ea4307.dcm',\n",
       " '/mnt/data/covid-siim/train/d8af57a024ed/3ea61b8d41d1/d89fce5db16d.dcm',\n",
       " '/mnt/data/covid-siim/train/ecbdb9821385/e17da306c1e5/11442fbf156f.dcm',\n",
       " '/mnt/data/covid-siim/train/b9a4725804c9/aa25d34e219a/7e8966bfec61.dcm',\n",
       " '/mnt/data/covid-siim/train/b9a4725804c9/ebf19881aeea/779f0040d1b2.dcm',\n",
       " '/mnt/data/covid-siim/train/98bbbab1a415/a5ddc79947b9/c0e8c63f22c5.dcm',\n",
       " '/mnt/data/covid-siim/train/73c1b1a24606/c7e2155fb02b/4d17a4779c86.dcm',\n",
       " '/mnt/data/covid-siim/train/8c15768ece37/b49c56b5ec3d/b40e6f50feb4.dcm',\n",
       " '/mnt/data/covid-siim/train/6ac13e0b0083/2643ce784d17/bba85cec6d26.dcm',\n",
       " '/mnt/data/covid-siim/train/0c4472b1b940/ae150fe1677f/af932f6c84c8.dcm',\n",
       " '/mnt/data/covid-siim/train/066b12d875eb/0009ce62e128/19fc87ff0612.dcm',\n",
       " '/mnt/data/covid-siim/train/066b12d875eb/b301613e7997/eea3a910fa9e.dcm',\n",
       " '/mnt/data/covid-siim/train/1f970230eff3/6ccb65eb3fb4/545fb830023d.dcm',\n",
       " '/mnt/data/covid-siim/train/1f970230eff3/2f0a01700650/6f749e2783e1.dcm',\n",
       " '/mnt/data/covid-siim/train/98c6965e9185/472058d4591d/f8e17b1c73ff.dcm',\n",
       " '/mnt/data/covid-siim/train/81493310c235/e790fe3b46d8/ba3c705a818a.dcm',\n",
       " '/mnt/data/covid-siim/train/3c0ed17b3717/f73ee4bcd774/8240119d5df9.dcm',\n",
       " '/mnt/data/covid-siim/train/cd97a120b1e0/0ae5304a4ba2/d0ab24d94b3d.dcm',\n",
       " '/mnt/data/covid-siim/train/ac46cbde0e0e/82fae1d451c4/e4a78ff8fa73.dcm',\n",
       " '/mnt/data/covid-siim/train/ac46cbde0e0e/e6169b6df2ce/13ff01cf36f8.dcm',\n",
       " '/mnt/data/covid-siim/train/8e88d7565396/4ac4b724bb27/e3e2f20e0264.dcm',\n",
       " '/mnt/data/covid-siim/train/8e88d7565396/adf36e3dd994/abb96ea8a826.dcm',\n",
       " '/mnt/data/covid-siim/train/9c03092ea533/a5f7e09f6324/78dd642c634a.dcm',\n",
       " '/mnt/data/covid-siim/train/8704605c8d78/dff2d559c06d/e0e1e1462e56.dcm',\n",
       " '/mnt/data/covid-siim/train/8704605c8d78/4454eaedbd7d/c7e174868af8.dcm',\n",
       " '/mnt/data/covid-siim/train/436fa63e29e2/78985b4d96a3/d78a5e749b78.dcm',\n",
       " '/mnt/data/covid-siim/train/7e5785e7fda6/41b71eac285d/15f29140a676.dcm',\n",
       " '/mnt/data/covid-siim/train/798cdfa7890d/a3b37305db97/36400b03d8b0.dcm',\n",
       " '/mnt/data/covid-siim/train/798cdfa7890d/9b5a4f7ef06b/4cebe94f1fa3.dcm',\n",
       " '/mnt/data/covid-siim/train/471af1d3f5d0/d161f9777146/760642c021cc.dcm',\n",
       " '/mnt/data/covid-siim/train/471af1d3f5d0/7393f58decbb/b0fd33e251f5.dcm',\n",
       " '/mnt/data/covid-siim/train/c9684f69b06c/96937fc08f13/838c8d86cd36.dcm',\n",
       " '/mnt/data/covid-siim/train/949ec5954702/74da3c3ccbda/5bc48c0f7e61.dcm',\n",
       " '/mnt/data/covid-siim/train/c256d52076a4/4fb0b712fde0/5e79f836af2c.dcm',\n",
       " '/mnt/data/covid-siim/train/fae06a05819a/763eba0a6295/ba375ad92c5f.dcm',\n",
       " '/mnt/data/covid-siim/train/fae06a05819a/61ca68284330/1e2ab5bceffb.dcm',\n",
       " '/mnt/data/covid-siim/train/30def70773d8/bf206dfc8073/7382990f8d70.dcm',\n",
       " '/mnt/data/covid-siim/train/3fcc2be34719/b5fd61f4d7be/e5ffb49e8255.dcm',\n",
       " '/mnt/data/covid-siim/train/8fd26a99fddf/4c219e571f72/052f53733165.dcm',\n",
       " '/mnt/data/covid-siim/train/db9f9c62dc00/90e3abda431d/6ffef23b4aa9.dcm',\n",
       " '/mnt/data/covid-siim/train/a71df1f07bde/628a8b79899a/244776b92aaa.dcm',\n",
       " '/mnt/data/covid-siim/train/ce2295d3b39e/7caf253d2e61/b621bc3532ca.dcm',\n",
       " '/mnt/data/covid-siim/train/e8ad62a8f5d4/90dbadd85171/176bbcbb90e1.dcm',\n",
       " '/mnt/data/covid-siim/train/43ab168173df/bc9fe819212f/21febad66242.dcm',\n",
       " '/mnt/data/covid-siim/train/4a6290010ad7/106516a956f6/2697632d70f7.dcm',\n",
       " '/mnt/data/covid-siim/train/060ed64e8ea3/f6b52197f82e/c2596fa5fc65.dcm',\n",
       " '/mnt/data/covid-siim/train/159cbf48e73c/48d2c4199329/ac8e240acf88.dcm',\n",
       " '/mnt/data/covid-siim/train/c23f590fff4f/2ee6bd52c2c8/606cf812d40f.dcm',\n",
       " '/mnt/data/covid-siim/train/c23f590fff4f/be17ab4f1c0e/f577c6fb0f49.dcm',\n",
       " '/mnt/data/covid-siim/train/bafb7e87a1b9/8b7f03f22885/2b27a1493624.dcm',\n",
       " '/mnt/data/covid-siim/train/bafb7e87a1b9/b57604afff70/f228350bd770.dcm',\n",
       " '/mnt/data/covid-siim/train/00e936c58da6/fb532194f195/b81969467c6b.dcm',\n",
       " '/mnt/data/covid-siim/train/b305c5275633/4d2abd8818c9/4ceb57fefa67.dcm',\n",
       " '/mnt/data/covid-siim/train/fa9ea207e240/d09a676f10c4/b7f123e4992f.dcm',\n",
       " '/mnt/data/covid-siim/train/fa9ea207e240/fef9d59c79c7/91f72df96e13.dcm',\n",
       " '/mnt/data/covid-siim/train/68a889e685a3/d2fcb52ea727/8a2db7bfcc6c.dcm',\n",
       " '/mnt/data/covid-siim/train/072ae7beb987/1e10158a3877/18ad6447775e.dcm',\n",
       " '/mnt/data/covid-siim/train/1f988b9c498a/9b25dc4c7b15/eeee42a62e29.dcm',\n",
       " '/mnt/data/covid-siim/train/a880ba760a7f/82faaa874981/0a990c89256a.dcm',\n",
       " '/mnt/data/covid-siim/train/a880ba760a7f/7a5cd281c316/54155a058e38.dcm',\n",
       " '/mnt/data/covid-siim/train/104a102e2fe1/bd4d54bda3a9/caa3f0f2c0a6.dcm',\n",
       " '/mnt/data/covid-siim/train/1e973d9d46cd/aba656e0b1e9/77b875487f6c.dcm',\n",
       " '/mnt/data/covid-siim/train/535f8c7a5191/c79685a417b3/926c8e7cd1cd.dcm',\n",
       " '/mnt/data/covid-siim/train/f45612bd7e0b/b075778bce13/8c7bdccb65ed.dcm',\n",
       " '/mnt/data/covid-siim/train/f45612bd7e0b/d5b3d906fd47/43883549bf9b.dcm',\n",
       " '/mnt/data/covid-siim/train/b9b8a810f2d0/e39593002140/e86e443c371b.dcm',\n",
       " '/mnt/data/covid-siim/train/4900ec5edaa0/82e36c5d81bd/e563f54f421c.dcm',\n",
       " '/mnt/data/covid-siim/train/00908ffd2d08/e1bb4145673c/bf1f75117093.dcm',\n",
       " '/mnt/data/covid-siim/train/73049129c53a/ef49a5b2172a/af004ac2a000.dcm',\n",
       " '/mnt/data/covid-siim/train/c378ed31249d/98e20d7cfb33/e01d23a04187.dcm',\n",
       " '/mnt/data/covid-siim/train/c378ed31249d/1f7920d40180/35e2412a3706.dcm',\n",
       " '/mnt/data/covid-siim/train/cd009edaae20/fcd35df8fd07/c8d47dfdb54b.dcm',\n",
       " '/mnt/data/covid-siim/train/50e9384ca4c1/93cfcaa4c93a/2c501267c8db.dcm',\n",
       " '/mnt/data/covid-siim/train/e244ddadc4e6/c0389b17b47f/a51a85d4bcb0.dcm',\n",
       " '/mnt/data/covid-siim/train/8a9cbb7e5b10/903e7540c156/279bde1a7b20.dcm',\n",
       " '/mnt/data/covid-siim/train/8ba23886cfb4/cae6970893ee/8f1f77659cb0.dcm',\n",
       " '/mnt/data/covid-siim/train/6fc05a848fc4/c322e2dc560a/ceff5e389de0.dcm',\n",
       " '/mnt/data/covid-siim/train/d3a27b41cfcd/c05e551026c4/a535db085fbf.dcm',\n",
       " '/mnt/data/covid-siim/train/b389d4881747/973df23a2d2a/45aef07500cc.dcm',\n",
       " '/mnt/data/covid-siim/train/3d3dd31f00c5/1e6c12c6abf8/180e25a4ff31.dcm',\n",
       " '/mnt/data/covid-siim/train/8797c00011a7/629f64301663/af87853a19c9.dcm',\n",
       " '/mnt/data/covid-siim/train/ff3e6f379834/30400d026aa9/d39fcb354f20.dcm',\n",
       " '/mnt/data/covid-siim/train/98e86888141f/391c5fb5fc20/3a21e049fb15.dcm',\n",
       " '/mnt/data/covid-siim/train/8383c0dba9bb/bfdffde48ae3/0f6ef2363710.dcm',\n",
       " '/mnt/data/covid-siim/train/347f9ca3f295/6c9e48438bf0/64378532251b.dcm',\n",
       " '/mnt/data/covid-siim/train/c08ddce7c535/a6591837ec73/c7e30d6294b7.dcm',\n",
       " '/mnt/data/covid-siim/train/7e6c68462e06/98011bca5fd2/ffcc6edd9445.dcm',\n",
       " '/mnt/data/covid-siim/train/db06909d6c78/b941e1b57afb/394536fc0dca.dcm',\n",
       " '/mnt/data/covid-siim/train/5de1720c253f/33ce4932e1f4/de3f49a6fa45.dcm',\n",
       " '/mnt/data/covid-siim/train/43183eb0a475/72447dce1c97/124e75eb6622.dcm',\n",
       " '/mnt/data/covid-siim/train/b2a4e8f61e3b/0819b1d5f27d/a656f310024c.dcm',\n",
       " '/mnt/data/covid-siim/train/d07f235fa353/49c814cefd6d/fa1a1dd477c2.dcm',\n",
       " '/mnt/data/covid-siim/train/79ec91f1194c/9f30a2fb8635/8e905f69e77c.dcm',\n",
       " '/mnt/data/covid-siim/train/afc2b295485b/445cb1181e48/ecd66bcdc651.dcm',\n",
       " '/mnt/data/covid-siim/train/f109811743c5/564a3202582e/08932dca1447.dcm',\n",
       " '/mnt/data/covid-siim/train/f109811743c5/3d531919c090/19ef72ca62b8.dcm',\n",
       " '/mnt/data/covid-siim/train/5351cb9cc20c/0dabe48f2af1/524911903bde.dcm',\n",
       " '/mnt/data/covid-siim/train/476c4e9bd0e8/633e647b7b18/19c6397cdec9.dcm',\n",
       " '/mnt/data/covid-siim/train/476c4e9bd0e8/f76dc6feeb9c/510130dcc27b.dcm',\n",
       " '/mnt/data/covid-siim/train/2296c0ca15df/1a7f5e0f0065/f4821bf6a247.dcm',\n",
       " '/mnt/data/covid-siim/train/363eb5029f21/2b952239388f/d35d8ed1759c.dcm',\n",
       " '/mnt/data/covid-siim/train/7c656a0a1a65/3dfc936db85b/ae3d5da58736.dcm',\n",
       " '/mnt/data/covid-siim/train/ca1c191b5af2/42ca0dcfb478/c2dabc90054b.dcm',\n",
       " '/mnt/data/covid-siim/train/3c87dfa890fa/23564f438438/22e930bb575f.dcm',\n",
       " '/mnt/data/covid-siim/train/6f2af770938f/007c8b9086c3/dd0c29a10a05.dcm',\n",
       " '/mnt/data/covid-siim/train/d6d45608c97a/cce0867ac081/d2896d7a3da9.dcm',\n",
       " '/mnt/data/covid-siim/train/53e0e5340faf/6c343cf65b8f/5b63997ed831.dcm',\n",
       " '/mnt/data/covid-siim/train/6909e8b953a5/69f4c03d2f36/229767715ab5.dcm',\n",
       " '/mnt/data/covid-siim/train/f1bf16aa4bb7/27346f2c60fb/949c554213c4.dcm',\n",
       " '/mnt/data/covid-siim/train/5756aa070207/f1c2a99f9b9b/d176b5544d10.dcm',\n",
       " '/mnt/data/covid-siim/train/e10ae9dd5000/8c0156ef7534/17da9d9c513b.dcm',\n",
       " '/mnt/data/covid-siim/train/776cb995a1fd/eed78387643c/1ac1f1300b43.dcm',\n",
       " '/mnt/data/covid-siim/train/0b457ab68e89/1a30a11aadd2/c9eb5a6fcee5.dcm',\n",
       " '/mnt/data/covid-siim/train/87664803e3cd/d3356e1a8ead/e6f8a7c5875c.dcm',\n",
       " '/mnt/data/covid-siim/train/8d04e38ff3cc/4fa9db04d506/b3eae4881218.dcm',\n",
       " '/mnt/data/covid-siim/train/f1fe317fb379/209716d46baa/a2429a60f3ea.dcm',\n",
       " '/mnt/data/covid-siim/train/f1fe317fb379/f89bb9b59cb2/a3d4029a671d.dcm',\n",
       " '/mnt/data/covid-siim/train/fdf9cb6b052d/a488427aba47/d824859c732d.dcm',\n",
       " '/mnt/data/covid-siim/train/d29dcb216021/1e2932099d05/8f1e4442dbc7.dcm',\n",
       " '/mnt/data/covid-siim/train/23aa6dfe0d6f/14e00348c421/71b24ef355ee.dcm',\n",
       " '/mnt/data/covid-siim/train/2931cfb70ffb/e2bc62cb7945/16c9f1b33188.dcm',\n",
       " '/mnt/data/covid-siim/train/0d88a0777808/eae71ec206d1/5b1e5fabcb5d.dcm',\n",
       " '/mnt/data/covid-siim/train/d96d66c8f1a0/fe13a1b0db20/5c8f79dd7cf6.dcm',\n",
       " '/mnt/data/covid-siim/train/8ea4a61f36d5/8a53fa0e7398/b78924e27261.dcm',\n",
       " '/mnt/data/covid-siim/train/a5810f9d2099/f20e471ed234/0cf130895909.dcm',\n",
       " '/mnt/data/covid-siim/train/ec466227e594/f6bbbc061bba/6d0e530c6208.dcm',\n",
       " '/mnt/data/covid-siim/train/3bb35461687d/3367e45fb36e/d7d0138bede7.dcm',\n",
       " '/mnt/data/covid-siim/train/6ffc47a55a89/bcff7b645b54/5458c3cd03a3.dcm',\n",
       " '/mnt/data/covid-siim/train/b47eddfa9bcf/30838d892a51/1c9bc3acd2db.dcm',\n",
       " '/mnt/data/covid-siim/train/07ab05ea79fa/baa2dfbc8678/a6d96727e16a.dcm',\n",
       " '/mnt/data/covid-siim/train/b22e2537daa0/d24013464ab7/69522a81a9b6.dcm',\n",
       " '/mnt/data/covid-siim/train/7e91e041c7d4/efdf614ad02f/e7e072c73e1d.dcm',\n",
       " '/mnt/data/covid-siim/train/7e91e041c7d4/3ce531384323/cf0cdff4ef2e.dcm',\n",
       " '/mnt/data/covid-siim/train/7e91e041c7d4/9571c91ee566/3cde0ddf01c7.dcm',\n",
       " '/mnt/data/covid-siim/train/7e91e041c7d4/f145fd5fa922/d3885c0f58bb.dcm',\n",
       " '/mnt/data/covid-siim/train/95bdaffbc7a2/971b7bf9b309/c76c328e29b6.dcm',\n",
       " '/mnt/data/covid-siim/train/e94ccb56b277/f856ed5bd250/99e8d942f5b8.dcm',\n",
       " '/mnt/data/covid-siim/train/2fcf66c1d5e1/34b284a9e481/7df6f0a19939.dcm',\n",
       " '/mnt/data/covid-siim/train/a8aa15852dfa/55f5dde3270b/3d047361508c.dcm',\n",
       " '/mnt/data/covid-siim/train/a8aa15852dfa/9f106d84b806/abb479b59c4b.dcm',\n",
       " '/mnt/data/covid-siim/train/2b9eb0cb1e87/c4afffeda8ad/0452c373f62b.dcm',\n",
       " '/mnt/data/covid-siim/train/11a47a5bfa3e/c73abff63f17/7bec31816053.dcm',\n",
       " '/mnt/data/covid-siim/train/11a47a5bfa3e/6757d71b00f3/51d04316f2c9.dcm',\n",
       " '/mnt/data/covid-siim/train/c18032eb94ec/50cae69eeca6/76ac53629eda.dcm',\n",
       " '/mnt/data/covid-siim/train/e68608c5886d/259ff1c46dd5/b28ce3fcf553.dcm',\n",
       " '/mnt/data/covid-siim/train/f134eb1b9f3e/157210d9079d/934987424059.dcm',\n",
       " '/mnt/data/covid-siim/train/79d4f7356c39/df481bd7ba70/29d069e58dc4.dcm',\n",
       " '/mnt/data/covid-siim/train/d27919d385f8/bf72eebd159c/645338636eee.dcm',\n",
       " '/mnt/data/covid-siim/train/8888489ce27b/da758788e7df/1b97fb772253.dcm',\n",
       " '/mnt/data/covid-siim/train/b45b05909f01/e5d14037a07a/3922e7ba8993.dcm',\n",
       " '/mnt/data/covid-siim/train/6a280e4917c1/e7d582e52577/451181a24ccd.dcm',\n",
       " '/mnt/data/covid-siim/train/b30c87707a75/88d7b8112dd4/8093df07a5d0.dcm',\n",
       " '/mnt/data/covid-siim/train/b30c87707a75/6168aac73628/84135cf828e7.dcm',\n",
       " '/mnt/data/covid-siim/train/b42cb3072150/b561ebcb92fb/09c6d5c914e2.dcm',\n",
       " '/mnt/data/covid-siim/train/d02f7a78a972/d5a81252bb4b/b2d8fe7955e2.dcm',\n",
       " '/mnt/data/covid-siim/train/60cdc5f41222/373d8d4751f1/8ddd063f5c7d.dcm',\n",
       " '/mnt/data/covid-siim/train/fc42a9c84eb5/b34551e92207/3eeb7e63c39e.dcm',\n",
       " '/mnt/data/covid-siim/train/b6ecf28b52f8/c60ad6a24e7a/cc69791740bb.dcm',\n",
       " '/mnt/data/covid-siim/train/b6ecf28b52f8/726c7f744e6d/b94286e2c027.dcm',\n",
       " '/mnt/data/covid-siim/train/33ee105d8d08/267cdb247541/ca8ecb88abcf.dcm',\n",
       " '/mnt/data/covid-siim/train/d45793c3466b/60c52fd94968/cbfd2079791c.dcm',\n",
       " '/mnt/data/covid-siim/train/d45793c3466b/abf8adb98582/25ff5d625b35.dcm',\n",
       " '/mnt/data/covid-siim/train/ba4f73c2aff2/6dbf4c0a7bf6/dc37372bed4a.dcm',\n",
       " '/mnt/data/covid-siim/train/9b7abbb52fe9/301152ca241a/9da68fc712bd.dcm',\n",
       " '/mnt/data/covid-siim/train/9b7abbb52fe9/53f731ef8299/e5fc2fa92e65.dcm',\n",
       " '/mnt/data/covid-siim/train/ea2d09b4a59f/4afe11b29b28/a5d628756358.dcm',\n",
       " '/mnt/data/covid-siim/train/2cf2b94084ff/e65d4dbf38f4/dde89852ae66.dcm',\n",
       " '/mnt/data/covid-siim/train/ab9eba906025/91898d943d94/3392e7be5830.dcm',\n",
       " '/mnt/data/covid-siim/train/d0fdb5a98cb9/a9f6aa24d58f/f780ade19383.dcm',\n",
       " '/mnt/data/covid-siim/train/7775226c7ce8/bc796fb417a9/a4cf0a951d9b.dcm',\n",
       " '/mnt/data/covid-siim/train/faa6a62e025c/5f04c27d44ec/4ef5fa3a4bc6.dcm',\n",
       " '/mnt/data/covid-siim/train/1687babbc896/2843ef34d59c/bd7ffeb9da89.dcm',\n",
       " '/mnt/data/covid-siim/train/0c7570079a16/02ae104fcab5/d6742f8a921b.dcm',\n",
       " '/mnt/data/covid-siim/train/6681e5f3dd96/539406eb5091/db98196e5558.dcm',\n",
       " '/mnt/data/covid-siim/train/c0a5c404506f/0bcbaeecfb39/fb41ef9ddaa2.dcm',\n",
       " '/mnt/data/covid-siim/train/b27172e0b2f1/15645903692f/dcb374d8387e.dcm',\n",
       " '/mnt/data/covid-siim/train/b27172e0b2f1/7e1f3cc7b2fb/4f0abed3f35c.dcm',\n",
       " '/mnt/data/covid-siim/train/1452424edbbd/f4dc773c1a60/539b138b6489.dcm',\n",
       " '/mnt/data/covid-siim/train/419b460cc514/0702ca7e3764/32456961c278.dcm',\n",
       " '/mnt/data/covid-siim/train/10c4ff4c9059/cd9a51425ab6/2e37fb0a6193.dcm',\n",
       " '/mnt/data/covid-siim/train/4e3671f1dbf8/fc02776b6afb/7ab08582b201.dcm',\n",
       " '/mnt/data/covid-siim/train/4991160776f9/11f9a8cfc5d6/d6f42229ae9d.dcm',\n",
       " '/mnt/data/covid-siim/train/2be9fed93af5/99e6bfd09e67/bb36f3d3ac71.dcm',\n",
       " '/mnt/data/covid-siim/train/2be9fed93af5/b0652ede14d1/3356b42f9a5c.dcm',\n",
       " '/mnt/data/covid-siim/train/d2cc49d90758/82b68866ec77/c04124bd92d8.dcm',\n",
       " '/mnt/data/covid-siim/train/6ceafcc1bebd/7c26a190449a/f1c480efa141.dcm',\n",
       " '/mnt/data/covid-siim/test/17ffbc3d2207/890d435d6ea0/7553bffc2232.dcm',\n",
       " '/mnt/data/covid-siim/test/7bb87ec91b7d/28534f2d1267/1f49246b305e.dcm',\n",
       " '/mnt/data/covid-siim/test/2767827cedc2/8a523e71a6a1/5a0de0207028.dcm',\n",
       " '/mnt/data/covid-siim/test/2020aec5ec84/177787ca7280/00fc8fc35dc1.dcm',\n",
       " '/mnt/data/covid-siim/test/cd0664cef5a7/162dca7c64fd/bcefb8e50563.dcm',\n",
       " '/mnt/data/covid-siim/test/50a27d21b5c5/08b4bf2805a7/ab15692269fc.dcm',\n",
       " '/mnt/data/covid-siim/test/50a27d21b5c5/e16904bd890f/bc72a19f5d87.dcm',\n",
       " '/mnt/data/covid-siim/test/da56f1cee61b/9ecc7869aa48/317df13caea9.dcm',\n",
       " '/mnt/data/covid-siim/test/2f8d9f7afedb/3f9f6d91b81c/cb3eb8d1abd3.dcm',\n",
       " '/mnt/data/covid-siim/test/a80b17b9947b/8e6084dbf075/e53c7af3541a.dcm',\n",
       " '/mnt/data/covid-siim/test/1ebfe0b61513/d995c60e116d/c5a76564ef83.dcm',\n",
       " '/mnt/data/covid-siim/test/63ba2f6870f1/a7ba9a036d73/049fce8128f9.dcm',\n",
       " '/mnt/data/covid-siim/test/63ba2f6870f1/bb740e9fa198/9e78e0ae2f3e.dcm',\n",
       " '/mnt/data/covid-siim/test/3c46f027da8c/998ed5278cb8/afe360acb63b.dcm',\n",
       " '/mnt/data/covid-siim/test/858b3a423bb3/5ff3e217ee1c/cdfdbadb85c1.dcm',\n",
       " '/mnt/data/covid-siim/test/703903704231/77201be3b38d/65045f5ef280.dcm',\n",
       " '/mnt/data/covid-siim/test/18d983a50a6c/4232be9dc4d5/2be1c227dbf2.dcm',\n",
       " '/mnt/data/covid-siim/test/18d983a50a6c/4b9350903975/10d3c965a5b4.dcm',\n",
       " '/mnt/data/covid-siim/test/dd6d8fdb8da0/547bd9d727cc/ea7909e782fe.dcm',\n",
       " '/mnt/data/covid-siim/test/dd6d8fdb8da0/ec87b84d6c78/c836922a723b.dcm',\n",
       " '/mnt/data/covid-siim/test/8c208e83154a/3300529ca118/e49489fcf5c0.dcm',\n",
       " '/mnt/data/covid-siim/test/8c208e83154a/78c88409a699/ca107bb3a592.dcm',\n",
       " '/mnt/data/covid-siim/test/6ddd518ee32b/b5ac10e7ba7e/08b12b305a50.dcm',\n",
       " '/mnt/data/covid-siim/test/8ad5ead9c761/81d7890af0fc/cca081560d98.dcm',\n",
       " '/mnt/data/covid-siim/test/7e1d636a24f0/4d7dc94c3c2a/98fbac3667c9.dcm',\n",
       " '/mnt/data/covid-siim/test/0d7e69753505/f5ef5d5437ad/435bc0fcb0ab.dcm',\n",
       " '/mnt/data/covid-siim/test/2b53afb41e35/a5db7e624195/875cf71bd22a.dcm',\n",
       " '/mnt/data/covid-siim/test/b382d866a3f4/0396411a8177/609361f18122.dcm',\n",
       " '/mnt/data/covid-siim/test/f85b5d51e41d/2d7b14036f33/f785f9c6bbf7.dcm',\n",
       " '/mnt/data/covid-siim/test/5cd8e9cd57f4/ee8c51c59f32/ae357fad39c2.dcm',\n",
       " '/mnt/data/covid-siim/test/5cd8e9cd57f4/15a9f86f8375/a9d318c0b89e.dcm',\n",
       " '/mnt/data/covid-siim/test/164de8fd99f3/4eac3c39ce72/3f8195c5362d.dcm',\n",
       " '/mnt/data/covid-siim/test/a9b90530258c/6c15396d81fb/25d33047633c.dcm',\n",
       " '/mnt/data/covid-siim/test/a9b90530258c/885a1d3fb211/fc45a3b144a7.dcm',\n",
       " '/mnt/data/covid-siim/test/55f2e8f96a24/7c05be4fe805/731910f93559.dcm',\n",
       " '/mnt/data/covid-siim/test/b4ed20f4c603/0ea755c557a9/b873cfe5cead.dcm',\n",
       " '/mnt/data/covid-siim/test/24295591e074/07cb2d4b8d50/262f3525e16a.dcm',\n",
       " '/mnt/data/covid-siim/test/ee7780677a6a/abca264b5ff9/f31bb833e467.dcm',\n",
       " '/mnt/data/covid-siim/test/3e5052f6edc9/f39af9b9904d/9b7cee40d0a7.dcm',\n",
       " '/mnt/data/covid-siim/test/30ba38332bd6/e7e230968547/789ef0f544c3.dcm',\n",
       " '/mnt/data/covid-siim/test/2fc50bf199cd/af8894793b6d/8d6dea06a032.dcm',\n",
       " '/mnt/data/covid-siim/test/2fb11712bc93/b056067b8455/a29c5a68b07b.dcm',\n",
       " '/mnt/data/covid-siim/test/fb61db93b8da/e76057eeca5e/95be2813ba36.dcm',\n",
       " '/mnt/data/covid-siim/test/566a2983842a/463e78d0d735/5c8c441a0650.dcm',\n",
       " '/mnt/data/covid-siim/test/0e5a61d4ecaf/444d9150124f/50c0e40fd929.dcm',\n",
       " '/mnt/data/covid-siim/test/da352dfd1456/07f1de73f506/6f9d2683e93e.dcm',\n",
       " '/mnt/data/covid-siim/test/a4f8482aa131/51785416100d/6828795ea830.dcm',\n",
       " '/mnt/data/covid-siim/test/342624fb2b11/2f412f898e92/59a0fc64bd20.dcm',\n",
       " '/mnt/data/covid-siim/test/342624fb2b11/2f412f898e92/f02e557a36dc.dcm',\n",
       " '/mnt/data/covid-siim/test/342624fb2b11/90f2271ee796/127c2b32dd5d.dcm',\n",
       " '/mnt/data/covid-siim/test/342624fb2b11/b9e874b6b7c8/97de5453f769.dcm',\n",
       " '/mnt/data/covid-siim/test/342624fb2b11/b9e874b6b7c8/318a1ecb6fc7.dcm',\n",
       " '/mnt/data/covid-siim/test/342624fb2b11/cbbe262656a1/3b4ab121cbd4.dcm',\n",
       " '/mnt/data/covid-siim/test/342624fb2b11/cbbe262656a1/8c6d6a69d5dd.dcm',\n",
       " '/mnt/data/covid-siim/test/593c3f815635/9f5ee1ac5c6c/7230234e120a.dcm',\n",
       " '/mnt/data/covid-siim/test/3c214bbb0547/c2a79d1876f1/5db9599cf9f7.dcm',\n",
       " '/mnt/data/covid-siim/test/0a50336ef885/fe3fd685ebd2/e134e2ffdfaf.dcm',\n",
       " '/mnt/data/covid-siim/test/0a50336ef885/54b08a9fa42a/a24bc9ab2ea8.dcm',\n",
       " '/mnt/data/covid-siim/test/14072c7f2a75/97f7f7ae9b0d/9114c5437cfb.dcm',\n",
       " '/mnt/data/covid-siim/test/cf5f6f4b8cf5/eb742e63d7ee/8262b27852b3.dcm',\n",
       " '/mnt/data/covid-siim/test/cf5f6f4b8cf5/67ea897b8d8d/5b75a1de503b.dcm',\n",
       " '/mnt/data/covid-siim/test/b83eaac8a377/326c25201eea/1c13336fc8a9.dcm',\n",
       " '/mnt/data/covid-siim/test/5f46958edec1/103268e5a7d8/898d24f3cda6.dcm',\n",
       " '/mnt/data/covid-siim/test/3bd22742cef2/81b25181f630/daf0bd7ba1b4.dcm',\n",
       " '/mnt/data/covid-siim/test/3bd22742cef2/378d9a65d37f/a84c79aac3c0.dcm',\n",
       " '/mnt/data/covid-siim/test/0f6a24630aae/7cdde2070730/54066d711ef9.dcm',\n",
       " '/mnt/data/covid-siim/test/95d14f2a3b9c/2a76d66cb73b/374e1b87d7b8.dcm',\n",
       " '/mnt/data/covid-siim/test/03fc9ec0dba8/03927cb00c2c/6c42a41a6c6e.dcm',\n",
       " '/mnt/data/covid-siim/test/b93bfa119338/07e820418ca6/ccc5b63ca96d.dcm',\n",
       " '/mnt/data/covid-siim/test/b93bfa119338/11270ebfa670/5e8ac1fe2b82.dcm',\n",
       " '/mnt/data/covid-siim/test/201cb653921c/078154528df6/1dfed0992998.dcm',\n",
       " '/mnt/data/covid-siim/test/42ad262ec9f1/f29ec7ece5f6/4eecfe2a4de1.dcm',\n",
       " '/mnt/data/covid-siim/test/53e7a0aa4022/02a4c16bc1f1/859cac874454.dcm',\n",
       " '/mnt/data/covid-siim/test/112fca0c27c7/dd85d1c69f1f/c8538fe73673.dcm',\n",
       " '/mnt/data/covid-siim/test/2b8321bcf4b9/2affb70f770a/35d6801ca10a.dcm',\n",
       " '/mnt/data/covid-siim/test/c714e99b4e36/aacf65348263/6aedc81fb62d.dcm',\n",
       " '/mnt/data/covid-siim/test/8f8b690689ff/30b180ceb231/c3c99fea8c77.dcm',\n",
       " '/mnt/data/covid-siim/test/b8abb3588261/2cdbf3c60e57/1b282faf0f42.dcm',\n",
       " '/mnt/data/covid-siim/test/b8abb3588261/0b714ba17c49/d021e4e09628.dcm',\n",
       " '/mnt/data/covid-siim/test/af09deb4a6f7/e5143b5485af/0d50bce86451.dcm',\n",
       " '/mnt/data/covid-siim/test/1d1ad3db8061/d5e00774d2c6/059eae61ad15.dcm',\n",
       " '/mnt/data/covid-siim/test/a80006bd7d8f/65dc9ce7761b/6dea3c3d1efa.dcm',\n",
       " '/mnt/data/covid-siim/test/c456c89aeeca/6e001c05319d/2bc3736cc7bf.dcm',\n",
       " '/mnt/data/covid-siim/test/c456c89aeeca/7bc778f825bd/d91b58caa74d.dcm',\n",
       " '/mnt/data/covid-siim/test/93b334bb7f73/e9a2260a85f8/50de91c4297d.dcm',\n",
       " '/mnt/data/covid-siim/test/d0914f314664/5983fa06c8ea/3d56a237b6be.dcm',\n",
       " '/mnt/data/covid-siim/test/0847751da0f7/6e95e8e0a3b1/ad3e33d5f844.dcm',\n",
       " '/mnt/data/covid-siim/test/0847751da0f7/2df31fb8ae72/5020cd97beb8.dcm',\n",
       " '/mnt/data/covid-siim/test/c3cbb6e1ff0b/d9beaf02dbe3/9883f5325492.dcm',\n",
       " '/mnt/data/covid-siim/test/1655b1e7933e/77a137d61e9e/e71a18669122.dcm',\n",
       " '/mnt/data/covid-siim/test/aeb371eab69a/2938449a9bca/551957feafcc.dcm',\n",
       " '/mnt/data/covid-siim/test/1f816ad2d311/5e90eabd527d/e47df1ad9ccf.dcm',\n",
       " '/mnt/data/covid-siim/test/3fa81e73dcfd/88cf81e43147/ba4b17aaafc2.dcm',\n",
       " '/mnt/data/covid-siim/test/94637b260217/5363ef504348/ae9c9f0b03da.dcm',\n",
       " '/mnt/data/covid-siim/test/b6deca486769/d628ff5bb4bc/349d5e5d8690.dcm',\n",
       " '/mnt/data/covid-siim/test/c39536795ca2/bc78708a7a14/8887b33c4bb3.dcm',\n",
       " '/mnt/data/covid-siim/test/34b78006dfce/354ed730f969/fd322d964dc7.dcm',\n",
       " '/mnt/data/covid-siim/test/f29dcebea115/69c3310d066f/9b0ab5582681.dcm',\n",
       " '/mnt/data/covid-siim/test/272c8b46d39d/9d445889d0de/7d27573ab0c5.dcm',\n",
       " '/mnt/data/covid-siim/test/19b85f5e7b8c/a2cc887b06c5/eebfaa5e1a65.dcm',\n",
       " '/mnt/data/covid-siim/test/19b85f5e7b8c/8c40e4111168/83594e6ad0ba.dcm',\n",
       " '/mnt/data/covid-siim/test/b994bed5dd12/415accf16174/50dfcc0c2826.dcm',\n",
       " '/mnt/data/covid-siim/test/061969abb8a5/0be47fdf95d8/ac238e67fdc5.dcm',\n",
       " '/mnt/data/covid-siim/test/061969abb8a5/d7f52ddb3eb0/1c5aa8c405c7.dcm',\n",
       " '/mnt/data/covid-siim/test/d128283294c9/7cd5a4a02b58/949b8bf1079a.dcm',\n",
       " '/mnt/data/covid-siim/test/e7070a04cc4c/c703973f1763/84680684e418.dcm',\n",
       " '/mnt/data/covid-siim/test/c09fa807d4d0/827bae1527e3/34b713a5bb1d.dcm',\n",
       " '/mnt/data/covid-siim/test/decfe4c0afa6/da274787b7ad/7731db2caed2.dcm',\n",
       " '/mnt/data/covid-siim/test/0b1d3c1abed3/75e3256561ff/a72e1270f4cd.dcm',\n",
       " '/mnt/data/covid-siim/test/74030b79b6ff/ced56ff0f5be/70bee63a6740.dcm']"
      ]
     },
     "execution_count": 238,
     "metadata": {},
     "output_type": "execute_result"
    }
   ],
   "source": [
    "error_fpaths"
   ]
  },
  {
   "cell_type": "code",
   "execution_count": null,
   "metadata": {
    "hidden": true
   },
   "outputs": [],
   "source": []
  },
  {
   "cell_type": "markdown",
   "metadata": {
    "heading_collapsed": true
   },
   "source": [
    "# Compute mean and std"
   ]
  },
  {
   "cell_type": "code",
   "execution_count": 17,
   "metadata": {
    "hidden": true
   },
   "outputs": [],
   "source": [
    "%run ../../utils/images.py"
   ]
  },
  {
   "cell_type": "code",
   "execution_count": 21,
   "metadata": {
    "hidden": true
   },
   "outputs": [
    {
     "data": {
      "text/plain": [
       "6334"
      ]
     },
     "execution_count": 21,
     "metadata": {},
     "output_type": "execute_result"
    }
   ],
   "source": [
    "TRAIN_IMAGE_PATHS = glob(os.path.join(DATASET_DIR, 'images', 'train/*/*/*.png'))\n",
    "len(TRAIN_IMAGE_PATHS)"
   ]
  },
  {
   "cell_type": "code",
   "execution_count": 22,
   "metadata": {
    "hidden": true
   },
   "outputs": [
    {
     "data": {
      "application/vnd.jupyter.widget-view+json": {
       "model_id": "2cd381bd45664c9b90ee06f148f58adf",
       "version_major": 2,
       "version_minor": 0
      },
      "text/plain": [
       "  0%|          | 0/6334 [00:00<?, ?it/s]"
      ]
     },
     "metadata": {},
     "output_type": "display_data"
    },
    {
     "data": {
      "text/plain": [
       "(tensor([0.5234, 0.5234, 0.5234]), tensor([0.2099, 0.2099, 0.2099]))"
      ]
     },
     "execution_count": 22,
     "metadata": {},
     "output_type": "execute_result"
    }
   ],
   "source": [
    "mean, std = compute_mean_std(\n",
    "    ImageFolderIterator(os.path.join(DATASET_DIR, 'images'), TRAIN_IMAGE_PATHS),\n",
    "    show=True,\n",
    ")\n",
    "mean, std"
   ]
  },
  {
   "cell_type": "markdown",
   "metadata": {},
   "source": [
    "# Debug dataset class"
   ]
  },
  {
   "cell_type": "code",
   "execution_count": 115,
   "metadata": {},
   "outputs": [],
   "source": [
    "%run ../covid_siim.py"
   ]
  },
  {
   "cell_type": "code",
   "execution_count": 133,
   "metadata": {},
   "outputs": [
    {
     "data": {
      "text/plain": [
       "1263"
      ]
     },
     "execution_count": 133,
     "metadata": {},
     "output_type": "execute_result"
    }
   ],
   "source": [
    "dataset = CovidSiimDataset('test')\n",
    "len(dataset)"
   ]
  },
  {
   "cell_type": "code",
   "execution_count": 134,
   "metadata": {},
   "outputs": [],
   "source": [
    "item = dataset[10]"
   ]
  },
  {
   "cell_type": "code",
   "execution_count": 135,
   "metadata": {},
   "outputs": [
    {
     "data": {
      "text/plain": [
       "(torch.Size([3, 512, 512]), [], tensor([0, 0, 0, 0], dtype=torch.uint8))"
      ]
     },
     "execution_count": 135,
     "metadata": {},
     "output_type": "execute_result"
    }
   ],
   "source": [
    "item.image.size(), item.bboxes, item.labels"
   ]
  },
  {
   "cell_type": "code",
   "execution_count": null,
   "metadata": {},
   "outputs": [],
   "source": []
  }
 ],
 "metadata": {
  "kernelspec": {
   "display_name": "Python 3",
   "language": "python",
   "name": "python3"
  },
  "language_info": {
   "codemirror_mode": {
    "name": "ipython",
    "version": 3
   },
   "file_extension": ".py",
   "mimetype": "text/x-python",
   "name": "python",
   "nbconvert_exporter": "python",
   "pygments_lexer": "ipython3",
   "version": "3.6.9"
  },
  "toc": {
   "base_numbering": 1,
   "nav_menu": {},
   "number_sections": true,
   "sideBar": true,
   "skip_h1_title": false,
   "title_cell": "Table of Contents",
   "title_sidebar": "Contents",
   "toc_cell": false,
   "toc_position": {},
   "toc_section_display": true,
   "toc_window_display": false
  }
 },
 "nbformat": 4,
 "nbformat_minor": 4
}
