{
 "cells": [
  {
   "cell_type": "markdown",
   "metadata": {},
   "source": [
    "# Imports"
   ]
  },
  {
   "cell_type": "code",
   "execution_count": null,
   "metadata": {},
   "outputs": [],
   "source": [
    "import os\n",
    "import pandas as pd\n",
    "import numpy as np\n",
    "from collections import Counter, defaultdict\n",
    "from PIL import Image\n",
    "import matplotlib.pyplot as plt"
   ]
  },
  {
   "cell_type": "code",
   "execution_count": null,
   "metadata": {},
   "outputs": [],
   "source": [
    "import matplotlib\n",
    "matplotlib.rcParams['figure.facecolor'] = 'white'"
   ]
  },
  {
   "cell_type": "markdown",
   "metadata": {},
   "source": [
    "# Load one sample"
   ]
  },
  {
   "cell_type": "code",
   "execution_count": null,
   "metadata": {},
   "outputs": [],
   "source": [
    "%run ../common/__init__.py"
   ]
  },
  {
   "cell_type": "code",
   "execution_count": null,
   "metadata": {},
   "outputs": [],
   "source": [
    "DATASET_DIR = os.environ.get('DATASET_DIR_CHEXPERT')"
   ]
  },
  {
   "cell_type": "code",
   "execution_count": null,
   "metadata": {},
   "outputs": [],
   "source": [
    "# name = 'train/patient00001/study1/view1_frontal.jpg'\n",
    "# name = 'valid/patient64671/study1/view1_frontal.jpg'\n",
    "name = 'train/patient29328/study1/view1_frontal.jpg'\n",
    "image_fpath = os.path.join(DATASET_DIR, name)"
   ]
  },
  {
   "cell_type": "code",
   "execution_count": null,
   "metadata": {},
   "outputs": [],
   "source": [
    "image = Image.open(image_fpath)# .convert('RGB')\n",
    "image.size, image.mode"
   ]
  },
  {
   "cell_type": "code",
   "execution_count": null,
   "metadata": {},
   "outputs": [],
   "source": [
    "image = np.array(image)\n",
    "image.shape, image.dtype"
   ]
  },
  {
   "cell_type": "code",
   "execution_count": null,
   "metadata": {},
   "outputs": [],
   "source": [
    "plt.imshow(image)"
   ]
  },
  {
   "cell_type": "markdown",
   "metadata": {
    "heading_collapsed": true
   },
   "source": [
    "# Calculate mean and std"
   ]
  },
  {
   "cell_type": "code",
   "execution_count": null,
   "metadata": {
    "hidden": true
   },
   "outputs": [],
   "source": [
    "%run ../../utils/images.py"
   ]
  },
  {
   "cell_type": "code",
   "execution_count": null,
   "metadata": {
    "hidden": true
   },
   "outputs": [],
   "source": [
    "fpath = os.path.join(DATASET_DIR, 'train.csv')\n",
    "d = pd.read_csv(fpath)\n",
    "d.replace(r'CheXpert-v1.0-small/', '', regex=True, inplace=True)\n",
    "d.head()"
   ]
  },
  {
   "cell_type": "code",
   "execution_count": null,
   "metadata": {
    "hidden": true
   },
   "outputs": [],
   "source": [
    "train_images_all = list(d['Path'])\n",
    "len(train_images_all)"
   ]
  },
  {
   "cell_type": "code",
   "execution_count": null,
   "metadata": {
    "hidden": true
   },
   "outputs": [],
   "source": [
    "train_images_frontal = list(d[d['Frontal/Lateral'] == 'Frontal']['Path'])\n",
    "len(train_images_frontal)"
   ]
  },
  {
   "cell_type": "code",
   "execution_count": null,
   "metadata": {
    "hidden": true
   },
   "outputs": [],
   "source": [
    "mean, std = compute_mean_std(ImageFolderIterator(DATASET_DIR, train_images_all), show=True)\n",
    "mean, std"
   ]
  },
  {
   "cell_type": "code",
   "execution_count": null,
   "metadata": {
    "hidden": true
   },
   "outputs": [],
   "source": [
    "stats_frontal = compute_mean_std(ImageFolderIterator(DATASET_DIR, train_images_frontal),\n",
    "                                 show=True)\n",
    "stats_frontal"
   ]
  },
  {
   "cell_type": "code",
   "execution_count": null,
   "metadata": {
    "hidden": true
   },
   "outputs": [],
   "source": []
  },
  {
   "cell_type": "code",
   "execution_count": null,
   "metadata": {
    "hidden": true
   },
   "outputs": [],
   "source": []
  },
  {
   "cell_type": "markdown",
   "metadata": {
    "heading_collapsed": true
   },
   "source": [
    "# Load `ChexpertDataset` class"
   ]
  },
  {
   "cell_type": "code",
   "execution_count": null,
   "metadata": {
    "hidden": true
   },
   "outputs": [],
   "source": [
    "%run ../chexpert.py\n",
    "%run ../../utils/common.py"
   ]
  },
  {
   "cell_type": "code",
   "execution_count": null,
   "metadata": {
    "hidden": true
   },
   "outputs": [],
   "source": [
    "dataset = ChexpertDataset(dataset_type='train-val', frontal_only=True, masks=True)\n",
    "len(dataset)"
   ]
  },
  {
   "cell_type": "code",
   "execution_count": null,
   "metadata": {
    "hidden": true
   },
   "outputs": [],
   "source": [
    "item = dataset[-8]\n",
    "print(item.image_fname)\n",
    "item.image.size(), item.masks.size()"
   ]
  },
  {
   "cell_type": "code",
   "execution_count": null,
   "metadata": {
    "hidden": true
   },
   "outputs": [],
   "source": [
    "n_rows = 1\n",
    "n_cols = 2\n",
    "plt.figure(figsize=(n_cols*8, n_rows*8))\n",
    "\n",
    "plt.subplot(n_rows, n_cols, 1)\n",
    "plt.imshow(tensor_to_range01(item.image).permute(1, 2, 0))\n",
    "plt.title(item.image_fname)\n",
    "\n",
    "plt.subplot(n_rows, n_cols, 2)\n",
    "plt.imshow(item.masks)"
   ]
  },
  {
   "cell_type": "code",
   "execution_count": null,
   "metadata": {
    "hidden": true
   },
   "outputs": [],
   "source": []
  },
  {
   "cell_type": "markdown",
   "metadata": {},
   "source": [
    "# Exploratory analysis"
   ]
  },
  {
   "cell_type": "code",
   "execution_count": null,
   "metadata": {},
   "outputs": [],
   "source": [
    "%run ../chexpert.py"
   ]
  },
  {
   "cell_type": "code",
   "execution_count": null,
   "metadata": {},
   "outputs": [],
   "source": [
    "train_dataset = ChexpertDataset(dataset_type='train', frontal_only=False)\n",
    "val_dataset = ChexpertDataset(dataset_type='val', frontal_only=False)\n",
    "len(train_dataset), len(val_dataset)"
   ]
  },
  {
   "cell_type": "markdown",
   "metadata": {
    "heading_collapsed": true
   },
   "source": [
    "## Frontal vs lateral\n",
    "\n",
    "Amount of images"
   ]
  },
  {
   "cell_type": "code",
   "execution_count": null,
   "metadata": {
    "hidden": true
   },
   "outputs": [],
   "source": [
    "def print_frontal_vs_lateral(dataset):\n",
    "    counter = Counter(dataset.label_index['Frontal/Lateral'])\n",
    "    print(dataset.dataset_type)\n",
    "    for key in counter.keys():\n",
    "        amount = counter[key]\n",
    "        perc = amount / len(dataset) * 100\n",
    "        print(f'\\t{key}: {amount:,} ({perc:.1f}%)')"
   ]
  },
  {
   "cell_type": "code",
   "execution_count": null,
   "metadata": {
    "hidden": true
   },
   "outputs": [],
   "source": [
    "print_frontal_vs_lateral(train_dataset)\n",
    "print_frontal_vs_lateral(val_dataset)"
   ]
  },
  {
   "cell_type": "markdown",
   "metadata": {
    "heading_collapsed": true
   },
   "source": [
    "## Diseases distribution"
   ]
  },
  {
   "cell_type": "code",
   "execution_count": null,
   "metadata": {
    "hidden": true
   },
   "outputs": [],
   "source": [
    "def amounts_by_disease(dataset):\n",
    "    amounts = dataset.label_index[CHEXPERT_DISEASES].sum(axis=0).sort_values()\n",
    "\n",
    "    print(dataset.dataset_type)\n",
    "    for disease in amounts.keys():\n",
    "        amount = int(amounts[disease])\n",
    "        perc = amount / len(dataset) * 100\n",
    "        print(f'\\t{disease:<28}: {amount:<7,} ({perc:.1f}%)')"
   ]
  },
  {
   "cell_type": "code",
   "execution_count": null,
   "metadata": {
    "hidden": true
   },
   "outputs": [],
   "source": [
    "amounts_by_disease(train_dataset)\n",
    "amounts_by_disease(val_dataset)"
   ]
  },
  {
   "cell_type": "code",
   "execution_count": null,
   "metadata": {
    "hidden": true
   },
   "outputs": [],
   "source": [
    "def plot_amounts_by_disease(dataset):\n",
    "    amounts = dataset.label_index[CHEXPERT_DISEASES].sum(axis=0).sort_values()\n",
    "    \n",
    "    plt.title(dataset.dataset_type)\n",
    "    plt.bar(amounts.keys(), amounts)\n",
    "    plt.xticks(rotation=90)\n",
    "    plt.ylabel('Amount')"
   ]
  },
  {
   "cell_type": "code",
   "execution_count": null,
   "metadata": {
    "hidden": true
   },
   "outputs": [],
   "source": [
    "plt.figure(figsize=(15, 5))\n",
    "\n",
    "plt.subplot(1, 2, 1)\n",
    "plot_amounts_by_disease(train_dataset)\n",
    "\n",
    "plt.subplot(1, 2, 2)\n",
    "plot_amounts_by_disease(val_dataset)"
   ]
  },
  {
   "cell_type": "markdown",
   "metadata": {},
   "source": [
    "## Images by patient"
   ]
  },
  {
   "cell_type": "code",
   "execution_count": null,
   "metadata": {},
   "outputs": [],
   "source": [
    "import re"
   ]
  },
  {
   "cell_type": "code",
   "execution_count": null,
   "metadata": {},
   "outputs": [],
   "source": [
    "patient_pattern = re.compile(r'.*patient(\\d+)\\/.*')\n",
    "def extract_patient(path):\n",
    "    # E.g.: CheXpert-v1.0-small/valid/patient64541/study1/view1_frontal.jpg\n",
    "    match = patient_pattern.search(path)\n",
    "    if not match:\n",
    "        return ''\n",
    "    return match.group(1)"
   ]
  },
  {
   "cell_type": "code",
   "execution_count": null,
   "metadata": {},
   "outputs": [],
   "source": [
    "df = pd.read_csv(os.path.join(DATASET_DIR, 'train-val.csv'))\n",
    "cols = ['Path', 'Sex', 'Age', 'Frontal/Lateral', 'AP/PA']\n",
    "df = df[cols]\n",
    "df.head(2)"
   ]
  },
  {
   "cell_type": "code",
   "execution_count": null,
   "metadata": {},
   "outputs": [],
   "source": [
    "df['PatientID'] = [extract_patient(row['Path']) for _, row in df.iterrows()]\n",
    "df.head(2)"
   ]
  },
  {
   "cell_type": "code",
   "execution_count": null,
   "metadata": {},
   "outputs": [],
   "source": [
    "n_images_by_patient = Counter(df['PatientID'])\n",
    "n_distinct_patients = len(n_images_by_patient)\n",
    "n_distinct_patients, len(df)"
   ]
  },
  {
   "cell_type": "markdown",
   "metadata": {},
   "source": [
    "### Plot distribution"
   ]
  },
  {
   "cell_type": "code",
   "execution_count": null,
   "metadata": {},
   "outputs": [],
   "source": [
    "patients_and_amounts = sorted(n_images_by_patient.items(), key=lambda x: x[1], reverse=True)\n",
    "patients_and_amounts[:10]"
   ]
  },
  {
   "cell_type": "code",
   "execution_count": null,
   "metadata": {},
   "outputs": [],
   "source": [
    "patients_ids, amounts = zip(*patients_and_amounts)\n",
    "plt.plot(range(len(amounts)), amounts)\n",
    "plt.xlabel('Patient ID')\n",
    "plt.ylabel('N images')\n",
    "plt.title('N images by patient (Chexpert)')"
   ]
  },
  {
   "cell_type": "code",
   "execution_count": null,
   "metadata": {},
   "outputs": [],
   "source": [
    "amounts = np.array(amounts)\n",
    "cum_amounts = np.cumsum(amounts) / len(df)\n",
    "total_patients = len(amounts)"
   ]
  },
  {
   "cell_type": "code",
   "execution_count": null,
   "metadata": {},
   "outputs": [],
   "source": [
    "plt.plot(np.array(range(len(cum_amounts))) / total_patients, cum_amounts)\n",
    "plt.title('N images vs N patients')\n",
    "plt.ylabel('Fraction of images')\n",
    "plt.xlabel('Fraction of patients')"
   ]
  },
  {
   "cell_type": "code",
   "execution_count": null,
   "metadata": {},
   "outputs": [],
   "source": [
    "for perc in [0.2, 0.3, 0.4, 0.45, 0.5, 0.7, 0.8]:\n",
    "    n_patients = np.argmax(cum_amounts > perc) + 1\n",
    "    perc_patients = n_patients / total_patients * 100\n",
    "    \n",
    "    s1 = f'Top {n_patients:,} patients ({perc_patients:.1f}%)'\n",
    "    s2 = f'{int(perc*100)}% of the images'\n",
    "    print(f'{s1:<30} account for {s2}')\n",
    "print(f'Total patients: {total_patients:,}')"
   ]
  },
  {
   "cell_type": "markdown",
   "metadata": {
    "heading_collapsed": true
   },
   "source": [
    "### Check some images from the same patient"
   ]
  },
  {
   "cell_type": "code",
   "execution_count": null,
   "metadata": {
    "hidden": true
   },
   "outputs": [],
   "source": [
    "import math"
   ]
  },
  {
   "cell_type": "code",
   "execution_count": null,
   "metadata": {
    "hidden": true
   },
   "outputs": [],
   "source": [
    "%run ../common/constants.py"
   ]
  },
  {
   "cell_type": "code",
   "execution_count": null,
   "metadata": {
    "hidden": true
   },
   "outputs": [],
   "source": [
    "dataset = ChexpertDataset(dataset_type='train-val', frontal_only=False)\n",
    "len(dataset)"
   ]
  },
  {
   "cell_type": "code",
   "execution_count": null,
   "metadata": {
    "hidden": true
   },
   "outputs": [],
   "source": [
    "cols = ['Path', 'AP/PA']\n",
    "projection_by_image_id = df[cols].set_index('Path')['AP/PA'].to_dict()\n",
    "projection_by_image_id = {\n",
    "    k.replace('CheXpert-v1.0-small/', ''): v\n",
    "    for k, v in projection_by_image_id.items()\n",
    "}"
   ]
  },
  {
   "cell_type": "code",
   "execution_count": null,
   "metadata": {
    "hidden": true
   },
   "outputs": [],
   "source": [
    "patient_id = 33155\n",
    "patient_str = f'patient{patient_id:05}'\n",
    "rows = dataset.label_index.loc[dataset.label_index['Path'].str.contains(patient_str)]\n",
    "\n",
    "indexes = list(rows.index)\n",
    "indexes = indexes[:15]\n",
    "\n",
    "n_cols = 3\n",
    "n_rows = math.ceil(len(indexes) / n_cols)\n",
    "plt.figure(figsize=(5*n_cols, 5*n_rows))\n",
    "\n",
    "for plt_idx, idx in enumerate(indexes):\n",
    "    item = dataset[idx]\n",
    "    image = item.image[0]\n",
    "    \n",
    "    findings = '|'.join(\n",
    "        ABN_SHORTCUTS[d]\n",
    "        for d, present in zip(dataset.labels, item.labels)\n",
    "        if present\n",
    "    )\n",
    "    if not findings:\n",
    "        findings = 'NF'\n",
    "    \n",
    "    proj = projection_by_image_id.get(item.image_fname, '')\n",
    "    \n",
    "    plt.subplot(n_rows, n_cols, plt_idx + 1)\n",
    "    plt.imshow(image, cmap='gray')\n",
    "    plt.title(f'{findings} ({proj})')"
   ]
  },
  {
   "cell_type": "markdown",
   "metadata": {},
   "source": [
    "### Projection by type of patient"
   ]
  },
  {
   "cell_type": "code",
   "execution_count": null,
   "metadata": {},
   "outputs": [],
   "source": [
    "df.fillna('--', inplace=True)"
   ]
  },
  {
   "cell_type": "code",
   "execution_count": null,
   "metadata": {},
   "outputs": [],
   "source": [
    "def plot_proj_in_subset(condition, title):\n",
    "    patients = [patient for patient, amount in n_images_by_patient.items() if condition(amount)]\n",
    "\n",
    "    d = df.loc[df['PatientID'].isin(set(patients))]\n",
    "    images_by_proj = Counter(d['AP/PA'])\n",
    "\n",
    "    plt.bar(images_by_proj.keys(), images_by_proj.values())\n",
    "    plt.ylabel('N images')\n",
    "    plt.title(title)\n",
    "    \n",
    "    return patients"
   ]
  },
  {
   "cell_type": "code",
   "execution_count": null,
   "metadata": {},
   "outputs": [],
   "source": [
    "THRESH = 10\n",
    "\n",
    "plt.figure(figsize=(14, 5))\n",
    "\n",
    "plt.subplot(1, 2, 1)\n",
    "pat1 = plot_proj_in_subset(lambda x: x > THRESH, f'Patients with > {THRESH}')\n",
    "\n",
    "plt.subplot(1, 2, 2)\n",
    "pat2 = plot_proj_in_subset(lambda x: x <= THRESH, f'Patients with <= {THRESH}')"
   ]
  },
  {
   "cell_type": "code",
   "execution_count": null,
   "metadata": {},
   "outputs": [],
   "source": [
    "set(pat1).intersection(pat2)"
   ]
  },
  {
   "cell_type": "markdown",
   "metadata": {},
   "source": [
    "## Hierarchical labels"
   ]
  },
  {
   "cell_type": "code",
   "execution_count": null,
   "metadata": {},
   "outputs": [],
   "source": [
    "dataset = ChexpertDataset(dataset_type='train-val', frontal_only=False)\n",
    "len(dataset)"
   ]
  },
  {
   "cell_type": "code",
   "execution_count": null,
   "metadata": {},
   "outputs": [],
   "source": [
    "df = dataset.label_index\n",
    "df.head(2)"
   ]
  },
  {
   "cell_type": "code",
   "execution_count": null,
   "metadata": {},
   "outputs": [],
   "source": [
    "def check(children, parent):\n",
    "    d = df\n",
    "    d = d.loc[(d[children] == 1).any(axis=1)]\n",
    "    print(Counter(d[parent]))\n",
    "    return d"
   ]
  },
  {
   "cell_type": "code",
   "execution_count": null,
   "metadata": {},
   "outputs": [],
   "source": [
    "_ = check(['Consolidation', 'Pneumonia', 'Lung Lesion', 'Atelectasis'], 'Lung Opacity')"
   ]
  },
  {
   "cell_type": "code",
   "execution_count": null,
   "metadata": {},
   "outputs": [],
   "source": [
    "_ = check(['Cardiomegaly'], 'Enlarged Cardiomediastinum')"
   ]
  },
  {
   "cell_type": "markdown",
   "metadata": {},
   "source": [
    "Any sub-label marked as positive **does not** imply the parent-label is marked as positive"
   ]
  }
 ],
 "metadata": {
  "kernelspec": {
   "display_name": "Python 3",
   "language": "python",
   "name": "python3"
  },
  "language_info": {
   "codemirror_mode": {
    "name": "ipython",
    "version": 3
   },
   "file_extension": ".py",
   "mimetype": "text/x-python",
   "name": "python",
   "nbconvert_exporter": "python",
   "pygments_lexer": "ipython3",
   "version": "3.6.9"
  },
  "toc": {
   "base_numbering": 1,
   "nav_menu": {},
   "number_sections": true,
   "sideBar": true,
   "skip_h1_title": false,
   "title_cell": "Table of Contents",
   "title_sidebar": "Contents",
   "toc_cell": false,
   "toc_position": {},
   "toc_section_display": true,
   "toc_window_display": false
  }
 },
 "nbformat": 4,
 "nbformat_minor": 4
}
