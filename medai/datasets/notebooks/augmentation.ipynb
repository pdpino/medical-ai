{
 "cells": [
  {
   "cell_type": "markdown",
   "metadata": {},
   "source": [
    "# Imports"
   ]
  },
  {
   "cell_type": "code",
   "execution_count": null,
   "metadata": {},
   "outputs": [],
   "source": [
    "import matplotlib.pyplot as plt"
   ]
  },
  {
   "cell_type": "code",
   "execution_count": null,
   "metadata": {},
   "outputs": [],
   "source": [
    "import matplotlib\n",
    "matplotlib.rcParams['figure.facecolor'] = 'white'"
   ]
  },
  {
   "cell_type": "markdown",
   "metadata": {},
   "source": [
    "# Plot samples"
   ]
  },
  {
   "cell_type": "code",
   "execution_count": null,
   "metadata": {},
   "outputs": [],
   "source": [
    "%run ../tools/augmentation.py\n",
    "%run ../cxr14.py\n",
    "%run ../iu_xray.py\n",
    "%run ../jsrt.py\n",
    "%run ../vinbig.py\n",
    "%run ../chexpert.py"
   ]
  },
  {
   "cell_type": "code",
   "execution_count": null,
   "metadata": {},
   "outputs": [],
   "source": [
    "dataset_kwargs = {\n",
    "    'seg_multilabel': False,\n",
    "    'masks': True,\n",
    "    'masks_version': 'v2',\n",
    "    'frontal_only': True,\n",
    "    'image_size': (256, 256),\n",
    "    'crop_center': 224,\n",
    "}\n",
    "\n",
    "# dataset = VinBigDataset(image_format='L', masks=True)\n",
    "# dataset = CXR14Dataset(**dataset_kwargs)\n",
    "dataset = ChexpertDataset(**dataset_kwargs)\n",
    "# dataset = IUXRayDataset(**dataset_kwargs)\n",
    "len(dataset)"
   ]
  },
  {
   "cell_type": "code",
   "execution_count": null,
   "metadata": {},
   "outputs": [],
   "source": [
    "item = dataset[0]\n",
    "item.image.size()"
   ]
  },
  {
   "cell_type": "code",
   "execution_count": null,
   "metadata": {},
   "outputs": [],
   "source": [
    "item.masks.size()"
   ]
  },
  {
   "cell_type": "code",
   "execution_count": null,
   "metadata": {},
   "outputs": [],
   "source": [
    "kwargs = {\n",
    "    # 'mode': 'touch',\n",
    "    'mode': 'single',\n",
    "    'times': 1,\n",
    "    'dont_shuffle': True,\n",
    "    'seg_mask': dataset.enable_masks,\n",
    "#     'crop': None,\n",
    "    'translate': None,\n",
    "#     'shear': None,\n",
    "#     'rotation': None,\n",
    "#     'contrast': None,\n",
    "#     'brightness': None,\n",
    "#     'noise_gaussian': None,\n",
    "}\n",
    "\n",
    "aug_dataset = Augmentator(dataset, **kwargs)\n",
    "len(dataset), len(aug_dataset)"
   ]
  },
  {
   "cell_type": "code",
   "execution_count": null,
   "metadata": {
    "scrolled": true
   },
   "outputs": [],
   "source": [
    "aug_dataset.plot_augmented_samples(1, title_fontsize=28)"
   ]
  },
  {
   "cell_type": "code",
   "execution_count": null,
   "metadata": {},
   "outputs": [],
   "source": [
    "sample_idx = 0\n",
    "n_methods = len(aug_dataset._image_transforms)\n",
    "\n",
    "start_idx = sample_idx * (n_methods + 1)\n",
    "for i, method in enumerate(['original'] + list(aug_dataset._image_transforms)):\n",
    "    idx = start_idx + i\n",
    "    item = aug_dataset[idx]\n",
    "    image = item.image\n",
    "    print(f'{method:10}\\t', image.type(), image.size(), image.min(), image.max())\n",
    "\n",
    "    if aug_dataset.enable_masks:\n",
    "        assert isinstance(item.masks, torch.Tensor), f'Masks not tensor, got {type(item.masks)}'\n",
    "        mask = item.masks\n",
    "        # print(f'{method:10}\\t', mask.type(), mask.size(), mask.min(), mask.max())"
   ]
  },
  {
   "cell_type": "markdown",
   "metadata": {},
   "source": [
    "# Gaussian noise"
   ]
  },
  {
   "cell_type": "code",
   "execution_count": null,
   "metadata": {},
   "outputs": [],
   "source": [
    "%run ../../utils/common.py"
   ]
  },
  {
   "cell_type": "code",
   "execution_count": null,
   "metadata": {},
   "outputs": [],
   "source": [
    "dataset2 = JSRTDataset(image_format='RGB')\n",
    "len(dataset2)"
   ]
  },
  {
   "cell_type": "code",
   "execution_count": null,
   "metadata": {},
   "outputs": [],
   "source": [
    "item = dataset2[3]\n",
    "image = item.image\n",
    "image.size()"
   ]
  },
  {
   "cell_type": "code",
   "execution_count": null,
   "metadata": {},
   "outputs": [],
   "source": [
    "image.min(), image.max()"
   ]
  },
  {
   "cell_type": "code",
   "execution_count": null,
   "metadata": {},
   "outputs": [],
   "source": [
    "image2 = image + torch.randn(image.size()[-2:], device=image.device) * 0.1\n",
    "# image3 = tensor_to_range01(image) + torch.randn(image.size(), device=image.device) * 0.1\n",
    "\n",
    "plt.figure(figsize=(15, 5))\n",
    "n_rows = 2\n",
    "\n",
    "plt.subplot(1, n_rows, 1)\n",
    "plt.imshow(tensor_to_range01(image).permute(1, 2, 0), cmap='gray')\n",
    "\n",
    "plt.subplot(1, n_rows, 2)\n",
    "plt.imshow(tensor_to_range01(image2).permute(1, 2, 0), cmap='gray')\n",
    "\n",
    "# plt.subplot(1, 3, 3)\n",
    "# plt.imshow(image3, cmap='gray')"
   ]
  },
  {
   "cell_type": "code",
   "execution_count": null,
   "metadata": {},
   "outputs": [],
   "source": [
    "noise = (image - image2)\n",
    "noise.min(), noise.max(), noise.mean()"
   ]
  }
 ],
 "metadata": {
  "kernelspec": {
   "display_name": "Python 3",
   "language": "python",
   "name": "python3"
  },
  "language_info": {
   "codemirror_mode": {
    "name": "ipython",
    "version": 3
   },
   "file_extension": ".py",
   "mimetype": "text/x-python",
   "name": "python",
   "nbconvert_exporter": "python",
   "pygments_lexer": "ipython3",
   "version": "3.6.9"
  },
  "toc": {
   "base_numbering": 1,
   "nav_menu": {},
   "number_sections": true,
   "sideBar": true,
   "skip_h1_title": false,
   "title_cell": "Table of Contents",
   "title_sidebar": "Contents",
   "toc_cell": false,
   "toc_position": {},
   "toc_section_display": true,
   "toc_window_display": false
  }
 },
 "nbformat": 4,
 "nbformat_minor": 4
}
