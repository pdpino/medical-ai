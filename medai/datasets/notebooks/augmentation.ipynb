{
 "cells": [
  {
   "cell_type": "markdown",
   "metadata": {},
   "source": [
    "# Imports"
   ]
  },
  {
   "cell_type": "code",
   "execution_count": null,
   "metadata": {},
   "outputs": [],
   "source": [
    "import matplotlib.pyplot as plt"
   ]
  },
  {
   "cell_type": "code",
   "execution_count": null,
   "metadata": {},
   "outputs": [],
   "source": [
    "import matplotlib\n",
    "matplotlib.rcParams['figure.facecolor'] = 'white'"
   ]
  },
  {
   "cell_type": "code",
   "execution_count": null,
   "metadata": {},
   "outputs": [],
   "source": []
  },
  {
   "cell_type": "markdown",
   "metadata": {},
   "source": [
    "# Plot samples"
   ]
  },
  {
   "cell_type": "code",
   "execution_count": null,
   "metadata": {},
   "outputs": [],
   "source": [
    "%run ../tools/augmentation.py\n",
    "%run ../cxr14.py\n",
    "%run ../jsrt.py"
   ]
  },
  {
   "cell_type": "code",
   "execution_count": null,
   "metadata": {},
   "outputs": [],
   "source": [
    "kwargs = {\n",
    "    'crop': None,\n",
    "    'translate': None,\n",
    "    'shear': None,\n",
    "    'rotation': None,\n",
    "    'contrast': None,\n",
    "    'brightness': None,\n",
    "    'noise_gaussian': 0.1,\n",
    "}\n",
    "\n",
    "dataset = JSRTDataset(image_format='L')\n",
    "aug_dataset = Augmentator(dataset, dont_shuffle=True, **kwargs)\n",
    "len(dataset), len(aug_dataset)"
   ]
  },
  {
   "cell_type": "code",
   "execution_count": null,
   "metadata": {},
   "outputs": [],
   "source": [
    "aug_dataset.plot_augmented_samples(3)"
   ]
  },
  {
   "cell_type": "code",
   "execution_count": null,
   "metadata": {},
   "outputs": [],
   "source": [
    "sample_idx = 0\n",
    "n_methods = len(aug_dataset._aug_fns)\n",
    "\n",
    "start_idx = sample_idx * (n_methods + 1)\n",
    "for i, method in enumerate(['original'] + list(aug_dataset._aug_fns)):\n",
    "    idx = start_idx + i\n",
    "    image = aug_dataset[idx].image\n",
    "    print(f'{method:10}\\t', image.type(), image.size(), image.min(), image.max())"
   ]
  },
  {
   "cell_type": "code",
   "execution_count": null,
   "metadata": {},
   "outputs": [],
   "source": []
  },
  {
   "cell_type": "markdown",
   "metadata": {},
   "source": [
    "# Gaussian noise"
   ]
  },
  {
   "cell_type": "code",
   "execution_count": null,
   "metadata": {},
   "outputs": [],
   "source": [
    "%run ../../utils/common.py"
   ]
  },
  {
   "cell_type": "code",
   "execution_count": null,
   "metadata": {},
   "outputs": [],
   "source": [
    "dataset2 = JSRTDataset(image_format='RGB')\n",
    "len(dataset2)"
   ]
  },
  {
   "cell_type": "code",
   "execution_count": null,
   "metadata": {},
   "outputs": [],
   "source": [
    "item = dataset2[3]\n",
    "image = item.image\n",
    "image.size()"
   ]
  },
  {
   "cell_type": "code",
   "execution_count": null,
   "metadata": {},
   "outputs": [],
   "source": [
    "image.min(), image.max()"
   ]
  },
  {
   "cell_type": "code",
   "execution_count": null,
   "metadata": {},
   "outputs": [],
   "source": [
    "image2 = image + torch.randn(image.size()[-2:], device=image.device) * 0.1\n",
    "# image3 = tensor_to_range01(image) + torch.randn(image.size(), device=image.device) * 0.1\n",
    "\n",
    "plt.figure(figsize=(15, 5))\n",
    "n_rows = 2\n",
    "\n",
    "plt.subplot(1, n_rows, 1)\n",
    "plt.imshow(tensor_to_range01(image).permute(1, 2, 0), cmap='gray')\n",
    "\n",
    "plt.subplot(1, n_rows, 2)\n",
    "plt.imshow(tensor_to_range01(image2).permute(1, 2, 0), cmap='gray')\n",
    "\n",
    "# plt.subplot(1, 3, 3)\n",
    "# plt.imshow(image3, cmap='gray')"
   ]
  },
  {
   "cell_type": "code",
   "execution_count": null,
   "metadata": {},
   "outputs": [],
   "source": [
    "noise = (image - image2)\n",
    "noise.min(), noise.max(), noise.mean()"
   ]
  },
  {
   "cell_type": "code",
   "execution_count": null,
   "metadata": {},
   "outputs": [],
   "source": []
  },
  {
   "cell_type": "code",
   "execution_count": null,
   "metadata": {},
   "outputs": [],
   "source": []
  },
  {
   "cell_type": "code",
   "execution_count": null,
   "metadata": {},
   "outputs": [],
   "source": []
  }
 ],
 "metadata": {
  "kernelspec": {
   "display_name": "Python 3",
   "language": "python",
   "name": "python3"
  },
  "language_info": {
   "codemirror_mode": {
    "name": "ipython",
    "version": 3
   },
   "file_extension": ".py",
   "mimetype": "text/x-python",
   "name": "python",
   "nbconvert_exporter": "python",
   "pygments_lexer": "ipython3",
   "version": "3.6.9"
  },
  "toc": {
   "base_numbering": 1,
   "nav_menu": {},
   "number_sections": true,
   "sideBar": true,
   "skip_h1_title": false,
   "title_cell": "Table of Contents",
   "title_sidebar": "Contents",
   "toc_cell": false,
   "toc_position": {},
   "toc_section_display": true,
   "toc_window_display": false
  }
 },
 "nbformat": 4,
 "nbformat_minor": 4
}
