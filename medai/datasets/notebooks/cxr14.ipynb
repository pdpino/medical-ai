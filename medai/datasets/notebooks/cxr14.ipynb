{
 "cells": [
  {
   "cell_type": "markdown",
   "metadata": {},
   "source": [
    "## Imports"
   ]
  },
  {
   "cell_type": "code",
   "execution_count": 1,
   "metadata": {},
   "outputs": [],
   "source": [
    "import torch\n",
    "import pandas as pd\n",
    "import os"
   ]
  },
  {
   "cell_type": "code",
   "execution_count": 2,
   "metadata": {},
   "outputs": [],
   "source": [
    "import matplotlib\n",
    "matplotlib.rcParams['figure.facecolor'] = 'white'"
   ]
  },
  {
   "cell_type": "code",
   "execution_count": 3,
   "metadata": {},
   "outputs": [],
   "source": [
    "%run ../cxr14.py"
   ]
  },
  {
   "cell_type": "code",
   "execution_count": null,
   "metadata": {},
   "outputs": [],
   "source": []
  },
  {
   "cell_type": "markdown",
   "metadata": {
    "heading_collapsed": true
   },
   "source": [
    "## Split dataframe"
   ]
  },
  {
   "cell_type": "markdown",
   "metadata": {
    "hidden": true
   },
   "source": [
    "### Check splits are correct"
   ]
  },
  {
   "cell_type": "code",
   "execution_count": 25,
   "metadata": {
    "hidden": true
   },
   "outputs": [],
   "source": [
    "master_df_fpath = os.path.join(DATASET_DIR, 'label_index.csv')\n",
    "train_df_fpath = os.path.join(DATASET_DIR, 'train_label.csv')\n",
    "val_df_fpath = os.path.join(DATASET_DIR, 'val_label.csv')\n",
    "test_df_fpath = os.path.join(DATASET_DIR, 'test_label.csv')"
   ]
  },
  {
   "cell_type": "code",
   "execution_count": 26,
   "metadata": {
    "hidden": true
   },
   "outputs": [
    {
     "name": "stdout",
     "output_type": "stream",
     "text": [
      "112120\n"
     ]
    },
    {
     "data": {
      "text/html": [
       "<div>\n",
       "<style scoped>\n",
       "    .dataframe tbody tr th:only-of-type {\n",
       "        vertical-align: middle;\n",
       "    }\n",
       "\n",
       "    .dataframe tbody tr th {\n",
       "        vertical-align: top;\n",
       "    }\n",
       "\n",
       "    .dataframe thead th {\n",
       "        text-align: right;\n",
       "    }\n",
       "</style>\n",
       "<table border=\"1\" class=\"dataframe\">\n",
       "  <thead>\n",
       "    <tr style=\"text-align: right;\">\n",
       "      <th></th>\n",
       "      <th>FileName</th>\n",
       "      <th>Atelectasis</th>\n",
       "      <th>Cardiomegaly</th>\n",
       "      <th>Effusion</th>\n",
       "      <th>Infiltration</th>\n",
       "      <th>Mass</th>\n",
       "      <th>Nodule</th>\n",
       "      <th>Pneumonia</th>\n",
       "      <th>Pneumothorax</th>\n",
       "      <th>Consolidation</th>\n",
       "      <th>Edema</th>\n",
       "      <th>Emphysema</th>\n",
       "      <th>Fibrosis</th>\n",
       "      <th>Pleural_Thickening</th>\n",
       "      <th>Hernia</th>\n",
       "    </tr>\n",
       "  </thead>\n",
       "  <tbody>\n",
       "    <tr>\n",
       "      <th>0</th>\n",
       "      <td>00000001_000.png</td>\n",
       "      <td>0</td>\n",
       "      <td>1</td>\n",
       "      <td>0</td>\n",
       "      <td>0</td>\n",
       "      <td>0</td>\n",
       "      <td>0</td>\n",
       "      <td>0</td>\n",
       "      <td>0</td>\n",
       "      <td>0</td>\n",
       "      <td>0</td>\n",
       "      <td>0</td>\n",
       "      <td>0</td>\n",
       "      <td>0</td>\n",
       "      <td>0</td>\n",
       "    </tr>\n",
       "    <tr>\n",
       "      <th>1</th>\n",
       "      <td>00000001_001.png</td>\n",
       "      <td>0</td>\n",
       "      <td>1</td>\n",
       "      <td>0</td>\n",
       "      <td>0</td>\n",
       "      <td>0</td>\n",
       "      <td>0</td>\n",
       "      <td>0</td>\n",
       "      <td>0</td>\n",
       "      <td>0</td>\n",
       "      <td>0</td>\n",
       "      <td>1</td>\n",
       "      <td>0</td>\n",
       "      <td>0</td>\n",
       "      <td>0</td>\n",
       "    </tr>\n",
       "    <tr>\n",
       "      <th>2</th>\n",
       "      <td>00000001_002.png</td>\n",
       "      <td>0</td>\n",
       "      <td>1</td>\n",
       "      <td>1</td>\n",
       "      <td>0</td>\n",
       "      <td>0</td>\n",
       "      <td>0</td>\n",
       "      <td>0</td>\n",
       "      <td>0</td>\n",
       "      <td>0</td>\n",
       "      <td>0</td>\n",
       "      <td>0</td>\n",
       "      <td>0</td>\n",
       "      <td>0</td>\n",
       "      <td>0</td>\n",
       "    </tr>\n",
       "    <tr>\n",
       "      <th>3</th>\n",
       "      <td>00000002_000.png</td>\n",
       "      <td>0</td>\n",
       "      <td>0</td>\n",
       "      <td>0</td>\n",
       "      <td>0</td>\n",
       "      <td>0</td>\n",
       "      <td>0</td>\n",
       "      <td>0</td>\n",
       "      <td>0</td>\n",
       "      <td>0</td>\n",
       "      <td>0</td>\n",
       "      <td>0</td>\n",
       "      <td>0</td>\n",
       "      <td>0</td>\n",
       "      <td>0</td>\n",
       "    </tr>\n",
       "    <tr>\n",
       "      <th>4</th>\n",
       "      <td>00000003_000.png</td>\n",
       "      <td>0</td>\n",
       "      <td>0</td>\n",
       "      <td>0</td>\n",
       "      <td>0</td>\n",
       "      <td>0</td>\n",
       "      <td>0</td>\n",
       "      <td>0</td>\n",
       "      <td>0</td>\n",
       "      <td>0</td>\n",
       "      <td>0</td>\n",
       "      <td>0</td>\n",
       "      <td>0</td>\n",
       "      <td>0</td>\n",
       "      <td>1</td>\n",
       "    </tr>\n",
       "  </tbody>\n",
       "</table>\n",
       "</div>"
      ],
      "text/plain": [
       "           FileName  Atelectasis  Cardiomegaly  Effusion  Infiltration  Mass  \\\n",
       "0  00000001_000.png            0             1         0             0     0   \n",
       "1  00000001_001.png            0             1         0             0     0   \n",
       "2  00000001_002.png            0             1         1             0     0   \n",
       "3  00000002_000.png            0             0         0             0     0   \n",
       "4  00000003_000.png            0             0         0             0     0   \n",
       "\n",
       "   Nodule  Pneumonia  Pneumothorax  Consolidation  Edema  Emphysema  Fibrosis  \\\n",
       "0       0          0             0              0      0          0         0   \n",
       "1       0          0             0              0      0          1         0   \n",
       "2       0          0             0              0      0          0         0   \n",
       "3       0          0             0              0      0          0         0   \n",
       "4       0          0             0              0      0          0         0   \n",
       "\n",
       "   Pleural_Thickening  Hernia  \n",
       "0                   0       0  \n",
       "1                   0       0  \n",
       "2                   0       0  \n",
       "3                   0       0  \n",
       "4                   0       1  "
      ]
     },
     "execution_count": 26,
     "metadata": {},
     "output_type": "execute_result"
    }
   ],
   "source": [
    "df = pd.read_csv(master_df_fpath)\n",
    "master_images = set(df['FileName'])\n",
    "print(len(master_images))\n",
    "df.head()"
   ]
  },
  {
   "cell_type": "code",
   "execution_count": 21,
   "metadata": {
    "hidden": true
   },
   "outputs": [],
   "source": [
    "def load_images_from_csv(fpath):\n",
    "    df = pd.read_csv(fpath)\n",
    "    return set(df['FileName'])\n",
    "\n",
    "def load_images_from_txt(fpath):\n",
    "    with open(fpath, 'r') as f:\n",
    "        return set(l.strip() for l in f.readlines())"
   ]
  },
  {
   "cell_type": "code",
   "execution_count": 22,
   "metadata": {
    "hidden": true
   },
   "outputs": [],
   "source": [
    "def check_same_images(split):\n",
    "    df_path = os.path.join(DATASET_DIR, f'{split}_label.csv')\n",
    "    txt_path = os.path.join(DATASET_DIR, 'splits', f'{split}.txt')\n",
    "    \n",
    "    txt_images = load_images_from_txt(txt_path)\n",
    "    csv_images = load_images_from_csv(df_path)\n",
    "    \n",
    "    return txt_images == csv_images"
   ]
  },
  {
   "cell_type": "code",
   "execution_count": 24,
   "metadata": {
    "hidden": true
   },
   "outputs": [
    {
     "data": {
      "text/plain": [
       "(True, True, True)"
      ]
     },
     "execution_count": 24,
     "metadata": {},
     "output_type": "execute_result"
    }
   ],
   "source": [
    "check_same_images('train'), check_same_images('val'), check_same_images('test')"
   ]
  },
  {
   "cell_type": "markdown",
   "metadata": {
    "hidden": true
   },
   "source": [
    "### Create test-bbox splits"
   ]
  },
  {
   "cell_type": "code",
   "execution_count": 28,
   "metadata": {
    "hidden": true
   },
   "outputs": [
    {
     "data": {
      "text/html": [
       "<div>\n",
       "<style scoped>\n",
       "    .dataframe tbody tr th:only-of-type {\n",
       "        vertical-align: middle;\n",
       "    }\n",
       "\n",
       "    .dataframe tbody tr th {\n",
       "        vertical-align: top;\n",
       "    }\n",
       "\n",
       "    .dataframe thead th {\n",
       "        text-align: right;\n",
       "    }\n",
       "</style>\n",
       "<table border=\"1\" class=\"dataframe\">\n",
       "  <thead>\n",
       "    <tr style=\"text-align: right;\">\n",
       "      <th></th>\n",
       "      <th>Image Index</th>\n",
       "      <th>Finding Label</th>\n",
       "      <th>Bbox [x</th>\n",
       "      <th>y</th>\n",
       "      <th>w</th>\n",
       "      <th>h]</th>\n",
       "    </tr>\n",
       "  </thead>\n",
       "  <tbody>\n",
       "    <tr>\n",
       "      <th>0</th>\n",
       "      <td>00013118_008.png</td>\n",
       "      <td>Atelectasis</td>\n",
       "      <td>225.084746</td>\n",
       "      <td>547.019217</td>\n",
       "      <td>86.779661</td>\n",
       "      <td>79.186441</td>\n",
       "    </tr>\n",
       "    <tr>\n",
       "      <th>1</th>\n",
       "      <td>00014716_007.png</td>\n",
       "      <td>Atelectasis</td>\n",
       "      <td>686.101695</td>\n",
       "      <td>131.543498</td>\n",
       "      <td>185.491525</td>\n",
       "      <td>313.491525</td>\n",
       "    </tr>\n",
       "    <tr>\n",
       "      <th>2</th>\n",
       "      <td>00029817_009.png</td>\n",
       "      <td>Atelectasis</td>\n",
       "      <td>221.830508</td>\n",
       "      <td>317.053115</td>\n",
       "      <td>155.118644</td>\n",
       "      <td>216.949153</td>\n",
       "    </tr>\n",
       "    <tr>\n",
       "      <th>3</th>\n",
       "      <td>00014687_001.png</td>\n",
       "      <td>Atelectasis</td>\n",
       "      <td>726.237288</td>\n",
       "      <td>494.951420</td>\n",
       "      <td>141.016949</td>\n",
       "      <td>55.322034</td>\n",
       "    </tr>\n",
       "    <tr>\n",
       "      <th>4</th>\n",
       "      <td>00017877_001.png</td>\n",
       "      <td>Atelectasis</td>\n",
       "      <td>660.067797</td>\n",
       "      <td>569.780787</td>\n",
       "      <td>200.677966</td>\n",
       "      <td>78.101695</td>\n",
       "    </tr>\n",
       "  </tbody>\n",
       "</table>\n",
       "</div>"
      ],
      "text/plain": [
       "        Image Index Finding Label     Bbox [x           y           w  \\\n",
       "0  00013118_008.png   Atelectasis  225.084746  547.019217   86.779661   \n",
       "1  00014716_007.png   Atelectasis  686.101695  131.543498  185.491525   \n",
       "2  00029817_009.png   Atelectasis  221.830508  317.053115  155.118644   \n",
       "3  00014687_001.png   Atelectasis  726.237288  494.951420  141.016949   \n",
       "4  00017877_001.png   Atelectasis  660.067797  569.780787  200.677966   \n",
       "\n",
       "           h]  \n",
       "0   79.186441  \n",
       "1  313.491525  \n",
       "2  216.949153  \n",
       "3   55.322034  \n",
       "4   78.101695  "
      ]
     },
     "execution_count": 28,
     "metadata": {},
     "output_type": "execute_result"
    }
   ],
   "source": [
    "bbox_df = pd.read_csv(os.path.join(DATASET_DIR, 'BBox_List_2017.csv'))\n",
    "bbox_df.drop(columns=[c for c in bbox_df.columns if 'Unnamed' in c], inplace=True)\n",
    "bbox_df.head()"
   ]
  },
  {
   "cell_type": "code",
   "execution_count": 29,
   "metadata": {
    "hidden": true
   },
   "outputs": [
    {
     "data": {
      "text/plain": [
       "880"
      ]
     },
     "execution_count": 29,
     "metadata": {},
     "output_type": "execute_result"
    }
   ],
   "source": [
    "images_with_bbox = list(set(bbox_df['Image Index']))\n",
    "len(images_with_bbox)"
   ]
  },
  {
   "cell_type": "code",
   "execution_count": 30,
   "metadata": {
    "hidden": true
   },
   "outputs": [],
   "source": [
    "fpath = os.path.join(DATASET_DIR, 'splits', 'test-bbox.txt')\n",
    "with open(fpath, 'w') as f:\n",
    "    for image in images_with_bbox:\n",
    "        f.write(f'{image}\\n')"
   ]
  },
  {
   "cell_type": "code",
   "execution_count": null,
   "metadata": {
    "hidden": true
   },
   "outputs": [],
   "source": []
  },
  {
   "cell_type": "code",
   "execution_count": null,
   "metadata": {
    "hidden": true
   },
   "outputs": [],
   "source": []
  },
  {
   "cell_type": "code",
   "execution_count": null,
   "metadata": {
    "hidden": true
   },
   "outputs": [],
   "source": []
  },
  {
   "cell_type": "markdown",
   "metadata": {
    "heading_collapsed": true
   },
   "source": [
    "## Calculate mean and std"
   ]
  },
  {
   "cell_type": "code",
   "execution_count": 5,
   "metadata": {
    "hidden": true
   },
   "outputs": [],
   "source": [
    "%run ../cxr14.py\n",
    "%run ../../utils/images.py"
   ]
  },
  {
   "cell_type": "code",
   "execution_count": 6,
   "metadata": {
    "hidden": true
   },
   "outputs": [
    {
     "data": {
      "text/plain": [
       "75714"
      ]
     },
     "execution_count": 6,
     "metadata": {},
     "output_type": "execute_result"
    }
   ],
   "source": [
    "dataset = CXR14Dataset('train')\n",
    "len(dataset)"
   ]
  },
  {
   "cell_type": "code",
   "execution_count": 7,
   "metadata": {
    "hidden": true
   },
   "outputs": [
    {
     "data": {
      "text/plain": [
       "75714"
      ]
     },
     "execution_count": 7,
     "metadata": {},
     "output_type": "execute_result"
    }
   ],
   "source": [
    "train_images = list(dataset.label_index['FileName'])\n",
    "len(train_images)"
   ]
  },
  {
   "cell_type": "code",
   "execution_count": 11,
   "metadata": {
    "hidden": true
   },
   "outputs": [
    {
     "data": {
      "application/vnd.jupyter.widget-view+json": {
       "model_id": "e75bef9048744a9d8870180ce0c756da",
       "version_major": 2,
       "version_minor": 0
      },
      "text/plain": [
       "HBox(children=(FloatProgress(value=0.0, max=75714.0), HTML(value='')))"
      ]
     },
     "metadata": {},
     "output_type": "display_data"
    },
    {
     "name": "stdout",
     "output_type": "stream",
     "text": [
      "\n"
     ]
    },
    {
     "data": {
      "text/plain": [
       "(tensor([0.5058, 0.5058, 0.5058]), tensor([0.2320, 0.2320, 0.2320]))"
      ]
     },
     "execution_count": 11,
     "metadata": {},
     "output_type": "execute_result"
    }
   ],
   "source": [
    "mean, std = compute_mean_std(ImageFolderIterator(images_dir, train_images), show=True)\n",
    "mean, std"
   ]
  },
  {
   "cell_type": "code",
   "execution_count": 12,
   "metadata": {
    "hidden": true
   },
   "outputs": [
    {
     "name": "stdout",
     "output_type": "stream",
     "text": [
      "tensor([0.5058, 0.5058, 0.5058])\n",
      "tensor([0.2320, 0.2320, 0.2320])\n"
     ]
    }
   ],
   "source": [
    "print(mean)\n",
    "print(std)"
   ]
  },
  {
   "cell_type": "code",
   "execution_count": null,
   "metadata": {
    "hidden": true
   },
   "outputs": [],
   "source": []
  },
  {
   "cell_type": "code",
   "execution_count": null,
   "metadata": {
    "hidden": true
   },
   "outputs": [],
   "source": []
  },
  {
   "cell_type": "markdown",
   "metadata": {},
   "source": [
    "## Load class `CXR14Dataset`"
   ]
  },
  {
   "cell_type": "code",
   "execution_count": 4,
   "metadata": {},
   "outputs": [],
   "source": [
    "from tqdm.notebook import tqdm"
   ]
  },
  {
   "cell_type": "code",
   "execution_count": 5,
   "metadata": {},
   "outputs": [],
   "source": [
    "%run ../cxr14.py\n",
    "%run ../__init__.py"
   ]
  },
  {
   "cell_type": "code",
   "execution_count": 7,
   "metadata": {},
   "outputs": [
    {
     "name": "stdout",
     "output_type": "stream",
     "text": [
      "Loading cxr14/test-bbox dataset...\n"
     ]
    },
    {
     "data": {
      "text/plain": [
       "880"
      ]
     },
     "execution_count": 7,
     "metadata": {},
     "output_type": "execute_result"
    }
   ],
   "source": [
    "kwargs = {\n",
    "    'dataset_name': 'cxr14',\n",
    "    'dataset_type': 'test-bbox',\n",
    "    'batch_size': 40,\n",
    "    'masks': True,\n",
    "}\n",
    "\n",
    "dataloader = prepare_data_classification(**kwargs)\n",
    "len(dataloader.dataset)"
   ]
  },
  {
   "cell_type": "code",
   "execution_count": 10,
   "metadata": {},
   "outputs": [],
   "source": [
    "%run ../cxr14.py"
   ]
  },
  {
   "cell_type": "code",
   "execution_count": 11,
   "metadata": {},
   "outputs": [
    {
     "data": {
      "text/plain": [
       "25596"
      ]
     },
     "execution_count": 11,
     "metadata": {},
     "output_type": "execute_result"
    }
   ],
   "source": [
    "dataset = CXR14Dataset('test', norm_by_sample=True, masks=True)\n",
    "len(dataset)"
   ]
  },
  {
   "cell_type": "code",
   "execution_count": 12,
   "metadata": {},
   "outputs": [
    {
     "data": {
      "text/plain": [
       "tensor([[[ 61,  46,  33,  ...,  14,  15,   7],\n",
       "         [ 61,  46,  34,  ...,  14,  15,   7],\n",
       "         [ 60,  45,  33,  ...,  15,  15,   6],\n",
       "         ...,\n",
       "         [ 30,  30,  30,  ..., 191, 211, 189],\n",
       "         [ 41,  42,  42,  ..., 193, 212, 189],\n",
       "         [ 54,  53,  54,  ..., 193, 213, 190]]])"
      ]
     },
     "execution_count": 12,
     "metadata": {},
     "output_type": "execute_result"
    }
   ],
   "source": [
    "item = dataset[0]\n",
    "item.masks"
   ]
  },
  {
   "cell_type": "code",
   "execution_count": 13,
   "metadata": {},
   "outputs": [
    {
     "data": {
      "text/plain": [
       "torch.Size([1, 512, 512])"
      ]
     },
     "execution_count": 13,
     "metadata": {},
     "output_type": "execute_result"
    }
   ],
   "source": [
    "item.masks.size()"
   ]
  },
  {
   "cell_type": "code",
   "execution_count": null,
   "metadata": {},
   "outputs": [],
   "source": []
  },
  {
   "cell_type": "code",
   "execution_count": null,
   "metadata": {},
   "outputs": [],
   "source": []
  },
  {
   "cell_type": "code",
   "execution_count": 4,
   "metadata": {},
   "outputs": [
    {
     "data": {
      "application/vnd.jupyter.widget-view+json": {
       "model_id": "29d801d916fd47cf925a989aa8e2a258",
       "version_major": 2,
       "version_minor": 0
      },
      "text/plain": [
       "HBox(children=(FloatProgress(value=0.0, max=640.0), HTML(value='')))"
      ]
     },
     "metadata": {},
     "output_type": "display_data"
    },
    {
     "name": "stdout",
     "output_type": "stream",
     "text": [
      "\n"
     ]
    }
   ],
   "source": [
    "for index, batch in enumerate(tqdm(dataloader)):\n",
    "    pass"
   ]
  },
  {
   "cell_type": "code",
   "execution_count": 6,
   "metadata": {},
   "outputs": [
    {
     "data": {
      "text/plain": [
       "1"
      ]
     },
     "execution_count": 6,
     "metadata": {},
     "output_type": "execute_result"
    }
   ],
   "source": [
    "index"
   ]
  },
  {
   "cell_type": "code",
   "execution_count": 58,
   "metadata": {},
   "outputs": [],
   "source": [
    "item = dataset[3]"
   ]
  },
  {
   "cell_type": "code",
   "execution_count": 60,
   "metadata": {},
   "outputs": [
    {
     "data": {
      "text/plain": [
       "(tensor([4.4136e-05, 4.4136e-05, 4.4136e-05]),\n",
       " tensor([1.0000, 1.0000, 1.0000]))"
      ]
     },
     "execution_count": 60,
     "metadata": {},
     "output_type": "execute_result"
    }
   ],
   "source": [
    "sample = item.image.view(3, -1)\n",
    "sample.mean(-1), sample.std(-1)"
   ]
  },
  {
   "cell_type": "code",
   "execution_count": null,
   "metadata": {},
   "outputs": [],
   "source": []
  },
  {
   "cell_type": "code",
   "execution_count": null,
   "metadata": {},
   "outputs": [],
   "source": []
  },
  {
   "cell_type": "markdown",
   "metadata": {
    "heading_collapsed": true
   },
   "source": [
    "## Debug Undersampler"
   ]
  },
  {
   "cell_type": "code",
   "execution_count": 9,
   "metadata": {
    "hidden": true
   },
   "outputs": [],
   "source": [
    "from torch.utils.data import DataLoader"
   ]
  },
  {
   "cell_type": "code",
   "execution_count": 6,
   "metadata": {
    "hidden": true
   },
   "outputs": [],
   "source": [
    "%run cxr14.py"
   ]
  },
  {
   "cell_type": "code",
   "execution_count": 56,
   "metadata": {
    "hidden": true
   },
   "outputs": [
    {
     "data": {
      "text/plain": [
       "10"
      ]
     },
     "execution_count": 56,
     "metadata": {},
     "output_type": "execute_result"
    }
   ],
   "source": [
    "dataset = CXR14Dataset('train', labels=['Atelectasis'], max_samples=10)\n",
    "len(dataset)"
   ]
  },
  {
   "cell_type": "code",
   "execution_count": 59,
   "metadata": {
    "hidden": true
   },
   "outputs": [
    {
     "data": {
      "text/plain": [
       "[(0, 1),\n",
       " (1, 0),\n",
       " (2, 0),\n",
       " (3, 0),\n",
       " (4, 0),\n",
       " (5, 0),\n",
       " (6, 0),\n",
       " (7, 0),\n",
       " (8, 0),\n",
       " (9, 0)]"
      ]
     },
     "execution_count": 59,
     "metadata": {},
     "output_type": "execute_result"
    }
   ],
   "source": [
    "dataset.get_labels_presence_for(0)"
   ]
  },
  {
   "cell_type": "code",
   "execution_count": 61,
   "metadata": {
    "hidden": true
   },
   "outputs": [],
   "source": [
    "%run augmentation.py"
   ]
  },
  {
   "cell_type": "code",
   "execution_count": 62,
   "metadata": {
    "hidden": true
   },
   "outputs": [
    {
     "name": "stdout",
     "output_type": "stream",
     "text": [
      "\tAugmenting all samples\n"
     ]
    },
    {
     "data": {
      "text/plain": [
       "60"
      ]
     },
     "execution_count": 62,
     "metadata": {},
     "output_type": "execute_result"
    }
   ],
   "source": [
    "dataset_aug = Augmentator(dataset)\n",
    "len(dataset_aug)"
   ]
  },
  {
   "cell_type": "code",
   "execution_count": 63,
   "metadata": {
    "collapsed": true,
    "hidden": true
   },
   "outputs": [
    {
     "data": {
      "text/plain": [
       "[(0, 0),\n",
       " (1, 0),\n",
       " (2, 0),\n",
       " (3, 0),\n",
       " (4, 0),\n",
       " (5, 1),\n",
       " (6, 0),\n",
       " (7, 0),\n",
       " (8, 0),\n",
       " (9, 1),\n",
       " (10, 0),\n",
       " (11, 0),\n",
       " (12, 0),\n",
       " (13, 0),\n",
       " (14, 0),\n",
       " (15, 0),\n",
       " (16, 0),\n",
       " (17, 1),\n",
       " (18, 0),\n",
       " (19, 0),\n",
       " (20, 0),\n",
       " (21, 0),\n",
       " (22, 0),\n",
       " (23, 0),\n",
       " (24, 0),\n",
       " (25, 0),\n",
       " (26, 0),\n",
       " (27, 0),\n",
       " (28, 0),\n",
       " (29, 0),\n",
       " (30, 0),\n",
       " (31, 0),\n",
       " (32, 0),\n",
       " (33, 0),\n",
       " (34, 0),\n",
       " (35, 0),\n",
       " (36, 1),\n",
       " (37, 0),\n",
       " (38, 0),\n",
       " (39, 0),\n",
       " (40, 0),\n",
       " (41, 0),\n",
       " (42, 0),\n",
       " (43, 0),\n",
       " (44, 0),\n",
       " (45, 0),\n",
       " (46, 1),\n",
       " (47, 0),\n",
       " (48, 0),\n",
       " (49, 0),\n",
       " (50, 0),\n",
       " (51, 0),\n",
       " (52, 0),\n",
       " (53, 0),\n",
       " (54, 1),\n",
       " (55, 0),\n",
       " (56, 0),\n",
       " (57, 0),\n",
       " (58, 0),\n",
       " (59, 0)]"
      ]
     },
     "execution_count": 63,
     "metadata": {},
     "output_type": "execute_result"
    }
   ],
   "source": [
    "dataset_aug.get_labels_presence_for(0)"
   ]
  },
  {
   "cell_type": "code",
   "execution_count": null,
   "metadata": {
    "hidden": true
   },
   "outputs": [],
   "source": []
  },
  {
   "cell_type": "code",
   "execution_count": 64,
   "metadata": {
    "hidden": true
   },
   "outputs": [],
   "source": [
    "%run undersampler.py"
   ]
  },
  {
   "cell_type": "code",
   "execution_count": 66,
   "metadata": {
    "hidden": true
   },
   "outputs": [
    {
     "name": "stdout",
     "output_type": "stream",
     "text": [
      "\tUndersampling Atelectasis (negative): positives=6 negatives=54 new-total=12 original=60\n"
     ]
    },
    {
     "data": {
      "text/plain": [
       "[43, 25, 30, 5, 17, 46, 36, 27, 9, 56, 54, 8]"
      ]
     },
     "execution_count": 66,
     "metadata": {},
     "output_type": "execute_result"
    }
   ],
   "source": [
    "sampler = OneLabelUnderSampler(dataset_aug, label=0)\n",
    "dataloader = DataLoader(dataset_aug, batch_size=2, sampler=sampler)\n",
    "sampler.resampled_indexes"
   ]
  },
  {
   "cell_type": "code",
   "execution_count": 20,
   "metadata": {
    "hidden": true
   },
   "outputs": [
    {
     "name": "stdout",
     "output_type": "stream",
     "text": [
      "tensor([[0],\n",
      "        [1]])\n"
     ]
    }
   ],
   "source": [
    "for batch in dataloader:\n",
    "    print(batch[1])"
   ]
  },
  {
   "cell_type": "code",
   "execution_count": null,
   "metadata": {
    "hidden": true
   },
   "outputs": [],
   "source": []
  },
  {
   "cell_type": "markdown",
   "metadata": {
    "heading_collapsed": true
   },
   "source": [
    "## Debug bounding-boxes"
   ]
  },
  {
   "cell_type": "code",
   "execution_count": 3,
   "metadata": {
    "hidden": true
   },
   "outputs": [],
   "source": [
    "import json"
   ]
  },
  {
   "cell_type": "code",
   "execution_count": 4,
   "metadata": {
    "hidden": true
   },
   "outputs": [],
   "source": [
    "bbox_fpath = os.path.join(DATASET_DIR, 'BBox_List_2017.csv')"
   ]
  },
  {
   "cell_type": "code",
   "execution_count": 5,
   "metadata": {
    "hidden": true
   },
   "outputs": [
    {
     "data": {
      "text/html": [
       "<div>\n",
       "<style scoped>\n",
       "    .dataframe tbody tr th:only-of-type {\n",
       "        vertical-align: middle;\n",
       "    }\n",
       "\n",
       "    .dataframe tbody tr th {\n",
       "        vertical-align: top;\n",
       "    }\n",
       "\n",
       "    .dataframe thead th {\n",
       "        text-align: right;\n",
       "    }\n",
       "</style>\n",
       "<table border=\"1\" class=\"dataframe\">\n",
       "  <thead>\n",
       "    <tr style=\"text-align: right;\">\n",
       "      <th></th>\n",
       "      <th>Image Index</th>\n",
       "      <th>Finding Label</th>\n",
       "      <th>Bbox [x</th>\n",
       "      <th>y</th>\n",
       "      <th>w</th>\n",
       "      <th>h]</th>\n",
       "    </tr>\n",
       "  </thead>\n",
       "  <tbody>\n",
       "    <tr>\n",
       "      <th>0</th>\n",
       "      <td>00013118_008.png</td>\n",
       "      <td>Atelectasis</td>\n",
       "      <td>225.084746</td>\n",
       "      <td>547.019217</td>\n",
       "      <td>86.779661</td>\n",
       "      <td>79.186441</td>\n",
       "    </tr>\n",
       "    <tr>\n",
       "      <th>1</th>\n",
       "      <td>00014716_007.png</td>\n",
       "      <td>Atelectasis</td>\n",
       "      <td>686.101695</td>\n",
       "      <td>131.543498</td>\n",
       "      <td>185.491525</td>\n",
       "      <td>313.491525</td>\n",
       "    </tr>\n",
       "    <tr>\n",
       "      <th>2</th>\n",
       "      <td>00029817_009.png</td>\n",
       "      <td>Atelectasis</td>\n",
       "      <td>221.830508</td>\n",
       "      <td>317.053115</td>\n",
       "      <td>155.118644</td>\n",
       "      <td>216.949153</td>\n",
       "    </tr>\n",
       "    <tr>\n",
       "      <th>3</th>\n",
       "      <td>00014687_001.png</td>\n",
       "      <td>Atelectasis</td>\n",
       "      <td>726.237288</td>\n",
       "      <td>494.951420</td>\n",
       "      <td>141.016949</td>\n",
       "      <td>55.322034</td>\n",
       "    </tr>\n",
       "    <tr>\n",
       "      <th>4</th>\n",
       "      <td>00017877_001.png</td>\n",
       "      <td>Atelectasis</td>\n",
       "      <td>660.067797</td>\n",
       "      <td>569.780787</td>\n",
       "      <td>200.677966</td>\n",
       "      <td>78.101695</td>\n",
       "    </tr>\n",
       "  </tbody>\n",
       "</table>\n",
       "</div>"
      ],
      "text/plain": [
       "        Image Index Finding Label     Bbox [x           y           w  \\\n",
       "0  00013118_008.png   Atelectasis  225.084746  547.019217   86.779661   \n",
       "1  00014716_007.png   Atelectasis  686.101695  131.543498  185.491525   \n",
       "2  00029817_009.png   Atelectasis  221.830508  317.053115  155.118644   \n",
       "3  00014687_001.png   Atelectasis  726.237288  494.951420  141.016949   \n",
       "4  00017877_001.png   Atelectasis  660.067797  569.780787  200.677966   \n",
       "\n",
       "           h]  \n",
       "0   79.186441  \n",
       "1  313.491525  \n",
       "2  216.949153  \n",
       "3   55.322034  \n",
       "4   78.101695  "
      ]
     },
     "execution_count": 5,
     "metadata": {},
     "output_type": "execute_result"
    }
   ],
   "source": [
    "df = pd.read_csv(bbox_fpath)\n",
    "df.drop(columns=[c for c in df.columns if 'Unnamed' in c], inplace=True)\n",
    "df.head()"
   ]
  },
  {
   "cell_type": "code",
   "execution_count": 6,
   "metadata": {
    "hidden": true
   },
   "outputs": [],
   "source": [
    "MAPPING = {\n",
    "    'Infiltrate': 'Infiltration',\n",
    "}"
   ]
  },
  {
   "cell_type": "code",
   "execution_count": 10,
   "metadata": {
    "hidden": true
   },
   "outputs": [],
   "source": [
    "bbs_by_image = {}\n",
    "ds = set()\n",
    "\n",
    "for index, row in df.iterrows():\n",
    "    image_name, disease, x, y, w, h = row\n",
    "\n",
    "    if image_name not in bbs_by_image:\n",
    "        bbs_by_image[image_name] = {}\n",
    "    \n",
    "    disease = MAPPING.get(disease, disease)\n",
    "    ds.add(disease)\n",
    "    \n",
    "    bbs_by_image[image_name][disease] = [x, y, w, h]"
   ]
  },
  {
   "cell_type": "code",
   "execution_count": 8,
   "metadata": {
    "hidden": true
   },
   "outputs": [],
   "source": [
    "filepath = os.path.join(DATASET_DIR, 'bbox_by_image_by_disease.json')\n",
    "with open(filepath, 'w') as f:\n",
    "    json.dump(bbs_by_image, f)"
   ]
  },
  {
   "cell_type": "code",
   "execution_count": null,
   "metadata": {
    "hidden": true
   },
   "outputs": [],
   "source": []
  }
 ],
 "metadata": {
  "kernelspec": {
   "display_name": "Python 3",
   "language": "python",
   "name": "python3"
  },
  "language_info": {
   "codemirror_mode": {
    "name": "ipython",
    "version": 3
   },
   "file_extension": ".py",
   "mimetype": "text/x-python",
   "name": "python",
   "nbconvert_exporter": "python",
   "pygments_lexer": "ipython3",
   "version": "3.6.9"
  },
  "toc": {
   "base_numbering": 1,
   "nav_menu": {},
   "number_sections": true,
   "sideBar": true,
   "skip_h1_title": false,
   "title_cell": "Table of Contents",
   "title_sidebar": "Contents",
   "toc_cell": false,
   "toc_position": {},
   "toc_section_display": true,
   "toc_window_display": false
  }
 },
 "nbformat": 4,
 "nbformat_minor": 4
}
