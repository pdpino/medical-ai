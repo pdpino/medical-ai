{
 "cells": [
  {
   "cell_type": "markdown",
   "metadata": {},
   "source": [
    "## Imports"
   ]
  },
  {
   "cell_type": "code",
   "execution_count": null,
   "metadata": {},
   "outputs": [],
   "source": [
    "import torch\n",
    "import pandas as pd\n",
    "import numpy as np\n",
    "import os\n",
    "import matplotlib.pyplot as plt"
   ]
  },
  {
   "cell_type": "code",
   "execution_count": null,
   "metadata": {},
   "outputs": [],
   "source": [
    "import matplotlib\n",
    "matplotlib.rcParams['figure.facecolor'] = 'white'"
   ]
  },
  {
   "cell_type": "code",
   "execution_count": null,
   "metadata": {},
   "outputs": [],
   "source": [
    "%run ../cxr14.py"
   ]
  },
  {
   "cell_type": "markdown",
   "metadata": {
    "heading_collapsed": true
   },
   "source": [
    "## Split dataframe"
   ]
  },
  {
   "cell_type": "markdown",
   "metadata": {
    "hidden": true
   },
   "source": [
    "### Check splits are correct"
   ]
  },
  {
   "cell_type": "code",
   "execution_count": null,
   "metadata": {
    "hidden": true
   },
   "outputs": [],
   "source": [
    "master_df_fpath = os.path.join(DATASET_DIR, 'label_index.csv')\n",
    "train_df_fpath = os.path.join(DATASET_DIR, 'train_label.csv')\n",
    "val_df_fpath = os.path.join(DATASET_DIR, 'val_label.csv')\n",
    "test_df_fpath = os.path.join(DATASET_DIR, 'test_label.csv')"
   ]
  },
  {
   "cell_type": "code",
   "execution_count": null,
   "metadata": {
    "hidden": true
   },
   "outputs": [],
   "source": [
    "df = pd.read_csv(master_df_fpath)\n",
    "master_images = set(df['FileName'])\n",
    "print(len(master_images))\n",
    "df.head()"
   ]
  },
  {
   "cell_type": "code",
   "execution_count": null,
   "metadata": {
    "hidden": true
   },
   "outputs": [],
   "source": [
    "def load_images_from_csv(fpath):\n",
    "    df = pd.read_csv(fpath)\n",
    "    return set(df['FileName'])\n",
    "\n",
    "def load_images_from_txt(fpath):\n",
    "    with open(fpath, 'r') as f:\n",
    "        return set(l.strip() for l in f.readlines())"
   ]
  },
  {
   "cell_type": "code",
   "execution_count": null,
   "metadata": {
    "hidden": true
   },
   "outputs": [],
   "source": [
    "def check_same_images(split):\n",
    "    df_path = os.path.join(DATASET_DIR, f'{split}_label.csv')\n",
    "    txt_path = os.path.join(DATASET_DIR, 'splits', f'{split}.txt')\n",
    "    \n",
    "    txt_images = load_images_from_txt(txt_path)\n",
    "    csv_images = load_images_from_csv(df_path)\n",
    "    \n",
    "    return txt_images == csv_images"
   ]
  },
  {
   "cell_type": "code",
   "execution_count": null,
   "metadata": {
    "hidden": true
   },
   "outputs": [],
   "source": [
    "check_same_images('train'), check_same_images('val'), check_same_images('test')"
   ]
  },
  {
   "cell_type": "markdown",
   "metadata": {
    "hidden": true
   },
   "source": [
    "### Create test-bbox splits"
   ]
  },
  {
   "cell_type": "code",
   "execution_count": null,
   "metadata": {
    "hidden": true
   },
   "outputs": [],
   "source": [
    "bbox_df = pd.read_csv(os.path.join(DATASET_DIR, 'BBox_List_2017.csv'))\n",
    "bbox_df.drop(columns=[c for c in bbox_df.columns if 'Unnamed' in c], inplace=True)\n",
    "bbox_df.head()"
   ]
  },
  {
   "cell_type": "code",
   "execution_count": null,
   "metadata": {
    "hidden": true
   },
   "outputs": [],
   "source": [
    "images_with_bbox = list(set(bbox_df['Image Index']))\n",
    "len(images_with_bbox)"
   ]
  },
  {
   "cell_type": "code",
   "execution_count": null,
   "metadata": {
    "hidden": true
   },
   "outputs": [],
   "source": [
    "fpath = os.path.join(DATASET_DIR, 'splits', 'test-bbox.txt')\n",
    "with open(fpath, 'w') as f:\n",
    "    for image in images_with_bbox:\n",
    "        f.write(f'{image}\\n')"
   ]
  },
  {
   "cell_type": "code",
   "execution_count": null,
   "metadata": {
    "hidden": true
   },
   "outputs": [],
   "source": []
  },
  {
   "cell_type": "markdown",
   "metadata": {
    "hidden": true
   },
   "source": [
    "### Create all split"
   ]
  },
  {
   "cell_type": "code",
   "execution_count": null,
   "metadata": {
    "hidden": true
   },
   "outputs": [],
   "source": [
    "fpath = os.path.join(DATASET_DIR, 'splits', 'all.txt')\n",
    "\n",
    "with open(fpath, 'w') as f:\n",
    "    for image_name in master_images:\n",
    "        f.write(f'{image_name}\\n')\n",
    "    \n",
    "len(master_images)"
   ]
  },
  {
   "cell_type": "code",
   "execution_count": null,
   "metadata": {
    "hidden": true
   },
   "outputs": [],
   "source": []
  },
  {
   "cell_type": "code",
   "execution_count": null,
   "metadata": {
    "hidden": true
   },
   "outputs": [],
   "source": []
  },
  {
   "cell_type": "code",
   "execution_count": null,
   "metadata": {
    "hidden": true
   },
   "outputs": [],
   "source": []
  },
  {
   "cell_type": "markdown",
   "metadata": {
    "heading_collapsed": true
   },
   "source": [
    "## Calculate mean and std"
   ]
  },
  {
   "cell_type": "code",
   "execution_count": null,
   "metadata": {
    "hidden": true
   },
   "outputs": [],
   "source": [
    "%run ../cxr14.py\n",
    "%run ../../utils/images.py"
   ]
  },
  {
   "cell_type": "code",
   "execution_count": null,
   "metadata": {
    "hidden": true
   },
   "outputs": [],
   "source": [
    "dataset = CXR14Dataset('train')\n",
    "len(dataset)"
   ]
  },
  {
   "cell_type": "code",
   "execution_count": null,
   "metadata": {
    "hidden": true
   },
   "outputs": [],
   "source": [
    "train_images = list(dataset.label_index['FileName'])\n",
    "len(train_images)"
   ]
  },
  {
   "cell_type": "code",
   "execution_count": null,
   "metadata": {
    "hidden": true
   },
   "outputs": [],
   "source": [
    "mean, std = compute_mean_std(ImageFolderIterator(images_dir, train_images), show=True)\n",
    "mean, std"
   ]
  },
  {
   "cell_type": "code",
   "execution_count": null,
   "metadata": {
    "hidden": true
   },
   "outputs": [],
   "source": [
    "print(mean)\n",
    "print(std)"
   ]
  },
  {
   "cell_type": "code",
   "execution_count": null,
   "metadata": {
    "hidden": true
   },
   "outputs": [],
   "source": []
  },
  {
   "cell_type": "markdown",
   "metadata": {
    "heading_collapsed": true
   },
   "source": [
    "## Load class `CXR14Dataset`"
   ]
  },
  {
   "cell_type": "code",
   "execution_count": null,
   "metadata": {
    "hidden": true
   },
   "outputs": [],
   "source": [
    "%run ../cxr14.py"
   ]
  },
  {
   "cell_type": "code",
   "execution_count": null,
   "metadata": {
    "hidden": true
   },
   "outputs": [],
   "source": [
    "kwargs = {\n",
    "    'dataset_type': 'train',\n",
    "    'masks': True,\n",
    "    'masks_version': 'v2',\n",
    "}\n",
    "\n",
    "dataset = CXR14Dataset(**kwargs)\n",
    "len(dataset)"
   ]
  },
  {
   "cell_type": "markdown",
   "metadata": {
    "hidden": true
   },
   "source": [
    "### Plot example"
   ]
  },
  {
   "cell_type": "code",
   "execution_count": null,
   "metadata": {
    "hidden": true
   },
   "outputs": [],
   "source": [
    "%run ../../utils/__init__.py\n",
    "%run ../../utils/images.py"
   ]
  },
  {
   "cell_type": "code",
   "execution_count": null,
   "metadata": {
    "hidden": true
   },
   "outputs": [],
   "source": [
    "item = dataset[300]\n",
    "item.image.size(), item.masks.size(), item.image_fname"
   ]
  },
  {
   "cell_type": "code",
   "execution_count": null,
   "metadata": {
    "hidden": true
   },
   "outputs": [],
   "source": [
    "plt.figure(figsize=(15, 5))\n",
    "\n",
    "plt.subplot(1, 2, 1)\n",
    "plt.imshow(tensor_to_range01(item.image).permute(1, 2, 0))\n",
    "plt.axis('off')\n",
    "\n",
    "plt.subplot(1, 2, 2)\n",
    "plt.imshow(squeeze_masks(item.masks))\n",
    "plt.axis('off')"
   ]
  },
  {
   "cell_type": "code",
   "execution_count": null,
   "metadata": {
    "hidden": true
   },
   "outputs": [],
   "source": []
  },
  {
   "cell_type": "markdown",
   "metadata": {
    "hidden": true
   },
   "source": [
    "### Label distribution"
   ]
  },
  {
   "cell_type": "code",
   "execution_count": null,
   "metadata": {
    "hidden": true
   },
   "outputs": [],
   "source": [
    "df = dataset.label_index\n",
    "df.head()"
   ]
  },
  {
   "cell_type": "code",
   "execution_count": null,
   "metadata": {
    "hidden": true
   },
   "outputs": [],
   "source": [
    "some_disease = df[CXR14_DISEASES].max(axis=1)\n",
    "some_disease.sum()"
   ]
  },
  {
   "cell_type": "code",
   "execution_count": null,
   "metadata": {
    "hidden": true,
    "jupyter": {
     "outputs_hidden": true
    }
   },
   "outputs": [],
   "source": [
    "pos_samples = df[CXR14_DISEASES].sum(axis=0)\n",
    "neg_samples = len(df) - pos_samples\n",
    "pos_samples, neg_samples"
   ]
  },
  {
   "cell_type": "code",
   "execution_count": null,
   "metadata": {
    "hidden": true
   },
   "outputs": [],
   "source": [
    "neg_samples // pos_samples"
   ]
  },
  {
   "cell_type": "code",
   "execution_count": null,
   "metadata": {
    "hidden": true
   },
   "outputs": [],
   "source": []
  },
  {
   "cell_type": "markdown",
   "metadata": {
    "hidden": true
   },
   "source": [
    "### Clahe images"
   ]
  },
  {
   "cell_type": "code",
   "execution_count": null,
   "metadata": {
    "hidden": true
   },
   "outputs": [],
   "source": [
    "%run ../cxr14.py\n",
    "%run ../../utils/__init__.py"
   ]
  },
  {
   "cell_type": "code",
   "execution_count": null,
   "metadata": {
    "hidden": true
   },
   "outputs": [],
   "source": [
    "kwargs = {\n",
    "    'dataset_type': 'test-bbox',\n",
    "    'norm_by_sample': True,\n",
    "    'masks': False,\n",
    "}\n",
    "\n",
    "dataset = CXR14Dataset(**kwargs)\n",
    "clahe_dataset = CXR14Dataset(images_version='clahe', **kwargs)\n",
    "\n",
    "len(dataset), len(clahe_dataset)"
   ]
  },
  {
   "cell_type": "code",
   "execution_count": null,
   "metadata": {
    "hidden": true
   },
   "outputs": [],
   "source": [
    "plt.figure(figsize=(15, 5))\n",
    "\n",
    "idx = 50\n",
    "\n",
    "item = dataset[idx]\n",
    "\n",
    "plt.subplot(1, 2, 1)\n",
    "plt.title('Normal')\n",
    "plt.imshow(tensor_to_range01(item.image).permute(1, 2, 0))\n",
    "plt.axis('off')\n",
    "\n",
    "\n",
    "item = clahe_dataset[idx]\n",
    "plt.subplot(1, 2, 2)\n",
    "plt.title('CLAHE')\n",
    "plt.imshow(tensor_to_range01(item.image).permute(1, 2, 0))\n",
    "plt.axis('off')"
   ]
  },
  {
   "cell_type": "code",
   "execution_count": null,
   "metadata": {
    "hidden": true
   },
   "outputs": [],
   "source": []
  },
  {
   "cell_type": "code",
   "execution_count": null,
   "metadata": {
    "hidden": true
   },
   "outputs": [],
   "source": []
  },
  {
   "cell_type": "markdown",
   "metadata": {
    "hidden": true
   },
   "source": [
    "### Debug organ-mask-reducing"
   ]
  },
  {
   "cell_type": "code",
   "execution_count": null,
   "metadata": {
    "hidden": true
   },
   "outputs": [],
   "source": [
    "%run ../cxr14.py"
   ]
  },
  {
   "cell_type": "code",
   "execution_count": null,
   "metadata": {
    "hidden": true
   },
   "outputs": [],
   "source": [
    "dataset = CXR14Dataset('test-bbox', norm_by_sample=True, masks=True)\n",
    "len(dataset)"
   ]
  },
  {
   "cell_type": "code",
   "execution_count": null,
   "metadata": {
    "hidden": true
   },
   "outputs": [],
   "source": [
    "item = dataset[1]\n",
    "item.masks.size()"
   ]
  },
  {
   "cell_type": "code",
   "execution_count": null,
   "metadata": {
    "hidden": true
   },
   "outputs": [],
   "source": [
    "plt.figure(figsize=(15, 5))\n",
    "\n",
    "for i, m in enumerate(item.masks):\n",
    "    plt.subplot(1, 4, i+1)\n",
    "    plt.imshow(m)\n",
    "    plt.axis('off')"
   ]
  },
  {
   "cell_type": "code",
   "execution_count": null,
   "metadata": {
    "hidden": true
   },
   "outputs": [],
   "source": [
    "reduced_masks = dataset.reduce_masks_for_disease('Edema', item.masks)\n",
    "print(reduced_masks.size())\n",
    "\n",
    "plt.imshow(reduced_masks)"
   ]
  },
  {
   "cell_type": "code",
   "execution_count": null,
   "metadata": {
    "hidden": true
   },
   "outputs": [],
   "source": []
  },
  {
   "cell_type": "code",
   "execution_count": null,
   "metadata": {
    "hidden": true
   },
   "outputs": [],
   "source": []
  },
  {
   "cell_type": "code",
   "execution_count": null,
   "metadata": {
    "hidden": true
   },
   "outputs": [],
   "source": []
  },
  {
   "cell_type": "markdown",
   "metadata": {
    "heading_collapsed": true
   },
   "source": [
    "## Simplify bounding-boxes\n",
    "\n",
    "Save a dict with BBs information (faster than using bbox-df on-the-fly)"
   ]
  },
  {
   "cell_type": "code",
   "execution_count": null,
   "metadata": {
    "hidden": true
   },
   "outputs": [],
   "source": [
    "import json"
   ]
  },
  {
   "cell_type": "code",
   "execution_count": null,
   "metadata": {
    "hidden": true
   },
   "outputs": [],
   "source": [
    "bbox_fpath = os.path.join(DATASET_DIR, 'BBox_List_2017.csv')"
   ]
  },
  {
   "cell_type": "code",
   "execution_count": null,
   "metadata": {
    "hidden": true
   },
   "outputs": [],
   "source": [
    "df = pd.read_csv(bbox_fpath)\n",
    "df.drop(columns=[c for c in df.columns if 'Unnamed' in c], inplace=True)\n",
    "df.head()"
   ]
  },
  {
   "cell_type": "code",
   "execution_count": null,
   "metadata": {
    "hidden": true
   },
   "outputs": [],
   "source": [
    "MAPPING = {\n",
    "    'Infiltrate': 'Infiltration',\n",
    "}"
   ]
  },
  {
   "cell_type": "code",
   "execution_count": null,
   "metadata": {
    "hidden": true
   },
   "outputs": [],
   "source": [
    "bbs_by_image = {}\n",
    "ds = set()\n",
    "\n",
    "for index, row in df.iterrows():\n",
    "    image_name, disease, x, y, w, h = row\n",
    "\n",
    "    if image_name not in bbs_by_image:\n",
    "        bbs_by_image[image_name] = {}\n",
    "    \n",
    "    disease = MAPPING.get(disease, disease)\n",
    "    ds.add(disease)\n",
    "    \n",
    "    bbs_by_image[image_name][disease] = [x, y, w, h]"
   ]
  },
  {
   "cell_type": "code",
   "execution_count": null,
   "metadata": {
    "hidden": true
   },
   "outputs": [],
   "source": [
    "filepath = os.path.join(DATASET_DIR, 'bbox_by_image_by_disease.json')\n",
    "with open(filepath, 'w') as f:\n",
    "    json.dump(bbs_by_image, f)"
   ]
  },
  {
   "cell_type": "markdown",
   "metadata": {},
   "source": [
    "## Plot patients vs n-images"
   ]
  },
  {
   "cell_type": "code",
   "execution_count": null,
   "metadata": {},
   "outputs": [],
   "source": [
    "from collections import Counter\n",
    "import math"
   ]
  },
  {
   "cell_type": "code",
   "execution_count": null,
   "metadata": {},
   "outputs": [],
   "source": [
    "dataset = CXR14Dataset('all')\n",
    "len(dataset)"
   ]
  },
  {
   "cell_type": "code",
   "execution_count": null,
   "metadata": {},
   "outputs": [],
   "source": [
    "df = pd.read_csv(os.path.join(DATASET_DIR, 'Data_Entry_2017.csv'))\n",
    "df.head(2)"
   ]
  },
  {
   "cell_type": "code",
   "execution_count": null,
   "metadata": {},
   "outputs": [],
   "source": [
    "Counter(df['View Position'])"
   ]
  },
  {
   "cell_type": "code",
   "execution_count": null,
   "metadata": {},
   "outputs": [],
   "source": [
    "len(df), len(df['Image Index'].unique())"
   ]
  },
  {
   "cell_type": "markdown",
   "metadata": {},
   "source": [
    "### Check patient variability"
   ]
  },
  {
   "cell_type": "code",
   "execution_count": null,
   "metadata": {},
   "outputs": [],
   "source": [
    "n_images_by_patient = Counter(df['Patient ID'])\n",
    "n_distinct_patients = len(n_images_by_patient)\n",
    "n_distinct_patients, len(df)"
   ]
  },
  {
   "cell_type": "code",
   "execution_count": null,
   "metadata": {},
   "outputs": [],
   "source": [
    "patients_and_amounts = sorted(n_images_by_patient.items(), key=lambda x: x[1], reverse=True)\n",
    "patients_and_amounts[:10]"
   ]
  },
  {
   "cell_type": "code",
   "execution_count": null,
   "metadata": {},
   "outputs": [],
   "source": [
    "patients_ids, amounts = zip(*patients_and_amounts)\n",
    "plt.plot(range(len(amounts)), amounts)\n",
    "plt.xlabel('Patient ID')\n",
    "plt.ylabel('N images')\n",
    "plt.title('N images by patient (CXR14)')"
   ]
  },
  {
   "cell_type": "code",
   "execution_count": null,
   "metadata": {},
   "outputs": [],
   "source": [
    "amounts = np.array(amounts)\n",
    "cum_amounts = np.cumsum(amounts) / len(df)\n",
    "total_patients = len(amounts)"
   ]
  },
  {
   "cell_type": "code",
   "execution_count": null,
   "metadata": {},
   "outputs": [],
   "source": [
    "plt.plot(np.array(range(len(cum_amounts))) / total_patients, cum_amounts)\n",
    "plt.title('N images vs N patients')\n",
    "plt.ylabel('Fraction of images')\n",
    "plt.xlabel('Fraction of patients')"
   ]
  },
  {
   "cell_type": "code",
   "execution_count": null,
   "metadata": {},
   "outputs": [],
   "source": [
    "for perc in [0.2, 0.3, 0.4, 0.45, 0.5, 0.8]:\n",
    "    n_patients = np.argmax(cum_amounts > perc) + 1\n",
    "    perc_patients = n_patients / total_patients * 100\n",
    "    \n",
    "    s1 = f'Top {n_patients:,} patients ({perc_patients:.1f}%)'\n",
    "    s2 = f'{int(perc*100)}% of the images'\n",
    "    print(f'{s1:<30} account for {s2}')\n",
    "print(f'Total patients: {total_patients:,}')"
   ]
  },
  {
   "cell_type": "code",
   "execution_count": null,
   "metadata": {},
   "outputs": [],
   "source": []
  },
  {
   "cell_type": "markdown",
   "metadata": {},
   "source": [
    "### Check some images from the same patient"
   ]
  },
  {
   "cell_type": "code",
   "execution_count": null,
   "metadata": {},
   "outputs": [],
   "source": [
    "cols = ['Image Index', 'View Position']\n",
    "projection_by_image_id = df[cols].set_index('Image Index')['View Position'].to_dict()"
   ]
  },
  {
   "cell_type": "code",
   "execution_count": null,
   "metadata": {},
   "outputs": [],
   "source": [
    "# patient_id = 10007\n",
    "patient_id = 13670\n",
    "patient_str = f'000{patient_id:05}_'\n",
    "rows = dataset.label_index.loc[dataset.label_index['FileName'].str.contains(patient_str)]\n",
    "indexes = list(rows.index)\n",
    "indexes = indexes[:15]\n",
    "\n",
    "n_cols = 3\n",
    "n_rows = math.ceil(len(indexes) / n_cols)\n",
    "plt.figure(figsize=(5*n_cols, 5*n_rows))\n",
    "\n",
    "for plt_idx, idx in enumerate(indexes):\n",
    "    item = dataset[idx]\n",
    "    image = item.image[0]\n",
    "    \n",
    "    findings = '|'.join(d for d, present in zip(dataset.labels, item.labels) if present)\n",
    "    if not findings:\n",
    "        findings = 'NF'\n",
    "    \n",
    "    proj = projection_by_image_id.get(item.image_fname, '')\n",
    "    \n",
    "    plt.subplot(n_rows, n_cols, plt_idx + 1)\n",
    "    plt.imshow(image, cmap='gray')\n",
    "    plt.title(f'{item.image_fname} - {findings} ({proj})')"
   ]
  },
  {
   "cell_type": "code",
   "execution_count": null,
   "metadata": {},
   "outputs": [],
   "source": [
    "labels_by_patient = df.groupby('Patient ID')['Finding Labels'].apply(set)\n",
    "labels_by_patient.head(2)"
   ]
  },
  {
   "cell_type": "code",
   "execution_count": null,
   "metadata": {},
   "outputs": [],
   "source": []
  }
 ],
 "metadata": {
  "kernelspec": {
   "display_name": "Python 3",
   "language": "python",
   "name": "python3"
  },
  "language_info": {
   "codemirror_mode": {
    "name": "ipython",
    "version": 3
   },
   "file_extension": ".py",
   "mimetype": "text/x-python",
   "name": "python",
   "nbconvert_exporter": "python",
   "pygments_lexer": "ipython3",
   "version": "3.6.9"
  },
  "toc": {
   "base_numbering": 1,
   "nav_menu": {},
   "number_sections": true,
   "sideBar": true,
   "skip_h1_title": false,
   "title_cell": "Table of Contents",
   "title_sidebar": "Contents",
   "toc_cell": false,
   "toc_position": {},
   "toc_section_display": true,
   "toc_window_display": false
  }
 },
 "nbformat": 4,
 "nbformat_minor": 4
}
