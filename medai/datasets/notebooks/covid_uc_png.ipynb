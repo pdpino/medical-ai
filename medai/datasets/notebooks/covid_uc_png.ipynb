{
 "cells": [
  {
   "cell_type": "code",
   "execution_count": 1,
   "metadata": {},
   "outputs": [
    {
     "data": {
      "text/plain": [
       "sys.version_info(major=3, minor=6, micro=9, releaselevel='final', serial=0)"
      ]
     },
     "execution_count": 1,
     "metadata": {},
     "output_type": "execute_result"
    }
   ],
   "source": [
    "import sys; sys.version_info"
   ]
  },
  {
   "cell_type": "code",
   "execution_count": 46,
   "metadata": {},
   "outputs": [],
   "source": [
    "import os\n",
    "import pandas as pd\n",
    "import torch\n",
    "from torchvision import transforms\n",
    "from tqdm.notebook import tqdm\n",
    "from PIL import Image\n",
    "import matplotlib.pyplot as plt"
   ]
  },
  {
   "cell_type": "code",
   "execution_count": 30,
   "metadata": {},
   "outputs": [],
   "source": [
    "%run ../covid_uc.py"
   ]
  },
  {
   "cell_type": "markdown",
   "metadata": {
    "heading_collapsed": true
   },
   "source": [
    "### Calculate mean and std"
   ]
  },
  {
   "cell_type": "code",
   "execution_count": 31,
   "metadata": {
    "hidden": true
   },
   "outputs": [
    {
     "data": {
      "text/html": [
       "<div>\n",
       "<style scoped>\n",
       "    .dataframe tbody tr th:only-of-type {\n",
       "        vertical-align: middle;\n",
       "    }\n",
       "\n",
       "    .dataframe tbody tr th {\n",
       "        vertical-align: top;\n",
       "    }\n",
       "\n",
       "    .dataframe thead th {\n",
       "        text-align: right;\n",
       "    }\n",
       "</style>\n",
       "<table border=\"1\" class=\"dataframe\">\n",
       "  <thead>\n",
       "    <tr style=\"text-align: right;\">\n",
       "      <th></th>\n",
       "      <th>ID</th>\n",
       "      <th>Fecha consulta SU</th>\n",
       "      <th>Resultado consenso BSTI</th>\n",
       "      <th>date</th>\n",
       "      <th>image_name</th>\n",
       "      <th>view</th>\n",
       "    </tr>\n",
       "  </thead>\n",
       "  <tbody>\n",
       "    <tr>\n",
       "      <th>6</th>\n",
       "      <td>15</td>\n",
       "      <td>2020-03-01</td>\n",
       "      <td>Non-COVID</td>\n",
       "      <td>2020-03-01</td>\n",
       "      <td>15-0-IM-0001-0001-0001.png</td>\n",
       "      <td>AP</td>\n",
       "    </tr>\n",
       "    <tr>\n",
       "      <th>7</th>\n",
       "      <td>17</td>\n",
       "      <td>2020-03-02</td>\n",
       "      <td>Non-COVID</td>\n",
       "      <td>2020-03-02</td>\n",
       "      <td>17-0-IM-0001-0001-0001.png</td>\n",
       "      <td>PA</td>\n",
       "    </tr>\n",
       "    <tr>\n",
       "      <th>8</th>\n",
       "      <td>17</td>\n",
       "      <td>2020-03-02</td>\n",
       "      <td>Non-COVID</td>\n",
       "      <td>2020-03-02</td>\n",
       "      <td>17-1-IM-0001-0001-0001.png</td>\n",
       "      <td>PA</td>\n",
       "    </tr>\n",
       "    <tr>\n",
       "      <th>9</th>\n",
       "      <td>18</td>\n",
       "      <td>2020-03-02</td>\n",
       "      <td>Non-COVID</td>\n",
       "      <td>2020-03-02</td>\n",
       "      <td>18-0-IM-0001-0001-0001.png</td>\n",
       "      <td>AP</td>\n",
       "    </tr>\n",
       "    <tr>\n",
       "      <th>10</th>\n",
       "      <td>19</td>\n",
       "      <td>2020-03-03</td>\n",
       "      <td>Non-COVID</td>\n",
       "      <td>2020-03-03</td>\n",
       "      <td>19-0-IM-0001-0001-0001.png</td>\n",
       "      <td>PA</td>\n",
       "    </tr>\n",
       "  </tbody>\n",
       "</table>\n",
       "</div>"
      ],
      "text/plain": [
       "    ID Fecha consulta SU Resultado consenso BSTI        date  \\\n",
       "6   15        2020-03-01               Non-COVID  2020-03-01   \n",
       "7   17        2020-03-02               Non-COVID  2020-03-02   \n",
       "8   17        2020-03-02               Non-COVID  2020-03-02   \n",
       "9   18        2020-03-02               Non-COVID  2020-03-02   \n",
       "10  19        2020-03-03               Non-COVID  2020-03-03   \n",
       "\n",
       "                    image_name view  \n",
       "6   15-0-IM-0001-0001-0001.png   AP  \n",
       "7   17-0-IM-0001-0001-0001.png   PA  \n",
       "8   17-1-IM-0001-0001-0001.png   PA  \n",
       "9   18-0-IM-0001-0001-0001.png   AP  \n",
       "10  19-0-IM-0001-0001-0001.png   PA  "
      ]
     },
     "execution_count": 31,
     "metadata": {},
     "output_type": "execute_result"
    }
   ],
   "source": [
    "labels_fpath = os.path.join(DATASET_DIR, 'metadata.csv')\n",
    "metadata = pd.read_csv(labels_fpath, index_col=0)\n",
    "metadata.head()"
   ]
  },
  {
   "cell_type": "code",
   "execution_count": 72,
   "metadata": {
    "hidden": true
   },
   "outputs": [],
   "source": [
    "def get_image_names(frontal_only=False):\n",
    "    if frontal_only:\n",
    "        df = metadata.loc[metadata['view'].str.contains('P')]\n",
    "    else:\n",
    "        df = metadata\n",
    "    return list(df['image_name'])"
   ]
  },
  {
   "cell_type": "code",
   "execution_count": 75,
   "metadata": {
    "hidden": true
   },
   "outputs": [
    {
     "data": {
      "text/plain": [
       "(427, 673)"
      ]
     },
     "execution_count": 75,
     "metadata": {},
     "output_type": "execute_result"
    }
   ],
   "source": [
    "image_names_frontal = get_image_names(True)\n",
    "image_names_all = get_image_names(False)\n",
    "len(image_names_frontal), len(image_names_all)"
   ]
  },
  {
   "cell_type": "code",
   "execution_count": 68,
   "metadata": {
    "hidden": true
   },
   "outputs": [],
   "source": [
    "def calculate_stats(image_names, image_size=(1024, 1024), max_samples=None):\n",
    "    tf = transforms.Compose([\n",
    "        transforms.Resize(image_size), # lose as less as possible\n",
    "        transforms.ToTensor(),\n",
    "    ])\n",
    "\n",
    "    total = torch.zeros(3, *image_size)\n",
    "\n",
    "    iterator = image_names\n",
    "    if max_samples:\n",
    "        iterator = iterator[:max_samples]\n",
    "\n",
    "    for image_name in tqdm(iterator):\n",
    "        fpath = os.path.join(DATASET_DIR, 'images', image_name)\n",
    "        image = tf(Image.open(fpath).convert('RGB'))\n",
    "\n",
    "        total += image\n",
    "\n",
    "    total /= len(iterator)\n",
    "\n",
    "    mean = total.mean(dim=-1).mean(dim=-1)\n",
    "    std = total.std(dim=-1).std(dim=-1)\n",
    "\n",
    "    return mean, std"
   ]
  },
  {
   "cell_type": "code",
   "execution_count": 69,
   "metadata": {
    "hidden": true
   },
   "outputs": [
    {
     "data": {
      "application/vnd.jupyter.widget-view+json": {
       "model_id": "511e3f25381349b3975135209c4c3b8c",
       "version_major": 2,
       "version_minor": 0
      },
      "text/plain": [
       "HBox(children=(FloatProgress(value=0.0, max=673.0), HTML(value='')))"
      ]
     },
     "metadata": {},
     "output_type": "display_data"
    },
    {
     "name": "stdout",
     "output_type": "stream",
     "text": [
      "\n"
     ]
    },
    {
     "data": {
      "text/plain": [
       "(tensor([0.3296, 0.3296, 0.3296]), tensor([0.0219, 0.0219, 0.0219]))"
      ]
     },
     "execution_count": 69,
     "metadata": {},
     "output_type": "execute_result"
    }
   ],
   "source": [
    "mean, std = calculate_stats(image_names_all)\n",
    "mean, std"
   ]
  },
  {
   "cell_type": "code",
   "execution_count": 76,
   "metadata": {
    "hidden": true
   },
   "outputs": [
    {
     "data": {
      "application/vnd.jupyter.widget-view+json": {
       "model_id": "9ec8cf2f69494a888ef3098c7e7ebf2f",
       "version_major": 2,
       "version_minor": 0
      },
      "text/plain": [
       "HBox(children=(FloatProgress(value=0.0, max=427.0), HTML(value='')))"
      ]
     },
     "metadata": {},
     "output_type": "display_data"
    },
    {
     "name": "stdout",
     "output_type": "stream",
     "text": [
      "\n"
     ]
    },
    {
     "data": {
      "text/plain": [
       "(tensor([0.3836, 0.3836, 0.3836]), tensor([0.0143, 0.0143, 0.0143]))"
      ]
     },
     "execution_count": 76,
     "metadata": {},
     "output_type": "execute_result"
    }
   ],
   "source": [
    "mean, std = calculate_stats(image_names_frontal)\n",
    "mean, std"
   ]
  },
  {
   "cell_type": "code",
   "execution_count": null,
   "metadata": {
    "hidden": true
   },
   "outputs": [],
   "source": []
  },
  {
   "cell_type": "code",
   "execution_count": null,
   "metadata": {
    "hidden": true
   },
   "outputs": [],
   "source": []
  },
  {
   "cell_type": "markdown",
   "metadata": {},
   "source": [
    "### Test `CovidUCDataset` class"
   ]
  },
  {
   "cell_type": "code",
   "execution_count": 152,
   "metadata": {},
   "outputs": [],
   "source": [
    "%run ../covid_uc.py"
   ]
  },
  {
   "cell_type": "code",
   "execution_count": 156,
   "metadata": {},
   "outputs": [
    {
     "data": {
      "text/plain": [
       "64"
      ]
     },
     "execution_count": 156,
     "metadata": {},
     "output_type": "execute_result"
    }
   ],
   "source": [
    "dataset = CovidUCDataset('test', image_size=(256, 256), frontal_only=True)\n",
    "len(dataset)"
   ]
  },
  {
   "cell_type": "code",
   "execution_count": 81,
   "metadata": {
    "collapsed": true
   },
   "outputs": [
    {
     "data": {
      "text/html": [
       "<div>\n",
       "<style scoped>\n",
       "    .dataframe tbody tr th:only-of-type {\n",
       "        vertical-align: middle;\n",
       "    }\n",
       "\n",
       "    .dataframe tbody tr th {\n",
       "        vertical-align: top;\n",
       "    }\n",
       "\n",
       "    .dataframe thead th {\n",
       "        text-align: right;\n",
       "    }\n",
       "</style>\n",
       "<table border=\"1\" class=\"dataframe\">\n",
       "  <thead>\n",
       "    <tr style=\"text-align: right;\">\n",
       "      <th></th>\n",
       "      <th>ID</th>\n",
       "      <th>Fecha consulta SU</th>\n",
       "      <th>Resultado consenso BSTI</th>\n",
       "      <th>date</th>\n",
       "      <th>image_name</th>\n",
       "      <th>view</th>\n",
       "    </tr>\n",
       "  </thead>\n",
       "  <tbody>\n",
       "    <tr>\n",
       "      <th>0</th>\n",
       "      <td>15</td>\n",
       "      <td>2020-03-01</td>\n",
       "      <td>Non-COVID</td>\n",
       "      <td>2020-03-01</td>\n",
       "      <td>15-0-IM-0001-0001-0001.png</td>\n",
       "      <td>AP</td>\n",
       "    </tr>\n",
       "    <tr>\n",
       "      <th>1</th>\n",
       "      <td>17</td>\n",
       "      <td>2020-03-02</td>\n",
       "      <td>Non-COVID</td>\n",
       "      <td>2020-03-02</td>\n",
       "      <td>17-0-IM-0001-0001-0001.png</td>\n",
       "      <td>PA</td>\n",
       "    </tr>\n",
       "    <tr>\n",
       "      <th>2</th>\n",
       "      <td>17</td>\n",
       "      <td>2020-03-02</td>\n",
       "      <td>Non-COVID</td>\n",
       "      <td>2020-03-02</td>\n",
       "      <td>17-1-IM-0001-0001-0001.png</td>\n",
       "      <td>PA</td>\n",
       "    </tr>\n",
       "    <tr>\n",
       "      <th>3</th>\n",
       "      <td>18</td>\n",
       "      <td>2020-03-02</td>\n",
       "      <td>Non-COVID</td>\n",
       "      <td>2020-03-02</td>\n",
       "      <td>18-0-IM-0001-0001-0001.png</td>\n",
       "      <td>AP</td>\n",
       "    </tr>\n",
       "    <tr>\n",
       "      <th>4</th>\n",
       "      <td>19</td>\n",
       "      <td>2020-03-03</td>\n",
       "      <td>Non-COVID</td>\n",
       "      <td>2020-03-03</td>\n",
       "      <td>19-0-IM-0001-0001-0001.png</td>\n",
       "      <td>PA</td>\n",
       "    </tr>\n",
       "    <tr>\n",
       "      <th>...</th>\n",
       "      <td>...</td>\n",
       "      <td>...</td>\n",
       "      <td>...</td>\n",
       "      <td>...</td>\n",
       "      <td>...</td>\n",
       "      <td>...</td>\n",
       "    </tr>\n",
       "    <tr>\n",
       "      <th>422</th>\n",
       "      <td>636</td>\n",
       "      <td>2020-03-16</td>\n",
       "      <td>normal</td>\n",
       "      <td>2020-03-16</td>\n",
       "      <td>636-0-IM-0001-0001-0001.png</td>\n",
       "      <td>PA</td>\n",
       "    </tr>\n",
       "    <tr>\n",
       "      <th>423</th>\n",
       "      <td>637</td>\n",
       "      <td>2020-03-24</td>\n",
       "      <td>normal</td>\n",
       "      <td>2020-03-24</td>\n",
       "      <td>637-0-IM-0001-0001-0001.png</td>\n",
       "      <td>AP</td>\n",
       "    </tr>\n",
       "    <tr>\n",
       "      <th>424</th>\n",
       "      <td>638</td>\n",
       "      <td>2020-03-25</td>\n",
       "      <td>Non-COVID</td>\n",
       "      <td>2020-03-25</td>\n",
       "      <td>638-0-IM-0001-0001-0001.png</td>\n",
       "      <td>PA</td>\n",
       "    </tr>\n",
       "    <tr>\n",
       "      <th>425</th>\n",
       "      <td>639</td>\n",
       "      <td>2020-04-06</td>\n",
       "      <td>normal</td>\n",
       "      <td>2020-04-06</td>\n",
       "      <td>639-0-IM-0001-0001-0001.png</td>\n",
       "      <td>PA</td>\n",
       "    </tr>\n",
       "    <tr>\n",
       "      <th>426</th>\n",
       "      <td>640</td>\n",
       "      <td>2020-03-25</td>\n",
       "      <td>normal</td>\n",
       "      <td>2020-03-25</td>\n",
       "      <td>640-0-IM-0001-0001-0001.png</td>\n",
       "      <td>PA</td>\n",
       "    </tr>\n",
       "  </tbody>\n",
       "</table>\n",
       "<p>427 rows × 6 columns</p>\n",
       "</div>"
      ],
      "text/plain": [
       "      ID Fecha consulta SU Resultado consenso BSTI        date  \\\n",
       "0     15        2020-03-01               Non-COVID  2020-03-01   \n",
       "1     17        2020-03-02               Non-COVID  2020-03-02   \n",
       "2     17        2020-03-02               Non-COVID  2020-03-02   \n",
       "3     18        2020-03-02               Non-COVID  2020-03-02   \n",
       "4     19        2020-03-03               Non-COVID  2020-03-03   \n",
       "..   ...               ...                     ...         ...   \n",
       "422  636        2020-03-16                  normal  2020-03-16   \n",
       "423  637        2020-03-24                  normal  2020-03-24   \n",
       "424  638        2020-03-25               Non-COVID  2020-03-25   \n",
       "425  639        2020-04-06                  normal  2020-04-06   \n",
       "426  640        2020-03-25                  normal  2020-03-25   \n",
       "\n",
       "                      image_name view  \n",
       "0     15-0-IM-0001-0001-0001.png   AP  \n",
       "1     17-0-IM-0001-0001-0001.png   PA  \n",
       "2     17-1-IM-0001-0001-0001.png   PA  \n",
       "3     18-0-IM-0001-0001-0001.png   AP  \n",
       "4     19-0-IM-0001-0001-0001.png   PA  \n",
       "..                           ...  ...  \n",
       "422  636-0-IM-0001-0001-0001.png   PA  \n",
       "423  637-0-IM-0001-0001-0001.png   AP  \n",
       "424  638-0-IM-0001-0001-0001.png   PA  \n",
       "425  639-0-IM-0001-0001-0001.png   PA  \n",
       "426  640-0-IM-0001-0001-0001.png   PA  \n",
       "\n",
       "[427 rows x 6 columns]"
      ]
     },
     "execution_count": 81,
     "metadata": {},
     "output_type": "execute_result"
    }
   ],
   "source": [
    "dataset._metadata_df"
   ]
  },
  {
   "cell_type": "code",
   "execution_count": 86,
   "metadata": {},
   "outputs": [],
   "source": [
    "for image, label in dataset:\n",
    "    break"
   ]
  },
  {
   "cell_type": "code",
   "execution_count": 87,
   "metadata": {},
   "outputs": [
    {
     "data": {
      "text/plain": [
       "1"
      ]
     },
     "execution_count": 87,
     "metadata": {},
     "output_type": "execute_result"
    }
   ],
   "source": [
    "label"
   ]
  },
  {
   "cell_type": "code",
   "execution_count": 88,
   "metadata": {},
   "outputs": [
    {
     "data": {
      "text/plain": [
       "torch.Size([3, 256, 256])"
      ]
     },
     "execution_count": 88,
     "metadata": {},
     "output_type": "execute_result"
    }
   ],
   "source": [
    "image.size()"
   ]
  },
  {
   "cell_type": "code",
   "execution_count": 93,
   "metadata": {},
   "outputs": [
    {
     "data": {
      "text/plain": [
       "['covid', 'Non-COVID', 'normal']"
      ]
     },
     "execution_count": 93,
     "metadata": {},
     "output_type": "execute_result"
    }
   ],
   "source": [
    "dataset.labels"
   ]
  },
  {
   "cell_type": "code",
   "execution_count": 94,
   "metadata": {
    "collapsed": true
   },
   "outputs": [
    {
     "data": {
      "text/plain": [
       "[(0, 1),\n",
       " (1, 1),\n",
       " (2, 1),\n",
       " (3, 1),\n",
       " (4, 1),\n",
       " (5, 1),\n",
       " (6, 1),\n",
       " (7, 1),\n",
       " (8, 1),\n",
       " (9, 1),\n",
       " (10, 1),\n",
       " (11, 1),\n",
       " (12, 1),\n",
       " (13, 1),\n",
       " (14, 1),\n",
       " (15, 1),\n",
       " (16, 1),\n",
       " (17, 1),\n",
       " (18, 1),\n",
       " (19, 1),\n",
       " (20, 1),\n",
       " (21, 1),\n",
       " (22, 0),\n",
       " (23, 0),\n",
       " (24, 0),\n",
       " (25, 0),\n",
       " (26, 0),\n",
       " (27, 0),\n",
       " (28, 0),\n",
       " (29, 0),\n",
       " (30, 0),\n",
       " (31, 0),\n",
       " (32, 0),\n",
       " (33, 0),\n",
       " (34, 0),\n",
       " (35, 0),\n",
       " (36, 0),\n",
       " (37, 0),\n",
       " (38, 0),\n",
       " (39, 0),\n",
       " (40, 0),\n",
       " (41, 0),\n",
       " (42, 0),\n",
       " (43, 0),\n",
       " (44, 0),\n",
       " (45, 0),\n",
       " (46, 0),\n",
       " (47, 0),\n",
       " (48, 0),\n",
       " (49, 0),\n",
       " (50, 0),\n",
       " (51, 0),\n",
       " (52, 0),\n",
       " (53, 0),\n",
       " (54, 0),\n",
       " (55, 0),\n",
       " (56, 0),\n",
       " (57, 0),\n",
       " (58, 0),\n",
       " (59, 0),\n",
       " (60, 0),\n",
       " (61, 0),\n",
       " (62, 0),\n",
       " (63, 0),\n",
       " (64, 0),\n",
       " (65, 0),\n",
       " (66, 0),\n",
       " (67, 0),\n",
       " (68, 0),\n",
       " (69, 0),\n",
       " (70, 0),\n",
       " (71, 0),\n",
       " (72, 0),\n",
       " (73, 0),\n",
       " (74, 0),\n",
       " (75, 0),\n",
       " (76, 0),\n",
       " (77, 0),\n",
       " (78, 0),\n",
       " (79, 0),\n",
       " (80, 0),\n",
       " (81, 0),\n",
       " (82, 0),\n",
       " (83, 0),\n",
       " (84, 0),\n",
       " (85, 0),\n",
       " (86, 0),\n",
       " (87, 0),\n",
       " (88, 0),\n",
       " (89, 0),\n",
       " (90, 0),\n",
       " (91, 0),\n",
       " (92, 0),\n",
       " (93, 0),\n",
       " (94, 0),\n",
       " (95, 0),\n",
       " (96, 0),\n",
       " (97, 0),\n",
       " (98, 0),\n",
       " (99, 0),\n",
       " (100, 0),\n",
       " (101, 0),\n",
       " (102, 0),\n",
       " (103, 0),\n",
       " (104, 0),\n",
       " (105, 0),\n",
       " (106, 0),\n",
       " (107, 0),\n",
       " (108, 0),\n",
       " (109, 0),\n",
       " (110, 0),\n",
       " (111, 0),\n",
       " (112, 0),\n",
       " (113, 0),\n",
       " (114, 0),\n",
       " (115, 0),\n",
       " (116, 0),\n",
       " (117, 0),\n",
       " (118, 0),\n",
       " (119, 0),\n",
       " (120, 0),\n",
       " (121, 0),\n",
       " (122, 0),\n",
       " (123, 0),\n",
       " (124, 0),\n",
       " (125, 0),\n",
       " (126, 0),\n",
       " (127, 0),\n",
       " (128, 0),\n",
       " (129, 0),\n",
       " (130, 0),\n",
       " (131, 0),\n",
       " (132, 0),\n",
       " (133, 0),\n",
       " (134, 0),\n",
       " (135, 0),\n",
       " (136, 0),\n",
       " (137, 0),\n",
       " (138, 0),\n",
       " (139, 0),\n",
       " (140, 0),\n",
       " (141, 0),\n",
       " (142, 0),\n",
       " (143, 0),\n",
       " (144, 0),\n",
       " (145, 0),\n",
       " (146, 0),\n",
       " (147, 0),\n",
       " (148, 0),\n",
       " (149, 0),\n",
       " (150, 0),\n",
       " (151, 0),\n",
       " (152, 0),\n",
       " (153, 0),\n",
       " (154, 0),\n",
       " (155, 0),\n",
       " (156, 0),\n",
       " (157, 0),\n",
       " (158, 0),\n",
       " (159, 0),\n",
       " (160, 0),\n",
       " (161, 0),\n",
       " (162, 0),\n",
       " (163, 0),\n",
       " (164, 0),\n",
       " (165, 0),\n",
       " (166, 0),\n",
       " (167, 0),\n",
       " (168, 0),\n",
       " (169, 0),\n",
       " (170, 0),\n",
       " (171, 0),\n",
       " (172, 0),\n",
       " (173, 0),\n",
       " (174, 0),\n",
       " (175, 0),\n",
       " (176, 0),\n",
       " (177, 0),\n",
       " (178, 0),\n",
       " (179, 0),\n",
       " (180, 0),\n",
       " (181, 0),\n",
       " (182, 0),\n",
       " (183, 0),\n",
       " (184, 0),\n",
       " (185, 0),\n",
       " (186, 0),\n",
       " (187, 0),\n",
       " (188, 0),\n",
       " (189, 0),\n",
       " (190, 0),\n",
       " (191, 0),\n",
       " (192, 0),\n",
       " (193, 0),\n",
       " (194, 0),\n",
       " (195, 0),\n",
       " (196, 0),\n",
       " (197, 0),\n",
       " (198, 0),\n",
       " (199, 0),\n",
       " (200, 0),\n",
       " (201, 0),\n",
       " (202, 0),\n",
       " (203, 0),\n",
       " (204, 0),\n",
       " (205, 0),\n",
       " (206, 0),\n",
       " (207, 0),\n",
       " (208, 0),\n",
       " (209, 0),\n",
       " (210, 0),\n",
       " (211, 0),\n",
       " (212, 0),\n",
       " (213, 0),\n",
       " (214, 0),\n",
       " (215, 0),\n",
       " (216, 0),\n",
       " (217, 0),\n",
       " (218, 0),\n",
       " (219, 0),\n",
       " (220, 0),\n",
       " (221, 0),\n",
       " (222, 0),\n",
       " (223, 0),\n",
       " (224, 0),\n",
       " (225, 0),\n",
       " (226, 0),\n",
       " (227, 0),\n",
       " (228, 0),\n",
       " (229, 0),\n",
       " (230, 0),\n",
       " (231, 0),\n",
       " (232, 0),\n",
       " (233, 0),\n",
       " (234, 0),\n",
       " (235, 0),\n",
       " (236, 0),\n",
       " (237, 0),\n",
       " (238, 0),\n",
       " (239, 0),\n",
       " (240, 0),\n",
       " (241, 0),\n",
       " (242, 0),\n",
       " (243, 0),\n",
       " (244, 0),\n",
       " (245, 0),\n",
       " (246, 0),\n",
       " (247, 0),\n",
       " (248, 0),\n",
       " (249, 0),\n",
       " (250, 0),\n",
       " (251, 0),\n",
       " (252, 0),\n",
       " (253, 0),\n",
       " (254, 0),\n",
       " (255, 0),\n",
       " (256, 0),\n",
       " (257, 0),\n",
       " (258, 0),\n",
       " (259, 0),\n",
       " (260, 0),\n",
       " (261, 0),\n",
       " (262, 0),\n",
       " (263, 0),\n",
       " (264, 0),\n",
       " (265, 0),\n",
       " (266, 0),\n",
       " (267, 0),\n",
       " (268, 0),\n",
       " (269, 0),\n",
       " (270, 0),\n",
       " (271, 0),\n",
       " (272, 0),\n",
       " (273, 0),\n",
       " (274, 0),\n",
       " (275, 0),\n",
       " (276, 0),\n",
       " (277, 0),\n",
       " (278, 0),\n",
       " (279, 0),\n",
       " (280, 0),\n",
       " (281, 0),\n",
       " (282, 0),\n",
       " (283, 0),\n",
       " (284, 0),\n",
       " (285, 0),\n",
       " (286, 0),\n",
       " (287, 0),\n",
       " (288, 0),\n",
       " (289, 0),\n",
       " (290, 0),\n",
       " (291, 0),\n",
       " (292, 0),\n",
       " (293, 0),\n",
       " (294, 0),\n",
       " (295, 0),\n",
       " (296, 0),\n",
       " (297, 0),\n",
       " (298, 0),\n",
       " (299, 0),\n",
       " (300, 0),\n",
       " (301, 0),\n",
       " (302, 0),\n",
       " (303, 0),\n",
       " (304, 0),\n",
       " (305, 0),\n",
       " (306, 0),\n",
       " (307, 1),\n",
       " (308, 0),\n",
       " (309, 0),\n",
       " (310, 0),\n",
       " (311, 1),\n",
       " (312, 0),\n",
       " (313, 0),\n",
       " (314, 0),\n",
       " (315, 0),\n",
       " (316, 1),\n",
       " (317, 0),\n",
       " (318, 0),\n",
       " (319, 0),\n",
       " (320, 0),\n",
       " (321, 0),\n",
       " (322, 0),\n",
       " (323, 0),\n",
       " (324, 0),\n",
       " (325, 0),\n",
       " (326, 0),\n",
       " (327, 0),\n",
       " (328, 0),\n",
       " (329, 0),\n",
       " (330, 0),\n",
       " (331, 0),\n",
       " (332, 0),\n",
       " (333, 0),\n",
       " (334, 0),\n",
       " (335, 0),\n",
       " (336, 0),\n",
       " (337, 0),\n",
       " (338, 0),\n",
       " (339, 0),\n",
       " (340, 0),\n",
       " (341, 0),\n",
       " (342, 0),\n",
       " (343, 0),\n",
       " (344, 1),\n",
       " (345, 0),\n",
       " (346, 0),\n",
       " (347, 0),\n",
       " (348, 0),\n",
       " (349, 0),\n",
       " (350, 0),\n",
       " (351, 0),\n",
       " (352, 0),\n",
       " (353, 0),\n",
       " (354, 0),\n",
       " (355, 1),\n",
       " (356, 0),\n",
       " (357, 0),\n",
       " (358, 0),\n",
       " (359, 0),\n",
       " (360, 0),\n",
       " (361, 0),\n",
       " (362, 0),\n",
       " (363, 0),\n",
       " (364, 0),\n",
       " (365, 1),\n",
       " (366, 0),\n",
       " (367, 0),\n",
       " (368, 0),\n",
       " (369, 0),\n",
       " (370, 0),\n",
       " (371, 0),\n",
       " (372, 0),\n",
       " (373, 0),\n",
       " (374, 0),\n",
       " (375, 0),\n",
       " (376, 0),\n",
       " (377, 0),\n",
       " (378, 0),\n",
       " (379, 0),\n",
       " (380, 0),\n",
       " (381, 0),\n",
       " (382, 0),\n",
       " (383, 0),\n",
       " (384, 0),\n",
       " (385, 0),\n",
       " (386, 0),\n",
       " (387, 0),\n",
       " (388, 0),\n",
       " (389, 0),\n",
       " (390, 0),\n",
       " (391, 0),\n",
       " (392, 0),\n",
       " (393, 0),\n",
       " (394, 0),\n",
       " (395, 1),\n",
       " (396, 1),\n",
       " (397, 0),\n",
       " (398, 0),\n",
       " (399, 0),\n",
       " (400, 0),\n",
       " (401, 0),\n",
       " (402, 0),\n",
       " (403, 0),\n",
       " (404, 0),\n",
       " (405, 1),\n",
       " (406, 0),\n",
       " (407, 0),\n",
       " (408, 0),\n",
       " (409, 0),\n",
       " (410, 0),\n",
       " (411, 0),\n",
       " (412, 0),\n",
       " (413, 0),\n",
       " (414, 0),\n",
       " (415, 0),\n",
       " (416, 0),\n",
       " (417, 0),\n",
       " (418, 0),\n",
       " (419, 0),\n",
       " (420, 0),\n",
       " (421, 0),\n",
       " (422, 0),\n",
       " (423, 0),\n",
       " (424, 1),\n",
       " (425, 0),\n",
       " (426, 0)]"
      ]
     },
     "execution_count": 94,
     "metadata": {},
     "output_type": "execute_result"
    }
   ],
   "source": [
    "dataset.get_labels_presence_for('Non-COVID')"
   ]
  },
  {
   "cell_type": "code",
   "execution_count": null,
   "metadata": {},
   "outputs": [],
   "source": []
  },
  {
   "cell_type": "markdown",
   "metadata": {},
   "source": [
    "### Split"
   ]
  },
  {
   "cell_type": "code",
   "execution_count": 95,
   "metadata": {},
   "outputs": [],
   "source": [
    "%run ../covid_uc.py"
   ]
  },
  {
   "cell_type": "code",
   "execution_count": 135,
   "metadata": {},
   "outputs": [],
   "source": [
    "import random\n",
    "import os\n",
    "from collections import Counter"
   ]
  },
  {
   "cell_type": "code",
   "execution_count": 134,
   "metadata": {},
   "outputs": [],
   "source": [
    "LABEL_COL = 'Resultado consenso BSTI'"
   ]
  },
  {
   "cell_type": "code",
   "execution_count": 97,
   "metadata": {},
   "outputs": [],
   "source": [
    "def save_list(items, name):\n",
    "    filepath = os.path.join(DATASET_DIR, f'{name}.txt')\n",
    "    with open(filepath, 'w') as f:\n",
    "        for item in items:\n",
    "            f.write(f'{item}\\n')\n",
    "\n",
    "    print(f'List saved to: {filepath}')"
   ]
  },
  {
   "cell_type": "code",
   "execution_count": 98,
   "metadata": {},
   "outputs": [
    {
     "data": {
      "text/html": [
       "<div>\n",
       "<style scoped>\n",
       "    .dataframe tbody tr th:only-of-type {\n",
       "        vertical-align: middle;\n",
       "    }\n",
       "\n",
       "    .dataframe tbody tr th {\n",
       "        vertical-align: top;\n",
       "    }\n",
       "\n",
       "    .dataframe thead th {\n",
       "        text-align: right;\n",
       "    }\n",
       "</style>\n",
       "<table border=\"1\" class=\"dataframe\">\n",
       "  <thead>\n",
       "    <tr style=\"text-align: right;\">\n",
       "      <th></th>\n",
       "      <th>ID</th>\n",
       "      <th>Fecha consulta SU</th>\n",
       "      <th>Resultado consenso BSTI</th>\n",
       "      <th>date</th>\n",
       "      <th>image_name</th>\n",
       "      <th>view</th>\n",
       "    </tr>\n",
       "  </thead>\n",
       "  <tbody>\n",
       "    <tr>\n",
       "      <th>16</th>\n",
       "      <td>15</td>\n",
       "      <td>2020-03-01</td>\n",
       "      <td>Non-COVID</td>\n",
       "      <td>2020-03-01</td>\n",
       "      <td>15-0-IM-0001-0001-0001.png</td>\n",
       "      <td>AP</td>\n",
       "    </tr>\n",
       "    <tr>\n",
       "      <th>17</th>\n",
       "      <td>17</td>\n",
       "      <td>2020-03-02</td>\n",
       "      <td>Non-COVID</td>\n",
       "      <td>2020-03-02</td>\n",
       "      <td>17-0-IM-0001-0001-0001.png</td>\n",
       "      <td>PA</td>\n",
       "    </tr>\n",
       "    <tr>\n",
       "      <th>18</th>\n",
       "      <td>17</td>\n",
       "      <td>2020-03-02</td>\n",
       "      <td>Non-COVID</td>\n",
       "      <td>2020-03-02</td>\n",
       "      <td>17-1-IM-0001-0001-0001.png</td>\n",
       "      <td>PA</td>\n",
       "    </tr>\n",
       "    <tr>\n",
       "      <th>19</th>\n",
       "      <td>18</td>\n",
       "      <td>2020-03-02</td>\n",
       "      <td>Non-COVID</td>\n",
       "      <td>2020-03-02</td>\n",
       "      <td>18-0-IM-0001-0001-0001.png</td>\n",
       "      <td>AP</td>\n",
       "    </tr>\n",
       "    <tr>\n",
       "      <th>20</th>\n",
       "      <td>19</td>\n",
       "      <td>2020-03-03</td>\n",
       "      <td>Non-COVID</td>\n",
       "      <td>2020-03-03</td>\n",
       "      <td>19-0-IM-0001-0001-0001.png</td>\n",
       "      <td>PA</td>\n",
       "    </tr>\n",
       "  </tbody>\n",
       "</table>\n",
       "</div>"
      ],
      "text/plain": [
       "    ID Fecha consulta SU Resultado consenso BSTI        date  \\\n",
       "16  15        2020-03-01               Non-COVID  2020-03-01   \n",
       "17  17        2020-03-02               Non-COVID  2020-03-02   \n",
       "18  17        2020-03-02               Non-COVID  2020-03-02   \n",
       "19  18        2020-03-02               Non-COVID  2020-03-02   \n",
       "20  19        2020-03-03               Non-COVID  2020-03-03   \n",
       "\n",
       "                    image_name view  \n",
       "16  15-0-IM-0001-0001-0001.png   AP  \n",
       "17  17-0-IM-0001-0001-0001.png   PA  \n",
       "18  17-1-IM-0001-0001-0001.png   PA  \n",
       "19  18-0-IM-0001-0001-0001.png   AP  \n",
       "20  19-0-IM-0001-0001-0001.png   PA  "
      ]
     },
     "execution_count": 98,
     "metadata": {},
     "output_type": "execute_result"
    }
   ],
   "source": [
    "labels_fpath = os.path.join(DATASET_DIR, 'metadata.csv')\n",
    "metadata = pd.read_csv(labels_fpath, index_col=0)\n",
    "metadata.head()"
   ]
  },
  {
   "cell_type": "code",
   "execution_count": 100,
   "metadata": {
    "collapsed": true
   },
   "outputs": [
    {
     "data": {
      "text/plain": [
       "ID\n",
       "100    [100-0-IM-0001-0001-0001.png, 100-1-IM-0001-00...\n",
       "101                        [101-0-IM-0001-0001-0001.png]\n",
       "102    [102-0-IM-0001-0001-0001.png, 102-1-IM-0001-00...\n",
       "103    [103-0-IM-0001-0001-0001.png, 103-1-IM-0001-00...\n",
       "104    [104-0-IM-0001-0001-0001.png, 104-1-IM-0001-00...\n",
       "                             ...                        \n",
       "94     [94-0-IM-0001-0001-0001.png, 94-1-IM-0001-0002...\n",
       "95     [95-0-IM-0001-0001-0001.png, 95-1-IM-0001-0002...\n",
       "97     [97-0-IM-0001-0001-0001.png, 97-1-IM-0001-0002...\n",
       "98     [98-0-IM-0001-0001-0001.png, 98-1-IM-0001-0001...\n",
       "99     [99-0-IM-0001-0001-0001.png, 99-1-IM-0001-0002...\n",
       "Name: image_name, Length: 573, dtype: object"
      ]
     },
     "execution_count": 100,
     "metadata": {},
     "output_type": "execute_result"
    }
   ],
   "source": [
    "images_by_patient = metadata.groupby('ID')['image_name'].apply(list)\n",
    "images_by_patient"
   ]
  },
  {
   "cell_type": "code",
   "execution_count": 107,
   "metadata": {},
   "outputs": [
    {
     "data": {
      "text/plain": [
       "573"
      ]
     },
     "execution_count": 107,
     "metadata": {},
     "output_type": "execute_result"
    }
   ],
   "source": [
    "patients = list(set(metadata['ID']))\n",
    "len(patients)"
   ]
  },
  {
   "cell_type": "code",
   "execution_count": 110,
   "metadata": {},
   "outputs": [],
   "source": [
    "VAL_SPLIT = 0\n",
    "TEST_SPLIT = 0.1"
   ]
  },
  {
   "cell_type": "code",
   "execution_count": 111,
   "metadata": {},
   "outputs": [
    {
     "data": {
      "text/plain": [
       "(0, 57)"
      ]
     },
     "execution_count": 111,
     "metadata": {},
     "output_type": "execute_result"
    }
   ],
   "source": [
    "n_val = int(VAL_SPLIT * len(patients))\n",
    "n_test = int(TEST_SPLIT * len(patients))\n",
    "n_val, n_test"
   ]
  },
  {
   "cell_type": "code",
   "execution_count": 114,
   "metadata": {},
   "outputs": [
    {
     "data": {
      "text/plain": [
       "57"
      ]
     },
     "execution_count": 114,
     "metadata": {},
     "output_type": "execute_result"
    }
   ],
   "source": [
    "val_test_patients = random.sample(patients, n_val + n_test)\n",
    "len(val_test_patients)"
   ]
  },
  {
   "cell_type": "code",
   "execution_count": 116,
   "metadata": {},
   "outputs": [
    {
     "data": {
      "text/plain": [
       "516"
      ]
     },
     "execution_count": 116,
     "metadata": {},
     "output_type": "execute_result"
    }
   ],
   "source": [
    "train_patients = [pat for pat in patients if pat not in val_test_patients]\n",
    "len(train_patients)"
   ]
  },
  {
   "cell_type": "code",
   "execution_count": 127,
   "metadata": {},
   "outputs": [],
   "source": [
    "combine_images = lambda pats: sum((images_by_patient[pat] for pat in pats), [])\n",
    "count_images = lambda pats: sum(len(images_by_patient[pat]) for pat in pats)"
   ]
  },
  {
   "cell_type": "code",
   "execution_count": 122,
   "metadata": {},
   "outputs": [
    {
     "data": {
      "text/plain": [
       "(795, 88)"
      ]
     },
     "execution_count": 122,
     "metadata": {},
     "output_type": "execute_result"
    }
   ],
   "source": [
    "count_images(train_patients), count_images(val_test_patients)"
   ]
  },
  {
   "cell_type": "code",
   "execution_count": 129,
   "metadata": {},
   "outputs": [],
   "source": [
    "train_images = combine_images(train_patients)\n",
    "val_test_images = combine_images(val_test_patients)"
   ]
  },
  {
   "cell_type": "code",
   "execution_count": 130,
   "metadata": {},
   "outputs": [],
   "source": [
    "filter_meta = lambda images: metadata.loc[metadata['image_name'].isin(images)]"
   ]
  },
  {
   "cell_type": "code",
   "execution_count": 137,
   "metadata": {},
   "outputs": [],
   "source": [
    "train_df = filter_meta(train_images)\n",
    "val_test_df = filter_meta(val_test_images)\n",
    "# train_df"
   ]
  },
  {
   "cell_type": "code",
   "execution_count": 139,
   "metadata": {},
   "outputs": [
    {
     "data": {
      "text/plain": [
       "Counter({'Non-COVID': 94, 'normal': 678, 'covid': 23})"
      ]
     },
     "execution_count": 139,
     "metadata": {},
     "output_type": "execute_result"
    }
   ],
   "source": [
    "Counter(train_df[LABEL_COL])"
   ]
  },
  {
   "cell_type": "code",
   "execution_count": 145,
   "metadata": {},
   "outputs": [
    {
     "data": {
      "text/plain": [
       "(11.823899371069182, 85.28301886792453, 2.893081761006289)"
      ]
     },
     "execution_count": 145,
     "metadata": {},
     "output_type": "execute_result"
    }
   ],
   "source": [
    "total = (94 + 678 + 23)\n",
    "mult = 100/total\n",
    "94 * mult, 678 * mult, 23 * mult"
   ]
  },
  {
   "cell_type": "code",
   "execution_count": 141,
   "metadata": {},
   "outputs": [
    {
     "data": {
      "text/plain": [
       "Counter({'Non-COVID': 4, 'normal': 79, 'covid': 5})"
      ]
     },
     "execution_count": 141,
     "metadata": {},
     "output_type": "execute_result"
    }
   ],
   "source": [
    "Counter(val_test_df[LABEL_COL])"
   ]
  },
  {
   "cell_type": "code",
   "execution_count": 143,
   "metadata": {},
   "outputs": [
    {
     "data": {
      "text/plain": [
       "(4.545454545454546, 89.77272727272727, 5.681818181818182)"
      ]
     },
     "execution_count": 143,
     "metadata": {},
     "output_type": "execute_result"
    }
   ],
   "source": [
    "4 / 88 * 100, 79 / 88 * 100, 5 / 88 * 100"
   ]
  },
  {
   "cell_type": "code",
   "execution_count": 146,
   "metadata": {},
   "outputs": [
    {
     "data": {
      "text/plain": [
       "(795, 88)"
      ]
     },
     "execution_count": 146,
     "metadata": {},
     "output_type": "execute_result"
    }
   ],
   "source": [
    "len(train_images), len(val_test_images)"
   ]
  },
  {
   "cell_type": "code",
   "execution_count": 147,
   "metadata": {},
   "outputs": [
    {
     "data": {
      "text/plain": [
       "(0, 88)"
      ]
     },
     "execution_count": 147,
     "metadata": {},
     "output_type": "execute_result"
    }
   ],
   "source": [
    "val_images = val_test_images[:n_val]\n",
    "test_images = val_test_images[n_val:]\n",
    "len(val_images), len(test_images)"
   ]
  },
  {
   "cell_type": "code",
   "execution_count": null,
   "metadata": {},
   "outputs": [],
   "source": [
    "save_list(train_images, 'train')\n",
    "save_list(val_images, 'val')\n",
    "save_list(test_images, 'test')"
   ]
  },
  {
   "cell_type": "code",
   "execution_count": null,
   "metadata": {},
   "outputs": [],
   "source": []
  },
  {
   "cell_type": "code",
   "execution_count": null,
   "metadata": {},
   "outputs": [],
   "source": []
  },
  {
   "cell_type": "code",
   "execution_count": null,
   "metadata": {},
   "outputs": [],
   "source": []
  },
  {
   "cell_type": "code",
   "execution_count": null,
   "metadata": {},
   "outputs": [],
   "source": []
  }
 ],
 "metadata": {
  "kernelspec": {
   "display_name": "Python 3",
   "language": "python",
   "name": "python3"
  },
  "language_info": {
   "codemirror_mode": {
    "name": "ipython",
    "version": 3
   },
   "file_extension": ".py",
   "mimetype": "text/x-python",
   "name": "python",
   "nbconvert_exporter": "python",
   "pygments_lexer": "ipython3",
   "version": "3.6.9"
  },
  "toc": {
   "base_numbering": 1,
   "nav_menu": {},
   "number_sections": true,
   "sideBar": true,
   "skip_h1_title": false,
   "title_cell": "Table of Contents",
   "title_sidebar": "Contents",
   "toc_cell": false,
   "toc_position": {},
   "toc_section_display": true,
   "toc_window_display": false
  }
 },
 "nbformat": 4,
 "nbformat_minor": 4
}
