{
 "cells": [
  {
   "cell_type": "markdown",
   "metadata": {},
   "source": [
    "# Imports"
   ]
  },
  {
   "cell_type": "code",
   "execution_count": 19,
   "metadata": {},
   "outputs": [],
   "source": [
    "import torch\n",
    "import matplotlib.pyplot as plt"
   ]
  },
  {
   "cell_type": "code",
   "execution_count": 32,
   "metadata": {},
   "outputs": [],
   "source": [
    "import matplotlib\n",
    "matplotlib.rcParams['figure.facecolor'] = 'white'\n",
    "matplotlib.rcParams['figure.figsize'] = (15, 5)"
   ]
  },
  {
   "cell_type": "code",
   "execution_count": 33,
   "metadata": {},
   "outputs": [],
   "source": [
    "from matplotlib.patches import Rectangle"
   ]
  },
  {
   "cell_type": "code",
   "execution_count": null,
   "metadata": {},
   "outputs": [],
   "source": []
  },
  {
   "cell_type": "markdown",
   "metadata": {},
   "source": [
    "# Utils"
   ]
  },
  {
   "cell_type": "code",
   "execution_count": 5,
   "metadata": {},
   "outputs": [],
   "source": [
    "def create_random_bboxes(batch_size, n_diseases, height, width):\n",
    "    heatmaps = torch.zeros(batch_size, n_diseases, height, width)\n",
    "\n",
    "    for batch_i in range(batch_size):\n",
    "        for disease_i in range(n_diseases):\n",
    "            x_min, y_min = torch.randint(0, 256, (2,)).tolist()\n",
    "            \n",
    "            height, width = torch.randint(5, 50, (2,)).tolist()\n",
    "            x_max = x_min + width\n",
    "            y_max = y_min + height\n",
    "\n",
    "            heatmaps[batch_i, disease_i, y_min:y_max, x_min:x_max] = 1\n",
    "            \n",
    "    return heatmaps"
   ]
  },
  {
   "cell_type": "code",
   "execution_count": 61,
   "metadata": {},
   "outputs": [],
   "source": [
    "def plot_box(box, color):\n",
    "    x_min, y_min, x_max, y_max = box\n",
    "    width = x_max - x_min\n",
    "    height = y_max - y_min\n",
    "    rect = Rectangle((x_min, y_min), width, height, edgecolor=color, fill=False)\n",
    "    \n",
    "    ax = plt.gca()\n",
    "    ax.add_patch(rect)"
   ]
  },
  {
   "cell_type": "code",
   "execution_count": null,
   "metadata": {},
   "outputs": [],
   "source": []
  },
  {
   "cell_type": "markdown",
   "metadata": {},
   "source": [
    "# Test IoU and IoBB"
   ]
  },
  {
   "cell_type": "code",
   "execution_count": 2,
   "metadata": {},
   "outputs": [],
   "source": [
    "%run ./iou.py\n",
    "%run ./iobb.py"
   ]
  },
  {
   "cell_type": "markdown",
   "metadata": {},
   "source": [
    "## Test one sample"
   ]
  },
  {
   "cell_type": "code",
   "execution_count": 50,
   "metadata": {},
   "outputs": [],
   "source": [
    "def fill_heatmap(height, width, boxes):\n",
    "    heatmap = torch.zeros(height, width)\n",
    "\n",
    "    for x_min, y_min, x_max, y_max in boxes:\n",
    "        heatmap[y_min:y_max, x_min:x_max] = 1\n",
    "    return heatmap"
   ]
  },
  {
   "cell_type": "code",
   "execution_count": 67,
   "metadata": {},
   "outputs": [],
   "source": [
    "def test_one_sample(box_gt, box_pred, height=120, width=120, plot=True):\n",
    "    # Create maps\n",
    "    n_diseases = 1\n",
    "    \n",
    "    heatmaps = fill_heatmap(height, width, [box_pred])\n",
    "    gt = fill_heatmap(height, width, [box_gt])\n",
    "        \n",
    "    # Prepare for metrics\n",
    "    heatmaps = heatmaps.unsqueeze(0).unsqueeze(0)\n",
    "    gt = gt.unsqueeze(0).unsqueeze(0)\n",
    "    valid = None\n",
    "    state = (heatmaps, gt, valid)\n",
    "        \n",
    "    # Compute metrics    \n",
    "    miou = IoU(device='cpu')\n",
    "    miobb = IoBB(device='cpu')\n",
    "    \n",
    "    miou.reset()\n",
    "    miobb.reset()\n",
    "\n",
    "    miou.update(state)\n",
    "    miobb.update(state)\n",
    "    \n",
    "    value_iou = miou.compute().item()\n",
    "    value_iobb = miobb.compute().item()\n",
    "    \n",
    "    if plot:\n",
    "        n_rows = 1\n",
    "        n_cols = 3\n",
    "\n",
    "        plt.subplot(n_rows, n_cols, 1)\n",
    "        plot_box(box_gt, 'green')\n",
    "        plot_box(box_pred, 'red')\n",
    "        plt.ylim(0, height)\n",
    "        plt.xlim(0, width)\n",
    "        plt.title('Boxes')\n",
    "        plt.gca().invert_yaxis()\n",
    "\n",
    "        plt.subplot(n_rows, n_cols, 2)\n",
    "        plt.imshow(gt[0, 0])\n",
    "        plt.title('GT')\n",
    "        plt.axis('scaled')\n",
    "\n",
    "        plt.subplot(n_rows, n_cols, 3)\n",
    "        plt.imshow(heatmaps[0, 0])\n",
    "        plt.title('Heatmap')\n",
    "        plt.axis('scaled')\n",
    "    \n",
    "    return value_iou, value_iobb"
   ]
  },
  {
   "cell_type": "markdown",
   "metadata": {
    "heading_collapsed": true
   },
   "source": [
    "### Regular sample"
   ]
  },
  {
   "cell_type": "code",
   "execution_count": 59,
   "metadata": {
    "hidden": true
   },
   "outputs": [
    {
     "data": {
      "text/plain": [
       "(0.1428571492433548, 0.25)"
      ]
     },
     "execution_count": 59,
     "metadata": {},
     "output_type": "execute_result"
    },
    {
     "data": {
      "image/png": "[encoded data removed]",
      "text/plain": [
       "<Figure size 1080x360 with 3 Axes>"
      ]
     },
     "metadata": {},
     "output_type": "display_data"
    }
   ],
   "source": [
    "iou, iobb = test_one_sample(\n",
    "    (30, 80, 50, 100), # gt\n",
    "    (20, 70, 40, 90), # pred\n",
    ")\n",
    "iou, iobb"
   ]
  },
  {
   "cell_type": "markdown",
   "metadata": {},
   "source": [
    "### Prediction inside BB"
   ]
  },
  {
   "cell_type": "code",
   "execution_count": 68,
   "metadata": {},
   "outputs": [
    {
     "name": "stdout",
     "output_type": "stream",
     "text": [
      "0.1666666716337204 0.1666666716337204\n"
     ]
    },
    {
     "data": {
      "image/png": "[encoded data removed]",
      "text/plain": [
       "<Figure size 1080x360 with 3 Axes>"
      ]
     },
     "metadata": {},
     "output_type": "display_data"
    }
   ],
   "source": [
    "iou, iobb = test_one_sample(\n",
    "    (30, 60, 60, 100), # gt\n",
    "    (40, 70, 50, 90), # pred\n",
    ")\n",
    "print(iou, iobb)\n",
    "assert abs(iou - iobb) <= 1e-3"
   ]
  },
  {
   "cell_type": "code",
   "execution_count": null,
   "metadata": {},
   "outputs": [],
   "source": []
  },
  {
   "cell_type": "markdown",
   "metadata": {},
   "source": [
    "### BB inside prediction"
   ]
  },
  {
   "cell_type": "code",
   "execution_count": 63,
   "metadata": {},
   "outputs": [
    {
     "name": "stdout",
     "output_type": "stream",
     "text": [
      "0.1666666716337204 1.0\n"
     ]
    },
    {
     "data": {
      "image/png": "[encoded data removed]",
      "text/plain": [
       "<Figure size 1080x360 with 3 Axes>"
      ]
     },
     "metadata": {},
     "output_type": "display_data"
    }
   ],
   "source": [
    "iou, iobb = test_one_sample(\n",
    "    (40, 70, 50, 90),\n",
    "    (30, 60, 60, 100),\n",
    ")\n",
    "print(iou, iobb)\n",
    "assert abs(iobb - 1) <= 1e-2"
   ]
  },
  {
   "cell_type": "code",
   "execution_count": null,
   "metadata": {},
   "outputs": [],
   "source": []
  },
  {
   "cell_type": "markdown",
   "metadata": {},
   "source": [
    "### Pred outside of BB"
   ]
  },
  {
   "cell_type": "code",
   "execution_count": 66,
   "metadata": {},
   "outputs": [
    {
     "name": "stdout",
     "output_type": "stream",
     "text": [
      "0.0 0.0\n"
     ]
    },
    {
     "data": {
      "image/png": "[encoded data removed]",
      "text/plain": [
       "<Figure size 1080x360 with 3 Axes>"
      ]
     },
     "metadata": {},
     "output_type": "display_data"
    }
   ],
   "source": [
    "iou, iobb = test_one_sample(\n",
    "    (40, 70, 50, 90),\n",
    "    (10, 20, 20, 50),\n",
    ")\n",
    "print(iou, iobb)\n",
    "assert abs(iobb - 0) <= 1e-2\n",
    "assert abs(iou - 0) <= 1e-2"
   ]
  },
  {
   "cell_type": "code",
   "execution_count": null,
   "metadata": {},
   "outputs": [],
   "source": []
  },
  {
   "cell_type": "markdown",
   "metadata": {},
   "source": [
    "## Test multiple samples\n",
    "\n",
    "Averages correctly"
   ]
  },
  {
   "cell_type": "code",
   "execution_count": 69,
   "metadata": {},
   "outputs": [],
   "source": [
    "boxes = [\n",
    "    ((30, 80, 50, 100), (20, 70, 40, 90)), # Regular\n",
    "    ((30, 60, 60, 100), (40, 70, 50, 90)), # GT eats Pred\n",
    "    ((40, 70, 50, 90), (30, 60, 60, 100)), # Pred eats GT\n",
    "    ((40, 70, 50, 90), (10, 20, 20, 50)), # Non-overlapping\n",
    "]"
   ]
  },
  {
   "cell_type": "code",
   "execution_count": 71,
   "metadata": {},
   "outputs": [
    {
     "data": {
      "text/plain": [
       "(0.1190476231276989, 0.3541666679084301)"
      ]
     },
     "execution_count": 71,
     "metadata": {},
     "output_type": "execute_result"
    }
   ],
   "source": [
    "average_iou = average_iobb = 0\n",
    "\n",
    "for box_gt, box_pred in boxes:\n",
    "    iou, iobb = test_one_sample(box_gt, box_pred, plot=False)\n",
    "    \n",
    "    average_iou += iou\n",
    "    average_iobb += iobb\n",
    "    \n",
    "n_tests = len(boxes)\n",
    "average_iou /= n_tests\n",
    "average_iobb /= n_tests\n",
    "average_iou, average_iobb"
   ]
  },
  {
   "cell_type": "code",
   "execution_count": 75,
   "metadata": {},
   "outputs": [],
   "source": [
    "AVERAGE_IOU = average_iou\n",
    "AVERAGE_IOBB = average_iobb"
   ]
  },
  {
   "cell_type": "code",
   "execution_count": null,
   "metadata": {},
   "outputs": [],
   "source": []
  },
  {
   "cell_type": "markdown",
   "metadata": {},
   "source": [
    "### Utils"
   ]
  },
  {
   "cell_type": "code",
   "execution_count": 115,
   "metadata": {},
   "outputs": [],
   "source": [
    "def test_multiple_samples_1(target, height=120, width=120, tolerance=1e-2):\n",
    "    \"\"\"Tests averages correctly across:\n",
    "    \n",
    "    target == 'bs': batch_size\n",
    "    target == 'd': n_diseases\n",
    "    target == 'both': both\n",
    "    \"\"\"\n",
    "    heatmaps = []\n",
    "    gt = []\n",
    "    for box_gt, box_pred in boxes:\n",
    "        heatmaps.append(fill_heatmap(height, width, [box_pred]))\n",
    "        gt.append(fill_heatmap(height, width, [box_gt]))\n",
    "\n",
    "    heatmaps = torch.stack(heatmaps, dim=0)\n",
    "    gt = torch.stack(gt, dim=0)\n",
    "    \n",
    "    if target == 'bs':\n",
    "        heatmaps = heatmaps.unsqueeze(1)\n",
    "        gt = gt.unsqueeze(1)\n",
    "    elif target == 'd':\n",
    "        n_diseases = len(boxes)\n",
    "        heatmaps = heatmaps.unsqueeze(0)\n",
    "        gt = gt.unsqueeze(0)\n",
    "    elif target == 'both':\n",
    "        n_diseases = 2\n",
    "        n_samples = len(boxes) // n_diseases\n",
    "        heatmaps = heatmaps.view(n_samples, n_diseases, height, width)\n",
    "        gt = gt.view(n_samples, n_diseases, height, width)\n",
    "    else:\n",
    "        raise Exception(f'Not recognized: {target}')\n",
    "\n",
    "        \n",
    "    # Compute metrics    \n",
    "    miou = IoU(device='cpu')\n",
    "    miobb = IoBB(device='cpu')\n",
    "\n",
    "    miou.reset()\n",
    "    miobb.reset()\n",
    "\n",
    "    state = (heatmaps, gt, None)\n",
    "    miou.update(state)\n",
    "    miobb.update(state)\n",
    "\n",
    "    value_iou = miou.compute()\n",
    "    value_iobb = miobb.compute()\n",
    "\n",
    "    if target == 'bs':\n",
    "        assert value_iou.size() == (1,)\n",
    "        assert value_iobb.size() == (1,)\n",
    "    elif target in ('d', 'both'):\n",
    "        assert value_iou.size() == (n_diseases,)\n",
    "        assert value_iobb.size() == (n_diseases,)\n",
    "    \n",
    "    value_iou = value_iou.mean().item()\n",
    "    value_iobb = value_iobb.mean().item()\n",
    "\n",
    "    if abs(value_iou - AVERAGE_IOU) >= tolerance:\n",
    "        print(f'IoU wrong, got: {value_iou}, expected: {AVERAGE_IOU}')\n",
    "    if abs(value_iobb - AVERAGE_IOBB) >= tolerance:\n",
    "        print(f'IoBB wrong, got: {value_iobb}, expected: {AVERAGE_IOBB}')\n",
    "    \n",
    "    return value_iou, value_iobb"
   ]
  },
  {
   "cell_type": "markdown",
   "metadata": {},
   "source": [
    "### Averages correctly across batch_size"
   ]
  },
  {
   "cell_type": "code",
   "execution_count": 116,
   "metadata": {},
   "outputs": [
    {
     "data": {
      "text/plain": [
       "(0.1190476268529892, 0.3541666865348816)"
      ]
     },
     "execution_count": 116,
     "metadata": {},
     "output_type": "execute_result"
    }
   ],
   "source": [
    "test_multiple_samples_1('bs', tolerance=1e-2)"
   ]
  },
  {
   "cell_type": "code",
   "execution_count": null,
   "metadata": {},
   "outputs": [],
   "source": []
  },
  {
   "cell_type": "markdown",
   "metadata": {},
   "source": [
    "### Averages correctly across n_diseases"
   ]
  },
  {
   "cell_type": "code",
   "execution_count": 117,
   "metadata": {},
   "outputs": [
    {
     "data": {
      "text/plain": [
       "(0.1190476268529892, 0.3541666865348816)"
      ]
     },
     "execution_count": 117,
     "metadata": {},
     "output_type": "execute_result"
    }
   ],
   "source": [
    "test_multiple_samples_1('d', tolerance=1e-2)"
   ]
  },
  {
   "cell_type": "code",
   "execution_count": null,
   "metadata": {},
   "outputs": [],
   "source": []
  },
  {
   "cell_type": "markdown",
   "metadata": {},
   "source": [
    "### Across both batch_size and n_diseases"
   ]
  },
  {
   "cell_type": "code",
   "execution_count": 118,
   "metadata": {},
   "outputs": [
    {
     "data": {
      "text/plain": [
       "(0.1190476268529892, 0.3541666567325592)"
      ]
     },
     "execution_count": 118,
     "metadata": {},
     "output_type": "execute_result"
    }
   ],
   "source": [
    "test_multiple_samples_1('both', tolerance=1e-2)"
   ]
  },
  {
   "cell_type": "code",
   "execution_count": null,
   "metadata": {},
   "outputs": [],
   "source": []
  },
  {
   "cell_type": "code",
   "execution_count": null,
   "metadata": {},
   "outputs": [],
   "source": []
  }
 ],
 "metadata": {
  "kernelspec": {
   "display_name": "Python 3",
   "language": "python",
   "name": "python3"
  },
  "language_info": {
   "codemirror_mode": {
    "name": "ipython",
    "version": 3
   },
   "file_extension": ".py",
   "mimetype": "text/x-python",
   "name": "python",
   "nbconvert_exporter": "python",
   "pygments_lexer": "ipython3",
   "version": "3.6.9"
  },
  "toc": {
   "base_numbering": 1,
   "nav_menu": {},
   "number_sections": true,
   "sideBar": true,
   "skip_h1_title": false,
   "title_cell": "Table of Contents",
   "title_sidebar": "Contents",
   "toc_cell": false,
   "toc_position": {},
   "toc_section_display": true,
   "toc_window_display": false
  }
 },
 "nbformat": 4,
 "nbformat_minor": 4
}
