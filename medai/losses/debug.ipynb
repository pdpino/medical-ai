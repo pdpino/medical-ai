{
 "cells": [
  {
   "cell_type": "markdown",
   "metadata": {},
   "source": [
    "# Imports"
   ]
  },
  {
   "cell_type": "code",
   "execution_count": 1,
   "metadata": {},
   "outputs": [],
   "source": [
    "import torch\n",
    "from torch import nn\n",
    "from torch.nn.functional import cross_entropy, softmax, binary_cross_entropy_with_logits"
   ]
  },
  {
   "cell_type": "code",
   "execution_count": null,
   "metadata": {},
   "outputs": [],
   "source": []
  },
  {
   "cell_type": "markdown",
   "metadata": {},
   "source": [
    "# Debug WBCE-by-disease"
   ]
  },
  {
   "cell_type": "code",
   "execution_count": 13,
   "metadata": {},
   "outputs": [],
   "source": [
    "%run ./wbce.py"
   ]
  },
  {
   "cell_type": "code",
   "execution_count": 14,
   "metadata": {},
   "outputs": [],
   "source": [
    "loss = WeigthedBCEByDiseaseLoss()"
   ]
  },
  {
   "cell_type": "code",
   "execution_count": 20,
   "metadata": {},
   "outputs": [
    {
     "data": {
      "text/plain": [
       "(tensor([[ 2.1791, -1.3991,  1.4183, -0.5403],\n",
       "         [-0.8847, -0.5324, -0.2359,  0.7764],\n",
       "         [-0.0602,  0.5243, -0.3063,  0.0197],\n",
       "         [ 0.3352, -2.6139, -0.4627, -1.4814],\n",
       "         [-0.6498,  0.6365, -0.1319,  0.2359]]),\n",
       " tensor([[0.8984, 0.1980, 0.8051, 0.3681],\n",
       "         [0.2922, 0.3700, 0.4413, 0.6849],\n",
       "         [0.4850, 0.6282, 0.4240, 0.5049],\n",
       "         [0.5830, 0.0683, 0.3863, 0.1852],\n",
       "         [0.3430, 0.6540, 0.4671, 0.5587]]),\n",
       " tensor([[0, 1, 1, 0],\n",
       "         [0, 0, 1, 0],\n",
       "         [0, 1, 0, 0],\n",
       "         [0, 0, 1, 0],\n",
       "         [1, 0, 0, 1]]))"
      ]
     },
     "execution_count": 20,
     "metadata": {},
     "output_type": "execute_result"
    }
   ],
   "source": [
    "bs = 5\n",
    "out = torch.randn(bs, 4)\n",
    "target = (torch.rand(bs, 4) > 0.75).long()\n",
    "out, torch.sigmoid(out), target"
   ]
  },
  {
   "cell_type": "code",
   "execution_count": 21,
   "metadata": {},
   "outputs": [
    {
     "data": {
      "text/plain": [
       "(tensor([[2.8578, 4.0492, 0.3614, 0.5738],\n",
       "         [0.4320, 0.7700, 1.3634, 1.4436],\n",
       "         [0.8294, 1.1624, 1.3792, 0.8788],\n",
       "         [1.0934, 0.1178, 1.5851, 0.2560],\n",
       "         [5.3496, 1.7687, 1.5734, 2.9107]]),\n",
       " tensor([5.0000, 2.5000, 1.6667, 5.0000]),\n",
       " tensor([1.2500, 1.6667, 2.5000, 1.2500]))"
      ]
     },
     "execution_count": 21,
     "metadata": {},
     "output_type": "execute_result"
    }
   ],
   "source": [
    "loss(out, target)"
   ]
  },
  {
   "cell_type": "code",
   "execution_count": null,
   "metadata": {},
   "outputs": [],
   "source": []
  },
  {
   "cell_type": "markdown",
   "metadata": {},
   "source": [
    "## BCE with weights"
   ]
  },
  {
   "cell_type": "code",
   "execution_count": 30,
   "metadata": {},
   "outputs": [
    {
     "data": {
      "text/plain": [
       "(tensor([[ 1.0918, -0.6534, -0.9670, -0.4186],\n",
       "         [ 0.0961, -0.0819,  2.0618, -1.0035],\n",
       "         [ 0.1126, -1.3838, -0.2212,  1.1069]]),\n",
       " tensor([[0.7487, 0.3422, 0.2755, 0.3969],\n",
       "         [0.5240, 0.4795, 0.8871, 0.2682],\n",
       "         [0.5281, 0.2004, 0.4449, 0.7515]]),\n",
       " tensor([[1, 1, 0, 0],\n",
       "         [1, 0, 1, 1],\n",
       "         [1, 1, 0, 0]]))"
      ]
     },
     "execution_count": 30,
     "metadata": {},
     "output_type": "execute_result"
    }
   ],
   "source": [
    "bs = 3\n",
    "out = torch.randn(bs, 4)\n",
    "target = (torch.rand(bs, 4) > 0.75).long()\n",
    "out, torch.sigmoid(out), target"
   ]
  },
  {
   "cell_type": "code",
   "execution_count": 33,
   "metadata": {},
   "outputs": [
    {
     "data": {
      "text/plain": [
       "tensor([[0.2894, 1.0723, 0.3222, 0.5056],\n",
       "        [0.6462, 0.6530, 0.1198, 1.3158],\n",
       "        [0.6384, 1.6074, 0.5886, 1.3925]])"
      ]
     },
     "execution_count": 33,
     "metadata": {},
     "output_type": "execute_result"
    }
   ],
   "source": [
    "loss = nn.BCEWithLogitsLoss(reduction='none')\n",
    "loss(out, target.float())"
   ]
  },
  {
   "cell_type": "code",
   "execution_count": 38,
   "metadata": {},
   "outputs": [
    {
     "data": {
      "text/plain": [
       "BCEWithLogitsLoss()"
      ]
     },
     "execution_count": 38,
     "metadata": {},
     "output_type": "execute_result"
    }
   ],
   "source": [
    "loss.to('cuda')"
   ]
  },
  {
   "cell_type": "code",
   "execution_count": 37,
   "metadata": {},
   "outputs": [
    {
     "data": {
      "text/plain": [
       "tensor([[0.2894, 2.1446, 0.3222, 0.5056],\n",
       "        [0.6462, 0.6530, 0.3593, 5.2634],\n",
       "        [0.6384, 3.2148, 0.5886, 1.3925]])"
      ]
     },
     "execution_count": 37,
     "metadata": {},
     "output_type": "execute_result"
    }
   ],
   "source": [
    "loss = nn.BCEWithLogitsLoss(pos_weight=torch.tensor([1, 2, 3, 4]), reduction='none')\n",
    "loss(out, target.float())"
   ]
  },
  {
   "cell_type": "code",
   "execution_count": null,
   "metadata": {},
   "outputs": [],
   "source": []
  },
  {
   "cell_type": "markdown",
   "metadata": {
    "heading_collapsed": "true"
   },
   "source": [
    "# Debug Focal loss"
   ]
  },
  {
   "cell_type": "code",
   "execution_count": 2,
   "metadata": {},
   "outputs": [],
   "source": [
    "%run focal.py"
   ]
  },
  {
   "cell_type": "code",
   "execution_count": 3,
   "metadata": {},
   "outputs": [],
   "source": [
    "alpha = 0.75\n",
    "gamma = 2"
   ]
  },
  {
   "cell_type": "markdown",
   "metadata": {
    "heading_collapsed": true
   },
   "source": [
    "## Multilabel case"
   ]
  },
  {
   "cell_type": "code",
   "execution_count": 108,
   "metadata": {
    "hidden": true
   },
   "outputs": [
    {
     "data": {
      "text/plain": [
       "tensor([[1., 1., 0., 0., 0., 1.],\n",
       "        [0., 0., 1., 0., 0., 1.]])"
      ]
     },
     "execution_count": 108,
     "metadata": {},
     "output_type": "execute_result"
    }
   ],
   "source": [
    "outputs = torch.tensor([[1, 1, 0, 0, 0, 1],\n",
    "                        [0, 0, 1, 0, 0, 1],\n",
    "                       ]).float()\n",
    "targets = torch.tensor([[1, 1, 1, 0, 1, 0],\n",
    "                        [0, 1, 0, 0, 1, 0],\n",
    "                       ]).float()\n",
    "outputs"
   ]
  },
  {
   "cell_type": "code",
   "execution_count": 116,
   "metadata": {
    "hidden": true
   },
   "outputs": [
    {
     "name": "stdout",
     "output_type": "stream",
     "text": [
      "tensor([[0.8700, 0.8700, 0.8700, 0.1300, 0.8700, 0.1300],\n",
      "        [0.1300, 0.8700, 0.1300, 0.1300, 0.8700, 0.1300]])\n",
      "tensor([[0.0723, 0.0723, 0.2500, 0.2500, 0.2500, 0.5344],\n",
      "        [0.2500, 0.2500, 0.5344, 0.2500, 0.2500, 0.5344]])\n",
      "tensor([[0.3133, 0.3133, 0.6931, 0.6931, 0.6931, 1.3133],\n",
      "        [0.6931, 0.6931, 1.3133, 0.6931, 0.6931, 1.3133]])\n"
     ]
    },
    {
     "data": {
      "text/plain": [
       "tensor([[0.0197, 0.0197, 0.1508, 0.0225, 0.1508, 0.0912],\n",
       "        [0.0225, 0.1508, 0.0912, 0.0225, 0.1508, 0.0912]])"
      ]
     },
     "execution_count": 116,
     "metadata": {},
     "output_type": "execute_result"
    }
   ],
   "source": [
    "focal = FocalLoss(alpha=0.87, reduction='none')\n",
    "focal(outputs, targets)"
   ]
  },
  {
   "cell_type": "code",
   "execution_count": null,
   "metadata": {
    "hidden": true
   },
   "outputs": [],
   "source": []
  },
  {
   "cell_type": "code",
   "execution_count": null,
   "metadata": {
    "hidden": true
   },
   "outputs": [],
   "source": []
  },
  {
   "cell_type": "markdown",
   "metadata": {},
   "source": [
    "## Multiclass case"
   ]
  },
  {
   "cell_type": "code",
   "execution_count": 38,
   "metadata": {},
   "outputs": [],
   "source": [
    "outputs = torch.tensor([[0, 1, 0],\n",
    "                        [-3, 1, 2],\n",
    "                        [1, 11.1, 0.5],\n",
    "                       ]).float()\n",
    "targets = torch.tensor([1, 2, 0]).long()"
   ]
  },
  {
   "cell_type": "code",
   "execution_count": 39,
   "metadata": {},
   "outputs": [
    {
     "data": {
      "text/plain": [
       "tensor([0.0892, 0.0213, 9.0893])"
      ]
     },
     "execution_count": 39,
     "metadata": {},
     "output_type": "execute_result"
    }
   ],
   "source": [
    "focal = FocalLoss(alpha=0.9, gamma=2, multilabel=False, reduction='none')\n",
    "focal(outputs, targets)"
   ]
  },
  {
   "cell_type": "code",
   "execution_count": null,
   "metadata": {},
   "outputs": [],
   "source": []
  }
 ],
 "metadata": {
  "kernelspec": {
   "display_name": "Python 3",
   "language": "python",
   "name": "python3"
  },
  "language_info": {
   "codemirror_mode": {
    "name": "ipython",
    "version": 3
   },
   "file_extension": ".py",
   "mimetype": "text/x-python",
   "name": "python",
   "nbconvert_exporter": "python",
   "pygments_lexer": "ipython3",
   "version": "3.6.9"
  },
  "toc": {
   "base_numbering": 1,
   "nav_menu": {},
   "number_sections": true,
   "sideBar": true,
   "skip_h1_title": false,
   "title_cell": "Table of Contents",
   "title_sidebar": "Contents",
   "toc_cell": false,
   "toc_position": {},
   "toc_section_display": true,
   "toc_window_display": false
  }
 },
 "nbformat": 4,
 "nbformat_minor": 4
}
